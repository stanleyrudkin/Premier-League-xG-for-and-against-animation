{
 "cells": [
  {
   "cell_type": "markdown",
   "id": "4a501945",
   "metadata": {},
   "source": [
    "# Premier League xG for and against animation\n",
    "The aim of this project is to animate Premier League teams' xG for and against over a 5-game rolling average.\n",
    "\n",
    "This [repository](https://github.com/stanleyrudkin/Premier-League-xG-for-and-against-animation.git) has been uploaded to GitHub.\n",
    "\n",
    "The data can be downloaded from [football-data.co.uk](https://www.football-data.co.uk/englandm.php)."
   ]
  },
  {
   "cell_type": "markdown",
   "id": "23f91997",
   "metadata": {},
   "source": [
    "## Set up\n",
    "Import packages."
   ]
  },
  {
   "cell_type": "code",
   "execution_count": 12,
   "id": "ea771c0c",
   "metadata": {},
   "outputs": [],
   "source": [
    "import pandas as pd\n",
    "import plotly.express as px\n",
    "import numpy as np"
   ]
  },
  {
   "cell_type": "markdown",
   "id": "249f39e4",
   "metadata": {},
   "source": [
    "## Load data\n",
    "The data can be downloaded from [football-data.co.uk](https://www.football-data.co.uk/englandm.php)."
   ]
  },
  {
   "cell_type": "code",
   "execution_count": 3,
   "id": "56e1b63b",
   "metadata": {},
   "outputs": [
    {
     "data": {
      "text/html": [
       "<div>\n",
       "<style scoped>\n",
       "    .dataframe tbody tr th:only-of-type {\n",
       "        vertical-align: middle;\n",
       "    }\n",
       "\n",
       "    .dataframe tbody tr th {\n",
       "        vertical-align: top;\n",
       "    }\n",
       "\n",
       "    .dataframe thead th {\n",
       "        text-align: right;\n",
       "    }\n",
       "</style>\n",
       "<table border=\"1\" class=\"dataframe\">\n",
       "  <thead>\n",
       "    <tr style=\"text-align: right;\">\n",
       "      <th></th>\n",
       "      <th>Div</th>\n",
       "      <th>Date</th>\n",
       "      <th>Time</th>\n",
       "      <th>HomeTeam</th>\n",
       "      <th>AwayTeam</th>\n",
       "      <th>FTHG</th>\n",
       "      <th>FTAG</th>\n",
       "      <th>FTR</th>\n",
       "      <th>HTHG</th>\n",
       "      <th>HTAG</th>\n",
       "      <th>...</th>\n",
       "      <th>AvgC&lt;2.5</th>\n",
       "      <th>AHCh</th>\n",
       "      <th>B365CAHH</th>\n",
       "      <th>B365CAHA</th>\n",
       "      <th>PCAHH</th>\n",
       "      <th>PCAHA</th>\n",
       "      <th>MaxCAHH</th>\n",
       "      <th>MaxCAHA</th>\n",
       "      <th>AvgCAHH</th>\n",
       "      <th>AvgCAHA</th>\n",
       "    </tr>\n",
       "  </thead>\n",
       "  <tbody>\n",
       "    <tr>\n",
       "      <th>0</th>\n",
       "      <td>E0</td>\n",
       "      <td>13/08/2021</td>\n",
       "      <td>20:00</td>\n",
       "      <td>Brentford</td>\n",
       "      <td>Arsenal</td>\n",
       "      <td>2</td>\n",
       "      <td>0</td>\n",
       "      <td>H</td>\n",
       "      <td>1</td>\n",
       "      <td>0</td>\n",
       "      <td>...</td>\n",
       "      <td>1.62</td>\n",
       "      <td>0.50</td>\n",
       "      <td>1.75</td>\n",
       "      <td>2.05</td>\n",
       "      <td>1.81</td>\n",
       "      <td>2.13</td>\n",
       "      <td>2.05</td>\n",
       "      <td>2.17</td>\n",
       "      <td>1.80</td>\n",
       "      <td>2.09</td>\n",
       "    </tr>\n",
       "    <tr>\n",
       "      <th>1</th>\n",
       "      <td>E0</td>\n",
       "      <td>14/08/2021</td>\n",
       "      <td>12:30</td>\n",
       "      <td>Man United</td>\n",
       "      <td>Leeds</td>\n",
       "      <td>5</td>\n",
       "      <td>1</td>\n",
       "      <td>H</td>\n",
       "      <td>1</td>\n",
       "      <td>0</td>\n",
       "      <td>...</td>\n",
       "      <td>2.25</td>\n",
       "      <td>-1.00</td>\n",
       "      <td>2.05</td>\n",
       "      <td>1.75</td>\n",
       "      <td>2.17</td>\n",
       "      <td>1.77</td>\n",
       "      <td>2.19</td>\n",
       "      <td>1.93</td>\n",
       "      <td>2.10</td>\n",
       "      <td>1.79</td>\n",
       "    </tr>\n",
       "    <tr>\n",
       "      <th>2</th>\n",
       "      <td>E0</td>\n",
       "      <td>14/08/2021</td>\n",
       "      <td>15:00</td>\n",
       "      <td>Burnley</td>\n",
       "      <td>Brighton</td>\n",
       "      <td>1</td>\n",
       "      <td>2</td>\n",
       "      <td>A</td>\n",
       "      <td>1</td>\n",
       "      <td>0</td>\n",
       "      <td>...</td>\n",
       "      <td>1.62</td>\n",
       "      <td>0.25</td>\n",
       "      <td>1.79</td>\n",
       "      <td>2.15</td>\n",
       "      <td>1.81</td>\n",
       "      <td>2.14</td>\n",
       "      <td>1.82</td>\n",
       "      <td>2.19</td>\n",
       "      <td>1.79</td>\n",
       "      <td>2.12</td>\n",
       "    </tr>\n",
       "    <tr>\n",
       "      <th>3</th>\n",
       "      <td>E0</td>\n",
       "      <td>14/08/2021</td>\n",
       "      <td>15:00</td>\n",
       "      <td>Chelsea</td>\n",
       "      <td>Crystal Palace</td>\n",
       "      <td>3</td>\n",
       "      <td>0</td>\n",
       "      <td>H</td>\n",
       "      <td>2</td>\n",
       "      <td>0</td>\n",
       "      <td>...</td>\n",
       "      <td>1.94</td>\n",
       "      <td>-1.50</td>\n",
       "      <td>2.05</td>\n",
       "      <td>1.75</td>\n",
       "      <td>2.12</td>\n",
       "      <td>1.81</td>\n",
       "      <td>2.16</td>\n",
       "      <td>1.93</td>\n",
       "      <td>2.06</td>\n",
       "      <td>1.82</td>\n",
       "    </tr>\n",
       "    <tr>\n",
       "      <th>4</th>\n",
       "      <td>E0</td>\n",
       "      <td>14/08/2021</td>\n",
       "      <td>15:00</td>\n",
       "      <td>Everton</td>\n",
       "      <td>Southampton</td>\n",
       "      <td>3</td>\n",
       "      <td>1</td>\n",
       "      <td>H</td>\n",
       "      <td>0</td>\n",
       "      <td>1</td>\n",
       "      <td>...</td>\n",
       "      <td>1.67</td>\n",
       "      <td>-0.50</td>\n",
       "      <td>2.05</td>\n",
       "      <td>1.88</td>\n",
       "      <td>2.05</td>\n",
       "      <td>1.88</td>\n",
       "      <td>2.08</td>\n",
       "      <td>1.90</td>\n",
       "      <td>2.03</td>\n",
       "      <td>1.86</td>\n",
       "    </tr>\n",
       "    <tr>\n",
       "      <th>...</th>\n",
       "      <td>...</td>\n",
       "      <td>...</td>\n",
       "      <td>...</td>\n",
       "      <td>...</td>\n",
       "      <td>...</td>\n",
       "      <td>...</td>\n",
       "      <td>...</td>\n",
       "      <td>...</td>\n",
       "      <td>...</td>\n",
       "      <td>...</td>\n",
       "      <td>...</td>\n",
       "      <td>...</td>\n",
       "      <td>...</td>\n",
       "      <td>...</td>\n",
       "      <td>...</td>\n",
       "      <td>...</td>\n",
       "      <td>...</td>\n",
       "      <td>...</td>\n",
       "      <td>...</td>\n",
       "      <td>...</td>\n",
       "      <td>...</td>\n",
       "    </tr>\n",
       "    <tr>\n",
       "      <th>375</th>\n",
       "      <td>E0</td>\n",
       "      <td>22/05/2022</td>\n",
       "      <td>16:00</td>\n",
       "      <td>Crystal Palace</td>\n",
       "      <td>Man United</td>\n",
       "      <td>1</td>\n",
       "      <td>0</td>\n",
       "      <td>H</td>\n",
       "      <td>1</td>\n",
       "      <td>0</td>\n",
       "      <td>...</td>\n",
       "      <td>2.04</td>\n",
       "      <td>0.25</td>\n",
       "      <td>1.68</td>\n",
       "      <td>2.15</td>\n",
       "      <td>1.74</td>\n",
       "      <td>2.23</td>\n",
       "      <td>1.88</td>\n",
       "      <td>2.25</td>\n",
       "      <td>1.74</td>\n",
       "      <td>2.16</td>\n",
       "    </tr>\n",
       "    <tr>\n",
       "      <th>376</th>\n",
       "      <td>E0</td>\n",
       "      <td>22/05/2022</td>\n",
       "      <td>16:00</td>\n",
       "      <td>Leicester</td>\n",
       "      <td>Southampton</td>\n",
       "      <td>4</td>\n",
       "      <td>1</td>\n",
       "      <td>H</td>\n",
       "      <td>0</td>\n",
       "      <td>0</td>\n",
       "      <td>...</td>\n",
       "      <td>2.63</td>\n",
       "      <td>-0.75</td>\n",
       "      <td>1.83</td>\n",
       "      <td>2.07</td>\n",
       "      <td>1.88</td>\n",
       "      <td>2.03</td>\n",
       "      <td>1.94</td>\n",
       "      <td>2.26</td>\n",
       "      <td>1.87</td>\n",
       "      <td>2.01</td>\n",
       "    </tr>\n",
       "    <tr>\n",
       "      <th>377</th>\n",
       "      <td>E0</td>\n",
       "      <td>22/05/2022</td>\n",
       "      <td>16:00</td>\n",
       "      <td>Liverpool</td>\n",
       "      <td>Wolves</td>\n",
       "      <td>3</td>\n",
       "      <td>1</td>\n",
       "      <td>H</td>\n",
       "      <td>1</td>\n",
       "      <td>1</td>\n",
       "      <td>...</td>\n",
       "      <td>3.28</td>\n",
       "      <td>-2.50</td>\n",
       "      <td>2.02</td>\n",
       "      <td>1.77</td>\n",
       "      <td>2.06</td>\n",
       "      <td>1.83</td>\n",
       "      <td>2.19</td>\n",
       "      <td>1.99</td>\n",
       "      <td>2.07</td>\n",
       "      <td>1.80</td>\n",
       "    </tr>\n",
       "    <tr>\n",
       "      <th>378</th>\n",
       "      <td>E0</td>\n",
       "      <td>22/05/2022</td>\n",
       "      <td>16:00</td>\n",
       "      <td>Man City</td>\n",
       "      <td>Aston Villa</td>\n",
       "      <td>3</td>\n",
       "      <td>2</td>\n",
       "      <td>H</td>\n",
       "      <td>0</td>\n",
       "      <td>1</td>\n",
       "      <td>...</td>\n",
       "      <td>3.36</td>\n",
       "      <td>-2.25</td>\n",
       "      <td>2.06</td>\n",
       "      <td>1.84</td>\n",
       "      <td>2.05</td>\n",
       "      <td>1.86</td>\n",
       "      <td>2.09</td>\n",
       "      <td>2.03</td>\n",
       "      <td>2.01</td>\n",
       "      <td>1.87</td>\n",
       "    </tr>\n",
       "    <tr>\n",
       "      <th>379</th>\n",
       "      <td>E0</td>\n",
       "      <td>22/05/2022</td>\n",
       "      <td>16:00</td>\n",
       "      <td>Norwich</td>\n",
       "      <td>Tottenham</td>\n",
       "      <td>0</td>\n",
       "      <td>5</td>\n",
       "      <td>A</td>\n",
       "      <td>0</td>\n",
       "      <td>2</td>\n",
       "      <td>...</td>\n",
       "      <td>2.40</td>\n",
       "      <td>1.50</td>\n",
       "      <td>1.95</td>\n",
       "      <td>1.95</td>\n",
       "      <td>1.96</td>\n",
       "      <td>1.94</td>\n",
       "      <td>2.16</td>\n",
       "      <td>1.98</td>\n",
       "      <td>1.99</td>\n",
       "      <td>1.89</td>\n",
       "    </tr>\n",
       "  </tbody>\n",
       "</table>\n",
       "<p>380 rows × 106 columns</p>\n",
       "</div>"
      ],
      "text/plain": [
       "    Div        Date   Time        HomeTeam        AwayTeam  FTHG  FTAG FTR  \\\n",
       "0    E0  13/08/2021  20:00       Brentford         Arsenal     2     0   H   \n",
       "1    E0  14/08/2021  12:30      Man United           Leeds     5     1   H   \n",
       "2    E0  14/08/2021  15:00         Burnley        Brighton     1     2   A   \n",
       "3    E0  14/08/2021  15:00         Chelsea  Crystal Palace     3     0   H   \n",
       "4    E0  14/08/2021  15:00         Everton     Southampton     3     1   H   \n",
       "..   ..         ...    ...             ...             ...   ...   ...  ..   \n",
       "375  E0  22/05/2022  16:00  Crystal Palace      Man United     1     0   H   \n",
       "376  E0  22/05/2022  16:00       Leicester     Southampton     4     1   H   \n",
       "377  E0  22/05/2022  16:00       Liverpool          Wolves     3     1   H   \n",
       "378  E0  22/05/2022  16:00        Man City     Aston Villa     3     2   H   \n",
       "379  E0  22/05/2022  16:00         Norwich       Tottenham     0     5   A   \n",
       "\n",
       "     HTHG  HTAG  ... AvgC<2.5  AHCh  B365CAHH  B365CAHA  PCAHH  PCAHA  \\\n",
       "0       1     0  ...     1.62  0.50      1.75      2.05   1.81   2.13   \n",
       "1       1     0  ...     2.25 -1.00      2.05      1.75   2.17   1.77   \n",
       "2       1     0  ...     1.62  0.25      1.79      2.15   1.81   2.14   \n",
       "3       2     0  ...     1.94 -1.50      2.05      1.75   2.12   1.81   \n",
       "4       0     1  ...     1.67 -0.50      2.05      1.88   2.05   1.88   \n",
       "..    ...   ...  ...      ...   ...       ...       ...    ...    ...   \n",
       "375     1     0  ...     2.04  0.25      1.68      2.15   1.74   2.23   \n",
       "376     0     0  ...     2.63 -0.75      1.83      2.07   1.88   2.03   \n",
       "377     1     1  ...     3.28 -2.50      2.02      1.77   2.06   1.83   \n",
       "378     0     1  ...     3.36 -2.25      2.06      1.84   2.05   1.86   \n",
       "379     0     2  ...     2.40  1.50      1.95      1.95   1.96   1.94   \n",
       "\n",
       "     MaxCAHH  MaxCAHA  AvgCAHH  AvgCAHA  \n",
       "0       2.05     2.17     1.80     2.09  \n",
       "1       2.19     1.93     2.10     1.79  \n",
       "2       1.82     2.19     1.79     2.12  \n",
       "3       2.16     1.93     2.06     1.82  \n",
       "4       2.08     1.90     2.03     1.86  \n",
       "..       ...      ...      ...      ...  \n",
       "375     1.88     2.25     1.74     2.16  \n",
       "376     1.94     2.26     1.87     2.01  \n",
       "377     2.19     1.99     2.07     1.80  \n",
       "378     2.09     2.03     2.01     1.87  \n",
       "379     2.16     1.98     1.99     1.89  \n",
       "\n",
       "[380 rows x 106 columns]"
      ]
     },
     "execution_count": 3,
     "metadata": {},
     "output_type": "execute_result"
    }
   ],
   "source": [
    "data = pd.read_csv(\"D:\\Data analysis projects\\Premier-League-xG-for-and-against-animation\\Data\\Premier League 2021-22 data.csv\")\n",
    "data"
   ]
  },
  {
   "cell_type": "markdown",
   "id": "de65079b",
   "metadata": {},
   "source": [
    "## Calculate 5-game rolling average of goals for and against\n",
    "I have not yet been able to find xG data by match, so I will settle for actual goals for and against in the meantime."
   ]
  },
  {
   "cell_type": "code",
   "execution_count": 4,
   "id": "204d94dd",
   "metadata": {},
   "outputs": [
    {
     "data": {
      "text/plain": [
       "['Brentford',\n",
       " 'Man United',\n",
       " 'Burnley',\n",
       " 'Chelsea',\n",
       " 'Everton',\n",
       " 'Leicester',\n",
       " 'Watford',\n",
       " 'Norwich',\n",
       " 'Newcastle',\n",
       " 'Tottenham',\n",
       " 'Liverpool',\n",
       " 'Aston Villa',\n",
       " 'Crystal Palace',\n",
       " 'Leeds',\n",
       " 'Man City',\n",
       " 'Brighton',\n",
       " 'Southampton',\n",
       " 'Wolves',\n",
       " 'Arsenal',\n",
       " 'West Ham']"
      ]
     },
     "execution_count": 4,
     "metadata": {},
     "output_type": "execute_result"
    }
   ],
   "source": [
    "# Take a look at the teams\n",
    "data['HomeTeam'].unique().tolist()"
   ]
  },
  {
   "cell_type": "code",
   "execution_count": 32,
   "id": "fc491726",
   "metadata": {},
   "outputs": [
    {
     "data": {
      "text/html": [
       "<div>\n",
       "<style scoped>\n",
       "    .dataframe tbody tr th:only-of-type {\n",
       "        vertical-align: middle;\n",
       "    }\n",
       "\n",
       "    .dataframe tbody tr th {\n",
       "        vertical-align: top;\n",
       "    }\n",
       "\n",
       "    .dataframe thead th {\n",
       "        text-align: right;\n",
       "    }\n",
       "</style>\n",
       "<table border=\"1\" class=\"dataframe\">\n",
       "  <thead>\n",
       "    <tr style=\"text-align: right;\">\n",
       "      <th></th>\n",
       "      <th></th>\n",
       "      <th>Date</th>\n",
       "      <th>HomeOrAway</th>\n",
       "      <th>Opponent</th>\n",
       "      <th>For</th>\n",
       "      <th>Against</th>\n",
       "      <th>Team</th>\n",
       "      <th>MovingAverageFor</th>\n",
       "      <th>MovingAverageAgainst</th>\n",
       "      <th>MatchesPlayed</th>\n",
       "    </tr>\n",
       "  </thead>\n",
       "  <tbody>\n",
       "    <tr>\n",
       "      <th rowspan=\"5\" valign=\"top\">Brentford</th>\n",
       "      <th>0</th>\n",
       "      <td>13/08/2021</td>\n",
       "      <td>Home</td>\n",
       "      <td>Arsenal</td>\n",
       "      <td>2</td>\n",
       "      <td>0</td>\n",
       "      <td>Brentford</td>\n",
       "      <td>NaN</td>\n",
       "      <td>NaN</td>\n",
       "      <td>1</td>\n",
       "    </tr>\n",
       "    <tr>\n",
       "      <th>32</th>\n",
       "      <td>11/09/2021</td>\n",
       "      <td>Home</td>\n",
       "      <td>Brighton</td>\n",
       "      <td>0</td>\n",
       "      <td>1</td>\n",
       "      <td>Brentford</td>\n",
       "      <td>NaN</td>\n",
       "      <td>NaN</td>\n",
       "      <td>2</td>\n",
       "    </tr>\n",
       "    <tr>\n",
       "      <th>56</th>\n",
       "      <td>25/09/2021</td>\n",
       "      <td>Home</td>\n",
       "      <td>Liverpool</td>\n",
       "      <td>3</td>\n",
       "      <td>3</td>\n",
       "      <td>Brentford</td>\n",
       "      <td>NaN</td>\n",
       "      <td>NaN</td>\n",
       "      <td>3</td>\n",
       "    </tr>\n",
       "    <tr>\n",
       "      <th>76</th>\n",
       "      <td>16/10/2021</td>\n",
       "      <td>Home</td>\n",
       "      <td>Chelsea</td>\n",
       "      <td>0</td>\n",
       "      <td>1</td>\n",
       "      <td>Brentford</td>\n",
       "      <td>NaN</td>\n",
       "      <td>NaN</td>\n",
       "      <td>4</td>\n",
       "    </tr>\n",
       "    <tr>\n",
       "      <th>87</th>\n",
       "      <td>24/10/2021</td>\n",
       "      <td>Home</td>\n",
       "      <td>Leicester</td>\n",
       "      <td>1</td>\n",
       "      <td>2</td>\n",
       "      <td>Brentford</td>\n",
       "      <td>1.2</td>\n",
       "      <td>1.4</td>\n",
       "      <td>5</td>\n",
       "    </tr>\n",
       "    <tr>\n",
       "      <th>...</th>\n",
       "      <th>...</th>\n",
       "      <td>...</td>\n",
       "      <td>...</td>\n",
       "      <td>...</td>\n",
       "      <td>...</td>\n",
       "      <td>...</td>\n",
       "      <td>...</td>\n",
       "      <td>...</td>\n",
       "      <td>...</td>\n",
       "      <td>...</td>\n",
       "    </tr>\n",
       "    <tr>\n",
       "      <th rowspan=\"5\" valign=\"top\">West Ham</th>\n",
       "      <th>287</th>\n",
       "      <td>20/03/2022</td>\n",
       "      <td>Away</td>\n",
       "      <td>Tottenham</td>\n",
       "      <td>1</td>\n",
       "      <td>3</td>\n",
       "      <td>West Ham</td>\n",
       "      <td>1.2</td>\n",
       "      <td>1.8</td>\n",
       "      <td>34</td>\n",
       "    </tr>\n",
       "    <tr>\n",
       "      <th>305</th>\n",
       "      <td>10/04/2022</td>\n",
       "      <td>Away</td>\n",
       "      <td>Brentford</td>\n",
       "      <td>0</td>\n",
       "      <td>2</td>\n",
       "      <td>West Ham</td>\n",
       "      <td>0.6</td>\n",
       "      <td>1.8</td>\n",
       "      <td>35</td>\n",
       "    </tr>\n",
       "    <tr>\n",
       "      <th>328</th>\n",
       "      <td>24/04/2022</td>\n",
       "      <td>Away</td>\n",
       "      <td>Chelsea</td>\n",
       "      <td>0</td>\n",
       "      <td>1</td>\n",
       "      <td>West Ham</td>\n",
       "      <td>0.6</td>\n",
       "      <td>1.8</td>\n",
       "      <td>36</td>\n",
       "    </tr>\n",
       "    <tr>\n",
       "      <th>350</th>\n",
       "      <td>08/05/2022</td>\n",
       "      <td>Away</td>\n",
       "      <td>Norwich</td>\n",
       "      <td>4</td>\n",
       "      <td>0</td>\n",
       "      <td>West Ham</td>\n",
       "      <td>1.0</td>\n",
       "      <td>1.4</td>\n",
       "      <td>37</td>\n",
       "    </tr>\n",
       "    <tr>\n",
       "      <th>372</th>\n",
       "      <td>22/05/2022</td>\n",
       "      <td>Away</td>\n",
       "      <td>Brighton</td>\n",
       "      <td>1</td>\n",
       "      <td>3</td>\n",
       "      <td>West Ham</td>\n",
       "      <td>1.2</td>\n",
       "      <td>1.8</td>\n",
       "      <td>38</td>\n",
       "    </tr>\n",
       "  </tbody>\n",
       "</table>\n",
       "<p>760 rows × 9 columns</p>\n",
       "</div>"
      ],
      "text/plain": [
       "                     Date HomeOrAway   Opponent  For  Against       Team  \\\n",
       "Brentford 0    13/08/2021       Home    Arsenal    2        0  Brentford   \n",
       "          32   11/09/2021       Home   Brighton    0        1  Brentford   \n",
       "          56   25/09/2021       Home  Liverpool    3        3  Brentford   \n",
       "          76   16/10/2021       Home    Chelsea    0        1  Brentford   \n",
       "          87   24/10/2021       Home  Leicester    1        2  Brentford   \n",
       "...                   ...        ...        ...  ...      ...        ...   \n",
       "West Ham  287  20/03/2022       Away  Tottenham    1        3   West Ham   \n",
       "          305  10/04/2022       Away  Brentford    0        2   West Ham   \n",
       "          328  24/04/2022       Away    Chelsea    0        1   West Ham   \n",
       "          350  08/05/2022       Away    Norwich    4        0   West Ham   \n",
       "          372  22/05/2022       Away   Brighton    1        3   West Ham   \n",
       "\n",
       "               MovingAverageFor  MovingAverageAgainst  MatchesPlayed  \n",
       "Brentford 0                 NaN                   NaN              1  \n",
       "          32                NaN                   NaN              2  \n",
       "          56                NaN                   NaN              3  \n",
       "          76                NaN                   NaN              4  \n",
       "          87                1.2                   1.4              5  \n",
       "...                         ...                   ...            ...  \n",
       "West Ham  287               1.2                   1.8             34  \n",
       "          305               0.6                   1.8             35  \n",
       "          328               0.6                   1.8             36  \n",
       "          350               1.0                   1.4             37  \n",
       "          372               1.2                   1.8             38  \n",
       "\n",
       "[760 rows x 9 columns]"
      ]
     },
     "execution_count": 32,
     "metadata": {},
     "output_type": "execute_result"
    }
   ],
   "source": [
    "# Create empty dictionary to add dataframe for each team\n",
    "TeamDict = {}\n",
    "\n",
    "# Loop through each team and get goals for and against for each game\n",
    "for Team in data['HomeTeam'].unique().tolist():\n",
    "    \n",
    "    # Filter data to matches where the chosen team is either the home or away side\n",
    "    HomeData = data.loc[data['HomeTeam'] == Team]\n",
    "    AwayData = data.loc[data['AwayTeam'] == Team]   \n",
    "    \n",
    "    # Rename columns to count goals for and against the chosen team and one to mark which they actually are!\n",
    "    HomeData = HomeData.rename(columns={'FTHG':'For', 'FTAG':'Against', 'AwayTeam':'Opponent'})\n",
    "    HomeData['HomeOrAway'] = 'Home'\n",
    "        \n",
    "    AwayData = AwayData.rename(columns={'FTAG':'For', 'FTHG':'Against', 'HomeTeam':'Opponent'})\n",
    "    AwayData['HomeOrAway'] = 'Away'\n",
    "    \n",
    "    # Keep only certain columns\n",
    "    TeamData = pd.concat([HomeData, AwayData], axis=0)[['Date', 'HomeOrAway', 'Opponent', 'For', 'Against']]\n",
    "    \n",
    "    # Mark the team\n",
    "    TeamData['Team'] = Team\n",
    "    \n",
    "    # Calculate rolling averages over 5 games\n",
    "    TeamData['MovingAverageFor'] = TeamData['For'].rolling(5).mean()\n",
    "    TeamData['MovingAverageAgainst'] = TeamData['Against'].rolling(5).mean()\n",
    "    \n",
    "    # Add identifier for matches played\n",
    "    TeamData['MatchesPlayed'] = TeamData.reset_index().index + 1\n",
    "    \n",
    "    # Put the chosen team's new dataframe in the aggregated dictionary\n",
    "    TeamDict[Team] = TeamData\n",
    "    \n",
    "\n",
    "# Stack the dataframes in the dictionary on top of each other and take a look\n",
    "AllData = pd.concat(TeamDict, axis=0)\n",
    "AllData"
   ]
  },
  {
   "cell_type": "code",
   "execution_count": 33,
   "id": "3d8b7330",
   "metadata": {},
   "outputs": [
    {
     "data": {
      "application/vnd.plotly.v1+json": {
       "config": {
        "plotlyServerURL": "https://plot.ly"
       },
       "data": [
        {
         "hovertemplate": "Team=Brentford<br>MatchesPlayed=1<br>MovingAverageFor=%{x}<br>MovingAverageAgainst=%{y}<extra></extra>",
         "legendgroup": "Brentford",
         "marker": {
          "color": "#636efa",
          "symbol": "circle"
         },
         "mode": "markers",
         "name": "Brentford",
         "orientation": "v",
         "showlegend": true,
         "type": "scatter",
         "x": [
          null
         ],
         "xaxis": "x",
         "y": [
          null
         ],
         "yaxis": "y"
        },
        {
         "hovertemplate": "Team=Man United<br>MatchesPlayed=1<br>MovingAverageFor=%{x}<br>MovingAverageAgainst=%{y}<extra></extra>",
         "legendgroup": "Man United",
         "marker": {
          "color": "#EF553B",
          "symbol": "circle"
         },
         "mode": "markers",
         "name": "Man United",
         "orientation": "v",
         "showlegend": true,
         "type": "scatter",
         "x": [
          null
         ],
         "xaxis": "x",
         "y": [
          null
         ],
         "yaxis": "y"
        },
        {
         "hovertemplate": "Team=Burnley<br>MatchesPlayed=1<br>MovingAverageFor=%{x}<br>MovingAverageAgainst=%{y}<extra></extra>",
         "legendgroup": "Burnley",
         "marker": {
          "color": "#00cc96",
          "symbol": "circle"
         },
         "mode": "markers",
         "name": "Burnley",
         "orientation": "v",
         "showlegend": true,
         "type": "scatter",
         "x": [
          null
         ],
         "xaxis": "x",
         "y": [
          null
         ],
         "yaxis": "y"
        },
        {
         "hovertemplate": "Team=Chelsea<br>MatchesPlayed=1<br>MovingAverageFor=%{x}<br>MovingAverageAgainst=%{y}<extra></extra>",
         "legendgroup": "Chelsea",
         "marker": {
          "color": "#ab63fa",
          "symbol": "circle"
         },
         "mode": "markers",
         "name": "Chelsea",
         "orientation": "v",
         "showlegend": true,
         "type": "scatter",
         "x": [
          null
         ],
         "xaxis": "x",
         "y": [
          null
         ],
         "yaxis": "y"
        },
        {
         "hovertemplate": "Team=Everton<br>MatchesPlayed=1<br>MovingAverageFor=%{x}<br>MovingAverageAgainst=%{y}<extra></extra>",
         "legendgroup": "Everton",
         "marker": {
          "color": "#FFA15A",
          "symbol": "circle"
         },
         "mode": "markers",
         "name": "Everton",
         "orientation": "v",
         "showlegend": true,
         "type": "scatter",
         "x": [
          null
         ],
         "xaxis": "x",
         "y": [
          null
         ],
         "yaxis": "y"
        },
        {
         "hovertemplate": "Team=Leicester<br>MatchesPlayed=1<br>MovingAverageFor=%{x}<br>MovingAverageAgainst=%{y}<extra></extra>",
         "legendgroup": "Leicester",
         "marker": {
          "color": "#19d3f3",
          "symbol": "circle"
         },
         "mode": "markers",
         "name": "Leicester",
         "orientation": "v",
         "showlegend": true,
         "type": "scatter",
         "x": [
          null
         ],
         "xaxis": "x",
         "y": [
          null
         ],
         "yaxis": "y"
        },
        {
         "hovertemplate": "Team=Watford<br>MatchesPlayed=1<br>MovingAverageFor=%{x}<br>MovingAverageAgainst=%{y}<extra></extra>",
         "legendgroup": "Watford",
         "marker": {
          "color": "#FF6692",
          "symbol": "circle"
         },
         "mode": "markers",
         "name": "Watford",
         "orientation": "v",
         "showlegend": true,
         "type": "scatter",
         "x": [
          null
         ],
         "xaxis": "x",
         "y": [
          null
         ],
         "yaxis": "y"
        },
        {
         "hovertemplate": "Team=Norwich<br>MatchesPlayed=1<br>MovingAverageFor=%{x}<br>MovingAverageAgainst=%{y}<extra></extra>",
         "legendgroup": "Norwich",
         "marker": {
          "color": "#B6E880",
          "symbol": "circle"
         },
         "mode": "markers",
         "name": "Norwich",
         "orientation": "v",
         "showlegend": true,
         "type": "scatter",
         "x": [
          null
         ],
         "xaxis": "x",
         "y": [
          null
         ],
         "yaxis": "y"
        },
        {
         "hovertemplate": "Team=Newcastle<br>MatchesPlayed=1<br>MovingAverageFor=%{x}<br>MovingAverageAgainst=%{y}<extra></extra>",
         "legendgroup": "Newcastle",
         "marker": {
          "color": "#FF97FF",
          "symbol": "circle"
         },
         "mode": "markers",
         "name": "Newcastle",
         "orientation": "v",
         "showlegend": true,
         "type": "scatter",
         "x": [
          null
         ],
         "xaxis": "x",
         "y": [
          null
         ],
         "yaxis": "y"
        },
        {
         "hovertemplate": "Team=Tottenham<br>MatchesPlayed=1<br>MovingAverageFor=%{x}<br>MovingAverageAgainst=%{y}<extra></extra>",
         "legendgroup": "Tottenham",
         "marker": {
          "color": "#FECB52",
          "symbol": "circle"
         },
         "mode": "markers",
         "name": "Tottenham",
         "orientation": "v",
         "showlegend": true,
         "type": "scatter",
         "x": [
          null
         ],
         "xaxis": "x",
         "y": [
          null
         ],
         "yaxis": "y"
        },
        {
         "hovertemplate": "Team=Liverpool<br>MatchesPlayed=1<br>MovingAverageFor=%{x}<br>MovingAverageAgainst=%{y}<extra></extra>",
         "legendgroup": "Liverpool",
         "marker": {
          "color": "#636efa",
          "symbol": "circle"
         },
         "mode": "markers",
         "name": "Liverpool",
         "orientation": "v",
         "showlegend": true,
         "type": "scatter",
         "x": [
          null
         ],
         "xaxis": "x",
         "y": [
          null
         ],
         "yaxis": "y"
        },
        {
         "hovertemplate": "Team=Aston Villa<br>MatchesPlayed=1<br>MovingAverageFor=%{x}<br>MovingAverageAgainst=%{y}<extra></extra>",
         "legendgroup": "Aston Villa",
         "marker": {
          "color": "#EF553B",
          "symbol": "circle"
         },
         "mode": "markers",
         "name": "Aston Villa",
         "orientation": "v",
         "showlegend": true,
         "type": "scatter",
         "x": [
          null
         ],
         "xaxis": "x",
         "y": [
          null
         ],
         "yaxis": "y"
        },
        {
         "hovertemplate": "Team=Crystal Palace<br>MatchesPlayed=1<br>MovingAverageFor=%{x}<br>MovingAverageAgainst=%{y}<extra></extra>",
         "legendgroup": "Crystal Palace",
         "marker": {
          "color": "#00cc96",
          "symbol": "circle"
         },
         "mode": "markers",
         "name": "Crystal Palace",
         "orientation": "v",
         "showlegend": true,
         "type": "scatter",
         "x": [
          null
         ],
         "xaxis": "x",
         "y": [
          null
         ],
         "yaxis": "y"
        },
        {
         "hovertemplate": "Team=Leeds<br>MatchesPlayed=1<br>MovingAverageFor=%{x}<br>MovingAverageAgainst=%{y}<extra></extra>",
         "legendgroup": "Leeds",
         "marker": {
          "color": "#ab63fa",
          "symbol": "circle"
         },
         "mode": "markers",
         "name": "Leeds",
         "orientation": "v",
         "showlegend": true,
         "type": "scatter",
         "x": [
          null
         ],
         "xaxis": "x",
         "y": [
          null
         ],
         "yaxis": "y"
        },
        {
         "hovertemplate": "Team=Man City<br>MatchesPlayed=1<br>MovingAverageFor=%{x}<br>MovingAverageAgainst=%{y}<extra></extra>",
         "legendgroup": "Man City",
         "marker": {
          "color": "#FFA15A",
          "symbol": "circle"
         },
         "mode": "markers",
         "name": "Man City",
         "orientation": "v",
         "showlegend": true,
         "type": "scatter",
         "x": [
          null
         ],
         "xaxis": "x",
         "y": [
          null
         ],
         "yaxis": "y"
        },
        {
         "hovertemplate": "Team=Brighton<br>MatchesPlayed=1<br>MovingAverageFor=%{x}<br>MovingAverageAgainst=%{y}<extra></extra>",
         "legendgroup": "Brighton",
         "marker": {
          "color": "#19d3f3",
          "symbol": "circle"
         },
         "mode": "markers",
         "name": "Brighton",
         "orientation": "v",
         "showlegend": true,
         "type": "scatter",
         "x": [
          null
         ],
         "xaxis": "x",
         "y": [
          null
         ],
         "yaxis": "y"
        },
        {
         "hovertemplate": "Team=Southampton<br>MatchesPlayed=1<br>MovingAverageFor=%{x}<br>MovingAverageAgainst=%{y}<extra></extra>",
         "legendgroup": "Southampton",
         "marker": {
          "color": "#FF6692",
          "symbol": "circle"
         },
         "mode": "markers",
         "name": "Southampton",
         "orientation": "v",
         "showlegend": true,
         "type": "scatter",
         "x": [
          null
         ],
         "xaxis": "x",
         "y": [
          null
         ],
         "yaxis": "y"
        },
        {
         "hovertemplate": "Team=Wolves<br>MatchesPlayed=1<br>MovingAverageFor=%{x}<br>MovingAverageAgainst=%{y}<extra></extra>",
         "legendgroup": "Wolves",
         "marker": {
          "color": "#B6E880",
          "symbol": "circle"
         },
         "mode": "markers",
         "name": "Wolves",
         "orientation": "v",
         "showlegend": true,
         "type": "scatter",
         "x": [
          null
         ],
         "xaxis": "x",
         "y": [
          null
         ],
         "yaxis": "y"
        },
        {
         "hovertemplate": "Team=Arsenal<br>MatchesPlayed=1<br>MovingAverageFor=%{x}<br>MovingAverageAgainst=%{y}<extra></extra>",
         "legendgroup": "Arsenal",
         "marker": {
          "color": "#FF97FF",
          "symbol": "circle"
         },
         "mode": "markers",
         "name": "Arsenal",
         "orientation": "v",
         "showlegend": true,
         "type": "scatter",
         "x": [
          null
         ],
         "xaxis": "x",
         "y": [
          null
         ],
         "yaxis": "y"
        },
        {
         "hovertemplate": "Team=West Ham<br>MatchesPlayed=1<br>MovingAverageFor=%{x}<br>MovingAverageAgainst=%{y}<extra></extra>",
         "legendgroup": "West Ham",
         "marker": {
          "color": "#FECB52",
          "symbol": "circle"
         },
         "mode": "markers",
         "name": "West Ham",
         "orientation": "v",
         "showlegend": true,
         "type": "scatter",
         "x": [
          null
         ],
         "xaxis": "x",
         "y": [
          null
         ],
         "yaxis": "y"
        }
       ],
       "frames": [
        {
         "data": [
          {
           "hovertemplate": "Team=Brentford<br>MatchesPlayed=1<br>MovingAverageFor=%{x}<br>MovingAverageAgainst=%{y}<extra></extra>",
           "legendgroup": "Brentford",
           "marker": {
            "color": "#636efa",
            "symbol": "circle"
           },
           "mode": "markers",
           "name": "Brentford",
           "orientation": "v",
           "showlegend": true,
           "type": "scatter",
           "x": [
            null
           ],
           "xaxis": "x",
           "y": [
            null
           ],
           "yaxis": "y"
          },
          {
           "hovertemplate": "Team=Man United<br>MatchesPlayed=1<br>MovingAverageFor=%{x}<br>MovingAverageAgainst=%{y}<extra></extra>",
           "legendgroup": "Man United",
           "marker": {
            "color": "#EF553B",
            "symbol": "circle"
           },
           "mode": "markers",
           "name": "Man United",
           "orientation": "v",
           "showlegend": true,
           "type": "scatter",
           "x": [
            null
           ],
           "xaxis": "x",
           "y": [
            null
           ],
           "yaxis": "y"
          },
          {
           "hovertemplate": "Team=Burnley<br>MatchesPlayed=1<br>MovingAverageFor=%{x}<br>MovingAverageAgainst=%{y}<extra></extra>",
           "legendgroup": "Burnley",
           "marker": {
            "color": "#00cc96",
            "symbol": "circle"
           },
           "mode": "markers",
           "name": "Burnley",
           "orientation": "v",
           "showlegend": true,
           "type": "scatter",
           "x": [
            null
           ],
           "xaxis": "x",
           "y": [
            null
           ],
           "yaxis": "y"
          },
          {
           "hovertemplate": "Team=Chelsea<br>MatchesPlayed=1<br>MovingAverageFor=%{x}<br>MovingAverageAgainst=%{y}<extra></extra>",
           "legendgroup": "Chelsea",
           "marker": {
            "color": "#ab63fa",
            "symbol": "circle"
           },
           "mode": "markers",
           "name": "Chelsea",
           "orientation": "v",
           "showlegend": true,
           "type": "scatter",
           "x": [
            null
           ],
           "xaxis": "x",
           "y": [
            null
           ],
           "yaxis": "y"
          },
          {
           "hovertemplate": "Team=Everton<br>MatchesPlayed=1<br>MovingAverageFor=%{x}<br>MovingAverageAgainst=%{y}<extra></extra>",
           "legendgroup": "Everton",
           "marker": {
            "color": "#FFA15A",
            "symbol": "circle"
           },
           "mode": "markers",
           "name": "Everton",
           "orientation": "v",
           "showlegend": true,
           "type": "scatter",
           "x": [
            null
           ],
           "xaxis": "x",
           "y": [
            null
           ],
           "yaxis": "y"
          },
          {
           "hovertemplate": "Team=Leicester<br>MatchesPlayed=1<br>MovingAverageFor=%{x}<br>MovingAverageAgainst=%{y}<extra></extra>",
           "legendgroup": "Leicester",
           "marker": {
            "color": "#19d3f3",
            "symbol": "circle"
           },
           "mode": "markers",
           "name": "Leicester",
           "orientation": "v",
           "showlegend": true,
           "type": "scatter",
           "x": [
            null
           ],
           "xaxis": "x",
           "y": [
            null
           ],
           "yaxis": "y"
          },
          {
           "hovertemplate": "Team=Watford<br>MatchesPlayed=1<br>MovingAverageFor=%{x}<br>MovingAverageAgainst=%{y}<extra></extra>",
           "legendgroup": "Watford",
           "marker": {
            "color": "#FF6692",
            "symbol": "circle"
           },
           "mode": "markers",
           "name": "Watford",
           "orientation": "v",
           "showlegend": true,
           "type": "scatter",
           "x": [
            null
           ],
           "xaxis": "x",
           "y": [
            null
           ],
           "yaxis": "y"
          },
          {
           "hovertemplate": "Team=Norwich<br>MatchesPlayed=1<br>MovingAverageFor=%{x}<br>MovingAverageAgainst=%{y}<extra></extra>",
           "legendgroup": "Norwich",
           "marker": {
            "color": "#B6E880",
            "symbol": "circle"
           },
           "mode": "markers",
           "name": "Norwich",
           "orientation": "v",
           "showlegend": true,
           "type": "scatter",
           "x": [
            null
           ],
           "xaxis": "x",
           "y": [
            null
           ],
           "yaxis": "y"
          },
          {
           "hovertemplate": "Team=Newcastle<br>MatchesPlayed=1<br>MovingAverageFor=%{x}<br>MovingAverageAgainst=%{y}<extra></extra>",
           "legendgroup": "Newcastle",
           "marker": {
            "color": "#FF97FF",
            "symbol": "circle"
           },
           "mode": "markers",
           "name": "Newcastle",
           "orientation": "v",
           "showlegend": true,
           "type": "scatter",
           "x": [
            null
           ],
           "xaxis": "x",
           "y": [
            null
           ],
           "yaxis": "y"
          },
          {
           "hovertemplate": "Team=Tottenham<br>MatchesPlayed=1<br>MovingAverageFor=%{x}<br>MovingAverageAgainst=%{y}<extra></extra>",
           "legendgroup": "Tottenham",
           "marker": {
            "color": "#FECB52",
            "symbol": "circle"
           },
           "mode": "markers",
           "name": "Tottenham",
           "orientation": "v",
           "showlegend": true,
           "type": "scatter",
           "x": [
            null
           ],
           "xaxis": "x",
           "y": [
            null
           ],
           "yaxis": "y"
          },
          {
           "hovertemplate": "Team=Liverpool<br>MatchesPlayed=1<br>MovingAverageFor=%{x}<br>MovingAverageAgainst=%{y}<extra></extra>",
           "legendgroup": "Liverpool",
           "marker": {
            "color": "#636efa",
            "symbol": "circle"
           },
           "mode": "markers",
           "name": "Liverpool",
           "orientation": "v",
           "showlegend": true,
           "type": "scatter",
           "x": [
            null
           ],
           "xaxis": "x",
           "y": [
            null
           ],
           "yaxis": "y"
          },
          {
           "hovertemplate": "Team=Aston Villa<br>MatchesPlayed=1<br>MovingAverageFor=%{x}<br>MovingAverageAgainst=%{y}<extra></extra>",
           "legendgroup": "Aston Villa",
           "marker": {
            "color": "#EF553B",
            "symbol": "circle"
           },
           "mode": "markers",
           "name": "Aston Villa",
           "orientation": "v",
           "showlegend": true,
           "type": "scatter",
           "x": [
            null
           ],
           "xaxis": "x",
           "y": [
            null
           ],
           "yaxis": "y"
          },
          {
           "hovertemplate": "Team=Crystal Palace<br>MatchesPlayed=1<br>MovingAverageFor=%{x}<br>MovingAverageAgainst=%{y}<extra></extra>",
           "legendgroup": "Crystal Palace",
           "marker": {
            "color": "#00cc96",
            "symbol": "circle"
           },
           "mode": "markers",
           "name": "Crystal Palace",
           "orientation": "v",
           "showlegend": true,
           "type": "scatter",
           "x": [
            null
           ],
           "xaxis": "x",
           "y": [
            null
           ],
           "yaxis": "y"
          },
          {
           "hovertemplate": "Team=Leeds<br>MatchesPlayed=1<br>MovingAverageFor=%{x}<br>MovingAverageAgainst=%{y}<extra></extra>",
           "legendgroup": "Leeds",
           "marker": {
            "color": "#ab63fa",
            "symbol": "circle"
           },
           "mode": "markers",
           "name": "Leeds",
           "orientation": "v",
           "showlegend": true,
           "type": "scatter",
           "x": [
            null
           ],
           "xaxis": "x",
           "y": [
            null
           ],
           "yaxis": "y"
          },
          {
           "hovertemplate": "Team=Man City<br>MatchesPlayed=1<br>MovingAverageFor=%{x}<br>MovingAverageAgainst=%{y}<extra></extra>",
           "legendgroup": "Man City",
           "marker": {
            "color": "#FFA15A",
            "symbol": "circle"
           },
           "mode": "markers",
           "name": "Man City",
           "orientation": "v",
           "showlegend": true,
           "type": "scatter",
           "x": [
            null
           ],
           "xaxis": "x",
           "y": [
            null
           ],
           "yaxis": "y"
          },
          {
           "hovertemplate": "Team=Brighton<br>MatchesPlayed=1<br>MovingAverageFor=%{x}<br>MovingAverageAgainst=%{y}<extra></extra>",
           "legendgroup": "Brighton",
           "marker": {
            "color": "#19d3f3",
            "symbol": "circle"
           },
           "mode": "markers",
           "name": "Brighton",
           "orientation": "v",
           "showlegend": true,
           "type": "scatter",
           "x": [
            null
           ],
           "xaxis": "x",
           "y": [
            null
           ],
           "yaxis": "y"
          },
          {
           "hovertemplate": "Team=Southampton<br>MatchesPlayed=1<br>MovingAverageFor=%{x}<br>MovingAverageAgainst=%{y}<extra></extra>",
           "legendgroup": "Southampton",
           "marker": {
            "color": "#FF6692",
            "symbol": "circle"
           },
           "mode": "markers",
           "name": "Southampton",
           "orientation": "v",
           "showlegend": true,
           "type": "scatter",
           "x": [
            null
           ],
           "xaxis": "x",
           "y": [
            null
           ],
           "yaxis": "y"
          },
          {
           "hovertemplate": "Team=Wolves<br>MatchesPlayed=1<br>MovingAverageFor=%{x}<br>MovingAverageAgainst=%{y}<extra></extra>",
           "legendgroup": "Wolves",
           "marker": {
            "color": "#B6E880",
            "symbol": "circle"
           },
           "mode": "markers",
           "name": "Wolves",
           "orientation": "v",
           "showlegend": true,
           "type": "scatter",
           "x": [
            null
           ],
           "xaxis": "x",
           "y": [
            null
           ],
           "yaxis": "y"
          },
          {
           "hovertemplate": "Team=Arsenal<br>MatchesPlayed=1<br>MovingAverageFor=%{x}<br>MovingAverageAgainst=%{y}<extra></extra>",
           "legendgroup": "Arsenal",
           "marker": {
            "color": "#FF97FF",
            "symbol": "circle"
           },
           "mode": "markers",
           "name": "Arsenal",
           "orientation": "v",
           "showlegend": true,
           "type": "scatter",
           "x": [
            null
           ],
           "xaxis": "x",
           "y": [
            null
           ],
           "yaxis": "y"
          },
          {
           "hovertemplate": "Team=West Ham<br>MatchesPlayed=1<br>MovingAverageFor=%{x}<br>MovingAverageAgainst=%{y}<extra></extra>",
           "legendgroup": "West Ham",
           "marker": {
            "color": "#FECB52",
            "symbol": "circle"
           },
           "mode": "markers",
           "name": "West Ham",
           "orientation": "v",
           "showlegend": true,
           "type": "scatter",
           "x": [
            null
           ],
           "xaxis": "x",
           "y": [
            null
           ],
           "yaxis": "y"
          }
         ],
         "name": "1"
        },
        {
         "data": [
          {
           "hovertemplate": "Team=Brentford<br>MatchesPlayed=2<br>MovingAverageFor=%{x}<br>MovingAverageAgainst=%{y}<extra></extra>",
           "legendgroup": "Brentford",
           "marker": {
            "color": "#636efa",
            "symbol": "circle"
           },
           "mode": "markers",
           "name": "Brentford",
           "orientation": "v",
           "showlegend": true,
           "type": "scatter",
           "x": [
            null
           ],
           "xaxis": "x",
           "y": [
            null
           ],
           "yaxis": "y"
          },
          {
           "hovertemplate": "Team=Man United<br>MatchesPlayed=2<br>MovingAverageFor=%{x}<br>MovingAverageAgainst=%{y}<extra></extra>",
           "legendgroup": "Man United",
           "marker": {
            "color": "#EF553B",
            "symbol": "circle"
           },
           "mode": "markers",
           "name": "Man United",
           "orientation": "v",
           "showlegend": true,
           "type": "scatter",
           "x": [
            null
           ],
           "xaxis": "x",
           "y": [
            null
           ],
           "yaxis": "y"
          },
          {
           "hovertemplate": "Team=Burnley<br>MatchesPlayed=2<br>MovingAverageFor=%{x}<br>MovingAverageAgainst=%{y}<extra></extra>",
           "legendgroup": "Burnley",
           "marker": {
            "color": "#00cc96",
            "symbol": "circle"
           },
           "mode": "markers",
           "name": "Burnley",
           "orientation": "v",
           "showlegend": true,
           "type": "scatter",
           "x": [
            null
           ],
           "xaxis": "x",
           "y": [
            null
           ],
           "yaxis": "y"
          },
          {
           "hovertemplate": "Team=Chelsea<br>MatchesPlayed=2<br>MovingAverageFor=%{x}<br>MovingAverageAgainst=%{y}<extra></extra>",
           "legendgroup": "Chelsea",
           "marker": {
            "color": "#ab63fa",
            "symbol": "circle"
           },
           "mode": "markers",
           "name": "Chelsea",
           "orientation": "v",
           "showlegend": true,
           "type": "scatter",
           "x": [
            null
           ],
           "xaxis": "x",
           "y": [
            null
           ],
           "yaxis": "y"
          },
          {
           "hovertemplate": "Team=Everton<br>MatchesPlayed=2<br>MovingAverageFor=%{x}<br>MovingAverageAgainst=%{y}<extra></extra>",
           "legendgroup": "Everton",
           "marker": {
            "color": "#FFA15A",
            "symbol": "circle"
           },
           "mode": "markers",
           "name": "Everton",
           "orientation": "v",
           "showlegend": true,
           "type": "scatter",
           "x": [
            null
           ],
           "xaxis": "x",
           "y": [
            null
           ],
           "yaxis": "y"
          },
          {
           "hovertemplate": "Team=Leicester<br>MatchesPlayed=2<br>MovingAverageFor=%{x}<br>MovingAverageAgainst=%{y}<extra></extra>",
           "legendgroup": "Leicester",
           "marker": {
            "color": "#19d3f3",
            "symbol": "circle"
           },
           "mode": "markers",
           "name": "Leicester",
           "orientation": "v",
           "showlegend": true,
           "type": "scatter",
           "x": [
            null
           ],
           "xaxis": "x",
           "y": [
            null
           ],
           "yaxis": "y"
          },
          {
           "hovertemplate": "Team=Watford<br>MatchesPlayed=2<br>MovingAverageFor=%{x}<br>MovingAverageAgainst=%{y}<extra></extra>",
           "legendgroup": "Watford",
           "marker": {
            "color": "#FF6692",
            "symbol": "circle"
           },
           "mode": "markers",
           "name": "Watford",
           "orientation": "v",
           "showlegend": true,
           "type": "scatter",
           "x": [
            null
           ],
           "xaxis": "x",
           "y": [
            null
           ],
           "yaxis": "y"
          },
          {
           "hovertemplate": "Team=Norwich<br>MatchesPlayed=2<br>MovingAverageFor=%{x}<br>MovingAverageAgainst=%{y}<extra></extra>",
           "legendgroup": "Norwich",
           "marker": {
            "color": "#B6E880",
            "symbol": "circle"
           },
           "mode": "markers",
           "name": "Norwich",
           "orientation": "v",
           "showlegend": true,
           "type": "scatter",
           "x": [
            null
           ],
           "xaxis": "x",
           "y": [
            null
           ],
           "yaxis": "y"
          },
          {
           "hovertemplate": "Team=Newcastle<br>MatchesPlayed=2<br>MovingAverageFor=%{x}<br>MovingAverageAgainst=%{y}<extra></extra>",
           "legendgroup": "Newcastle",
           "marker": {
            "color": "#FF97FF",
            "symbol": "circle"
           },
           "mode": "markers",
           "name": "Newcastle",
           "orientation": "v",
           "showlegend": true,
           "type": "scatter",
           "x": [
            null
           ],
           "xaxis": "x",
           "y": [
            null
           ],
           "yaxis": "y"
          },
          {
           "hovertemplate": "Team=Tottenham<br>MatchesPlayed=2<br>MovingAverageFor=%{x}<br>MovingAverageAgainst=%{y}<extra></extra>",
           "legendgroup": "Tottenham",
           "marker": {
            "color": "#FECB52",
            "symbol": "circle"
           },
           "mode": "markers",
           "name": "Tottenham",
           "orientation": "v",
           "showlegend": true,
           "type": "scatter",
           "x": [
            null
           ],
           "xaxis": "x",
           "y": [
            null
           ],
           "yaxis": "y"
          },
          {
           "hovertemplate": "Team=Liverpool<br>MatchesPlayed=2<br>MovingAverageFor=%{x}<br>MovingAverageAgainst=%{y}<extra></extra>",
           "legendgroup": "Liverpool",
           "marker": {
            "color": "#636efa",
            "symbol": "circle"
           },
           "mode": "markers",
           "name": "Liverpool",
           "orientation": "v",
           "showlegend": true,
           "type": "scatter",
           "x": [
            null
           ],
           "xaxis": "x",
           "y": [
            null
           ],
           "yaxis": "y"
          },
          {
           "hovertemplate": "Team=Aston Villa<br>MatchesPlayed=2<br>MovingAverageFor=%{x}<br>MovingAverageAgainst=%{y}<extra></extra>",
           "legendgroup": "Aston Villa",
           "marker": {
            "color": "#EF553B",
            "symbol": "circle"
           },
           "mode": "markers",
           "name": "Aston Villa",
           "orientation": "v",
           "showlegend": true,
           "type": "scatter",
           "x": [
            null
           ],
           "xaxis": "x",
           "y": [
            null
           ],
           "yaxis": "y"
          },
          {
           "hovertemplate": "Team=Crystal Palace<br>MatchesPlayed=2<br>MovingAverageFor=%{x}<br>MovingAverageAgainst=%{y}<extra></extra>",
           "legendgroup": "Crystal Palace",
           "marker": {
            "color": "#00cc96",
            "symbol": "circle"
           },
           "mode": "markers",
           "name": "Crystal Palace",
           "orientation": "v",
           "showlegend": true,
           "type": "scatter",
           "x": [
            null
           ],
           "xaxis": "x",
           "y": [
            null
           ],
           "yaxis": "y"
          },
          {
           "hovertemplate": "Team=Leeds<br>MatchesPlayed=2<br>MovingAverageFor=%{x}<br>MovingAverageAgainst=%{y}<extra></extra>",
           "legendgroup": "Leeds",
           "marker": {
            "color": "#ab63fa",
            "symbol": "circle"
           },
           "mode": "markers",
           "name": "Leeds",
           "orientation": "v",
           "showlegend": true,
           "type": "scatter",
           "x": [
            null
           ],
           "xaxis": "x",
           "y": [
            null
           ],
           "yaxis": "y"
          },
          {
           "hovertemplate": "Team=Man City<br>MatchesPlayed=2<br>MovingAverageFor=%{x}<br>MovingAverageAgainst=%{y}<extra></extra>",
           "legendgroup": "Man City",
           "marker": {
            "color": "#FFA15A",
            "symbol": "circle"
           },
           "mode": "markers",
           "name": "Man City",
           "orientation": "v",
           "showlegend": true,
           "type": "scatter",
           "x": [
            null
           ],
           "xaxis": "x",
           "y": [
            null
           ],
           "yaxis": "y"
          },
          {
           "hovertemplate": "Team=Brighton<br>MatchesPlayed=2<br>MovingAverageFor=%{x}<br>MovingAverageAgainst=%{y}<extra></extra>",
           "legendgroup": "Brighton",
           "marker": {
            "color": "#19d3f3",
            "symbol": "circle"
           },
           "mode": "markers",
           "name": "Brighton",
           "orientation": "v",
           "showlegend": true,
           "type": "scatter",
           "x": [
            null
           ],
           "xaxis": "x",
           "y": [
            null
           ],
           "yaxis": "y"
          },
          {
           "hovertemplate": "Team=Southampton<br>MatchesPlayed=2<br>MovingAverageFor=%{x}<br>MovingAverageAgainst=%{y}<extra></extra>",
           "legendgroup": "Southampton",
           "marker": {
            "color": "#FF6692",
            "symbol": "circle"
           },
           "mode": "markers",
           "name": "Southampton",
           "orientation": "v",
           "showlegend": true,
           "type": "scatter",
           "x": [
            null
           ],
           "xaxis": "x",
           "y": [
            null
           ],
           "yaxis": "y"
          },
          {
           "hovertemplate": "Team=Wolves<br>MatchesPlayed=2<br>MovingAverageFor=%{x}<br>MovingAverageAgainst=%{y}<extra></extra>",
           "legendgroup": "Wolves",
           "marker": {
            "color": "#B6E880",
            "symbol": "circle"
           },
           "mode": "markers",
           "name": "Wolves",
           "orientation": "v",
           "showlegend": true,
           "type": "scatter",
           "x": [
            null
           ],
           "xaxis": "x",
           "y": [
            null
           ],
           "yaxis": "y"
          },
          {
           "hovertemplate": "Team=Arsenal<br>MatchesPlayed=2<br>MovingAverageFor=%{x}<br>MovingAverageAgainst=%{y}<extra></extra>",
           "legendgroup": "Arsenal",
           "marker": {
            "color": "#FF97FF",
            "symbol": "circle"
           },
           "mode": "markers",
           "name": "Arsenal",
           "orientation": "v",
           "showlegend": true,
           "type": "scatter",
           "x": [
            null
           ],
           "xaxis": "x",
           "y": [
            null
           ],
           "yaxis": "y"
          },
          {
           "hovertemplate": "Team=West Ham<br>MatchesPlayed=2<br>MovingAverageFor=%{x}<br>MovingAverageAgainst=%{y}<extra></extra>",
           "legendgroup": "West Ham",
           "marker": {
            "color": "#FECB52",
            "symbol": "circle"
           },
           "mode": "markers",
           "name": "West Ham",
           "orientation": "v",
           "showlegend": true,
           "type": "scatter",
           "x": [
            null
           ],
           "xaxis": "x",
           "y": [
            null
           ],
           "yaxis": "y"
          }
         ],
         "name": "2"
        },
        {
         "data": [
          {
           "hovertemplate": "Team=Brentford<br>MatchesPlayed=3<br>MovingAverageFor=%{x}<br>MovingAverageAgainst=%{y}<extra></extra>",
           "legendgroup": "Brentford",
           "marker": {
            "color": "#636efa",
            "symbol": "circle"
           },
           "mode": "markers",
           "name": "Brentford",
           "orientation": "v",
           "showlegend": true,
           "type": "scatter",
           "x": [
            null
           ],
           "xaxis": "x",
           "y": [
            null
           ],
           "yaxis": "y"
          },
          {
           "hovertemplate": "Team=Man United<br>MatchesPlayed=3<br>MovingAverageFor=%{x}<br>MovingAverageAgainst=%{y}<extra></extra>",
           "legendgroup": "Man United",
           "marker": {
            "color": "#EF553B",
            "symbol": "circle"
           },
           "mode": "markers",
           "name": "Man United",
           "orientation": "v",
           "showlegend": true,
           "type": "scatter",
           "x": [
            null
           ],
           "xaxis": "x",
           "y": [
            null
           ],
           "yaxis": "y"
          },
          {
           "hovertemplate": "Team=Burnley<br>MatchesPlayed=3<br>MovingAverageFor=%{x}<br>MovingAverageAgainst=%{y}<extra></extra>",
           "legendgroup": "Burnley",
           "marker": {
            "color": "#00cc96",
            "symbol": "circle"
           },
           "mode": "markers",
           "name": "Burnley",
           "orientation": "v",
           "showlegend": true,
           "type": "scatter",
           "x": [
            null
           ],
           "xaxis": "x",
           "y": [
            null
           ],
           "yaxis": "y"
          },
          {
           "hovertemplate": "Team=Chelsea<br>MatchesPlayed=3<br>MovingAverageFor=%{x}<br>MovingAverageAgainst=%{y}<extra></extra>",
           "legendgroup": "Chelsea",
           "marker": {
            "color": "#ab63fa",
            "symbol": "circle"
           },
           "mode": "markers",
           "name": "Chelsea",
           "orientation": "v",
           "showlegend": true,
           "type": "scatter",
           "x": [
            null
           ],
           "xaxis": "x",
           "y": [
            null
           ],
           "yaxis": "y"
          },
          {
           "hovertemplate": "Team=Everton<br>MatchesPlayed=3<br>MovingAverageFor=%{x}<br>MovingAverageAgainst=%{y}<extra></extra>",
           "legendgroup": "Everton",
           "marker": {
            "color": "#FFA15A",
            "symbol": "circle"
           },
           "mode": "markers",
           "name": "Everton",
           "orientation": "v",
           "showlegend": true,
           "type": "scatter",
           "x": [
            null
           ],
           "xaxis": "x",
           "y": [
            null
           ],
           "yaxis": "y"
          },
          {
           "hovertemplate": "Team=Leicester<br>MatchesPlayed=3<br>MovingAverageFor=%{x}<br>MovingAverageAgainst=%{y}<extra></extra>",
           "legendgroup": "Leicester",
           "marker": {
            "color": "#19d3f3",
            "symbol": "circle"
           },
           "mode": "markers",
           "name": "Leicester",
           "orientation": "v",
           "showlegend": true,
           "type": "scatter",
           "x": [
            null
           ],
           "xaxis": "x",
           "y": [
            null
           ],
           "yaxis": "y"
          },
          {
           "hovertemplate": "Team=Watford<br>MatchesPlayed=3<br>MovingAverageFor=%{x}<br>MovingAverageAgainst=%{y}<extra></extra>",
           "legendgroup": "Watford",
           "marker": {
            "color": "#FF6692",
            "symbol": "circle"
           },
           "mode": "markers",
           "name": "Watford",
           "orientation": "v",
           "showlegend": true,
           "type": "scatter",
           "x": [
            null
           ],
           "xaxis": "x",
           "y": [
            null
           ],
           "yaxis": "y"
          },
          {
           "hovertemplate": "Team=Norwich<br>MatchesPlayed=3<br>MovingAverageFor=%{x}<br>MovingAverageAgainst=%{y}<extra></extra>",
           "legendgroup": "Norwich",
           "marker": {
            "color": "#B6E880",
            "symbol": "circle"
           },
           "mode": "markers",
           "name": "Norwich",
           "orientation": "v",
           "showlegend": true,
           "type": "scatter",
           "x": [
            null
           ],
           "xaxis": "x",
           "y": [
            null
           ],
           "yaxis": "y"
          },
          {
           "hovertemplate": "Team=Newcastle<br>MatchesPlayed=3<br>MovingAverageFor=%{x}<br>MovingAverageAgainst=%{y}<extra></extra>",
           "legendgroup": "Newcastle",
           "marker": {
            "color": "#FF97FF",
            "symbol": "circle"
           },
           "mode": "markers",
           "name": "Newcastle",
           "orientation": "v",
           "showlegend": true,
           "type": "scatter",
           "x": [
            null
           ],
           "xaxis": "x",
           "y": [
            null
           ],
           "yaxis": "y"
          },
          {
           "hovertemplate": "Team=Tottenham<br>MatchesPlayed=3<br>MovingAverageFor=%{x}<br>MovingAverageAgainst=%{y}<extra></extra>",
           "legendgroup": "Tottenham",
           "marker": {
            "color": "#FECB52",
            "symbol": "circle"
           },
           "mode": "markers",
           "name": "Tottenham",
           "orientation": "v",
           "showlegend": true,
           "type": "scatter",
           "x": [
            null
           ],
           "xaxis": "x",
           "y": [
            null
           ],
           "yaxis": "y"
          },
          {
           "hovertemplate": "Team=Liverpool<br>MatchesPlayed=3<br>MovingAverageFor=%{x}<br>MovingAverageAgainst=%{y}<extra></extra>",
           "legendgroup": "Liverpool",
           "marker": {
            "color": "#636efa",
            "symbol": "circle"
           },
           "mode": "markers",
           "name": "Liverpool",
           "orientation": "v",
           "showlegend": true,
           "type": "scatter",
           "x": [
            null
           ],
           "xaxis": "x",
           "y": [
            null
           ],
           "yaxis": "y"
          },
          {
           "hovertemplate": "Team=Aston Villa<br>MatchesPlayed=3<br>MovingAverageFor=%{x}<br>MovingAverageAgainst=%{y}<extra></extra>",
           "legendgroup": "Aston Villa",
           "marker": {
            "color": "#EF553B",
            "symbol": "circle"
           },
           "mode": "markers",
           "name": "Aston Villa",
           "orientation": "v",
           "showlegend": true,
           "type": "scatter",
           "x": [
            null
           ],
           "xaxis": "x",
           "y": [
            null
           ],
           "yaxis": "y"
          },
          {
           "hovertemplate": "Team=Crystal Palace<br>MatchesPlayed=3<br>MovingAverageFor=%{x}<br>MovingAverageAgainst=%{y}<extra></extra>",
           "legendgroup": "Crystal Palace",
           "marker": {
            "color": "#00cc96",
            "symbol": "circle"
           },
           "mode": "markers",
           "name": "Crystal Palace",
           "orientation": "v",
           "showlegend": true,
           "type": "scatter",
           "x": [
            null
           ],
           "xaxis": "x",
           "y": [
            null
           ],
           "yaxis": "y"
          },
          {
           "hovertemplate": "Team=Leeds<br>MatchesPlayed=3<br>MovingAverageFor=%{x}<br>MovingAverageAgainst=%{y}<extra></extra>",
           "legendgroup": "Leeds",
           "marker": {
            "color": "#ab63fa",
            "symbol": "circle"
           },
           "mode": "markers",
           "name": "Leeds",
           "orientation": "v",
           "showlegend": true,
           "type": "scatter",
           "x": [
            null
           ],
           "xaxis": "x",
           "y": [
            null
           ],
           "yaxis": "y"
          },
          {
           "hovertemplate": "Team=Man City<br>MatchesPlayed=3<br>MovingAverageFor=%{x}<br>MovingAverageAgainst=%{y}<extra></extra>",
           "legendgroup": "Man City",
           "marker": {
            "color": "#FFA15A",
            "symbol": "circle"
           },
           "mode": "markers",
           "name": "Man City",
           "orientation": "v",
           "showlegend": true,
           "type": "scatter",
           "x": [
            null
           ],
           "xaxis": "x",
           "y": [
            null
           ],
           "yaxis": "y"
          },
          {
           "hovertemplate": "Team=Brighton<br>MatchesPlayed=3<br>MovingAverageFor=%{x}<br>MovingAverageAgainst=%{y}<extra></extra>",
           "legendgroup": "Brighton",
           "marker": {
            "color": "#19d3f3",
            "symbol": "circle"
           },
           "mode": "markers",
           "name": "Brighton",
           "orientation": "v",
           "showlegend": true,
           "type": "scatter",
           "x": [
            null
           ],
           "xaxis": "x",
           "y": [
            null
           ],
           "yaxis": "y"
          },
          {
           "hovertemplate": "Team=Southampton<br>MatchesPlayed=3<br>MovingAverageFor=%{x}<br>MovingAverageAgainst=%{y}<extra></extra>",
           "legendgroup": "Southampton",
           "marker": {
            "color": "#FF6692",
            "symbol": "circle"
           },
           "mode": "markers",
           "name": "Southampton",
           "orientation": "v",
           "showlegend": true,
           "type": "scatter",
           "x": [
            null
           ],
           "xaxis": "x",
           "y": [
            null
           ],
           "yaxis": "y"
          },
          {
           "hovertemplate": "Team=Wolves<br>MatchesPlayed=3<br>MovingAverageFor=%{x}<br>MovingAverageAgainst=%{y}<extra></extra>",
           "legendgroup": "Wolves",
           "marker": {
            "color": "#B6E880",
            "symbol": "circle"
           },
           "mode": "markers",
           "name": "Wolves",
           "orientation": "v",
           "showlegend": true,
           "type": "scatter",
           "x": [
            null
           ],
           "xaxis": "x",
           "y": [
            null
           ],
           "yaxis": "y"
          },
          {
           "hovertemplate": "Team=Arsenal<br>MatchesPlayed=3<br>MovingAverageFor=%{x}<br>MovingAverageAgainst=%{y}<extra></extra>",
           "legendgroup": "Arsenal",
           "marker": {
            "color": "#FF97FF",
            "symbol": "circle"
           },
           "mode": "markers",
           "name": "Arsenal",
           "orientation": "v",
           "showlegend": true,
           "type": "scatter",
           "x": [
            null
           ],
           "xaxis": "x",
           "y": [
            null
           ],
           "yaxis": "y"
          },
          {
           "hovertemplate": "Team=West Ham<br>MatchesPlayed=3<br>MovingAverageFor=%{x}<br>MovingAverageAgainst=%{y}<extra></extra>",
           "legendgroup": "West Ham",
           "marker": {
            "color": "#FECB52",
            "symbol": "circle"
           },
           "mode": "markers",
           "name": "West Ham",
           "orientation": "v",
           "showlegend": true,
           "type": "scatter",
           "x": [
            null
           ],
           "xaxis": "x",
           "y": [
            null
           ],
           "yaxis": "y"
          }
         ],
         "name": "3"
        },
        {
         "data": [
          {
           "hovertemplate": "Team=Brentford<br>MatchesPlayed=4<br>MovingAverageFor=%{x}<br>MovingAverageAgainst=%{y}<extra></extra>",
           "legendgroup": "Brentford",
           "marker": {
            "color": "#636efa",
            "symbol": "circle"
           },
           "mode": "markers",
           "name": "Brentford",
           "orientation": "v",
           "showlegend": true,
           "type": "scatter",
           "x": [
            null
           ],
           "xaxis": "x",
           "y": [
            null
           ],
           "yaxis": "y"
          },
          {
           "hovertemplate": "Team=Man United<br>MatchesPlayed=4<br>MovingAverageFor=%{x}<br>MovingAverageAgainst=%{y}<extra></extra>",
           "legendgroup": "Man United",
           "marker": {
            "color": "#EF553B",
            "symbol": "circle"
           },
           "mode": "markers",
           "name": "Man United",
           "orientation": "v",
           "showlegend": true,
           "type": "scatter",
           "x": [
            null
           ],
           "xaxis": "x",
           "y": [
            null
           ],
           "yaxis": "y"
          },
          {
           "hovertemplate": "Team=Burnley<br>MatchesPlayed=4<br>MovingAverageFor=%{x}<br>MovingAverageAgainst=%{y}<extra></extra>",
           "legendgroup": "Burnley",
           "marker": {
            "color": "#00cc96",
            "symbol": "circle"
           },
           "mode": "markers",
           "name": "Burnley",
           "orientation": "v",
           "showlegend": true,
           "type": "scatter",
           "x": [
            null
           ],
           "xaxis": "x",
           "y": [
            null
           ],
           "yaxis": "y"
          },
          {
           "hovertemplate": "Team=Chelsea<br>MatchesPlayed=4<br>MovingAverageFor=%{x}<br>MovingAverageAgainst=%{y}<extra></extra>",
           "legendgroup": "Chelsea",
           "marker": {
            "color": "#ab63fa",
            "symbol": "circle"
           },
           "mode": "markers",
           "name": "Chelsea",
           "orientation": "v",
           "showlegend": true,
           "type": "scatter",
           "x": [
            null
           ],
           "xaxis": "x",
           "y": [
            null
           ],
           "yaxis": "y"
          },
          {
           "hovertemplate": "Team=Everton<br>MatchesPlayed=4<br>MovingAverageFor=%{x}<br>MovingAverageAgainst=%{y}<extra></extra>",
           "legendgroup": "Everton",
           "marker": {
            "color": "#FFA15A",
            "symbol": "circle"
           },
           "mode": "markers",
           "name": "Everton",
           "orientation": "v",
           "showlegend": true,
           "type": "scatter",
           "x": [
            null
           ],
           "xaxis": "x",
           "y": [
            null
           ],
           "yaxis": "y"
          },
          {
           "hovertemplate": "Team=Leicester<br>MatchesPlayed=4<br>MovingAverageFor=%{x}<br>MovingAverageAgainst=%{y}<extra></extra>",
           "legendgroup": "Leicester",
           "marker": {
            "color": "#19d3f3",
            "symbol": "circle"
           },
           "mode": "markers",
           "name": "Leicester",
           "orientation": "v",
           "showlegend": true,
           "type": "scatter",
           "x": [
            null
           ],
           "xaxis": "x",
           "y": [
            null
           ],
           "yaxis": "y"
          },
          {
           "hovertemplate": "Team=Watford<br>MatchesPlayed=4<br>MovingAverageFor=%{x}<br>MovingAverageAgainst=%{y}<extra></extra>",
           "legendgroup": "Watford",
           "marker": {
            "color": "#FF6692",
            "symbol": "circle"
           },
           "mode": "markers",
           "name": "Watford",
           "orientation": "v",
           "showlegend": true,
           "type": "scatter",
           "x": [
            null
           ],
           "xaxis": "x",
           "y": [
            null
           ],
           "yaxis": "y"
          },
          {
           "hovertemplate": "Team=Norwich<br>MatchesPlayed=4<br>MovingAverageFor=%{x}<br>MovingAverageAgainst=%{y}<extra></extra>",
           "legendgroup": "Norwich",
           "marker": {
            "color": "#B6E880",
            "symbol": "circle"
           },
           "mode": "markers",
           "name": "Norwich",
           "orientation": "v",
           "showlegend": true,
           "type": "scatter",
           "x": [
            null
           ],
           "xaxis": "x",
           "y": [
            null
           ],
           "yaxis": "y"
          },
          {
           "hovertemplate": "Team=Newcastle<br>MatchesPlayed=4<br>MovingAverageFor=%{x}<br>MovingAverageAgainst=%{y}<extra></extra>",
           "legendgroup": "Newcastle",
           "marker": {
            "color": "#FF97FF",
            "symbol": "circle"
           },
           "mode": "markers",
           "name": "Newcastle",
           "orientation": "v",
           "showlegend": true,
           "type": "scatter",
           "x": [
            null
           ],
           "xaxis": "x",
           "y": [
            null
           ],
           "yaxis": "y"
          },
          {
           "hovertemplate": "Team=Tottenham<br>MatchesPlayed=4<br>MovingAverageFor=%{x}<br>MovingAverageAgainst=%{y}<extra></extra>",
           "legendgroup": "Tottenham",
           "marker": {
            "color": "#FECB52",
            "symbol": "circle"
           },
           "mode": "markers",
           "name": "Tottenham",
           "orientation": "v",
           "showlegend": true,
           "type": "scatter",
           "x": [
            null
           ],
           "xaxis": "x",
           "y": [
            null
           ],
           "yaxis": "y"
          },
          {
           "hovertemplate": "Team=Liverpool<br>MatchesPlayed=4<br>MovingAverageFor=%{x}<br>MovingAverageAgainst=%{y}<extra></extra>",
           "legendgroup": "Liverpool",
           "marker": {
            "color": "#636efa",
            "symbol": "circle"
           },
           "mode": "markers",
           "name": "Liverpool",
           "orientation": "v",
           "showlegend": true,
           "type": "scatter",
           "x": [
            null
           ],
           "xaxis": "x",
           "y": [
            null
           ],
           "yaxis": "y"
          },
          {
           "hovertemplate": "Team=Aston Villa<br>MatchesPlayed=4<br>MovingAverageFor=%{x}<br>MovingAverageAgainst=%{y}<extra></extra>",
           "legendgroup": "Aston Villa",
           "marker": {
            "color": "#EF553B",
            "symbol": "circle"
           },
           "mode": "markers",
           "name": "Aston Villa",
           "orientation": "v",
           "showlegend": true,
           "type": "scatter",
           "x": [
            null
           ],
           "xaxis": "x",
           "y": [
            null
           ],
           "yaxis": "y"
          },
          {
           "hovertemplate": "Team=Crystal Palace<br>MatchesPlayed=4<br>MovingAverageFor=%{x}<br>MovingAverageAgainst=%{y}<extra></extra>",
           "legendgroup": "Crystal Palace",
           "marker": {
            "color": "#00cc96",
            "symbol": "circle"
           },
           "mode": "markers",
           "name": "Crystal Palace",
           "orientation": "v",
           "showlegend": true,
           "type": "scatter",
           "x": [
            null
           ],
           "xaxis": "x",
           "y": [
            null
           ],
           "yaxis": "y"
          },
          {
           "hovertemplate": "Team=Leeds<br>MatchesPlayed=4<br>MovingAverageFor=%{x}<br>MovingAverageAgainst=%{y}<extra></extra>",
           "legendgroup": "Leeds",
           "marker": {
            "color": "#ab63fa",
            "symbol": "circle"
           },
           "mode": "markers",
           "name": "Leeds",
           "orientation": "v",
           "showlegend": true,
           "type": "scatter",
           "x": [
            null
           ],
           "xaxis": "x",
           "y": [
            null
           ],
           "yaxis": "y"
          },
          {
           "hovertemplate": "Team=Man City<br>MatchesPlayed=4<br>MovingAverageFor=%{x}<br>MovingAverageAgainst=%{y}<extra></extra>",
           "legendgroup": "Man City",
           "marker": {
            "color": "#FFA15A",
            "symbol": "circle"
           },
           "mode": "markers",
           "name": "Man City",
           "orientation": "v",
           "showlegend": true,
           "type": "scatter",
           "x": [
            null
           ],
           "xaxis": "x",
           "y": [
            null
           ],
           "yaxis": "y"
          },
          {
           "hovertemplate": "Team=Brighton<br>MatchesPlayed=4<br>MovingAverageFor=%{x}<br>MovingAverageAgainst=%{y}<extra></extra>",
           "legendgroup": "Brighton",
           "marker": {
            "color": "#19d3f3",
            "symbol": "circle"
           },
           "mode": "markers",
           "name": "Brighton",
           "orientation": "v",
           "showlegend": true,
           "type": "scatter",
           "x": [
            null
           ],
           "xaxis": "x",
           "y": [
            null
           ],
           "yaxis": "y"
          },
          {
           "hovertemplate": "Team=Southampton<br>MatchesPlayed=4<br>MovingAverageFor=%{x}<br>MovingAverageAgainst=%{y}<extra></extra>",
           "legendgroup": "Southampton",
           "marker": {
            "color": "#FF6692",
            "symbol": "circle"
           },
           "mode": "markers",
           "name": "Southampton",
           "orientation": "v",
           "showlegend": true,
           "type": "scatter",
           "x": [
            null
           ],
           "xaxis": "x",
           "y": [
            null
           ],
           "yaxis": "y"
          },
          {
           "hovertemplate": "Team=Wolves<br>MatchesPlayed=4<br>MovingAverageFor=%{x}<br>MovingAverageAgainst=%{y}<extra></extra>",
           "legendgroup": "Wolves",
           "marker": {
            "color": "#B6E880",
            "symbol": "circle"
           },
           "mode": "markers",
           "name": "Wolves",
           "orientation": "v",
           "showlegend": true,
           "type": "scatter",
           "x": [
            null
           ],
           "xaxis": "x",
           "y": [
            null
           ],
           "yaxis": "y"
          },
          {
           "hovertemplate": "Team=Arsenal<br>MatchesPlayed=4<br>MovingAverageFor=%{x}<br>MovingAverageAgainst=%{y}<extra></extra>",
           "legendgroup": "Arsenal",
           "marker": {
            "color": "#FF97FF",
            "symbol": "circle"
           },
           "mode": "markers",
           "name": "Arsenal",
           "orientation": "v",
           "showlegend": true,
           "type": "scatter",
           "x": [
            null
           ],
           "xaxis": "x",
           "y": [
            null
           ],
           "yaxis": "y"
          },
          {
           "hovertemplate": "Team=West Ham<br>MatchesPlayed=4<br>MovingAverageFor=%{x}<br>MovingAverageAgainst=%{y}<extra></extra>",
           "legendgroup": "West Ham",
           "marker": {
            "color": "#FECB52",
            "symbol": "circle"
           },
           "mode": "markers",
           "name": "West Ham",
           "orientation": "v",
           "showlegend": true,
           "type": "scatter",
           "x": [
            null
           ],
           "xaxis": "x",
           "y": [
            null
           ],
           "yaxis": "y"
          }
         ],
         "name": "4"
        },
        {
         "data": [
          {
           "hovertemplate": "Team=Brentford<br>MatchesPlayed=5<br>MovingAverageFor=%{x}<br>MovingAverageAgainst=%{y}<extra></extra>",
           "legendgroup": "Brentford",
           "marker": {
            "color": "#636efa",
            "symbol": "circle"
           },
           "mode": "markers",
           "name": "Brentford",
           "orientation": "v",
           "showlegend": true,
           "type": "scatter",
           "x": [
            1.2
           ],
           "xaxis": "x",
           "y": [
            1.4
           ],
           "yaxis": "y"
          },
          {
           "hovertemplate": "Team=Man United<br>MatchesPlayed=5<br>MovingAverageFor=%{x}<br>MovingAverageAgainst=%{y}<extra></extra>",
           "legendgroup": "Man United",
           "marker": {
            "color": "#EF553B",
            "symbol": "circle"
           },
           "mode": "markers",
           "name": "Man United",
           "orientation": "v",
           "showlegend": true,
           "type": "scatter",
           "x": [
            2
           ],
           "xaxis": "x",
           "y": [
            1.8
           ],
           "yaxis": "y"
          },
          {
           "hovertemplate": "Team=Burnley<br>MatchesPlayed=5<br>MovingAverageFor=%{x}<br>MovingAverageAgainst=%{y}<extra></extra>",
           "legendgroup": "Burnley",
           "marker": {
            "color": "#00cc96",
            "symbol": "circle"
           },
           "mode": "markers",
           "name": "Burnley",
           "orientation": "v",
           "showlegend": true,
           "type": "scatter",
           "x": [
            1
           ],
           "xaxis": "x",
           "y": [
            1
           ],
           "yaxis": "y"
          },
          {
           "hovertemplate": "Team=Chelsea<br>MatchesPlayed=5<br>MovingAverageFor=%{x}<br>MovingAverageAgainst=%{y}<extra></extra>",
           "legendgroup": "Chelsea",
           "marker": {
            "color": "#ab63fa",
            "symbol": "circle"
           },
           "mode": "markers",
           "name": "Chelsea",
           "orientation": "v",
           "showlegend": true,
           "type": "scatter",
           "x": [
            3.2
           ],
           "xaxis": "x",
           "y": [
            0.4
           ],
           "yaxis": "y"
          },
          {
           "hovertemplate": "Team=Everton<br>MatchesPlayed=5<br>MovingAverageFor=%{x}<br>MovingAverageAgainst=%{y}<extra></extra>",
           "legendgroup": "Everton",
           "marker": {
            "color": "#FFA15A",
            "symbol": "circle"
           },
           "mode": "markers",
           "name": "Everton",
           "orientation": "v",
           "showlegend": true,
           "type": "scatter",
           "x": [
            2
           ],
           "xaxis": "x",
           "y": [
            1.6
           ],
           "yaxis": "y"
          },
          {
           "hovertemplate": "Team=Leicester<br>MatchesPlayed=5<br>MovingAverageFor=%{x}<br>MovingAverageAgainst=%{y}<extra></extra>",
           "legendgroup": "Leicester",
           "marker": {
            "color": "#19d3f3",
            "symbol": "circle"
           },
           "mode": "markers",
           "name": "Leicester",
           "orientation": "v",
           "showlegend": true,
           "type": "scatter",
           "x": [
            1.4
           ],
           "xaxis": "x",
           "y": [
            1.4
           ],
           "yaxis": "y"
          },
          {
           "hovertemplate": "Team=Watford<br>MatchesPlayed=5<br>MovingAverageFor=%{x}<br>MovingAverageAgainst=%{y}<extra></extra>",
           "legendgroup": "Watford",
           "marker": {
            "color": "#FF6692",
            "symbol": "circle"
           },
           "mode": "markers",
           "name": "Watford",
           "orientation": "v",
           "showlegend": true,
           "type": "scatter",
           "x": [
            0.8
           ],
           "xaxis": "x",
           "y": [
            2.2
           ],
           "yaxis": "y"
          },
          {
           "hovertemplate": "Team=Norwich<br>MatchesPlayed=5<br>MovingAverageFor=%{x}<br>MovingAverageAgainst=%{y}<extra></extra>",
           "legendgroup": "Norwich",
           "marker": {
            "color": "#B6E880",
            "symbol": "circle"
           },
           "mode": "markers",
           "name": "Norwich",
           "orientation": "v",
           "showlegend": true,
           "type": "scatter",
           "x": [
            0.6
           ],
           "xaxis": "x",
           "y": [
            2
           ],
           "yaxis": "y"
          },
          {
           "hovertemplate": "Team=Newcastle<br>MatchesPlayed=5<br>MovingAverageFor=%{x}<br>MovingAverageAgainst=%{y}<extra></extra>",
           "legendgroup": "Newcastle",
           "marker": {
            "color": "#FF97FF",
            "symbol": "circle"
           },
           "mode": "markers",
           "name": "Newcastle",
           "orientation": "v",
           "showlegend": true,
           "type": "scatter",
           "x": [
            1.4
           ],
           "xaxis": "x",
           "y": [
            2.6
           ],
           "yaxis": "y"
          },
          {
           "hovertemplate": "Team=Tottenham<br>MatchesPlayed=5<br>MovingAverageFor=%{x}<br>MovingAverageAgainst=%{y}<extra></extra>",
           "legendgroup": "Tottenham",
           "marker": {
            "color": "#FECB52",
            "symbol": "circle"
           },
           "mode": "markers",
           "name": "Tottenham",
           "orientation": "v",
           "showlegend": true,
           "type": "scatter",
           "x": [
            0.8
           ],
           "xaxis": "x",
           "y": [
            1.4
           ],
           "yaxis": "y"
          },
          {
           "hovertemplate": "Team=Liverpool<br>MatchesPlayed=5<br>MovingAverageFor=%{x}<br>MovingAverageAgainst=%{y}<extra></extra>",
           "legendgroup": "Liverpool",
           "marker": {
            "color": "#636efa",
            "symbol": "circle"
           },
           "mode": "markers",
           "name": "Liverpool",
           "orientation": "v",
           "showlegend": true,
           "type": "scatter",
           "x": [
            2
           ],
           "xaxis": "x",
           "y": [
            1
           ],
           "yaxis": "y"
          },
          {
           "hovertemplate": "Team=Aston Villa<br>MatchesPlayed=5<br>MovingAverageFor=%{x}<br>MovingAverageAgainst=%{y}<extra></extra>",
           "legendgroup": "Aston Villa",
           "marker": {
            "color": "#EF553B",
            "symbol": "circle"
           },
           "mode": "markers",
           "name": "Aston Villa",
           "orientation": "v",
           "showlegend": true,
           "type": "scatter",
           "x": [
            1.8
           ],
           "xaxis": "x",
           "y": [
            1.6
           ],
           "yaxis": "y"
          },
          {
           "hovertemplate": "Team=Crystal Palace<br>MatchesPlayed=5<br>MovingAverageFor=%{x}<br>MovingAverageAgainst=%{y}<extra></extra>",
           "legendgroup": "Crystal Palace",
           "marker": {
            "color": "#00cc96",
            "symbol": "circle"
           },
           "mode": "markers",
           "name": "Crystal Palace",
           "orientation": "v",
           "showlegend": true,
           "type": "scatter",
           "x": [
            1.4
           ],
           "xaxis": "x",
           "y": [
            0.8
           ],
           "yaxis": "y"
          },
          {
           "hovertemplate": "Team=Leeds<br>MatchesPlayed=5<br>MovingAverageFor=%{x}<br>MovingAverageAgainst=%{y}<extra></extra>",
           "legendgroup": "Leeds",
           "marker": {
            "color": "#ab63fa",
            "symbol": "circle"
           },
           "mode": "markers",
           "name": "Leeds",
           "orientation": "v",
           "showlegend": true,
           "type": "scatter",
           "x": [
            1
           ],
           "xaxis": "x",
           "y": [
            1.6
           ],
           "yaxis": "y"
          },
          {
           "hovertemplate": "Team=Man City<br>MatchesPlayed=5<br>MovingAverageFor=%{x}<br>MovingAverageAgainst=%{y}<extra></extra>",
           "legendgroup": "Man City",
           "marker": {
            "color": "#FFA15A",
            "symbol": "circle"
           },
           "mode": "markers",
           "name": "Man City",
           "orientation": "v",
           "showlegend": true,
           "type": "scatter",
           "x": [
            2.4
           ],
           "xaxis": "x",
           "y": [
            0.4
           ],
           "yaxis": "y"
          },
          {
           "hovertemplate": "Team=Brighton<br>MatchesPlayed=5<br>MovingAverageFor=%{x}<br>MovingAverageAgainst=%{y}<extra></extra>",
           "legendgroup": "Brighton",
           "marker": {
            "color": "#19d3f3",
            "symbol": "circle"
           },
           "mode": "markers",
           "name": "Brighton",
           "orientation": "v",
           "showlegend": true,
           "type": "scatter",
           "x": [
            1
           ],
           "xaxis": "x",
           "y": [
            1.4
           ],
           "yaxis": "y"
          },
          {
           "hovertemplate": "Team=Southampton<br>MatchesPlayed=5<br>MovingAverageFor=%{x}<br>MovingAverageAgainst=%{y}<extra></extra>",
           "legendgroup": "Southampton",
           "marker": {
            "color": "#FF6692",
            "symbol": "circle"
           },
           "mode": "markers",
           "name": "Southampton",
           "orientation": "v",
           "showlegend": true,
           "type": "scatter",
           "x": [
            0.8
           ],
           "xaxis": "x",
           "y": [
            0.8
           ],
           "yaxis": "y"
          },
          {
           "hovertemplate": "Team=Wolves<br>MatchesPlayed=5<br>MovingAverageFor=%{x}<br>MovingAverageAgainst=%{y}<extra></extra>",
           "legendgroup": "Wolves",
           "marker": {
            "color": "#B6E880",
            "symbol": "circle"
           },
           "mode": "markers",
           "name": "Wolves",
           "orientation": "v",
           "showlegend": true,
           "type": "scatter",
           "x": [
            0.8
           ],
           "xaxis": "x",
           "y": [
            1.2
           ],
           "yaxis": "y"
          },
          {
           "hovertemplate": "Team=Arsenal<br>MatchesPlayed=5<br>MovingAverageFor=%{x}<br>MovingAverageAgainst=%{y}<extra></extra>",
           "legendgroup": "Arsenal",
           "marker": {
            "color": "#FF97FF",
            "symbol": "circle"
           },
           "mode": "markers",
           "name": "Arsenal",
           "orientation": "v",
           "showlegend": true,
           "type": "scatter",
           "x": [
            1.8
           ],
           "xaxis": "x",
           "y": [
            1.2
           ],
           "yaxis": "y"
          },
          {
           "hovertemplate": "Team=West Ham<br>MatchesPlayed=5<br>MovingAverageFor=%{x}<br>MovingAverageAgainst=%{y}<extra></extra>",
           "legendgroup": "West Ham",
           "marker": {
            "color": "#FECB52",
            "symbol": "circle"
           },
           "mode": "markers",
           "name": "West Ham",
           "orientation": "v",
           "showlegend": true,
           "type": "scatter",
           "x": [
            1.8
           ],
           "xaxis": "x",
           "y": [
            1.4
           ],
           "yaxis": "y"
          }
         ],
         "name": "5"
        },
        {
         "data": [
          {
           "hovertemplate": "Team=Brentford<br>MatchesPlayed=6<br>MovingAverageFor=%{x}<br>MovingAverageAgainst=%{y}<extra></extra>",
           "legendgroup": "Brentford",
           "marker": {
            "color": "#636efa",
            "symbol": "circle"
           },
           "mode": "markers",
           "name": "Brentford",
           "orientation": "v",
           "showlegend": true,
           "type": "scatter",
           "x": [
            1
           ],
           "xaxis": "x",
           "y": [
            1.8
           ],
           "yaxis": "y"
          },
          {
           "hovertemplate": "Team=Man United<br>MatchesPlayed=6<br>MovingAverageFor=%{x}<br>MovingAverageAgainst=%{y}<extra></extra>",
           "legendgroup": "Man United",
           "marker": {
            "color": "#EF553B",
            "symbol": "circle"
           },
           "mode": "markers",
           "name": "Man United",
           "orientation": "v",
           "showlegend": true,
           "type": "scatter",
           "x": [
            1
           ],
           "xaxis": "x",
           "y": [
            2
           ],
           "yaxis": "y"
          },
          {
           "hovertemplate": "Team=Burnley<br>MatchesPlayed=6<br>MovingAverageFor=%{x}<br>MovingAverageAgainst=%{y}<extra></extra>",
           "legendgroup": "Burnley",
           "marker": {
            "color": "#00cc96",
            "symbol": "circle"
           },
           "mode": "markers",
           "name": "Burnley",
           "orientation": "v",
           "showlegend": true,
           "type": "scatter",
           "x": [
            1.4
           ],
           "xaxis": "x",
           "y": [
            1.2
           ],
           "yaxis": "y"
          },
          {
           "hovertemplate": "Team=Chelsea<br>MatchesPlayed=6<br>MovingAverageFor=%{x}<br>MovingAverageAgainst=%{y}<extra></extra>",
           "legendgroup": "Chelsea",
           "marker": {
            "color": "#ab63fa",
            "symbol": "circle"
           },
           "mode": "markers",
           "name": "Chelsea",
           "orientation": "v",
           "showlegend": true,
           "type": "scatter",
           "x": [
            2.8
           ],
           "xaxis": "x",
           "y": [
            0.6
           ],
           "yaxis": "y"
          },
          {
           "hovertemplate": "Team=Everton<br>MatchesPlayed=6<br>MovingAverageFor=%{x}<br>MovingAverageAgainst=%{y}<extra></extra>",
           "legendgroup": "Everton",
           "marker": {
            "color": "#FFA15A",
            "symbol": "circle"
           },
           "mode": "markers",
           "name": "Everton",
           "orientation": "v",
           "showlegend": true,
           "type": "scatter",
           "x": [
            1.4
           ],
           "xaxis": "x",
           "y": [
            1.4
           ],
           "yaxis": "y"
          },
          {
           "hovertemplate": "Team=Leicester<br>MatchesPlayed=6<br>MovingAverageFor=%{x}<br>MovingAverageAgainst=%{y}<extra></extra>",
           "legendgroup": "Leicester",
           "marker": {
            "color": "#19d3f3",
            "symbol": "circle"
           },
           "mode": "markers",
           "name": "Leicester",
           "orientation": "v",
           "showlegend": true,
           "type": "scatter",
           "x": [
            1.2
           ],
           "xaxis": "x",
           "y": [
            2
           ],
           "yaxis": "y"
          },
          {
           "hovertemplate": "Team=Watford<br>MatchesPlayed=6<br>MovingAverageFor=%{x}<br>MovingAverageAgainst=%{y}<extra></extra>",
           "legendgroup": "Watford",
           "marker": {
            "color": "#FF6692",
            "symbol": "circle"
           },
           "mode": "markers",
           "name": "Watford",
           "orientation": "v",
           "showlegend": true,
           "type": "scatter",
           "x": [
            1
           ],
           "xaxis": "x",
           "y": [
            2
           ],
           "yaxis": "y"
          },
          {
           "hovertemplate": "Team=Norwich<br>MatchesPlayed=6<br>MovingAverageFor=%{x}<br>MovingAverageAgainst=%{y}<extra></extra>",
           "legendgroup": "Norwich",
           "marker": {
            "color": "#B6E880",
            "symbol": "circle"
           },
           "mode": "markers",
           "name": "Norwich",
           "orientation": "v",
           "showlegend": true,
           "type": "scatter",
           "x": [
            1
           ],
           "xaxis": "x",
           "y": [
            1.6
           ],
           "yaxis": "y"
          },
          {
           "hovertemplate": "Team=Newcastle<br>MatchesPlayed=6<br>MovingAverageFor=%{x}<br>MovingAverageAgainst=%{y}<extra></extra>",
           "legendgroup": "Newcastle",
           "marker": {
            "color": "#FF97FF",
            "symbol": "circle"
           },
           "mode": "markers",
           "name": "Newcastle",
           "orientation": "v",
           "showlegend": true,
           "type": "scatter",
           "x": [
            1.6
           ],
           "xaxis": "x",
           "y": [
            2.4
           ],
           "yaxis": "y"
          },
          {
           "hovertemplate": "Team=Tottenham<br>MatchesPlayed=6<br>MovingAverageFor=%{x}<br>MovingAverageAgainst=%{y}<extra></extra>",
           "legendgroup": "Tottenham",
           "marker": {
            "color": "#FECB52",
            "symbol": "circle"
           },
           "mode": "markers",
           "name": "Tottenham",
           "orientation": "v",
           "showlegend": true,
           "type": "scatter",
           "x": [
            1
           ],
           "xaxis": "x",
           "y": [
            1.6
           ],
           "yaxis": "y"
          },
          {
           "hovertemplate": "Team=Liverpool<br>MatchesPlayed=6<br>MovingAverageFor=%{x}<br>MovingAverageAgainst=%{y}<extra></extra>",
           "legendgroup": "Liverpool",
           "marker": {
            "color": "#636efa",
            "symbol": "circle"
           },
           "mode": "markers",
           "name": "Liverpool",
           "orientation": "v",
           "showlegend": true,
           "type": "scatter",
           "x": [
            2.4
           ],
           "xaxis": "x",
           "y": [
            1
           ],
           "yaxis": "y"
          },
          {
           "hovertemplate": "Team=Aston Villa<br>MatchesPlayed=6<br>MovingAverageFor=%{x}<br>MovingAverageAgainst=%{y}<extra></extra>",
           "legendgroup": "Aston Villa",
           "marker": {
            "color": "#EF553B",
            "symbol": "circle"
           },
           "mode": "markers",
           "name": "Aston Villa",
           "orientation": "v",
           "showlegend": true,
           "type": "scatter",
           "x": [
            1.8
           ],
           "xaxis": "x",
           "y": [
            1.6
           ],
           "yaxis": "y"
          },
          {
           "hovertemplate": "Team=Crystal Palace<br>MatchesPlayed=6<br>MovingAverageFor=%{x}<br>MovingAverageAgainst=%{y}<extra></extra>",
           "legendgroup": "Crystal Palace",
           "marker": {
            "color": "#00cc96",
            "symbol": "circle"
           },
           "mode": "markers",
           "name": "Crystal Palace",
           "orientation": "v",
           "showlegend": true,
           "type": "scatter",
           "x": [
            1.8
           ],
           "xaxis": "x",
           "y": [
            0.8
           ],
           "yaxis": "y"
          },
          {
           "hovertemplate": "Team=Leeds<br>MatchesPlayed=6<br>MovingAverageFor=%{x}<br>MovingAverageAgainst=%{y}<extra></extra>",
           "legendgroup": "Leeds",
           "marker": {
            "color": "#ab63fa",
            "symbol": "circle"
           },
           "mode": "markers",
           "name": "Leeds",
           "orientation": "v",
           "showlegend": true,
           "type": "scatter",
           "x": [
            0.8
           ],
           "xaxis": "x",
           "y": [
            1.4
           ],
           "yaxis": "y"
          },
          {
           "hovertemplate": "Team=Man City<br>MatchesPlayed=6<br>MovingAverageFor=%{x}<br>MovingAverageAgainst=%{y}<extra></extra>",
           "legendgroup": "Man City",
           "marker": {
            "color": "#FFA15A",
            "symbol": "circle"
           },
           "mode": "markers",
           "name": "Man City",
           "orientation": "v",
           "showlegend": true,
           "type": "scatter",
           "x": [
            2
           ],
           "xaxis": "x",
           "y": [
            0.4
           ],
           "yaxis": "y"
          },
          {
           "hovertemplate": "Team=Brighton<br>MatchesPlayed=6<br>MovingAverageFor=%{x}<br>MovingAverageAgainst=%{y}<extra></extra>",
           "legendgroup": "Brighton",
           "marker": {
            "color": "#19d3f3",
            "symbol": "circle"
           },
           "mode": "markers",
           "name": "Brighton",
           "orientation": "v",
           "showlegend": true,
           "type": "scatter",
           "x": [
            0.8
           ],
           "xaxis": "x",
           "y": [
            1.6
           ],
           "yaxis": "y"
          },
          {
           "hovertemplate": "Team=Southampton<br>MatchesPlayed=6<br>MovingAverageFor=%{x}<br>MovingAverageAgainst=%{y}<extra></extra>",
           "legendgroup": "Southampton",
           "marker": {
            "color": "#FF6692",
            "symbol": "circle"
           },
           "mode": "markers",
           "name": "Southampton",
           "orientation": "v",
           "showlegend": true,
           "type": "scatter",
           "x": [
            0.8
           ],
           "xaxis": "x",
           "y": [
            0.6
           ],
           "yaxis": "y"
          },
          {
           "hovertemplate": "Team=Wolves<br>MatchesPlayed=6<br>MovingAverageFor=%{x}<br>MovingAverageAgainst=%{y}<extra></extra>",
           "legendgroup": "Wolves",
           "marker": {
            "color": "#B6E880",
            "symbol": "circle"
           },
           "mode": "markers",
           "name": "Wolves",
           "orientation": "v",
           "showlegend": true,
           "type": "scatter",
           "x": [
            1
           ],
           "xaxis": "x",
           "y": [
            1
           ],
           "yaxis": "y"
          },
          {
           "hovertemplate": "Team=Arsenal<br>MatchesPlayed=6<br>MovingAverageFor=%{x}<br>MovingAverageAgainst=%{y}<extra></extra>",
           "legendgroup": "Arsenal",
           "marker": {
            "color": "#FF97FF",
            "symbol": "circle"
           },
           "mode": "markers",
           "name": "Arsenal",
           "orientation": "v",
           "showlegend": true,
           "type": "scatter",
           "x": [
            2
           ],
           "xaxis": "x",
           "y": [
            0.8
           ],
           "yaxis": "y"
          },
          {
           "hovertemplate": "Team=West Ham<br>MatchesPlayed=6<br>MovingAverageFor=%{x}<br>MovingAverageAgainst=%{y}<extra></extra>",
           "legendgroup": "West Ham",
           "marker": {
            "color": "#FECB52",
            "symbol": "circle"
           },
           "mode": "markers",
           "name": "West Ham",
           "orientation": "v",
           "showlegend": true,
           "type": "scatter",
           "x": [
            1.6
           ],
           "xaxis": "x",
           "y": [
            1.6
           ],
           "yaxis": "y"
          }
         ],
         "name": "6"
        },
        {
         "data": [
          {
           "hovertemplate": "Team=Brentford<br>MatchesPlayed=7<br>MovingAverageFor=%{x}<br>MovingAverageAgainst=%{y}<extra></extra>",
           "legendgroup": "Brentford",
           "marker": {
            "color": "#636efa",
            "symbol": "circle"
           },
           "mode": "markers",
           "name": "Brentford",
           "orientation": "v",
           "showlegend": true,
           "type": "scatter",
           "x": [
            1.2
           ],
           "xaxis": "x",
           "y": [
            1.6
           ],
           "yaxis": "y"
          },
          {
           "hovertemplate": "Team=Man United<br>MatchesPlayed=7<br>MovingAverageFor=%{x}<br>MovingAverageAgainst=%{y}<extra></extra>",
           "legendgroup": "Man United",
           "marker": {
            "color": "#EF553B",
            "symbol": "circle"
           },
           "mode": "markers",
           "name": "Man United",
           "orientation": "v",
           "showlegend": true,
           "type": "scatter",
           "x": [
            0.8
           ],
           "xaxis": "x",
           "y": [
            2.2
           ],
           "yaxis": "y"
          },
          {
           "hovertemplate": "Team=Burnley<br>MatchesPlayed=7<br>MovingAverageFor=%{x}<br>MovingAverageAgainst=%{y}<extra></extra>",
           "legendgroup": "Burnley",
           "marker": {
            "color": "#00cc96",
            "symbol": "circle"
           },
           "mode": "markers",
           "name": "Burnley",
           "orientation": "v",
           "showlegend": true,
           "type": "scatter",
           "x": [
            1.2
           ],
           "xaxis": "x",
           "y": [
            1
           ],
           "yaxis": "y"
          },
          {
           "hovertemplate": "Team=Chelsea<br>MatchesPlayed=7<br>MovingAverageFor=%{x}<br>MovingAverageAgainst=%{y}<extra></extra>",
           "legendgroup": "Chelsea",
           "marker": {
            "color": "#ab63fa",
            "symbol": "circle"
           },
           "mode": "markers",
           "name": "Chelsea",
           "orientation": "v",
           "showlegend": true,
           "type": "scatter",
           "x": [
            2.4
           ],
           "xaxis": "x",
           "y": [
            0.8
           ],
           "yaxis": "y"
          },
          {
           "hovertemplate": "Team=Everton<br>MatchesPlayed=7<br>MovingAverageFor=%{x}<br>MovingAverageAgainst=%{y}<extra></extra>",
           "legendgroup": "Everton",
           "marker": {
            "color": "#FFA15A",
            "symbol": "circle"
           },
           "mode": "markers",
           "name": "Everton",
           "orientation": "v",
           "showlegend": true,
           "type": "scatter",
           "x": [
            1
           ],
           "xaxis": "x",
           "y": [
            2
           ],
           "yaxis": "y"
          },
          {
           "hovertemplate": "Team=Leicester<br>MatchesPlayed=7<br>MovingAverageFor=%{x}<br>MovingAverageAgainst=%{y}<extra></extra>",
           "legendgroup": "Leicester",
           "marker": {
            "color": "#19d3f3",
            "symbol": "circle"
           },
           "mode": "markers",
           "name": "Leicester",
           "orientation": "v",
           "showlegend": true,
           "type": "scatter",
           "x": [
            2
           ],
           "xaxis": "x",
           "y": [
            2.2
           ],
           "yaxis": "y"
          },
          {
           "hovertemplate": "Team=Watford<br>MatchesPlayed=7<br>MovingAverageFor=%{x}<br>MovingAverageAgainst=%{y}<extra></extra>",
           "legendgroup": "Watford",
           "marker": {
            "color": "#FF6692",
            "symbol": "circle"
           },
           "mode": "markers",
           "name": "Watford",
           "orientation": "v",
           "showlegend": true,
           "type": "scatter",
           "x": [
            1.2
           ],
           "xaxis": "x",
           "y": [
            2
           ],
           "yaxis": "y"
          },
          {
           "hovertemplate": "Team=Norwich<br>MatchesPlayed=7<br>MovingAverageFor=%{x}<br>MovingAverageAgainst=%{y}<extra></extra>",
           "legendgroup": "Norwich",
           "marker": {
            "color": "#B6E880",
            "symbol": "circle"
           },
           "mode": "markers",
           "name": "Norwich",
           "orientation": "v",
           "showlegend": true,
           "type": "scatter",
           "x": [
            0.8
           ],
           "xaxis": "x",
           "y": [
            1.2
           ],
           "yaxis": "y"
          },
          {
           "hovertemplate": "Team=Newcastle<br>MatchesPlayed=7<br>MovingAverageFor=%{x}<br>MovingAverageAgainst=%{y}<extra></extra>",
           "legendgroup": "Newcastle",
           "marker": {
            "color": "#FF97FF",
            "symbol": "circle"
           },
           "mode": "markers",
           "name": "Newcastle",
           "orientation": "v",
           "showlegend": true,
           "type": "scatter",
           "x": [
            1.4
           ],
           "xaxis": "x",
           "y": [
            2.2
           ],
           "yaxis": "y"
          },
          {
           "hovertemplate": "Team=Tottenham<br>MatchesPlayed=7<br>MovingAverageFor=%{x}<br>MovingAverageAgainst=%{y}<extra></extra>",
           "legendgroup": "Tottenham",
           "marker": {
            "color": "#FECB52",
            "symbol": "circle"
           },
           "mode": "markers",
           "name": "Tottenham",
           "orientation": "v",
           "showlegend": true,
           "type": "scatter",
           "x": [
            1.2
           ],
           "xaxis": "x",
           "y": [
            1.6
           ],
           "yaxis": "y"
          },
          {
           "hovertemplate": "Team=Liverpool<br>MatchesPlayed=7<br>MovingAverageFor=%{x}<br>MovingAverageAgainst=%{y}<extra></extra>",
           "legendgroup": "Liverpool",
           "marker": {
            "color": "#636efa",
            "symbol": "circle"
           },
           "mode": "markers",
           "name": "Liverpool",
           "orientation": "v",
           "showlegend": true,
           "type": "scatter",
           "x": [
            3
           ],
           "xaxis": "x",
           "y": [
            0.8
           ],
           "yaxis": "y"
          },
          {
           "hovertemplate": "Team=Aston Villa<br>MatchesPlayed=7<br>MovingAverageFor=%{x}<br>MovingAverageAgainst=%{y}<extra></extra>",
           "legendgroup": "Aston Villa",
           "marker": {
            "color": "#EF553B",
            "symbol": "circle"
           },
           "mode": "markers",
           "name": "Aston Villa",
           "orientation": "v",
           "showlegend": true,
           "type": "scatter",
           "x": [
            1.8
           ],
           "xaxis": "x",
           "y": [
            1.8
           ],
           "yaxis": "y"
          },
          {
           "hovertemplate": "Team=Crystal Palace<br>MatchesPlayed=7<br>MovingAverageFor=%{x}<br>MovingAverageAgainst=%{y}<extra></extra>",
           "legendgroup": "Crystal Palace",
           "marker": {
            "color": "#00cc96",
            "symbol": "circle"
           },
           "mode": "markers",
           "name": "Crystal Palace",
           "orientation": "v",
           "showlegend": true,
           "type": "scatter",
           "x": [
            1.4
           ],
           "xaxis": "x",
           "y": [
            1.2
           ],
           "yaxis": "y"
          },
          {
           "hovertemplate": "Team=Leeds<br>MatchesPlayed=7<br>MovingAverageFor=%{x}<br>MovingAverageAgainst=%{y}<extra></extra>",
           "legendgroup": "Leeds",
           "marker": {
            "color": "#ab63fa",
            "symbol": "circle"
           },
           "mode": "markers",
           "name": "Leeds",
           "orientation": "v",
           "showlegend": true,
           "type": "scatter",
           "x": [
            1
           ],
           "xaxis": "x",
           "y": [
            0.8
           ],
           "yaxis": "y"
          },
          {
           "hovertemplate": "Team=Man City<br>MatchesPlayed=7<br>MovingAverageFor=%{x}<br>MovingAverageAgainst=%{y}<extra></extra>",
           "legendgroup": "Man City",
           "marker": {
            "color": "#FFA15A",
            "symbol": "circle"
           },
           "mode": "markers",
           "name": "Man City",
           "orientation": "v",
           "showlegend": true,
           "type": "scatter",
           "x": [
            1.4
           ],
           "xaxis": "x",
           "y": [
            0.6
           ],
           "yaxis": "y"
          },
          {
           "hovertemplate": "Team=Brighton<br>MatchesPlayed=7<br>MovingAverageFor=%{x}<br>MovingAverageAgainst=%{y}<extra></extra>",
           "legendgroup": "Brighton",
           "marker": {
            "color": "#19d3f3",
            "symbol": "circle"
           },
           "mode": "markers",
           "name": "Brighton",
           "orientation": "v",
           "showlegend": true,
           "type": "scatter",
           "x": [
            0.8
           ],
           "xaxis": "x",
           "y": [
            1.2
           ],
           "yaxis": "y"
          },
          {
           "hovertemplate": "Team=Southampton<br>MatchesPlayed=7<br>MovingAverageFor=%{x}<br>MovingAverageAgainst=%{y}<extra></extra>",
           "legendgroup": "Southampton",
           "marker": {
            "color": "#FF6692",
            "symbol": "circle"
           },
           "mode": "markers",
           "name": "Southampton",
           "orientation": "v",
           "showlegend": true,
           "type": "scatter",
           "x": [
            1.2
           ],
           "xaxis": "x",
           "y": [
            1
           ],
           "yaxis": "y"
          },
          {
           "hovertemplate": "Team=Wolves<br>MatchesPlayed=7<br>MovingAverageFor=%{x}<br>MovingAverageAgainst=%{y}<extra></extra>",
           "legendgroup": "Wolves",
           "marker": {
            "color": "#B6E880",
            "symbol": "circle"
           },
           "mode": "markers",
           "name": "Wolves",
           "orientation": "v",
           "showlegend": true,
           "type": "scatter",
           "x": [
            1
           ],
           "xaxis": "x",
           "y": [
            0.8
           ],
           "yaxis": "y"
          },
          {
           "hovertemplate": "Team=Arsenal<br>MatchesPlayed=7<br>MovingAverageFor=%{x}<br>MovingAverageAgainst=%{y}<extra></extra>",
           "legendgroup": "Arsenal",
           "marker": {
            "color": "#FF97FF",
            "symbol": "circle"
           },
           "mode": "markers",
           "name": "Arsenal",
           "orientation": "v",
           "showlegend": true,
           "type": "scatter",
           "x": [
            2.2
           ],
           "xaxis": "x",
           "y": [
            0.8
           ],
           "yaxis": "y"
          },
          {
           "hovertemplate": "Team=West Ham<br>MatchesPlayed=7<br>MovingAverageFor=%{x}<br>MovingAverageAgainst=%{y}<extra></extra>",
           "legendgroup": "West Ham",
           "marker": {
            "color": "#FECB52",
            "symbol": "circle"
           },
           "mode": "markers",
           "name": "West Ham",
           "orientation": "v",
           "showlegend": true,
           "type": "scatter",
           "x": [
            1.4
           ],
           "xaxis": "x",
           "y": [
            1.4
           ],
           "yaxis": "y"
          }
         ],
         "name": "7"
        },
        {
         "data": [
          {
           "hovertemplate": "Team=Brentford<br>MatchesPlayed=8<br>MovingAverageFor=%{x}<br>MovingAverageAgainst=%{y}<extra></extra>",
           "legendgroup": "Brentford",
           "marker": {
            "color": "#636efa",
            "symbol": "circle"
           },
           "mode": "markers",
           "name": "Brentford",
           "orientation": "v",
           "showlegend": true,
           "type": "scatter",
           "x": [
            1
           ],
           "xaxis": "x",
           "y": [
            1.2
           ],
           "yaxis": "y"
          },
          {
           "hovertemplate": "Team=Man United<br>MatchesPlayed=8<br>MovingAverageFor=%{x}<br>MovingAverageAgainst=%{y}<extra></extra>",
           "legendgroup": "Man United",
           "marker": {
            "color": "#EF553B",
            "symbol": "circle"
           },
           "mode": "markers",
           "name": "Man United",
           "orientation": "v",
           "showlegend": true,
           "type": "scatter",
           "x": [
            1
           ],
           "xaxis": "x",
           "y": [
            2
           ],
           "yaxis": "y"
          },
          {
           "hovertemplate": "Team=Burnley<br>MatchesPlayed=8<br>MovingAverageFor=%{x}<br>MovingAverageAgainst=%{y}<extra></extra>",
           "legendgroup": "Burnley",
           "marker": {
            "color": "#00cc96",
            "symbol": "circle"
           },
           "mode": "markers",
           "name": "Burnley",
           "orientation": "v",
           "showlegend": true,
           "type": "scatter",
           "x": [
            1.2
           ],
           "xaxis": "x",
           "y": [
            0.8
           ],
           "yaxis": "y"
          },
          {
           "hovertemplate": "Team=Chelsea<br>MatchesPlayed=8<br>MovingAverageFor=%{x}<br>MovingAverageAgainst=%{y}<extra></extra>",
           "legendgroup": "Chelsea",
           "marker": {
            "color": "#ab63fa",
            "symbol": "circle"
           },
           "mode": "markers",
           "name": "Chelsea",
           "orientation": "v",
           "showlegend": true,
           "type": "scatter",
           "x": [
            3
           ],
           "xaxis": "x",
           "y": [
            1
           ],
           "yaxis": "y"
          },
          {
           "hovertemplate": "Team=Everton<br>MatchesPlayed=8<br>MovingAverageFor=%{x}<br>MovingAverageAgainst=%{y}<extra></extra>",
           "legendgroup": "Everton",
           "marker": {
            "color": "#FFA15A",
            "symbol": "circle"
           },
           "mode": "markers",
           "name": "Everton",
           "orientation": "v",
           "showlegend": true,
           "type": "scatter",
           "x": [
            1
           ],
           "xaxis": "x",
           "y": [
            2.2
           ],
           "yaxis": "y"
          },
          {
           "hovertemplate": "Team=Leicester<br>MatchesPlayed=8<br>MovingAverageFor=%{x}<br>MovingAverageAgainst=%{y}<extra></extra>",
           "legendgroup": "Leicester",
           "marker": {
            "color": "#19d3f3",
            "symbol": "circle"
           },
           "mode": "markers",
           "name": "Leicester",
           "orientation": "v",
           "showlegend": true,
           "type": "scatter",
           "x": [
            2.4
           ],
           "xaxis": "x",
           "y": [
            1.8
           ],
           "yaxis": "y"
          },
          {
           "hovertemplate": "Team=Watford<br>MatchesPlayed=8<br>MovingAverageFor=%{x}<br>MovingAverageAgainst=%{y}<extra></extra>",
           "legendgroup": "Watford",
           "marker": {
            "color": "#FF6692",
            "symbol": "circle"
           },
           "mode": "markers",
           "name": "Watford",
           "orientation": "v",
           "showlegend": true,
           "type": "scatter",
           "x": [
            1.2
           ],
           "xaxis": "x",
           "y": [
            2.4
           ],
           "yaxis": "y"
          },
          {
           "hovertemplate": "Team=Norwich<br>MatchesPlayed=8<br>MovingAverageFor=%{x}<br>MovingAverageAgainst=%{y}<extra></extra>",
           "legendgroup": "Norwich",
           "marker": {
            "color": "#B6E880",
            "symbol": "circle"
           },
           "mode": "markers",
           "name": "Norwich",
           "orientation": "v",
           "showlegend": true,
           "type": "scatter",
           "x": [
            0.6
           ],
           "xaxis": "x",
           "y": [
            0.8
           ],
           "yaxis": "y"
          },
          {
           "hovertemplate": "Team=Newcastle<br>MatchesPlayed=8<br>MovingAverageFor=%{x}<br>MovingAverageAgainst=%{y}<extra></extra>",
           "legendgroup": "Newcastle",
           "marker": {
            "color": "#FF97FF",
            "symbol": "circle"
           },
           "mode": "markers",
           "name": "Newcastle",
           "orientation": "v",
           "showlegend": true,
           "type": "scatter",
           "x": [
            1.4
           ],
           "xaxis": "x",
           "y": [
            2
           ],
           "yaxis": "y"
          },
          {
           "hovertemplate": "Team=Tottenham<br>MatchesPlayed=8<br>MovingAverageFor=%{x}<br>MovingAverageAgainst=%{y}<extra></extra>",
           "legendgroup": "Tottenham",
           "marker": {
            "color": "#FECB52",
            "symbol": "circle"
           },
           "mode": "markers",
           "name": "Tottenham",
           "orientation": "v",
           "showlegend": true,
           "type": "scatter",
           "x": [
            1.8
           ],
           "xaxis": "x",
           "y": [
            1
           ],
           "yaxis": "y"
          },
          {
           "hovertemplate": "Team=Liverpool<br>MatchesPlayed=8<br>MovingAverageFor=%{x}<br>MovingAverageAgainst=%{y}<extra></extra>",
           "legendgroup": "Liverpool",
           "marker": {
            "color": "#636efa",
            "symbol": "circle"
           },
           "mode": "markers",
           "name": "Liverpool",
           "orientation": "v",
           "showlegend": true,
           "type": "scatter",
           "x": [
            2.6
           ],
           "xaxis": "x",
           "y": [
            0.8
           ],
           "yaxis": "y"
          },
          {
           "hovertemplate": "Team=Aston Villa<br>MatchesPlayed=8<br>MovingAverageFor=%{x}<br>MovingAverageAgainst=%{y}<extra></extra>",
           "legendgroup": "Aston Villa",
           "marker": {
            "color": "#EF553B",
            "symbol": "circle"
           },
           "mode": "markers",
           "name": "Aston Villa",
           "orientation": "v",
           "showlegend": true,
           "type": "scatter",
           "x": [
            1.6
           ],
           "xaxis": "x",
           "y": [
            2
           ],
           "yaxis": "y"
          },
          {
           "hovertemplate": "Team=Crystal Palace<br>MatchesPlayed=8<br>MovingAverageFor=%{x}<br>MovingAverageAgainst=%{y}<extra></extra>",
           "legendgroup": "Crystal Palace",
           "marker": {
            "color": "#00cc96",
            "symbol": "circle"
           },
           "mode": "markers",
           "name": "Crystal Palace",
           "orientation": "v",
           "showlegend": true,
           "type": "scatter",
           "x": [
            1.8
           ],
           "xaxis": "x",
           "y": [
            1.2
           ],
           "yaxis": "y"
          },
          {
           "hovertemplate": "Team=Leeds<br>MatchesPlayed=8<br>MovingAverageFor=%{x}<br>MovingAverageAgainst=%{y}<extra></extra>",
           "legendgroup": "Leeds",
           "marker": {
            "color": "#ab63fa",
            "symbol": "circle"
           },
           "mode": "markers",
           "name": "Leeds",
           "orientation": "v",
           "showlegend": true,
           "type": "scatter",
           "x": [
            1.2
           ],
           "xaxis": "x",
           "y": [
            0.8
           ],
           "yaxis": "y"
          },
          {
           "hovertemplate": "Team=Man City<br>MatchesPlayed=8<br>MovingAverageFor=%{x}<br>MovingAverageAgainst=%{y}<extra></extra>",
           "legendgroup": "Man City",
           "marker": {
            "color": "#FFA15A",
            "symbol": "circle"
           },
           "mode": "markers",
           "name": "Man City",
           "orientation": "v",
           "showlegend": true,
           "type": "scatter",
           "x": [
            1.6
           ],
           "xaxis": "x",
           "y": [
            0.6
           ],
           "yaxis": "y"
          },
          {
           "hovertemplate": "Team=Brighton<br>MatchesPlayed=8<br>MovingAverageFor=%{x}<br>MovingAverageAgainst=%{y}<extra></extra>",
           "legendgroup": "Brighton",
           "marker": {
            "color": "#19d3f3",
            "symbol": "circle"
           },
           "mode": "markers",
           "name": "Brighton",
           "orientation": "v",
           "showlegend": true,
           "type": "scatter",
           "x": [
            0.4
           ],
           "xaxis": "x",
           "y": [
            1.2
           ],
           "yaxis": "y"
          },
          {
           "hovertemplate": "Team=Southampton<br>MatchesPlayed=8<br>MovingAverageFor=%{x}<br>MovingAverageAgainst=%{y}<extra></extra>",
           "legendgroup": "Southampton",
           "marker": {
            "color": "#FF6692",
            "symbol": "circle"
           },
           "mode": "markers",
           "name": "Southampton",
           "orientation": "v",
           "showlegend": true,
           "type": "scatter",
           "x": [
            1.4
           ],
           "xaxis": "x",
           "y": [
            1
           ],
           "yaxis": "y"
          },
          {
           "hovertemplate": "Team=Wolves<br>MatchesPlayed=8<br>MovingAverageFor=%{x}<br>MovingAverageAgainst=%{y}<extra></extra>",
           "legendgroup": "Wolves",
           "marker": {
            "color": "#B6E880",
            "symbol": "circle"
           },
           "mode": "markers",
           "name": "Wolves",
           "orientation": "v",
           "showlegend": true,
           "type": "scatter",
           "x": [
            1
           ],
           "xaxis": "x",
           "y": [
            0.6
           ],
           "yaxis": "y"
          },
          {
           "hovertemplate": "Team=Arsenal<br>MatchesPlayed=8<br>MovingAverageFor=%{x}<br>MovingAverageAgainst=%{y}<extra></extra>",
           "legendgroup": "Arsenal",
           "marker": {
            "color": "#FF97FF",
            "symbol": "circle"
           },
           "mode": "markers",
           "name": "Arsenal",
           "orientation": "v",
           "showlegend": true,
           "type": "scatter",
           "x": [
            2.2
           ],
           "xaxis": "x",
           "y": [
            0.6
           ],
           "yaxis": "y"
          },
          {
           "hovertemplate": "Team=West Ham<br>MatchesPlayed=8<br>MovingAverageFor=%{x}<br>MovingAverageAgainst=%{y}<extra></extra>",
           "legendgroup": "West Ham",
           "marker": {
            "color": "#FECB52",
            "symbol": "circle"
           },
           "mode": "markers",
           "name": "West Ham",
           "orientation": "v",
           "showlegend": true,
           "type": "scatter",
           "x": [
            1.8
           ],
           "xaxis": "x",
           "y": [
            1.4
           ],
           "yaxis": "y"
          }
         ],
         "name": "8"
        },
        {
         "data": [
          {
           "hovertemplate": "Team=Brentford<br>MatchesPlayed=9<br>MovingAverageFor=%{x}<br>MovingAverageAgainst=%{y}<extra></extra>",
           "legendgroup": "Brentford",
           "marker": {
            "color": "#636efa",
            "symbol": "circle"
           },
           "mode": "markers",
           "name": "Brentford",
           "orientation": "v",
           "showlegend": true,
           "type": "scatter",
           "x": [
            1
           ],
           "xaxis": "x",
           "y": [
            1.2
           ],
           "yaxis": "y"
          },
          {
           "hovertemplate": "Team=Man United<br>MatchesPlayed=9<br>MovingAverageFor=%{x}<br>MovingAverageAgainst=%{y}<extra></extra>",
           "legendgroup": "Man United",
           "marker": {
            "color": "#EF553B",
            "symbol": "circle"
           },
           "mode": "markers",
           "name": "Man United",
           "orientation": "v",
           "showlegend": true,
           "type": "scatter",
           "x": [
            1.4
           ],
           "xaxis": "x",
           "y": [
            2
           ],
           "yaxis": "y"
          },
          {
           "hovertemplate": "Team=Burnley<br>MatchesPlayed=9<br>MovingAverageFor=%{x}<br>MovingAverageAgainst=%{y}<extra></extra>",
           "legendgroup": "Burnley",
           "marker": {
            "color": "#00cc96",
            "symbol": "circle"
           },
           "mode": "markers",
           "name": "Burnley",
           "orientation": "v",
           "showlegend": true,
           "type": "scatter",
           "x": [
            1.4
           ],
           "xaxis": "x",
           "y": [
            1
           ],
           "yaxis": "y"
          },
          {
           "hovertemplate": "Team=Chelsea<br>MatchesPlayed=9<br>MovingAverageFor=%{x}<br>MovingAverageAgainst=%{y}<extra></extra>",
           "legendgroup": "Chelsea",
           "marker": {
            "color": "#ab63fa",
            "symbol": "circle"
           },
           "mode": "markers",
           "name": "Chelsea",
           "orientation": "v",
           "showlegend": true,
           "type": "scatter",
           "x": [
            2.6
           ],
           "xaxis": "x",
           "y": [
            1
           ],
           "yaxis": "y"
          },
          {
           "hovertemplate": "Team=Everton<br>MatchesPlayed=9<br>MovingAverageFor=%{x}<br>MovingAverageAgainst=%{y}<extra></extra>",
           "legendgroup": "Everton",
           "marker": {
            "color": "#FFA15A",
            "symbol": "circle"
           },
           "mode": "markers",
           "name": "Everton",
           "orientation": "v",
           "showlegend": true,
           "type": "scatter",
           "x": [
            1.4
           ],
           "xaxis": "x",
           "y": [
            2.6
           ],
           "yaxis": "y"
          },
          {
           "hovertemplate": "Team=Leicester<br>MatchesPlayed=9<br>MovingAverageFor=%{x}<br>MovingAverageAgainst=%{y}<extra></extra>",
           "legendgroup": "Leicester",
           "marker": {
            "color": "#19d3f3",
            "symbol": "circle"
           },
           "mode": "markers",
           "name": "Leicester",
           "orientation": "v",
           "showlegend": true,
           "type": "scatter",
           "x": [
            1.8
           ],
           "xaxis": "x",
           "y": [
            1.4
           ],
           "yaxis": "y"
          },
          {
           "hovertemplate": "Team=Watford<br>MatchesPlayed=9<br>MovingAverageFor=%{x}<br>MovingAverageAgainst=%{y}<extra></extra>",
           "legendgroup": "Watford",
           "marker": {
            "color": "#FF6692",
            "symbol": "circle"
           },
           "mode": "markers",
           "name": "Watford",
           "orientation": "v",
           "showlegend": true,
           "type": "scatter",
           "x": [
            1.4
           ],
           "xaxis": "x",
           "y": [
            2.2
           ],
           "yaxis": "y"
          },
          {
           "hovertemplate": "Team=Norwich<br>MatchesPlayed=9<br>MovingAverageFor=%{x}<br>MovingAverageAgainst=%{y}<extra></extra>",
           "legendgroup": "Norwich",
           "marker": {
            "color": "#B6E880",
            "symbol": "circle"
           },
           "mode": "markers",
           "name": "Norwich",
           "orientation": "v",
           "showlegend": true,
           "type": "scatter",
           "x": [
            0.6
           ],
           "xaxis": "x",
           "y": [
            1.2
           ],
           "yaxis": "y"
          },
          {
           "hovertemplate": "Team=Newcastle<br>MatchesPlayed=9<br>MovingAverageFor=%{x}<br>MovingAverageAgainst=%{y}<extra></extra>",
           "legendgroup": "Newcastle",
           "marker": {
            "color": "#FF97FF",
            "symbol": "circle"
           },
           "mode": "markers",
           "name": "Newcastle",
           "orientation": "v",
           "showlegend": true,
           "type": "scatter",
           "x": [
            1
           ],
           "xaxis": "x",
           "y": [
            2.2
           ],
           "yaxis": "y"
          },
          {
           "hovertemplate": "Team=Tottenham<br>MatchesPlayed=9<br>MovingAverageFor=%{x}<br>MovingAverageAgainst=%{y}<extra></extra>",
           "legendgroup": "Tottenham",
           "marker": {
            "color": "#FECB52",
            "symbol": "circle"
           },
           "mode": "markers",
           "name": "Tottenham",
           "orientation": "v",
           "showlegend": true,
           "type": "scatter",
           "x": [
            1.8
           ],
           "xaxis": "x",
           "y": [
            1.2
           ],
           "yaxis": "y"
          },
          {
           "hovertemplate": "Team=Liverpool<br>MatchesPlayed=9<br>MovingAverageFor=%{x}<br>MovingAverageAgainst=%{y}<extra></extra>",
           "legendgroup": "Liverpool",
           "marker": {
            "color": "#636efa",
            "symbol": "circle"
           },
           "mode": "markers",
           "name": "Liverpool",
           "orientation": "v",
           "showlegend": true,
           "type": "scatter",
           "x": [
            2.8
           ],
           "xaxis": "x",
           "y": [
            0.6
           ],
           "yaxis": "y"
          },
          {
           "hovertemplate": "Team=Aston Villa<br>MatchesPlayed=9<br>MovingAverageFor=%{x}<br>MovingAverageAgainst=%{y}<extra></extra>",
           "legendgroup": "Aston Villa",
           "marker": {
            "color": "#EF553B",
            "symbol": "circle"
           },
           "mode": "markers",
           "name": "Aston Villa",
           "orientation": "v",
           "showlegend": true,
           "type": "scatter",
           "x": [
            1.4
           ],
           "xaxis": "x",
           "y": [
            2
           ],
           "yaxis": "y"
          },
          {
           "hovertemplate": "Team=Crystal Palace<br>MatchesPlayed=9<br>MovingAverageFor=%{x}<br>MovingAverageAgainst=%{y}<extra></extra>",
           "legendgroup": "Crystal Palace",
           "marker": {
            "color": "#00cc96",
            "symbol": "circle"
           },
           "mode": "markers",
           "name": "Crystal Palace",
           "orientation": "v",
           "showlegend": true,
           "type": "scatter",
           "x": [
            1.8
           ],
           "xaxis": "x",
           "y": [
            1.2
           ],
           "yaxis": "y"
          },
          {
           "hovertemplate": "Team=Leeds<br>MatchesPlayed=9<br>MovingAverageFor=%{x}<br>MovingAverageAgainst=%{y}<extra></extra>",
           "legendgroup": "Leeds",
           "marker": {
            "color": "#ab63fa",
            "symbol": "circle"
           },
           "mode": "markers",
           "name": "Leeds",
           "orientation": "v",
           "showlegend": true,
           "type": "scatter",
           "x": [
            1.2
           ],
           "xaxis": "x",
           "y": [
            1.6
           ],
           "yaxis": "y"
          },
          {
           "hovertemplate": "Team=Man City<br>MatchesPlayed=9<br>MovingAverageFor=%{x}<br>MovingAverageAgainst=%{y}<extra></extra>",
           "legendgroup": "Man City",
           "marker": {
            "color": "#FFA15A",
            "symbol": "circle"
           },
           "mode": "markers",
           "name": "Man City",
           "orientation": "v",
           "showlegend": true,
           "type": "scatter",
           "x": [
            2.6
           ],
           "xaxis": "x",
           "y": [
            0.6
           ],
           "yaxis": "y"
          },
          {
           "hovertemplate": "Team=Brighton<br>MatchesPlayed=9<br>MovingAverageFor=%{x}<br>MovingAverageAgainst=%{y}<extra></extra>",
           "legendgroup": "Brighton",
           "marker": {
            "color": "#19d3f3",
            "symbol": "circle"
           },
           "mode": "markers",
           "name": "Brighton",
           "orientation": "v",
           "showlegend": true,
           "type": "scatter",
           "x": [
            0.8
           ],
           "xaxis": "x",
           "y": [
            1.2
           ],
           "yaxis": "y"
          },
          {
           "hovertemplate": "Team=Southampton<br>MatchesPlayed=9<br>MovingAverageFor=%{x}<br>MovingAverageAgainst=%{y}<extra></extra>",
           "legendgroup": "Southampton",
           "marker": {
            "color": "#FF6692",
            "symbol": "circle"
           },
           "mode": "markers",
           "name": "Southampton",
           "orientation": "v",
           "showlegend": true,
           "type": "scatter",
           "x": [
            1.4
           ],
           "xaxis": "x",
           "y": [
            1.2
           ],
           "yaxis": "y"
          },
          {
           "hovertemplate": "Team=Wolves<br>MatchesPlayed=9<br>MovingAverageFor=%{x}<br>MovingAverageAgainst=%{y}<extra></extra>",
           "legendgroup": "Wolves",
           "marker": {
            "color": "#B6E880",
            "symbol": "circle"
           },
           "mode": "markers",
           "name": "Wolves",
           "orientation": "v",
           "showlegend": true,
           "type": "scatter",
           "x": [
            0.6
           ],
           "xaxis": "x",
           "y": [
            0.4
           ],
           "yaxis": "y"
          },
          {
           "hovertemplate": "Team=Arsenal<br>MatchesPlayed=9<br>MovingAverageFor=%{x}<br>MovingAverageAgainst=%{y}<extra></extra>",
           "legendgroup": "Arsenal",
           "marker": {
            "color": "#FF97FF",
            "symbol": "circle"
           },
           "mode": "markers",
           "name": "Arsenal",
           "orientation": "v",
           "showlegend": true,
           "type": "scatter",
           "x": [
            2.2
           ],
           "xaxis": "x",
           "y": [
            0.2
           ],
           "yaxis": "y"
          },
          {
           "hovertemplate": "Team=West Ham<br>MatchesPlayed=9<br>MovingAverageFor=%{x}<br>MovingAverageAgainst=%{y}<extra></extra>",
           "legendgroup": "West Ham",
           "marker": {
            "color": "#FECB52",
            "symbol": "circle"
           },
           "mode": "markers",
           "name": "West Ham",
           "orientation": "v",
           "showlegend": true,
           "type": "scatter",
           "x": [
            2
           ],
           "xaxis": "x",
           "y": [
            1.6
           ],
           "yaxis": "y"
          }
         ],
         "name": "9"
        },
        {
         "data": [
          {
           "hovertemplate": "Team=Brentford<br>MatchesPlayed=10<br>MovingAverageFor=%{x}<br>MovingAverageAgainst=%{y}<extra></extra>",
           "legendgroup": "Brentford",
           "marker": {
            "color": "#636efa",
            "symbol": "circle"
           },
           "mode": "markers",
           "name": "Brentford",
           "orientation": "v",
           "showlegend": true,
           "type": "scatter",
           "x": [
            1.2
           ],
           "xaxis": "x",
           "y": [
            1
           ],
           "yaxis": "y"
          },
          {
           "hovertemplate": "Team=Man United<br>MatchesPlayed=10<br>MovingAverageFor=%{x}<br>MovingAverageAgainst=%{y}<extra></extra>",
           "legendgroup": "Man United",
           "marker": {
            "color": "#EF553B",
            "symbol": "circle"
           },
           "mode": "markers",
           "name": "Man United",
           "orientation": "v",
           "showlegend": true,
           "type": "scatter",
           "x": [
            1.4
           ],
           "xaxis": "x",
           "y": [
            1.2
           ],
           "yaxis": "y"
          },
          {
           "hovertemplate": "Team=Burnley<br>MatchesPlayed=10<br>MovingAverageFor=%{x}<br>MovingAverageAgainst=%{y}<extra></extra>",
           "legendgroup": "Burnley",
           "marker": {
            "color": "#00cc96",
            "symbol": "circle"
           },
           "mode": "markers",
           "name": "Burnley",
           "orientation": "v",
           "showlegend": true,
           "type": "scatter",
           "x": [
            0.8
           ],
           "xaxis": "x",
           "y": [
            1
           ],
           "yaxis": "y"
          },
          {
           "hovertemplate": "Team=Chelsea<br>MatchesPlayed=10<br>MovingAverageFor=%{x}<br>MovingAverageAgainst=%{y}<extra></extra>",
           "legendgroup": "Chelsea",
           "marker": {
            "color": "#ab63fa",
            "symbol": "circle"
           },
           "mode": "markers",
           "name": "Chelsea",
           "orientation": "v",
           "showlegend": true,
           "type": "scatter",
           "x": [
            1.4
           ],
           "xaxis": "x",
           "y": [
            1.2
           ],
           "yaxis": "y"
          },
          {
           "hovertemplate": "Team=Everton<br>MatchesPlayed=10<br>MovingAverageFor=%{x}<br>MovingAverageAgainst=%{y}<extra></extra>",
           "legendgroup": "Everton",
           "marker": {
            "color": "#FFA15A",
            "symbol": "circle"
           },
           "mode": "markers",
           "name": "Everton",
           "orientation": "v",
           "showlegend": true,
           "type": "scatter",
           "x": [
            1
           ],
           "xaxis": "x",
           "y": [
            1.8
           ],
           "yaxis": "y"
          },
          {
           "hovertemplate": "Team=Leicester<br>MatchesPlayed=10<br>MovingAverageFor=%{x}<br>MovingAverageAgainst=%{y}<extra></extra>",
           "legendgroup": "Leicester",
           "marker": {
            "color": "#19d3f3",
            "symbol": "circle"
           },
           "mode": "markers",
           "name": "Leicester",
           "orientation": "v",
           "showlegend": true,
           "type": "scatter",
           "x": [
            2.2
           ],
           "xaxis": "x",
           "y": [
            1.6
           ],
           "yaxis": "y"
          },
          {
           "hovertemplate": "Team=Watford<br>MatchesPlayed=10<br>MovingAverageFor=%{x}<br>MovingAverageAgainst=%{y}<extra></extra>",
           "legendgroup": "Watford",
           "marker": {
            "color": "#FF6692",
            "symbol": "circle"
           },
           "mode": "markers",
           "name": "Watford",
           "orientation": "v",
           "showlegend": true,
           "type": "scatter",
           "x": [
            1.4
           ],
           "xaxis": "x",
           "y": [
            2.2
           ],
           "yaxis": "y"
          },
          {
           "hovertemplate": "Team=Norwich<br>MatchesPlayed=10<br>MovingAverageFor=%{x}<br>MovingAverageAgainst=%{y}<extra></extra>",
           "legendgroup": "Norwich",
           "marker": {
            "color": "#B6E880",
            "symbol": "circle"
           },
           "mode": "markers",
           "name": "Norwich",
           "orientation": "v",
           "showlegend": true,
           "type": "scatter",
           "x": [
            0.4
           ],
           "xaxis": "x",
           "y": [
            1.8
           ],
           "yaxis": "y"
          },
          {
           "hovertemplate": "Team=Newcastle<br>MatchesPlayed=10<br>MovingAverageFor=%{x}<br>MovingAverageAgainst=%{y}<extra></extra>",
           "legendgroup": "Newcastle",
           "marker": {
            "color": "#FF97FF",
            "symbol": "circle"
           },
           "mode": "markers",
           "name": "Newcastle",
           "orientation": "v",
           "showlegend": true,
           "type": "scatter",
           "x": [
            1.2
           ],
           "xaxis": "x",
           "y": [
            1.8
           ],
           "yaxis": "y"
          },
          {
           "hovertemplate": "Team=Tottenham<br>MatchesPlayed=10<br>MovingAverageFor=%{x}<br>MovingAverageAgainst=%{y}<extra></extra>",
           "legendgroup": "Tottenham",
           "marker": {
            "color": "#FECB52",
            "symbol": "circle"
           },
           "mode": "markers",
           "name": "Tottenham",
           "orientation": "v",
           "showlegend": true,
           "type": "scatter",
           "x": [
            2.4
           ],
           "xaxis": "x",
           "y": [
            0.6
           ],
           "yaxis": "y"
          },
          {
           "hovertemplate": "Team=Liverpool<br>MatchesPlayed=10<br>MovingAverageFor=%{x}<br>MovingAverageAgainst=%{y}<extra></extra>",
           "legendgroup": "Liverpool",
           "marker": {
            "color": "#636efa",
            "symbol": "circle"
           },
           "mode": "markers",
           "name": "Liverpool",
           "orientation": "v",
           "showlegend": true,
           "type": "scatter",
           "x": [
            3
           ],
           "xaxis": "x",
           "y": [
            0.2
           ],
           "yaxis": "y"
          },
          {
           "hovertemplate": "Team=Aston Villa<br>MatchesPlayed=10<br>MovingAverageFor=%{x}<br>MovingAverageAgainst=%{y}<extra></extra>",
           "legendgroup": "Aston Villa",
           "marker": {
            "color": "#EF553B",
            "symbol": "circle"
           },
           "mode": "markers",
           "name": "Aston Villa",
           "orientation": "v",
           "showlegend": true,
           "type": "scatter",
           "x": [
            1.6
           ],
           "xaxis": "x",
           "y": [
            1.6
           ],
           "yaxis": "y"
          },
          {
           "hovertemplate": "Team=Crystal Palace<br>MatchesPlayed=10<br>MovingAverageFor=%{x}<br>MovingAverageAgainst=%{y}<extra></extra>",
           "legendgroup": "Crystal Palace",
           "marker": {
            "color": "#00cc96",
            "symbol": "circle"
           },
           "mode": "markers",
           "name": "Crystal Palace",
           "orientation": "v",
           "showlegend": true,
           "type": "scatter",
           "x": [
            2.2
           ],
           "xaxis": "x",
           "y": [
            1
           ],
           "yaxis": "y"
          },
          {
           "hovertemplate": "Team=Leeds<br>MatchesPlayed=10<br>MovingAverageFor=%{x}<br>MovingAverageAgainst=%{y}<extra></extra>",
           "legendgroup": "Leeds",
           "marker": {
            "color": "#ab63fa",
            "symbol": "circle"
           },
           "mode": "markers",
           "name": "Leeds",
           "orientation": "v",
           "showlegend": true,
           "type": "scatter",
           "x": [
            1.6
           ],
           "xaxis": "x",
           "y": [
            1.6
           ],
           "yaxis": "y"
          },
          {
           "hovertemplate": "Team=Man City<br>MatchesPlayed=10<br>MovingAverageFor=%{x}<br>MovingAverageAgainst=%{y}<extra></extra>",
           "legendgroup": "Man City",
           "marker": {
            "color": "#FFA15A",
            "symbol": "circle"
           },
           "mode": "markers",
           "name": "Man City",
           "orientation": "v",
           "showlegend": true,
           "type": "scatter",
           "x": [
            3.8
           ],
           "xaxis": "x",
           "y": [
            0.8
           ],
           "yaxis": "y"
          },
          {
           "hovertemplate": "Team=Brighton<br>MatchesPlayed=10<br>MovingAverageFor=%{x}<br>MovingAverageAgainst=%{y}<extra></extra>",
           "legendgroup": "Brighton",
           "marker": {
            "color": "#19d3f3",
            "symbol": "circle"
           },
           "mode": "markers",
           "name": "Brighton",
           "orientation": "v",
           "showlegend": true,
           "type": "scatter",
           "x": [
            0.8
           ],
           "xaxis": "x",
           "y": [
            0.6
           ],
           "yaxis": "y"
          },
          {
           "hovertemplate": "Team=Southampton<br>MatchesPlayed=10<br>MovingAverageFor=%{x}<br>MovingAverageAgainst=%{y}<extra></extra>",
           "legendgroup": "Southampton",
           "marker": {
            "color": "#FF6692",
            "symbol": "circle"
           },
           "mode": "markers",
           "name": "Southampton",
           "orientation": "v",
           "showlegend": true,
           "type": "scatter",
           "x": [
            1.8
           ],
           "xaxis": "x",
           "y": [
            1
           ],
           "yaxis": "y"
          },
          {
           "hovertemplate": "Team=Wolves<br>MatchesPlayed=10<br>MovingAverageFor=%{x}<br>MovingAverageAgainst=%{y}<extra></extra>",
           "legendgroup": "Wolves",
           "marker": {
            "color": "#B6E880",
            "symbol": "circle"
           },
           "mode": "markers",
           "name": "Wolves",
           "orientation": "v",
           "showlegend": true,
           "type": "scatter",
           "x": [
            0.8
           ],
           "xaxis": "x",
           "y": [
            0.4
           ],
           "yaxis": "y"
          },
          {
           "hovertemplate": "Team=Arsenal<br>MatchesPlayed=10<br>MovingAverageFor=%{x}<br>MovingAverageAgainst=%{y}<extra></extra>",
           "legendgroup": "Arsenal",
           "marker": {
            "color": "#FF97FF",
            "symbol": "circle"
           },
           "mode": "markers",
           "name": "Arsenal",
           "orientation": "v",
           "showlegend": true,
           "type": "scatter",
           "x": [
            1.8
           ],
           "xaxis": "x",
           "y": [
            0.4
           ],
           "yaxis": "y"
          },
          {
           "hovertemplate": "Team=West Ham<br>MatchesPlayed=10<br>MovingAverageFor=%{x}<br>MovingAverageAgainst=%{y}<extra></extra>",
           "legendgroup": "West Ham",
           "marker": {
            "color": "#FECB52",
            "symbol": "circle"
           },
           "mode": "markers",
           "name": "West Ham",
           "orientation": "v",
           "showlegend": true,
           "type": "scatter",
           "x": [
            2.2
           ],
           "xaxis": "x",
           "y": [
            1.6
           ],
           "yaxis": "y"
          }
         ],
         "name": "10"
        },
        {
         "data": [
          {
           "hovertemplate": "Team=Brentford<br>MatchesPlayed=11<br>MovingAverageFor=%{x}<br>MovingAverageAgainst=%{y}<extra></extra>",
           "legendgroup": "Brentford",
           "marker": {
            "color": "#636efa",
            "symbol": "circle"
           },
           "mode": "markers",
           "name": "Brentford",
           "orientation": "v",
           "showlegend": true,
           "type": "scatter",
           "x": [
            1.2
           ],
           "xaxis": "x",
           "y": [
            1.2
           ],
           "yaxis": "y"
          },
          {
           "hovertemplate": "Team=Man United<br>MatchesPlayed=11<br>MovingAverageFor=%{x}<br>MovingAverageAgainst=%{y}<extra></extra>",
           "legendgroup": "Man United",
           "marker": {
            "color": "#EF553B",
            "symbol": "circle"
           },
           "mode": "markers",
           "name": "Man United",
           "orientation": "v",
           "showlegend": true,
           "type": "scatter",
           "x": [
            1.6
           ],
           "xaxis": "x",
           "y": [
            0.8
           ],
           "yaxis": "y"
          },
          {
           "hovertemplate": "Team=Burnley<br>MatchesPlayed=11<br>MovingAverageFor=%{x}<br>MovingAverageAgainst=%{y}<extra></extra>",
           "legendgroup": "Burnley",
           "marker": {
            "color": "#00cc96",
            "symbol": "circle"
           },
           "mode": "markers",
           "name": "Burnley",
           "orientation": "v",
           "showlegend": true,
           "type": "scatter",
           "x": [
            0.4
           ],
           "xaxis": "x",
           "y": [
            0.4
           ],
           "yaxis": "y"
          },
          {
           "hovertemplate": "Team=Chelsea<br>MatchesPlayed=11<br>MovingAverageFor=%{x}<br>MovingAverageAgainst=%{y}<extra></extra>",
           "legendgroup": "Chelsea",
           "marker": {
            "color": "#ab63fa",
            "symbol": "circle"
           },
           "mode": "markers",
           "name": "Chelsea",
           "orientation": "v",
           "showlegend": true,
           "type": "scatter",
           "x": [
            1.6
           ],
           "xaxis": "x",
           "y": [
            1.4
           ],
           "yaxis": "y"
          },
          {
           "hovertemplate": "Team=Everton<br>MatchesPlayed=11<br>MovingAverageFor=%{x}<br>MovingAverageAgainst=%{y}<extra></extra>",
           "legendgroup": "Everton",
           "marker": {
            "color": "#FFA15A",
            "symbol": "circle"
           },
           "mode": "markers",
           "name": "Everton",
           "orientation": "v",
           "showlegend": true,
           "type": "scatter",
           "x": [
            1.6
           ],
           "xaxis": "x",
           "y": [
            1.8
           ],
           "yaxis": "y"
          },
          {
           "hovertemplate": "Team=Leicester<br>MatchesPlayed=11<br>MovingAverageFor=%{x}<br>MovingAverageAgainst=%{y}<extra></extra>",
           "legendgroup": "Leicester",
           "marker": {
            "color": "#19d3f3",
            "symbol": "circle"
           },
           "mode": "markers",
           "name": "Leicester",
           "orientation": "v",
           "showlegend": true,
           "type": "scatter",
           "x": [
            2.4
           ],
           "xaxis": "x",
           "y": [
            1.2
           ],
           "yaxis": "y"
          },
          {
           "hovertemplate": "Team=Watford<br>MatchesPlayed=11<br>MovingAverageFor=%{x}<br>MovingAverageAgainst=%{y}<extra></extra>",
           "legendgroup": "Watford",
           "marker": {
            "color": "#FF6692",
            "symbol": "circle"
           },
           "mode": "markers",
           "name": "Watford",
           "orientation": "v",
           "showlegend": true,
           "type": "scatter",
           "x": [
            0.6
           ],
           "xaxis": "x",
           "y": [
            2.6
           ],
           "yaxis": "y"
          },
          {
           "hovertemplate": "Team=Norwich<br>MatchesPlayed=11<br>MovingAverageFor=%{x}<br>MovingAverageAgainst=%{y}<extra></extra>",
           "legendgroup": "Norwich",
           "marker": {
            "color": "#B6E880",
            "symbol": "circle"
           },
           "mode": "markers",
           "name": "Norwich",
           "orientation": "v",
           "showlegend": true,
           "type": "scatter",
           "x": [
            0.4
           ],
           "xaxis": "x",
           "y": [
            1.8
           ],
           "yaxis": "y"
          },
          {
           "hovertemplate": "Team=Newcastle<br>MatchesPlayed=11<br>MovingAverageFor=%{x}<br>MovingAverageAgainst=%{y}<extra></extra>",
           "legendgroup": "Newcastle",
           "marker": {
            "color": "#FF97FF",
            "symbol": "circle"
           },
           "mode": "markers",
           "name": "Newcastle",
           "orientation": "v",
           "showlegend": true,
           "type": "scatter",
           "x": [
            0.8
           ],
           "xaxis": "x",
           "y": [
            1.4
           ],
           "yaxis": "y"
          },
          {
           "hovertemplate": "Team=Tottenham<br>MatchesPlayed=11<br>MovingAverageFor=%{x}<br>MovingAverageAgainst=%{y}<extra></extra>",
           "legendgroup": "Tottenham",
           "marker": {
            "color": "#FECB52",
            "symbol": "circle"
           },
           "mode": "markers",
           "name": "Tottenham",
           "orientation": "v",
           "showlegend": true,
           "type": "scatter",
           "x": [
            2.4
           ],
           "xaxis": "x",
           "y": [
            1
           ],
           "yaxis": "y"
          },
          {
           "hovertemplate": "Team=Liverpool<br>MatchesPlayed=11<br>MovingAverageFor=%{x}<br>MovingAverageAgainst=%{y}<extra></extra>",
           "legendgroup": "Liverpool",
           "marker": {
            "color": "#636efa",
            "symbol": "circle"
           },
           "mode": "markers",
           "name": "Liverpool",
           "orientation": "v",
           "showlegend": true,
           "type": "scatter",
           "x": [
            2.6
           ],
           "xaxis": "x",
           "y": [
            0.2
           ],
           "yaxis": "y"
          },
          {
           "hovertemplate": "Team=Aston Villa<br>MatchesPlayed=11<br>MovingAverageFor=%{x}<br>MovingAverageAgainst=%{y}<extra></extra>",
           "legendgroup": "Aston Villa",
           "marker": {
            "color": "#EF553B",
            "symbol": "circle"
           },
           "mode": "markers",
           "name": "Aston Villa",
           "orientation": "v",
           "showlegend": true,
           "type": "scatter",
           "x": [
            1.8
           ],
           "xaxis": "x",
           "y": [
            2.2
           ],
           "yaxis": "y"
          },
          {
           "hovertemplate": "Team=Crystal Palace<br>MatchesPlayed=11<br>MovingAverageFor=%{x}<br>MovingAverageAgainst=%{y}<extra></extra>",
           "legendgroup": "Crystal Palace",
           "marker": {
            "color": "#00cc96",
            "symbol": "circle"
           },
           "mode": "markers",
           "name": "Crystal Palace",
           "orientation": "v",
           "showlegend": true,
           "type": "scatter",
           "x": [
            2.2
           ],
           "xaxis": "x",
           "y": [
            1.6
           ],
           "yaxis": "y"
          },
          {
           "hovertemplate": "Team=Leeds<br>MatchesPlayed=11<br>MovingAverageFor=%{x}<br>MovingAverageAgainst=%{y}<extra></extra>",
           "legendgroup": "Leeds",
           "marker": {
            "color": "#ab63fa",
            "symbol": "circle"
           },
           "mode": "markers",
           "name": "Leeds",
           "orientation": "v",
           "showlegend": true,
           "type": "scatter",
           "x": [
            1.4
           ],
           "xaxis": "x",
           "y": [
            1.6
           ],
           "yaxis": "y"
          },
          {
           "hovertemplate": "Team=Man City<br>MatchesPlayed=11<br>MovingAverageFor=%{x}<br>MovingAverageAgainst=%{y}<extra></extra>",
           "legendgroup": "Man City",
           "marker": {
            "color": "#FFA15A",
            "symbol": "circle"
           },
           "mode": "markers",
           "name": "Man City",
           "orientation": "v",
           "showlegend": true,
           "type": "scatter",
           "x": [
            3.4
           ],
           "xaxis": "x",
           "y": [
            0.8
           ],
           "yaxis": "y"
          },
          {
           "hovertemplate": "Team=Brighton<br>MatchesPlayed=11<br>MovingAverageFor=%{x}<br>MovingAverageAgainst=%{y}<extra></extra>",
           "legendgroup": "Brighton",
           "marker": {
            "color": "#19d3f3",
            "symbol": "circle"
           },
           "mode": "markers",
           "name": "Brighton",
           "orientation": "v",
           "showlegend": true,
           "type": "scatter",
           "x": [
            0.8
           ],
           "xaxis": "x",
           "y": [
            0.6
           ],
           "yaxis": "y"
          },
          {
           "hovertemplate": "Team=Southampton<br>MatchesPlayed=11<br>MovingAverageFor=%{x}<br>MovingAverageAgainst=%{y}<extra></extra>",
           "legendgroup": "Southampton",
           "marker": {
            "color": "#FF6692",
            "symbol": "circle"
           },
           "mode": "markers",
           "name": "Southampton",
           "orientation": "v",
           "showlegend": true,
           "type": "scatter",
           "x": [
            1.8
           ],
           "xaxis": "x",
           "y": [
            1.2
           ],
           "yaxis": "y"
          },
          {
           "hovertemplate": "Team=Wolves<br>MatchesPlayed=11<br>MovingAverageFor=%{x}<br>MovingAverageAgainst=%{y}<extra></extra>",
           "legendgroup": "Wolves",
           "marker": {
            "color": "#B6E880",
            "symbol": "circle"
           },
           "mode": "markers",
           "name": "Wolves",
           "orientation": "v",
           "showlegend": true,
           "type": "scatter",
           "x": [
            0.6
           ],
           "xaxis": "x",
           "y": [
            0.6
           ],
           "yaxis": "y"
          },
          {
           "hovertemplate": "Team=Arsenal<br>MatchesPlayed=11<br>MovingAverageFor=%{x}<br>MovingAverageAgainst=%{y}<extra></extra>",
           "legendgroup": "Arsenal",
           "marker": {
            "color": "#FF97FF",
            "symbol": "circle"
           },
           "mode": "markers",
           "name": "Arsenal",
           "orientation": "v",
           "showlegend": true,
           "type": "scatter",
           "x": [
            1.6
           ],
           "xaxis": "x",
           "y": [
            0.4
           ],
           "yaxis": "y"
          },
          {
           "hovertemplate": "Team=West Ham<br>MatchesPlayed=11<br>MovingAverageFor=%{x}<br>MovingAverageAgainst=%{y}<extra></extra>",
           "legendgroup": "West Ham",
           "marker": {
            "color": "#FECB52",
            "symbol": "circle"
           },
           "mode": "markers",
           "name": "West Ham",
           "orientation": "v",
           "showlegend": true,
           "type": "scatter",
           "x": [
            2
           ],
           "xaxis": "x",
           "y": [
            1.8
           ],
           "yaxis": "y"
          }
         ],
         "name": "11"
        },
        {
         "data": [
          {
           "hovertemplate": "Team=Brentford<br>MatchesPlayed=12<br>MovingAverageFor=%{x}<br>MovingAverageAgainst=%{y}<extra></extra>",
           "legendgroup": "Brentford",
           "marker": {
            "color": "#636efa",
            "symbol": "circle"
           },
           "mode": "markers",
           "name": "Brentford",
           "orientation": "v",
           "showlegend": true,
           "type": "scatter",
           "x": [
            1.2
           ],
           "xaxis": "x",
           "y": [
            1.6
           ],
           "yaxis": "y"
          },
          {
           "hovertemplate": "Team=Man United<br>MatchesPlayed=12<br>MovingAverageFor=%{x}<br>MovingAverageAgainst=%{y}<extra></extra>",
           "legendgroup": "Man United",
           "marker": {
            "color": "#EF553B",
            "symbol": "circle"
           },
           "mode": "markers",
           "name": "Man United",
           "orientation": "v",
           "showlegend": true,
           "type": "scatter",
           "x": [
            1.2
           ],
           "xaxis": "x",
           "y": [
            0.6
           ],
           "yaxis": "y"
          },
          {
           "hovertemplate": "Team=Burnley<br>MatchesPlayed=12<br>MovingAverageFor=%{x}<br>MovingAverageAgainst=%{y}<extra></extra>",
           "legendgroup": "Burnley",
           "marker": {
            "color": "#00cc96",
            "symbol": "circle"
           },
           "mode": "markers",
           "name": "Burnley",
           "orientation": "v",
           "showlegend": true,
           "type": "scatter",
           "x": [
            0.4
           ],
           "xaxis": "x",
           "y": [
            0.8
           ],
           "yaxis": "y"
          },
          {
           "hovertemplate": "Team=Chelsea<br>MatchesPlayed=12<br>MovingAverageFor=%{x}<br>MovingAverageAgainst=%{y}<extra></extra>",
           "legendgroup": "Chelsea",
           "marker": {
            "color": "#ab63fa",
            "symbol": "circle"
           },
           "mode": "markers",
           "name": "Chelsea",
           "orientation": "v",
           "showlegend": true,
           "type": "scatter",
           "x": [
            1.8
           ],
           "xaxis": "x",
           "y": [
            1.2
           ],
           "yaxis": "y"
          },
          {
           "hovertemplate": "Team=Everton<br>MatchesPlayed=12<br>MovingAverageFor=%{x}<br>MovingAverageAgainst=%{y}<extra></extra>",
           "legendgroup": "Everton",
           "marker": {
            "color": "#FFA15A",
            "symbol": "circle"
           },
           "mode": "markers",
           "name": "Everton",
           "orientation": "v",
           "showlegend": true,
           "type": "scatter",
           "x": [
            1.4
           ],
           "xaxis": "x",
           "y": [
            1.2
           ],
           "yaxis": "y"
          },
          {
           "hovertemplate": "Team=Leicester<br>MatchesPlayed=12<br>MovingAverageFor=%{x}<br>MovingAverageAgainst=%{y}<extra></extra>",
           "legendgroup": "Leicester",
           "marker": {
            "color": "#19d3f3",
            "symbol": "circle"
           },
           "mode": "markers",
           "name": "Leicester",
           "orientation": "v",
           "showlegend": true,
           "type": "scatter",
           "x": [
            2
           ],
           "xaxis": "x",
           "y": [
            1.2
           ],
           "yaxis": "y"
          },
          {
           "hovertemplate": "Team=Watford<br>MatchesPlayed=12<br>MovingAverageFor=%{x}<br>MovingAverageAgainst=%{y}<extra></extra>",
           "legendgroup": "Watford",
           "marker": {
            "color": "#FF6692",
            "symbol": "circle"
           },
           "mode": "markers",
           "name": "Watford",
           "orientation": "v",
           "showlegend": true,
           "type": "scatter",
           "x": [
            0.4
           ],
           "xaxis": "x",
           "y": [
            2.6
           ],
           "yaxis": "y"
          },
          {
           "hovertemplate": "Team=Norwich<br>MatchesPlayed=12<br>MovingAverageFor=%{x}<br>MovingAverageAgainst=%{y}<extra></extra>",
           "legendgroup": "Norwich",
           "marker": {
            "color": "#B6E880",
            "symbol": "circle"
           },
           "mode": "markers",
           "name": "Norwich",
           "orientation": "v",
           "showlegend": true,
           "type": "scatter",
           "x": [
            0.6
           ],
           "xaxis": "x",
           "y": [
            2
           ],
           "yaxis": "y"
          },
          {
           "hovertemplate": "Team=Newcastle<br>MatchesPlayed=12<br>MovingAverageFor=%{x}<br>MovingAverageAgainst=%{y}<extra></extra>",
           "legendgroup": "Newcastle",
           "marker": {
            "color": "#FF97FF",
            "symbol": "circle"
           },
           "mode": "markers",
           "name": "Newcastle",
           "orientation": "v",
           "showlegend": true,
           "type": "scatter",
           "x": [
            1.2
           ],
           "xaxis": "x",
           "y": [
            1.4
           ],
           "yaxis": "y"
          },
          {
           "hovertemplate": "Team=Tottenham<br>MatchesPlayed=12<br>MovingAverageFor=%{x}<br>MovingAverageAgainst=%{y}<extra></extra>",
           "legendgroup": "Tottenham",
           "marker": {
            "color": "#FECB52",
            "symbol": "circle"
           },
           "mode": "markers",
           "name": "Tottenham",
           "orientation": "v",
           "showlegend": true,
           "type": "scatter",
           "x": [
            2
           ],
           "xaxis": "x",
           "y": [
            1.4
           ],
           "yaxis": "y"
          },
          {
           "hovertemplate": "Team=Liverpool<br>MatchesPlayed=12<br>MovingAverageFor=%{x}<br>MovingAverageAgainst=%{y}<extra></extra>",
           "legendgroup": "Liverpool",
           "marker": {
            "color": "#636efa",
            "symbol": "circle"
           },
           "mode": "markers",
           "name": "Liverpool",
           "orientation": "v",
           "showlegend": true,
           "type": "scatter",
           "x": [
            2.4
           ],
           "xaxis": "x",
           "y": [
            0.4
           ],
           "yaxis": "y"
          },
          {
           "hovertemplate": "Team=Aston Villa<br>MatchesPlayed=12<br>MovingAverageFor=%{x}<br>MovingAverageAgainst=%{y}<extra></extra>",
           "legendgroup": "Aston Villa",
           "marker": {
            "color": "#EF553B",
            "symbol": "circle"
           },
           "mode": "markers",
           "name": "Aston Villa",
           "orientation": "v",
           "showlegend": true,
           "type": "scatter",
           "x": [
            1.6
           ],
           "xaxis": "x",
           "y": [
            2
           ],
           "yaxis": "y"
          },
          {
           "hovertemplate": "Team=Crystal Palace<br>MatchesPlayed=12<br>MovingAverageFor=%{x}<br>MovingAverageAgainst=%{y}<extra></extra>",
           "legendgroup": "Crystal Palace",
           "marker": {
            "color": "#00cc96",
            "symbol": "circle"
           },
           "mode": "markers",
           "name": "Crystal Palace",
           "orientation": "v",
           "showlegend": true,
           "type": "scatter",
           "x": [
            2.2
           ],
           "xaxis": "x",
           "y": [
            1.8
           ],
           "yaxis": "y"
          },
          {
           "hovertemplate": "Team=Leeds<br>MatchesPlayed=12<br>MovingAverageFor=%{x}<br>MovingAverageAgainst=%{y}<extra></extra>",
           "legendgroup": "Leeds",
           "marker": {
            "color": "#ab63fa",
            "symbol": "circle"
           },
           "mode": "markers",
           "name": "Leeds",
           "orientation": "v",
           "showlegend": true,
           "type": "scatter",
           "x": [
            1.6
           ],
           "xaxis": "x",
           "y": [
            2.4
           ],
           "yaxis": "y"
          },
          {
           "hovertemplate": "Team=Man City<br>MatchesPlayed=12<br>MovingAverageFor=%{x}<br>MovingAverageAgainst=%{y}<extra></extra>",
           "legendgroup": "Man City",
           "marker": {
            "color": "#FFA15A",
            "symbol": "circle"
           },
           "mode": "markers",
           "name": "Man City",
           "orientation": "v",
           "showlegend": true,
           "type": "scatter",
           "x": [
            3.4
           ],
           "xaxis": "x",
           "y": [
            0.6
           ],
           "yaxis": "y"
          },
          {
           "hovertemplate": "Team=Brighton<br>MatchesPlayed=12<br>MovingAverageFor=%{x}<br>MovingAverageAgainst=%{y}<extra></extra>",
           "legendgroup": "Brighton",
           "marker": {
            "color": "#19d3f3",
            "symbol": "circle"
           },
           "mode": "markers",
           "name": "Brighton",
           "orientation": "v",
           "showlegend": true,
           "type": "scatter",
           "x": [
            0.8
           ],
           "xaxis": "x",
           "y": [
            1.2
           ],
           "yaxis": "y"
          },
          {
           "hovertemplate": "Team=Southampton<br>MatchesPlayed=12<br>MovingAverageFor=%{x}<br>MovingAverageAgainst=%{y}<extra></extra>",
           "legendgroup": "Southampton",
           "marker": {
            "color": "#FF6692",
            "symbol": "circle"
           },
           "mode": "markers",
           "name": "Southampton",
           "orientation": "v",
           "showlegend": true,
           "type": "scatter",
           "x": [
            1.8
           ],
           "xaxis": "x",
           "y": [
            0.8
           ],
           "yaxis": "y"
          },
          {
           "hovertemplate": "Team=Wolves<br>MatchesPlayed=12<br>MovingAverageFor=%{x}<br>MovingAverageAgainst=%{y}<extra></extra>",
           "legendgroup": "Wolves",
           "marker": {
            "color": "#B6E880",
            "symbol": "circle"
           },
           "mode": "markers",
           "name": "Wolves",
           "orientation": "v",
           "showlegend": true,
           "type": "scatter",
           "x": [
            1
           ],
           "xaxis": "x",
           "y": [
            0.8
           ],
           "yaxis": "y"
          },
          {
           "hovertemplate": "Team=Arsenal<br>MatchesPlayed=12<br>MovingAverageFor=%{x}<br>MovingAverageAgainst=%{y}<extra></extra>",
           "legendgroup": "Arsenal",
           "marker": {
            "color": "#FF97FF",
            "symbol": "circle"
           },
           "mode": "markers",
           "name": "Arsenal",
           "orientation": "v",
           "showlegend": true,
           "type": "scatter",
           "x": [
            1.6
           ],
           "xaxis": "x",
           "y": [
            0.6
           ],
           "yaxis": "y"
          },
          {
           "hovertemplate": "Team=West Ham<br>MatchesPlayed=12<br>MovingAverageFor=%{x}<br>MovingAverageAgainst=%{y}<extra></extra>",
           "legendgroup": "West Ham",
           "marker": {
            "color": "#FECB52",
            "symbol": "circle"
           },
           "mode": "markers",
           "name": "West Ham",
           "orientation": "v",
           "showlegend": true,
           "type": "scatter",
           "x": [
            2
           ],
           "xaxis": "x",
           "y": [
            1.6
           ],
           "yaxis": "y"
          }
         ],
         "name": "12"
        },
        {
         "data": [
          {
           "hovertemplate": "Team=Brentford<br>MatchesPlayed=13<br>MovingAverageFor=%{x}<br>MovingAverageAgainst=%{y}<extra></extra>",
           "legendgroup": "Brentford",
           "marker": {
            "color": "#636efa",
            "symbol": "circle"
           },
           "mode": "markers",
           "name": "Brentford",
           "orientation": "v",
           "showlegend": true,
           "type": "scatter",
           "x": [
            0.8
           ],
           "xaxis": "x",
           "y": [
            1.4
           ],
           "yaxis": "y"
          },
          {
           "hovertemplate": "Team=Man United<br>MatchesPlayed=13<br>MovingAverageFor=%{x}<br>MovingAverageAgainst=%{y}<extra></extra>",
           "legendgroup": "Man United",
           "marker": {
            "color": "#EF553B",
            "symbol": "circle"
           },
           "mode": "markers",
           "name": "Man United",
           "orientation": "v",
           "showlegend": true,
           "type": "scatter",
           "x": [
            1.4
           ],
           "xaxis": "x",
           "y": [
            0.6
           ],
           "yaxis": "y"
          },
          {
           "hovertemplate": "Team=Burnley<br>MatchesPlayed=13<br>MovingAverageFor=%{x}<br>MovingAverageAgainst=%{y}<extra></extra>",
           "legendgroup": "Burnley",
           "marker": {
            "color": "#00cc96",
            "symbol": "circle"
           },
           "mode": "markers",
           "name": "Burnley",
           "orientation": "v",
           "showlegend": true,
           "type": "scatter",
           "x": [
            0.4
           ],
           "xaxis": "x",
           "y": [
            1.6
           ],
           "yaxis": "y"
          },
          {
           "hovertemplate": "Team=Chelsea<br>MatchesPlayed=13<br>MovingAverageFor=%{x}<br>MovingAverageAgainst=%{y}<extra></extra>",
           "legendgroup": "Chelsea",
           "marker": {
            "color": "#ab63fa",
            "symbol": "circle"
           },
           "mode": "markers",
           "name": "Chelsea",
           "orientation": "v",
           "showlegend": true,
           "type": "scatter",
           "x": [
            1.4
           ],
           "xaxis": "x",
           "y": [
            0.8
           ],
           "yaxis": "y"
          },
          {
           "hovertemplate": "Team=Everton<br>MatchesPlayed=13<br>MovingAverageFor=%{x}<br>MovingAverageAgainst=%{y}<extra></extra>",
           "legendgroup": "Everton",
           "marker": {
            "color": "#FFA15A",
            "symbol": "circle"
           },
           "mode": "markers",
           "name": "Everton",
           "orientation": "v",
           "showlegend": true,
           "type": "scatter",
           "x": [
            1
           ],
           "xaxis": "x",
           "y": [
            1.2
           ],
           "yaxis": "y"
          },
          {
           "hovertemplate": "Team=Leicester<br>MatchesPlayed=13<br>MovingAverageFor=%{x}<br>MovingAverageAgainst=%{y}<extra></extra>",
           "legendgroup": "Leicester",
           "marker": {
            "color": "#19d3f3",
            "symbol": "circle"
           },
           "mode": "markers",
           "name": "Leicester",
           "orientation": "v",
           "showlegend": true,
           "type": "scatter",
           "x": [
            1.4
           ],
           "xaxis": "x",
           "y": [
            1.2
           ],
           "yaxis": "y"
          },
          {
           "hovertemplate": "Team=Watford<br>MatchesPlayed=13<br>MovingAverageFor=%{x}<br>MovingAverageAgainst=%{y}<extra></extra>",
           "legendgroup": "Watford",
           "marker": {
            "color": "#FF6692",
            "symbol": "circle"
           },
           "mode": "markers",
           "name": "Watford",
           "orientation": "v",
           "showlegend": true,
           "type": "scatter",
           "x": [
            0.4
           ],
           "xaxis": "x",
           "y": [
            2.8
           ],
           "yaxis": "y"
          },
          {
           "hovertemplate": "Team=Norwich<br>MatchesPlayed=13<br>MovingAverageFor=%{x}<br>MovingAverageAgainst=%{y}<extra></extra>",
           "legendgroup": "Norwich",
           "marker": {
            "color": "#B6E880",
            "symbol": "circle"
           },
           "mode": "markers",
           "name": "Norwich",
           "orientation": "v",
           "showlegend": true,
           "type": "scatter",
           "x": [
            0.6
           ],
           "xaxis": "x",
           "y": [
            2.6
           ],
           "yaxis": "y"
          },
          {
           "hovertemplate": "Team=Newcastle<br>MatchesPlayed=13<br>MovingAverageFor=%{x}<br>MovingAverageAgainst=%{y}<extra></extra>",
           "legendgroup": "Newcastle",
           "marker": {
            "color": "#FF97FF",
            "symbol": "circle"
           },
           "mode": "markers",
           "name": "Newcastle",
           "orientation": "v",
           "showlegend": true,
           "type": "scatter",
           "x": [
            1.2
           ],
           "xaxis": "x",
           "y": [
            1.4
           ],
           "yaxis": "y"
          },
          {
           "hovertemplate": "Team=Tottenham<br>MatchesPlayed=13<br>MovingAverageFor=%{x}<br>MovingAverageAgainst=%{y}<extra></extra>",
           "legendgroup": "Tottenham",
           "marker": {
            "color": "#FECB52",
            "symbol": "circle"
           },
           "mode": "markers",
           "name": "Tottenham",
           "orientation": "v",
           "showlegend": true,
           "type": "scatter",
           "x": [
            2.4
           ],
           "xaxis": "x",
           "y": [
            1.4
           ],
           "yaxis": "y"
          },
          {
           "hovertemplate": "Team=Liverpool<br>MatchesPlayed=13<br>MovingAverageFor=%{x}<br>MovingAverageAgainst=%{y}<extra></extra>",
           "legendgroup": "Liverpool",
           "marker": {
            "color": "#636efa",
            "symbol": "circle"
           },
           "mode": "markers",
           "name": "Liverpool",
           "orientation": "v",
           "showlegend": true,
           "type": "scatter",
           "x": [
            3.4
           ],
           "xaxis": "x",
           "y": [
            0.4
           ],
           "yaxis": "y"
          },
          {
           "hovertemplate": "Team=Aston Villa<br>MatchesPlayed=13<br>MovingAverageFor=%{x}<br>MovingAverageAgainst=%{y}<extra></extra>",
           "legendgroup": "Aston Villa",
           "marker": {
            "color": "#EF553B",
            "symbol": "circle"
           },
           "mode": "markers",
           "name": "Aston Villa",
           "orientation": "v",
           "showlegend": true,
           "type": "scatter",
           "x": [
            2
           ],
           "xaxis": "x",
           "y": [
            1.8
           ],
           "yaxis": "y"
          },
          {
           "hovertemplate": "Team=Crystal Palace<br>MatchesPlayed=13<br>MovingAverageFor=%{x}<br>MovingAverageAgainst=%{y}<extra></extra>",
           "legendgroup": "Crystal Palace",
           "marker": {
            "color": "#00cc96",
            "symbol": "circle"
           },
           "mode": "markers",
           "name": "Crystal Palace",
           "orientation": "v",
           "showlegend": true,
           "type": "scatter",
           "x": [
            1.6
           ],
           "xaxis": "x",
           "y": [
            1.8
           ],
           "yaxis": "y"
          },
          {
           "hovertemplate": "Team=Leeds<br>MatchesPlayed=13<br>MovingAverageFor=%{x}<br>MovingAverageAgainst=%{y}<extra></extra>",
           "legendgroup": "Leeds",
           "marker": {
            "color": "#ab63fa",
            "symbol": "circle"
           },
           "mode": "markers",
           "name": "Leeds",
           "orientation": "v",
           "showlegend": true,
           "type": "scatter",
           "x": [
            1.2
           ],
           "xaxis": "x",
           "y": [
            2.8
           ],
           "yaxis": "y"
          },
          {
           "hovertemplate": "Team=Man City<br>MatchesPlayed=13<br>MovingAverageFor=%{x}<br>MovingAverageAgainst=%{y}<extra></extra>",
           "legendgroup": "Man City",
           "marker": {
            "color": "#FFA15A",
            "symbol": "circle"
           },
           "mode": "markers",
           "name": "Man City",
           "orientation": "v",
           "showlegend": true,
           "type": "scatter",
           "x": [
            3.6
           ],
           "xaxis": "x",
           "y": [
            1.2
           ],
           "yaxis": "y"
          },
          {
           "hovertemplate": "Team=Brighton<br>MatchesPlayed=13<br>MovingAverageFor=%{x}<br>MovingAverageAgainst=%{y}<extra></extra>",
           "legendgroup": "Brighton",
           "marker": {
            "color": "#19d3f3",
            "symbol": "circle"
           },
           "mode": "markers",
           "name": "Brighton",
           "orientation": "v",
           "showlegend": true,
           "type": "scatter",
           "x": [
            0.8
           ],
           "xaxis": "x",
           "y": [
            1.4
           ],
           "yaxis": "y"
          },
          {
           "hovertemplate": "Team=Southampton<br>MatchesPlayed=13<br>MovingAverageFor=%{x}<br>MovingAverageAgainst=%{y}<extra></extra>",
           "legendgroup": "Southampton",
           "marker": {
            "color": "#FF6692",
            "symbol": "circle"
           },
           "mode": "markers",
           "name": "Southampton",
           "orientation": "v",
           "showlegend": true,
           "type": "scatter",
           "x": [
            2
           ],
           "xaxis": "x",
           "y": [
            0.6
           ],
           "yaxis": "y"
          },
          {
           "hovertemplate": "Team=Wolves<br>MatchesPlayed=13<br>MovingAverageFor=%{x}<br>MovingAverageAgainst=%{y}<extra></extra>",
           "legendgroup": "Wolves",
           "marker": {
            "color": "#B6E880",
            "symbol": "circle"
           },
           "mode": "markers",
           "name": "Wolves",
           "orientation": "v",
           "showlegend": true,
           "type": "scatter",
           "x": [
            1
           ],
           "xaxis": "x",
           "y": [
            1
           ],
           "yaxis": "y"
          },
          {
           "hovertemplate": "Team=Arsenal<br>MatchesPlayed=13<br>MovingAverageFor=%{x}<br>MovingAverageAgainst=%{y}<extra></extra>",
           "legendgroup": "Arsenal",
           "marker": {
            "color": "#FF97FF",
            "symbol": "circle"
           },
           "mode": "markers",
           "name": "Arsenal",
           "orientation": "v",
           "showlegend": true,
           "type": "scatter",
           "x": [
            1.4
           ],
           "xaxis": "x",
           "y": [
            0.8
           ],
           "yaxis": "y"
          },
          {
           "hovertemplate": "Team=West Ham<br>MatchesPlayed=13<br>MovingAverageFor=%{x}<br>MovingAverageAgainst=%{y}<extra></extra>",
           "legendgroup": "West Ham",
           "marker": {
            "color": "#FECB52",
            "symbol": "circle"
           },
           "mode": "markers",
           "name": "West Ham",
           "orientation": "v",
           "showlegend": true,
           "type": "scatter",
           "x": [
            1.6
           ],
           "xaxis": "x",
           "y": [
            1.4
           ],
           "yaxis": "y"
          }
         ],
         "name": "13"
        },
        {
         "data": [
          {
           "hovertemplate": "Team=Brentford<br>MatchesPlayed=14<br>MovingAverageFor=%{x}<br>MovingAverageAgainst=%{y}<extra></extra>",
           "legendgroup": "Brentford",
           "marker": {
            "color": "#636efa",
            "symbol": "circle"
           },
           "mode": "markers",
           "name": "Brentford",
           "orientation": "v",
           "showlegend": true,
           "type": "scatter",
           "x": [
            0.8
           ],
           "xaxis": "x",
           "y": [
            1.6
           ],
           "yaxis": "y"
          },
          {
           "hovertemplate": "Team=Man United<br>MatchesPlayed=14<br>MovingAverageFor=%{x}<br>MovingAverageAgainst=%{y}<extra></extra>",
           "legendgroup": "Man United",
           "marker": {
            "color": "#EF553B",
            "symbol": "circle"
           },
           "mode": "markers",
           "name": "Man United",
           "orientation": "v",
           "showlegend": true,
           "type": "scatter",
           "x": [
            0.8
           ],
           "xaxis": "x",
           "y": [
            0.4
           ],
           "yaxis": "y"
          },
          {
           "hovertemplate": "Team=Burnley<br>MatchesPlayed=14<br>MovingAverageFor=%{x}<br>MovingAverageAgainst=%{y}<extra></extra>",
           "legendgroup": "Burnley",
           "marker": {
            "color": "#00cc96",
            "symbol": "circle"
           },
           "mode": "markers",
           "name": "Burnley",
           "orientation": "v",
           "showlegend": true,
           "type": "scatter",
           "x": [
            0.2
           ],
           "xaxis": "x",
           "y": [
            1.8
           ],
           "yaxis": "y"
          },
          {
           "hovertemplate": "Team=Chelsea<br>MatchesPlayed=14<br>MovingAverageFor=%{x}<br>MovingAverageAgainst=%{y}<extra></extra>",
           "legendgroup": "Chelsea",
           "marker": {
            "color": "#ab63fa",
            "symbol": "circle"
           },
           "mode": "markers",
           "name": "Chelsea",
           "orientation": "v",
           "showlegend": true,
           "type": "scatter",
           "x": [
            1.4
           ],
           "xaxis": "x",
           "y": [
            1.4
           ],
           "yaxis": "y"
          },
          {
           "hovertemplate": "Team=Everton<br>MatchesPlayed=14<br>MovingAverageFor=%{x}<br>MovingAverageAgainst=%{y}<extra></extra>",
           "legendgroup": "Everton",
           "marker": {
            "color": "#FFA15A",
            "symbol": "circle"
           },
           "mode": "markers",
           "name": "Everton",
           "orientation": "v",
           "showlegend": true,
           "type": "scatter",
           "x": [
            0.8
           ],
           "xaxis": "x",
           "y": [
            0.6
           ],
           "yaxis": "y"
          },
          {
           "hovertemplate": "Team=Leicester<br>MatchesPlayed=14<br>MovingAverageFor=%{x}<br>MovingAverageAgainst=%{y}<extra></extra>",
           "legendgroup": "Leicester",
           "marker": {
            "color": "#19d3f3",
            "symbol": "circle"
           },
           "mode": "markers",
           "name": "Leicester",
           "orientation": "v",
           "showlegend": true,
           "type": "scatter",
           "x": [
            1.6
           ],
           "xaxis": "x",
           "y": [
            1.4
           ],
           "yaxis": "y"
          },
          {
           "hovertemplate": "Team=Watford<br>MatchesPlayed=14<br>MovingAverageFor=%{x}<br>MovingAverageAgainst=%{y}<extra></extra>",
           "legendgroup": "Watford",
           "marker": {
            "color": "#FF6692",
            "symbol": "circle"
           },
           "mode": "markers",
           "name": "Watford",
           "orientation": "v",
           "showlegend": true,
           "type": "scatter",
           "x": [
            0.6
           ],
           "xaxis": "x",
           "y": [
            2.6
           ],
           "yaxis": "y"
          },
          {
           "hovertemplate": "Team=Norwich<br>MatchesPlayed=14<br>MovingAverageFor=%{x}<br>MovingAverageAgainst=%{y}<extra></extra>",
           "legendgroup": "Norwich",
           "marker": {
            "color": "#B6E880",
            "symbol": "circle"
           },
           "mode": "markers",
           "name": "Norwich",
           "orientation": "v",
           "showlegend": true,
           "type": "scatter",
           "x": [
            0.8
           ],
           "xaxis": "x",
           "y": [
            2.8
           ],
           "yaxis": "y"
          },
          {
           "hovertemplate": "Team=Newcastle<br>MatchesPlayed=14<br>MovingAverageFor=%{x}<br>MovingAverageAgainst=%{y}<extra></extra>",
           "legendgroup": "Newcastle",
           "marker": {
            "color": "#FF97FF",
            "symbol": "circle"
           },
           "mode": "markers",
           "name": "Newcastle",
           "orientation": "v",
           "showlegend": true,
           "type": "scatter",
           "x": [
            1.6
           ],
           "xaxis": "x",
           "y": [
            0.8
           ],
           "yaxis": "y"
          },
          {
           "hovertemplate": "Team=Tottenham<br>MatchesPlayed=14<br>MovingAverageFor=%{x}<br>MovingAverageAgainst=%{y}<extra></extra>",
           "legendgroup": "Tottenham",
           "marker": {
            "color": "#FECB52",
            "symbol": "circle"
           },
           "mode": "markers",
           "name": "Tottenham",
           "orientation": "v",
           "showlegend": true,
           "type": "scatter",
           "x": [
            2.6
           ],
           "xaxis": "x",
           "y": [
            1.2
           ],
           "yaxis": "y"
          },
          {
           "hovertemplate": "Team=Liverpool<br>MatchesPlayed=14<br>MovingAverageFor=%{x}<br>MovingAverageAgainst=%{y}<extra></extra>",
           "legendgroup": "Liverpool",
           "marker": {
            "color": "#636efa",
            "symbol": "circle"
           },
           "mode": "markers",
           "name": "Liverpool",
           "orientation": "v",
           "showlegend": true,
           "type": "scatter",
           "x": [
            3
           ],
           "xaxis": "x",
           "y": [
            0.2
           ],
           "yaxis": "y"
          },
          {
           "hovertemplate": "Team=Aston Villa<br>MatchesPlayed=14<br>MovingAverageFor=%{x}<br>MovingAverageAgainst=%{y}<extra></extra>",
           "legendgroup": "Aston Villa",
           "marker": {
            "color": "#EF553B",
            "symbol": "circle"
           },
           "mode": "markers",
           "name": "Aston Villa",
           "orientation": "v",
           "showlegend": true,
           "type": "scatter",
           "x": [
            1.8
           ],
           "xaxis": "x",
           "y": [
            1.4
           ],
           "yaxis": "y"
          },
          {
           "hovertemplate": "Team=Crystal Palace<br>MatchesPlayed=14<br>MovingAverageFor=%{x}<br>MovingAverageAgainst=%{y}<extra></extra>",
           "legendgroup": "Crystal Palace",
           "marker": {
            "color": "#00cc96",
            "symbol": "circle"
           },
           "mode": "markers",
           "name": "Crystal Palace",
           "orientation": "v",
           "showlegend": true,
           "type": "scatter",
           "x": [
            1.4
           ],
           "xaxis": "x",
           "y": [
            1.6
           ],
           "yaxis": "y"
          },
          {
           "hovertemplate": "Team=Leeds<br>MatchesPlayed=14<br>MovingAverageFor=%{x}<br>MovingAverageAgainst=%{y}<extra></extra>",
           "legendgroup": "Leeds",
           "marker": {
            "color": "#ab63fa",
            "symbol": "circle"
           },
           "mode": "markers",
           "name": "Leeds",
           "orientation": "v",
           "showlegend": true,
           "type": "scatter",
           "x": [
            1
           ],
           "xaxis": "x",
           "y": [
            2.6
           ],
           "yaxis": "y"
          },
          {
           "hovertemplate": "Team=Man City<br>MatchesPlayed=14<br>MovingAverageFor=%{x}<br>MovingAverageAgainst=%{y}<extra></extra>",
           "legendgroup": "Man City",
           "marker": {
            "color": "#FFA15A",
            "symbol": "circle"
           },
           "mode": "markers",
           "name": "Man City",
           "orientation": "v",
           "showlegend": true,
           "type": "scatter",
           "x": [
            3
           ],
           "xaxis": "x",
           "y": [
            1.4
           ],
           "yaxis": "y"
          },
          {
           "hovertemplate": "Team=Brighton<br>MatchesPlayed=14<br>MovingAverageFor=%{x}<br>MovingAverageAgainst=%{y}<extra></extra>",
           "legendgroup": "Brighton",
           "marker": {
            "color": "#19d3f3",
            "symbol": "circle"
           },
           "mode": "markers",
           "name": "Brighton",
           "orientation": "v",
           "showlegend": true,
           "type": "scatter",
           "x": [
            0.4
           ],
           "xaxis": "x",
           "y": [
            1.8
           ],
           "yaxis": "y"
          },
          {
           "hovertemplate": "Team=Southampton<br>MatchesPlayed=14<br>MovingAverageFor=%{x}<br>MovingAverageAgainst=%{y}<extra></extra>",
           "legendgroup": "Southampton",
           "marker": {
            "color": "#FF6692",
            "symbol": "circle"
           },
           "mode": "markers",
           "name": "Southampton",
           "orientation": "v",
           "showlegend": true,
           "type": "scatter",
           "x": [
            2
           ],
           "xaxis": "x",
           "y": [
            0.8
           ],
           "yaxis": "y"
          },
          {
           "hovertemplate": "Team=Wolves<br>MatchesPlayed=14<br>MovingAverageFor=%{x}<br>MovingAverageAgainst=%{y}<extra></extra>",
           "legendgroup": "Wolves",
           "marker": {
            "color": "#B6E880",
            "symbol": "circle"
           },
           "mode": "markers",
           "name": "Wolves",
           "orientation": "v",
           "showlegend": true,
           "type": "scatter",
           "x": [
            1.8
           ],
           "xaxis": "x",
           "y": [
            1
           ],
           "yaxis": "y"
          },
          {
           "hovertemplate": "Team=Arsenal<br>MatchesPlayed=14<br>MovingAverageFor=%{x}<br>MovingAverageAgainst=%{y}<extra></extra>",
           "legendgroup": "Arsenal",
           "marker": {
            "color": "#FF97FF",
            "symbol": "circle"
           },
           "mode": "markers",
           "name": "Arsenal",
           "orientation": "v",
           "showlegend": true,
           "type": "scatter",
           "x": [
            1.4
           ],
           "xaxis": "x",
           "y": [
            0.8
           ],
           "yaxis": "y"
          },
          {
           "hovertemplate": "Team=West Ham<br>MatchesPlayed=14<br>MovingAverageFor=%{x}<br>MovingAverageAgainst=%{y}<extra></extra>",
           "legendgroup": "West Ham",
           "marker": {
            "color": "#FECB52",
            "symbol": "circle"
           },
           "mode": "markers",
           "name": "West Ham",
           "orientation": "v",
           "showlegend": true,
           "type": "scatter",
           "x": [
            1.4
           ],
           "xaxis": "x",
           "y": [
            0.8
           ],
           "yaxis": "y"
          }
         ],
         "name": "14"
        },
        {
         "data": [
          {
           "hovertemplate": "Team=Brentford<br>MatchesPlayed=15<br>MovingAverageFor=%{x}<br>MovingAverageAgainst=%{y}<extra></extra>",
           "legendgroup": "Brentford",
           "marker": {
            "color": "#636efa",
            "symbol": "circle"
           },
           "mode": "markers",
           "name": "Brentford",
           "orientation": "v",
           "showlegend": true,
           "type": "scatter",
           "x": [
            0.8
           ],
           "xaxis": "x",
           "y": [
            1.4
           ],
           "yaxis": "y"
          },
          {
           "hovertemplate": "Team=Man United<br>MatchesPlayed=15<br>MovingAverageFor=%{x}<br>MovingAverageAgainst=%{y}<extra></extra>",
           "legendgroup": "Man United",
           "marker": {
            "color": "#EF553B",
            "symbol": "circle"
           },
           "mode": "markers",
           "name": "Man United",
           "orientation": "v",
           "showlegend": true,
           "type": "scatter",
           "x": [
            1.4
           ],
           "xaxis": "x",
           "y": [
            0.6
           ],
           "yaxis": "y"
          },
          {
           "hovertemplate": "Team=Burnley<br>MatchesPlayed=15<br>MovingAverageFor=%{x}<br>MovingAverageAgainst=%{y}<extra></extra>",
           "legendgroup": "Burnley",
           "marker": {
            "color": "#00cc96",
            "symbol": "circle"
           },
           "mode": "markers",
           "name": "Burnley",
           "orientation": "v",
           "showlegend": true,
           "type": "scatter",
           "x": [
            0.8
           ],
           "xaxis": "x",
           "y": [
            2
           ],
           "yaxis": "y"
          },
          {
           "hovertemplate": "Team=Chelsea<br>MatchesPlayed=15<br>MovingAverageFor=%{x}<br>MovingAverageAgainst=%{y}<extra></extra>",
           "legendgroup": "Chelsea",
           "marker": {
            "color": "#ab63fa",
            "symbol": "circle"
           },
           "mode": "markers",
           "name": "Chelsea",
           "orientation": "v",
           "showlegend": true,
           "type": "scatter",
           "x": [
            1.6
           ],
           "xaxis": "x",
           "y": [
            2
           ],
           "yaxis": "y"
          },
          {
           "hovertemplate": "Team=Everton<br>MatchesPlayed=15<br>MovingAverageFor=%{x}<br>MovingAverageAgainst=%{y}<extra></extra>",
           "legendgroup": "Everton",
           "marker": {
            "color": "#FFA15A",
            "symbol": "circle"
           },
           "mode": "markers",
           "name": "Everton",
           "orientation": "v",
           "showlegend": true,
           "type": "scatter",
           "x": [
            1
           ],
           "xaxis": "x",
           "y": [
            0.4
           ],
           "yaxis": "y"
          },
          {
           "hovertemplate": "Team=Leicester<br>MatchesPlayed=15<br>MovingAverageFor=%{x}<br>MovingAverageAgainst=%{y}<extra></extra>",
           "legendgroup": "Leicester",
           "marker": {
            "color": "#19d3f3",
            "symbol": "circle"
           },
           "mode": "markers",
           "name": "Leicester",
           "orientation": "v",
           "showlegend": true,
           "type": "scatter",
           "x": [
            1.6
           ],
           "xaxis": "x",
           "y": [
            1
           ],
           "yaxis": "y"
          },
          {
           "hovertemplate": "Team=Watford<br>MatchesPlayed=15<br>MovingAverageFor=%{x}<br>MovingAverageAgainst=%{y}<extra></extra>",
           "legendgroup": "Watford",
           "marker": {
            "color": "#FF6692",
            "symbol": "circle"
           },
           "mode": "markers",
           "name": "Watford",
           "orientation": "v",
           "showlegend": true,
           "type": "scatter",
           "x": [
            0.6
           ],
           "xaxis": "x",
           "y": [
            3
           ],
           "yaxis": "y"
          },
          {
           "hovertemplate": "Team=Norwich<br>MatchesPlayed=15<br>MovingAverageFor=%{x}<br>MovingAverageAgainst=%{y}<extra></extra>",
           "legendgroup": "Norwich",
           "marker": {
            "color": "#B6E880",
            "symbol": "circle"
           },
           "mode": "markers",
           "name": "Norwich",
           "orientation": "v",
           "showlegend": true,
           "type": "scatter",
           "x": [
            1
           ],
           "xaxis": "x",
           "y": [
            2.4
           ],
           "yaxis": "y"
          },
          {
           "hovertemplate": "Team=Newcastle<br>MatchesPlayed=15<br>MovingAverageFor=%{x}<br>MovingAverageAgainst=%{y}<extra></extra>",
           "legendgroup": "Newcastle",
           "marker": {
            "color": "#FF97FF",
            "symbol": "circle"
           },
           "mode": "markers",
           "name": "Newcastle",
           "orientation": "v",
           "showlegend": true,
           "type": "scatter",
           "x": [
            1.6
           ],
           "xaxis": "x",
           "y": [
            0.6
           ],
           "yaxis": "y"
          },
          {
           "hovertemplate": "Team=Tottenham<br>MatchesPlayed=15<br>MovingAverageFor=%{x}<br>MovingAverageAgainst=%{y}<extra></extra>",
           "legendgroup": "Tottenham",
           "marker": {
            "color": "#FECB52",
            "symbol": "circle"
           },
           "mode": "markers",
           "name": "Tottenham",
           "orientation": "v",
           "showlegend": true,
           "type": "scatter",
           "x": [
            3
           ],
           "xaxis": "x",
           "y": [
            1.4
           ],
           "yaxis": "y"
          },
          {
           "hovertemplate": "Team=Liverpool<br>MatchesPlayed=15<br>MovingAverageFor=%{x}<br>MovingAverageAgainst=%{y}<extra></extra>",
           "legendgroup": "Liverpool",
           "marker": {
            "color": "#636efa",
            "symbol": "circle"
           },
           "mode": "markers",
           "name": "Liverpool",
           "orientation": "v",
           "showlegend": true,
           "type": "scatter",
           "x": [
            2.8
           ],
           "xaxis": "x",
           "y": [
            0.2
           ],
           "yaxis": "y"
          },
          {
           "hovertemplate": "Team=Aston Villa<br>MatchesPlayed=15<br>MovingAverageFor=%{x}<br>MovingAverageAgainst=%{y}<extra></extra>",
           "legendgroup": "Aston Villa",
           "marker": {
            "color": "#EF553B",
            "symbol": "circle"
           },
           "mode": "markers",
           "name": "Aston Villa",
           "orientation": "v",
           "showlegend": true,
           "type": "scatter",
           "x": [
            1.4
           ],
           "xaxis": "x",
           "y": [
            1.8
           ],
           "yaxis": "y"
          },
          {
           "hovertemplate": "Team=Crystal Palace<br>MatchesPlayed=15<br>MovingAverageFor=%{x}<br>MovingAverageAgainst=%{y}<extra></extra>",
           "legendgroup": "Crystal Palace",
           "marker": {
            "color": "#00cc96",
            "symbol": "circle"
           },
           "mode": "markers",
           "name": "Crystal Palace",
           "orientation": "v",
           "showlegend": true,
           "type": "scatter",
           "x": [
            0.8
           ],
           "xaxis": "x",
           "y": [
            1.6
           ],
           "yaxis": "y"
          },
          {
           "hovertemplate": "Team=Leeds<br>MatchesPlayed=15<br>MovingAverageFor=%{x}<br>MovingAverageAgainst=%{y}<extra></extra>",
           "legendgroup": "Leeds",
           "marker": {
            "color": "#ab63fa",
            "symbol": "circle"
           },
           "mode": "markers",
           "name": "Leeds",
           "orientation": "v",
           "showlegend": true,
           "type": "scatter",
           "x": [
            0.8
           ],
           "xaxis": "x",
           "y": [
            2.6
           ],
           "yaxis": "y"
          },
          {
           "hovertemplate": "Team=Man City<br>MatchesPlayed=15<br>MovingAverageFor=%{x}<br>MovingAverageAgainst=%{y}<extra></extra>",
           "legendgroup": "Man City",
           "marker": {
            "color": "#FFA15A",
            "symbol": "circle"
           },
           "mode": "markers",
           "name": "Man City",
           "orientation": "v",
           "showlegend": true,
           "type": "scatter",
           "x": [
            2.2
           ],
           "xaxis": "x",
           "y": [
            1.2
           ],
           "yaxis": "y"
          },
          {
           "hovertemplate": "Team=Brighton<br>MatchesPlayed=15<br>MovingAverageFor=%{x}<br>MovingAverageAgainst=%{y}<extra></extra>",
           "legendgroup": "Brighton",
           "marker": {
            "color": "#19d3f3",
            "symbol": "circle"
           },
           "mode": "markers",
           "name": "Brighton",
           "orientation": "v",
           "showlegend": true,
           "type": "scatter",
           "x": [
            0.2
           ],
           "xaxis": "x",
           "y": [
            2
           ],
           "yaxis": "y"
          },
          {
           "hovertemplate": "Team=Southampton<br>MatchesPlayed=15<br>MovingAverageFor=%{x}<br>MovingAverageAgainst=%{y}<extra></extra>",
           "legendgroup": "Southampton",
           "marker": {
            "color": "#FF6692",
            "symbol": "circle"
           },
           "mode": "markers",
           "name": "Southampton",
           "orientation": "v",
           "showlegend": true,
           "type": "scatter",
           "x": [
            1.4
           ],
           "xaxis": "x",
           "y": [
            1
           ],
           "yaxis": "y"
          },
          {
           "hovertemplate": "Team=Wolves<br>MatchesPlayed=15<br>MovingAverageFor=%{x}<br>MovingAverageAgainst=%{y}<extra></extra>",
           "legendgroup": "Wolves",
           "marker": {
            "color": "#B6E880",
            "symbol": "circle"
           },
           "mode": "markers",
           "name": "Wolves",
           "orientation": "v",
           "showlegend": true,
           "type": "scatter",
           "x": [
            1.6
           ],
           "xaxis": "x",
           "y": [
            1.4
           ],
           "yaxis": "y"
          },
          {
           "hovertemplate": "Team=Arsenal<br>MatchesPlayed=15<br>MovingAverageFor=%{x}<br>MovingAverageAgainst=%{y}<extra></extra>",
           "legendgroup": "Arsenal",
           "marker": {
            "color": "#FF97FF",
            "symbol": "circle"
           },
           "mode": "markers",
           "name": "Arsenal",
           "orientation": "v",
           "showlegend": true,
           "type": "scatter",
           "x": [
            1.2
           ],
           "xaxis": "x",
           "y": [
            0.8
           ],
           "yaxis": "y"
          },
          {
           "hovertemplate": "Team=West Ham<br>MatchesPlayed=15<br>MovingAverageFor=%{x}<br>MovingAverageAgainst=%{y}<extra></extra>",
           "legendgroup": "West Ham",
           "marker": {
            "color": "#FECB52",
            "symbol": "circle"
           },
           "mode": "markers",
           "name": "West Ham",
           "orientation": "v",
           "showlegend": true,
           "type": "scatter",
           "x": [
            1.4
           ],
           "xaxis": "x",
           "y": [
            1
           ],
           "yaxis": "y"
          }
         ],
         "name": "15"
        },
        {
         "data": [
          {
           "hovertemplate": "Team=Brentford<br>MatchesPlayed=16<br>MovingAverageFor=%{x}<br>MovingAverageAgainst=%{y}<extra></extra>",
           "legendgroup": "Brentford",
           "marker": {
            "color": "#636efa",
            "symbol": "circle"
           },
           "mode": "markers",
           "name": "Brentford",
           "orientation": "v",
           "showlegend": true,
           "type": "scatter",
           "x": [
            1
           ],
           "xaxis": "x",
           "y": [
            0.8
           ],
           "yaxis": "y"
          },
          {
           "hovertemplate": "Team=Man United<br>MatchesPlayed=16<br>MovingAverageFor=%{x}<br>MovingAverageAgainst=%{y}<extra></extra>",
           "legendgroup": "Man United",
           "marker": {
            "color": "#EF553B",
            "symbol": "circle"
           },
           "mode": "markers",
           "name": "Man United",
           "orientation": "v",
           "showlegend": true,
           "type": "scatter",
           "x": [
            1.4
           ],
           "xaxis": "x",
           "y": [
            0.8
           ],
           "yaxis": "y"
          },
          {
           "hovertemplate": "Team=Burnley<br>MatchesPlayed=16<br>MovingAverageFor=%{x}<br>MovingAverageAgainst=%{y}<extra></extra>",
           "legendgroup": "Burnley",
           "marker": {
            "color": "#00cc96",
            "symbol": "circle"
           },
           "mode": "markers",
           "name": "Burnley",
           "orientation": "v",
           "showlegend": true,
           "type": "scatter",
           "x": [
            1
           ],
           "xaxis": "x",
           "y": [
            2
           ],
           "yaxis": "y"
          },
          {
           "hovertemplate": "Team=Chelsea<br>MatchesPlayed=16<br>MovingAverageFor=%{x}<br>MovingAverageAgainst=%{y}<extra></extra>",
           "legendgroup": "Chelsea",
           "marker": {
            "color": "#ab63fa",
            "symbol": "circle"
           },
           "mode": "markers",
           "name": "Chelsea",
           "orientation": "v",
           "showlegend": true,
           "type": "scatter",
           "x": [
            1.4
           ],
           "xaxis": "x",
           "y": [
            1.6
           ],
           "yaxis": "y"
          },
          {
           "hovertemplate": "Team=Everton<br>MatchesPlayed=16<br>MovingAverageFor=%{x}<br>MovingAverageAgainst=%{y}<extra></extra>",
           "legendgroup": "Everton",
           "marker": {
            "color": "#FFA15A",
            "symbol": "circle"
           },
           "mode": "markers",
           "name": "Everton",
           "orientation": "v",
           "showlegend": true,
           "type": "scatter",
           "x": [
            0.6
           ],
           "xaxis": "x",
           "y": [
            0.6
           ],
           "yaxis": "y"
          },
          {
           "hovertemplate": "Team=Leicester<br>MatchesPlayed=16<br>MovingAverageFor=%{x}<br>MovingAverageAgainst=%{y}<extra></extra>",
           "legendgroup": "Leicester",
           "marker": {
            "color": "#19d3f3",
            "symbol": "circle"
           },
           "mode": "markers",
           "name": "Leicester",
           "orientation": "v",
           "showlegend": true,
           "type": "scatter",
           "x": [
            1.4
           ],
           "xaxis": "x",
           "y": [
            0.8
           ],
           "yaxis": "y"
          },
          {
           "hovertemplate": "Team=Watford<br>MatchesPlayed=16<br>MovingAverageFor=%{x}<br>MovingAverageAgainst=%{y}<extra></extra>",
           "legendgroup": "Watford",
           "marker": {
            "color": "#FF6692",
            "symbol": "circle"
           },
           "mode": "markers",
           "name": "Watford",
           "orientation": "v",
           "showlegend": true,
           "type": "scatter",
           "x": [
            0.8
           ],
           "xaxis": "x",
           "y": [
            2.8
           ],
           "yaxis": "y"
          },
          {
           "hovertemplate": "Team=Norwich<br>MatchesPlayed=16<br>MovingAverageFor=%{x}<br>MovingAverageAgainst=%{y}<extra></extra>",
           "legendgroup": "Norwich",
           "marker": {
            "color": "#B6E880",
            "symbol": "circle"
           },
           "mode": "markers",
           "name": "Norwich",
           "orientation": "v",
           "showlegend": true,
           "type": "scatter",
           "x": [
            1
           ],
           "xaxis": "x",
           "y": [
            2.2
           ],
           "yaxis": "y"
          },
          {
           "hovertemplate": "Team=Newcastle<br>MatchesPlayed=16<br>MovingAverageFor=%{x}<br>MovingAverageAgainst=%{y}<extra></extra>",
           "legendgroup": "Newcastle",
           "marker": {
            "color": "#FF97FF",
            "symbol": "circle"
           },
           "mode": "markers",
           "name": "Newcastle",
           "orientation": "v",
           "showlegend": true,
           "type": "scatter",
           "x": [
            1.8
           ],
           "xaxis": "x",
           "y": [
            0.6
           ],
           "yaxis": "y"
          },
          {
           "hovertemplate": "Team=Tottenham<br>MatchesPlayed=16<br>MovingAverageFor=%{x}<br>MovingAverageAgainst=%{y}<extra></extra>",
           "legendgroup": "Tottenham",
           "marker": {
            "color": "#FECB52",
            "symbol": "circle"
           },
           "mode": "markers",
           "name": "Tottenham",
           "orientation": "v",
           "showlegend": true,
           "type": "scatter",
           "x": [
            2.6
           ],
           "xaxis": "x",
           "y": [
            1
           ],
           "yaxis": "y"
          },
          {
           "hovertemplate": "Team=Liverpool<br>MatchesPlayed=16<br>MovingAverageFor=%{x}<br>MovingAverageAgainst=%{y}<extra></extra>",
           "legendgroup": "Liverpool",
           "marker": {
            "color": "#636efa",
            "symbol": "circle"
           },
           "mode": "markers",
           "name": "Liverpool",
           "orientation": "v",
           "showlegend": true,
           "type": "scatter",
           "x": [
            3.2
           ],
           "xaxis": "x",
           "y": [
            0.2
           ],
           "yaxis": "y"
          },
          {
           "hovertemplate": "Team=Aston Villa<br>MatchesPlayed=16<br>MovingAverageFor=%{x}<br>MovingAverageAgainst=%{y}<extra></extra>",
           "legendgroup": "Aston Villa",
           "marker": {
            "color": "#EF553B",
            "symbol": "circle"
           },
           "mode": "markers",
           "name": "Aston Villa",
           "orientation": "v",
           "showlegend": true,
           "type": "scatter",
           "x": [
            1.2
           ],
           "xaxis": "x",
           "y": [
            1.2
           ],
           "yaxis": "y"
          },
          {
           "hovertemplate": "Team=Crystal Palace<br>MatchesPlayed=16<br>MovingAverageFor=%{x}<br>MovingAverageAgainst=%{y}<extra></extra>",
           "legendgroup": "Crystal Palace",
           "marker": {
            "color": "#00cc96",
            "symbol": "circle"
           },
           "mode": "markers",
           "name": "Crystal Palace",
           "orientation": "v",
           "showlegend": true,
           "type": "scatter",
           "x": [
            1
           ],
           "xaxis": "x",
           "y": [
            1
           ],
           "yaxis": "y"
          },
          {
           "hovertemplate": "Team=Leeds<br>MatchesPlayed=16<br>MovingAverageFor=%{x}<br>MovingAverageAgainst=%{y}<extra></extra>",
           "legendgroup": "Leeds",
           "marker": {
            "color": "#ab63fa",
            "symbol": "circle"
           },
           "mode": "markers",
           "name": "Leeds",
           "orientation": "v",
           "showlegend": true,
           "type": "scatter",
           "x": [
            1
           ],
           "xaxis": "x",
           "y": [
            2.6
           ],
           "yaxis": "y"
          },
          {
           "hovertemplate": "Team=Man City<br>MatchesPlayed=16<br>MovingAverageFor=%{x}<br>MovingAverageAgainst=%{y}<extra></extra>",
           "legendgroup": "Man City",
           "marker": {
            "color": "#FFA15A",
            "symbol": "circle"
           },
           "mode": "markers",
           "name": "Man City",
           "orientation": "v",
           "showlegend": true,
           "type": "scatter",
           "x": [
            2.6
           ],
           "xaxis": "x",
           "y": [
            1.2
           ],
           "yaxis": "y"
          },
          {
           "hovertemplate": "Team=Brighton<br>MatchesPlayed=16<br>MovingAverageFor=%{x}<br>MovingAverageAgainst=%{y}<extra></extra>",
           "legendgroup": "Brighton",
           "marker": {
            "color": "#19d3f3",
            "symbol": "circle"
           },
           "mode": "markers",
           "name": "Brighton",
           "orientation": "v",
           "showlegend": true,
           "type": "scatter",
           "x": [
            0
           ],
           "xaxis": "x",
           "y": [
            1.8
           ],
           "yaxis": "y"
          },
          {
           "hovertemplate": "Team=Southampton<br>MatchesPlayed=16<br>MovingAverageFor=%{x}<br>MovingAverageAgainst=%{y}<extra></extra>",
           "legendgroup": "Southampton",
           "marker": {
            "color": "#FF6692",
            "symbol": "circle"
           },
           "mode": "markers",
           "name": "Southampton",
           "orientation": "v",
           "showlegend": true,
           "type": "scatter",
           "x": [
            1.2
           ],
           "xaxis": "x",
           "y": [
            2
           ],
           "yaxis": "y"
          },
          {
           "hovertemplate": "Team=Wolves<br>MatchesPlayed=16<br>MovingAverageFor=%{x}<br>MovingAverageAgainst=%{y}<extra></extra>",
           "legendgroup": "Wolves",
           "marker": {
            "color": "#B6E880",
            "symbol": "circle"
           },
           "mode": "markers",
           "name": "Wolves",
           "orientation": "v",
           "showlegend": true,
           "type": "scatter",
           "x": [
            2
           ],
           "xaxis": "x",
           "y": [
            1.4
           ],
           "yaxis": "y"
          },
          {
           "hovertemplate": "Team=Arsenal<br>MatchesPlayed=16<br>MovingAverageFor=%{x}<br>MovingAverageAgainst=%{y}<extra></extra>",
           "legendgroup": "Arsenal",
           "marker": {
            "color": "#FF97FF",
            "symbol": "circle"
           },
           "mode": "markers",
           "name": "Arsenal",
           "orientation": "v",
           "showlegend": true,
           "type": "scatter",
           "x": [
            1.4
           ],
           "xaxis": "x",
           "y": [
            1.2
           ],
           "yaxis": "y"
          },
          {
           "hovertemplate": "Team=West Ham<br>MatchesPlayed=16<br>MovingAverageFor=%{x}<br>MovingAverageAgainst=%{y}<extra></extra>",
           "legendgroup": "West Ham",
           "marker": {
            "color": "#FECB52",
            "symbol": "circle"
           },
           "mode": "markers",
           "name": "West Ham",
           "orientation": "v",
           "showlegend": true,
           "type": "scatter",
           "x": [
            1.4
           ],
           "xaxis": "x",
           "y": [
            0.6
           ],
           "yaxis": "y"
          }
         ],
         "name": "16"
        },
        {
         "data": [
          {
           "hovertemplate": "Team=Brentford<br>MatchesPlayed=17<br>MovingAverageFor=%{x}<br>MovingAverageAgainst=%{y}<extra></extra>",
           "legendgroup": "Brentford",
           "marker": {
            "color": "#636efa",
            "symbol": "circle"
           },
           "mode": "markers",
           "name": "Brentford",
           "orientation": "v",
           "showlegend": true,
           "type": "scatter",
           "x": [
            0.8
           ],
           "xaxis": "x",
           "y": [
            0.4
           ],
           "yaxis": "y"
          },
          {
           "hovertemplate": "Team=Man United<br>MatchesPlayed=17<br>MovingAverageFor=%{x}<br>MovingAverageAgainst=%{y}<extra></extra>",
           "legendgroup": "Man United",
           "marker": {
            "color": "#EF553B",
            "symbol": "circle"
           },
           "mode": "markers",
           "name": "Man United",
           "orientation": "v",
           "showlegend": true,
           "type": "scatter",
           "x": [
            1.8
           ],
           "xaxis": "x",
           "y": [
            1
           ],
           "yaxis": "y"
          },
          {
           "hovertemplate": "Team=Burnley<br>MatchesPlayed=17<br>MovingAverageFor=%{x}<br>MovingAverageAgainst=%{y}<extra></extra>",
           "legendgroup": "Burnley",
           "marker": {
            "color": "#00cc96",
            "symbol": "circle"
           },
           "mode": "markers",
           "name": "Burnley",
           "orientation": "v",
           "showlegend": true,
           "type": "scatter",
           "x": [
            1.2
           ],
           "xaxis": "x",
           "y": [
            1.6
           ],
           "yaxis": "y"
          },
          {
           "hovertemplate": "Team=Chelsea<br>MatchesPlayed=17<br>MovingAverageFor=%{x}<br>MovingAverageAgainst=%{y}<extra></extra>",
           "legendgroup": "Chelsea",
           "marker": {
            "color": "#ab63fa",
            "symbol": "circle"
           },
           "mode": "markers",
           "name": "Chelsea",
           "orientation": "v",
           "showlegend": true,
           "type": "scatter",
           "x": [
            1.4
           ],
           "xaxis": "x",
           "y": [
            2
           ],
           "yaxis": "y"
          },
          {
           "hovertemplate": "Team=Everton<br>MatchesPlayed=17<br>MovingAverageFor=%{x}<br>MovingAverageAgainst=%{y}<extra></extra>",
           "legendgroup": "Everton",
           "marker": {
            "color": "#FFA15A",
            "symbol": "circle"
           },
           "mode": "markers",
           "name": "Everton",
           "orientation": "v",
           "showlegend": true,
           "type": "scatter",
           "x": [
            0.8
           ],
           "xaxis": "x",
           "y": [
            0.4
           ],
           "yaxis": "y"
          },
          {
           "hovertemplate": "Team=Leicester<br>MatchesPlayed=17<br>MovingAverageFor=%{x}<br>MovingAverageAgainst=%{y}<extra></extra>",
           "legendgroup": "Leicester",
           "marker": {
            "color": "#19d3f3",
            "symbol": "circle"
           },
           "mode": "markers",
           "name": "Leicester",
           "orientation": "v",
           "showlegend": true,
           "type": "scatter",
           "x": [
            1.2
           ],
           "xaxis": "x",
           "y": [
            0.8
           ],
           "yaxis": "y"
          },
          {
           "hovertemplate": "Team=Watford<br>MatchesPlayed=17<br>MovingAverageFor=%{x}<br>MovingAverageAgainst=%{y}<extra></extra>",
           "legendgroup": "Watford",
           "marker": {
            "color": "#FF6692",
            "symbol": "circle"
           },
           "mode": "markers",
           "name": "Watford",
           "orientation": "v",
           "showlegend": true,
           "type": "scatter",
           "x": [
            1
           ],
           "xaxis": "x",
           "y": [
            2.8
           ],
           "yaxis": "y"
          },
          {
           "hovertemplate": "Team=Norwich<br>MatchesPlayed=17<br>MovingAverageFor=%{x}<br>MovingAverageAgainst=%{y}<extra></extra>",
           "legendgroup": "Norwich",
           "marker": {
            "color": "#B6E880",
            "symbol": "circle"
           },
           "mode": "markers",
           "name": "Norwich",
           "orientation": "v",
           "showlegend": true,
           "type": "scatter",
           "x": [
            0.8
           ],
           "xaxis": "x",
           "y": [
            2.6
           ],
           "yaxis": "y"
          },
          {
           "hovertemplate": "Team=Newcastle<br>MatchesPlayed=17<br>MovingAverageFor=%{x}<br>MovingAverageAgainst=%{y}<extra></extra>",
           "legendgroup": "Newcastle",
           "marker": {
            "color": "#FF97FF",
            "symbol": "circle"
           },
           "mode": "markers",
           "name": "Newcastle",
           "orientation": "v",
           "showlegend": true,
           "type": "scatter",
           "x": [
            1.4
           ],
           "xaxis": "x",
           "y": [
            0.4
           ],
           "yaxis": "y"
          },
          {
           "hovertemplate": "Team=Tottenham<br>MatchesPlayed=17<br>MovingAverageFor=%{x}<br>MovingAverageAgainst=%{y}<extra></extra>",
           "legendgroup": "Tottenham",
           "marker": {
            "color": "#FECB52",
            "symbol": "circle"
           },
           "mode": "markers",
           "name": "Tottenham",
           "orientation": "v",
           "showlegend": true,
           "type": "scatter",
           "x": [
            3.2
           ],
           "xaxis": "x",
           "y": [
            0.8
           ],
           "yaxis": "y"
          },
          {
           "hovertemplate": "Team=Liverpool<br>MatchesPlayed=17<br>MovingAverageFor=%{x}<br>MovingAverageAgainst=%{y}<extra></extra>",
           "legendgroup": "Liverpool",
           "marker": {
            "color": "#636efa",
            "symbol": "circle"
           },
           "mode": "markers",
           "name": "Liverpool",
           "orientation": "v",
           "showlegend": true,
           "type": "scatter",
           "x": [
            3
           ],
           "xaxis": "x",
           "y": [
            0
           ],
           "yaxis": "y"
          },
          {
           "hovertemplate": "Team=Aston Villa<br>MatchesPlayed=17<br>MovingAverageFor=%{x}<br>MovingAverageAgainst=%{y}<extra></extra>",
           "legendgroup": "Aston Villa",
           "marker": {
            "color": "#EF553B",
            "symbol": "circle"
           },
           "mode": "markers",
           "name": "Aston Villa",
           "orientation": "v",
           "showlegend": true,
           "type": "scatter",
           "x": [
            1.4
           ],
           "xaxis": "x",
           "y": [
            1.4
           ],
           "yaxis": "y"
          },
          {
           "hovertemplate": "Team=Crystal Palace<br>MatchesPlayed=17<br>MovingAverageFor=%{x}<br>MovingAverageAgainst=%{y}<extra></extra>",
           "legendgroup": "Crystal Palace",
           "marker": {
            "color": "#00cc96",
            "symbol": "circle"
           },
           "mode": "markers",
           "name": "Crystal Palace",
           "orientation": "v",
           "showlegend": true,
           "type": "scatter",
           "x": [
            0.8
           ],
           "xaxis": "x",
           "y": [
            0.4
           ],
           "yaxis": "y"
          },
          {
           "hovertemplate": "Team=Leeds<br>MatchesPlayed=17<br>MovingAverageFor=%{x}<br>MovingAverageAgainst=%{y}<extra></extra>",
           "legendgroup": "Leeds",
           "marker": {
            "color": "#ab63fa",
            "symbol": "circle"
           },
           "mode": "markers",
           "name": "Leeds",
           "orientation": "v",
           "showlegend": true,
           "type": "scatter",
           "x": [
            0.6
           ],
           "xaxis": "x",
           "y": [
            2.6
           ],
           "yaxis": "y"
          },
          {
           "hovertemplate": "Team=Man City<br>MatchesPlayed=17<br>MovingAverageFor=%{x}<br>MovingAverageAgainst=%{y}<extra></extra>",
           "legendgroup": "Man City",
           "marker": {
            "color": "#FFA15A",
            "symbol": "circle"
           },
           "mode": "markers",
           "name": "Man City",
           "orientation": "v",
           "showlegend": true,
           "type": "scatter",
           "x": [
            3.2
           ],
           "xaxis": "x",
           "y": [
            1.4
           ],
           "yaxis": "y"
          },
          {
           "hovertemplate": "Team=Brighton<br>MatchesPlayed=17<br>MovingAverageFor=%{x}<br>MovingAverageAgainst=%{y}<extra></extra>",
           "legendgroup": "Brighton",
           "marker": {
            "color": "#19d3f3",
            "symbol": "circle"
           },
           "mode": "markers",
           "name": "Brighton",
           "orientation": "v",
           "showlegend": true,
           "type": "scatter",
           "x": [
            0.4
           ],
           "xaxis": "x",
           "y": [
            1.6
           ],
           "yaxis": "y"
          },
          {
           "hovertemplate": "Team=Southampton<br>MatchesPlayed=17<br>MovingAverageFor=%{x}<br>MovingAverageAgainst=%{y}<extra></extra>",
           "legendgroup": "Southampton",
           "marker": {
            "color": "#FF6692",
            "symbol": "circle"
           },
           "mode": "markers",
           "name": "Southampton",
           "orientation": "v",
           "showlegend": true,
           "type": "scatter",
           "x": [
            1
           ],
           "xaxis": "x",
           "y": [
            2
           ],
           "yaxis": "y"
          },
          {
           "hovertemplate": "Team=Wolves<br>MatchesPlayed=17<br>MovingAverageFor=%{x}<br>MovingAverageAgainst=%{y}<extra></extra>",
           "legendgroup": "Wolves",
           "marker": {
            "color": "#B6E880",
            "symbol": "circle"
           },
           "mode": "markers",
           "name": "Wolves",
           "orientation": "v",
           "showlegend": true,
           "type": "scatter",
           "x": [
            1.6
           ],
           "xaxis": "x",
           "y": [
            1.8
           ],
           "yaxis": "y"
          },
          {
           "hovertemplate": "Team=Arsenal<br>MatchesPlayed=17<br>MovingAverageFor=%{x}<br>MovingAverageAgainst=%{y}<extra></extra>",
           "legendgroup": "Arsenal",
           "marker": {
            "color": "#FF97FF",
            "symbol": "circle"
           },
           "mode": "markers",
           "name": "Arsenal",
           "orientation": "v",
           "showlegend": true,
           "type": "scatter",
           "x": [
            1.6
           ],
           "xaxis": "x",
           "y": [
            1.2
           ],
           "yaxis": "y"
          },
          {
           "hovertemplate": "Team=West Ham<br>MatchesPlayed=17<br>MovingAverageFor=%{x}<br>MovingAverageAgainst=%{y}<extra></extra>",
           "legendgroup": "West Ham",
           "marker": {
            "color": "#FECB52",
            "symbol": "circle"
           },
           "mode": "markers",
           "name": "West Ham",
           "orientation": "v",
           "showlegend": true,
           "type": "scatter",
           "x": [
            1.4
           ],
           "xaxis": "x",
           "y": [
            0.8
           ],
           "yaxis": "y"
          }
         ],
         "name": "17"
        },
        {
         "data": [
          {
           "hovertemplate": "Team=Brentford<br>MatchesPlayed=18<br>MovingAverageFor=%{x}<br>MovingAverageAgainst=%{y}<extra></extra>",
           "legendgroup": "Brentford",
           "marker": {
            "color": "#636efa",
            "symbol": "circle"
           },
           "mode": "markers",
           "name": "Brentford",
           "orientation": "v",
           "showlegend": true,
           "type": "scatter",
           "x": [
            1.4
           ],
           "xaxis": "x",
           "y": [
            0.4
           ],
           "yaxis": "y"
          },
          {
           "hovertemplate": "Team=Man United<br>MatchesPlayed=18<br>MovingAverageFor=%{x}<br>MovingAverageAgainst=%{y}<extra></extra>",
           "legendgroup": "Man United",
           "marker": {
            "color": "#EF553B",
            "symbol": "circle"
           },
           "mode": "markers",
           "name": "Man United",
           "orientation": "v",
           "showlegend": true,
           "type": "scatter",
           "x": [
            1.6
           ],
           "xaxis": "x",
           "y": [
            1.2
           ],
           "yaxis": "y"
          },
          {
           "hovertemplate": "Team=Burnley<br>MatchesPlayed=18<br>MovingAverageFor=%{x}<br>MovingAverageAgainst=%{y}<extra></extra>",
           "legendgroup": "Burnley",
           "marker": {
            "color": "#00cc96",
            "symbol": "circle"
           },
           "mode": "markers",
           "name": "Burnley",
           "orientation": "v",
           "showlegend": true,
           "type": "scatter",
           "x": [
            1.4
           ],
           "xaxis": "x",
           "y": [
            1.4
           ],
           "yaxis": "y"
          },
          {
           "hovertemplate": "Team=Chelsea<br>MatchesPlayed=18<br>MovingAverageFor=%{x}<br>MovingAverageAgainst=%{y}<extra></extra>",
           "legendgroup": "Chelsea",
           "marker": {
            "color": "#ab63fa",
            "symbol": "circle"
           },
           "mode": "markers",
           "name": "Chelsea",
           "orientation": "v",
           "showlegend": true,
           "type": "scatter",
           "x": [
            1.4
           ],
           "xaxis": "x",
           "y": [
            2.2
           ],
           "yaxis": "y"
          },
          {
           "hovertemplate": "Team=Everton<br>MatchesPlayed=18<br>MovingAverageFor=%{x}<br>MovingAverageAgainst=%{y}<extra></extra>",
           "legendgroup": "Everton",
           "marker": {
            "color": "#FFA15A",
            "symbol": "circle"
           },
           "mode": "markers",
           "name": "Everton",
           "orientation": "v",
           "showlegend": true,
           "type": "scatter",
           "x": [
            1.2
           ],
           "xaxis": "x",
           "y": [
            0.8
           ],
           "yaxis": "y"
          },
          {
           "hovertemplate": "Team=Leicester<br>MatchesPlayed=18<br>MovingAverageFor=%{x}<br>MovingAverageAgainst=%{y}<extra></extra>",
           "legendgroup": "Leicester",
           "marker": {
            "color": "#19d3f3",
            "symbol": "circle"
           },
           "mode": "markers",
           "name": "Leicester",
           "orientation": "v",
           "showlegend": true,
           "type": "scatter",
           "x": [
            1.6
           ],
           "xaxis": "x",
           "y": [
            0.8
           ],
           "yaxis": "y"
          },
          {
           "hovertemplate": "Team=Watford<br>MatchesPlayed=18<br>MovingAverageFor=%{x}<br>MovingAverageAgainst=%{y}<extra></extra>",
           "legendgroup": "Watford",
           "marker": {
            "color": "#FF6692",
            "symbol": "circle"
           },
           "mode": "markers",
           "name": "Watford",
           "orientation": "v",
           "showlegend": true,
           "type": "scatter",
           "x": [
            0.8
           ],
           "xaxis": "x",
           "y": [
            2
           ],
           "yaxis": "y"
          },
          {
           "hovertemplate": "Team=Norwich<br>MatchesPlayed=18<br>MovingAverageFor=%{x}<br>MovingAverageAgainst=%{y}<extra></extra>",
           "legendgroup": "Norwich",
           "marker": {
            "color": "#B6E880",
            "symbol": "circle"
           },
           "mode": "markers",
           "name": "Norwich",
           "orientation": "v",
           "showlegend": true,
           "type": "scatter",
           "x": [
            0.8
           ],
           "xaxis": "x",
           "y": [
            2.6
           ],
           "yaxis": "y"
          },
          {
           "hovertemplate": "Team=Newcastle<br>MatchesPlayed=18<br>MovingAverageFor=%{x}<br>MovingAverageAgainst=%{y}<extra></extra>",
           "legendgroup": "Newcastle",
           "marker": {
            "color": "#FF97FF",
            "symbol": "circle"
           },
           "mode": "markers",
           "name": "Newcastle",
           "orientation": "v",
           "showlegend": true,
           "type": "scatter",
           "x": [
            1.2
           ],
           "xaxis": "x",
           "y": [
            0.6
           ],
           "yaxis": "y"
          },
          {
           "hovertemplate": "Team=Tottenham<br>MatchesPlayed=18<br>MovingAverageFor=%{x}<br>MovingAverageAgainst=%{y}<extra></extra>",
           "legendgroup": "Tottenham",
           "marker": {
            "color": "#FECB52",
            "symbol": "circle"
           },
           "mode": "markers",
           "name": "Tottenham",
           "orientation": "v",
           "showlegend": true,
           "type": "scatter",
           "x": [
            2.8
           ],
           "xaxis": "x",
           "y": [
            0.8
           ],
           "yaxis": "y"
          },
          {
           "hovertemplate": "Team=Liverpool<br>MatchesPlayed=18<br>MovingAverageFor=%{x}<br>MovingAverageAgainst=%{y}<extra></extra>",
           "legendgroup": "Liverpool",
           "marker": {
            "color": "#636efa",
            "symbol": "circle"
           },
           "mode": "markers",
           "name": "Liverpool",
           "orientation": "v",
           "showlegend": true,
           "type": "scatter",
           "x": [
            2
           ],
           "xaxis": "x",
           "y": [
            0.2
           ],
           "yaxis": "y"
          },
          {
           "hovertemplate": "Team=Aston Villa<br>MatchesPlayed=18<br>MovingAverageFor=%{x}<br>MovingAverageAgainst=%{y}<extra></extra>",
           "legendgroup": "Aston Villa",
           "marker": {
            "color": "#EF553B",
            "symbol": "circle"
           },
           "mode": "markers",
           "name": "Aston Villa",
           "orientation": "v",
           "showlegend": true,
           "type": "scatter",
           "x": [
            0.8
           ],
           "xaxis": "x",
           "y": [
            1.6
           ],
           "yaxis": "y"
          },
          {
           "hovertemplate": "Team=Crystal Palace<br>MatchesPlayed=18<br>MovingAverageFor=%{x}<br>MovingAverageAgainst=%{y}<extra></extra>",
           "legendgroup": "Crystal Palace",
           "marker": {
            "color": "#00cc96",
            "symbol": "circle"
           },
           "mode": "markers",
           "name": "Crystal Palace",
           "orientation": "v",
           "showlegend": true,
           "type": "scatter",
           "x": [
            1
           ],
           "xaxis": "x",
           "y": [
            0.2
           ],
           "yaxis": "y"
          },
          {
           "hovertemplate": "Team=Leeds<br>MatchesPlayed=18<br>MovingAverageFor=%{x}<br>MovingAverageAgainst=%{y}<extra></extra>",
           "legendgroup": "Leeds",
           "marker": {
            "color": "#ab63fa",
            "symbol": "circle"
           },
           "mode": "markers",
           "name": "Leeds",
           "orientation": "v",
           "showlegend": true,
           "type": "scatter",
           "x": [
            0.6
           ],
           "xaxis": "x",
           "y": [
            2.4
           ],
           "yaxis": "y"
          },
          {
           "hovertemplate": "Team=Man City<br>MatchesPlayed=18<br>MovingAverageFor=%{x}<br>MovingAverageAgainst=%{y}<extra></extra>",
           "legendgroup": "Man City",
           "marker": {
            "color": "#FFA15A",
            "symbol": "circle"
           },
           "mode": "markers",
           "name": "Man City",
           "orientation": "v",
           "showlegend": true,
           "type": "scatter",
           "x": [
            3.8
           ],
           "xaxis": "x",
           "y": [
            0.8
           ],
           "yaxis": "y"
          },
          {
           "hovertemplate": "Team=Brighton<br>MatchesPlayed=18<br>MovingAverageFor=%{x}<br>MovingAverageAgainst=%{y}<extra></extra>",
           "legendgroup": "Brighton",
           "marker": {
            "color": "#19d3f3",
            "symbol": "circle"
           },
           "mode": "markers",
           "name": "Brighton",
           "orientation": "v",
           "showlegend": true,
           "type": "scatter",
           "x": [
            1.2
           ],
           "xaxis": "x",
           "y": [
            1.2
           ],
           "yaxis": "y"
          },
          {
           "hovertemplate": "Team=Southampton<br>MatchesPlayed=18<br>MovingAverageFor=%{x}<br>MovingAverageAgainst=%{y}<extra></extra>",
           "legendgroup": "Southampton",
           "marker": {
            "color": "#FF6692",
            "symbol": "circle"
           },
           "mode": "markers",
           "name": "Southampton",
           "orientation": "v",
           "showlegend": true,
           "type": "scatter",
           "x": [
            0.8
           ],
           "xaxis": "x",
           "y": [
            2.4
           ],
           "yaxis": "y"
          },
          {
           "hovertemplate": "Team=Wolves<br>MatchesPlayed=18<br>MovingAverageFor=%{x}<br>MovingAverageAgainst=%{y}<extra></extra>",
           "legendgroup": "Wolves",
           "marker": {
            "color": "#B6E880",
            "symbol": "circle"
           },
           "mode": "markers",
           "name": "Wolves",
           "orientation": "v",
           "showlegend": true,
           "type": "scatter",
           "x": [
            1.8
           ],
           "xaxis": "x",
           "y": [
            2.4
           ],
           "yaxis": "y"
          },
          {
           "hovertemplate": "Team=Arsenal<br>MatchesPlayed=18<br>MovingAverageFor=%{x}<br>MovingAverageAgainst=%{y}<extra></extra>",
           "legendgroup": "Arsenal",
           "marker": {
            "color": "#FF97FF",
            "symbol": "circle"
           },
           "mode": "markers",
           "name": "Arsenal",
           "orientation": "v",
           "showlegend": true,
           "type": "scatter",
           "x": [
            1.6
           ],
           "xaxis": "x",
           "y": [
            1.2
           ],
           "yaxis": "y"
          },
          {
           "hovertemplate": "Team=West Ham<br>MatchesPlayed=18<br>MovingAverageFor=%{x}<br>MovingAverageAgainst=%{y}<extra></extra>",
           "legendgroup": "West Ham",
           "marker": {
            "color": "#FECB52",
            "symbol": "circle"
           },
           "mode": "markers",
           "name": "West Ham",
           "orientation": "v",
           "showlegend": true,
           "type": "scatter",
           "x": [
            1.4
           ],
           "xaxis": "x",
           "y": [
            1
           ],
           "yaxis": "y"
          }
         ],
         "name": "18"
        },
        {
         "data": [
          {
           "hovertemplate": "Team=Brentford<br>MatchesPlayed=19<br>MovingAverageFor=%{x}<br>MovingAverageAgainst=%{y}<extra></extra>",
           "legendgroup": "Brentford",
           "marker": {
            "color": "#636efa",
            "symbol": "circle"
           },
           "mode": "markers",
           "name": "Brentford",
           "orientation": "v",
           "showlegend": true,
           "type": "scatter",
           "x": [
            1.6
           ],
           "xaxis": "x",
           "y": [
            0.4
           ],
           "yaxis": "y"
          },
          {
           "hovertemplate": "Team=Man United<br>MatchesPlayed=19<br>MovingAverageFor=%{x}<br>MovingAverageAgainst=%{y}<extra></extra>",
           "legendgroup": "Man United",
           "marker": {
            "color": "#EF553B",
            "symbol": "circle"
           },
           "mode": "markers",
           "name": "Man United",
           "orientation": "v",
           "showlegend": true,
           "type": "scatter",
           "x": [
            2.2
           ],
           "xaxis": "x",
           "y": [
            1.2
           ],
           "yaxis": "y"
          },
          {
           "hovertemplate": "Team=Burnley<br>MatchesPlayed=19<br>MovingAverageFor=%{x}<br>MovingAverageAgainst=%{y}<extra></extra>",
           "legendgroup": "Burnley",
           "marker": {
            "color": "#00cc96",
            "symbol": "circle"
           },
           "mode": "markers",
           "name": "Burnley",
           "orientation": "v",
           "showlegend": true,
           "type": "scatter",
           "x": [
            1.6
           ],
           "xaxis": "x",
           "y": [
            1.4
           ],
           "yaxis": "y"
          },
          {
           "hovertemplate": "Team=Chelsea<br>MatchesPlayed=19<br>MovingAverageFor=%{x}<br>MovingAverageAgainst=%{y}<extra></extra>",
           "legendgroup": "Chelsea",
           "marker": {
            "color": "#ab63fa",
            "symbol": "circle"
           },
           "mode": "markers",
           "name": "Chelsea",
           "orientation": "v",
           "showlegend": true,
           "type": "scatter",
           "x": [
            1.6
           ],
           "xaxis": "x",
           "y": [
            1.6
           ],
           "yaxis": "y"
          },
          {
           "hovertemplate": "Team=Everton<br>MatchesPlayed=19<br>MovingAverageFor=%{x}<br>MovingAverageAgainst=%{y}<extra></extra>",
           "legendgroup": "Everton",
           "marker": {
            "color": "#FFA15A",
            "symbol": "circle"
           },
           "mode": "markers",
           "name": "Everton",
           "orientation": "v",
           "showlegend": true,
           "type": "scatter",
           "x": [
            1.6
           ],
           "xaxis": "x",
           "y": [
            1.2
           ],
           "yaxis": "y"
          },
          {
           "hovertemplate": "Team=Leicester<br>MatchesPlayed=19<br>MovingAverageFor=%{x}<br>MovingAverageAgainst=%{y}<extra></extra>",
           "legendgroup": "Leicester",
           "marker": {
            "color": "#19d3f3",
            "symbol": "circle"
           },
           "mode": "markers",
           "name": "Leicester",
           "orientation": "v",
           "showlegend": true,
           "type": "scatter",
           "x": [
            2
           ],
           "xaxis": "x",
           "y": [
            0.8
           ],
           "yaxis": "y"
          },
          {
           "hovertemplate": "Team=Watford<br>MatchesPlayed=19<br>MovingAverageFor=%{x}<br>MovingAverageAgainst=%{y}<extra></extra>",
           "legendgroup": "Watford",
           "marker": {
            "color": "#FF6692",
            "symbol": "circle"
           },
           "mode": "markers",
           "name": "Watford",
           "orientation": "v",
           "showlegend": true,
           "type": "scatter",
           "x": [
            0.6
           ],
           "xaxis": "x",
           "y": [
            2.4
           ],
           "yaxis": "y"
          },
          {
           "hovertemplate": "Team=Norwich<br>MatchesPlayed=19<br>MovingAverageFor=%{x}<br>MovingAverageAgainst=%{y}<extra></extra>",
           "legendgroup": "Norwich",
           "marker": {
            "color": "#B6E880",
            "symbol": "circle"
           },
           "mode": "markers",
           "name": "Norwich",
           "orientation": "v",
           "showlegend": true,
           "type": "scatter",
           "x": [
            0.6
           ],
           "xaxis": "x",
           "y": [
            3
           ],
           "yaxis": "y"
          },
          {
           "hovertemplate": "Team=Newcastle<br>MatchesPlayed=19<br>MovingAverageFor=%{x}<br>MovingAverageAgainst=%{y}<extra></extra>",
           "legendgroup": "Newcastle",
           "marker": {
            "color": "#FF97FF",
            "symbol": "circle"
           },
           "mode": "markers",
           "name": "Newcastle",
           "orientation": "v",
           "showlegend": true,
           "type": "scatter",
           "x": [
            1.2
           ],
           "xaxis": "x",
           "y": [
            0.4
           ],
           "yaxis": "y"
          },
          {
           "hovertemplate": "Team=Tottenham<br>MatchesPlayed=19<br>MovingAverageFor=%{x}<br>MovingAverageAgainst=%{y}<extra></extra>",
           "legendgroup": "Tottenham",
           "marker": {
            "color": "#FECB52",
            "symbol": "circle"
           },
           "mode": "markers",
           "name": "Tottenham",
           "orientation": "v",
           "showlegend": true,
           "type": "scatter",
           "x": [
            2.4
           ],
           "xaxis": "x",
           "y": [
            0.6
           ],
           "yaxis": "y"
          },
          {
           "hovertemplate": "Team=Liverpool<br>MatchesPlayed=19<br>MovingAverageFor=%{x}<br>MovingAverageAgainst=%{y}<extra></extra>",
           "legendgroup": "Liverpool",
           "marker": {
            "color": "#636efa",
            "symbol": "circle"
           },
           "mode": "markers",
           "name": "Liverpool",
           "orientation": "v",
           "showlegend": true,
           "type": "scatter",
           "x": [
            2.4
           ],
           "xaxis": "x",
           "y": [
            0.4
           ],
           "yaxis": "y"
          },
          {
           "hovertemplate": "Team=Aston Villa<br>MatchesPlayed=19<br>MovingAverageFor=%{x}<br>MovingAverageAgainst=%{y}<extra></extra>",
           "legendgroup": "Aston Villa",
           "marker": {
            "color": "#EF553B",
            "symbol": "circle"
           },
           "mode": "markers",
           "name": "Aston Villa",
           "orientation": "v",
           "showlegend": true,
           "type": "scatter",
           "x": [
            1
           ],
           "xaxis": "x",
           "y": [
            1.6
           ],
           "yaxis": "y"
          },
          {
           "hovertemplate": "Team=Crystal Palace<br>MatchesPlayed=19<br>MovingAverageFor=%{x}<br>MovingAverageAgainst=%{y}<extra></extra>",
           "legendgroup": "Crystal Palace",
           "marker": {
            "color": "#00cc96",
            "symbol": "circle"
           },
           "mode": "markers",
           "name": "Crystal Palace",
           "orientation": "v",
           "showlegend": true,
           "type": "scatter",
           "x": [
            1
           ],
           "xaxis": "x",
           "y": [
            0
           ],
           "yaxis": "y"
          },
          {
           "hovertemplate": "Team=Leeds<br>MatchesPlayed=19<br>MovingAverageFor=%{x}<br>MovingAverageAgainst=%{y}<extra></extra>",
           "legendgroup": "Leeds",
           "marker": {
            "color": "#ab63fa",
            "symbol": "circle"
           },
           "mode": "markers",
           "name": "Leeds",
           "orientation": "v",
           "showlegend": true,
           "type": "scatter",
           "x": [
            0.8
           ],
           "xaxis": "x",
           "y": [
            2
           ],
           "yaxis": "y"
          },
          {
           "hovertemplate": "Team=Man City<br>MatchesPlayed=19<br>MovingAverageFor=%{x}<br>MovingAverageAgainst=%{y}<extra></extra>",
           "legendgroup": "Man City",
           "marker": {
            "color": "#FFA15A",
            "symbol": "circle"
           },
           "mode": "markers",
           "name": "Man City",
           "orientation": "v",
           "showlegend": true,
           "type": "scatter",
           "x": [
            3.6
           ],
           "xaxis": "x",
           "y": [
            1
           ],
           "yaxis": "y"
          },
          {
           "hovertemplate": "Team=Brighton<br>MatchesPlayed=19<br>MovingAverageFor=%{x}<br>MovingAverageAgainst=%{y}<extra></extra>",
           "legendgroup": "Brighton",
           "marker": {
            "color": "#19d3f3",
            "symbol": "circle"
           },
           "mode": "markers",
           "name": "Brighton",
           "orientation": "v",
           "showlegend": true,
           "type": "scatter",
           "x": [
            1.8
           ],
           "xaxis": "x",
           "y": [
            1
           ],
           "yaxis": "y"
          },
          {
           "hovertemplate": "Team=Southampton<br>MatchesPlayed=19<br>MovingAverageFor=%{x}<br>MovingAverageAgainst=%{y}<extra></extra>",
           "legendgroup": "Southampton",
           "marker": {
            "color": "#FF6692",
            "symbol": "circle"
           },
           "mode": "markers",
           "name": "Southampton",
           "orientation": "v",
           "showlegend": true,
           "type": "scatter",
           "x": [
            0.8
           ],
           "xaxis": "x",
           "y": [
            2.4
           ],
           "yaxis": "y"
          },
          {
           "hovertemplate": "Team=Wolves<br>MatchesPlayed=19<br>MovingAverageFor=%{x}<br>MovingAverageAgainst=%{y}<extra></extra>",
           "legendgroup": "Wolves",
           "marker": {
            "color": "#B6E880",
            "symbol": "circle"
           },
           "mode": "markers",
           "name": "Wolves",
           "orientation": "v",
           "showlegend": true,
           "type": "scatter",
           "x": [
            1.2
           ],
           "xaxis": "x",
           "y": [
            2.6
           ],
           "yaxis": "y"
          },
          {
           "hovertemplate": "Team=Arsenal<br>MatchesPlayed=19<br>MovingAverageFor=%{x}<br>MovingAverageAgainst=%{y}<extra></extra>",
           "legendgroup": "Arsenal",
           "marker": {
            "color": "#FF97FF",
            "symbol": "circle"
           },
           "mode": "markers",
           "name": "Arsenal",
           "orientation": "v",
           "showlegend": true,
           "type": "scatter",
           "x": [
            2.2
           ],
           "xaxis": "x",
           "y": [
            1.4
           ],
           "yaxis": "y"
          },
          {
           "hovertemplate": "Team=West Ham<br>MatchesPlayed=19<br>MovingAverageFor=%{x}<br>MovingAverageAgainst=%{y}<extra></extra>",
           "legendgroup": "West Ham",
           "marker": {
            "color": "#FECB52",
            "symbol": "circle"
           },
           "mode": "markers",
           "name": "West Ham",
           "orientation": "v",
           "showlegend": true,
           "type": "scatter",
           "x": [
            1.6
           ],
           "xaxis": "x",
           "y": [
            1.4
           ],
           "yaxis": "y"
          }
         ],
         "name": "19"
        },
        {
         "data": [
          {
           "hovertemplate": "Team=Brentford<br>MatchesPlayed=20<br>MovingAverageFor=%{x}<br>MovingAverageAgainst=%{y}<extra></extra>",
           "legendgroup": "Brentford",
           "marker": {
            "color": "#636efa",
            "symbol": "circle"
           },
           "mode": "markers",
           "name": "Brentford",
           "orientation": "v",
           "showlegend": true,
           "type": "scatter",
           "x": [
            1.2
           ],
           "xaxis": "x",
           "y": [
            0.4
           ],
           "yaxis": "y"
          },
          {
           "hovertemplate": "Team=Man United<br>MatchesPlayed=20<br>MovingAverageFor=%{x}<br>MovingAverageAgainst=%{y}<extra></extra>",
           "legendgroup": "Man United",
           "marker": {
            "color": "#EF553B",
            "symbol": "circle"
           },
           "mode": "markers",
           "name": "Man United",
           "orientation": "v",
           "showlegend": true,
           "type": "scatter",
           "x": [
            1.8
           ],
           "xaxis": "x",
           "y": [
            1
           ],
           "yaxis": "y"
          },
          {
           "hovertemplate": "Team=Burnley<br>MatchesPlayed=20<br>MovingAverageFor=%{x}<br>MovingAverageAgainst=%{y}<extra></extra>",
           "legendgroup": "Burnley",
           "marker": {
            "color": "#00cc96",
            "symbol": "circle"
           },
           "mode": "markers",
           "name": "Burnley",
           "orientation": "v",
           "showlegend": true,
           "type": "scatter",
           "x": [
            1
           ],
           "xaxis": "x",
           "y": [
            1.4
           ],
           "yaxis": "y"
          },
          {
           "hovertemplate": "Team=Chelsea<br>MatchesPlayed=20<br>MovingAverageFor=%{x}<br>MovingAverageAgainst=%{y}<extra></extra>",
           "legendgroup": "Chelsea",
           "marker": {
            "color": "#ab63fa",
            "symbol": "circle"
           },
           "mode": "markers",
           "name": "Chelsea",
           "orientation": "v",
           "showlegend": true,
           "type": "scatter",
           "x": [
            1.6
           ],
           "xaxis": "x",
           "y": [
            0.8
           ],
           "yaxis": "y"
          },
          {
           "hovertemplate": "Team=Everton<br>MatchesPlayed=20<br>MovingAverageFor=%{x}<br>MovingAverageAgainst=%{y}<extra></extra>",
           "legendgroup": "Everton",
           "marker": {
            "color": "#FFA15A",
            "symbol": "circle"
           },
           "mode": "markers",
           "name": "Everton",
           "orientation": "v",
           "showlegend": true,
           "type": "scatter",
           "x": [
            1.8
           ],
           "xaxis": "x",
           "y": [
            1.6
           ],
           "yaxis": "y"
          },
          {
           "hovertemplate": "Team=Leicester<br>MatchesPlayed=20<br>MovingAverageFor=%{x}<br>MovingAverageAgainst=%{y}<extra></extra>",
           "legendgroup": "Leicester",
           "marker": {
            "color": "#19d3f3",
            "symbol": "circle"
           },
           "mode": "markers",
           "name": "Leicester",
           "orientation": "v",
           "showlegend": true,
           "type": "scatter",
           "x": [
            1.8
           ],
           "xaxis": "x",
           "y": [
            1.4
           ],
           "yaxis": "y"
          },
          {
           "hovertemplate": "Team=Watford<br>MatchesPlayed=20<br>MovingAverageFor=%{x}<br>MovingAverageAgainst=%{y}<extra></extra>",
           "legendgroup": "Watford",
           "marker": {
            "color": "#FF6692",
            "symbol": "circle"
           },
           "mode": "markers",
           "name": "Watford",
           "orientation": "v",
           "showlegend": true,
           "type": "scatter",
           "x": [
            0.6
           ],
           "xaxis": "x",
           "y": [
            2.2
           ],
           "yaxis": "y"
          },
          {
           "hovertemplate": "Team=Norwich<br>MatchesPlayed=20<br>MovingAverageFor=%{x}<br>MovingAverageAgainst=%{y}<extra></extra>",
           "legendgroup": "Norwich",
           "marker": {
            "color": "#B6E880",
            "symbol": "circle"
           },
           "mode": "markers",
           "name": "Norwich",
           "orientation": "v",
           "showlegend": true,
           "type": "scatter",
           "x": [
            0.4
           ],
           "xaxis": "x",
           "y": [
            3.4
           ],
           "yaxis": "y"
          },
          {
           "hovertemplate": "Team=Newcastle<br>MatchesPlayed=20<br>MovingAverageFor=%{x}<br>MovingAverageAgainst=%{y}<extra></extra>",
           "legendgroup": "Newcastle",
           "marker": {
            "color": "#FF97FF",
            "symbol": "circle"
           },
           "mode": "markers",
           "name": "Newcastle",
           "orientation": "v",
           "showlegend": true,
           "type": "scatter",
           "x": [
            1
           ],
           "xaxis": "x",
           "y": [
            0.8
           ],
           "yaxis": "y"
          },
          {
           "hovertemplate": "Team=Tottenham<br>MatchesPlayed=20<br>MovingAverageFor=%{x}<br>MovingAverageAgainst=%{y}<extra></extra>",
           "legendgroup": "Tottenham",
           "marker": {
            "color": "#FECB52",
            "symbol": "circle"
           },
           "mode": "markers",
           "name": "Tottenham",
           "orientation": "v",
           "showlegend": true,
           "type": "scatter",
           "x": [
            1.6
           ],
           "xaxis": "x",
           "y": [
            0.4
           ],
           "yaxis": "y"
          },
          {
           "hovertemplate": "Team=Liverpool<br>MatchesPlayed=20<br>MovingAverageFor=%{x}<br>MovingAverageAgainst=%{y}<extra></extra>",
           "legendgroup": "Liverpool",
           "marker": {
            "color": "#636efa",
            "symbol": "circle"
           },
           "mode": "markers",
           "name": "Liverpool",
           "orientation": "v",
           "showlegend": true,
           "type": "scatter",
           "x": [
            2.6
           ],
           "xaxis": "x",
           "y": [
            0.4
           ],
           "yaxis": "y"
          },
          {
           "hovertemplate": "Team=Aston Villa<br>MatchesPlayed=20<br>MovingAverageFor=%{x}<br>MovingAverageAgainst=%{y}<extra></extra>",
           "legendgroup": "Aston Villa",
           "marker": {
            "color": "#EF553B",
            "symbol": "circle"
           },
           "mode": "markers",
           "name": "Aston Villa",
           "orientation": "v",
           "showlegend": true,
           "type": "scatter",
           "x": [
            1.4
           ],
           "xaxis": "x",
           "y": [
            1.4
           ],
           "yaxis": "y"
          },
          {
           "hovertemplate": "Team=Crystal Palace<br>MatchesPlayed=20<br>MovingAverageFor=%{x}<br>MovingAverageAgainst=%{y}<extra></extra>",
           "legendgroup": "Crystal Palace",
           "marker": {
            "color": "#00cc96",
            "symbol": "circle"
           },
           "mode": "markers",
           "name": "Crystal Palace",
           "orientation": "v",
           "showlegend": true,
           "type": "scatter",
           "x": [
            1
           ],
           "xaxis": "x",
           "y": [
            0.6
           ],
           "yaxis": "y"
          },
          {
           "hovertemplate": "Team=Leeds<br>MatchesPlayed=20<br>MovingAverageFor=%{x}<br>MovingAverageAgainst=%{y}<extra></extra>",
           "legendgroup": "Leeds",
           "marker": {
            "color": "#ab63fa",
            "symbol": "circle"
           },
           "mode": "markers",
           "name": "Leeds",
           "orientation": "v",
           "showlegend": true,
           "type": "scatter",
           "x": [
            0.6
           ],
           "xaxis": "x",
           "y": [
            2.8
           ],
           "yaxis": "y"
          },
          {
           "hovertemplate": "Team=Man City<br>MatchesPlayed=20<br>MovingAverageFor=%{x}<br>MovingAverageAgainst=%{y}<extra></extra>",
           "legendgroup": "Man City",
           "marker": {
            "color": "#FFA15A",
            "symbol": "circle"
           },
           "mode": "markers",
           "name": "Man City",
           "orientation": "v",
           "showlegend": true,
           "type": "scatter",
           "x": [
            3.2
           ],
           "xaxis": "x",
           "y": [
            0.8
           ],
           "yaxis": "y"
          },
          {
           "hovertemplate": "Team=Brighton<br>MatchesPlayed=20<br>MovingAverageFor=%{x}<br>MovingAverageAgainst=%{y}<extra></extra>",
           "legendgroup": "Brighton",
           "marker": {
            "color": "#19d3f3",
            "symbol": "circle"
           },
           "mode": "markers",
           "name": "Brighton",
           "orientation": "v",
           "showlegend": true,
           "type": "scatter",
           "x": [
            2.2
           ],
           "xaxis": "x",
           "y": [
            0.8
           ],
           "yaxis": "y"
          },
          {
           "hovertemplate": "Team=Southampton<br>MatchesPlayed=20<br>MovingAverageFor=%{x}<br>MovingAverageAgainst=%{y}<extra></extra>",
           "legendgroup": "Southampton",
           "marker": {
            "color": "#FF6692",
            "symbol": "circle"
           },
           "mode": "markers",
           "name": "Southampton",
           "orientation": "v",
           "showlegend": true,
           "type": "scatter",
           "x": [
            0.8
           ],
           "xaxis": "x",
           "y": [
            2.6
           ],
           "yaxis": "y"
          },
          {
           "hovertemplate": "Team=Wolves<br>MatchesPlayed=20<br>MovingAverageFor=%{x}<br>MovingAverageAgainst=%{y}<extra></extra>",
           "legendgroup": "Wolves",
           "marker": {
            "color": "#B6E880",
            "symbol": "circle"
           },
           "mode": "markers",
           "name": "Wolves",
           "orientation": "v",
           "showlegend": true,
           "type": "scatter",
           "x": [
            0.8
           ],
           "xaxis": "x",
           "y": [
            2.2
           ],
           "yaxis": "y"
          },
          {
           "hovertemplate": "Team=Arsenal<br>MatchesPlayed=20<br>MovingAverageFor=%{x}<br>MovingAverageAgainst=%{y}<extra></extra>",
           "legendgroup": "Arsenal",
           "marker": {
            "color": "#FF97FF",
            "symbol": "circle"
           },
           "mode": "markers",
           "name": "Arsenal",
           "orientation": "v",
           "showlegend": true,
           "type": "scatter",
           "x": [
            2.2
           ],
           "xaxis": "x",
           "y": [
            1.4
           ],
           "yaxis": "y"
          },
          {
           "hovertemplate": "Team=West Ham<br>MatchesPlayed=20<br>MovingAverageFor=%{x}<br>MovingAverageAgainst=%{y}<extra></extra>",
           "legendgroup": "West Ham",
           "marker": {
            "color": "#FECB52",
            "symbol": "circle"
           },
           "mode": "markers",
           "name": "West Ham",
           "orientation": "v",
           "showlegend": true,
           "type": "scatter",
           "x": [
            2
           ],
           "xaxis": "x",
           "y": [
            1.6
           ],
           "yaxis": "y"
          }
         ],
         "name": "20"
        },
        {
         "data": [
          {
           "hovertemplate": "Team=Brentford<br>MatchesPlayed=21<br>MovingAverageFor=%{x}<br>MovingAverageAgainst=%{y}<extra></extra>",
           "legendgroup": "Brentford",
           "marker": {
            "color": "#636efa",
            "symbol": "circle"
           },
           "mode": "markers",
           "name": "Brentford",
           "orientation": "v",
           "showlegend": true,
           "type": "scatter",
           "x": [
            1
           ],
           "xaxis": "x",
           "y": [
            0.6
           ],
           "yaxis": "y"
          },
          {
           "hovertemplate": "Team=Man United<br>MatchesPlayed=21<br>MovingAverageFor=%{x}<br>MovingAverageAgainst=%{y}<extra></extra>",
           "legendgroup": "Man United",
           "marker": {
            "color": "#EF553B",
            "symbol": "circle"
           },
           "mode": "markers",
           "name": "Man United",
           "orientation": "v",
           "showlegend": true,
           "type": "scatter",
           "x": [
            1.8
           ],
           "xaxis": "x",
           "y": [
            0.8
           ],
           "yaxis": "y"
          },
          {
           "hovertemplate": "Team=Burnley<br>MatchesPlayed=21<br>MovingAverageFor=%{x}<br>MovingAverageAgainst=%{y}<extra></extra>",
           "legendgroup": "Burnley",
           "marker": {
            "color": "#00cc96",
            "symbol": "circle"
           },
           "mode": "markers",
           "name": "Burnley",
           "orientation": "v",
           "showlegend": true,
           "type": "scatter",
           "x": [
            0.8
           ],
           "xaxis": "x",
           "y": [
            2
           ],
           "yaxis": "y"
          },
          {
           "hovertemplate": "Team=Chelsea<br>MatchesPlayed=21<br>MovingAverageFor=%{x}<br>MovingAverageAgainst=%{y}<extra></extra>",
           "legendgroup": "Chelsea",
           "marker": {
            "color": "#ab63fa",
            "symbol": "circle"
           },
           "mode": "markers",
           "name": "Chelsea",
           "orientation": "v",
           "showlegend": true,
           "type": "scatter",
           "x": [
            1.6
           ],
           "xaxis": "x",
           "y": [
            1
           ],
           "yaxis": "y"
          },
          {
           "hovertemplate": "Team=Everton<br>MatchesPlayed=21<br>MovingAverageFor=%{x}<br>MovingAverageAgainst=%{y}<extra></extra>",
           "legendgroup": "Everton",
           "marker": {
            "color": "#FFA15A",
            "symbol": "circle"
           },
           "mode": "markers",
           "name": "Everton",
           "orientation": "v",
           "showlegend": true,
           "type": "scatter",
           "x": [
            2
           ],
           "xaxis": "x",
           "y": [
            1.4
           ],
           "yaxis": "y"
          },
          {
           "hovertemplate": "Team=Leicester<br>MatchesPlayed=21<br>MovingAverageFor=%{x}<br>MovingAverageAgainst=%{y}<extra></extra>",
           "legendgroup": "Leicester",
           "marker": {
            "color": "#19d3f3",
            "symbol": "circle"
           },
           "mode": "markers",
           "name": "Leicester",
           "orientation": "v",
           "showlegend": true,
           "type": "scatter",
           "x": [
            2.2
           ],
           "xaxis": "x",
           "y": [
            1.6
           ],
           "yaxis": "y"
          },
          {
           "hovertemplate": "Team=Watford<br>MatchesPlayed=21<br>MovingAverageFor=%{x}<br>MovingAverageAgainst=%{y}<extra></extra>",
           "legendgroup": "Watford",
           "marker": {
            "color": "#FF6692",
            "symbol": "circle"
           },
           "mode": "markers",
           "name": "Watford",
           "orientation": "v",
           "showlegend": true,
           "type": "scatter",
           "x": [
            0.4
           ],
           "xaxis": "x",
           "y": [
            2
           ],
           "yaxis": "y"
          },
          {
           "hovertemplate": "Team=Norwich<br>MatchesPlayed=21<br>MovingAverageFor=%{x}<br>MovingAverageAgainst=%{y}<extra></extra>",
           "legendgroup": "Norwich",
           "marker": {
            "color": "#B6E880",
            "symbol": "circle"
           },
           "mode": "markers",
           "name": "Norwich",
           "orientation": "v",
           "showlegend": true,
           "type": "scatter",
           "x": [
            0
           ],
           "xaxis": "x",
           "y": [
            3.6
           ],
           "yaxis": "y"
          },
          {
           "hovertemplate": "Team=Newcastle<br>MatchesPlayed=21<br>MovingAverageFor=%{x}<br>MovingAverageAgainst=%{y}<extra></extra>",
           "legendgroup": "Newcastle",
           "marker": {
            "color": "#FF97FF",
            "symbol": "circle"
           },
           "mode": "markers",
           "name": "Newcastle",
           "orientation": "v",
           "showlegend": true,
           "type": "scatter",
           "x": [
            0.8
           ],
           "xaxis": "x",
           "y": [
            1.4
           ],
           "yaxis": "y"
          },
          {
           "hovertemplate": "Team=Tottenham<br>MatchesPlayed=21<br>MovingAverageFor=%{x}<br>MovingAverageAgainst=%{y}<extra></extra>",
           "legendgroup": "Tottenham",
           "marker": {
            "color": "#FECB52",
            "symbol": "circle"
           },
           "mode": "markers",
           "name": "Tottenham",
           "orientation": "v",
           "showlegend": true,
           "type": "scatter",
           "x": [
            1.6
           ],
           "xaxis": "x",
           "y": [
            0.8
           ],
           "yaxis": "y"
          },
          {
           "hovertemplate": "Team=Liverpool<br>MatchesPlayed=21<br>MovingAverageFor=%{x}<br>MovingAverageAgainst=%{y}<extra></extra>",
           "legendgroup": "Liverpool",
           "marker": {
            "color": "#636efa",
            "symbol": "circle"
           },
           "mode": "markers",
           "name": "Liverpool",
           "orientation": "v",
           "showlegend": true,
           "type": "scatter",
           "x": [
            2.4
           ],
           "xaxis": "x",
           "y": [
            0.4
           ],
           "yaxis": "y"
          },
          {
           "hovertemplate": "Team=Aston Villa<br>MatchesPlayed=21<br>MovingAverageFor=%{x}<br>MovingAverageAgainst=%{y}<extra></extra>",
           "legendgroup": "Aston Villa",
           "marker": {
            "color": "#EF553B",
            "symbol": "circle"
           },
           "mode": "markers",
           "name": "Aston Villa",
           "orientation": "v",
           "showlegend": true,
           "type": "scatter",
           "x": [
            1
           ],
           "xaxis": "x",
           "y": [
            2
           ],
           "yaxis": "y"
          },
          {
           "hovertemplate": "Team=Crystal Palace<br>MatchesPlayed=21<br>MovingAverageFor=%{x}<br>MovingAverageAgainst=%{y}<extra></extra>",
           "legendgroup": "Crystal Palace",
           "marker": {
            "color": "#00cc96",
            "symbol": "circle"
           },
           "mode": "markers",
           "name": "Crystal Palace",
           "orientation": "v",
           "showlegend": true,
           "type": "scatter",
           "x": [
            0.8
           ],
           "xaxis": "x",
           "y": [
            1
           ],
           "yaxis": "y"
          },
          {
           "hovertemplate": "Team=Leeds<br>MatchesPlayed=21<br>MovingAverageFor=%{x}<br>MovingAverageAgainst=%{y}<extra></extra>",
           "legendgroup": "Leeds",
           "marker": {
            "color": "#ab63fa",
            "symbol": "circle"
           },
           "mode": "markers",
           "name": "Leeds",
           "orientation": "v",
           "showlegend": true,
           "type": "scatter",
           "x": [
            0.6
           ],
           "xaxis": "x",
           "y": [
            2.8
           ],
           "yaxis": "y"
          },
          {
           "hovertemplate": "Team=Man City<br>MatchesPlayed=21<br>MovingAverageFor=%{x}<br>MovingAverageAgainst=%{y}<extra></extra>",
           "legendgroup": "Man City",
           "marker": {
            "color": "#FFA15A",
            "symbol": "circle"
           },
           "mode": "markers",
           "name": "Man City",
           "orientation": "v",
           "showlegend": true,
           "type": "scatter",
           "x": [
            2.8
           ],
           "xaxis": "x",
           "y": [
            0.8
           ],
           "yaxis": "y"
          },
          {
           "hovertemplate": "Team=Brighton<br>MatchesPlayed=21<br>MovingAverageFor=%{x}<br>MovingAverageAgainst=%{y}<extra></extra>",
           "legendgroup": "Brighton",
           "marker": {
            "color": "#19d3f3",
            "symbol": "circle"
           },
           "mode": "markers",
           "name": "Brighton",
           "orientation": "v",
           "showlegend": true,
           "type": "scatter",
           "x": [
            2.4
           ],
           "xaxis": "x",
           "y": [
            0.8
           ],
           "yaxis": "y"
          },
          {
           "hovertemplate": "Team=Southampton<br>MatchesPlayed=21<br>MovingAverageFor=%{x}<br>MovingAverageAgainst=%{y}<extra></extra>",
           "legendgroup": "Southampton",
           "marker": {
            "color": "#FF6692",
            "symbol": "circle"
           },
           "mode": "markers",
           "name": "Southampton",
           "orientation": "v",
           "showlegend": true,
           "type": "scatter",
           "x": [
            1.2
           ],
           "xaxis": "x",
           "y": [
            1.8
           ],
           "yaxis": "y"
          },
          {
           "hovertemplate": "Team=Wolves<br>MatchesPlayed=21<br>MovingAverageFor=%{x}<br>MovingAverageAgainst=%{y}<extra></extra>",
           "legendgroup": "Wolves",
           "marker": {
            "color": "#B6E880",
            "symbol": "circle"
           },
           "mode": "markers",
           "name": "Wolves",
           "orientation": "v",
           "showlegend": true,
           "type": "scatter",
           "x": [
            0.8
           ],
           "xaxis": "x",
           "y": [
            2
           ],
           "yaxis": "y"
          },
          {
           "hovertemplate": "Team=Arsenal<br>MatchesPlayed=21<br>MovingAverageFor=%{x}<br>MovingAverageAgainst=%{y}<extra></extra>",
           "legendgroup": "Arsenal",
           "marker": {
            "color": "#FF97FF",
            "symbol": "circle"
           },
           "mode": "markers",
           "name": "Arsenal",
           "orientation": "v",
           "showlegend": true,
           "type": "scatter",
           "x": [
            2
           ],
           "xaxis": "x",
           "y": [
            2
           ],
           "yaxis": "y"
          },
          {
           "hovertemplate": "Team=West Ham<br>MatchesPlayed=21<br>MovingAverageFor=%{x}<br>MovingAverageAgainst=%{y}<extra></extra>",
           "legendgroup": "West Ham",
           "marker": {
            "color": "#FECB52",
            "symbol": "circle"
           },
           "mode": "markers",
           "name": "West Ham",
           "orientation": "v",
           "showlegend": true,
           "type": "scatter",
           "x": [
            1.6
           ],
           "xaxis": "x",
           "y": [
            1.4
           ],
           "yaxis": "y"
          }
         ],
         "name": "21"
        },
        {
         "data": [
          {
           "hovertemplate": "Team=Brentford<br>MatchesPlayed=22<br>MovingAverageFor=%{x}<br>MovingAverageAgainst=%{y}<extra></extra>",
           "legendgroup": "Brentford",
           "marker": {
            "color": "#636efa",
            "symbol": "circle"
           },
           "mode": "markers",
           "name": "Brentford",
           "orientation": "v",
           "showlegend": true,
           "type": "scatter",
           "x": [
            1.4
           ],
           "xaxis": "x",
           "y": [
            0.6
           ],
           "yaxis": "y"
          },
          {
           "hovertemplate": "Team=Man United<br>MatchesPlayed=22<br>MovingAverageFor=%{x}<br>MovingAverageAgainst=%{y}<extra></extra>",
           "legendgroup": "Man United",
           "marker": {
            "color": "#EF553B",
            "symbol": "circle"
           },
           "mode": "markers",
           "name": "Man United",
           "orientation": "v",
           "showlegend": true,
           "type": "scatter",
           "x": [
            1.6
           ],
           "xaxis": "x",
           "y": [
            0.6
           ],
           "yaxis": "y"
          },
          {
           "hovertemplate": "Team=Burnley<br>MatchesPlayed=22<br>MovingAverageFor=%{x}<br>MovingAverageAgainst=%{y}<extra></extra>",
           "legendgroup": "Burnley",
           "marker": {
            "color": "#00cc96",
            "symbol": "circle"
           },
           "mode": "markers",
           "name": "Burnley",
           "orientation": "v",
           "showlegend": true,
           "type": "scatter",
           "x": [
            1
           ],
           "xaxis": "x",
           "y": [
            2.4
           ],
           "yaxis": "y"
          },
          {
           "hovertemplate": "Team=Chelsea<br>MatchesPlayed=22<br>MovingAverageFor=%{x}<br>MovingAverageAgainst=%{y}<extra></extra>",
           "legendgroup": "Chelsea",
           "marker": {
            "color": "#ab63fa",
            "symbol": "circle"
           },
           "mode": "markers",
           "name": "Chelsea",
           "orientation": "v",
           "showlegend": true,
           "type": "scatter",
           "x": [
            1.8
           ],
           "xaxis": "x",
           "y": [
            0.6
           ],
           "yaxis": "y"
          },
          {
           "hovertemplate": "Team=Everton<br>MatchesPlayed=22<br>MovingAverageFor=%{x}<br>MovingAverageAgainst=%{y}<extra></extra>",
           "legendgroup": "Everton",
           "marker": {
            "color": "#FFA15A",
            "symbol": "circle"
           },
           "mode": "markers",
           "name": "Everton",
           "orientation": "v",
           "showlegend": true,
           "type": "scatter",
           "x": [
            1.8
           ],
           "xaxis": "x",
           "y": [
            2
           ],
           "yaxis": "y"
          },
          {
           "hovertemplate": "Team=Leicester<br>MatchesPlayed=22<br>MovingAverageFor=%{x}<br>MovingAverageAgainst=%{y}<extra></extra>",
           "legendgroup": "Leicester",
           "marker": {
            "color": "#19d3f3",
            "symbol": "circle"
           },
           "mode": "markers",
           "name": "Leicester",
           "orientation": "v",
           "showlegend": true,
           "type": "scatter",
           "x": [
            2.2
           ],
           "xaxis": "x",
           "y": [
            1.6
           ],
           "yaxis": "y"
          },
          {
           "hovertemplate": "Team=Watford<br>MatchesPlayed=22<br>MovingAverageFor=%{x}<br>MovingAverageAgainst=%{y}<extra></extra>",
           "legendgroup": "Watford",
           "marker": {
            "color": "#FF6692",
            "symbol": "circle"
           },
           "mode": "markers",
           "name": "Watford",
           "orientation": "v",
           "showlegend": true,
           "type": "scatter",
           "x": [
            0.8
           ],
           "xaxis": "x",
           "y": [
            1.8
           ],
           "yaxis": "y"
          },
          {
           "hovertemplate": "Team=Norwich<br>MatchesPlayed=22<br>MovingAverageFor=%{x}<br>MovingAverageAgainst=%{y}<extra></extra>",
           "legendgroup": "Norwich",
           "marker": {
            "color": "#B6E880",
            "symbol": "circle"
           },
           "mode": "markers",
           "name": "Norwich",
           "orientation": "v",
           "showlegend": true,
           "type": "scatter",
           "x": [
            0
           ],
           "xaxis": "x",
           "y": [
            3.4
           ],
           "yaxis": "y"
          },
          {
           "hovertemplate": "Team=Newcastle<br>MatchesPlayed=22<br>MovingAverageFor=%{x}<br>MovingAverageAgainst=%{y}<extra></extra>",
           "legendgroup": "Newcastle",
           "marker": {
            "color": "#FF97FF",
            "symbol": "circle"
           },
           "mode": "markers",
           "name": "Newcastle",
           "orientation": "v",
           "showlegend": true,
           "type": "scatter",
           "x": [
            0.8
           ],
           "xaxis": "x",
           "y": [
            1.6
           ],
           "yaxis": "y"
          },
          {
           "hovertemplate": "Team=Tottenham<br>MatchesPlayed=22<br>MovingAverageFor=%{x}<br>MovingAverageAgainst=%{y}<extra></extra>",
           "legendgroup": "Tottenham",
           "marker": {
            "color": "#FECB52",
            "symbol": "circle"
           },
           "mode": "markers",
           "name": "Tottenham",
           "orientation": "v",
           "showlegend": true,
           "type": "scatter",
           "x": [
            1.2
           ],
           "xaxis": "x",
           "y": [
            1.2
           ],
           "yaxis": "y"
          },
          {
           "hovertemplate": "Team=Liverpool<br>MatchesPlayed=22<br>MovingAverageFor=%{x}<br>MovingAverageAgainst=%{y}<extra></extra>",
           "legendgroup": "Liverpool",
           "marker": {
            "color": "#636efa",
            "symbol": "circle"
           },
           "mode": "markers",
           "name": "Liverpool",
           "orientation": "v",
           "showlegend": true,
           "type": "scatter",
           "x": [
            2.6
           ],
           "xaxis": "x",
           "y": [
            1
           ],
           "yaxis": "y"
          },
          {
           "hovertemplate": "Team=Aston Villa<br>MatchesPlayed=22<br>MovingAverageFor=%{x}<br>MovingAverageAgainst=%{y}<extra></extra>",
           "legendgroup": "Aston Villa",
           "marker": {
            "color": "#EF553B",
            "symbol": "circle"
           },
           "mode": "markers",
           "name": "Aston Villa",
           "orientation": "v",
           "showlegend": true,
           "type": "scatter",
           "x": [
            1
           ],
           "xaxis": "x",
           "y": [
            1.6
           ],
           "yaxis": "y"
          },
          {
           "hovertemplate": "Team=Crystal Palace<br>MatchesPlayed=22<br>MovingAverageFor=%{x}<br>MovingAverageAgainst=%{y}<extra></extra>",
           "legendgroup": "Crystal Palace",
           "marker": {
            "color": "#00cc96",
            "symbol": "circle"
           },
           "mode": "markers",
           "name": "Crystal Palace",
           "orientation": "v",
           "showlegend": true,
           "type": "scatter",
           "x": [
            0.8
           ],
           "xaxis": "x",
           "y": [
            1.6
           ],
           "yaxis": "y"
          },
          {
           "hovertemplate": "Team=Leeds<br>MatchesPlayed=22<br>MovingAverageFor=%{x}<br>MovingAverageAgainst=%{y}<extra></extra>",
           "legendgroup": "Leeds",
           "marker": {
            "color": "#ab63fa",
            "symbol": "circle"
           },
           "mode": "markers",
           "name": "Leeds",
           "orientation": "v",
           "showlegend": true,
           "type": "scatter",
           "x": [
            0.8
           ],
           "xaxis": "x",
           "y": [
            2.2
           ],
           "yaxis": "y"
          },
          {
           "hovertemplate": "Team=Man City<br>MatchesPlayed=22<br>MovingAverageFor=%{x}<br>MovingAverageAgainst=%{y}<extra></extra>",
           "legendgroup": "Man City",
           "marker": {
            "color": "#FFA15A",
            "symbol": "circle"
           },
           "mode": "markers",
           "name": "Man City",
           "orientation": "v",
           "showlegend": true,
           "type": "scatter",
           "x": [
            2
           ],
           "xaxis": "x",
           "y": [
            0.6
           ],
           "yaxis": "y"
          },
          {
           "hovertemplate": "Team=Brighton<br>MatchesPlayed=22<br>MovingAverageFor=%{x}<br>MovingAverageAgainst=%{y}<extra></extra>",
           "legendgroup": "Brighton",
           "marker": {
            "color": "#19d3f3",
            "symbol": "circle"
           },
           "mode": "markers",
           "name": "Brighton",
           "orientation": "v",
           "showlegend": true,
           "type": "scatter",
           "x": [
            2.2
           ],
           "xaxis": "x",
           "y": [
            0.6
           ],
           "yaxis": "y"
          },
          {
           "hovertemplate": "Team=Southampton<br>MatchesPlayed=22<br>MovingAverageFor=%{x}<br>MovingAverageAgainst=%{y}<extra></extra>",
           "legendgroup": "Southampton",
           "marker": {
            "color": "#FF6692",
            "symbol": "circle"
           },
           "mode": "markers",
           "name": "Southampton",
           "orientation": "v",
           "showlegend": true,
           "type": "scatter",
           "x": [
            1
           ],
           "xaxis": "x",
           "y": [
            1.8
           ],
           "yaxis": "y"
          },
          {
           "hovertemplate": "Team=Wolves<br>MatchesPlayed=22<br>MovingAverageFor=%{x}<br>MovingAverageAgainst=%{y}<extra></extra>",
           "legendgroup": "Wolves",
           "marker": {
            "color": "#B6E880",
            "symbol": "circle"
           },
           "mode": "markers",
           "name": "Wolves",
           "orientation": "v",
           "showlegend": true,
           "type": "scatter",
           "x": [
            1
           ],
           "xaxis": "x",
           "y": [
            1.4
           ],
           "yaxis": "y"
          },
          {
           "hovertemplate": "Team=Arsenal<br>MatchesPlayed=22<br>MovingAverageFor=%{x}<br>MovingAverageAgainst=%{y}<extra></extra>",
           "legendgroup": "Arsenal",
           "marker": {
            "color": "#FF97FF",
            "symbol": "circle"
           },
           "mode": "markers",
           "name": "Arsenal",
           "orientation": "v",
           "showlegend": true,
           "type": "scatter",
           "x": [
            1.6
           ],
           "xaxis": "x",
           "y": [
            1.8
           ],
           "yaxis": "y"
          },
          {
           "hovertemplate": "Team=West Ham<br>MatchesPlayed=22<br>MovingAverageFor=%{x}<br>MovingAverageAgainst=%{y}<extra></extra>",
           "legendgroup": "West Ham",
           "marker": {
            "color": "#FECB52",
            "symbol": "circle"
           },
           "mode": "markers",
           "name": "West Ham",
           "orientation": "v",
           "showlegend": true,
           "type": "scatter",
           "x": [
            1.8
           ],
           "xaxis": "x",
           "y": [
            1.4
           ],
           "yaxis": "y"
          }
         ],
         "name": "22"
        },
        {
         "data": [
          {
           "hovertemplate": "Team=Brentford<br>MatchesPlayed=23<br>MovingAverageFor=%{x}<br>MovingAverageAgainst=%{y}<extra></extra>",
           "legendgroup": "Brentford",
           "marker": {
            "color": "#636efa",
            "symbol": "circle"
           },
           "mode": "markers",
           "name": "Brentford",
           "orientation": "v",
           "showlegend": true,
           "type": "scatter",
           "x": [
            1.2
           ],
           "xaxis": "x",
           "y": [
            0.8
           ],
           "yaxis": "y"
          },
          {
           "hovertemplate": "Team=Man United<br>MatchesPlayed=23<br>MovingAverageFor=%{x}<br>MovingAverageAgainst=%{y}<extra></extra>",
           "legendgroup": "Man United",
           "marker": {
            "color": "#EF553B",
            "symbol": "circle"
           },
           "mode": "markers",
           "name": "Man United",
           "orientation": "v",
           "showlegend": true,
           "type": "scatter",
           "x": [
            1.8
           ],
           "xaxis": "x",
           "y": [
            1.2
           ],
           "yaxis": "y"
          },
          {
           "hovertemplate": "Team=Burnley<br>MatchesPlayed=23<br>MovingAverageFor=%{x}<br>MovingAverageAgainst=%{y}<extra></extra>",
           "legendgroup": "Burnley",
           "marker": {
            "color": "#00cc96",
            "symbol": "circle"
           },
           "mode": "markers",
           "name": "Burnley",
           "orientation": "v",
           "showlegend": true,
           "type": "scatter",
           "x": [
            0.8
           ],
           "xaxis": "x",
           "y": [
            2.2
           ],
           "yaxis": "y"
          },
          {
           "hovertemplate": "Team=Chelsea<br>MatchesPlayed=23<br>MovingAverageFor=%{x}<br>MovingAverageAgainst=%{y}<extra></extra>",
           "legendgroup": "Chelsea",
           "marker": {
            "color": "#ab63fa",
            "symbol": "circle"
           },
           "mode": "markers",
           "name": "Chelsea",
           "orientation": "v",
           "showlegend": true,
           "type": "scatter",
           "x": [
            1.8
           ],
           "xaxis": "x",
           "y": [
            0.4
           ],
           "yaxis": "y"
          },
          {
           "hovertemplate": "Team=Everton<br>MatchesPlayed=23<br>MovingAverageFor=%{x}<br>MovingAverageAgainst=%{y}<extra></extra>",
           "legendgroup": "Everton",
           "marker": {
            "color": "#FFA15A",
            "symbol": "circle"
           },
           "mode": "markers",
           "name": "Everton",
           "orientation": "v",
           "showlegend": true,
           "type": "scatter",
           "x": [
            1.6
           ],
           "xaxis": "x",
           "y": [
            1.6
           ],
           "yaxis": "y"
          },
          {
           "hovertemplate": "Team=Leicester<br>MatchesPlayed=23<br>MovingAverageFor=%{x}<br>MovingAverageAgainst=%{y}<extra></extra>",
           "legendgroup": "Leicester",
           "marker": {
            "color": "#19d3f3",
            "symbol": "circle"
           },
           "mode": "markers",
           "name": "Leicester",
           "orientation": "v",
           "showlegend": true,
           "type": "scatter",
           "x": [
            2
           ],
           "xaxis": "x",
           "y": [
            2
           ],
           "yaxis": "y"
          },
          {
           "hovertemplate": "Team=Watford<br>MatchesPlayed=23<br>MovingAverageFor=%{x}<br>MovingAverageAgainst=%{y}<extra></extra>",
           "legendgroup": "Watford",
           "marker": {
            "color": "#FF6692",
            "symbol": "circle"
           },
           "mode": "markers",
           "name": "Watford",
           "orientation": "v",
           "showlegend": true,
           "type": "scatter",
           "x": [
            0.8
           ],
           "xaxis": "x",
           "y": [
            2
           ],
           "yaxis": "y"
          },
          {
           "hovertemplate": "Team=Norwich<br>MatchesPlayed=23<br>MovingAverageFor=%{x}<br>MovingAverageAgainst=%{y}<extra></extra>",
           "legendgroup": "Norwich",
           "marker": {
            "color": "#B6E880",
            "symbol": "circle"
           },
           "mode": "markers",
           "name": "Norwich",
           "orientation": "v",
           "showlegend": true,
           "type": "scatter",
           "x": [
            0
           ],
           "xaxis": "x",
           "y": [
            2.6
           ],
           "yaxis": "y"
          },
          {
           "hovertemplate": "Team=Newcastle<br>MatchesPlayed=23<br>MovingAverageFor=%{x}<br>MovingAverageAgainst=%{y}<extra></extra>",
           "legendgroup": "Newcastle",
           "marker": {
            "color": "#FF97FF",
            "symbol": "circle"
           },
           "mode": "markers",
           "name": "Newcastle",
           "orientation": "v",
           "showlegend": true,
           "type": "scatter",
           "x": [
            1
           ],
           "xaxis": "x",
           "y": [
            1.8
           ],
           "yaxis": "y"
          },
          {
           "hovertemplate": "Team=Tottenham<br>MatchesPlayed=23<br>MovingAverageFor=%{x}<br>MovingAverageAgainst=%{y}<extra></extra>",
           "legendgroup": "Tottenham",
           "marker": {
            "color": "#FECB52",
            "symbol": "circle"
           },
           "mode": "markers",
           "name": "Tottenham",
           "orientation": "v",
           "showlegend": true,
           "type": "scatter",
           "x": [
            1.2
           ],
           "xaxis": "x",
           "y": [
            1.6
           ],
           "yaxis": "y"
          },
          {
           "hovertemplate": "Team=Liverpool<br>MatchesPlayed=23<br>MovingAverageFor=%{x}<br>MovingAverageAgainst=%{y}<extra></extra>",
           "legendgroup": "Liverpool",
           "marker": {
            "color": "#636efa",
            "symbol": "circle"
           },
           "mode": "markers",
           "name": "Liverpool",
           "orientation": "v",
           "showlegend": true,
           "type": "scatter",
           "x": [
            3.4
           ],
           "xaxis": "x",
           "y": [
            0.8
           ],
           "yaxis": "y"
          },
          {
           "hovertemplate": "Team=Aston Villa<br>MatchesPlayed=23<br>MovingAverageFor=%{x}<br>MovingAverageAgainst=%{y}<extra></extra>",
           "legendgroup": "Aston Villa",
           "marker": {
            "color": "#EF553B",
            "symbol": "circle"
           },
           "mode": "markers",
           "name": "Aston Villa",
           "orientation": "v",
           "showlegend": true,
           "type": "scatter",
           "x": [
            1
           ],
           "xaxis": "x",
           "y": [
            1.8
           ],
           "yaxis": "y"
          },
          {
           "hovertemplate": "Team=Crystal Palace<br>MatchesPlayed=23<br>MovingAverageFor=%{x}<br>MovingAverageAgainst=%{y}<extra></extra>",
           "legendgroup": "Crystal Palace",
           "marker": {
            "color": "#00cc96",
            "symbol": "circle"
           },
           "mode": "markers",
           "name": "Crystal Palace",
           "orientation": "v",
           "showlegend": true,
           "type": "scatter",
           "x": [
            1
           ],
           "xaxis": "x",
           "y": [
            2
           ],
           "yaxis": "y"
          },
          {
           "hovertemplate": "Team=Leeds<br>MatchesPlayed=23<br>MovingAverageFor=%{x}<br>MovingAverageAgainst=%{y}<extra></extra>",
           "legendgroup": "Leeds",
           "marker": {
            "color": "#ab63fa",
            "symbol": "circle"
           },
           "mode": "markers",
           "name": "Leeds",
           "orientation": "v",
           "showlegend": true,
           "type": "scatter",
           "x": [
            0.8
           ],
           "xaxis": "x",
           "y": [
            1.8
           ],
           "yaxis": "y"
          },
          {
           "hovertemplate": "Team=Man City<br>MatchesPlayed=23<br>MovingAverageFor=%{x}<br>MovingAverageAgainst=%{y}<extra></extra>",
           "legendgroup": "Man City",
           "marker": {
            "color": "#FFA15A",
            "symbol": "circle"
           },
           "mode": "markers",
           "name": "Man City",
           "orientation": "v",
           "showlegend": true,
           "type": "scatter",
           "x": [
            1.4
           ],
           "xaxis": "x",
           "y": [
            1
           ],
           "yaxis": "y"
          },
          {
           "hovertemplate": "Team=Brighton<br>MatchesPlayed=23<br>MovingAverageFor=%{x}<br>MovingAverageAgainst=%{y}<extra></extra>",
           "legendgroup": "Brighton",
           "marker": {
            "color": "#19d3f3",
            "symbol": "circle"
           },
           "mode": "markers",
           "name": "Brighton",
           "orientation": "v",
           "showlegend": true,
           "type": "scatter",
           "x": [
            1.4
           ],
           "xaxis": "x",
           "y": [
            0.6
           ],
           "yaxis": "y"
          },
          {
           "hovertemplate": "Team=Southampton<br>MatchesPlayed=23<br>MovingAverageFor=%{x}<br>MovingAverageAgainst=%{y}<extra></extra>",
           "legendgroup": "Southampton",
           "marker": {
            "color": "#FF6692",
            "symbol": "circle"
           },
           "mode": "markers",
           "name": "Southampton",
           "orientation": "v",
           "showlegend": true,
           "type": "scatter",
           "x": [
            1
           ],
           "xaxis": "x",
           "y": [
            2
           ],
           "yaxis": "y"
          },
          {
           "hovertemplate": "Team=Wolves<br>MatchesPlayed=23<br>MovingAverageFor=%{x}<br>MovingAverageAgainst=%{y}<extra></extra>",
           "legendgroup": "Wolves",
           "marker": {
            "color": "#B6E880",
            "symbol": "circle"
           },
           "mode": "markers",
           "name": "Wolves",
           "orientation": "v",
           "showlegend": true,
           "type": "scatter",
           "x": [
            1.4
           ],
           "xaxis": "x",
           "y": [
            0.8
           ],
           "yaxis": "y"
          },
          {
           "hovertemplate": "Team=Arsenal<br>MatchesPlayed=23<br>MovingAverageFor=%{x}<br>MovingAverageAgainst=%{y}<extra></extra>",
           "legendgroup": "Arsenal",
           "marker": {
            "color": "#FF97FF",
            "symbol": "circle"
           },
           "mode": "markers",
           "name": "Arsenal",
           "orientation": "v",
           "showlegend": true,
           "type": "scatter",
           "x": [
            1.2
           ],
           "xaxis": "x",
           "y": [
            1.6
           ],
           "yaxis": "y"
          },
          {
           "hovertemplate": "Team=West Ham<br>MatchesPlayed=23<br>MovingAverageFor=%{x}<br>MovingAverageAgainst=%{y}<extra></extra>",
           "legendgroup": "West Ham",
           "marker": {
            "color": "#FECB52",
            "symbol": "circle"
           },
           "mode": "markers",
           "name": "West Ham",
           "orientation": "v",
           "showlegend": true,
           "type": "scatter",
           "x": [
            1.8
           ],
           "xaxis": "x",
           "y": [
            1
           ],
           "yaxis": "y"
          }
         ],
         "name": "23"
        },
        {
         "data": [
          {
           "hovertemplate": "Team=Brentford<br>MatchesPlayed=24<br>MovingAverageFor=%{x}<br>MovingAverageAgainst=%{y}<extra></extra>",
           "legendgroup": "Brentford",
           "marker": {
            "color": "#636efa",
            "symbol": "circle"
           },
           "mode": "markers",
           "name": "Brentford",
           "orientation": "v",
           "showlegend": true,
           "type": "scatter",
           "x": [
            1.2
           ],
           "xaxis": "x",
           "y": [
            1
           ],
           "yaxis": "y"
          },
          {
           "hovertemplate": "Team=Man United<br>MatchesPlayed=24<br>MovingAverageFor=%{x}<br>MovingAverageAgainst=%{y}<extra></extra>",
           "legendgroup": "Man United",
           "marker": {
            "color": "#EF553B",
            "symbol": "circle"
           },
           "mode": "markers",
           "name": "Man United",
           "orientation": "v",
           "showlegend": true,
           "type": "scatter",
           "x": [
            1.8
           ],
           "xaxis": "x",
           "y": [
            1.2
           ],
           "yaxis": "y"
          },
          {
           "hovertemplate": "Team=Burnley<br>MatchesPlayed=24<br>MovingAverageFor=%{x}<br>MovingAverageAgainst=%{y}<extra></extra>",
           "legendgroup": "Burnley",
           "marker": {
            "color": "#00cc96",
            "symbol": "circle"
           },
           "mode": "markers",
           "name": "Burnley",
           "orientation": "v",
           "showlegend": true,
           "type": "scatter",
           "x": [
            1
           ],
           "xaxis": "x",
           "y": [
            2.2
           ],
           "yaxis": "y"
          },
          {
           "hovertemplate": "Team=Chelsea<br>MatchesPlayed=24<br>MovingAverageFor=%{x}<br>MovingAverageAgainst=%{y}<extra></extra>",
           "legendgroup": "Chelsea",
           "marker": {
            "color": "#ab63fa",
            "symbol": "circle"
           },
           "mode": "markers",
           "name": "Chelsea",
           "orientation": "v",
           "showlegend": true,
           "type": "scatter",
           "x": [
            2
           ],
           "xaxis": "x",
           "y": [
            0.2
           ],
           "yaxis": "y"
          },
          {
           "hovertemplate": "Team=Everton<br>MatchesPlayed=24<br>MovingAverageFor=%{x}<br>MovingAverageAgainst=%{y}<extra></extra>",
           "legendgroup": "Everton",
           "marker": {
            "color": "#FFA15A",
            "symbol": "circle"
           },
           "mode": "markers",
           "name": "Everton",
           "orientation": "v",
           "showlegend": true,
           "type": "scatter",
           "x": [
            1.2
           ],
           "xaxis": "x",
           "y": [
            1.6
           ],
           "yaxis": "y"
          },
          {
           "hovertemplate": "Team=Leicester<br>MatchesPlayed=24<br>MovingAverageFor=%{x}<br>MovingAverageAgainst=%{y}<extra></extra>",
           "legendgroup": "Leicester",
           "marker": {
            "color": "#19d3f3",
            "symbol": "circle"
           },
           "mode": "markers",
           "name": "Leicester",
           "orientation": "v",
           "showlegend": true,
           "type": "scatter",
           "x": [
            1.6
           ],
           "xaxis": "x",
           "y": [
            2
           ],
           "yaxis": "y"
          },
          {
           "hovertemplate": "Team=Watford<br>MatchesPlayed=24<br>MovingAverageFor=%{x}<br>MovingAverageAgainst=%{y}<extra></extra>",
           "legendgroup": "Watford",
           "marker": {
            "color": "#FF6692",
            "symbol": "circle"
           },
           "mode": "markers",
           "name": "Watford",
           "orientation": "v",
           "showlegend": true,
           "type": "scatter",
           "x": [
            1.6
           ],
           "xaxis": "x",
           "y": [
            1.4
           ],
           "yaxis": "y"
          },
          {
           "hovertemplate": "Team=Norwich<br>MatchesPlayed=24<br>MovingAverageFor=%{x}<br>MovingAverageAgainst=%{y}<extra></extra>",
           "legendgroup": "Norwich",
           "marker": {
            "color": "#B6E880",
            "symbol": "circle"
           },
           "mode": "markers",
           "name": "Norwich",
           "orientation": "v",
           "showlegend": true,
           "type": "scatter",
           "x": [
            0
           ],
           "xaxis": "x",
           "y": [
            3
           ],
           "yaxis": "y"
          },
          {
           "hovertemplate": "Team=Newcastle<br>MatchesPlayed=24<br>MovingAverageFor=%{x}<br>MovingAverageAgainst=%{y}<extra></extra>",
           "legendgroup": "Newcastle",
           "marker": {
            "color": "#FF97FF",
            "symbol": "circle"
           },
           "mode": "markers",
           "name": "Newcastle",
           "orientation": "v",
           "showlegend": true,
           "type": "scatter",
           "x": [
            0.8
           ],
           "xaxis": "x",
           "y": [
            2
           ],
           "yaxis": "y"
          },
          {
           "hovertemplate": "Team=Tottenham<br>MatchesPlayed=24<br>MovingAverageFor=%{x}<br>MovingAverageAgainst=%{y}<extra></extra>",
           "legendgroup": "Tottenham",
           "marker": {
            "color": "#FECB52",
            "symbol": "circle"
           },
           "mode": "markers",
           "name": "Tottenham",
           "orientation": "v",
           "showlegend": true,
           "type": "scatter",
           "x": [
            1
           ],
           "xaxis": "x",
           "y": [
            1.8
           ],
           "yaxis": "y"
          },
          {
           "hovertemplate": "Team=Liverpool<br>MatchesPlayed=24<br>MovingAverageFor=%{x}<br>MovingAverageAgainst=%{y}<extra></extra>",
           "legendgroup": "Liverpool",
           "marker": {
            "color": "#636efa",
            "symbol": "circle"
           },
           "mode": "markers",
           "name": "Liverpool",
           "orientation": "v",
           "showlegend": true,
           "type": "scatter",
           "x": [
            3.8
           ],
           "xaxis": "x",
           "y": [
            0.6
           ],
           "yaxis": "y"
          },
          {
           "hovertemplate": "Team=Aston Villa<br>MatchesPlayed=24<br>MovingAverageFor=%{x}<br>MovingAverageAgainst=%{y}<extra></extra>",
           "legendgroup": "Aston Villa",
           "marker": {
            "color": "#EF553B",
            "symbol": "circle"
           },
           "mode": "markers",
           "name": "Aston Villa",
           "orientation": "v",
           "showlegend": true,
           "type": "scatter",
           "x": [
            1
           ],
           "xaxis": "x",
           "y": [
            2.2
           ],
           "yaxis": "y"
          },
          {
           "hovertemplate": "Team=Crystal Palace<br>MatchesPlayed=24<br>MovingAverageFor=%{x}<br>MovingAverageAgainst=%{y}<extra></extra>",
           "legendgroup": "Crystal Palace",
           "marker": {
            "color": "#00cc96",
            "symbol": "circle"
           },
           "mode": "markers",
           "name": "Crystal Palace",
           "orientation": "v",
           "showlegend": true,
           "type": "scatter",
           "x": [
            1.2
           ],
           "xaxis": "x",
           "y": [
            2
           ],
           "yaxis": "y"
          },
          {
           "hovertemplate": "Team=Leeds<br>MatchesPlayed=24<br>MovingAverageFor=%{x}<br>MovingAverageAgainst=%{y}<extra></extra>",
           "legendgroup": "Leeds",
           "marker": {
            "color": "#ab63fa",
            "symbol": "circle"
           },
           "mode": "markers",
           "name": "Leeds",
           "orientation": "v",
           "showlegend": true,
           "type": "scatter",
           "x": [
            1
           ],
           "xaxis": "x",
           "y": [
            1.8
           ],
           "yaxis": "y"
          },
          {
           "hovertemplate": "Team=Man City<br>MatchesPlayed=24<br>MovingAverageFor=%{x}<br>MovingAverageAgainst=%{y}<extra></extra>",
           "legendgroup": "Man City",
           "marker": {
            "color": "#FFA15A",
            "symbol": "circle"
           },
           "mode": "markers",
           "name": "Man City",
           "orientation": "v",
           "showlegend": true,
           "type": "scatter",
           "x": [
            1.6
           ],
           "xaxis": "x",
           "y": [
            0.8
           ],
           "yaxis": "y"
          },
          {
           "hovertemplate": "Team=Brighton<br>MatchesPlayed=24<br>MovingAverageFor=%{x}<br>MovingAverageAgainst=%{y}<extra></extra>",
           "legendgroup": "Brighton",
           "marker": {
            "color": "#19d3f3",
            "symbol": "circle"
           },
           "mode": "markers",
           "name": "Brighton",
           "orientation": "v",
           "showlegend": true,
           "type": "scatter",
           "x": [
            1.2
           ],
           "xaxis": "x",
           "y": [
            0.8
           ],
           "yaxis": "y"
          },
          {
           "hovertemplate": "Team=Southampton<br>MatchesPlayed=24<br>MovingAverageFor=%{x}<br>MovingAverageAgainst=%{y}<extra></extra>",
           "legendgroup": "Southampton",
           "marker": {
            "color": "#FF6692",
            "symbol": "circle"
           },
           "mode": "markers",
           "name": "Southampton",
           "orientation": "v",
           "showlegend": true,
           "type": "scatter",
           "x": [
            1
           ],
           "xaxis": "x",
           "y": [
            1.6
           ],
           "yaxis": "y"
          },
          {
           "hovertemplate": "Team=Wolves<br>MatchesPlayed=24<br>MovingAverageFor=%{x}<br>MovingAverageAgainst=%{y}<extra></extra>",
           "legendgroup": "Wolves",
           "marker": {
            "color": "#B6E880",
            "symbol": "circle"
           },
           "mode": "markers",
           "name": "Wolves",
           "orientation": "v",
           "showlegend": true,
           "type": "scatter",
           "x": [
            1.4
           ],
           "xaxis": "x",
           "y": [
            0.8
           ],
           "yaxis": "y"
          },
          {
           "hovertemplate": "Team=Arsenal<br>MatchesPlayed=24<br>MovingAverageFor=%{x}<br>MovingAverageAgainst=%{y}<extra></extra>",
           "legendgroup": "Arsenal",
           "marker": {
            "color": "#FF97FF",
            "symbol": "circle"
           },
           "mode": "markers",
           "name": "Arsenal",
           "orientation": "v",
           "showlegend": true,
           "type": "scatter",
           "x": [
            0.6
           ],
           "xaxis": "x",
           "y": [
            1.4
           ],
           "yaxis": "y"
          },
          {
           "hovertemplate": "Team=West Ham<br>MatchesPlayed=24<br>MovingAverageFor=%{x}<br>MovingAverageAgainst=%{y}<extra></extra>",
           "legendgroup": "West Ham",
           "marker": {
            "color": "#FECB52",
            "symbol": "circle"
           },
           "mode": "markers",
           "name": "West Ham",
           "orientation": "v",
           "showlegend": true,
           "type": "scatter",
           "x": [
            2.2
           ],
           "xaxis": "x",
           "y": [
            0.8
           ],
           "yaxis": "y"
          }
         ],
         "name": "24"
        },
        {
         "data": [
          {
           "hovertemplate": "Team=Brentford<br>MatchesPlayed=25<br>MovingAverageFor=%{x}<br>MovingAverageAgainst=%{y}<extra></extra>",
           "legendgroup": "Brentford",
           "marker": {
            "color": "#636efa",
            "symbol": "circle"
           },
           "mode": "markers",
           "name": "Brentford",
           "orientation": "v",
           "showlegend": true,
           "type": "scatter",
           "x": [
            1.8
           ],
           "xaxis": "x",
           "y": [
            1.6
           ],
           "yaxis": "y"
          },
          {
           "hovertemplate": "Team=Man United<br>MatchesPlayed=25<br>MovingAverageFor=%{x}<br>MovingAverageAgainst=%{y}<extra></extra>",
           "legendgroup": "Man United",
           "marker": {
            "color": "#EF553B",
            "symbol": "circle"
           },
           "mode": "markers",
           "name": "Man United",
           "orientation": "v",
           "showlegend": true,
           "type": "scatter",
           "x": [
            1.8
           ],
           "xaxis": "x",
           "y": [
            1.8
           ],
           "yaxis": "y"
          },
          {
           "hovertemplate": "Team=Burnley<br>MatchesPlayed=25<br>MovingAverageFor=%{x}<br>MovingAverageAgainst=%{y}<extra></extra>",
           "legendgroup": "Burnley",
           "marker": {
            "color": "#00cc96",
            "symbol": "circle"
           },
           "mode": "markers",
           "name": "Burnley",
           "orientation": "v",
           "showlegend": true,
           "type": "scatter",
           "x": [
            1.2
           ],
           "xaxis": "x",
           "y": [
            2
           ],
           "yaxis": "y"
          },
          {
           "hovertemplate": "Team=Chelsea<br>MatchesPlayed=25<br>MovingAverageFor=%{x}<br>MovingAverageAgainst=%{y}<extra></extra>",
           "legendgroup": "Chelsea",
           "marker": {
            "color": "#ab63fa",
            "symbol": "circle"
           },
           "mode": "markers",
           "name": "Chelsea",
           "orientation": "v",
           "showlegend": true,
           "type": "scatter",
           "x": [
            2.2
           ],
           "xaxis": "x",
           "y": [
            0.2
           ],
           "yaxis": "y"
          },
          {
           "hovertemplate": "Team=Everton<br>MatchesPlayed=25<br>MovingAverageFor=%{x}<br>MovingAverageAgainst=%{y}<extra></extra>",
           "legendgroup": "Everton",
           "marker": {
            "color": "#FFA15A",
            "symbol": "circle"
           },
           "mode": "markers",
           "name": "Everton",
           "orientation": "v",
           "showlegend": true,
           "type": "scatter",
           "x": [
            0.8
           ],
           "xaxis": "x",
           "y": [
            1.8
           ],
           "yaxis": "y"
          },
          {
           "hovertemplate": "Team=Leicester<br>MatchesPlayed=25<br>MovingAverageFor=%{x}<br>MovingAverageAgainst=%{y}<extra></extra>",
           "legendgroup": "Leicester",
           "marker": {
            "color": "#19d3f3",
            "symbol": "circle"
           },
           "mode": "markers",
           "name": "Leicester",
           "orientation": "v",
           "showlegend": true,
           "type": "scatter",
           "x": [
            1.6
           ],
           "xaxis": "x",
           "y": [
            1.4
           ],
           "yaxis": "y"
          },
          {
           "hovertemplate": "Team=Watford<br>MatchesPlayed=25<br>MovingAverageFor=%{x}<br>MovingAverageAgainst=%{y}<extra></extra>",
           "legendgroup": "Watford",
           "marker": {
            "color": "#FF6692",
            "symbol": "circle"
           },
           "mode": "markers",
           "name": "Watford",
           "orientation": "v",
           "showlegend": true,
           "type": "scatter",
           "x": [
            1.6
           ],
           "xaxis": "x",
           "y": [
            1.2
           ],
           "yaxis": "y"
          },
          {
           "hovertemplate": "Team=Norwich<br>MatchesPlayed=25<br>MovingAverageFor=%{x}<br>MovingAverageAgainst=%{y}<extra></extra>",
           "legendgroup": "Norwich",
           "marker": {
            "color": "#B6E880",
            "symbol": "circle"
           },
           "mode": "markers",
           "name": "Norwich",
           "orientation": "v",
           "showlegend": true,
           "type": "scatter",
           "x": [
            0.4
           ],
           "xaxis": "x",
           "y": [
            2.2
           ],
           "yaxis": "y"
          },
          {
           "hovertemplate": "Team=Newcastle<br>MatchesPlayed=25<br>MovingAverageFor=%{x}<br>MovingAverageAgainst=%{y}<extra></extra>",
           "legendgroup": "Newcastle",
           "marker": {
            "color": "#FF97FF",
            "symbol": "circle"
           },
           "mode": "markers",
           "name": "Newcastle",
           "orientation": "v",
           "showlegend": true,
           "type": "scatter",
           "x": [
            1
           ],
           "xaxis": "x",
           "y": [
            1.8
           ],
           "yaxis": "y"
          },
          {
           "hovertemplate": "Team=Tottenham<br>MatchesPlayed=25<br>MovingAverageFor=%{x}<br>MovingAverageAgainst=%{y}<extra></extra>",
           "legendgroup": "Tottenham",
           "marker": {
            "color": "#FECB52",
            "symbol": "circle"
           },
           "mode": "markers",
           "name": "Tottenham",
           "orientation": "v",
           "showlegend": true,
           "type": "scatter",
           "x": [
            0.8
           ],
           "xaxis": "x",
           "y": [
            1.8
           ],
           "yaxis": "y"
          },
          {
           "hovertemplate": "Team=Liverpool<br>MatchesPlayed=25<br>MovingAverageFor=%{x}<br>MovingAverageAgainst=%{y}<extra></extra>",
           "legendgroup": "Liverpool",
           "marker": {
            "color": "#636efa",
            "symbol": "circle"
           },
           "mode": "markers",
           "name": "Liverpool",
           "orientation": "v",
           "showlegend": true,
           "type": "scatter",
           "x": [
            3.6
           ],
           "xaxis": "x",
           "y": [
            1.2
           ],
           "yaxis": "y"
          },
          {
           "hovertemplate": "Team=Aston Villa<br>MatchesPlayed=25<br>MovingAverageFor=%{x}<br>MovingAverageAgainst=%{y}<extra></extra>",
           "legendgroup": "Aston Villa",
           "marker": {
            "color": "#EF553B",
            "symbol": "circle"
           },
           "mode": "markers",
           "name": "Aston Villa",
           "orientation": "v",
           "showlegend": true,
           "type": "scatter",
           "x": [
            0.6
           ],
           "xaxis": "x",
           "y": [
            1.8
           ],
           "yaxis": "y"
          },
          {
           "hovertemplate": "Team=Crystal Palace<br>MatchesPlayed=25<br>MovingAverageFor=%{x}<br>MovingAverageAgainst=%{y}<extra></extra>",
           "legendgroup": "Crystal Palace",
           "marker": {
            "color": "#00cc96",
            "symbol": "circle"
           },
           "mode": "markers",
           "name": "Crystal Palace",
           "orientation": "v",
           "showlegend": true,
           "type": "scatter",
           "x": [
            1.8
           ],
           "xaxis": "x",
           "y": [
            2
           ],
           "yaxis": "y"
          },
          {
           "hovertemplate": "Team=Leeds<br>MatchesPlayed=25<br>MovingAverageFor=%{x}<br>MovingAverageAgainst=%{y}<extra></extra>",
           "legendgroup": "Leeds",
           "marker": {
            "color": "#ab63fa",
            "symbol": "circle"
           },
           "mode": "markers",
           "name": "Leeds",
           "orientation": "v",
           "showlegend": true,
           "type": "scatter",
           "x": [
            1
           ],
           "xaxis": "x",
           "y": [
            1.2
           ],
           "yaxis": "y"
          },
          {
           "hovertemplate": "Team=Man City<br>MatchesPlayed=25<br>MovingAverageFor=%{x}<br>MovingAverageAgainst=%{y}<extra></extra>",
           "legendgroup": "Man City",
           "marker": {
            "color": "#FFA15A",
            "symbol": "circle"
           },
           "mode": "markers",
           "name": "Man City",
           "orientation": "v",
           "showlegend": true,
           "type": "scatter",
           "x": [
            2
           ],
           "xaxis": "x",
           "y": [
            0.6
           ],
           "yaxis": "y"
          },
          {
           "hovertemplate": "Team=Brighton<br>MatchesPlayed=25<br>MovingAverageFor=%{x}<br>MovingAverageAgainst=%{y}<extra></extra>",
           "legendgroup": "Brighton",
           "marker": {
            "color": "#19d3f3",
            "symbol": "circle"
           },
           "mode": "markers",
           "name": "Brighton",
           "orientation": "v",
           "showlegend": true,
           "type": "scatter",
           "x": [
            0.8
           ],
           "xaxis": "x",
           "y": [
            1
           ],
           "yaxis": "y"
          },
          {
           "hovertemplate": "Team=Southampton<br>MatchesPlayed=25<br>MovingAverageFor=%{x}<br>MovingAverageAgainst=%{y}<extra></extra>",
           "legendgroup": "Southampton",
           "marker": {
            "color": "#FF6692",
            "symbol": "circle"
           },
           "mode": "markers",
           "name": "Southampton",
           "orientation": "v",
           "showlegend": true,
           "type": "scatter",
           "x": [
            1
           ],
           "xaxis": "x",
           "y": [
            1.4
           ],
           "yaxis": "y"
          },
          {
           "hovertemplate": "Team=Wolves<br>MatchesPlayed=25<br>MovingAverageFor=%{x}<br>MovingAverageAgainst=%{y}<extra></extra>",
           "legendgroup": "Wolves",
           "marker": {
            "color": "#B6E880",
            "symbol": "circle"
           },
           "mode": "markers",
           "name": "Wolves",
           "orientation": "v",
           "showlegend": true,
           "type": "scatter",
           "x": [
            1.4
           ],
           "xaxis": "x",
           "y": [
            1
           ],
           "yaxis": "y"
          },
          {
           "hovertemplate": "Team=Arsenal<br>MatchesPlayed=25<br>MovingAverageFor=%{x}<br>MovingAverageAgainst=%{y}<extra></extra>",
           "legendgroup": "Arsenal",
           "marker": {
            "color": "#FF97FF",
            "symbol": "circle"
           },
           "mode": "markers",
           "name": "Arsenal",
           "orientation": "v",
           "showlegend": true,
           "type": "scatter",
           "x": [
            0.6
           ],
           "xaxis": "x",
           "y": [
            1.8
           ],
           "yaxis": "y"
          },
          {
           "hovertemplate": "Team=West Ham<br>MatchesPlayed=25<br>MovingAverageFor=%{x}<br>MovingAverageAgainst=%{y}<extra></extra>",
           "legendgroup": "West Ham",
           "marker": {
            "color": "#FECB52",
            "symbol": "circle"
           },
           "mode": "markers",
           "name": "West Ham",
           "orientation": "v",
           "showlegend": true,
           "type": "scatter",
           "x": [
            1.4
           ],
           "xaxis": "x",
           "y": [
            0.6
           ],
           "yaxis": "y"
          }
         ],
         "name": "25"
        },
        {
         "data": [
          {
           "hovertemplate": "Team=Brentford<br>MatchesPlayed=26<br>MovingAverageFor=%{x}<br>MovingAverageAgainst=%{y}<extra></extra>",
           "legendgroup": "Brentford",
           "marker": {
            "color": "#636efa",
            "symbol": "circle"
           },
           "mode": "markers",
           "name": "Brentford",
           "orientation": "v",
           "showlegend": true,
           "type": "scatter",
           "x": [
            1.6
           ],
           "xaxis": "x",
           "y": [
            1.8
           ],
           "yaxis": "y"
          },
          {
           "hovertemplate": "Team=Man United<br>MatchesPlayed=26<br>MovingAverageFor=%{x}<br>MovingAverageAgainst=%{y}<extra></extra>",
           "legendgroup": "Man United",
           "marker": {
            "color": "#EF553B",
            "symbol": "circle"
           },
           "mode": "markers",
           "name": "Man United",
           "orientation": "v",
           "showlegend": true,
           "type": "scatter",
           "x": [
            1.8
           ],
           "xaxis": "x",
           "y": [
            2
           ],
           "yaxis": "y"
          },
          {
           "hovertemplate": "Team=Burnley<br>MatchesPlayed=26<br>MovingAverageFor=%{x}<br>MovingAverageAgainst=%{y}<extra></extra>",
           "legendgroup": "Burnley",
           "marker": {
            "color": "#00cc96",
            "symbol": "circle"
           },
           "mode": "markers",
           "name": "Burnley",
           "orientation": "v",
           "showlegend": true,
           "type": "scatter",
           "x": [
            1
           ],
           "xaxis": "x",
           "y": [
            1.4
           ],
           "yaxis": "y"
          },
          {
           "hovertemplate": "Team=Chelsea<br>MatchesPlayed=26<br>MovingAverageFor=%{x}<br>MovingAverageAgainst=%{y}<extra></extra>",
           "legendgroup": "Chelsea",
           "marker": {
            "color": "#ab63fa",
            "symbol": "circle"
           },
           "mode": "markers",
           "name": "Chelsea",
           "orientation": "v",
           "showlegend": true,
           "type": "scatter",
           "x": [
            2.4
           ],
           "xaxis": "x",
           "y": [
            0.2
           ],
           "yaxis": "y"
          },
          {
           "hovertemplate": "Team=Everton<br>MatchesPlayed=26<br>MovingAverageFor=%{x}<br>MovingAverageAgainst=%{y}<extra></extra>",
           "legendgroup": "Everton",
           "marker": {
            "color": "#FFA15A",
            "symbol": "circle"
           },
           "mode": "markers",
           "name": "Everton",
           "orientation": "v",
           "showlegend": true,
           "type": "scatter",
           "x": [
            0.4
           ],
           "xaxis": "x",
           "y": [
            2
           ],
           "yaxis": "y"
          },
          {
           "hovertemplate": "Team=Leicester<br>MatchesPlayed=26<br>MovingAverageFor=%{x}<br>MovingAverageAgainst=%{y}<extra></extra>",
           "legendgroup": "Leicester",
           "marker": {
            "color": "#19d3f3",
            "symbol": "circle"
           },
           "mode": "markers",
           "name": "Leicester",
           "orientation": "v",
           "showlegend": true,
           "type": "scatter",
           "x": [
            1.6
           ],
           "xaxis": "x",
           "y": [
            1.6
           ],
           "yaxis": "y"
          },
          {
           "hovertemplate": "Team=Watford<br>MatchesPlayed=26<br>MovingAverageFor=%{x}<br>MovingAverageAgainst=%{y}<extra></extra>",
           "legendgroup": "Watford",
           "marker": {
            "color": "#FF6692",
            "symbol": "circle"
           },
           "mode": "markers",
           "name": "Watford",
           "orientation": "v",
           "showlegend": true,
           "type": "scatter",
           "x": [
            2
           ],
           "xaxis": "x",
           "y": [
            1.8
           ],
           "yaxis": "y"
          },
          {
           "hovertemplate": "Team=Norwich<br>MatchesPlayed=26<br>MovingAverageFor=%{x}<br>MovingAverageAgainst=%{y}<extra></extra>",
           "legendgroup": "Norwich",
           "marker": {
            "color": "#B6E880",
            "symbol": "circle"
           },
           "mode": "markers",
           "name": "Norwich",
           "orientation": "v",
           "showlegend": true,
           "type": "scatter",
           "x": [
            0.6
           ],
           "xaxis": "x",
           "y": [
            2.2
           ],
           "yaxis": "y"
          },
          {
           "hovertemplate": "Team=Newcastle<br>MatchesPlayed=26<br>MovingAverageFor=%{x}<br>MovingAverageAgainst=%{y}<extra></extra>",
           "legendgroup": "Newcastle",
           "marker": {
            "color": "#FF97FF",
            "symbol": "circle"
           },
           "mode": "markers",
           "name": "Newcastle",
           "orientation": "v",
           "showlegend": true,
           "type": "scatter",
           "x": [
            0.8
           ],
           "xaxis": "x",
           "y": [
            1.4
           ],
           "yaxis": "y"
          },
          {
           "hovertemplate": "Team=Tottenham<br>MatchesPlayed=26<br>MovingAverageFor=%{x}<br>MovingAverageAgainst=%{y}<extra></extra>",
           "legendgroup": "Tottenham",
           "marker": {
            "color": "#FECB52",
            "symbol": "circle"
           },
           "mode": "markers",
           "name": "Tottenham",
           "orientation": "v",
           "showlegend": true,
           "type": "scatter",
           "x": [
            1
           ],
           "xaxis": "x",
           "y": [
            1.4
           ],
           "yaxis": "y"
          },
          {
           "hovertemplate": "Team=Liverpool<br>MatchesPlayed=26<br>MovingAverageFor=%{x}<br>MovingAverageAgainst=%{y}<extra></extra>",
           "legendgroup": "Liverpool",
           "marker": {
            "color": "#636efa",
            "symbol": "circle"
           },
           "mode": "markers",
           "name": "Liverpool",
           "orientation": "v",
           "showlegend": true,
           "type": "scatter",
           "x": [
            3.8
           ],
           "xaxis": "x",
           "y": [
            1.4
           ],
           "yaxis": "y"
          },
          {
           "hovertemplate": "Team=Aston Villa<br>MatchesPlayed=26<br>MovingAverageFor=%{x}<br>MovingAverageAgainst=%{y}<extra></extra>",
           "legendgroup": "Aston Villa",
           "marker": {
            "color": "#EF553B",
            "symbol": "circle"
           },
           "mode": "markers",
           "name": "Aston Villa",
           "orientation": "v",
           "showlegend": true,
           "type": "scatter",
           "x": [
            1
           ],
           "xaxis": "x",
           "y": [
            1.4
           ],
           "yaxis": "y"
          },
          {
           "hovertemplate": "Team=Crystal Palace<br>MatchesPlayed=26<br>MovingAverageFor=%{x}<br>MovingAverageAgainst=%{y}<extra></extra>",
           "legendgroup": "Crystal Palace",
           "marker": {
            "color": "#00cc96",
            "symbol": "circle"
           },
           "mode": "markers",
           "name": "Crystal Palace",
           "orientation": "v",
           "showlegend": true,
           "type": "scatter",
           "x": [
            1.4
           ],
           "xaxis": "x",
           "y": [
            1.8
           ],
           "yaxis": "y"
          },
          {
           "hovertemplate": "Team=Leeds<br>MatchesPlayed=26<br>MovingAverageFor=%{x}<br>MovingAverageAgainst=%{y}<extra></extra>",
           "legendgroup": "Leeds",
           "marker": {
            "color": "#ab63fa",
            "symbol": "circle"
           },
           "mode": "markers",
           "name": "Leeds",
           "orientation": "v",
           "showlegend": true,
           "type": "scatter",
           "x": [
            0.8
           ],
           "xaxis": "x",
           "y": [
            1
           ],
           "yaxis": "y"
          },
          {
           "hovertemplate": "Team=Man City<br>MatchesPlayed=26<br>MovingAverageFor=%{x}<br>MovingAverageAgainst=%{y}<extra></extra>",
           "legendgroup": "Man City",
           "marker": {
            "color": "#FFA15A",
            "symbol": "circle"
           },
           "mode": "markers",
           "name": "Man City",
           "orientation": "v",
           "showlegend": true,
           "type": "scatter",
           "x": [
            2.2
           ],
           "xaxis": "x",
           "y": [
            0.8
           ],
           "yaxis": "y"
          },
          {
           "hovertemplate": "Team=Brighton<br>MatchesPlayed=26<br>MovingAverageFor=%{x}<br>MovingAverageAgainst=%{y}<extra></extra>",
           "legendgroup": "Brighton",
           "marker": {
            "color": "#19d3f3",
            "symbol": "circle"
           },
           "mode": "markers",
           "name": "Brighton",
           "orientation": "v",
           "showlegend": true,
           "type": "scatter",
           "x": [
            0.8
           ],
           "xaxis": "x",
           "y": [
            1.2
           ],
           "yaxis": "y"
          },
          {
           "hovertemplate": "Team=Southampton<br>MatchesPlayed=26<br>MovingAverageFor=%{x}<br>MovingAverageAgainst=%{y}<extra></extra>",
           "legendgroup": "Southampton",
           "marker": {
            "color": "#FF6692",
            "symbol": "circle"
           },
           "mode": "markers",
           "name": "Southampton",
           "orientation": "v",
           "showlegend": true,
           "type": "scatter",
           "x": [
            0.6
           ],
           "xaxis": "x",
           "y": [
            1.8
           ],
           "yaxis": "y"
          },
          {
           "hovertemplate": "Team=Wolves<br>MatchesPlayed=26<br>MovingAverageFor=%{x}<br>MovingAverageAgainst=%{y}<extra></extra>",
           "legendgroup": "Wolves",
           "marker": {
            "color": "#B6E880",
            "symbol": "circle"
           },
           "mode": "markers",
           "name": "Wolves",
           "orientation": "v",
           "showlegend": true,
           "type": "scatter",
           "x": [
            1
           ],
           "xaxis": "x",
           "y": [
            1
           ],
           "yaxis": "y"
          },
          {
           "hovertemplate": "Team=Arsenal<br>MatchesPlayed=26<br>MovingAverageFor=%{x}<br>MovingAverageAgainst=%{y}<extra></extra>",
           "legendgroup": "Arsenal",
           "marker": {
            "color": "#FF97FF",
            "symbol": "circle"
           },
           "mode": "markers",
           "name": "Arsenal",
           "orientation": "v",
           "showlegend": true,
           "type": "scatter",
           "x": [
            1
           ],
           "xaxis": "x",
           "y": [
            1.4
           ],
           "yaxis": "y"
          },
          {
           "hovertemplate": "Team=West Ham<br>MatchesPlayed=26<br>MovingAverageFor=%{x}<br>MovingAverageAgainst=%{y}<extra></extra>",
           "legendgroup": "West Ham",
           "marker": {
            "color": "#FECB52",
            "symbol": "circle"
           },
           "mode": "markers",
           "name": "West Ham",
           "orientation": "v",
           "showlegend": true,
           "type": "scatter",
           "x": [
            1.6
           ],
           "xaxis": "x",
           "y": [
            1
           ],
           "yaxis": "y"
          }
         ],
         "name": "26"
        },
        {
         "data": [
          {
           "hovertemplate": "Team=Brentford<br>MatchesPlayed=27<br>MovingAverageFor=%{x}<br>MovingAverageAgainst=%{y}<extra></extra>",
           "legendgroup": "Brentford",
           "marker": {
            "color": "#636efa",
            "symbol": "circle"
           },
           "mode": "markers",
           "name": "Brentford",
           "orientation": "v",
           "showlegend": true,
           "type": "scatter",
           "x": [
            1.6
           ],
           "xaxis": "x",
           "y": [
            2.2
           ],
           "yaxis": "y"
          },
          {
           "hovertemplate": "Team=Man United<br>MatchesPlayed=27<br>MovingAverageFor=%{x}<br>MovingAverageAgainst=%{y}<extra></extra>",
           "legendgroup": "Man United",
           "marker": {
            "color": "#EF553B",
            "symbol": "circle"
           },
           "mode": "markers",
           "name": "Man United",
           "orientation": "v",
           "showlegend": true,
           "type": "scatter",
           "x": [
            1.6
           ],
           "xaxis": "x",
           "y": [
            1.8
           ],
           "yaxis": "y"
          },
          {
           "hovertemplate": "Team=Burnley<br>MatchesPlayed=27<br>MovingAverageFor=%{x}<br>MovingAverageAgainst=%{y}<extra></extra>",
           "legendgroup": "Burnley",
           "marker": {
            "color": "#00cc96",
            "symbol": "circle"
           },
           "mode": "markers",
           "name": "Burnley",
           "orientation": "v",
           "showlegend": true,
           "type": "scatter",
           "x": [
            0.6
           ],
           "xaxis": "x",
           "y": [
            1.2
           ],
           "yaxis": "y"
          },
          {
           "hovertemplate": "Team=Chelsea<br>MatchesPlayed=27<br>MovingAverageFor=%{x}<br>MovingAverageAgainst=%{y}<extra></extra>",
           "legendgroup": "Chelsea",
           "marker": {
            "color": "#ab63fa",
            "symbol": "circle"
           },
           "mode": "markers",
           "name": "Chelsea",
           "orientation": "v",
           "showlegend": true,
           "type": "scatter",
           "x": [
            2.2
           ],
           "xaxis": "x",
           "y": [
            0.8
           ],
           "yaxis": "y"
          },
          {
           "hovertemplate": "Team=Everton<br>MatchesPlayed=27<br>MovingAverageFor=%{x}<br>MovingAverageAgainst=%{y}<extra></extra>",
           "legendgroup": "Everton",
           "marker": {
            "color": "#FFA15A",
            "symbol": "circle"
           },
           "mode": "markers",
           "name": "Everton",
           "orientation": "v",
           "showlegend": true,
           "type": "scatter",
           "x": [
            0.6
           ],
           "xaxis": "x",
           "y": [
            2
           ],
           "yaxis": "y"
          },
          {
           "hovertemplate": "Team=Leicester<br>MatchesPlayed=27<br>MovingAverageFor=%{x}<br>MovingAverageAgainst=%{y}<extra></extra>",
           "legendgroup": "Leicester",
           "marker": {
            "color": "#19d3f3",
            "symbol": "circle"
           },
           "mode": "markers",
           "name": "Leicester",
           "orientation": "v",
           "showlegend": true,
           "type": "scatter",
           "x": [
            1.6
           ],
           "xaxis": "x",
           "y": [
            1.6
           ],
           "yaxis": "y"
          },
          {
           "hovertemplate": "Team=Watford<br>MatchesPlayed=27<br>MovingAverageFor=%{x}<br>MovingAverageAgainst=%{y}<extra></extra>",
           "legendgroup": "Watford",
           "marker": {
            "color": "#FF6692",
            "symbol": "circle"
           },
           "mode": "markers",
           "name": "Watford",
           "orientation": "v",
           "showlegend": true,
           "type": "scatter",
           "x": [
            1.6
           ],
           "xaxis": "x",
           "y": [
            2
           ],
           "yaxis": "y"
          },
          {
           "hovertemplate": "Team=Norwich<br>MatchesPlayed=27<br>MovingAverageFor=%{x}<br>MovingAverageAgainst=%{y}<extra></extra>",
           "legendgroup": "Norwich",
           "marker": {
            "color": "#B6E880",
            "symbol": "circle"
           },
           "mode": "markers",
           "name": "Norwich",
           "orientation": "v",
           "showlegend": true,
           "type": "scatter",
           "x": [
            0.6
           ],
           "xaxis": "x",
           "y": [
            2.4
           ],
           "yaxis": "y"
          },
          {
           "hovertemplate": "Team=Newcastle<br>MatchesPlayed=27<br>MovingAverageFor=%{x}<br>MovingAverageAgainst=%{y}<extra></extra>",
           "legendgroup": "Newcastle",
           "marker": {
            "color": "#FF97FF",
            "symbol": "circle"
           },
           "mode": "markers",
           "name": "Newcastle",
           "orientation": "v",
           "showlegend": true,
           "type": "scatter",
           "x": [
            0.6
           ],
           "xaxis": "x",
           "y": [
            2
           ],
           "yaxis": "y"
          },
          {
           "hovertemplate": "Team=Tottenham<br>MatchesPlayed=27<br>MovingAverageFor=%{x}<br>MovingAverageAgainst=%{y}<extra></extra>",
           "legendgroup": "Tottenham",
           "marker": {
            "color": "#FECB52",
            "symbol": "circle"
           },
           "mode": "markers",
           "name": "Tottenham",
           "orientation": "v",
           "showlegend": true,
           "type": "scatter",
           "x": [
            1
           ],
           "xaxis": "x",
           "y": [
            0.8
           ],
           "yaxis": "y"
          },
          {
           "hovertemplate": "Team=Liverpool<br>MatchesPlayed=27<br>MovingAverageFor=%{x}<br>MovingAverageAgainst=%{y}<extra></extra>",
           "legendgroup": "Liverpool",
           "marker": {
            "color": "#636efa",
            "symbol": "circle"
           },
           "mode": "markers",
           "name": "Liverpool",
           "orientation": "v",
           "showlegend": true,
           "type": "scatter",
           "x": [
            3.4
           ],
           "xaxis": "x",
           "y": [
            0.8
           ],
           "yaxis": "y"
          },
          {
           "hovertemplate": "Team=Aston Villa<br>MatchesPlayed=27<br>MovingAverageFor=%{x}<br>MovingAverageAgainst=%{y}<extra></extra>",
           "legendgroup": "Aston Villa",
           "marker": {
            "color": "#EF553B",
            "symbol": "circle"
           },
           "mode": "markers",
           "name": "Aston Villa",
           "orientation": "v",
           "showlegend": true,
           "type": "scatter",
           "x": [
            0.8
           ],
           "xaxis": "x",
           "y": [
            1.6
           ],
           "yaxis": "y"
          },
          {
           "hovertemplate": "Team=Crystal Palace<br>MatchesPlayed=27<br>MovingAverageFor=%{x}<br>MovingAverageAgainst=%{y}<extra></extra>",
           "legendgroup": "Crystal Palace",
           "marker": {
            "color": "#00cc96",
            "symbol": "circle"
           },
           "mode": "markers",
           "name": "Crystal Palace",
           "orientation": "v",
           "showlegend": true,
           "type": "scatter",
           "x": [
            1.4
           ],
           "xaxis": "x",
           "y": [
            1.4
           ],
           "yaxis": "y"
          },
          {
           "hovertemplate": "Team=Leeds<br>MatchesPlayed=27<br>MovingAverageFor=%{x}<br>MovingAverageAgainst=%{y}<extra></extra>",
           "legendgroup": "Leeds",
           "marker": {
            "color": "#ab63fa",
            "symbol": "circle"
           },
           "mode": "markers",
           "name": "Leeds",
           "orientation": "v",
           "showlegend": true,
           "type": "scatter",
           "x": [
            1
           ],
           "xaxis": "x",
           "y": [
            1.4
           ],
           "yaxis": "y"
          },
          {
           "hovertemplate": "Team=Man City<br>MatchesPlayed=27<br>MovingAverageFor=%{x}<br>MovingAverageAgainst=%{y}<extra></extra>",
           "legendgroup": "Man City",
           "marker": {
            "color": "#FFA15A",
            "symbol": "circle"
           },
           "mode": "markers",
           "name": "Man City",
           "orientation": "v",
           "showlegend": true,
           "type": "scatter",
           "x": [
            2.6
           ],
           "xaxis": "x",
           "y": [
            1
           ],
           "yaxis": "y"
          },
          {
           "hovertemplate": "Team=Brighton<br>MatchesPlayed=27<br>MovingAverageFor=%{x}<br>MovingAverageAgainst=%{y}<extra></extra>",
           "legendgroup": "Brighton",
           "marker": {
            "color": "#19d3f3",
            "symbol": "circle"
           },
           "mode": "markers",
           "name": "Brighton",
           "orientation": "v",
           "showlegend": true,
           "type": "scatter",
           "x": [
            0.8
           ],
           "xaxis": "x",
           "y": [
            1.2
           ],
           "yaxis": "y"
          },
          {
           "hovertemplate": "Team=Southampton<br>MatchesPlayed=27<br>MovingAverageFor=%{x}<br>MovingAverageAgainst=%{y}<extra></extra>",
           "legendgroup": "Southampton",
           "marker": {
            "color": "#FF6692",
            "symbol": "circle"
           },
           "mode": "markers",
           "name": "Southampton",
           "orientation": "v",
           "showlegend": true,
           "type": "scatter",
           "x": [
            0.6
           ],
           "xaxis": "x",
           "y": [
            2.4
           ],
           "yaxis": "y"
          },
          {
           "hovertemplate": "Team=Wolves<br>MatchesPlayed=27<br>MovingAverageFor=%{x}<br>MovingAverageAgainst=%{y}<extra></extra>",
           "legendgroup": "Wolves",
           "marker": {
            "color": "#B6E880",
            "symbol": "circle"
           },
           "mode": "markers",
           "name": "Wolves",
           "orientation": "v",
           "showlegend": true,
           "type": "scatter",
           "x": [
            0.8
           ],
           "xaxis": "x",
           "y": [
            1.2
           ],
           "yaxis": "y"
          },
          {
           "hovertemplate": "Team=Arsenal<br>MatchesPlayed=27<br>MovingAverageFor=%{x}<br>MovingAverageAgainst=%{y}<extra></extra>",
           "legendgroup": "Arsenal",
           "marker": {
            "color": "#FF97FF",
            "symbol": "circle"
           },
           "mode": "markers",
           "name": "Arsenal",
           "orientation": "v",
           "showlegend": true,
           "type": "scatter",
           "x": [
            1
           ],
           "xaxis": "x",
           "y": [
            1.8
           ],
           "yaxis": "y"
          },
          {
           "hovertemplate": "Team=West Ham<br>MatchesPlayed=27<br>MovingAverageFor=%{x}<br>MovingAverageAgainst=%{y}<extra></extra>",
           "legendgroup": "West Ham",
           "marker": {
            "color": "#FECB52",
            "symbol": "circle"
           },
           "mode": "markers",
           "name": "West Ham",
           "orientation": "v",
           "showlegend": true,
           "type": "scatter",
           "x": [
            1.2
           ],
           "xaxis": "x",
           "y": [
            0.8
           ],
           "yaxis": "y"
          }
         ],
         "name": "27"
        },
        {
         "data": [
          {
           "hovertemplate": "Team=Brentford<br>MatchesPlayed=28<br>MovingAverageFor=%{x}<br>MovingAverageAgainst=%{y}<extra></extra>",
           "legendgroup": "Brentford",
           "marker": {
            "color": "#636efa",
            "symbol": "circle"
           },
           "mode": "markers",
           "name": "Brentford",
           "orientation": "v",
           "showlegend": true,
           "type": "scatter",
           "x": [
            1.2
           ],
           "xaxis": "x",
           "y": [
            2.4
           ],
           "yaxis": "y"
          },
          {
           "hovertemplate": "Team=Man United<br>MatchesPlayed=28<br>MovingAverageFor=%{x}<br>MovingAverageAgainst=%{y}<extra></extra>",
           "legendgroup": "Man United",
           "marker": {
            "color": "#EF553B",
            "symbol": "circle"
           },
           "mode": "markers",
           "name": "Man United",
           "orientation": "v",
           "showlegend": true,
           "type": "scatter",
           "x": [
            1.4
           ],
           "xaxis": "x",
           "y": [
            1.2
           ],
           "yaxis": "y"
          },
          {
           "hovertemplate": "Team=Burnley<br>MatchesPlayed=28<br>MovingAverageFor=%{x}<br>MovingAverageAgainst=%{y}<extra></extra>",
           "legendgroup": "Burnley",
           "marker": {
            "color": "#00cc96",
            "symbol": "circle"
           },
           "mode": "markers",
           "name": "Burnley",
           "orientation": "v",
           "showlegend": true,
           "type": "scatter",
           "x": [
            0.8
           ],
           "xaxis": "x",
           "y": [
            1.4
           ],
           "yaxis": "y"
          },
          {
           "hovertemplate": "Team=Chelsea<br>MatchesPlayed=28<br>MovingAverageFor=%{x}<br>MovingAverageAgainst=%{y}<extra></extra>",
           "legendgroup": "Chelsea",
           "marker": {
            "color": "#ab63fa",
            "symbol": "circle"
           },
           "mode": "markers",
           "name": "Chelsea",
           "orientation": "v",
           "showlegend": true,
           "type": "scatter",
           "x": [
            2
           ],
           "xaxis": "x",
           "y": [
            0.8
           ],
           "yaxis": "y"
          },
          {
           "hovertemplate": "Team=Everton<br>MatchesPlayed=28<br>MovingAverageFor=%{x}<br>MovingAverageAgainst=%{y}<extra></extra>",
           "legendgroup": "Everton",
           "marker": {
            "color": "#FFA15A",
            "symbol": "circle"
           },
           "mode": "markers",
           "name": "Everton",
           "orientation": "v",
           "showlegend": true,
           "type": "scatter",
           "x": [
            0.6
           ],
           "xaxis": "x",
           "y": [
            2
           ],
           "yaxis": "y"
          },
          {
           "hovertemplate": "Team=Leicester<br>MatchesPlayed=28<br>MovingAverageFor=%{x}<br>MovingAverageAgainst=%{y}<extra></extra>",
           "legendgroup": "Leicester",
           "marker": {
            "color": "#19d3f3",
            "symbol": "circle"
           },
           "mode": "markers",
           "name": "Leicester",
           "orientation": "v",
           "showlegend": true,
           "type": "scatter",
           "x": [
            1.8
           ],
           "xaxis": "x",
           "y": [
            2.4
           ],
           "yaxis": "y"
          },
          {
           "hovertemplate": "Team=Watford<br>MatchesPlayed=28<br>MovingAverageFor=%{x}<br>MovingAverageAgainst=%{y}<extra></extra>",
           "legendgroup": "Watford",
           "marker": {
            "color": "#FF6692",
            "symbol": "circle"
           },
           "mode": "markers",
           "name": "Watford",
           "orientation": "v",
           "showlegend": true,
           "type": "scatter",
           "x": [
            1.8
           ],
           "xaxis": "x",
           "y": [
            2
           ],
           "yaxis": "y"
          },
          {
           "hovertemplate": "Team=Norwich<br>MatchesPlayed=28<br>MovingAverageFor=%{x}<br>MovingAverageAgainst=%{y}<extra></extra>",
           "legendgroup": "Norwich",
           "marker": {
            "color": "#B6E880",
            "symbol": "circle"
           },
           "mode": "markers",
           "name": "Norwich",
           "orientation": "v",
           "showlegend": true,
           "type": "scatter",
           "x": [
            0.6
           ],
           "xaxis": "x",
           "y": [
            3
           ],
           "yaxis": "y"
          },
          {
           "hovertemplate": "Team=Newcastle<br>MatchesPlayed=28<br>MovingAverageFor=%{x}<br>MovingAverageAgainst=%{y}<extra></extra>",
           "legendgroup": "Newcastle",
           "marker": {
            "color": "#FF97FF",
            "symbol": "circle"
           },
           "mode": "markers",
           "name": "Newcastle",
           "orientation": "v",
           "showlegend": true,
           "type": "scatter",
           "x": [
            0.6
           ],
           "xaxis": "x",
           "y": [
            2.2
           ],
           "yaxis": "y"
          },
          {
           "hovertemplate": "Team=Tottenham<br>MatchesPlayed=28<br>MovingAverageFor=%{x}<br>MovingAverageAgainst=%{y}<extra></extra>",
           "legendgroup": "Tottenham",
           "marker": {
            "color": "#FECB52",
            "symbol": "circle"
           },
           "mode": "markers",
           "name": "Tottenham",
           "orientation": "v",
           "showlegend": true,
           "type": "scatter",
           "x": [
            1
           ],
           "xaxis": "x",
           "y": [
            0.8
           ],
           "yaxis": "y"
          },
          {
           "hovertemplate": "Team=Liverpool<br>MatchesPlayed=28<br>MovingAverageFor=%{x}<br>MovingAverageAgainst=%{y}<extra></extra>",
           "legendgroup": "Liverpool",
           "marker": {
            "color": "#636efa",
            "symbol": "circle"
           },
           "mode": "markers",
           "name": "Liverpool",
           "orientation": "v",
           "showlegend": true,
           "type": "scatter",
           "x": [
            2.8
           ],
           "xaxis": "x",
           "y": [
            1.2
           ],
           "yaxis": "y"
          },
          {
           "hovertemplate": "Team=Aston Villa<br>MatchesPlayed=28<br>MovingAverageFor=%{x}<br>MovingAverageAgainst=%{y}<extra></extra>",
           "legendgroup": "Aston Villa",
           "marker": {
            "color": "#EF553B",
            "symbol": "circle"
           },
           "mode": "markers",
           "name": "Aston Villa",
           "orientation": "v",
           "showlegend": true,
           "type": "scatter",
           "x": [
            1
           ],
           "xaxis": "x",
           "y": [
            1.2
           ],
           "yaxis": "y"
          },
          {
           "hovertemplate": "Team=Crystal Palace<br>MatchesPlayed=28<br>MovingAverageFor=%{x}<br>MovingAverageAgainst=%{y}<extra></extra>",
           "legendgroup": "Crystal Palace",
           "marker": {
            "color": "#00cc96",
            "symbol": "circle"
           },
           "mode": "markers",
           "name": "Crystal Palace",
           "orientation": "v",
           "showlegend": true,
           "type": "scatter",
           "x": [
            1
           ],
           "xaxis": "x",
           "y": [
            1.6
           ],
           "yaxis": "y"
          },
          {
           "hovertemplate": "Team=Leeds<br>MatchesPlayed=28<br>MovingAverageFor=%{x}<br>MovingAverageAgainst=%{y}<extra></extra>",
           "legendgroup": "Leeds",
           "marker": {
            "color": "#ab63fa",
            "symbol": "circle"
           },
           "mode": "markers",
           "name": "Leeds",
           "orientation": "v",
           "showlegend": true,
           "type": "scatter",
           "x": [
            1
           ],
           "xaxis": "x",
           "y": [
            2.6
           ],
           "yaxis": "y"
          },
          {
           "hovertemplate": "Team=Man City<br>MatchesPlayed=28<br>MovingAverageFor=%{x}<br>MovingAverageAgainst=%{y}<extra></extra>",
           "legendgroup": "Man City",
           "marker": {
            "color": "#FFA15A",
            "symbol": "circle"
           },
           "mode": "markers",
           "name": "Man City",
           "orientation": "v",
           "showlegend": true,
           "type": "scatter",
           "x": [
            3
           ],
           "xaxis": "x",
           "y": [
            0.6
           ],
           "yaxis": "y"
          },
          {
           "hovertemplate": "Team=Brighton<br>MatchesPlayed=28<br>MovingAverageFor=%{x}<br>MovingAverageAgainst=%{y}<extra></extra>",
           "legendgroup": "Brighton",
           "marker": {
            "color": "#19d3f3",
            "symbol": "circle"
           },
           "mode": "markers",
           "name": "Brighton",
           "orientation": "v",
           "showlegend": true,
           "type": "scatter",
           "x": [
            1
           ],
           "xaxis": "x",
           "y": [
            1.4
           ],
           "yaxis": "y"
          },
          {
           "hovertemplate": "Team=Southampton<br>MatchesPlayed=28<br>MovingAverageFor=%{x}<br>MovingAverageAgainst=%{y}<extra></extra>",
           "legendgroup": "Southampton",
           "marker": {
            "color": "#FF6692",
            "symbol": "circle"
           },
           "mode": "markers",
           "name": "Southampton",
           "orientation": "v",
           "showlegend": true,
           "type": "scatter",
           "x": [
            0.8
           ],
           "xaxis": "x",
           "y": [
            2.2
           ],
           "yaxis": "y"
          },
          {
           "hovertemplate": "Team=Wolves<br>MatchesPlayed=28<br>MovingAverageFor=%{x}<br>MovingAverageAgainst=%{y}<extra></extra>",
           "legendgroup": "Wolves",
           "marker": {
            "color": "#B6E880",
            "symbol": "circle"
           },
           "mode": "markers",
           "name": "Wolves",
           "orientation": "v",
           "showlegend": true,
           "type": "scatter",
           "x": [
            0.4
           ],
           "xaxis": "x",
           "y": [
            0.8
           ],
           "yaxis": "y"
          },
          {
           "hovertemplate": "Team=Arsenal<br>MatchesPlayed=28<br>MovingAverageFor=%{x}<br>MovingAverageAgainst=%{y}<extra></extra>",
           "legendgroup": "Arsenal",
           "marker": {
            "color": "#FF97FF",
            "symbol": "circle"
           },
           "mode": "markers",
           "name": "Arsenal",
           "orientation": "v",
           "showlegend": true,
           "type": "scatter",
           "x": [
            1.8
           ],
           "xaxis": "x",
           "y": [
            2
           ],
           "yaxis": "y"
          },
          {
           "hovertemplate": "Team=West Ham<br>MatchesPlayed=28<br>MovingAverageFor=%{x}<br>MovingAverageAgainst=%{y}<extra></extra>",
           "legendgroup": "West Ham",
           "marker": {
            "color": "#FECB52",
            "symbol": "circle"
           },
           "mode": "markers",
           "name": "West Ham",
           "orientation": "v",
           "showlegend": true,
           "type": "scatter",
           "x": [
            1
           ],
           "xaxis": "x",
           "y": [
            1.2
           ],
           "yaxis": "y"
          }
         ],
         "name": "28"
        },
        {
         "data": [
          {
           "hovertemplate": "Team=Brentford<br>MatchesPlayed=29<br>MovingAverageFor=%{x}<br>MovingAverageAgainst=%{y}<extra></extra>",
           "legendgroup": "Brentford",
           "marker": {
            "color": "#636efa",
            "symbol": "circle"
           },
           "mode": "markers",
           "name": "Brentford",
           "orientation": "v",
           "showlegend": true,
           "type": "scatter",
           "x": [
            1.2
           ],
           "xaxis": "x",
           "y": [
            2.6
           ],
           "yaxis": "y"
          },
          {
           "hovertemplate": "Team=Man United<br>MatchesPlayed=29<br>MovingAverageFor=%{x}<br>MovingAverageAgainst=%{y}<extra></extra>",
           "legendgroup": "Man United",
           "marker": {
            "color": "#EF553B",
            "symbol": "circle"
           },
           "mode": "markers",
           "name": "Man United",
           "orientation": "v",
           "showlegend": true,
           "type": "scatter",
           "x": [
            1.2
           ],
           "xaxis": "x",
           "y": [
            1.6
           ],
           "yaxis": "y"
          },
          {
           "hovertemplate": "Team=Burnley<br>MatchesPlayed=29<br>MovingAverageFor=%{x}<br>MovingAverageAgainst=%{y}<extra></extra>",
           "legendgroup": "Burnley",
           "marker": {
            "color": "#00cc96",
            "symbol": "circle"
           },
           "mode": "markers",
           "name": "Burnley",
           "orientation": "v",
           "showlegend": true,
           "type": "scatter",
           "x": [
            0.6
           ],
           "xaxis": "x",
           "y": [
            1.6
           ],
           "yaxis": "y"
          },
          {
           "hovertemplate": "Team=Chelsea<br>MatchesPlayed=29<br>MovingAverageFor=%{x}<br>MovingAverageAgainst=%{y}<extra></extra>",
           "legendgroup": "Chelsea",
           "marker": {
            "color": "#ab63fa",
            "symbol": "circle"
           },
           "mode": "markers",
           "name": "Chelsea",
           "orientation": "v",
           "showlegend": true,
           "type": "scatter",
           "x": [
            2
           ],
           "xaxis": "x",
           "y": [
            1
           ],
           "yaxis": "y"
          },
          {
           "hovertemplate": "Team=Everton<br>MatchesPlayed=29<br>MovingAverageFor=%{x}<br>MovingAverageAgainst=%{y}<extra></extra>",
           "legendgroup": "Everton",
           "marker": {
            "color": "#FFA15A",
            "symbol": "circle"
           },
           "mode": "markers",
           "name": "Everton",
           "orientation": "v",
           "showlegend": true,
           "type": "scatter",
           "x": [
            0.6
           ],
           "xaxis": "x",
           "y": [
            2
           ],
           "yaxis": "y"
          },
          {
           "hovertemplate": "Team=Leicester<br>MatchesPlayed=29<br>MovingAverageFor=%{x}<br>MovingAverageAgainst=%{y}<extra></extra>",
           "legendgroup": "Leicester",
           "marker": {
            "color": "#19d3f3",
            "symbol": "circle"
           },
           "mode": "markers",
           "name": "Leicester",
           "orientation": "v",
           "showlegend": true,
           "type": "scatter",
           "x": [
            1.4
           ],
           "xaxis": "x",
           "y": [
            2.6
           ],
           "yaxis": "y"
          },
          {
           "hovertemplate": "Team=Watford<br>MatchesPlayed=29<br>MovingAverageFor=%{x}<br>MovingAverageAgainst=%{y}<extra></extra>",
           "legendgroup": "Watford",
           "marker": {
            "color": "#FF6692",
            "symbol": "circle"
           },
           "mode": "markers",
           "name": "Watford",
           "orientation": "v",
           "showlegend": true,
           "type": "scatter",
           "x": [
            0.8
           ],
           "xaxis": "x",
           "y": [
            1.6
           ],
           "yaxis": "y"
          },
          {
           "hovertemplate": "Team=Norwich<br>MatchesPlayed=29<br>MovingAverageFor=%{x}<br>MovingAverageAgainst=%{y}<extra></extra>",
           "legendgroup": "Norwich",
           "marker": {
            "color": "#B6E880",
            "symbol": "circle"
           },
           "mode": "markers",
           "name": "Norwich",
           "orientation": "v",
           "showlegend": true,
           "type": "scatter",
           "x": [
            0.6
           ],
           "xaxis": "x",
           "y": [
            2
           ],
           "yaxis": "y"
          },
          {
           "hovertemplate": "Team=Newcastle<br>MatchesPlayed=29<br>MovingAverageFor=%{x}<br>MovingAverageAgainst=%{y}<extra></extra>",
           "legendgroup": "Newcastle",
           "marker": {
            "color": "#FF97FF",
            "symbol": "circle"
           },
           "mode": "markers",
           "name": "Newcastle",
           "orientation": "v",
           "showlegend": true,
           "type": "scatter",
           "x": [
            0.6
           ],
           "xaxis": "x",
           "y": [
            2
           ],
           "yaxis": "y"
          },
          {
           "hovertemplate": "Team=Tottenham<br>MatchesPlayed=29<br>MovingAverageFor=%{x}<br>MovingAverageAgainst=%{y}<extra></extra>",
           "legendgroup": "Tottenham",
           "marker": {
            "color": "#FECB52",
            "symbol": "circle"
           },
           "mode": "markers",
           "name": "Tottenham",
           "orientation": "v",
           "showlegend": true,
           "type": "scatter",
           "x": [
            1
           ],
           "xaxis": "x",
           "y": [
            1
           ],
           "yaxis": "y"
          },
          {
           "hovertemplate": "Team=Liverpool<br>MatchesPlayed=29<br>MovingAverageFor=%{x}<br>MovingAverageAgainst=%{y}<extra></extra>",
           "legendgroup": "Liverpool",
           "marker": {
            "color": "#636efa",
            "symbol": "circle"
           },
           "mode": "markers",
           "name": "Liverpool",
           "orientation": "v",
           "showlegend": true,
           "type": "scatter",
           "x": [
            1.8
           ],
           "xaxis": "x",
           "y": [
            1.4
           ],
           "yaxis": "y"
          },
          {
           "hovertemplate": "Team=Aston Villa<br>MatchesPlayed=29<br>MovingAverageFor=%{x}<br>MovingAverageAgainst=%{y}<extra></extra>",
           "legendgroup": "Aston Villa",
           "marker": {
            "color": "#EF553B",
            "symbol": "circle"
           },
           "mode": "markers",
           "name": "Aston Villa",
           "orientation": "v",
           "showlegend": true,
           "type": "scatter",
           "x": [
            1
           ],
           "xaxis": "x",
           "y": [
            1
           ],
           "yaxis": "y"
          },
          {
           "hovertemplate": "Team=Crystal Palace<br>MatchesPlayed=29<br>MovingAverageFor=%{x}<br>MovingAverageAgainst=%{y}<extra></extra>",
           "legendgroup": "Crystal Palace",
           "marker": {
            "color": "#00cc96",
            "symbol": "circle"
           },
           "mode": "markers",
           "name": "Crystal Palace",
           "orientation": "v",
           "showlegend": true,
           "type": "scatter",
           "x": [
            0.8
           ],
           "xaxis": "x",
           "y": [
            1.8
           ],
           "yaxis": "y"
          },
          {
           "hovertemplate": "Team=Leeds<br>MatchesPlayed=29<br>MovingAverageFor=%{x}<br>MovingAverageAgainst=%{y}<extra></extra>",
           "legendgroup": "Leeds",
           "marker": {
            "color": "#ab63fa",
            "symbol": "circle"
           },
           "mode": "markers",
           "name": "Leeds",
           "orientation": "v",
           "showlegend": true,
           "type": "scatter",
           "x": [
            1.2
           ],
           "xaxis": "x",
           "y": [
            2.8
           ],
           "yaxis": "y"
          },
          {
           "hovertemplate": "Team=Man City<br>MatchesPlayed=29<br>MovingAverageFor=%{x}<br>MovingAverageAgainst=%{y}<extra></extra>",
           "legendgroup": "Man City",
           "marker": {
            "color": "#FFA15A",
            "symbol": "circle"
           },
           "mode": "markers",
           "name": "Man City",
           "orientation": "v",
           "showlegend": true,
           "type": "scatter",
           "x": [
            2.4
           ],
           "xaxis": "x",
           "y": [
            0.4
           ],
           "yaxis": "y"
          },
          {
           "hovertemplate": "Team=Brighton<br>MatchesPlayed=29<br>MovingAverageFor=%{x}<br>MovingAverageAgainst=%{y}<extra></extra>",
           "legendgroup": "Brighton",
           "marker": {
            "color": "#19d3f3",
            "symbol": "circle"
           },
           "mode": "markers",
           "name": "Brighton",
           "orientation": "v",
           "showlegend": true,
           "type": "scatter",
           "x": [
            1.2
           ],
           "xaxis": "x",
           "y": [
            1.4
           ],
           "yaxis": "y"
          },
          {
           "hovertemplate": "Team=Southampton<br>MatchesPlayed=29<br>MovingAverageFor=%{x}<br>MovingAverageAgainst=%{y}<extra></extra>",
           "legendgroup": "Southampton",
           "marker": {
            "color": "#FF6692",
            "symbol": "circle"
           },
           "mode": "markers",
           "name": "Southampton",
           "orientation": "v",
           "showlegend": true,
           "type": "scatter",
           "x": [
            1.2
           ],
           "xaxis": "x",
           "y": [
            2.6
           ],
           "yaxis": "y"
          },
          {
           "hovertemplate": "Team=Wolves<br>MatchesPlayed=29<br>MovingAverageFor=%{x}<br>MovingAverageAgainst=%{y}<extra></extra>",
           "legendgroup": "Wolves",
           "marker": {
            "color": "#B6E880",
            "symbol": "circle"
           },
           "mode": "markers",
           "name": "Wolves",
           "orientation": "v",
           "showlegend": true,
           "type": "scatter",
           "x": [
            0.4
           ],
           "xaxis": "x",
           "y": [
            0.6
           ],
           "yaxis": "y"
          },
          {
           "hovertemplate": "Team=Arsenal<br>MatchesPlayed=29<br>MovingAverageFor=%{x}<br>MovingAverageAgainst=%{y}<extra></extra>",
           "legendgroup": "Arsenal",
           "marker": {
            "color": "#FF97FF",
            "symbol": "circle"
           },
           "mode": "markers",
           "name": "Arsenal",
           "orientation": "v",
           "showlegend": true,
           "type": "scatter",
           "x": [
            2.4
           ],
           "xaxis": "x",
           "y": [
            2
           ],
           "yaxis": "y"
          },
          {
           "hovertemplate": "Team=West Ham<br>MatchesPlayed=29<br>MovingAverageFor=%{x}<br>MovingAverageAgainst=%{y}<extra></extra>",
           "legendgroup": "West Ham",
           "marker": {
            "color": "#FECB52",
            "symbol": "circle"
           },
           "mode": "markers",
           "name": "West Ham",
           "orientation": "v",
           "showlegend": true,
           "type": "scatter",
           "x": [
            1
           ],
           "xaxis": "x",
           "y": [
            1.2
           ],
           "yaxis": "y"
          }
         ],
         "name": "29"
        },
        {
         "data": [
          {
           "hovertemplate": "Team=Brentford<br>MatchesPlayed=30<br>MovingAverageFor=%{x}<br>MovingAverageAgainst=%{y}<extra></extra>",
           "legendgroup": "Brentford",
           "marker": {
            "color": "#636efa",
            "symbol": "circle"
           },
           "mode": "markers",
           "name": "Brentford",
           "orientation": "v",
           "showlegend": true,
           "type": "scatter",
           "x": [
            0.6
           ],
           "xaxis": "x",
           "y": [
            2.6
           ],
           "yaxis": "y"
          },
          {
           "hovertemplate": "Team=Man United<br>MatchesPlayed=30<br>MovingAverageFor=%{x}<br>MovingAverageAgainst=%{y}<extra></extra>",
           "legendgroup": "Man United",
           "marker": {
            "color": "#EF553B",
            "symbol": "circle"
           },
           "mode": "markers",
           "name": "Man United",
           "orientation": "v",
           "showlegend": true,
           "type": "scatter",
           "x": [
            1.6
           ],
           "xaxis": "x",
           "y": [
            1
           ],
           "yaxis": "y"
          },
          {
           "hovertemplate": "Team=Burnley<br>MatchesPlayed=30<br>MovingAverageFor=%{x}<br>MovingAverageAgainst=%{y}<extra></extra>",
           "legendgroup": "Burnley",
           "marker": {
            "color": "#00cc96",
            "symbol": "circle"
           },
           "mode": "markers",
           "name": "Burnley",
           "orientation": "v",
           "showlegend": true,
           "type": "scatter",
           "x": [
            0.4
           ],
           "xaxis": "x",
           "y": [
            1.4
           ],
           "yaxis": "y"
          },
          {
           "hovertemplate": "Team=Chelsea<br>MatchesPlayed=30<br>MovingAverageFor=%{x}<br>MovingAverageAgainst=%{y}<extra></extra>",
           "legendgroup": "Chelsea",
           "marker": {
            "color": "#ab63fa",
            "symbol": "circle"
           },
           "mode": "markers",
           "name": "Chelsea",
           "orientation": "v",
           "showlegend": true,
           "type": "scatter",
           "x": [
            1.4
           ],
           "xaxis": "x",
           "y": [
            1.2
           ],
           "yaxis": "y"
          },
          {
           "hovertemplate": "Team=Everton<br>MatchesPlayed=30<br>MovingAverageFor=%{x}<br>MovingAverageAgainst=%{y}<extra></extra>",
           "legendgroup": "Everton",
           "marker": {
            "color": "#FFA15A",
            "symbol": "circle"
           },
           "mode": "markers",
           "name": "Everton",
           "orientation": "v",
           "showlegend": true,
           "type": "scatter",
           "x": [
            0.8
           ],
           "xaxis": "x",
           "y": [
            2
           ],
           "yaxis": "y"
          },
          {
           "hovertemplate": "Team=Leicester<br>MatchesPlayed=30<br>MovingAverageFor=%{x}<br>MovingAverageAgainst=%{y}<extra></extra>",
           "legendgroup": "Leicester",
           "marker": {
            "color": "#19d3f3",
            "symbol": "circle"
           },
           "mode": "markers",
           "name": "Leicester",
           "orientation": "v",
           "showlegend": true,
           "type": "scatter",
           "x": [
            1.4
           ],
           "xaxis": "x",
           "y": [
            2.8
           ],
           "yaxis": "y"
          },
          {
           "hovertemplate": "Team=Watford<br>MatchesPlayed=30<br>MovingAverageFor=%{x}<br>MovingAverageAgainst=%{y}<extra></extra>",
           "legendgroup": "Watford",
           "marker": {
            "color": "#FF6692",
            "symbol": "circle"
           },
           "mode": "markers",
           "name": "Watford",
           "orientation": "v",
           "showlegend": true,
           "type": "scatter",
           "x": [
            0.8
           ],
           "xaxis": "x",
           "y": [
            1.6
           ],
           "yaxis": "y"
          },
          {
           "hovertemplate": "Team=Norwich<br>MatchesPlayed=30<br>MovingAverageFor=%{x}<br>MovingAverageAgainst=%{y}<extra></extra>",
           "legendgroup": "Norwich",
           "marker": {
            "color": "#B6E880",
            "symbol": "circle"
           },
           "mode": "markers",
           "name": "Norwich",
           "orientation": "v",
           "showlegend": true,
           "type": "scatter",
           "x": [
            0.8
           ],
           "xaxis": "x",
           "y": [
            1.8
           ],
           "yaxis": "y"
          },
          {
           "hovertemplate": "Team=Newcastle<br>MatchesPlayed=30<br>MovingAverageFor=%{x}<br>MovingAverageAgainst=%{y}<extra></extra>",
           "legendgroup": "Newcastle",
           "marker": {
            "color": "#FF97FF",
            "symbol": "circle"
           },
           "mode": "markers",
           "name": "Newcastle",
           "orientation": "v",
           "showlegend": true,
           "type": "scatter",
           "x": [
            0.6
           ],
           "xaxis": "x",
           "y": [
            2
           ],
           "yaxis": "y"
          },
          {
           "hovertemplate": "Team=Tottenham<br>MatchesPlayed=30<br>MovingAverageFor=%{x}<br>MovingAverageAgainst=%{y}<extra></extra>",
           "legendgroup": "Tottenham",
           "marker": {
            "color": "#FECB52",
            "symbol": "circle"
           },
           "mode": "markers",
           "name": "Tottenham",
           "orientation": "v",
           "showlegend": true,
           "type": "scatter",
           "x": [
            1.6
           ],
           "xaxis": "x",
           "y": [
            1.4
           ],
           "yaxis": "y"
          },
          {
           "hovertemplate": "Team=Liverpool<br>MatchesPlayed=30<br>MovingAverageFor=%{x}<br>MovingAverageAgainst=%{y}<extra></extra>",
           "legendgroup": "Liverpool",
           "marker": {
            "color": "#636efa",
            "symbol": "circle"
           },
           "mode": "markers",
           "name": "Liverpool",
           "orientation": "v",
           "showlegend": true,
           "type": "scatter",
           "x": [
            1.8
           ],
           "xaxis": "x",
           "y": [
            1.2
           ],
           "yaxis": "y"
          },
          {
           "hovertemplate": "Team=Aston Villa<br>MatchesPlayed=30<br>MovingAverageFor=%{x}<br>MovingAverageAgainst=%{y}<extra></extra>",
           "legendgroup": "Aston Villa",
           "marker": {
            "color": "#EF553B",
            "symbol": "circle"
           },
           "mode": "markers",
           "name": "Aston Villa",
           "orientation": "v",
           "showlegend": true,
           "type": "scatter",
           "x": [
            1.2
           ],
           "xaxis": "x",
           "y": [
            0.8
           ],
           "yaxis": "y"
          },
          {
           "hovertemplate": "Team=Crystal Palace<br>MatchesPlayed=30<br>MovingAverageFor=%{x}<br>MovingAverageAgainst=%{y}<extra></extra>",
           "legendgroup": "Crystal Palace",
           "marker": {
            "color": "#00cc96",
            "symbol": "circle"
           },
           "mode": "markers",
           "name": "Crystal Palace",
           "orientation": "v",
           "showlegend": true,
           "type": "scatter",
           "x": [
            0.4
           ],
           "xaxis": "x",
           "y": [
            1.4
           ],
           "yaxis": "y"
          },
          {
           "hovertemplate": "Team=Leeds<br>MatchesPlayed=30<br>MovingAverageFor=%{x}<br>MovingAverageAgainst=%{y}<extra></extra>",
           "legendgroup": "Leeds",
           "marker": {
            "color": "#ab63fa",
            "symbol": "circle"
           },
           "mode": "markers",
           "name": "Leeds",
           "orientation": "v",
           "showlegend": true,
           "type": "scatter",
           "x": [
            1.6
           ],
           "xaxis": "x",
           "y": [
            3
           ],
           "yaxis": "y"
          },
          {
           "hovertemplate": "Team=Man City<br>MatchesPlayed=30<br>MovingAverageFor=%{x}<br>MovingAverageAgainst=%{y}<extra></extra>",
           "legendgroup": "Man City",
           "marker": {
            "color": "#FFA15A",
            "symbol": "circle"
           },
           "mode": "markers",
           "name": "Man City",
           "orientation": "v",
           "showlegend": true,
           "type": "scatter",
           "x": [
            2.4
           ],
           "xaxis": "x",
           "y": [
            0.6
           ],
           "yaxis": "y"
          },
          {
           "hovertemplate": "Team=Brighton<br>MatchesPlayed=30<br>MovingAverageFor=%{x}<br>MovingAverageAgainst=%{y}<extra></extra>",
           "legendgroup": "Brighton",
           "marker": {
            "color": "#19d3f3",
            "symbol": "circle"
           },
           "mode": "markers",
           "name": "Brighton",
           "orientation": "v",
           "showlegend": true,
           "type": "scatter",
           "x": [
            1.4
           ],
           "xaxis": "x",
           "y": [
            1.2
           ],
           "yaxis": "y"
          },
          {
           "hovertemplate": "Team=Southampton<br>MatchesPlayed=30<br>MovingAverageFor=%{x}<br>MovingAverageAgainst=%{y}<extra></extra>",
           "legendgroup": "Southampton",
           "marker": {
            "color": "#FF6692",
            "symbol": "circle"
           },
           "mode": "markers",
           "name": "Southampton",
           "orientation": "v",
           "showlegend": true,
           "type": "scatter",
           "x": [
            1.2
           ],
           "xaxis": "x",
           "y": [
            2.8
           ],
           "yaxis": "y"
          },
          {
           "hovertemplate": "Team=Wolves<br>MatchesPlayed=30<br>MovingAverageFor=%{x}<br>MovingAverageAgainst=%{y}<extra></extra>",
           "legendgroup": "Wolves",
           "marker": {
            "color": "#B6E880",
            "symbol": "circle"
           },
           "mode": "markers",
           "name": "Wolves",
           "orientation": "v",
           "showlegend": true,
           "type": "scatter",
           "x": [
            0.8
           ],
           "xaxis": "x",
           "y": [
            0.4
           ],
           "yaxis": "y"
          },
          {
           "hovertemplate": "Team=Arsenal<br>MatchesPlayed=30<br>MovingAverageFor=%{x}<br>MovingAverageAgainst=%{y}<extra></extra>",
           "legendgroup": "Arsenal",
           "marker": {
            "color": "#FF97FF",
            "symbol": "circle"
           },
           "mode": "markers",
           "name": "Arsenal",
           "orientation": "v",
           "showlegend": true,
           "type": "scatter",
           "x": [
            2.6
           ],
           "xaxis": "x",
           "y": [
            1.2
           ],
           "yaxis": "y"
          },
          {
           "hovertemplate": "Team=West Ham<br>MatchesPlayed=30<br>MovingAverageFor=%{x}<br>MovingAverageAgainst=%{y}<extra></extra>",
           "legendgroup": "West Ham",
           "marker": {
            "color": "#FECB52",
            "symbol": "circle"
           },
           "mode": "markers",
           "name": "West Ham",
           "orientation": "v",
           "showlegend": true,
           "type": "scatter",
           "x": [
            1.6
           ],
           "xaxis": "x",
           "y": [
            1.4
           ],
           "yaxis": "y"
          }
         ],
         "name": "30"
        },
        {
         "data": [
          {
           "hovertemplate": "Team=Brentford<br>MatchesPlayed=31<br>MovingAverageFor=%{x}<br>MovingAverageAgainst=%{y}<extra></extra>",
           "legendgroup": "Brentford",
           "marker": {
            "color": "#636efa",
            "symbol": "circle"
           },
           "mode": "markers",
           "name": "Brentford",
           "orientation": "v",
           "showlegend": true,
           "type": "scatter",
           "x": [
            0.6
           ],
           "xaxis": "x",
           "y": [
            2.6
           ],
           "yaxis": "y"
          },
          {
           "hovertemplate": "Team=Man United<br>MatchesPlayed=31<br>MovingAverageFor=%{x}<br>MovingAverageAgainst=%{y}<extra></extra>",
           "legendgroup": "Man United",
           "marker": {
            "color": "#EF553B",
            "symbol": "circle"
           },
           "mode": "markers",
           "name": "Man United",
           "orientation": "v",
           "showlegend": true,
           "type": "scatter",
           "x": [
            1.6
           ],
           "xaxis": "x",
           "y": [
            1
           ],
           "yaxis": "y"
          },
          {
           "hovertemplate": "Team=Burnley<br>MatchesPlayed=31<br>MovingAverageFor=%{x}<br>MovingAverageAgainst=%{y}<extra></extra>",
           "legendgroup": "Burnley",
           "marker": {
            "color": "#00cc96",
            "symbol": "circle"
           },
           "mode": "markers",
           "name": "Burnley",
           "orientation": "v",
           "showlegend": true,
           "type": "scatter",
           "x": [
            1
           ],
           "xaxis": "x",
           "y": [
            1.4
           ],
           "yaxis": "y"
          },
          {
           "hovertemplate": "Team=Chelsea<br>MatchesPlayed=31<br>MovingAverageFor=%{x}<br>MovingAverageAgainst=%{y}<extra></extra>",
           "legendgroup": "Chelsea",
           "marker": {
            "color": "#ab63fa",
            "symbol": "circle"
           },
           "mode": "markers",
           "name": "Chelsea",
           "orientation": "v",
           "showlegend": true,
           "type": "scatter",
           "x": [
            1.2
           ],
           "xaxis": "x",
           "y": [
            1.2
           ],
           "yaxis": "y"
          },
          {
           "hovertemplate": "Team=Everton<br>MatchesPlayed=31<br>MovingAverageFor=%{x}<br>MovingAverageAgainst=%{y}<extra></extra>",
           "legendgroup": "Everton",
           "marker": {
            "color": "#FFA15A",
            "symbol": "circle"
           },
           "mode": "markers",
           "name": "Everton",
           "orientation": "v",
           "showlegend": true,
           "type": "scatter",
           "x": [
            0.8
           ],
           "xaxis": "x",
           "y": [
            2.2
           ],
           "yaxis": "y"
          },
          {
           "hovertemplate": "Team=Leicester<br>MatchesPlayed=31<br>MovingAverageFor=%{x}<br>MovingAverageAgainst=%{y}<extra></extra>",
           "legendgroup": "Leicester",
           "marker": {
            "color": "#19d3f3",
            "symbol": "circle"
           },
           "mode": "markers",
           "name": "Leicester",
           "orientation": "v",
           "showlegend": true,
           "type": "scatter",
           "x": [
            1.4
           ],
           "xaxis": "x",
           "y": [
            2.4
           ],
           "yaxis": "y"
          },
          {
           "hovertemplate": "Team=Watford<br>MatchesPlayed=31<br>MovingAverageFor=%{x}<br>MovingAverageAgainst=%{y}<extra></extra>",
           "legendgroup": "Watford",
           "marker": {
            "color": "#FF6692",
            "symbol": "circle"
           },
           "mode": "markers",
           "name": "Watford",
           "orientation": "v",
           "showlegend": true,
           "type": "scatter",
           "x": [
            0.6
           ],
           "xaxis": "x",
           "y": [
            0.8
           ],
           "yaxis": "y"
          },
          {
           "hovertemplate": "Team=Norwich<br>MatchesPlayed=31<br>MovingAverageFor=%{x}<br>MovingAverageAgainst=%{y}<extra></extra>",
           "legendgroup": "Norwich",
           "marker": {
            "color": "#B6E880",
            "symbol": "circle"
           },
           "mode": "markers",
           "name": "Norwich",
           "orientation": "v",
           "showlegend": true,
           "type": "scatter",
           "x": [
            0.8
           ],
           "xaxis": "x",
           "y": [
            2.2
           ],
           "yaxis": "y"
          },
          {
           "hovertemplate": "Team=Newcastle<br>MatchesPlayed=31<br>MovingAverageFor=%{x}<br>MovingAverageAgainst=%{y}<extra></extra>",
           "legendgroup": "Newcastle",
           "marker": {
            "color": "#FF97FF",
            "symbol": "circle"
           },
           "mode": "markers",
           "name": "Newcastle",
           "orientation": "v",
           "showlegend": true,
           "type": "scatter",
           "x": [
            1
           ],
           "xaxis": "x",
           "y": [
            1.6
           ],
           "yaxis": "y"
          },
          {
           "hovertemplate": "Team=Tottenham<br>MatchesPlayed=31<br>MovingAverageFor=%{x}<br>MovingAverageAgainst=%{y}<extra></extra>",
           "legendgroup": "Tottenham",
           "marker": {
            "color": "#FECB52",
            "symbol": "circle"
           },
           "mode": "markers",
           "name": "Tottenham",
           "orientation": "v",
           "showlegend": true,
           "type": "scatter",
           "x": [
            1.4
           ],
           "xaxis": "x",
           "y": [
            1.4
           ],
           "yaxis": "y"
          },
          {
           "hovertemplate": "Team=Liverpool<br>MatchesPlayed=31<br>MovingAverageFor=%{x}<br>MovingAverageAgainst=%{y}<extra></extra>",
           "legendgroup": "Liverpool",
           "marker": {
            "color": "#636efa",
            "symbol": "circle"
           },
           "mode": "markers",
           "name": "Liverpool",
           "orientation": "v",
           "showlegend": true,
           "type": "scatter",
           "x": [
            1.6
           ],
           "xaxis": "x",
           "y": [
            1.2
           ],
           "yaxis": "y"
          },
          {
           "hovertemplate": "Team=Aston Villa<br>MatchesPlayed=31<br>MovingAverageFor=%{x}<br>MovingAverageAgainst=%{y}<extra></extra>",
           "legendgroup": "Aston Villa",
           "marker": {
            "color": "#EF553B",
            "symbol": "circle"
           },
           "mode": "markers",
           "name": "Aston Villa",
           "orientation": "v",
           "showlegend": true,
           "type": "scatter",
           "x": [
            0.8
           ],
           "xaxis": "x",
           "y": [
            0.8
           ],
           "yaxis": "y"
          },
          {
           "hovertemplate": "Team=Crystal Palace<br>MatchesPlayed=31<br>MovingAverageFor=%{x}<br>MovingAverageAgainst=%{y}<extra></extra>",
           "legendgroup": "Crystal Palace",
           "marker": {
            "color": "#00cc96",
            "symbol": "circle"
           },
           "mode": "markers",
           "name": "Crystal Palace",
           "orientation": "v",
           "showlegend": true,
           "type": "scatter",
           "x": [
            0.4
           ],
           "xaxis": "x",
           "y": [
            1.2
           ],
           "yaxis": "y"
          },
          {
           "hovertemplate": "Team=Leeds<br>MatchesPlayed=31<br>MovingAverageFor=%{x}<br>MovingAverageAgainst=%{y}<extra></extra>",
           "legendgroup": "Leeds",
           "marker": {
            "color": "#ab63fa",
            "symbol": "circle"
           },
           "mode": "markers",
           "name": "Leeds",
           "orientation": "v",
           "showlegend": true,
           "type": "scatter",
           "x": [
            1.6
           ],
           "xaxis": "x",
           "y": [
            3.6
           ],
           "yaxis": "y"
          },
          {
           "hovertemplate": "Team=Man City<br>MatchesPlayed=31<br>MovingAverageFor=%{x}<br>MovingAverageAgainst=%{y}<extra></extra>",
           "legendgroup": "Man City",
           "marker": {
            "color": "#FFA15A",
            "symbol": "circle"
           },
           "mode": "markers",
           "name": "Man City",
           "orientation": "v",
           "showlegend": true,
           "type": "scatter",
           "x": [
            2.2
           ],
           "xaxis": "x",
           "y": [
            0.6
           ],
           "yaxis": "y"
          },
          {
           "hovertemplate": "Team=Brighton<br>MatchesPlayed=31<br>MovingAverageFor=%{x}<br>MovingAverageAgainst=%{y}<extra></extra>",
           "legendgroup": "Brighton",
           "marker": {
            "color": "#19d3f3",
            "symbol": "circle"
           },
           "mode": "markers",
           "name": "Brighton",
           "orientation": "v",
           "showlegend": true,
           "type": "scatter",
           "x": [
            1.6
           ],
           "xaxis": "x",
           "y": [
            1
           ],
           "yaxis": "y"
          },
          {
           "hovertemplate": "Team=Southampton<br>MatchesPlayed=31<br>MovingAverageFor=%{x}<br>MovingAverageAgainst=%{y}<extra></extra>",
           "legendgroup": "Southampton",
           "marker": {
            "color": "#FF6692",
            "symbol": "circle"
           },
           "mode": "markers",
           "name": "Southampton",
           "orientation": "v",
           "showlegend": true,
           "type": "scatter",
           "x": [
            1.8
           ],
           "xaxis": "x",
           "y": [
            2.4
           ],
           "yaxis": "y"
          },
          {
           "hovertemplate": "Team=Wolves<br>MatchesPlayed=31<br>MovingAverageFor=%{x}<br>MovingAverageAgainst=%{y}<extra></extra>",
           "legendgroup": "Wolves",
           "marker": {
            "color": "#B6E880",
            "symbol": "circle"
           },
           "mode": "markers",
           "name": "Wolves",
           "orientation": "v",
           "showlegend": true,
           "type": "scatter",
           "x": [
            1.2
           ],
           "xaxis": "x",
           "y": [
            0.4
           ],
           "yaxis": "y"
          },
          {
           "hovertemplate": "Team=Arsenal<br>MatchesPlayed=31<br>MovingAverageFor=%{x}<br>MovingAverageAgainst=%{y}<extra></extra>",
           "legendgroup": "Arsenal",
           "marker": {
            "color": "#FF97FF",
            "symbol": "circle"
           },
           "mode": "markers",
           "name": "Arsenal",
           "orientation": "v",
           "showlegend": true,
           "type": "scatter",
           "x": [
            2.8
           ],
           "xaxis": "x",
           "y": [
            1
           ],
           "yaxis": "y"
          },
          {
           "hovertemplate": "Team=West Ham<br>MatchesPlayed=31<br>MovingAverageFor=%{x}<br>MovingAverageAgainst=%{y}<extra></extra>",
           "legendgroup": "West Ham",
           "marker": {
            "color": "#FECB52",
            "symbol": "circle"
           },
           "mode": "markers",
           "name": "West Ham",
           "orientation": "v",
           "showlegend": true,
           "type": "scatter",
           "x": [
            1.4
           ],
           "xaxis": "x",
           "y": [
            1.2
           ],
           "yaxis": "y"
          }
         ],
         "name": "31"
        },
        {
         "data": [
          {
           "hovertemplate": "Team=Brentford<br>MatchesPlayed=32<br>MovingAverageFor=%{x}<br>MovingAverageAgainst=%{y}<extra></extra>",
           "legendgroup": "Brentford",
           "marker": {
            "color": "#636efa",
            "symbol": "circle"
           },
           "mode": "markers",
           "name": "Brentford",
           "orientation": "v",
           "showlegend": true,
           "type": "scatter",
           "x": [
            0.4
           ],
           "xaxis": "x",
           "y": [
            2.6
           ],
           "yaxis": "y"
          },
          {
           "hovertemplate": "Team=Man United<br>MatchesPlayed=32<br>MovingAverageFor=%{x}<br>MovingAverageAgainst=%{y}<extra></extra>",
           "legendgroup": "Man United",
           "marker": {
            "color": "#EF553B",
            "symbol": "circle"
           },
           "mode": "markers",
           "name": "Man United",
           "orientation": "v",
           "showlegend": true,
           "type": "scatter",
           "x": [
            2.2
           ],
           "xaxis": "x",
           "y": [
            1.4
           ],
           "yaxis": "y"
          },
          {
           "hovertemplate": "Team=Burnley<br>MatchesPlayed=32<br>MovingAverageFor=%{x}<br>MovingAverageAgainst=%{y}<extra></extra>",
           "legendgroup": "Burnley",
           "marker": {
            "color": "#00cc96",
            "symbol": "circle"
           },
           "mode": "markers",
           "name": "Burnley",
           "orientation": "v",
           "showlegend": true,
           "type": "scatter",
           "x": [
            1.2
           ],
           "xaxis": "x",
           "y": [
            1.4
           ],
           "yaxis": "y"
          },
          {
           "hovertemplate": "Team=Chelsea<br>MatchesPlayed=32<br>MovingAverageFor=%{x}<br>MovingAverageAgainst=%{y}<extra></extra>",
           "legendgroup": "Chelsea",
           "marker": {
            "color": "#ab63fa",
            "symbol": "circle"
           },
           "mode": "markers",
           "name": "Chelsea",
           "orientation": "v",
           "showlegend": true,
           "type": "scatter",
           "x": [
            1
           ],
           "xaxis": "x",
           "y": [
            0.6
           ],
           "yaxis": "y"
          },
          {
           "hovertemplate": "Team=Everton<br>MatchesPlayed=32<br>MovingAverageFor=%{x}<br>MovingAverageAgainst=%{y}<extra></extra>",
           "legendgroup": "Everton",
           "marker": {
            "color": "#FFA15A",
            "symbol": "circle"
           },
           "mode": "markers",
           "name": "Everton",
           "orientation": "v",
           "showlegend": true,
           "type": "scatter",
           "x": [
            0.6
           ],
           "xaxis": "x",
           "y": [
            2.6
           ],
           "yaxis": "y"
          },
          {
           "hovertemplate": "Team=Leicester<br>MatchesPlayed=32<br>MovingAverageFor=%{x}<br>MovingAverageAgainst=%{y}<extra></extra>",
           "legendgroup": "Leicester",
           "marker": {
            "color": "#19d3f3",
            "symbol": "circle"
           },
           "mode": "markers",
           "name": "Leicester",
           "orientation": "v",
           "showlegend": true,
           "type": "scatter",
           "x": [
            1.2
           ],
           "xaxis": "x",
           "y": [
            2.4
           ],
           "yaxis": "y"
          },
          {
           "hovertemplate": "Team=Watford<br>MatchesPlayed=32<br>MovingAverageFor=%{x}<br>MovingAverageAgainst=%{y}<extra></extra>",
           "legendgroup": "Watford",
           "marker": {
            "color": "#FF6692",
            "symbol": "circle"
           },
           "mode": "markers",
           "name": "Watford",
           "orientation": "v",
           "showlegend": true,
           "type": "scatter",
           "x": [
            0.4
           ],
           "xaxis": "x",
           "y": [
            0.4
           ],
           "yaxis": "y"
          },
          {
           "hovertemplate": "Team=Norwich<br>MatchesPlayed=32<br>MovingAverageFor=%{x}<br>MovingAverageAgainst=%{y}<extra></extra>",
           "legendgroup": "Norwich",
           "marker": {
            "color": "#B6E880",
            "symbol": "circle"
           },
           "mode": "markers",
           "name": "Norwich",
           "orientation": "v",
           "showlegend": true,
           "type": "scatter",
           "x": [
            0.8
           ],
           "xaxis": "x",
           "y": [
            2
           ],
           "yaxis": "y"
          },
          {
           "hovertemplate": "Team=Newcastle<br>MatchesPlayed=32<br>MovingAverageFor=%{x}<br>MovingAverageAgainst=%{y}<extra></extra>",
           "legendgroup": "Newcastle",
           "marker": {
            "color": "#FF97FF",
            "symbol": "circle"
           },
           "mode": "markers",
           "name": "Newcastle",
           "orientation": "v",
           "showlegend": true,
           "type": "scatter",
           "x": [
            1.4
           ],
           "xaxis": "x",
           "y": [
            1
           ],
           "yaxis": "y"
          },
          {
           "hovertemplate": "Team=Tottenham<br>MatchesPlayed=32<br>MovingAverageFor=%{x}<br>MovingAverageAgainst=%{y}<extra></extra>",
           "legendgroup": "Tottenham",
           "marker": {
            "color": "#FECB52",
            "symbol": "circle"
           },
           "mode": "markers",
           "name": "Tottenham",
           "orientation": "v",
           "showlegend": true,
           "type": "scatter",
           "x": [
            2
           ],
           "xaxis": "x",
           "y": [
            1.4
           ],
           "yaxis": "y"
          },
          {
           "hovertemplate": "Team=Liverpool<br>MatchesPlayed=32<br>MovingAverageFor=%{x}<br>MovingAverageAgainst=%{y}<extra></extra>",
           "legendgroup": "Liverpool",
           "marker": {
            "color": "#636efa",
            "symbol": "circle"
           },
           "mode": "markers",
           "name": "Liverpool",
           "orientation": "v",
           "showlegend": true,
           "type": "scatter",
           "x": [
            1.6
           ],
           "xaxis": "x",
           "y": [
            1.2
           ],
           "yaxis": "y"
          },
          {
           "hovertemplate": "Team=Aston Villa<br>MatchesPlayed=32<br>MovingAverageFor=%{x}<br>MovingAverageAgainst=%{y}<extra></extra>",
           "legendgroup": "Aston Villa",
           "marker": {
            "color": "#EF553B",
            "symbol": "circle"
           },
           "mode": "markers",
           "name": "Aston Villa",
           "orientation": "v",
           "showlegend": true,
           "type": "scatter",
           "x": [
            1.2
           ],
           "xaxis": "x",
           "y": [
            0.6
           ],
           "yaxis": "y"
          },
          {
           "hovertemplate": "Team=Crystal Palace<br>MatchesPlayed=32<br>MovingAverageFor=%{x}<br>MovingAverageAgainst=%{y}<extra></extra>",
           "legendgroup": "Crystal Palace",
           "marker": {
            "color": "#00cc96",
            "symbol": "circle"
           },
           "mode": "markers",
           "name": "Crystal Palace",
           "orientation": "v",
           "showlegend": true,
           "type": "scatter",
           "x": [
            1.2
           ],
           "xaxis": "x",
           "y": [
            1.2
           ],
           "yaxis": "y"
          },
          {
           "hovertemplate": "Team=Leeds<br>MatchesPlayed=32<br>MovingAverageFor=%{x}<br>MovingAverageAgainst=%{y}<extra></extra>",
           "legendgroup": "Leeds",
           "marker": {
            "color": "#ab63fa",
            "symbol": "circle"
           },
           "mode": "markers",
           "name": "Leeds",
           "orientation": "v",
           "showlegend": true,
           "type": "scatter",
           "x": [
            1.2
           ],
           "xaxis": "x",
           "y": [
            4.2
           ],
           "yaxis": "y"
          },
          {
           "hovertemplate": "Team=Man City<br>MatchesPlayed=32<br>MovingAverageFor=%{x}<br>MovingAverageAgainst=%{y}<extra></extra>",
           "legendgroup": "Man City",
           "marker": {
            "color": "#FFA15A",
            "symbol": "circle"
           },
           "mode": "markers",
           "name": "Man City",
           "orientation": "v",
           "showlegend": true,
           "type": "scatter",
           "x": [
            2.4
           ],
           "xaxis": "x",
           "y": [
            0.4
           ],
           "yaxis": "y"
          },
          {
           "hovertemplate": "Team=Brighton<br>MatchesPlayed=32<br>MovingAverageFor=%{x}<br>MovingAverageAgainst=%{y}<extra></extra>",
           "legendgroup": "Brighton",
           "marker": {
            "color": "#19d3f3",
            "symbol": "circle"
           },
           "mode": "markers",
           "name": "Brighton",
           "orientation": "v",
           "showlegend": true,
           "type": "scatter",
           "x": [
            1.4
           ],
           "xaxis": "x",
           "y": [
            1.2
           ],
           "yaxis": "y"
          },
          {
           "hovertemplate": "Team=Southampton<br>MatchesPlayed=32<br>MovingAverageFor=%{x}<br>MovingAverageAgainst=%{y}<extra></extra>",
           "legendgroup": "Southampton",
           "marker": {
            "color": "#FF6692",
            "symbol": "circle"
           },
           "mode": "markers",
           "name": "Southampton",
           "orientation": "v",
           "showlegend": true,
           "type": "scatter",
           "x": [
            2
           ],
           "xaxis": "x",
           "y": [
            2
           ],
           "yaxis": "y"
          },
          {
           "hovertemplate": "Team=Wolves<br>MatchesPlayed=32<br>MovingAverageFor=%{x}<br>MovingAverageAgainst=%{y}<extra></extra>",
           "legendgroup": "Wolves",
           "marker": {
            "color": "#B6E880",
            "symbol": "circle"
           },
           "mode": "markers",
           "name": "Wolves",
           "orientation": "v",
           "showlegend": true,
           "type": "scatter",
           "x": [
            1.4
           ],
           "xaxis": "x",
           "y": [
            0.6
           ],
           "yaxis": "y"
          },
          {
           "hovertemplate": "Team=Arsenal<br>MatchesPlayed=32<br>MovingAverageFor=%{x}<br>MovingAverageAgainst=%{y}<extra></extra>",
           "legendgroup": "Arsenal",
           "marker": {
            "color": "#FF97FF",
            "symbol": "circle"
           },
           "mode": "markers",
           "name": "Arsenal",
           "orientation": "v",
           "showlegend": true,
           "type": "scatter",
           "x": [
            2.8
           ],
           "xaxis": "x",
           "y": [
            0.6
           ],
           "yaxis": "y"
          },
          {
           "hovertemplate": "Team=West Ham<br>MatchesPlayed=32<br>MovingAverageFor=%{x}<br>MovingAverageAgainst=%{y}<extra></extra>",
           "legendgroup": "West Ham",
           "marker": {
            "color": "#FECB52",
            "symbol": "circle"
           },
           "mode": "markers",
           "name": "West Ham",
           "orientation": "v",
           "showlegend": true,
           "type": "scatter",
           "x": [
            1.8
           ],
           "xaxis": "x",
           "y": [
            1.6
           ],
           "yaxis": "y"
          }
         ],
         "name": "32"
        },
        {
         "data": [
          {
           "hovertemplate": "Team=Brentford<br>MatchesPlayed=33<br>MovingAverageFor=%{x}<br>MovingAverageAgainst=%{y}<extra></extra>",
           "legendgroup": "Brentford",
           "marker": {
            "color": "#636efa",
            "symbol": "circle"
           },
           "mode": "markers",
           "name": "Brentford",
           "orientation": "v",
           "showlegend": true,
           "type": "scatter",
           "x": [
            1
           ],
           "xaxis": "x",
           "y": [
            2.4
           ],
           "yaxis": "y"
          },
          {
           "hovertemplate": "Team=Man United<br>MatchesPlayed=33<br>MovingAverageFor=%{x}<br>MovingAverageAgainst=%{y}<extra></extra>",
           "legendgroup": "Man United",
           "marker": {
            "color": "#EF553B",
            "symbol": "circle"
           },
           "mode": "markers",
           "name": "Man United",
           "orientation": "v",
           "showlegend": true,
           "type": "scatter",
           "x": [
            2.2
           ],
           "xaxis": "x",
           "y": [
            2
           ],
           "yaxis": "y"
          },
          {
           "hovertemplate": "Team=Burnley<br>MatchesPlayed=33<br>MovingAverageFor=%{x}<br>MovingAverageAgainst=%{y}<extra></extra>",
           "legendgroup": "Burnley",
           "marker": {
            "color": "#00cc96",
            "symbol": "circle"
           },
           "mode": "markers",
           "name": "Burnley",
           "orientation": "v",
           "showlegend": true,
           "type": "scatter",
           "x": [
            1
           ],
           "xaxis": "x",
           "y": [
            1.2
           ],
           "yaxis": "y"
          },
          {
           "hovertemplate": "Team=Chelsea<br>MatchesPlayed=33<br>MovingAverageFor=%{x}<br>MovingAverageAgainst=%{y}<extra></extra>",
           "legendgroup": "Chelsea",
           "marker": {
            "color": "#ab63fa",
            "symbol": "circle"
           },
           "mode": "markers",
           "name": "Chelsea",
           "orientation": "v",
           "showlegend": true,
           "type": "scatter",
           "x": [
            1.8
           ],
           "xaxis": "x",
           "y": [
            0.6
           ],
           "yaxis": "y"
          },
          {
           "hovertemplate": "Team=Everton<br>MatchesPlayed=33<br>MovingAverageFor=%{x}<br>MovingAverageAgainst=%{y}<extra></extra>",
           "legendgroup": "Everton",
           "marker": {
            "color": "#FFA15A",
            "symbol": "circle"
           },
           "mode": "markers",
           "name": "Everton",
           "orientation": "v",
           "showlegend": true,
           "type": "scatter",
           "x": [
            0.6
           ],
           "xaxis": "x",
           "y": [
            2.8
           ],
           "yaxis": "y"
          },
          {
           "hovertemplate": "Team=Leicester<br>MatchesPlayed=33<br>MovingAverageFor=%{x}<br>MovingAverageAgainst=%{y}<extra></extra>",
           "legendgroup": "Leicester",
           "marker": {
            "color": "#19d3f3",
            "symbol": "circle"
           },
           "mode": "markers",
           "name": "Leicester",
           "orientation": "v",
           "showlegend": true,
           "type": "scatter",
           "x": [
            0.8
           ],
           "xaxis": "x",
           "y": [
            1.4
           ],
           "yaxis": "y"
          },
          {
           "hovertemplate": "Team=Watford<br>MatchesPlayed=33<br>MovingAverageFor=%{x}<br>MovingAverageAgainst=%{y}<extra></extra>",
           "legendgroup": "Watford",
           "marker": {
            "color": "#FF6692",
            "symbol": "circle"
           },
           "mode": "markers",
           "name": "Watford",
           "orientation": "v",
           "showlegend": true,
           "type": "scatter",
           "x": [
            0.2
           ],
           "xaxis": "x",
           "y": [
            1
           ],
           "yaxis": "y"
          },
          {
           "hovertemplate": "Team=Norwich<br>MatchesPlayed=33<br>MovingAverageFor=%{x}<br>MovingAverageAgainst=%{y}<extra></extra>",
           "legendgroup": "Norwich",
           "marker": {
            "color": "#B6E880",
            "symbol": "circle"
           },
           "mode": "markers",
           "name": "Norwich",
           "orientation": "v",
           "showlegend": true,
           "type": "scatter",
           "x": [
            1
           ],
           "xaxis": "x",
           "y": [
            1.8
           ],
           "yaxis": "y"
          },
          {
           "hovertemplate": "Team=Newcastle<br>MatchesPlayed=33<br>MovingAverageFor=%{x}<br>MovingAverageAgainst=%{y}<extra></extra>",
           "legendgroup": "Newcastle",
           "marker": {
            "color": "#FF97FF",
            "symbol": "circle"
           },
           "mode": "markers",
           "name": "Newcastle",
           "orientation": "v",
           "showlegend": true,
           "type": "scatter",
           "x": [
            1.2
           ],
           "xaxis": "x",
           "y": [
            0.6
           ],
           "yaxis": "y"
          },
          {
           "hovertemplate": "Team=Tottenham<br>MatchesPlayed=33<br>MovingAverageFor=%{x}<br>MovingAverageAgainst=%{y}<extra></extra>",
           "legendgroup": "Tottenham",
           "marker": {
            "color": "#FECB52",
            "symbol": "circle"
           },
           "mode": "markers",
           "name": "Tottenham",
           "orientation": "v",
           "showlegend": true,
           "type": "scatter",
           "x": [
            1.8
           ],
           "xaxis": "x",
           "y": [
            1.6
           ],
           "yaxis": "y"
          },
          {
           "hovertemplate": "Team=Liverpool<br>MatchesPlayed=33<br>MovingAverageFor=%{x}<br>MovingAverageAgainst=%{y}<extra></extra>",
           "legendgroup": "Liverpool",
           "marker": {
            "color": "#636efa",
            "symbol": "circle"
           },
           "mode": "markers",
           "name": "Liverpool",
           "orientation": "v",
           "showlegend": true,
           "type": "scatter",
           "x": [
            1.6
           ],
           "xaxis": "x",
           "y": [
            0.8
           ],
           "yaxis": "y"
          },
          {
           "hovertemplate": "Team=Aston Villa<br>MatchesPlayed=33<br>MovingAverageFor=%{x}<br>MovingAverageAgainst=%{y}<extra></extra>",
           "legendgroup": "Aston Villa",
           "marker": {
            "color": "#EF553B",
            "symbol": "circle"
           },
           "mode": "markers",
           "name": "Aston Villa",
           "orientation": "v",
           "showlegend": true,
           "type": "scatter",
           "x": [
            1.4
           ],
           "xaxis": "x",
           "y": [
            0.6
           ],
           "yaxis": "y"
          },
          {
           "hovertemplate": "Team=Crystal Palace<br>MatchesPlayed=33<br>MovingAverageFor=%{x}<br>MovingAverageAgainst=%{y}<extra></extra>",
           "legendgroup": "Crystal Palace",
           "marker": {
            "color": "#00cc96",
            "symbol": "circle"
           },
           "mode": "markers",
           "name": "Crystal Palace",
           "orientation": "v",
           "showlegend": true,
           "type": "scatter",
           "x": [
            1.6
           ],
           "xaxis": "x",
           "y": [
            0.6
           ],
           "yaxis": "y"
          },
          {
           "hovertemplate": "Team=Leeds<br>MatchesPlayed=33<br>MovingAverageFor=%{x}<br>MovingAverageAgainst=%{y}<extra></extra>",
           "legendgroup": "Leeds",
           "marker": {
            "color": "#ab63fa",
            "symbol": "circle"
           },
           "mode": "markers",
           "name": "Leeds",
           "orientation": "v",
           "showlegend": true,
           "type": "scatter",
           "x": [
            1.2
           ],
           "xaxis": "x",
           "y": [
            3
           ],
           "yaxis": "y"
          },
          {
           "hovertemplate": "Team=Man City<br>MatchesPlayed=33<br>MovingAverageFor=%{x}<br>MovingAverageAgainst=%{y}<extra></extra>",
           "legendgroup": "Man City",
           "marker": {
            "color": "#FFA15A",
            "symbol": "circle"
           },
           "mode": "markers",
           "name": "Man City",
           "orientation": "v",
           "showlegend": true,
           "type": "scatter",
           "x": [
            1.8
           ],
           "xaxis": "x",
           "y": [
            0.4
           ],
           "yaxis": "y"
          },
          {
           "hovertemplate": "Team=Brighton<br>MatchesPlayed=33<br>MovingAverageFor=%{x}<br>MovingAverageAgainst=%{y}<extra></extra>",
           "legendgroup": "Brighton",
           "marker": {
            "color": "#19d3f3",
            "symbol": "circle"
           },
           "mode": "markers",
           "name": "Brighton",
           "orientation": "v",
           "showlegend": true,
           "type": "scatter",
           "x": [
            1.4
           ],
           "xaxis": "x",
           "y": [
            1.4
           ],
           "yaxis": "y"
          },
          {
           "hovertemplate": "Team=Southampton<br>MatchesPlayed=33<br>MovingAverageFor=%{x}<br>MovingAverageAgainst=%{y}<extra></extra>",
           "legendgroup": "Southampton",
           "marker": {
            "color": "#FF6692",
            "symbol": "circle"
           },
           "mode": "markers",
           "name": "Southampton",
           "orientation": "v",
           "showlegend": true,
           "type": "scatter",
           "x": [
            1.6
           ],
           "xaxis": "x",
           "y": [
            2.4
           ],
           "yaxis": "y"
          },
          {
           "hovertemplate": "Team=Wolves<br>MatchesPlayed=33<br>MovingAverageFor=%{x}<br>MovingAverageAgainst=%{y}<extra></extra>",
           "legendgroup": "Wolves",
           "marker": {
            "color": "#B6E880",
            "symbol": "circle"
           },
           "mode": "markers",
           "name": "Wolves",
           "orientation": "v",
           "showlegend": true,
           "type": "scatter",
           "x": [
            1.2
           ],
           "xaxis": "x",
           "y": [
            0.8
           ],
           "yaxis": "y"
          },
          {
           "hovertemplate": "Team=Arsenal<br>MatchesPlayed=33<br>MovingAverageFor=%{x}<br>MovingAverageAgainst=%{y}<extra></extra>",
           "legendgroup": "Arsenal",
           "marker": {
            "color": "#FF97FF",
            "symbol": "circle"
           },
           "mode": "markers",
           "name": "Arsenal",
           "orientation": "v",
           "showlegend": true,
           "type": "scatter",
           "x": [
            2
           ],
           "xaxis": "x",
           "y": [
            1
           ],
           "yaxis": "y"
          },
          {
           "hovertemplate": "Team=West Ham<br>MatchesPlayed=33<br>MovingAverageFor=%{x}<br>MovingAverageAgainst=%{y}<extra></extra>",
           "legendgroup": "West Ham",
           "marker": {
            "color": "#FECB52",
            "symbol": "circle"
           },
           "mode": "markers",
           "name": "West Ham",
           "orientation": "v",
           "showlegend": true,
           "type": "scatter",
           "x": [
            1.8
           ],
           "xaxis": "x",
           "y": [
            1.4
           ],
           "yaxis": "y"
          }
         ],
         "name": "33"
        },
        {
         "data": [
          {
           "hovertemplate": "Team=Brentford<br>MatchesPlayed=34<br>MovingAverageFor=%{x}<br>MovingAverageAgainst=%{y}<extra></extra>",
           "legendgroup": "Brentford",
           "marker": {
            "color": "#636efa",
            "symbol": "circle"
           },
           "mode": "markers",
           "name": "Brentford",
           "orientation": "v",
           "showlegend": true,
           "type": "scatter",
           "x": [
            1
           ],
           "xaxis": "x",
           "y": [
            2
           ],
           "yaxis": "y"
          },
          {
           "hovertemplate": "Team=Man United<br>MatchesPlayed=34<br>MovingAverageFor=%{x}<br>MovingAverageAgainst=%{y}<extra></extra>",
           "legendgroup": "Man United",
           "marker": {
            "color": "#EF553B",
            "symbol": "circle"
           },
           "mode": "markers",
           "name": "Man United",
           "orientation": "v",
           "showlegend": true,
           "type": "scatter",
           "x": [
            1.8
           ],
           "xaxis": "x",
           "y": [
            1.8
           ],
           "yaxis": "y"
          },
          {
           "hovertemplate": "Team=Burnley<br>MatchesPlayed=34<br>MovingAverageFor=%{x}<br>MovingAverageAgainst=%{y}<extra></extra>",
           "legendgroup": "Burnley",
           "marker": {
            "color": "#00cc96",
            "symbol": "circle"
           },
           "mode": "markers",
           "name": "Burnley",
           "orientation": "v",
           "showlegend": true,
           "type": "scatter",
           "x": [
            0.8
           ],
           "xaxis": "x",
           "y": [
            1
           ],
           "yaxis": "y"
          },
          {
           "hovertemplate": "Team=Chelsea<br>MatchesPlayed=34<br>MovingAverageFor=%{x}<br>MovingAverageAgainst=%{y}<extra></extra>",
           "legendgroup": "Chelsea",
           "marker": {
            "color": "#ab63fa",
            "symbol": "circle"
           },
           "mode": "markers",
           "name": "Chelsea",
           "orientation": "v",
           "showlegend": true,
           "type": "scatter",
           "x": [
            1.8
           ],
           "xaxis": "x",
           "y": [
            0.6
           ],
           "yaxis": "y"
          },
          {
           "hovertemplate": "Team=Everton<br>MatchesPlayed=34<br>MovingAverageFor=%{x}<br>MovingAverageAgainst=%{y}<extra></extra>",
           "legendgroup": "Everton",
           "marker": {
            "color": "#FFA15A",
            "symbol": "circle"
           },
           "mode": "markers",
           "name": "Everton",
           "orientation": "v",
           "showlegend": true,
           "type": "scatter",
           "x": [
            0.8
           ],
           "xaxis": "x",
           "y": [
            3
           ],
           "yaxis": "y"
          },
          {
           "hovertemplate": "Team=Leicester<br>MatchesPlayed=34<br>MovingAverageFor=%{x}<br>MovingAverageAgainst=%{y}<extra></extra>",
           "legendgroup": "Leicester",
           "marker": {
            "color": "#19d3f3",
            "symbol": "circle"
           },
           "mode": "markers",
           "name": "Leicester",
           "orientation": "v",
           "showlegend": true,
           "type": "scatter",
           "x": [
            1
           ],
           "xaxis": "x",
           "y": [
            1.4
           ],
           "yaxis": "y"
          },
          {
           "hovertemplate": "Team=Watford<br>MatchesPlayed=34<br>MovingAverageFor=%{x}<br>MovingAverageAgainst=%{y}<extra></extra>",
           "legendgroup": "Watford",
           "marker": {
            "color": "#FF6692",
            "symbol": "circle"
           },
           "mode": "markers",
           "name": "Watford",
           "orientation": "v",
           "showlegend": true,
           "type": "scatter",
           "x": [
            0.6
           ],
           "xaxis": "x",
           "y": [
            1.2
           ],
           "yaxis": "y"
          },
          {
           "hovertemplate": "Team=Norwich<br>MatchesPlayed=34<br>MovingAverageFor=%{x}<br>MovingAverageAgainst=%{y}<extra></extra>",
           "legendgroup": "Norwich",
           "marker": {
            "color": "#B6E880",
            "symbol": "circle"
           },
           "mode": "markers",
           "name": "Norwich",
           "orientation": "v",
           "showlegend": true,
           "type": "scatter",
           "x": [
            1
           ],
           "xaxis": "x",
           "y": [
            1.4
           ],
           "yaxis": "y"
          },
          {
           "hovertemplate": "Team=Newcastle<br>MatchesPlayed=34<br>MovingAverageFor=%{x}<br>MovingAverageAgainst=%{y}<extra></extra>",
           "legendgroup": "Newcastle",
           "marker": {
            "color": "#FF97FF",
            "symbol": "circle"
           },
           "mode": "markers",
           "name": "Newcastle",
           "orientation": "v",
           "showlegend": true,
           "type": "scatter",
           "x": [
            1
           ],
           "xaxis": "x",
           "y": [
            0.8
           ],
           "yaxis": "y"
          },
          {
           "hovertemplate": "Team=Tottenham<br>MatchesPlayed=34<br>MovingAverageFor=%{x}<br>MovingAverageAgainst=%{y}<extra></extra>",
           "legendgroup": "Tottenham",
           "marker": {
            "color": "#FECB52",
            "symbol": "circle"
           },
           "mode": "markers",
           "name": "Tottenham",
           "orientation": "v",
           "showlegend": true,
           "type": "scatter",
           "x": [
            2.2
           ],
           "xaxis": "x",
           "y": [
            1.2
           ],
           "yaxis": "y"
          },
          {
           "hovertemplate": "Team=Liverpool<br>MatchesPlayed=34<br>MovingAverageFor=%{x}<br>MovingAverageAgainst=%{y}<extra></extra>",
           "legendgroup": "Liverpool",
           "marker": {
            "color": "#636efa",
            "symbol": "circle"
           },
           "mode": "markers",
           "name": "Liverpool",
           "orientation": "v",
           "showlegend": true,
           "type": "scatter",
           "x": [
            2
           ],
           "xaxis": "x",
           "y": [
            0.6
           ],
           "yaxis": "y"
          },
          {
           "hovertemplate": "Team=Aston Villa<br>MatchesPlayed=34<br>MovingAverageFor=%{x}<br>MovingAverageAgainst=%{y}<extra></extra>",
           "legendgroup": "Aston Villa",
           "marker": {
            "color": "#EF553B",
            "symbol": "circle"
           },
           "mode": "markers",
           "name": "Aston Villa",
           "orientation": "v",
           "showlegend": true,
           "type": "scatter",
           "x": [
            1.4
           ],
           "xaxis": "x",
           "y": [
            0.6
           ],
           "yaxis": "y"
          },
          {
           "hovertemplate": "Team=Crystal Palace<br>MatchesPlayed=34<br>MovingAverageFor=%{x}<br>MovingAverageAgainst=%{y}<extra></extra>",
           "legendgroup": "Crystal Palace",
           "marker": {
            "color": "#00cc96",
            "symbol": "circle"
           },
           "mode": "markers",
           "name": "Crystal Palace",
           "orientation": "v",
           "showlegend": true,
           "type": "scatter",
           "x": [
            1.6
           ],
           "xaxis": "x",
           "y": [
            0.8
           ],
           "yaxis": "y"
          },
          {
           "hovertemplate": "Team=Leeds<br>MatchesPlayed=34<br>MovingAverageFor=%{x}<br>MovingAverageAgainst=%{y}<extra></extra>",
           "legendgroup": "Leeds",
           "marker": {
            "color": "#ab63fa",
            "symbol": "circle"
           },
           "mode": "markers",
           "name": "Leeds",
           "orientation": "v",
           "showlegend": true,
           "type": "scatter",
           "x": [
            1.2
           ],
           "xaxis": "x",
           "y": [
            3
           ],
           "yaxis": "y"
          },
          {
           "hovertemplate": "Team=Man City<br>MatchesPlayed=34<br>MovingAverageFor=%{x}<br>MovingAverageAgainst=%{y}<extra></extra>",
           "legendgroup": "Man City",
           "marker": {
            "color": "#FFA15A",
            "symbol": "circle"
           },
           "mode": "markers",
           "name": "Man City",
           "orientation": "v",
           "showlegend": true,
           "type": "scatter",
           "x": [
            1.6
           ],
           "xaxis": "x",
           "y": [
            0.4
           ],
           "yaxis": "y"
          },
          {
           "hovertemplate": "Team=Brighton<br>MatchesPlayed=34<br>MovingAverageFor=%{x}<br>MovingAverageAgainst=%{y}<extra></extra>",
           "legendgroup": "Brighton",
           "marker": {
            "color": "#19d3f3",
            "symbol": "circle"
           },
           "mode": "markers",
           "name": "Brighton",
           "orientation": "v",
           "showlegend": true,
           "type": "scatter",
           "x": [
            1.2
           ],
           "xaxis": "x",
           "y": [
            1.2
           ],
           "yaxis": "y"
          },
          {
           "hovertemplate": "Team=Southampton<br>MatchesPlayed=34<br>MovingAverageFor=%{x}<br>MovingAverageAgainst=%{y}<extra></extra>",
           "legendgroup": "Southampton",
           "marker": {
            "color": "#FF6692",
            "symbol": "circle"
           },
           "mode": "markers",
           "name": "Southampton",
           "orientation": "v",
           "showlegend": true,
           "type": "scatter",
           "x": [
            1.2
           ],
           "xaxis": "x",
           "y": [
            2.2
           ],
           "yaxis": "y"
          },
          {
           "hovertemplate": "Team=Wolves<br>MatchesPlayed=34<br>MovingAverageFor=%{x}<br>MovingAverageAgainst=%{y}<extra></extra>",
           "legendgroup": "Wolves",
           "marker": {
            "color": "#B6E880",
            "symbol": "circle"
           },
           "mode": "markers",
           "name": "Wolves",
           "orientation": "v",
           "showlegend": true,
           "type": "scatter",
           "x": [
            1.2
           ],
           "xaxis": "x",
           "y": [
            0.8
           ],
           "yaxis": "y"
          },
          {
           "hovertemplate": "Team=Arsenal<br>MatchesPlayed=34<br>MovingAverageFor=%{x}<br>MovingAverageAgainst=%{y}<extra></extra>",
           "legendgroup": "Arsenal",
           "marker": {
            "color": "#FF97FF",
            "symbol": "circle"
           },
           "mode": "markers",
           "name": "Arsenal",
           "orientation": "v",
           "showlegend": true,
           "type": "scatter",
           "x": [
            1
           ],
           "xaxis": "x",
           "y": [
            1.2
           ],
           "yaxis": "y"
          },
          {
           "hovertemplate": "Team=West Ham<br>MatchesPlayed=34<br>MovingAverageFor=%{x}<br>MovingAverageAgainst=%{y}<extra></extra>",
           "legendgroup": "West Ham",
           "marker": {
            "color": "#FECB52",
            "symbol": "circle"
           },
           "mode": "markers",
           "name": "West Ham",
           "orientation": "v",
           "showlegend": true,
           "type": "scatter",
           "x": [
            1.2
           ],
           "xaxis": "x",
           "y": [
            1.8
           ],
           "yaxis": "y"
          }
         ],
         "name": "34"
        },
        {
         "data": [
          {
           "hovertemplate": "Team=Brentford<br>MatchesPlayed=35<br>MovingAverageFor=%{x}<br>MovingAverageAgainst=%{y}<extra></extra>",
           "legendgroup": "Brentford",
           "marker": {
            "color": "#636efa",
            "symbol": "circle"
           },
           "mode": "markers",
           "name": "Brentford",
           "orientation": "v",
           "showlegend": true,
           "type": "scatter",
           "x": [
            1.8
           ],
           "xaxis": "x",
           "y": [
            1.6
           ],
           "yaxis": "y"
          },
          {
           "hovertemplate": "Team=Man United<br>MatchesPlayed=35<br>MovingAverageFor=%{x}<br>MovingAverageAgainst=%{y}<extra></extra>",
           "legendgroup": "Man United",
           "marker": {
            "color": "#EF553B",
            "symbol": "circle"
           },
           "mode": "markers",
           "name": "Man United",
           "orientation": "v",
           "showlegend": true,
           "type": "scatter",
           "x": [
            1.2
           ],
           "xaxis": "x",
           "y": [
            2.4
           ],
           "yaxis": "y"
          },
          {
           "hovertemplate": "Team=Burnley<br>MatchesPlayed=35<br>MovingAverageFor=%{x}<br>MovingAverageAgainst=%{y}<extra></extra>",
           "legendgroup": "Burnley",
           "marker": {
            "color": "#00cc96",
            "symbol": "circle"
           },
           "mode": "markers",
           "name": "Burnley",
           "orientation": "v",
           "showlegend": true,
           "type": "scatter",
           "x": [
            1
           ],
           "xaxis": "x",
           "y": [
            1.2
           ],
           "yaxis": "y"
          },
          {
           "hovertemplate": "Team=Chelsea<br>MatchesPlayed=35<br>MovingAverageFor=%{x}<br>MovingAverageAgainst=%{y}<extra></extra>",
           "legendgroup": "Chelsea",
           "marker": {
            "color": "#ab63fa",
            "symbol": "circle"
           },
           "mode": "markers",
           "name": "Chelsea",
           "orientation": "v",
           "showlegend": true,
           "type": "scatter",
           "x": [
            3
           ],
           "xaxis": "x",
           "y": [
            0.4
           ],
           "yaxis": "y"
          },
          {
           "hovertemplate": "Team=Everton<br>MatchesPlayed=35<br>MovingAverageFor=%{x}<br>MovingAverageAgainst=%{y}<extra></extra>",
           "legendgroup": "Everton",
           "marker": {
            "color": "#FFA15A",
            "symbol": "circle"
           },
           "mode": "markers",
           "name": "Everton",
           "orientation": "v",
           "showlegend": true,
           "type": "scatter",
           "x": [
            0.6
           ],
           "xaxis": "x",
           "y": [
            2.8
           ],
           "yaxis": "y"
          },
          {
           "hovertemplate": "Team=Leicester<br>MatchesPlayed=35<br>MovingAverageFor=%{x}<br>MovingAverageAgainst=%{y}<extra></extra>",
           "legendgroup": "Leicester",
           "marker": {
            "color": "#19d3f3",
            "symbol": "circle"
           },
           "mode": "markers",
           "name": "Leicester",
           "orientation": "v",
           "showlegend": true,
           "type": "scatter",
           "x": [
            1
           ],
           "xaxis": "x",
           "y": [
            1.2
           ],
           "yaxis": "y"
          },
          {
           "hovertemplate": "Team=Watford<br>MatchesPlayed=35<br>MovingAverageFor=%{x}<br>MovingAverageAgainst=%{y}<extra></extra>",
           "legendgroup": "Watford",
           "marker": {
            "color": "#FF6692",
            "symbol": "circle"
           },
           "mode": "markers",
           "name": "Watford",
           "orientation": "v",
           "showlegend": true,
           "type": "scatter",
           "x": [
            0.6
           ],
           "xaxis": "x",
           "y": [
            1.4
           ],
           "yaxis": "y"
          },
          {
           "hovertemplate": "Team=Norwich<br>MatchesPlayed=35<br>MovingAverageFor=%{x}<br>MovingAverageAgainst=%{y}<extra></extra>",
           "legendgroup": "Norwich",
           "marker": {
            "color": "#B6E880",
            "symbol": "circle"
           },
           "mode": "markers",
           "name": "Norwich",
           "orientation": "v",
           "showlegend": true,
           "type": "scatter",
           "x": [
            0.8
           ],
           "xaxis": "x",
           "y": [
            2
           ],
           "yaxis": "y"
          },
          {
           "hovertemplate": "Team=Newcastle<br>MatchesPlayed=35<br>MovingAverageFor=%{x}<br>MovingAverageAgainst=%{y}<extra></extra>",
           "legendgroup": "Newcastle",
           "marker": {
            "color": "#FF97FF",
            "symbol": "circle"
           },
           "mode": "markers",
           "name": "Newcastle",
           "orientation": "v",
           "showlegend": true,
           "type": "scatter",
           "x": [
            1
           ],
           "xaxis": "x",
           "y": [
            1.6
           ],
           "yaxis": "y"
          },
          {
           "hovertemplate": "Team=Tottenham<br>MatchesPlayed=35<br>MovingAverageFor=%{x}<br>MovingAverageAgainst=%{y}<extra></extra>",
           "legendgroup": "Tottenham",
           "marker": {
            "color": "#FECB52",
            "symbol": "circle"
           },
           "mode": "markers",
           "name": "Tottenham",
           "orientation": "v",
           "showlegend": true,
           "type": "scatter",
           "x": [
            2.4
           ],
           "xaxis": "x",
           "y": [
            0.8
           ],
           "yaxis": "y"
          },
          {
           "hovertemplate": "Team=Liverpool<br>MatchesPlayed=35<br>MovingAverageFor=%{x}<br>MovingAverageAgainst=%{y}<extra></extra>",
           "legendgroup": "Liverpool",
           "marker": {
            "color": "#636efa",
            "symbol": "circle"
           },
           "mode": "markers",
           "name": "Liverpool",
           "orientation": "v",
           "showlegend": true,
           "type": "scatter",
           "x": [
            2
           ],
           "xaxis": "x",
           "y": [
            0.6
           ],
           "yaxis": "y"
          },
          {
           "hovertemplate": "Team=Aston Villa<br>MatchesPlayed=35<br>MovingAverageFor=%{x}<br>MovingAverageAgainst=%{y}<extra></extra>",
           "legendgroup": "Aston Villa",
           "marker": {
            "color": "#EF553B",
            "symbol": "circle"
           },
           "mode": "markers",
           "name": "Aston Villa",
           "orientation": "v",
           "showlegend": true,
           "type": "scatter",
           "x": [
            1.4
           ],
           "xaxis": "x",
           "y": [
            1
           ],
           "yaxis": "y"
          },
          {
           "hovertemplate": "Team=Crystal Palace<br>MatchesPlayed=35<br>MovingAverageFor=%{x}<br>MovingAverageAgainst=%{y}<extra></extra>",
           "legendgroup": "Crystal Palace",
           "marker": {
            "color": "#00cc96",
            "symbol": "circle"
           },
           "mode": "markers",
           "name": "Crystal Palace",
           "orientation": "v",
           "showlegend": true,
           "type": "scatter",
           "x": [
            1.4
           ],
           "xaxis": "x",
           "y": [
            0.8
           ],
           "yaxis": "y"
          },
          {
           "hovertemplate": "Team=Leeds<br>MatchesPlayed=35<br>MovingAverageFor=%{x}<br>MovingAverageAgainst=%{y}<extra></extra>",
           "legendgroup": "Leeds",
           "marker": {
            "color": "#ab63fa",
            "symbol": "circle"
           },
           "mode": "markers",
           "name": "Leeds",
           "orientation": "v",
           "showlegend": true,
           "type": "scatter",
           "x": [
            1.2
           ],
           "xaxis": "x",
           "y": [
            2.4
           ],
           "yaxis": "y"
          },
          {
           "hovertemplate": "Team=Man City<br>MatchesPlayed=35<br>MovingAverageFor=%{x}<br>MovingAverageAgainst=%{y}<extra></extra>",
           "legendgroup": "Man City",
           "marker": {
            "color": "#FFA15A",
            "symbol": "circle"
           },
           "mode": "markers",
           "name": "Man City",
           "orientation": "v",
           "showlegend": true,
           "type": "scatter",
           "x": [
            1.6
           ],
           "xaxis": "x",
           "y": [
            0.2
           ],
           "yaxis": "y"
          },
          {
           "hovertemplate": "Team=Brighton<br>MatchesPlayed=35<br>MovingAverageFor=%{x}<br>MovingAverageAgainst=%{y}<extra></extra>",
           "legendgroup": "Brighton",
           "marker": {
            "color": "#19d3f3",
            "symbol": "circle"
           },
           "mode": "markers",
           "name": "Brighton",
           "orientation": "v",
           "showlegend": true,
           "type": "scatter",
           "x": [
            1.2
           ],
           "xaxis": "x",
           "y": [
            1
           ],
           "yaxis": "y"
          },
          {
           "hovertemplate": "Team=Southampton<br>MatchesPlayed=35<br>MovingAverageFor=%{x}<br>MovingAverageAgainst=%{y}<extra></extra>",
           "legendgroup": "Southampton",
           "marker": {
            "color": "#FF6692",
            "symbol": "circle"
           },
           "mode": "markers",
           "name": "Southampton",
           "orientation": "v",
           "showlegend": true,
           "type": "scatter",
           "x": [
            1
           ],
           "xaxis": "x",
           "y": [
            2
           ],
           "yaxis": "y"
          },
          {
           "hovertemplate": "Team=Wolves<br>MatchesPlayed=35<br>MovingAverageFor=%{x}<br>MovingAverageAgainst=%{y}<extra></extra>",
           "legendgroup": "Wolves",
           "marker": {
            "color": "#B6E880",
            "symbol": "circle"
           },
           "mode": "markers",
           "name": "Wolves",
           "orientation": "v",
           "showlegend": true,
           "type": "scatter",
           "x": [
            0.8
           ],
           "xaxis": "x",
           "y": [
            0.8
           ],
           "yaxis": "y"
          },
          {
           "hovertemplate": "Team=Arsenal<br>MatchesPlayed=35<br>MovingAverageFor=%{x}<br>MovingAverageAgainst=%{y}<extra></extra>",
           "legendgroup": "Arsenal",
           "marker": {
            "color": "#FF97FF",
            "symbol": "circle"
           },
           "mode": "markers",
           "name": "Arsenal",
           "orientation": "v",
           "showlegend": true,
           "type": "scatter",
           "x": [
            1.6
           ],
           "xaxis": "x",
           "y": [
            1.6
           ],
           "yaxis": "y"
          },
          {
           "hovertemplate": "Team=West Ham<br>MatchesPlayed=35<br>MovingAverageFor=%{x}<br>MovingAverageAgainst=%{y}<extra></extra>",
           "legendgroup": "West Ham",
           "marker": {
            "color": "#FECB52",
            "symbol": "circle"
           },
           "mode": "markers",
           "name": "West Ham",
           "orientation": "v",
           "showlegend": true,
           "type": "scatter",
           "x": [
            0.6
           ],
           "xaxis": "x",
           "y": [
            1.8
           ],
           "yaxis": "y"
          }
         ],
         "name": "35"
        },
        {
         "data": [
          {
           "hovertemplate": "Team=Brentford<br>MatchesPlayed=36<br>MovingAverageFor=%{x}<br>MovingAverageAgainst=%{y}<extra></extra>",
           "legendgroup": "Brentford",
           "marker": {
            "color": "#636efa",
            "symbol": "circle"
           },
           "mode": "markers",
           "name": "Brentford",
           "orientation": "v",
           "showlegend": true,
           "type": "scatter",
           "x": [
            2.2
           ],
           "xaxis": "x",
           "y": [
            1.4
           ],
           "yaxis": "y"
          },
          {
           "hovertemplate": "Team=Man United<br>MatchesPlayed=36<br>MovingAverageFor=%{x}<br>MovingAverageAgainst=%{y}<extra></extra>",
           "legendgroup": "Man United",
           "marker": {
            "color": "#EF553B",
            "symbol": "circle"
           },
           "mode": "markers",
           "name": "Man United",
           "orientation": "v",
           "showlegend": true,
           "type": "scatter",
           "x": [
            1.2
           ],
           "xaxis": "x",
           "y": [
            2.8
           ],
           "yaxis": "y"
          },
          {
           "hovertemplate": "Team=Burnley<br>MatchesPlayed=36<br>MovingAverageFor=%{x}<br>MovingAverageAgainst=%{y}<extra></extra>",
           "legendgroup": "Burnley",
           "marker": {
            "color": "#00cc96",
            "symbol": "circle"
           },
           "mode": "markers",
           "name": "Burnley",
           "orientation": "v",
           "showlegend": true,
           "type": "scatter",
           "x": [
            0.8
           ],
           "xaxis": "x",
           "y": [
            1.4
           ],
           "yaxis": "y"
          },
          {
           "hovertemplate": "Team=Chelsea<br>MatchesPlayed=36<br>MovingAverageFor=%{x}<br>MovingAverageAgainst=%{y}<extra></extra>",
           "legendgroup": "Chelsea",
           "marker": {
            "color": "#ab63fa",
            "symbol": "circle"
           },
           "mode": "markers",
           "name": "Chelsea",
           "orientation": "v",
           "showlegend": true,
           "type": "scatter",
           "x": [
            3
           ],
           "xaxis": "x",
           "y": [
            0.4
           ],
           "yaxis": "y"
          },
          {
           "hovertemplate": "Team=Everton<br>MatchesPlayed=36<br>MovingAverageFor=%{x}<br>MovingAverageAgainst=%{y}<extra></extra>",
           "legendgroup": "Everton",
           "marker": {
            "color": "#FFA15A",
            "symbol": "circle"
           },
           "mode": "markers",
           "name": "Everton",
           "orientation": "v",
           "showlegend": true,
           "type": "scatter",
           "x": [
            1
           ],
           "xaxis": "x",
           "y": [
            2.6
           ],
           "yaxis": "y"
          },
          {
           "hovertemplate": "Team=Leicester<br>MatchesPlayed=36<br>MovingAverageFor=%{x}<br>MovingAverageAgainst=%{y}<extra></extra>",
           "legendgroup": "Leicester",
           "marker": {
            "color": "#19d3f3",
            "symbol": "circle"
           },
           "mode": "markers",
           "name": "Leicester",
           "orientation": "v",
           "showlegend": true,
           "type": "scatter",
           "x": [
            0.8
           ],
           "xaxis": "x",
           "y": [
            1.8
           ],
           "yaxis": "y"
          },
          {
           "hovertemplate": "Team=Watford<br>MatchesPlayed=36<br>MovingAverageFor=%{x}<br>MovingAverageAgainst=%{y}<extra></extra>",
           "legendgroup": "Watford",
           "marker": {
            "color": "#FF6692",
            "symbol": "circle"
           },
           "mode": "markers",
           "name": "Watford",
           "orientation": "v",
           "showlegend": true,
           "type": "scatter",
           "x": [
            0.6
           ],
           "xaxis": "x",
           "y": [
            2.4
           ],
           "yaxis": "y"
          },
          {
           "hovertemplate": "Team=Norwich<br>MatchesPlayed=36<br>MovingAverageFor=%{x}<br>MovingAverageAgainst=%{y}<extra></extra>",
           "legendgroup": "Norwich",
           "marker": {
            "color": "#B6E880",
            "symbol": "circle"
           },
           "mode": "markers",
           "name": "Norwich",
           "orientation": "v",
           "showlegend": true,
           "type": "scatter",
           "x": [
            0.6
           ],
           "xaxis": "x",
           "y": [
            1.8
           ],
           "yaxis": "y"
          },
          {
           "hovertemplate": "Team=Newcastle<br>MatchesPlayed=36<br>MovingAverageFor=%{x}<br>MovingAverageAgainst=%{y}<extra></extra>",
           "legendgroup": "Newcastle",
           "marker": {
            "color": "#FF97FF",
            "symbol": "circle"
           },
           "mode": "markers",
           "name": "Newcastle",
           "orientation": "v",
           "showlegend": true,
           "type": "scatter",
           "x": [
            1.2
           ],
           "xaxis": "x",
           "y": [
            1.6
           ],
           "yaxis": "y"
          },
          {
           "hovertemplate": "Team=Tottenham<br>MatchesPlayed=36<br>MovingAverageFor=%{x}<br>MovingAverageAgainst=%{y}<extra></extra>",
           "legendgroup": "Tottenham",
           "marker": {
            "color": "#FECB52",
            "symbol": "circle"
           },
           "mode": "markers",
           "name": "Tottenham",
           "orientation": "v",
           "showlegend": true,
           "type": "scatter",
           "x": [
            2.4
           ],
           "xaxis": "x",
           "y": [
            0.6
           ],
           "yaxis": "y"
          },
          {
           "hovertemplate": "Team=Liverpool<br>MatchesPlayed=36<br>MovingAverageFor=%{x}<br>MovingAverageAgainst=%{y}<extra></extra>",
           "legendgroup": "Liverpool",
           "marker": {
            "color": "#636efa",
            "symbol": "circle"
           },
           "mode": "markers",
           "name": "Liverpool",
           "orientation": "v",
           "showlegend": true,
           "type": "scatter",
           "x": [
            1.6
           ],
           "xaxis": "x",
           "y": [
            0.4
           ],
           "yaxis": "y"
          },
          {
           "hovertemplate": "Team=Aston Villa<br>MatchesPlayed=36<br>MovingAverageFor=%{x}<br>MovingAverageAgainst=%{y}<extra></extra>",
           "legendgroup": "Aston Villa",
           "marker": {
            "color": "#EF553B",
            "symbol": "circle"
           },
           "mode": "markers",
           "name": "Aston Villa",
           "orientation": "v",
           "showlegend": true,
           "type": "scatter",
           "x": [
            1.4
           ],
           "xaxis": "x",
           "y": [
            0.8
           ],
           "yaxis": "y"
          },
          {
           "hovertemplate": "Team=Crystal Palace<br>MatchesPlayed=36<br>MovingAverageFor=%{x}<br>MovingAverageAgainst=%{y}<extra></extra>",
           "legendgroup": "Crystal Palace",
           "marker": {
            "color": "#00cc96",
            "symbol": "circle"
           },
           "mode": "markers",
           "name": "Crystal Palace",
           "orientation": "v",
           "showlegend": true,
           "type": "scatter",
           "x": [
            1.8
           ],
           "xaxis": "x",
           "y": [
            1
           ],
           "yaxis": "y"
          },
          {
           "hovertemplate": "Team=Leeds<br>MatchesPlayed=36<br>MovingAverageFor=%{x}<br>MovingAverageAgainst=%{y}<extra></extra>",
           "legendgroup": "Leeds",
           "marker": {
            "color": "#ab63fa",
            "symbol": "circle"
           },
           "mode": "markers",
           "name": "Leeds",
           "orientation": "v",
           "showlegend": true,
           "type": "scatter",
           "x": [
            1.2
           ],
           "xaxis": "x",
           "y": [
            1.8
           ],
           "yaxis": "y"
          },
          {
           "hovertemplate": "Team=Man City<br>MatchesPlayed=36<br>MovingAverageFor=%{x}<br>MovingAverageAgainst=%{y}<extra></extra>",
           "legendgroup": "Man City",
           "marker": {
            "color": "#FFA15A",
            "symbol": "circle"
           },
           "mode": "markers",
           "name": "Man City",
           "orientation": "v",
           "showlegend": true,
           "type": "scatter",
           "x": [
            2.2
           ],
           "xaxis": "x",
           "y": [
            0
           ],
           "yaxis": "y"
          },
          {
           "hovertemplate": "Team=Brighton<br>MatchesPlayed=36<br>MovingAverageFor=%{x}<br>MovingAverageAgainst=%{y}<extra></extra>",
           "legendgroup": "Brighton",
           "marker": {
            "color": "#19d3f3",
            "symbol": "circle"
           },
           "mode": "markers",
           "name": "Brighton",
           "orientation": "v",
           "showlegend": true,
           "type": "scatter",
           "x": [
            0.8
           ],
           "xaxis": "x",
           "y": [
            1.6
           ],
           "yaxis": "y"
          },
          {
           "hovertemplate": "Team=Southampton<br>MatchesPlayed=36<br>MovingAverageFor=%{x}<br>MovingAverageAgainst=%{y}<extra></extra>",
           "legendgroup": "Southampton",
           "marker": {
            "color": "#FF6692",
            "symbol": "circle"
           },
           "mode": "markers",
           "name": "Southampton",
           "orientation": "v",
           "showlegend": true,
           "type": "scatter",
           "x": [
            0.8
           ],
           "xaxis": "x",
           "y": [
            2
           ],
           "yaxis": "y"
          },
          {
           "hovertemplate": "Team=Wolves<br>MatchesPlayed=36<br>MovingAverageFor=%{x}<br>MovingAverageAgainst=%{y}<extra></extra>",
           "legendgroup": "Wolves",
           "marker": {
            "color": "#B6E880",
            "symbol": "circle"
           },
           "mode": "markers",
           "name": "Wolves",
           "orientation": "v",
           "showlegend": true,
           "type": "scatter",
           "x": [
            0.4
           ],
           "xaxis": "x",
           "y": [
            1
           ],
           "yaxis": "y"
          },
          {
           "hovertemplate": "Team=Arsenal<br>MatchesPlayed=36<br>MovingAverageFor=%{x}<br>MovingAverageAgainst=%{y}<extra></extra>",
           "legendgroup": "Arsenal",
           "marker": {
            "color": "#FF97FF",
            "symbol": "circle"
           },
           "mode": "markers",
           "name": "Arsenal",
           "orientation": "v",
           "showlegend": true,
           "type": "scatter",
           "x": [
            1.4
           ],
           "xaxis": "x",
           "y": [
            1.4
           ],
           "yaxis": "y"
          },
          {
           "hovertemplate": "Team=West Ham<br>MatchesPlayed=36<br>MovingAverageFor=%{x}<br>MovingAverageAgainst=%{y}<extra></extra>",
           "legendgroup": "West Ham",
           "marker": {
            "color": "#FECB52",
            "symbol": "circle"
           },
           "mode": "markers",
           "name": "West Ham",
           "orientation": "v",
           "showlegend": true,
           "type": "scatter",
           "x": [
            0.6
           ],
           "xaxis": "x",
           "y": [
            1.8
           ],
           "yaxis": "y"
          }
         ],
         "name": "36"
        },
        {
         "data": [
          {
           "hovertemplate": "Team=Brentford<br>MatchesPlayed=37<br>MovingAverageFor=%{x}<br>MovingAverageAgainst=%{y}<extra></extra>",
           "legendgroup": "Brentford",
           "marker": {
            "color": "#636efa",
            "symbol": "circle"
           },
           "mode": "markers",
           "name": "Brentford",
           "orientation": "v",
           "showlegend": true,
           "type": "scatter",
           "x": [
            2
           ],
           "xaxis": "x",
           "y": [
            1.6
           ],
           "yaxis": "y"
          },
          {
           "hovertemplate": "Team=Man United<br>MatchesPlayed=37<br>MovingAverageFor=%{x}<br>MovingAverageAgainst=%{y}<extra></extra>",
           "legendgroup": "Man United",
           "marker": {
            "color": "#EF553B",
            "symbol": "circle"
           },
           "mode": "markers",
           "name": "Man United",
           "orientation": "v",
           "showlegend": true,
           "type": "scatter",
           "x": [
            0.4
           ],
           "xaxis": "x",
           "y": [
            3.2
           ],
           "yaxis": "y"
          },
          {
           "hovertemplate": "Team=Burnley<br>MatchesPlayed=37<br>MovingAverageFor=%{x}<br>MovingAverageAgainst=%{y}<extra></extra>",
           "legendgroup": "Burnley",
           "marker": {
            "color": "#00cc96",
            "symbol": "circle"
           },
           "mode": "markers",
           "name": "Burnley",
           "orientation": "v",
           "showlegend": true,
           "type": "scatter",
           "x": [
            0.6
           ],
           "xaxis": "x",
           "y": [
            1.4
           ],
           "yaxis": "y"
          },
          {
           "hovertemplate": "Team=Chelsea<br>MatchesPlayed=37<br>MovingAverageFor=%{x}<br>MovingAverageAgainst=%{y}<extra></extra>",
           "legendgroup": "Chelsea",
           "marker": {
            "color": "#ab63fa",
            "symbol": "circle"
           },
           "mode": "markers",
           "name": "Chelsea",
           "orientation": "v",
           "showlegend": true,
           "type": "scatter",
           "x": [
            2.8
           ],
           "xaxis": "x",
           "y": [
            0.6
           ],
           "yaxis": "y"
          },
          {
           "hovertemplate": "Team=Everton<br>MatchesPlayed=37<br>MovingAverageFor=%{x}<br>MovingAverageAgainst=%{y}<extra></extra>",
           "legendgroup": "Everton",
           "marker": {
            "color": "#FFA15A",
            "symbol": "circle"
           },
           "mode": "markers",
           "name": "Everton",
           "orientation": "v",
           "showlegend": true,
           "type": "scatter",
           "x": [
            1
           ],
           "xaxis": "x",
           "y": [
            1.6
           ],
           "yaxis": "y"
          },
          {
           "hovertemplate": "Team=Leicester<br>MatchesPlayed=37<br>MovingAverageFor=%{x}<br>MovingAverageAgainst=%{y}<extra></extra>",
           "legendgroup": "Leicester",
           "marker": {
            "color": "#19d3f3",
            "symbol": "circle"
           },
           "mode": "markers",
           "name": "Leicester",
           "orientation": "v",
           "showlegend": true,
           "type": "scatter",
           "x": [
            1.8
           ],
           "xaxis": "x",
           "y": [
            1.6
           ],
           "yaxis": "y"
          },
          {
           "hovertemplate": "Team=Watford<br>MatchesPlayed=37<br>MovingAverageFor=%{x}<br>MovingAverageAgainst=%{y}<extra></extra>",
           "legendgroup": "Watford",
           "marker": {
            "color": "#FF6692",
            "symbol": "circle"
           },
           "mode": "markers",
           "name": "Watford",
           "orientation": "v",
           "showlegend": true,
           "type": "scatter",
           "x": [
            0.6
           ],
           "xaxis": "x",
           "y": [
            2.6
           ],
           "yaxis": "y"
          },
          {
           "hovertemplate": "Team=Norwich<br>MatchesPlayed=37<br>MovingAverageFor=%{x}<br>MovingAverageAgainst=%{y}<extra></extra>",
           "legendgroup": "Norwich",
           "marker": {
            "color": "#B6E880",
            "symbol": "circle"
           },
           "mode": "markers",
           "name": "Norwich",
           "orientation": "v",
           "showlegend": true,
           "type": "scatter",
           "x": [
            0.6
           ],
           "xaxis": "x",
           "y": [
            2
           ],
           "yaxis": "y"
          },
          {
           "hovertemplate": "Team=Newcastle<br>MatchesPlayed=37<br>MovingAverageFor=%{x}<br>MovingAverageAgainst=%{y}<extra></extra>",
           "legendgroup": "Newcastle",
           "marker": {
            "color": "#FF97FF",
            "symbol": "circle"
           },
           "mode": "markers",
           "name": "Newcastle",
           "orientation": "v",
           "showlegend": true,
           "type": "scatter",
           "x": [
            0.8
           ],
           "xaxis": "x",
           "y": [
            2.4
           ],
           "yaxis": "y"
          },
          {
           "hovertemplate": "Team=Tottenham<br>MatchesPlayed=37<br>MovingAverageFor=%{x}<br>MovingAverageAgainst=%{y}<extra></extra>",
           "legendgroup": "Tottenham",
           "marker": {
            "color": "#FECB52",
            "symbol": "circle"
           },
           "mode": "markers",
           "name": "Tottenham",
           "orientation": "v",
           "showlegend": true,
           "type": "scatter",
           "x": [
            1.8
           ],
           "xaxis": "x",
           "y": [
            0.8
           ],
           "yaxis": "y"
          },
          {
           "hovertemplate": "Team=Liverpool<br>MatchesPlayed=37<br>MovingAverageFor=%{x}<br>MovingAverageAgainst=%{y}<extra></extra>",
           "legendgroup": "Liverpool",
           "marker": {
            "color": "#636efa",
            "symbol": "circle"
           },
           "mode": "markers",
           "name": "Liverpool",
           "orientation": "v",
           "showlegend": true,
           "type": "scatter",
           "x": [
            1.8
           ],
           "xaxis": "x",
           "y": [
            0.6
           ],
           "yaxis": "y"
          },
          {
           "hovertemplate": "Team=Aston Villa<br>MatchesPlayed=37<br>MovingAverageFor=%{x}<br>MovingAverageAgainst=%{y}<extra></extra>",
           "legendgroup": "Aston Villa",
           "marker": {
            "color": "#EF553B",
            "symbol": "circle"
           },
           "mode": "markers",
           "name": "Aston Villa",
           "orientation": "v",
           "showlegend": true,
           "type": "scatter",
           "x": [
            1.6
           ],
           "xaxis": "x",
           "y": [
            1
           ],
           "yaxis": "y"
          },
          {
           "hovertemplate": "Team=Crystal Palace<br>MatchesPlayed=37<br>MovingAverageFor=%{x}<br>MovingAverageAgainst=%{y}<extra></extra>",
           "legendgroup": "Crystal Palace",
           "marker": {
            "color": "#00cc96",
            "symbol": "circle"
           },
           "mode": "markers",
           "name": "Crystal Palace",
           "orientation": "v",
           "showlegend": true,
           "type": "scatter",
           "x": [
            1.2
           ],
           "xaxis": "x",
           "y": [
            1
           ],
           "yaxis": "y"
          },
          {
           "hovertemplate": "Team=Leeds<br>MatchesPlayed=37<br>MovingAverageFor=%{x}<br>MovingAverageAgainst=%{y}<extra></extra>",
           "legendgroup": "Leeds",
           "marker": {
            "color": "#ab63fa",
            "symbol": "circle"
           },
           "mode": "markers",
           "name": "Leeds",
           "orientation": "v",
           "showlegend": true,
           "type": "scatter",
           "x": [
            1.4
           ],
           "xaxis": "x",
           "y": [
            1
           ],
           "yaxis": "y"
          },
          {
           "hovertemplate": "Team=Man City<br>MatchesPlayed=37<br>MovingAverageFor=%{x}<br>MovingAverageAgainst=%{y}<extra></extra>",
           "legendgroup": "Man City",
           "marker": {
            "color": "#FFA15A",
            "symbol": "circle"
           },
           "mode": "markers",
           "name": "Man City",
           "orientation": "v",
           "showlegend": true,
           "type": "scatter",
           "x": [
            2.4
           ],
           "xaxis": "x",
           "y": [
            0.2
           ],
           "yaxis": "y"
          },
          {
           "hovertemplate": "Team=Brighton<br>MatchesPlayed=37<br>MovingAverageFor=%{x}<br>MovingAverageAgainst=%{y}<extra></extra>",
           "legendgroup": "Brighton",
           "marker": {
            "color": "#19d3f3",
            "symbol": "circle"
           },
           "mode": "markers",
           "name": "Brighton",
           "orientation": "v",
           "showlegend": true,
           "type": "scatter",
           "x": [
            1.4
           ],
           "xaxis": "x",
           "y": [
            1.2
           ],
           "yaxis": "y"
          },
          {
           "hovertemplate": "Team=Southampton<br>MatchesPlayed=37<br>MovingAverageFor=%{x}<br>MovingAverageAgainst=%{y}<extra></extra>",
           "legendgroup": "Southampton",
           "marker": {
            "color": "#FF6692",
            "symbol": "circle"
           },
           "mode": "markers",
           "name": "Southampton",
           "orientation": "v",
           "showlegend": true,
           "type": "scatter",
           "x": [
            0.6
           ],
           "xaxis": "x",
           "y": [
            2.4
           ],
           "yaxis": "y"
          },
          {
           "hovertemplate": "Team=Wolves<br>MatchesPlayed=37<br>MovingAverageFor=%{x}<br>MovingAverageAgainst=%{y}<extra></extra>",
           "legendgroup": "Wolves",
           "marker": {
            "color": "#B6E880",
            "symbol": "circle"
           },
           "mode": "markers",
           "name": "Wolves",
           "orientation": "v",
           "showlegend": true,
           "type": "scatter",
           "x": [
            0.6
           ],
           "xaxis": "x",
           "y": [
            1
           ],
           "yaxis": "y"
          },
          {
           "hovertemplate": "Team=Arsenal<br>MatchesPlayed=37<br>MovingAverageFor=%{x}<br>MovingAverageAgainst=%{y}<extra></extra>",
           "legendgroup": "Arsenal",
           "marker": {
            "color": "#FF97FF",
            "symbol": "circle"
           },
           "mode": "markers",
           "name": "Arsenal",
           "orientation": "v",
           "showlegend": true,
           "type": "scatter",
           "x": [
            1.2
           ],
           "xaxis": "x",
           "y": [
            2
           ],
           "yaxis": "y"
          },
          {
           "hovertemplate": "Team=West Ham<br>MatchesPlayed=37<br>MovingAverageFor=%{x}<br>MovingAverageAgainst=%{y}<extra></extra>",
           "legendgroup": "West Ham",
           "marker": {
            "color": "#FECB52",
            "symbol": "circle"
           },
           "mode": "markers",
           "name": "West Ham",
           "orientation": "v",
           "showlegend": true,
           "type": "scatter",
           "x": [
            1
           ],
           "xaxis": "x",
           "y": [
            1.4
           ],
           "yaxis": "y"
          }
         ],
         "name": "37"
        },
        {
         "data": [
          {
           "hovertemplate": "Team=Brentford<br>MatchesPlayed=38<br>MovingAverageFor=%{x}<br>MovingAverageAgainst=%{y}<extra></extra>",
           "legendgroup": "Brentford",
           "marker": {
            "color": "#636efa",
            "symbol": "circle"
           },
           "mode": "markers",
           "name": "Brentford",
           "orientation": "v",
           "showlegend": true,
           "type": "scatter",
           "x": [
            2
           ],
           "xaxis": "x",
           "y": [
            1.8
           ],
           "yaxis": "y"
          },
          {
           "hovertemplate": "Team=Man United<br>MatchesPlayed=38<br>MovingAverageFor=%{x}<br>MovingAverageAgainst=%{y}<extra></extra>",
           "legendgroup": "Man United",
           "marker": {
            "color": "#EF553B",
            "symbol": "circle"
           },
           "mode": "markers",
           "name": "Man United",
           "orientation": "v",
           "showlegend": true,
           "type": "scatter",
           "x": [
            0.2
           ],
           "xaxis": "x",
           "y": [
            2.6
           ],
           "yaxis": "y"
          },
          {
           "hovertemplate": "Team=Burnley<br>MatchesPlayed=38<br>MovingAverageFor=%{x}<br>MovingAverageAgainst=%{y}<extra></extra>",
           "legendgroup": "Burnley",
           "marker": {
            "color": "#00cc96",
            "symbol": "circle"
           },
           "mode": "markers",
           "name": "Burnley",
           "orientation": "v",
           "showlegend": true,
           "type": "scatter",
           "x": [
            0.8
           ],
           "xaxis": "x",
           "y": [
            1.2
           ],
           "yaxis": "y"
          },
          {
           "hovertemplate": "Team=Chelsea<br>MatchesPlayed=38<br>MovingAverageFor=%{x}<br>MovingAverageAgainst=%{y}<extra></extra>",
           "legendgroup": "Chelsea",
           "marker": {
            "color": "#ab63fa",
            "symbol": "circle"
           },
           "mode": "markers",
           "name": "Chelsea",
           "orientation": "v",
           "showlegend": true,
           "type": "scatter",
           "x": [
            2.6
           ],
           "xaxis": "x",
           "y": [
            0.6
           ],
           "yaxis": "y"
          },
          {
           "hovertemplate": "Team=Everton<br>MatchesPlayed=38<br>MovingAverageFor=%{x}<br>MovingAverageAgainst=%{y}<extra></extra>",
           "legendgroup": "Everton",
           "marker": {
            "color": "#FFA15A",
            "symbol": "circle"
           },
           "mode": "markers",
           "name": "Everton",
           "orientation": "v",
           "showlegend": true,
           "type": "scatter",
           "x": [
            1
           ],
           "xaxis": "x",
           "y": [
            2.2
           ],
           "yaxis": "y"
          },
          {
           "hovertemplate": "Team=Leicester<br>MatchesPlayed=38<br>MovingAverageFor=%{x}<br>MovingAverageAgainst=%{y}<extra></extra>",
           "legendgroup": "Leicester",
           "marker": {
            "color": "#19d3f3",
            "symbol": "circle"
           },
           "mode": "markers",
           "name": "Leicester",
           "orientation": "v",
           "showlegend": true,
           "type": "scatter",
           "x": [
            1.8
           ],
           "xaxis": "x",
           "y": [
            1.6
           ],
           "yaxis": "y"
          },
          {
           "hovertemplate": "Team=Watford<br>MatchesPlayed=38<br>MovingAverageFor=%{x}<br>MovingAverageAgainst=%{y}<extra></extra>",
           "legendgroup": "Watford",
           "marker": {
            "color": "#FF6692",
            "symbol": "circle"
           },
           "mode": "markers",
           "name": "Watford",
           "orientation": "v",
           "showlegend": true,
           "type": "scatter",
           "x": [
            0.8
           ],
           "xaxis": "x",
           "y": [
            2.2
           ],
           "yaxis": "y"
          },
          {
           "hovertemplate": "Team=Norwich<br>MatchesPlayed=38<br>MovingAverageFor=%{x}<br>MovingAverageAgainst=%{y}<extra></extra>",
           "legendgroup": "Norwich",
           "marker": {
            "color": "#B6E880",
            "symbol": "circle"
           },
           "mode": "markers",
           "name": "Norwich",
           "orientation": "v",
           "showlegend": true,
           "type": "scatter",
           "x": [
            0.6
           ],
           "xaxis": "x",
           "y": [
            1.8
           ],
           "yaxis": "y"
          },
          {
           "hovertemplate": "Team=Newcastle<br>MatchesPlayed=38<br>MovingAverageFor=%{x}<br>MovingAverageAgainst=%{y}<extra></extra>",
           "legendgroup": "Newcastle",
           "marker": {
            "color": "#FF97FF",
            "symbol": "circle"
           },
           "mode": "markers",
           "name": "Newcastle",
           "orientation": "v",
           "showlegend": true,
           "type": "scatter",
           "x": [
            1.2
           ],
           "xaxis": "x",
           "y": [
            2.4
           ],
           "yaxis": "y"
          },
          {
           "hovertemplate": "Team=Tottenham<br>MatchesPlayed=38<br>MovingAverageFor=%{x}<br>MovingAverageAgainst=%{y}<extra></extra>",
           "legendgroup": "Tottenham",
           "marker": {
            "color": "#FECB52",
            "symbol": "circle"
           },
           "mode": "markers",
           "name": "Tottenham",
           "orientation": "v",
           "showlegend": true,
           "type": "scatter",
           "x": [
            2.4
           ],
           "xaxis": "x",
           "y": [
            0.2
           ],
           "yaxis": "y"
          },
          {
           "hovertemplate": "Team=Liverpool<br>MatchesPlayed=38<br>MovingAverageFor=%{x}<br>MovingAverageAgainst=%{y}<extra></extra>",
           "legendgroup": "Liverpool",
           "marker": {
            "color": "#636efa",
            "symbol": "circle"
           },
           "mode": "markers",
           "name": "Liverpool",
           "orientation": "v",
           "showlegend": true,
           "type": "scatter",
           "x": [
            1.8
           ],
           "xaxis": "x",
           "y": [
            0.8
           ],
           "yaxis": "y"
          },
          {
           "hovertemplate": "Team=Aston Villa<br>MatchesPlayed=38<br>MovingAverageFor=%{x}<br>MovingAverageAgainst=%{y}<extra></extra>",
           "legendgroup": "Aston Villa",
           "marker": {
            "color": "#EF553B",
            "symbol": "circle"
           },
           "mode": "markers",
           "name": "Aston Villa",
           "orientation": "v",
           "showlegend": true,
           "type": "scatter",
           "x": [
            1.4
           ],
           "xaxis": "x",
           "y": [
            1.6
           ],
           "yaxis": "y"
          },
          {
           "hovertemplate": "Team=Crystal Palace<br>MatchesPlayed=38<br>MovingAverageFor=%{x}<br>MovingAverageAgainst=%{y}<extra></extra>",
           "legendgroup": "Crystal Palace",
           "marker": {
            "color": "#00cc96",
            "symbol": "circle"
           },
           "mode": "markers",
           "name": "Crystal Palace",
           "orientation": "v",
           "showlegend": true,
           "type": "scatter",
           "x": [
            1.2
           ],
           "xaxis": "x",
           "y": [
            1.6
           ],
           "yaxis": "y"
          },
          {
           "hovertemplate": "Team=Leeds<br>MatchesPlayed=38<br>MovingAverageFor=%{x}<br>MovingAverageAgainst=%{y}<extra></extra>",
           "legendgroup": "Leeds",
           "marker": {
            "color": "#ab63fa",
            "symbol": "circle"
           },
           "mode": "markers",
           "name": "Leeds",
           "orientation": "v",
           "showlegend": true,
           "type": "scatter",
           "x": [
            1.8
           ],
           "xaxis": "x",
           "y": [
            1
           ],
           "yaxis": "y"
          },
          {
           "hovertemplate": "Team=Man City<br>MatchesPlayed=38<br>MovingAverageFor=%{x}<br>MovingAverageAgainst=%{y}<extra></extra>",
           "legendgroup": "Man City",
           "marker": {
            "color": "#FFA15A",
            "symbol": "circle"
           },
           "mode": "markers",
           "name": "Man City",
           "orientation": "v",
           "showlegend": true,
           "type": "scatter",
           "x": [
            2.6
           ],
           "xaxis": "x",
           "y": [
            0.6
           ],
           "yaxis": "y"
          },
          {
           "hovertemplate": "Team=Brighton<br>MatchesPlayed=38<br>MovingAverageFor=%{x}<br>MovingAverageAgainst=%{y}<extra></extra>",
           "legendgroup": "Brighton",
           "marker": {
            "color": "#19d3f3",
            "symbol": "circle"
           },
           "mode": "markers",
           "name": "Brighton",
           "orientation": "v",
           "showlegend": true,
           "type": "scatter",
           "x": [
            1.4
           ],
           "xaxis": "x",
           "y": [
            1
           ],
           "yaxis": "y"
          },
          {
           "hovertemplate": "Team=Southampton<br>MatchesPlayed=38<br>MovingAverageFor=%{x}<br>MovingAverageAgainst=%{y}<extra></extra>",
           "legendgroup": "Southampton",
           "marker": {
            "color": "#FF6692",
            "symbol": "circle"
           },
           "mode": "markers",
           "name": "Southampton",
           "orientation": "v",
           "showlegend": true,
           "type": "scatter",
           "x": [
            0.8
           ],
           "xaxis": "x",
           "y": [
            2.4
           ],
           "yaxis": "y"
          },
          {
           "hovertemplate": "Team=Wolves<br>MatchesPlayed=38<br>MovingAverageFor=%{x}<br>MovingAverageAgainst=%{y}<extra></extra>",
           "legendgroup": "Wolves",
           "marker": {
            "color": "#B6E880",
            "symbol": "circle"
           },
           "mode": "markers",
           "name": "Wolves",
           "orientation": "v",
           "showlegend": true,
           "type": "scatter",
           "x": [
            0.8
           ],
           "xaxis": "x",
           "y": [
            1.4
           ],
           "yaxis": "y"
          },
          {
           "hovertemplate": "Team=Arsenal<br>MatchesPlayed=38<br>MovingAverageFor=%{x}<br>MovingAverageAgainst=%{y}<extra></extra>",
           "legendgroup": "Arsenal",
           "marker": {
            "color": "#FF97FF",
            "symbol": "circle"
           },
           "mode": "markers",
           "name": "Arsenal",
           "orientation": "v",
           "showlegend": true,
           "type": "scatter",
           "x": [
            1.2
           ],
           "xaxis": "x",
           "y": [
            1.8
           ],
           "yaxis": "y"
          },
          {
           "hovertemplate": "Team=West Ham<br>MatchesPlayed=38<br>MovingAverageFor=%{x}<br>MovingAverageAgainst=%{y}<extra></extra>",
           "legendgroup": "West Ham",
           "marker": {
            "color": "#FECB52",
            "symbol": "circle"
           },
           "mode": "markers",
           "name": "West Ham",
           "orientation": "v",
           "showlegend": true,
           "type": "scatter",
           "x": [
            1.2
           ],
           "xaxis": "x",
           "y": [
            1.8
           ],
           "yaxis": "y"
          }
         ],
         "name": "38"
        }
       ],
       "layout": {
        "legend": {
         "title": {
          "text": "Team"
         },
         "tracegroupgap": 0
        },
        "margin": {
         "t": 60
        },
        "sliders": [
         {
          "active": 0,
          "currentvalue": {
           "prefix": "MatchesPlayed="
          },
          "len": 0.9,
          "pad": {
           "b": 10,
           "t": 60
          },
          "steps": [
           {
            "args": [
             [
              "1"
             ],
             {
              "frame": {
               "duration": 0,
               "redraw": false
              },
              "fromcurrent": true,
              "mode": "immediate",
              "transition": {
               "duration": 0,
               "easing": "linear"
              }
             }
            ],
            "label": "1",
            "method": "animate"
           },
           {
            "args": [
             [
              "2"
             ],
             {
              "frame": {
               "duration": 0,
               "redraw": false
              },
              "fromcurrent": true,
              "mode": "immediate",
              "transition": {
               "duration": 0,
               "easing": "linear"
              }
             }
            ],
            "label": "2",
            "method": "animate"
           },
           {
            "args": [
             [
              "3"
             ],
             {
              "frame": {
               "duration": 0,
               "redraw": false
              },
              "fromcurrent": true,
              "mode": "immediate",
              "transition": {
               "duration": 0,
               "easing": "linear"
              }
             }
            ],
            "label": "3",
            "method": "animate"
           },
           {
            "args": [
             [
              "4"
             ],
             {
              "frame": {
               "duration": 0,
               "redraw": false
              },
              "fromcurrent": true,
              "mode": "immediate",
              "transition": {
               "duration": 0,
               "easing": "linear"
              }
             }
            ],
            "label": "4",
            "method": "animate"
           },
           {
            "args": [
             [
              "5"
             ],
             {
              "frame": {
               "duration": 0,
               "redraw": false
              },
              "fromcurrent": true,
              "mode": "immediate",
              "transition": {
               "duration": 0,
               "easing": "linear"
              }
             }
            ],
            "label": "5",
            "method": "animate"
           },
           {
            "args": [
             [
              "6"
             ],
             {
              "frame": {
               "duration": 0,
               "redraw": false
              },
              "fromcurrent": true,
              "mode": "immediate",
              "transition": {
               "duration": 0,
               "easing": "linear"
              }
             }
            ],
            "label": "6",
            "method": "animate"
           },
           {
            "args": [
             [
              "7"
             ],
             {
              "frame": {
               "duration": 0,
               "redraw": false
              },
              "fromcurrent": true,
              "mode": "immediate",
              "transition": {
               "duration": 0,
               "easing": "linear"
              }
             }
            ],
            "label": "7",
            "method": "animate"
           },
           {
            "args": [
             [
              "8"
             ],
             {
              "frame": {
               "duration": 0,
               "redraw": false
              },
              "fromcurrent": true,
              "mode": "immediate",
              "transition": {
               "duration": 0,
               "easing": "linear"
              }
             }
            ],
            "label": "8",
            "method": "animate"
           },
           {
            "args": [
             [
              "9"
             ],
             {
              "frame": {
               "duration": 0,
               "redraw": false
              },
              "fromcurrent": true,
              "mode": "immediate",
              "transition": {
               "duration": 0,
               "easing": "linear"
              }
             }
            ],
            "label": "9",
            "method": "animate"
           },
           {
            "args": [
             [
              "10"
             ],
             {
              "frame": {
               "duration": 0,
               "redraw": false
              },
              "fromcurrent": true,
              "mode": "immediate",
              "transition": {
               "duration": 0,
               "easing": "linear"
              }
             }
            ],
            "label": "10",
            "method": "animate"
           },
           {
            "args": [
             [
              "11"
             ],
             {
              "frame": {
               "duration": 0,
               "redraw": false
              },
              "fromcurrent": true,
              "mode": "immediate",
              "transition": {
               "duration": 0,
               "easing": "linear"
              }
             }
            ],
            "label": "11",
            "method": "animate"
           },
           {
            "args": [
             [
              "12"
             ],
             {
              "frame": {
               "duration": 0,
               "redraw": false
              },
              "fromcurrent": true,
              "mode": "immediate",
              "transition": {
               "duration": 0,
               "easing": "linear"
              }
             }
            ],
            "label": "12",
            "method": "animate"
           },
           {
            "args": [
             [
              "13"
             ],
             {
              "frame": {
               "duration": 0,
               "redraw": false
              },
              "fromcurrent": true,
              "mode": "immediate",
              "transition": {
               "duration": 0,
               "easing": "linear"
              }
             }
            ],
            "label": "13",
            "method": "animate"
           },
           {
            "args": [
             [
              "14"
             ],
             {
              "frame": {
               "duration": 0,
               "redraw": false
              },
              "fromcurrent": true,
              "mode": "immediate",
              "transition": {
               "duration": 0,
               "easing": "linear"
              }
             }
            ],
            "label": "14",
            "method": "animate"
           },
           {
            "args": [
             [
              "15"
             ],
             {
              "frame": {
               "duration": 0,
               "redraw": false
              },
              "fromcurrent": true,
              "mode": "immediate",
              "transition": {
               "duration": 0,
               "easing": "linear"
              }
             }
            ],
            "label": "15",
            "method": "animate"
           },
           {
            "args": [
             [
              "16"
             ],
             {
              "frame": {
               "duration": 0,
               "redraw": false
              },
              "fromcurrent": true,
              "mode": "immediate",
              "transition": {
               "duration": 0,
               "easing": "linear"
              }
             }
            ],
            "label": "16",
            "method": "animate"
           },
           {
            "args": [
             [
              "17"
             ],
             {
              "frame": {
               "duration": 0,
               "redraw": false
              },
              "fromcurrent": true,
              "mode": "immediate",
              "transition": {
               "duration": 0,
               "easing": "linear"
              }
             }
            ],
            "label": "17",
            "method": "animate"
           },
           {
            "args": [
             [
              "18"
             ],
             {
              "frame": {
               "duration": 0,
               "redraw": false
              },
              "fromcurrent": true,
              "mode": "immediate",
              "transition": {
               "duration": 0,
               "easing": "linear"
              }
             }
            ],
            "label": "18",
            "method": "animate"
           },
           {
            "args": [
             [
              "19"
             ],
             {
              "frame": {
               "duration": 0,
               "redraw": false
              },
              "fromcurrent": true,
              "mode": "immediate",
              "transition": {
               "duration": 0,
               "easing": "linear"
              }
             }
            ],
            "label": "19",
            "method": "animate"
           },
           {
            "args": [
             [
              "20"
             ],
             {
              "frame": {
               "duration": 0,
               "redraw": false
              },
              "fromcurrent": true,
              "mode": "immediate",
              "transition": {
               "duration": 0,
               "easing": "linear"
              }
             }
            ],
            "label": "20",
            "method": "animate"
           },
           {
            "args": [
             [
              "21"
             ],
             {
              "frame": {
               "duration": 0,
               "redraw": false
              },
              "fromcurrent": true,
              "mode": "immediate",
              "transition": {
               "duration": 0,
               "easing": "linear"
              }
             }
            ],
            "label": "21",
            "method": "animate"
           },
           {
            "args": [
             [
              "22"
             ],
             {
              "frame": {
               "duration": 0,
               "redraw": false
              },
              "fromcurrent": true,
              "mode": "immediate",
              "transition": {
               "duration": 0,
               "easing": "linear"
              }
             }
            ],
            "label": "22",
            "method": "animate"
           },
           {
            "args": [
             [
              "23"
             ],
             {
              "frame": {
               "duration": 0,
               "redraw": false
              },
              "fromcurrent": true,
              "mode": "immediate",
              "transition": {
               "duration": 0,
               "easing": "linear"
              }
             }
            ],
            "label": "23",
            "method": "animate"
           },
           {
            "args": [
             [
              "24"
             ],
             {
              "frame": {
               "duration": 0,
               "redraw": false
              },
              "fromcurrent": true,
              "mode": "immediate",
              "transition": {
               "duration": 0,
               "easing": "linear"
              }
             }
            ],
            "label": "24",
            "method": "animate"
           },
           {
            "args": [
             [
              "25"
             ],
             {
              "frame": {
               "duration": 0,
               "redraw": false
              },
              "fromcurrent": true,
              "mode": "immediate",
              "transition": {
               "duration": 0,
               "easing": "linear"
              }
             }
            ],
            "label": "25",
            "method": "animate"
           },
           {
            "args": [
             [
              "26"
             ],
             {
              "frame": {
               "duration": 0,
               "redraw": false
              },
              "fromcurrent": true,
              "mode": "immediate",
              "transition": {
               "duration": 0,
               "easing": "linear"
              }
             }
            ],
            "label": "26",
            "method": "animate"
           },
           {
            "args": [
             [
              "27"
             ],
             {
              "frame": {
               "duration": 0,
               "redraw": false
              },
              "fromcurrent": true,
              "mode": "immediate",
              "transition": {
               "duration": 0,
               "easing": "linear"
              }
             }
            ],
            "label": "27",
            "method": "animate"
           },
           {
            "args": [
             [
              "28"
             ],
             {
              "frame": {
               "duration": 0,
               "redraw": false
              },
              "fromcurrent": true,
              "mode": "immediate",
              "transition": {
               "duration": 0,
               "easing": "linear"
              }
             }
            ],
            "label": "28",
            "method": "animate"
           },
           {
            "args": [
             [
              "29"
             ],
             {
              "frame": {
               "duration": 0,
               "redraw": false
              },
              "fromcurrent": true,
              "mode": "immediate",
              "transition": {
               "duration": 0,
               "easing": "linear"
              }
             }
            ],
            "label": "29",
            "method": "animate"
           },
           {
            "args": [
             [
              "30"
             ],
             {
              "frame": {
               "duration": 0,
               "redraw": false
              },
              "fromcurrent": true,
              "mode": "immediate",
              "transition": {
               "duration": 0,
               "easing": "linear"
              }
             }
            ],
            "label": "30",
            "method": "animate"
           },
           {
            "args": [
             [
              "31"
             ],
             {
              "frame": {
               "duration": 0,
               "redraw": false
              },
              "fromcurrent": true,
              "mode": "immediate",
              "transition": {
               "duration": 0,
               "easing": "linear"
              }
             }
            ],
            "label": "31",
            "method": "animate"
           },
           {
            "args": [
             [
              "32"
             ],
             {
              "frame": {
               "duration": 0,
               "redraw": false
              },
              "fromcurrent": true,
              "mode": "immediate",
              "transition": {
               "duration": 0,
               "easing": "linear"
              }
             }
            ],
            "label": "32",
            "method": "animate"
           },
           {
            "args": [
             [
              "33"
             ],
             {
              "frame": {
               "duration": 0,
               "redraw": false
              },
              "fromcurrent": true,
              "mode": "immediate",
              "transition": {
               "duration": 0,
               "easing": "linear"
              }
             }
            ],
            "label": "33",
            "method": "animate"
           },
           {
            "args": [
             [
              "34"
             ],
             {
              "frame": {
               "duration": 0,
               "redraw": false
              },
              "fromcurrent": true,
              "mode": "immediate",
              "transition": {
               "duration": 0,
               "easing": "linear"
              }
             }
            ],
            "label": "34",
            "method": "animate"
           },
           {
            "args": [
             [
              "35"
             ],
             {
              "frame": {
               "duration": 0,
               "redraw": false
              },
              "fromcurrent": true,
              "mode": "immediate",
              "transition": {
               "duration": 0,
               "easing": "linear"
              }
             }
            ],
            "label": "35",
            "method": "animate"
           },
           {
            "args": [
             [
              "36"
             ],
             {
              "frame": {
               "duration": 0,
               "redraw": false
              },
              "fromcurrent": true,
              "mode": "immediate",
              "transition": {
               "duration": 0,
               "easing": "linear"
              }
             }
            ],
            "label": "36",
            "method": "animate"
           },
           {
            "args": [
             [
              "37"
             ],
             {
              "frame": {
               "duration": 0,
               "redraw": false
              },
              "fromcurrent": true,
              "mode": "immediate",
              "transition": {
               "duration": 0,
               "easing": "linear"
              }
             }
            ],
            "label": "37",
            "method": "animate"
           },
           {
            "args": [
             [
              "38"
             ],
             {
              "frame": {
               "duration": 0,
               "redraw": false
              },
              "fromcurrent": true,
              "mode": "immediate",
              "transition": {
               "duration": 0,
               "easing": "linear"
              }
             }
            ],
            "label": "38",
            "method": "animate"
           }
          ],
          "x": 0.1,
          "xanchor": "left",
          "y": 0,
          "yanchor": "top"
         }
        ],
        "template": {
         "data": {
          "bar": [
           {
            "error_x": {
             "color": "#2a3f5f"
            },
            "error_y": {
             "color": "#2a3f5f"
            },
            "marker": {
             "line": {
              "color": "#E5ECF6",
              "width": 0.5
             },
             "pattern": {
              "fillmode": "overlay",
              "size": 10,
              "solidity": 0.2
             }
            },
            "type": "bar"
           }
          ],
          "barpolar": [
           {
            "marker": {
             "line": {
              "color": "#E5ECF6",
              "width": 0.5
             },
             "pattern": {
              "fillmode": "overlay",
              "size": 10,
              "solidity": 0.2
             }
            },
            "type": "barpolar"
           }
          ],
          "carpet": [
           {
            "aaxis": {
             "endlinecolor": "#2a3f5f",
             "gridcolor": "white",
             "linecolor": "white",
             "minorgridcolor": "white",
             "startlinecolor": "#2a3f5f"
            },
            "baxis": {
             "endlinecolor": "#2a3f5f",
             "gridcolor": "white",
             "linecolor": "white",
             "minorgridcolor": "white",
             "startlinecolor": "#2a3f5f"
            },
            "type": "carpet"
           }
          ],
          "choropleth": [
           {
            "colorbar": {
             "outlinewidth": 0,
             "ticks": ""
            },
            "type": "choropleth"
           }
          ],
          "contour": [
           {
            "colorbar": {
             "outlinewidth": 0,
             "ticks": ""
            },
            "colorscale": [
             [
              0,
              "#0d0887"
             ],
             [
              0.1111111111111111,
              "#46039f"
             ],
             [
              0.2222222222222222,
              "#7201a8"
             ],
             [
              0.3333333333333333,
              "#9c179e"
             ],
             [
              0.4444444444444444,
              "#bd3786"
             ],
             [
              0.5555555555555556,
              "#d8576b"
             ],
             [
              0.6666666666666666,
              "#ed7953"
             ],
             [
              0.7777777777777778,
              "#fb9f3a"
             ],
             [
              0.8888888888888888,
              "#fdca26"
             ],
             [
              1,
              "#f0f921"
             ]
            ],
            "type": "contour"
           }
          ],
          "contourcarpet": [
           {
            "colorbar": {
             "outlinewidth": 0,
             "ticks": ""
            },
            "type": "contourcarpet"
           }
          ],
          "heatmap": [
           {
            "colorbar": {
             "outlinewidth": 0,
             "ticks": ""
            },
            "colorscale": [
             [
              0,
              "#0d0887"
             ],
             [
              0.1111111111111111,
              "#46039f"
             ],
             [
              0.2222222222222222,
              "#7201a8"
             ],
             [
              0.3333333333333333,
              "#9c179e"
             ],
             [
              0.4444444444444444,
              "#bd3786"
             ],
             [
              0.5555555555555556,
              "#d8576b"
             ],
             [
              0.6666666666666666,
              "#ed7953"
             ],
             [
              0.7777777777777778,
              "#fb9f3a"
             ],
             [
              0.8888888888888888,
              "#fdca26"
             ],
             [
              1,
              "#f0f921"
             ]
            ],
            "type": "heatmap"
           }
          ],
          "heatmapgl": [
           {
            "colorbar": {
             "outlinewidth": 0,
             "ticks": ""
            },
            "colorscale": [
             [
              0,
              "#0d0887"
             ],
             [
              0.1111111111111111,
              "#46039f"
             ],
             [
              0.2222222222222222,
              "#7201a8"
             ],
             [
              0.3333333333333333,
              "#9c179e"
             ],
             [
              0.4444444444444444,
              "#bd3786"
             ],
             [
              0.5555555555555556,
              "#d8576b"
             ],
             [
              0.6666666666666666,
              "#ed7953"
             ],
             [
              0.7777777777777778,
              "#fb9f3a"
             ],
             [
              0.8888888888888888,
              "#fdca26"
             ],
             [
              1,
              "#f0f921"
             ]
            ],
            "type": "heatmapgl"
           }
          ],
          "histogram": [
           {
            "marker": {
             "pattern": {
              "fillmode": "overlay",
              "size": 10,
              "solidity": 0.2
             }
            },
            "type": "histogram"
           }
          ],
          "histogram2d": [
           {
            "colorbar": {
             "outlinewidth": 0,
             "ticks": ""
            },
            "colorscale": [
             [
              0,
              "#0d0887"
             ],
             [
              0.1111111111111111,
              "#46039f"
             ],
             [
              0.2222222222222222,
              "#7201a8"
             ],
             [
              0.3333333333333333,
              "#9c179e"
             ],
             [
              0.4444444444444444,
              "#bd3786"
             ],
             [
              0.5555555555555556,
              "#d8576b"
             ],
             [
              0.6666666666666666,
              "#ed7953"
             ],
             [
              0.7777777777777778,
              "#fb9f3a"
             ],
             [
              0.8888888888888888,
              "#fdca26"
             ],
             [
              1,
              "#f0f921"
             ]
            ],
            "type": "histogram2d"
           }
          ],
          "histogram2dcontour": [
           {
            "colorbar": {
             "outlinewidth": 0,
             "ticks": ""
            },
            "colorscale": [
             [
              0,
              "#0d0887"
             ],
             [
              0.1111111111111111,
              "#46039f"
             ],
             [
              0.2222222222222222,
              "#7201a8"
             ],
             [
              0.3333333333333333,
              "#9c179e"
             ],
             [
              0.4444444444444444,
              "#bd3786"
             ],
             [
              0.5555555555555556,
              "#d8576b"
             ],
             [
              0.6666666666666666,
              "#ed7953"
             ],
             [
              0.7777777777777778,
              "#fb9f3a"
             ],
             [
              0.8888888888888888,
              "#fdca26"
             ],
             [
              1,
              "#f0f921"
             ]
            ],
            "type": "histogram2dcontour"
           }
          ],
          "mesh3d": [
           {
            "colorbar": {
             "outlinewidth": 0,
             "ticks": ""
            },
            "type": "mesh3d"
           }
          ],
          "parcoords": [
           {
            "line": {
             "colorbar": {
              "outlinewidth": 0,
              "ticks": ""
             }
            },
            "type": "parcoords"
           }
          ],
          "pie": [
           {
            "automargin": true,
            "type": "pie"
           }
          ],
          "scatter": [
           {
            "fillpattern": {
             "fillmode": "overlay",
             "size": 10,
             "solidity": 0.2
            },
            "type": "scatter"
           }
          ],
          "scatter3d": [
           {
            "line": {
             "colorbar": {
              "outlinewidth": 0,
              "ticks": ""
             }
            },
            "marker": {
             "colorbar": {
              "outlinewidth": 0,
              "ticks": ""
             }
            },
            "type": "scatter3d"
           }
          ],
          "scattercarpet": [
           {
            "marker": {
             "colorbar": {
              "outlinewidth": 0,
              "ticks": ""
             }
            },
            "type": "scattercarpet"
           }
          ],
          "scattergeo": [
           {
            "marker": {
             "colorbar": {
              "outlinewidth": 0,
              "ticks": ""
             }
            },
            "type": "scattergeo"
           }
          ],
          "scattergl": [
           {
            "marker": {
             "colorbar": {
              "outlinewidth": 0,
              "ticks": ""
             }
            },
            "type": "scattergl"
           }
          ],
          "scattermapbox": [
           {
            "marker": {
             "colorbar": {
              "outlinewidth": 0,
              "ticks": ""
             }
            },
            "type": "scattermapbox"
           }
          ],
          "scatterpolar": [
           {
            "marker": {
             "colorbar": {
              "outlinewidth": 0,
              "ticks": ""
             }
            },
            "type": "scatterpolar"
           }
          ],
          "scatterpolargl": [
           {
            "marker": {
             "colorbar": {
              "outlinewidth": 0,
              "ticks": ""
             }
            },
            "type": "scatterpolargl"
           }
          ],
          "scatterternary": [
           {
            "marker": {
             "colorbar": {
              "outlinewidth": 0,
              "ticks": ""
             }
            },
            "type": "scatterternary"
           }
          ],
          "surface": [
           {
            "colorbar": {
             "outlinewidth": 0,
             "ticks": ""
            },
            "colorscale": [
             [
              0,
              "#0d0887"
             ],
             [
              0.1111111111111111,
              "#46039f"
             ],
             [
              0.2222222222222222,
              "#7201a8"
             ],
             [
              0.3333333333333333,
              "#9c179e"
             ],
             [
              0.4444444444444444,
              "#bd3786"
             ],
             [
              0.5555555555555556,
              "#d8576b"
             ],
             [
              0.6666666666666666,
              "#ed7953"
             ],
             [
              0.7777777777777778,
              "#fb9f3a"
             ],
             [
              0.8888888888888888,
              "#fdca26"
             ],
             [
              1,
              "#f0f921"
             ]
            ],
            "type": "surface"
           }
          ],
          "table": [
           {
            "cells": {
             "fill": {
              "color": "#EBF0F8"
             },
             "line": {
              "color": "white"
             }
            },
            "header": {
             "fill": {
              "color": "#C8D4E3"
             },
             "line": {
              "color": "white"
             }
            },
            "type": "table"
           }
          ]
         },
         "layout": {
          "annotationdefaults": {
           "arrowcolor": "#2a3f5f",
           "arrowhead": 0,
           "arrowwidth": 1
          },
          "autotypenumbers": "strict",
          "coloraxis": {
           "colorbar": {
            "outlinewidth": 0,
            "ticks": ""
           }
          },
          "colorscale": {
           "diverging": [
            [
             0,
             "#8e0152"
            ],
            [
             0.1,
             "#c51b7d"
            ],
            [
             0.2,
             "#de77ae"
            ],
            [
             0.3,
             "#f1b6da"
            ],
            [
             0.4,
             "#fde0ef"
            ],
            [
             0.5,
             "#f7f7f7"
            ],
            [
             0.6,
             "#e6f5d0"
            ],
            [
             0.7,
             "#b8e186"
            ],
            [
             0.8,
             "#7fbc41"
            ],
            [
             0.9,
             "#4d9221"
            ],
            [
             1,
             "#276419"
            ]
           ],
           "sequential": [
            [
             0,
             "#0d0887"
            ],
            [
             0.1111111111111111,
             "#46039f"
            ],
            [
             0.2222222222222222,
             "#7201a8"
            ],
            [
             0.3333333333333333,
             "#9c179e"
            ],
            [
             0.4444444444444444,
             "#bd3786"
            ],
            [
             0.5555555555555556,
             "#d8576b"
            ],
            [
             0.6666666666666666,
             "#ed7953"
            ],
            [
             0.7777777777777778,
             "#fb9f3a"
            ],
            [
             0.8888888888888888,
             "#fdca26"
            ],
            [
             1,
             "#f0f921"
            ]
           ],
           "sequentialminus": [
            [
             0,
             "#0d0887"
            ],
            [
             0.1111111111111111,
             "#46039f"
            ],
            [
             0.2222222222222222,
             "#7201a8"
            ],
            [
             0.3333333333333333,
             "#9c179e"
            ],
            [
             0.4444444444444444,
             "#bd3786"
            ],
            [
             0.5555555555555556,
             "#d8576b"
            ],
            [
             0.6666666666666666,
             "#ed7953"
            ],
            [
             0.7777777777777778,
             "#fb9f3a"
            ],
            [
             0.8888888888888888,
             "#fdca26"
            ],
            [
             1,
             "#f0f921"
            ]
           ]
          },
          "colorway": [
           "#636efa",
           "#EF553B",
           "#00cc96",
           "#ab63fa",
           "#FFA15A",
           "#19d3f3",
           "#FF6692",
           "#B6E880",
           "#FF97FF",
           "#FECB52"
          ],
          "font": {
           "color": "#2a3f5f"
          },
          "geo": {
           "bgcolor": "white",
           "lakecolor": "white",
           "landcolor": "#E5ECF6",
           "showlakes": true,
           "showland": true,
           "subunitcolor": "white"
          },
          "hoverlabel": {
           "align": "left"
          },
          "hovermode": "closest",
          "mapbox": {
           "style": "light"
          },
          "paper_bgcolor": "white",
          "plot_bgcolor": "#E5ECF6",
          "polar": {
           "angularaxis": {
            "gridcolor": "white",
            "linecolor": "white",
            "ticks": ""
           },
           "bgcolor": "#E5ECF6",
           "radialaxis": {
            "gridcolor": "white",
            "linecolor": "white",
            "ticks": ""
           }
          },
          "scene": {
           "xaxis": {
            "backgroundcolor": "#E5ECF6",
            "gridcolor": "white",
            "gridwidth": 2,
            "linecolor": "white",
            "showbackground": true,
            "ticks": "",
            "zerolinecolor": "white"
           },
           "yaxis": {
            "backgroundcolor": "#E5ECF6",
            "gridcolor": "white",
            "gridwidth": 2,
            "linecolor": "white",
            "showbackground": true,
            "ticks": "",
            "zerolinecolor": "white"
           },
           "zaxis": {
            "backgroundcolor": "#E5ECF6",
            "gridcolor": "white",
            "gridwidth": 2,
            "linecolor": "white",
            "showbackground": true,
            "ticks": "",
            "zerolinecolor": "white"
           }
          },
          "shapedefaults": {
           "line": {
            "color": "#2a3f5f"
           }
          },
          "ternary": {
           "aaxis": {
            "gridcolor": "white",
            "linecolor": "white",
            "ticks": ""
           },
           "baxis": {
            "gridcolor": "white",
            "linecolor": "white",
            "ticks": ""
           },
           "bgcolor": "#E5ECF6",
           "caxis": {
            "gridcolor": "white",
            "linecolor": "white",
            "ticks": ""
           }
          },
          "title": {
           "x": 0.05
          },
          "xaxis": {
           "automargin": true,
           "gridcolor": "white",
           "linecolor": "white",
           "ticks": "",
           "title": {
            "standoff": 15
           },
           "zerolinecolor": "white",
           "zerolinewidth": 2
          },
          "yaxis": {
           "automargin": true,
           "gridcolor": "white",
           "linecolor": "white",
           "ticks": "",
           "title": {
            "standoff": 15
           },
           "zerolinecolor": "white",
           "zerolinewidth": 2
          }
         }
        },
        "updatemenus": [
         {
          "buttons": [
           {
            "args": [
             null,
             {
              "frame": {
               "duration": 500,
               "redraw": false
              },
              "fromcurrent": true,
              "mode": "immediate",
              "transition": {
               "duration": 500,
               "easing": "linear"
              }
             }
            ],
            "label": "&#9654;",
            "method": "animate"
           },
           {
            "args": [
             [
              null
             ],
             {
              "frame": {
               "duration": 0,
               "redraw": false
              },
              "fromcurrent": true,
              "mode": "immediate",
              "transition": {
               "duration": 0,
               "easing": "linear"
              }
             }
            ],
            "label": "&#9724;",
            "method": "animate"
           }
          ],
          "direction": "left",
          "pad": {
           "r": 10,
           "t": 70
          },
          "showactive": false,
          "type": "buttons",
          "x": 0.1,
          "xanchor": "right",
          "y": 0,
          "yanchor": "top"
         }
        ],
        "xaxis": {
         "anchor": "y",
         "domain": [
          0,
          1
         ],
         "title": {
          "text": "MovingAverageFor"
         }
        },
        "yaxis": {
         "anchor": "x",
         "domain": [
          0,
          1
         ],
         "title": {
          "text": "MovingAverageAgainst"
         }
        }
       }
      },
      "text/html": [
       "<div>                            <div id=\"5ffc59f0-57ef-43e5-96e1-d6db71ac2c26\" class=\"plotly-graph-div\" style=\"height:525px; width:100%;\"></div>            <script type=\"text/javascript\">                require([\"plotly\"], function(Plotly) {                    window.PLOTLYENV=window.PLOTLYENV || {};                                    if (document.getElementById(\"5ffc59f0-57ef-43e5-96e1-d6db71ac2c26\")) {                    Plotly.newPlot(                        \"5ffc59f0-57ef-43e5-96e1-d6db71ac2c26\",                        [{\"hovertemplate\":\"Team=Brentford<br>MatchesPlayed=1<br>MovingAverageFor=%{x}<br>MovingAverageAgainst=%{y}<extra></extra>\",\"legendgroup\":\"Brentford\",\"marker\":{\"color\":\"#636efa\",\"symbol\":\"circle\"},\"mode\":\"markers\",\"name\":\"Brentford\",\"orientation\":\"v\",\"showlegend\":true,\"x\":[null],\"xaxis\":\"x\",\"y\":[null],\"yaxis\":\"y\",\"type\":\"scatter\"},{\"hovertemplate\":\"Team=Man United<br>MatchesPlayed=1<br>MovingAverageFor=%{x}<br>MovingAverageAgainst=%{y}<extra></extra>\",\"legendgroup\":\"Man United\",\"marker\":{\"color\":\"#EF553B\",\"symbol\":\"circle\"},\"mode\":\"markers\",\"name\":\"Man United\",\"orientation\":\"v\",\"showlegend\":true,\"x\":[null],\"xaxis\":\"x\",\"y\":[null],\"yaxis\":\"y\",\"type\":\"scatter\"},{\"hovertemplate\":\"Team=Burnley<br>MatchesPlayed=1<br>MovingAverageFor=%{x}<br>MovingAverageAgainst=%{y}<extra></extra>\",\"legendgroup\":\"Burnley\",\"marker\":{\"color\":\"#00cc96\",\"symbol\":\"circle\"},\"mode\":\"markers\",\"name\":\"Burnley\",\"orientation\":\"v\",\"showlegend\":true,\"x\":[null],\"xaxis\":\"x\",\"y\":[null],\"yaxis\":\"y\",\"type\":\"scatter\"},{\"hovertemplate\":\"Team=Chelsea<br>MatchesPlayed=1<br>MovingAverageFor=%{x}<br>MovingAverageAgainst=%{y}<extra></extra>\",\"legendgroup\":\"Chelsea\",\"marker\":{\"color\":\"#ab63fa\",\"symbol\":\"circle\"},\"mode\":\"markers\",\"name\":\"Chelsea\",\"orientation\":\"v\",\"showlegend\":true,\"x\":[null],\"xaxis\":\"x\",\"y\":[null],\"yaxis\":\"y\",\"type\":\"scatter\"},{\"hovertemplate\":\"Team=Everton<br>MatchesPlayed=1<br>MovingAverageFor=%{x}<br>MovingAverageAgainst=%{y}<extra></extra>\",\"legendgroup\":\"Everton\",\"marker\":{\"color\":\"#FFA15A\",\"symbol\":\"circle\"},\"mode\":\"markers\",\"name\":\"Everton\",\"orientation\":\"v\",\"showlegend\":true,\"x\":[null],\"xaxis\":\"x\",\"y\":[null],\"yaxis\":\"y\",\"type\":\"scatter\"},{\"hovertemplate\":\"Team=Leicester<br>MatchesPlayed=1<br>MovingAverageFor=%{x}<br>MovingAverageAgainst=%{y}<extra></extra>\",\"legendgroup\":\"Leicester\",\"marker\":{\"color\":\"#19d3f3\",\"symbol\":\"circle\"},\"mode\":\"markers\",\"name\":\"Leicester\",\"orientation\":\"v\",\"showlegend\":true,\"x\":[null],\"xaxis\":\"x\",\"y\":[null],\"yaxis\":\"y\",\"type\":\"scatter\"},{\"hovertemplate\":\"Team=Watford<br>MatchesPlayed=1<br>MovingAverageFor=%{x}<br>MovingAverageAgainst=%{y}<extra></extra>\",\"legendgroup\":\"Watford\",\"marker\":{\"color\":\"#FF6692\",\"symbol\":\"circle\"},\"mode\":\"markers\",\"name\":\"Watford\",\"orientation\":\"v\",\"showlegend\":true,\"x\":[null],\"xaxis\":\"x\",\"y\":[null],\"yaxis\":\"y\",\"type\":\"scatter\"},{\"hovertemplate\":\"Team=Norwich<br>MatchesPlayed=1<br>MovingAverageFor=%{x}<br>MovingAverageAgainst=%{y}<extra></extra>\",\"legendgroup\":\"Norwich\",\"marker\":{\"color\":\"#B6E880\",\"symbol\":\"circle\"},\"mode\":\"markers\",\"name\":\"Norwich\",\"orientation\":\"v\",\"showlegend\":true,\"x\":[null],\"xaxis\":\"x\",\"y\":[null],\"yaxis\":\"y\",\"type\":\"scatter\"},{\"hovertemplate\":\"Team=Newcastle<br>MatchesPlayed=1<br>MovingAverageFor=%{x}<br>MovingAverageAgainst=%{y}<extra></extra>\",\"legendgroup\":\"Newcastle\",\"marker\":{\"color\":\"#FF97FF\",\"symbol\":\"circle\"},\"mode\":\"markers\",\"name\":\"Newcastle\",\"orientation\":\"v\",\"showlegend\":true,\"x\":[null],\"xaxis\":\"x\",\"y\":[null],\"yaxis\":\"y\",\"type\":\"scatter\"},{\"hovertemplate\":\"Team=Tottenham<br>MatchesPlayed=1<br>MovingAverageFor=%{x}<br>MovingAverageAgainst=%{y}<extra></extra>\",\"legendgroup\":\"Tottenham\",\"marker\":{\"color\":\"#FECB52\",\"symbol\":\"circle\"},\"mode\":\"markers\",\"name\":\"Tottenham\",\"orientation\":\"v\",\"showlegend\":true,\"x\":[null],\"xaxis\":\"x\",\"y\":[null],\"yaxis\":\"y\",\"type\":\"scatter\"},{\"hovertemplate\":\"Team=Liverpool<br>MatchesPlayed=1<br>MovingAverageFor=%{x}<br>MovingAverageAgainst=%{y}<extra></extra>\",\"legendgroup\":\"Liverpool\",\"marker\":{\"color\":\"#636efa\",\"symbol\":\"circle\"},\"mode\":\"markers\",\"name\":\"Liverpool\",\"orientation\":\"v\",\"showlegend\":true,\"x\":[null],\"xaxis\":\"x\",\"y\":[null],\"yaxis\":\"y\",\"type\":\"scatter\"},{\"hovertemplate\":\"Team=Aston Villa<br>MatchesPlayed=1<br>MovingAverageFor=%{x}<br>MovingAverageAgainst=%{y}<extra></extra>\",\"legendgroup\":\"Aston Villa\",\"marker\":{\"color\":\"#EF553B\",\"symbol\":\"circle\"},\"mode\":\"markers\",\"name\":\"Aston Villa\",\"orientation\":\"v\",\"showlegend\":true,\"x\":[null],\"xaxis\":\"x\",\"y\":[null],\"yaxis\":\"y\",\"type\":\"scatter\"},{\"hovertemplate\":\"Team=Crystal Palace<br>MatchesPlayed=1<br>MovingAverageFor=%{x}<br>MovingAverageAgainst=%{y}<extra></extra>\",\"legendgroup\":\"Crystal Palace\",\"marker\":{\"color\":\"#00cc96\",\"symbol\":\"circle\"},\"mode\":\"markers\",\"name\":\"Crystal Palace\",\"orientation\":\"v\",\"showlegend\":true,\"x\":[null],\"xaxis\":\"x\",\"y\":[null],\"yaxis\":\"y\",\"type\":\"scatter\"},{\"hovertemplate\":\"Team=Leeds<br>MatchesPlayed=1<br>MovingAverageFor=%{x}<br>MovingAverageAgainst=%{y}<extra></extra>\",\"legendgroup\":\"Leeds\",\"marker\":{\"color\":\"#ab63fa\",\"symbol\":\"circle\"},\"mode\":\"markers\",\"name\":\"Leeds\",\"orientation\":\"v\",\"showlegend\":true,\"x\":[null],\"xaxis\":\"x\",\"y\":[null],\"yaxis\":\"y\",\"type\":\"scatter\"},{\"hovertemplate\":\"Team=Man City<br>MatchesPlayed=1<br>MovingAverageFor=%{x}<br>MovingAverageAgainst=%{y}<extra></extra>\",\"legendgroup\":\"Man City\",\"marker\":{\"color\":\"#FFA15A\",\"symbol\":\"circle\"},\"mode\":\"markers\",\"name\":\"Man City\",\"orientation\":\"v\",\"showlegend\":true,\"x\":[null],\"xaxis\":\"x\",\"y\":[null],\"yaxis\":\"y\",\"type\":\"scatter\"},{\"hovertemplate\":\"Team=Brighton<br>MatchesPlayed=1<br>MovingAverageFor=%{x}<br>MovingAverageAgainst=%{y}<extra></extra>\",\"legendgroup\":\"Brighton\",\"marker\":{\"color\":\"#19d3f3\",\"symbol\":\"circle\"},\"mode\":\"markers\",\"name\":\"Brighton\",\"orientation\":\"v\",\"showlegend\":true,\"x\":[null],\"xaxis\":\"x\",\"y\":[null],\"yaxis\":\"y\",\"type\":\"scatter\"},{\"hovertemplate\":\"Team=Southampton<br>MatchesPlayed=1<br>MovingAverageFor=%{x}<br>MovingAverageAgainst=%{y}<extra></extra>\",\"legendgroup\":\"Southampton\",\"marker\":{\"color\":\"#FF6692\",\"symbol\":\"circle\"},\"mode\":\"markers\",\"name\":\"Southampton\",\"orientation\":\"v\",\"showlegend\":true,\"x\":[null],\"xaxis\":\"x\",\"y\":[null],\"yaxis\":\"y\",\"type\":\"scatter\"},{\"hovertemplate\":\"Team=Wolves<br>MatchesPlayed=1<br>MovingAverageFor=%{x}<br>MovingAverageAgainst=%{y}<extra></extra>\",\"legendgroup\":\"Wolves\",\"marker\":{\"color\":\"#B6E880\",\"symbol\":\"circle\"},\"mode\":\"markers\",\"name\":\"Wolves\",\"orientation\":\"v\",\"showlegend\":true,\"x\":[null],\"xaxis\":\"x\",\"y\":[null],\"yaxis\":\"y\",\"type\":\"scatter\"},{\"hovertemplate\":\"Team=Arsenal<br>MatchesPlayed=1<br>MovingAverageFor=%{x}<br>MovingAverageAgainst=%{y}<extra></extra>\",\"legendgroup\":\"Arsenal\",\"marker\":{\"color\":\"#FF97FF\",\"symbol\":\"circle\"},\"mode\":\"markers\",\"name\":\"Arsenal\",\"orientation\":\"v\",\"showlegend\":true,\"x\":[null],\"xaxis\":\"x\",\"y\":[null],\"yaxis\":\"y\",\"type\":\"scatter\"},{\"hovertemplate\":\"Team=West Ham<br>MatchesPlayed=1<br>MovingAverageFor=%{x}<br>MovingAverageAgainst=%{y}<extra></extra>\",\"legendgroup\":\"West Ham\",\"marker\":{\"color\":\"#FECB52\",\"symbol\":\"circle\"},\"mode\":\"markers\",\"name\":\"West Ham\",\"orientation\":\"v\",\"showlegend\":true,\"x\":[null],\"xaxis\":\"x\",\"y\":[null],\"yaxis\":\"y\",\"type\":\"scatter\"}],                        {\"template\":{\"data\":{\"histogram2dcontour\":[{\"type\":\"histogram2dcontour\",\"colorbar\":{\"outlinewidth\":0,\"ticks\":\"\"},\"colorscale\":[[0.0,\"#0d0887\"],[0.1111111111111111,\"#46039f\"],[0.2222222222222222,\"#7201a8\"],[0.3333333333333333,\"#9c179e\"],[0.4444444444444444,\"#bd3786\"],[0.5555555555555556,\"#d8576b\"],[0.6666666666666666,\"#ed7953\"],[0.7777777777777778,\"#fb9f3a\"],[0.8888888888888888,\"#fdca26\"],[1.0,\"#f0f921\"]]}],\"choropleth\":[{\"type\":\"choropleth\",\"colorbar\":{\"outlinewidth\":0,\"ticks\":\"\"}}],\"histogram2d\":[{\"type\":\"histogram2d\",\"colorbar\":{\"outlinewidth\":0,\"ticks\":\"\"},\"colorscale\":[[0.0,\"#0d0887\"],[0.1111111111111111,\"#46039f\"],[0.2222222222222222,\"#7201a8\"],[0.3333333333333333,\"#9c179e\"],[0.4444444444444444,\"#bd3786\"],[0.5555555555555556,\"#d8576b\"],[0.6666666666666666,\"#ed7953\"],[0.7777777777777778,\"#fb9f3a\"],[0.8888888888888888,\"#fdca26\"],[1.0,\"#f0f921\"]]}],\"heatmap\":[{\"type\":\"heatmap\",\"colorbar\":{\"outlinewidth\":0,\"ticks\":\"\"},\"colorscale\":[[0.0,\"#0d0887\"],[0.1111111111111111,\"#46039f\"],[0.2222222222222222,\"#7201a8\"],[0.3333333333333333,\"#9c179e\"],[0.4444444444444444,\"#bd3786\"],[0.5555555555555556,\"#d8576b\"],[0.6666666666666666,\"#ed7953\"],[0.7777777777777778,\"#fb9f3a\"],[0.8888888888888888,\"#fdca26\"],[1.0,\"#f0f921\"]]}],\"heatmapgl\":[{\"type\":\"heatmapgl\",\"colorbar\":{\"outlinewidth\":0,\"ticks\":\"\"},\"colorscale\":[[0.0,\"#0d0887\"],[0.1111111111111111,\"#46039f\"],[0.2222222222222222,\"#7201a8\"],[0.3333333333333333,\"#9c179e\"],[0.4444444444444444,\"#bd3786\"],[0.5555555555555556,\"#d8576b\"],[0.6666666666666666,\"#ed7953\"],[0.7777777777777778,\"#fb9f3a\"],[0.8888888888888888,\"#fdca26\"],[1.0,\"#f0f921\"]]}],\"contourcarpet\":[{\"type\":\"contourcarpet\",\"colorbar\":{\"outlinewidth\":0,\"ticks\":\"\"}}],\"contour\":[{\"type\":\"contour\",\"colorbar\":{\"outlinewidth\":0,\"ticks\":\"\"},\"colorscale\":[[0.0,\"#0d0887\"],[0.1111111111111111,\"#46039f\"],[0.2222222222222222,\"#7201a8\"],[0.3333333333333333,\"#9c179e\"],[0.4444444444444444,\"#bd3786\"],[0.5555555555555556,\"#d8576b\"],[0.6666666666666666,\"#ed7953\"],[0.7777777777777778,\"#fb9f3a\"],[0.8888888888888888,\"#fdca26\"],[1.0,\"#f0f921\"]]}],\"surface\":[{\"type\":\"surface\",\"colorbar\":{\"outlinewidth\":0,\"ticks\":\"\"},\"colorscale\":[[0.0,\"#0d0887\"],[0.1111111111111111,\"#46039f\"],[0.2222222222222222,\"#7201a8\"],[0.3333333333333333,\"#9c179e\"],[0.4444444444444444,\"#bd3786\"],[0.5555555555555556,\"#d8576b\"],[0.6666666666666666,\"#ed7953\"],[0.7777777777777778,\"#fb9f3a\"],[0.8888888888888888,\"#fdca26\"],[1.0,\"#f0f921\"]]}],\"mesh3d\":[{\"type\":\"mesh3d\",\"colorbar\":{\"outlinewidth\":0,\"ticks\":\"\"}}],\"scatter\":[{\"fillpattern\":{\"fillmode\":\"overlay\",\"size\":10,\"solidity\":0.2},\"type\":\"scatter\"}],\"parcoords\":[{\"type\":\"parcoords\",\"line\":{\"colorbar\":{\"outlinewidth\":0,\"ticks\":\"\"}}}],\"scatterpolargl\":[{\"type\":\"scatterpolargl\",\"marker\":{\"colorbar\":{\"outlinewidth\":0,\"ticks\":\"\"}}}],\"bar\":[{\"error_x\":{\"color\":\"#2a3f5f\"},\"error_y\":{\"color\":\"#2a3f5f\"},\"marker\":{\"line\":{\"color\":\"#E5ECF6\",\"width\":0.5},\"pattern\":{\"fillmode\":\"overlay\",\"size\":10,\"solidity\":0.2}},\"type\":\"bar\"}],\"scattergeo\":[{\"type\":\"scattergeo\",\"marker\":{\"colorbar\":{\"outlinewidth\":0,\"ticks\":\"\"}}}],\"scatterpolar\":[{\"type\":\"scatterpolar\",\"marker\":{\"colorbar\":{\"outlinewidth\":0,\"ticks\":\"\"}}}],\"histogram\":[{\"marker\":{\"pattern\":{\"fillmode\":\"overlay\",\"size\":10,\"solidity\":0.2}},\"type\":\"histogram\"}],\"scattergl\":[{\"type\":\"scattergl\",\"marker\":{\"colorbar\":{\"outlinewidth\":0,\"ticks\":\"\"}}}],\"scatter3d\":[{\"type\":\"scatter3d\",\"line\":{\"colorbar\":{\"outlinewidth\":0,\"ticks\":\"\"}},\"marker\":{\"colorbar\":{\"outlinewidth\":0,\"ticks\":\"\"}}}],\"scattermapbox\":[{\"type\":\"scattermapbox\",\"marker\":{\"colorbar\":{\"outlinewidth\":0,\"ticks\":\"\"}}}],\"scatterternary\":[{\"type\":\"scatterternary\",\"marker\":{\"colorbar\":{\"outlinewidth\":0,\"ticks\":\"\"}}}],\"scattercarpet\":[{\"type\":\"scattercarpet\",\"marker\":{\"colorbar\":{\"outlinewidth\":0,\"ticks\":\"\"}}}],\"carpet\":[{\"aaxis\":{\"endlinecolor\":\"#2a3f5f\",\"gridcolor\":\"white\",\"linecolor\":\"white\",\"minorgridcolor\":\"white\",\"startlinecolor\":\"#2a3f5f\"},\"baxis\":{\"endlinecolor\":\"#2a3f5f\",\"gridcolor\":\"white\",\"linecolor\":\"white\",\"minorgridcolor\":\"white\",\"startlinecolor\":\"#2a3f5f\"},\"type\":\"carpet\"}],\"table\":[{\"cells\":{\"fill\":{\"color\":\"#EBF0F8\"},\"line\":{\"color\":\"white\"}},\"header\":{\"fill\":{\"color\":\"#C8D4E3\"},\"line\":{\"color\":\"white\"}},\"type\":\"table\"}],\"barpolar\":[{\"marker\":{\"line\":{\"color\":\"#E5ECF6\",\"width\":0.5},\"pattern\":{\"fillmode\":\"overlay\",\"size\":10,\"solidity\":0.2}},\"type\":\"barpolar\"}],\"pie\":[{\"automargin\":true,\"type\":\"pie\"}]},\"layout\":{\"autotypenumbers\":\"strict\",\"colorway\":[\"#636efa\",\"#EF553B\",\"#00cc96\",\"#ab63fa\",\"#FFA15A\",\"#19d3f3\",\"#FF6692\",\"#B6E880\",\"#FF97FF\",\"#FECB52\"],\"font\":{\"color\":\"#2a3f5f\"},\"hovermode\":\"closest\",\"hoverlabel\":{\"align\":\"left\"},\"paper_bgcolor\":\"white\",\"plot_bgcolor\":\"#E5ECF6\",\"polar\":{\"bgcolor\":\"#E5ECF6\",\"angularaxis\":{\"gridcolor\":\"white\",\"linecolor\":\"white\",\"ticks\":\"\"},\"radialaxis\":{\"gridcolor\":\"white\",\"linecolor\":\"white\",\"ticks\":\"\"}},\"ternary\":{\"bgcolor\":\"#E5ECF6\",\"aaxis\":{\"gridcolor\":\"white\",\"linecolor\":\"white\",\"ticks\":\"\"},\"baxis\":{\"gridcolor\":\"white\",\"linecolor\":\"white\",\"ticks\":\"\"},\"caxis\":{\"gridcolor\":\"white\",\"linecolor\":\"white\",\"ticks\":\"\"}},\"coloraxis\":{\"colorbar\":{\"outlinewidth\":0,\"ticks\":\"\"}},\"colorscale\":{\"sequential\":[[0.0,\"#0d0887\"],[0.1111111111111111,\"#46039f\"],[0.2222222222222222,\"#7201a8\"],[0.3333333333333333,\"#9c179e\"],[0.4444444444444444,\"#bd3786\"],[0.5555555555555556,\"#d8576b\"],[0.6666666666666666,\"#ed7953\"],[0.7777777777777778,\"#fb9f3a\"],[0.8888888888888888,\"#fdca26\"],[1.0,\"#f0f921\"]],\"sequentialminus\":[[0.0,\"#0d0887\"],[0.1111111111111111,\"#46039f\"],[0.2222222222222222,\"#7201a8\"],[0.3333333333333333,\"#9c179e\"],[0.4444444444444444,\"#bd3786\"],[0.5555555555555556,\"#d8576b\"],[0.6666666666666666,\"#ed7953\"],[0.7777777777777778,\"#fb9f3a\"],[0.8888888888888888,\"#fdca26\"],[1.0,\"#f0f921\"]],\"diverging\":[[0,\"#8e0152\"],[0.1,\"#c51b7d\"],[0.2,\"#de77ae\"],[0.3,\"#f1b6da\"],[0.4,\"#fde0ef\"],[0.5,\"#f7f7f7\"],[0.6,\"#e6f5d0\"],[0.7,\"#b8e186\"],[0.8,\"#7fbc41\"],[0.9,\"#4d9221\"],[1,\"#276419\"]]},\"xaxis\":{\"gridcolor\":\"white\",\"linecolor\":\"white\",\"ticks\":\"\",\"title\":{\"standoff\":15},\"zerolinecolor\":\"white\",\"automargin\":true,\"zerolinewidth\":2},\"yaxis\":{\"gridcolor\":\"white\",\"linecolor\":\"white\",\"ticks\":\"\",\"title\":{\"standoff\":15},\"zerolinecolor\":\"white\",\"automargin\":true,\"zerolinewidth\":2},\"scene\":{\"xaxis\":{\"backgroundcolor\":\"#E5ECF6\",\"gridcolor\":\"white\",\"linecolor\":\"white\",\"showbackground\":true,\"ticks\":\"\",\"zerolinecolor\":\"white\",\"gridwidth\":2},\"yaxis\":{\"backgroundcolor\":\"#E5ECF6\",\"gridcolor\":\"white\",\"linecolor\":\"white\",\"showbackground\":true,\"ticks\":\"\",\"zerolinecolor\":\"white\",\"gridwidth\":2},\"zaxis\":{\"backgroundcolor\":\"#E5ECF6\",\"gridcolor\":\"white\",\"linecolor\":\"white\",\"showbackground\":true,\"ticks\":\"\",\"zerolinecolor\":\"white\",\"gridwidth\":2}},\"shapedefaults\":{\"line\":{\"color\":\"#2a3f5f\"}},\"annotationdefaults\":{\"arrowcolor\":\"#2a3f5f\",\"arrowhead\":0,\"arrowwidth\":1},\"geo\":{\"bgcolor\":\"white\",\"landcolor\":\"#E5ECF6\",\"subunitcolor\":\"white\",\"showland\":true,\"showlakes\":true,\"lakecolor\":\"white\"},\"title\":{\"x\":0.05},\"mapbox\":{\"style\":\"light\"}}},\"xaxis\":{\"anchor\":\"y\",\"domain\":[0.0,1.0],\"title\":{\"text\":\"MovingAverageFor\"}},\"yaxis\":{\"anchor\":\"x\",\"domain\":[0.0,1.0],\"title\":{\"text\":\"MovingAverageAgainst\"}},\"legend\":{\"title\":{\"text\":\"Team\"},\"tracegroupgap\":0},\"margin\":{\"t\":60},\"updatemenus\":[{\"buttons\":[{\"args\":[null,{\"frame\":{\"duration\":500,\"redraw\":false},\"mode\":\"immediate\",\"fromcurrent\":true,\"transition\":{\"duration\":500,\"easing\":\"linear\"}}],\"label\":\"&#9654;\",\"method\":\"animate\"},{\"args\":[[null],{\"frame\":{\"duration\":0,\"redraw\":false},\"mode\":\"immediate\",\"fromcurrent\":true,\"transition\":{\"duration\":0,\"easing\":\"linear\"}}],\"label\":\"&#9724;\",\"method\":\"animate\"}],\"direction\":\"left\",\"pad\":{\"r\":10,\"t\":70},\"showactive\":false,\"type\":\"buttons\",\"x\":0.1,\"xanchor\":\"right\",\"y\":0,\"yanchor\":\"top\"}],\"sliders\":[{\"active\":0,\"currentvalue\":{\"prefix\":\"MatchesPlayed=\"},\"len\":0.9,\"pad\":{\"b\":10,\"t\":60},\"steps\":[{\"args\":[[\"1\"],{\"frame\":{\"duration\":0,\"redraw\":false},\"mode\":\"immediate\",\"fromcurrent\":true,\"transition\":{\"duration\":0,\"easing\":\"linear\"}}],\"label\":\"1\",\"method\":\"animate\"},{\"args\":[[\"2\"],{\"frame\":{\"duration\":0,\"redraw\":false},\"mode\":\"immediate\",\"fromcurrent\":true,\"transition\":{\"duration\":0,\"easing\":\"linear\"}}],\"label\":\"2\",\"method\":\"animate\"},{\"args\":[[\"3\"],{\"frame\":{\"duration\":0,\"redraw\":false},\"mode\":\"immediate\",\"fromcurrent\":true,\"transition\":{\"duration\":0,\"easing\":\"linear\"}}],\"label\":\"3\",\"method\":\"animate\"},{\"args\":[[\"4\"],{\"frame\":{\"duration\":0,\"redraw\":false},\"mode\":\"immediate\",\"fromcurrent\":true,\"transition\":{\"duration\":0,\"easing\":\"linear\"}}],\"label\":\"4\",\"method\":\"animate\"},{\"args\":[[\"5\"],{\"frame\":{\"duration\":0,\"redraw\":false},\"mode\":\"immediate\",\"fromcurrent\":true,\"transition\":{\"duration\":0,\"easing\":\"linear\"}}],\"label\":\"5\",\"method\":\"animate\"},{\"args\":[[\"6\"],{\"frame\":{\"duration\":0,\"redraw\":false},\"mode\":\"immediate\",\"fromcurrent\":true,\"transition\":{\"duration\":0,\"easing\":\"linear\"}}],\"label\":\"6\",\"method\":\"animate\"},{\"args\":[[\"7\"],{\"frame\":{\"duration\":0,\"redraw\":false},\"mode\":\"immediate\",\"fromcurrent\":true,\"transition\":{\"duration\":0,\"easing\":\"linear\"}}],\"label\":\"7\",\"method\":\"animate\"},{\"args\":[[\"8\"],{\"frame\":{\"duration\":0,\"redraw\":false},\"mode\":\"immediate\",\"fromcurrent\":true,\"transition\":{\"duration\":0,\"easing\":\"linear\"}}],\"label\":\"8\",\"method\":\"animate\"},{\"args\":[[\"9\"],{\"frame\":{\"duration\":0,\"redraw\":false},\"mode\":\"immediate\",\"fromcurrent\":true,\"transition\":{\"duration\":0,\"easing\":\"linear\"}}],\"label\":\"9\",\"method\":\"animate\"},{\"args\":[[\"10\"],{\"frame\":{\"duration\":0,\"redraw\":false},\"mode\":\"immediate\",\"fromcurrent\":true,\"transition\":{\"duration\":0,\"easing\":\"linear\"}}],\"label\":\"10\",\"method\":\"animate\"},{\"args\":[[\"11\"],{\"frame\":{\"duration\":0,\"redraw\":false},\"mode\":\"immediate\",\"fromcurrent\":true,\"transition\":{\"duration\":0,\"easing\":\"linear\"}}],\"label\":\"11\",\"method\":\"animate\"},{\"args\":[[\"12\"],{\"frame\":{\"duration\":0,\"redraw\":false},\"mode\":\"immediate\",\"fromcurrent\":true,\"transition\":{\"duration\":0,\"easing\":\"linear\"}}],\"label\":\"12\",\"method\":\"animate\"},{\"args\":[[\"13\"],{\"frame\":{\"duration\":0,\"redraw\":false},\"mode\":\"immediate\",\"fromcurrent\":true,\"transition\":{\"duration\":0,\"easing\":\"linear\"}}],\"label\":\"13\",\"method\":\"animate\"},{\"args\":[[\"14\"],{\"frame\":{\"duration\":0,\"redraw\":false},\"mode\":\"immediate\",\"fromcurrent\":true,\"transition\":{\"duration\":0,\"easing\":\"linear\"}}],\"label\":\"14\",\"method\":\"animate\"},{\"args\":[[\"15\"],{\"frame\":{\"duration\":0,\"redraw\":false},\"mode\":\"immediate\",\"fromcurrent\":true,\"transition\":{\"duration\":0,\"easing\":\"linear\"}}],\"label\":\"15\",\"method\":\"animate\"},{\"args\":[[\"16\"],{\"frame\":{\"duration\":0,\"redraw\":false},\"mode\":\"immediate\",\"fromcurrent\":true,\"transition\":{\"duration\":0,\"easing\":\"linear\"}}],\"label\":\"16\",\"method\":\"animate\"},{\"args\":[[\"17\"],{\"frame\":{\"duration\":0,\"redraw\":false},\"mode\":\"immediate\",\"fromcurrent\":true,\"transition\":{\"duration\":0,\"easing\":\"linear\"}}],\"label\":\"17\",\"method\":\"animate\"},{\"args\":[[\"18\"],{\"frame\":{\"duration\":0,\"redraw\":false},\"mode\":\"immediate\",\"fromcurrent\":true,\"transition\":{\"duration\":0,\"easing\":\"linear\"}}],\"label\":\"18\",\"method\":\"animate\"},{\"args\":[[\"19\"],{\"frame\":{\"duration\":0,\"redraw\":false},\"mode\":\"immediate\",\"fromcurrent\":true,\"transition\":{\"duration\":0,\"easing\":\"linear\"}}],\"label\":\"19\",\"method\":\"animate\"},{\"args\":[[\"20\"],{\"frame\":{\"duration\":0,\"redraw\":false},\"mode\":\"immediate\",\"fromcurrent\":true,\"transition\":{\"duration\":0,\"easing\":\"linear\"}}],\"label\":\"20\",\"method\":\"animate\"},{\"args\":[[\"21\"],{\"frame\":{\"duration\":0,\"redraw\":false},\"mode\":\"immediate\",\"fromcurrent\":true,\"transition\":{\"duration\":0,\"easing\":\"linear\"}}],\"label\":\"21\",\"method\":\"animate\"},{\"args\":[[\"22\"],{\"frame\":{\"duration\":0,\"redraw\":false},\"mode\":\"immediate\",\"fromcurrent\":true,\"transition\":{\"duration\":0,\"easing\":\"linear\"}}],\"label\":\"22\",\"method\":\"animate\"},{\"args\":[[\"23\"],{\"frame\":{\"duration\":0,\"redraw\":false},\"mode\":\"immediate\",\"fromcurrent\":true,\"transition\":{\"duration\":0,\"easing\":\"linear\"}}],\"label\":\"23\",\"method\":\"animate\"},{\"args\":[[\"24\"],{\"frame\":{\"duration\":0,\"redraw\":false},\"mode\":\"immediate\",\"fromcurrent\":true,\"transition\":{\"duration\":0,\"easing\":\"linear\"}}],\"label\":\"24\",\"method\":\"animate\"},{\"args\":[[\"25\"],{\"frame\":{\"duration\":0,\"redraw\":false},\"mode\":\"immediate\",\"fromcurrent\":true,\"transition\":{\"duration\":0,\"easing\":\"linear\"}}],\"label\":\"25\",\"method\":\"animate\"},{\"args\":[[\"26\"],{\"frame\":{\"duration\":0,\"redraw\":false},\"mode\":\"immediate\",\"fromcurrent\":true,\"transition\":{\"duration\":0,\"easing\":\"linear\"}}],\"label\":\"26\",\"method\":\"animate\"},{\"args\":[[\"27\"],{\"frame\":{\"duration\":0,\"redraw\":false},\"mode\":\"immediate\",\"fromcurrent\":true,\"transition\":{\"duration\":0,\"easing\":\"linear\"}}],\"label\":\"27\",\"method\":\"animate\"},{\"args\":[[\"28\"],{\"frame\":{\"duration\":0,\"redraw\":false},\"mode\":\"immediate\",\"fromcurrent\":true,\"transition\":{\"duration\":0,\"easing\":\"linear\"}}],\"label\":\"28\",\"method\":\"animate\"},{\"args\":[[\"29\"],{\"frame\":{\"duration\":0,\"redraw\":false},\"mode\":\"immediate\",\"fromcurrent\":true,\"transition\":{\"duration\":0,\"easing\":\"linear\"}}],\"label\":\"29\",\"method\":\"animate\"},{\"args\":[[\"30\"],{\"frame\":{\"duration\":0,\"redraw\":false},\"mode\":\"immediate\",\"fromcurrent\":true,\"transition\":{\"duration\":0,\"easing\":\"linear\"}}],\"label\":\"30\",\"method\":\"animate\"},{\"args\":[[\"31\"],{\"frame\":{\"duration\":0,\"redraw\":false},\"mode\":\"immediate\",\"fromcurrent\":true,\"transition\":{\"duration\":0,\"easing\":\"linear\"}}],\"label\":\"31\",\"method\":\"animate\"},{\"args\":[[\"32\"],{\"frame\":{\"duration\":0,\"redraw\":false},\"mode\":\"immediate\",\"fromcurrent\":true,\"transition\":{\"duration\":0,\"easing\":\"linear\"}}],\"label\":\"32\",\"method\":\"animate\"},{\"args\":[[\"33\"],{\"frame\":{\"duration\":0,\"redraw\":false},\"mode\":\"immediate\",\"fromcurrent\":true,\"transition\":{\"duration\":0,\"easing\":\"linear\"}}],\"label\":\"33\",\"method\":\"animate\"},{\"args\":[[\"34\"],{\"frame\":{\"duration\":0,\"redraw\":false},\"mode\":\"immediate\",\"fromcurrent\":true,\"transition\":{\"duration\":0,\"easing\":\"linear\"}}],\"label\":\"34\",\"method\":\"animate\"},{\"args\":[[\"35\"],{\"frame\":{\"duration\":0,\"redraw\":false},\"mode\":\"immediate\",\"fromcurrent\":true,\"transition\":{\"duration\":0,\"easing\":\"linear\"}}],\"label\":\"35\",\"method\":\"animate\"},{\"args\":[[\"36\"],{\"frame\":{\"duration\":0,\"redraw\":false},\"mode\":\"immediate\",\"fromcurrent\":true,\"transition\":{\"duration\":0,\"easing\":\"linear\"}}],\"label\":\"36\",\"method\":\"animate\"},{\"args\":[[\"37\"],{\"frame\":{\"duration\":0,\"redraw\":false},\"mode\":\"immediate\",\"fromcurrent\":true,\"transition\":{\"duration\":0,\"easing\":\"linear\"}}],\"label\":\"37\",\"method\":\"animate\"},{\"args\":[[\"38\"],{\"frame\":{\"duration\":0,\"redraw\":false},\"mode\":\"immediate\",\"fromcurrent\":true,\"transition\":{\"duration\":0,\"easing\":\"linear\"}}],\"label\":\"38\",\"method\":\"animate\"}],\"x\":0.1,\"xanchor\":\"left\",\"y\":0,\"yanchor\":\"top\"}]},                        {\"responsive\": true}                    ).then(function(){\n",
       "                            Plotly.addFrames('5ffc59f0-57ef-43e5-96e1-d6db71ac2c26', [{\"data\":[{\"hovertemplate\":\"Team=Brentford<br>MatchesPlayed=1<br>MovingAverageFor=%{x}<br>MovingAverageAgainst=%{y}<extra></extra>\",\"legendgroup\":\"Brentford\",\"marker\":{\"color\":\"#636efa\",\"symbol\":\"circle\"},\"mode\":\"markers\",\"name\":\"Brentford\",\"orientation\":\"v\",\"showlegend\":true,\"x\":[null],\"xaxis\":\"x\",\"y\":[null],\"yaxis\":\"y\",\"type\":\"scatter\"},{\"hovertemplate\":\"Team=Man United<br>MatchesPlayed=1<br>MovingAverageFor=%{x}<br>MovingAverageAgainst=%{y}<extra></extra>\",\"legendgroup\":\"Man United\",\"marker\":{\"color\":\"#EF553B\",\"symbol\":\"circle\"},\"mode\":\"markers\",\"name\":\"Man United\",\"orientation\":\"v\",\"showlegend\":true,\"x\":[null],\"xaxis\":\"x\",\"y\":[null],\"yaxis\":\"y\",\"type\":\"scatter\"},{\"hovertemplate\":\"Team=Burnley<br>MatchesPlayed=1<br>MovingAverageFor=%{x}<br>MovingAverageAgainst=%{y}<extra></extra>\",\"legendgroup\":\"Burnley\",\"marker\":{\"color\":\"#00cc96\",\"symbol\":\"circle\"},\"mode\":\"markers\",\"name\":\"Burnley\",\"orientation\":\"v\",\"showlegend\":true,\"x\":[null],\"xaxis\":\"x\",\"y\":[null],\"yaxis\":\"y\",\"type\":\"scatter\"},{\"hovertemplate\":\"Team=Chelsea<br>MatchesPlayed=1<br>MovingAverageFor=%{x}<br>MovingAverageAgainst=%{y}<extra></extra>\",\"legendgroup\":\"Chelsea\",\"marker\":{\"color\":\"#ab63fa\",\"symbol\":\"circle\"},\"mode\":\"markers\",\"name\":\"Chelsea\",\"orientation\":\"v\",\"showlegend\":true,\"x\":[null],\"xaxis\":\"x\",\"y\":[null],\"yaxis\":\"y\",\"type\":\"scatter\"},{\"hovertemplate\":\"Team=Everton<br>MatchesPlayed=1<br>MovingAverageFor=%{x}<br>MovingAverageAgainst=%{y}<extra></extra>\",\"legendgroup\":\"Everton\",\"marker\":{\"color\":\"#FFA15A\",\"symbol\":\"circle\"},\"mode\":\"markers\",\"name\":\"Everton\",\"orientation\":\"v\",\"showlegend\":true,\"x\":[null],\"xaxis\":\"x\",\"y\":[null],\"yaxis\":\"y\",\"type\":\"scatter\"},{\"hovertemplate\":\"Team=Leicester<br>MatchesPlayed=1<br>MovingAverageFor=%{x}<br>MovingAverageAgainst=%{y}<extra></extra>\",\"legendgroup\":\"Leicester\",\"marker\":{\"color\":\"#19d3f3\",\"symbol\":\"circle\"},\"mode\":\"markers\",\"name\":\"Leicester\",\"orientation\":\"v\",\"showlegend\":true,\"x\":[null],\"xaxis\":\"x\",\"y\":[null],\"yaxis\":\"y\",\"type\":\"scatter\"},{\"hovertemplate\":\"Team=Watford<br>MatchesPlayed=1<br>MovingAverageFor=%{x}<br>MovingAverageAgainst=%{y}<extra></extra>\",\"legendgroup\":\"Watford\",\"marker\":{\"color\":\"#FF6692\",\"symbol\":\"circle\"},\"mode\":\"markers\",\"name\":\"Watford\",\"orientation\":\"v\",\"showlegend\":true,\"x\":[null],\"xaxis\":\"x\",\"y\":[null],\"yaxis\":\"y\",\"type\":\"scatter\"},{\"hovertemplate\":\"Team=Norwich<br>MatchesPlayed=1<br>MovingAverageFor=%{x}<br>MovingAverageAgainst=%{y}<extra></extra>\",\"legendgroup\":\"Norwich\",\"marker\":{\"color\":\"#B6E880\",\"symbol\":\"circle\"},\"mode\":\"markers\",\"name\":\"Norwich\",\"orientation\":\"v\",\"showlegend\":true,\"x\":[null],\"xaxis\":\"x\",\"y\":[null],\"yaxis\":\"y\",\"type\":\"scatter\"},{\"hovertemplate\":\"Team=Newcastle<br>MatchesPlayed=1<br>MovingAverageFor=%{x}<br>MovingAverageAgainst=%{y}<extra></extra>\",\"legendgroup\":\"Newcastle\",\"marker\":{\"color\":\"#FF97FF\",\"symbol\":\"circle\"},\"mode\":\"markers\",\"name\":\"Newcastle\",\"orientation\":\"v\",\"showlegend\":true,\"x\":[null],\"xaxis\":\"x\",\"y\":[null],\"yaxis\":\"y\",\"type\":\"scatter\"},{\"hovertemplate\":\"Team=Tottenham<br>MatchesPlayed=1<br>MovingAverageFor=%{x}<br>MovingAverageAgainst=%{y}<extra></extra>\",\"legendgroup\":\"Tottenham\",\"marker\":{\"color\":\"#FECB52\",\"symbol\":\"circle\"},\"mode\":\"markers\",\"name\":\"Tottenham\",\"orientation\":\"v\",\"showlegend\":true,\"x\":[null],\"xaxis\":\"x\",\"y\":[null],\"yaxis\":\"y\",\"type\":\"scatter\"},{\"hovertemplate\":\"Team=Liverpool<br>MatchesPlayed=1<br>MovingAverageFor=%{x}<br>MovingAverageAgainst=%{y}<extra></extra>\",\"legendgroup\":\"Liverpool\",\"marker\":{\"color\":\"#636efa\",\"symbol\":\"circle\"},\"mode\":\"markers\",\"name\":\"Liverpool\",\"orientation\":\"v\",\"showlegend\":true,\"x\":[null],\"xaxis\":\"x\",\"y\":[null],\"yaxis\":\"y\",\"type\":\"scatter\"},{\"hovertemplate\":\"Team=Aston Villa<br>MatchesPlayed=1<br>MovingAverageFor=%{x}<br>MovingAverageAgainst=%{y}<extra></extra>\",\"legendgroup\":\"Aston Villa\",\"marker\":{\"color\":\"#EF553B\",\"symbol\":\"circle\"},\"mode\":\"markers\",\"name\":\"Aston Villa\",\"orientation\":\"v\",\"showlegend\":true,\"x\":[null],\"xaxis\":\"x\",\"y\":[null],\"yaxis\":\"y\",\"type\":\"scatter\"},{\"hovertemplate\":\"Team=Crystal Palace<br>MatchesPlayed=1<br>MovingAverageFor=%{x}<br>MovingAverageAgainst=%{y}<extra></extra>\",\"legendgroup\":\"Crystal Palace\",\"marker\":{\"color\":\"#00cc96\",\"symbol\":\"circle\"},\"mode\":\"markers\",\"name\":\"Crystal Palace\",\"orientation\":\"v\",\"showlegend\":true,\"x\":[null],\"xaxis\":\"x\",\"y\":[null],\"yaxis\":\"y\",\"type\":\"scatter\"},{\"hovertemplate\":\"Team=Leeds<br>MatchesPlayed=1<br>MovingAverageFor=%{x}<br>MovingAverageAgainst=%{y}<extra></extra>\",\"legendgroup\":\"Leeds\",\"marker\":{\"color\":\"#ab63fa\",\"symbol\":\"circle\"},\"mode\":\"markers\",\"name\":\"Leeds\",\"orientation\":\"v\",\"showlegend\":true,\"x\":[null],\"xaxis\":\"x\",\"y\":[null],\"yaxis\":\"y\",\"type\":\"scatter\"},{\"hovertemplate\":\"Team=Man City<br>MatchesPlayed=1<br>MovingAverageFor=%{x}<br>MovingAverageAgainst=%{y}<extra></extra>\",\"legendgroup\":\"Man City\",\"marker\":{\"color\":\"#FFA15A\",\"symbol\":\"circle\"},\"mode\":\"markers\",\"name\":\"Man City\",\"orientation\":\"v\",\"showlegend\":true,\"x\":[null],\"xaxis\":\"x\",\"y\":[null],\"yaxis\":\"y\",\"type\":\"scatter\"},{\"hovertemplate\":\"Team=Brighton<br>MatchesPlayed=1<br>MovingAverageFor=%{x}<br>MovingAverageAgainst=%{y}<extra></extra>\",\"legendgroup\":\"Brighton\",\"marker\":{\"color\":\"#19d3f3\",\"symbol\":\"circle\"},\"mode\":\"markers\",\"name\":\"Brighton\",\"orientation\":\"v\",\"showlegend\":true,\"x\":[null],\"xaxis\":\"x\",\"y\":[null],\"yaxis\":\"y\",\"type\":\"scatter\"},{\"hovertemplate\":\"Team=Southampton<br>MatchesPlayed=1<br>MovingAverageFor=%{x}<br>MovingAverageAgainst=%{y}<extra></extra>\",\"legendgroup\":\"Southampton\",\"marker\":{\"color\":\"#FF6692\",\"symbol\":\"circle\"},\"mode\":\"markers\",\"name\":\"Southampton\",\"orientation\":\"v\",\"showlegend\":true,\"x\":[null],\"xaxis\":\"x\",\"y\":[null],\"yaxis\":\"y\",\"type\":\"scatter\"},{\"hovertemplate\":\"Team=Wolves<br>MatchesPlayed=1<br>MovingAverageFor=%{x}<br>MovingAverageAgainst=%{y}<extra></extra>\",\"legendgroup\":\"Wolves\",\"marker\":{\"color\":\"#B6E880\",\"symbol\":\"circle\"},\"mode\":\"markers\",\"name\":\"Wolves\",\"orientation\":\"v\",\"showlegend\":true,\"x\":[null],\"xaxis\":\"x\",\"y\":[null],\"yaxis\":\"y\",\"type\":\"scatter\"},{\"hovertemplate\":\"Team=Arsenal<br>MatchesPlayed=1<br>MovingAverageFor=%{x}<br>MovingAverageAgainst=%{y}<extra></extra>\",\"legendgroup\":\"Arsenal\",\"marker\":{\"color\":\"#FF97FF\",\"symbol\":\"circle\"},\"mode\":\"markers\",\"name\":\"Arsenal\",\"orientation\":\"v\",\"showlegend\":true,\"x\":[null],\"xaxis\":\"x\",\"y\":[null],\"yaxis\":\"y\",\"type\":\"scatter\"},{\"hovertemplate\":\"Team=West Ham<br>MatchesPlayed=1<br>MovingAverageFor=%{x}<br>MovingAverageAgainst=%{y}<extra></extra>\",\"legendgroup\":\"West Ham\",\"marker\":{\"color\":\"#FECB52\",\"symbol\":\"circle\"},\"mode\":\"markers\",\"name\":\"West Ham\",\"orientation\":\"v\",\"showlegend\":true,\"x\":[null],\"xaxis\":\"x\",\"y\":[null],\"yaxis\":\"y\",\"type\":\"scatter\"}],\"name\":\"1\"},{\"data\":[{\"hovertemplate\":\"Team=Brentford<br>MatchesPlayed=2<br>MovingAverageFor=%{x}<br>MovingAverageAgainst=%{y}<extra></extra>\",\"legendgroup\":\"Brentford\",\"marker\":{\"color\":\"#636efa\",\"symbol\":\"circle\"},\"mode\":\"markers\",\"name\":\"Brentford\",\"orientation\":\"v\",\"showlegend\":true,\"x\":[null],\"xaxis\":\"x\",\"y\":[null],\"yaxis\":\"y\",\"type\":\"scatter\"},{\"hovertemplate\":\"Team=Man United<br>MatchesPlayed=2<br>MovingAverageFor=%{x}<br>MovingAverageAgainst=%{y}<extra></extra>\",\"legendgroup\":\"Man United\",\"marker\":{\"color\":\"#EF553B\",\"symbol\":\"circle\"},\"mode\":\"markers\",\"name\":\"Man United\",\"orientation\":\"v\",\"showlegend\":true,\"x\":[null],\"xaxis\":\"x\",\"y\":[null],\"yaxis\":\"y\",\"type\":\"scatter\"},{\"hovertemplate\":\"Team=Burnley<br>MatchesPlayed=2<br>MovingAverageFor=%{x}<br>MovingAverageAgainst=%{y}<extra></extra>\",\"legendgroup\":\"Burnley\",\"marker\":{\"color\":\"#00cc96\",\"symbol\":\"circle\"},\"mode\":\"markers\",\"name\":\"Burnley\",\"orientation\":\"v\",\"showlegend\":true,\"x\":[null],\"xaxis\":\"x\",\"y\":[null],\"yaxis\":\"y\",\"type\":\"scatter\"},{\"hovertemplate\":\"Team=Chelsea<br>MatchesPlayed=2<br>MovingAverageFor=%{x}<br>MovingAverageAgainst=%{y}<extra></extra>\",\"legendgroup\":\"Chelsea\",\"marker\":{\"color\":\"#ab63fa\",\"symbol\":\"circle\"},\"mode\":\"markers\",\"name\":\"Chelsea\",\"orientation\":\"v\",\"showlegend\":true,\"x\":[null],\"xaxis\":\"x\",\"y\":[null],\"yaxis\":\"y\",\"type\":\"scatter\"},{\"hovertemplate\":\"Team=Everton<br>MatchesPlayed=2<br>MovingAverageFor=%{x}<br>MovingAverageAgainst=%{y}<extra></extra>\",\"legendgroup\":\"Everton\",\"marker\":{\"color\":\"#FFA15A\",\"symbol\":\"circle\"},\"mode\":\"markers\",\"name\":\"Everton\",\"orientation\":\"v\",\"showlegend\":true,\"x\":[null],\"xaxis\":\"x\",\"y\":[null],\"yaxis\":\"y\",\"type\":\"scatter\"},{\"hovertemplate\":\"Team=Leicester<br>MatchesPlayed=2<br>MovingAverageFor=%{x}<br>MovingAverageAgainst=%{y}<extra></extra>\",\"legendgroup\":\"Leicester\",\"marker\":{\"color\":\"#19d3f3\",\"symbol\":\"circle\"},\"mode\":\"markers\",\"name\":\"Leicester\",\"orientation\":\"v\",\"showlegend\":true,\"x\":[null],\"xaxis\":\"x\",\"y\":[null],\"yaxis\":\"y\",\"type\":\"scatter\"},{\"hovertemplate\":\"Team=Watford<br>MatchesPlayed=2<br>MovingAverageFor=%{x}<br>MovingAverageAgainst=%{y}<extra></extra>\",\"legendgroup\":\"Watford\",\"marker\":{\"color\":\"#FF6692\",\"symbol\":\"circle\"},\"mode\":\"markers\",\"name\":\"Watford\",\"orientation\":\"v\",\"showlegend\":true,\"x\":[null],\"xaxis\":\"x\",\"y\":[null],\"yaxis\":\"y\",\"type\":\"scatter\"},{\"hovertemplate\":\"Team=Norwich<br>MatchesPlayed=2<br>MovingAverageFor=%{x}<br>MovingAverageAgainst=%{y}<extra></extra>\",\"legendgroup\":\"Norwich\",\"marker\":{\"color\":\"#B6E880\",\"symbol\":\"circle\"},\"mode\":\"markers\",\"name\":\"Norwich\",\"orientation\":\"v\",\"showlegend\":true,\"x\":[null],\"xaxis\":\"x\",\"y\":[null],\"yaxis\":\"y\",\"type\":\"scatter\"},{\"hovertemplate\":\"Team=Newcastle<br>MatchesPlayed=2<br>MovingAverageFor=%{x}<br>MovingAverageAgainst=%{y}<extra></extra>\",\"legendgroup\":\"Newcastle\",\"marker\":{\"color\":\"#FF97FF\",\"symbol\":\"circle\"},\"mode\":\"markers\",\"name\":\"Newcastle\",\"orientation\":\"v\",\"showlegend\":true,\"x\":[null],\"xaxis\":\"x\",\"y\":[null],\"yaxis\":\"y\",\"type\":\"scatter\"},{\"hovertemplate\":\"Team=Tottenham<br>MatchesPlayed=2<br>MovingAverageFor=%{x}<br>MovingAverageAgainst=%{y}<extra></extra>\",\"legendgroup\":\"Tottenham\",\"marker\":{\"color\":\"#FECB52\",\"symbol\":\"circle\"},\"mode\":\"markers\",\"name\":\"Tottenham\",\"orientation\":\"v\",\"showlegend\":true,\"x\":[null],\"xaxis\":\"x\",\"y\":[null],\"yaxis\":\"y\",\"type\":\"scatter\"},{\"hovertemplate\":\"Team=Liverpool<br>MatchesPlayed=2<br>MovingAverageFor=%{x}<br>MovingAverageAgainst=%{y}<extra></extra>\",\"legendgroup\":\"Liverpool\",\"marker\":{\"color\":\"#636efa\",\"symbol\":\"circle\"},\"mode\":\"markers\",\"name\":\"Liverpool\",\"orientation\":\"v\",\"showlegend\":true,\"x\":[null],\"xaxis\":\"x\",\"y\":[null],\"yaxis\":\"y\",\"type\":\"scatter\"},{\"hovertemplate\":\"Team=Aston Villa<br>MatchesPlayed=2<br>MovingAverageFor=%{x}<br>MovingAverageAgainst=%{y}<extra></extra>\",\"legendgroup\":\"Aston Villa\",\"marker\":{\"color\":\"#EF553B\",\"symbol\":\"circle\"},\"mode\":\"markers\",\"name\":\"Aston Villa\",\"orientation\":\"v\",\"showlegend\":true,\"x\":[null],\"xaxis\":\"x\",\"y\":[null],\"yaxis\":\"y\",\"type\":\"scatter\"},{\"hovertemplate\":\"Team=Crystal Palace<br>MatchesPlayed=2<br>MovingAverageFor=%{x}<br>MovingAverageAgainst=%{y}<extra></extra>\",\"legendgroup\":\"Crystal Palace\",\"marker\":{\"color\":\"#00cc96\",\"symbol\":\"circle\"},\"mode\":\"markers\",\"name\":\"Crystal Palace\",\"orientation\":\"v\",\"showlegend\":true,\"x\":[null],\"xaxis\":\"x\",\"y\":[null],\"yaxis\":\"y\",\"type\":\"scatter\"},{\"hovertemplate\":\"Team=Leeds<br>MatchesPlayed=2<br>MovingAverageFor=%{x}<br>MovingAverageAgainst=%{y}<extra></extra>\",\"legendgroup\":\"Leeds\",\"marker\":{\"color\":\"#ab63fa\",\"symbol\":\"circle\"},\"mode\":\"markers\",\"name\":\"Leeds\",\"orientation\":\"v\",\"showlegend\":true,\"x\":[null],\"xaxis\":\"x\",\"y\":[null],\"yaxis\":\"y\",\"type\":\"scatter\"},{\"hovertemplate\":\"Team=Man City<br>MatchesPlayed=2<br>MovingAverageFor=%{x}<br>MovingAverageAgainst=%{y}<extra></extra>\",\"legendgroup\":\"Man City\",\"marker\":{\"color\":\"#FFA15A\",\"symbol\":\"circle\"},\"mode\":\"markers\",\"name\":\"Man City\",\"orientation\":\"v\",\"showlegend\":true,\"x\":[null],\"xaxis\":\"x\",\"y\":[null],\"yaxis\":\"y\",\"type\":\"scatter\"},{\"hovertemplate\":\"Team=Brighton<br>MatchesPlayed=2<br>MovingAverageFor=%{x}<br>MovingAverageAgainst=%{y}<extra></extra>\",\"legendgroup\":\"Brighton\",\"marker\":{\"color\":\"#19d3f3\",\"symbol\":\"circle\"},\"mode\":\"markers\",\"name\":\"Brighton\",\"orientation\":\"v\",\"showlegend\":true,\"x\":[null],\"xaxis\":\"x\",\"y\":[null],\"yaxis\":\"y\",\"type\":\"scatter\"},{\"hovertemplate\":\"Team=Southampton<br>MatchesPlayed=2<br>MovingAverageFor=%{x}<br>MovingAverageAgainst=%{y}<extra></extra>\",\"legendgroup\":\"Southampton\",\"marker\":{\"color\":\"#FF6692\",\"symbol\":\"circle\"},\"mode\":\"markers\",\"name\":\"Southampton\",\"orientation\":\"v\",\"showlegend\":true,\"x\":[null],\"xaxis\":\"x\",\"y\":[null],\"yaxis\":\"y\",\"type\":\"scatter\"},{\"hovertemplate\":\"Team=Wolves<br>MatchesPlayed=2<br>MovingAverageFor=%{x}<br>MovingAverageAgainst=%{y}<extra></extra>\",\"legendgroup\":\"Wolves\",\"marker\":{\"color\":\"#B6E880\",\"symbol\":\"circle\"},\"mode\":\"markers\",\"name\":\"Wolves\",\"orientation\":\"v\",\"showlegend\":true,\"x\":[null],\"xaxis\":\"x\",\"y\":[null],\"yaxis\":\"y\",\"type\":\"scatter\"},{\"hovertemplate\":\"Team=Arsenal<br>MatchesPlayed=2<br>MovingAverageFor=%{x}<br>MovingAverageAgainst=%{y}<extra></extra>\",\"legendgroup\":\"Arsenal\",\"marker\":{\"color\":\"#FF97FF\",\"symbol\":\"circle\"},\"mode\":\"markers\",\"name\":\"Arsenal\",\"orientation\":\"v\",\"showlegend\":true,\"x\":[null],\"xaxis\":\"x\",\"y\":[null],\"yaxis\":\"y\",\"type\":\"scatter\"},{\"hovertemplate\":\"Team=West Ham<br>MatchesPlayed=2<br>MovingAverageFor=%{x}<br>MovingAverageAgainst=%{y}<extra></extra>\",\"legendgroup\":\"West Ham\",\"marker\":{\"color\":\"#FECB52\",\"symbol\":\"circle\"},\"mode\":\"markers\",\"name\":\"West Ham\",\"orientation\":\"v\",\"showlegend\":true,\"x\":[null],\"xaxis\":\"x\",\"y\":[null],\"yaxis\":\"y\",\"type\":\"scatter\"}],\"name\":\"2\"},{\"data\":[{\"hovertemplate\":\"Team=Brentford<br>MatchesPlayed=3<br>MovingAverageFor=%{x}<br>MovingAverageAgainst=%{y}<extra></extra>\",\"legendgroup\":\"Brentford\",\"marker\":{\"color\":\"#636efa\",\"symbol\":\"circle\"},\"mode\":\"markers\",\"name\":\"Brentford\",\"orientation\":\"v\",\"showlegend\":true,\"x\":[null],\"xaxis\":\"x\",\"y\":[null],\"yaxis\":\"y\",\"type\":\"scatter\"},{\"hovertemplate\":\"Team=Man United<br>MatchesPlayed=3<br>MovingAverageFor=%{x}<br>MovingAverageAgainst=%{y}<extra></extra>\",\"legendgroup\":\"Man United\",\"marker\":{\"color\":\"#EF553B\",\"symbol\":\"circle\"},\"mode\":\"markers\",\"name\":\"Man United\",\"orientation\":\"v\",\"showlegend\":true,\"x\":[null],\"xaxis\":\"x\",\"y\":[null],\"yaxis\":\"y\",\"type\":\"scatter\"},{\"hovertemplate\":\"Team=Burnley<br>MatchesPlayed=3<br>MovingAverageFor=%{x}<br>MovingAverageAgainst=%{y}<extra></extra>\",\"legendgroup\":\"Burnley\",\"marker\":{\"color\":\"#00cc96\",\"symbol\":\"circle\"},\"mode\":\"markers\",\"name\":\"Burnley\",\"orientation\":\"v\",\"showlegend\":true,\"x\":[null],\"xaxis\":\"x\",\"y\":[null],\"yaxis\":\"y\",\"type\":\"scatter\"},{\"hovertemplate\":\"Team=Chelsea<br>MatchesPlayed=3<br>MovingAverageFor=%{x}<br>MovingAverageAgainst=%{y}<extra></extra>\",\"legendgroup\":\"Chelsea\",\"marker\":{\"color\":\"#ab63fa\",\"symbol\":\"circle\"},\"mode\":\"markers\",\"name\":\"Chelsea\",\"orientation\":\"v\",\"showlegend\":true,\"x\":[null],\"xaxis\":\"x\",\"y\":[null],\"yaxis\":\"y\",\"type\":\"scatter\"},{\"hovertemplate\":\"Team=Everton<br>MatchesPlayed=3<br>MovingAverageFor=%{x}<br>MovingAverageAgainst=%{y}<extra></extra>\",\"legendgroup\":\"Everton\",\"marker\":{\"color\":\"#FFA15A\",\"symbol\":\"circle\"},\"mode\":\"markers\",\"name\":\"Everton\",\"orientation\":\"v\",\"showlegend\":true,\"x\":[null],\"xaxis\":\"x\",\"y\":[null],\"yaxis\":\"y\",\"type\":\"scatter\"},{\"hovertemplate\":\"Team=Leicester<br>MatchesPlayed=3<br>MovingAverageFor=%{x}<br>MovingAverageAgainst=%{y}<extra></extra>\",\"legendgroup\":\"Leicester\",\"marker\":{\"color\":\"#19d3f3\",\"symbol\":\"circle\"},\"mode\":\"markers\",\"name\":\"Leicester\",\"orientation\":\"v\",\"showlegend\":true,\"x\":[null],\"xaxis\":\"x\",\"y\":[null],\"yaxis\":\"y\",\"type\":\"scatter\"},{\"hovertemplate\":\"Team=Watford<br>MatchesPlayed=3<br>MovingAverageFor=%{x}<br>MovingAverageAgainst=%{y}<extra></extra>\",\"legendgroup\":\"Watford\",\"marker\":{\"color\":\"#FF6692\",\"symbol\":\"circle\"},\"mode\":\"markers\",\"name\":\"Watford\",\"orientation\":\"v\",\"showlegend\":true,\"x\":[null],\"xaxis\":\"x\",\"y\":[null],\"yaxis\":\"y\",\"type\":\"scatter\"},{\"hovertemplate\":\"Team=Norwich<br>MatchesPlayed=3<br>MovingAverageFor=%{x}<br>MovingAverageAgainst=%{y}<extra></extra>\",\"legendgroup\":\"Norwich\",\"marker\":{\"color\":\"#B6E880\",\"symbol\":\"circle\"},\"mode\":\"markers\",\"name\":\"Norwich\",\"orientation\":\"v\",\"showlegend\":true,\"x\":[null],\"xaxis\":\"x\",\"y\":[null],\"yaxis\":\"y\",\"type\":\"scatter\"},{\"hovertemplate\":\"Team=Newcastle<br>MatchesPlayed=3<br>MovingAverageFor=%{x}<br>MovingAverageAgainst=%{y}<extra></extra>\",\"legendgroup\":\"Newcastle\",\"marker\":{\"color\":\"#FF97FF\",\"symbol\":\"circle\"},\"mode\":\"markers\",\"name\":\"Newcastle\",\"orientation\":\"v\",\"showlegend\":true,\"x\":[null],\"xaxis\":\"x\",\"y\":[null],\"yaxis\":\"y\",\"type\":\"scatter\"},{\"hovertemplate\":\"Team=Tottenham<br>MatchesPlayed=3<br>MovingAverageFor=%{x}<br>MovingAverageAgainst=%{y}<extra></extra>\",\"legendgroup\":\"Tottenham\",\"marker\":{\"color\":\"#FECB52\",\"symbol\":\"circle\"},\"mode\":\"markers\",\"name\":\"Tottenham\",\"orientation\":\"v\",\"showlegend\":true,\"x\":[null],\"xaxis\":\"x\",\"y\":[null],\"yaxis\":\"y\",\"type\":\"scatter\"},{\"hovertemplate\":\"Team=Liverpool<br>MatchesPlayed=3<br>MovingAverageFor=%{x}<br>MovingAverageAgainst=%{y}<extra></extra>\",\"legendgroup\":\"Liverpool\",\"marker\":{\"color\":\"#636efa\",\"symbol\":\"circle\"},\"mode\":\"markers\",\"name\":\"Liverpool\",\"orientation\":\"v\",\"showlegend\":true,\"x\":[null],\"xaxis\":\"x\",\"y\":[null],\"yaxis\":\"y\",\"type\":\"scatter\"},{\"hovertemplate\":\"Team=Aston Villa<br>MatchesPlayed=3<br>MovingAverageFor=%{x}<br>MovingAverageAgainst=%{y}<extra></extra>\",\"legendgroup\":\"Aston Villa\",\"marker\":{\"color\":\"#EF553B\",\"symbol\":\"circle\"},\"mode\":\"markers\",\"name\":\"Aston Villa\",\"orientation\":\"v\",\"showlegend\":true,\"x\":[null],\"xaxis\":\"x\",\"y\":[null],\"yaxis\":\"y\",\"type\":\"scatter\"},{\"hovertemplate\":\"Team=Crystal Palace<br>MatchesPlayed=3<br>MovingAverageFor=%{x}<br>MovingAverageAgainst=%{y}<extra></extra>\",\"legendgroup\":\"Crystal Palace\",\"marker\":{\"color\":\"#00cc96\",\"symbol\":\"circle\"},\"mode\":\"markers\",\"name\":\"Crystal Palace\",\"orientation\":\"v\",\"showlegend\":true,\"x\":[null],\"xaxis\":\"x\",\"y\":[null],\"yaxis\":\"y\",\"type\":\"scatter\"},{\"hovertemplate\":\"Team=Leeds<br>MatchesPlayed=3<br>MovingAverageFor=%{x}<br>MovingAverageAgainst=%{y}<extra></extra>\",\"legendgroup\":\"Leeds\",\"marker\":{\"color\":\"#ab63fa\",\"symbol\":\"circle\"},\"mode\":\"markers\",\"name\":\"Leeds\",\"orientation\":\"v\",\"showlegend\":true,\"x\":[null],\"xaxis\":\"x\",\"y\":[null],\"yaxis\":\"y\",\"type\":\"scatter\"},{\"hovertemplate\":\"Team=Man City<br>MatchesPlayed=3<br>MovingAverageFor=%{x}<br>MovingAverageAgainst=%{y}<extra></extra>\",\"legendgroup\":\"Man City\",\"marker\":{\"color\":\"#FFA15A\",\"symbol\":\"circle\"},\"mode\":\"markers\",\"name\":\"Man City\",\"orientation\":\"v\",\"showlegend\":true,\"x\":[null],\"xaxis\":\"x\",\"y\":[null],\"yaxis\":\"y\",\"type\":\"scatter\"},{\"hovertemplate\":\"Team=Brighton<br>MatchesPlayed=3<br>MovingAverageFor=%{x}<br>MovingAverageAgainst=%{y}<extra></extra>\",\"legendgroup\":\"Brighton\",\"marker\":{\"color\":\"#19d3f3\",\"symbol\":\"circle\"},\"mode\":\"markers\",\"name\":\"Brighton\",\"orientation\":\"v\",\"showlegend\":true,\"x\":[null],\"xaxis\":\"x\",\"y\":[null],\"yaxis\":\"y\",\"type\":\"scatter\"},{\"hovertemplate\":\"Team=Southampton<br>MatchesPlayed=3<br>MovingAverageFor=%{x}<br>MovingAverageAgainst=%{y}<extra></extra>\",\"legendgroup\":\"Southampton\",\"marker\":{\"color\":\"#FF6692\",\"symbol\":\"circle\"},\"mode\":\"markers\",\"name\":\"Southampton\",\"orientation\":\"v\",\"showlegend\":true,\"x\":[null],\"xaxis\":\"x\",\"y\":[null],\"yaxis\":\"y\",\"type\":\"scatter\"},{\"hovertemplate\":\"Team=Wolves<br>MatchesPlayed=3<br>MovingAverageFor=%{x}<br>MovingAverageAgainst=%{y}<extra></extra>\",\"legendgroup\":\"Wolves\",\"marker\":{\"color\":\"#B6E880\",\"symbol\":\"circle\"},\"mode\":\"markers\",\"name\":\"Wolves\",\"orientation\":\"v\",\"showlegend\":true,\"x\":[null],\"xaxis\":\"x\",\"y\":[null],\"yaxis\":\"y\",\"type\":\"scatter\"},{\"hovertemplate\":\"Team=Arsenal<br>MatchesPlayed=3<br>MovingAverageFor=%{x}<br>MovingAverageAgainst=%{y}<extra></extra>\",\"legendgroup\":\"Arsenal\",\"marker\":{\"color\":\"#FF97FF\",\"symbol\":\"circle\"},\"mode\":\"markers\",\"name\":\"Arsenal\",\"orientation\":\"v\",\"showlegend\":true,\"x\":[null],\"xaxis\":\"x\",\"y\":[null],\"yaxis\":\"y\",\"type\":\"scatter\"},{\"hovertemplate\":\"Team=West Ham<br>MatchesPlayed=3<br>MovingAverageFor=%{x}<br>MovingAverageAgainst=%{y}<extra></extra>\",\"legendgroup\":\"West Ham\",\"marker\":{\"color\":\"#FECB52\",\"symbol\":\"circle\"},\"mode\":\"markers\",\"name\":\"West Ham\",\"orientation\":\"v\",\"showlegend\":true,\"x\":[null],\"xaxis\":\"x\",\"y\":[null],\"yaxis\":\"y\",\"type\":\"scatter\"}],\"name\":\"3\"},{\"data\":[{\"hovertemplate\":\"Team=Brentford<br>MatchesPlayed=4<br>MovingAverageFor=%{x}<br>MovingAverageAgainst=%{y}<extra></extra>\",\"legendgroup\":\"Brentford\",\"marker\":{\"color\":\"#636efa\",\"symbol\":\"circle\"},\"mode\":\"markers\",\"name\":\"Brentford\",\"orientation\":\"v\",\"showlegend\":true,\"x\":[null],\"xaxis\":\"x\",\"y\":[null],\"yaxis\":\"y\",\"type\":\"scatter\"},{\"hovertemplate\":\"Team=Man United<br>MatchesPlayed=4<br>MovingAverageFor=%{x}<br>MovingAverageAgainst=%{y}<extra></extra>\",\"legendgroup\":\"Man United\",\"marker\":{\"color\":\"#EF553B\",\"symbol\":\"circle\"},\"mode\":\"markers\",\"name\":\"Man United\",\"orientation\":\"v\",\"showlegend\":true,\"x\":[null],\"xaxis\":\"x\",\"y\":[null],\"yaxis\":\"y\",\"type\":\"scatter\"},{\"hovertemplate\":\"Team=Burnley<br>MatchesPlayed=4<br>MovingAverageFor=%{x}<br>MovingAverageAgainst=%{y}<extra></extra>\",\"legendgroup\":\"Burnley\",\"marker\":{\"color\":\"#00cc96\",\"symbol\":\"circle\"},\"mode\":\"markers\",\"name\":\"Burnley\",\"orientation\":\"v\",\"showlegend\":true,\"x\":[null],\"xaxis\":\"x\",\"y\":[null],\"yaxis\":\"y\",\"type\":\"scatter\"},{\"hovertemplate\":\"Team=Chelsea<br>MatchesPlayed=4<br>MovingAverageFor=%{x}<br>MovingAverageAgainst=%{y}<extra></extra>\",\"legendgroup\":\"Chelsea\",\"marker\":{\"color\":\"#ab63fa\",\"symbol\":\"circle\"},\"mode\":\"markers\",\"name\":\"Chelsea\",\"orientation\":\"v\",\"showlegend\":true,\"x\":[null],\"xaxis\":\"x\",\"y\":[null],\"yaxis\":\"y\",\"type\":\"scatter\"},{\"hovertemplate\":\"Team=Everton<br>MatchesPlayed=4<br>MovingAverageFor=%{x}<br>MovingAverageAgainst=%{y}<extra></extra>\",\"legendgroup\":\"Everton\",\"marker\":{\"color\":\"#FFA15A\",\"symbol\":\"circle\"},\"mode\":\"markers\",\"name\":\"Everton\",\"orientation\":\"v\",\"showlegend\":true,\"x\":[null],\"xaxis\":\"x\",\"y\":[null],\"yaxis\":\"y\",\"type\":\"scatter\"},{\"hovertemplate\":\"Team=Leicester<br>MatchesPlayed=4<br>MovingAverageFor=%{x}<br>MovingAverageAgainst=%{y}<extra></extra>\",\"legendgroup\":\"Leicester\",\"marker\":{\"color\":\"#19d3f3\",\"symbol\":\"circle\"},\"mode\":\"markers\",\"name\":\"Leicester\",\"orientation\":\"v\",\"showlegend\":true,\"x\":[null],\"xaxis\":\"x\",\"y\":[null],\"yaxis\":\"y\",\"type\":\"scatter\"},{\"hovertemplate\":\"Team=Watford<br>MatchesPlayed=4<br>MovingAverageFor=%{x}<br>MovingAverageAgainst=%{y}<extra></extra>\",\"legendgroup\":\"Watford\",\"marker\":{\"color\":\"#FF6692\",\"symbol\":\"circle\"},\"mode\":\"markers\",\"name\":\"Watford\",\"orientation\":\"v\",\"showlegend\":true,\"x\":[null],\"xaxis\":\"x\",\"y\":[null],\"yaxis\":\"y\",\"type\":\"scatter\"},{\"hovertemplate\":\"Team=Norwich<br>MatchesPlayed=4<br>MovingAverageFor=%{x}<br>MovingAverageAgainst=%{y}<extra></extra>\",\"legendgroup\":\"Norwich\",\"marker\":{\"color\":\"#B6E880\",\"symbol\":\"circle\"},\"mode\":\"markers\",\"name\":\"Norwich\",\"orientation\":\"v\",\"showlegend\":true,\"x\":[null],\"xaxis\":\"x\",\"y\":[null],\"yaxis\":\"y\",\"type\":\"scatter\"},{\"hovertemplate\":\"Team=Newcastle<br>MatchesPlayed=4<br>MovingAverageFor=%{x}<br>MovingAverageAgainst=%{y}<extra></extra>\",\"legendgroup\":\"Newcastle\",\"marker\":{\"color\":\"#FF97FF\",\"symbol\":\"circle\"},\"mode\":\"markers\",\"name\":\"Newcastle\",\"orientation\":\"v\",\"showlegend\":true,\"x\":[null],\"xaxis\":\"x\",\"y\":[null],\"yaxis\":\"y\",\"type\":\"scatter\"},{\"hovertemplate\":\"Team=Tottenham<br>MatchesPlayed=4<br>MovingAverageFor=%{x}<br>MovingAverageAgainst=%{y}<extra></extra>\",\"legendgroup\":\"Tottenham\",\"marker\":{\"color\":\"#FECB52\",\"symbol\":\"circle\"},\"mode\":\"markers\",\"name\":\"Tottenham\",\"orientation\":\"v\",\"showlegend\":true,\"x\":[null],\"xaxis\":\"x\",\"y\":[null],\"yaxis\":\"y\",\"type\":\"scatter\"},{\"hovertemplate\":\"Team=Liverpool<br>MatchesPlayed=4<br>MovingAverageFor=%{x}<br>MovingAverageAgainst=%{y}<extra></extra>\",\"legendgroup\":\"Liverpool\",\"marker\":{\"color\":\"#636efa\",\"symbol\":\"circle\"},\"mode\":\"markers\",\"name\":\"Liverpool\",\"orientation\":\"v\",\"showlegend\":true,\"x\":[null],\"xaxis\":\"x\",\"y\":[null],\"yaxis\":\"y\",\"type\":\"scatter\"},{\"hovertemplate\":\"Team=Aston Villa<br>MatchesPlayed=4<br>MovingAverageFor=%{x}<br>MovingAverageAgainst=%{y}<extra></extra>\",\"legendgroup\":\"Aston Villa\",\"marker\":{\"color\":\"#EF553B\",\"symbol\":\"circle\"},\"mode\":\"markers\",\"name\":\"Aston Villa\",\"orientation\":\"v\",\"showlegend\":true,\"x\":[null],\"xaxis\":\"x\",\"y\":[null],\"yaxis\":\"y\",\"type\":\"scatter\"},{\"hovertemplate\":\"Team=Crystal Palace<br>MatchesPlayed=4<br>MovingAverageFor=%{x}<br>MovingAverageAgainst=%{y}<extra></extra>\",\"legendgroup\":\"Crystal Palace\",\"marker\":{\"color\":\"#00cc96\",\"symbol\":\"circle\"},\"mode\":\"markers\",\"name\":\"Crystal Palace\",\"orientation\":\"v\",\"showlegend\":true,\"x\":[null],\"xaxis\":\"x\",\"y\":[null],\"yaxis\":\"y\",\"type\":\"scatter\"},{\"hovertemplate\":\"Team=Leeds<br>MatchesPlayed=4<br>MovingAverageFor=%{x}<br>MovingAverageAgainst=%{y}<extra></extra>\",\"legendgroup\":\"Leeds\",\"marker\":{\"color\":\"#ab63fa\",\"symbol\":\"circle\"},\"mode\":\"markers\",\"name\":\"Leeds\",\"orientation\":\"v\",\"showlegend\":true,\"x\":[null],\"xaxis\":\"x\",\"y\":[null],\"yaxis\":\"y\",\"type\":\"scatter\"},{\"hovertemplate\":\"Team=Man City<br>MatchesPlayed=4<br>MovingAverageFor=%{x}<br>MovingAverageAgainst=%{y}<extra></extra>\",\"legendgroup\":\"Man City\",\"marker\":{\"color\":\"#FFA15A\",\"symbol\":\"circle\"},\"mode\":\"markers\",\"name\":\"Man City\",\"orientation\":\"v\",\"showlegend\":true,\"x\":[null],\"xaxis\":\"x\",\"y\":[null],\"yaxis\":\"y\",\"type\":\"scatter\"},{\"hovertemplate\":\"Team=Brighton<br>MatchesPlayed=4<br>MovingAverageFor=%{x}<br>MovingAverageAgainst=%{y}<extra></extra>\",\"legendgroup\":\"Brighton\",\"marker\":{\"color\":\"#19d3f3\",\"symbol\":\"circle\"},\"mode\":\"markers\",\"name\":\"Brighton\",\"orientation\":\"v\",\"showlegend\":true,\"x\":[null],\"xaxis\":\"x\",\"y\":[null],\"yaxis\":\"y\",\"type\":\"scatter\"},{\"hovertemplate\":\"Team=Southampton<br>MatchesPlayed=4<br>MovingAverageFor=%{x}<br>MovingAverageAgainst=%{y}<extra></extra>\",\"legendgroup\":\"Southampton\",\"marker\":{\"color\":\"#FF6692\",\"symbol\":\"circle\"},\"mode\":\"markers\",\"name\":\"Southampton\",\"orientation\":\"v\",\"showlegend\":true,\"x\":[null],\"xaxis\":\"x\",\"y\":[null],\"yaxis\":\"y\",\"type\":\"scatter\"},{\"hovertemplate\":\"Team=Wolves<br>MatchesPlayed=4<br>MovingAverageFor=%{x}<br>MovingAverageAgainst=%{y}<extra></extra>\",\"legendgroup\":\"Wolves\",\"marker\":{\"color\":\"#B6E880\",\"symbol\":\"circle\"},\"mode\":\"markers\",\"name\":\"Wolves\",\"orientation\":\"v\",\"showlegend\":true,\"x\":[null],\"xaxis\":\"x\",\"y\":[null],\"yaxis\":\"y\",\"type\":\"scatter\"},{\"hovertemplate\":\"Team=Arsenal<br>MatchesPlayed=4<br>MovingAverageFor=%{x}<br>MovingAverageAgainst=%{y}<extra></extra>\",\"legendgroup\":\"Arsenal\",\"marker\":{\"color\":\"#FF97FF\",\"symbol\":\"circle\"},\"mode\":\"markers\",\"name\":\"Arsenal\",\"orientation\":\"v\",\"showlegend\":true,\"x\":[null],\"xaxis\":\"x\",\"y\":[null],\"yaxis\":\"y\",\"type\":\"scatter\"},{\"hovertemplate\":\"Team=West Ham<br>MatchesPlayed=4<br>MovingAverageFor=%{x}<br>MovingAverageAgainst=%{y}<extra></extra>\",\"legendgroup\":\"West Ham\",\"marker\":{\"color\":\"#FECB52\",\"symbol\":\"circle\"},\"mode\":\"markers\",\"name\":\"West Ham\",\"orientation\":\"v\",\"showlegend\":true,\"x\":[null],\"xaxis\":\"x\",\"y\":[null],\"yaxis\":\"y\",\"type\":\"scatter\"}],\"name\":\"4\"},{\"data\":[{\"hovertemplate\":\"Team=Brentford<br>MatchesPlayed=5<br>MovingAverageFor=%{x}<br>MovingAverageAgainst=%{y}<extra></extra>\",\"legendgroup\":\"Brentford\",\"marker\":{\"color\":\"#636efa\",\"symbol\":\"circle\"},\"mode\":\"markers\",\"name\":\"Brentford\",\"orientation\":\"v\",\"showlegend\":true,\"x\":[1.2],\"xaxis\":\"x\",\"y\":[1.4],\"yaxis\":\"y\",\"type\":\"scatter\"},{\"hovertemplate\":\"Team=Man United<br>MatchesPlayed=5<br>MovingAverageFor=%{x}<br>MovingAverageAgainst=%{y}<extra></extra>\",\"legendgroup\":\"Man United\",\"marker\":{\"color\":\"#EF553B\",\"symbol\":\"circle\"},\"mode\":\"markers\",\"name\":\"Man United\",\"orientation\":\"v\",\"showlegend\":true,\"x\":[2.0],\"xaxis\":\"x\",\"y\":[1.8],\"yaxis\":\"y\",\"type\":\"scatter\"},{\"hovertemplate\":\"Team=Burnley<br>MatchesPlayed=5<br>MovingAverageFor=%{x}<br>MovingAverageAgainst=%{y}<extra></extra>\",\"legendgroup\":\"Burnley\",\"marker\":{\"color\":\"#00cc96\",\"symbol\":\"circle\"},\"mode\":\"markers\",\"name\":\"Burnley\",\"orientation\":\"v\",\"showlegend\":true,\"x\":[1.0],\"xaxis\":\"x\",\"y\":[1.0],\"yaxis\":\"y\",\"type\":\"scatter\"},{\"hovertemplate\":\"Team=Chelsea<br>MatchesPlayed=5<br>MovingAverageFor=%{x}<br>MovingAverageAgainst=%{y}<extra></extra>\",\"legendgroup\":\"Chelsea\",\"marker\":{\"color\":\"#ab63fa\",\"symbol\":\"circle\"},\"mode\":\"markers\",\"name\":\"Chelsea\",\"orientation\":\"v\",\"showlegend\":true,\"x\":[3.2],\"xaxis\":\"x\",\"y\":[0.4],\"yaxis\":\"y\",\"type\":\"scatter\"},{\"hovertemplate\":\"Team=Everton<br>MatchesPlayed=5<br>MovingAverageFor=%{x}<br>MovingAverageAgainst=%{y}<extra></extra>\",\"legendgroup\":\"Everton\",\"marker\":{\"color\":\"#FFA15A\",\"symbol\":\"circle\"},\"mode\":\"markers\",\"name\":\"Everton\",\"orientation\":\"v\",\"showlegend\":true,\"x\":[2.0],\"xaxis\":\"x\",\"y\":[1.6],\"yaxis\":\"y\",\"type\":\"scatter\"},{\"hovertemplate\":\"Team=Leicester<br>MatchesPlayed=5<br>MovingAverageFor=%{x}<br>MovingAverageAgainst=%{y}<extra></extra>\",\"legendgroup\":\"Leicester\",\"marker\":{\"color\":\"#19d3f3\",\"symbol\":\"circle\"},\"mode\":\"markers\",\"name\":\"Leicester\",\"orientation\":\"v\",\"showlegend\":true,\"x\":[1.4],\"xaxis\":\"x\",\"y\":[1.4],\"yaxis\":\"y\",\"type\":\"scatter\"},{\"hovertemplate\":\"Team=Watford<br>MatchesPlayed=5<br>MovingAverageFor=%{x}<br>MovingAverageAgainst=%{y}<extra></extra>\",\"legendgroup\":\"Watford\",\"marker\":{\"color\":\"#FF6692\",\"symbol\":\"circle\"},\"mode\":\"markers\",\"name\":\"Watford\",\"orientation\":\"v\",\"showlegend\":true,\"x\":[0.8],\"xaxis\":\"x\",\"y\":[2.2],\"yaxis\":\"y\",\"type\":\"scatter\"},{\"hovertemplate\":\"Team=Norwich<br>MatchesPlayed=5<br>MovingAverageFor=%{x}<br>MovingAverageAgainst=%{y}<extra></extra>\",\"legendgroup\":\"Norwich\",\"marker\":{\"color\":\"#B6E880\",\"symbol\":\"circle\"},\"mode\":\"markers\",\"name\":\"Norwich\",\"orientation\":\"v\",\"showlegend\":true,\"x\":[0.6],\"xaxis\":\"x\",\"y\":[2.0],\"yaxis\":\"y\",\"type\":\"scatter\"},{\"hovertemplate\":\"Team=Newcastle<br>MatchesPlayed=5<br>MovingAverageFor=%{x}<br>MovingAverageAgainst=%{y}<extra></extra>\",\"legendgroup\":\"Newcastle\",\"marker\":{\"color\":\"#FF97FF\",\"symbol\":\"circle\"},\"mode\":\"markers\",\"name\":\"Newcastle\",\"orientation\":\"v\",\"showlegend\":true,\"x\":[1.4],\"xaxis\":\"x\",\"y\":[2.6],\"yaxis\":\"y\",\"type\":\"scatter\"},{\"hovertemplate\":\"Team=Tottenham<br>MatchesPlayed=5<br>MovingAverageFor=%{x}<br>MovingAverageAgainst=%{y}<extra></extra>\",\"legendgroup\":\"Tottenham\",\"marker\":{\"color\":\"#FECB52\",\"symbol\":\"circle\"},\"mode\":\"markers\",\"name\":\"Tottenham\",\"orientation\":\"v\",\"showlegend\":true,\"x\":[0.8],\"xaxis\":\"x\",\"y\":[1.4],\"yaxis\":\"y\",\"type\":\"scatter\"},{\"hovertemplate\":\"Team=Liverpool<br>MatchesPlayed=5<br>MovingAverageFor=%{x}<br>MovingAverageAgainst=%{y}<extra></extra>\",\"legendgroup\":\"Liverpool\",\"marker\":{\"color\":\"#636efa\",\"symbol\":\"circle\"},\"mode\":\"markers\",\"name\":\"Liverpool\",\"orientation\":\"v\",\"showlegend\":true,\"x\":[2.0],\"xaxis\":\"x\",\"y\":[1.0],\"yaxis\":\"y\",\"type\":\"scatter\"},{\"hovertemplate\":\"Team=Aston Villa<br>MatchesPlayed=5<br>MovingAverageFor=%{x}<br>MovingAverageAgainst=%{y}<extra></extra>\",\"legendgroup\":\"Aston Villa\",\"marker\":{\"color\":\"#EF553B\",\"symbol\":\"circle\"},\"mode\":\"markers\",\"name\":\"Aston Villa\",\"orientation\":\"v\",\"showlegend\":true,\"x\":[1.8],\"xaxis\":\"x\",\"y\":[1.6],\"yaxis\":\"y\",\"type\":\"scatter\"},{\"hovertemplate\":\"Team=Crystal Palace<br>MatchesPlayed=5<br>MovingAverageFor=%{x}<br>MovingAverageAgainst=%{y}<extra></extra>\",\"legendgroup\":\"Crystal Palace\",\"marker\":{\"color\":\"#00cc96\",\"symbol\":\"circle\"},\"mode\":\"markers\",\"name\":\"Crystal Palace\",\"orientation\":\"v\",\"showlegend\":true,\"x\":[1.4],\"xaxis\":\"x\",\"y\":[0.8],\"yaxis\":\"y\",\"type\":\"scatter\"},{\"hovertemplate\":\"Team=Leeds<br>MatchesPlayed=5<br>MovingAverageFor=%{x}<br>MovingAverageAgainst=%{y}<extra></extra>\",\"legendgroup\":\"Leeds\",\"marker\":{\"color\":\"#ab63fa\",\"symbol\":\"circle\"},\"mode\":\"markers\",\"name\":\"Leeds\",\"orientation\":\"v\",\"showlegend\":true,\"x\":[1.0],\"xaxis\":\"x\",\"y\":[1.6],\"yaxis\":\"y\",\"type\":\"scatter\"},{\"hovertemplate\":\"Team=Man City<br>MatchesPlayed=5<br>MovingAverageFor=%{x}<br>MovingAverageAgainst=%{y}<extra></extra>\",\"legendgroup\":\"Man City\",\"marker\":{\"color\":\"#FFA15A\",\"symbol\":\"circle\"},\"mode\":\"markers\",\"name\":\"Man City\",\"orientation\":\"v\",\"showlegend\":true,\"x\":[2.4],\"xaxis\":\"x\",\"y\":[0.4],\"yaxis\":\"y\",\"type\":\"scatter\"},{\"hovertemplate\":\"Team=Brighton<br>MatchesPlayed=5<br>MovingAverageFor=%{x}<br>MovingAverageAgainst=%{y}<extra></extra>\",\"legendgroup\":\"Brighton\",\"marker\":{\"color\":\"#19d3f3\",\"symbol\":\"circle\"},\"mode\":\"markers\",\"name\":\"Brighton\",\"orientation\":\"v\",\"showlegend\":true,\"x\":[1.0],\"xaxis\":\"x\",\"y\":[1.4],\"yaxis\":\"y\",\"type\":\"scatter\"},{\"hovertemplate\":\"Team=Southampton<br>MatchesPlayed=5<br>MovingAverageFor=%{x}<br>MovingAverageAgainst=%{y}<extra></extra>\",\"legendgroup\":\"Southampton\",\"marker\":{\"color\":\"#FF6692\",\"symbol\":\"circle\"},\"mode\":\"markers\",\"name\":\"Southampton\",\"orientation\":\"v\",\"showlegend\":true,\"x\":[0.8],\"xaxis\":\"x\",\"y\":[0.8],\"yaxis\":\"y\",\"type\":\"scatter\"},{\"hovertemplate\":\"Team=Wolves<br>MatchesPlayed=5<br>MovingAverageFor=%{x}<br>MovingAverageAgainst=%{y}<extra></extra>\",\"legendgroup\":\"Wolves\",\"marker\":{\"color\":\"#B6E880\",\"symbol\":\"circle\"},\"mode\":\"markers\",\"name\":\"Wolves\",\"orientation\":\"v\",\"showlegend\":true,\"x\":[0.8],\"xaxis\":\"x\",\"y\":[1.2],\"yaxis\":\"y\",\"type\":\"scatter\"},{\"hovertemplate\":\"Team=Arsenal<br>MatchesPlayed=5<br>MovingAverageFor=%{x}<br>MovingAverageAgainst=%{y}<extra></extra>\",\"legendgroup\":\"Arsenal\",\"marker\":{\"color\":\"#FF97FF\",\"symbol\":\"circle\"},\"mode\":\"markers\",\"name\":\"Arsenal\",\"orientation\":\"v\",\"showlegend\":true,\"x\":[1.8],\"xaxis\":\"x\",\"y\":[1.2],\"yaxis\":\"y\",\"type\":\"scatter\"},{\"hovertemplate\":\"Team=West Ham<br>MatchesPlayed=5<br>MovingAverageFor=%{x}<br>MovingAverageAgainst=%{y}<extra></extra>\",\"legendgroup\":\"West Ham\",\"marker\":{\"color\":\"#FECB52\",\"symbol\":\"circle\"},\"mode\":\"markers\",\"name\":\"West Ham\",\"orientation\":\"v\",\"showlegend\":true,\"x\":[1.8],\"xaxis\":\"x\",\"y\":[1.4],\"yaxis\":\"y\",\"type\":\"scatter\"}],\"name\":\"5\"},{\"data\":[{\"hovertemplate\":\"Team=Brentford<br>MatchesPlayed=6<br>MovingAverageFor=%{x}<br>MovingAverageAgainst=%{y}<extra></extra>\",\"legendgroup\":\"Brentford\",\"marker\":{\"color\":\"#636efa\",\"symbol\":\"circle\"},\"mode\":\"markers\",\"name\":\"Brentford\",\"orientation\":\"v\",\"showlegend\":true,\"x\":[1.0],\"xaxis\":\"x\",\"y\":[1.8],\"yaxis\":\"y\",\"type\":\"scatter\"},{\"hovertemplate\":\"Team=Man United<br>MatchesPlayed=6<br>MovingAverageFor=%{x}<br>MovingAverageAgainst=%{y}<extra></extra>\",\"legendgroup\":\"Man United\",\"marker\":{\"color\":\"#EF553B\",\"symbol\":\"circle\"},\"mode\":\"markers\",\"name\":\"Man United\",\"orientation\":\"v\",\"showlegend\":true,\"x\":[1.0],\"xaxis\":\"x\",\"y\":[2.0],\"yaxis\":\"y\",\"type\":\"scatter\"},{\"hovertemplate\":\"Team=Burnley<br>MatchesPlayed=6<br>MovingAverageFor=%{x}<br>MovingAverageAgainst=%{y}<extra></extra>\",\"legendgroup\":\"Burnley\",\"marker\":{\"color\":\"#00cc96\",\"symbol\":\"circle\"},\"mode\":\"markers\",\"name\":\"Burnley\",\"orientation\":\"v\",\"showlegend\":true,\"x\":[1.4],\"xaxis\":\"x\",\"y\":[1.2],\"yaxis\":\"y\",\"type\":\"scatter\"},{\"hovertemplate\":\"Team=Chelsea<br>MatchesPlayed=6<br>MovingAverageFor=%{x}<br>MovingAverageAgainst=%{y}<extra></extra>\",\"legendgroup\":\"Chelsea\",\"marker\":{\"color\":\"#ab63fa\",\"symbol\":\"circle\"},\"mode\":\"markers\",\"name\":\"Chelsea\",\"orientation\":\"v\",\"showlegend\":true,\"x\":[2.8],\"xaxis\":\"x\",\"y\":[0.6],\"yaxis\":\"y\",\"type\":\"scatter\"},{\"hovertemplate\":\"Team=Everton<br>MatchesPlayed=6<br>MovingAverageFor=%{x}<br>MovingAverageAgainst=%{y}<extra></extra>\",\"legendgroup\":\"Everton\",\"marker\":{\"color\":\"#FFA15A\",\"symbol\":\"circle\"},\"mode\":\"markers\",\"name\":\"Everton\",\"orientation\":\"v\",\"showlegend\":true,\"x\":[1.4],\"xaxis\":\"x\",\"y\":[1.4],\"yaxis\":\"y\",\"type\":\"scatter\"},{\"hovertemplate\":\"Team=Leicester<br>MatchesPlayed=6<br>MovingAverageFor=%{x}<br>MovingAverageAgainst=%{y}<extra></extra>\",\"legendgroup\":\"Leicester\",\"marker\":{\"color\":\"#19d3f3\",\"symbol\":\"circle\"},\"mode\":\"markers\",\"name\":\"Leicester\",\"orientation\":\"v\",\"showlegend\":true,\"x\":[1.2],\"xaxis\":\"x\",\"y\":[2.0],\"yaxis\":\"y\",\"type\":\"scatter\"},{\"hovertemplate\":\"Team=Watford<br>MatchesPlayed=6<br>MovingAverageFor=%{x}<br>MovingAverageAgainst=%{y}<extra></extra>\",\"legendgroup\":\"Watford\",\"marker\":{\"color\":\"#FF6692\",\"symbol\":\"circle\"},\"mode\":\"markers\",\"name\":\"Watford\",\"orientation\":\"v\",\"showlegend\":true,\"x\":[1.0],\"xaxis\":\"x\",\"y\":[2.0],\"yaxis\":\"y\",\"type\":\"scatter\"},{\"hovertemplate\":\"Team=Norwich<br>MatchesPlayed=6<br>MovingAverageFor=%{x}<br>MovingAverageAgainst=%{y}<extra></extra>\",\"legendgroup\":\"Norwich\",\"marker\":{\"color\":\"#B6E880\",\"symbol\":\"circle\"},\"mode\":\"markers\",\"name\":\"Norwich\",\"orientation\":\"v\",\"showlegend\":true,\"x\":[1.0],\"xaxis\":\"x\",\"y\":[1.6],\"yaxis\":\"y\",\"type\":\"scatter\"},{\"hovertemplate\":\"Team=Newcastle<br>MatchesPlayed=6<br>MovingAverageFor=%{x}<br>MovingAverageAgainst=%{y}<extra></extra>\",\"legendgroup\":\"Newcastle\",\"marker\":{\"color\":\"#FF97FF\",\"symbol\":\"circle\"},\"mode\":\"markers\",\"name\":\"Newcastle\",\"orientation\":\"v\",\"showlegend\":true,\"x\":[1.6],\"xaxis\":\"x\",\"y\":[2.4],\"yaxis\":\"y\",\"type\":\"scatter\"},{\"hovertemplate\":\"Team=Tottenham<br>MatchesPlayed=6<br>MovingAverageFor=%{x}<br>MovingAverageAgainst=%{y}<extra></extra>\",\"legendgroup\":\"Tottenham\",\"marker\":{\"color\":\"#FECB52\",\"symbol\":\"circle\"},\"mode\":\"markers\",\"name\":\"Tottenham\",\"orientation\":\"v\",\"showlegend\":true,\"x\":[1.0],\"xaxis\":\"x\",\"y\":[1.6],\"yaxis\":\"y\",\"type\":\"scatter\"},{\"hovertemplate\":\"Team=Liverpool<br>MatchesPlayed=6<br>MovingAverageFor=%{x}<br>MovingAverageAgainst=%{y}<extra></extra>\",\"legendgroup\":\"Liverpool\",\"marker\":{\"color\":\"#636efa\",\"symbol\":\"circle\"},\"mode\":\"markers\",\"name\":\"Liverpool\",\"orientation\":\"v\",\"showlegend\":true,\"x\":[2.4],\"xaxis\":\"x\",\"y\":[1.0],\"yaxis\":\"y\",\"type\":\"scatter\"},{\"hovertemplate\":\"Team=Aston Villa<br>MatchesPlayed=6<br>MovingAverageFor=%{x}<br>MovingAverageAgainst=%{y}<extra></extra>\",\"legendgroup\":\"Aston Villa\",\"marker\":{\"color\":\"#EF553B\",\"symbol\":\"circle\"},\"mode\":\"markers\",\"name\":\"Aston Villa\",\"orientation\":\"v\",\"showlegend\":true,\"x\":[1.8],\"xaxis\":\"x\",\"y\":[1.6],\"yaxis\":\"y\",\"type\":\"scatter\"},{\"hovertemplate\":\"Team=Crystal Palace<br>MatchesPlayed=6<br>MovingAverageFor=%{x}<br>MovingAverageAgainst=%{y}<extra></extra>\",\"legendgroup\":\"Crystal Palace\",\"marker\":{\"color\":\"#00cc96\",\"symbol\":\"circle\"},\"mode\":\"markers\",\"name\":\"Crystal Palace\",\"orientation\":\"v\",\"showlegend\":true,\"x\":[1.8],\"xaxis\":\"x\",\"y\":[0.8],\"yaxis\":\"y\",\"type\":\"scatter\"},{\"hovertemplate\":\"Team=Leeds<br>MatchesPlayed=6<br>MovingAverageFor=%{x}<br>MovingAverageAgainst=%{y}<extra></extra>\",\"legendgroup\":\"Leeds\",\"marker\":{\"color\":\"#ab63fa\",\"symbol\":\"circle\"},\"mode\":\"markers\",\"name\":\"Leeds\",\"orientation\":\"v\",\"showlegend\":true,\"x\":[0.8],\"xaxis\":\"x\",\"y\":[1.4],\"yaxis\":\"y\",\"type\":\"scatter\"},{\"hovertemplate\":\"Team=Man City<br>MatchesPlayed=6<br>MovingAverageFor=%{x}<br>MovingAverageAgainst=%{y}<extra></extra>\",\"legendgroup\":\"Man City\",\"marker\":{\"color\":\"#FFA15A\",\"symbol\":\"circle\"},\"mode\":\"markers\",\"name\":\"Man City\",\"orientation\":\"v\",\"showlegend\":true,\"x\":[2.0],\"xaxis\":\"x\",\"y\":[0.4],\"yaxis\":\"y\",\"type\":\"scatter\"},{\"hovertemplate\":\"Team=Brighton<br>MatchesPlayed=6<br>MovingAverageFor=%{x}<br>MovingAverageAgainst=%{y}<extra></extra>\",\"legendgroup\":\"Brighton\",\"marker\":{\"color\":\"#19d3f3\",\"symbol\":\"circle\"},\"mode\":\"markers\",\"name\":\"Brighton\",\"orientation\":\"v\",\"showlegend\":true,\"x\":[0.8],\"xaxis\":\"x\",\"y\":[1.6],\"yaxis\":\"y\",\"type\":\"scatter\"},{\"hovertemplate\":\"Team=Southampton<br>MatchesPlayed=6<br>MovingAverageFor=%{x}<br>MovingAverageAgainst=%{y}<extra></extra>\",\"legendgroup\":\"Southampton\",\"marker\":{\"color\":\"#FF6692\",\"symbol\":\"circle\"},\"mode\":\"markers\",\"name\":\"Southampton\",\"orientation\":\"v\",\"showlegend\":true,\"x\":[0.8],\"xaxis\":\"x\",\"y\":[0.6],\"yaxis\":\"y\",\"type\":\"scatter\"},{\"hovertemplate\":\"Team=Wolves<br>MatchesPlayed=6<br>MovingAverageFor=%{x}<br>MovingAverageAgainst=%{y}<extra></extra>\",\"legendgroup\":\"Wolves\",\"marker\":{\"color\":\"#B6E880\",\"symbol\":\"circle\"},\"mode\":\"markers\",\"name\":\"Wolves\",\"orientation\":\"v\",\"showlegend\":true,\"x\":[1.0],\"xaxis\":\"x\",\"y\":[1.0],\"yaxis\":\"y\",\"type\":\"scatter\"},{\"hovertemplate\":\"Team=Arsenal<br>MatchesPlayed=6<br>MovingAverageFor=%{x}<br>MovingAverageAgainst=%{y}<extra></extra>\",\"legendgroup\":\"Arsenal\",\"marker\":{\"color\":\"#FF97FF\",\"symbol\":\"circle\"},\"mode\":\"markers\",\"name\":\"Arsenal\",\"orientation\":\"v\",\"showlegend\":true,\"x\":[2.0],\"xaxis\":\"x\",\"y\":[0.8],\"yaxis\":\"y\",\"type\":\"scatter\"},{\"hovertemplate\":\"Team=West Ham<br>MatchesPlayed=6<br>MovingAverageFor=%{x}<br>MovingAverageAgainst=%{y}<extra></extra>\",\"legendgroup\":\"West Ham\",\"marker\":{\"color\":\"#FECB52\",\"symbol\":\"circle\"},\"mode\":\"markers\",\"name\":\"West Ham\",\"orientation\":\"v\",\"showlegend\":true,\"x\":[1.6],\"xaxis\":\"x\",\"y\":[1.6],\"yaxis\":\"y\",\"type\":\"scatter\"}],\"name\":\"6\"},{\"data\":[{\"hovertemplate\":\"Team=Brentford<br>MatchesPlayed=7<br>MovingAverageFor=%{x}<br>MovingAverageAgainst=%{y}<extra></extra>\",\"legendgroup\":\"Brentford\",\"marker\":{\"color\":\"#636efa\",\"symbol\":\"circle\"},\"mode\":\"markers\",\"name\":\"Brentford\",\"orientation\":\"v\",\"showlegend\":true,\"x\":[1.2],\"xaxis\":\"x\",\"y\":[1.6],\"yaxis\":\"y\",\"type\":\"scatter\"},{\"hovertemplate\":\"Team=Man United<br>MatchesPlayed=7<br>MovingAverageFor=%{x}<br>MovingAverageAgainst=%{y}<extra></extra>\",\"legendgroup\":\"Man United\",\"marker\":{\"color\":\"#EF553B\",\"symbol\":\"circle\"},\"mode\":\"markers\",\"name\":\"Man United\",\"orientation\":\"v\",\"showlegend\":true,\"x\":[0.8],\"xaxis\":\"x\",\"y\":[2.2],\"yaxis\":\"y\",\"type\":\"scatter\"},{\"hovertemplate\":\"Team=Burnley<br>MatchesPlayed=7<br>MovingAverageFor=%{x}<br>MovingAverageAgainst=%{y}<extra></extra>\",\"legendgroup\":\"Burnley\",\"marker\":{\"color\":\"#00cc96\",\"symbol\":\"circle\"},\"mode\":\"markers\",\"name\":\"Burnley\",\"orientation\":\"v\",\"showlegend\":true,\"x\":[1.2],\"xaxis\":\"x\",\"y\":[1.0],\"yaxis\":\"y\",\"type\":\"scatter\"},{\"hovertemplate\":\"Team=Chelsea<br>MatchesPlayed=7<br>MovingAverageFor=%{x}<br>MovingAverageAgainst=%{y}<extra></extra>\",\"legendgroup\":\"Chelsea\",\"marker\":{\"color\":\"#ab63fa\",\"symbol\":\"circle\"},\"mode\":\"markers\",\"name\":\"Chelsea\",\"orientation\":\"v\",\"showlegend\":true,\"x\":[2.4],\"xaxis\":\"x\",\"y\":[0.8],\"yaxis\":\"y\",\"type\":\"scatter\"},{\"hovertemplate\":\"Team=Everton<br>MatchesPlayed=7<br>MovingAverageFor=%{x}<br>MovingAverageAgainst=%{y}<extra></extra>\",\"legendgroup\":\"Everton\",\"marker\":{\"color\":\"#FFA15A\",\"symbol\":\"circle\"},\"mode\":\"markers\",\"name\":\"Everton\",\"orientation\":\"v\",\"showlegend\":true,\"x\":[1.0],\"xaxis\":\"x\",\"y\":[2.0],\"yaxis\":\"y\",\"type\":\"scatter\"},{\"hovertemplate\":\"Team=Leicester<br>MatchesPlayed=7<br>MovingAverageFor=%{x}<br>MovingAverageAgainst=%{y}<extra></extra>\",\"legendgroup\":\"Leicester\",\"marker\":{\"color\":\"#19d3f3\",\"symbol\":\"circle\"},\"mode\":\"markers\",\"name\":\"Leicester\",\"orientation\":\"v\",\"showlegend\":true,\"x\":[2.0],\"xaxis\":\"x\",\"y\":[2.2],\"yaxis\":\"y\",\"type\":\"scatter\"},{\"hovertemplate\":\"Team=Watford<br>MatchesPlayed=7<br>MovingAverageFor=%{x}<br>MovingAverageAgainst=%{y}<extra></extra>\",\"legendgroup\":\"Watford\",\"marker\":{\"color\":\"#FF6692\",\"symbol\":\"circle\"},\"mode\":\"markers\",\"name\":\"Watford\",\"orientation\":\"v\",\"showlegend\":true,\"x\":[1.2],\"xaxis\":\"x\",\"y\":[2.0],\"yaxis\":\"y\",\"type\":\"scatter\"},{\"hovertemplate\":\"Team=Norwich<br>MatchesPlayed=7<br>MovingAverageFor=%{x}<br>MovingAverageAgainst=%{y}<extra></extra>\",\"legendgroup\":\"Norwich\",\"marker\":{\"color\":\"#B6E880\",\"symbol\":\"circle\"},\"mode\":\"markers\",\"name\":\"Norwich\",\"orientation\":\"v\",\"showlegend\":true,\"x\":[0.8],\"xaxis\":\"x\",\"y\":[1.2],\"yaxis\":\"y\",\"type\":\"scatter\"},{\"hovertemplate\":\"Team=Newcastle<br>MatchesPlayed=7<br>MovingAverageFor=%{x}<br>MovingAverageAgainst=%{y}<extra></extra>\",\"legendgroup\":\"Newcastle\",\"marker\":{\"color\":\"#FF97FF\",\"symbol\":\"circle\"},\"mode\":\"markers\",\"name\":\"Newcastle\",\"orientation\":\"v\",\"showlegend\":true,\"x\":[1.4],\"xaxis\":\"x\",\"y\":[2.2],\"yaxis\":\"y\",\"type\":\"scatter\"},{\"hovertemplate\":\"Team=Tottenham<br>MatchesPlayed=7<br>MovingAverageFor=%{x}<br>MovingAverageAgainst=%{y}<extra></extra>\",\"legendgroup\":\"Tottenham\",\"marker\":{\"color\":\"#FECB52\",\"symbol\":\"circle\"},\"mode\":\"markers\",\"name\":\"Tottenham\",\"orientation\":\"v\",\"showlegend\":true,\"x\":[1.2],\"xaxis\":\"x\",\"y\":[1.6],\"yaxis\":\"y\",\"type\":\"scatter\"},{\"hovertemplate\":\"Team=Liverpool<br>MatchesPlayed=7<br>MovingAverageFor=%{x}<br>MovingAverageAgainst=%{y}<extra></extra>\",\"legendgroup\":\"Liverpool\",\"marker\":{\"color\":\"#636efa\",\"symbol\":\"circle\"},\"mode\":\"markers\",\"name\":\"Liverpool\",\"orientation\":\"v\",\"showlegend\":true,\"x\":[3.0],\"xaxis\":\"x\",\"y\":[0.8],\"yaxis\":\"y\",\"type\":\"scatter\"},{\"hovertemplate\":\"Team=Aston Villa<br>MatchesPlayed=7<br>MovingAverageFor=%{x}<br>MovingAverageAgainst=%{y}<extra></extra>\",\"legendgroup\":\"Aston Villa\",\"marker\":{\"color\":\"#EF553B\",\"symbol\":\"circle\"},\"mode\":\"markers\",\"name\":\"Aston Villa\",\"orientation\":\"v\",\"showlegend\":true,\"x\":[1.8],\"xaxis\":\"x\",\"y\":[1.8],\"yaxis\":\"y\",\"type\":\"scatter\"},{\"hovertemplate\":\"Team=Crystal Palace<br>MatchesPlayed=7<br>MovingAverageFor=%{x}<br>MovingAverageAgainst=%{y}<extra></extra>\",\"legendgroup\":\"Crystal Palace\",\"marker\":{\"color\":\"#00cc96\",\"symbol\":\"circle\"},\"mode\":\"markers\",\"name\":\"Crystal Palace\",\"orientation\":\"v\",\"showlegend\":true,\"x\":[1.4],\"xaxis\":\"x\",\"y\":[1.2],\"yaxis\":\"y\",\"type\":\"scatter\"},{\"hovertemplate\":\"Team=Leeds<br>MatchesPlayed=7<br>MovingAverageFor=%{x}<br>MovingAverageAgainst=%{y}<extra></extra>\",\"legendgroup\":\"Leeds\",\"marker\":{\"color\":\"#ab63fa\",\"symbol\":\"circle\"},\"mode\":\"markers\",\"name\":\"Leeds\",\"orientation\":\"v\",\"showlegend\":true,\"x\":[1.0],\"xaxis\":\"x\",\"y\":[0.8],\"yaxis\":\"y\",\"type\":\"scatter\"},{\"hovertemplate\":\"Team=Man City<br>MatchesPlayed=7<br>MovingAverageFor=%{x}<br>MovingAverageAgainst=%{y}<extra></extra>\",\"legendgroup\":\"Man City\",\"marker\":{\"color\":\"#FFA15A\",\"symbol\":\"circle\"},\"mode\":\"markers\",\"name\":\"Man City\",\"orientation\":\"v\",\"showlegend\":true,\"x\":[1.4],\"xaxis\":\"x\",\"y\":[0.6],\"yaxis\":\"y\",\"type\":\"scatter\"},{\"hovertemplate\":\"Team=Brighton<br>MatchesPlayed=7<br>MovingAverageFor=%{x}<br>MovingAverageAgainst=%{y}<extra></extra>\",\"legendgroup\":\"Brighton\",\"marker\":{\"color\":\"#19d3f3\",\"symbol\":\"circle\"},\"mode\":\"markers\",\"name\":\"Brighton\",\"orientation\":\"v\",\"showlegend\":true,\"x\":[0.8],\"xaxis\":\"x\",\"y\":[1.2],\"yaxis\":\"y\",\"type\":\"scatter\"},{\"hovertemplate\":\"Team=Southampton<br>MatchesPlayed=7<br>MovingAverageFor=%{x}<br>MovingAverageAgainst=%{y}<extra></extra>\",\"legendgroup\":\"Southampton\",\"marker\":{\"color\":\"#FF6692\",\"symbol\":\"circle\"},\"mode\":\"markers\",\"name\":\"Southampton\",\"orientation\":\"v\",\"showlegend\":true,\"x\":[1.2],\"xaxis\":\"x\",\"y\":[1.0],\"yaxis\":\"y\",\"type\":\"scatter\"},{\"hovertemplate\":\"Team=Wolves<br>MatchesPlayed=7<br>MovingAverageFor=%{x}<br>MovingAverageAgainst=%{y}<extra></extra>\",\"legendgroup\":\"Wolves\",\"marker\":{\"color\":\"#B6E880\",\"symbol\":\"circle\"},\"mode\":\"markers\",\"name\":\"Wolves\",\"orientation\":\"v\",\"showlegend\":true,\"x\":[1.0],\"xaxis\":\"x\",\"y\":[0.8],\"yaxis\":\"y\",\"type\":\"scatter\"},{\"hovertemplate\":\"Team=Arsenal<br>MatchesPlayed=7<br>MovingAverageFor=%{x}<br>MovingAverageAgainst=%{y}<extra></extra>\",\"legendgroup\":\"Arsenal\",\"marker\":{\"color\":\"#FF97FF\",\"symbol\":\"circle\"},\"mode\":\"markers\",\"name\":\"Arsenal\",\"orientation\":\"v\",\"showlegend\":true,\"x\":[2.2],\"xaxis\":\"x\",\"y\":[0.8],\"yaxis\":\"y\",\"type\":\"scatter\"},{\"hovertemplate\":\"Team=West Ham<br>MatchesPlayed=7<br>MovingAverageFor=%{x}<br>MovingAverageAgainst=%{y}<extra></extra>\",\"legendgroup\":\"West Ham\",\"marker\":{\"color\":\"#FECB52\",\"symbol\":\"circle\"},\"mode\":\"markers\",\"name\":\"West Ham\",\"orientation\":\"v\",\"showlegend\":true,\"x\":[1.4],\"xaxis\":\"x\",\"y\":[1.4],\"yaxis\":\"y\",\"type\":\"scatter\"}],\"name\":\"7\"},{\"data\":[{\"hovertemplate\":\"Team=Brentford<br>MatchesPlayed=8<br>MovingAverageFor=%{x}<br>MovingAverageAgainst=%{y}<extra></extra>\",\"legendgroup\":\"Brentford\",\"marker\":{\"color\":\"#636efa\",\"symbol\":\"circle\"},\"mode\":\"markers\",\"name\":\"Brentford\",\"orientation\":\"v\",\"showlegend\":true,\"x\":[1.0],\"xaxis\":\"x\",\"y\":[1.2],\"yaxis\":\"y\",\"type\":\"scatter\"},{\"hovertemplate\":\"Team=Man United<br>MatchesPlayed=8<br>MovingAverageFor=%{x}<br>MovingAverageAgainst=%{y}<extra></extra>\",\"legendgroup\":\"Man United\",\"marker\":{\"color\":\"#EF553B\",\"symbol\":\"circle\"},\"mode\":\"markers\",\"name\":\"Man United\",\"orientation\":\"v\",\"showlegend\":true,\"x\":[1.0],\"xaxis\":\"x\",\"y\":[2.0],\"yaxis\":\"y\",\"type\":\"scatter\"},{\"hovertemplate\":\"Team=Burnley<br>MatchesPlayed=8<br>MovingAverageFor=%{x}<br>MovingAverageAgainst=%{y}<extra></extra>\",\"legendgroup\":\"Burnley\",\"marker\":{\"color\":\"#00cc96\",\"symbol\":\"circle\"},\"mode\":\"markers\",\"name\":\"Burnley\",\"orientation\":\"v\",\"showlegend\":true,\"x\":[1.2],\"xaxis\":\"x\",\"y\":[0.8],\"yaxis\":\"y\",\"type\":\"scatter\"},{\"hovertemplate\":\"Team=Chelsea<br>MatchesPlayed=8<br>MovingAverageFor=%{x}<br>MovingAverageAgainst=%{y}<extra></extra>\",\"legendgroup\":\"Chelsea\",\"marker\":{\"color\":\"#ab63fa\",\"symbol\":\"circle\"},\"mode\":\"markers\",\"name\":\"Chelsea\",\"orientation\":\"v\",\"showlegend\":true,\"x\":[3.0],\"xaxis\":\"x\",\"y\":[1.0],\"yaxis\":\"y\",\"type\":\"scatter\"},{\"hovertemplate\":\"Team=Everton<br>MatchesPlayed=8<br>MovingAverageFor=%{x}<br>MovingAverageAgainst=%{y}<extra></extra>\",\"legendgroup\":\"Everton\",\"marker\":{\"color\":\"#FFA15A\",\"symbol\":\"circle\"},\"mode\":\"markers\",\"name\":\"Everton\",\"orientation\":\"v\",\"showlegend\":true,\"x\":[1.0],\"xaxis\":\"x\",\"y\":[2.2],\"yaxis\":\"y\",\"type\":\"scatter\"},{\"hovertemplate\":\"Team=Leicester<br>MatchesPlayed=8<br>MovingAverageFor=%{x}<br>MovingAverageAgainst=%{y}<extra></extra>\",\"legendgroup\":\"Leicester\",\"marker\":{\"color\":\"#19d3f3\",\"symbol\":\"circle\"},\"mode\":\"markers\",\"name\":\"Leicester\",\"orientation\":\"v\",\"showlegend\":true,\"x\":[2.4],\"xaxis\":\"x\",\"y\":[1.8],\"yaxis\":\"y\",\"type\":\"scatter\"},{\"hovertemplate\":\"Team=Watford<br>MatchesPlayed=8<br>MovingAverageFor=%{x}<br>MovingAverageAgainst=%{y}<extra></extra>\",\"legendgroup\":\"Watford\",\"marker\":{\"color\":\"#FF6692\",\"symbol\":\"circle\"},\"mode\":\"markers\",\"name\":\"Watford\",\"orientation\":\"v\",\"showlegend\":true,\"x\":[1.2],\"xaxis\":\"x\",\"y\":[2.4],\"yaxis\":\"y\",\"type\":\"scatter\"},{\"hovertemplate\":\"Team=Norwich<br>MatchesPlayed=8<br>MovingAverageFor=%{x}<br>MovingAverageAgainst=%{y}<extra></extra>\",\"legendgroup\":\"Norwich\",\"marker\":{\"color\":\"#B6E880\",\"symbol\":\"circle\"},\"mode\":\"markers\",\"name\":\"Norwich\",\"orientation\":\"v\",\"showlegend\":true,\"x\":[0.6],\"xaxis\":\"x\",\"y\":[0.8],\"yaxis\":\"y\",\"type\":\"scatter\"},{\"hovertemplate\":\"Team=Newcastle<br>MatchesPlayed=8<br>MovingAverageFor=%{x}<br>MovingAverageAgainst=%{y}<extra></extra>\",\"legendgroup\":\"Newcastle\",\"marker\":{\"color\":\"#FF97FF\",\"symbol\":\"circle\"},\"mode\":\"markers\",\"name\":\"Newcastle\",\"orientation\":\"v\",\"showlegend\":true,\"x\":[1.4],\"xaxis\":\"x\",\"y\":[2.0],\"yaxis\":\"y\",\"type\":\"scatter\"},{\"hovertemplate\":\"Team=Tottenham<br>MatchesPlayed=8<br>MovingAverageFor=%{x}<br>MovingAverageAgainst=%{y}<extra></extra>\",\"legendgroup\":\"Tottenham\",\"marker\":{\"color\":\"#FECB52\",\"symbol\":\"circle\"},\"mode\":\"markers\",\"name\":\"Tottenham\",\"orientation\":\"v\",\"showlegend\":true,\"x\":[1.8],\"xaxis\":\"x\",\"y\":[1.0],\"yaxis\":\"y\",\"type\":\"scatter\"},{\"hovertemplate\":\"Team=Liverpool<br>MatchesPlayed=8<br>MovingAverageFor=%{x}<br>MovingAverageAgainst=%{y}<extra></extra>\",\"legendgroup\":\"Liverpool\",\"marker\":{\"color\":\"#636efa\",\"symbol\":\"circle\"},\"mode\":\"markers\",\"name\":\"Liverpool\",\"orientation\":\"v\",\"showlegend\":true,\"x\":[2.6],\"xaxis\":\"x\",\"y\":[0.8],\"yaxis\":\"y\",\"type\":\"scatter\"},{\"hovertemplate\":\"Team=Aston Villa<br>MatchesPlayed=8<br>MovingAverageFor=%{x}<br>MovingAverageAgainst=%{y}<extra></extra>\",\"legendgroup\":\"Aston Villa\",\"marker\":{\"color\":\"#EF553B\",\"symbol\":\"circle\"},\"mode\":\"markers\",\"name\":\"Aston Villa\",\"orientation\":\"v\",\"showlegend\":true,\"x\":[1.6],\"xaxis\":\"x\",\"y\":[2.0],\"yaxis\":\"y\",\"type\":\"scatter\"},{\"hovertemplate\":\"Team=Crystal Palace<br>MatchesPlayed=8<br>MovingAverageFor=%{x}<br>MovingAverageAgainst=%{y}<extra></extra>\",\"legendgroup\":\"Crystal Palace\",\"marker\":{\"color\":\"#00cc96\",\"symbol\":\"circle\"},\"mode\":\"markers\",\"name\":\"Crystal Palace\",\"orientation\":\"v\",\"showlegend\":true,\"x\":[1.8],\"xaxis\":\"x\",\"y\":[1.2],\"yaxis\":\"y\",\"type\":\"scatter\"},{\"hovertemplate\":\"Team=Leeds<br>MatchesPlayed=8<br>MovingAverageFor=%{x}<br>MovingAverageAgainst=%{y}<extra></extra>\",\"legendgroup\":\"Leeds\",\"marker\":{\"color\":\"#ab63fa\",\"symbol\":\"circle\"},\"mode\":\"markers\",\"name\":\"Leeds\",\"orientation\":\"v\",\"showlegend\":true,\"x\":[1.2],\"xaxis\":\"x\",\"y\":[0.8],\"yaxis\":\"y\",\"type\":\"scatter\"},{\"hovertemplate\":\"Team=Man City<br>MatchesPlayed=8<br>MovingAverageFor=%{x}<br>MovingAverageAgainst=%{y}<extra></extra>\",\"legendgroup\":\"Man City\",\"marker\":{\"color\":\"#FFA15A\",\"symbol\":\"circle\"},\"mode\":\"markers\",\"name\":\"Man City\",\"orientation\":\"v\",\"showlegend\":true,\"x\":[1.6],\"xaxis\":\"x\",\"y\":[0.6],\"yaxis\":\"y\",\"type\":\"scatter\"},{\"hovertemplate\":\"Team=Brighton<br>MatchesPlayed=8<br>MovingAverageFor=%{x}<br>MovingAverageAgainst=%{y}<extra></extra>\",\"legendgroup\":\"Brighton\",\"marker\":{\"color\":\"#19d3f3\",\"symbol\":\"circle\"},\"mode\":\"markers\",\"name\":\"Brighton\",\"orientation\":\"v\",\"showlegend\":true,\"x\":[0.4],\"xaxis\":\"x\",\"y\":[1.2],\"yaxis\":\"y\",\"type\":\"scatter\"},{\"hovertemplate\":\"Team=Southampton<br>MatchesPlayed=8<br>MovingAverageFor=%{x}<br>MovingAverageAgainst=%{y}<extra></extra>\",\"legendgroup\":\"Southampton\",\"marker\":{\"color\":\"#FF6692\",\"symbol\":\"circle\"},\"mode\":\"markers\",\"name\":\"Southampton\",\"orientation\":\"v\",\"showlegend\":true,\"x\":[1.4],\"xaxis\":\"x\",\"y\":[1.0],\"yaxis\":\"y\",\"type\":\"scatter\"},{\"hovertemplate\":\"Team=Wolves<br>MatchesPlayed=8<br>MovingAverageFor=%{x}<br>MovingAverageAgainst=%{y}<extra></extra>\",\"legendgroup\":\"Wolves\",\"marker\":{\"color\":\"#B6E880\",\"symbol\":\"circle\"},\"mode\":\"markers\",\"name\":\"Wolves\",\"orientation\":\"v\",\"showlegend\":true,\"x\":[1.0],\"xaxis\":\"x\",\"y\":[0.6],\"yaxis\":\"y\",\"type\":\"scatter\"},{\"hovertemplate\":\"Team=Arsenal<br>MatchesPlayed=8<br>MovingAverageFor=%{x}<br>MovingAverageAgainst=%{y}<extra></extra>\",\"legendgroup\":\"Arsenal\",\"marker\":{\"color\":\"#FF97FF\",\"symbol\":\"circle\"},\"mode\":\"markers\",\"name\":\"Arsenal\",\"orientation\":\"v\",\"showlegend\":true,\"x\":[2.2],\"xaxis\":\"x\",\"y\":[0.6],\"yaxis\":\"y\",\"type\":\"scatter\"},{\"hovertemplate\":\"Team=West Ham<br>MatchesPlayed=8<br>MovingAverageFor=%{x}<br>MovingAverageAgainst=%{y}<extra></extra>\",\"legendgroup\":\"West Ham\",\"marker\":{\"color\":\"#FECB52\",\"symbol\":\"circle\"},\"mode\":\"markers\",\"name\":\"West Ham\",\"orientation\":\"v\",\"showlegend\":true,\"x\":[1.8],\"xaxis\":\"x\",\"y\":[1.4],\"yaxis\":\"y\",\"type\":\"scatter\"}],\"name\":\"8\"},{\"data\":[{\"hovertemplate\":\"Team=Brentford<br>MatchesPlayed=9<br>MovingAverageFor=%{x}<br>MovingAverageAgainst=%{y}<extra></extra>\",\"legendgroup\":\"Brentford\",\"marker\":{\"color\":\"#636efa\",\"symbol\":\"circle\"},\"mode\":\"markers\",\"name\":\"Brentford\",\"orientation\":\"v\",\"showlegend\":true,\"x\":[1.0],\"xaxis\":\"x\",\"y\":[1.2],\"yaxis\":\"y\",\"type\":\"scatter\"},{\"hovertemplate\":\"Team=Man United<br>MatchesPlayed=9<br>MovingAverageFor=%{x}<br>MovingAverageAgainst=%{y}<extra></extra>\",\"legendgroup\":\"Man United\",\"marker\":{\"color\":\"#EF553B\",\"symbol\":\"circle\"},\"mode\":\"markers\",\"name\":\"Man United\",\"orientation\":\"v\",\"showlegend\":true,\"x\":[1.4],\"xaxis\":\"x\",\"y\":[2.0],\"yaxis\":\"y\",\"type\":\"scatter\"},{\"hovertemplate\":\"Team=Burnley<br>MatchesPlayed=9<br>MovingAverageFor=%{x}<br>MovingAverageAgainst=%{y}<extra></extra>\",\"legendgroup\":\"Burnley\",\"marker\":{\"color\":\"#00cc96\",\"symbol\":\"circle\"},\"mode\":\"markers\",\"name\":\"Burnley\",\"orientation\":\"v\",\"showlegend\":true,\"x\":[1.4],\"xaxis\":\"x\",\"y\":[1.0],\"yaxis\":\"y\",\"type\":\"scatter\"},{\"hovertemplate\":\"Team=Chelsea<br>MatchesPlayed=9<br>MovingAverageFor=%{x}<br>MovingAverageAgainst=%{y}<extra></extra>\",\"legendgroup\":\"Chelsea\",\"marker\":{\"color\":\"#ab63fa\",\"symbol\":\"circle\"},\"mode\":\"markers\",\"name\":\"Chelsea\",\"orientation\":\"v\",\"showlegend\":true,\"x\":[2.6],\"xaxis\":\"x\",\"y\":[1.0],\"yaxis\":\"y\",\"type\":\"scatter\"},{\"hovertemplate\":\"Team=Everton<br>MatchesPlayed=9<br>MovingAverageFor=%{x}<br>MovingAverageAgainst=%{y}<extra></extra>\",\"legendgroup\":\"Everton\",\"marker\":{\"color\":\"#FFA15A\",\"symbol\":\"circle\"},\"mode\":\"markers\",\"name\":\"Everton\",\"orientation\":\"v\",\"showlegend\":true,\"x\":[1.4],\"xaxis\":\"x\",\"y\":[2.6],\"yaxis\":\"y\",\"type\":\"scatter\"},{\"hovertemplate\":\"Team=Leicester<br>MatchesPlayed=9<br>MovingAverageFor=%{x}<br>MovingAverageAgainst=%{y}<extra></extra>\",\"legendgroup\":\"Leicester\",\"marker\":{\"color\":\"#19d3f3\",\"symbol\":\"circle\"},\"mode\":\"markers\",\"name\":\"Leicester\",\"orientation\":\"v\",\"showlegend\":true,\"x\":[1.8],\"xaxis\":\"x\",\"y\":[1.4],\"yaxis\":\"y\",\"type\":\"scatter\"},{\"hovertemplate\":\"Team=Watford<br>MatchesPlayed=9<br>MovingAverageFor=%{x}<br>MovingAverageAgainst=%{y}<extra></extra>\",\"legendgroup\":\"Watford\",\"marker\":{\"color\":\"#FF6692\",\"symbol\":\"circle\"},\"mode\":\"markers\",\"name\":\"Watford\",\"orientation\":\"v\",\"showlegend\":true,\"x\":[1.4],\"xaxis\":\"x\",\"y\":[2.2],\"yaxis\":\"y\",\"type\":\"scatter\"},{\"hovertemplate\":\"Team=Norwich<br>MatchesPlayed=9<br>MovingAverageFor=%{x}<br>MovingAverageAgainst=%{y}<extra></extra>\",\"legendgroup\":\"Norwich\",\"marker\":{\"color\":\"#B6E880\",\"symbol\":\"circle\"},\"mode\":\"markers\",\"name\":\"Norwich\",\"orientation\":\"v\",\"showlegend\":true,\"x\":[0.6],\"xaxis\":\"x\",\"y\":[1.2],\"yaxis\":\"y\",\"type\":\"scatter\"},{\"hovertemplate\":\"Team=Newcastle<br>MatchesPlayed=9<br>MovingAverageFor=%{x}<br>MovingAverageAgainst=%{y}<extra></extra>\",\"legendgroup\":\"Newcastle\",\"marker\":{\"color\":\"#FF97FF\",\"symbol\":\"circle\"},\"mode\":\"markers\",\"name\":\"Newcastle\",\"orientation\":\"v\",\"showlegend\":true,\"x\":[1.0],\"xaxis\":\"x\",\"y\":[2.2],\"yaxis\":\"y\",\"type\":\"scatter\"},{\"hovertemplate\":\"Team=Tottenham<br>MatchesPlayed=9<br>MovingAverageFor=%{x}<br>MovingAverageAgainst=%{y}<extra></extra>\",\"legendgroup\":\"Tottenham\",\"marker\":{\"color\":\"#FECB52\",\"symbol\":\"circle\"},\"mode\":\"markers\",\"name\":\"Tottenham\",\"orientation\":\"v\",\"showlegend\":true,\"x\":[1.8],\"xaxis\":\"x\",\"y\":[1.2],\"yaxis\":\"y\",\"type\":\"scatter\"},{\"hovertemplate\":\"Team=Liverpool<br>MatchesPlayed=9<br>MovingAverageFor=%{x}<br>MovingAverageAgainst=%{y}<extra></extra>\",\"legendgroup\":\"Liverpool\",\"marker\":{\"color\":\"#636efa\",\"symbol\":\"circle\"},\"mode\":\"markers\",\"name\":\"Liverpool\",\"orientation\":\"v\",\"showlegend\":true,\"x\":[2.8],\"xaxis\":\"x\",\"y\":[0.6],\"yaxis\":\"y\",\"type\":\"scatter\"},{\"hovertemplate\":\"Team=Aston Villa<br>MatchesPlayed=9<br>MovingAverageFor=%{x}<br>MovingAverageAgainst=%{y}<extra></extra>\",\"legendgroup\":\"Aston Villa\",\"marker\":{\"color\":\"#EF553B\",\"symbol\":\"circle\"},\"mode\":\"markers\",\"name\":\"Aston Villa\",\"orientation\":\"v\",\"showlegend\":true,\"x\":[1.4],\"xaxis\":\"x\",\"y\":[2.0],\"yaxis\":\"y\",\"type\":\"scatter\"},{\"hovertemplate\":\"Team=Crystal Palace<br>MatchesPlayed=9<br>MovingAverageFor=%{x}<br>MovingAverageAgainst=%{y}<extra></extra>\",\"legendgroup\":\"Crystal Palace\",\"marker\":{\"color\":\"#00cc96\",\"symbol\":\"circle\"},\"mode\":\"markers\",\"name\":\"Crystal Palace\",\"orientation\":\"v\",\"showlegend\":true,\"x\":[1.8],\"xaxis\":\"x\",\"y\":[1.2],\"yaxis\":\"y\",\"type\":\"scatter\"},{\"hovertemplate\":\"Team=Leeds<br>MatchesPlayed=9<br>MovingAverageFor=%{x}<br>MovingAverageAgainst=%{y}<extra></extra>\",\"legendgroup\":\"Leeds\",\"marker\":{\"color\":\"#ab63fa\",\"symbol\":\"circle\"},\"mode\":\"markers\",\"name\":\"Leeds\",\"orientation\":\"v\",\"showlegend\":true,\"x\":[1.2],\"xaxis\":\"x\",\"y\":[1.6],\"yaxis\":\"y\",\"type\":\"scatter\"},{\"hovertemplate\":\"Team=Man City<br>MatchesPlayed=9<br>MovingAverageFor=%{x}<br>MovingAverageAgainst=%{y}<extra></extra>\",\"legendgroup\":\"Man City\",\"marker\":{\"color\":\"#FFA15A\",\"symbol\":\"circle\"},\"mode\":\"markers\",\"name\":\"Man City\",\"orientation\":\"v\",\"showlegend\":true,\"x\":[2.6],\"xaxis\":\"x\",\"y\":[0.6],\"yaxis\":\"y\",\"type\":\"scatter\"},{\"hovertemplate\":\"Team=Brighton<br>MatchesPlayed=9<br>MovingAverageFor=%{x}<br>MovingAverageAgainst=%{y}<extra></extra>\",\"legendgroup\":\"Brighton\",\"marker\":{\"color\":\"#19d3f3\",\"symbol\":\"circle\"},\"mode\":\"markers\",\"name\":\"Brighton\",\"orientation\":\"v\",\"showlegend\":true,\"x\":[0.8],\"xaxis\":\"x\",\"y\":[1.2],\"yaxis\":\"y\",\"type\":\"scatter\"},{\"hovertemplate\":\"Team=Southampton<br>MatchesPlayed=9<br>MovingAverageFor=%{x}<br>MovingAverageAgainst=%{y}<extra></extra>\",\"legendgroup\":\"Southampton\",\"marker\":{\"color\":\"#FF6692\",\"symbol\":\"circle\"},\"mode\":\"markers\",\"name\":\"Southampton\",\"orientation\":\"v\",\"showlegend\":true,\"x\":[1.4],\"xaxis\":\"x\",\"y\":[1.2],\"yaxis\":\"y\",\"type\":\"scatter\"},{\"hovertemplate\":\"Team=Wolves<br>MatchesPlayed=9<br>MovingAverageFor=%{x}<br>MovingAverageAgainst=%{y}<extra></extra>\",\"legendgroup\":\"Wolves\",\"marker\":{\"color\":\"#B6E880\",\"symbol\":\"circle\"},\"mode\":\"markers\",\"name\":\"Wolves\",\"orientation\":\"v\",\"showlegend\":true,\"x\":[0.6],\"xaxis\":\"x\",\"y\":[0.4],\"yaxis\":\"y\",\"type\":\"scatter\"},{\"hovertemplate\":\"Team=Arsenal<br>MatchesPlayed=9<br>MovingAverageFor=%{x}<br>MovingAverageAgainst=%{y}<extra></extra>\",\"legendgroup\":\"Arsenal\",\"marker\":{\"color\":\"#FF97FF\",\"symbol\":\"circle\"},\"mode\":\"markers\",\"name\":\"Arsenal\",\"orientation\":\"v\",\"showlegend\":true,\"x\":[2.2],\"xaxis\":\"x\",\"y\":[0.2],\"yaxis\":\"y\",\"type\":\"scatter\"},{\"hovertemplate\":\"Team=West Ham<br>MatchesPlayed=9<br>MovingAverageFor=%{x}<br>MovingAverageAgainst=%{y}<extra></extra>\",\"legendgroup\":\"West Ham\",\"marker\":{\"color\":\"#FECB52\",\"symbol\":\"circle\"},\"mode\":\"markers\",\"name\":\"West Ham\",\"orientation\":\"v\",\"showlegend\":true,\"x\":[2.0],\"xaxis\":\"x\",\"y\":[1.6],\"yaxis\":\"y\",\"type\":\"scatter\"}],\"name\":\"9\"},{\"data\":[{\"hovertemplate\":\"Team=Brentford<br>MatchesPlayed=10<br>MovingAverageFor=%{x}<br>MovingAverageAgainst=%{y}<extra></extra>\",\"legendgroup\":\"Brentford\",\"marker\":{\"color\":\"#636efa\",\"symbol\":\"circle\"},\"mode\":\"markers\",\"name\":\"Brentford\",\"orientation\":\"v\",\"showlegend\":true,\"x\":[1.2],\"xaxis\":\"x\",\"y\":[1.0],\"yaxis\":\"y\",\"type\":\"scatter\"},{\"hovertemplate\":\"Team=Man United<br>MatchesPlayed=10<br>MovingAverageFor=%{x}<br>MovingAverageAgainst=%{y}<extra></extra>\",\"legendgroup\":\"Man United\",\"marker\":{\"color\":\"#EF553B\",\"symbol\":\"circle\"},\"mode\":\"markers\",\"name\":\"Man United\",\"orientation\":\"v\",\"showlegend\":true,\"x\":[1.4],\"xaxis\":\"x\",\"y\":[1.2],\"yaxis\":\"y\",\"type\":\"scatter\"},{\"hovertemplate\":\"Team=Burnley<br>MatchesPlayed=10<br>MovingAverageFor=%{x}<br>MovingAverageAgainst=%{y}<extra></extra>\",\"legendgroup\":\"Burnley\",\"marker\":{\"color\":\"#00cc96\",\"symbol\":\"circle\"},\"mode\":\"markers\",\"name\":\"Burnley\",\"orientation\":\"v\",\"showlegend\":true,\"x\":[0.8],\"xaxis\":\"x\",\"y\":[1.0],\"yaxis\":\"y\",\"type\":\"scatter\"},{\"hovertemplate\":\"Team=Chelsea<br>MatchesPlayed=10<br>MovingAverageFor=%{x}<br>MovingAverageAgainst=%{y}<extra></extra>\",\"legendgroup\":\"Chelsea\",\"marker\":{\"color\":\"#ab63fa\",\"symbol\":\"circle\"},\"mode\":\"markers\",\"name\":\"Chelsea\",\"orientation\":\"v\",\"showlegend\":true,\"x\":[1.4],\"xaxis\":\"x\",\"y\":[1.2],\"yaxis\":\"y\",\"type\":\"scatter\"},{\"hovertemplate\":\"Team=Everton<br>MatchesPlayed=10<br>MovingAverageFor=%{x}<br>MovingAverageAgainst=%{y}<extra></extra>\",\"legendgroup\":\"Everton\",\"marker\":{\"color\":\"#FFA15A\",\"symbol\":\"circle\"},\"mode\":\"markers\",\"name\":\"Everton\",\"orientation\":\"v\",\"showlegend\":true,\"x\":[1.0],\"xaxis\":\"x\",\"y\":[1.8],\"yaxis\":\"y\",\"type\":\"scatter\"},{\"hovertemplate\":\"Team=Leicester<br>MatchesPlayed=10<br>MovingAverageFor=%{x}<br>MovingAverageAgainst=%{y}<extra></extra>\",\"legendgroup\":\"Leicester\",\"marker\":{\"color\":\"#19d3f3\",\"symbol\":\"circle\"},\"mode\":\"markers\",\"name\":\"Leicester\",\"orientation\":\"v\",\"showlegend\":true,\"x\":[2.2],\"xaxis\":\"x\",\"y\":[1.6],\"yaxis\":\"y\",\"type\":\"scatter\"},{\"hovertemplate\":\"Team=Watford<br>MatchesPlayed=10<br>MovingAverageFor=%{x}<br>MovingAverageAgainst=%{y}<extra></extra>\",\"legendgroup\":\"Watford\",\"marker\":{\"color\":\"#FF6692\",\"symbol\":\"circle\"},\"mode\":\"markers\",\"name\":\"Watford\",\"orientation\":\"v\",\"showlegend\":true,\"x\":[1.4],\"xaxis\":\"x\",\"y\":[2.2],\"yaxis\":\"y\",\"type\":\"scatter\"},{\"hovertemplate\":\"Team=Norwich<br>MatchesPlayed=10<br>MovingAverageFor=%{x}<br>MovingAverageAgainst=%{y}<extra></extra>\",\"legendgroup\":\"Norwich\",\"marker\":{\"color\":\"#B6E880\",\"symbol\":\"circle\"},\"mode\":\"markers\",\"name\":\"Norwich\",\"orientation\":\"v\",\"showlegend\":true,\"x\":[0.4],\"xaxis\":\"x\",\"y\":[1.8],\"yaxis\":\"y\",\"type\":\"scatter\"},{\"hovertemplate\":\"Team=Newcastle<br>MatchesPlayed=10<br>MovingAverageFor=%{x}<br>MovingAverageAgainst=%{y}<extra></extra>\",\"legendgroup\":\"Newcastle\",\"marker\":{\"color\":\"#FF97FF\",\"symbol\":\"circle\"},\"mode\":\"markers\",\"name\":\"Newcastle\",\"orientation\":\"v\",\"showlegend\":true,\"x\":[1.2],\"xaxis\":\"x\",\"y\":[1.8],\"yaxis\":\"y\",\"type\":\"scatter\"},{\"hovertemplate\":\"Team=Tottenham<br>MatchesPlayed=10<br>MovingAverageFor=%{x}<br>MovingAverageAgainst=%{y}<extra></extra>\",\"legendgroup\":\"Tottenham\",\"marker\":{\"color\":\"#FECB52\",\"symbol\":\"circle\"},\"mode\":\"markers\",\"name\":\"Tottenham\",\"orientation\":\"v\",\"showlegend\":true,\"x\":[2.4],\"xaxis\":\"x\",\"y\":[0.6],\"yaxis\":\"y\",\"type\":\"scatter\"},{\"hovertemplate\":\"Team=Liverpool<br>MatchesPlayed=10<br>MovingAverageFor=%{x}<br>MovingAverageAgainst=%{y}<extra></extra>\",\"legendgroup\":\"Liverpool\",\"marker\":{\"color\":\"#636efa\",\"symbol\":\"circle\"},\"mode\":\"markers\",\"name\":\"Liverpool\",\"orientation\":\"v\",\"showlegend\":true,\"x\":[3.0],\"xaxis\":\"x\",\"y\":[0.2],\"yaxis\":\"y\",\"type\":\"scatter\"},{\"hovertemplate\":\"Team=Aston Villa<br>MatchesPlayed=10<br>MovingAverageFor=%{x}<br>MovingAverageAgainst=%{y}<extra></extra>\",\"legendgroup\":\"Aston Villa\",\"marker\":{\"color\":\"#EF553B\",\"symbol\":\"circle\"},\"mode\":\"markers\",\"name\":\"Aston Villa\",\"orientation\":\"v\",\"showlegend\":true,\"x\":[1.6],\"xaxis\":\"x\",\"y\":[1.6],\"yaxis\":\"y\",\"type\":\"scatter\"},{\"hovertemplate\":\"Team=Crystal Palace<br>MatchesPlayed=10<br>MovingAverageFor=%{x}<br>MovingAverageAgainst=%{y}<extra></extra>\",\"legendgroup\":\"Crystal Palace\",\"marker\":{\"color\":\"#00cc96\",\"symbol\":\"circle\"},\"mode\":\"markers\",\"name\":\"Crystal Palace\",\"orientation\":\"v\",\"showlegend\":true,\"x\":[2.2],\"xaxis\":\"x\",\"y\":[1.0],\"yaxis\":\"y\",\"type\":\"scatter\"},{\"hovertemplate\":\"Team=Leeds<br>MatchesPlayed=10<br>MovingAverageFor=%{x}<br>MovingAverageAgainst=%{y}<extra></extra>\",\"legendgroup\":\"Leeds\",\"marker\":{\"color\":\"#ab63fa\",\"symbol\":\"circle\"},\"mode\":\"markers\",\"name\":\"Leeds\",\"orientation\":\"v\",\"showlegend\":true,\"x\":[1.6],\"xaxis\":\"x\",\"y\":[1.6],\"yaxis\":\"y\",\"type\":\"scatter\"},{\"hovertemplate\":\"Team=Man City<br>MatchesPlayed=10<br>MovingAverageFor=%{x}<br>MovingAverageAgainst=%{y}<extra></extra>\",\"legendgroup\":\"Man City\",\"marker\":{\"color\":\"#FFA15A\",\"symbol\":\"circle\"},\"mode\":\"markers\",\"name\":\"Man City\",\"orientation\":\"v\",\"showlegend\":true,\"x\":[3.8],\"xaxis\":\"x\",\"y\":[0.8],\"yaxis\":\"y\",\"type\":\"scatter\"},{\"hovertemplate\":\"Team=Brighton<br>MatchesPlayed=10<br>MovingAverageFor=%{x}<br>MovingAverageAgainst=%{y}<extra></extra>\",\"legendgroup\":\"Brighton\",\"marker\":{\"color\":\"#19d3f3\",\"symbol\":\"circle\"},\"mode\":\"markers\",\"name\":\"Brighton\",\"orientation\":\"v\",\"showlegend\":true,\"x\":[0.8],\"xaxis\":\"x\",\"y\":[0.6],\"yaxis\":\"y\",\"type\":\"scatter\"},{\"hovertemplate\":\"Team=Southampton<br>MatchesPlayed=10<br>MovingAverageFor=%{x}<br>MovingAverageAgainst=%{y}<extra></extra>\",\"legendgroup\":\"Southampton\",\"marker\":{\"color\":\"#FF6692\",\"symbol\":\"circle\"},\"mode\":\"markers\",\"name\":\"Southampton\",\"orientation\":\"v\",\"showlegend\":true,\"x\":[1.8],\"xaxis\":\"x\",\"y\":[1.0],\"yaxis\":\"y\",\"type\":\"scatter\"},{\"hovertemplate\":\"Team=Wolves<br>MatchesPlayed=10<br>MovingAverageFor=%{x}<br>MovingAverageAgainst=%{y}<extra></extra>\",\"legendgroup\":\"Wolves\",\"marker\":{\"color\":\"#B6E880\",\"symbol\":\"circle\"},\"mode\":\"markers\",\"name\":\"Wolves\",\"orientation\":\"v\",\"showlegend\":true,\"x\":[0.8],\"xaxis\":\"x\",\"y\":[0.4],\"yaxis\":\"y\",\"type\":\"scatter\"},{\"hovertemplate\":\"Team=Arsenal<br>MatchesPlayed=10<br>MovingAverageFor=%{x}<br>MovingAverageAgainst=%{y}<extra></extra>\",\"legendgroup\":\"Arsenal\",\"marker\":{\"color\":\"#FF97FF\",\"symbol\":\"circle\"},\"mode\":\"markers\",\"name\":\"Arsenal\",\"orientation\":\"v\",\"showlegend\":true,\"x\":[1.8],\"xaxis\":\"x\",\"y\":[0.4],\"yaxis\":\"y\",\"type\":\"scatter\"},{\"hovertemplate\":\"Team=West Ham<br>MatchesPlayed=10<br>MovingAverageFor=%{x}<br>MovingAverageAgainst=%{y}<extra></extra>\",\"legendgroup\":\"West Ham\",\"marker\":{\"color\":\"#FECB52\",\"symbol\":\"circle\"},\"mode\":\"markers\",\"name\":\"West Ham\",\"orientation\":\"v\",\"showlegend\":true,\"x\":[2.2],\"xaxis\":\"x\",\"y\":[1.6],\"yaxis\":\"y\",\"type\":\"scatter\"}],\"name\":\"10\"},{\"data\":[{\"hovertemplate\":\"Team=Brentford<br>MatchesPlayed=11<br>MovingAverageFor=%{x}<br>MovingAverageAgainst=%{y}<extra></extra>\",\"legendgroup\":\"Brentford\",\"marker\":{\"color\":\"#636efa\",\"symbol\":\"circle\"},\"mode\":\"markers\",\"name\":\"Brentford\",\"orientation\":\"v\",\"showlegend\":true,\"x\":[1.2],\"xaxis\":\"x\",\"y\":[1.2],\"yaxis\":\"y\",\"type\":\"scatter\"},{\"hovertemplate\":\"Team=Man United<br>MatchesPlayed=11<br>MovingAverageFor=%{x}<br>MovingAverageAgainst=%{y}<extra></extra>\",\"legendgroup\":\"Man United\",\"marker\":{\"color\":\"#EF553B\",\"symbol\":\"circle\"},\"mode\":\"markers\",\"name\":\"Man United\",\"orientation\":\"v\",\"showlegend\":true,\"x\":[1.6],\"xaxis\":\"x\",\"y\":[0.8],\"yaxis\":\"y\",\"type\":\"scatter\"},{\"hovertemplate\":\"Team=Burnley<br>MatchesPlayed=11<br>MovingAverageFor=%{x}<br>MovingAverageAgainst=%{y}<extra></extra>\",\"legendgroup\":\"Burnley\",\"marker\":{\"color\":\"#00cc96\",\"symbol\":\"circle\"},\"mode\":\"markers\",\"name\":\"Burnley\",\"orientation\":\"v\",\"showlegend\":true,\"x\":[0.4],\"xaxis\":\"x\",\"y\":[0.4],\"yaxis\":\"y\",\"type\":\"scatter\"},{\"hovertemplate\":\"Team=Chelsea<br>MatchesPlayed=11<br>MovingAverageFor=%{x}<br>MovingAverageAgainst=%{y}<extra></extra>\",\"legendgroup\":\"Chelsea\",\"marker\":{\"color\":\"#ab63fa\",\"symbol\":\"circle\"},\"mode\":\"markers\",\"name\":\"Chelsea\",\"orientation\":\"v\",\"showlegend\":true,\"x\":[1.6],\"xaxis\":\"x\",\"y\":[1.4],\"yaxis\":\"y\",\"type\":\"scatter\"},{\"hovertemplate\":\"Team=Everton<br>MatchesPlayed=11<br>MovingAverageFor=%{x}<br>MovingAverageAgainst=%{y}<extra></extra>\",\"legendgroup\":\"Everton\",\"marker\":{\"color\":\"#FFA15A\",\"symbol\":\"circle\"},\"mode\":\"markers\",\"name\":\"Everton\",\"orientation\":\"v\",\"showlegend\":true,\"x\":[1.6],\"xaxis\":\"x\",\"y\":[1.8],\"yaxis\":\"y\",\"type\":\"scatter\"},{\"hovertemplate\":\"Team=Leicester<br>MatchesPlayed=11<br>MovingAverageFor=%{x}<br>MovingAverageAgainst=%{y}<extra></extra>\",\"legendgroup\":\"Leicester\",\"marker\":{\"color\":\"#19d3f3\",\"symbol\":\"circle\"},\"mode\":\"markers\",\"name\":\"Leicester\",\"orientation\":\"v\",\"showlegend\":true,\"x\":[2.4],\"xaxis\":\"x\",\"y\":[1.2],\"yaxis\":\"y\",\"type\":\"scatter\"},{\"hovertemplate\":\"Team=Watford<br>MatchesPlayed=11<br>MovingAverageFor=%{x}<br>MovingAverageAgainst=%{y}<extra></extra>\",\"legendgroup\":\"Watford\",\"marker\":{\"color\":\"#FF6692\",\"symbol\":\"circle\"},\"mode\":\"markers\",\"name\":\"Watford\",\"orientation\":\"v\",\"showlegend\":true,\"x\":[0.6],\"xaxis\":\"x\",\"y\":[2.6],\"yaxis\":\"y\",\"type\":\"scatter\"},{\"hovertemplate\":\"Team=Norwich<br>MatchesPlayed=11<br>MovingAverageFor=%{x}<br>MovingAverageAgainst=%{y}<extra></extra>\",\"legendgroup\":\"Norwich\",\"marker\":{\"color\":\"#B6E880\",\"symbol\":\"circle\"},\"mode\":\"markers\",\"name\":\"Norwich\",\"orientation\":\"v\",\"showlegend\":true,\"x\":[0.4],\"xaxis\":\"x\",\"y\":[1.8],\"yaxis\":\"y\",\"type\":\"scatter\"},{\"hovertemplate\":\"Team=Newcastle<br>MatchesPlayed=11<br>MovingAverageFor=%{x}<br>MovingAverageAgainst=%{y}<extra></extra>\",\"legendgroup\":\"Newcastle\",\"marker\":{\"color\":\"#FF97FF\",\"symbol\":\"circle\"},\"mode\":\"markers\",\"name\":\"Newcastle\",\"orientation\":\"v\",\"showlegend\":true,\"x\":[0.8],\"xaxis\":\"x\",\"y\":[1.4],\"yaxis\":\"y\",\"type\":\"scatter\"},{\"hovertemplate\":\"Team=Tottenham<br>MatchesPlayed=11<br>MovingAverageFor=%{x}<br>MovingAverageAgainst=%{y}<extra></extra>\",\"legendgroup\":\"Tottenham\",\"marker\":{\"color\":\"#FECB52\",\"symbol\":\"circle\"},\"mode\":\"markers\",\"name\":\"Tottenham\",\"orientation\":\"v\",\"showlegend\":true,\"x\":[2.4],\"xaxis\":\"x\",\"y\":[1.0],\"yaxis\":\"y\",\"type\":\"scatter\"},{\"hovertemplate\":\"Team=Liverpool<br>MatchesPlayed=11<br>MovingAverageFor=%{x}<br>MovingAverageAgainst=%{y}<extra></extra>\",\"legendgroup\":\"Liverpool\",\"marker\":{\"color\":\"#636efa\",\"symbol\":\"circle\"},\"mode\":\"markers\",\"name\":\"Liverpool\",\"orientation\":\"v\",\"showlegend\":true,\"x\":[2.6],\"xaxis\":\"x\",\"y\":[0.2],\"yaxis\":\"y\",\"type\":\"scatter\"},{\"hovertemplate\":\"Team=Aston Villa<br>MatchesPlayed=11<br>MovingAverageFor=%{x}<br>MovingAverageAgainst=%{y}<extra></extra>\",\"legendgroup\":\"Aston Villa\",\"marker\":{\"color\":\"#EF553B\",\"symbol\":\"circle\"},\"mode\":\"markers\",\"name\":\"Aston Villa\",\"orientation\":\"v\",\"showlegend\":true,\"x\":[1.8],\"xaxis\":\"x\",\"y\":[2.2],\"yaxis\":\"y\",\"type\":\"scatter\"},{\"hovertemplate\":\"Team=Crystal Palace<br>MatchesPlayed=11<br>MovingAverageFor=%{x}<br>MovingAverageAgainst=%{y}<extra></extra>\",\"legendgroup\":\"Crystal Palace\",\"marker\":{\"color\":\"#00cc96\",\"symbol\":\"circle\"},\"mode\":\"markers\",\"name\":\"Crystal Palace\",\"orientation\":\"v\",\"showlegend\":true,\"x\":[2.2],\"xaxis\":\"x\",\"y\":[1.6],\"yaxis\":\"y\",\"type\":\"scatter\"},{\"hovertemplate\":\"Team=Leeds<br>MatchesPlayed=11<br>MovingAverageFor=%{x}<br>MovingAverageAgainst=%{y}<extra></extra>\",\"legendgroup\":\"Leeds\",\"marker\":{\"color\":\"#ab63fa\",\"symbol\":\"circle\"},\"mode\":\"markers\",\"name\":\"Leeds\",\"orientation\":\"v\",\"showlegend\":true,\"x\":[1.4],\"xaxis\":\"x\",\"y\":[1.6],\"yaxis\":\"y\",\"type\":\"scatter\"},{\"hovertemplate\":\"Team=Man City<br>MatchesPlayed=11<br>MovingAverageFor=%{x}<br>MovingAverageAgainst=%{y}<extra></extra>\",\"legendgroup\":\"Man City\",\"marker\":{\"color\":\"#FFA15A\",\"symbol\":\"circle\"},\"mode\":\"markers\",\"name\":\"Man City\",\"orientation\":\"v\",\"showlegend\":true,\"x\":[3.4],\"xaxis\":\"x\",\"y\":[0.8],\"yaxis\":\"y\",\"type\":\"scatter\"},{\"hovertemplate\":\"Team=Brighton<br>MatchesPlayed=11<br>MovingAverageFor=%{x}<br>MovingAverageAgainst=%{y}<extra></extra>\",\"legendgroup\":\"Brighton\",\"marker\":{\"color\":\"#19d3f3\",\"symbol\":\"circle\"},\"mode\":\"markers\",\"name\":\"Brighton\",\"orientation\":\"v\",\"showlegend\":true,\"x\":[0.8],\"xaxis\":\"x\",\"y\":[0.6],\"yaxis\":\"y\",\"type\":\"scatter\"},{\"hovertemplate\":\"Team=Southampton<br>MatchesPlayed=11<br>MovingAverageFor=%{x}<br>MovingAverageAgainst=%{y}<extra></extra>\",\"legendgroup\":\"Southampton\",\"marker\":{\"color\":\"#FF6692\",\"symbol\":\"circle\"},\"mode\":\"markers\",\"name\":\"Southampton\",\"orientation\":\"v\",\"showlegend\":true,\"x\":[1.8],\"xaxis\":\"x\",\"y\":[1.2],\"yaxis\":\"y\",\"type\":\"scatter\"},{\"hovertemplate\":\"Team=Wolves<br>MatchesPlayed=11<br>MovingAverageFor=%{x}<br>MovingAverageAgainst=%{y}<extra></extra>\",\"legendgroup\":\"Wolves\",\"marker\":{\"color\":\"#B6E880\",\"symbol\":\"circle\"},\"mode\":\"markers\",\"name\":\"Wolves\",\"orientation\":\"v\",\"showlegend\":true,\"x\":[0.6],\"xaxis\":\"x\",\"y\":[0.6],\"yaxis\":\"y\",\"type\":\"scatter\"},{\"hovertemplate\":\"Team=Arsenal<br>MatchesPlayed=11<br>MovingAverageFor=%{x}<br>MovingAverageAgainst=%{y}<extra></extra>\",\"legendgroup\":\"Arsenal\",\"marker\":{\"color\":\"#FF97FF\",\"symbol\":\"circle\"},\"mode\":\"markers\",\"name\":\"Arsenal\",\"orientation\":\"v\",\"showlegend\":true,\"x\":[1.6],\"xaxis\":\"x\",\"y\":[0.4],\"yaxis\":\"y\",\"type\":\"scatter\"},{\"hovertemplate\":\"Team=West Ham<br>MatchesPlayed=11<br>MovingAverageFor=%{x}<br>MovingAverageAgainst=%{y}<extra></extra>\",\"legendgroup\":\"West Ham\",\"marker\":{\"color\":\"#FECB52\",\"symbol\":\"circle\"},\"mode\":\"markers\",\"name\":\"West Ham\",\"orientation\":\"v\",\"showlegend\":true,\"x\":[2.0],\"xaxis\":\"x\",\"y\":[1.8],\"yaxis\":\"y\",\"type\":\"scatter\"}],\"name\":\"11\"},{\"data\":[{\"hovertemplate\":\"Team=Brentford<br>MatchesPlayed=12<br>MovingAverageFor=%{x}<br>MovingAverageAgainst=%{y}<extra></extra>\",\"legendgroup\":\"Brentford\",\"marker\":{\"color\":\"#636efa\",\"symbol\":\"circle\"},\"mode\":\"markers\",\"name\":\"Brentford\",\"orientation\":\"v\",\"showlegend\":true,\"x\":[1.2],\"xaxis\":\"x\",\"y\":[1.6],\"yaxis\":\"y\",\"type\":\"scatter\"},{\"hovertemplate\":\"Team=Man United<br>MatchesPlayed=12<br>MovingAverageFor=%{x}<br>MovingAverageAgainst=%{y}<extra></extra>\",\"legendgroup\":\"Man United\",\"marker\":{\"color\":\"#EF553B\",\"symbol\":\"circle\"},\"mode\":\"markers\",\"name\":\"Man United\",\"orientation\":\"v\",\"showlegend\":true,\"x\":[1.2],\"xaxis\":\"x\",\"y\":[0.6],\"yaxis\":\"y\",\"type\":\"scatter\"},{\"hovertemplate\":\"Team=Burnley<br>MatchesPlayed=12<br>MovingAverageFor=%{x}<br>MovingAverageAgainst=%{y}<extra></extra>\",\"legendgroup\":\"Burnley\",\"marker\":{\"color\":\"#00cc96\",\"symbol\":\"circle\"},\"mode\":\"markers\",\"name\":\"Burnley\",\"orientation\":\"v\",\"showlegend\":true,\"x\":[0.4],\"xaxis\":\"x\",\"y\":[0.8],\"yaxis\":\"y\",\"type\":\"scatter\"},{\"hovertemplate\":\"Team=Chelsea<br>MatchesPlayed=12<br>MovingAverageFor=%{x}<br>MovingAverageAgainst=%{y}<extra></extra>\",\"legendgroup\":\"Chelsea\",\"marker\":{\"color\":\"#ab63fa\",\"symbol\":\"circle\"},\"mode\":\"markers\",\"name\":\"Chelsea\",\"orientation\":\"v\",\"showlegend\":true,\"x\":[1.8],\"xaxis\":\"x\",\"y\":[1.2],\"yaxis\":\"y\",\"type\":\"scatter\"},{\"hovertemplate\":\"Team=Everton<br>MatchesPlayed=12<br>MovingAverageFor=%{x}<br>MovingAverageAgainst=%{y}<extra></extra>\",\"legendgroup\":\"Everton\",\"marker\":{\"color\":\"#FFA15A\",\"symbol\":\"circle\"},\"mode\":\"markers\",\"name\":\"Everton\",\"orientation\":\"v\",\"showlegend\":true,\"x\":[1.4],\"xaxis\":\"x\",\"y\":[1.2],\"yaxis\":\"y\",\"type\":\"scatter\"},{\"hovertemplate\":\"Team=Leicester<br>MatchesPlayed=12<br>MovingAverageFor=%{x}<br>MovingAverageAgainst=%{y}<extra></extra>\",\"legendgroup\":\"Leicester\",\"marker\":{\"color\":\"#19d3f3\",\"symbol\":\"circle\"},\"mode\":\"markers\",\"name\":\"Leicester\",\"orientation\":\"v\",\"showlegend\":true,\"x\":[2.0],\"xaxis\":\"x\",\"y\":[1.2],\"yaxis\":\"y\",\"type\":\"scatter\"},{\"hovertemplate\":\"Team=Watford<br>MatchesPlayed=12<br>MovingAverageFor=%{x}<br>MovingAverageAgainst=%{y}<extra></extra>\",\"legendgroup\":\"Watford\",\"marker\":{\"color\":\"#FF6692\",\"symbol\":\"circle\"},\"mode\":\"markers\",\"name\":\"Watford\",\"orientation\":\"v\",\"showlegend\":true,\"x\":[0.4],\"xaxis\":\"x\",\"y\":[2.6],\"yaxis\":\"y\",\"type\":\"scatter\"},{\"hovertemplate\":\"Team=Norwich<br>MatchesPlayed=12<br>MovingAverageFor=%{x}<br>MovingAverageAgainst=%{y}<extra></extra>\",\"legendgroup\":\"Norwich\",\"marker\":{\"color\":\"#B6E880\",\"symbol\":\"circle\"},\"mode\":\"markers\",\"name\":\"Norwich\",\"orientation\":\"v\",\"showlegend\":true,\"x\":[0.6],\"xaxis\":\"x\",\"y\":[2.0],\"yaxis\":\"y\",\"type\":\"scatter\"},{\"hovertemplate\":\"Team=Newcastle<br>MatchesPlayed=12<br>MovingAverageFor=%{x}<br>MovingAverageAgainst=%{y}<extra></extra>\",\"legendgroup\":\"Newcastle\",\"marker\":{\"color\":\"#FF97FF\",\"symbol\":\"circle\"},\"mode\":\"markers\",\"name\":\"Newcastle\",\"orientation\":\"v\",\"showlegend\":true,\"x\":[1.2],\"xaxis\":\"x\",\"y\":[1.4],\"yaxis\":\"y\",\"type\":\"scatter\"},{\"hovertemplate\":\"Team=Tottenham<br>MatchesPlayed=12<br>MovingAverageFor=%{x}<br>MovingAverageAgainst=%{y}<extra></extra>\",\"legendgroup\":\"Tottenham\",\"marker\":{\"color\":\"#FECB52\",\"symbol\":\"circle\"},\"mode\":\"markers\",\"name\":\"Tottenham\",\"orientation\":\"v\",\"showlegend\":true,\"x\":[2.0],\"xaxis\":\"x\",\"y\":[1.4],\"yaxis\":\"y\",\"type\":\"scatter\"},{\"hovertemplate\":\"Team=Liverpool<br>MatchesPlayed=12<br>MovingAverageFor=%{x}<br>MovingAverageAgainst=%{y}<extra></extra>\",\"legendgroup\":\"Liverpool\",\"marker\":{\"color\":\"#636efa\",\"symbol\":\"circle\"},\"mode\":\"markers\",\"name\":\"Liverpool\",\"orientation\":\"v\",\"showlegend\":true,\"x\":[2.4],\"xaxis\":\"x\",\"y\":[0.4],\"yaxis\":\"y\",\"type\":\"scatter\"},{\"hovertemplate\":\"Team=Aston Villa<br>MatchesPlayed=12<br>MovingAverageFor=%{x}<br>MovingAverageAgainst=%{y}<extra></extra>\",\"legendgroup\":\"Aston Villa\",\"marker\":{\"color\":\"#EF553B\",\"symbol\":\"circle\"},\"mode\":\"markers\",\"name\":\"Aston Villa\",\"orientation\":\"v\",\"showlegend\":true,\"x\":[1.6],\"xaxis\":\"x\",\"y\":[2.0],\"yaxis\":\"y\",\"type\":\"scatter\"},{\"hovertemplate\":\"Team=Crystal Palace<br>MatchesPlayed=12<br>MovingAverageFor=%{x}<br>MovingAverageAgainst=%{y}<extra></extra>\",\"legendgroup\":\"Crystal Palace\",\"marker\":{\"color\":\"#00cc96\",\"symbol\":\"circle\"},\"mode\":\"markers\",\"name\":\"Crystal Palace\",\"orientation\":\"v\",\"showlegend\":true,\"x\":[2.2],\"xaxis\":\"x\",\"y\":[1.8],\"yaxis\":\"y\",\"type\":\"scatter\"},{\"hovertemplate\":\"Team=Leeds<br>MatchesPlayed=12<br>MovingAverageFor=%{x}<br>MovingAverageAgainst=%{y}<extra></extra>\",\"legendgroup\":\"Leeds\",\"marker\":{\"color\":\"#ab63fa\",\"symbol\":\"circle\"},\"mode\":\"markers\",\"name\":\"Leeds\",\"orientation\":\"v\",\"showlegend\":true,\"x\":[1.6],\"xaxis\":\"x\",\"y\":[2.4],\"yaxis\":\"y\",\"type\":\"scatter\"},{\"hovertemplate\":\"Team=Man City<br>MatchesPlayed=12<br>MovingAverageFor=%{x}<br>MovingAverageAgainst=%{y}<extra></extra>\",\"legendgroup\":\"Man City\",\"marker\":{\"color\":\"#FFA15A\",\"symbol\":\"circle\"},\"mode\":\"markers\",\"name\":\"Man City\",\"orientation\":\"v\",\"showlegend\":true,\"x\":[3.4],\"xaxis\":\"x\",\"y\":[0.6],\"yaxis\":\"y\",\"type\":\"scatter\"},{\"hovertemplate\":\"Team=Brighton<br>MatchesPlayed=12<br>MovingAverageFor=%{x}<br>MovingAverageAgainst=%{y}<extra></extra>\",\"legendgroup\":\"Brighton\",\"marker\":{\"color\":\"#19d3f3\",\"symbol\":\"circle\"},\"mode\":\"markers\",\"name\":\"Brighton\",\"orientation\":\"v\",\"showlegend\":true,\"x\":[0.8],\"xaxis\":\"x\",\"y\":[1.2],\"yaxis\":\"y\",\"type\":\"scatter\"},{\"hovertemplate\":\"Team=Southampton<br>MatchesPlayed=12<br>MovingAverageFor=%{x}<br>MovingAverageAgainst=%{y}<extra></extra>\",\"legendgroup\":\"Southampton\",\"marker\":{\"color\":\"#FF6692\",\"symbol\":\"circle\"},\"mode\":\"markers\",\"name\":\"Southampton\",\"orientation\":\"v\",\"showlegend\":true,\"x\":[1.8],\"xaxis\":\"x\",\"y\":[0.8],\"yaxis\":\"y\",\"type\":\"scatter\"},{\"hovertemplate\":\"Team=Wolves<br>MatchesPlayed=12<br>MovingAverageFor=%{x}<br>MovingAverageAgainst=%{y}<extra></extra>\",\"legendgroup\":\"Wolves\",\"marker\":{\"color\":\"#B6E880\",\"symbol\":\"circle\"},\"mode\":\"markers\",\"name\":\"Wolves\",\"orientation\":\"v\",\"showlegend\":true,\"x\":[1.0],\"xaxis\":\"x\",\"y\":[0.8],\"yaxis\":\"y\",\"type\":\"scatter\"},{\"hovertemplate\":\"Team=Arsenal<br>MatchesPlayed=12<br>MovingAverageFor=%{x}<br>MovingAverageAgainst=%{y}<extra></extra>\",\"legendgroup\":\"Arsenal\",\"marker\":{\"color\":\"#FF97FF\",\"symbol\":\"circle\"},\"mode\":\"markers\",\"name\":\"Arsenal\",\"orientation\":\"v\",\"showlegend\":true,\"x\":[1.6],\"xaxis\":\"x\",\"y\":[0.6],\"yaxis\":\"y\",\"type\":\"scatter\"},{\"hovertemplate\":\"Team=West Ham<br>MatchesPlayed=12<br>MovingAverageFor=%{x}<br>MovingAverageAgainst=%{y}<extra></extra>\",\"legendgroup\":\"West Ham\",\"marker\":{\"color\":\"#FECB52\",\"symbol\":\"circle\"},\"mode\":\"markers\",\"name\":\"West Ham\",\"orientation\":\"v\",\"showlegend\":true,\"x\":[2.0],\"xaxis\":\"x\",\"y\":[1.6],\"yaxis\":\"y\",\"type\":\"scatter\"}],\"name\":\"12\"},{\"data\":[{\"hovertemplate\":\"Team=Brentford<br>MatchesPlayed=13<br>MovingAverageFor=%{x}<br>MovingAverageAgainst=%{y}<extra></extra>\",\"legendgroup\":\"Brentford\",\"marker\":{\"color\":\"#636efa\",\"symbol\":\"circle\"},\"mode\":\"markers\",\"name\":\"Brentford\",\"orientation\":\"v\",\"showlegend\":true,\"x\":[0.8],\"xaxis\":\"x\",\"y\":[1.4],\"yaxis\":\"y\",\"type\":\"scatter\"},{\"hovertemplate\":\"Team=Man United<br>MatchesPlayed=13<br>MovingAverageFor=%{x}<br>MovingAverageAgainst=%{y}<extra></extra>\",\"legendgroup\":\"Man United\",\"marker\":{\"color\":\"#EF553B\",\"symbol\":\"circle\"},\"mode\":\"markers\",\"name\":\"Man United\",\"orientation\":\"v\",\"showlegend\":true,\"x\":[1.4],\"xaxis\":\"x\",\"y\":[0.6],\"yaxis\":\"y\",\"type\":\"scatter\"},{\"hovertemplate\":\"Team=Burnley<br>MatchesPlayed=13<br>MovingAverageFor=%{x}<br>MovingAverageAgainst=%{y}<extra></extra>\",\"legendgroup\":\"Burnley\",\"marker\":{\"color\":\"#00cc96\",\"symbol\":\"circle\"},\"mode\":\"markers\",\"name\":\"Burnley\",\"orientation\":\"v\",\"showlegend\":true,\"x\":[0.4],\"xaxis\":\"x\",\"y\":[1.6],\"yaxis\":\"y\",\"type\":\"scatter\"},{\"hovertemplate\":\"Team=Chelsea<br>MatchesPlayed=13<br>MovingAverageFor=%{x}<br>MovingAverageAgainst=%{y}<extra></extra>\",\"legendgroup\":\"Chelsea\",\"marker\":{\"color\":\"#ab63fa\",\"symbol\":\"circle\"},\"mode\":\"markers\",\"name\":\"Chelsea\",\"orientation\":\"v\",\"showlegend\":true,\"x\":[1.4],\"xaxis\":\"x\",\"y\":[0.8],\"yaxis\":\"y\",\"type\":\"scatter\"},{\"hovertemplate\":\"Team=Everton<br>MatchesPlayed=13<br>MovingAverageFor=%{x}<br>MovingAverageAgainst=%{y}<extra></extra>\",\"legendgroup\":\"Everton\",\"marker\":{\"color\":\"#FFA15A\",\"symbol\":\"circle\"},\"mode\":\"markers\",\"name\":\"Everton\",\"orientation\":\"v\",\"showlegend\":true,\"x\":[1.0],\"xaxis\":\"x\",\"y\":[1.2],\"yaxis\":\"y\",\"type\":\"scatter\"},{\"hovertemplate\":\"Team=Leicester<br>MatchesPlayed=13<br>MovingAverageFor=%{x}<br>MovingAverageAgainst=%{y}<extra></extra>\",\"legendgroup\":\"Leicester\",\"marker\":{\"color\":\"#19d3f3\",\"symbol\":\"circle\"},\"mode\":\"markers\",\"name\":\"Leicester\",\"orientation\":\"v\",\"showlegend\":true,\"x\":[1.4],\"xaxis\":\"x\",\"y\":[1.2],\"yaxis\":\"y\",\"type\":\"scatter\"},{\"hovertemplate\":\"Team=Watford<br>MatchesPlayed=13<br>MovingAverageFor=%{x}<br>MovingAverageAgainst=%{y}<extra></extra>\",\"legendgroup\":\"Watford\",\"marker\":{\"color\":\"#FF6692\",\"symbol\":\"circle\"},\"mode\":\"markers\",\"name\":\"Watford\",\"orientation\":\"v\",\"showlegend\":true,\"x\":[0.4],\"xaxis\":\"x\",\"y\":[2.8],\"yaxis\":\"y\",\"type\":\"scatter\"},{\"hovertemplate\":\"Team=Norwich<br>MatchesPlayed=13<br>MovingAverageFor=%{x}<br>MovingAverageAgainst=%{y}<extra></extra>\",\"legendgroup\":\"Norwich\",\"marker\":{\"color\":\"#B6E880\",\"symbol\":\"circle\"},\"mode\":\"markers\",\"name\":\"Norwich\",\"orientation\":\"v\",\"showlegend\":true,\"x\":[0.6],\"xaxis\":\"x\",\"y\":[2.6],\"yaxis\":\"y\",\"type\":\"scatter\"},{\"hovertemplate\":\"Team=Newcastle<br>MatchesPlayed=13<br>MovingAverageFor=%{x}<br>MovingAverageAgainst=%{y}<extra></extra>\",\"legendgroup\":\"Newcastle\",\"marker\":{\"color\":\"#FF97FF\",\"symbol\":\"circle\"},\"mode\":\"markers\",\"name\":\"Newcastle\",\"orientation\":\"v\",\"showlegend\":true,\"x\":[1.2],\"xaxis\":\"x\",\"y\":[1.4],\"yaxis\":\"y\",\"type\":\"scatter\"},{\"hovertemplate\":\"Team=Tottenham<br>MatchesPlayed=13<br>MovingAverageFor=%{x}<br>MovingAverageAgainst=%{y}<extra></extra>\",\"legendgroup\":\"Tottenham\",\"marker\":{\"color\":\"#FECB52\",\"symbol\":\"circle\"},\"mode\":\"markers\",\"name\":\"Tottenham\",\"orientation\":\"v\",\"showlegend\":true,\"x\":[2.4],\"xaxis\":\"x\",\"y\":[1.4],\"yaxis\":\"y\",\"type\":\"scatter\"},{\"hovertemplate\":\"Team=Liverpool<br>MatchesPlayed=13<br>MovingAverageFor=%{x}<br>MovingAverageAgainst=%{y}<extra></extra>\",\"legendgroup\":\"Liverpool\",\"marker\":{\"color\":\"#636efa\",\"symbol\":\"circle\"},\"mode\":\"markers\",\"name\":\"Liverpool\",\"orientation\":\"v\",\"showlegend\":true,\"x\":[3.4],\"xaxis\":\"x\",\"y\":[0.4],\"yaxis\":\"y\",\"type\":\"scatter\"},{\"hovertemplate\":\"Team=Aston Villa<br>MatchesPlayed=13<br>MovingAverageFor=%{x}<br>MovingAverageAgainst=%{y}<extra></extra>\",\"legendgroup\":\"Aston Villa\",\"marker\":{\"color\":\"#EF553B\",\"symbol\":\"circle\"},\"mode\":\"markers\",\"name\":\"Aston Villa\",\"orientation\":\"v\",\"showlegend\":true,\"x\":[2.0],\"xaxis\":\"x\",\"y\":[1.8],\"yaxis\":\"y\",\"type\":\"scatter\"},{\"hovertemplate\":\"Team=Crystal Palace<br>MatchesPlayed=13<br>MovingAverageFor=%{x}<br>MovingAverageAgainst=%{y}<extra></extra>\",\"legendgroup\":\"Crystal Palace\",\"marker\":{\"color\":\"#00cc96\",\"symbol\":\"circle\"},\"mode\":\"markers\",\"name\":\"Crystal Palace\",\"orientation\":\"v\",\"showlegend\":true,\"x\":[1.6],\"xaxis\":\"x\",\"y\":[1.8],\"yaxis\":\"y\",\"type\":\"scatter\"},{\"hovertemplate\":\"Team=Leeds<br>MatchesPlayed=13<br>MovingAverageFor=%{x}<br>MovingAverageAgainst=%{y}<extra></extra>\",\"legendgroup\":\"Leeds\",\"marker\":{\"color\":\"#ab63fa\",\"symbol\":\"circle\"},\"mode\":\"markers\",\"name\":\"Leeds\",\"orientation\":\"v\",\"showlegend\":true,\"x\":[1.2],\"xaxis\":\"x\",\"y\":[2.8],\"yaxis\":\"y\",\"type\":\"scatter\"},{\"hovertemplate\":\"Team=Man City<br>MatchesPlayed=13<br>MovingAverageFor=%{x}<br>MovingAverageAgainst=%{y}<extra></extra>\",\"legendgroup\":\"Man City\",\"marker\":{\"color\":\"#FFA15A\",\"symbol\":\"circle\"},\"mode\":\"markers\",\"name\":\"Man City\",\"orientation\":\"v\",\"showlegend\":true,\"x\":[3.6],\"xaxis\":\"x\",\"y\":[1.2],\"yaxis\":\"y\",\"type\":\"scatter\"},{\"hovertemplate\":\"Team=Brighton<br>MatchesPlayed=13<br>MovingAverageFor=%{x}<br>MovingAverageAgainst=%{y}<extra></extra>\",\"legendgroup\":\"Brighton\",\"marker\":{\"color\":\"#19d3f3\",\"symbol\":\"circle\"},\"mode\":\"markers\",\"name\":\"Brighton\",\"orientation\":\"v\",\"showlegend\":true,\"x\":[0.8],\"xaxis\":\"x\",\"y\":[1.4],\"yaxis\":\"y\",\"type\":\"scatter\"},{\"hovertemplate\":\"Team=Southampton<br>MatchesPlayed=13<br>MovingAverageFor=%{x}<br>MovingAverageAgainst=%{y}<extra></extra>\",\"legendgroup\":\"Southampton\",\"marker\":{\"color\":\"#FF6692\",\"symbol\":\"circle\"},\"mode\":\"markers\",\"name\":\"Southampton\",\"orientation\":\"v\",\"showlegend\":true,\"x\":[2.0],\"xaxis\":\"x\",\"y\":[0.6],\"yaxis\":\"y\",\"type\":\"scatter\"},{\"hovertemplate\":\"Team=Wolves<br>MatchesPlayed=13<br>MovingAverageFor=%{x}<br>MovingAverageAgainst=%{y}<extra></extra>\",\"legendgroup\":\"Wolves\",\"marker\":{\"color\":\"#B6E880\",\"symbol\":\"circle\"},\"mode\":\"markers\",\"name\":\"Wolves\",\"orientation\":\"v\",\"showlegend\":true,\"x\":[1.0],\"xaxis\":\"x\",\"y\":[1.0],\"yaxis\":\"y\",\"type\":\"scatter\"},{\"hovertemplate\":\"Team=Arsenal<br>MatchesPlayed=13<br>MovingAverageFor=%{x}<br>MovingAverageAgainst=%{y}<extra></extra>\",\"legendgroup\":\"Arsenal\",\"marker\":{\"color\":\"#FF97FF\",\"symbol\":\"circle\"},\"mode\":\"markers\",\"name\":\"Arsenal\",\"orientation\":\"v\",\"showlegend\":true,\"x\":[1.4],\"xaxis\":\"x\",\"y\":[0.8],\"yaxis\":\"y\",\"type\":\"scatter\"},{\"hovertemplate\":\"Team=West Ham<br>MatchesPlayed=13<br>MovingAverageFor=%{x}<br>MovingAverageAgainst=%{y}<extra></extra>\",\"legendgroup\":\"West Ham\",\"marker\":{\"color\":\"#FECB52\",\"symbol\":\"circle\"},\"mode\":\"markers\",\"name\":\"West Ham\",\"orientation\":\"v\",\"showlegend\":true,\"x\":[1.6],\"xaxis\":\"x\",\"y\":[1.4],\"yaxis\":\"y\",\"type\":\"scatter\"}],\"name\":\"13\"},{\"data\":[{\"hovertemplate\":\"Team=Brentford<br>MatchesPlayed=14<br>MovingAverageFor=%{x}<br>MovingAverageAgainst=%{y}<extra></extra>\",\"legendgroup\":\"Brentford\",\"marker\":{\"color\":\"#636efa\",\"symbol\":\"circle\"},\"mode\":\"markers\",\"name\":\"Brentford\",\"orientation\":\"v\",\"showlegend\":true,\"x\":[0.8],\"xaxis\":\"x\",\"y\":[1.6],\"yaxis\":\"y\",\"type\":\"scatter\"},{\"hovertemplate\":\"Team=Man United<br>MatchesPlayed=14<br>MovingAverageFor=%{x}<br>MovingAverageAgainst=%{y}<extra></extra>\",\"legendgroup\":\"Man United\",\"marker\":{\"color\":\"#EF553B\",\"symbol\":\"circle\"},\"mode\":\"markers\",\"name\":\"Man United\",\"orientation\":\"v\",\"showlegend\":true,\"x\":[0.8],\"xaxis\":\"x\",\"y\":[0.4],\"yaxis\":\"y\",\"type\":\"scatter\"},{\"hovertemplate\":\"Team=Burnley<br>MatchesPlayed=14<br>MovingAverageFor=%{x}<br>MovingAverageAgainst=%{y}<extra></extra>\",\"legendgroup\":\"Burnley\",\"marker\":{\"color\":\"#00cc96\",\"symbol\":\"circle\"},\"mode\":\"markers\",\"name\":\"Burnley\",\"orientation\":\"v\",\"showlegend\":true,\"x\":[0.2],\"xaxis\":\"x\",\"y\":[1.8],\"yaxis\":\"y\",\"type\":\"scatter\"},{\"hovertemplate\":\"Team=Chelsea<br>MatchesPlayed=14<br>MovingAverageFor=%{x}<br>MovingAverageAgainst=%{y}<extra></extra>\",\"legendgroup\":\"Chelsea\",\"marker\":{\"color\":\"#ab63fa\",\"symbol\":\"circle\"},\"mode\":\"markers\",\"name\":\"Chelsea\",\"orientation\":\"v\",\"showlegend\":true,\"x\":[1.4],\"xaxis\":\"x\",\"y\":[1.4],\"yaxis\":\"y\",\"type\":\"scatter\"},{\"hovertemplate\":\"Team=Everton<br>MatchesPlayed=14<br>MovingAverageFor=%{x}<br>MovingAverageAgainst=%{y}<extra></extra>\",\"legendgroup\":\"Everton\",\"marker\":{\"color\":\"#FFA15A\",\"symbol\":\"circle\"},\"mode\":\"markers\",\"name\":\"Everton\",\"orientation\":\"v\",\"showlegend\":true,\"x\":[0.8],\"xaxis\":\"x\",\"y\":[0.6],\"yaxis\":\"y\",\"type\":\"scatter\"},{\"hovertemplate\":\"Team=Leicester<br>MatchesPlayed=14<br>MovingAverageFor=%{x}<br>MovingAverageAgainst=%{y}<extra></extra>\",\"legendgroup\":\"Leicester\",\"marker\":{\"color\":\"#19d3f3\",\"symbol\":\"circle\"},\"mode\":\"markers\",\"name\":\"Leicester\",\"orientation\":\"v\",\"showlegend\":true,\"x\":[1.6],\"xaxis\":\"x\",\"y\":[1.4],\"yaxis\":\"y\",\"type\":\"scatter\"},{\"hovertemplate\":\"Team=Watford<br>MatchesPlayed=14<br>MovingAverageFor=%{x}<br>MovingAverageAgainst=%{y}<extra></extra>\",\"legendgroup\":\"Watford\",\"marker\":{\"color\":\"#FF6692\",\"symbol\":\"circle\"},\"mode\":\"markers\",\"name\":\"Watford\",\"orientation\":\"v\",\"showlegend\":true,\"x\":[0.6],\"xaxis\":\"x\",\"y\":[2.6],\"yaxis\":\"y\",\"type\":\"scatter\"},{\"hovertemplate\":\"Team=Norwich<br>MatchesPlayed=14<br>MovingAverageFor=%{x}<br>MovingAverageAgainst=%{y}<extra></extra>\",\"legendgroup\":\"Norwich\",\"marker\":{\"color\":\"#B6E880\",\"symbol\":\"circle\"},\"mode\":\"markers\",\"name\":\"Norwich\",\"orientation\":\"v\",\"showlegend\":true,\"x\":[0.8],\"xaxis\":\"x\",\"y\":[2.8],\"yaxis\":\"y\",\"type\":\"scatter\"},{\"hovertemplate\":\"Team=Newcastle<br>MatchesPlayed=14<br>MovingAverageFor=%{x}<br>MovingAverageAgainst=%{y}<extra></extra>\",\"legendgroup\":\"Newcastle\",\"marker\":{\"color\":\"#FF97FF\",\"symbol\":\"circle\"},\"mode\":\"markers\",\"name\":\"Newcastle\",\"orientation\":\"v\",\"showlegend\":true,\"x\":[1.6],\"xaxis\":\"x\",\"y\":[0.8],\"yaxis\":\"y\",\"type\":\"scatter\"},{\"hovertemplate\":\"Team=Tottenham<br>MatchesPlayed=14<br>MovingAverageFor=%{x}<br>MovingAverageAgainst=%{y}<extra></extra>\",\"legendgroup\":\"Tottenham\",\"marker\":{\"color\":\"#FECB52\",\"symbol\":\"circle\"},\"mode\":\"markers\",\"name\":\"Tottenham\",\"orientation\":\"v\",\"showlegend\":true,\"x\":[2.6],\"xaxis\":\"x\",\"y\":[1.2],\"yaxis\":\"y\",\"type\":\"scatter\"},{\"hovertemplate\":\"Team=Liverpool<br>MatchesPlayed=14<br>MovingAverageFor=%{x}<br>MovingAverageAgainst=%{y}<extra></extra>\",\"legendgroup\":\"Liverpool\",\"marker\":{\"color\":\"#636efa\",\"symbol\":\"circle\"},\"mode\":\"markers\",\"name\":\"Liverpool\",\"orientation\":\"v\",\"showlegend\":true,\"x\":[3.0],\"xaxis\":\"x\",\"y\":[0.2],\"yaxis\":\"y\",\"type\":\"scatter\"},{\"hovertemplate\":\"Team=Aston Villa<br>MatchesPlayed=14<br>MovingAverageFor=%{x}<br>MovingAverageAgainst=%{y}<extra></extra>\",\"legendgroup\":\"Aston Villa\",\"marker\":{\"color\":\"#EF553B\",\"symbol\":\"circle\"},\"mode\":\"markers\",\"name\":\"Aston Villa\",\"orientation\":\"v\",\"showlegend\":true,\"x\":[1.8],\"xaxis\":\"x\",\"y\":[1.4],\"yaxis\":\"y\",\"type\":\"scatter\"},{\"hovertemplate\":\"Team=Crystal Palace<br>MatchesPlayed=14<br>MovingAverageFor=%{x}<br>MovingAverageAgainst=%{y}<extra></extra>\",\"legendgroup\":\"Crystal Palace\",\"marker\":{\"color\":\"#00cc96\",\"symbol\":\"circle\"},\"mode\":\"markers\",\"name\":\"Crystal Palace\",\"orientation\":\"v\",\"showlegend\":true,\"x\":[1.4],\"xaxis\":\"x\",\"y\":[1.6],\"yaxis\":\"y\",\"type\":\"scatter\"},{\"hovertemplate\":\"Team=Leeds<br>MatchesPlayed=14<br>MovingAverageFor=%{x}<br>MovingAverageAgainst=%{y}<extra></extra>\",\"legendgroup\":\"Leeds\",\"marker\":{\"color\":\"#ab63fa\",\"symbol\":\"circle\"},\"mode\":\"markers\",\"name\":\"Leeds\",\"orientation\":\"v\",\"showlegend\":true,\"x\":[1.0],\"xaxis\":\"x\",\"y\":[2.6],\"yaxis\":\"y\",\"type\":\"scatter\"},{\"hovertemplate\":\"Team=Man City<br>MatchesPlayed=14<br>MovingAverageFor=%{x}<br>MovingAverageAgainst=%{y}<extra></extra>\",\"legendgroup\":\"Man City\",\"marker\":{\"color\":\"#FFA15A\",\"symbol\":\"circle\"},\"mode\":\"markers\",\"name\":\"Man City\",\"orientation\":\"v\",\"showlegend\":true,\"x\":[3.0],\"xaxis\":\"x\",\"y\":[1.4],\"yaxis\":\"y\",\"type\":\"scatter\"},{\"hovertemplate\":\"Team=Brighton<br>MatchesPlayed=14<br>MovingAverageFor=%{x}<br>MovingAverageAgainst=%{y}<extra></extra>\",\"legendgroup\":\"Brighton\",\"marker\":{\"color\":\"#19d3f3\",\"symbol\":\"circle\"},\"mode\":\"markers\",\"name\":\"Brighton\",\"orientation\":\"v\",\"showlegend\":true,\"x\":[0.4],\"xaxis\":\"x\",\"y\":[1.8],\"yaxis\":\"y\",\"type\":\"scatter\"},{\"hovertemplate\":\"Team=Southampton<br>MatchesPlayed=14<br>MovingAverageFor=%{x}<br>MovingAverageAgainst=%{y}<extra></extra>\",\"legendgroup\":\"Southampton\",\"marker\":{\"color\":\"#FF6692\",\"symbol\":\"circle\"},\"mode\":\"markers\",\"name\":\"Southampton\",\"orientation\":\"v\",\"showlegend\":true,\"x\":[2.0],\"xaxis\":\"x\",\"y\":[0.8],\"yaxis\":\"y\",\"type\":\"scatter\"},{\"hovertemplate\":\"Team=Wolves<br>MatchesPlayed=14<br>MovingAverageFor=%{x}<br>MovingAverageAgainst=%{y}<extra></extra>\",\"legendgroup\":\"Wolves\",\"marker\":{\"color\":\"#B6E880\",\"symbol\":\"circle\"},\"mode\":\"markers\",\"name\":\"Wolves\",\"orientation\":\"v\",\"showlegend\":true,\"x\":[1.8],\"xaxis\":\"x\",\"y\":[1.0],\"yaxis\":\"y\",\"type\":\"scatter\"},{\"hovertemplate\":\"Team=Arsenal<br>MatchesPlayed=14<br>MovingAverageFor=%{x}<br>MovingAverageAgainst=%{y}<extra></extra>\",\"legendgroup\":\"Arsenal\",\"marker\":{\"color\":\"#FF97FF\",\"symbol\":\"circle\"},\"mode\":\"markers\",\"name\":\"Arsenal\",\"orientation\":\"v\",\"showlegend\":true,\"x\":[1.4],\"xaxis\":\"x\",\"y\":[0.8],\"yaxis\":\"y\",\"type\":\"scatter\"},{\"hovertemplate\":\"Team=West Ham<br>MatchesPlayed=14<br>MovingAverageFor=%{x}<br>MovingAverageAgainst=%{y}<extra></extra>\",\"legendgroup\":\"West Ham\",\"marker\":{\"color\":\"#FECB52\",\"symbol\":\"circle\"},\"mode\":\"markers\",\"name\":\"West Ham\",\"orientation\":\"v\",\"showlegend\":true,\"x\":[1.4],\"xaxis\":\"x\",\"y\":[0.8],\"yaxis\":\"y\",\"type\":\"scatter\"}],\"name\":\"14\"},{\"data\":[{\"hovertemplate\":\"Team=Brentford<br>MatchesPlayed=15<br>MovingAverageFor=%{x}<br>MovingAverageAgainst=%{y}<extra></extra>\",\"legendgroup\":\"Brentford\",\"marker\":{\"color\":\"#636efa\",\"symbol\":\"circle\"},\"mode\":\"markers\",\"name\":\"Brentford\",\"orientation\":\"v\",\"showlegend\":true,\"x\":[0.8],\"xaxis\":\"x\",\"y\":[1.4],\"yaxis\":\"y\",\"type\":\"scatter\"},{\"hovertemplate\":\"Team=Man United<br>MatchesPlayed=15<br>MovingAverageFor=%{x}<br>MovingAverageAgainst=%{y}<extra></extra>\",\"legendgroup\":\"Man United\",\"marker\":{\"color\":\"#EF553B\",\"symbol\":\"circle\"},\"mode\":\"markers\",\"name\":\"Man United\",\"orientation\":\"v\",\"showlegend\":true,\"x\":[1.4],\"xaxis\":\"x\",\"y\":[0.6],\"yaxis\":\"y\",\"type\":\"scatter\"},{\"hovertemplate\":\"Team=Burnley<br>MatchesPlayed=15<br>MovingAverageFor=%{x}<br>MovingAverageAgainst=%{y}<extra></extra>\",\"legendgroup\":\"Burnley\",\"marker\":{\"color\":\"#00cc96\",\"symbol\":\"circle\"},\"mode\":\"markers\",\"name\":\"Burnley\",\"orientation\":\"v\",\"showlegend\":true,\"x\":[0.8],\"xaxis\":\"x\",\"y\":[2.0],\"yaxis\":\"y\",\"type\":\"scatter\"},{\"hovertemplate\":\"Team=Chelsea<br>MatchesPlayed=15<br>MovingAverageFor=%{x}<br>MovingAverageAgainst=%{y}<extra></extra>\",\"legendgroup\":\"Chelsea\",\"marker\":{\"color\":\"#ab63fa\",\"symbol\":\"circle\"},\"mode\":\"markers\",\"name\":\"Chelsea\",\"orientation\":\"v\",\"showlegend\":true,\"x\":[1.6],\"xaxis\":\"x\",\"y\":[2.0],\"yaxis\":\"y\",\"type\":\"scatter\"},{\"hovertemplate\":\"Team=Everton<br>MatchesPlayed=15<br>MovingAverageFor=%{x}<br>MovingAverageAgainst=%{y}<extra></extra>\",\"legendgroup\":\"Everton\",\"marker\":{\"color\":\"#FFA15A\",\"symbol\":\"circle\"},\"mode\":\"markers\",\"name\":\"Everton\",\"orientation\":\"v\",\"showlegend\":true,\"x\":[1.0],\"xaxis\":\"x\",\"y\":[0.4],\"yaxis\":\"y\",\"type\":\"scatter\"},{\"hovertemplate\":\"Team=Leicester<br>MatchesPlayed=15<br>MovingAverageFor=%{x}<br>MovingAverageAgainst=%{y}<extra></extra>\",\"legendgroup\":\"Leicester\",\"marker\":{\"color\":\"#19d3f3\",\"symbol\":\"circle\"},\"mode\":\"markers\",\"name\":\"Leicester\",\"orientation\":\"v\",\"showlegend\":true,\"x\":[1.6],\"xaxis\":\"x\",\"y\":[1.0],\"yaxis\":\"y\",\"type\":\"scatter\"},{\"hovertemplate\":\"Team=Watford<br>MatchesPlayed=15<br>MovingAverageFor=%{x}<br>MovingAverageAgainst=%{y}<extra></extra>\",\"legendgroup\":\"Watford\",\"marker\":{\"color\":\"#FF6692\",\"symbol\":\"circle\"},\"mode\":\"markers\",\"name\":\"Watford\",\"orientation\":\"v\",\"showlegend\":true,\"x\":[0.6],\"xaxis\":\"x\",\"y\":[3.0],\"yaxis\":\"y\",\"type\":\"scatter\"},{\"hovertemplate\":\"Team=Norwich<br>MatchesPlayed=15<br>MovingAverageFor=%{x}<br>MovingAverageAgainst=%{y}<extra></extra>\",\"legendgroup\":\"Norwich\",\"marker\":{\"color\":\"#B6E880\",\"symbol\":\"circle\"},\"mode\":\"markers\",\"name\":\"Norwich\",\"orientation\":\"v\",\"showlegend\":true,\"x\":[1.0],\"xaxis\":\"x\",\"y\":[2.4],\"yaxis\":\"y\",\"type\":\"scatter\"},{\"hovertemplate\":\"Team=Newcastle<br>MatchesPlayed=15<br>MovingAverageFor=%{x}<br>MovingAverageAgainst=%{y}<extra></extra>\",\"legendgroup\":\"Newcastle\",\"marker\":{\"color\":\"#FF97FF\",\"symbol\":\"circle\"},\"mode\":\"markers\",\"name\":\"Newcastle\",\"orientation\":\"v\",\"showlegend\":true,\"x\":[1.6],\"xaxis\":\"x\",\"y\":[0.6],\"yaxis\":\"y\",\"type\":\"scatter\"},{\"hovertemplate\":\"Team=Tottenham<br>MatchesPlayed=15<br>MovingAverageFor=%{x}<br>MovingAverageAgainst=%{y}<extra></extra>\",\"legendgroup\":\"Tottenham\",\"marker\":{\"color\":\"#FECB52\",\"symbol\":\"circle\"},\"mode\":\"markers\",\"name\":\"Tottenham\",\"orientation\":\"v\",\"showlegend\":true,\"x\":[3.0],\"xaxis\":\"x\",\"y\":[1.4],\"yaxis\":\"y\",\"type\":\"scatter\"},{\"hovertemplate\":\"Team=Liverpool<br>MatchesPlayed=15<br>MovingAverageFor=%{x}<br>MovingAverageAgainst=%{y}<extra></extra>\",\"legendgroup\":\"Liverpool\",\"marker\":{\"color\":\"#636efa\",\"symbol\":\"circle\"},\"mode\":\"markers\",\"name\":\"Liverpool\",\"orientation\":\"v\",\"showlegend\":true,\"x\":[2.8],\"xaxis\":\"x\",\"y\":[0.2],\"yaxis\":\"y\",\"type\":\"scatter\"},{\"hovertemplate\":\"Team=Aston Villa<br>MatchesPlayed=15<br>MovingAverageFor=%{x}<br>MovingAverageAgainst=%{y}<extra></extra>\",\"legendgroup\":\"Aston Villa\",\"marker\":{\"color\":\"#EF553B\",\"symbol\":\"circle\"},\"mode\":\"markers\",\"name\":\"Aston Villa\",\"orientation\":\"v\",\"showlegend\":true,\"x\":[1.4],\"xaxis\":\"x\",\"y\":[1.8],\"yaxis\":\"y\",\"type\":\"scatter\"},{\"hovertemplate\":\"Team=Crystal Palace<br>MatchesPlayed=15<br>MovingAverageFor=%{x}<br>MovingAverageAgainst=%{y}<extra></extra>\",\"legendgroup\":\"Crystal Palace\",\"marker\":{\"color\":\"#00cc96\",\"symbol\":\"circle\"},\"mode\":\"markers\",\"name\":\"Crystal Palace\",\"orientation\":\"v\",\"showlegend\":true,\"x\":[0.8],\"xaxis\":\"x\",\"y\":[1.6],\"yaxis\":\"y\",\"type\":\"scatter\"},{\"hovertemplate\":\"Team=Leeds<br>MatchesPlayed=15<br>MovingAverageFor=%{x}<br>MovingAverageAgainst=%{y}<extra></extra>\",\"legendgroup\":\"Leeds\",\"marker\":{\"color\":\"#ab63fa\",\"symbol\":\"circle\"},\"mode\":\"markers\",\"name\":\"Leeds\",\"orientation\":\"v\",\"showlegend\":true,\"x\":[0.8],\"xaxis\":\"x\",\"y\":[2.6],\"yaxis\":\"y\",\"type\":\"scatter\"},{\"hovertemplate\":\"Team=Man City<br>MatchesPlayed=15<br>MovingAverageFor=%{x}<br>MovingAverageAgainst=%{y}<extra></extra>\",\"legendgroup\":\"Man City\",\"marker\":{\"color\":\"#FFA15A\",\"symbol\":\"circle\"},\"mode\":\"markers\",\"name\":\"Man City\",\"orientation\":\"v\",\"showlegend\":true,\"x\":[2.2],\"xaxis\":\"x\",\"y\":[1.2],\"yaxis\":\"y\",\"type\":\"scatter\"},{\"hovertemplate\":\"Team=Brighton<br>MatchesPlayed=15<br>MovingAverageFor=%{x}<br>MovingAverageAgainst=%{y}<extra></extra>\",\"legendgroup\":\"Brighton\",\"marker\":{\"color\":\"#19d3f3\",\"symbol\":\"circle\"},\"mode\":\"markers\",\"name\":\"Brighton\",\"orientation\":\"v\",\"showlegend\":true,\"x\":[0.2],\"xaxis\":\"x\",\"y\":[2.0],\"yaxis\":\"y\",\"type\":\"scatter\"},{\"hovertemplate\":\"Team=Southampton<br>MatchesPlayed=15<br>MovingAverageFor=%{x}<br>MovingAverageAgainst=%{y}<extra></extra>\",\"legendgroup\":\"Southampton\",\"marker\":{\"color\":\"#FF6692\",\"symbol\":\"circle\"},\"mode\":\"markers\",\"name\":\"Southampton\",\"orientation\":\"v\",\"showlegend\":true,\"x\":[1.4],\"xaxis\":\"x\",\"y\":[1.0],\"yaxis\":\"y\",\"type\":\"scatter\"},{\"hovertemplate\":\"Team=Wolves<br>MatchesPlayed=15<br>MovingAverageFor=%{x}<br>MovingAverageAgainst=%{y}<extra></extra>\",\"legendgroup\":\"Wolves\",\"marker\":{\"color\":\"#B6E880\",\"symbol\":\"circle\"},\"mode\":\"markers\",\"name\":\"Wolves\",\"orientation\":\"v\",\"showlegend\":true,\"x\":[1.6],\"xaxis\":\"x\",\"y\":[1.4],\"yaxis\":\"y\",\"type\":\"scatter\"},{\"hovertemplate\":\"Team=Arsenal<br>MatchesPlayed=15<br>MovingAverageFor=%{x}<br>MovingAverageAgainst=%{y}<extra></extra>\",\"legendgroup\":\"Arsenal\",\"marker\":{\"color\":\"#FF97FF\",\"symbol\":\"circle\"},\"mode\":\"markers\",\"name\":\"Arsenal\",\"orientation\":\"v\",\"showlegend\":true,\"x\":[1.2],\"xaxis\":\"x\",\"y\":[0.8],\"yaxis\":\"y\",\"type\":\"scatter\"},{\"hovertemplate\":\"Team=West Ham<br>MatchesPlayed=15<br>MovingAverageFor=%{x}<br>MovingAverageAgainst=%{y}<extra></extra>\",\"legendgroup\":\"West Ham\",\"marker\":{\"color\":\"#FECB52\",\"symbol\":\"circle\"},\"mode\":\"markers\",\"name\":\"West Ham\",\"orientation\":\"v\",\"showlegend\":true,\"x\":[1.4],\"xaxis\":\"x\",\"y\":[1.0],\"yaxis\":\"y\",\"type\":\"scatter\"}],\"name\":\"15\"},{\"data\":[{\"hovertemplate\":\"Team=Brentford<br>MatchesPlayed=16<br>MovingAverageFor=%{x}<br>MovingAverageAgainst=%{y}<extra></extra>\",\"legendgroup\":\"Brentford\",\"marker\":{\"color\":\"#636efa\",\"symbol\":\"circle\"},\"mode\":\"markers\",\"name\":\"Brentford\",\"orientation\":\"v\",\"showlegend\":true,\"x\":[1.0],\"xaxis\":\"x\",\"y\":[0.8],\"yaxis\":\"y\",\"type\":\"scatter\"},{\"hovertemplate\":\"Team=Man United<br>MatchesPlayed=16<br>MovingAverageFor=%{x}<br>MovingAverageAgainst=%{y}<extra></extra>\",\"legendgroup\":\"Man United\",\"marker\":{\"color\":\"#EF553B\",\"symbol\":\"circle\"},\"mode\":\"markers\",\"name\":\"Man United\",\"orientation\":\"v\",\"showlegend\":true,\"x\":[1.4],\"xaxis\":\"x\",\"y\":[0.8],\"yaxis\":\"y\",\"type\":\"scatter\"},{\"hovertemplate\":\"Team=Burnley<br>MatchesPlayed=16<br>MovingAverageFor=%{x}<br>MovingAverageAgainst=%{y}<extra></extra>\",\"legendgroup\":\"Burnley\",\"marker\":{\"color\":\"#00cc96\",\"symbol\":\"circle\"},\"mode\":\"markers\",\"name\":\"Burnley\",\"orientation\":\"v\",\"showlegend\":true,\"x\":[1.0],\"xaxis\":\"x\",\"y\":[2.0],\"yaxis\":\"y\",\"type\":\"scatter\"},{\"hovertemplate\":\"Team=Chelsea<br>MatchesPlayed=16<br>MovingAverageFor=%{x}<br>MovingAverageAgainst=%{y}<extra></extra>\",\"legendgroup\":\"Chelsea\",\"marker\":{\"color\":\"#ab63fa\",\"symbol\":\"circle\"},\"mode\":\"markers\",\"name\":\"Chelsea\",\"orientation\":\"v\",\"showlegend\":true,\"x\":[1.4],\"xaxis\":\"x\",\"y\":[1.6],\"yaxis\":\"y\",\"type\":\"scatter\"},{\"hovertemplate\":\"Team=Everton<br>MatchesPlayed=16<br>MovingAverageFor=%{x}<br>MovingAverageAgainst=%{y}<extra></extra>\",\"legendgroup\":\"Everton\",\"marker\":{\"color\":\"#FFA15A\",\"symbol\":\"circle\"},\"mode\":\"markers\",\"name\":\"Everton\",\"orientation\":\"v\",\"showlegend\":true,\"x\":[0.6],\"xaxis\":\"x\",\"y\":[0.6],\"yaxis\":\"y\",\"type\":\"scatter\"},{\"hovertemplate\":\"Team=Leicester<br>MatchesPlayed=16<br>MovingAverageFor=%{x}<br>MovingAverageAgainst=%{y}<extra></extra>\",\"legendgroup\":\"Leicester\",\"marker\":{\"color\":\"#19d3f3\",\"symbol\":\"circle\"},\"mode\":\"markers\",\"name\":\"Leicester\",\"orientation\":\"v\",\"showlegend\":true,\"x\":[1.4],\"xaxis\":\"x\",\"y\":[0.8],\"yaxis\":\"y\",\"type\":\"scatter\"},{\"hovertemplate\":\"Team=Watford<br>MatchesPlayed=16<br>MovingAverageFor=%{x}<br>MovingAverageAgainst=%{y}<extra></extra>\",\"legendgroup\":\"Watford\",\"marker\":{\"color\":\"#FF6692\",\"symbol\":\"circle\"},\"mode\":\"markers\",\"name\":\"Watford\",\"orientation\":\"v\",\"showlegend\":true,\"x\":[0.8],\"xaxis\":\"x\",\"y\":[2.8],\"yaxis\":\"y\",\"type\":\"scatter\"},{\"hovertemplate\":\"Team=Norwich<br>MatchesPlayed=16<br>MovingAverageFor=%{x}<br>MovingAverageAgainst=%{y}<extra></extra>\",\"legendgroup\":\"Norwich\",\"marker\":{\"color\":\"#B6E880\",\"symbol\":\"circle\"},\"mode\":\"markers\",\"name\":\"Norwich\",\"orientation\":\"v\",\"showlegend\":true,\"x\":[1.0],\"xaxis\":\"x\",\"y\":[2.2],\"yaxis\":\"y\",\"type\":\"scatter\"},{\"hovertemplate\":\"Team=Newcastle<br>MatchesPlayed=16<br>MovingAverageFor=%{x}<br>MovingAverageAgainst=%{y}<extra></extra>\",\"legendgroup\":\"Newcastle\",\"marker\":{\"color\":\"#FF97FF\",\"symbol\":\"circle\"},\"mode\":\"markers\",\"name\":\"Newcastle\",\"orientation\":\"v\",\"showlegend\":true,\"x\":[1.8],\"xaxis\":\"x\",\"y\":[0.6],\"yaxis\":\"y\",\"type\":\"scatter\"},{\"hovertemplate\":\"Team=Tottenham<br>MatchesPlayed=16<br>MovingAverageFor=%{x}<br>MovingAverageAgainst=%{y}<extra></extra>\",\"legendgroup\":\"Tottenham\",\"marker\":{\"color\":\"#FECB52\",\"symbol\":\"circle\"},\"mode\":\"markers\",\"name\":\"Tottenham\",\"orientation\":\"v\",\"showlegend\":true,\"x\":[2.6],\"xaxis\":\"x\",\"y\":[1.0],\"yaxis\":\"y\",\"type\":\"scatter\"},{\"hovertemplate\":\"Team=Liverpool<br>MatchesPlayed=16<br>MovingAverageFor=%{x}<br>MovingAverageAgainst=%{y}<extra></extra>\",\"legendgroup\":\"Liverpool\",\"marker\":{\"color\":\"#636efa\",\"symbol\":\"circle\"},\"mode\":\"markers\",\"name\":\"Liverpool\",\"orientation\":\"v\",\"showlegend\":true,\"x\":[3.2],\"xaxis\":\"x\",\"y\":[0.2],\"yaxis\":\"y\",\"type\":\"scatter\"},{\"hovertemplate\":\"Team=Aston Villa<br>MatchesPlayed=16<br>MovingAverageFor=%{x}<br>MovingAverageAgainst=%{y}<extra></extra>\",\"legendgroup\":\"Aston Villa\",\"marker\":{\"color\":\"#EF553B\",\"symbol\":\"circle\"},\"mode\":\"markers\",\"name\":\"Aston Villa\",\"orientation\":\"v\",\"showlegend\":true,\"x\":[1.2],\"xaxis\":\"x\",\"y\":[1.2],\"yaxis\":\"y\",\"type\":\"scatter\"},{\"hovertemplate\":\"Team=Crystal Palace<br>MatchesPlayed=16<br>MovingAverageFor=%{x}<br>MovingAverageAgainst=%{y}<extra></extra>\",\"legendgroup\":\"Crystal Palace\",\"marker\":{\"color\":\"#00cc96\",\"symbol\":\"circle\"},\"mode\":\"markers\",\"name\":\"Crystal Palace\",\"orientation\":\"v\",\"showlegend\":true,\"x\":[1.0],\"xaxis\":\"x\",\"y\":[1.0],\"yaxis\":\"y\",\"type\":\"scatter\"},{\"hovertemplate\":\"Team=Leeds<br>MatchesPlayed=16<br>MovingAverageFor=%{x}<br>MovingAverageAgainst=%{y}<extra></extra>\",\"legendgroup\":\"Leeds\",\"marker\":{\"color\":\"#ab63fa\",\"symbol\":\"circle\"},\"mode\":\"markers\",\"name\":\"Leeds\",\"orientation\":\"v\",\"showlegend\":true,\"x\":[1.0],\"xaxis\":\"x\",\"y\":[2.6],\"yaxis\":\"y\",\"type\":\"scatter\"},{\"hovertemplate\":\"Team=Man City<br>MatchesPlayed=16<br>MovingAverageFor=%{x}<br>MovingAverageAgainst=%{y}<extra></extra>\",\"legendgroup\":\"Man City\",\"marker\":{\"color\":\"#FFA15A\",\"symbol\":\"circle\"},\"mode\":\"markers\",\"name\":\"Man City\",\"orientation\":\"v\",\"showlegend\":true,\"x\":[2.6],\"xaxis\":\"x\",\"y\":[1.2],\"yaxis\":\"y\",\"type\":\"scatter\"},{\"hovertemplate\":\"Team=Brighton<br>MatchesPlayed=16<br>MovingAverageFor=%{x}<br>MovingAverageAgainst=%{y}<extra></extra>\",\"legendgroup\":\"Brighton\",\"marker\":{\"color\":\"#19d3f3\",\"symbol\":\"circle\"},\"mode\":\"markers\",\"name\":\"Brighton\",\"orientation\":\"v\",\"showlegend\":true,\"x\":[0.0],\"xaxis\":\"x\",\"y\":[1.8],\"yaxis\":\"y\",\"type\":\"scatter\"},{\"hovertemplate\":\"Team=Southampton<br>MatchesPlayed=16<br>MovingAverageFor=%{x}<br>MovingAverageAgainst=%{y}<extra></extra>\",\"legendgroup\":\"Southampton\",\"marker\":{\"color\":\"#FF6692\",\"symbol\":\"circle\"},\"mode\":\"markers\",\"name\":\"Southampton\",\"orientation\":\"v\",\"showlegend\":true,\"x\":[1.2],\"xaxis\":\"x\",\"y\":[2.0],\"yaxis\":\"y\",\"type\":\"scatter\"},{\"hovertemplate\":\"Team=Wolves<br>MatchesPlayed=16<br>MovingAverageFor=%{x}<br>MovingAverageAgainst=%{y}<extra></extra>\",\"legendgroup\":\"Wolves\",\"marker\":{\"color\":\"#B6E880\",\"symbol\":\"circle\"},\"mode\":\"markers\",\"name\":\"Wolves\",\"orientation\":\"v\",\"showlegend\":true,\"x\":[2.0],\"xaxis\":\"x\",\"y\":[1.4],\"yaxis\":\"y\",\"type\":\"scatter\"},{\"hovertemplate\":\"Team=Arsenal<br>MatchesPlayed=16<br>MovingAverageFor=%{x}<br>MovingAverageAgainst=%{y}<extra></extra>\",\"legendgroup\":\"Arsenal\",\"marker\":{\"color\":\"#FF97FF\",\"symbol\":\"circle\"},\"mode\":\"markers\",\"name\":\"Arsenal\",\"orientation\":\"v\",\"showlegend\":true,\"x\":[1.4],\"xaxis\":\"x\",\"y\":[1.2],\"yaxis\":\"y\",\"type\":\"scatter\"},{\"hovertemplate\":\"Team=West Ham<br>MatchesPlayed=16<br>MovingAverageFor=%{x}<br>MovingAverageAgainst=%{y}<extra></extra>\",\"legendgroup\":\"West Ham\",\"marker\":{\"color\":\"#FECB52\",\"symbol\":\"circle\"},\"mode\":\"markers\",\"name\":\"West Ham\",\"orientation\":\"v\",\"showlegend\":true,\"x\":[1.4],\"xaxis\":\"x\",\"y\":[0.6],\"yaxis\":\"y\",\"type\":\"scatter\"}],\"name\":\"16\"},{\"data\":[{\"hovertemplate\":\"Team=Brentford<br>MatchesPlayed=17<br>MovingAverageFor=%{x}<br>MovingAverageAgainst=%{y}<extra></extra>\",\"legendgroup\":\"Brentford\",\"marker\":{\"color\":\"#636efa\",\"symbol\":\"circle\"},\"mode\":\"markers\",\"name\":\"Brentford\",\"orientation\":\"v\",\"showlegend\":true,\"x\":[0.8],\"xaxis\":\"x\",\"y\":[0.4],\"yaxis\":\"y\",\"type\":\"scatter\"},{\"hovertemplate\":\"Team=Man United<br>MatchesPlayed=17<br>MovingAverageFor=%{x}<br>MovingAverageAgainst=%{y}<extra></extra>\",\"legendgroup\":\"Man United\",\"marker\":{\"color\":\"#EF553B\",\"symbol\":\"circle\"},\"mode\":\"markers\",\"name\":\"Man United\",\"orientation\":\"v\",\"showlegend\":true,\"x\":[1.8],\"xaxis\":\"x\",\"y\":[1.0],\"yaxis\":\"y\",\"type\":\"scatter\"},{\"hovertemplate\":\"Team=Burnley<br>MatchesPlayed=17<br>MovingAverageFor=%{x}<br>MovingAverageAgainst=%{y}<extra></extra>\",\"legendgroup\":\"Burnley\",\"marker\":{\"color\":\"#00cc96\",\"symbol\":\"circle\"},\"mode\":\"markers\",\"name\":\"Burnley\",\"orientation\":\"v\",\"showlegend\":true,\"x\":[1.2],\"xaxis\":\"x\",\"y\":[1.6],\"yaxis\":\"y\",\"type\":\"scatter\"},{\"hovertemplate\":\"Team=Chelsea<br>MatchesPlayed=17<br>MovingAverageFor=%{x}<br>MovingAverageAgainst=%{y}<extra></extra>\",\"legendgroup\":\"Chelsea\",\"marker\":{\"color\":\"#ab63fa\",\"symbol\":\"circle\"},\"mode\":\"markers\",\"name\":\"Chelsea\",\"orientation\":\"v\",\"showlegend\":true,\"x\":[1.4],\"xaxis\":\"x\",\"y\":[2.0],\"yaxis\":\"y\",\"type\":\"scatter\"},{\"hovertemplate\":\"Team=Everton<br>MatchesPlayed=17<br>MovingAverageFor=%{x}<br>MovingAverageAgainst=%{y}<extra></extra>\",\"legendgroup\":\"Everton\",\"marker\":{\"color\":\"#FFA15A\",\"symbol\":\"circle\"},\"mode\":\"markers\",\"name\":\"Everton\",\"orientation\":\"v\",\"showlegend\":true,\"x\":[0.8],\"xaxis\":\"x\",\"y\":[0.4],\"yaxis\":\"y\",\"type\":\"scatter\"},{\"hovertemplate\":\"Team=Leicester<br>MatchesPlayed=17<br>MovingAverageFor=%{x}<br>MovingAverageAgainst=%{y}<extra></extra>\",\"legendgroup\":\"Leicester\",\"marker\":{\"color\":\"#19d3f3\",\"symbol\":\"circle\"},\"mode\":\"markers\",\"name\":\"Leicester\",\"orientation\":\"v\",\"showlegend\":true,\"x\":[1.2],\"xaxis\":\"x\",\"y\":[0.8],\"yaxis\":\"y\",\"type\":\"scatter\"},{\"hovertemplate\":\"Team=Watford<br>MatchesPlayed=17<br>MovingAverageFor=%{x}<br>MovingAverageAgainst=%{y}<extra></extra>\",\"legendgroup\":\"Watford\",\"marker\":{\"color\":\"#FF6692\",\"symbol\":\"circle\"},\"mode\":\"markers\",\"name\":\"Watford\",\"orientation\":\"v\",\"showlegend\":true,\"x\":[1.0],\"xaxis\":\"x\",\"y\":[2.8],\"yaxis\":\"y\",\"type\":\"scatter\"},{\"hovertemplate\":\"Team=Norwich<br>MatchesPlayed=17<br>MovingAverageFor=%{x}<br>MovingAverageAgainst=%{y}<extra></extra>\",\"legendgroup\":\"Norwich\",\"marker\":{\"color\":\"#B6E880\",\"symbol\":\"circle\"},\"mode\":\"markers\",\"name\":\"Norwich\",\"orientation\":\"v\",\"showlegend\":true,\"x\":[0.8],\"xaxis\":\"x\",\"y\":[2.6],\"yaxis\":\"y\",\"type\":\"scatter\"},{\"hovertemplate\":\"Team=Newcastle<br>MatchesPlayed=17<br>MovingAverageFor=%{x}<br>MovingAverageAgainst=%{y}<extra></extra>\",\"legendgroup\":\"Newcastle\",\"marker\":{\"color\":\"#FF97FF\",\"symbol\":\"circle\"},\"mode\":\"markers\",\"name\":\"Newcastle\",\"orientation\":\"v\",\"showlegend\":true,\"x\":[1.4],\"xaxis\":\"x\",\"y\":[0.4],\"yaxis\":\"y\",\"type\":\"scatter\"},{\"hovertemplate\":\"Team=Tottenham<br>MatchesPlayed=17<br>MovingAverageFor=%{x}<br>MovingAverageAgainst=%{y}<extra></extra>\",\"legendgroup\":\"Tottenham\",\"marker\":{\"color\":\"#FECB52\",\"symbol\":\"circle\"},\"mode\":\"markers\",\"name\":\"Tottenham\",\"orientation\":\"v\",\"showlegend\":true,\"x\":[3.2],\"xaxis\":\"x\",\"y\":[0.8],\"yaxis\":\"y\",\"type\":\"scatter\"},{\"hovertemplate\":\"Team=Liverpool<br>MatchesPlayed=17<br>MovingAverageFor=%{x}<br>MovingAverageAgainst=%{y}<extra></extra>\",\"legendgroup\":\"Liverpool\",\"marker\":{\"color\":\"#636efa\",\"symbol\":\"circle\"},\"mode\":\"markers\",\"name\":\"Liverpool\",\"orientation\":\"v\",\"showlegend\":true,\"x\":[3.0],\"xaxis\":\"x\",\"y\":[0.0],\"yaxis\":\"y\",\"type\":\"scatter\"},{\"hovertemplate\":\"Team=Aston Villa<br>MatchesPlayed=17<br>MovingAverageFor=%{x}<br>MovingAverageAgainst=%{y}<extra></extra>\",\"legendgroup\":\"Aston Villa\",\"marker\":{\"color\":\"#EF553B\",\"symbol\":\"circle\"},\"mode\":\"markers\",\"name\":\"Aston Villa\",\"orientation\":\"v\",\"showlegend\":true,\"x\":[1.4],\"xaxis\":\"x\",\"y\":[1.4],\"yaxis\":\"y\",\"type\":\"scatter\"},{\"hovertemplate\":\"Team=Crystal Palace<br>MatchesPlayed=17<br>MovingAverageFor=%{x}<br>MovingAverageAgainst=%{y}<extra></extra>\",\"legendgroup\":\"Crystal Palace\",\"marker\":{\"color\":\"#00cc96\",\"symbol\":\"circle\"},\"mode\":\"markers\",\"name\":\"Crystal Palace\",\"orientation\":\"v\",\"showlegend\":true,\"x\":[0.8],\"xaxis\":\"x\",\"y\":[0.4],\"yaxis\":\"y\",\"type\":\"scatter\"},{\"hovertemplate\":\"Team=Leeds<br>MatchesPlayed=17<br>MovingAverageFor=%{x}<br>MovingAverageAgainst=%{y}<extra></extra>\",\"legendgroup\":\"Leeds\",\"marker\":{\"color\":\"#ab63fa\",\"symbol\":\"circle\"},\"mode\":\"markers\",\"name\":\"Leeds\",\"orientation\":\"v\",\"showlegend\":true,\"x\":[0.6],\"xaxis\":\"x\",\"y\":[2.6],\"yaxis\":\"y\",\"type\":\"scatter\"},{\"hovertemplate\":\"Team=Man City<br>MatchesPlayed=17<br>MovingAverageFor=%{x}<br>MovingAverageAgainst=%{y}<extra></extra>\",\"legendgroup\":\"Man City\",\"marker\":{\"color\":\"#FFA15A\",\"symbol\":\"circle\"},\"mode\":\"markers\",\"name\":\"Man City\",\"orientation\":\"v\",\"showlegend\":true,\"x\":[3.2],\"xaxis\":\"x\",\"y\":[1.4],\"yaxis\":\"y\",\"type\":\"scatter\"},{\"hovertemplate\":\"Team=Brighton<br>MatchesPlayed=17<br>MovingAverageFor=%{x}<br>MovingAverageAgainst=%{y}<extra></extra>\",\"legendgroup\":\"Brighton\",\"marker\":{\"color\":\"#19d3f3\",\"symbol\":\"circle\"},\"mode\":\"markers\",\"name\":\"Brighton\",\"orientation\":\"v\",\"showlegend\":true,\"x\":[0.4],\"xaxis\":\"x\",\"y\":[1.6],\"yaxis\":\"y\",\"type\":\"scatter\"},{\"hovertemplate\":\"Team=Southampton<br>MatchesPlayed=17<br>MovingAverageFor=%{x}<br>MovingAverageAgainst=%{y}<extra></extra>\",\"legendgroup\":\"Southampton\",\"marker\":{\"color\":\"#FF6692\",\"symbol\":\"circle\"},\"mode\":\"markers\",\"name\":\"Southampton\",\"orientation\":\"v\",\"showlegend\":true,\"x\":[1.0],\"xaxis\":\"x\",\"y\":[2.0],\"yaxis\":\"y\",\"type\":\"scatter\"},{\"hovertemplate\":\"Team=Wolves<br>MatchesPlayed=17<br>MovingAverageFor=%{x}<br>MovingAverageAgainst=%{y}<extra></extra>\",\"legendgroup\":\"Wolves\",\"marker\":{\"color\":\"#B6E880\",\"symbol\":\"circle\"},\"mode\":\"markers\",\"name\":\"Wolves\",\"orientation\":\"v\",\"showlegend\":true,\"x\":[1.6],\"xaxis\":\"x\",\"y\":[1.8],\"yaxis\":\"y\",\"type\":\"scatter\"},{\"hovertemplate\":\"Team=Arsenal<br>MatchesPlayed=17<br>MovingAverageFor=%{x}<br>MovingAverageAgainst=%{y}<extra></extra>\",\"legendgroup\":\"Arsenal\",\"marker\":{\"color\":\"#FF97FF\",\"symbol\":\"circle\"},\"mode\":\"markers\",\"name\":\"Arsenal\",\"orientation\":\"v\",\"showlegend\":true,\"x\":[1.6],\"xaxis\":\"x\",\"y\":[1.2],\"yaxis\":\"y\",\"type\":\"scatter\"},{\"hovertemplate\":\"Team=West Ham<br>MatchesPlayed=17<br>MovingAverageFor=%{x}<br>MovingAverageAgainst=%{y}<extra></extra>\",\"legendgroup\":\"West Ham\",\"marker\":{\"color\":\"#FECB52\",\"symbol\":\"circle\"},\"mode\":\"markers\",\"name\":\"West Ham\",\"orientation\":\"v\",\"showlegend\":true,\"x\":[1.4],\"xaxis\":\"x\",\"y\":[0.8],\"yaxis\":\"y\",\"type\":\"scatter\"}],\"name\":\"17\"},{\"data\":[{\"hovertemplate\":\"Team=Brentford<br>MatchesPlayed=18<br>MovingAverageFor=%{x}<br>MovingAverageAgainst=%{y}<extra></extra>\",\"legendgroup\":\"Brentford\",\"marker\":{\"color\":\"#636efa\",\"symbol\":\"circle\"},\"mode\":\"markers\",\"name\":\"Brentford\",\"orientation\":\"v\",\"showlegend\":true,\"x\":[1.4],\"xaxis\":\"x\",\"y\":[0.4],\"yaxis\":\"y\",\"type\":\"scatter\"},{\"hovertemplate\":\"Team=Man United<br>MatchesPlayed=18<br>MovingAverageFor=%{x}<br>MovingAverageAgainst=%{y}<extra></extra>\",\"legendgroup\":\"Man United\",\"marker\":{\"color\":\"#EF553B\",\"symbol\":\"circle\"},\"mode\":\"markers\",\"name\":\"Man United\",\"orientation\":\"v\",\"showlegend\":true,\"x\":[1.6],\"xaxis\":\"x\",\"y\":[1.2],\"yaxis\":\"y\",\"type\":\"scatter\"},{\"hovertemplate\":\"Team=Burnley<br>MatchesPlayed=18<br>MovingAverageFor=%{x}<br>MovingAverageAgainst=%{y}<extra></extra>\",\"legendgroup\":\"Burnley\",\"marker\":{\"color\":\"#00cc96\",\"symbol\":\"circle\"},\"mode\":\"markers\",\"name\":\"Burnley\",\"orientation\":\"v\",\"showlegend\":true,\"x\":[1.4],\"xaxis\":\"x\",\"y\":[1.4],\"yaxis\":\"y\",\"type\":\"scatter\"},{\"hovertemplate\":\"Team=Chelsea<br>MatchesPlayed=18<br>MovingAverageFor=%{x}<br>MovingAverageAgainst=%{y}<extra></extra>\",\"legendgroup\":\"Chelsea\",\"marker\":{\"color\":\"#ab63fa\",\"symbol\":\"circle\"},\"mode\":\"markers\",\"name\":\"Chelsea\",\"orientation\":\"v\",\"showlegend\":true,\"x\":[1.4],\"xaxis\":\"x\",\"y\":[2.2],\"yaxis\":\"y\",\"type\":\"scatter\"},{\"hovertemplate\":\"Team=Everton<br>MatchesPlayed=18<br>MovingAverageFor=%{x}<br>MovingAverageAgainst=%{y}<extra></extra>\",\"legendgroup\":\"Everton\",\"marker\":{\"color\":\"#FFA15A\",\"symbol\":\"circle\"},\"mode\":\"markers\",\"name\":\"Everton\",\"orientation\":\"v\",\"showlegend\":true,\"x\":[1.2],\"xaxis\":\"x\",\"y\":[0.8],\"yaxis\":\"y\",\"type\":\"scatter\"},{\"hovertemplate\":\"Team=Leicester<br>MatchesPlayed=18<br>MovingAverageFor=%{x}<br>MovingAverageAgainst=%{y}<extra></extra>\",\"legendgroup\":\"Leicester\",\"marker\":{\"color\":\"#19d3f3\",\"symbol\":\"circle\"},\"mode\":\"markers\",\"name\":\"Leicester\",\"orientation\":\"v\",\"showlegend\":true,\"x\":[1.6],\"xaxis\":\"x\",\"y\":[0.8],\"yaxis\":\"y\",\"type\":\"scatter\"},{\"hovertemplate\":\"Team=Watford<br>MatchesPlayed=18<br>MovingAverageFor=%{x}<br>MovingAverageAgainst=%{y}<extra></extra>\",\"legendgroup\":\"Watford\",\"marker\":{\"color\":\"#FF6692\",\"symbol\":\"circle\"},\"mode\":\"markers\",\"name\":\"Watford\",\"orientation\":\"v\",\"showlegend\":true,\"x\":[0.8],\"xaxis\":\"x\",\"y\":[2.0],\"yaxis\":\"y\",\"type\":\"scatter\"},{\"hovertemplate\":\"Team=Norwich<br>MatchesPlayed=18<br>MovingAverageFor=%{x}<br>MovingAverageAgainst=%{y}<extra></extra>\",\"legendgroup\":\"Norwich\",\"marker\":{\"color\":\"#B6E880\",\"symbol\":\"circle\"},\"mode\":\"markers\",\"name\":\"Norwich\",\"orientation\":\"v\",\"showlegend\":true,\"x\":[0.8],\"xaxis\":\"x\",\"y\":[2.6],\"yaxis\":\"y\",\"type\":\"scatter\"},{\"hovertemplate\":\"Team=Newcastle<br>MatchesPlayed=18<br>MovingAverageFor=%{x}<br>MovingAverageAgainst=%{y}<extra></extra>\",\"legendgroup\":\"Newcastle\",\"marker\":{\"color\":\"#FF97FF\",\"symbol\":\"circle\"},\"mode\":\"markers\",\"name\":\"Newcastle\",\"orientation\":\"v\",\"showlegend\":true,\"x\":[1.2],\"xaxis\":\"x\",\"y\":[0.6],\"yaxis\":\"y\",\"type\":\"scatter\"},{\"hovertemplate\":\"Team=Tottenham<br>MatchesPlayed=18<br>MovingAverageFor=%{x}<br>MovingAverageAgainst=%{y}<extra></extra>\",\"legendgroup\":\"Tottenham\",\"marker\":{\"color\":\"#FECB52\",\"symbol\":\"circle\"},\"mode\":\"markers\",\"name\":\"Tottenham\",\"orientation\":\"v\",\"showlegend\":true,\"x\":[2.8],\"xaxis\":\"x\",\"y\":[0.8],\"yaxis\":\"y\",\"type\":\"scatter\"},{\"hovertemplate\":\"Team=Liverpool<br>MatchesPlayed=18<br>MovingAverageFor=%{x}<br>MovingAverageAgainst=%{y}<extra></extra>\",\"legendgroup\":\"Liverpool\",\"marker\":{\"color\":\"#636efa\",\"symbol\":\"circle\"},\"mode\":\"markers\",\"name\":\"Liverpool\",\"orientation\":\"v\",\"showlegend\":true,\"x\":[2.0],\"xaxis\":\"x\",\"y\":[0.2],\"yaxis\":\"y\",\"type\":\"scatter\"},{\"hovertemplate\":\"Team=Aston Villa<br>MatchesPlayed=18<br>MovingAverageFor=%{x}<br>MovingAverageAgainst=%{y}<extra></extra>\",\"legendgroup\":\"Aston Villa\",\"marker\":{\"color\":\"#EF553B\",\"symbol\":\"circle\"},\"mode\":\"markers\",\"name\":\"Aston Villa\",\"orientation\":\"v\",\"showlegend\":true,\"x\":[0.8],\"xaxis\":\"x\",\"y\":[1.6],\"yaxis\":\"y\",\"type\":\"scatter\"},{\"hovertemplate\":\"Team=Crystal Palace<br>MatchesPlayed=18<br>MovingAverageFor=%{x}<br>MovingAverageAgainst=%{y}<extra></extra>\",\"legendgroup\":\"Crystal Palace\",\"marker\":{\"color\":\"#00cc96\",\"symbol\":\"circle\"},\"mode\":\"markers\",\"name\":\"Crystal Palace\",\"orientation\":\"v\",\"showlegend\":true,\"x\":[1.0],\"xaxis\":\"x\",\"y\":[0.2],\"yaxis\":\"y\",\"type\":\"scatter\"},{\"hovertemplate\":\"Team=Leeds<br>MatchesPlayed=18<br>MovingAverageFor=%{x}<br>MovingAverageAgainst=%{y}<extra></extra>\",\"legendgroup\":\"Leeds\",\"marker\":{\"color\":\"#ab63fa\",\"symbol\":\"circle\"},\"mode\":\"markers\",\"name\":\"Leeds\",\"orientation\":\"v\",\"showlegend\":true,\"x\":[0.6],\"xaxis\":\"x\",\"y\":[2.4],\"yaxis\":\"y\",\"type\":\"scatter\"},{\"hovertemplate\":\"Team=Man City<br>MatchesPlayed=18<br>MovingAverageFor=%{x}<br>MovingAverageAgainst=%{y}<extra></extra>\",\"legendgroup\":\"Man City\",\"marker\":{\"color\":\"#FFA15A\",\"symbol\":\"circle\"},\"mode\":\"markers\",\"name\":\"Man City\",\"orientation\":\"v\",\"showlegend\":true,\"x\":[3.8],\"xaxis\":\"x\",\"y\":[0.8],\"yaxis\":\"y\",\"type\":\"scatter\"},{\"hovertemplate\":\"Team=Brighton<br>MatchesPlayed=18<br>MovingAverageFor=%{x}<br>MovingAverageAgainst=%{y}<extra></extra>\",\"legendgroup\":\"Brighton\",\"marker\":{\"color\":\"#19d3f3\",\"symbol\":\"circle\"},\"mode\":\"markers\",\"name\":\"Brighton\",\"orientation\":\"v\",\"showlegend\":true,\"x\":[1.2],\"xaxis\":\"x\",\"y\":[1.2],\"yaxis\":\"y\",\"type\":\"scatter\"},{\"hovertemplate\":\"Team=Southampton<br>MatchesPlayed=18<br>MovingAverageFor=%{x}<br>MovingAverageAgainst=%{y}<extra></extra>\",\"legendgroup\":\"Southampton\",\"marker\":{\"color\":\"#FF6692\",\"symbol\":\"circle\"},\"mode\":\"markers\",\"name\":\"Southampton\",\"orientation\":\"v\",\"showlegend\":true,\"x\":[0.8],\"xaxis\":\"x\",\"y\":[2.4],\"yaxis\":\"y\",\"type\":\"scatter\"},{\"hovertemplate\":\"Team=Wolves<br>MatchesPlayed=18<br>MovingAverageFor=%{x}<br>MovingAverageAgainst=%{y}<extra></extra>\",\"legendgroup\":\"Wolves\",\"marker\":{\"color\":\"#B6E880\",\"symbol\":\"circle\"},\"mode\":\"markers\",\"name\":\"Wolves\",\"orientation\":\"v\",\"showlegend\":true,\"x\":[1.8],\"xaxis\":\"x\",\"y\":[2.4],\"yaxis\":\"y\",\"type\":\"scatter\"},{\"hovertemplate\":\"Team=Arsenal<br>MatchesPlayed=18<br>MovingAverageFor=%{x}<br>MovingAverageAgainst=%{y}<extra></extra>\",\"legendgroup\":\"Arsenal\",\"marker\":{\"color\":\"#FF97FF\",\"symbol\":\"circle\"},\"mode\":\"markers\",\"name\":\"Arsenal\",\"orientation\":\"v\",\"showlegend\":true,\"x\":[1.6],\"xaxis\":\"x\",\"y\":[1.2],\"yaxis\":\"y\",\"type\":\"scatter\"},{\"hovertemplate\":\"Team=West Ham<br>MatchesPlayed=18<br>MovingAverageFor=%{x}<br>MovingAverageAgainst=%{y}<extra></extra>\",\"legendgroup\":\"West Ham\",\"marker\":{\"color\":\"#FECB52\",\"symbol\":\"circle\"},\"mode\":\"markers\",\"name\":\"West Ham\",\"orientation\":\"v\",\"showlegend\":true,\"x\":[1.4],\"xaxis\":\"x\",\"y\":[1.0],\"yaxis\":\"y\",\"type\":\"scatter\"}],\"name\":\"18\"},{\"data\":[{\"hovertemplate\":\"Team=Brentford<br>MatchesPlayed=19<br>MovingAverageFor=%{x}<br>MovingAverageAgainst=%{y}<extra></extra>\",\"legendgroup\":\"Brentford\",\"marker\":{\"color\":\"#636efa\",\"symbol\":\"circle\"},\"mode\":\"markers\",\"name\":\"Brentford\",\"orientation\":\"v\",\"showlegend\":true,\"x\":[1.6],\"xaxis\":\"x\",\"y\":[0.4],\"yaxis\":\"y\",\"type\":\"scatter\"},{\"hovertemplate\":\"Team=Man United<br>MatchesPlayed=19<br>MovingAverageFor=%{x}<br>MovingAverageAgainst=%{y}<extra></extra>\",\"legendgroup\":\"Man United\",\"marker\":{\"color\":\"#EF553B\",\"symbol\":\"circle\"},\"mode\":\"markers\",\"name\":\"Man United\",\"orientation\":\"v\",\"showlegend\":true,\"x\":[2.2],\"xaxis\":\"x\",\"y\":[1.2],\"yaxis\":\"y\",\"type\":\"scatter\"},{\"hovertemplate\":\"Team=Burnley<br>MatchesPlayed=19<br>MovingAverageFor=%{x}<br>MovingAverageAgainst=%{y}<extra></extra>\",\"legendgroup\":\"Burnley\",\"marker\":{\"color\":\"#00cc96\",\"symbol\":\"circle\"},\"mode\":\"markers\",\"name\":\"Burnley\",\"orientation\":\"v\",\"showlegend\":true,\"x\":[1.6],\"xaxis\":\"x\",\"y\":[1.4],\"yaxis\":\"y\",\"type\":\"scatter\"},{\"hovertemplate\":\"Team=Chelsea<br>MatchesPlayed=19<br>MovingAverageFor=%{x}<br>MovingAverageAgainst=%{y}<extra></extra>\",\"legendgroup\":\"Chelsea\",\"marker\":{\"color\":\"#ab63fa\",\"symbol\":\"circle\"},\"mode\":\"markers\",\"name\":\"Chelsea\",\"orientation\":\"v\",\"showlegend\":true,\"x\":[1.6],\"xaxis\":\"x\",\"y\":[1.6],\"yaxis\":\"y\",\"type\":\"scatter\"},{\"hovertemplate\":\"Team=Everton<br>MatchesPlayed=19<br>MovingAverageFor=%{x}<br>MovingAverageAgainst=%{y}<extra></extra>\",\"legendgroup\":\"Everton\",\"marker\":{\"color\":\"#FFA15A\",\"symbol\":\"circle\"},\"mode\":\"markers\",\"name\":\"Everton\",\"orientation\":\"v\",\"showlegend\":true,\"x\":[1.6],\"xaxis\":\"x\",\"y\":[1.2],\"yaxis\":\"y\",\"type\":\"scatter\"},{\"hovertemplate\":\"Team=Leicester<br>MatchesPlayed=19<br>MovingAverageFor=%{x}<br>MovingAverageAgainst=%{y}<extra></extra>\",\"legendgroup\":\"Leicester\",\"marker\":{\"color\":\"#19d3f3\",\"symbol\":\"circle\"},\"mode\":\"markers\",\"name\":\"Leicester\",\"orientation\":\"v\",\"showlegend\":true,\"x\":[2.0],\"xaxis\":\"x\",\"y\":[0.8],\"yaxis\":\"y\",\"type\":\"scatter\"},{\"hovertemplate\":\"Team=Watford<br>MatchesPlayed=19<br>MovingAverageFor=%{x}<br>MovingAverageAgainst=%{y}<extra></extra>\",\"legendgroup\":\"Watford\",\"marker\":{\"color\":\"#FF6692\",\"symbol\":\"circle\"},\"mode\":\"markers\",\"name\":\"Watford\",\"orientation\":\"v\",\"showlegend\":true,\"x\":[0.6],\"xaxis\":\"x\",\"y\":[2.4],\"yaxis\":\"y\",\"type\":\"scatter\"},{\"hovertemplate\":\"Team=Norwich<br>MatchesPlayed=19<br>MovingAverageFor=%{x}<br>MovingAverageAgainst=%{y}<extra></extra>\",\"legendgroup\":\"Norwich\",\"marker\":{\"color\":\"#B6E880\",\"symbol\":\"circle\"},\"mode\":\"markers\",\"name\":\"Norwich\",\"orientation\":\"v\",\"showlegend\":true,\"x\":[0.6],\"xaxis\":\"x\",\"y\":[3.0],\"yaxis\":\"y\",\"type\":\"scatter\"},{\"hovertemplate\":\"Team=Newcastle<br>MatchesPlayed=19<br>MovingAverageFor=%{x}<br>MovingAverageAgainst=%{y}<extra></extra>\",\"legendgroup\":\"Newcastle\",\"marker\":{\"color\":\"#FF97FF\",\"symbol\":\"circle\"},\"mode\":\"markers\",\"name\":\"Newcastle\",\"orientation\":\"v\",\"showlegend\":true,\"x\":[1.2],\"xaxis\":\"x\",\"y\":[0.4],\"yaxis\":\"y\",\"type\":\"scatter\"},{\"hovertemplate\":\"Team=Tottenham<br>MatchesPlayed=19<br>MovingAverageFor=%{x}<br>MovingAverageAgainst=%{y}<extra></extra>\",\"legendgroup\":\"Tottenham\",\"marker\":{\"color\":\"#FECB52\",\"symbol\":\"circle\"},\"mode\":\"markers\",\"name\":\"Tottenham\",\"orientation\":\"v\",\"showlegend\":true,\"x\":[2.4],\"xaxis\":\"x\",\"y\":[0.6],\"yaxis\":\"y\",\"type\":\"scatter\"},{\"hovertemplate\":\"Team=Liverpool<br>MatchesPlayed=19<br>MovingAverageFor=%{x}<br>MovingAverageAgainst=%{y}<extra></extra>\",\"legendgroup\":\"Liverpool\",\"marker\":{\"color\":\"#636efa\",\"symbol\":\"circle\"},\"mode\":\"markers\",\"name\":\"Liverpool\",\"orientation\":\"v\",\"showlegend\":true,\"x\":[2.4],\"xaxis\":\"x\",\"y\":[0.4],\"yaxis\":\"y\",\"type\":\"scatter\"},{\"hovertemplate\":\"Team=Aston Villa<br>MatchesPlayed=19<br>MovingAverageFor=%{x}<br>MovingAverageAgainst=%{y}<extra></extra>\",\"legendgroup\":\"Aston Villa\",\"marker\":{\"color\":\"#EF553B\",\"symbol\":\"circle\"},\"mode\":\"markers\",\"name\":\"Aston Villa\",\"orientation\":\"v\",\"showlegend\":true,\"x\":[1.0],\"xaxis\":\"x\",\"y\":[1.6],\"yaxis\":\"y\",\"type\":\"scatter\"},{\"hovertemplate\":\"Team=Crystal Palace<br>MatchesPlayed=19<br>MovingAverageFor=%{x}<br>MovingAverageAgainst=%{y}<extra></extra>\",\"legendgroup\":\"Crystal Palace\",\"marker\":{\"color\":\"#00cc96\",\"symbol\":\"circle\"},\"mode\":\"markers\",\"name\":\"Crystal Palace\",\"orientation\":\"v\",\"showlegend\":true,\"x\":[1.0],\"xaxis\":\"x\",\"y\":[0.0],\"yaxis\":\"y\",\"type\":\"scatter\"},{\"hovertemplate\":\"Team=Leeds<br>MatchesPlayed=19<br>MovingAverageFor=%{x}<br>MovingAverageAgainst=%{y}<extra></extra>\",\"legendgroup\":\"Leeds\",\"marker\":{\"color\":\"#ab63fa\",\"symbol\":\"circle\"},\"mode\":\"markers\",\"name\":\"Leeds\",\"orientation\":\"v\",\"showlegend\":true,\"x\":[0.8],\"xaxis\":\"x\",\"y\":[2.0],\"yaxis\":\"y\",\"type\":\"scatter\"},{\"hovertemplate\":\"Team=Man City<br>MatchesPlayed=19<br>MovingAverageFor=%{x}<br>MovingAverageAgainst=%{y}<extra></extra>\",\"legendgroup\":\"Man City\",\"marker\":{\"color\":\"#FFA15A\",\"symbol\":\"circle\"},\"mode\":\"markers\",\"name\":\"Man City\",\"orientation\":\"v\",\"showlegend\":true,\"x\":[3.6],\"xaxis\":\"x\",\"y\":[1.0],\"yaxis\":\"y\",\"type\":\"scatter\"},{\"hovertemplate\":\"Team=Brighton<br>MatchesPlayed=19<br>MovingAverageFor=%{x}<br>MovingAverageAgainst=%{y}<extra></extra>\",\"legendgroup\":\"Brighton\",\"marker\":{\"color\":\"#19d3f3\",\"symbol\":\"circle\"},\"mode\":\"markers\",\"name\":\"Brighton\",\"orientation\":\"v\",\"showlegend\":true,\"x\":[1.8],\"xaxis\":\"x\",\"y\":[1.0],\"yaxis\":\"y\",\"type\":\"scatter\"},{\"hovertemplate\":\"Team=Southampton<br>MatchesPlayed=19<br>MovingAverageFor=%{x}<br>MovingAverageAgainst=%{y}<extra></extra>\",\"legendgroup\":\"Southampton\",\"marker\":{\"color\":\"#FF6692\",\"symbol\":\"circle\"},\"mode\":\"markers\",\"name\":\"Southampton\",\"orientation\":\"v\",\"showlegend\":true,\"x\":[0.8],\"xaxis\":\"x\",\"y\":[2.4],\"yaxis\":\"y\",\"type\":\"scatter\"},{\"hovertemplate\":\"Team=Wolves<br>MatchesPlayed=19<br>MovingAverageFor=%{x}<br>MovingAverageAgainst=%{y}<extra></extra>\",\"legendgroup\":\"Wolves\",\"marker\":{\"color\":\"#B6E880\",\"symbol\":\"circle\"},\"mode\":\"markers\",\"name\":\"Wolves\",\"orientation\":\"v\",\"showlegend\":true,\"x\":[1.2],\"xaxis\":\"x\",\"y\":[2.6],\"yaxis\":\"y\",\"type\":\"scatter\"},{\"hovertemplate\":\"Team=Arsenal<br>MatchesPlayed=19<br>MovingAverageFor=%{x}<br>MovingAverageAgainst=%{y}<extra></extra>\",\"legendgroup\":\"Arsenal\",\"marker\":{\"color\":\"#FF97FF\",\"symbol\":\"circle\"},\"mode\":\"markers\",\"name\":\"Arsenal\",\"orientation\":\"v\",\"showlegend\":true,\"x\":[2.2],\"xaxis\":\"x\",\"y\":[1.4],\"yaxis\":\"y\",\"type\":\"scatter\"},{\"hovertemplate\":\"Team=West Ham<br>MatchesPlayed=19<br>MovingAverageFor=%{x}<br>MovingAverageAgainst=%{y}<extra></extra>\",\"legendgroup\":\"West Ham\",\"marker\":{\"color\":\"#FECB52\",\"symbol\":\"circle\"},\"mode\":\"markers\",\"name\":\"West Ham\",\"orientation\":\"v\",\"showlegend\":true,\"x\":[1.6],\"xaxis\":\"x\",\"y\":[1.4],\"yaxis\":\"y\",\"type\":\"scatter\"}],\"name\":\"19\"},{\"data\":[{\"hovertemplate\":\"Team=Brentford<br>MatchesPlayed=20<br>MovingAverageFor=%{x}<br>MovingAverageAgainst=%{y}<extra></extra>\",\"legendgroup\":\"Brentford\",\"marker\":{\"color\":\"#636efa\",\"symbol\":\"circle\"},\"mode\":\"markers\",\"name\":\"Brentford\",\"orientation\":\"v\",\"showlegend\":true,\"x\":[1.2],\"xaxis\":\"x\",\"y\":[0.4],\"yaxis\":\"y\",\"type\":\"scatter\"},{\"hovertemplate\":\"Team=Man United<br>MatchesPlayed=20<br>MovingAverageFor=%{x}<br>MovingAverageAgainst=%{y}<extra></extra>\",\"legendgroup\":\"Man United\",\"marker\":{\"color\":\"#EF553B\",\"symbol\":\"circle\"},\"mode\":\"markers\",\"name\":\"Man United\",\"orientation\":\"v\",\"showlegend\":true,\"x\":[1.8],\"xaxis\":\"x\",\"y\":[1.0],\"yaxis\":\"y\",\"type\":\"scatter\"},{\"hovertemplate\":\"Team=Burnley<br>MatchesPlayed=20<br>MovingAverageFor=%{x}<br>MovingAverageAgainst=%{y}<extra></extra>\",\"legendgroup\":\"Burnley\",\"marker\":{\"color\":\"#00cc96\",\"symbol\":\"circle\"},\"mode\":\"markers\",\"name\":\"Burnley\",\"orientation\":\"v\",\"showlegend\":true,\"x\":[1.0],\"xaxis\":\"x\",\"y\":[1.4],\"yaxis\":\"y\",\"type\":\"scatter\"},{\"hovertemplate\":\"Team=Chelsea<br>MatchesPlayed=20<br>MovingAverageFor=%{x}<br>MovingAverageAgainst=%{y}<extra></extra>\",\"legendgroup\":\"Chelsea\",\"marker\":{\"color\":\"#ab63fa\",\"symbol\":\"circle\"},\"mode\":\"markers\",\"name\":\"Chelsea\",\"orientation\":\"v\",\"showlegend\":true,\"x\":[1.6],\"xaxis\":\"x\",\"y\":[0.8],\"yaxis\":\"y\",\"type\":\"scatter\"},{\"hovertemplate\":\"Team=Everton<br>MatchesPlayed=20<br>MovingAverageFor=%{x}<br>MovingAverageAgainst=%{y}<extra></extra>\",\"legendgroup\":\"Everton\",\"marker\":{\"color\":\"#FFA15A\",\"symbol\":\"circle\"},\"mode\":\"markers\",\"name\":\"Everton\",\"orientation\":\"v\",\"showlegend\":true,\"x\":[1.8],\"xaxis\":\"x\",\"y\":[1.6],\"yaxis\":\"y\",\"type\":\"scatter\"},{\"hovertemplate\":\"Team=Leicester<br>MatchesPlayed=20<br>MovingAverageFor=%{x}<br>MovingAverageAgainst=%{y}<extra></extra>\",\"legendgroup\":\"Leicester\",\"marker\":{\"color\":\"#19d3f3\",\"symbol\":\"circle\"},\"mode\":\"markers\",\"name\":\"Leicester\",\"orientation\":\"v\",\"showlegend\":true,\"x\":[1.8],\"xaxis\":\"x\",\"y\":[1.4],\"yaxis\":\"y\",\"type\":\"scatter\"},{\"hovertemplate\":\"Team=Watford<br>MatchesPlayed=20<br>MovingAverageFor=%{x}<br>MovingAverageAgainst=%{y}<extra></extra>\",\"legendgroup\":\"Watford\",\"marker\":{\"color\":\"#FF6692\",\"symbol\":\"circle\"},\"mode\":\"markers\",\"name\":\"Watford\",\"orientation\":\"v\",\"showlegend\":true,\"x\":[0.6],\"xaxis\":\"x\",\"y\":[2.2],\"yaxis\":\"y\",\"type\":\"scatter\"},{\"hovertemplate\":\"Team=Norwich<br>MatchesPlayed=20<br>MovingAverageFor=%{x}<br>MovingAverageAgainst=%{y}<extra></extra>\",\"legendgroup\":\"Norwich\",\"marker\":{\"color\":\"#B6E880\",\"symbol\":\"circle\"},\"mode\":\"markers\",\"name\":\"Norwich\",\"orientation\":\"v\",\"showlegend\":true,\"x\":[0.4],\"xaxis\":\"x\",\"y\":[3.4],\"yaxis\":\"y\",\"type\":\"scatter\"},{\"hovertemplate\":\"Team=Newcastle<br>MatchesPlayed=20<br>MovingAverageFor=%{x}<br>MovingAverageAgainst=%{y}<extra></extra>\",\"legendgroup\":\"Newcastle\",\"marker\":{\"color\":\"#FF97FF\",\"symbol\":\"circle\"},\"mode\":\"markers\",\"name\":\"Newcastle\",\"orientation\":\"v\",\"showlegend\":true,\"x\":[1.0],\"xaxis\":\"x\",\"y\":[0.8],\"yaxis\":\"y\",\"type\":\"scatter\"},{\"hovertemplate\":\"Team=Tottenham<br>MatchesPlayed=20<br>MovingAverageFor=%{x}<br>MovingAverageAgainst=%{y}<extra></extra>\",\"legendgroup\":\"Tottenham\",\"marker\":{\"color\":\"#FECB52\",\"symbol\":\"circle\"},\"mode\":\"markers\",\"name\":\"Tottenham\",\"orientation\":\"v\",\"showlegend\":true,\"x\":[1.6],\"xaxis\":\"x\",\"y\":[0.4],\"yaxis\":\"y\",\"type\":\"scatter\"},{\"hovertemplate\":\"Team=Liverpool<br>MatchesPlayed=20<br>MovingAverageFor=%{x}<br>MovingAverageAgainst=%{y}<extra></extra>\",\"legendgroup\":\"Liverpool\",\"marker\":{\"color\":\"#636efa\",\"symbol\":\"circle\"},\"mode\":\"markers\",\"name\":\"Liverpool\",\"orientation\":\"v\",\"showlegend\":true,\"x\":[2.6],\"xaxis\":\"x\",\"y\":[0.4],\"yaxis\":\"y\",\"type\":\"scatter\"},{\"hovertemplate\":\"Team=Aston Villa<br>MatchesPlayed=20<br>MovingAverageFor=%{x}<br>MovingAverageAgainst=%{y}<extra></extra>\",\"legendgroup\":\"Aston Villa\",\"marker\":{\"color\":\"#EF553B\",\"symbol\":\"circle\"},\"mode\":\"markers\",\"name\":\"Aston Villa\",\"orientation\":\"v\",\"showlegend\":true,\"x\":[1.4],\"xaxis\":\"x\",\"y\":[1.4],\"yaxis\":\"y\",\"type\":\"scatter\"},{\"hovertemplate\":\"Team=Crystal Palace<br>MatchesPlayed=20<br>MovingAverageFor=%{x}<br>MovingAverageAgainst=%{y}<extra></extra>\",\"legendgroup\":\"Crystal Palace\",\"marker\":{\"color\":\"#00cc96\",\"symbol\":\"circle\"},\"mode\":\"markers\",\"name\":\"Crystal Palace\",\"orientation\":\"v\",\"showlegend\":true,\"x\":[1.0],\"xaxis\":\"x\",\"y\":[0.6],\"yaxis\":\"y\",\"type\":\"scatter\"},{\"hovertemplate\":\"Team=Leeds<br>MatchesPlayed=20<br>MovingAverageFor=%{x}<br>MovingAverageAgainst=%{y}<extra></extra>\",\"legendgroup\":\"Leeds\",\"marker\":{\"color\":\"#ab63fa\",\"symbol\":\"circle\"},\"mode\":\"markers\",\"name\":\"Leeds\",\"orientation\":\"v\",\"showlegend\":true,\"x\":[0.6],\"xaxis\":\"x\",\"y\":[2.8],\"yaxis\":\"y\",\"type\":\"scatter\"},{\"hovertemplate\":\"Team=Man City<br>MatchesPlayed=20<br>MovingAverageFor=%{x}<br>MovingAverageAgainst=%{y}<extra></extra>\",\"legendgroup\":\"Man City\",\"marker\":{\"color\":\"#FFA15A\",\"symbol\":\"circle\"},\"mode\":\"markers\",\"name\":\"Man City\",\"orientation\":\"v\",\"showlegend\":true,\"x\":[3.2],\"xaxis\":\"x\",\"y\":[0.8],\"yaxis\":\"y\",\"type\":\"scatter\"},{\"hovertemplate\":\"Team=Brighton<br>MatchesPlayed=20<br>MovingAverageFor=%{x}<br>MovingAverageAgainst=%{y}<extra></extra>\",\"legendgroup\":\"Brighton\",\"marker\":{\"color\":\"#19d3f3\",\"symbol\":\"circle\"},\"mode\":\"markers\",\"name\":\"Brighton\",\"orientation\":\"v\",\"showlegend\":true,\"x\":[2.2],\"xaxis\":\"x\",\"y\":[0.8],\"yaxis\":\"y\",\"type\":\"scatter\"},{\"hovertemplate\":\"Team=Southampton<br>MatchesPlayed=20<br>MovingAverageFor=%{x}<br>MovingAverageAgainst=%{y}<extra></extra>\",\"legendgroup\":\"Southampton\",\"marker\":{\"color\":\"#FF6692\",\"symbol\":\"circle\"},\"mode\":\"markers\",\"name\":\"Southampton\",\"orientation\":\"v\",\"showlegend\":true,\"x\":[0.8],\"xaxis\":\"x\",\"y\":[2.6],\"yaxis\":\"y\",\"type\":\"scatter\"},{\"hovertemplate\":\"Team=Wolves<br>MatchesPlayed=20<br>MovingAverageFor=%{x}<br>MovingAverageAgainst=%{y}<extra></extra>\",\"legendgroup\":\"Wolves\",\"marker\":{\"color\":\"#B6E880\",\"symbol\":\"circle\"},\"mode\":\"markers\",\"name\":\"Wolves\",\"orientation\":\"v\",\"showlegend\":true,\"x\":[0.8],\"xaxis\":\"x\",\"y\":[2.2],\"yaxis\":\"y\",\"type\":\"scatter\"},{\"hovertemplate\":\"Team=Arsenal<br>MatchesPlayed=20<br>MovingAverageFor=%{x}<br>MovingAverageAgainst=%{y}<extra></extra>\",\"legendgroup\":\"Arsenal\",\"marker\":{\"color\":\"#FF97FF\",\"symbol\":\"circle\"},\"mode\":\"markers\",\"name\":\"Arsenal\",\"orientation\":\"v\",\"showlegend\":true,\"x\":[2.2],\"xaxis\":\"x\",\"y\":[1.4],\"yaxis\":\"y\",\"type\":\"scatter\"},{\"hovertemplate\":\"Team=West Ham<br>MatchesPlayed=20<br>MovingAverageFor=%{x}<br>MovingAverageAgainst=%{y}<extra></extra>\",\"legendgroup\":\"West Ham\",\"marker\":{\"color\":\"#FECB52\",\"symbol\":\"circle\"},\"mode\":\"markers\",\"name\":\"West Ham\",\"orientation\":\"v\",\"showlegend\":true,\"x\":[2.0],\"xaxis\":\"x\",\"y\":[1.6],\"yaxis\":\"y\",\"type\":\"scatter\"}],\"name\":\"20\"},{\"data\":[{\"hovertemplate\":\"Team=Brentford<br>MatchesPlayed=21<br>MovingAverageFor=%{x}<br>MovingAverageAgainst=%{y}<extra></extra>\",\"legendgroup\":\"Brentford\",\"marker\":{\"color\":\"#636efa\",\"symbol\":\"circle\"},\"mode\":\"markers\",\"name\":\"Brentford\",\"orientation\":\"v\",\"showlegend\":true,\"x\":[1.0],\"xaxis\":\"x\",\"y\":[0.6],\"yaxis\":\"y\",\"type\":\"scatter\"},{\"hovertemplate\":\"Team=Man United<br>MatchesPlayed=21<br>MovingAverageFor=%{x}<br>MovingAverageAgainst=%{y}<extra></extra>\",\"legendgroup\":\"Man United\",\"marker\":{\"color\":\"#EF553B\",\"symbol\":\"circle\"},\"mode\":\"markers\",\"name\":\"Man United\",\"orientation\":\"v\",\"showlegend\":true,\"x\":[1.8],\"xaxis\":\"x\",\"y\":[0.8],\"yaxis\":\"y\",\"type\":\"scatter\"},{\"hovertemplate\":\"Team=Burnley<br>MatchesPlayed=21<br>MovingAverageFor=%{x}<br>MovingAverageAgainst=%{y}<extra></extra>\",\"legendgroup\":\"Burnley\",\"marker\":{\"color\":\"#00cc96\",\"symbol\":\"circle\"},\"mode\":\"markers\",\"name\":\"Burnley\",\"orientation\":\"v\",\"showlegend\":true,\"x\":[0.8],\"xaxis\":\"x\",\"y\":[2.0],\"yaxis\":\"y\",\"type\":\"scatter\"},{\"hovertemplate\":\"Team=Chelsea<br>MatchesPlayed=21<br>MovingAverageFor=%{x}<br>MovingAverageAgainst=%{y}<extra></extra>\",\"legendgroup\":\"Chelsea\",\"marker\":{\"color\":\"#ab63fa\",\"symbol\":\"circle\"},\"mode\":\"markers\",\"name\":\"Chelsea\",\"orientation\":\"v\",\"showlegend\":true,\"x\":[1.6],\"xaxis\":\"x\",\"y\":[1.0],\"yaxis\":\"y\",\"type\":\"scatter\"},{\"hovertemplate\":\"Team=Everton<br>MatchesPlayed=21<br>MovingAverageFor=%{x}<br>MovingAverageAgainst=%{y}<extra></extra>\",\"legendgroup\":\"Everton\",\"marker\":{\"color\":\"#FFA15A\",\"symbol\":\"circle\"},\"mode\":\"markers\",\"name\":\"Everton\",\"orientation\":\"v\",\"showlegend\":true,\"x\":[2.0],\"xaxis\":\"x\",\"y\":[1.4],\"yaxis\":\"y\",\"type\":\"scatter\"},{\"hovertemplate\":\"Team=Leicester<br>MatchesPlayed=21<br>MovingAverageFor=%{x}<br>MovingAverageAgainst=%{y}<extra></extra>\",\"legendgroup\":\"Leicester\",\"marker\":{\"color\":\"#19d3f3\",\"symbol\":\"circle\"},\"mode\":\"markers\",\"name\":\"Leicester\",\"orientation\":\"v\",\"showlegend\":true,\"x\":[2.2],\"xaxis\":\"x\",\"y\":[1.6],\"yaxis\":\"y\",\"type\":\"scatter\"},{\"hovertemplate\":\"Team=Watford<br>MatchesPlayed=21<br>MovingAverageFor=%{x}<br>MovingAverageAgainst=%{y}<extra></extra>\",\"legendgroup\":\"Watford\",\"marker\":{\"color\":\"#FF6692\",\"symbol\":\"circle\"},\"mode\":\"markers\",\"name\":\"Watford\",\"orientation\":\"v\",\"showlegend\":true,\"x\":[0.4],\"xaxis\":\"x\",\"y\":[2.0],\"yaxis\":\"y\",\"type\":\"scatter\"},{\"hovertemplate\":\"Team=Norwich<br>MatchesPlayed=21<br>MovingAverageFor=%{x}<br>MovingAverageAgainst=%{y}<extra></extra>\",\"legendgroup\":\"Norwich\",\"marker\":{\"color\":\"#B6E880\",\"symbol\":\"circle\"},\"mode\":\"markers\",\"name\":\"Norwich\",\"orientation\":\"v\",\"showlegend\":true,\"x\":[0.0],\"xaxis\":\"x\",\"y\":[3.6],\"yaxis\":\"y\",\"type\":\"scatter\"},{\"hovertemplate\":\"Team=Newcastle<br>MatchesPlayed=21<br>MovingAverageFor=%{x}<br>MovingAverageAgainst=%{y}<extra></extra>\",\"legendgroup\":\"Newcastle\",\"marker\":{\"color\":\"#FF97FF\",\"symbol\":\"circle\"},\"mode\":\"markers\",\"name\":\"Newcastle\",\"orientation\":\"v\",\"showlegend\":true,\"x\":[0.8],\"xaxis\":\"x\",\"y\":[1.4],\"yaxis\":\"y\",\"type\":\"scatter\"},{\"hovertemplate\":\"Team=Tottenham<br>MatchesPlayed=21<br>MovingAverageFor=%{x}<br>MovingAverageAgainst=%{y}<extra></extra>\",\"legendgroup\":\"Tottenham\",\"marker\":{\"color\":\"#FECB52\",\"symbol\":\"circle\"},\"mode\":\"markers\",\"name\":\"Tottenham\",\"orientation\":\"v\",\"showlegend\":true,\"x\":[1.6],\"xaxis\":\"x\",\"y\":[0.8],\"yaxis\":\"y\",\"type\":\"scatter\"},{\"hovertemplate\":\"Team=Liverpool<br>MatchesPlayed=21<br>MovingAverageFor=%{x}<br>MovingAverageAgainst=%{y}<extra></extra>\",\"legendgroup\":\"Liverpool\",\"marker\":{\"color\":\"#636efa\",\"symbol\":\"circle\"},\"mode\":\"markers\",\"name\":\"Liverpool\",\"orientation\":\"v\",\"showlegend\":true,\"x\":[2.4],\"xaxis\":\"x\",\"y\":[0.4],\"yaxis\":\"y\",\"type\":\"scatter\"},{\"hovertemplate\":\"Team=Aston Villa<br>MatchesPlayed=21<br>MovingAverageFor=%{x}<br>MovingAverageAgainst=%{y}<extra></extra>\",\"legendgroup\":\"Aston Villa\",\"marker\":{\"color\":\"#EF553B\",\"symbol\":\"circle\"},\"mode\":\"markers\",\"name\":\"Aston Villa\",\"orientation\":\"v\",\"showlegend\":true,\"x\":[1.0],\"xaxis\":\"x\",\"y\":[2.0],\"yaxis\":\"y\",\"type\":\"scatter\"},{\"hovertemplate\":\"Team=Crystal Palace<br>MatchesPlayed=21<br>MovingAverageFor=%{x}<br>MovingAverageAgainst=%{y}<extra></extra>\",\"legendgroup\":\"Crystal Palace\",\"marker\":{\"color\":\"#00cc96\",\"symbol\":\"circle\"},\"mode\":\"markers\",\"name\":\"Crystal Palace\",\"orientation\":\"v\",\"showlegend\":true,\"x\":[0.8],\"xaxis\":\"x\",\"y\":[1.0],\"yaxis\":\"y\",\"type\":\"scatter\"},{\"hovertemplate\":\"Team=Leeds<br>MatchesPlayed=21<br>MovingAverageFor=%{x}<br>MovingAverageAgainst=%{y}<extra></extra>\",\"legendgroup\":\"Leeds\",\"marker\":{\"color\":\"#ab63fa\",\"symbol\":\"circle\"},\"mode\":\"markers\",\"name\":\"Leeds\",\"orientation\":\"v\",\"showlegend\":true,\"x\":[0.6],\"xaxis\":\"x\",\"y\":[2.8],\"yaxis\":\"y\",\"type\":\"scatter\"},{\"hovertemplate\":\"Team=Man City<br>MatchesPlayed=21<br>MovingAverageFor=%{x}<br>MovingAverageAgainst=%{y}<extra></extra>\",\"legendgroup\":\"Man City\",\"marker\":{\"color\":\"#FFA15A\",\"symbol\":\"circle\"},\"mode\":\"markers\",\"name\":\"Man City\",\"orientation\":\"v\",\"showlegend\":true,\"x\":[2.8],\"xaxis\":\"x\",\"y\":[0.8],\"yaxis\":\"y\",\"type\":\"scatter\"},{\"hovertemplate\":\"Team=Brighton<br>MatchesPlayed=21<br>MovingAverageFor=%{x}<br>MovingAverageAgainst=%{y}<extra></extra>\",\"legendgroup\":\"Brighton\",\"marker\":{\"color\":\"#19d3f3\",\"symbol\":\"circle\"},\"mode\":\"markers\",\"name\":\"Brighton\",\"orientation\":\"v\",\"showlegend\":true,\"x\":[2.4],\"xaxis\":\"x\",\"y\":[0.8],\"yaxis\":\"y\",\"type\":\"scatter\"},{\"hovertemplate\":\"Team=Southampton<br>MatchesPlayed=21<br>MovingAverageFor=%{x}<br>MovingAverageAgainst=%{y}<extra></extra>\",\"legendgroup\":\"Southampton\",\"marker\":{\"color\":\"#FF6692\",\"symbol\":\"circle\"},\"mode\":\"markers\",\"name\":\"Southampton\",\"orientation\":\"v\",\"showlegend\":true,\"x\":[1.2],\"xaxis\":\"x\",\"y\":[1.8],\"yaxis\":\"y\",\"type\":\"scatter\"},{\"hovertemplate\":\"Team=Wolves<br>MatchesPlayed=21<br>MovingAverageFor=%{x}<br>MovingAverageAgainst=%{y}<extra></extra>\",\"legendgroup\":\"Wolves\",\"marker\":{\"color\":\"#B6E880\",\"symbol\":\"circle\"},\"mode\":\"markers\",\"name\":\"Wolves\",\"orientation\":\"v\",\"showlegend\":true,\"x\":[0.8],\"xaxis\":\"x\",\"y\":[2.0],\"yaxis\":\"y\",\"type\":\"scatter\"},{\"hovertemplate\":\"Team=Arsenal<br>MatchesPlayed=21<br>MovingAverageFor=%{x}<br>MovingAverageAgainst=%{y}<extra></extra>\",\"legendgroup\":\"Arsenal\",\"marker\":{\"color\":\"#FF97FF\",\"symbol\":\"circle\"},\"mode\":\"markers\",\"name\":\"Arsenal\",\"orientation\":\"v\",\"showlegend\":true,\"x\":[2.0],\"xaxis\":\"x\",\"y\":[2.0],\"yaxis\":\"y\",\"type\":\"scatter\"},{\"hovertemplate\":\"Team=West Ham<br>MatchesPlayed=21<br>MovingAverageFor=%{x}<br>MovingAverageAgainst=%{y}<extra></extra>\",\"legendgroup\":\"West Ham\",\"marker\":{\"color\":\"#FECB52\",\"symbol\":\"circle\"},\"mode\":\"markers\",\"name\":\"West Ham\",\"orientation\":\"v\",\"showlegend\":true,\"x\":[1.6],\"xaxis\":\"x\",\"y\":[1.4],\"yaxis\":\"y\",\"type\":\"scatter\"}],\"name\":\"21\"},{\"data\":[{\"hovertemplate\":\"Team=Brentford<br>MatchesPlayed=22<br>MovingAverageFor=%{x}<br>MovingAverageAgainst=%{y}<extra></extra>\",\"legendgroup\":\"Brentford\",\"marker\":{\"color\":\"#636efa\",\"symbol\":\"circle\"},\"mode\":\"markers\",\"name\":\"Brentford\",\"orientation\":\"v\",\"showlegend\":true,\"x\":[1.4],\"xaxis\":\"x\",\"y\":[0.6],\"yaxis\":\"y\",\"type\":\"scatter\"},{\"hovertemplate\":\"Team=Man United<br>MatchesPlayed=22<br>MovingAverageFor=%{x}<br>MovingAverageAgainst=%{y}<extra></extra>\",\"legendgroup\":\"Man United\",\"marker\":{\"color\":\"#EF553B\",\"symbol\":\"circle\"},\"mode\":\"markers\",\"name\":\"Man United\",\"orientation\":\"v\",\"showlegend\":true,\"x\":[1.6],\"xaxis\":\"x\",\"y\":[0.6],\"yaxis\":\"y\",\"type\":\"scatter\"},{\"hovertemplate\":\"Team=Burnley<br>MatchesPlayed=22<br>MovingAverageFor=%{x}<br>MovingAverageAgainst=%{y}<extra></extra>\",\"legendgroup\":\"Burnley\",\"marker\":{\"color\":\"#00cc96\",\"symbol\":\"circle\"},\"mode\":\"markers\",\"name\":\"Burnley\",\"orientation\":\"v\",\"showlegend\":true,\"x\":[1.0],\"xaxis\":\"x\",\"y\":[2.4],\"yaxis\":\"y\",\"type\":\"scatter\"},{\"hovertemplate\":\"Team=Chelsea<br>MatchesPlayed=22<br>MovingAverageFor=%{x}<br>MovingAverageAgainst=%{y}<extra></extra>\",\"legendgroup\":\"Chelsea\",\"marker\":{\"color\":\"#ab63fa\",\"symbol\":\"circle\"},\"mode\":\"markers\",\"name\":\"Chelsea\",\"orientation\":\"v\",\"showlegend\":true,\"x\":[1.8],\"xaxis\":\"x\",\"y\":[0.6],\"yaxis\":\"y\",\"type\":\"scatter\"},{\"hovertemplate\":\"Team=Everton<br>MatchesPlayed=22<br>MovingAverageFor=%{x}<br>MovingAverageAgainst=%{y}<extra></extra>\",\"legendgroup\":\"Everton\",\"marker\":{\"color\":\"#FFA15A\",\"symbol\":\"circle\"},\"mode\":\"markers\",\"name\":\"Everton\",\"orientation\":\"v\",\"showlegend\":true,\"x\":[1.8],\"xaxis\":\"x\",\"y\":[2.0],\"yaxis\":\"y\",\"type\":\"scatter\"},{\"hovertemplate\":\"Team=Leicester<br>MatchesPlayed=22<br>MovingAverageFor=%{x}<br>MovingAverageAgainst=%{y}<extra></extra>\",\"legendgroup\":\"Leicester\",\"marker\":{\"color\":\"#19d3f3\",\"symbol\":\"circle\"},\"mode\":\"markers\",\"name\":\"Leicester\",\"orientation\":\"v\",\"showlegend\":true,\"x\":[2.2],\"xaxis\":\"x\",\"y\":[1.6],\"yaxis\":\"y\",\"type\":\"scatter\"},{\"hovertemplate\":\"Team=Watford<br>MatchesPlayed=22<br>MovingAverageFor=%{x}<br>MovingAverageAgainst=%{y}<extra></extra>\",\"legendgroup\":\"Watford\",\"marker\":{\"color\":\"#FF6692\",\"symbol\":\"circle\"},\"mode\":\"markers\",\"name\":\"Watford\",\"orientation\":\"v\",\"showlegend\":true,\"x\":[0.8],\"xaxis\":\"x\",\"y\":[1.8],\"yaxis\":\"y\",\"type\":\"scatter\"},{\"hovertemplate\":\"Team=Norwich<br>MatchesPlayed=22<br>MovingAverageFor=%{x}<br>MovingAverageAgainst=%{y}<extra></extra>\",\"legendgroup\":\"Norwich\",\"marker\":{\"color\":\"#B6E880\",\"symbol\":\"circle\"},\"mode\":\"markers\",\"name\":\"Norwich\",\"orientation\":\"v\",\"showlegend\":true,\"x\":[0.0],\"xaxis\":\"x\",\"y\":[3.4],\"yaxis\":\"y\",\"type\":\"scatter\"},{\"hovertemplate\":\"Team=Newcastle<br>MatchesPlayed=22<br>MovingAverageFor=%{x}<br>MovingAverageAgainst=%{y}<extra></extra>\",\"legendgroup\":\"Newcastle\",\"marker\":{\"color\":\"#FF97FF\",\"symbol\":\"circle\"},\"mode\":\"markers\",\"name\":\"Newcastle\",\"orientation\":\"v\",\"showlegend\":true,\"x\":[0.8],\"xaxis\":\"x\",\"y\":[1.6],\"yaxis\":\"y\",\"type\":\"scatter\"},{\"hovertemplate\":\"Team=Tottenham<br>MatchesPlayed=22<br>MovingAverageFor=%{x}<br>MovingAverageAgainst=%{y}<extra></extra>\",\"legendgroup\":\"Tottenham\",\"marker\":{\"color\":\"#FECB52\",\"symbol\":\"circle\"},\"mode\":\"markers\",\"name\":\"Tottenham\",\"orientation\":\"v\",\"showlegend\":true,\"x\":[1.2],\"xaxis\":\"x\",\"y\":[1.2],\"yaxis\":\"y\",\"type\":\"scatter\"},{\"hovertemplate\":\"Team=Liverpool<br>MatchesPlayed=22<br>MovingAverageFor=%{x}<br>MovingAverageAgainst=%{y}<extra></extra>\",\"legendgroup\":\"Liverpool\",\"marker\":{\"color\":\"#636efa\",\"symbol\":\"circle\"},\"mode\":\"markers\",\"name\":\"Liverpool\",\"orientation\":\"v\",\"showlegend\":true,\"x\":[2.6],\"xaxis\":\"x\",\"y\":[1.0],\"yaxis\":\"y\",\"type\":\"scatter\"},{\"hovertemplate\":\"Team=Aston Villa<br>MatchesPlayed=22<br>MovingAverageFor=%{x}<br>MovingAverageAgainst=%{y}<extra></extra>\",\"legendgroup\":\"Aston Villa\",\"marker\":{\"color\":\"#EF553B\",\"symbol\":\"circle\"},\"mode\":\"markers\",\"name\":\"Aston Villa\",\"orientation\":\"v\",\"showlegend\":true,\"x\":[1.0],\"xaxis\":\"x\",\"y\":[1.6],\"yaxis\":\"y\",\"type\":\"scatter\"},{\"hovertemplate\":\"Team=Crystal Palace<br>MatchesPlayed=22<br>MovingAverageFor=%{x}<br>MovingAverageAgainst=%{y}<extra></extra>\",\"legendgroup\":\"Crystal Palace\",\"marker\":{\"color\":\"#00cc96\",\"symbol\":\"circle\"},\"mode\":\"markers\",\"name\":\"Crystal Palace\",\"orientation\":\"v\",\"showlegend\":true,\"x\":[0.8],\"xaxis\":\"x\",\"y\":[1.6],\"yaxis\":\"y\",\"type\":\"scatter\"},{\"hovertemplate\":\"Team=Leeds<br>MatchesPlayed=22<br>MovingAverageFor=%{x}<br>MovingAverageAgainst=%{y}<extra></extra>\",\"legendgroup\":\"Leeds\",\"marker\":{\"color\":\"#ab63fa\",\"symbol\":\"circle\"},\"mode\":\"markers\",\"name\":\"Leeds\",\"orientation\":\"v\",\"showlegend\":true,\"x\":[0.8],\"xaxis\":\"x\",\"y\":[2.2],\"yaxis\":\"y\",\"type\":\"scatter\"},{\"hovertemplate\":\"Team=Man City<br>MatchesPlayed=22<br>MovingAverageFor=%{x}<br>MovingAverageAgainst=%{y}<extra></extra>\",\"legendgroup\":\"Man City\",\"marker\":{\"color\":\"#FFA15A\",\"symbol\":\"circle\"},\"mode\":\"markers\",\"name\":\"Man City\",\"orientation\":\"v\",\"showlegend\":true,\"x\":[2.0],\"xaxis\":\"x\",\"y\":[0.6],\"yaxis\":\"y\",\"type\":\"scatter\"},{\"hovertemplate\":\"Team=Brighton<br>MatchesPlayed=22<br>MovingAverageFor=%{x}<br>MovingAverageAgainst=%{y}<extra></extra>\",\"legendgroup\":\"Brighton\",\"marker\":{\"color\":\"#19d3f3\",\"symbol\":\"circle\"},\"mode\":\"markers\",\"name\":\"Brighton\",\"orientation\":\"v\",\"showlegend\":true,\"x\":[2.2],\"xaxis\":\"x\",\"y\":[0.6],\"yaxis\":\"y\",\"type\":\"scatter\"},{\"hovertemplate\":\"Team=Southampton<br>MatchesPlayed=22<br>MovingAverageFor=%{x}<br>MovingAverageAgainst=%{y}<extra></extra>\",\"legendgroup\":\"Southampton\",\"marker\":{\"color\":\"#FF6692\",\"symbol\":\"circle\"},\"mode\":\"markers\",\"name\":\"Southampton\",\"orientation\":\"v\",\"showlegend\":true,\"x\":[1.0],\"xaxis\":\"x\",\"y\":[1.8],\"yaxis\":\"y\",\"type\":\"scatter\"},{\"hovertemplate\":\"Team=Wolves<br>MatchesPlayed=22<br>MovingAverageFor=%{x}<br>MovingAverageAgainst=%{y}<extra></extra>\",\"legendgroup\":\"Wolves\",\"marker\":{\"color\":\"#B6E880\",\"symbol\":\"circle\"},\"mode\":\"markers\",\"name\":\"Wolves\",\"orientation\":\"v\",\"showlegend\":true,\"x\":[1.0],\"xaxis\":\"x\",\"y\":[1.4],\"yaxis\":\"y\",\"type\":\"scatter\"},{\"hovertemplate\":\"Team=Arsenal<br>MatchesPlayed=22<br>MovingAverageFor=%{x}<br>MovingAverageAgainst=%{y}<extra></extra>\",\"legendgroup\":\"Arsenal\",\"marker\":{\"color\":\"#FF97FF\",\"symbol\":\"circle\"},\"mode\":\"markers\",\"name\":\"Arsenal\",\"orientation\":\"v\",\"showlegend\":true,\"x\":[1.6],\"xaxis\":\"x\",\"y\":[1.8],\"yaxis\":\"y\",\"type\":\"scatter\"},{\"hovertemplate\":\"Team=West Ham<br>MatchesPlayed=22<br>MovingAverageFor=%{x}<br>MovingAverageAgainst=%{y}<extra></extra>\",\"legendgroup\":\"West Ham\",\"marker\":{\"color\":\"#FECB52\",\"symbol\":\"circle\"},\"mode\":\"markers\",\"name\":\"West Ham\",\"orientation\":\"v\",\"showlegend\":true,\"x\":[1.8],\"xaxis\":\"x\",\"y\":[1.4],\"yaxis\":\"y\",\"type\":\"scatter\"}],\"name\":\"22\"},{\"data\":[{\"hovertemplate\":\"Team=Brentford<br>MatchesPlayed=23<br>MovingAverageFor=%{x}<br>MovingAverageAgainst=%{y}<extra></extra>\",\"legendgroup\":\"Brentford\",\"marker\":{\"color\":\"#636efa\",\"symbol\":\"circle\"},\"mode\":\"markers\",\"name\":\"Brentford\",\"orientation\":\"v\",\"showlegend\":true,\"x\":[1.2],\"xaxis\":\"x\",\"y\":[0.8],\"yaxis\":\"y\",\"type\":\"scatter\"},{\"hovertemplate\":\"Team=Man United<br>MatchesPlayed=23<br>MovingAverageFor=%{x}<br>MovingAverageAgainst=%{y}<extra></extra>\",\"legendgroup\":\"Man United\",\"marker\":{\"color\":\"#EF553B\",\"symbol\":\"circle\"},\"mode\":\"markers\",\"name\":\"Man United\",\"orientation\":\"v\",\"showlegend\":true,\"x\":[1.8],\"xaxis\":\"x\",\"y\":[1.2],\"yaxis\":\"y\",\"type\":\"scatter\"},{\"hovertemplate\":\"Team=Burnley<br>MatchesPlayed=23<br>MovingAverageFor=%{x}<br>MovingAverageAgainst=%{y}<extra></extra>\",\"legendgroup\":\"Burnley\",\"marker\":{\"color\":\"#00cc96\",\"symbol\":\"circle\"},\"mode\":\"markers\",\"name\":\"Burnley\",\"orientation\":\"v\",\"showlegend\":true,\"x\":[0.8],\"xaxis\":\"x\",\"y\":[2.2],\"yaxis\":\"y\",\"type\":\"scatter\"},{\"hovertemplate\":\"Team=Chelsea<br>MatchesPlayed=23<br>MovingAverageFor=%{x}<br>MovingAverageAgainst=%{y}<extra></extra>\",\"legendgroup\":\"Chelsea\",\"marker\":{\"color\":\"#ab63fa\",\"symbol\":\"circle\"},\"mode\":\"markers\",\"name\":\"Chelsea\",\"orientation\":\"v\",\"showlegend\":true,\"x\":[1.8],\"xaxis\":\"x\",\"y\":[0.4],\"yaxis\":\"y\",\"type\":\"scatter\"},{\"hovertemplate\":\"Team=Everton<br>MatchesPlayed=23<br>MovingAverageFor=%{x}<br>MovingAverageAgainst=%{y}<extra></extra>\",\"legendgroup\":\"Everton\",\"marker\":{\"color\":\"#FFA15A\",\"symbol\":\"circle\"},\"mode\":\"markers\",\"name\":\"Everton\",\"orientation\":\"v\",\"showlegend\":true,\"x\":[1.6],\"xaxis\":\"x\",\"y\":[1.6],\"yaxis\":\"y\",\"type\":\"scatter\"},{\"hovertemplate\":\"Team=Leicester<br>MatchesPlayed=23<br>MovingAverageFor=%{x}<br>MovingAverageAgainst=%{y}<extra></extra>\",\"legendgroup\":\"Leicester\",\"marker\":{\"color\":\"#19d3f3\",\"symbol\":\"circle\"},\"mode\":\"markers\",\"name\":\"Leicester\",\"orientation\":\"v\",\"showlegend\":true,\"x\":[2.0],\"xaxis\":\"x\",\"y\":[2.0],\"yaxis\":\"y\",\"type\":\"scatter\"},{\"hovertemplate\":\"Team=Watford<br>MatchesPlayed=23<br>MovingAverageFor=%{x}<br>MovingAverageAgainst=%{y}<extra></extra>\",\"legendgroup\":\"Watford\",\"marker\":{\"color\":\"#FF6692\",\"symbol\":\"circle\"},\"mode\":\"markers\",\"name\":\"Watford\",\"orientation\":\"v\",\"showlegend\":true,\"x\":[0.8],\"xaxis\":\"x\",\"y\":[2.0],\"yaxis\":\"y\",\"type\":\"scatter\"},{\"hovertemplate\":\"Team=Norwich<br>MatchesPlayed=23<br>MovingAverageFor=%{x}<br>MovingAverageAgainst=%{y}<extra></extra>\",\"legendgroup\":\"Norwich\",\"marker\":{\"color\":\"#B6E880\",\"symbol\":\"circle\"},\"mode\":\"markers\",\"name\":\"Norwich\",\"orientation\":\"v\",\"showlegend\":true,\"x\":[0.0],\"xaxis\":\"x\",\"y\":[2.6],\"yaxis\":\"y\",\"type\":\"scatter\"},{\"hovertemplate\":\"Team=Newcastle<br>MatchesPlayed=23<br>MovingAverageFor=%{x}<br>MovingAverageAgainst=%{y}<extra></extra>\",\"legendgroup\":\"Newcastle\",\"marker\":{\"color\":\"#FF97FF\",\"symbol\":\"circle\"},\"mode\":\"markers\",\"name\":\"Newcastle\",\"orientation\":\"v\",\"showlegend\":true,\"x\":[1.0],\"xaxis\":\"x\",\"y\":[1.8],\"yaxis\":\"y\",\"type\":\"scatter\"},{\"hovertemplate\":\"Team=Tottenham<br>MatchesPlayed=23<br>MovingAverageFor=%{x}<br>MovingAverageAgainst=%{y}<extra></extra>\",\"legendgroup\":\"Tottenham\",\"marker\":{\"color\":\"#FECB52\",\"symbol\":\"circle\"},\"mode\":\"markers\",\"name\":\"Tottenham\",\"orientation\":\"v\",\"showlegend\":true,\"x\":[1.2],\"xaxis\":\"x\",\"y\":[1.6],\"yaxis\":\"y\",\"type\":\"scatter\"},{\"hovertemplate\":\"Team=Liverpool<br>MatchesPlayed=23<br>MovingAverageFor=%{x}<br>MovingAverageAgainst=%{y}<extra></extra>\",\"legendgroup\":\"Liverpool\",\"marker\":{\"color\":\"#636efa\",\"symbol\":\"circle\"},\"mode\":\"markers\",\"name\":\"Liverpool\",\"orientation\":\"v\",\"showlegend\":true,\"x\":[3.4],\"xaxis\":\"x\",\"y\":[0.8],\"yaxis\":\"y\",\"type\":\"scatter\"},{\"hovertemplate\":\"Team=Aston Villa<br>MatchesPlayed=23<br>MovingAverageFor=%{x}<br>MovingAverageAgainst=%{y}<extra></extra>\",\"legendgroup\":\"Aston Villa\",\"marker\":{\"color\":\"#EF553B\",\"symbol\":\"circle\"},\"mode\":\"markers\",\"name\":\"Aston Villa\",\"orientation\":\"v\",\"showlegend\":true,\"x\":[1.0],\"xaxis\":\"x\",\"y\":[1.8],\"yaxis\":\"y\",\"type\":\"scatter\"},{\"hovertemplate\":\"Team=Crystal Palace<br>MatchesPlayed=23<br>MovingAverageFor=%{x}<br>MovingAverageAgainst=%{y}<extra></extra>\",\"legendgroup\":\"Crystal Palace\",\"marker\":{\"color\":\"#00cc96\",\"symbol\":\"circle\"},\"mode\":\"markers\",\"name\":\"Crystal Palace\",\"orientation\":\"v\",\"showlegend\":true,\"x\":[1.0],\"xaxis\":\"x\",\"y\":[2.0],\"yaxis\":\"y\",\"type\":\"scatter\"},{\"hovertemplate\":\"Team=Leeds<br>MatchesPlayed=23<br>MovingAverageFor=%{x}<br>MovingAverageAgainst=%{y}<extra></extra>\",\"legendgroup\":\"Leeds\",\"marker\":{\"color\":\"#ab63fa\",\"symbol\":\"circle\"},\"mode\":\"markers\",\"name\":\"Leeds\",\"orientation\":\"v\",\"showlegend\":true,\"x\":[0.8],\"xaxis\":\"x\",\"y\":[1.8],\"yaxis\":\"y\",\"type\":\"scatter\"},{\"hovertemplate\":\"Team=Man City<br>MatchesPlayed=23<br>MovingAverageFor=%{x}<br>MovingAverageAgainst=%{y}<extra></extra>\",\"legendgroup\":\"Man City\",\"marker\":{\"color\":\"#FFA15A\",\"symbol\":\"circle\"},\"mode\":\"markers\",\"name\":\"Man City\",\"orientation\":\"v\",\"showlegend\":true,\"x\":[1.4],\"xaxis\":\"x\",\"y\":[1.0],\"yaxis\":\"y\",\"type\":\"scatter\"},{\"hovertemplate\":\"Team=Brighton<br>MatchesPlayed=23<br>MovingAverageFor=%{x}<br>MovingAverageAgainst=%{y}<extra></extra>\",\"legendgroup\":\"Brighton\",\"marker\":{\"color\":\"#19d3f3\",\"symbol\":\"circle\"},\"mode\":\"markers\",\"name\":\"Brighton\",\"orientation\":\"v\",\"showlegend\":true,\"x\":[1.4],\"xaxis\":\"x\",\"y\":[0.6],\"yaxis\":\"y\",\"type\":\"scatter\"},{\"hovertemplate\":\"Team=Southampton<br>MatchesPlayed=23<br>MovingAverageFor=%{x}<br>MovingAverageAgainst=%{y}<extra></extra>\",\"legendgroup\":\"Southampton\",\"marker\":{\"color\":\"#FF6692\",\"symbol\":\"circle\"},\"mode\":\"markers\",\"name\":\"Southampton\",\"orientation\":\"v\",\"showlegend\":true,\"x\":[1.0],\"xaxis\":\"x\",\"y\":[2.0],\"yaxis\":\"y\",\"type\":\"scatter\"},{\"hovertemplate\":\"Team=Wolves<br>MatchesPlayed=23<br>MovingAverageFor=%{x}<br>MovingAverageAgainst=%{y}<extra></extra>\",\"legendgroup\":\"Wolves\",\"marker\":{\"color\":\"#B6E880\",\"symbol\":\"circle\"},\"mode\":\"markers\",\"name\":\"Wolves\",\"orientation\":\"v\",\"showlegend\":true,\"x\":[1.4],\"xaxis\":\"x\",\"y\":[0.8],\"yaxis\":\"y\",\"type\":\"scatter\"},{\"hovertemplate\":\"Team=Arsenal<br>MatchesPlayed=23<br>MovingAverageFor=%{x}<br>MovingAverageAgainst=%{y}<extra></extra>\",\"legendgroup\":\"Arsenal\",\"marker\":{\"color\":\"#FF97FF\",\"symbol\":\"circle\"},\"mode\":\"markers\",\"name\":\"Arsenal\",\"orientation\":\"v\",\"showlegend\":true,\"x\":[1.2],\"xaxis\":\"x\",\"y\":[1.6],\"yaxis\":\"y\",\"type\":\"scatter\"},{\"hovertemplate\":\"Team=West Ham<br>MatchesPlayed=23<br>MovingAverageFor=%{x}<br>MovingAverageAgainst=%{y}<extra></extra>\",\"legendgroup\":\"West Ham\",\"marker\":{\"color\":\"#FECB52\",\"symbol\":\"circle\"},\"mode\":\"markers\",\"name\":\"West Ham\",\"orientation\":\"v\",\"showlegend\":true,\"x\":[1.8],\"xaxis\":\"x\",\"y\":[1.0],\"yaxis\":\"y\",\"type\":\"scatter\"}],\"name\":\"23\"},{\"data\":[{\"hovertemplate\":\"Team=Brentford<br>MatchesPlayed=24<br>MovingAverageFor=%{x}<br>MovingAverageAgainst=%{y}<extra></extra>\",\"legendgroup\":\"Brentford\",\"marker\":{\"color\":\"#636efa\",\"symbol\":\"circle\"},\"mode\":\"markers\",\"name\":\"Brentford\",\"orientation\":\"v\",\"showlegend\":true,\"x\":[1.2],\"xaxis\":\"x\",\"y\":[1.0],\"yaxis\":\"y\",\"type\":\"scatter\"},{\"hovertemplate\":\"Team=Man United<br>MatchesPlayed=24<br>MovingAverageFor=%{x}<br>MovingAverageAgainst=%{y}<extra></extra>\",\"legendgroup\":\"Man United\",\"marker\":{\"color\":\"#EF553B\",\"symbol\":\"circle\"},\"mode\":\"markers\",\"name\":\"Man United\",\"orientation\":\"v\",\"showlegend\":true,\"x\":[1.8],\"xaxis\":\"x\",\"y\":[1.2],\"yaxis\":\"y\",\"type\":\"scatter\"},{\"hovertemplate\":\"Team=Burnley<br>MatchesPlayed=24<br>MovingAverageFor=%{x}<br>MovingAverageAgainst=%{y}<extra></extra>\",\"legendgroup\":\"Burnley\",\"marker\":{\"color\":\"#00cc96\",\"symbol\":\"circle\"},\"mode\":\"markers\",\"name\":\"Burnley\",\"orientation\":\"v\",\"showlegend\":true,\"x\":[1.0],\"xaxis\":\"x\",\"y\":[2.2],\"yaxis\":\"y\",\"type\":\"scatter\"},{\"hovertemplate\":\"Team=Chelsea<br>MatchesPlayed=24<br>MovingAverageFor=%{x}<br>MovingAverageAgainst=%{y}<extra></extra>\",\"legendgroup\":\"Chelsea\",\"marker\":{\"color\":\"#ab63fa\",\"symbol\":\"circle\"},\"mode\":\"markers\",\"name\":\"Chelsea\",\"orientation\":\"v\",\"showlegend\":true,\"x\":[2.0],\"xaxis\":\"x\",\"y\":[0.2],\"yaxis\":\"y\",\"type\":\"scatter\"},{\"hovertemplate\":\"Team=Everton<br>MatchesPlayed=24<br>MovingAverageFor=%{x}<br>MovingAverageAgainst=%{y}<extra></extra>\",\"legendgroup\":\"Everton\",\"marker\":{\"color\":\"#FFA15A\",\"symbol\":\"circle\"},\"mode\":\"markers\",\"name\":\"Everton\",\"orientation\":\"v\",\"showlegend\":true,\"x\":[1.2],\"xaxis\":\"x\",\"y\":[1.6],\"yaxis\":\"y\",\"type\":\"scatter\"},{\"hovertemplate\":\"Team=Leicester<br>MatchesPlayed=24<br>MovingAverageFor=%{x}<br>MovingAverageAgainst=%{y}<extra></extra>\",\"legendgroup\":\"Leicester\",\"marker\":{\"color\":\"#19d3f3\",\"symbol\":\"circle\"},\"mode\":\"markers\",\"name\":\"Leicester\",\"orientation\":\"v\",\"showlegend\":true,\"x\":[1.6],\"xaxis\":\"x\",\"y\":[2.0],\"yaxis\":\"y\",\"type\":\"scatter\"},{\"hovertemplate\":\"Team=Watford<br>MatchesPlayed=24<br>MovingAverageFor=%{x}<br>MovingAverageAgainst=%{y}<extra></extra>\",\"legendgroup\":\"Watford\",\"marker\":{\"color\":\"#FF6692\",\"symbol\":\"circle\"},\"mode\":\"markers\",\"name\":\"Watford\",\"orientation\":\"v\",\"showlegend\":true,\"x\":[1.6],\"xaxis\":\"x\",\"y\":[1.4],\"yaxis\":\"y\",\"type\":\"scatter\"},{\"hovertemplate\":\"Team=Norwich<br>MatchesPlayed=24<br>MovingAverageFor=%{x}<br>MovingAverageAgainst=%{y}<extra></extra>\",\"legendgroup\":\"Norwich\",\"marker\":{\"color\":\"#B6E880\",\"symbol\":\"circle\"},\"mode\":\"markers\",\"name\":\"Norwich\",\"orientation\":\"v\",\"showlegend\":true,\"x\":[0.0],\"xaxis\":\"x\",\"y\":[3.0],\"yaxis\":\"y\",\"type\":\"scatter\"},{\"hovertemplate\":\"Team=Newcastle<br>MatchesPlayed=24<br>MovingAverageFor=%{x}<br>MovingAverageAgainst=%{y}<extra></extra>\",\"legendgroup\":\"Newcastle\",\"marker\":{\"color\":\"#FF97FF\",\"symbol\":\"circle\"},\"mode\":\"markers\",\"name\":\"Newcastle\",\"orientation\":\"v\",\"showlegend\":true,\"x\":[0.8],\"xaxis\":\"x\",\"y\":[2.0],\"yaxis\":\"y\",\"type\":\"scatter\"},{\"hovertemplate\":\"Team=Tottenham<br>MatchesPlayed=24<br>MovingAverageFor=%{x}<br>MovingAverageAgainst=%{y}<extra></extra>\",\"legendgroup\":\"Tottenham\",\"marker\":{\"color\":\"#FECB52\",\"symbol\":\"circle\"},\"mode\":\"markers\",\"name\":\"Tottenham\",\"orientation\":\"v\",\"showlegend\":true,\"x\":[1.0],\"xaxis\":\"x\",\"y\":[1.8],\"yaxis\":\"y\",\"type\":\"scatter\"},{\"hovertemplate\":\"Team=Liverpool<br>MatchesPlayed=24<br>MovingAverageFor=%{x}<br>MovingAverageAgainst=%{y}<extra></extra>\",\"legendgroup\":\"Liverpool\",\"marker\":{\"color\":\"#636efa\",\"symbol\":\"circle\"},\"mode\":\"markers\",\"name\":\"Liverpool\",\"orientation\":\"v\",\"showlegend\":true,\"x\":[3.8],\"xaxis\":\"x\",\"y\":[0.6],\"yaxis\":\"y\",\"type\":\"scatter\"},{\"hovertemplate\":\"Team=Aston Villa<br>MatchesPlayed=24<br>MovingAverageFor=%{x}<br>MovingAverageAgainst=%{y}<extra></extra>\",\"legendgroup\":\"Aston Villa\",\"marker\":{\"color\":\"#EF553B\",\"symbol\":\"circle\"},\"mode\":\"markers\",\"name\":\"Aston Villa\",\"orientation\":\"v\",\"showlegend\":true,\"x\":[1.0],\"xaxis\":\"x\",\"y\":[2.2],\"yaxis\":\"y\",\"type\":\"scatter\"},{\"hovertemplate\":\"Team=Crystal Palace<br>MatchesPlayed=24<br>MovingAverageFor=%{x}<br>MovingAverageAgainst=%{y}<extra></extra>\",\"legendgroup\":\"Crystal Palace\",\"marker\":{\"color\":\"#00cc96\",\"symbol\":\"circle\"},\"mode\":\"markers\",\"name\":\"Crystal Palace\",\"orientation\":\"v\",\"showlegend\":true,\"x\":[1.2],\"xaxis\":\"x\",\"y\":[2.0],\"yaxis\":\"y\",\"type\":\"scatter\"},{\"hovertemplate\":\"Team=Leeds<br>MatchesPlayed=24<br>MovingAverageFor=%{x}<br>MovingAverageAgainst=%{y}<extra></extra>\",\"legendgroup\":\"Leeds\",\"marker\":{\"color\":\"#ab63fa\",\"symbol\":\"circle\"},\"mode\":\"markers\",\"name\":\"Leeds\",\"orientation\":\"v\",\"showlegend\":true,\"x\":[1.0],\"xaxis\":\"x\",\"y\":[1.8],\"yaxis\":\"y\",\"type\":\"scatter\"},{\"hovertemplate\":\"Team=Man City<br>MatchesPlayed=24<br>MovingAverageFor=%{x}<br>MovingAverageAgainst=%{y}<extra></extra>\",\"legendgroup\":\"Man City\",\"marker\":{\"color\":\"#FFA15A\",\"symbol\":\"circle\"},\"mode\":\"markers\",\"name\":\"Man City\",\"orientation\":\"v\",\"showlegend\":true,\"x\":[1.6],\"xaxis\":\"x\",\"y\":[0.8],\"yaxis\":\"y\",\"type\":\"scatter\"},{\"hovertemplate\":\"Team=Brighton<br>MatchesPlayed=24<br>MovingAverageFor=%{x}<br>MovingAverageAgainst=%{y}<extra></extra>\",\"legendgroup\":\"Brighton\",\"marker\":{\"color\":\"#19d3f3\",\"symbol\":\"circle\"},\"mode\":\"markers\",\"name\":\"Brighton\",\"orientation\":\"v\",\"showlegend\":true,\"x\":[1.2],\"xaxis\":\"x\",\"y\":[0.8],\"yaxis\":\"y\",\"type\":\"scatter\"},{\"hovertemplate\":\"Team=Southampton<br>MatchesPlayed=24<br>MovingAverageFor=%{x}<br>MovingAverageAgainst=%{y}<extra></extra>\",\"legendgroup\":\"Southampton\",\"marker\":{\"color\":\"#FF6692\",\"symbol\":\"circle\"},\"mode\":\"markers\",\"name\":\"Southampton\",\"orientation\":\"v\",\"showlegend\":true,\"x\":[1.0],\"xaxis\":\"x\",\"y\":[1.6],\"yaxis\":\"y\",\"type\":\"scatter\"},{\"hovertemplate\":\"Team=Wolves<br>MatchesPlayed=24<br>MovingAverageFor=%{x}<br>MovingAverageAgainst=%{y}<extra></extra>\",\"legendgroup\":\"Wolves\",\"marker\":{\"color\":\"#B6E880\",\"symbol\":\"circle\"},\"mode\":\"markers\",\"name\":\"Wolves\",\"orientation\":\"v\",\"showlegend\":true,\"x\":[1.4],\"xaxis\":\"x\",\"y\":[0.8],\"yaxis\":\"y\",\"type\":\"scatter\"},{\"hovertemplate\":\"Team=Arsenal<br>MatchesPlayed=24<br>MovingAverageFor=%{x}<br>MovingAverageAgainst=%{y}<extra></extra>\",\"legendgroup\":\"Arsenal\",\"marker\":{\"color\":\"#FF97FF\",\"symbol\":\"circle\"},\"mode\":\"markers\",\"name\":\"Arsenal\",\"orientation\":\"v\",\"showlegend\":true,\"x\":[0.6],\"xaxis\":\"x\",\"y\":[1.4],\"yaxis\":\"y\",\"type\":\"scatter\"},{\"hovertemplate\":\"Team=West Ham<br>MatchesPlayed=24<br>MovingAverageFor=%{x}<br>MovingAverageAgainst=%{y}<extra></extra>\",\"legendgroup\":\"West Ham\",\"marker\":{\"color\":\"#FECB52\",\"symbol\":\"circle\"},\"mode\":\"markers\",\"name\":\"West Ham\",\"orientation\":\"v\",\"showlegend\":true,\"x\":[2.2],\"xaxis\":\"x\",\"y\":[0.8],\"yaxis\":\"y\",\"type\":\"scatter\"}],\"name\":\"24\"},{\"data\":[{\"hovertemplate\":\"Team=Brentford<br>MatchesPlayed=25<br>MovingAverageFor=%{x}<br>MovingAverageAgainst=%{y}<extra></extra>\",\"legendgroup\":\"Brentford\",\"marker\":{\"color\":\"#636efa\",\"symbol\":\"circle\"},\"mode\":\"markers\",\"name\":\"Brentford\",\"orientation\":\"v\",\"showlegend\":true,\"x\":[1.8],\"xaxis\":\"x\",\"y\":[1.6],\"yaxis\":\"y\",\"type\":\"scatter\"},{\"hovertemplate\":\"Team=Man United<br>MatchesPlayed=25<br>MovingAverageFor=%{x}<br>MovingAverageAgainst=%{y}<extra></extra>\",\"legendgroup\":\"Man United\",\"marker\":{\"color\":\"#EF553B\",\"symbol\":\"circle\"},\"mode\":\"markers\",\"name\":\"Man United\",\"orientation\":\"v\",\"showlegend\":true,\"x\":[1.8],\"xaxis\":\"x\",\"y\":[1.8],\"yaxis\":\"y\",\"type\":\"scatter\"},{\"hovertemplate\":\"Team=Burnley<br>MatchesPlayed=25<br>MovingAverageFor=%{x}<br>MovingAverageAgainst=%{y}<extra></extra>\",\"legendgroup\":\"Burnley\",\"marker\":{\"color\":\"#00cc96\",\"symbol\":\"circle\"},\"mode\":\"markers\",\"name\":\"Burnley\",\"orientation\":\"v\",\"showlegend\":true,\"x\":[1.2],\"xaxis\":\"x\",\"y\":[2.0],\"yaxis\":\"y\",\"type\":\"scatter\"},{\"hovertemplate\":\"Team=Chelsea<br>MatchesPlayed=25<br>MovingAverageFor=%{x}<br>MovingAverageAgainst=%{y}<extra></extra>\",\"legendgroup\":\"Chelsea\",\"marker\":{\"color\":\"#ab63fa\",\"symbol\":\"circle\"},\"mode\":\"markers\",\"name\":\"Chelsea\",\"orientation\":\"v\",\"showlegend\":true,\"x\":[2.2],\"xaxis\":\"x\",\"y\":[0.2],\"yaxis\":\"y\",\"type\":\"scatter\"},{\"hovertemplate\":\"Team=Everton<br>MatchesPlayed=25<br>MovingAverageFor=%{x}<br>MovingAverageAgainst=%{y}<extra></extra>\",\"legendgroup\":\"Everton\",\"marker\":{\"color\":\"#FFA15A\",\"symbol\":\"circle\"},\"mode\":\"markers\",\"name\":\"Everton\",\"orientation\":\"v\",\"showlegend\":true,\"x\":[0.8],\"xaxis\":\"x\",\"y\":[1.8],\"yaxis\":\"y\",\"type\":\"scatter\"},{\"hovertemplate\":\"Team=Leicester<br>MatchesPlayed=25<br>MovingAverageFor=%{x}<br>MovingAverageAgainst=%{y}<extra></extra>\",\"legendgroup\":\"Leicester\",\"marker\":{\"color\":\"#19d3f3\",\"symbol\":\"circle\"},\"mode\":\"markers\",\"name\":\"Leicester\",\"orientation\":\"v\",\"showlegend\":true,\"x\":[1.6],\"xaxis\":\"x\",\"y\":[1.4],\"yaxis\":\"y\",\"type\":\"scatter\"},{\"hovertemplate\":\"Team=Watford<br>MatchesPlayed=25<br>MovingAverageFor=%{x}<br>MovingAverageAgainst=%{y}<extra></extra>\",\"legendgroup\":\"Watford\",\"marker\":{\"color\":\"#FF6692\",\"symbol\":\"circle\"},\"mode\":\"markers\",\"name\":\"Watford\",\"orientation\":\"v\",\"showlegend\":true,\"x\":[1.6],\"xaxis\":\"x\",\"y\":[1.2],\"yaxis\":\"y\",\"type\":\"scatter\"},{\"hovertemplate\":\"Team=Norwich<br>MatchesPlayed=25<br>MovingAverageFor=%{x}<br>MovingAverageAgainst=%{y}<extra></extra>\",\"legendgroup\":\"Norwich\",\"marker\":{\"color\":\"#B6E880\",\"symbol\":\"circle\"},\"mode\":\"markers\",\"name\":\"Norwich\",\"orientation\":\"v\",\"showlegend\":true,\"x\":[0.4],\"xaxis\":\"x\",\"y\":[2.2],\"yaxis\":\"y\",\"type\":\"scatter\"},{\"hovertemplate\":\"Team=Newcastle<br>MatchesPlayed=25<br>MovingAverageFor=%{x}<br>MovingAverageAgainst=%{y}<extra></extra>\",\"legendgroup\":\"Newcastle\",\"marker\":{\"color\":\"#FF97FF\",\"symbol\":\"circle\"},\"mode\":\"markers\",\"name\":\"Newcastle\",\"orientation\":\"v\",\"showlegend\":true,\"x\":[1.0],\"xaxis\":\"x\",\"y\":[1.8],\"yaxis\":\"y\",\"type\":\"scatter\"},{\"hovertemplate\":\"Team=Tottenham<br>MatchesPlayed=25<br>MovingAverageFor=%{x}<br>MovingAverageAgainst=%{y}<extra></extra>\",\"legendgroup\":\"Tottenham\",\"marker\":{\"color\":\"#FECB52\",\"symbol\":\"circle\"},\"mode\":\"markers\",\"name\":\"Tottenham\",\"orientation\":\"v\",\"showlegend\":true,\"x\":[0.8],\"xaxis\":\"x\",\"y\":[1.8],\"yaxis\":\"y\",\"type\":\"scatter\"},{\"hovertemplate\":\"Team=Liverpool<br>MatchesPlayed=25<br>MovingAverageFor=%{x}<br>MovingAverageAgainst=%{y}<extra></extra>\",\"legendgroup\":\"Liverpool\",\"marker\":{\"color\":\"#636efa\",\"symbol\":\"circle\"},\"mode\":\"markers\",\"name\":\"Liverpool\",\"orientation\":\"v\",\"showlegend\":true,\"x\":[3.6],\"xaxis\":\"x\",\"y\":[1.2],\"yaxis\":\"y\",\"type\":\"scatter\"},{\"hovertemplate\":\"Team=Aston Villa<br>MatchesPlayed=25<br>MovingAverageFor=%{x}<br>MovingAverageAgainst=%{y}<extra></extra>\",\"legendgroup\":\"Aston Villa\",\"marker\":{\"color\":\"#EF553B\",\"symbol\":\"circle\"},\"mode\":\"markers\",\"name\":\"Aston Villa\",\"orientation\":\"v\",\"showlegend\":true,\"x\":[0.6],\"xaxis\":\"x\",\"y\":[1.8],\"yaxis\":\"y\",\"type\":\"scatter\"},{\"hovertemplate\":\"Team=Crystal Palace<br>MatchesPlayed=25<br>MovingAverageFor=%{x}<br>MovingAverageAgainst=%{y}<extra></extra>\",\"legendgroup\":\"Crystal Palace\",\"marker\":{\"color\":\"#00cc96\",\"symbol\":\"circle\"},\"mode\":\"markers\",\"name\":\"Crystal Palace\",\"orientation\":\"v\",\"showlegend\":true,\"x\":[1.8],\"xaxis\":\"x\",\"y\":[2.0],\"yaxis\":\"y\",\"type\":\"scatter\"},{\"hovertemplate\":\"Team=Leeds<br>MatchesPlayed=25<br>MovingAverageFor=%{x}<br>MovingAverageAgainst=%{y}<extra></extra>\",\"legendgroup\":\"Leeds\",\"marker\":{\"color\":\"#ab63fa\",\"symbol\":\"circle\"},\"mode\":\"markers\",\"name\":\"Leeds\",\"orientation\":\"v\",\"showlegend\":true,\"x\":[1.0],\"xaxis\":\"x\",\"y\":[1.2],\"yaxis\":\"y\",\"type\":\"scatter\"},{\"hovertemplate\":\"Team=Man City<br>MatchesPlayed=25<br>MovingAverageFor=%{x}<br>MovingAverageAgainst=%{y}<extra></extra>\",\"legendgroup\":\"Man City\",\"marker\":{\"color\":\"#FFA15A\",\"symbol\":\"circle\"},\"mode\":\"markers\",\"name\":\"Man City\",\"orientation\":\"v\",\"showlegend\":true,\"x\":[2.0],\"xaxis\":\"x\",\"y\":[0.6],\"yaxis\":\"y\",\"type\":\"scatter\"},{\"hovertemplate\":\"Team=Brighton<br>MatchesPlayed=25<br>MovingAverageFor=%{x}<br>MovingAverageAgainst=%{y}<extra></extra>\",\"legendgroup\":\"Brighton\",\"marker\":{\"color\":\"#19d3f3\",\"symbol\":\"circle\"},\"mode\":\"markers\",\"name\":\"Brighton\",\"orientation\":\"v\",\"showlegend\":true,\"x\":[0.8],\"xaxis\":\"x\",\"y\":[1.0],\"yaxis\":\"y\",\"type\":\"scatter\"},{\"hovertemplate\":\"Team=Southampton<br>MatchesPlayed=25<br>MovingAverageFor=%{x}<br>MovingAverageAgainst=%{y}<extra></extra>\",\"legendgroup\":\"Southampton\",\"marker\":{\"color\":\"#FF6692\",\"symbol\":\"circle\"},\"mode\":\"markers\",\"name\":\"Southampton\",\"orientation\":\"v\",\"showlegend\":true,\"x\":[1.0],\"xaxis\":\"x\",\"y\":[1.4],\"yaxis\":\"y\",\"type\":\"scatter\"},{\"hovertemplate\":\"Team=Wolves<br>MatchesPlayed=25<br>MovingAverageFor=%{x}<br>MovingAverageAgainst=%{y}<extra></extra>\",\"legendgroup\":\"Wolves\",\"marker\":{\"color\":\"#B6E880\",\"symbol\":\"circle\"},\"mode\":\"markers\",\"name\":\"Wolves\",\"orientation\":\"v\",\"showlegend\":true,\"x\":[1.4],\"xaxis\":\"x\",\"y\":[1.0],\"yaxis\":\"y\",\"type\":\"scatter\"},{\"hovertemplate\":\"Team=Arsenal<br>MatchesPlayed=25<br>MovingAverageFor=%{x}<br>MovingAverageAgainst=%{y}<extra></extra>\",\"legendgroup\":\"Arsenal\",\"marker\":{\"color\":\"#FF97FF\",\"symbol\":\"circle\"},\"mode\":\"markers\",\"name\":\"Arsenal\",\"orientation\":\"v\",\"showlegend\":true,\"x\":[0.6],\"xaxis\":\"x\",\"y\":[1.8],\"yaxis\":\"y\",\"type\":\"scatter\"},{\"hovertemplate\":\"Team=West Ham<br>MatchesPlayed=25<br>MovingAverageFor=%{x}<br>MovingAverageAgainst=%{y}<extra></extra>\",\"legendgroup\":\"West Ham\",\"marker\":{\"color\":\"#FECB52\",\"symbol\":\"circle\"},\"mode\":\"markers\",\"name\":\"West Ham\",\"orientation\":\"v\",\"showlegend\":true,\"x\":[1.4],\"xaxis\":\"x\",\"y\":[0.6],\"yaxis\":\"y\",\"type\":\"scatter\"}],\"name\":\"25\"},{\"data\":[{\"hovertemplate\":\"Team=Brentford<br>MatchesPlayed=26<br>MovingAverageFor=%{x}<br>MovingAverageAgainst=%{y}<extra></extra>\",\"legendgroup\":\"Brentford\",\"marker\":{\"color\":\"#636efa\",\"symbol\":\"circle\"},\"mode\":\"markers\",\"name\":\"Brentford\",\"orientation\":\"v\",\"showlegend\":true,\"x\":[1.6],\"xaxis\":\"x\",\"y\":[1.8],\"yaxis\":\"y\",\"type\":\"scatter\"},{\"hovertemplate\":\"Team=Man United<br>MatchesPlayed=26<br>MovingAverageFor=%{x}<br>MovingAverageAgainst=%{y}<extra></extra>\",\"legendgroup\":\"Man United\",\"marker\":{\"color\":\"#EF553B\",\"symbol\":\"circle\"},\"mode\":\"markers\",\"name\":\"Man United\",\"orientation\":\"v\",\"showlegend\":true,\"x\":[1.8],\"xaxis\":\"x\",\"y\":[2.0],\"yaxis\":\"y\",\"type\":\"scatter\"},{\"hovertemplate\":\"Team=Burnley<br>MatchesPlayed=26<br>MovingAverageFor=%{x}<br>MovingAverageAgainst=%{y}<extra></extra>\",\"legendgroup\":\"Burnley\",\"marker\":{\"color\":\"#00cc96\",\"symbol\":\"circle\"},\"mode\":\"markers\",\"name\":\"Burnley\",\"orientation\":\"v\",\"showlegend\":true,\"x\":[1.0],\"xaxis\":\"x\",\"y\":[1.4],\"yaxis\":\"y\",\"type\":\"scatter\"},{\"hovertemplate\":\"Team=Chelsea<br>MatchesPlayed=26<br>MovingAverageFor=%{x}<br>MovingAverageAgainst=%{y}<extra></extra>\",\"legendgroup\":\"Chelsea\",\"marker\":{\"color\":\"#ab63fa\",\"symbol\":\"circle\"},\"mode\":\"markers\",\"name\":\"Chelsea\",\"orientation\":\"v\",\"showlegend\":true,\"x\":[2.4],\"xaxis\":\"x\",\"y\":[0.2],\"yaxis\":\"y\",\"type\":\"scatter\"},{\"hovertemplate\":\"Team=Everton<br>MatchesPlayed=26<br>MovingAverageFor=%{x}<br>MovingAverageAgainst=%{y}<extra></extra>\",\"legendgroup\":\"Everton\",\"marker\":{\"color\":\"#FFA15A\",\"symbol\":\"circle\"},\"mode\":\"markers\",\"name\":\"Everton\",\"orientation\":\"v\",\"showlegend\":true,\"x\":[0.4],\"xaxis\":\"x\",\"y\":[2.0],\"yaxis\":\"y\",\"type\":\"scatter\"},{\"hovertemplate\":\"Team=Leicester<br>MatchesPlayed=26<br>MovingAverageFor=%{x}<br>MovingAverageAgainst=%{y}<extra></extra>\",\"legendgroup\":\"Leicester\",\"marker\":{\"color\":\"#19d3f3\",\"symbol\":\"circle\"},\"mode\":\"markers\",\"name\":\"Leicester\",\"orientation\":\"v\",\"showlegend\":true,\"x\":[1.6],\"xaxis\":\"x\",\"y\":[1.6],\"yaxis\":\"y\",\"type\":\"scatter\"},{\"hovertemplate\":\"Team=Watford<br>MatchesPlayed=26<br>MovingAverageFor=%{x}<br>MovingAverageAgainst=%{y}<extra></extra>\",\"legendgroup\":\"Watford\",\"marker\":{\"color\":\"#FF6692\",\"symbol\":\"circle\"},\"mode\":\"markers\",\"name\":\"Watford\",\"orientation\":\"v\",\"showlegend\":true,\"x\":[2.0],\"xaxis\":\"x\",\"y\":[1.8],\"yaxis\":\"y\",\"type\":\"scatter\"},{\"hovertemplate\":\"Team=Norwich<br>MatchesPlayed=26<br>MovingAverageFor=%{x}<br>MovingAverageAgainst=%{y}<extra></extra>\",\"legendgroup\":\"Norwich\",\"marker\":{\"color\":\"#B6E880\",\"symbol\":\"circle\"},\"mode\":\"markers\",\"name\":\"Norwich\",\"orientation\":\"v\",\"showlegend\":true,\"x\":[0.6],\"xaxis\":\"x\",\"y\":[2.2],\"yaxis\":\"y\",\"type\":\"scatter\"},{\"hovertemplate\":\"Team=Newcastle<br>MatchesPlayed=26<br>MovingAverageFor=%{x}<br>MovingAverageAgainst=%{y}<extra></extra>\",\"legendgroup\":\"Newcastle\",\"marker\":{\"color\":\"#FF97FF\",\"symbol\":\"circle\"},\"mode\":\"markers\",\"name\":\"Newcastle\",\"orientation\":\"v\",\"showlegend\":true,\"x\":[0.8],\"xaxis\":\"x\",\"y\":[1.4],\"yaxis\":\"y\",\"type\":\"scatter\"},{\"hovertemplate\":\"Team=Tottenham<br>MatchesPlayed=26<br>MovingAverageFor=%{x}<br>MovingAverageAgainst=%{y}<extra></extra>\",\"legendgroup\":\"Tottenham\",\"marker\":{\"color\":\"#FECB52\",\"symbol\":\"circle\"},\"mode\":\"markers\",\"name\":\"Tottenham\",\"orientation\":\"v\",\"showlegend\":true,\"x\":[1.0],\"xaxis\":\"x\",\"y\":[1.4],\"yaxis\":\"y\",\"type\":\"scatter\"},{\"hovertemplate\":\"Team=Liverpool<br>MatchesPlayed=26<br>MovingAverageFor=%{x}<br>MovingAverageAgainst=%{y}<extra></extra>\",\"legendgroup\":\"Liverpool\",\"marker\":{\"color\":\"#636efa\",\"symbol\":\"circle\"},\"mode\":\"markers\",\"name\":\"Liverpool\",\"orientation\":\"v\",\"showlegend\":true,\"x\":[3.8],\"xaxis\":\"x\",\"y\":[1.4],\"yaxis\":\"y\",\"type\":\"scatter\"},{\"hovertemplate\":\"Team=Aston Villa<br>MatchesPlayed=26<br>MovingAverageFor=%{x}<br>MovingAverageAgainst=%{y}<extra></extra>\",\"legendgroup\":\"Aston Villa\",\"marker\":{\"color\":\"#EF553B\",\"symbol\":\"circle\"},\"mode\":\"markers\",\"name\":\"Aston Villa\",\"orientation\":\"v\",\"showlegend\":true,\"x\":[1.0],\"xaxis\":\"x\",\"y\":[1.4],\"yaxis\":\"y\",\"type\":\"scatter\"},{\"hovertemplate\":\"Team=Crystal Palace<br>MatchesPlayed=26<br>MovingAverageFor=%{x}<br>MovingAverageAgainst=%{y}<extra></extra>\",\"legendgroup\":\"Crystal Palace\",\"marker\":{\"color\":\"#00cc96\",\"symbol\":\"circle\"},\"mode\":\"markers\",\"name\":\"Crystal Palace\",\"orientation\":\"v\",\"showlegend\":true,\"x\":[1.4],\"xaxis\":\"x\",\"y\":[1.8],\"yaxis\":\"y\",\"type\":\"scatter\"},{\"hovertemplate\":\"Team=Leeds<br>MatchesPlayed=26<br>MovingAverageFor=%{x}<br>MovingAverageAgainst=%{y}<extra></extra>\",\"legendgroup\":\"Leeds\",\"marker\":{\"color\":\"#ab63fa\",\"symbol\":\"circle\"},\"mode\":\"markers\",\"name\":\"Leeds\",\"orientation\":\"v\",\"showlegend\":true,\"x\":[0.8],\"xaxis\":\"x\",\"y\":[1.0],\"yaxis\":\"y\",\"type\":\"scatter\"},{\"hovertemplate\":\"Team=Man City<br>MatchesPlayed=26<br>MovingAverageFor=%{x}<br>MovingAverageAgainst=%{y}<extra></extra>\",\"legendgroup\":\"Man City\",\"marker\":{\"color\":\"#FFA15A\",\"symbol\":\"circle\"},\"mode\":\"markers\",\"name\":\"Man City\",\"orientation\":\"v\",\"showlegend\":true,\"x\":[2.2],\"xaxis\":\"x\",\"y\":[0.8],\"yaxis\":\"y\",\"type\":\"scatter\"},{\"hovertemplate\":\"Team=Brighton<br>MatchesPlayed=26<br>MovingAverageFor=%{x}<br>MovingAverageAgainst=%{y}<extra></extra>\",\"legendgroup\":\"Brighton\",\"marker\":{\"color\":\"#19d3f3\",\"symbol\":\"circle\"},\"mode\":\"markers\",\"name\":\"Brighton\",\"orientation\":\"v\",\"showlegend\":true,\"x\":[0.8],\"xaxis\":\"x\",\"y\":[1.2],\"yaxis\":\"y\",\"type\":\"scatter\"},{\"hovertemplate\":\"Team=Southampton<br>MatchesPlayed=26<br>MovingAverageFor=%{x}<br>MovingAverageAgainst=%{y}<extra></extra>\",\"legendgroup\":\"Southampton\",\"marker\":{\"color\":\"#FF6692\",\"symbol\":\"circle\"},\"mode\":\"markers\",\"name\":\"Southampton\",\"orientation\":\"v\",\"showlegend\":true,\"x\":[0.6],\"xaxis\":\"x\",\"y\":[1.8],\"yaxis\":\"y\",\"type\":\"scatter\"},{\"hovertemplate\":\"Team=Wolves<br>MatchesPlayed=26<br>MovingAverageFor=%{x}<br>MovingAverageAgainst=%{y}<extra></extra>\",\"legendgroup\":\"Wolves\",\"marker\":{\"color\":\"#B6E880\",\"symbol\":\"circle\"},\"mode\":\"markers\",\"name\":\"Wolves\",\"orientation\":\"v\",\"showlegend\":true,\"x\":[1.0],\"xaxis\":\"x\",\"y\":[1.0],\"yaxis\":\"y\",\"type\":\"scatter\"},{\"hovertemplate\":\"Team=Arsenal<br>MatchesPlayed=26<br>MovingAverageFor=%{x}<br>MovingAverageAgainst=%{y}<extra></extra>\",\"legendgroup\":\"Arsenal\",\"marker\":{\"color\":\"#FF97FF\",\"symbol\":\"circle\"},\"mode\":\"markers\",\"name\":\"Arsenal\",\"orientation\":\"v\",\"showlegend\":true,\"x\":[1.0],\"xaxis\":\"x\",\"y\":[1.4],\"yaxis\":\"y\",\"type\":\"scatter\"},{\"hovertemplate\":\"Team=West Ham<br>MatchesPlayed=26<br>MovingAverageFor=%{x}<br>MovingAverageAgainst=%{y}<extra></extra>\",\"legendgroup\":\"West Ham\",\"marker\":{\"color\":\"#FECB52\",\"symbol\":\"circle\"},\"mode\":\"markers\",\"name\":\"West Ham\",\"orientation\":\"v\",\"showlegend\":true,\"x\":[1.6],\"xaxis\":\"x\",\"y\":[1.0],\"yaxis\":\"y\",\"type\":\"scatter\"}],\"name\":\"26\"},{\"data\":[{\"hovertemplate\":\"Team=Brentford<br>MatchesPlayed=27<br>MovingAverageFor=%{x}<br>MovingAverageAgainst=%{y}<extra></extra>\",\"legendgroup\":\"Brentford\",\"marker\":{\"color\":\"#636efa\",\"symbol\":\"circle\"},\"mode\":\"markers\",\"name\":\"Brentford\",\"orientation\":\"v\",\"showlegend\":true,\"x\":[1.6],\"xaxis\":\"x\",\"y\":[2.2],\"yaxis\":\"y\",\"type\":\"scatter\"},{\"hovertemplate\":\"Team=Man United<br>MatchesPlayed=27<br>MovingAverageFor=%{x}<br>MovingAverageAgainst=%{y}<extra></extra>\",\"legendgroup\":\"Man United\",\"marker\":{\"color\":\"#EF553B\",\"symbol\":\"circle\"},\"mode\":\"markers\",\"name\":\"Man United\",\"orientation\":\"v\",\"showlegend\":true,\"x\":[1.6],\"xaxis\":\"x\",\"y\":[1.8],\"yaxis\":\"y\",\"type\":\"scatter\"},{\"hovertemplate\":\"Team=Burnley<br>MatchesPlayed=27<br>MovingAverageFor=%{x}<br>MovingAverageAgainst=%{y}<extra></extra>\",\"legendgroup\":\"Burnley\",\"marker\":{\"color\":\"#00cc96\",\"symbol\":\"circle\"},\"mode\":\"markers\",\"name\":\"Burnley\",\"orientation\":\"v\",\"showlegend\":true,\"x\":[0.6],\"xaxis\":\"x\",\"y\":[1.2],\"yaxis\":\"y\",\"type\":\"scatter\"},{\"hovertemplate\":\"Team=Chelsea<br>MatchesPlayed=27<br>MovingAverageFor=%{x}<br>MovingAverageAgainst=%{y}<extra></extra>\",\"legendgroup\":\"Chelsea\",\"marker\":{\"color\":\"#ab63fa\",\"symbol\":\"circle\"},\"mode\":\"markers\",\"name\":\"Chelsea\",\"orientation\":\"v\",\"showlegend\":true,\"x\":[2.2],\"xaxis\":\"x\",\"y\":[0.8],\"yaxis\":\"y\",\"type\":\"scatter\"},{\"hovertemplate\":\"Team=Everton<br>MatchesPlayed=27<br>MovingAverageFor=%{x}<br>MovingAverageAgainst=%{y}<extra></extra>\",\"legendgroup\":\"Everton\",\"marker\":{\"color\":\"#FFA15A\",\"symbol\":\"circle\"},\"mode\":\"markers\",\"name\":\"Everton\",\"orientation\":\"v\",\"showlegend\":true,\"x\":[0.6],\"xaxis\":\"x\",\"y\":[2.0],\"yaxis\":\"y\",\"type\":\"scatter\"},{\"hovertemplate\":\"Team=Leicester<br>MatchesPlayed=27<br>MovingAverageFor=%{x}<br>MovingAverageAgainst=%{y}<extra></extra>\",\"legendgroup\":\"Leicester\",\"marker\":{\"color\":\"#19d3f3\",\"symbol\":\"circle\"},\"mode\":\"markers\",\"name\":\"Leicester\",\"orientation\":\"v\",\"showlegend\":true,\"x\":[1.6],\"xaxis\":\"x\",\"y\":[1.6],\"yaxis\":\"y\",\"type\":\"scatter\"},{\"hovertemplate\":\"Team=Watford<br>MatchesPlayed=27<br>MovingAverageFor=%{x}<br>MovingAverageAgainst=%{y}<extra></extra>\",\"legendgroup\":\"Watford\",\"marker\":{\"color\":\"#FF6692\",\"symbol\":\"circle\"},\"mode\":\"markers\",\"name\":\"Watford\",\"orientation\":\"v\",\"showlegend\":true,\"x\":[1.6],\"xaxis\":\"x\",\"y\":[2.0],\"yaxis\":\"y\",\"type\":\"scatter\"},{\"hovertemplate\":\"Team=Norwich<br>MatchesPlayed=27<br>MovingAverageFor=%{x}<br>MovingAverageAgainst=%{y}<extra></extra>\",\"legendgroup\":\"Norwich\",\"marker\":{\"color\":\"#B6E880\",\"symbol\":\"circle\"},\"mode\":\"markers\",\"name\":\"Norwich\",\"orientation\":\"v\",\"showlegend\":true,\"x\":[0.6],\"xaxis\":\"x\",\"y\":[2.4],\"yaxis\":\"y\",\"type\":\"scatter\"},{\"hovertemplate\":\"Team=Newcastle<br>MatchesPlayed=27<br>MovingAverageFor=%{x}<br>MovingAverageAgainst=%{y}<extra></extra>\",\"legendgroup\":\"Newcastle\",\"marker\":{\"color\":\"#FF97FF\",\"symbol\":\"circle\"},\"mode\":\"markers\",\"name\":\"Newcastle\",\"orientation\":\"v\",\"showlegend\":true,\"x\":[0.6],\"xaxis\":\"x\",\"y\":[2.0],\"yaxis\":\"y\",\"type\":\"scatter\"},{\"hovertemplate\":\"Team=Tottenham<br>MatchesPlayed=27<br>MovingAverageFor=%{x}<br>MovingAverageAgainst=%{y}<extra></extra>\",\"legendgroup\":\"Tottenham\",\"marker\":{\"color\":\"#FECB52\",\"symbol\":\"circle\"},\"mode\":\"markers\",\"name\":\"Tottenham\",\"orientation\":\"v\",\"showlegend\":true,\"x\":[1.0],\"xaxis\":\"x\",\"y\":[0.8],\"yaxis\":\"y\",\"type\":\"scatter\"},{\"hovertemplate\":\"Team=Liverpool<br>MatchesPlayed=27<br>MovingAverageFor=%{x}<br>MovingAverageAgainst=%{y}<extra></extra>\",\"legendgroup\":\"Liverpool\",\"marker\":{\"color\":\"#636efa\",\"symbol\":\"circle\"},\"mode\":\"markers\",\"name\":\"Liverpool\",\"orientation\":\"v\",\"showlegend\":true,\"x\":[3.4],\"xaxis\":\"x\",\"y\":[0.8],\"yaxis\":\"y\",\"type\":\"scatter\"},{\"hovertemplate\":\"Team=Aston Villa<br>MatchesPlayed=27<br>MovingAverageFor=%{x}<br>MovingAverageAgainst=%{y}<extra></extra>\",\"legendgroup\":\"Aston Villa\",\"marker\":{\"color\":\"#EF553B\",\"symbol\":\"circle\"},\"mode\":\"markers\",\"name\":\"Aston Villa\",\"orientation\":\"v\",\"showlegend\":true,\"x\":[0.8],\"xaxis\":\"x\",\"y\":[1.6],\"yaxis\":\"y\",\"type\":\"scatter\"},{\"hovertemplate\":\"Team=Crystal Palace<br>MatchesPlayed=27<br>MovingAverageFor=%{x}<br>MovingAverageAgainst=%{y}<extra></extra>\",\"legendgroup\":\"Crystal Palace\",\"marker\":{\"color\":\"#00cc96\",\"symbol\":\"circle\"},\"mode\":\"markers\",\"name\":\"Crystal Palace\",\"orientation\":\"v\",\"showlegend\":true,\"x\":[1.4],\"xaxis\":\"x\",\"y\":[1.4],\"yaxis\":\"y\",\"type\":\"scatter\"},{\"hovertemplate\":\"Team=Leeds<br>MatchesPlayed=27<br>MovingAverageFor=%{x}<br>MovingAverageAgainst=%{y}<extra></extra>\",\"legendgroup\":\"Leeds\",\"marker\":{\"color\":\"#ab63fa\",\"symbol\":\"circle\"},\"mode\":\"markers\",\"name\":\"Leeds\",\"orientation\":\"v\",\"showlegend\":true,\"x\":[1.0],\"xaxis\":\"x\",\"y\":[1.4],\"yaxis\":\"y\",\"type\":\"scatter\"},{\"hovertemplate\":\"Team=Man City<br>MatchesPlayed=27<br>MovingAverageFor=%{x}<br>MovingAverageAgainst=%{y}<extra></extra>\",\"legendgroup\":\"Man City\",\"marker\":{\"color\":\"#FFA15A\",\"symbol\":\"circle\"},\"mode\":\"markers\",\"name\":\"Man City\",\"orientation\":\"v\",\"showlegend\":true,\"x\":[2.6],\"xaxis\":\"x\",\"y\":[1.0],\"yaxis\":\"y\",\"type\":\"scatter\"},{\"hovertemplate\":\"Team=Brighton<br>MatchesPlayed=27<br>MovingAverageFor=%{x}<br>MovingAverageAgainst=%{y}<extra></extra>\",\"legendgroup\":\"Brighton\",\"marker\":{\"color\":\"#19d3f3\",\"symbol\":\"circle\"},\"mode\":\"markers\",\"name\":\"Brighton\",\"orientation\":\"v\",\"showlegend\":true,\"x\":[0.8],\"xaxis\":\"x\",\"y\":[1.2],\"yaxis\":\"y\",\"type\":\"scatter\"},{\"hovertemplate\":\"Team=Southampton<br>MatchesPlayed=27<br>MovingAverageFor=%{x}<br>MovingAverageAgainst=%{y}<extra></extra>\",\"legendgroup\":\"Southampton\",\"marker\":{\"color\":\"#FF6692\",\"symbol\":\"circle\"},\"mode\":\"markers\",\"name\":\"Southampton\",\"orientation\":\"v\",\"showlegend\":true,\"x\":[0.6],\"xaxis\":\"x\",\"y\":[2.4],\"yaxis\":\"y\",\"type\":\"scatter\"},{\"hovertemplate\":\"Team=Wolves<br>MatchesPlayed=27<br>MovingAverageFor=%{x}<br>MovingAverageAgainst=%{y}<extra></extra>\",\"legendgroup\":\"Wolves\",\"marker\":{\"color\":\"#B6E880\",\"symbol\":\"circle\"},\"mode\":\"markers\",\"name\":\"Wolves\",\"orientation\":\"v\",\"showlegend\":true,\"x\":[0.8],\"xaxis\":\"x\",\"y\":[1.2],\"yaxis\":\"y\",\"type\":\"scatter\"},{\"hovertemplate\":\"Team=Arsenal<br>MatchesPlayed=27<br>MovingAverageFor=%{x}<br>MovingAverageAgainst=%{y}<extra></extra>\",\"legendgroup\":\"Arsenal\",\"marker\":{\"color\":\"#FF97FF\",\"symbol\":\"circle\"},\"mode\":\"markers\",\"name\":\"Arsenal\",\"orientation\":\"v\",\"showlegend\":true,\"x\":[1.0],\"xaxis\":\"x\",\"y\":[1.8],\"yaxis\":\"y\",\"type\":\"scatter\"},{\"hovertemplate\":\"Team=West Ham<br>MatchesPlayed=27<br>MovingAverageFor=%{x}<br>MovingAverageAgainst=%{y}<extra></extra>\",\"legendgroup\":\"West Ham\",\"marker\":{\"color\":\"#FECB52\",\"symbol\":\"circle\"},\"mode\":\"markers\",\"name\":\"West Ham\",\"orientation\":\"v\",\"showlegend\":true,\"x\":[1.2],\"xaxis\":\"x\",\"y\":[0.8],\"yaxis\":\"y\",\"type\":\"scatter\"}],\"name\":\"27\"},{\"data\":[{\"hovertemplate\":\"Team=Brentford<br>MatchesPlayed=28<br>MovingAverageFor=%{x}<br>MovingAverageAgainst=%{y}<extra></extra>\",\"legendgroup\":\"Brentford\",\"marker\":{\"color\":\"#636efa\",\"symbol\":\"circle\"},\"mode\":\"markers\",\"name\":\"Brentford\",\"orientation\":\"v\",\"showlegend\":true,\"x\":[1.2],\"xaxis\":\"x\",\"y\":[2.4],\"yaxis\":\"y\",\"type\":\"scatter\"},{\"hovertemplate\":\"Team=Man United<br>MatchesPlayed=28<br>MovingAverageFor=%{x}<br>MovingAverageAgainst=%{y}<extra></extra>\",\"legendgroup\":\"Man United\",\"marker\":{\"color\":\"#EF553B\",\"symbol\":\"circle\"},\"mode\":\"markers\",\"name\":\"Man United\",\"orientation\":\"v\",\"showlegend\":true,\"x\":[1.4],\"xaxis\":\"x\",\"y\":[1.2],\"yaxis\":\"y\",\"type\":\"scatter\"},{\"hovertemplate\":\"Team=Burnley<br>MatchesPlayed=28<br>MovingAverageFor=%{x}<br>MovingAverageAgainst=%{y}<extra></extra>\",\"legendgroup\":\"Burnley\",\"marker\":{\"color\":\"#00cc96\",\"symbol\":\"circle\"},\"mode\":\"markers\",\"name\":\"Burnley\",\"orientation\":\"v\",\"showlegend\":true,\"x\":[0.8],\"xaxis\":\"x\",\"y\":[1.4],\"yaxis\":\"y\",\"type\":\"scatter\"},{\"hovertemplate\":\"Team=Chelsea<br>MatchesPlayed=28<br>MovingAverageFor=%{x}<br>MovingAverageAgainst=%{y}<extra></extra>\",\"legendgroup\":\"Chelsea\",\"marker\":{\"color\":\"#ab63fa\",\"symbol\":\"circle\"},\"mode\":\"markers\",\"name\":\"Chelsea\",\"orientation\":\"v\",\"showlegend\":true,\"x\":[2.0],\"xaxis\":\"x\",\"y\":[0.8],\"yaxis\":\"y\",\"type\":\"scatter\"},{\"hovertemplate\":\"Team=Everton<br>MatchesPlayed=28<br>MovingAverageFor=%{x}<br>MovingAverageAgainst=%{y}<extra></extra>\",\"legendgroup\":\"Everton\",\"marker\":{\"color\":\"#FFA15A\",\"symbol\":\"circle\"},\"mode\":\"markers\",\"name\":\"Everton\",\"orientation\":\"v\",\"showlegend\":true,\"x\":[0.6],\"xaxis\":\"x\",\"y\":[2.0],\"yaxis\":\"y\",\"type\":\"scatter\"},{\"hovertemplate\":\"Team=Leicester<br>MatchesPlayed=28<br>MovingAverageFor=%{x}<br>MovingAverageAgainst=%{y}<extra></extra>\",\"legendgroup\":\"Leicester\",\"marker\":{\"color\":\"#19d3f3\",\"symbol\":\"circle\"},\"mode\":\"markers\",\"name\":\"Leicester\",\"orientation\":\"v\",\"showlegend\":true,\"x\":[1.8],\"xaxis\":\"x\",\"y\":[2.4],\"yaxis\":\"y\",\"type\":\"scatter\"},{\"hovertemplate\":\"Team=Watford<br>MatchesPlayed=28<br>MovingAverageFor=%{x}<br>MovingAverageAgainst=%{y}<extra></extra>\",\"legendgroup\":\"Watford\",\"marker\":{\"color\":\"#FF6692\",\"symbol\":\"circle\"},\"mode\":\"markers\",\"name\":\"Watford\",\"orientation\":\"v\",\"showlegend\":true,\"x\":[1.8],\"xaxis\":\"x\",\"y\":[2.0],\"yaxis\":\"y\",\"type\":\"scatter\"},{\"hovertemplate\":\"Team=Norwich<br>MatchesPlayed=28<br>MovingAverageFor=%{x}<br>MovingAverageAgainst=%{y}<extra></extra>\",\"legendgroup\":\"Norwich\",\"marker\":{\"color\":\"#B6E880\",\"symbol\":\"circle\"},\"mode\":\"markers\",\"name\":\"Norwich\",\"orientation\":\"v\",\"showlegend\":true,\"x\":[0.6],\"xaxis\":\"x\",\"y\":[3.0],\"yaxis\":\"y\",\"type\":\"scatter\"},{\"hovertemplate\":\"Team=Newcastle<br>MatchesPlayed=28<br>MovingAverageFor=%{x}<br>MovingAverageAgainst=%{y}<extra></extra>\",\"legendgroup\":\"Newcastle\",\"marker\":{\"color\":\"#FF97FF\",\"symbol\":\"circle\"},\"mode\":\"markers\",\"name\":\"Newcastle\",\"orientation\":\"v\",\"showlegend\":true,\"x\":[0.6],\"xaxis\":\"x\",\"y\":[2.2],\"yaxis\":\"y\",\"type\":\"scatter\"},{\"hovertemplate\":\"Team=Tottenham<br>MatchesPlayed=28<br>MovingAverageFor=%{x}<br>MovingAverageAgainst=%{y}<extra></extra>\",\"legendgroup\":\"Tottenham\",\"marker\":{\"color\":\"#FECB52\",\"symbol\":\"circle\"},\"mode\":\"markers\",\"name\":\"Tottenham\",\"orientation\":\"v\",\"showlegend\":true,\"x\":[1.0],\"xaxis\":\"x\",\"y\":[0.8],\"yaxis\":\"y\",\"type\":\"scatter\"},{\"hovertemplate\":\"Team=Liverpool<br>MatchesPlayed=28<br>MovingAverageFor=%{x}<br>MovingAverageAgainst=%{y}<extra></extra>\",\"legendgroup\":\"Liverpool\",\"marker\":{\"color\":\"#636efa\",\"symbol\":\"circle\"},\"mode\":\"markers\",\"name\":\"Liverpool\",\"orientation\":\"v\",\"showlegend\":true,\"x\":[2.8],\"xaxis\":\"x\",\"y\":[1.2],\"yaxis\":\"y\",\"type\":\"scatter\"},{\"hovertemplate\":\"Team=Aston Villa<br>MatchesPlayed=28<br>MovingAverageFor=%{x}<br>MovingAverageAgainst=%{y}<extra></extra>\",\"legendgroup\":\"Aston Villa\",\"marker\":{\"color\":\"#EF553B\",\"symbol\":\"circle\"},\"mode\":\"markers\",\"name\":\"Aston Villa\",\"orientation\":\"v\",\"showlegend\":true,\"x\":[1.0],\"xaxis\":\"x\",\"y\":[1.2],\"yaxis\":\"y\",\"type\":\"scatter\"},{\"hovertemplate\":\"Team=Crystal Palace<br>MatchesPlayed=28<br>MovingAverageFor=%{x}<br>MovingAverageAgainst=%{y}<extra></extra>\",\"legendgroup\":\"Crystal Palace\",\"marker\":{\"color\":\"#00cc96\",\"symbol\":\"circle\"},\"mode\":\"markers\",\"name\":\"Crystal Palace\",\"orientation\":\"v\",\"showlegend\":true,\"x\":[1.0],\"xaxis\":\"x\",\"y\":[1.6],\"yaxis\":\"y\",\"type\":\"scatter\"},{\"hovertemplate\":\"Team=Leeds<br>MatchesPlayed=28<br>MovingAverageFor=%{x}<br>MovingAverageAgainst=%{y}<extra></extra>\",\"legendgroup\":\"Leeds\",\"marker\":{\"color\":\"#ab63fa\",\"symbol\":\"circle\"},\"mode\":\"markers\",\"name\":\"Leeds\",\"orientation\":\"v\",\"showlegend\":true,\"x\":[1.0],\"xaxis\":\"x\",\"y\":[2.6],\"yaxis\":\"y\",\"type\":\"scatter\"},{\"hovertemplate\":\"Team=Man City<br>MatchesPlayed=28<br>MovingAverageFor=%{x}<br>MovingAverageAgainst=%{y}<extra></extra>\",\"legendgroup\":\"Man City\",\"marker\":{\"color\":\"#FFA15A\",\"symbol\":\"circle\"},\"mode\":\"markers\",\"name\":\"Man City\",\"orientation\":\"v\",\"showlegend\":true,\"x\":[3.0],\"xaxis\":\"x\",\"y\":[0.6],\"yaxis\":\"y\",\"type\":\"scatter\"},{\"hovertemplate\":\"Team=Brighton<br>MatchesPlayed=28<br>MovingAverageFor=%{x}<br>MovingAverageAgainst=%{y}<extra></extra>\",\"legendgroup\":\"Brighton\",\"marker\":{\"color\":\"#19d3f3\",\"symbol\":\"circle\"},\"mode\":\"markers\",\"name\":\"Brighton\",\"orientation\":\"v\",\"showlegend\":true,\"x\":[1.0],\"xaxis\":\"x\",\"y\":[1.4],\"yaxis\":\"y\",\"type\":\"scatter\"},{\"hovertemplate\":\"Team=Southampton<br>MatchesPlayed=28<br>MovingAverageFor=%{x}<br>MovingAverageAgainst=%{y}<extra></extra>\",\"legendgroup\":\"Southampton\",\"marker\":{\"color\":\"#FF6692\",\"symbol\":\"circle\"},\"mode\":\"markers\",\"name\":\"Southampton\",\"orientation\":\"v\",\"showlegend\":true,\"x\":[0.8],\"xaxis\":\"x\",\"y\":[2.2],\"yaxis\":\"y\",\"type\":\"scatter\"},{\"hovertemplate\":\"Team=Wolves<br>MatchesPlayed=28<br>MovingAverageFor=%{x}<br>MovingAverageAgainst=%{y}<extra></extra>\",\"legendgroup\":\"Wolves\",\"marker\":{\"color\":\"#B6E880\",\"symbol\":\"circle\"},\"mode\":\"markers\",\"name\":\"Wolves\",\"orientation\":\"v\",\"showlegend\":true,\"x\":[0.4],\"xaxis\":\"x\",\"y\":[0.8],\"yaxis\":\"y\",\"type\":\"scatter\"},{\"hovertemplate\":\"Team=Arsenal<br>MatchesPlayed=28<br>MovingAverageFor=%{x}<br>MovingAverageAgainst=%{y}<extra></extra>\",\"legendgroup\":\"Arsenal\",\"marker\":{\"color\":\"#FF97FF\",\"symbol\":\"circle\"},\"mode\":\"markers\",\"name\":\"Arsenal\",\"orientation\":\"v\",\"showlegend\":true,\"x\":[1.8],\"xaxis\":\"x\",\"y\":[2.0],\"yaxis\":\"y\",\"type\":\"scatter\"},{\"hovertemplate\":\"Team=West Ham<br>MatchesPlayed=28<br>MovingAverageFor=%{x}<br>MovingAverageAgainst=%{y}<extra></extra>\",\"legendgroup\":\"West Ham\",\"marker\":{\"color\":\"#FECB52\",\"symbol\":\"circle\"},\"mode\":\"markers\",\"name\":\"West Ham\",\"orientation\":\"v\",\"showlegend\":true,\"x\":[1.0],\"xaxis\":\"x\",\"y\":[1.2],\"yaxis\":\"y\",\"type\":\"scatter\"}],\"name\":\"28\"},{\"data\":[{\"hovertemplate\":\"Team=Brentford<br>MatchesPlayed=29<br>MovingAverageFor=%{x}<br>MovingAverageAgainst=%{y}<extra></extra>\",\"legendgroup\":\"Brentford\",\"marker\":{\"color\":\"#636efa\",\"symbol\":\"circle\"},\"mode\":\"markers\",\"name\":\"Brentford\",\"orientation\":\"v\",\"showlegend\":true,\"x\":[1.2],\"xaxis\":\"x\",\"y\":[2.6],\"yaxis\":\"y\",\"type\":\"scatter\"},{\"hovertemplate\":\"Team=Man United<br>MatchesPlayed=29<br>MovingAverageFor=%{x}<br>MovingAverageAgainst=%{y}<extra></extra>\",\"legendgroup\":\"Man United\",\"marker\":{\"color\":\"#EF553B\",\"symbol\":\"circle\"},\"mode\":\"markers\",\"name\":\"Man United\",\"orientation\":\"v\",\"showlegend\":true,\"x\":[1.2],\"xaxis\":\"x\",\"y\":[1.6],\"yaxis\":\"y\",\"type\":\"scatter\"},{\"hovertemplate\":\"Team=Burnley<br>MatchesPlayed=29<br>MovingAverageFor=%{x}<br>MovingAverageAgainst=%{y}<extra></extra>\",\"legendgroup\":\"Burnley\",\"marker\":{\"color\":\"#00cc96\",\"symbol\":\"circle\"},\"mode\":\"markers\",\"name\":\"Burnley\",\"orientation\":\"v\",\"showlegend\":true,\"x\":[0.6],\"xaxis\":\"x\",\"y\":[1.6],\"yaxis\":\"y\",\"type\":\"scatter\"},{\"hovertemplate\":\"Team=Chelsea<br>MatchesPlayed=29<br>MovingAverageFor=%{x}<br>MovingAverageAgainst=%{y}<extra></extra>\",\"legendgroup\":\"Chelsea\",\"marker\":{\"color\":\"#ab63fa\",\"symbol\":\"circle\"},\"mode\":\"markers\",\"name\":\"Chelsea\",\"orientation\":\"v\",\"showlegend\":true,\"x\":[2.0],\"xaxis\":\"x\",\"y\":[1.0],\"yaxis\":\"y\",\"type\":\"scatter\"},{\"hovertemplate\":\"Team=Everton<br>MatchesPlayed=29<br>MovingAverageFor=%{x}<br>MovingAverageAgainst=%{y}<extra></extra>\",\"legendgroup\":\"Everton\",\"marker\":{\"color\":\"#FFA15A\",\"symbol\":\"circle\"},\"mode\":\"markers\",\"name\":\"Everton\",\"orientation\":\"v\",\"showlegend\":true,\"x\":[0.6],\"xaxis\":\"x\",\"y\":[2.0],\"yaxis\":\"y\",\"type\":\"scatter\"},{\"hovertemplate\":\"Team=Leicester<br>MatchesPlayed=29<br>MovingAverageFor=%{x}<br>MovingAverageAgainst=%{y}<extra></extra>\",\"legendgroup\":\"Leicester\",\"marker\":{\"color\":\"#19d3f3\",\"symbol\":\"circle\"},\"mode\":\"markers\",\"name\":\"Leicester\",\"orientation\":\"v\",\"showlegend\":true,\"x\":[1.4],\"xaxis\":\"x\",\"y\":[2.6],\"yaxis\":\"y\",\"type\":\"scatter\"},{\"hovertemplate\":\"Team=Watford<br>MatchesPlayed=29<br>MovingAverageFor=%{x}<br>MovingAverageAgainst=%{y}<extra></extra>\",\"legendgroup\":\"Watford\",\"marker\":{\"color\":\"#FF6692\",\"symbol\":\"circle\"},\"mode\":\"markers\",\"name\":\"Watford\",\"orientation\":\"v\",\"showlegend\":true,\"x\":[0.8],\"xaxis\":\"x\",\"y\":[1.6],\"yaxis\":\"y\",\"type\":\"scatter\"},{\"hovertemplate\":\"Team=Norwich<br>MatchesPlayed=29<br>MovingAverageFor=%{x}<br>MovingAverageAgainst=%{y}<extra></extra>\",\"legendgroup\":\"Norwich\",\"marker\":{\"color\":\"#B6E880\",\"symbol\":\"circle\"},\"mode\":\"markers\",\"name\":\"Norwich\",\"orientation\":\"v\",\"showlegend\":true,\"x\":[0.6],\"xaxis\":\"x\",\"y\":[2.0],\"yaxis\":\"y\",\"type\":\"scatter\"},{\"hovertemplate\":\"Team=Newcastle<br>MatchesPlayed=29<br>MovingAverageFor=%{x}<br>MovingAverageAgainst=%{y}<extra></extra>\",\"legendgroup\":\"Newcastle\",\"marker\":{\"color\":\"#FF97FF\",\"symbol\":\"circle\"},\"mode\":\"markers\",\"name\":\"Newcastle\",\"orientation\":\"v\",\"showlegend\":true,\"x\":[0.6],\"xaxis\":\"x\",\"y\":[2.0],\"yaxis\":\"y\",\"type\":\"scatter\"},{\"hovertemplate\":\"Team=Tottenham<br>MatchesPlayed=29<br>MovingAverageFor=%{x}<br>MovingAverageAgainst=%{y}<extra></extra>\",\"legendgroup\":\"Tottenham\",\"marker\":{\"color\":\"#FECB52\",\"symbol\":\"circle\"},\"mode\":\"markers\",\"name\":\"Tottenham\",\"orientation\":\"v\",\"showlegend\":true,\"x\":[1.0],\"xaxis\":\"x\",\"y\":[1.0],\"yaxis\":\"y\",\"type\":\"scatter\"},{\"hovertemplate\":\"Team=Liverpool<br>MatchesPlayed=29<br>MovingAverageFor=%{x}<br>MovingAverageAgainst=%{y}<extra></extra>\",\"legendgroup\":\"Liverpool\",\"marker\":{\"color\":\"#636efa\",\"symbol\":\"circle\"},\"mode\":\"markers\",\"name\":\"Liverpool\",\"orientation\":\"v\",\"showlegend\":true,\"x\":[1.8],\"xaxis\":\"x\",\"y\":[1.4],\"yaxis\":\"y\",\"type\":\"scatter\"},{\"hovertemplate\":\"Team=Aston Villa<br>MatchesPlayed=29<br>MovingAverageFor=%{x}<br>MovingAverageAgainst=%{y}<extra></extra>\",\"legendgroup\":\"Aston Villa\",\"marker\":{\"color\":\"#EF553B\",\"symbol\":\"circle\"},\"mode\":\"markers\",\"name\":\"Aston Villa\",\"orientation\":\"v\",\"showlegend\":true,\"x\":[1.0],\"xaxis\":\"x\",\"y\":[1.0],\"yaxis\":\"y\",\"type\":\"scatter\"},{\"hovertemplate\":\"Team=Crystal Palace<br>MatchesPlayed=29<br>MovingAverageFor=%{x}<br>MovingAverageAgainst=%{y}<extra></extra>\",\"legendgroup\":\"Crystal Palace\",\"marker\":{\"color\":\"#00cc96\",\"symbol\":\"circle\"},\"mode\":\"markers\",\"name\":\"Crystal Palace\",\"orientation\":\"v\",\"showlegend\":true,\"x\":[0.8],\"xaxis\":\"x\",\"y\":[1.8],\"yaxis\":\"y\",\"type\":\"scatter\"},{\"hovertemplate\":\"Team=Leeds<br>MatchesPlayed=29<br>MovingAverageFor=%{x}<br>MovingAverageAgainst=%{y}<extra></extra>\",\"legendgroup\":\"Leeds\",\"marker\":{\"color\":\"#ab63fa\",\"symbol\":\"circle\"},\"mode\":\"markers\",\"name\":\"Leeds\",\"orientation\":\"v\",\"showlegend\":true,\"x\":[1.2],\"xaxis\":\"x\",\"y\":[2.8],\"yaxis\":\"y\",\"type\":\"scatter\"},{\"hovertemplate\":\"Team=Man City<br>MatchesPlayed=29<br>MovingAverageFor=%{x}<br>MovingAverageAgainst=%{y}<extra></extra>\",\"legendgroup\":\"Man City\",\"marker\":{\"color\":\"#FFA15A\",\"symbol\":\"circle\"},\"mode\":\"markers\",\"name\":\"Man City\",\"orientation\":\"v\",\"showlegend\":true,\"x\":[2.4],\"xaxis\":\"x\",\"y\":[0.4],\"yaxis\":\"y\",\"type\":\"scatter\"},{\"hovertemplate\":\"Team=Brighton<br>MatchesPlayed=29<br>MovingAverageFor=%{x}<br>MovingAverageAgainst=%{y}<extra></extra>\",\"legendgroup\":\"Brighton\",\"marker\":{\"color\":\"#19d3f3\",\"symbol\":\"circle\"},\"mode\":\"markers\",\"name\":\"Brighton\",\"orientation\":\"v\",\"showlegend\":true,\"x\":[1.2],\"xaxis\":\"x\",\"y\":[1.4],\"yaxis\":\"y\",\"type\":\"scatter\"},{\"hovertemplate\":\"Team=Southampton<br>MatchesPlayed=29<br>MovingAverageFor=%{x}<br>MovingAverageAgainst=%{y}<extra></extra>\",\"legendgroup\":\"Southampton\",\"marker\":{\"color\":\"#FF6692\",\"symbol\":\"circle\"},\"mode\":\"markers\",\"name\":\"Southampton\",\"orientation\":\"v\",\"showlegend\":true,\"x\":[1.2],\"xaxis\":\"x\",\"y\":[2.6],\"yaxis\":\"y\",\"type\":\"scatter\"},{\"hovertemplate\":\"Team=Wolves<br>MatchesPlayed=29<br>MovingAverageFor=%{x}<br>MovingAverageAgainst=%{y}<extra></extra>\",\"legendgroup\":\"Wolves\",\"marker\":{\"color\":\"#B6E880\",\"symbol\":\"circle\"},\"mode\":\"markers\",\"name\":\"Wolves\",\"orientation\":\"v\",\"showlegend\":true,\"x\":[0.4],\"xaxis\":\"x\",\"y\":[0.6],\"yaxis\":\"y\",\"type\":\"scatter\"},{\"hovertemplate\":\"Team=Arsenal<br>MatchesPlayed=29<br>MovingAverageFor=%{x}<br>MovingAverageAgainst=%{y}<extra></extra>\",\"legendgroup\":\"Arsenal\",\"marker\":{\"color\":\"#FF97FF\",\"symbol\":\"circle\"},\"mode\":\"markers\",\"name\":\"Arsenal\",\"orientation\":\"v\",\"showlegend\":true,\"x\":[2.4],\"xaxis\":\"x\",\"y\":[2.0],\"yaxis\":\"y\",\"type\":\"scatter\"},{\"hovertemplate\":\"Team=West Ham<br>MatchesPlayed=29<br>MovingAverageFor=%{x}<br>MovingAverageAgainst=%{y}<extra></extra>\",\"legendgroup\":\"West Ham\",\"marker\":{\"color\":\"#FECB52\",\"symbol\":\"circle\"},\"mode\":\"markers\",\"name\":\"West Ham\",\"orientation\":\"v\",\"showlegend\":true,\"x\":[1.0],\"xaxis\":\"x\",\"y\":[1.2],\"yaxis\":\"y\",\"type\":\"scatter\"}],\"name\":\"29\"},{\"data\":[{\"hovertemplate\":\"Team=Brentford<br>MatchesPlayed=30<br>MovingAverageFor=%{x}<br>MovingAverageAgainst=%{y}<extra></extra>\",\"legendgroup\":\"Brentford\",\"marker\":{\"color\":\"#636efa\",\"symbol\":\"circle\"},\"mode\":\"markers\",\"name\":\"Brentford\",\"orientation\":\"v\",\"showlegend\":true,\"x\":[0.6],\"xaxis\":\"x\",\"y\":[2.6],\"yaxis\":\"y\",\"type\":\"scatter\"},{\"hovertemplate\":\"Team=Man United<br>MatchesPlayed=30<br>MovingAverageFor=%{x}<br>MovingAverageAgainst=%{y}<extra></extra>\",\"legendgroup\":\"Man United\",\"marker\":{\"color\":\"#EF553B\",\"symbol\":\"circle\"},\"mode\":\"markers\",\"name\":\"Man United\",\"orientation\":\"v\",\"showlegend\":true,\"x\":[1.6],\"xaxis\":\"x\",\"y\":[1.0],\"yaxis\":\"y\",\"type\":\"scatter\"},{\"hovertemplate\":\"Team=Burnley<br>MatchesPlayed=30<br>MovingAverageFor=%{x}<br>MovingAverageAgainst=%{y}<extra></extra>\",\"legendgroup\":\"Burnley\",\"marker\":{\"color\":\"#00cc96\",\"symbol\":\"circle\"},\"mode\":\"markers\",\"name\":\"Burnley\",\"orientation\":\"v\",\"showlegend\":true,\"x\":[0.4],\"xaxis\":\"x\",\"y\":[1.4],\"yaxis\":\"y\",\"type\":\"scatter\"},{\"hovertemplate\":\"Team=Chelsea<br>MatchesPlayed=30<br>MovingAverageFor=%{x}<br>MovingAverageAgainst=%{y}<extra></extra>\",\"legendgroup\":\"Chelsea\",\"marker\":{\"color\":\"#ab63fa\",\"symbol\":\"circle\"},\"mode\":\"markers\",\"name\":\"Chelsea\",\"orientation\":\"v\",\"showlegend\":true,\"x\":[1.4],\"xaxis\":\"x\",\"y\":[1.2],\"yaxis\":\"y\",\"type\":\"scatter\"},{\"hovertemplate\":\"Team=Everton<br>MatchesPlayed=30<br>MovingAverageFor=%{x}<br>MovingAverageAgainst=%{y}<extra></extra>\",\"legendgroup\":\"Everton\",\"marker\":{\"color\":\"#FFA15A\",\"symbol\":\"circle\"},\"mode\":\"markers\",\"name\":\"Everton\",\"orientation\":\"v\",\"showlegend\":true,\"x\":[0.8],\"xaxis\":\"x\",\"y\":[2.0],\"yaxis\":\"y\",\"type\":\"scatter\"},{\"hovertemplate\":\"Team=Leicester<br>MatchesPlayed=30<br>MovingAverageFor=%{x}<br>MovingAverageAgainst=%{y}<extra></extra>\",\"legendgroup\":\"Leicester\",\"marker\":{\"color\":\"#19d3f3\",\"symbol\":\"circle\"},\"mode\":\"markers\",\"name\":\"Leicester\",\"orientation\":\"v\",\"showlegend\":true,\"x\":[1.4],\"xaxis\":\"x\",\"y\":[2.8],\"yaxis\":\"y\",\"type\":\"scatter\"},{\"hovertemplate\":\"Team=Watford<br>MatchesPlayed=30<br>MovingAverageFor=%{x}<br>MovingAverageAgainst=%{y}<extra></extra>\",\"legendgroup\":\"Watford\",\"marker\":{\"color\":\"#FF6692\",\"symbol\":\"circle\"},\"mode\":\"markers\",\"name\":\"Watford\",\"orientation\":\"v\",\"showlegend\":true,\"x\":[0.8],\"xaxis\":\"x\",\"y\":[1.6],\"yaxis\":\"y\",\"type\":\"scatter\"},{\"hovertemplate\":\"Team=Norwich<br>MatchesPlayed=30<br>MovingAverageFor=%{x}<br>MovingAverageAgainst=%{y}<extra></extra>\",\"legendgroup\":\"Norwich\",\"marker\":{\"color\":\"#B6E880\",\"symbol\":\"circle\"},\"mode\":\"markers\",\"name\":\"Norwich\",\"orientation\":\"v\",\"showlegend\":true,\"x\":[0.8],\"xaxis\":\"x\",\"y\":[1.8],\"yaxis\":\"y\",\"type\":\"scatter\"},{\"hovertemplate\":\"Team=Newcastle<br>MatchesPlayed=30<br>MovingAverageFor=%{x}<br>MovingAverageAgainst=%{y}<extra></extra>\",\"legendgroup\":\"Newcastle\",\"marker\":{\"color\":\"#FF97FF\",\"symbol\":\"circle\"},\"mode\":\"markers\",\"name\":\"Newcastle\",\"orientation\":\"v\",\"showlegend\":true,\"x\":[0.6],\"xaxis\":\"x\",\"y\":[2.0],\"yaxis\":\"y\",\"type\":\"scatter\"},{\"hovertemplate\":\"Team=Tottenham<br>MatchesPlayed=30<br>MovingAverageFor=%{x}<br>MovingAverageAgainst=%{y}<extra></extra>\",\"legendgroup\":\"Tottenham\",\"marker\":{\"color\":\"#FECB52\",\"symbol\":\"circle\"},\"mode\":\"markers\",\"name\":\"Tottenham\",\"orientation\":\"v\",\"showlegend\":true,\"x\":[1.6],\"xaxis\":\"x\",\"y\":[1.4],\"yaxis\":\"y\",\"type\":\"scatter\"},{\"hovertemplate\":\"Team=Liverpool<br>MatchesPlayed=30<br>MovingAverageFor=%{x}<br>MovingAverageAgainst=%{y}<extra></extra>\",\"legendgroup\":\"Liverpool\",\"marker\":{\"color\":\"#636efa\",\"symbol\":\"circle\"},\"mode\":\"markers\",\"name\":\"Liverpool\",\"orientation\":\"v\",\"showlegend\":true,\"x\":[1.8],\"xaxis\":\"x\",\"y\":[1.2],\"yaxis\":\"y\",\"type\":\"scatter\"},{\"hovertemplate\":\"Team=Aston Villa<br>MatchesPlayed=30<br>MovingAverageFor=%{x}<br>MovingAverageAgainst=%{y}<extra></extra>\",\"legendgroup\":\"Aston Villa\",\"marker\":{\"color\":\"#EF553B\",\"symbol\":\"circle\"},\"mode\":\"markers\",\"name\":\"Aston Villa\",\"orientation\":\"v\",\"showlegend\":true,\"x\":[1.2],\"xaxis\":\"x\",\"y\":[0.8],\"yaxis\":\"y\",\"type\":\"scatter\"},{\"hovertemplate\":\"Team=Crystal Palace<br>MatchesPlayed=30<br>MovingAverageFor=%{x}<br>MovingAverageAgainst=%{y}<extra></extra>\",\"legendgroup\":\"Crystal Palace\",\"marker\":{\"color\":\"#00cc96\",\"symbol\":\"circle\"},\"mode\":\"markers\",\"name\":\"Crystal Palace\",\"orientation\":\"v\",\"showlegend\":true,\"x\":[0.4],\"xaxis\":\"x\",\"y\":[1.4],\"yaxis\":\"y\",\"type\":\"scatter\"},{\"hovertemplate\":\"Team=Leeds<br>MatchesPlayed=30<br>MovingAverageFor=%{x}<br>MovingAverageAgainst=%{y}<extra></extra>\",\"legendgroup\":\"Leeds\",\"marker\":{\"color\":\"#ab63fa\",\"symbol\":\"circle\"},\"mode\":\"markers\",\"name\":\"Leeds\",\"orientation\":\"v\",\"showlegend\":true,\"x\":[1.6],\"xaxis\":\"x\",\"y\":[3.0],\"yaxis\":\"y\",\"type\":\"scatter\"},{\"hovertemplate\":\"Team=Man City<br>MatchesPlayed=30<br>MovingAverageFor=%{x}<br>MovingAverageAgainst=%{y}<extra></extra>\",\"legendgroup\":\"Man City\",\"marker\":{\"color\":\"#FFA15A\",\"symbol\":\"circle\"},\"mode\":\"markers\",\"name\":\"Man City\",\"orientation\":\"v\",\"showlegend\":true,\"x\":[2.4],\"xaxis\":\"x\",\"y\":[0.6],\"yaxis\":\"y\",\"type\":\"scatter\"},{\"hovertemplate\":\"Team=Brighton<br>MatchesPlayed=30<br>MovingAverageFor=%{x}<br>MovingAverageAgainst=%{y}<extra></extra>\",\"legendgroup\":\"Brighton\",\"marker\":{\"color\":\"#19d3f3\",\"symbol\":\"circle\"},\"mode\":\"markers\",\"name\":\"Brighton\",\"orientation\":\"v\",\"showlegend\":true,\"x\":[1.4],\"xaxis\":\"x\",\"y\":[1.2],\"yaxis\":\"y\",\"type\":\"scatter\"},{\"hovertemplate\":\"Team=Southampton<br>MatchesPlayed=30<br>MovingAverageFor=%{x}<br>MovingAverageAgainst=%{y}<extra></extra>\",\"legendgroup\":\"Southampton\",\"marker\":{\"color\":\"#FF6692\",\"symbol\":\"circle\"},\"mode\":\"markers\",\"name\":\"Southampton\",\"orientation\":\"v\",\"showlegend\":true,\"x\":[1.2],\"xaxis\":\"x\",\"y\":[2.8],\"yaxis\":\"y\",\"type\":\"scatter\"},{\"hovertemplate\":\"Team=Wolves<br>MatchesPlayed=30<br>MovingAverageFor=%{x}<br>MovingAverageAgainst=%{y}<extra></extra>\",\"legendgroup\":\"Wolves\",\"marker\":{\"color\":\"#B6E880\",\"symbol\":\"circle\"},\"mode\":\"markers\",\"name\":\"Wolves\",\"orientation\":\"v\",\"showlegend\":true,\"x\":[0.8],\"xaxis\":\"x\",\"y\":[0.4],\"yaxis\":\"y\",\"type\":\"scatter\"},{\"hovertemplate\":\"Team=Arsenal<br>MatchesPlayed=30<br>MovingAverageFor=%{x}<br>MovingAverageAgainst=%{y}<extra></extra>\",\"legendgroup\":\"Arsenal\",\"marker\":{\"color\":\"#FF97FF\",\"symbol\":\"circle\"},\"mode\":\"markers\",\"name\":\"Arsenal\",\"orientation\":\"v\",\"showlegend\":true,\"x\":[2.6],\"xaxis\":\"x\",\"y\":[1.2],\"yaxis\":\"y\",\"type\":\"scatter\"},{\"hovertemplate\":\"Team=West Ham<br>MatchesPlayed=30<br>MovingAverageFor=%{x}<br>MovingAverageAgainst=%{y}<extra></extra>\",\"legendgroup\":\"West Ham\",\"marker\":{\"color\":\"#FECB52\",\"symbol\":\"circle\"},\"mode\":\"markers\",\"name\":\"West Ham\",\"orientation\":\"v\",\"showlegend\":true,\"x\":[1.6],\"xaxis\":\"x\",\"y\":[1.4],\"yaxis\":\"y\",\"type\":\"scatter\"}],\"name\":\"30\"},{\"data\":[{\"hovertemplate\":\"Team=Brentford<br>MatchesPlayed=31<br>MovingAverageFor=%{x}<br>MovingAverageAgainst=%{y}<extra></extra>\",\"legendgroup\":\"Brentford\",\"marker\":{\"color\":\"#636efa\",\"symbol\":\"circle\"},\"mode\":\"markers\",\"name\":\"Brentford\",\"orientation\":\"v\",\"showlegend\":true,\"x\":[0.6],\"xaxis\":\"x\",\"y\":[2.6],\"yaxis\":\"y\",\"type\":\"scatter\"},{\"hovertemplate\":\"Team=Man United<br>MatchesPlayed=31<br>MovingAverageFor=%{x}<br>MovingAverageAgainst=%{y}<extra></extra>\",\"legendgroup\":\"Man United\",\"marker\":{\"color\":\"#EF553B\",\"symbol\":\"circle\"},\"mode\":\"markers\",\"name\":\"Man United\",\"orientation\":\"v\",\"showlegend\":true,\"x\":[1.6],\"xaxis\":\"x\",\"y\":[1.0],\"yaxis\":\"y\",\"type\":\"scatter\"},{\"hovertemplate\":\"Team=Burnley<br>MatchesPlayed=31<br>MovingAverageFor=%{x}<br>MovingAverageAgainst=%{y}<extra></extra>\",\"legendgroup\":\"Burnley\",\"marker\":{\"color\":\"#00cc96\",\"symbol\":\"circle\"},\"mode\":\"markers\",\"name\":\"Burnley\",\"orientation\":\"v\",\"showlegend\":true,\"x\":[1.0],\"xaxis\":\"x\",\"y\":[1.4],\"yaxis\":\"y\",\"type\":\"scatter\"},{\"hovertemplate\":\"Team=Chelsea<br>MatchesPlayed=31<br>MovingAverageFor=%{x}<br>MovingAverageAgainst=%{y}<extra></extra>\",\"legendgroup\":\"Chelsea\",\"marker\":{\"color\":\"#ab63fa\",\"symbol\":\"circle\"},\"mode\":\"markers\",\"name\":\"Chelsea\",\"orientation\":\"v\",\"showlegend\":true,\"x\":[1.2],\"xaxis\":\"x\",\"y\":[1.2],\"yaxis\":\"y\",\"type\":\"scatter\"},{\"hovertemplate\":\"Team=Everton<br>MatchesPlayed=31<br>MovingAverageFor=%{x}<br>MovingAverageAgainst=%{y}<extra></extra>\",\"legendgroup\":\"Everton\",\"marker\":{\"color\":\"#FFA15A\",\"symbol\":\"circle\"},\"mode\":\"markers\",\"name\":\"Everton\",\"orientation\":\"v\",\"showlegend\":true,\"x\":[0.8],\"xaxis\":\"x\",\"y\":[2.2],\"yaxis\":\"y\",\"type\":\"scatter\"},{\"hovertemplate\":\"Team=Leicester<br>MatchesPlayed=31<br>MovingAverageFor=%{x}<br>MovingAverageAgainst=%{y}<extra></extra>\",\"legendgroup\":\"Leicester\",\"marker\":{\"color\":\"#19d3f3\",\"symbol\":\"circle\"},\"mode\":\"markers\",\"name\":\"Leicester\",\"orientation\":\"v\",\"showlegend\":true,\"x\":[1.4],\"xaxis\":\"x\",\"y\":[2.4],\"yaxis\":\"y\",\"type\":\"scatter\"},{\"hovertemplate\":\"Team=Watford<br>MatchesPlayed=31<br>MovingAverageFor=%{x}<br>MovingAverageAgainst=%{y}<extra></extra>\",\"legendgroup\":\"Watford\",\"marker\":{\"color\":\"#FF6692\",\"symbol\":\"circle\"},\"mode\":\"markers\",\"name\":\"Watford\",\"orientation\":\"v\",\"showlegend\":true,\"x\":[0.6],\"xaxis\":\"x\",\"y\":[0.8],\"yaxis\":\"y\",\"type\":\"scatter\"},{\"hovertemplate\":\"Team=Norwich<br>MatchesPlayed=31<br>MovingAverageFor=%{x}<br>MovingAverageAgainst=%{y}<extra></extra>\",\"legendgroup\":\"Norwich\",\"marker\":{\"color\":\"#B6E880\",\"symbol\":\"circle\"},\"mode\":\"markers\",\"name\":\"Norwich\",\"orientation\":\"v\",\"showlegend\":true,\"x\":[0.8],\"xaxis\":\"x\",\"y\":[2.2],\"yaxis\":\"y\",\"type\":\"scatter\"},{\"hovertemplate\":\"Team=Newcastle<br>MatchesPlayed=31<br>MovingAverageFor=%{x}<br>MovingAverageAgainst=%{y}<extra></extra>\",\"legendgroup\":\"Newcastle\",\"marker\":{\"color\":\"#FF97FF\",\"symbol\":\"circle\"},\"mode\":\"markers\",\"name\":\"Newcastle\",\"orientation\":\"v\",\"showlegend\":true,\"x\":[1.0],\"xaxis\":\"x\",\"y\":[1.6],\"yaxis\":\"y\",\"type\":\"scatter\"},{\"hovertemplate\":\"Team=Tottenham<br>MatchesPlayed=31<br>MovingAverageFor=%{x}<br>MovingAverageAgainst=%{y}<extra></extra>\",\"legendgroup\":\"Tottenham\",\"marker\":{\"color\":\"#FECB52\",\"symbol\":\"circle\"},\"mode\":\"markers\",\"name\":\"Tottenham\",\"orientation\":\"v\",\"showlegend\":true,\"x\":[1.4],\"xaxis\":\"x\",\"y\":[1.4],\"yaxis\":\"y\",\"type\":\"scatter\"},{\"hovertemplate\":\"Team=Liverpool<br>MatchesPlayed=31<br>MovingAverageFor=%{x}<br>MovingAverageAgainst=%{y}<extra></extra>\",\"legendgroup\":\"Liverpool\",\"marker\":{\"color\":\"#636efa\",\"symbol\":\"circle\"},\"mode\":\"markers\",\"name\":\"Liverpool\",\"orientation\":\"v\",\"showlegend\":true,\"x\":[1.6],\"xaxis\":\"x\",\"y\":[1.2],\"yaxis\":\"y\",\"type\":\"scatter\"},{\"hovertemplate\":\"Team=Aston Villa<br>MatchesPlayed=31<br>MovingAverageFor=%{x}<br>MovingAverageAgainst=%{y}<extra></extra>\",\"legendgroup\":\"Aston Villa\",\"marker\":{\"color\":\"#EF553B\",\"symbol\":\"circle\"},\"mode\":\"markers\",\"name\":\"Aston Villa\",\"orientation\":\"v\",\"showlegend\":true,\"x\":[0.8],\"xaxis\":\"x\",\"y\":[0.8],\"yaxis\":\"y\",\"type\":\"scatter\"},{\"hovertemplate\":\"Team=Crystal Palace<br>MatchesPlayed=31<br>MovingAverageFor=%{x}<br>MovingAverageAgainst=%{y}<extra></extra>\",\"legendgroup\":\"Crystal Palace\",\"marker\":{\"color\":\"#00cc96\",\"symbol\":\"circle\"},\"mode\":\"markers\",\"name\":\"Crystal Palace\",\"orientation\":\"v\",\"showlegend\":true,\"x\":[0.4],\"xaxis\":\"x\",\"y\":[1.2],\"yaxis\":\"y\",\"type\":\"scatter\"},{\"hovertemplate\":\"Team=Leeds<br>MatchesPlayed=31<br>MovingAverageFor=%{x}<br>MovingAverageAgainst=%{y}<extra></extra>\",\"legendgroup\":\"Leeds\",\"marker\":{\"color\":\"#ab63fa\",\"symbol\":\"circle\"},\"mode\":\"markers\",\"name\":\"Leeds\",\"orientation\":\"v\",\"showlegend\":true,\"x\":[1.6],\"xaxis\":\"x\",\"y\":[3.6],\"yaxis\":\"y\",\"type\":\"scatter\"},{\"hovertemplate\":\"Team=Man City<br>MatchesPlayed=31<br>MovingAverageFor=%{x}<br>MovingAverageAgainst=%{y}<extra></extra>\",\"legendgroup\":\"Man City\",\"marker\":{\"color\":\"#FFA15A\",\"symbol\":\"circle\"},\"mode\":\"markers\",\"name\":\"Man City\",\"orientation\":\"v\",\"showlegend\":true,\"x\":[2.2],\"xaxis\":\"x\",\"y\":[0.6],\"yaxis\":\"y\",\"type\":\"scatter\"},{\"hovertemplate\":\"Team=Brighton<br>MatchesPlayed=31<br>MovingAverageFor=%{x}<br>MovingAverageAgainst=%{y}<extra></extra>\",\"legendgroup\":\"Brighton\",\"marker\":{\"color\":\"#19d3f3\",\"symbol\":\"circle\"},\"mode\":\"markers\",\"name\":\"Brighton\",\"orientation\":\"v\",\"showlegend\":true,\"x\":[1.6],\"xaxis\":\"x\",\"y\":[1.0],\"yaxis\":\"y\",\"type\":\"scatter\"},{\"hovertemplate\":\"Team=Southampton<br>MatchesPlayed=31<br>MovingAverageFor=%{x}<br>MovingAverageAgainst=%{y}<extra></extra>\",\"legendgroup\":\"Southampton\",\"marker\":{\"color\":\"#FF6692\",\"symbol\":\"circle\"},\"mode\":\"markers\",\"name\":\"Southampton\",\"orientation\":\"v\",\"showlegend\":true,\"x\":[1.8],\"xaxis\":\"x\",\"y\":[2.4],\"yaxis\":\"y\",\"type\":\"scatter\"},{\"hovertemplate\":\"Team=Wolves<br>MatchesPlayed=31<br>MovingAverageFor=%{x}<br>MovingAverageAgainst=%{y}<extra></extra>\",\"legendgroup\":\"Wolves\",\"marker\":{\"color\":\"#B6E880\",\"symbol\":\"circle\"},\"mode\":\"markers\",\"name\":\"Wolves\",\"orientation\":\"v\",\"showlegend\":true,\"x\":[1.2],\"xaxis\":\"x\",\"y\":[0.4],\"yaxis\":\"y\",\"type\":\"scatter\"},{\"hovertemplate\":\"Team=Arsenal<br>MatchesPlayed=31<br>MovingAverageFor=%{x}<br>MovingAverageAgainst=%{y}<extra></extra>\",\"legendgroup\":\"Arsenal\",\"marker\":{\"color\":\"#FF97FF\",\"symbol\":\"circle\"},\"mode\":\"markers\",\"name\":\"Arsenal\",\"orientation\":\"v\",\"showlegend\":true,\"x\":[2.8],\"xaxis\":\"x\",\"y\":[1.0],\"yaxis\":\"y\",\"type\":\"scatter\"},{\"hovertemplate\":\"Team=West Ham<br>MatchesPlayed=31<br>MovingAverageFor=%{x}<br>MovingAverageAgainst=%{y}<extra></extra>\",\"legendgroup\":\"West Ham\",\"marker\":{\"color\":\"#FECB52\",\"symbol\":\"circle\"},\"mode\":\"markers\",\"name\":\"West Ham\",\"orientation\":\"v\",\"showlegend\":true,\"x\":[1.4],\"xaxis\":\"x\",\"y\":[1.2],\"yaxis\":\"y\",\"type\":\"scatter\"}],\"name\":\"31\"},{\"data\":[{\"hovertemplate\":\"Team=Brentford<br>MatchesPlayed=32<br>MovingAverageFor=%{x}<br>MovingAverageAgainst=%{y}<extra></extra>\",\"legendgroup\":\"Brentford\",\"marker\":{\"color\":\"#636efa\",\"symbol\":\"circle\"},\"mode\":\"markers\",\"name\":\"Brentford\",\"orientation\":\"v\",\"showlegend\":true,\"x\":[0.4],\"xaxis\":\"x\",\"y\":[2.6],\"yaxis\":\"y\",\"type\":\"scatter\"},{\"hovertemplate\":\"Team=Man United<br>MatchesPlayed=32<br>MovingAverageFor=%{x}<br>MovingAverageAgainst=%{y}<extra></extra>\",\"legendgroup\":\"Man United\",\"marker\":{\"color\":\"#EF553B\",\"symbol\":\"circle\"},\"mode\":\"markers\",\"name\":\"Man United\",\"orientation\":\"v\",\"showlegend\":true,\"x\":[2.2],\"xaxis\":\"x\",\"y\":[1.4],\"yaxis\":\"y\",\"type\":\"scatter\"},{\"hovertemplate\":\"Team=Burnley<br>MatchesPlayed=32<br>MovingAverageFor=%{x}<br>MovingAverageAgainst=%{y}<extra></extra>\",\"legendgroup\":\"Burnley\",\"marker\":{\"color\":\"#00cc96\",\"symbol\":\"circle\"},\"mode\":\"markers\",\"name\":\"Burnley\",\"orientation\":\"v\",\"showlegend\":true,\"x\":[1.2],\"xaxis\":\"x\",\"y\":[1.4],\"yaxis\":\"y\",\"type\":\"scatter\"},{\"hovertemplate\":\"Team=Chelsea<br>MatchesPlayed=32<br>MovingAverageFor=%{x}<br>MovingAverageAgainst=%{y}<extra></extra>\",\"legendgroup\":\"Chelsea\",\"marker\":{\"color\":\"#ab63fa\",\"symbol\":\"circle\"},\"mode\":\"markers\",\"name\":\"Chelsea\",\"orientation\":\"v\",\"showlegend\":true,\"x\":[1.0],\"xaxis\":\"x\",\"y\":[0.6],\"yaxis\":\"y\",\"type\":\"scatter\"},{\"hovertemplate\":\"Team=Everton<br>MatchesPlayed=32<br>MovingAverageFor=%{x}<br>MovingAverageAgainst=%{y}<extra></extra>\",\"legendgroup\":\"Everton\",\"marker\":{\"color\":\"#FFA15A\",\"symbol\":\"circle\"},\"mode\":\"markers\",\"name\":\"Everton\",\"orientation\":\"v\",\"showlegend\":true,\"x\":[0.6],\"xaxis\":\"x\",\"y\":[2.6],\"yaxis\":\"y\",\"type\":\"scatter\"},{\"hovertemplate\":\"Team=Leicester<br>MatchesPlayed=32<br>MovingAverageFor=%{x}<br>MovingAverageAgainst=%{y}<extra></extra>\",\"legendgroup\":\"Leicester\",\"marker\":{\"color\":\"#19d3f3\",\"symbol\":\"circle\"},\"mode\":\"markers\",\"name\":\"Leicester\",\"orientation\":\"v\",\"showlegend\":true,\"x\":[1.2],\"xaxis\":\"x\",\"y\":[2.4],\"yaxis\":\"y\",\"type\":\"scatter\"},{\"hovertemplate\":\"Team=Watford<br>MatchesPlayed=32<br>MovingAverageFor=%{x}<br>MovingAverageAgainst=%{y}<extra></extra>\",\"legendgroup\":\"Watford\",\"marker\":{\"color\":\"#FF6692\",\"symbol\":\"circle\"},\"mode\":\"markers\",\"name\":\"Watford\",\"orientation\":\"v\",\"showlegend\":true,\"x\":[0.4],\"xaxis\":\"x\",\"y\":[0.4],\"yaxis\":\"y\",\"type\":\"scatter\"},{\"hovertemplate\":\"Team=Norwich<br>MatchesPlayed=32<br>MovingAverageFor=%{x}<br>MovingAverageAgainst=%{y}<extra></extra>\",\"legendgroup\":\"Norwich\",\"marker\":{\"color\":\"#B6E880\",\"symbol\":\"circle\"},\"mode\":\"markers\",\"name\":\"Norwich\",\"orientation\":\"v\",\"showlegend\":true,\"x\":[0.8],\"xaxis\":\"x\",\"y\":[2.0],\"yaxis\":\"y\",\"type\":\"scatter\"},{\"hovertemplate\":\"Team=Newcastle<br>MatchesPlayed=32<br>MovingAverageFor=%{x}<br>MovingAverageAgainst=%{y}<extra></extra>\",\"legendgroup\":\"Newcastle\",\"marker\":{\"color\":\"#FF97FF\",\"symbol\":\"circle\"},\"mode\":\"markers\",\"name\":\"Newcastle\",\"orientation\":\"v\",\"showlegend\":true,\"x\":[1.4],\"xaxis\":\"x\",\"y\":[1.0],\"yaxis\":\"y\",\"type\":\"scatter\"},{\"hovertemplate\":\"Team=Tottenham<br>MatchesPlayed=32<br>MovingAverageFor=%{x}<br>MovingAverageAgainst=%{y}<extra></extra>\",\"legendgroup\":\"Tottenham\",\"marker\":{\"color\":\"#FECB52\",\"symbol\":\"circle\"},\"mode\":\"markers\",\"name\":\"Tottenham\",\"orientation\":\"v\",\"showlegend\":true,\"x\":[2.0],\"xaxis\":\"x\",\"y\":[1.4],\"yaxis\":\"y\",\"type\":\"scatter\"},{\"hovertemplate\":\"Team=Liverpool<br>MatchesPlayed=32<br>MovingAverageFor=%{x}<br>MovingAverageAgainst=%{y}<extra></extra>\",\"legendgroup\":\"Liverpool\",\"marker\":{\"color\":\"#636efa\",\"symbol\":\"circle\"},\"mode\":\"markers\",\"name\":\"Liverpool\",\"orientation\":\"v\",\"showlegend\":true,\"x\":[1.6],\"xaxis\":\"x\",\"y\":[1.2],\"yaxis\":\"y\",\"type\":\"scatter\"},{\"hovertemplate\":\"Team=Aston Villa<br>MatchesPlayed=32<br>MovingAverageFor=%{x}<br>MovingAverageAgainst=%{y}<extra></extra>\",\"legendgroup\":\"Aston Villa\",\"marker\":{\"color\":\"#EF553B\",\"symbol\":\"circle\"},\"mode\":\"markers\",\"name\":\"Aston Villa\",\"orientation\":\"v\",\"showlegend\":true,\"x\":[1.2],\"xaxis\":\"x\",\"y\":[0.6],\"yaxis\":\"y\",\"type\":\"scatter\"},{\"hovertemplate\":\"Team=Crystal Palace<br>MatchesPlayed=32<br>MovingAverageFor=%{x}<br>MovingAverageAgainst=%{y}<extra></extra>\",\"legendgroup\":\"Crystal Palace\",\"marker\":{\"color\":\"#00cc96\",\"symbol\":\"circle\"},\"mode\":\"markers\",\"name\":\"Crystal Palace\",\"orientation\":\"v\",\"showlegend\":true,\"x\":[1.2],\"xaxis\":\"x\",\"y\":[1.2],\"yaxis\":\"y\",\"type\":\"scatter\"},{\"hovertemplate\":\"Team=Leeds<br>MatchesPlayed=32<br>MovingAverageFor=%{x}<br>MovingAverageAgainst=%{y}<extra></extra>\",\"legendgroup\":\"Leeds\",\"marker\":{\"color\":\"#ab63fa\",\"symbol\":\"circle\"},\"mode\":\"markers\",\"name\":\"Leeds\",\"orientation\":\"v\",\"showlegend\":true,\"x\":[1.2],\"xaxis\":\"x\",\"y\":[4.2],\"yaxis\":\"y\",\"type\":\"scatter\"},{\"hovertemplate\":\"Team=Man City<br>MatchesPlayed=32<br>MovingAverageFor=%{x}<br>MovingAverageAgainst=%{y}<extra></extra>\",\"legendgroup\":\"Man City\",\"marker\":{\"color\":\"#FFA15A\",\"symbol\":\"circle\"},\"mode\":\"markers\",\"name\":\"Man City\",\"orientation\":\"v\",\"showlegend\":true,\"x\":[2.4],\"xaxis\":\"x\",\"y\":[0.4],\"yaxis\":\"y\",\"type\":\"scatter\"},{\"hovertemplate\":\"Team=Brighton<br>MatchesPlayed=32<br>MovingAverageFor=%{x}<br>MovingAverageAgainst=%{y}<extra></extra>\",\"legendgroup\":\"Brighton\",\"marker\":{\"color\":\"#19d3f3\",\"symbol\":\"circle\"},\"mode\":\"markers\",\"name\":\"Brighton\",\"orientation\":\"v\",\"showlegend\":true,\"x\":[1.4],\"xaxis\":\"x\",\"y\":[1.2],\"yaxis\":\"y\",\"type\":\"scatter\"},{\"hovertemplate\":\"Team=Southampton<br>MatchesPlayed=32<br>MovingAverageFor=%{x}<br>MovingAverageAgainst=%{y}<extra></extra>\",\"legendgroup\":\"Southampton\",\"marker\":{\"color\":\"#FF6692\",\"symbol\":\"circle\"},\"mode\":\"markers\",\"name\":\"Southampton\",\"orientation\":\"v\",\"showlegend\":true,\"x\":[2.0],\"xaxis\":\"x\",\"y\":[2.0],\"yaxis\":\"y\",\"type\":\"scatter\"},{\"hovertemplate\":\"Team=Wolves<br>MatchesPlayed=32<br>MovingAverageFor=%{x}<br>MovingAverageAgainst=%{y}<extra></extra>\",\"legendgroup\":\"Wolves\",\"marker\":{\"color\":\"#B6E880\",\"symbol\":\"circle\"},\"mode\":\"markers\",\"name\":\"Wolves\",\"orientation\":\"v\",\"showlegend\":true,\"x\":[1.4],\"xaxis\":\"x\",\"y\":[0.6],\"yaxis\":\"y\",\"type\":\"scatter\"},{\"hovertemplate\":\"Team=Arsenal<br>MatchesPlayed=32<br>MovingAverageFor=%{x}<br>MovingAverageAgainst=%{y}<extra></extra>\",\"legendgroup\":\"Arsenal\",\"marker\":{\"color\":\"#FF97FF\",\"symbol\":\"circle\"},\"mode\":\"markers\",\"name\":\"Arsenal\",\"orientation\":\"v\",\"showlegend\":true,\"x\":[2.8],\"xaxis\":\"x\",\"y\":[0.6],\"yaxis\":\"y\",\"type\":\"scatter\"},{\"hovertemplate\":\"Team=West Ham<br>MatchesPlayed=32<br>MovingAverageFor=%{x}<br>MovingAverageAgainst=%{y}<extra></extra>\",\"legendgroup\":\"West Ham\",\"marker\":{\"color\":\"#FECB52\",\"symbol\":\"circle\"},\"mode\":\"markers\",\"name\":\"West Ham\",\"orientation\":\"v\",\"showlegend\":true,\"x\":[1.8],\"xaxis\":\"x\",\"y\":[1.6],\"yaxis\":\"y\",\"type\":\"scatter\"}],\"name\":\"32\"},{\"data\":[{\"hovertemplate\":\"Team=Brentford<br>MatchesPlayed=33<br>MovingAverageFor=%{x}<br>MovingAverageAgainst=%{y}<extra></extra>\",\"legendgroup\":\"Brentford\",\"marker\":{\"color\":\"#636efa\",\"symbol\":\"circle\"},\"mode\":\"markers\",\"name\":\"Brentford\",\"orientation\":\"v\",\"showlegend\":true,\"x\":[1.0],\"xaxis\":\"x\",\"y\":[2.4],\"yaxis\":\"y\",\"type\":\"scatter\"},{\"hovertemplate\":\"Team=Man United<br>MatchesPlayed=33<br>MovingAverageFor=%{x}<br>MovingAverageAgainst=%{y}<extra></extra>\",\"legendgroup\":\"Man United\",\"marker\":{\"color\":\"#EF553B\",\"symbol\":\"circle\"},\"mode\":\"markers\",\"name\":\"Man United\",\"orientation\":\"v\",\"showlegend\":true,\"x\":[2.2],\"xaxis\":\"x\",\"y\":[2.0],\"yaxis\":\"y\",\"type\":\"scatter\"},{\"hovertemplate\":\"Team=Burnley<br>MatchesPlayed=33<br>MovingAverageFor=%{x}<br>MovingAverageAgainst=%{y}<extra></extra>\",\"legendgroup\":\"Burnley\",\"marker\":{\"color\":\"#00cc96\",\"symbol\":\"circle\"},\"mode\":\"markers\",\"name\":\"Burnley\",\"orientation\":\"v\",\"showlegend\":true,\"x\":[1.0],\"xaxis\":\"x\",\"y\":[1.2],\"yaxis\":\"y\",\"type\":\"scatter\"},{\"hovertemplate\":\"Team=Chelsea<br>MatchesPlayed=33<br>MovingAverageFor=%{x}<br>MovingAverageAgainst=%{y}<extra></extra>\",\"legendgroup\":\"Chelsea\",\"marker\":{\"color\":\"#ab63fa\",\"symbol\":\"circle\"},\"mode\":\"markers\",\"name\":\"Chelsea\",\"orientation\":\"v\",\"showlegend\":true,\"x\":[1.8],\"xaxis\":\"x\",\"y\":[0.6],\"yaxis\":\"y\",\"type\":\"scatter\"},{\"hovertemplate\":\"Team=Everton<br>MatchesPlayed=33<br>MovingAverageFor=%{x}<br>MovingAverageAgainst=%{y}<extra></extra>\",\"legendgroup\":\"Everton\",\"marker\":{\"color\":\"#FFA15A\",\"symbol\":\"circle\"},\"mode\":\"markers\",\"name\":\"Everton\",\"orientation\":\"v\",\"showlegend\":true,\"x\":[0.6],\"xaxis\":\"x\",\"y\":[2.8],\"yaxis\":\"y\",\"type\":\"scatter\"},{\"hovertemplate\":\"Team=Leicester<br>MatchesPlayed=33<br>MovingAverageFor=%{x}<br>MovingAverageAgainst=%{y}<extra></extra>\",\"legendgroup\":\"Leicester\",\"marker\":{\"color\":\"#19d3f3\",\"symbol\":\"circle\"},\"mode\":\"markers\",\"name\":\"Leicester\",\"orientation\":\"v\",\"showlegend\":true,\"x\":[0.8],\"xaxis\":\"x\",\"y\":[1.4],\"yaxis\":\"y\",\"type\":\"scatter\"},{\"hovertemplate\":\"Team=Watford<br>MatchesPlayed=33<br>MovingAverageFor=%{x}<br>MovingAverageAgainst=%{y}<extra></extra>\",\"legendgroup\":\"Watford\",\"marker\":{\"color\":\"#FF6692\",\"symbol\":\"circle\"},\"mode\":\"markers\",\"name\":\"Watford\",\"orientation\":\"v\",\"showlegend\":true,\"x\":[0.2],\"xaxis\":\"x\",\"y\":[1.0],\"yaxis\":\"y\",\"type\":\"scatter\"},{\"hovertemplate\":\"Team=Norwich<br>MatchesPlayed=33<br>MovingAverageFor=%{x}<br>MovingAverageAgainst=%{y}<extra></extra>\",\"legendgroup\":\"Norwich\",\"marker\":{\"color\":\"#B6E880\",\"symbol\":\"circle\"},\"mode\":\"markers\",\"name\":\"Norwich\",\"orientation\":\"v\",\"showlegend\":true,\"x\":[1.0],\"xaxis\":\"x\",\"y\":[1.8],\"yaxis\":\"y\",\"type\":\"scatter\"},{\"hovertemplate\":\"Team=Newcastle<br>MatchesPlayed=33<br>MovingAverageFor=%{x}<br>MovingAverageAgainst=%{y}<extra></extra>\",\"legendgroup\":\"Newcastle\",\"marker\":{\"color\":\"#FF97FF\",\"symbol\":\"circle\"},\"mode\":\"markers\",\"name\":\"Newcastle\",\"orientation\":\"v\",\"showlegend\":true,\"x\":[1.2],\"xaxis\":\"x\",\"y\":[0.6],\"yaxis\":\"y\",\"type\":\"scatter\"},{\"hovertemplate\":\"Team=Tottenham<br>MatchesPlayed=33<br>MovingAverageFor=%{x}<br>MovingAverageAgainst=%{y}<extra></extra>\",\"legendgroup\":\"Tottenham\",\"marker\":{\"color\":\"#FECB52\",\"symbol\":\"circle\"},\"mode\":\"markers\",\"name\":\"Tottenham\",\"orientation\":\"v\",\"showlegend\":true,\"x\":[1.8],\"xaxis\":\"x\",\"y\":[1.6],\"yaxis\":\"y\",\"type\":\"scatter\"},{\"hovertemplate\":\"Team=Liverpool<br>MatchesPlayed=33<br>MovingAverageFor=%{x}<br>MovingAverageAgainst=%{y}<extra></extra>\",\"legendgroup\":\"Liverpool\",\"marker\":{\"color\":\"#636efa\",\"symbol\":\"circle\"},\"mode\":\"markers\",\"name\":\"Liverpool\",\"orientation\":\"v\",\"showlegend\":true,\"x\":[1.6],\"xaxis\":\"x\",\"y\":[0.8],\"yaxis\":\"y\",\"type\":\"scatter\"},{\"hovertemplate\":\"Team=Aston Villa<br>MatchesPlayed=33<br>MovingAverageFor=%{x}<br>MovingAverageAgainst=%{y}<extra></extra>\",\"legendgroup\":\"Aston Villa\",\"marker\":{\"color\":\"#EF553B\",\"symbol\":\"circle\"},\"mode\":\"markers\",\"name\":\"Aston Villa\",\"orientation\":\"v\",\"showlegend\":true,\"x\":[1.4],\"xaxis\":\"x\",\"y\":[0.6],\"yaxis\":\"y\",\"type\":\"scatter\"},{\"hovertemplate\":\"Team=Crystal Palace<br>MatchesPlayed=33<br>MovingAverageFor=%{x}<br>MovingAverageAgainst=%{y}<extra></extra>\",\"legendgroup\":\"Crystal Palace\",\"marker\":{\"color\":\"#00cc96\",\"symbol\":\"circle\"},\"mode\":\"markers\",\"name\":\"Crystal Palace\",\"orientation\":\"v\",\"showlegend\":true,\"x\":[1.6],\"xaxis\":\"x\",\"y\":[0.6],\"yaxis\":\"y\",\"type\":\"scatter\"},{\"hovertemplate\":\"Team=Leeds<br>MatchesPlayed=33<br>MovingAverageFor=%{x}<br>MovingAverageAgainst=%{y}<extra></extra>\",\"legendgroup\":\"Leeds\",\"marker\":{\"color\":\"#ab63fa\",\"symbol\":\"circle\"},\"mode\":\"markers\",\"name\":\"Leeds\",\"orientation\":\"v\",\"showlegend\":true,\"x\":[1.2],\"xaxis\":\"x\",\"y\":[3.0],\"yaxis\":\"y\",\"type\":\"scatter\"},{\"hovertemplate\":\"Team=Man City<br>MatchesPlayed=33<br>MovingAverageFor=%{x}<br>MovingAverageAgainst=%{y}<extra></extra>\",\"legendgroup\":\"Man City\",\"marker\":{\"color\":\"#FFA15A\",\"symbol\":\"circle\"},\"mode\":\"markers\",\"name\":\"Man City\",\"orientation\":\"v\",\"showlegend\":true,\"x\":[1.8],\"xaxis\":\"x\",\"y\":[0.4],\"yaxis\":\"y\",\"type\":\"scatter\"},{\"hovertemplate\":\"Team=Brighton<br>MatchesPlayed=33<br>MovingAverageFor=%{x}<br>MovingAverageAgainst=%{y}<extra></extra>\",\"legendgroup\":\"Brighton\",\"marker\":{\"color\":\"#19d3f3\",\"symbol\":\"circle\"},\"mode\":\"markers\",\"name\":\"Brighton\",\"orientation\":\"v\",\"showlegend\":true,\"x\":[1.4],\"xaxis\":\"x\",\"y\":[1.4],\"yaxis\":\"y\",\"type\":\"scatter\"},{\"hovertemplate\":\"Team=Southampton<br>MatchesPlayed=33<br>MovingAverageFor=%{x}<br>MovingAverageAgainst=%{y}<extra></extra>\",\"legendgroup\":\"Southampton\",\"marker\":{\"color\":\"#FF6692\",\"symbol\":\"circle\"},\"mode\":\"markers\",\"name\":\"Southampton\",\"orientation\":\"v\",\"showlegend\":true,\"x\":[1.6],\"xaxis\":\"x\",\"y\":[2.4],\"yaxis\":\"y\",\"type\":\"scatter\"},{\"hovertemplate\":\"Team=Wolves<br>MatchesPlayed=33<br>MovingAverageFor=%{x}<br>MovingAverageAgainst=%{y}<extra></extra>\",\"legendgroup\":\"Wolves\",\"marker\":{\"color\":\"#B6E880\",\"symbol\":\"circle\"},\"mode\":\"markers\",\"name\":\"Wolves\",\"orientation\":\"v\",\"showlegend\":true,\"x\":[1.2],\"xaxis\":\"x\",\"y\":[0.8],\"yaxis\":\"y\",\"type\":\"scatter\"},{\"hovertemplate\":\"Team=Arsenal<br>MatchesPlayed=33<br>MovingAverageFor=%{x}<br>MovingAverageAgainst=%{y}<extra></extra>\",\"legendgroup\":\"Arsenal\",\"marker\":{\"color\":\"#FF97FF\",\"symbol\":\"circle\"},\"mode\":\"markers\",\"name\":\"Arsenal\",\"orientation\":\"v\",\"showlegend\":true,\"x\":[2.0],\"xaxis\":\"x\",\"y\":[1.0],\"yaxis\":\"y\",\"type\":\"scatter\"},{\"hovertemplate\":\"Team=West Ham<br>MatchesPlayed=33<br>MovingAverageFor=%{x}<br>MovingAverageAgainst=%{y}<extra></extra>\",\"legendgroup\":\"West Ham\",\"marker\":{\"color\":\"#FECB52\",\"symbol\":\"circle\"},\"mode\":\"markers\",\"name\":\"West Ham\",\"orientation\":\"v\",\"showlegend\":true,\"x\":[1.8],\"xaxis\":\"x\",\"y\":[1.4],\"yaxis\":\"y\",\"type\":\"scatter\"}],\"name\":\"33\"},{\"data\":[{\"hovertemplate\":\"Team=Brentford<br>MatchesPlayed=34<br>MovingAverageFor=%{x}<br>MovingAverageAgainst=%{y}<extra></extra>\",\"legendgroup\":\"Brentford\",\"marker\":{\"color\":\"#636efa\",\"symbol\":\"circle\"},\"mode\":\"markers\",\"name\":\"Brentford\",\"orientation\":\"v\",\"showlegend\":true,\"x\":[1.0],\"xaxis\":\"x\",\"y\":[2.0],\"yaxis\":\"y\",\"type\":\"scatter\"},{\"hovertemplate\":\"Team=Man United<br>MatchesPlayed=34<br>MovingAverageFor=%{x}<br>MovingAverageAgainst=%{y}<extra></extra>\",\"legendgroup\":\"Man United\",\"marker\":{\"color\":\"#EF553B\",\"symbol\":\"circle\"},\"mode\":\"markers\",\"name\":\"Man United\",\"orientation\":\"v\",\"showlegend\":true,\"x\":[1.8],\"xaxis\":\"x\",\"y\":[1.8],\"yaxis\":\"y\",\"type\":\"scatter\"},{\"hovertemplate\":\"Team=Burnley<br>MatchesPlayed=34<br>MovingAverageFor=%{x}<br>MovingAverageAgainst=%{y}<extra></extra>\",\"legendgroup\":\"Burnley\",\"marker\":{\"color\":\"#00cc96\",\"symbol\":\"circle\"},\"mode\":\"markers\",\"name\":\"Burnley\",\"orientation\":\"v\",\"showlegend\":true,\"x\":[0.8],\"xaxis\":\"x\",\"y\":[1.0],\"yaxis\":\"y\",\"type\":\"scatter\"},{\"hovertemplate\":\"Team=Chelsea<br>MatchesPlayed=34<br>MovingAverageFor=%{x}<br>MovingAverageAgainst=%{y}<extra></extra>\",\"legendgroup\":\"Chelsea\",\"marker\":{\"color\":\"#ab63fa\",\"symbol\":\"circle\"},\"mode\":\"markers\",\"name\":\"Chelsea\",\"orientation\":\"v\",\"showlegend\":true,\"x\":[1.8],\"xaxis\":\"x\",\"y\":[0.6],\"yaxis\":\"y\",\"type\":\"scatter\"},{\"hovertemplate\":\"Team=Everton<br>MatchesPlayed=34<br>MovingAverageFor=%{x}<br>MovingAverageAgainst=%{y}<extra></extra>\",\"legendgroup\":\"Everton\",\"marker\":{\"color\":\"#FFA15A\",\"symbol\":\"circle\"},\"mode\":\"markers\",\"name\":\"Everton\",\"orientation\":\"v\",\"showlegend\":true,\"x\":[0.8],\"xaxis\":\"x\",\"y\":[3.0],\"yaxis\":\"y\",\"type\":\"scatter\"},{\"hovertemplate\":\"Team=Leicester<br>MatchesPlayed=34<br>MovingAverageFor=%{x}<br>MovingAverageAgainst=%{y}<extra></extra>\",\"legendgroup\":\"Leicester\",\"marker\":{\"color\":\"#19d3f3\",\"symbol\":\"circle\"},\"mode\":\"markers\",\"name\":\"Leicester\",\"orientation\":\"v\",\"showlegend\":true,\"x\":[1.0],\"xaxis\":\"x\",\"y\":[1.4],\"yaxis\":\"y\",\"type\":\"scatter\"},{\"hovertemplate\":\"Team=Watford<br>MatchesPlayed=34<br>MovingAverageFor=%{x}<br>MovingAverageAgainst=%{y}<extra></extra>\",\"legendgroup\":\"Watford\",\"marker\":{\"color\":\"#FF6692\",\"symbol\":\"circle\"},\"mode\":\"markers\",\"name\":\"Watford\",\"orientation\":\"v\",\"showlegend\":true,\"x\":[0.6],\"xaxis\":\"x\",\"y\":[1.2],\"yaxis\":\"y\",\"type\":\"scatter\"},{\"hovertemplate\":\"Team=Norwich<br>MatchesPlayed=34<br>MovingAverageFor=%{x}<br>MovingAverageAgainst=%{y}<extra></extra>\",\"legendgroup\":\"Norwich\",\"marker\":{\"color\":\"#B6E880\",\"symbol\":\"circle\"},\"mode\":\"markers\",\"name\":\"Norwich\",\"orientation\":\"v\",\"showlegend\":true,\"x\":[1.0],\"xaxis\":\"x\",\"y\":[1.4],\"yaxis\":\"y\",\"type\":\"scatter\"},{\"hovertemplate\":\"Team=Newcastle<br>MatchesPlayed=34<br>MovingAverageFor=%{x}<br>MovingAverageAgainst=%{y}<extra></extra>\",\"legendgroup\":\"Newcastle\",\"marker\":{\"color\":\"#FF97FF\",\"symbol\":\"circle\"},\"mode\":\"markers\",\"name\":\"Newcastle\",\"orientation\":\"v\",\"showlegend\":true,\"x\":[1.0],\"xaxis\":\"x\",\"y\":[0.8],\"yaxis\":\"y\",\"type\":\"scatter\"},{\"hovertemplate\":\"Team=Tottenham<br>MatchesPlayed=34<br>MovingAverageFor=%{x}<br>MovingAverageAgainst=%{y}<extra></extra>\",\"legendgroup\":\"Tottenham\",\"marker\":{\"color\":\"#FECB52\",\"symbol\":\"circle\"},\"mode\":\"markers\",\"name\":\"Tottenham\",\"orientation\":\"v\",\"showlegend\":true,\"x\":[2.2],\"xaxis\":\"x\",\"y\":[1.2],\"yaxis\":\"y\",\"type\":\"scatter\"},{\"hovertemplate\":\"Team=Liverpool<br>MatchesPlayed=34<br>MovingAverageFor=%{x}<br>MovingAverageAgainst=%{y}<extra></extra>\",\"legendgroup\":\"Liverpool\",\"marker\":{\"color\":\"#636efa\",\"symbol\":\"circle\"},\"mode\":\"markers\",\"name\":\"Liverpool\",\"orientation\":\"v\",\"showlegend\":true,\"x\":[2.0],\"xaxis\":\"x\",\"y\":[0.6],\"yaxis\":\"y\",\"type\":\"scatter\"},{\"hovertemplate\":\"Team=Aston Villa<br>MatchesPlayed=34<br>MovingAverageFor=%{x}<br>MovingAverageAgainst=%{y}<extra></extra>\",\"legendgroup\":\"Aston Villa\",\"marker\":{\"color\":\"#EF553B\",\"symbol\":\"circle\"},\"mode\":\"markers\",\"name\":\"Aston Villa\",\"orientation\":\"v\",\"showlegend\":true,\"x\":[1.4],\"xaxis\":\"x\",\"y\":[0.6],\"yaxis\":\"y\",\"type\":\"scatter\"},{\"hovertemplate\":\"Team=Crystal Palace<br>MatchesPlayed=34<br>MovingAverageFor=%{x}<br>MovingAverageAgainst=%{y}<extra></extra>\",\"legendgroup\":\"Crystal Palace\",\"marker\":{\"color\":\"#00cc96\",\"symbol\":\"circle\"},\"mode\":\"markers\",\"name\":\"Crystal Palace\",\"orientation\":\"v\",\"showlegend\":true,\"x\":[1.6],\"xaxis\":\"x\",\"y\":[0.8],\"yaxis\":\"y\",\"type\":\"scatter\"},{\"hovertemplate\":\"Team=Leeds<br>MatchesPlayed=34<br>MovingAverageFor=%{x}<br>MovingAverageAgainst=%{y}<extra></extra>\",\"legendgroup\":\"Leeds\",\"marker\":{\"color\":\"#ab63fa\",\"symbol\":\"circle\"},\"mode\":\"markers\",\"name\":\"Leeds\",\"orientation\":\"v\",\"showlegend\":true,\"x\":[1.2],\"xaxis\":\"x\",\"y\":[3.0],\"yaxis\":\"y\",\"type\":\"scatter\"},{\"hovertemplate\":\"Team=Man City<br>MatchesPlayed=34<br>MovingAverageFor=%{x}<br>MovingAverageAgainst=%{y}<extra></extra>\",\"legendgroup\":\"Man City\",\"marker\":{\"color\":\"#FFA15A\",\"symbol\":\"circle\"},\"mode\":\"markers\",\"name\":\"Man City\",\"orientation\":\"v\",\"showlegend\":true,\"x\":[1.6],\"xaxis\":\"x\",\"y\":[0.4],\"yaxis\":\"y\",\"type\":\"scatter\"},{\"hovertemplate\":\"Team=Brighton<br>MatchesPlayed=34<br>MovingAverageFor=%{x}<br>MovingAverageAgainst=%{y}<extra></extra>\",\"legendgroup\":\"Brighton\",\"marker\":{\"color\":\"#19d3f3\",\"symbol\":\"circle\"},\"mode\":\"markers\",\"name\":\"Brighton\",\"orientation\":\"v\",\"showlegend\":true,\"x\":[1.2],\"xaxis\":\"x\",\"y\":[1.2],\"yaxis\":\"y\",\"type\":\"scatter\"},{\"hovertemplate\":\"Team=Southampton<br>MatchesPlayed=34<br>MovingAverageFor=%{x}<br>MovingAverageAgainst=%{y}<extra></extra>\",\"legendgroup\":\"Southampton\",\"marker\":{\"color\":\"#FF6692\",\"symbol\":\"circle\"},\"mode\":\"markers\",\"name\":\"Southampton\",\"orientation\":\"v\",\"showlegend\":true,\"x\":[1.2],\"xaxis\":\"x\",\"y\":[2.2],\"yaxis\":\"y\",\"type\":\"scatter\"},{\"hovertemplate\":\"Team=Wolves<br>MatchesPlayed=34<br>MovingAverageFor=%{x}<br>MovingAverageAgainst=%{y}<extra></extra>\",\"legendgroup\":\"Wolves\",\"marker\":{\"color\":\"#B6E880\",\"symbol\":\"circle\"},\"mode\":\"markers\",\"name\":\"Wolves\",\"orientation\":\"v\",\"showlegend\":true,\"x\":[1.2],\"xaxis\":\"x\",\"y\":[0.8],\"yaxis\":\"y\",\"type\":\"scatter\"},{\"hovertemplate\":\"Team=Arsenal<br>MatchesPlayed=34<br>MovingAverageFor=%{x}<br>MovingAverageAgainst=%{y}<extra></extra>\",\"legendgroup\":\"Arsenal\",\"marker\":{\"color\":\"#FF97FF\",\"symbol\":\"circle\"},\"mode\":\"markers\",\"name\":\"Arsenal\",\"orientation\":\"v\",\"showlegend\":true,\"x\":[1.0],\"xaxis\":\"x\",\"y\":[1.2],\"yaxis\":\"y\",\"type\":\"scatter\"},{\"hovertemplate\":\"Team=West Ham<br>MatchesPlayed=34<br>MovingAverageFor=%{x}<br>MovingAverageAgainst=%{y}<extra></extra>\",\"legendgroup\":\"West Ham\",\"marker\":{\"color\":\"#FECB52\",\"symbol\":\"circle\"},\"mode\":\"markers\",\"name\":\"West Ham\",\"orientation\":\"v\",\"showlegend\":true,\"x\":[1.2],\"xaxis\":\"x\",\"y\":[1.8],\"yaxis\":\"y\",\"type\":\"scatter\"}],\"name\":\"34\"},{\"data\":[{\"hovertemplate\":\"Team=Brentford<br>MatchesPlayed=35<br>MovingAverageFor=%{x}<br>MovingAverageAgainst=%{y}<extra></extra>\",\"legendgroup\":\"Brentford\",\"marker\":{\"color\":\"#636efa\",\"symbol\":\"circle\"},\"mode\":\"markers\",\"name\":\"Brentford\",\"orientation\":\"v\",\"showlegend\":true,\"x\":[1.8],\"xaxis\":\"x\",\"y\":[1.6],\"yaxis\":\"y\",\"type\":\"scatter\"},{\"hovertemplate\":\"Team=Man United<br>MatchesPlayed=35<br>MovingAverageFor=%{x}<br>MovingAverageAgainst=%{y}<extra></extra>\",\"legendgroup\":\"Man United\",\"marker\":{\"color\":\"#EF553B\",\"symbol\":\"circle\"},\"mode\":\"markers\",\"name\":\"Man United\",\"orientation\":\"v\",\"showlegend\":true,\"x\":[1.2],\"xaxis\":\"x\",\"y\":[2.4],\"yaxis\":\"y\",\"type\":\"scatter\"},{\"hovertemplate\":\"Team=Burnley<br>MatchesPlayed=35<br>MovingAverageFor=%{x}<br>MovingAverageAgainst=%{y}<extra></extra>\",\"legendgroup\":\"Burnley\",\"marker\":{\"color\":\"#00cc96\",\"symbol\":\"circle\"},\"mode\":\"markers\",\"name\":\"Burnley\",\"orientation\":\"v\",\"showlegend\":true,\"x\":[1.0],\"xaxis\":\"x\",\"y\":[1.2],\"yaxis\":\"y\",\"type\":\"scatter\"},{\"hovertemplate\":\"Team=Chelsea<br>MatchesPlayed=35<br>MovingAverageFor=%{x}<br>MovingAverageAgainst=%{y}<extra></extra>\",\"legendgroup\":\"Chelsea\",\"marker\":{\"color\":\"#ab63fa\",\"symbol\":\"circle\"},\"mode\":\"markers\",\"name\":\"Chelsea\",\"orientation\":\"v\",\"showlegend\":true,\"x\":[3.0],\"xaxis\":\"x\",\"y\":[0.4],\"yaxis\":\"y\",\"type\":\"scatter\"},{\"hovertemplate\":\"Team=Everton<br>MatchesPlayed=35<br>MovingAverageFor=%{x}<br>MovingAverageAgainst=%{y}<extra></extra>\",\"legendgroup\":\"Everton\",\"marker\":{\"color\":\"#FFA15A\",\"symbol\":\"circle\"},\"mode\":\"markers\",\"name\":\"Everton\",\"orientation\":\"v\",\"showlegend\":true,\"x\":[0.6],\"xaxis\":\"x\",\"y\":[2.8],\"yaxis\":\"y\",\"type\":\"scatter\"},{\"hovertemplate\":\"Team=Leicester<br>MatchesPlayed=35<br>MovingAverageFor=%{x}<br>MovingAverageAgainst=%{y}<extra></extra>\",\"legendgroup\":\"Leicester\",\"marker\":{\"color\":\"#19d3f3\",\"symbol\":\"circle\"},\"mode\":\"markers\",\"name\":\"Leicester\",\"orientation\":\"v\",\"showlegend\":true,\"x\":[1.0],\"xaxis\":\"x\",\"y\":[1.2],\"yaxis\":\"y\",\"type\":\"scatter\"},{\"hovertemplate\":\"Team=Watford<br>MatchesPlayed=35<br>MovingAverageFor=%{x}<br>MovingAverageAgainst=%{y}<extra></extra>\",\"legendgroup\":\"Watford\",\"marker\":{\"color\":\"#FF6692\",\"symbol\":\"circle\"},\"mode\":\"markers\",\"name\":\"Watford\",\"orientation\":\"v\",\"showlegend\":true,\"x\":[0.6],\"xaxis\":\"x\",\"y\":[1.4],\"yaxis\":\"y\",\"type\":\"scatter\"},{\"hovertemplate\":\"Team=Norwich<br>MatchesPlayed=35<br>MovingAverageFor=%{x}<br>MovingAverageAgainst=%{y}<extra></extra>\",\"legendgroup\":\"Norwich\",\"marker\":{\"color\":\"#B6E880\",\"symbol\":\"circle\"},\"mode\":\"markers\",\"name\":\"Norwich\",\"orientation\":\"v\",\"showlegend\":true,\"x\":[0.8],\"xaxis\":\"x\",\"y\":[2.0],\"yaxis\":\"y\",\"type\":\"scatter\"},{\"hovertemplate\":\"Team=Newcastle<br>MatchesPlayed=35<br>MovingAverageFor=%{x}<br>MovingAverageAgainst=%{y}<extra></extra>\",\"legendgroup\":\"Newcastle\",\"marker\":{\"color\":\"#FF97FF\",\"symbol\":\"circle\"},\"mode\":\"markers\",\"name\":\"Newcastle\",\"orientation\":\"v\",\"showlegend\":true,\"x\":[1.0],\"xaxis\":\"x\",\"y\":[1.6],\"yaxis\":\"y\",\"type\":\"scatter\"},{\"hovertemplate\":\"Team=Tottenham<br>MatchesPlayed=35<br>MovingAverageFor=%{x}<br>MovingAverageAgainst=%{y}<extra></extra>\",\"legendgroup\":\"Tottenham\",\"marker\":{\"color\":\"#FECB52\",\"symbol\":\"circle\"},\"mode\":\"markers\",\"name\":\"Tottenham\",\"orientation\":\"v\",\"showlegend\":true,\"x\":[2.4],\"xaxis\":\"x\",\"y\":[0.8],\"yaxis\":\"y\",\"type\":\"scatter\"},{\"hovertemplate\":\"Team=Liverpool<br>MatchesPlayed=35<br>MovingAverageFor=%{x}<br>MovingAverageAgainst=%{y}<extra></extra>\",\"legendgroup\":\"Liverpool\",\"marker\":{\"color\":\"#636efa\",\"symbol\":\"circle\"},\"mode\":\"markers\",\"name\":\"Liverpool\",\"orientation\":\"v\",\"showlegend\":true,\"x\":[2.0],\"xaxis\":\"x\",\"y\":[0.6],\"yaxis\":\"y\",\"type\":\"scatter\"},{\"hovertemplate\":\"Team=Aston Villa<br>MatchesPlayed=35<br>MovingAverageFor=%{x}<br>MovingAverageAgainst=%{y}<extra></extra>\",\"legendgroup\":\"Aston Villa\",\"marker\":{\"color\":\"#EF553B\",\"symbol\":\"circle\"},\"mode\":\"markers\",\"name\":\"Aston Villa\",\"orientation\":\"v\",\"showlegend\":true,\"x\":[1.4],\"xaxis\":\"x\",\"y\":[1.0],\"yaxis\":\"y\",\"type\":\"scatter\"},{\"hovertemplate\":\"Team=Crystal Palace<br>MatchesPlayed=35<br>MovingAverageFor=%{x}<br>MovingAverageAgainst=%{y}<extra></extra>\",\"legendgroup\":\"Crystal Palace\",\"marker\":{\"color\":\"#00cc96\",\"symbol\":\"circle\"},\"mode\":\"markers\",\"name\":\"Crystal Palace\",\"orientation\":\"v\",\"showlegend\":true,\"x\":[1.4],\"xaxis\":\"x\",\"y\":[0.8],\"yaxis\":\"y\",\"type\":\"scatter\"},{\"hovertemplate\":\"Team=Leeds<br>MatchesPlayed=35<br>MovingAverageFor=%{x}<br>MovingAverageAgainst=%{y}<extra></extra>\",\"legendgroup\":\"Leeds\",\"marker\":{\"color\":\"#ab63fa\",\"symbol\":\"circle\"},\"mode\":\"markers\",\"name\":\"Leeds\",\"orientation\":\"v\",\"showlegend\":true,\"x\":[1.2],\"xaxis\":\"x\",\"y\":[2.4],\"yaxis\":\"y\",\"type\":\"scatter\"},{\"hovertemplate\":\"Team=Man City<br>MatchesPlayed=35<br>MovingAverageFor=%{x}<br>MovingAverageAgainst=%{y}<extra></extra>\",\"legendgroup\":\"Man City\",\"marker\":{\"color\":\"#FFA15A\",\"symbol\":\"circle\"},\"mode\":\"markers\",\"name\":\"Man City\",\"orientation\":\"v\",\"showlegend\":true,\"x\":[1.6],\"xaxis\":\"x\",\"y\":[0.2],\"yaxis\":\"y\",\"type\":\"scatter\"},{\"hovertemplate\":\"Team=Brighton<br>MatchesPlayed=35<br>MovingAverageFor=%{x}<br>MovingAverageAgainst=%{y}<extra></extra>\",\"legendgroup\":\"Brighton\",\"marker\":{\"color\":\"#19d3f3\",\"symbol\":\"circle\"},\"mode\":\"markers\",\"name\":\"Brighton\",\"orientation\":\"v\",\"showlegend\":true,\"x\":[1.2],\"xaxis\":\"x\",\"y\":[1.0],\"yaxis\":\"y\",\"type\":\"scatter\"},{\"hovertemplate\":\"Team=Southampton<br>MatchesPlayed=35<br>MovingAverageFor=%{x}<br>MovingAverageAgainst=%{y}<extra></extra>\",\"legendgroup\":\"Southampton\",\"marker\":{\"color\":\"#FF6692\",\"symbol\":\"circle\"},\"mode\":\"markers\",\"name\":\"Southampton\",\"orientation\":\"v\",\"showlegend\":true,\"x\":[1.0],\"xaxis\":\"x\",\"y\":[2.0],\"yaxis\":\"y\",\"type\":\"scatter\"},{\"hovertemplate\":\"Team=Wolves<br>MatchesPlayed=35<br>MovingAverageFor=%{x}<br>MovingAverageAgainst=%{y}<extra></extra>\",\"legendgroup\":\"Wolves\",\"marker\":{\"color\":\"#B6E880\",\"symbol\":\"circle\"},\"mode\":\"markers\",\"name\":\"Wolves\",\"orientation\":\"v\",\"showlegend\":true,\"x\":[0.8],\"xaxis\":\"x\",\"y\":[0.8],\"yaxis\":\"y\",\"type\":\"scatter\"},{\"hovertemplate\":\"Team=Arsenal<br>MatchesPlayed=35<br>MovingAverageFor=%{x}<br>MovingAverageAgainst=%{y}<extra></extra>\",\"legendgroup\":\"Arsenal\",\"marker\":{\"color\":\"#FF97FF\",\"symbol\":\"circle\"},\"mode\":\"markers\",\"name\":\"Arsenal\",\"orientation\":\"v\",\"showlegend\":true,\"x\":[1.6],\"xaxis\":\"x\",\"y\":[1.6],\"yaxis\":\"y\",\"type\":\"scatter\"},{\"hovertemplate\":\"Team=West Ham<br>MatchesPlayed=35<br>MovingAverageFor=%{x}<br>MovingAverageAgainst=%{y}<extra></extra>\",\"legendgroup\":\"West Ham\",\"marker\":{\"color\":\"#FECB52\",\"symbol\":\"circle\"},\"mode\":\"markers\",\"name\":\"West Ham\",\"orientation\":\"v\",\"showlegend\":true,\"x\":[0.6],\"xaxis\":\"x\",\"y\":[1.8],\"yaxis\":\"y\",\"type\":\"scatter\"}],\"name\":\"35\"},{\"data\":[{\"hovertemplate\":\"Team=Brentford<br>MatchesPlayed=36<br>MovingAverageFor=%{x}<br>MovingAverageAgainst=%{y}<extra></extra>\",\"legendgroup\":\"Brentford\",\"marker\":{\"color\":\"#636efa\",\"symbol\":\"circle\"},\"mode\":\"markers\",\"name\":\"Brentford\",\"orientation\":\"v\",\"showlegend\":true,\"x\":[2.2],\"xaxis\":\"x\",\"y\":[1.4],\"yaxis\":\"y\",\"type\":\"scatter\"},{\"hovertemplate\":\"Team=Man United<br>MatchesPlayed=36<br>MovingAverageFor=%{x}<br>MovingAverageAgainst=%{y}<extra></extra>\",\"legendgroup\":\"Man United\",\"marker\":{\"color\":\"#EF553B\",\"symbol\":\"circle\"},\"mode\":\"markers\",\"name\":\"Man United\",\"orientation\":\"v\",\"showlegend\":true,\"x\":[1.2],\"xaxis\":\"x\",\"y\":[2.8],\"yaxis\":\"y\",\"type\":\"scatter\"},{\"hovertemplate\":\"Team=Burnley<br>MatchesPlayed=36<br>MovingAverageFor=%{x}<br>MovingAverageAgainst=%{y}<extra></extra>\",\"legendgroup\":\"Burnley\",\"marker\":{\"color\":\"#00cc96\",\"symbol\":\"circle\"},\"mode\":\"markers\",\"name\":\"Burnley\",\"orientation\":\"v\",\"showlegend\":true,\"x\":[0.8],\"xaxis\":\"x\",\"y\":[1.4],\"yaxis\":\"y\",\"type\":\"scatter\"},{\"hovertemplate\":\"Team=Chelsea<br>MatchesPlayed=36<br>MovingAverageFor=%{x}<br>MovingAverageAgainst=%{y}<extra></extra>\",\"legendgroup\":\"Chelsea\",\"marker\":{\"color\":\"#ab63fa\",\"symbol\":\"circle\"},\"mode\":\"markers\",\"name\":\"Chelsea\",\"orientation\":\"v\",\"showlegend\":true,\"x\":[3.0],\"xaxis\":\"x\",\"y\":[0.4],\"yaxis\":\"y\",\"type\":\"scatter\"},{\"hovertemplate\":\"Team=Everton<br>MatchesPlayed=36<br>MovingAverageFor=%{x}<br>MovingAverageAgainst=%{y}<extra></extra>\",\"legendgroup\":\"Everton\",\"marker\":{\"color\":\"#FFA15A\",\"symbol\":\"circle\"},\"mode\":\"markers\",\"name\":\"Everton\",\"orientation\":\"v\",\"showlegend\":true,\"x\":[1.0],\"xaxis\":\"x\",\"y\":[2.6],\"yaxis\":\"y\",\"type\":\"scatter\"},{\"hovertemplate\":\"Team=Leicester<br>MatchesPlayed=36<br>MovingAverageFor=%{x}<br>MovingAverageAgainst=%{y}<extra></extra>\",\"legendgroup\":\"Leicester\",\"marker\":{\"color\":\"#19d3f3\",\"symbol\":\"circle\"},\"mode\":\"markers\",\"name\":\"Leicester\",\"orientation\":\"v\",\"showlegend\":true,\"x\":[0.8],\"xaxis\":\"x\",\"y\":[1.8],\"yaxis\":\"y\",\"type\":\"scatter\"},{\"hovertemplate\":\"Team=Watford<br>MatchesPlayed=36<br>MovingAverageFor=%{x}<br>MovingAverageAgainst=%{y}<extra></extra>\",\"legendgroup\":\"Watford\",\"marker\":{\"color\":\"#FF6692\",\"symbol\":\"circle\"},\"mode\":\"markers\",\"name\":\"Watford\",\"orientation\":\"v\",\"showlegend\":true,\"x\":[0.6],\"xaxis\":\"x\",\"y\":[2.4],\"yaxis\":\"y\",\"type\":\"scatter\"},{\"hovertemplate\":\"Team=Norwich<br>MatchesPlayed=36<br>MovingAverageFor=%{x}<br>MovingAverageAgainst=%{y}<extra></extra>\",\"legendgroup\":\"Norwich\",\"marker\":{\"color\":\"#B6E880\",\"symbol\":\"circle\"},\"mode\":\"markers\",\"name\":\"Norwich\",\"orientation\":\"v\",\"showlegend\":true,\"x\":[0.6],\"xaxis\":\"x\",\"y\":[1.8],\"yaxis\":\"y\",\"type\":\"scatter\"},{\"hovertemplate\":\"Team=Newcastle<br>MatchesPlayed=36<br>MovingAverageFor=%{x}<br>MovingAverageAgainst=%{y}<extra></extra>\",\"legendgroup\":\"Newcastle\",\"marker\":{\"color\":\"#FF97FF\",\"symbol\":\"circle\"},\"mode\":\"markers\",\"name\":\"Newcastle\",\"orientation\":\"v\",\"showlegend\":true,\"x\":[1.2],\"xaxis\":\"x\",\"y\":[1.6],\"yaxis\":\"y\",\"type\":\"scatter\"},{\"hovertemplate\":\"Team=Tottenham<br>MatchesPlayed=36<br>MovingAverageFor=%{x}<br>MovingAverageAgainst=%{y}<extra></extra>\",\"legendgroup\":\"Tottenham\",\"marker\":{\"color\":\"#FECB52\",\"symbol\":\"circle\"},\"mode\":\"markers\",\"name\":\"Tottenham\",\"orientation\":\"v\",\"showlegend\":true,\"x\":[2.4],\"xaxis\":\"x\",\"y\":[0.6],\"yaxis\":\"y\",\"type\":\"scatter\"},{\"hovertemplate\":\"Team=Liverpool<br>MatchesPlayed=36<br>MovingAverageFor=%{x}<br>MovingAverageAgainst=%{y}<extra></extra>\",\"legendgroup\":\"Liverpool\",\"marker\":{\"color\":\"#636efa\",\"symbol\":\"circle\"},\"mode\":\"markers\",\"name\":\"Liverpool\",\"orientation\":\"v\",\"showlegend\":true,\"x\":[1.6],\"xaxis\":\"x\",\"y\":[0.4],\"yaxis\":\"y\",\"type\":\"scatter\"},{\"hovertemplate\":\"Team=Aston Villa<br>MatchesPlayed=36<br>MovingAverageFor=%{x}<br>MovingAverageAgainst=%{y}<extra></extra>\",\"legendgroup\":\"Aston Villa\",\"marker\":{\"color\":\"#EF553B\",\"symbol\":\"circle\"},\"mode\":\"markers\",\"name\":\"Aston Villa\",\"orientation\":\"v\",\"showlegend\":true,\"x\":[1.4],\"xaxis\":\"x\",\"y\":[0.8],\"yaxis\":\"y\",\"type\":\"scatter\"},{\"hovertemplate\":\"Team=Crystal Palace<br>MatchesPlayed=36<br>MovingAverageFor=%{x}<br>MovingAverageAgainst=%{y}<extra></extra>\",\"legendgroup\":\"Crystal Palace\",\"marker\":{\"color\":\"#00cc96\",\"symbol\":\"circle\"},\"mode\":\"markers\",\"name\":\"Crystal Palace\",\"orientation\":\"v\",\"showlegend\":true,\"x\":[1.8],\"xaxis\":\"x\",\"y\":[1.0],\"yaxis\":\"y\",\"type\":\"scatter\"},{\"hovertemplate\":\"Team=Leeds<br>MatchesPlayed=36<br>MovingAverageFor=%{x}<br>MovingAverageAgainst=%{y}<extra></extra>\",\"legendgroup\":\"Leeds\",\"marker\":{\"color\":\"#ab63fa\",\"symbol\":\"circle\"},\"mode\":\"markers\",\"name\":\"Leeds\",\"orientation\":\"v\",\"showlegend\":true,\"x\":[1.2],\"xaxis\":\"x\",\"y\":[1.8],\"yaxis\":\"y\",\"type\":\"scatter\"},{\"hovertemplate\":\"Team=Man City<br>MatchesPlayed=36<br>MovingAverageFor=%{x}<br>MovingAverageAgainst=%{y}<extra></extra>\",\"legendgroup\":\"Man City\",\"marker\":{\"color\":\"#FFA15A\",\"symbol\":\"circle\"},\"mode\":\"markers\",\"name\":\"Man City\",\"orientation\":\"v\",\"showlegend\":true,\"x\":[2.2],\"xaxis\":\"x\",\"y\":[0.0],\"yaxis\":\"y\",\"type\":\"scatter\"},{\"hovertemplate\":\"Team=Brighton<br>MatchesPlayed=36<br>MovingAverageFor=%{x}<br>MovingAverageAgainst=%{y}<extra></extra>\",\"legendgroup\":\"Brighton\",\"marker\":{\"color\":\"#19d3f3\",\"symbol\":\"circle\"},\"mode\":\"markers\",\"name\":\"Brighton\",\"orientation\":\"v\",\"showlegend\":true,\"x\":[0.8],\"xaxis\":\"x\",\"y\":[1.6],\"yaxis\":\"y\",\"type\":\"scatter\"},{\"hovertemplate\":\"Team=Southampton<br>MatchesPlayed=36<br>MovingAverageFor=%{x}<br>MovingAverageAgainst=%{y}<extra></extra>\",\"legendgroup\":\"Southampton\",\"marker\":{\"color\":\"#FF6692\",\"symbol\":\"circle\"},\"mode\":\"markers\",\"name\":\"Southampton\",\"orientation\":\"v\",\"showlegend\":true,\"x\":[0.8],\"xaxis\":\"x\",\"y\":[2.0],\"yaxis\":\"y\",\"type\":\"scatter\"},{\"hovertemplate\":\"Team=Wolves<br>MatchesPlayed=36<br>MovingAverageFor=%{x}<br>MovingAverageAgainst=%{y}<extra></extra>\",\"legendgroup\":\"Wolves\",\"marker\":{\"color\":\"#B6E880\",\"symbol\":\"circle\"},\"mode\":\"markers\",\"name\":\"Wolves\",\"orientation\":\"v\",\"showlegend\":true,\"x\":[0.4],\"xaxis\":\"x\",\"y\":[1.0],\"yaxis\":\"y\",\"type\":\"scatter\"},{\"hovertemplate\":\"Team=Arsenal<br>MatchesPlayed=36<br>MovingAverageFor=%{x}<br>MovingAverageAgainst=%{y}<extra></extra>\",\"legendgroup\":\"Arsenal\",\"marker\":{\"color\":\"#FF97FF\",\"symbol\":\"circle\"},\"mode\":\"markers\",\"name\":\"Arsenal\",\"orientation\":\"v\",\"showlegend\":true,\"x\":[1.4],\"xaxis\":\"x\",\"y\":[1.4],\"yaxis\":\"y\",\"type\":\"scatter\"},{\"hovertemplate\":\"Team=West Ham<br>MatchesPlayed=36<br>MovingAverageFor=%{x}<br>MovingAverageAgainst=%{y}<extra></extra>\",\"legendgroup\":\"West Ham\",\"marker\":{\"color\":\"#FECB52\",\"symbol\":\"circle\"},\"mode\":\"markers\",\"name\":\"West Ham\",\"orientation\":\"v\",\"showlegend\":true,\"x\":[0.6],\"xaxis\":\"x\",\"y\":[1.8],\"yaxis\":\"y\",\"type\":\"scatter\"}],\"name\":\"36\"},{\"data\":[{\"hovertemplate\":\"Team=Brentford<br>MatchesPlayed=37<br>MovingAverageFor=%{x}<br>MovingAverageAgainst=%{y}<extra></extra>\",\"legendgroup\":\"Brentford\",\"marker\":{\"color\":\"#636efa\",\"symbol\":\"circle\"},\"mode\":\"markers\",\"name\":\"Brentford\",\"orientation\":\"v\",\"showlegend\":true,\"x\":[2.0],\"xaxis\":\"x\",\"y\":[1.6],\"yaxis\":\"y\",\"type\":\"scatter\"},{\"hovertemplate\":\"Team=Man United<br>MatchesPlayed=37<br>MovingAverageFor=%{x}<br>MovingAverageAgainst=%{y}<extra></extra>\",\"legendgroup\":\"Man United\",\"marker\":{\"color\":\"#EF553B\",\"symbol\":\"circle\"},\"mode\":\"markers\",\"name\":\"Man United\",\"orientation\":\"v\",\"showlegend\":true,\"x\":[0.4],\"xaxis\":\"x\",\"y\":[3.2],\"yaxis\":\"y\",\"type\":\"scatter\"},{\"hovertemplate\":\"Team=Burnley<br>MatchesPlayed=37<br>MovingAverageFor=%{x}<br>MovingAverageAgainst=%{y}<extra></extra>\",\"legendgroup\":\"Burnley\",\"marker\":{\"color\":\"#00cc96\",\"symbol\":\"circle\"},\"mode\":\"markers\",\"name\":\"Burnley\",\"orientation\":\"v\",\"showlegend\":true,\"x\":[0.6],\"xaxis\":\"x\",\"y\":[1.4],\"yaxis\":\"y\",\"type\":\"scatter\"},{\"hovertemplate\":\"Team=Chelsea<br>MatchesPlayed=37<br>MovingAverageFor=%{x}<br>MovingAverageAgainst=%{y}<extra></extra>\",\"legendgroup\":\"Chelsea\",\"marker\":{\"color\":\"#ab63fa\",\"symbol\":\"circle\"},\"mode\":\"markers\",\"name\":\"Chelsea\",\"orientation\":\"v\",\"showlegend\":true,\"x\":[2.8],\"xaxis\":\"x\",\"y\":[0.6],\"yaxis\":\"y\",\"type\":\"scatter\"},{\"hovertemplate\":\"Team=Everton<br>MatchesPlayed=37<br>MovingAverageFor=%{x}<br>MovingAverageAgainst=%{y}<extra></extra>\",\"legendgroup\":\"Everton\",\"marker\":{\"color\":\"#FFA15A\",\"symbol\":\"circle\"},\"mode\":\"markers\",\"name\":\"Everton\",\"orientation\":\"v\",\"showlegend\":true,\"x\":[1.0],\"xaxis\":\"x\",\"y\":[1.6],\"yaxis\":\"y\",\"type\":\"scatter\"},{\"hovertemplate\":\"Team=Leicester<br>MatchesPlayed=37<br>MovingAverageFor=%{x}<br>MovingAverageAgainst=%{y}<extra></extra>\",\"legendgroup\":\"Leicester\",\"marker\":{\"color\":\"#19d3f3\",\"symbol\":\"circle\"},\"mode\":\"markers\",\"name\":\"Leicester\",\"orientation\":\"v\",\"showlegend\":true,\"x\":[1.8],\"xaxis\":\"x\",\"y\":[1.6],\"yaxis\":\"y\",\"type\":\"scatter\"},{\"hovertemplate\":\"Team=Watford<br>MatchesPlayed=37<br>MovingAverageFor=%{x}<br>MovingAverageAgainst=%{y}<extra></extra>\",\"legendgroup\":\"Watford\",\"marker\":{\"color\":\"#FF6692\",\"symbol\":\"circle\"},\"mode\":\"markers\",\"name\":\"Watford\",\"orientation\":\"v\",\"showlegend\":true,\"x\":[0.6],\"xaxis\":\"x\",\"y\":[2.6],\"yaxis\":\"y\",\"type\":\"scatter\"},{\"hovertemplate\":\"Team=Norwich<br>MatchesPlayed=37<br>MovingAverageFor=%{x}<br>MovingAverageAgainst=%{y}<extra></extra>\",\"legendgroup\":\"Norwich\",\"marker\":{\"color\":\"#B6E880\",\"symbol\":\"circle\"},\"mode\":\"markers\",\"name\":\"Norwich\",\"orientation\":\"v\",\"showlegend\":true,\"x\":[0.6],\"xaxis\":\"x\",\"y\":[2.0],\"yaxis\":\"y\",\"type\":\"scatter\"},{\"hovertemplate\":\"Team=Newcastle<br>MatchesPlayed=37<br>MovingAverageFor=%{x}<br>MovingAverageAgainst=%{y}<extra></extra>\",\"legendgroup\":\"Newcastle\",\"marker\":{\"color\":\"#FF97FF\",\"symbol\":\"circle\"},\"mode\":\"markers\",\"name\":\"Newcastle\",\"orientation\":\"v\",\"showlegend\":true,\"x\":[0.8],\"xaxis\":\"x\",\"y\":[2.4],\"yaxis\":\"y\",\"type\":\"scatter\"},{\"hovertemplate\":\"Team=Tottenham<br>MatchesPlayed=37<br>MovingAverageFor=%{x}<br>MovingAverageAgainst=%{y}<extra></extra>\",\"legendgroup\":\"Tottenham\",\"marker\":{\"color\":\"#FECB52\",\"symbol\":\"circle\"},\"mode\":\"markers\",\"name\":\"Tottenham\",\"orientation\":\"v\",\"showlegend\":true,\"x\":[1.8],\"xaxis\":\"x\",\"y\":[0.8],\"yaxis\":\"y\",\"type\":\"scatter\"},{\"hovertemplate\":\"Team=Liverpool<br>MatchesPlayed=37<br>MovingAverageFor=%{x}<br>MovingAverageAgainst=%{y}<extra></extra>\",\"legendgroup\":\"Liverpool\",\"marker\":{\"color\":\"#636efa\",\"symbol\":\"circle\"},\"mode\":\"markers\",\"name\":\"Liverpool\",\"orientation\":\"v\",\"showlegend\":true,\"x\":[1.8],\"xaxis\":\"x\",\"y\":[0.6],\"yaxis\":\"y\",\"type\":\"scatter\"},{\"hovertemplate\":\"Team=Aston Villa<br>MatchesPlayed=37<br>MovingAverageFor=%{x}<br>MovingAverageAgainst=%{y}<extra></extra>\",\"legendgroup\":\"Aston Villa\",\"marker\":{\"color\":\"#EF553B\",\"symbol\":\"circle\"},\"mode\":\"markers\",\"name\":\"Aston Villa\",\"orientation\":\"v\",\"showlegend\":true,\"x\":[1.6],\"xaxis\":\"x\",\"y\":[1.0],\"yaxis\":\"y\",\"type\":\"scatter\"},{\"hovertemplate\":\"Team=Crystal Palace<br>MatchesPlayed=37<br>MovingAverageFor=%{x}<br>MovingAverageAgainst=%{y}<extra></extra>\",\"legendgroup\":\"Crystal Palace\",\"marker\":{\"color\":\"#00cc96\",\"symbol\":\"circle\"},\"mode\":\"markers\",\"name\":\"Crystal Palace\",\"orientation\":\"v\",\"showlegend\":true,\"x\":[1.2],\"xaxis\":\"x\",\"y\":[1.0],\"yaxis\":\"y\",\"type\":\"scatter\"},{\"hovertemplate\":\"Team=Leeds<br>MatchesPlayed=37<br>MovingAverageFor=%{x}<br>MovingAverageAgainst=%{y}<extra></extra>\",\"legendgroup\":\"Leeds\",\"marker\":{\"color\":\"#ab63fa\",\"symbol\":\"circle\"},\"mode\":\"markers\",\"name\":\"Leeds\",\"orientation\":\"v\",\"showlegend\":true,\"x\":[1.4],\"xaxis\":\"x\",\"y\":[1.0],\"yaxis\":\"y\",\"type\":\"scatter\"},{\"hovertemplate\":\"Team=Man City<br>MatchesPlayed=37<br>MovingAverageFor=%{x}<br>MovingAverageAgainst=%{y}<extra></extra>\",\"legendgroup\":\"Man City\",\"marker\":{\"color\":\"#FFA15A\",\"symbol\":\"circle\"},\"mode\":\"markers\",\"name\":\"Man City\",\"orientation\":\"v\",\"showlegend\":true,\"x\":[2.4],\"xaxis\":\"x\",\"y\":[0.2],\"yaxis\":\"y\",\"type\":\"scatter\"},{\"hovertemplate\":\"Team=Brighton<br>MatchesPlayed=37<br>MovingAverageFor=%{x}<br>MovingAverageAgainst=%{y}<extra></extra>\",\"legendgroup\":\"Brighton\",\"marker\":{\"color\":\"#19d3f3\",\"symbol\":\"circle\"},\"mode\":\"markers\",\"name\":\"Brighton\",\"orientation\":\"v\",\"showlegend\":true,\"x\":[1.4],\"xaxis\":\"x\",\"y\":[1.2],\"yaxis\":\"y\",\"type\":\"scatter\"},{\"hovertemplate\":\"Team=Southampton<br>MatchesPlayed=37<br>MovingAverageFor=%{x}<br>MovingAverageAgainst=%{y}<extra></extra>\",\"legendgroup\":\"Southampton\",\"marker\":{\"color\":\"#FF6692\",\"symbol\":\"circle\"},\"mode\":\"markers\",\"name\":\"Southampton\",\"orientation\":\"v\",\"showlegend\":true,\"x\":[0.6],\"xaxis\":\"x\",\"y\":[2.4],\"yaxis\":\"y\",\"type\":\"scatter\"},{\"hovertemplate\":\"Team=Wolves<br>MatchesPlayed=37<br>MovingAverageFor=%{x}<br>MovingAverageAgainst=%{y}<extra></extra>\",\"legendgroup\":\"Wolves\",\"marker\":{\"color\":\"#B6E880\",\"symbol\":\"circle\"},\"mode\":\"markers\",\"name\":\"Wolves\",\"orientation\":\"v\",\"showlegend\":true,\"x\":[0.6],\"xaxis\":\"x\",\"y\":[1.0],\"yaxis\":\"y\",\"type\":\"scatter\"},{\"hovertemplate\":\"Team=Arsenal<br>MatchesPlayed=37<br>MovingAverageFor=%{x}<br>MovingAverageAgainst=%{y}<extra></extra>\",\"legendgroup\":\"Arsenal\",\"marker\":{\"color\":\"#FF97FF\",\"symbol\":\"circle\"},\"mode\":\"markers\",\"name\":\"Arsenal\",\"orientation\":\"v\",\"showlegend\":true,\"x\":[1.2],\"xaxis\":\"x\",\"y\":[2.0],\"yaxis\":\"y\",\"type\":\"scatter\"},{\"hovertemplate\":\"Team=West Ham<br>MatchesPlayed=37<br>MovingAverageFor=%{x}<br>MovingAverageAgainst=%{y}<extra></extra>\",\"legendgroup\":\"West Ham\",\"marker\":{\"color\":\"#FECB52\",\"symbol\":\"circle\"},\"mode\":\"markers\",\"name\":\"West Ham\",\"orientation\":\"v\",\"showlegend\":true,\"x\":[1.0],\"xaxis\":\"x\",\"y\":[1.4],\"yaxis\":\"y\",\"type\":\"scatter\"}],\"name\":\"37\"},{\"data\":[{\"hovertemplate\":\"Team=Brentford<br>MatchesPlayed=38<br>MovingAverageFor=%{x}<br>MovingAverageAgainst=%{y}<extra></extra>\",\"legendgroup\":\"Brentford\",\"marker\":{\"color\":\"#636efa\",\"symbol\":\"circle\"},\"mode\":\"markers\",\"name\":\"Brentford\",\"orientation\":\"v\",\"showlegend\":true,\"x\":[2.0],\"xaxis\":\"x\",\"y\":[1.8],\"yaxis\":\"y\",\"type\":\"scatter\"},{\"hovertemplate\":\"Team=Man United<br>MatchesPlayed=38<br>MovingAverageFor=%{x}<br>MovingAverageAgainst=%{y}<extra></extra>\",\"legendgroup\":\"Man United\",\"marker\":{\"color\":\"#EF553B\",\"symbol\":\"circle\"},\"mode\":\"markers\",\"name\":\"Man United\",\"orientation\":\"v\",\"showlegend\":true,\"x\":[0.2],\"xaxis\":\"x\",\"y\":[2.6],\"yaxis\":\"y\",\"type\":\"scatter\"},{\"hovertemplate\":\"Team=Burnley<br>MatchesPlayed=38<br>MovingAverageFor=%{x}<br>MovingAverageAgainst=%{y}<extra></extra>\",\"legendgroup\":\"Burnley\",\"marker\":{\"color\":\"#00cc96\",\"symbol\":\"circle\"},\"mode\":\"markers\",\"name\":\"Burnley\",\"orientation\":\"v\",\"showlegend\":true,\"x\":[0.8],\"xaxis\":\"x\",\"y\":[1.2],\"yaxis\":\"y\",\"type\":\"scatter\"},{\"hovertemplate\":\"Team=Chelsea<br>MatchesPlayed=38<br>MovingAverageFor=%{x}<br>MovingAverageAgainst=%{y}<extra></extra>\",\"legendgroup\":\"Chelsea\",\"marker\":{\"color\":\"#ab63fa\",\"symbol\":\"circle\"},\"mode\":\"markers\",\"name\":\"Chelsea\",\"orientation\":\"v\",\"showlegend\":true,\"x\":[2.6],\"xaxis\":\"x\",\"y\":[0.6],\"yaxis\":\"y\",\"type\":\"scatter\"},{\"hovertemplate\":\"Team=Everton<br>MatchesPlayed=38<br>MovingAverageFor=%{x}<br>MovingAverageAgainst=%{y}<extra></extra>\",\"legendgroup\":\"Everton\",\"marker\":{\"color\":\"#FFA15A\",\"symbol\":\"circle\"},\"mode\":\"markers\",\"name\":\"Everton\",\"orientation\":\"v\",\"showlegend\":true,\"x\":[1.0],\"xaxis\":\"x\",\"y\":[2.2],\"yaxis\":\"y\",\"type\":\"scatter\"},{\"hovertemplate\":\"Team=Leicester<br>MatchesPlayed=38<br>MovingAverageFor=%{x}<br>MovingAverageAgainst=%{y}<extra></extra>\",\"legendgroup\":\"Leicester\",\"marker\":{\"color\":\"#19d3f3\",\"symbol\":\"circle\"},\"mode\":\"markers\",\"name\":\"Leicester\",\"orientation\":\"v\",\"showlegend\":true,\"x\":[1.8],\"xaxis\":\"x\",\"y\":[1.6],\"yaxis\":\"y\",\"type\":\"scatter\"},{\"hovertemplate\":\"Team=Watford<br>MatchesPlayed=38<br>MovingAverageFor=%{x}<br>MovingAverageAgainst=%{y}<extra></extra>\",\"legendgroup\":\"Watford\",\"marker\":{\"color\":\"#FF6692\",\"symbol\":\"circle\"},\"mode\":\"markers\",\"name\":\"Watford\",\"orientation\":\"v\",\"showlegend\":true,\"x\":[0.8],\"xaxis\":\"x\",\"y\":[2.2],\"yaxis\":\"y\",\"type\":\"scatter\"},{\"hovertemplate\":\"Team=Norwich<br>MatchesPlayed=38<br>MovingAverageFor=%{x}<br>MovingAverageAgainst=%{y}<extra></extra>\",\"legendgroup\":\"Norwich\",\"marker\":{\"color\":\"#B6E880\",\"symbol\":\"circle\"},\"mode\":\"markers\",\"name\":\"Norwich\",\"orientation\":\"v\",\"showlegend\":true,\"x\":[0.6],\"xaxis\":\"x\",\"y\":[1.8],\"yaxis\":\"y\",\"type\":\"scatter\"},{\"hovertemplate\":\"Team=Newcastle<br>MatchesPlayed=38<br>MovingAverageFor=%{x}<br>MovingAverageAgainst=%{y}<extra></extra>\",\"legendgroup\":\"Newcastle\",\"marker\":{\"color\":\"#FF97FF\",\"symbol\":\"circle\"},\"mode\":\"markers\",\"name\":\"Newcastle\",\"orientation\":\"v\",\"showlegend\":true,\"x\":[1.2],\"xaxis\":\"x\",\"y\":[2.4],\"yaxis\":\"y\",\"type\":\"scatter\"},{\"hovertemplate\":\"Team=Tottenham<br>MatchesPlayed=38<br>MovingAverageFor=%{x}<br>MovingAverageAgainst=%{y}<extra></extra>\",\"legendgroup\":\"Tottenham\",\"marker\":{\"color\":\"#FECB52\",\"symbol\":\"circle\"},\"mode\":\"markers\",\"name\":\"Tottenham\",\"orientation\":\"v\",\"showlegend\":true,\"x\":[2.4],\"xaxis\":\"x\",\"y\":[0.2],\"yaxis\":\"y\",\"type\":\"scatter\"},{\"hovertemplate\":\"Team=Liverpool<br>MatchesPlayed=38<br>MovingAverageFor=%{x}<br>MovingAverageAgainst=%{y}<extra></extra>\",\"legendgroup\":\"Liverpool\",\"marker\":{\"color\":\"#636efa\",\"symbol\":\"circle\"},\"mode\":\"markers\",\"name\":\"Liverpool\",\"orientation\":\"v\",\"showlegend\":true,\"x\":[1.8],\"xaxis\":\"x\",\"y\":[0.8],\"yaxis\":\"y\",\"type\":\"scatter\"},{\"hovertemplate\":\"Team=Aston Villa<br>MatchesPlayed=38<br>MovingAverageFor=%{x}<br>MovingAverageAgainst=%{y}<extra></extra>\",\"legendgroup\":\"Aston Villa\",\"marker\":{\"color\":\"#EF553B\",\"symbol\":\"circle\"},\"mode\":\"markers\",\"name\":\"Aston Villa\",\"orientation\":\"v\",\"showlegend\":true,\"x\":[1.4],\"xaxis\":\"x\",\"y\":[1.6],\"yaxis\":\"y\",\"type\":\"scatter\"},{\"hovertemplate\":\"Team=Crystal Palace<br>MatchesPlayed=38<br>MovingAverageFor=%{x}<br>MovingAverageAgainst=%{y}<extra></extra>\",\"legendgroup\":\"Crystal Palace\",\"marker\":{\"color\":\"#00cc96\",\"symbol\":\"circle\"},\"mode\":\"markers\",\"name\":\"Crystal Palace\",\"orientation\":\"v\",\"showlegend\":true,\"x\":[1.2],\"xaxis\":\"x\",\"y\":[1.6],\"yaxis\":\"y\",\"type\":\"scatter\"},{\"hovertemplate\":\"Team=Leeds<br>MatchesPlayed=38<br>MovingAverageFor=%{x}<br>MovingAverageAgainst=%{y}<extra></extra>\",\"legendgroup\":\"Leeds\",\"marker\":{\"color\":\"#ab63fa\",\"symbol\":\"circle\"},\"mode\":\"markers\",\"name\":\"Leeds\",\"orientation\":\"v\",\"showlegend\":true,\"x\":[1.8],\"xaxis\":\"x\",\"y\":[1.0],\"yaxis\":\"y\",\"type\":\"scatter\"},{\"hovertemplate\":\"Team=Man City<br>MatchesPlayed=38<br>MovingAverageFor=%{x}<br>MovingAverageAgainst=%{y}<extra></extra>\",\"legendgroup\":\"Man City\",\"marker\":{\"color\":\"#FFA15A\",\"symbol\":\"circle\"},\"mode\":\"markers\",\"name\":\"Man City\",\"orientation\":\"v\",\"showlegend\":true,\"x\":[2.6],\"xaxis\":\"x\",\"y\":[0.6],\"yaxis\":\"y\",\"type\":\"scatter\"},{\"hovertemplate\":\"Team=Brighton<br>MatchesPlayed=38<br>MovingAverageFor=%{x}<br>MovingAverageAgainst=%{y}<extra></extra>\",\"legendgroup\":\"Brighton\",\"marker\":{\"color\":\"#19d3f3\",\"symbol\":\"circle\"},\"mode\":\"markers\",\"name\":\"Brighton\",\"orientation\":\"v\",\"showlegend\":true,\"x\":[1.4],\"xaxis\":\"x\",\"y\":[1.0],\"yaxis\":\"y\",\"type\":\"scatter\"},{\"hovertemplate\":\"Team=Southampton<br>MatchesPlayed=38<br>MovingAverageFor=%{x}<br>MovingAverageAgainst=%{y}<extra></extra>\",\"legendgroup\":\"Southampton\",\"marker\":{\"color\":\"#FF6692\",\"symbol\":\"circle\"},\"mode\":\"markers\",\"name\":\"Southampton\",\"orientation\":\"v\",\"showlegend\":true,\"x\":[0.8],\"xaxis\":\"x\",\"y\":[2.4],\"yaxis\":\"y\",\"type\":\"scatter\"},{\"hovertemplate\":\"Team=Wolves<br>MatchesPlayed=38<br>MovingAverageFor=%{x}<br>MovingAverageAgainst=%{y}<extra></extra>\",\"legendgroup\":\"Wolves\",\"marker\":{\"color\":\"#B6E880\",\"symbol\":\"circle\"},\"mode\":\"markers\",\"name\":\"Wolves\",\"orientation\":\"v\",\"showlegend\":true,\"x\":[0.8],\"xaxis\":\"x\",\"y\":[1.4],\"yaxis\":\"y\",\"type\":\"scatter\"},{\"hovertemplate\":\"Team=Arsenal<br>MatchesPlayed=38<br>MovingAverageFor=%{x}<br>MovingAverageAgainst=%{y}<extra></extra>\",\"legendgroup\":\"Arsenal\",\"marker\":{\"color\":\"#FF97FF\",\"symbol\":\"circle\"},\"mode\":\"markers\",\"name\":\"Arsenal\",\"orientation\":\"v\",\"showlegend\":true,\"x\":[1.2],\"xaxis\":\"x\",\"y\":[1.8],\"yaxis\":\"y\",\"type\":\"scatter\"},{\"hovertemplate\":\"Team=West Ham<br>MatchesPlayed=38<br>MovingAverageFor=%{x}<br>MovingAverageAgainst=%{y}<extra></extra>\",\"legendgroup\":\"West Ham\",\"marker\":{\"color\":\"#FECB52\",\"symbol\":\"circle\"},\"mode\":\"markers\",\"name\":\"West Ham\",\"orientation\":\"v\",\"showlegend\":true,\"x\":[1.2],\"xaxis\":\"x\",\"y\":[1.8],\"yaxis\":\"y\",\"type\":\"scatter\"}],\"name\":\"38\"}]);\n",
       "                        }).then(function(){\n",
       "                            \n",
       "var gd = document.getElementById('5ffc59f0-57ef-43e5-96e1-d6db71ac2c26');\n",
       "var x = new MutationObserver(function (mutations, observer) {{\n",
       "        var display = window.getComputedStyle(gd).display;\n",
       "        if (!display || display === 'none') {{\n",
       "            console.log([gd, 'removed!']);\n",
       "            Plotly.purge(gd);\n",
       "            observer.disconnect();\n",
       "        }}\n",
       "}});\n",
       "\n",
       "// Listen for the removal of the full notebook cells\n",
       "var notebookContainer = gd.closest('#notebook-container');\n",
       "if (notebookContainer) {{\n",
       "    x.observe(notebookContainer, {childList: true});\n",
       "}}\n",
       "\n",
       "// Listen for the clearing of the current output cell\n",
       "var outputEl = gd.closest('.output');\n",
       "if (outputEl) {{\n",
       "    x.observe(outputEl, {childList: true});\n",
       "}}\n",
       "\n",
       "                        })                };                });            </script>        </div>"
      ]
     },
     "metadata": {},
     "output_type": "display_data"
    }
   ],
   "source": [
    "fig = px.scatter(data_frame=AllData, color='Team', x='MovingAverageFor', y='MovingAverageAgainst', animation_frame='MatchesPlayed')\n",
    "fig"
   ]
  }
 ],
 "metadata": {
  "kernelspec": {
   "display_name": "Python 3 (ipykernel)",
   "language": "python",
   "name": "python3"
  },
  "language_info": {
   "codemirror_mode": {
    "name": "ipython",
    "version": 3
   },
   "file_extension": ".py",
   "mimetype": "text/x-python",
   "name": "python",
   "nbconvert_exporter": "python",
   "pygments_lexer": "ipython3",
   "version": "3.9.13"
  }
 },
 "nbformat": 4,
 "nbformat_minor": 5
}
