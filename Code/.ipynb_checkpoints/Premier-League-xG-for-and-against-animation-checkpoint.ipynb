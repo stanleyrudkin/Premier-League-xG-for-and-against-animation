{
 "cells": [
  {
   "cell_type": "markdown",
   "id": "4a501945",
   "metadata": {},
   "source": [
    "# Premier League xG for and against animation\n",
    "The aim of this project is to animate Premier League teams' xG for and against over a 5-game rolling average.\n",
    "\n",
    "This [repository](https://github.com/stanleyrudkin/Premier-League-xG-for-and-against-animation.git) has been uploaded to GitHub.\n",
    "\n",
    "The data can be downloaded from [football-data.co.uk](https://www.football-data.co.uk/englandm.php)."
   ]
  },
  {
   "cell_type": "markdown",
   "id": "23f91997",
   "metadata": {},
   "source": [
    "## Set up\n",
    "Import packages."
   ]
  },
  {
   "cell_type": "code",
   "execution_count": 1,
   "id": "ea771c0c",
   "metadata": {},
   "outputs": [],
   "source": [
    "import pandas as pd\n",
    "import plotly.express as px\n",
    "import numpy as np"
   ]
  },
  {
   "cell_type": "markdown",
   "id": "249f39e4",
   "metadata": {},
   "source": [
    "## Load data\n",
    "The data can be downloaded from [football-data.co.uk](https://www.football-data.co.uk/englandm.php)."
   ]
  },
  {
   "cell_type": "code",
   "execution_count": 2,
   "id": "56e1b63b",
   "metadata": {},
   "outputs": [
    {
     "data": {
      "text/html": [
       "<div>\n",
       "<style scoped>\n",
       "    .dataframe tbody tr th:only-of-type {\n",
       "        vertical-align: middle;\n",
       "    }\n",
       "\n",
       "    .dataframe tbody tr th {\n",
       "        vertical-align: top;\n",
       "    }\n",
       "\n",
       "    .dataframe thead th {\n",
       "        text-align: right;\n",
       "    }\n",
       "</style>\n",
       "<table border=\"1\" class=\"dataframe\">\n",
       "  <thead>\n",
       "    <tr style=\"text-align: right;\">\n",
       "      <th></th>\n",
       "      <th>Div</th>\n",
       "      <th>Date</th>\n",
       "      <th>Time</th>\n",
       "      <th>HomeTeam</th>\n",
       "      <th>AwayTeam</th>\n",
       "      <th>FTHG</th>\n",
       "      <th>FTAG</th>\n",
       "      <th>FTR</th>\n",
       "      <th>HTHG</th>\n",
       "      <th>HTAG</th>\n",
       "      <th>...</th>\n",
       "      <th>AvgC&lt;2.5</th>\n",
       "      <th>AHCh</th>\n",
       "      <th>B365CAHH</th>\n",
       "      <th>B365CAHA</th>\n",
       "      <th>PCAHH</th>\n",
       "      <th>PCAHA</th>\n",
       "      <th>MaxCAHH</th>\n",
       "      <th>MaxCAHA</th>\n",
       "      <th>AvgCAHH</th>\n",
       "      <th>AvgCAHA</th>\n",
       "    </tr>\n",
       "  </thead>\n",
       "  <tbody>\n",
       "    <tr>\n",
       "      <th>0</th>\n",
       "      <td>E0</td>\n",
       "      <td>13/08/2021</td>\n",
       "      <td>20:00</td>\n",
       "      <td>Brentford</td>\n",
       "      <td>Arsenal</td>\n",
       "      <td>2</td>\n",
       "      <td>0</td>\n",
       "      <td>H</td>\n",
       "      <td>1</td>\n",
       "      <td>0</td>\n",
       "      <td>...</td>\n",
       "      <td>1.62</td>\n",
       "      <td>0.50</td>\n",
       "      <td>1.75</td>\n",
       "      <td>2.05</td>\n",
       "      <td>1.81</td>\n",
       "      <td>2.13</td>\n",
       "      <td>2.05</td>\n",
       "      <td>2.17</td>\n",
       "      <td>1.80</td>\n",
       "      <td>2.09</td>\n",
       "    </tr>\n",
       "    <tr>\n",
       "      <th>1</th>\n",
       "      <td>E0</td>\n",
       "      <td>14/08/2021</td>\n",
       "      <td>12:30</td>\n",
       "      <td>Man United</td>\n",
       "      <td>Leeds</td>\n",
       "      <td>5</td>\n",
       "      <td>1</td>\n",
       "      <td>H</td>\n",
       "      <td>1</td>\n",
       "      <td>0</td>\n",
       "      <td>...</td>\n",
       "      <td>2.25</td>\n",
       "      <td>-1.00</td>\n",
       "      <td>2.05</td>\n",
       "      <td>1.75</td>\n",
       "      <td>2.17</td>\n",
       "      <td>1.77</td>\n",
       "      <td>2.19</td>\n",
       "      <td>1.93</td>\n",
       "      <td>2.10</td>\n",
       "      <td>1.79</td>\n",
       "    </tr>\n",
       "    <tr>\n",
       "      <th>2</th>\n",
       "      <td>E0</td>\n",
       "      <td>14/08/2021</td>\n",
       "      <td>15:00</td>\n",
       "      <td>Burnley</td>\n",
       "      <td>Brighton</td>\n",
       "      <td>1</td>\n",
       "      <td>2</td>\n",
       "      <td>A</td>\n",
       "      <td>1</td>\n",
       "      <td>0</td>\n",
       "      <td>...</td>\n",
       "      <td>1.62</td>\n",
       "      <td>0.25</td>\n",
       "      <td>1.79</td>\n",
       "      <td>2.15</td>\n",
       "      <td>1.81</td>\n",
       "      <td>2.14</td>\n",
       "      <td>1.82</td>\n",
       "      <td>2.19</td>\n",
       "      <td>1.79</td>\n",
       "      <td>2.12</td>\n",
       "    </tr>\n",
       "    <tr>\n",
       "      <th>3</th>\n",
       "      <td>E0</td>\n",
       "      <td>14/08/2021</td>\n",
       "      <td>15:00</td>\n",
       "      <td>Chelsea</td>\n",
       "      <td>Crystal Palace</td>\n",
       "      <td>3</td>\n",
       "      <td>0</td>\n",
       "      <td>H</td>\n",
       "      <td>2</td>\n",
       "      <td>0</td>\n",
       "      <td>...</td>\n",
       "      <td>1.94</td>\n",
       "      <td>-1.50</td>\n",
       "      <td>2.05</td>\n",
       "      <td>1.75</td>\n",
       "      <td>2.12</td>\n",
       "      <td>1.81</td>\n",
       "      <td>2.16</td>\n",
       "      <td>1.93</td>\n",
       "      <td>2.06</td>\n",
       "      <td>1.82</td>\n",
       "    </tr>\n",
       "    <tr>\n",
       "      <th>4</th>\n",
       "      <td>E0</td>\n",
       "      <td>14/08/2021</td>\n",
       "      <td>15:00</td>\n",
       "      <td>Everton</td>\n",
       "      <td>Southampton</td>\n",
       "      <td>3</td>\n",
       "      <td>1</td>\n",
       "      <td>H</td>\n",
       "      <td>0</td>\n",
       "      <td>1</td>\n",
       "      <td>...</td>\n",
       "      <td>1.67</td>\n",
       "      <td>-0.50</td>\n",
       "      <td>2.05</td>\n",
       "      <td>1.88</td>\n",
       "      <td>2.05</td>\n",
       "      <td>1.88</td>\n",
       "      <td>2.08</td>\n",
       "      <td>1.90</td>\n",
       "      <td>2.03</td>\n",
       "      <td>1.86</td>\n",
       "    </tr>\n",
       "    <tr>\n",
       "      <th>...</th>\n",
       "      <td>...</td>\n",
       "      <td>...</td>\n",
       "      <td>...</td>\n",
       "      <td>...</td>\n",
       "      <td>...</td>\n",
       "      <td>...</td>\n",
       "      <td>...</td>\n",
       "      <td>...</td>\n",
       "      <td>...</td>\n",
       "      <td>...</td>\n",
       "      <td>...</td>\n",
       "      <td>...</td>\n",
       "      <td>...</td>\n",
       "      <td>...</td>\n",
       "      <td>...</td>\n",
       "      <td>...</td>\n",
       "      <td>...</td>\n",
       "      <td>...</td>\n",
       "      <td>...</td>\n",
       "      <td>...</td>\n",
       "      <td>...</td>\n",
       "    </tr>\n",
       "    <tr>\n",
       "      <th>375</th>\n",
       "      <td>E0</td>\n",
       "      <td>22/05/2022</td>\n",
       "      <td>16:00</td>\n",
       "      <td>Crystal Palace</td>\n",
       "      <td>Man United</td>\n",
       "      <td>1</td>\n",
       "      <td>0</td>\n",
       "      <td>H</td>\n",
       "      <td>1</td>\n",
       "      <td>0</td>\n",
       "      <td>...</td>\n",
       "      <td>2.04</td>\n",
       "      <td>0.25</td>\n",
       "      <td>1.68</td>\n",
       "      <td>2.15</td>\n",
       "      <td>1.74</td>\n",
       "      <td>2.23</td>\n",
       "      <td>1.88</td>\n",
       "      <td>2.25</td>\n",
       "      <td>1.74</td>\n",
       "      <td>2.16</td>\n",
       "    </tr>\n",
       "    <tr>\n",
       "      <th>376</th>\n",
       "      <td>E0</td>\n",
       "      <td>22/05/2022</td>\n",
       "      <td>16:00</td>\n",
       "      <td>Leicester</td>\n",
       "      <td>Southampton</td>\n",
       "      <td>4</td>\n",
       "      <td>1</td>\n",
       "      <td>H</td>\n",
       "      <td>0</td>\n",
       "      <td>0</td>\n",
       "      <td>...</td>\n",
       "      <td>2.63</td>\n",
       "      <td>-0.75</td>\n",
       "      <td>1.83</td>\n",
       "      <td>2.07</td>\n",
       "      <td>1.88</td>\n",
       "      <td>2.03</td>\n",
       "      <td>1.94</td>\n",
       "      <td>2.26</td>\n",
       "      <td>1.87</td>\n",
       "      <td>2.01</td>\n",
       "    </tr>\n",
       "    <tr>\n",
       "      <th>377</th>\n",
       "      <td>E0</td>\n",
       "      <td>22/05/2022</td>\n",
       "      <td>16:00</td>\n",
       "      <td>Liverpool</td>\n",
       "      <td>Wolves</td>\n",
       "      <td>3</td>\n",
       "      <td>1</td>\n",
       "      <td>H</td>\n",
       "      <td>1</td>\n",
       "      <td>1</td>\n",
       "      <td>...</td>\n",
       "      <td>3.28</td>\n",
       "      <td>-2.50</td>\n",
       "      <td>2.02</td>\n",
       "      <td>1.77</td>\n",
       "      <td>2.06</td>\n",
       "      <td>1.83</td>\n",
       "      <td>2.19</td>\n",
       "      <td>1.99</td>\n",
       "      <td>2.07</td>\n",
       "      <td>1.80</td>\n",
       "    </tr>\n",
       "    <tr>\n",
       "      <th>378</th>\n",
       "      <td>E0</td>\n",
       "      <td>22/05/2022</td>\n",
       "      <td>16:00</td>\n",
       "      <td>Man City</td>\n",
       "      <td>Aston Villa</td>\n",
       "      <td>3</td>\n",
       "      <td>2</td>\n",
       "      <td>H</td>\n",
       "      <td>0</td>\n",
       "      <td>1</td>\n",
       "      <td>...</td>\n",
       "      <td>3.36</td>\n",
       "      <td>-2.25</td>\n",
       "      <td>2.06</td>\n",
       "      <td>1.84</td>\n",
       "      <td>2.05</td>\n",
       "      <td>1.86</td>\n",
       "      <td>2.09</td>\n",
       "      <td>2.03</td>\n",
       "      <td>2.01</td>\n",
       "      <td>1.87</td>\n",
       "    </tr>\n",
       "    <tr>\n",
       "      <th>379</th>\n",
       "      <td>E0</td>\n",
       "      <td>22/05/2022</td>\n",
       "      <td>16:00</td>\n",
       "      <td>Norwich</td>\n",
       "      <td>Tottenham</td>\n",
       "      <td>0</td>\n",
       "      <td>5</td>\n",
       "      <td>A</td>\n",
       "      <td>0</td>\n",
       "      <td>2</td>\n",
       "      <td>...</td>\n",
       "      <td>2.40</td>\n",
       "      <td>1.50</td>\n",
       "      <td>1.95</td>\n",
       "      <td>1.95</td>\n",
       "      <td>1.96</td>\n",
       "      <td>1.94</td>\n",
       "      <td>2.16</td>\n",
       "      <td>1.98</td>\n",
       "      <td>1.99</td>\n",
       "      <td>1.89</td>\n",
       "    </tr>\n",
       "  </tbody>\n",
       "</table>\n",
       "<p>380 rows × 106 columns</p>\n",
       "</div>"
      ],
      "text/plain": [
       "    Div        Date   Time        HomeTeam        AwayTeam  FTHG  FTAG FTR  \\\n",
       "0    E0  13/08/2021  20:00       Brentford         Arsenal     2     0   H   \n",
       "1    E0  14/08/2021  12:30      Man United           Leeds     5     1   H   \n",
       "2    E0  14/08/2021  15:00         Burnley        Brighton     1     2   A   \n",
       "3    E0  14/08/2021  15:00         Chelsea  Crystal Palace     3     0   H   \n",
       "4    E0  14/08/2021  15:00         Everton     Southampton     3     1   H   \n",
       "..   ..         ...    ...             ...             ...   ...   ...  ..   \n",
       "375  E0  22/05/2022  16:00  Crystal Palace      Man United     1     0   H   \n",
       "376  E0  22/05/2022  16:00       Leicester     Southampton     4     1   H   \n",
       "377  E0  22/05/2022  16:00       Liverpool          Wolves     3     1   H   \n",
       "378  E0  22/05/2022  16:00        Man City     Aston Villa     3     2   H   \n",
       "379  E0  22/05/2022  16:00         Norwich       Tottenham     0     5   A   \n",
       "\n",
       "     HTHG  HTAG  ... AvgC<2.5  AHCh  B365CAHH  B365CAHA  PCAHH  PCAHA  \\\n",
       "0       1     0  ...     1.62  0.50      1.75      2.05   1.81   2.13   \n",
       "1       1     0  ...     2.25 -1.00      2.05      1.75   2.17   1.77   \n",
       "2       1     0  ...     1.62  0.25      1.79      2.15   1.81   2.14   \n",
       "3       2     0  ...     1.94 -1.50      2.05      1.75   2.12   1.81   \n",
       "4       0     1  ...     1.67 -0.50      2.05      1.88   2.05   1.88   \n",
       "..    ...   ...  ...      ...   ...       ...       ...    ...    ...   \n",
       "375     1     0  ...     2.04  0.25      1.68      2.15   1.74   2.23   \n",
       "376     0     0  ...     2.63 -0.75      1.83      2.07   1.88   2.03   \n",
       "377     1     1  ...     3.28 -2.50      2.02      1.77   2.06   1.83   \n",
       "378     0     1  ...     3.36 -2.25      2.06      1.84   2.05   1.86   \n",
       "379     0     2  ...     2.40  1.50      1.95      1.95   1.96   1.94   \n",
       "\n",
       "     MaxCAHH  MaxCAHA  AvgCAHH  AvgCAHA  \n",
       "0       2.05     2.17     1.80     2.09  \n",
       "1       2.19     1.93     2.10     1.79  \n",
       "2       1.82     2.19     1.79     2.12  \n",
       "3       2.16     1.93     2.06     1.82  \n",
       "4       2.08     1.90     2.03     1.86  \n",
       "..       ...      ...      ...      ...  \n",
       "375     1.88     2.25     1.74     2.16  \n",
       "376     1.94     2.26     1.87     2.01  \n",
       "377     2.19     1.99     2.07     1.80  \n",
       "378     2.09     2.03     2.01     1.87  \n",
       "379     2.16     1.98     1.99     1.89  \n",
       "\n",
       "[380 rows x 106 columns]"
      ]
     },
     "execution_count": 2,
     "metadata": {},
     "output_type": "execute_result"
    }
   ],
   "source": [
    "data = pd.read_csv(\"D:\\Data analysis projects\\Premier-League-xG-for-and-against-animation\\Data\\Premier League 2021-22 data.csv\")\n",
    "data"
   ]
  },
  {
   "cell_type": "markdown",
   "id": "de65079b",
   "metadata": {},
   "source": [
    "## Calculate 5-game rolling average of goals for and against\n",
    "I have not yet been able to find xG data by match, so I will settle for actual goals for and against in the meantime."
   ]
  },
  {
   "cell_type": "code",
   "execution_count": 3,
   "id": "204d94dd",
   "metadata": {},
   "outputs": [
    {
     "data": {
      "text/plain": [
       "['Brentford',\n",
       " 'Man United',\n",
       " 'Burnley',\n",
       " 'Chelsea',\n",
       " 'Everton',\n",
       " 'Leicester',\n",
       " 'Watford',\n",
       " 'Norwich',\n",
       " 'Newcastle',\n",
       " 'Tottenham',\n",
       " 'Liverpool',\n",
       " 'Aston Villa',\n",
       " 'Crystal Palace',\n",
       " 'Leeds',\n",
       " 'Man City',\n",
       " 'Brighton',\n",
       " 'Southampton',\n",
       " 'Wolves',\n",
       " 'Arsenal',\n",
       " 'West Ham']"
      ]
     },
     "execution_count": 3,
     "metadata": {},
     "output_type": "execute_result"
    }
   ],
   "source": [
    "# Take a look at the teams\n",
    "data['HomeTeam'].unique().tolist()"
   ]
  },
  {
   "cell_type": "code",
   "execution_count": 7,
   "id": "fc491726",
   "metadata": {},
   "outputs": [
    {
     "data": {
      "text/html": [
       "<div>\n",
       "<style scoped>\n",
       "    .dataframe tbody tr th:only-of-type {\n",
       "        vertical-align: middle;\n",
       "    }\n",
       "\n",
       "    .dataframe tbody tr th {\n",
       "        vertical-align: top;\n",
       "    }\n",
       "\n",
       "    .dataframe thead th {\n",
       "        text-align: right;\n",
       "    }\n",
       "</style>\n",
       "<table border=\"1\" class=\"dataframe\">\n",
       "  <thead>\n",
       "    <tr style=\"text-align: right;\">\n",
       "      <th></th>\n",
       "      <th></th>\n",
       "      <th>Date</th>\n",
       "      <th>HomeOrAway</th>\n",
       "      <th>Opponent</th>\n",
       "      <th>For</th>\n",
       "      <th>Against</th>\n",
       "      <th>Team</th>\n",
       "      <th>MovingAverageFor</th>\n",
       "      <th>MovingAverageAgainst</th>\n",
       "      <th>MatchesPlayed</th>\n",
       "    </tr>\n",
       "  </thead>\n",
       "  <tbody>\n",
       "    <tr>\n",
       "      <th rowspan=\"5\" valign=\"top\">Brentford</th>\n",
       "      <th>87</th>\n",
       "      <td>24/10/2021</td>\n",
       "      <td>Home</td>\n",
       "      <td>Leicester</td>\n",
       "      <td>1</td>\n",
       "      <td>2</td>\n",
       "      <td>Brentford</td>\n",
       "      <td>1.2</td>\n",
       "      <td>1.4</td>\n",
       "      <td>5</td>\n",
       "    </tr>\n",
       "    <tr>\n",
       "      <th>102</th>\n",
       "      <td>06/11/2021</td>\n",
       "      <td>Home</td>\n",
       "      <td>Norwich</td>\n",
       "      <td>1</td>\n",
       "      <td>2</td>\n",
       "      <td>Brentford</td>\n",
       "      <td>1.0</td>\n",
       "      <td>1.8</td>\n",
       "      <td>6</td>\n",
       "    </tr>\n",
       "    <tr>\n",
       "      <th>125</th>\n",
       "      <td>28/11/2021</td>\n",
       "      <td>Home</td>\n",
       "      <td>Everton</td>\n",
       "      <td>1</td>\n",
       "      <td>0</td>\n",
       "      <td>Brentford</td>\n",
       "      <td>1.2</td>\n",
       "      <td>1.6</td>\n",
       "      <td>7</td>\n",
       "    </tr>\n",
       "    <tr>\n",
       "      <th>149</th>\n",
       "      <td>10/12/2021</td>\n",
       "      <td>Home</td>\n",
       "      <td>Watford</td>\n",
       "      <td>2</td>\n",
       "      <td>1</td>\n",
       "      <td>Brentford</td>\n",
       "      <td>1.0</td>\n",
       "      <td>1.2</td>\n",
       "      <td>8</td>\n",
       "    </tr>\n",
       "    <tr>\n",
       "      <th>181</th>\n",
       "      <td>29/12/2021</td>\n",
       "      <td>Home</td>\n",
       "      <td>Man City</td>\n",
       "      <td>0</td>\n",
       "      <td>1</td>\n",
       "      <td>Brentford</td>\n",
       "      <td>1.0</td>\n",
       "      <td>1.2</td>\n",
       "      <td>9</td>\n",
       "    </tr>\n",
       "    <tr>\n",
       "      <th>...</th>\n",
       "      <th>...</th>\n",
       "      <td>...</td>\n",
       "      <td>...</td>\n",
       "      <td>...</td>\n",
       "      <td>...</td>\n",
       "      <td>...</td>\n",
       "      <td>...</td>\n",
       "      <td>...</td>\n",
       "      <td>...</td>\n",
       "      <td>...</td>\n",
       "    </tr>\n",
       "    <tr>\n",
       "      <th rowspan=\"5\" valign=\"top\">West Ham</th>\n",
       "      <th>287</th>\n",
       "      <td>20/03/2022</td>\n",
       "      <td>Away</td>\n",
       "      <td>Tottenham</td>\n",
       "      <td>1</td>\n",
       "      <td>3</td>\n",
       "      <td>West Ham</td>\n",
       "      <td>1.2</td>\n",
       "      <td>1.8</td>\n",
       "      <td>34</td>\n",
       "    </tr>\n",
       "    <tr>\n",
       "      <th>305</th>\n",
       "      <td>10/04/2022</td>\n",
       "      <td>Away</td>\n",
       "      <td>Brentford</td>\n",
       "      <td>0</td>\n",
       "      <td>2</td>\n",
       "      <td>West Ham</td>\n",
       "      <td>0.6</td>\n",
       "      <td>1.8</td>\n",
       "      <td>35</td>\n",
       "    </tr>\n",
       "    <tr>\n",
       "      <th>328</th>\n",
       "      <td>24/04/2022</td>\n",
       "      <td>Away</td>\n",
       "      <td>Chelsea</td>\n",
       "      <td>0</td>\n",
       "      <td>1</td>\n",
       "      <td>West Ham</td>\n",
       "      <td>0.6</td>\n",
       "      <td>1.8</td>\n",
       "      <td>36</td>\n",
       "    </tr>\n",
       "    <tr>\n",
       "      <th>350</th>\n",
       "      <td>08/05/2022</td>\n",
       "      <td>Away</td>\n",
       "      <td>Norwich</td>\n",
       "      <td>4</td>\n",
       "      <td>0</td>\n",
       "      <td>West Ham</td>\n",
       "      <td>1.0</td>\n",
       "      <td>1.4</td>\n",
       "      <td>37</td>\n",
       "    </tr>\n",
       "    <tr>\n",
       "      <th>372</th>\n",
       "      <td>22/05/2022</td>\n",
       "      <td>Away</td>\n",
       "      <td>Brighton</td>\n",
       "      <td>1</td>\n",
       "      <td>3</td>\n",
       "      <td>West Ham</td>\n",
       "      <td>1.2</td>\n",
       "      <td>1.8</td>\n",
       "      <td>38</td>\n",
       "    </tr>\n",
       "  </tbody>\n",
       "</table>\n",
       "<p>680 rows × 9 columns</p>\n",
       "</div>"
      ],
      "text/plain": [
       "                     Date HomeOrAway   Opponent  For  Against       Team  \\\n",
       "Brentford 87   24/10/2021       Home  Leicester    1        2  Brentford   \n",
       "          102  06/11/2021       Home    Norwich    1        2  Brentford   \n",
       "          125  28/11/2021       Home    Everton    1        0  Brentford   \n",
       "          149  10/12/2021       Home    Watford    2        1  Brentford   \n",
       "          181  29/12/2021       Home   Man City    0        1  Brentford   \n",
       "...                   ...        ...        ...  ...      ...        ...   \n",
       "West Ham  287  20/03/2022       Away  Tottenham    1        3   West Ham   \n",
       "          305  10/04/2022       Away  Brentford    0        2   West Ham   \n",
       "          328  24/04/2022       Away    Chelsea    0        1   West Ham   \n",
       "          350  08/05/2022       Away    Norwich    4        0   West Ham   \n",
       "          372  22/05/2022       Away   Brighton    1        3   West Ham   \n",
       "\n",
       "               MovingAverageFor  MovingAverageAgainst  MatchesPlayed  \n",
       "Brentford 87                1.2                   1.4              5  \n",
       "          102               1.0                   1.8              6  \n",
       "          125               1.2                   1.6              7  \n",
       "          149               1.0                   1.2              8  \n",
       "          181               1.0                   1.2              9  \n",
       "...                         ...                   ...            ...  \n",
       "West Ham  287               1.2                   1.8             34  \n",
       "          305               0.6                   1.8             35  \n",
       "          328               0.6                   1.8             36  \n",
       "          350               1.0                   1.4             37  \n",
       "          372               1.2                   1.8             38  \n",
       "\n",
       "[680 rows x 9 columns]"
      ]
     },
     "execution_count": 7,
     "metadata": {},
     "output_type": "execute_result"
    }
   ],
   "source": [
    "# Create empty dictionary to add dataframe for each team\n",
    "TeamDict = {}\n",
    "\n",
    "# Loop through each team and get goals for and against for each game\n",
    "for Team in data['HomeTeam'].unique().tolist():\n",
    "    \n",
    "    # Filter data to matches where the chosen team is either the home or away side\n",
    "    HomeData = data.loc[data['HomeTeam'] == Team]\n",
    "    AwayData = data.loc[data['AwayTeam'] == Team]   \n",
    "    \n",
    "    # Rename columns to count goals for and against the chosen team and one to mark which they actually are!\n",
    "    HomeData = HomeData.rename(columns={'FTHG':'For', 'FTAG':'Against', 'AwayTeam':'Opponent'})\n",
    "    HomeData['HomeOrAway'] = 'Home'\n",
    "        \n",
    "    AwayData = AwayData.rename(columns={'FTAG':'For', 'FTHG':'Against', 'HomeTeam':'Opponent'})\n",
    "    AwayData['HomeOrAway'] = 'Away'\n",
    "    \n",
    "    # Keep only certain columns\n",
    "    TeamData = pd.concat([HomeData, AwayData], axis=0)[['Date', 'HomeOrAway', 'Opponent', 'For', 'Against']]\n",
    "    \n",
    "    # Mark the team\n",
    "    TeamData['Team'] = Team\n",
    "    \n",
    "    # Calculate rolling averages over 5 games\n",
    "    TeamData['MovingAverageFor'] = TeamData['For'].rolling(5).mean()\n",
    "    TeamData['MovingAverageAgainst'] = TeamData['Against'].rolling(5).mean()\n",
    "    \n",
    "    # Add identifier for matches played\n",
    "    TeamData['MatchesPlayed'] = TeamData.reset_index().index + 1\n",
    "    \n",
    "    # Put the chosen team's new dataframe in the aggregated dictionary,\n",
    "    # removing first 4 games since they can't have a rolling average\n",
    "    TeamDict[Team] = TeamData.loc[TeamData['MatchesPlayed'] >= 5]\n",
    "\n",
    "# Stack the dataframes in the dictionary on top of each other and take a look\n",
    "AllData = pd.concat(TeamDict, axis=0)\n",
    "AllData"
   ]
  },
  {
   "cell_type": "code",
   "execution_count": 41,
   "id": "06fa9b87",
   "metadata": {},
   "outputs": [
    {
     "data": {
      "application/vnd.plotly.v1+json": {
       "config": {
        "plotlyServerURL": "https://plot.ly"
       },
       "data": [
        {
         "hovertemplate": "Team=Brentford<br>Matches played=5<br>Average goals scored last five games=%{x}<br>Average goals conceded last five games=%{y}<extra></extra>",
         "legendgroup": "Brentford",
         "marker": {
          "color": "#1F77B4",
          "line": {
           "color": "black",
           "width": 2
          },
          "opacity": 0.8,
          "size": 12,
          "symbol": "circle"
         },
         "mode": "markers",
         "name": "Brentford",
         "orientation": "v",
         "showlegend": true,
         "type": "scatter",
         "x": [
          1.2
         ],
         "xaxis": "x",
         "y": [
          1.4
         ],
         "yaxis": "y"
        },
        {
         "hovertemplate": "Team=Man United<br>Matches played=5<br>Average goals scored last five games=%{x}<br>Average goals conceded last five games=%{y}<extra></extra>",
         "legendgroup": "Man United",
         "marker": {
          "color": "#FF7F0E",
          "line": {
           "color": "black",
           "width": 2
          },
          "opacity": 0.8,
          "size": 12,
          "symbol": "circle"
         },
         "mode": "markers",
         "name": "Man United",
         "orientation": "v",
         "showlegend": true,
         "type": "scatter",
         "x": [
          2
         ],
         "xaxis": "x",
         "y": [
          1.8
         ],
         "yaxis": "y"
        },
        {
         "hovertemplate": "Team=Burnley<br>Matches played=5<br>Average goals scored last five games=%{x}<br>Average goals conceded last five games=%{y}<extra></extra>",
         "legendgroup": "Burnley",
         "marker": {
          "color": "#2CA02C",
          "line": {
           "color": "black",
           "width": 2
          },
          "opacity": 0.8,
          "size": 12,
          "symbol": "circle"
         },
         "mode": "markers",
         "name": "Burnley",
         "orientation": "v",
         "showlegend": true,
         "type": "scatter",
         "x": [
          1
         ],
         "xaxis": "x",
         "y": [
          1
         ],
         "yaxis": "y"
        },
        {
         "hovertemplate": "Team=Chelsea<br>Matches played=5<br>Average goals scored last five games=%{x}<br>Average goals conceded last five games=%{y}<extra></extra>",
         "legendgroup": "Chelsea",
         "marker": {
          "color": "#D62728",
          "line": {
           "color": "black",
           "width": 2
          },
          "opacity": 0.8,
          "size": 12,
          "symbol": "circle"
         },
         "mode": "markers",
         "name": "Chelsea",
         "orientation": "v",
         "showlegend": true,
         "type": "scatter",
         "x": [
          3.2
         ],
         "xaxis": "x",
         "y": [
          0.4
         ],
         "yaxis": "y"
        },
        {
         "hovertemplate": "Team=Everton<br>Matches played=5<br>Average goals scored last five games=%{x}<br>Average goals conceded last five games=%{y}<extra></extra>",
         "legendgroup": "Everton",
         "marker": {
          "color": "#9467BD",
          "line": {
           "color": "black",
           "width": 2
          },
          "opacity": 0.8,
          "size": 12,
          "symbol": "circle"
         },
         "mode": "markers",
         "name": "Everton",
         "orientation": "v",
         "showlegend": true,
         "type": "scatter",
         "x": [
          2
         ],
         "xaxis": "x",
         "y": [
          1.6
         ],
         "yaxis": "y"
        },
        {
         "hovertemplate": "Team=Leicester<br>Matches played=5<br>Average goals scored last five games=%{x}<br>Average goals conceded last five games=%{y}<extra></extra>",
         "legendgroup": "Leicester",
         "marker": {
          "color": "#8C564B",
          "line": {
           "color": "black",
           "width": 2
          },
          "opacity": 0.8,
          "size": 12,
          "symbol": "circle"
         },
         "mode": "markers",
         "name": "Leicester",
         "orientation": "v",
         "showlegend": true,
         "type": "scatter",
         "x": [
          1.4
         ],
         "xaxis": "x",
         "y": [
          1.4
         ],
         "yaxis": "y"
        },
        {
         "hovertemplate": "Team=Watford<br>Matches played=5<br>Average goals scored last five games=%{x}<br>Average goals conceded last five games=%{y}<extra></extra>",
         "legendgroup": "Watford",
         "marker": {
          "color": "#E377C2",
          "line": {
           "color": "black",
           "width": 2
          },
          "opacity": 0.8,
          "size": 12,
          "symbol": "circle"
         },
         "mode": "markers",
         "name": "Watford",
         "orientation": "v",
         "showlegend": true,
         "type": "scatter",
         "x": [
          0.8
         ],
         "xaxis": "x",
         "y": [
          2.2
         ],
         "yaxis": "y"
        },
        {
         "hovertemplate": "Team=Norwich<br>Matches played=5<br>Average goals scored last five games=%{x}<br>Average goals conceded last five games=%{y}<extra></extra>",
         "legendgroup": "Norwich",
         "marker": {
          "color": "#7F7F7F",
          "line": {
           "color": "black",
           "width": 2
          },
          "opacity": 0.8,
          "size": 12,
          "symbol": "circle"
         },
         "mode": "markers",
         "name": "Norwich",
         "orientation": "v",
         "showlegend": true,
         "type": "scatter",
         "x": [
          0.6
         ],
         "xaxis": "x",
         "y": [
          2
         ],
         "yaxis": "y"
        },
        {
         "hovertemplate": "Team=Newcastle<br>Matches played=5<br>Average goals scored last five games=%{x}<br>Average goals conceded last five games=%{y}<extra></extra>",
         "legendgroup": "Newcastle",
         "marker": {
          "color": "#BCBD22",
          "line": {
           "color": "black",
           "width": 2
          },
          "opacity": 0.8,
          "size": 12,
          "symbol": "circle"
         },
         "mode": "markers",
         "name": "Newcastle",
         "orientation": "v",
         "showlegend": true,
         "type": "scatter",
         "x": [
          1.4
         ],
         "xaxis": "x",
         "y": [
          2.6
         ],
         "yaxis": "y"
        },
        {
         "hovertemplate": "Team=Tottenham<br>Matches played=5<br>Average goals scored last five games=%{x}<br>Average goals conceded last five games=%{y}<extra></extra>",
         "legendgroup": "Tottenham",
         "marker": {
          "color": "#17BECF",
          "line": {
           "color": "black",
           "width": 2
          },
          "opacity": 0.8,
          "size": 12,
          "symbol": "circle"
         },
         "mode": "markers",
         "name": "Tottenham",
         "orientation": "v",
         "showlegend": true,
         "type": "scatter",
         "x": [
          0.8
         ],
         "xaxis": "x",
         "y": [
          1.4
         ],
         "yaxis": "y"
        },
        {
         "hovertemplate": "Team=Liverpool<br>Matches played=5<br>Average goals scored last five games=%{x}<br>Average goals conceded last five games=%{y}<extra></extra>",
         "legendgroup": "Liverpool",
         "marker": {
          "color": "#1F77B4",
          "line": {
           "color": "black",
           "width": 2
          },
          "opacity": 0.8,
          "size": 12,
          "symbol": "circle"
         },
         "mode": "markers",
         "name": "Liverpool",
         "orientation": "v",
         "showlegend": true,
         "type": "scatter",
         "x": [
          2
         ],
         "xaxis": "x",
         "y": [
          1
         ],
         "yaxis": "y"
        },
        {
         "hovertemplate": "Team=Aston Villa<br>Matches played=5<br>Average goals scored last five games=%{x}<br>Average goals conceded last five games=%{y}<extra></extra>",
         "legendgroup": "Aston Villa",
         "marker": {
          "color": "#FF7F0E",
          "line": {
           "color": "black",
           "width": 2
          },
          "opacity": 0.8,
          "size": 12,
          "symbol": "circle"
         },
         "mode": "markers",
         "name": "Aston Villa",
         "orientation": "v",
         "showlegend": true,
         "type": "scatter",
         "x": [
          1.8
         ],
         "xaxis": "x",
         "y": [
          1.6
         ],
         "yaxis": "y"
        },
        {
         "hovertemplate": "Team=Crystal Palace<br>Matches played=5<br>Average goals scored last five games=%{x}<br>Average goals conceded last five games=%{y}<extra></extra>",
         "legendgroup": "Crystal Palace",
         "marker": {
          "color": "#2CA02C",
          "line": {
           "color": "black",
           "width": 2
          },
          "opacity": 0.8,
          "size": 12,
          "symbol": "circle"
         },
         "mode": "markers",
         "name": "Crystal Palace",
         "orientation": "v",
         "showlegend": true,
         "type": "scatter",
         "x": [
          1.4
         ],
         "xaxis": "x",
         "y": [
          0.8
         ],
         "yaxis": "y"
        },
        {
         "hovertemplate": "Team=Leeds<br>Matches played=5<br>Average goals scored last five games=%{x}<br>Average goals conceded last five games=%{y}<extra></extra>",
         "legendgroup": "Leeds",
         "marker": {
          "color": "#D62728",
          "line": {
           "color": "black",
           "width": 2
          },
          "opacity": 0.8,
          "size": 12,
          "symbol": "circle"
         },
         "mode": "markers",
         "name": "Leeds",
         "orientation": "v",
         "showlegend": true,
         "type": "scatter",
         "x": [
          1
         ],
         "xaxis": "x",
         "y": [
          1.6
         ],
         "yaxis": "y"
        },
        {
         "hovertemplate": "Team=Man City<br>Matches played=5<br>Average goals scored last five games=%{x}<br>Average goals conceded last five games=%{y}<extra></extra>",
         "legendgroup": "Man City",
         "marker": {
          "color": "#9467BD",
          "line": {
           "color": "black",
           "width": 2
          },
          "opacity": 0.8,
          "size": 12,
          "symbol": "circle"
         },
         "mode": "markers",
         "name": "Man City",
         "orientation": "v",
         "showlegend": true,
         "type": "scatter",
         "x": [
          2.4
         ],
         "xaxis": "x",
         "y": [
          0.4
         ],
         "yaxis": "y"
        },
        {
         "hovertemplate": "Team=Brighton<br>Matches played=5<br>Average goals scored last five games=%{x}<br>Average goals conceded last five games=%{y}<extra></extra>",
         "legendgroup": "Brighton",
         "marker": {
          "color": "#8C564B",
          "line": {
           "color": "black",
           "width": 2
          },
          "opacity": 0.8,
          "size": 12,
          "symbol": "circle"
         },
         "mode": "markers",
         "name": "Brighton",
         "orientation": "v",
         "showlegend": true,
         "type": "scatter",
         "x": [
          1
         ],
         "xaxis": "x",
         "y": [
          1.4
         ],
         "yaxis": "y"
        },
        {
         "hovertemplate": "Team=Southampton<br>Matches played=5<br>Average goals scored last five games=%{x}<br>Average goals conceded last five games=%{y}<extra></extra>",
         "legendgroup": "Southampton",
         "marker": {
          "color": "#E377C2",
          "line": {
           "color": "black",
           "width": 2
          },
          "opacity": 0.8,
          "size": 12,
          "symbol": "circle"
         },
         "mode": "markers",
         "name": "Southampton",
         "orientation": "v",
         "showlegend": true,
         "type": "scatter",
         "x": [
          0.8
         ],
         "xaxis": "x",
         "y": [
          0.8
         ],
         "yaxis": "y"
        },
        {
         "hovertemplate": "Team=Wolves<br>Matches played=5<br>Average goals scored last five games=%{x}<br>Average goals conceded last five games=%{y}<extra></extra>",
         "legendgroup": "Wolves",
         "marker": {
          "color": "#7F7F7F",
          "line": {
           "color": "black",
           "width": 2
          },
          "opacity": 0.8,
          "size": 12,
          "symbol": "circle"
         },
         "mode": "markers",
         "name": "Wolves",
         "orientation": "v",
         "showlegend": true,
         "type": "scatter",
         "x": [
          0.8
         ],
         "xaxis": "x",
         "y": [
          1.2
         ],
         "yaxis": "y"
        },
        {
         "hovertemplate": "Team=Arsenal<br>Matches played=5<br>Average goals scored last five games=%{x}<br>Average goals conceded last five games=%{y}<extra></extra>",
         "legendgroup": "Arsenal",
         "marker": {
          "color": "#BCBD22",
          "line": {
           "color": "black",
           "width": 2
          },
          "opacity": 0.8,
          "size": 12,
          "symbol": "circle"
         },
         "mode": "markers",
         "name": "Arsenal",
         "orientation": "v",
         "showlegend": true,
         "type": "scatter",
         "x": [
          1.8
         ],
         "xaxis": "x",
         "y": [
          1.2
         ],
         "yaxis": "y"
        },
        {
         "hovertemplate": "Team=West Ham<br>Matches played=5<br>Average goals scored last five games=%{x}<br>Average goals conceded last five games=%{y}<extra></extra>",
         "legendgroup": "West Ham",
         "marker": {
          "color": "#17BECF",
          "line": {
           "color": "black",
           "width": 2
          },
          "opacity": 0.8,
          "size": 12,
          "symbol": "circle"
         },
         "mode": "markers",
         "name": "West Ham",
         "orientation": "v",
         "showlegend": true,
         "type": "scatter",
         "x": [
          1.8
         ],
         "xaxis": "x",
         "y": [
          1.4
         ],
         "yaxis": "y"
        }
       ],
       "frames": [
        {
         "data": [
          {
           "hovertemplate": "Team=Brentford<br>Matches played=5<br>Average goals scored last five games=%{x}<br>Average goals conceded last five games=%{y}<extra></extra>",
           "legendgroup": "Brentford",
           "marker": {
            "color": "#1F77B4",
            "opacity": 0.8,
            "symbol": "circle"
           },
           "mode": "markers",
           "name": "Brentford",
           "orientation": "v",
           "showlegend": true,
           "type": "scatter",
           "x": [
            1.2
           ],
           "xaxis": "x",
           "y": [
            1.4
           ],
           "yaxis": "y"
          },
          {
           "hovertemplate": "Team=Man United<br>Matches played=5<br>Average goals scored last five games=%{x}<br>Average goals conceded last five games=%{y}<extra></extra>",
           "legendgroup": "Man United",
           "marker": {
            "color": "#FF7F0E",
            "opacity": 0.8,
            "symbol": "circle"
           },
           "mode": "markers",
           "name": "Man United",
           "orientation": "v",
           "showlegend": true,
           "type": "scatter",
           "x": [
            2
           ],
           "xaxis": "x",
           "y": [
            1.8
           ],
           "yaxis": "y"
          },
          {
           "hovertemplate": "Team=Burnley<br>Matches played=5<br>Average goals scored last five games=%{x}<br>Average goals conceded last five games=%{y}<extra></extra>",
           "legendgroup": "Burnley",
           "marker": {
            "color": "#2CA02C",
            "opacity": 0.8,
            "symbol": "circle"
           },
           "mode": "markers",
           "name": "Burnley",
           "orientation": "v",
           "showlegend": true,
           "type": "scatter",
           "x": [
            1
           ],
           "xaxis": "x",
           "y": [
            1
           ],
           "yaxis": "y"
          },
          {
           "hovertemplate": "Team=Chelsea<br>Matches played=5<br>Average goals scored last five games=%{x}<br>Average goals conceded last five games=%{y}<extra></extra>",
           "legendgroup": "Chelsea",
           "marker": {
            "color": "#D62728",
            "opacity": 0.8,
            "symbol": "circle"
           },
           "mode": "markers",
           "name": "Chelsea",
           "orientation": "v",
           "showlegend": true,
           "type": "scatter",
           "x": [
            3.2
           ],
           "xaxis": "x",
           "y": [
            0.4
           ],
           "yaxis": "y"
          },
          {
           "hovertemplate": "Team=Everton<br>Matches played=5<br>Average goals scored last five games=%{x}<br>Average goals conceded last five games=%{y}<extra></extra>",
           "legendgroup": "Everton",
           "marker": {
            "color": "#9467BD",
            "opacity": 0.8,
            "symbol": "circle"
           },
           "mode": "markers",
           "name": "Everton",
           "orientation": "v",
           "showlegend": true,
           "type": "scatter",
           "x": [
            2
           ],
           "xaxis": "x",
           "y": [
            1.6
           ],
           "yaxis": "y"
          },
          {
           "hovertemplate": "Team=Leicester<br>Matches played=5<br>Average goals scored last five games=%{x}<br>Average goals conceded last five games=%{y}<extra></extra>",
           "legendgroup": "Leicester",
           "marker": {
            "color": "#8C564B",
            "opacity": 0.8,
            "symbol": "circle"
           },
           "mode": "markers",
           "name": "Leicester",
           "orientation": "v",
           "showlegend": true,
           "type": "scatter",
           "x": [
            1.4
           ],
           "xaxis": "x",
           "y": [
            1.4
           ],
           "yaxis": "y"
          },
          {
           "hovertemplate": "Team=Watford<br>Matches played=5<br>Average goals scored last five games=%{x}<br>Average goals conceded last five games=%{y}<extra></extra>",
           "legendgroup": "Watford",
           "marker": {
            "color": "#E377C2",
            "opacity": 0.8,
            "symbol": "circle"
           },
           "mode": "markers",
           "name": "Watford",
           "orientation": "v",
           "showlegend": true,
           "type": "scatter",
           "x": [
            0.8
           ],
           "xaxis": "x",
           "y": [
            2.2
           ],
           "yaxis": "y"
          },
          {
           "hovertemplate": "Team=Norwich<br>Matches played=5<br>Average goals scored last five games=%{x}<br>Average goals conceded last five games=%{y}<extra></extra>",
           "legendgroup": "Norwich",
           "marker": {
            "color": "#7F7F7F",
            "opacity": 0.8,
            "symbol": "circle"
           },
           "mode": "markers",
           "name": "Norwich",
           "orientation": "v",
           "showlegend": true,
           "type": "scatter",
           "x": [
            0.6
           ],
           "xaxis": "x",
           "y": [
            2
           ],
           "yaxis": "y"
          },
          {
           "hovertemplate": "Team=Newcastle<br>Matches played=5<br>Average goals scored last five games=%{x}<br>Average goals conceded last five games=%{y}<extra></extra>",
           "legendgroup": "Newcastle",
           "marker": {
            "color": "#BCBD22",
            "opacity": 0.8,
            "symbol": "circle"
           },
           "mode": "markers",
           "name": "Newcastle",
           "orientation": "v",
           "showlegend": true,
           "type": "scatter",
           "x": [
            1.4
           ],
           "xaxis": "x",
           "y": [
            2.6
           ],
           "yaxis": "y"
          },
          {
           "hovertemplate": "Team=Tottenham<br>Matches played=5<br>Average goals scored last five games=%{x}<br>Average goals conceded last five games=%{y}<extra></extra>",
           "legendgroup": "Tottenham",
           "marker": {
            "color": "#17BECF",
            "opacity": 0.8,
            "symbol": "circle"
           },
           "mode": "markers",
           "name": "Tottenham",
           "orientation": "v",
           "showlegend": true,
           "type": "scatter",
           "x": [
            0.8
           ],
           "xaxis": "x",
           "y": [
            1.4
           ],
           "yaxis": "y"
          },
          {
           "hovertemplate": "Team=Liverpool<br>Matches played=5<br>Average goals scored last five games=%{x}<br>Average goals conceded last five games=%{y}<extra></extra>",
           "legendgroup": "Liverpool",
           "marker": {
            "color": "#1F77B4",
            "opacity": 0.8,
            "symbol": "circle"
           },
           "mode": "markers",
           "name": "Liverpool",
           "orientation": "v",
           "showlegend": true,
           "type": "scatter",
           "x": [
            2
           ],
           "xaxis": "x",
           "y": [
            1
           ],
           "yaxis": "y"
          },
          {
           "hovertemplate": "Team=Aston Villa<br>Matches played=5<br>Average goals scored last five games=%{x}<br>Average goals conceded last five games=%{y}<extra></extra>",
           "legendgroup": "Aston Villa",
           "marker": {
            "color": "#FF7F0E",
            "opacity": 0.8,
            "symbol": "circle"
           },
           "mode": "markers",
           "name": "Aston Villa",
           "orientation": "v",
           "showlegend": true,
           "type": "scatter",
           "x": [
            1.8
           ],
           "xaxis": "x",
           "y": [
            1.6
           ],
           "yaxis": "y"
          },
          {
           "hovertemplate": "Team=Crystal Palace<br>Matches played=5<br>Average goals scored last five games=%{x}<br>Average goals conceded last five games=%{y}<extra></extra>",
           "legendgroup": "Crystal Palace",
           "marker": {
            "color": "#2CA02C",
            "opacity": 0.8,
            "symbol": "circle"
           },
           "mode": "markers",
           "name": "Crystal Palace",
           "orientation": "v",
           "showlegend": true,
           "type": "scatter",
           "x": [
            1.4
           ],
           "xaxis": "x",
           "y": [
            0.8
           ],
           "yaxis": "y"
          },
          {
           "hovertemplate": "Team=Leeds<br>Matches played=5<br>Average goals scored last five games=%{x}<br>Average goals conceded last five games=%{y}<extra></extra>",
           "legendgroup": "Leeds",
           "marker": {
            "color": "#D62728",
            "opacity": 0.8,
            "symbol": "circle"
           },
           "mode": "markers",
           "name": "Leeds",
           "orientation": "v",
           "showlegend": true,
           "type": "scatter",
           "x": [
            1
           ],
           "xaxis": "x",
           "y": [
            1.6
           ],
           "yaxis": "y"
          },
          {
           "hovertemplate": "Team=Man City<br>Matches played=5<br>Average goals scored last five games=%{x}<br>Average goals conceded last five games=%{y}<extra></extra>",
           "legendgroup": "Man City",
           "marker": {
            "color": "#9467BD",
            "opacity": 0.8,
            "symbol": "circle"
           },
           "mode": "markers",
           "name": "Man City",
           "orientation": "v",
           "showlegend": true,
           "type": "scatter",
           "x": [
            2.4
           ],
           "xaxis": "x",
           "y": [
            0.4
           ],
           "yaxis": "y"
          },
          {
           "hovertemplate": "Team=Brighton<br>Matches played=5<br>Average goals scored last five games=%{x}<br>Average goals conceded last five games=%{y}<extra></extra>",
           "legendgroup": "Brighton",
           "marker": {
            "color": "#8C564B",
            "opacity": 0.8,
            "symbol": "circle"
           },
           "mode": "markers",
           "name": "Brighton",
           "orientation": "v",
           "showlegend": true,
           "type": "scatter",
           "x": [
            1
           ],
           "xaxis": "x",
           "y": [
            1.4
           ],
           "yaxis": "y"
          },
          {
           "hovertemplate": "Team=Southampton<br>Matches played=5<br>Average goals scored last five games=%{x}<br>Average goals conceded last five games=%{y}<extra></extra>",
           "legendgroup": "Southampton",
           "marker": {
            "color": "#E377C2",
            "opacity": 0.8,
            "symbol": "circle"
           },
           "mode": "markers",
           "name": "Southampton",
           "orientation": "v",
           "showlegend": true,
           "type": "scatter",
           "x": [
            0.8
           ],
           "xaxis": "x",
           "y": [
            0.8
           ],
           "yaxis": "y"
          },
          {
           "hovertemplate": "Team=Wolves<br>Matches played=5<br>Average goals scored last five games=%{x}<br>Average goals conceded last five games=%{y}<extra></extra>",
           "legendgroup": "Wolves",
           "marker": {
            "color": "#7F7F7F",
            "opacity": 0.8,
            "symbol": "circle"
           },
           "mode": "markers",
           "name": "Wolves",
           "orientation": "v",
           "showlegend": true,
           "type": "scatter",
           "x": [
            0.8
           ],
           "xaxis": "x",
           "y": [
            1.2
           ],
           "yaxis": "y"
          },
          {
           "hovertemplate": "Team=Arsenal<br>Matches played=5<br>Average goals scored last five games=%{x}<br>Average goals conceded last five games=%{y}<extra></extra>",
           "legendgroup": "Arsenal",
           "marker": {
            "color": "#BCBD22",
            "opacity": 0.8,
            "symbol": "circle"
           },
           "mode": "markers",
           "name": "Arsenal",
           "orientation": "v",
           "showlegend": true,
           "type": "scatter",
           "x": [
            1.8
           ],
           "xaxis": "x",
           "y": [
            1.2
           ],
           "yaxis": "y"
          },
          {
           "hovertemplate": "Team=West Ham<br>Matches played=5<br>Average goals scored last five games=%{x}<br>Average goals conceded last five games=%{y}<extra></extra>",
           "legendgroup": "West Ham",
           "marker": {
            "color": "#17BECF",
            "opacity": 0.8,
            "symbol": "circle"
           },
           "mode": "markers",
           "name": "West Ham",
           "orientation": "v",
           "showlegend": true,
           "type": "scatter",
           "x": [
            1.8
           ],
           "xaxis": "x",
           "y": [
            1.4
           ],
           "yaxis": "y"
          }
         ],
         "name": "5"
        },
        {
         "data": [
          {
           "hovertemplate": "Team=Brentford<br>Matches played=6<br>Average goals scored last five games=%{x}<br>Average goals conceded last five games=%{y}<extra></extra>",
           "legendgroup": "Brentford",
           "marker": {
            "color": "#1F77B4",
            "opacity": 0.8,
            "symbol": "circle"
           },
           "mode": "markers",
           "name": "Brentford",
           "orientation": "v",
           "showlegend": true,
           "type": "scatter",
           "x": [
            1
           ],
           "xaxis": "x",
           "y": [
            1.8
           ],
           "yaxis": "y"
          },
          {
           "hovertemplate": "Team=Man United<br>Matches played=6<br>Average goals scored last five games=%{x}<br>Average goals conceded last five games=%{y}<extra></extra>",
           "legendgroup": "Man United",
           "marker": {
            "color": "#FF7F0E",
            "opacity": 0.8,
            "symbol": "circle"
           },
           "mode": "markers",
           "name": "Man United",
           "orientation": "v",
           "showlegend": true,
           "type": "scatter",
           "x": [
            1
           ],
           "xaxis": "x",
           "y": [
            2
           ],
           "yaxis": "y"
          },
          {
           "hovertemplate": "Team=Burnley<br>Matches played=6<br>Average goals scored last five games=%{x}<br>Average goals conceded last five games=%{y}<extra></extra>",
           "legendgroup": "Burnley",
           "marker": {
            "color": "#2CA02C",
            "opacity": 0.8,
            "symbol": "circle"
           },
           "mode": "markers",
           "name": "Burnley",
           "orientation": "v",
           "showlegend": true,
           "type": "scatter",
           "x": [
            1.4
           ],
           "xaxis": "x",
           "y": [
            1.2
           ],
           "yaxis": "y"
          },
          {
           "hovertemplate": "Team=Chelsea<br>Matches played=6<br>Average goals scored last five games=%{x}<br>Average goals conceded last five games=%{y}<extra></extra>",
           "legendgroup": "Chelsea",
           "marker": {
            "color": "#D62728",
            "opacity": 0.8,
            "symbol": "circle"
           },
           "mode": "markers",
           "name": "Chelsea",
           "orientation": "v",
           "showlegend": true,
           "type": "scatter",
           "x": [
            2.8
           ],
           "xaxis": "x",
           "y": [
            0.6
           ],
           "yaxis": "y"
          },
          {
           "hovertemplate": "Team=Everton<br>Matches played=6<br>Average goals scored last five games=%{x}<br>Average goals conceded last five games=%{y}<extra></extra>",
           "legendgroup": "Everton",
           "marker": {
            "color": "#9467BD",
            "opacity": 0.8,
            "symbol": "circle"
           },
           "mode": "markers",
           "name": "Everton",
           "orientation": "v",
           "showlegend": true,
           "type": "scatter",
           "x": [
            1.4
           ],
           "xaxis": "x",
           "y": [
            1.4
           ],
           "yaxis": "y"
          },
          {
           "hovertemplate": "Team=Leicester<br>Matches played=6<br>Average goals scored last five games=%{x}<br>Average goals conceded last five games=%{y}<extra></extra>",
           "legendgroup": "Leicester",
           "marker": {
            "color": "#8C564B",
            "opacity": 0.8,
            "symbol": "circle"
           },
           "mode": "markers",
           "name": "Leicester",
           "orientation": "v",
           "showlegend": true,
           "type": "scatter",
           "x": [
            1.2
           ],
           "xaxis": "x",
           "y": [
            2
           ],
           "yaxis": "y"
          },
          {
           "hovertemplate": "Team=Watford<br>Matches played=6<br>Average goals scored last five games=%{x}<br>Average goals conceded last five games=%{y}<extra></extra>",
           "legendgroup": "Watford",
           "marker": {
            "color": "#E377C2",
            "opacity": 0.8,
            "symbol": "circle"
           },
           "mode": "markers",
           "name": "Watford",
           "orientation": "v",
           "showlegend": true,
           "type": "scatter",
           "x": [
            1
           ],
           "xaxis": "x",
           "y": [
            2
           ],
           "yaxis": "y"
          },
          {
           "hovertemplate": "Team=Norwich<br>Matches played=6<br>Average goals scored last five games=%{x}<br>Average goals conceded last five games=%{y}<extra></extra>",
           "legendgroup": "Norwich",
           "marker": {
            "color": "#7F7F7F",
            "opacity": 0.8,
            "symbol": "circle"
           },
           "mode": "markers",
           "name": "Norwich",
           "orientation": "v",
           "showlegend": true,
           "type": "scatter",
           "x": [
            1
           ],
           "xaxis": "x",
           "y": [
            1.6
           ],
           "yaxis": "y"
          },
          {
           "hovertemplate": "Team=Newcastle<br>Matches played=6<br>Average goals scored last five games=%{x}<br>Average goals conceded last five games=%{y}<extra></extra>",
           "legendgroup": "Newcastle",
           "marker": {
            "color": "#BCBD22",
            "opacity": 0.8,
            "symbol": "circle"
           },
           "mode": "markers",
           "name": "Newcastle",
           "orientation": "v",
           "showlegend": true,
           "type": "scatter",
           "x": [
            1.6
           ],
           "xaxis": "x",
           "y": [
            2.4
           ],
           "yaxis": "y"
          },
          {
           "hovertemplate": "Team=Tottenham<br>Matches played=6<br>Average goals scored last five games=%{x}<br>Average goals conceded last five games=%{y}<extra></extra>",
           "legendgroup": "Tottenham",
           "marker": {
            "color": "#17BECF",
            "opacity": 0.8,
            "symbol": "circle"
           },
           "mode": "markers",
           "name": "Tottenham",
           "orientation": "v",
           "showlegend": true,
           "type": "scatter",
           "x": [
            1
           ],
           "xaxis": "x",
           "y": [
            1.6
           ],
           "yaxis": "y"
          },
          {
           "hovertemplate": "Team=Liverpool<br>Matches played=6<br>Average goals scored last five games=%{x}<br>Average goals conceded last five games=%{y}<extra></extra>",
           "legendgroup": "Liverpool",
           "marker": {
            "color": "#1F77B4",
            "opacity": 0.8,
            "symbol": "circle"
           },
           "mode": "markers",
           "name": "Liverpool",
           "orientation": "v",
           "showlegend": true,
           "type": "scatter",
           "x": [
            2.4
           ],
           "xaxis": "x",
           "y": [
            1
           ],
           "yaxis": "y"
          },
          {
           "hovertemplate": "Team=Aston Villa<br>Matches played=6<br>Average goals scored last five games=%{x}<br>Average goals conceded last five games=%{y}<extra></extra>",
           "legendgroup": "Aston Villa",
           "marker": {
            "color": "#FF7F0E",
            "opacity": 0.8,
            "symbol": "circle"
           },
           "mode": "markers",
           "name": "Aston Villa",
           "orientation": "v",
           "showlegend": true,
           "type": "scatter",
           "x": [
            1.8
           ],
           "xaxis": "x",
           "y": [
            1.6
           ],
           "yaxis": "y"
          },
          {
           "hovertemplate": "Team=Crystal Palace<br>Matches played=6<br>Average goals scored last five games=%{x}<br>Average goals conceded last five games=%{y}<extra></extra>",
           "legendgroup": "Crystal Palace",
           "marker": {
            "color": "#2CA02C",
            "opacity": 0.8,
            "symbol": "circle"
           },
           "mode": "markers",
           "name": "Crystal Palace",
           "orientation": "v",
           "showlegend": true,
           "type": "scatter",
           "x": [
            1.8
           ],
           "xaxis": "x",
           "y": [
            0.8
           ],
           "yaxis": "y"
          },
          {
           "hovertemplate": "Team=Leeds<br>Matches played=6<br>Average goals scored last five games=%{x}<br>Average goals conceded last five games=%{y}<extra></extra>",
           "legendgroup": "Leeds",
           "marker": {
            "color": "#D62728",
            "opacity": 0.8,
            "symbol": "circle"
           },
           "mode": "markers",
           "name": "Leeds",
           "orientation": "v",
           "showlegend": true,
           "type": "scatter",
           "x": [
            0.8
           ],
           "xaxis": "x",
           "y": [
            1.4
           ],
           "yaxis": "y"
          },
          {
           "hovertemplate": "Team=Man City<br>Matches played=6<br>Average goals scored last five games=%{x}<br>Average goals conceded last five games=%{y}<extra></extra>",
           "legendgroup": "Man City",
           "marker": {
            "color": "#9467BD",
            "opacity": 0.8,
            "symbol": "circle"
           },
           "mode": "markers",
           "name": "Man City",
           "orientation": "v",
           "showlegend": true,
           "type": "scatter",
           "x": [
            2
           ],
           "xaxis": "x",
           "y": [
            0.4
           ],
           "yaxis": "y"
          },
          {
           "hovertemplate": "Team=Brighton<br>Matches played=6<br>Average goals scored last five games=%{x}<br>Average goals conceded last five games=%{y}<extra></extra>",
           "legendgroup": "Brighton",
           "marker": {
            "color": "#8C564B",
            "opacity": 0.8,
            "symbol": "circle"
           },
           "mode": "markers",
           "name": "Brighton",
           "orientation": "v",
           "showlegend": true,
           "type": "scatter",
           "x": [
            0.8
           ],
           "xaxis": "x",
           "y": [
            1.6
           ],
           "yaxis": "y"
          },
          {
           "hovertemplate": "Team=Southampton<br>Matches played=6<br>Average goals scored last five games=%{x}<br>Average goals conceded last five games=%{y}<extra></extra>",
           "legendgroup": "Southampton",
           "marker": {
            "color": "#E377C2",
            "opacity": 0.8,
            "symbol": "circle"
           },
           "mode": "markers",
           "name": "Southampton",
           "orientation": "v",
           "showlegend": true,
           "type": "scatter",
           "x": [
            0.8
           ],
           "xaxis": "x",
           "y": [
            0.6
           ],
           "yaxis": "y"
          },
          {
           "hovertemplate": "Team=Wolves<br>Matches played=6<br>Average goals scored last five games=%{x}<br>Average goals conceded last five games=%{y}<extra></extra>",
           "legendgroup": "Wolves",
           "marker": {
            "color": "#7F7F7F",
            "opacity": 0.8,
            "symbol": "circle"
           },
           "mode": "markers",
           "name": "Wolves",
           "orientation": "v",
           "showlegend": true,
           "type": "scatter",
           "x": [
            1
           ],
           "xaxis": "x",
           "y": [
            1
           ],
           "yaxis": "y"
          },
          {
           "hovertemplate": "Team=Arsenal<br>Matches played=6<br>Average goals scored last five games=%{x}<br>Average goals conceded last five games=%{y}<extra></extra>",
           "legendgroup": "Arsenal",
           "marker": {
            "color": "#BCBD22",
            "opacity": 0.8,
            "symbol": "circle"
           },
           "mode": "markers",
           "name": "Arsenal",
           "orientation": "v",
           "showlegend": true,
           "type": "scatter",
           "x": [
            2
           ],
           "xaxis": "x",
           "y": [
            0.8
           ],
           "yaxis": "y"
          },
          {
           "hovertemplate": "Team=West Ham<br>Matches played=6<br>Average goals scored last five games=%{x}<br>Average goals conceded last five games=%{y}<extra></extra>",
           "legendgroup": "West Ham",
           "marker": {
            "color": "#17BECF",
            "opacity": 0.8,
            "symbol": "circle"
           },
           "mode": "markers",
           "name": "West Ham",
           "orientation": "v",
           "showlegend": true,
           "type": "scatter",
           "x": [
            1.6
           ],
           "xaxis": "x",
           "y": [
            1.6
           ],
           "yaxis": "y"
          }
         ],
         "name": "6"
        },
        {
         "data": [
          {
           "hovertemplate": "Team=Brentford<br>Matches played=7<br>Average goals scored last five games=%{x}<br>Average goals conceded last five games=%{y}<extra></extra>",
           "legendgroup": "Brentford",
           "marker": {
            "color": "#1F77B4",
            "opacity": 0.8,
            "symbol": "circle"
           },
           "mode": "markers",
           "name": "Brentford",
           "orientation": "v",
           "showlegend": true,
           "type": "scatter",
           "x": [
            1.2
           ],
           "xaxis": "x",
           "y": [
            1.6
           ],
           "yaxis": "y"
          },
          {
           "hovertemplate": "Team=Man United<br>Matches played=7<br>Average goals scored last five games=%{x}<br>Average goals conceded last five games=%{y}<extra></extra>",
           "legendgroup": "Man United",
           "marker": {
            "color": "#FF7F0E",
            "opacity": 0.8,
            "symbol": "circle"
           },
           "mode": "markers",
           "name": "Man United",
           "orientation": "v",
           "showlegend": true,
           "type": "scatter",
           "x": [
            0.8
           ],
           "xaxis": "x",
           "y": [
            2.2
           ],
           "yaxis": "y"
          },
          {
           "hovertemplate": "Team=Burnley<br>Matches played=7<br>Average goals scored last five games=%{x}<br>Average goals conceded last five games=%{y}<extra></extra>",
           "legendgroup": "Burnley",
           "marker": {
            "color": "#2CA02C",
            "opacity": 0.8,
            "symbol": "circle"
           },
           "mode": "markers",
           "name": "Burnley",
           "orientation": "v",
           "showlegend": true,
           "type": "scatter",
           "x": [
            1.2
           ],
           "xaxis": "x",
           "y": [
            1
           ],
           "yaxis": "y"
          },
          {
           "hovertemplate": "Team=Chelsea<br>Matches played=7<br>Average goals scored last five games=%{x}<br>Average goals conceded last five games=%{y}<extra></extra>",
           "legendgroup": "Chelsea",
           "marker": {
            "color": "#D62728",
            "opacity": 0.8,
            "symbol": "circle"
           },
           "mode": "markers",
           "name": "Chelsea",
           "orientation": "v",
           "showlegend": true,
           "type": "scatter",
           "x": [
            2.4
           ],
           "xaxis": "x",
           "y": [
            0.8
           ],
           "yaxis": "y"
          },
          {
           "hovertemplate": "Team=Everton<br>Matches played=7<br>Average goals scored last five games=%{x}<br>Average goals conceded last five games=%{y}<extra></extra>",
           "legendgroup": "Everton",
           "marker": {
            "color": "#9467BD",
            "opacity": 0.8,
            "symbol": "circle"
           },
           "mode": "markers",
           "name": "Everton",
           "orientation": "v",
           "showlegend": true,
           "type": "scatter",
           "x": [
            1
           ],
           "xaxis": "x",
           "y": [
            2
           ],
           "yaxis": "y"
          },
          {
           "hovertemplate": "Team=Leicester<br>Matches played=7<br>Average goals scored last five games=%{x}<br>Average goals conceded last five games=%{y}<extra></extra>",
           "legendgroup": "Leicester",
           "marker": {
            "color": "#8C564B",
            "opacity": 0.8,
            "symbol": "circle"
           },
           "mode": "markers",
           "name": "Leicester",
           "orientation": "v",
           "showlegend": true,
           "type": "scatter",
           "x": [
            2
           ],
           "xaxis": "x",
           "y": [
            2.2
           ],
           "yaxis": "y"
          },
          {
           "hovertemplate": "Team=Watford<br>Matches played=7<br>Average goals scored last five games=%{x}<br>Average goals conceded last five games=%{y}<extra></extra>",
           "legendgroup": "Watford",
           "marker": {
            "color": "#E377C2",
            "opacity": 0.8,
            "symbol": "circle"
           },
           "mode": "markers",
           "name": "Watford",
           "orientation": "v",
           "showlegend": true,
           "type": "scatter",
           "x": [
            1.2
           ],
           "xaxis": "x",
           "y": [
            2
           ],
           "yaxis": "y"
          },
          {
           "hovertemplate": "Team=Norwich<br>Matches played=7<br>Average goals scored last five games=%{x}<br>Average goals conceded last five games=%{y}<extra></extra>",
           "legendgroup": "Norwich",
           "marker": {
            "color": "#7F7F7F",
            "opacity": 0.8,
            "symbol": "circle"
           },
           "mode": "markers",
           "name": "Norwich",
           "orientation": "v",
           "showlegend": true,
           "type": "scatter",
           "x": [
            0.8
           ],
           "xaxis": "x",
           "y": [
            1.2
           ],
           "yaxis": "y"
          },
          {
           "hovertemplate": "Team=Newcastle<br>Matches played=7<br>Average goals scored last five games=%{x}<br>Average goals conceded last five games=%{y}<extra></extra>",
           "legendgroup": "Newcastle",
           "marker": {
            "color": "#BCBD22",
            "opacity": 0.8,
            "symbol": "circle"
           },
           "mode": "markers",
           "name": "Newcastle",
           "orientation": "v",
           "showlegend": true,
           "type": "scatter",
           "x": [
            1.4
           ],
           "xaxis": "x",
           "y": [
            2.2
           ],
           "yaxis": "y"
          },
          {
           "hovertemplate": "Team=Tottenham<br>Matches played=7<br>Average goals scored last five games=%{x}<br>Average goals conceded last five games=%{y}<extra></extra>",
           "legendgroup": "Tottenham",
           "marker": {
            "color": "#17BECF",
            "opacity": 0.8,
            "symbol": "circle"
           },
           "mode": "markers",
           "name": "Tottenham",
           "orientation": "v",
           "showlegend": true,
           "type": "scatter",
           "x": [
            1.2
           ],
           "xaxis": "x",
           "y": [
            1.6
           ],
           "yaxis": "y"
          },
          {
           "hovertemplate": "Team=Liverpool<br>Matches played=7<br>Average goals scored last five games=%{x}<br>Average goals conceded last five games=%{y}<extra></extra>",
           "legendgroup": "Liverpool",
           "marker": {
            "color": "#1F77B4",
            "opacity": 0.8,
            "symbol": "circle"
           },
           "mode": "markers",
           "name": "Liverpool",
           "orientation": "v",
           "showlegend": true,
           "type": "scatter",
           "x": [
            3
           ],
           "xaxis": "x",
           "y": [
            0.8
           ],
           "yaxis": "y"
          },
          {
           "hovertemplate": "Team=Aston Villa<br>Matches played=7<br>Average goals scored last five games=%{x}<br>Average goals conceded last five games=%{y}<extra></extra>",
           "legendgroup": "Aston Villa",
           "marker": {
            "color": "#FF7F0E",
            "opacity": 0.8,
            "symbol": "circle"
           },
           "mode": "markers",
           "name": "Aston Villa",
           "orientation": "v",
           "showlegend": true,
           "type": "scatter",
           "x": [
            1.8
           ],
           "xaxis": "x",
           "y": [
            1.8
           ],
           "yaxis": "y"
          },
          {
           "hovertemplate": "Team=Crystal Palace<br>Matches played=7<br>Average goals scored last five games=%{x}<br>Average goals conceded last five games=%{y}<extra></extra>",
           "legendgroup": "Crystal Palace",
           "marker": {
            "color": "#2CA02C",
            "opacity": 0.8,
            "symbol": "circle"
           },
           "mode": "markers",
           "name": "Crystal Palace",
           "orientation": "v",
           "showlegend": true,
           "type": "scatter",
           "x": [
            1.4
           ],
           "xaxis": "x",
           "y": [
            1.2
           ],
           "yaxis": "y"
          },
          {
           "hovertemplate": "Team=Leeds<br>Matches played=7<br>Average goals scored last five games=%{x}<br>Average goals conceded last five games=%{y}<extra></extra>",
           "legendgroup": "Leeds",
           "marker": {
            "color": "#D62728",
            "opacity": 0.8,
            "symbol": "circle"
           },
           "mode": "markers",
           "name": "Leeds",
           "orientation": "v",
           "showlegend": true,
           "type": "scatter",
           "x": [
            1
           ],
           "xaxis": "x",
           "y": [
            0.8
           ],
           "yaxis": "y"
          },
          {
           "hovertemplate": "Team=Man City<br>Matches played=7<br>Average goals scored last five games=%{x}<br>Average goals conceded last five games=%{y}<extra></extra>",
           "legendgroup": "Man City",
           "marker": {
            "color": "#9467BD",
            "opacity": 0.8,
            "symbol": "circle"
           },
           "mode": "markers",
           "name": "Man City",
           "orientation": "v",
           "showlegend": true,
           "type": "scatter",
           "x": [
            1.4
           ],
           "xaxis": "x",
           "y": [
            0.6
           ],
           "yaxis": "y"
          },
          {
           "hovertemplate": "Team=Brighton<br>Matches played=7<br>Average goals scored last five games=%{x}<br>Average goals conceded last five games=%{y}<extra></extra>",
           "legendgroup": "Brighton",
           "marker": {
            "color": "#8C564B",
            "opacity": 0.8,
            "symbol": "circle"
           },
           "mode": "markers",
           "name": "Brighton",
           "orientation": "v",
           "showlegend": true,
           "type": "scatter",
           "x": [
            0.8
           ],
           "xaxis": "x",
           "y": [
            1.2
           ],
           "yaxis": "y"
          },
          {
           "hovertemplate": "Team=Southampton<br>Matches played=7<br>Average goals scored last five games=%{x}<br>Average goals conceded last five games=%{y}<extra></extra>",
           "legendgroup": "Southampton",
           "marker": {
            "color": "#E377C2",
            "opacity": 0.8,
            "symbol": "circle"
           },
           "mode": "markers",
           "name": "Southampton",
           "orientation": "v",
           "showlegend": true,
           "type": "scatter",
           "x": [
            1.2
           ],
           "xaxis": "x",
           "y": [
            1
           ],
           "yaxis": "y"
          },
          {
           "hovertemplate": "Team=Wolves<br>Matches played=7<br>Average goals scored last five games=%{x}<br>Average goals conceded last five games=%{y}<extra></extra>",
           "legendgroup": "Wolves",
           "marker": {
            "color": "#7F7F7F",
            "opacity": 0.8,
            "symbol": "circle"
           },
           "mode": "markers",
           "name": "Wolves",
           "orientation": "v",
           "showlegend": true,
           "type": "scatter",
           "x": [
            1
           ],
           "xaxis": "x",
           "y": [
            0.8
           ],
           "yaxis": "y"
          },
          {
           "hovertemplate": "Team=Arsenal<br>Matches played=7<br>Average goals scored last five games=%{x}<br>Average goals conceded last five games=%{y}<extra></extra>",
           "legendgroup": "Arsenal",
           "marker": {
            "color": "#BCBD22",
            "opacity": 0.8,
            "symbol": "circle"
           },
           "mode": "markers",
           "name": "Arsenal",
           "orientation": "v",
           "showlegend": true,
           "type": "scatter",
           "x": [
            2.2
           ],
           "xaxis": "x",
           "y": [
            0.8
           ],
           "yaxis": "y"
          },
          {
           "hovertemplate": "Team=West Ham<br>Matches played=7<br>Average goals scored last five games=%{x}<br>Average goals conceded last five games=%{y}<extra></extra>",
           "legendgroup": "West Ham",
           "marker": {
            "color": "#17BECF",
            "opacity": 0.8,
            "symbol": "circle"
           },
           "mode": "markers",
           "name": "West Ham",
           "orientation": "v",
           "showlegend": true,
           "type": "scatter",
           "x": [
            1.4
           ],
           "xaxis": "x",
           "y": [
            1.4
           ],
           "yaxis": "y"
          }
         ],
         "name": "7"
        },
        {
         "data": [
          {
           "hovertemplate": "Team=Brentford<br>Matches played=8<br>Average goals scored last five games=%{x}<br>Average goals conceded last five games=%{y}<extra></extra>",
           "legendgroup": "Brentford",
           "marker": {
            "color": "#1F77B4",
            "opacity": 0.8,
            "symbol": "circle"
           },
           "mode": "markers",
           "name": "Brentford",
           "orientation": "v",
           "showlegend": true,
           "type": "scatter",
           "x": [
            1
           ],
           "xaxis": "x",
           "y": [
            1.2
           ],
           "yaxis": "y"
          },
          {
           "hovertemplate": "Team=Man United<br>Matches played=8<br>Average goals scored last five games=%{x}<br>Average goals conceded last five games=%{y}<extra></extra>",
           "legendgroup": "Man United",
           "marker": {
            "color": "#FF7F0E",
            "opacity": 0.8,
            "symbol": "circle"
           },
           "mode": "markers",
           "name": "Man United",
           "orientation": "v",
           "showlegend": true,
           "type": "scatter",
           "x": [
            1
           ],
           "xaxis": "x",
           "y": [
            2
           ],
           "yaxis": "y"
          },
          {
           "hovertemplate": "Team=Burnley<br>Matches played=8<br>Average goals scored last five games=%{x}<br>Average goals conceded last five games=%{y}<extra></extra>",
           "legendgroup": "Burnley",
           "marker": {
            "color": "#2CA02C",
            "opacity": 0.8,
            "symbol": "circle"
           },
           "mode": "markers",
           "name": "Burnley",
           "orientation": "v",
           "showlegend": true,
           "type": "scatter",
           "x": [
            1.2
           ],
           "xaxis": "x",
           "y": [
            0.8
           ],
           "yaxis": "y"
          },
          {
           "hovertemplate": "Team=Chelsea<br>Matches played=8<br>Average goals scored last five games=%{x}<br>Average goals conceded last five games=%{y}<extra></extra>",
           "legendgroup": "Chelsea",
           "marker": {
            "color": "#D62728",
            "opacity": 0.8,
            "symbol": "circle"
           },
           "mode": "markers",
           "name": "Chelsea",
           "orientation": "v",
           "showlegend": true,
           "type": "scatter",
           "x": [
            3
           ],
           "xaxis": "x",
           "y": [
            1
           ],
           "yaxis": "y"
          },
          {
           "hovertemplate": "Team=Everton<br>Matches played=8<br>Average goals scored last five games=%{x}<br>Average goals conceded last five games=%{y}<extra></extra>",
           "legendgroup": "Everton",
           "marker": {
            "color": "#9467BD",
            "opacity": 0.8,
            "symbol": "circle"
           },
           "mode": "markers",
           "name": "Everton",
           "orientation": "v",
           "showlegend": true,
           "type": "scatter",
           "x": [
            1
           ],
           "xaxis": "x",
           "y": [
            2.2
           ],
           "yaxis": "y"
          },
          {
           "hovertemplate": "Team=Leicester<br>Matches played=8<br>Average goals scored last five games=%{x}<br>Average goals conceded last five games=%{y}<extra></extra>",
           "legendgroup": "Leicester",
           "marker": {
            "color": "#8C564B",
            "opacity": 0.8,
            "symbol": "circle"
           },
           "mode": "markers",
           "name": "Leicester",
           "orientation": "v",
           "showlegend": true,
           "type": "scatter",
           "x": [
            2.4
           ],
           "xaxis": "x",
           "y": [
            1.8
           ],
           "yaxis": "y"
          },
          {
           "hovertemplate": "Team=Watford<br>Matches played=8<br>Average goals scored last five games=%{x}<br>Average goals conceded last five games=%{y}<extra></extra>",
           "legendgroup": "Watford",
           "marker": {
            "color": "#E377C2",
            "opacity": 0.8,
            "symbol": "circle"
           },
           "mode": "markers",
           "name": "Watford",
           "orientation": "v",
           "showlegend": true,
           "type": "scatter",
           "x": [
            1.2
           ],
           "xaxis": "x",
           "y": [
            2.4
           ],
           "yaxis": "y"
          },
          {
           "hovertemplate": "Team=Norwich<br>Matches played=8<br>Average goals scored last five games=%{x}<br>Average goals conceded last five games=%{y}<extra></extra>",
           "legendgroup": "Norwich",
           "marker": {
            "color": "#7F7F7F",
            "opacity": 0.8,
            "symbol": "circle"
           },
           "mode": "markers",
           "name": "Norwich",
           "orientation": "v",
           "showlegend": true,
           "type": "scatter",
           "x": [
            0.6
           ],
           "xaxis": "x",
           "y": [
            0.8
           ],
           "yaxis": "y"
          },
          {
           "hovertemplate": "Team=Newcastle<br>Matches played=8<br>Average goals scored last five games=%{x}<br>Average goals conceded last five games=%{y}<extra></extra>",
           "legendgroup": "Newcastle",
           "marker": {
            "color": "#BCBD22",
            "opacity": 0.8,
            "symbol": "circle"
           },
           "mode": "markers",
           "name": "Newcastle",
           "orientation": "v",
           "showlegend": true,
           "type": "scatter",
           "x": [
            1.4
           ],
           "xaxis": "x",
           "y": [
            2
           ],
           "yaxis": "y"
          },
          {
           "hovertemplate": "Team=Tottenham<br>Matches played=8<br>Average goals scored last five games=%{x}<br>Average goals conceded last five games=%{y}<extra></extra>",
           "legendgroup": "Tottenham",
           "marker": {
            "color": "#17BECF",
            "opacity": 0.8,
            "symbol": "circle"
           },
           "mode": "markers",
           "name": "Tottenham",
           "orientation": "v",
           "showlegend": true,
           "type": "scatter",
           "x": [
            1.8
           ],
           "xaxis": "x",
           "y": [
            1
           ],
           "yaxis": "y"
          },
          {
           "hovertemplate": "Team=Liverpool<br>Matches played=8<br>Average goals scored last five games=%{x}<br>Average goals conceded last five games=%{y}<extra></extra>",
           "legendgroup": "Liverpool",
           "marker": {
            "color": "#1F77B4",
            "opacity": 0.8,
            "symbol": "circle"
           },
           "mode": "markers",
           "name": "Liverpool",
           "orientation": "v",
           "showlegend": true,
           "type": "scatter",
           "x": [
            2.6
           ],
           "xaxis": "x",
           "y": [
            0.8
           ],
           "yaxis": "y"
          },
          {
           "hovertemplate": "Team=Aston Villa<br>Matches played=8<br>Average goals scored last five games=%{x}<br>Average goals conceded last five games=%{y}<extra></extra>",
           "legendgroup": "Aston Villa",
           "marker": {
            "color": "#FF7F0E",
            "opacity": 0.8,
            "symbol": "circle"
           },
           "mode": "markers",
           "name": "Aston Villa",
           "orientation": "v",
           "showlegend": true,
           "type": "scatter",
           "x": [
            1.6
           ],
           "xaxis": "x",
           "y": [
            2
           ],
           "yaxis": "y"
          },
          {
           "hovertemplate": "Team=Crystal Palace<br>Matches played=8<br>Average goals scored last five games=%{x}<br>Average goals conceded last five games=%{y}<extra></extra>",
           "legendgroup": "Crystal Palace",
           "marker": {
            "color": "#2CA02C",
            "opacity": 0.8,
            "symbol": "circle"
           },
           "mode": "markers",
           "name": "Crystal Palace",
           "orientation": "v",
           "showlegend": true,
           "type": "scatter",
           "x": [
            1.8
           ],
           "xaxis": "x",
           "y": [
            1.2
           ],
           "yaxis": "y"
          },
          {
           "hovertemplate": "Team=Leeds<br>Matches played=8<br>Average goals scored last five games=%{x}<br>Average goals conceded last five games=%{y}<extra></extra>",
           "legendgroup": "Leeds",
           "marker": {
            "color": "#D62728",
            "opacity": 0.8,
            "symbol": "circle"
           },
           "mode": "markers",
           "name": "Leeds",
           "orientation": "v",
           "showlegend": true,
           "type": "scatter",
           "x": [
            1.2
           ],
           "xaxis": "x",
           "y": [
            0.8
           ],
           "yaxis": "y"
          },
          {
           "hovertemplate": "Team=Man City<br>Matches played=8<br>Average goals scored last five games=%{x}<br>Average goals conceded last five games=%{y}<extra></extra>",
           "legendgroup": "Man City",
           "marker": {
            "color": "#9467BD",
            "opacity": 0.8,
            "symbol": "circle"
           },
           "mode": "markers",
           "name": "Man City",
           "orientation": "v",
           "showlegend": true,
           "type": "scatter",
           "x": [
            1.6
           ],
           "xaxis": "x",
           "y": [
            0.6
           ],
           "yaxis": "y"
          },
          {
           "hovertemplate": "Team=Brighton<br>Matches played=8<br>Average goals scored last five games=%{x}<br>Average goals conceded last five games=%{y}<extra></extra>",
           "legendgroup": "Brighton",
           "marker": {
            "color": "#8C564B",
            "opacity": 0.8,
            "symbol": "circle"
           },
           "mode": "markers",
           "name": "Brighton",
           "orientation": "v",
           "showlegend": true,
           "type": "scatter",
           "x": [
            0.4
           ],
           "xaxis": "x",
           "y": [
            1.2
           ],
           "yaxis": "y"
          },
          {
           "hovertemplate": "Team=Southampton<br>Matches played=8<br>Average goals scored last five games=%{x}<br>Average goals conceded last five games=%{y}<extra></extra>",
           "legendgroup": "Southampton",
           "marker": {
            "color": "#E377C2",
            "opacity": 0.8,
            "symbol": "circle"
           },
           "mode": "markers",
           "name": "Southampton",
           "orientation": "v",
           "showlegend": true,
           "type": "scatter",
           "x": [
            1.4
           ],
           "xaxis": "x",
           "y": [
            1
           ],
           "yaxis": "y"
          },
          {
           "hovertemplate": "Team=Wolves<br>Matches played=8<br>Average goals scored last five games=%{x}<br>Average goals conceded last five games=%{y}<extra></extra>",
           "legendgroup": "Wolves",
           "marker": {
            "color": "#7F7F7F",
            "opacity": 0.8,
            "symbol": "circle"
           },
           "mode": "markers",
           "name": "Wolves",
           "orientation": "v",
           "showlegend": true,
           "type": "scatter",
           "x": [
            1
           ],
           "xaxis": "x",
           "y": [
            0.6
           ],
           "yaxis": "y"
          },
          {
           "hovertemplate": "Team=Arsenal<br>Matches played=8<br>Average goals scored last five games=%{x}<br>Average goals conceded last five games=%{y}<extra></extra>",
           "legendgroup": "Arsenal",
           "marker": {
            "color": "#BCBD22",
            "opacity": 0.8,
            "symbol": "circle"
           },
           "mode": "markers",
           "name": "Arsenal",
           "orientation": "v",
           "showlegend": true,
           "type": "scatter",
           "x": [
            2.2
           ],
           "xaxis": "x",
           "y": [
            0.6
           ],
           "yaxis": "y"
          },
          {
           "hovertemplate": "Team=West Ham<br>Matches played=8<br>Average goals scored last five games=%{x}<br>Average goals conceded last five games=%{y}<extra></extra>",
           "legendgroup": "West Ham",
           "marker": {
            "color": "#17BECF",
            "opacity": 0.8,
            "symbol": "circle"
           },
           "mode": "markers",
           "name": "West Ham",
           "orientation": "v",
           "showlegend": true,
           "type": "scatter",
           "x": [
            1.8
           ],
           "xaxis": "x",
           "y": [
            1.4
           ],
           "yaxis": "y"
          }
         ],
         "name": "8"
        },
        {
         "data": [
          {
           "hovertemplate": "Team=Brentford<br>Matches played=9<br>Average goals scored last five games=%{x}<br>Average goals conceded last five games=%{y}<extra></extra>",
           "legendgroup": "Brentford",
           "marker": {
            "color": "#1F77B4",
            "opacity": 0.8,
            "symbol": "circle"
           },
           "mode": "markers",
           "name": "Brentford",
           "orientation": "v",
           "showlegend": true,
           "type": "scatter",
           "x": [
            1
           ],
           "xaxis": "x",
           "y": [
            1.2
           ],
           "yaxis": "y"
          },
          {
           "hovertemplate": "Team=Man United<br>Matches played=9<br>Average goals scored last five games=%{x}<br>Average goals conceded last five games=%{y}<extra></extra>",
           "legendgroup": "Man United",
           "marker": {
            "color": "#FF7F0E",
            "opacity": 0.8,
            "symbol": "circle"
           },
           "mode": "markers",
           "name": "Man United",
           "orientation": "v",
           "showlegend": true,
           "type": "scatter",
           "x": [
            1.4
           ],
           "xaxis": "x",
           "y": [
            2
           ],
           "yaxis": "y"
          },
          {
           "hovertemplate": "Team=Burnley<br>Matches played=9<br>Average goals scored last five games=%{x}<br>Average goals conceded last five games=%{y}<extra></extra>",
           "legendgroup": "Burnley",
           "marker": {
            "color": "#2CA02C",
            "opacity": 0.8,
            "symbol": "circle"
           },
           "mode": "markers",
           "name": "Burnley",
           "orientation": "v",
           "showlegend": true,
           "type": "scatter",
           "x": [
            1.4
           ],
           "xaxis": "x",
           "y": [
            1
           ],
           "yaxis": "y"
          },
          {
           "hovertemplate": "Team=Chelsea<br>Matches played=9<br>Average goals scored last five games=%{x}<br>Average goals conceded last five games=%{y}<extra></extra>",
           "legendgroup": "Chelsea",
           "marker": {
            "color": "#D62728",
            "opacity": 0.8,
            "symbol": "circle"
           },
           "mode": "markers",
           "name": "Chelsea",
           "orientation": "v",
           "showlegend": true,
           "type": "scatter",
           "x": [
            2.6
           ],
           "xaxis": "x",
           "y": [
            1
           ],
           "yaxis": "y"
          },
          {
           "hovertemplate": "Team=Everton<br>Matches played=9<br>Average goals scored last five games=%{x}<br>Average goals conceded last five games=%{y}<extra></extra>",
           "legendgroup": "Everton",
           "marker": {
            "color": "#9467BD",
            "opacity": 0.8,
            "symbol": "circle"
           },
           "mode": "markers",
           "name": "Everton",
           "orientation": "v",
           "showlegend": true,
           "type": "scatter",
           "x": [
            1.4
           ],
           "xaxis": "x",
           "y": [
            2.6
           ],
           "yaxis": "y"
          },
          {
           "hovertemplate": "Team=Leicester<br>Matches played=9<br>Average goals scored last five games=%{x}<br>Average goals conceded last five games=%{y}<extra></extra>",
           "legendgroup": "Leicester",
           "marker": {
            "color": "#8C564B",
            "opacity": 0.8,
            "symbol": "circle"
           },
           "mode": "markers",
           "name": "Leicester",
           "orientation": "v",
           "showlegend": true,
           "type": "scatter",
           "x": [
            1.8
           ],
           "xaxis": "x",
           "y": [
            1.4
           ],
           "yaxis": "y"
          },
          {
           "hovertemplate": "Team=Watford<br>Matches played=9<br>Average goals scored last five games=%{x}<br>Average goals conceded last five games=%{y}<extra></extra>",
           "legendgroup": "Watford",
           "marker": {
            "color": "#E377C2",
            "opacity": 0.8,
            "symbol": "circle"
           },
           "mode": "markers",
           "name": "Watford",
           "orientation": "v",
           "showlegend": true,
           "type": "scatter",
           "x": [
            1.4
           ],
           "xaxis": "x",
           "y": [
            2.2
           ],
           "yaxis": "y"
          },
          {
           "hovertemplate": "Team=Norwich<br>Matches played=9<br>Average goals scored last five games=%{x}<br>Average goals conceded last five games=%{y}<extra></extra>",
           "legendgroup": "Norwich",
           "marker": {
            "color": "#7F7F7F",
            "opacity": 0.8,
            "symbol": "circle"
           },
           "mode": "markers",
           "name": "Norwich",
           "orientation": "v",
           "showlegend": true,
           "type": "scatter",
           "x": [
            0.6
           ],
           "xaxis": "x",
           "y": [
            1.2
           ],
           "yaxis": "y"
          },
          {
           "hovertemplate": "Team=Newcastle<br>Matches played=9<br>Average goals scored last five games=%{x}<br>Average goals conceded last five games=%{y}<extra></extra>",
           "legendgroup": "Newcastle",
           "marker": {
            "color": "#BCBD22",
            "opacity": 0.8,
            "symbol": "circle"
           },
           "mode": "markers",
           "name": "Newcastle",
           "orientation": "v",
           "showlegend": true,
           "type": "scatter",
           "x": [
            1
           ],
           "xaxis": "x",
           "y": [
            2.2
           ],
           "yaxis": "y"
          },
          {
           "hovertemplate": "Team=Tottenham<br>Matches played=9<br>Average goals scored last five games=%{x}<br>Average goals conceded last five games=%{y}<extra></extra>",
           "legendgroup": "Tottenham",
           "marker": {
            "color": "#17BECF",
            "opacity": 0.8,
            "symbol": "circle"
           },
           "mode": "markers",
           "name": "Tottenham",
           "orientation": "v",
           "showlegend": true,
           "type": "scatter",
           "x": [
            1.8
           ],
           "xaxis": "x",
           "y": [
            1.2
           ],
           "yaxis": "y"
          },
          {
           "hovertemplate": "Team=Liverpool<br>Matches played=9<br>Average goals scored last five games=%{x}<br>Average goals conceded last five games=%{y}<extra></extra>",
           "legendgroup": "Liverpool",
           "marker": {
            "color": "#1F77B4",
            "opacity": 0.8,
            "symbol": "circle"
           },
           "mode": "markers",
           "name": "Liverpool",
           "orientation": "v",
           "showlegend": true,
           "type": "scatter",
           "x": [
            2.8
           ],
           "xaxis": "x",
           "y": [
            0.6
           ],
           "yaxis": "y"
          },
          {
           "hovertemplate": "Team=Aston Villa<br>Matches played=9<br>Average goals scored last five games=%{x}<br>Average goals conceded last five games=%{y}<extra></extra>",
           "legendgroup": "Aston Villa",
           "marker": {
            "color": "#FF7F0E",
            "opacity": 0.8,
            "symbol": "circle"
           },
           "mode": "markers",
           "name": "Aston Villa",
           "orientation": "v",
           "showlegend": true,
           "type": "scatter",
           "x": [
            1.4
           ],
           "xaxis": "x",
           "y": [
            2
           ],
           "yaxis": "y"
          },
          {
           "hovertemplate": "Team=Crystal Palace<br>Matches played=9<br>Average goals scored last five games=%{x}<br>Average goals conceded last five games=%{y}<extra></extra>",
           "legendgroup": "Crystal Palace",
           "marker": {
            "color": "#2CA02C",
            "opacity": 0.8,
            "symbol": "circle"
           },
           "mode": "markers",
           "name": "Crystal Palace",
           "orientation": "v",
           "showlegend": true,
           "type": "scatter",
           "x": [
            1.8
           ],
           "xaxis": "x",
           "y": [
            1.2
           ],
           "yaxis": "y"
          },
          {
           "hovertemplate": "Team=Leeds<br>Matches played=9<br>Average goals scored last five games=%{x}<br>Average goals conceded last five games=%{y}<extra></extra>",
           "legendgroup": "Leeds",
           "marker": {
            "color": "#D62728",
            "opacity": 0.8,
            "symbol": "circle"
           },
           "mode": "markers",
           "name": "Leeds",
           "orientation": "v",
           "showlegend": true,
           "type": "scatter",
           "x": [
            1.2
           ],
           "xaxis": "x",
           "y": [
            1.6
           ],
           "yaxis": "y"
          },
          {
           "hovertemplate": "Team=Man City<br>Matches played=9<br>Average goals scored last five games=%{x}<br>Average goals conceded last five games=%{y}<extra></extra>",
           "legendgroup": "Man City",
           "marker": {
            "color": "#9467BD",
            "opacity": 0.8,
            "symbol": "circle"
           },
           "mode": "markers",
           "name": "Man City",
           "orientation": "v",
           "showlegend": true,
           "type": "scatter",
           "x": [
            2.6
           ],
           "xaxis": "x",
           "y": [
            0.6
           ],
           "yaxis": "y"
          },
          {
           "hovertemplate": "Team=Brighton<br>Matches played=9<br>Average goals scored last five games=%{x}<br>Average goals conceded last five games=%{y}<extra></extra>",
           "legendgroup": "Brighton",
           "marker": {
            "color": "#8C564B",
            "opacity": 0.8,
            "symbol": "circle"
           },
           "mode": "markers",
           "name": "Brighton",
           "orientation": "v",
           "showlegend": true,
           "type": "scatter",
           "x": [
            0.8
           ],
           "xaxis": "x",
           "y": [
            1.2
           ],
           "yaxis": "y"
          },
          {
           "hovertemplate": "Team=Southampton<br>Matches played=9<br>Average goals scored last five games=%{x}<br>Average goals conceded last five games=%{y}<extra></extra>",
           "legendgroup": "Southampton",
           "marker": {
            "color": "#E377C2",
            "opacity": 0.8,
            "symbol": "circle"
           },
           "mode": "markers",
           "name": "Southampton",
           "orientation": "v",
           "showlegend": true,
           "type": "scatter",
           "x": [
            1.4
           ],
           "xaxis": "x",
           "y": [
            1.2
           ],
           "yaxis": "y"
          },
          {
           "hovertemplate": "Team=Wolves<br>Matches played=9<br>Average goals scored last five games=%{x}<br>Average goals conceded last five games=%{y}<extra></extra>",
           "legendgroup": "Wolves",
           "marker": {
            "color": "#7F7F7F",
            "opacity": 0.8,
            "symbol": "circle"
           },
           "mode": "markers",
           "name": "Wolves",
           "orientation": "v",
           "showlegend": true,
           "type": "scatter",
           "x": [
            0.6
           ],
           "xaxis": "x",
           "y": [
            0.4
           ],
           "yaxis": "y"
          },
          {
           "hovertemplate": "Team=Arsenal<br>Matches played=9<br>Average goals scored last five games=%{x}<br>Average goals conceded last five games=%{y}<extra></extra>",
           "legendgroup": "Arsenal",
           "marker": {
            "color": "#BCBD22",
            "opacity": 0.8,
            "symbol": "circle"
           },
           "mode": "markers",
           "name": "Arsenal",
           "orientation": "v",
           "showlegend": true,
           "type": "scatter",
           "x": [
            2.2
           ],
           "xaxis": "x",
           "y": [
            0.2
           ],
           "yaxis": "y"
          },
          {
           "hovertemplate": "Team=West Ham<br>Matches played=9<br>Average goals scored last five games=%{x}<br>Average goals conceded last five games=%{y}<extra></extra>",
           "legendgroup": "West Ham",
           "marker": {
            "color": "#17BECF",
            "opacity": 0.8,
            "symbol": "circle"
           },
           "mode": "markers",
           "name": "West Ham",
           "orientation": "v",
           "showlegend": true,
           "type": "scatter",
           "x": [
            2
           ],
           "xaxis": "x",
           "y": [
            1.6
           ],
           "yaxis": "y"
          }
         ],
         "name": "9"
        },
        {
         "data": [
          {
           "hovertemplate": "Team=Brentford<br>Matches played=10<br>Average goals scored last five games=%{x}<br>Average goals conceded last five games=%{y}<extra></extra>",
           "legendgroup": "Brentford",
           "marker": {
            "color": "#1F77B4",
            "opacity": 0.8,
            "symbol": "circle"
           },
           "mode": "markers",
           "name": "Brentford",
           "orientation": "v",
           "showlegend": true,
           "type": "scatter",
           "x": [
            1.2
           ],
           "xaxis": "x",
           "y": [
            1
           ],
           "yaxis": "y"
          },
          {
           "hovertemplate": "Team=Man United<br>Matches played=10<br>Average goals scored last five games=%{x}<br>Average goals conceded last five games=%{y}<extra></extra>",
           "legendgroup": "Man United",
           "marker": {
            "color": "#FF7F0E",
            "opacity": 0.8,
            "symbol": "circle"
           },
           "mode": "markers",
           "name": "Man United",
           "orientation": "v",
           "showlegend": true,
           "type": "scatter",
           "x": [
            1.4
           ],
           "xaxis": "x",
           "y": [
            1.2
           ],
           "yaxis": "y"
          },
          {
           "hovertemplate": "Team=Burnley<br>Matches played=10<br>Average goals scored last five games=%{x}<br>Average goals conceded last five games=%{y}<extra></extra>",
           "legendgroup": "Burnley",
           "marker": {
            "color": "#2CA02C",
            "opacity": 0.8,
            "symbol": "circle"
           },
           "mode": "markers",
           "name": "Burnley",
           "orientation": "v",
           "showlegend": true,
           "type": "scatter",
           "x": [
            0.8
           ],
           "xaxis": "x",
           "y": [
            1
           ],
           "yaxis": "y"
          },
          {
           "hovertemplate": "Team=Chelsea<br>Matches played=10<br>Average goals scored last five games=%{x}<br>Average goals conceded last five games=%{y}<extra></extra>",
           "legendgroup": "Chelsea",
           "marker": {
            "color": "#D62728",
            "opacity": 0.8,
            "symbol": "circle"
           },
           "mode": "markers",
           "name": "Chelsea",
           "orientation": "v",
           "showlegend": true,
           "type": "scatter",
           "x": [
            1.4
           ],
           "xaxis": "x",
           "y": [
            1.2
           ],
           "yaxis": "y"
          },
          {
           "hovertemplate": "Team=Everton<br>Matches played=10<br>Average goals scored last five games=%{x}<br>Average goals conceded last five games=%{y}<extra></extra>",
           "legendgroup": "Everton",
           "marker": {
            "color": "#9467BD",
            "opacity": 0.8,
            "symbol": "circle"
           },
           "mode": "markers",
           "name": "Everton",
           "orientation": "v",
           "showlegend": true,
           "type": "scatter",
           "x": [
            1
           ],
           "xaxis": "x",
           "y": [
            1.8
           ],
           "yaxis": "y"
          },
          {
           "hovertemplate": "Team=Leicester<br>Matches played=10<br>Average goals scored last five games=%{x}<br>Average goals conceded last five games=%{y}<extra></extra>",
           "legendgroup": "Leicester",
           "marker": {
            "color": "#8C564B",
            "opacity": 0.8,
            "symbol": "circle"
           },
           "mode": "markers",
           "name": "Leicester",
           "orientation": "v",
           "showlegend": true,
           "type": "scatter",
           "x": [
            2.2
           ],
           "xaxis": "x",
           "y": [
            1.6
           ],
           "yaxis": "y"
          },
          {
           "hovertemplate": "Team=Watford<br>Matches played=10<br>Average goals scored last five games=%{x}<br>Average goals conceded last five games=%{y}<extra></extra>",
           "legendgroup": "Watford",
           "marker": {
            "color": "#E377C2",
            "opacity": 0.8,
            "symbol": "circle"
           },
           "mode": "markers",
           "name": "Watford",
           "orientation": "v",
           "showlegend": true,
           "type": "scatter",
           "x": [
            1.4
           ],
           "xaxis": "x",
           "y": [
            2.2
           ],
           "yaxis": "y"
          },
          {
           "hovertemplate": "Team=Norwich<br>Matches played=10<br>Average goals scored last five games=%{x}<br>Average goals conceded last five games=%{y}<extra></extra>",
           "legendgroup": "Norwich",
           "marker": {
            "color": "#7F7F7F",
            "opacity": 0.8,
            "symbol": "circle"
           },
           "mode": "markers",
           "name": "Norwich",
           "orientation": "v",
           "showlegend": true,
           "type": "scatter",
           "x": [
            0.4
           ],
           "xaxis": "x",
           "y": [
            1.8
           ],
           "yaxis": "y"
          },
          {
           "hovertemplate": "Team=Newcastle<br>Matches played=10<br>Average goals scored last five games=%{x}<br>Average goals conceded last five games=%{y}<extra></extra>",
           "legendgroup": "Newcastle",
           "marker": {
            "color": "#BCBD22",
            "opacity": 0.8,
            "symbol": "circle"
           },
           "mode": "markers",
           "name": "Newcastle",
           "orientation": "v",
           "showlegend": true,
           "type": "scatter",
           "x": [
            1.2
           ],
           "xaxis": "x",
           "y": [
            1.8
           ],
           "yaxis": "y"
          },
          {
           "hovertemplate": "Team=Tottenham<br>Matches played=10<br>Average goals scored last five games=%{x}<br>Average goals conceded last five games=%{y}<extra></extra>",
           "legendgroup": "Tottenham",
           "marker": {
            "color": "#17BECF",
            "opacity": 0.8,
            "symbol": "circle"
           },
           "mode": "markers",
           "name": "Tottenham",
           "orientation": "v",
           "showlegend": true,
           "type": "scatter",
           "x": [
            2.4
           ],
           "xaxis": "x",
           "y": [
            0.6
           ],
           "yaxis": "y"
          },
          {
           "hovertemplate": "Team=Liverpool<br>Matches played=10<br>Average goals scored last five games=%{x}<br>Average goals conceded last five games=%{y}<extra></extra>",
           "legendgroup": "Liverpool",
           "marker": {
            "color": "#1F77B4",
            "opacity": 0.8,
            "symbol": "circle"
           },
           "mode": "markers",
           "name": "Liverpool",
           "orientation": "v",
           "showlegend": true,
           "type": "scatter",
           "x": [
            3
           ],
           "xaxis": "x",
           "y": [
            0.2
           ],
           "yaxis": "y"
          },
          {
           "hovertemplate": "Team=Aston Villa<br>Matches played=10<br>Average goals scored last five games=%{x}<br>Average goals conceded last five games=%{y}<extra></extra>",
           "legendgroup": "Aston Villa",
           "marker": {
            "color": "#FF7F0E",
            "opacity": 0.8,
            "symbol": "circle"
           },
           "mode": "markers",
           "name": "Aston Villa",
           "orientation": "v",
           "showlegend": true,
           "type": "scatter",
           "x": [
            1.6
           ],
           "xaxis": "x",
           "y": [
            1.6
           ],
           "yaxis": "y"
          },
          {
           "hovertemplate": "Team=Crystal Palace<br>Matches played=10<br>Average goals scored last five games=%{x}<br>Average goals conceded last five games=%{y}<extra></extra>",
           "legendgroup": "Crystal Palace",
           "marker": {
            "color": "#2CA02C",
            "opacity": 0.8,
            "symbol": "circle"
           },
           "mode": "markers",
           "name": "Crystal Palace",
           "orientation": "v",
           "showlegend": true,
           "type": "scatter",
           "x": [
            2.2
           ],
           "xaxis": "x",
           "y": [
            1
           ],
           "yaxis": "y"
          },
          {
           "hovertemplate": "Team=Leeds<br>Matches played=10<br>Average goals scored last five games=%{x}<br>Average goals conceded last five games=%{y}<extra></extra>",
           "legendgroup": "Leeds",
           "marker": {
            "color": "#D62728",
            "opacity": 0.8,
            "symbol": "circle"
           },
           "mode": "markers",
           "name": "Leeds",
           "orientation": "v",
           "showlegend": true,
           "type": "scatter",
           "x": [
            1.6
           ],
           "xaxis": "x",
           "y": [
            1.6
           ],
           "yaxis": "y"
          },
          {
           "hovertemplate": "Team=Man City<br>Matches played=10<br>Average goals scored last five games=%{x}<br>Average goals conceded last five games=%{y}<extra></extra>",
           "legendgroup": "Man City",
           "marker": {
            "color": "#9467BD",
            "opacity": 0.8,
            "symbol": "circle"
           },
           "mode": "markers",
           "name": "Man City",
           "orientation": "v",
           "showlegend": true,
           "type": "scatter",
           "x": [
            3.8
           ],
           "xaxis": "x",
           "y": [
            0.8
           ],
           "yaxis": "y"
          },
          {
           "hovertemplate": "Team=Brighton<br>Matches played=10<br>Average goals scored last five games=%{x}<br>Average goals conceded last five games=%{y}<extra></extra>",
           "legendgroup": "Brighton",
           "marker": {
            "color": "#8C564B",
            "opacity": 0.8,
            "symbol": "circle"
           },
           "mode": "markers",
           "name": "Brighton",
           "orientation": "v",
           "showlegend": true,
           "type": "scatter",
           "x": [
            0.8
           ],
           "xaxis": "x",
           "y": [
            0.6
           ],
           "yaxis": "y"
          },
          {
           "hovertemplate": "Team=Southampton<br>Matches played=10<br>Average goals scored last five games=%{x}<br>Average goals conceded last five games=%{y}<extra></extra>",
           "legendgroup": "Southampton",
           "marker": {
            "color": "#E377C2",
            "opacity": 0.8,
            "symbol": "circle"
           },
           "mode": "markers",
           "name": "Southampton",
           "orientation": "v",
           "showlegend": true,
           "type": "scatter",
           "x": [
            1.8
           ],
           "xaxis": "x",
           "y": [
            1
           ],
           "yaxis": "y"
          },
          {
           "hovertemplate": "Team=Wolves<br>Matches played=10<br>Average goals scored last five games=%{x}<br>Average goals conceded last five games=%{y}<extra></extra>",
           "legendgroup": "Wolves",
           "marker": {
            "color": "#7F7F7F",
            "opacity": 0.8,
            "symbol": "circle"
           },
           "mode": "markers",
           "name": "Wolves",
           "orientation": "v",
           "showlegend": true,
           "type": "scatter",
           "x": [
            0.8
           ],
           "xaxis": "x",
           "y": [
            0.4
           ],
           "yaxis": "y"
          },
          {
           "hovertemplate": "Team=Arsenal<br>Matches played=10<br>Average goals scored last five games=%{x}<br>Average goals conceded last five games=%{y}<extra></extra>",
           "legendgroup": "Arsenal",
           "marker": {
            "color": "#BCBD22",
            "opacity": 0.8,
            "symbol": "circle"
           },
           "mode": "markers",
           "name": "Arsenal",
           "orientation": "v",
           "showlegend": true,
           "type": "scatter",
           "x": [
            1.8
           ],
           "xaxis": "x",
           "y": [
            0.4
           ],
           "yaxis": "y"
          },
          {
           "hovertemplate": "Team=West Ham<br>Matches played=10<br>Average goals scored last five games=%{x}<br>Average goals conceded last five games=%{y}<extra></extra>",
           "legendgroup": "West Ham",
           "marker": {
            "color": "#17BECF",
            "opacity": 0.8,
            "symbol": "circle"
           },
           "mode": "markers",
           "name": "West Ham",
           "orientation": "v",
           "showlegend": true,
           "type": "scatter",
           "x": [
            2.2
           ],
           "xaxis": "x",
           "y": [
            1.6
           ],
           "yaxis": "y"
          }
         ],
         "name": "10"
        },
        {
         "data": [
          {
           "hovertemplate": "Team=Brentford<br>Matches played=11<br>Average goals scored last five games=%{x}<br>Average goals conceded last five games=%{y}<extra></extra>",
           "legendgroup": "Brentford",
           "marker": {
            "color": "#1F77B4",
            "opacity": 0.8,
            "symbol": "circle"
           },
           "mode": "markers",
           "name": "Brentford",
           "orientation": "v",
           "showlegend": true,
           "type": "scatter",
           "x": [
            1.2
           ],
           "xaxis": "x",
           "y": [
            1.2
           ],
           "yaxis": "y"
          },
          {
           "hovertemplate": "Team=Man United<br>Matches played=11<br>Average goals scored last five games=%{x}<br>Average goals conceded last five games=%{y}<extra></extra>",
           "legendgroup": "Man United",
           "marker": {
            "color": "#FF7F0E",
            "opacity": 0.8,
            "symbol": "circle"
           },
           "mode": "markers",
           "name": "Man United",
           "orientation": "v",
           "showlegend": true,
           "type": "scatter",
           "x": [
            1.6
           ],
           "xaxis": "x",
           "y": [
            0.8
           ],
           "yaxis": "y"
          },
          {
           "hovertemplate": "Team=Burnley<br>Matches played=11<br>Average goals scored last five games=%{x}<br>Average goals conceded last five games=%{y}<extra></extra>",
           "legendgroup": "Burnley",
           "marker": {
            "color": "#2CA02C",
            "opacity": 0.8,
            "symbol": "circle"
           },
           "mode": "markers",
           "name": "Burnley",
           "orientation": "v",
           "showlegend": true,
           "type": "scatter",
           "x": [
            0.4
           ],
           "xaxis": "x",
           "y": [
            0.4
           ],
           "yaxis": "y"
          },
          {
           "hovertemplate": "Team=Chelsea<br>Matches played=11<br>Average goals scored last five games=%{x}<br>Average goals conceded last five games=%{y}<extra></extra>",
           "legendgroup": "Chelsea",
           "marker": {
            "color": "#D62728",
            "opacity": 0.8,
            "symbol": "circle"
           },
           "mode": "markers",
           "name": "Chelsea",
           "orientation": "v",
           "showlegend": true,
           "type": "scatter",
           "x": [
            1.6
           ],
           "xaxis": "x",
           "y": [
            1.4
           ],
           "yaxis": "y"
          },
          {
           "hovertemplate": "Team=Everton<br>Matches played=11<br>Average goals scored last five games=%{x}<br>Average goals conceded last five games=%{y}<extra></extra>",
           "legendgroup": "Everton",
           "marker": {
            "color": "#9467BD",
            "opacity": 0.8,
            "symbol": "circle"
           },
           "mode": "markers",
           "name": "Everton",
           "orientation": "v",
           "showlegend": true,
           "type": "scatter",
           "x": [
            1.6
           ],
           "xaxis": "x",
           "y": [
            1.8
           ],
           "yaxis": "y"
          },
          {
           "hovertemplate": "Team=Leicester<br>Matches played=11<br>Average goals scored last five games=%{x}<br>Average goals conceded last five games=%{y}<extra></extra>",
           "legendgroup": "Leicester",
           "marker": {
            "color": "#8C564B",
            "opacity": 0.8,
            "symbol": "circle"
           },
           "mode": "markers",
           "name": "Leicester",
           "orientation": "v",
           "showlegend": true,
           "type": "scatter",
           "x": [
            2.4
           ],
           "xaxis": "x",
           "y": [
            1.2
           ],
           "yaxis": "y"
          },
          {
           "hovertemplate": "Team=Watford<br>Matches played=11<br>Average goals scored last five games=%{x}<br>Average goals conceded last five games=%{y}<extra></extra>",
           "legendgroup": "Watford",
           "marker": {
            "color": "#E377C2",
            "opacity": 0.8,
            "symbol": "circle"
           },
           "mode": "markers",
           "name": "Watford",
           "orientation": "v",
           "showlegend": true,
           "type": "scatter",
           "x": [
            0.6
           ],
           "xaxis": "x",
           "y": [
            2.6
           ],
           "yaxis": "y"
          },
          {
           "hovertemplate": "Team=Norwich<br>Matches played=11<br>Average goals scored last five games=%{x}<br>Average goals conceded last five games=%{y}<extra></extra>",
           "legendgroup": "Norwich",
           "marker": {
            "color": "#7F7F7F",
            "opacity": 0.8,
            "symbol": "circle"
           },
           "mode": "markers",
           "name": "Norwich",
           "orientation": "v",
           "showlegend": true,
           "type": "scatter",
           "x": [
            0.4
           ],
           "xaxis": "x",
           "y": [
            1.8
           ],
           "yaxis": "y"
          },
          {
           "hovertemplate": "Team=Newcastle<br>Matches played=11<br>Average goals scored last five games=%{x}<br>Average goals conceded last five games=%{y}<extra></extra>",
           "legendgroup": "Newcastle",
           "marker": {
            "color": "#BCBD22",
            "opacity": 0.8,
            "symbol": "circle"
           },
           "mode": "markers",
           "name": "Newcastle",
           "orientation": "v",
           "showlegend": true,
           "type": "scatter",
           "x": [
            0.8
           ],
           "xaxis": "x",
           "y": [
            1.4
           ],
           "yaxis": "y"
          },
          {
           "hovertemplate": "Team=Tottenham<br>Matches played=11<br>Average goals scored last five games=%{x}<br>Average goals conceded last five games=%{y}<extra></extra>",
           "legendgroup": "Tottenham",
           "marker": {
            "color": "#17BECF",
            "opacity": 0.8,
            "symbol": "circle"
           },
           "mode": "markers",
           "name": "Tottenham",
           "orientation": "v",
           "showlegend": true,
           "type": "scatter",
           "x": [
            2.4
           ],
           "xaxis": "x",
           "y": [
            1
           ],
           "yaxis": "y"
          },
          {
           "hovertemplate": "Team=Liverpool<br>Matches played=11<br>Average goals scored last five games=%{x}<br>Average goals conceded last five games=%{y}<extra></extra>",
           "legendgroup": "Liverpool",
           "marker": {
            "color": "#1F77B4",
            "opacity": 0.8,
            "symbol": "circle"
           },
           "mode": "markers",
           "name": "Liverpool",
           "orientation": "v",
           "showlegend": true,
           "type": "scatter",
           "x": [
            2.6
           ],
           "xaxis": "x",
           "y": [
            0.2
           ],
           "yaxis": "y"
          },
          {
           "hovertemplate": "Team=Aston Villa<br>Matches played=11<br>Average goals scored last five games=%{x}<br>Average goals conceded last five games=%{y}<extra></extra>",
           "legendgroup": "Aston Villa",
           "marker": {
            "color": "#FF7F0E",
            "opacity": 0.8,
            "symbol": "circle"
           },
           "mode": "markers",
           "name": "Aston Villa",
           "orientation": "v",
           "showlegend": true,
           "type": "scatter",
           "x": [
            1.8
           ],
           "xaxis": "x",
           "y": [
            2.2
           ],
           "yaxis": "y"
          },
          {
           "hovertemplate": "Team=Crystal Palace<br>Matches played=11<br>Average goals scored last five games=%{x}<br>Average goals conceded last five games=%{y}<extra></extra>",
           "legendgroup": "Crystal Palace",
           "marker": {
            "color": "#2CA02C",
            "opacity": 0.8,
            "symbol": "circle"
           },
           "mode": "markers",
           "name": "Crystal Palace",
           "orientation": "v",
           "showlegend": true,
           "type": "scatter",
           "x": [
            2.2
           ],
           "xaxis": "x",
           "y": [
            1.6
           ],
           "yaxis": "y"
          },
          {
           "hovertemplate": "Team=Leeds<br>Matches played=11<br>Average goals scored last five games=%{x}<br>Average goals conceded last five games=%{y}<extra></extra>",
           "legendgroup": "Leeds",
           "marker": {
            "color": "#D62728",
            "opacity": 0.8,
            "symbol": "circle"
           },
           "mode": "markers",
           "name": "Leeds",
           "orientation": "v",
           "showlegend": true,
           "type": "scatter",
           "x": [
            1.4
           ],
           "xaxis": "x",
           "y": [
            1.6
           ],
           "yaxis": "y"
          },
          {
           "hovertemplate": "Team=Man City<br>Matches played=11<br>Average goals scored last five games=%{x}<br>Average goals conceded last five games=%{y}<extra></extra>",
           "legendgroup": "Man City",
           "marker": {
            "color": "#9467BD",
            "opacity": 0.8,
            "symbol": "circle"
           },
           "mode": "markers",
           "name": "Man City",
           "orientation": "v",
           "showlegend": true,
           "type": "scatter",
           "x": [
            3.4
           ],
           "xaxis": "x",
           "y": [
            0.8
           ],
           "yaxis": "y"
          },
          {
           "hovertemplate": "Team=Brighton<br>Matches played=11<br>Average goals scored last five games=%{x}<br>Average goals conceded last five games=%{y}<extra></extra>",
           "legendgroup": "Brighton",
           "marker": {
            "color": "#8C564B",
            "opacity": 0.8,
            "symbol": "circle"
           },
           "mode": "markers",
           "name": "Brighton",
           "orientation": "v",
           "showlegend": true,
           "type": "scatter",
           "x": [
            0.8
           ],
           "xaxis": "x",
           "y": [
            0.6
           ],
           "yaxis": "y"
          },
          {
           "hovertemplate": "Team=Southampton<br>Matches played=11<br>Average goals scored last five games=%{x}<br>Average goals conceded last five games=%{y}<extra></extra>",
           "legendgroup": "Southampton",
           "marker": {
            "color": "#E377C2",
            "opacity": 0.8,
            "symbol": "circle"
           },
           "mode": "markers",
           "name": "Southampton",
           "orientation": "v",
           "showlegend": true,
           "type": "scatter",
           "x": [
            1.8
           ],
           "xaxis": "x",
           "y": [
            1.2
           ],
           "yaxis": "y"
          },
          {
           "hovertemplate": "Team=Wolves<br>Matches played=11<br>Average goals scored last five games=%{x}<br>Average goals conceded last five games=%{y}<extra></extra>",
           "legendgroup": "Wolves",
           "marker": {
            "color": "#7F7F7F",
            "opacity": 0.8,
            "symbol": "circle"
           },
           "mode": "markers",
           "name": "Wolves",
           "orientation": "v",
           "showlegend": true,
           "type": "scatter",
           "x": [
            0.6
           ],
           "xaxis": "x",
           "y": [
            0.6
           ],
           "yaxis": "y"
          },
          {
           "hovertemplate": "Team=Arsenal<br>Matches played=11<br>Average goals scored last five games=%{x}<br>Average goals conceded last five games=%{y}<extra></extra>",
           "legendgroup": "Arsenal",
           "marker": {
            "color": "#BCBD22",
            "opacity": 0.8,
            "symbol": "circle"
           },
           "mode": "markers",
           "name": "Arsenal",
           "orientation": "v",
           "showlegend": true,
           "type": "scatter",
           "x": [
            1.6
           ],
           "xaxis": "x",
           "y": [
            0.4
           ],
           "yaxis": "y"
          },
          {
           "hovertemplate": "Team=West Ham<br>Matches played=11<br>Average goals scored last five games=%{x}<br>Average goals conceded last five games=%{y}<extra></extra>",
           "legendgroup": "West Ham",
           "marker": {
            "color": "#17BECF",
            "opacity": 0.8,
            "symbol": "circle"
           },
           "mode": "markers",
           "name": "West Ham",
           "orientation": "v",
           "showlegend": true,
           "type": "scatter",
           "x": [
            2
           ],
           "xaxis": "x",
           "y": [
            1.8
           ],
           "yaxis": "y"
          }
         ],
         "name": "11"
        },
        {
         "data": [
          {
           "hovertemplate": "Team=Brentford<br>Matches played=12<br>Average goals scored last five games=%{x}<br>Average goals conceded last five games=%{y}<extra></extra>",
           "legendgroup": "Brentford",
           "marker": {
            "color": "#1F77B4",
            "opacity": 0.8,
            "symbol": "circle"
           },
           "mode": "markers",
           "name": "Brentford",
           "orientation": "v",
           "showlegend": true,
           "type": "scatter",
           "x": [
            1.2
           ],
           "xaxis": "x",
           "y": [
            1.6
           ],
           "yaxis": "y"
          },
          {
           "hovertemplate": "Team=Man United<br>Matches played=12<br>Average goals scored last five games=%{x}<br>Average goals conceded last five games=%{y}<extra></extra>",
           "legendgroup": "Man United",
           "marker": {
            "color": "#FF7F0E",
            "opacity": 0.8,
            "symbol": "circle"
           },
           "mode": "markers",
           "name": "Man United",
           "orientation": "v",
           "showlegend": true,
           "type": "scatter",
           "x": [
            1.2
           ],
           "xaxis": "x",
           "y": [
            0.6
           ],
           "yaxis": "y"
          },
          {
           "hovertemplate": "Team=Burnley<br>Matches played=12<br>Average goals scored last five games=%{x}<br>Average goals conceded last five games=%{y}<extra></extra>",
           "legendgroup": "Burnley",
           "marker": {
            "color": "#2CA02C",
            "opacity": 0.8,
            "symbol": "circle"
           },
           "mode": "markers",
           "name": "Burnley",
           "orientation": "v",
           "showlegend": true,
           "type": "scatter",
           "x": [
            0.4
           ],
           "xaxis": "x",
           "y": [
            0.8
           ],
           "yaxis": "y"
          },
          {
           "hovertemplate": "Team=Chelsea<br>Matches played=12<br>Average goals scored last five games=%{x}<br>Average goals conceded last five games=%{y}<extra></extra>",
           "legendgroup": "Chelsea",
           "marker": {
            "color": "#D62728",
            "opacity": 0.8,
            "symbol": "circle"
           },
           "mode": "markers",
           "name": "Chelsea",
           "orientation": "v",
           "showlegend": true,
           "type": "scatter",
           "x": [
            1.8
           ],
           "xaxis": "x",
           "y": [
            1.2
           ],
           "yaxis": "y"
          },
          {
           "hovertemplate": "Team=Everton<br>Matches played=12<br>Average goals scored last five games=%{x}<br>Average goals conceded last five games=%{y}<extra></extra>",
           "legendgroup": "Everton",
           "marker": {
            "color": "#9467BD",
            "opacity": 0.8,
            "symbol": "circle"
           },
           "mode": "markers",
           "name": "Everton",
           "orientation": "v",
           "showlegend": true,
           "type": "scatter",
           "x": [
            1.4
           ],
           "xaxis": "x",
           "y": [
            1.2
           ],
           "yaxis": "y"
          },
          {
           "hovertemplate": "Team=Leicester<br>Matches played=12<br>Average goals scored last five games=%{x}<br>Average goals conceded last five games=%{y}<extra></extra>",
           "legendgroup": "Leicester",
           "marker": {
            "color": "#8C564B",
            "opacity": 0.8,
            "symbol": "circle"
           },
           "mode": "markers",
           "name": "Leicester",
           "orientation": "v",
           "showlegend": true,
           "type": "scatter",
           "x": [
            2
           ],
           "xaxis": "x",
           "y": [
            1.2
           ],
           "yaxis": "y"
          },
          {
           "hovertemplate": "Team=Watford<br>Matches played=12<br>Average goals scored last five games=%{x}<br>Average goals conceded last five games=%{y}<extra></extra>",
           "legendgroup": "Watford",
           "marker": {
            "color": "#E377C2",
            "opacity": 0.8,
            "symbol": "circle"
           },
           "mode": "markers",
           "name": "Watford",
           "orientation": "v",
           "showlegend": true,
           "type": "scatter",
           "x": [
            0.4
           ],
           "xaxis": "x",
           "y": [
            2.6
           ],
           "yaxis": "y"
          },
          {
           "hovertemplate": "Team=Norwich<br>Matches played=12<br>Average goals scored last five games=%{x}<br>Average goals conceded last five games=%{y}<extra></extra>",
           "legendgroup": "Norwich",
           "marker": {
            "color": "#7F7F7F",
            "opacity": 0.8,
            "symbol": "circle"
           },
           "mode": "markers",
           "name": "Norwich",
           "orientation": "v",
           "showlegend": true,
           "type": "scatter",
           "x": [
            0.6
           ],
           "xaxis": "x",
           "y": [
            2
           ],
           "yaxis": "y"
          },
          {
           "hovertemplate": "Team=Newcastle<br>Matches played=12<br>Average goals scored last five games=%{x}<br>Average goals conceded last five games=%{y}<extra></extra>",
           "legendgroup": "Newcastle",
           "marker": {
            "color": "#BCBD22",
            "opacity": 0.8,
            "symbol": "circle"
           },
           "mode": "markers",
           "name": "Newcastle",
           "orientation": "v",
           "showlegend": true,
           "type": "scatter",
           "x": [
            1.2
           ],
           "xaxis": "x",
           "y": [
            1.4
           ],
           "yaxis": "y"
          },
          {
           "hovertemplate": "Team=Tottenham<br>Matches played=12<br>Average goals scored last five games=%{x}<br>Average goals conceded last five games=%{y}<extra></extra>",
           "legendgroup": "Tottenham",
           "marker": {
            "color": "#17BECF",
            "opacity": 0.8,
            "symbol": "circle"
           },
           "mode": "markers",
           "name": "Tottenham",
           "orientation": "v",
           "showlegend": true,
           "type": "scatter",
           "x": [
            2
           ],
           "xaxis": "x",
           "y": [
            1.4
           ],
           "yaxis": "y"
          },
          {
           "hovertemplate": "Team=Liverpool<br>Matches played=12<br>Average goals scored last five games=%{x}<br>Average goals conceded last five games=%{y}<extra></extra>",
           "legendgroup": "Liverpool",
           "marker": {
            "color": "#1F77B4",
            "opacity": 0.8,
            "symbol": "circle"
           },
           "mode": "markers",
           "name": "Liverpool",
           "orientation": "v",
           "showlegend": true,
           "type": "scatter",
           "x": [
            2.4
           ],
           "xaxis": "x",
           "y": [
            0.4
           ],
           "yaxis": "y"
          },
          {
           "hovertemplate": "Team=Aston Villa<br>Matches played=12<br>Average goals scored last five games=%{x}<br>Average goals conceded last five games=%{y}<extra></extra>",
           "legendgroup": "Aston Villa",
           "marker": {
            "color": "#FF7F0E",
            "opacity": 0.8,
            "symbol": "circle"
           },
           "mode": "markers",
           "name": "Aston Villa",
           "orientation": "v",
           "showlegend": true,
           "type": "scatter",
           "x": [
            1.6
           ],
           "xaxis": "x",
           "y": [
            2
           ],
           "yaxis": "y"
          },
          {
           "hovertemplate": "Team=Crystal Palace<br>Matches played=12<br>Average goals scored last five games=%{x}<br>Average goals conceded last five games=%{y}<extra></extra>",
           "legendgroup": "Crystal Palace",
           "marker": {
            "color": "#2CA02C",
            "opacity": 0.8,
            "symbol": "circle"
           },
           "mode": "markers",
           "name": "Crystal Palace",
           "orientation": "v",
           "showlegend": true,
           "type": "scatter",
           "x": [
            2.2
           ],
           "xaxis": "x",
           "y": [
            1.8
           ],
           "yaxis": "y"
          },
          {
           "hovertemplate": "Team=Leeds<br>Matches played=12<br>Average goals scored last five games=%{x}<br>Average goals conceded last five games=%{y}<extra></extra>",
           "legendgroup": "Leeds",
           "marker": {
            "color": "#D62728",
            "opacity": 0.8,
            "symbol": "circle"
           },
           "mode": "markers",
           "name": "Leeds",
           "orientation": "v",
           "showlegend": true,
           "type": "scatter",
           "x": [
            1.6
           ],
           "xaxis": "x",
           "y": [
            2.4
           ],
           "yaxis": "y"
          },
          {
           "hovertemplate": "Team=Man City<br>Matches played=12<br>Average goals scored last five games=%{x}<br>Average goals conceded last five games=%{y}<extra></extra>",
           "legendgroup": "Man City",
           "marker": {
            "color": "#9467BD",
            "opacity": 0.8,
            "symbol": "circle"
           },
           "mode": "markers",
           "name": "Man City",
           "orientation": "v",
           "showlegend": true,
           "type": "scatter",
           "x": [
            3.4
           ],
           "xaxis": "x",
           "y": [
            0.6
           ],
           "yaxis": "y"
          },
          {
           "hovertemplate": "Team=Brighton<br>Matches played=12<br>Average goals scored last five games=%{x}<br>Average goals conceded last five games=%{y}<extra></extra>",
           "legendgroup": "Brighton",
           "marker": {
            "color": "#8C564B",
            "opacity": 0.8,
            "symbol": "circle"
           },
           "mode": "markers",
           "name": "Brighton",
           "orientation": "v",
           "showlegend": true,
           "type": "scatter",
           "x": [
            0.8
           ],
           "xaxis": "x",
           "y": [
            1.2
           ],
           "yaxis": "y"
          },
          {
           "hovertemplate": "Team=Southampton<br>Matches played=12<br>Average goals scored last five games=%{x}<br>Average goals conceded last five games=%{y}<extra></extra>",
           "legendgroup": "Southampton",
           "marker": {
            "color": "#E377C2",
            "opacity": 0.8,
            "symbol": "circle"
           },
           "mode": "markers",
           "name": "Southampton",
           "orientation": "v",
           "showlegend": true,
           "type": "scatter",
           "x": [
            1.8
           ],
           "xaxis": "x",
           "y": [
            0.8
           ],
           "yaxis": "y"
          },
          {
           "hovertemplate": "Team=Wolves<br>Matches played=12<br>Average goals scored last five games=%{x}<br>Average goals conceded last five games=%{y}<extra></extra>",
           "legendgroup": "Wolves",
           "marker": {
            "color": "#7F7F7F",
            "opacity": 0.8,
            "symbol": "circle"
           },
           "mode": "markers",
           "name": "Wolves",
           "orientation": "v",
           "showlegend": true,
           "type": "scatter",
           "x": [
            1
           ],
           "xaxis": "x",
           "y": [
            0.8
           ],
           "yaxis": "y"
          },
          {
           "hovertemplate": "Team=Arsenal<br>Matches played=12<br>Average goals scored last five games=%{x}<br>Average goals conceded last five games=%{y}<extra></extra>",
           "legendgroup": "Arsenal",
           "marker": {
            "color": "#BCBD22",
            "opacity": 0.8,
            "symbol": "circle"
           },
           "mode": "markers",
           "name": "Arsenal",
           "orientation": "v",
           "showlegend": true,
           "type": "scatter",
           "x": [
            1.6
           ],
           "xaxis": "x",
           "y": [
            0.6
           ],
           "yaxis": "y"
          },
          {
           "hovertemplate": "Team=West Ham<br>Matches played=12<br>Average goals scored last five games=%{x}<br>Average goals conceded last five games=%{y}<extra></extra>",
           "legendgroup": "West Ham",
           "marker": {
            "color": "#17BECF",
            "opacity": 0.8,
            "symbol": "circle"
           },
           "mode": "markers",
           "name": "West Ham",
           "orientation": "v",
           "showlegend": true,
           "type": "scatter",
           "x": [
            2
           ],
           "xaxis": "x",
           "y": [
            1.6
           ],
           "yaxis": "y"
          }
         ],
         "name": "12"
        },
        {
         "data": [
          {
           "hovertemplate": "Team=Brentford<br>Matches played=13<br>Average goals scored last five games=%{x}<br>Average goals conceded last five games=%{y}<extra></extra>",
           "legendgroup": "Brentford",
           "marker": {
            "color": "#1F77B4",
            "opacity": 0.8,
            "symbol": "circle"
           },
           "mode": "markers",
           "name": "Brentford",
           "orientation": "v",
           "showlegend": true,
           "type": "scatter",
           "x": [
            0.8
           ],
           "xaxis": "x",
           "y": [
            1.4
           ],
           "yaxis": "y"
          },
          {
           "hovertemplate": "Team=Man United<br>Matches played=13<br>Average goals scored last five games=%{x}<br>Average goals conceded last five games=%{y}<extra></extra>",
           "legendgroup": "Man United",
           "marker": {
            "color": "#FF7F0E",
            "opacity": 0.8,
            "symbol": "circle"
           },
           "mode": "markers",
           "name": "Man United",
           "orientation": "v",
           "showlegend": true,
           "type": "scatter",
           "x": [
            1.4
           ],
           "xaxis": "x",
           "y": [
            0.6
           ],
           "yaxis": "y"
          },
          {
           "hovertemplate": "Team=Burnley<br>Matches played=13<br>Average goals scored last five games=%{x}<br>Average goals conceded last five games=%{y}<extra></extra>",
           "legendgroup": "Burnley",
           "marker": {
            "color": "#2CA02C",
            "opacity": 0.8,
            "symbol": "circle"
           },
           "mode": "markers",
           "name": "Burnley",
           "orientation": "v",
           "showlegend": true,
           "type": "scatter",
           "x": [
            0.4
           ],
           "xaxis": "x",
           "y": [
            1.6
           ],
           "yaxis": "y"
          },
          {
           "hovertemplate": "Team=Chelsea<br>Matches played=13<br>Average goals scored last five games=%{x}<br>Average goals conceded last five games=%{y}<extra></extra>",
           "legendgroup": "Chelsea",
           "marker": {
            "color": "#D62728",
            "opacity": 0.8,
            "symbol": "circle"
           },
           "mode": "markers",
           "name": "Chelsea",
           "orientation": "v",
           "showlegend": true,
           "type": "scatter",
           "x": [
            1.4
           ],
           "xaxis": "x",
           "y": [
            0.8
           ],
           "yaxis": "y"
          },
          {
           "hovertemplate": "Team=Everton<br>Matches played=13<br>Average goals scored last five games=%{x}<br>Average goals conceded last five games=%{y}<extra></extra>",
           "legendgroup": "Everton",
           "marker": {
            "color": "#9467BD",
            "opacity": 0.8,
            "symbol": "circle"
           },
           "mode": "markers",
           "name": "Everton",
           "orientation": "v",
           "showlegend": true,
           "type": "scatter",
           "x": [
            1
           ],
           "xaxis": "x",
           "y": [
            1.2
           ],
           "yaxis": "y"
          },
          {
           "hovertemplate": "Team=Leicester<br>Matches played=13<br>Average goals scored last five games=%{x}<br>Average goals conceded last five games=%{y}<extra></extra>",
           "legendgroup": "Leicester",
           "marker": {
            "color": "#8C564B",
            "opacity": 0.8,
            "symbol": "circle"
           },
           "mode": "markers",
           "name": "Leicester",
           "orientation": "v",
           "showlegend": true,
           "type": "scatter",
           "x": [
            1.4
           ],
           "xaxis": "x",
           "y": [
            1.2
           ],
           "yaxis": "y"
          },
          {
           "hovertemplate": "Team=Watford<br>Matches played=13<br>Average goals scored last five games=%{x}<br>Average goals conceded last five games=%{y}<extra></extra>",
           "legendgroup": "Watford",
           "marker": {
            "color": "#E377C2",
            "opacity": 0.8,
            "symbol": "circle"
           },
           "mode": "markers",
           "name": "Watford",
           "orientation": "v",
           "showlegend": true,
           "type": "scatter",
           "x": [
            0.4
           ],
           "xaxis": "x",
           "y": [
            2.8
           ],
           "yaxis": "y"
          },
          {
           "hovertemplate": "Team=Norwich<br>Matches played=13<br>Average goals scored last five games=%{x}<br>Average goals conceded last five games=%{y}<extra></extra>",
           "legendgroup": "Norwich",
           "marker": {
            "color": "#7F7F7F",
            "opacity": 0.8,
            "symbol": "circle"
           },
           "mode": "markers",
           "name": "Norwich",
           "orientation": "v",
           "showlegend": true,
           "type": "scatter",
           "x": [
            0.6
           ],
           "xaxis": "x",
           "y": [
            2.6
           ],
           "yaxis": "y"
          },
          {
           "hovertemplate": "Team=Newcastle<br>Matches played=13<br>Average goals scored last five games=%{x}<br>Average goals conceded last five games=%{y}<extra></extra>",
           "legendgroup": "Newcastle",
           "marker": {
            "color": "#BCBD22",
            "opacity": 0.8,
            "symbol": "circle"
           },
           "mode": "markers",
           "name": "Newcastle",
           "orientation": "v",
           "showlegend": true,
           "type": "scatter",
           "x": [
            1.2
           ],
           "xaxis": "x",
           "y": [
            1.4
           ],
           "yaxis": "y"
          },
          {
           "hovertemplate": "Team=Tottenham<br>Matches played=13<br>Average goals scored last five games=%{x}<br>Average goals conceded last five games=%{y}<extra></extra>",
           "legendgroup": "Tottenham",
           "marker": {
            "color": "#17BECF",
            "opacity": 0.8,
            "symbol": "circle"
           },
           "mode": "markers",
           "name": "Tottenham",
           "orientation": "v",
           "showlegend": true,
           "type": "scatter",
           "x": [
            2.4
           ],
           "xaxis": "x",
           "y": [
            1.4
           ],
           "yaxis": "y"
          },
          {
           "hovertemplate": "Team=Liverpool<br>Matches played=13<br>Average goals scored last five games=%{x}<br>Average goals conceded last five games=%{y}<extra></extra>",
           "legendgroup": "Liverpool",
           "marker": {
            "color": "#1F77B4",
            "opacity": 0.8,
            "symbol": "circle"
           },
           "mode": "markers",
           "name": "Liverpool",
           "orientation": "v",
           "showlegend": true,
           "type": "scatter",
           "x": [
            3.4
           ],
           "xaxis": "x",
           "y": [
            0.4
           ],
           "yaxis": "y"
          },
          {
           "hovertemplate": "Team=Aston Villa<br>Matches played=13<br>Average goals scored last five games=%{x}<br>Average goals conceded last five games=%{y}<extra></extra>",
           "legendgroup": "Aston Villa",
           "marker": {
            "color": "#FF7F0E",
            "opacity": 0.8,
            "symbol": "circle"
           },
           "mode": "markers",
           "name": "Aston Villa",
           "orientation": "v",
           "showlegend": true,
           "type": "scatter",
           "x": [
            2
           ],
           "xaxis": "x",
           "y": [
            1.8
           ],
           "yaxis": "y"
          },
          {
           "hovertemplate": "Team=Crystal Palace<br>Matches played=13<br>Average goals scored last five games=%{x}<br>Average goals conceded last five games=%{y}<extra></extra>",
           "legendgroup": "Crystal Palace",
           "marker": {
            "color": "#2CA02C",
            "opacity": 0.8,
            "symbol": "circle"
           },
           "mode": "markers",
           "name": "Crystal Palace",
           "orientation": "v",
           "showlegend": true,
           "type": "scatter",
           "x": [
            1.6
           ],
           "xaxis": "x",
           "y": [
            1.8
           ],
           "yaxis": "y"
          },
          {
           "hovertemplate": "Team=Leeds<br>Matches played=13<br>Average goals scored last five games=%{x}<br>Average goals conceded last five games=%{y}<extra></extra>",
           "legendgroup": "Leeds",
           "marker": {
            "color": "#D62728",
            "opacity": 0.8,
            "symbol": "circle"
           },
           "mode": "markers",
           "name": "Leeds",
           "orientation": "v",
           "showlegend": true,
           "type": "scatter",
           "x": [
            1.2
           ],
           "xaxis": "x",
           "y": [
            2.8
           ],
           "yaxis": "y"
          },
          {
           "hovertemplate": "Team=Man City<br>Matches played=13<br>Average goals scored last five games=%{x}<br>Average goals conceded last five games=%{y}<extra></extra>",
           "legendgroup": "Man City",
           "marker": {
            "color": "#9467BD",
            "opacity": 0.8,
            "symbol": "circle"
           },
           "mode": "markers",
           "name": "Man City",
           "orientation": "v",
           "showlegend": true,
           "type": "scatter",
           "x": [
            3.6
           ],
           "xaxis": "x",
           "y": [
            1.2
           ],
           "yaxis": "y"
          },
          {
           "hovertemplate": "Team=Brighton<br>Matches played=13<br>Average goals scored last five games=%{x}<br>Average goals conceded last five games=%{y}<extra></extra>",
           "legendgroup": "Brighton",
           "marker": {
            "color": "#8C564B",
            "opacity": 0.8,
            "symbol": "circle"
           },
           "mode": "markers",
           "name": "Brighton",
           "orientation": "v",
           "showlegend": true,
           "type": "scatter",
           "x": [
            0.8
           ],
           "xaxis": "x",
           "y": [
            1.4
           ],
           "yaxis": "y"
          },
          {
           "hovertemplate": "Team=Southampton<br>Matches played=13<br>Average goals scored last five games=%{x}<br>Average goals conceded last five games=%{y}<extra></extra>",
           "legendgroup": "Southampton",
           "marker": {
            "color": "#E377C2",
            "opacity": 0.8,
            "symbol": "circle"
           },
           "mode": "markers",
           "name": "Southampton",
           "orientation": "v",
           "showlegend": true,
           "type": "scatter",
           "x": [
            2
           ],
           "xaxis": "x",
           "y": [
            0.6
           ],
           "yaxis": "y"
          },
          {
           "hovertemplate": "Team=Wolves<br>Matches played=13<br>Average goals scored last five games=%{x}<br>Average goals conceded last five games=%{y}<extra></extra>",
           "legendgroup": "Wolves",
           "marker": {
            "color": "#7F7F7F",
            "opacity": 0.8,
            "symbol": "circle"
           },
           "mode": "markers",
           "name": "Wolves",
           "orientation": "v",
           "showlegend": true,
           "type": "scatter",
           "x": [
            1
           ],
           "xaxis": "x",
           "y": [
            1
           ],
           "yaxis": "y"
          },
          {
           "hovertemplate": "Team=Arsenal<br>Matches played=13<br>Average goals scored last five games=%{x}<br>Average goals conceded last five games=%{y}<extra></extra>",
           "legendgroup": "Arsenal",
           "marker": {
            "color": "#BCBD22",
            "opacity": 0.8,
            "symbol": "circle"
           },
           "mode": "markers",
           "name": "Arsenal",
           "orientation": "v",
           "showlegend": true,
           "type": "scatter",
           "x": [
            1.4
           ],
           "xaxis": "x",
           "y": [
            0.8
           ],
           "yaxis": "y"
          },
          {
           "hovertemplate": "Team=West Ham<br>Matches played=13<br>Average goals scored last five games=%{x}<br>Average goals conceded last five games=%{y}<extra></extra>",
           "legendgroup": "West Ham",
           "marker": {
            "color": "#17BECF",
            "opacity": 0.8,
            "symbol": "circle"
           },
           "mode": "markers",
           "name": "West Ham",
           "orientation": "v",
           "showlegend": true,
           "type": "scatter",
           "x": [
            1.6
           ],
           "xaxis": "x",
           "y": [
            1.4
           ],
           "yaxis": "y"
          }
         ],
         "name": "13"
        },
        {
         "data": [
          {
           "hovertemplate": "Team=Brentford<br>Matches played=14<br>Average goals scored last five games=%{x}<br>Average goals conceded last five games=%{y}<extra></extra>",
           "legendgroup": "Brentford",
           "marker": {
            "color": "#1F77B4",
            "opacity": 0.8,
            "symbol": "circle"
           },
           "mode": "markers",
           "name": "Brentford",
           "orientation": "v",
           "showlegend": true,
           "type": "scatter",
           "x": [
            0.8
           ],
           "xaxis": "x",
           "y": [
            1.6
           ],
           "yaxis": "y"
          },
          {
           "hovertemplate": "Team=Man United<br>Matches played=14<br>Average goals scored last five games=%{x}<br>Average goals conceded last five games=%{y}<extra></extra>",
           "legendgroup": "Man United",
           "marker": {
            "color": "#FF7F0E",
            "opacity": 0.8,
            "symbol": "circle"
           },
           "mode": "markers",
           "name": "Man United",
           "orientation": "v",
           "showlegend": true,
           "type": "scatter",
           "x": [
            0.8
           ],
           "xaxis": "x",
           "y": [
            0.4
           ],
           "yaxis": "y"
          },
          {
           "hovertemplate": "Team=Burnley<br>Matches played=14<br>Average goals scored last five games=%{x}<br>Average goals conceded last five games=%{y}<extra></extra>",
           "legendgroup": "Burnley",
           "marker": {
            "color": "#2CA02C",
            "opacity": 0.8,
            "symbol": "circle"
           },
           "mode": "markers",
           "name": "Burnley",
           "orientation": "v",
           "showlegend": true,
           "type": "scatter",
           "x": [
            0.2
           ],
           "xaxis": "x",
           "y": [
            1.8
           ],
           "yaxis": "y"
          },
          {
           "hovertemplate": "Team=Chelsea<br>Matches played=14<br>Average goals scored last five games=%{x}<br>Average goals conceded last five games=%{y}<extra></extra>",
           "legendgroup": "Chelsea",
           "marker": {
            "color": "#D62728",
            "opacity": 0.8,
            "symbol": "circle"
           },
           "mode": "markers",
           "name": "Chelsea",
           "orientation": "v",
           "showlegend": true,
           "type": "scatter",
           "x": [
            1.4
           ],
           "xaxis": "x",
           "y": [
            1.4
           ],
           "yaxis": "y"
          },
          {
           "hovertemplate": "Team=Everton<br>Matches played=14<br>Average goals scored last five games=%{x}<br>Average goals conceded last five games=%{y}<extra></extra>",
           "legendgroup": "Everton",
           "marker": {
            "color": "#9467BD",
            "opacity": 0.8,
            "symbol": "circle"
           },
           "mode": "markers",
           "name": "Everton",
           "orientation": "v",
           "showlegend": true,
           "type": "scatter",
           "x": [
            0.8
           ],
           "xaxis": "x",
           "y": [
            0.6
           ],
           "yaxis": "y"
          },
          {
           "hovertemplate": "Team=Leicester<br>Matches played=14<br>Average goals scored last five games=%{x}<br>Average goals conceded last five games=%{y}<extra></extra>",
           "legendgroup": "Leicester",
           "marker": {
            "color": "#8C564B",
            "opacity": 0.8,
            "symbol": "circle"
           },
           "mode": "markers",
           "name": "Leicester",
           "orientation": "v",
           "showlegend": true,
           "type": "scatter",
           "x": [
            1.6
           ],
           "xaxis": "x",
           "y": [
            1.4
           ],
           "yaxis": "y"
          },
          {
           "hovertemplate": "Team=Watford<br>Matches played=14<br>Average goals scored last five games=%{x}<br>Average goals conceded last five games=%{y}<extra></extra>",
           "legendgroup": "Watford",
           "marker": {
            "color": "#E377C2",
            "opacity": 0.8,
            "symbol": "circle"
           },
           "mode": "markers",
           "name": "Watford",
           "orientation": "v",
           "showlegend": true,
           "type": "scatter",
           "x": [
            0.6
           ],
           "xaxis": "x",
           "y": [
            2.6
           ],
           "yaxis": "y"
          },
          {
           "hovertemplate": "Team=Norwich<br>Matches played=14<br>Average goals scored last five games=%{x}<br>Average goals conceded last five games=%{y}<extra></extra>",
           "legendgroup": "Norwich",
           "marker": {
            "color": "#7F7F7F",
            "opacity": 0.8,
            "symbol": "circle"
           },
           "mode": "markers",
           "name": "Norwich",
           "orientation": "v",
           "showlegend": true,
           "type": "scatter",
           "x": [
            0.8
           ],
           "xaxis": "x",
           "y": [
            2.8
           ],
           "yaxis": "y"
          },
          {
           "hovertemplate": "Team=Newcastle<br>Matches played=14<br>Average goals scored last five games=%{x}<br>Average goals conceded last five games=%{y}<extra></extra>",
           "legendgroup": "Newcastle",
           "marker": {
            "color": "#BCBD22",
            "opacity": 0.8,
            "symbol": "circle"
           },
           "mode": "markers",
           "name": "Newcastle",
           "orientation": "v",
           "showlegend": true,
           "type": "scatter",
           "x": [
            1.6
           ],
           "xaxis": "x",
           "y": [
            0.8
           ],
           "yaxis": "y"
          },
          {
           "hovertemplate": "Team=Tottenham<br>Matches played=14<br>Average goals scored last five games=%{x}<br>Average goals conceded last five games=%{y}<extra></extra>",
           "legendgroup": "Tottenham",
           "marker": {
            "color": "#17BECF",
            "opacity": 0.8,
            "symbol": "circle"
           },
           "mode": "markers",
           "name": "Tottenham",
           "orientation": "v",
           "showlegend": true,
           "type": "scatter",
           "x": [
            2.6
           ],
           "xaxis": "x",
           "y": [
            1.2
           ],
           "yaxis": "y"
          },
          {
           "hovertemplate": "Team=Liverpool<br>Matches played=14<br>Average goals scored last five games=%{x}<br>Average goals conceded last five games=%{y}<extra></extra>",
           "legendgroup": "Liverpool",
           "marker": {
            "color": "#1F77B4",
            "opacity": 0.8,
            "symbol": "circle"
           },
           "mode": "markers",
           "name": "Liverpool",
           "orientation": "v",
           "showlegend": true,
           "type": "scatter",
           "x": [
            3
           ],
           "xaxis": "x",
           "y": [
            0.2
           ],
           "yaxis": "y"
          },
          {
           "hovertemplate": "Team=Aston Villa<br>Matches played=14<br>Average goals scored last five games=%{x}<br>Average goals conceded last five games=%{y}<extra></extra>",
           "legendgroup": "Aston Villa",
           "marker": {
            "color": "#FF7F0E",
            "opacity": 0.8,
            "symbol": "circle"
           },
           "mode": "markers",
           "name": "Aston Villa",
           "orientation": "v",
           "showlegend": true,
           "type": "scatter",
           "x": [
            1.8
           ],
           "xaxis": "x",
           "y": [
            1.4
           ],
           "yaxis": "y"
          },
          {
           "hovertemplate": "Team=Crystal Palace<br>Matches played=14<br>Average goals scored last five games=%{x}<br>Average goals conceded last five games=%{y}<extra></extra>",
           "legendgroup": "Crystal Palace",
           "marker": {
            "color": "#2CA02C",
            "opacity": 0.8,
            "symbol": "circle"
           },
           "mode": "markers",
           "name": "Crystal Palace",
           "orientation": "v",
           "showlegend": true,
           "type": "scatter",
           "x": [
            1.4
           ],
           "xaxis": "x",
           "y": [
            1.6
           ],
           "yaxis": "y"
          },
          {
           "hovertemplate": "Team=Leeds<br>Matches played=14<br>Average goals scored last five games=%{x}<br>Average goals conceded last five games=%{y}<extra></extra>",
           "legendgroup": "Leeds",
           "marker": {
            "color": "#D62728",
            "opacity": 0.8,
            "symbol": "circle"
           },
           "mode": "markers",
           "name": "Leeds",
           "orientation": "v",
           "showlegend": true,
           "type": "scatter",
           "x": [
            1
           ],
           "xaxis": "x",
           "y": [
            2.6
           ],
           "yaxis": "y"
          },
          {
           "hovertemplate": "Team=Man City<br>Matches played=14<br>Average goals scored last five games=%{x}<br>Average goals conceded last five games=%{y}<extra></extra>",
           "legendgroup": "Man City",
           "marker": {
            "color": "#9467BD",
            "opacity": 0.8,
            "symbol": "circle"
           },
           "mode": "markers",
           "name": "Man City",
           "orientation": "v",
           "showlegend": true,
           "type": "scatter",
           "x": [
            3
           ],
           "xaxis": "x",
           "y": [
            1.4
           ],
           "yaxis": "y"
          },
          {
           "hovertemplate": "Team=Brighton<br>Matches played=14<br>Average goals scored last five games=%{x}<br>Average goals conceded last five games=%{y}<extra></extra>",
           "legendgroup": "Brighton",
           "marker": {
            "color": "#8C564B",
            "opacity": 0.8,
            "symbol": "circle"
           },
           "mode": "markers",
           "name": "Brighton",
           "orientation": "v",
           "showlegend": true,
           "type": "scatter",
           "x": [
            0.4
           ],
           "xaxis": "x",
           "y": [
            1.8
           ],
           "yaxis": "y"
          },
          {
           "hovertemplate": "Team=Southampton<br>Matches played=14<br>Average goals scored last five games=%{x}<br>Average goals conceded last five games=%{y}<extra></extra>",
           "legendgroup": "Southampton",
           "marker": {
            "color": "#E377C2",
            "opacity": 0.8,
            "symbol": "circle"
           },
           "mode": "markers",
           "name": "Southampton",
           "orientation": "v",
           "showlegend": true,
           "type": "scatter",
           "x": [
            2
           ],
           "xaxis": "x",
           "y": [
            0.8
           ],
           "yaxis": "y"
          },
          {
           "hovertemplate": "Team=Wolves<br>Matches played=14<br>Average goals scored last five games=%{x}<br>Average goals conceded last five games=%{y}<extra></extra>",
           "legendgroup": "Wolves",
           "marker": {
            "color": "#7F7F7F",
            "opacity": 0.8,
            "symbol": "circle"
           },
           "mode": "markers",
           "name": "Wolves",
           "orientation": "v",
           "showlegend": true,
           "type": "scatter",
           "x": [
            1.8
           ],
           "xaxis": "x",
           "y": [
            1
           ],
           "yaxis": "y"
          },
          {
           "hovertemplate": "Team=Arsenal<br>Matches played=14<br>Average goals scored last five games=%{x}<br>Average goals conceded last five games=%{y}<extra></extra>",
           "legendgroup": "Arsenal",
           "marker": {
            "color": "#BCBD22",
            "opacity": 0.8,
            "symbol": "circle"
           },
           "mode": "markers",
           "name": "Arsenal",
           "orientation": "v",
           "showlegend": true,
           "type": "scatter",
           "x": [
            1.4
           ],
           "xaxis": "x",
           "y": [
            0.8
           ],
           "yaxis": "y"
          },
          {
           "hovertemplate": "Team=West Ham<br>Matches played=14<br>Average goals scored last five games=%{x}<br>Average goals conceded last five games=%{y}<extra></extra>",
           "legendgroup": "West Ham",
           "marker": {
            "color": "#17BECF",
            "opacity": 0.8,
            "symbol": "circle"
           },
           "mode": "markers",
           "name": "West Ham",
           "orientation": "v",
           "showlegend": true,
           "type": "scatter",
           "x": [
            1.4
           ],
           "xaxis": "x",
           "y": [
            0.8
           ],
           "yaxis": "y"
          }
         ],
         "name": "14"
        },
        {
         "data": [
          {
           "hovertemplate": "Team=Brentford<br>Matches played=15<br>Average goals scored last five games=%{x}<br>Average goals conceded last five games=%{y}<extra></extra>",
           "legendgroup": "Brentford",
           "marker": {
            "color": "#1F77B4",
            "opacity": 0.8,
            "symbol": "circle"
           },
           "mode": "markers",
           "name": "Brentford",
           "orientation": "v",
           "showlegend": true,
           "type": "scatter",
           "x": [
            0.8
           ],
           "xaxis": "x",
           "y": [
            1.4
           ],
           "yaxis": "y"
          },
          {
           "hovertemplate": "Team=Man United<br>Matches played=15<br>Average goals scored last five games=%{x}<br>Average goals conceded last five games=%{y}<extra></extra>",
           "legendgroup": "Man United",
           "marker": {
            "color": "#FF7F0E",
            "opacity": 0.8,
            "symbol": "circle"
           },
           "mode": "markers",
           "name": "Man United",
           "orientation": "v",
           "showlegend": true,
           "type": "scatter",
           "x": [
            1.4
           ],
           "xaxis": "x",
           "y": [
            0.6
           ],
           "yaxis": "y"
          },
          {
           "hovertemplate": "Team=Burnley<br>Matches played=15<br>Average goals scored last five games=%{x}<br>Average goals conceded last five games=%{y}<extra></extra>",
           "legendgroup": "Burnley",
           "marker": {
            "color": "#2CA02C",
            "opacity": 0.8,
            "symbol": "circle"
           },
           "mode": "markers",
           "name": "Burnley",
           "orientation": "v",
           "showlegend": true,
           "type": "scatter",
           "x": [
            0.8
           ],
           "xaxis": "x",
           "y": [
            2
           ],
           "yaxis": "y"
          },
          {
           "hovertemplate": "Team=Chelsea<br>Matches played=15<br>Average goals scored last five games=%{x}<br>Average goals conceded last five games=%{y}<extra></extra>",
           "legendgroup": "Chelsea",
           "marker": {
            "color": "#D62728",
            "opacity": 0.8,
            "symbol": "circle"
           },
           "mode": "markers",
           "name": "Chelsea",
           "orientation": "v",
           "showlegend": true,
           "type": "scatter",
           "x": [
            1.6
           ],
           "xaxis": "x",
           "y": [
            2
           ],
           "yaxis": "y"
          },
          {
           "hovertemplate": "Team=Everton<br>Matches played=15<br>Average goals scored last five games=%{x}<br>Average goals conceded last five games=%{y}<extra></extra>",
           "legendgroup": "Everton",
           "marker": {
            "color": "#9467BD",
            "opacity": 0.8,
            "symbol": "circle"
           },
           "mode": "markers",
           "name": "Everton",
           "orientation": "v",
           "showlegend": true,
           "type": "scatter",
           "x": [
            1
           ],
           "xaxis": "x",
           "y": [
            0.4
           ],
           "yaxis": "y"
          },
          {
           "hovertemplate": "Team=Leicester<br>Matches played=15<br>Average goals scored last five games=%{x}<br>Average goals conceded last five games=%{y}<extra></extra>",
           "legendgroup": "Leicester",
           "marker": {
            "color": "#8C564B",
            "opacity": 0.8,
            "symbol": "circle"
           },
           "mode": "markers",
           "name": "Leicester",
           "orientation": "v",
           "showlegend": true,
           "type": "scatter",
           "x": [
            1.6
           ],
           "xaxis": "x",
           "y": [
            1
           ],
           "yaxis": "y"
          },
          {
           "hovertemplate": "Team=Watford<br>Matches played=15<br>Average goals scored last five games=%{x}<br>Average goals conceded last five games=%{y}<extra></extra>",
           "legendgroup": "Watford",
           "marker": {
            "color": "#E377C2",
            "opacity": 0.8,
            "symbol": "circle"
           },
           "mode": "markers",
           "name": "Watford",
           "orientation": "v",
           "showlegend": true,
           "type": "scatter",
           "x": [
            0.6
           ],
           "xaxis": "x",
           "y": [
            3
           ],
           "yaxis": "y"
          },
          {
           "hovertemplate": "Team=Norwich<br>Matches played=15<br>Average goals scored last five games=%{x}<br>Average goals conceded last five games=%{y}<extra></extra>",
           "legendgroup": "Norwich",
           "marker": {
            "color": "#7F7F7F",
            "opacity": 0.8,
            "symbol": "circle"
           },
           "mode": "markers",
           "name": "Norwich",
           "orientation": "v",
           "showlegend": true,
           "type": "scatter",
           "x": [
            1
           ],
           "xaxis": "x",
           "y": [
            2.4
           ],
           "yaxis": "y"
          },
          {
           "hovertemplate": "Team=Newcastle<br>Matches played=15<br>Average goals scored last five games=%{x}<br>Average goals conceded last five games=%{y}<extra></extra>",
           "legendgroup": "Newcastle",
           "marker": {
            "color": "#BCBD22",
            "opacity": 0.8,
            "symbol": "circle"
           },
           "mode": "markers",
           "name": "Newcastle",
           "orientation": "v",
           "showlegend": true,
           "type": "scatter",
           "x": [
            1.6
           ],
           "xaxis": "x",
           "y": [
            0.6
           ],
           "yaxis": "y"
          },
          {
           "hovertemplate": "Team=Tottenham<br>Matches played=15<br>Average goals scored last five games=%{x}<br>Average goals conceded last five games=%{y}<extra></extra>",
           "legendgroup": "Tottenham",
           "marker": {
            "color": "#17BECF",
            "opacity": 0.8,
            "symbol": "circle"
           },
           "mode": "markers",
           "name": "Tottenham",
           "orientation": "v",
           "showlegend": true,
           "type": "scatter",
           "x": [
            3
           ],
           "xaxis": "x",
           "y": [
            1.4
           ],
           "yaxis": "y"
          },
          {
           "hovertemplate": "Team=Liverpool<br>Matches played=15<br>Average goals scored last five games=%{x}<br>Average goals conceded last five games=%{y}<extra></extra>",
           "legendgroup": "Liverpool",
           "marker": {
            "color": "#1F77B4",
            "opacity": 0.8,
            "symbol": "circle"
           },
           "mode": "markers",
           "name": "Liverpool",
           "orientation": "v",
           "showlegend": true,
           "type": "scatter",
           "x": [
            2.8
           ],
           "xaxis": "x",
           "y": [
            0.2
           ],
           "yaxis": "y"
          },
          {
           "hovertemplate": "Team=Aston Villa<br>Matches played=15<br>Average goals scored last five games=%{x}<br>Average goals conceded last five games=%{y}<extra></extra>",
           "legendgroup": "Aston Villa",
           "marker": {
            "color": "#FF7F0E",
            "opacity": 0.8,
            "symbol": "circle"
           },
           "mode": "markers",
           "name": "Aston Villa",
           "orientation": "v",
           "showlegend": true,
           "type": "scatter",
           "x": [
            1.4
           ],
           "xaxis": "x",
           "y": [
            1.8
           ],
           "yaxis": "y"
          },
          {
           "hovertemplate": "Team=Crystal Palace<br>Matches played=15<br>Average goals scored last five games=%{x}<br>Average goals conceded last five games=%{y}<extra></extra>",
           "legendgroup": "Crystal Palace",
           "marker": {
            "color": "#2CA02C",
            "opacity": 0.8,
            "symbol": "circle"
           },
           "mode": "markers",
           "name": "Crystal Palace",
           "orientation": "v",
           "showlegend": true,
           "type": "scatter",
           "x": [
            0.8
           ],
           "xaxis": "x",
           "y": [
            1.6
           ],
           "yaxis": "y"
          },
          {
           "hovertemplate": "Team=Leeds<br>Matches played=15<br>Average goals scored last five games=%{x}<br>Average goals conceded last five games=%{y}<extra></extra>",
           "legendgroup": "Leeds",
           "marker": {
            "color": "#D62728",
            "opacity": 0.8,
            "symbol": "circle"
           },
           "mode": "markers",
           "name": "Leeds",
           "orientation": "v",
           "showlegend": true,
           "type": "scatter",
           "x": [
            0.8
           ],
           "xaxis": "x",
           "y": [
            2.6
           ],
           "yaxis": "y"
          },
          {
           "hovertemplate": "Team=Man City<br>Matches played=15<br>Average goals scored last five games=%{x}<br>Average goals conceded last five games=%{y}<extra></extra>",
           "legendgroup": "Man City",
           "marker": {
            "color": "#9467BD",
            "opacity": 0.8,
            "symbol": "circle"
           },
           "mode": "markers",
           "name": "Man City",
           "orientation": "v",
           "showlegend": true,
           "type": "scatter",
           "x": [
            2.2
           ],
           "xaxis": "x",
           "y": [
            1.2
           ],
           "yaxis": "y"
          },
          {
           "hovertemplate": "Team=Brighton<br>Matches played=15<br>Average goals scored last five games=%{x}<br>Average goals conceded last five games=%{y}<extra></extra>",
           "legendgroup": "Brighton",
           "marker": {
            "color": "#8C564B",
            "opacity": 0.8,
            "symbol": "circle"
           },
           "mode": "markers",
           "name": "Brighton",
           "orientation": "v",
           "showlegend": true,
           "type": "scatter",
           "x": [
            0.2
           ],
           "xaxis": "x",
           "y": [
            2
           ],
           "yaxis": "y"
          },
          {
           "hovertemplate": "Team=Southampton<br>Matches played=15<br>Average goals scored last five games=%{x}<br>Average goals conceded last five games=%{y}<extra></extra>",
           "legendgroup": "Southampton",
           "marker": {
            "color": "#E377C2",
            "opacity": 0.8,
            "symbol": "circle"
           },
           "mode": "markers",
           "name": "Southampton",
           "orientation": "v",
           "showlegend": true,
           "type": "scatter",
           "x": [
            1.4
           ],
           "xaxis": "x",
           "y": [
            1
           ],
           "yaxis": "y"
          },
          {
           "hovertemplate": "Team=Wolves<br>Matches played=15<br>Average goals scored last five games=%{x}<br>Average goals conceded last five games=%{y}<extra></extra>",
           "legendgroup": "Wolves",
           "marker": {
            "color": "#7F7F7F",
            "opacity": 0.8,
            "symbol": "circle"
           },
           "mode": "markers",
           "name": "Wolves",
           "orientation": "v",
           "showlegend": true,
           "type": "scatter",
           "x": [
            1.6
           ],
           "xaxis": "x",
           "y": [
            1.4
           ],
           "yaxis": "y"
          },
          {
           "hovertemplate": "Team=Arsenal<br>Matches played=15<br>Average goals scored last five games=%{x}<br>Average goals conceded last five games=%{y}<extra></extra>",
           "legendgroup": "Arsenal",
           "marker": {
            "color": "#BCBD22",
            "opacity": 0.8,
            "symbol": "circle"
           },
           "mode": "markers",
           "name": "Arsenal",
           "orientation": "v",
           "showlegend": true,
           "type": "scatter",
           "x": [
            1.2
           ],
           "xaxis": "x",
           "y": [
            0.8
           ],
           "yaxis": "y"
          },
          {
           "hovertemplate": "Team=West Ham<br>Matches played=15<br>Average goals scored last five games=%{x}<br>Average goals conceded last five games=%{y}<extra></extra>",
           "legendgroup": "West Ham",
           "marker": {
            "color": "#17BECF",
            "opacity": 0.8,
            "symbol": "circle"
           },
           "mode": "markers",
           "name": "West Ham",
           "orientation": "v",
           "showlegend": true,
           "type": "scatter",
           "x": [
            1.4
           ],
           "xaxis": "x",
           "y": [
            1
           ],
           "yaxis": "y"
          }
         ],
         "name": "15"
        },
        {
         "data": [
          {
           "hovertemplate": "Team=Brentford<br>Matches played=16<br>Average goals scored last five games=%{x}<br>Average goals conceded last five games=%{y}<extra></extra>",
           "legendgroup": "Brentford",
           "marker": {
            "color": "#1F77B4",
            "opacity": 0.8,
            "symbol": "circle"
           },
           "mode": "markers",
           "name": "Brentford",
           "orientation": "v",
           "showlegend": true,
           "type": "scatter",
           "x": [
            1
           ],
           "xaxis": "x",
           "y": [
            0.8
           ],
           "yaxis": "y"
          },
          {
           "hovertemplate": "Team=Man United<br>Matches played=16<br>Average goals scored last five games=%{x}<br>Average goals conceded last five games=%{y}<extra></extra>",
           "legendgroup": "Man United",
           "marker": {
            "color": "#FF7F0E",
            "opacity": 0.8,
            "symbol": "circle"
           },
           "mode": "markers",
           "name": "Man United",
           "orientation": "v",
           "showlegend": true,
           "type": "scatter",
           "x": [
            1.4
           ],
           "xaxis": "x",
           "y": [
            0.8
           ],
           "yaxis": "y"
          },
          {
           "hovertemplate": "Team=Burnley<br>Matches played=16<br>Average goals scored last five games=%{x}<br>Average goals conceded last five games=%{y}<extra></extra>",
           "legendgroup": "Burnley",
           "marker": {
            "color": "#2CA02C",
            "opacity": 0.8,
            "symbol": "circle"
           },
           "mode": "markers",
           "name": "Burnley",
           "orientation": "v",
           "showlegend": true,
           "type": "scatter",
           "x": [
            1
           ],
           "xaxis": "x",
           "y": [
            2
           ],
           "yaxis": "y"
          },
          {
           "hovertemplate": "Team=Chelsea<br>Matches played=16<br>Average goals scored last five games=%{x}<br>Average goals conceded last five games=%{y}<extra></extra>",
           "legendgroup": "Chelsea",
           "marker": {
            "color": "#D62728",
            "opacity": 0.8,
            "symbol": "circle"
           },
           "mode": "markers",
           "name": "Chelsea",
           "orientation": "v",
           "showlegend": true,
           "type": "scatter",
           "x": [
            1.4
           ],
           "xaxis": "x",
           "y": [
            1.6
           ],
           "yaxis": "y"
          },
          {
           "hovertemplate": "Team=Everton<br>Matches played=16<br>Average goals scored last five games=%{x}<br>Average goals conceded last five games=%{y}<extra></extra>",
           "legendgroup": "Everton",
           "marker": {
            "color": "#9467BD",
            "opacity": 0.8,
            "symbol": "circle"
           },
           "mode": "markers",
           "name": "Everton",
           "orientation": "v",
           "showlegend": true,
           "type": "scatter",
           "x": [
            0.6
           ],
           "xaxis": "x",
           "y": [
            0.6
           ],
           "yaxis": "y"
          },
          {
           "hovertemplate": "Team=Leicester<br>Matches played=16<br>Average goals scored last five games=%{x}<br>Average goals conceded last five games=%{y}<extra></extra>",
           "legendgroup": "Leicester",
           "marker": {
            "color": "#8C564B",
            "opacity": 0.8,
            "symbol": "circle"
           },
           "mode": "markers",
           "name": "Leicester",
           "orientation": "v",
           "showlegend": true,
           "type": "scatter",
           "x": [
            1.4
           ],
           "xaxis": "x",
           "y": [
            0.8
           ],
           "yaxis": "y"
          },
          {
           "hovertemplate": "Team=Watford<br>Matches played=16<br>Average goals scored last five games=%{x}<br>Average goals conceded last five games=%{y}<extra></extra>",
           "legendgroup": "Watford",
           "marker": {
            "color": "#E377C2",
            "opacity": 0.8,
            "symbol": "circle"
           },
           "mode": "markers",
           "name": "Watford",
           "orientation": "v",
           "showlegend": true,
           "type": "scatter",
           "x": [
            0.8
           ],
           "xaxis": "x",
           "y": [
            2.8
           ],
           "yaxis": "y"
          },
          {
           "hovertemplate": "Team=Norwich<br>Matches played=16<br>Average goals scored last five games=%{x}<br>Average goals conceded last five games=%{y}<extra></extra>",
           "legendgroup": "Norwich",
           "marker": {
            "color": "#7F7F7F",
            "opacity": 0.8,
            "symbol": "circle"
           },
           "mode": "markers",
           "name": "Norwich",
           "orientation": "v",
           "showlegend": true,
           "type": "scatter",
           "x": [
            1
           ],
           "xaxis": "x",
           "y": [
            2.2
           ],
           "yaxis": "y"
          },
          {
           "hovertemplate": "Team=Newcastle<br>Matches played=16<br>Average goals scored last five games=%{x}<br>Average goals conceded last five games=%{y}<extra></extra>",
           "legendgroup": "Newcastle",
           "marker": {
            "color": "#BCBD22",
            "opacity": 0.8,
            "symbol": "circle"
           },
           "mode": "markers",
           "name": "Newcastle",
           "orientation": "v",
           "showlegend": true,
           "type": "scatter",
           "x": [
            1.8
           ],
           "xaxis": "x",
           "y": [
            0.6
           ],
           "yaxis": "y"
          },
          {
           "hovertemplate": "Team=Tottenham<br>Matches played=16<br>Average goals scored last five games=%{x}<br>Average goals conceded last five games=%{y}<extra></extra>",
           "legendgroup": "Tottenham",
           "marker": {
            "color": "#17BECF",
            "opacity": 0.8,
            "symbol": "circle"
           },
           "mode": "markers",
           "name": "Tottenham",
           "orientation": "v",
           "showlegend": true,
           "type": "scatter",
           "x": [
            2.6
           ],
           "xaxis": "x",
           "y": [
            1
           ],
           "yaxis": "y"
          },
          {
           "hovertemplate": "Team=Liverpool<br>Matches played=16<br>Average goals scored last five games=%{x}<br>Average goals conceded last five games=%{y}<extra></extra>",
           "legendgroup": "Liverpool",
           "marker": {
            "color": "#1F77B4",
            "opacity": 0.8,
            "symbol": "circle"
           },
           "mode": "markers",
           "name": "Liverpool",
           "orientation": "v",
           "showlegend": true,
           "type": "scatter",
           "x": [
            3.2
           ],
           "xaxis": "x",
           "y": [
            0.2
           ],
           "yaxis": "y"
          },
          {
           "hovertemplate": "Team=Aston Villa<br>Matches played=16<br>Average goals scored last five games=%{x}<br>Average goals conceded last five games=%{y}<extra></extra>",
           "legendgroup": "Aston Villa",
           "marker": {
            "color": "#FF7F0E",
            "opacity": 0.8,
            "symbol": "circle"
           },
           "mode": "markers",
           "name": "Aston Villa",
           "orientation": "v",
           "showlegend": true,
           "type": "scatter",
           "x": [
            1.2
           ],
           "xaxis": "x",
           "y": [
            1.2
           ],
           "yaxis": "y"
          },
          {
           "hovertemplate": "Team=Crystal Palace<br>Matches played=16<br>Average goals scored last five games=%{x}<br>Average goals conceded last five games=%{y}<extra></extra>",
           "legendgroup": "Crystal Palace",
           "marker": {
            "color": "#2CA02C",
            "opacity": 0.8,
            "symbol": "circle"
           },
           "mode": "markers",
           "name": "Crystal Palace",
           "orientation": "v",
           "showlegend": true,
           "type": "scatter",
           "x": [
            1
           ],
           "xaxis": "x",
           "y": [
            1
           ],
           "yaxis": "y"
          },
          {
           "hovertemplate": "Team=Leeds<br>Matches played=16<br>Average goals scored last five games=%{x}<br>Average goals conceded last five games=%{y}<extra></extra>",
           "legendgroup": "Leeds",
           "marker": {
            "color": "#D62728",
            "opacity": 0.8,
            "symbol": "circle"
           },
           "mode": "markers",
           "name": "Leeds",
           "orientation": "v",
           "showlegend": true,
           "type": "scatter",
           "x": [
            1
           ],
           "xaxis": "x",
           "y": [
            2.6
           ],
           "yaxis": "y"
          },
          {
           "hovertemplate": "Team=Man City<br>Matches played=16<br>Average goals scored last five games=%{x}<br>Average goals conceded last five games=%{y}<extra></extra>",
           "legendgroup": "Man City",
           "marker": {
            "color": "#9467BD",
            "opacity": 0.8,
            "symbol": "circle"
           },
           "mode": "markers",
           "name": "Man City",
           "orientation": "v",
           "showlegend": true,
           "type": "scatter",
           "x": [
            2.6
           ],
           "xaxis": "x",
           "y": [
            1.2
           ],
           "yaxis": "y"
          },
          {
           "hovertemplate": "Team=Brighton<br>Matches played=16<br>Average goals scored last five games=%{x}<br>Average goals conceded last five games=%{y}<extra></extra>",
           "legendgroup": "Brighton",
           "marker": {
            "color": "#8C564B",
            "opacity": 0.8,
            "symbol": "circle"
           },
           "mode": "markers",
           "name": "Brighton",
           "orientation": "v",
           "showlegend": true,
           "type": "scatter",
           "x": [
            0
           ],
           "xaxis": "x",
           "y": [
            1.8
           ],
           "yaxis": "y"
          },
          {
           "hovertemplate": "Team=Southampton<br>Matches played=16<br>Average goals scored last five games=%{x}<br>Average goals conceded last five games=%{y}<extra></extra>",
           "legendgroup": "Southampton",
           "marker": {
            "color": "#E377C2",
            "opacity": 0.8,
            "symbol": "circle"
           },
           "mode": "markers",
           "name": "Southampton",
           "orientation": "v",
           "showlegend": true,
           "type": "scatter",
           "x": [
            1.2
           ],
           "xaxis": "x",
           "y": [
            2
           ],
           "yaxis": "y"
          },
          {
           "hovertemplate": "Team=Wolves<br>Matches played=16<br>Average goals scored last five games=%{x}<br>Average goals conceded last five games=%{y}<extra></extra>",
           "legendgroup": "Wolves",
           "marker": {
            "color": "#7F7F7F",
            "opacity": 0.8,
            "symbol": "circle"
           },
           "mode": "markers",
           "name": "Wolves",
           "orientation": "v",
           "showlegend": true,
           "type": "scatter",
           "x": [
            2
           ],
           "xaxis": "x",
           "y": [
            1.4
           ],
           "yaxis": "y"
          },
          {
           "hovertemplate": "Team=Arsenal<br>Matches played=16<br>Average goals scored last five games=%{x}<br>Average goals conceded last five games=%{y}<extra></extra>",
           "legendgroup": "Arsenal",
           "marker": {
            "color": "#BCBD22",
            "opacity": 0.8,
            "symbol": "circle"
           },
           "mode": "markers",
           "name": "Arsenal",
           "orientation": "v",
           "showlegend": true,
           "type": "scatter",
           "x": [
            1.4
           ],
           "xaxis": "x",
           "y": [
            1.2
           ],
           "yaxis": "y"
          },
          {
           "hovertemplate": "Team=West Ham<br>Matches played=16<br>Average goals scored last five games=%{x}<br>Average goals conceded last five games=%{y}<extra></extra>",
           "legendgroup": "West Ham",
           "marker": {
            "color": "#17BECF",
            "opacity": 0.8,
            "symbol": "circle"
           },
           "mode": "markers",
           "name": "West Ham",
           "orientation": "v",
           "showlegend": true,
           "type": "scatter",
           "x": [
            1.4
           ],
           "xaxis": "x",
           "y": [
            0.6
           ],
           "yaxis": "y"
          }
         ],
         "name": "16"
        },
        {
         "data": [
          {
           "hovertemplate": "Team=Brentford<br>Matches played=17<br>Average goals scored last five games=%{x}<br>Average goals conceded last five games=%{y}<extra></extra>",
           "legendgroup": "Brentford",
           "marker": {
            "color": "#1F77B4",
            "opacity": 0.8,
            "symbol": "circle"
           },
           "mode": "markers",
           "name": "Brentford",
           "orientation": "v",
           "showlegend": true,
           "type": "scatter",
           "x": [
            0.8
           ],
           "xaxis": "x",
           "y": [
            0.4
           ],
           "yaxis": "y"
          },
          {
           "hovertemplate": "Team=Man United<br>Matches played=17<br>Average goals scored last five games=%{x}<br>Average goals conceded last five games=%{y}<extra></extra>",
           "legendgroup": "Man United",
           "marker": {
            "color": "#FF7F0E",
            "opacity": 0.8,
            "symbol": "circle"
           },
           "mode": "markers",
           "name": "Man United",
           "orientation": "v",
           "showlegend": true,
           "type": "scatter",
           "x": [
            1.8
           ],
           "xaxis": "x",
           "y": [
            1
           ],
           "yaxis": "y"
          },
          {
           "hovertemplate": "Team=Burnley<br>Matches played=17<br>Average goals scored last five games=%{x}<br>Average goals conceded last five games=%{y}<extra></extra>",
           "legendgroup": "Burnley",
           "marker": {
            "color": "#2CA02C",
            "opacity": 0.8,
            "symbol": "circle"
           },
           "mode": "markers",
           "name": "Burnley",
           "orientation": "v",
           "showlegend": true,
           "type": "scatter",
           "x": [
            1.2
           ],
           "xaxis": "x",
           "y": [
            1.6
           ],
           "yaxis": "y"
          },
          {
           "hovertemplate": "Team=Chelsea<br>Matches played=17<br>Average goals scored last five games=%{x}<br>Average goals conceded last five games=%{y}<extra></extra>",
           "legendgroup": "Chelsea",
           "marker": {
            "color": "#D62728",
            "opacity": 0.8,
            "symbol": "circle"
           },
           "mode": "markers",
           "name": "Chelsea",
           "orientation": "v",
           "showlegend": true,
           "type": "scatter",
           "x": [
            1.4
           ],
           "xaxis": "x",
           "y": [
            2
           ],
           "yaxis": "y"
          },
          {
           "hovertemplate": "Team=Everton<br>Matches played=17<br>Average goals scored last five games=%{x}<br>Average goals conceded last five games=%{y}<extra></extra>",
           "legendgroup": "Everton",
           "marker": {
            "color": "#9467BD",
            "opacity": 0.8,
            "symbol": "circle"
           },
           "mode": "markers",
           "name": "Everton",
           "orientation": "v",
           "showlegend": true,
           "type": "scatter",
           "x": [
            0.8
           ],
           "xaxis": "x",
           "y": [
            0.4
           ],
           "yaxis": "y"
          },
          {
           "hovertemplate": "Team=Leicester<br>Matches played=17<br>Average goals scored last five games=%{x}<br>Average goals conceded last five games=%{y}<extra></extra>",
           "legendgroup": "Leicester",
           "marker": {
            "color": "#8C564B",
            "opacity": 0.8,
            "symbol": "circle"
           },
           "mode": "markers",
           "name": "Leicester",
           "orientation": "v",
           "showlegend": true,
           "type": "scatter",
           "x": [
            1.2
           ],
           "xaxis": "x",
           "y": [
            0.8
           ],
           "yaxis": "y"
          },
          {
           "hovertemplate": "Team=Watford<br>Matches played=17<br>Average goals scored last five games=%{x}<br>Average goals conceded last five games=%{y}<extra></extra>",
           "legendgroup": "Watford",
           "marker": {
            "color": "#E377C2",
            "opacity": 0.8,
            "symbol": "circle"
           },
           "mode": "markers",
           "name": "Watford",
           "orientation": "v",
           "showlegend": true,
           "type": "scatter",
           "x": [
            1
           ],
           "xaxis": "x",
           "y": [
            2.8
           ],
           "yaxis": "y"
          },
          {
           "hovertemplate": "Team=Norwich<br>Matches played=17<br>Average goals scored last five games=%{x}<br>Average goals conceded last five games=%{y}<extra></extra>",
           "legendgroup": "Norwich",
           "marker": {
            "color": "#7F7F7F",
            "opacity": 0.8,
            "symbol": "circle"
           },
           "mode": "markers",
           "name": "Norwich",
           "orientation": "v",
           "showlegend": true,
           "type": "scatter",
           "x": [
            0.8
           ],
           "xaxis": "x",
           "y": [
            2.6
           ],
           "yaxis": "y"
          },
          {
           "hovertemplate": "Team=Newcastle<br>Matches played=17<br>Average goals scored last five games=%{x}<br>Average goals conceded last five games=%{y}<extra></extra>",
           "legendgroup": "Newcastle",
           "marker": {
            "color": "#BCBD22",
            "opacity": 0.8,
            "symbol": "circle"
           },
           "mode": "markers",
           "name": "Newcastle",
           "orientation": "v",
           "showlegend": true,
           "type": "scatter",
           "x": [
            1.4
           ],
           "xaxis": "x",
           "y": [
            0.4
           ],
           "yaxis": "y"
          },
          {
           "hovertemplate": "Team=Tottenham<br>Matches played=17<br>Average goals scored last five games=%{x}<br>Average goals conceded last five games=%{y}<extra></extra>",
           "legendgroup": "Tottenham",
           "marker": {
            "color": "#17BECF",
            "opacity": 0.8,
            "symbol": "circle"
           },
           "mode": "markers",
           "name": "Tottenham",
           "orientation": "v",
           "showlegend": true,
           "type": "scatter",
           "x": [
            3.2
           ],
           "xaxis": "x",
           "y": [
            0.8
           ],
           "yaxis": "y"
          },
          {
           "hovertemplate": "Team=Liverpool<br>Matches played=17<br>Average goals scored last five games=%{x}<br>Average goals conceded last five games=%{y}<extra></extra>",
           "legendgroup": "Liverpool",
           "marker": {
            "color": "#1F77B4",
            "opacity": 0.8,
            "symbol": "circle"
           },
           "mode": "markers",
           "name": "Liverpool",
           "orientation": "v",
           "showlegend": true,
           "type": "scatter",
           "x": [
            3
           ],
           "xaxis": "x",
           "y": [
            0
           ],
           "yaxis": "y"
          },
          {
           "hovertemplate": "Team=Aston Villa<br>Matches played=17<br>Average goals scored last five games=%{x}<br>Average goals conceded last five games=%{y}<extra></extra>",
           "legendgroup": "Aston Villa",
           "marker": {
            "color": "#FF7F0E",
            "opacity": 0.8,
            "symbol": "circle"
           },
           "mode": "markers",
           "name": "Aston Villa",
           "orientation": "v",
           "showlegend": true,
           "type": "scatter",
           "x": [
            1.4
           ],
           "xaxis": "x",
           "y": [
            1.4
           ],
           "yaxis": "y"
          },
          {
           "hovertemplate": "Team=Crystal Palace<br>Matches played=17<br>Average goals scored last five games=%{x}<br>Average goals conceded last five games=%{y}<extra></extra>",
           "legendgroup": "Crystal Palace",
           "marker": {
            "color": "#2CA02C",
            "opacity": 0.8,
            "symbol": "circle"
           },
           "mode": "markers",
           "name": "Crystal Palace",
           "orientation": "v",
           "showlegend": true,
           "type": "scatter",
           "x": [
            0.8
           ],
           "xaxis": "x",
           "y": [
            0.4
           ],
           "yaxis": "y"
          },
          {
           "hovertemplate": "Team=Leeds<br>Matches played=17<br>Average goals scored last five games=%{x}<br>Average goals conceded last five games=%{y}<extra></extra>",
           "legendgroup": "Leeds",
           "marker": {
            "color": "#D62728",
            "opacity": 0.8,
            "symbol": "circle"
           },
           "mode": "markers",
           "name": "Leeds",
           "orientation": "v",
           "showlegend": true,
           "type": "scatter",
           "x": [
            0.6
           ],
           "xaxis": "x",
           "y": [
            2.6
           ],
           "yaxis": "y"
          },
          {
           "hovertemplate": "Team=Man City<br>Matches played=17<br>Average goals scored last five games=%{x}<br>Average goals conceded last five games=%{y}<extra></extra>",
           "legendgroup": "Man City",
           "marker": {
            "color": "#9467BD",
            "opacity": 0.8,
            "symbol": "circle"
           },
           "mode": "markers",
           "name": "Man City",
           "orientation": "v",
           "showlegend": true,
           "type": "scatter",
           "x": [
            3.2
           ],
           "xaxis": "x",
           "y": [
            1.4
           ],
           "yaxis": "y"
          },
          {
           "hovertemplate": "Team=Brighton<br>Matches played=17<br>Average goals scored last five games=%{x}<br>Average goals conceded last five games=%{y}<extra></extra>",
           "legendgroup": "Brighton",
           "marker": {
            "color": "#8C564B",
            "opacity": 0.8,
            "symbol": "circle"
           },
           "mode": "markers",
           "name": "Brighton",
           "orientation": "v",
           "showlegend": true,
           "type": "scatter",
           "x": [
            0.4
           ],
           "xaxis": "x",
           "y": [
            1.6
           ],
           "yaxis": "y"
          },
          {
           "hovertemplate": "Team=Southampton<br>Matches played=17<br>Average goals scored last five games=%{x}<br>Average goals conceded last five games=%{y}<extra></extra>",
           "legendgroup": "Southampton",
           "marker": {
            "color": "#E377C2",
            "opacity": 0.8,
            "symbol": "circle"
           },
           "mode": "markers",
           "name": "Southampton",
           "orientation": "v",
           "showlegend": true,
           "type": "scatter",
           "x": [
            1
           ],
           "xaxis": "x",
           "y": [
            2
           ],
           "yaxis": "y"
          },
          {
           "hovertemplate": "Team=Wolves<br>Matches played=17<br>Average goals scored last five games=%{x}<br>Average goals conceded last five games=%{y}<extra></extra>",
           "legendgroup": "Wolves",
           "marker": {
            "color": "#7F7F7F",
            "opacity": 0.8,
            "symbol": "circle"
           },
           "mode": "markers",
           "name": "Wolves",
           "orientation": "v",
           "showlegend": true,
           "type": "scatter",
           "x": [
            1.6
           ],
           "xaxis": "x",
           "y": [
            1.8
           ],
           "yaxis": "y"
          },
          {
           "hovertemplate": "Team=Arsenal<br>Matches played=17<br>Average goals scored last five games=%{x}<br>Average goals conceded last five games=%{y}<extra></extra>",
           "legendgroup": "Arsenal",
           "marker": {
            "color": "#BCBD22",
            "opacity": 0.8,
            "symbol": "circle"
           },
           "mode": "markers",
           "name": "Arsenal",
           "orientation": "v",
           "showlegend": true,
           "type": "scatter",
           "x": [
            1.6
           ],
           "xaxis": "x",
           "y": [
            1.2
           ],
           "yaxis": "y"
          },
          {
           "hovertemplate": "Team=West Ham<br>Matches played=17<br>Average goals scored last five games=%{x}<br>Average goals conceded last five games=%{y}<extra></extra>",
           "legendgroup": "West Ham",
           "marker": {
            "color": "#17BECF",
            "opacity": 0.8,
            "symbol": "circle"
           },
           "mode": "markers",
           "name": "West Ham",
           "orientation": "v",
           "showlegend": true,
           "type": "scatter",
           "x": [
            1.4
           ],
           "xaxis": "x",
           "y": [
            0.8
           ],
           "yaxis": "y"
          }
         ],
         "name": "17"
        },
        {
         "data": [
          {
           "hovertemplate": "Team=Brentford<br>Matches played=18<br>Average goals scored last five games=%{x}<br>Average goals conceded last five games=%{y}<extra></extra>",
           "legendgroup": "Brentford",
           "marker": {
            "color": "#1F77B4",
            "opacity": 0.8,
            "symbol": "circle"
           },
           "mode": "markers",
           "name": "Brentford",
           "orientation": "v",
           "showlegend": true,
           "type": "scatter",
           "x": [
            1.4
           ],
           "xaxis": "x",
           "y": [
            0.4
           ],
           "yaxis": "y"
          },
          {
           "hovertemplate": "Team=Man United<br>Matches played=18<br>Average goals scored last five games=%{x}<br>Average goals conceded last five games=%{y}<extra></extra>",
           "legendgroup": "Man United",
           "marker": {
            "color": "#FF7F0E",
            "opacity": 0.8,
            "symbol": "circle"
           },
           "mode": "markers",
           "name": "Man United",
           "orientation": "v",
           "showlegend": true,
           "type": "scatter",
           "x": [
            1.6
           ],
           "xaxis": "x",
           "y": [
            1.2
           ],
           "yaxis": "y"
          },
          {
           "hovertemplate": "Team=Burnley<br>Matches played=18<br>Average goals scored last five games=%{x}<br>Average goals conceded last five games=%{y}<extra></extra>",
           "legendgroup": "Burnley",
           "marker": {
            "color": "#2CA02C",
            "opacity": 0.8,
            "symbol": "circle"
           },
           "mode": "markers",
           "name": "Burnley",
           "orientation": "v",
           "showlegend": true,
           "type": "scatter",
           "x": [
            1.4
           ],
           "xaxis": "x",
           "y": [
            1.4
           ],
           "yaxis": "y"
          },
          {
           "hovertemplate": "Team=Chelsea<br>Matches played=18<br>Average goals scored last five games=%{x}<br>Average goals conceded last five games=%{y}<extra></extra>",
           "legendgroup": "Chelsea",
           "marker": {
            "color": "#D62728",
            "opacity": 0.8,
            "symbol": "circle"
           },
           "mode": "markers",
           "name": "Chelsea",
           "orientation": "v",
           "showlegend": true,
           "type": "scatter",
           "x": [
            1.4
           ],
           "xaxis": "x",
           "y": [
            2.2
           ],
           "yaxis": "y"
          },
          {
           "hovertemplate": "Team=Everton<br>Matches played=18<br>Average goals scored last five games=%{x}<br>Average goals conceded last five games=%{y}<extra></extra>",
           "legendgroup": "Everton",
           "marker": {
            "color": "#9467BD",
            "opacity": 0.8,
            "symbol": "circle"
           },
           "mode": "markers",
           "name": "Everton",
           "orientation": "v",
           "showlegend": true,
           "type": "scatter",
           "x": [
            1.2
           ],
           "xaxis": "x",
           "y": [
            0.8
           ],
           "yaxis": "y"
          },
          {
           "hovertemplate": "Team=Leicester<br>Matches played=18<br>Average goals scored last five games=%{x}<br>Average goals conceded last five games=%{y}<extra></extra>",
           "legendgroup": "Leicester",
           "marker": {
            "color": "#8C564B",
            "opacity": 0.8,
            "symbol": "circle"
           },
           "mode": "markers",
           "name": "Leicester",
           "orientation": "v",
           "showlegend": true,
           "type": "scatter",
           "x": [
            1.6
           ],
           "xaxis": "x",
           "y": [
            0.8
           ],
           "yaxis": "y"
          },
          {
           "hovertemplate": "Team=Watford<br>Matches played=18<br>Average goals scored last five games=%{x}<br>Average goals conceded last five games=%{y}<extra></extra>",
           "legendgroup": "Watford",
           "marker": {
            "color": "#E377C2",
            "opacity": 0.8,
            "symbol": "circle"
           },
           "mode": "markers",
           "name": "Watford",
           "orientation": "v",
           "showlegend": true,
           "type": "scatter",
           "x": [
            0.8
           ],
           "xaxis": "x",
           "y": [
            2
           ],
           "yaxis": "y"
          },
          {
           "hovertemplate": "Team=Norwich<br>Matches played=18<br>Average goals scored last five games=%{x}<br>Average goals conceded last five games=%{y}<extra></extra>",
           "legendgroup": "Norwich",
           "marker": {
            "color": "#7F7F7F",
            "opacity": 0.8,
            "symbol": "circle"
           },
           "mode": "markers",
           "name": "Norwich",
           "orientation": "v",
           "showlegend": true,
           "type": "scatter",
           "x": [
            0.8
           ],
           "xaxis": "x",
           "y": [
            2.6
           ],
           "yaxis": "y"
          },
          {
           "hovertemplate": "Team=Newcastle<br>Matches played=18<br>Average goals scored last five games=%{x}<br>Average goals conceded last five games=%{y}<extra></extra>",
           "legendgroup": "Newcastle",
           "marker": {
            "color": "#BCBD22",
            "opacity": 0.8,
            "symbol": "circle"
           },
           "mode": "markers",
           "name": "Newcastle",
           "orientation": "v",
           "showlegend": true,
           "type": "scatter",
           "x": [
            1.2
           ],
           "xaxis": "x",
           "y": [
            0.6
           ],
           "yaxis": "y"
          },
          {
           "hovertemplate": "Team=Tottenham<br>Matches played=18<br>Average goals scored last five games=%{x}<br>Average goals conceded last five games=%{y}<extra></extra>",
           "legendgroup": "Tottenham",
           "marker": {
            "color": "#17BECF",
            "opacity": 0.8,
            "symbol": "circle"
           },
           "mode": "markers",
           "name": "Tottenham",
           "orientation": "v",
           "showlegend": true,
           "type": "scatter",
           "x": [
            2.8
           ],
           "xaxis": "x",
           "y": [
            0.8
           ],
           "yaxis": "y"
          },
          {
           "hovertemplate": "Team=Liverpool<br>Matches played=18<br>Average goals scored last five games=%{x}<br>Average goals conceded last five games=%{y}<extra></extra>",
           "legendgroup": "Liverpool",
           "marker": {
            "color": "#1F77B4",
            "opacity": 0.8,
            "symbol": "circle"
           },
           "mode": "markers",
           "name": "Liverpool",
           "orientation": "v",
           "showlegend": true,
           "type": "scatter",
           "x": [
            2
           ],
           "xaxis": "x",
           "y": [
            0.2
           ],
           "yaxis": "y"
          },
          {
           "hovertemplate": "Team=Aston Villa<br>Matches played=18<br>Average goals scored last five games=%{x}<br>Average goals conceded last five games=%{y}<extra></extra>",
           "legendgroup": "Aston Villa",
           "marker": {
            "color": "#FF7F0E",
            "opacity": 0.8,
            "symbol": "circle"
           },
           "mode": "markers",
           "name": "Aston Villa",
           "orientation": "v",
           "showlegend": true,
           "type": "scatter",
           "x": [
            0.8
           ],
           "xaxis": "x",
           "y": [
            1.6
           ],
           "yaxis": "y"
          },
          {
           "hovertemplate": "Team=Crystal Palace<br>Matches played=18<br>Average goals scored last five games=%{x}<br>Average goals conceded last five games=%{y}<extra></extra>",
           "legendgroup": "Crystal Palace",
           "marker": {
            "color": "#2CA02C",
            "opacity": 0.8,
            "symbol": "circle"
           },
           "mode": "markers",
           "name": "Crystal Palace",
           "orientation": "v",
           "showlegend": true,
           "type": "scatter",
           "x": [
            1
           ],
           "xaxis": "x",
           "y": [
            0.2
           ],
           "yaxis": "y"
          },
          {
           "hovertemplate": "Team=Leeds<br>Matches played=18<br>Average goals scored last five games=%{x}<br>Average goals conceded last five games=%{y}<extra></extra>",
           "legendgroup": "Leeds",
           "marker": {
            "color": "#D62728",
            "opacity": 0.8,
            "symbol": "circle"
           },
           "mode": "markers",
           "name": "Leeds",
           "orientation": "v",
           "showlegend": true,
           "type": "scatter",
           "x": [
            0.6
           ],
           "xaxis": "x",
           "y": [
            2.4
           ],
           "yaxis": "y"
          },
          {
           "hovertemplate": "Team=Man City<br>Matches played=18<br>Average goals scored last five games=%{x}<br>Average goals conceded last five games=%{y}<extra></extra>",
           "legendgroup": "Man City",
           "marker": {
            "color": "#9467BD",
            "opacity": 0.8,
            "symbol": "circle"
           },
           "mode": "markers",
           "name": "Man City",
           "orientation": "v",
           "showlegend": true,
           "type": "scatter",
           "x": [
            3.8
           ],
           "xaxis": "x",
           "y": [
            0.8
           ],
           "yaxis": "y"
          },
          {
           "hovertemplate": "Team=Brighton<br>Matches played=18<br>Average goals scored last five games=%{x}<br>Average goals conceded last five games=%{y}<extra></extra>",
           "legendgroup": "Brighton",
           "marker": {
            "color": "#8C564B",
            "opacity": 0.8,
            "symbol": "circle"
           },
           "mode": "markers",
           "name": "Brighton",
           "orientation": "v",
           "showlegend": true,
           "type": "scatter",
           "x": [
            1.2
           ],
           "xaxis": "x",
           "y": [
            1.2
           ],
           "yaxis": "y"
          },
          {
           "hovertemplate": "Team=Southampton<br>Matches played=18<br>Average goals scored last five games=%{x}<br>Average goals conceded last five games=%{y}<extra></extra>",
           "legendgroup": "Southampton",
           "marker": {
            "color": "#E377C2",
            "opacity": 0.8,
            "symbol": "circle"
           },
           "mode": "markers",
           "name": "Southampton",
           "orientation": "v",
           "showlegend": true,
           "type": "scatter",
           "x": [
            0.8
           ],
           "xaxis": "x",
           "y": [
            2.4
           ],
           "yaxis": "y"
          },
          {
           "hovertemplate": "Team=Wolves<br>Matches played=18<br>Average goals scored last five games=%{x}<br>Average goals conceded last five games=%{y}<extra></extra>",
           "legendgroup": "Wolves",
           "marker": {
            "color": "#7F7F7F",
            "opacity": 0.8,
            "symbol": "circle"
           },
           "mode": "markers",
           "name": "Wolves",
           "orientation": "v",
           "showlegend": true,
           "type": "scatter",
           "x": [
            1.8
           ],
           "xaxis": "x",
           "y": [
            2.4
           ],
           "yaxis": "y"
          },
          {
           "hovertemplate": "Team=Arsenal<br>Matches played=18<br>Average goals scored last five games=%{x}<br>Average goals conceded last five games=%{y}<extra></extra>",
           "legendgroup": "Arsenal",
           "marker": {
            "color": "#BCBD22",
            "opacity": 0.8,
            "symbol": "circle"
           },
           "mode": "markers",
           "name": "Arsenal",
           "orientation": "v",
           "showlegend": true,
           "type": "scatter",
           "x": [
            1.6
           ],
           "xaxis": "x",
           "y": [
            1.2
           ],
           "yaxis": "y"
          },
          {
           "hovertemplate": "Team=West Ham<br>Matches played=18<br>Average goals scored last five games=%{x}<br>Average goals conceded last five games=%{y}<extra></extra>",
           "legendgroup": "West Ham",
           "marker": {
            "color": "#17BECF",
            "opacity": 0.8,
            "symbol": "circle"
           },
           "mode": "markers",
           "name": "West Ham",
           "orientation": "v",
           "showlegend": true,
           "type": "scatter",
           "x": [
            1.4
           ],
           "xaxis": "x",
           "y": [
            1
           ],
           "yaxis": "y"
          }
         ],
         "name": "18"
        },
        {
         "data": [
          {
           "hovertemplate": "Team=Brentford<br>Matches played=19<br>Average goals scored last five games=%{x}<br>Average goals conceded last five games=%{y}<extra></extra>",
           "legendgroup": "Brentford",
           "marker": {
            "color": "#1F77B4",
            "opacity": 0.8,
            "symbol": "circle"
           },
           "mode": "markers",
           "name": "Brentford",
           "orientation": "v",
           "showlegend": true,
           "type": "scatter",
           "x": [
            1.6
           ],
           "xaxis": "x",
           "y": [
            0.4
           ],
           "yaxis": "y"
          },
          {
           "hovertemplate": "Team=Man United<br>Matches played=19<br>Average goals scored last five games=%{x}<br>Average goals conceded last five games=%{y}<extra></extra>",
           "legendgroup": "Man United",
           "marker": {
            "color": "#FF7F0E",
            "opacity": 0.8,
            "symbol": "circle"
           },
           "mode": "markers",
           "name": "Man United",
           "orientation": "v",
           "showlegend": true,
           "type": "scatter",
           "x": [
            2.2
           ],
           "xaxis": "x",
           "y": [
            1.2
           ],
           "yaxis": "y"
          },
          {
           "hovertemplate": "Team=Burnley<br>Matches played=19<br>Average goals scored last five games=%{x}<br>Average goals conceded last five games=%{y}<extra></extra>",
           "legendgroup": "Burnley",
           "marker": {
            "color": "#2CA02C",
            "opacity": 0.8,
            "symbol": "circle"
           },
           "mode": "markers",
           "name": "Burnley",
           "orientation": "v",
           "showlegend": true,
           "type": "scatter",
           "x": [
            1.6
           ],
           "xaxis": "x",
           "y": [
            1.4
           ],
           "yaxis": "y"
          },
          {
           "hovertemplate": "Team=Chelsea<br>Matches played=19<br>Average goals scored last five games=%{x}<br>Average goals conceded last five games=%{y}<extra></extra>",
           "legendgroup": "Chelsea",
           "marker": {
            "color": "#D62728",
            "opacity": 0.8,
            "symbol": "circle"
           },
           "mode": "markers",
           "name": "Chelsea",
           "orientation": "v",
           "showlegend": true,
           "type": "scatter",
           "x": [
            1.6
           ],
           "xaxis": "x",
           "y": [
            1.6
           ],
           "yaxis": "y"
          },
          {
           "hovertemplate": "Team=Everton<br>Matches played=19<br>Average goals scored last five games=%{x}<br>Average goals conceded last five games=%{y}<extra></extra>",
           "legendgroup": "Everton",
           "marker": {
            "color": "#9467BD",
            "opacity": 0.8,
            "symbol": "circle"
           },
           "mode": "markers",
           "name": "Everton",
           "orientation": "v",
           "showlegend": true,
           "type": "scatter",
           "x": [
            1.6
           ],
           "xaxis": "x",
           "y": [
            1.2
           ],
           "yaxis": "y"
          },
          {
           "hovertemplate": "Team=Leicester<br>Matches played=19<br>Average goals scored last five games=%{x}<br>Average goals conceded last five games=%{y}<extra></extra>",
           "legendgroup": "Leicester",
           "marker": {
            "color": "#8C564B",
            "opacity": 0.8,
            "symbol": "circle"
           },
           "mode": "markers",
           "name": "Leicester",
           "orientation": "v",
           "showlegend": true,
           "type": "scatter",
           "x": [
            2
           ],
           "xaxis": "x",
           "y": [
            0.8
           ],
           "yaxis": "y"
          },
          {
           "hovertemplate": "Team=Watford<br>Matches played=19<br>Average goals scored last five games=%{x}<br>Average goals conceded last five games=%{y}<extra></extra>",
           "legendgroup": "Watford",
           "marker": {
            "color": "#E377C2",
            "opacity": 0.8,
            "symbol": "circle"
           },
           "mode": "markers",
           "name": "Watford",
           "orientation": "v",
           "showlegend": true,
           "type": "scatter",
           "x": [
            0.6
           ],
           "xaxis": "x",
           "y": [
            2.4
           ],
           "yaxis": "y"
          },
          {
           "hovertemplate": "Team=Norwich<br>Matches played=19<br>Average goals scored last five games=%{x}<br>Average goals conceded last five games=%{y}<extra></extra>",
           "legendgroup": "Norwich",
           "marker": {
            "color": "#7F7F7F",
            "opacity": 0.8,
            "symbol": "circle"
           },
           "mode": "markers",
           "name": "Norwich",
           "orientation": "v",
           "showlegend": true,
           "type": "scatter",
           "x": [
            0.6
           ],
           "xaxis": "x",
           "y": [
            3
           ],
           "yaxis": "y"
          },
          {
           "hovertemplate": "Team=Newcastle<br>Matches played=19<br>Average goals scored last five games=%{x}<br>Average goals conceded last five games=%{y}<extra></extra>",
           "legendgroup": "Newcastle",
           "marker": {
            "color": "#BCBD22",
            "opacity": 0.8,
            "symbol": "circle"
           },
           "mode": "markers",
           "name": "Newcastle",
           "orientation": "v",
           "showlegend": true,
           "type": "scatter",
           "x": [
            1.2
           ],
           "xaxis": "x",
           "y": [
            0.4
           ],
           "yaxis": "y"
          },
          {
           "hovertemplate": "Team=Tottenham<br>Matches played=19<br>Average goals scored last five games=%{x}<br>Average goals conceded last five games=%{y}<extra></extra>",
           "legendgroup": "Tottenham",
           "marker": {
            "color": "#17BECF",
            "opacity": 0.8,
            "symbol": "circle"
           },
           "mode": "markers",
           "name": "Tottenham",
           "orientation": "v",
           "showlegend": true,
           "type": "scatter",
           "x": [
            2.4
           ],
           "xaxis": "x",
           "y": [
            0.6
           ],
           "yaxis": "y"
          },
          {
           "hovertemplate": "Team=Liverpool<br>Matches played=19<br>Average goals scored last five games=%{x}<br>Average goals conceded last five games=%{y}<extra></extra>",
           "legendgroup": "Liverpool",
           "marker": {
            "color": "#1F77B4",
            "opacity": 0.8,
            "symbol": "circle"
           },
           "mode": "markers",
           "name": "Liverpool",
           "orientation": "v",
           "showlegend": true,
           "type": "scatter",
           "x": [
            2.4
           ],
           "xaxis": "x",
           "y": [
            0.4
           ],
           "yaxis": "y"
          },
          {
           "hovertemplate": "Team=Aston Villa<br>Matches played=19<br>Average goals scored last five games=%{x}<br>Average goals conceded last five games=%{y}<extra></extra>",
           "legendgroup": "Aston Villa",
           "marker": {
            "color": "#FF7F0E",
            "opacity": 0.8,
            "symbol": "circle"
           },
           "mode": "markers",
           "name": "Aston Villa",
           "orientation": "v",
           "showlegend": true,
           "type": "scatter",
           "x": [
            1
           ],
           "xaxis": "x",
           "y": [
            1.6
           ],
           "yaxis": "y"
          },
          {
           "hovertemplate": "Team=Crystal Palace<br>Matches played=19<br>Average goals scored last five games=%{x}<br>Average goals conceded last five games=%{y}<extra></extra>",
           "legendgroup": "Crystal Palace",
           "marker": {
            "color": "#2CA02C",
            "opacity": 0.8,
            "symbol": "circle"
           },
           "mode": "markers",
           "name": "Crystal Palace",
           "orientation": "v",
           "showlegend": true,
           "type": "scatter",
           "x": [
            1
           ],
           "xaxis": "x",
           "y": [
            0
           ],
           "yaxis": "y"
          },
          {
           "hovertemplate": "Team=Leeds<br>Matches played=19<br>Average goals scored last five games=%{x}<br>Average goals conceded last five games=%{y}<extra></extra>",
           "legendgroup": "Leeds",
           "marker": {
            "color": "#D62728",
            "opacity": 0.8,
            "symbol": "circle"
           },
           "mode": "markers",
           "name": "Leeds",
           "orientation": "v",
           "showlegend": true,
           "type": "scatter",
           "x": [
            0.8
           ],
           "xaxis": "x",
           "y": [
            2
           ],
           "yaxis": "y"
          },
          {
           "hovertemplate": "Team=Man City<br>Matches played=19<br>Average goals scored last five games=%{x}<br>Average goals conceded last five games=%{y}<extra></extra>",
           "legendgroup": "Man City",
           "marker": {
            "color": "#9467BD",
            "opacity": 0.8,
            "symbol": "circle"
           },
           "mode": "markers",
           "name": "Man City",
           "orientation": "v",
           "showlegend": true,
           "type": "scatter",
           "x": [
            3.6
           ],
           "xaxis": "x",
           "y": [
            1
           ],
           "yaxis": "y"
          },
          {
           "hovertemplate": "Team=Brighton<br>Matches played=19<br>Average goals scored last five games=%{x}<br>Average goals conceded last five games=%{y}<extra></extra>",
           "legendgroup": "Brighton",
           "marker": {
            "color": "#8C564B",
            "opacity": 0.8,
            "symbol": "circle"
           },
           "mode": "markers",
           "name": "Brighton",
           "orientation": "v",
           "showlegend": true,
           "type": "scatter",
           "x": [
            1.8
           ],
           "xaxis": "x",
           "y": [
            1
           ],
           "yaxis": "y"
          },
          {
           "hovertemplate": "Team=Southampton<br>Matches played=19<br>Average goals scored last five games=%{x}<br>Average goals conceded last five games=%{y}<extra></extra>",
           "legendgroup": "Southampton",
           "marker": {
            "color": "#E377C2",
            "opacity": 0.8,
            "symbol": "circle"
           },
           "mode": "markers",
           "name": "Southampton",
           "orientation": "v",
           "showlegend": true,
           "type": "scatter",
           "x": [
            0.8
           ],
           "xaxis": "x",
           "y": [
            2.4
           ],
           "yaxis": "y"
          },
          {
           "hovertemplate": "Team=Wolves<br>Matches played=19<br>Average goals scored last five games=%{x}<br>Average goals conceded last five games=%{y}<extra></extra>",
           "legendgroup": "Wolves",
           "marker": {
            "color": "#7F7F7F",
            "opacity": 0.8,
            "symbol": "circle"
           },
           "mode": "markers",
           "name": "Wolves",
           "orientation": "v",
           "showlegend": true,
           "type": "scatter",
           "x": [
            1.2
           ],
           "xaxis": "x",
           "y": [
            2.6
           ],
           "yaxis": "y"
          },
          {
           "hovertemplate": "Team=Arsenal<br>Matches played=19<br>Average goals scored last five games=%{x}<br>Average goals conceded last five games=%{y}<extra></extra>",
           "legendgroup": "Arsenal",
           "marker": {
            "color": "#BCBD22",
            "opacity": 0.8,
            "symbol": "circle"
           },
           "mode": "markers",
           "name": "Arsenal",
           "orientation": "v",
           "showlegend": true,
           "type": "scatter",
           "x": [
            2.2
           ],
           "xaxis": "x",
           "y": [
            1.4
           ],
           "yaxis": "y"
          },
          {
           "hovertemplate": "Team=West Ham<br>Matches played=19<br>Average goals scored last five games=%{x}<br>Average goals conceded last five games=%{y}<extra></extra>",
           "legendgroup": "West Ham",
           "marker": {
            "color": "#17BECF",
            "opacity": 0.8,
            "symbol": "circle"
           },
           "mode": "markers",
           "name": "West Ham",
           "orientation": "v",
           "showlegend": true,
           "type": "scatter",
           "x": [
            1.6
           ],
           "xaxis": "x",
           "y": [
            1.4
           ],
           "yaxis": "y"
          }
         ],
         "name": "19"
        },
        {
         "data": [
          {
           "hovertemplate": "Team=Brentford<br>Matches played=20<br>Average goals scored last five games=%{x}<br>Average goals conceded last five games=%{y}<extra></extra>",
           "legendgroup": "Brentford",
           "marker": {
            "color": "#1F77B4",
            "opacity": 0.8,
            "symbol": "circle"
           },
           "mode": "markers",
           "name": "Brentford",
           "orientation": "v",
           "showlegend": true,
           "type": "scatter",
           "x": [
            1.2
           ],
           "xaxis": "x",
           "y": [
            0.4
           ],
           "yaxis": "y"
          },
          {
           "hovertemplate": "Team=Man United<br>Matches played=20<br>Average goals scored last five games=%{x}<br>Average goals conceded last five games=%{y}<extra></extra>",
           "legendgroup": "Man United",
           "marker": {
            "color": "#FF7F0E",
            "opacity": 0.8,
            "symbol": "circle"
           },
           "mode": "markers",
           "name": "Man United",
           "orientation": "v",
           "showlegend": true,
           "type": "scatter",
           "x": [
            1.8
           ],
           "xaxis": "x",
           "y": [
            1
           ],
           "yaxis": "y"
          },
          {
           "hovertemplate": "Team=Burnley<br>Matches played=20<br>Average goals scored last five games=%{x}<br>Average goals conceded last five games=%{y}<extra></extra>",
           "legendgroup": "Burnley",
           "marker": {
            "color": "#2CA02C",
            "opacity": 0.8,
            "symbol": "circle"
           },
           "mode": "markers",
           "name": "Burnley",
           "orientation": "v",
           "showlegend": true,
           "type": "scatter",
           "x": [
            1
           ],
           "xaxis": "x",
           "y": [
            1.4
           ],
           "yaxis": "y"
          },
          {
           "hovertemplate": "Team=Chelsea<br>Matches played=20<br>Average goals scored last five games=%{x}<br>Average goals conceded last five games=%{y}<extra></extra>",
           "legendgroup": "Chelsea",
           "marker": {
            "color": "#D62728",
            "opacity": 0.8,
            "symbol": "circle"
           },
           "mode": "markers",
           "name": "Chelsea",
           "orientation": "v",
           "showlegend": true,
           "type": "scatter",
           "x": [
            1.6
           ],
           "xaxis": "x",
           "y": [
            0.8
           ],
           "yaxis": "y"
          },
          {
           "hovertemplate": "Team=Everton<br>Matches played=20<br>Average goals scored last five games=%{x}<br>Average goals conceded last five games=%{y}<extra></extra>",
           "legendgroup": "Everton",
           "marker": {
            "color": "#9467BD",
            "opacity": 0.8,
            "symbol": "circle"
           },
           "mode": "markers",
           "name": "Everton",
           "orientation": "v",
           "showlegend": true,
           "type": "scatter",
           "x": [
            1.8
           ],
           "xaxis": "x",
           "y": [
            1.6
           ],
           "yaxis": "y"
          },
          {
           "hovertemplate": "Team=Leicester<br>Matches played=20<br>Average goals scored last five games=%{x}<br>Average goals conceded last five games=%{y}<extra></extra>",
           "legendgroup": "Leicester",
           "marker": {
            "color": "#8C564B",
            "opacity": 0.8,
            "symbol": "circle"
           },
           "mode": "markers",
           "name": "Leicester",
           "orientation": "v",
           "showlegend": true,
           "type": "scatter",
           "x": [
            1.8
           ],
           "xaxis": "x",
           "y": [
            1.4
           ],
           "yaxis": "y"
          },
          {
           "hovertemplate": "Team=Watford<br>Matches played=20<br>Average goals scored last five games=%{x}<br>Average goals conceded last five games=%{y}<extra></extra>",
           "legendgroup": "Watford",
           "marker": {
            "color": "#E377C2",
            "opacity": 0.8,
            "symbol": "circle"
           },
           "mode": "markers",
           "name": "Watford",
           "orientation": "v",
           "showlegend": true,
           "type": "scatter",
           "x": [
            0.6
           ],
           "xaxis": "x",
           "y": [
            2.2
           ],
           "yaxis": "y"
          },
          {
           "hovertemplate": "Team=Norwich<br>Matches played=20<br>Average goals scored last five games=%{x}<br>Average goals conceded last five games=%{y}<extra></extra>",
           "legendgroup": "Norwich",
           "marker": {
            "color": "#7F7F7F",
            "opacity": 0.8,
            "symbol": "circle"
           },
           "mode": "markers",
           "name": "Norwich",
           "orientation": "v",
           "showlegend": true,
           "type": "scatter",
           "x": [
            0.4
           ],
           "xaxis": "x",
           "y": [
            3.4
           ],
           "yaxis": "y"
          },
          {
           "hovertemplate": "Team=Newcastle<br>Matches played=20<br>Average goals scored last five games=%{x}<br>Average goals conceded last five games=%{y}<extra></extra>",
           "legendgroup": "Newcastle",
           "marker": {
            "color": "#BCBD22",
            "opacity": 0.8,
            "symbol": "circle"
           },
           "mode": "markers",
           "name": "Newcastle",
           "orientation": "v",
           "showlegend": true,
           "type": "scatter",
           "x": [
            1
           ],
           "xaxis": "x",
           "y": [
            0.8
           ],
           "yaxis": "y"
          },
          {
           "hovertemplate": "Team=Tottenham<br>Matches played=20<br>Average goals scored last five games=%{x}<br>Average goals conceded last five games=%{y}<extra></extra>",
           "legendgroup": "Tottenham",
           "marker": {
            "color": "#17BECF",
            "opacity": 0.8,
            "symbol": "circle"
           },
           "mode": "markers",
           "name": "Tottenham",
           "orientation": "v",
           "showlegend": true,
           "type": "scatter",
           "x": [
            1.6
           ],
           "xaxis": "x",
           "y": [
            0.4
           ],
           "yaxis": "y"
          },
          {
           "hovertemplate": "Team=Liverpool<br>Matches played=20<br>Average goals scored last five games=%{x}<br>Average goals conceded last five games=%{y}<extra></extra>",
           "legendgroup": "Liverpool",
           "marker": {
            "color": "#1F77B4",
            "opacity": 0.8,
            "symbol": "circle"
           },
           "mode": "markers",
           "name": "Liverpool",
           "orientation": "v",
           "showlegend": true,
           "type": "scatter",
           "x": [
            2.6
           ],
           "xaxis": "x",
           "y": [
            0.4
           ],
           "yaxis": "y"
          },
          {
           "hovertemplate": "Team=Aston Villa<br>Matches played=20<br>Average goals scored last five games=%{x}<br>Average goals conceded last five games=%{y}<extra></extra>",
           "legendgroup": "Aston Villa",
           "marker": {
            "color": "#FF7F0E",
            "opacity": 0.8,
            "symbol": "circle"
           },
           "mode": "markers",
           "name": "Aston Villa",
           "orientation": "v",
           "showlegend": true,
           "type": "scatter",
           "x": [
            1.4
           ],
           "xaxis": "x",
           "y": [
            1.4
           ],
           "yaxis": "y"
          },
          {
           "hovertemplate": "Team=Crystal Palace<br>Matches played=20<br>Average goals scored last five games=%{x}<br>Average goals conceded last five games=%{y}<extra></extra>",
           "legendgroup": "Crystal Palace",
           "marker": {
            "color": "#2CA02C",
            "opacity": 0.8,
            "symbol": "circle"
           },
           "mode": "markers",
           "name": "Crystal Palace",
           "orientation": "v",
           "showlegend": true,
           "type": "scatter",
           "x": [
            1
           ],
           "xaxis": "x",
           "y": [
            0.6
           ],
           "yaxis": "y"
          },
          {
           "hovertemplate": "Team=Leeds<br>Matches played=20<br>Average goals scored last five games=%{x}<br>Average goals conceded last five games=%{y}<extra></extra>",
           "legendgroup": "Leeds",
           "marker": {
            "color": "#D62728",
            "opacity": 0.8,
            "symbol": "circle"
           },
           "mode": "markers",
           "name": "Leeds",
           "orientation": "v",
           "showlegend": true,
           "type": "scatter",
           "x": [
            0.6
           ],
           "xaxis": "x",
           "y": [
            2.8
           ],
           "yaxis": "y"
          },
          {
           "hovertemplate": "Team=Man City<br>Matches played=20<br>Average goals scored last five games=%{x}<br>Average goals conceded last five games=%{y}<extra></extra>",
           "legendgroup": "Man City",
           "marker": {
            "color": "#9467BD",
            "opacity": 0.8,
            "symbol": "circle"
           },
           "mode": "markers",
           "name": "Man City",
           "orientation": "v",
           "showlegend": true,
           "type": "scatter",
           "x": [
            3.2
           ],
           "xaxis": "x",
           "y": [
            0.8
           ],
           "yaxis": "y"
          },
          {
           "hovertemplate": "Team=Brighton<br>Matches played=20<br>Average goals scored last five games=%{x}<br>Average goals conceded last five games=%{y}<extra></extra>",
           "legendgroup": "Brighton",
           "marker": {
            "color": "#8C564B",
            "opacity": 0.8,
            "symbol": "circle"
           },
           "mode": "markers",
           "name": "Brighton",
           "orientation": "v",
           "showlegend": true,
           "type": "scatter",
           "x": [
            2.2
           ],
           "xaxis": "x",
           "y": [
            0.8
           ],
           "yaxis": "y"
          },
          {
           "hovertemplate": "Team=Southampton<br>Matches played=20<br>Average goals scored last five games=%{x}<br>Average goals conceded last five games=%{y}<extra></extra>",
           "legendgroup": "Southampton",
           "marker": {
            "color": "#E377C2",
            "opacity": 0.8,
            "symbol": "circle"
           },
           "mode": "markers",
           "name": "Southampton",
           "orientation": "v",
           "showlegend": true,
           "type": "scatter",
           "x": [
            0.8
           ],
           "xaxis": "x",
           "y": [
            2.6
           ],
           "yaxis": "y"
          },
          {
           "hovertemplate": "Team=Wolves<br>Matches played=20<br>Average goals scored last five games=%{x}<br>Average goals conceded last five games=%{y}<extra></extra>",
           "legendgroup": "Wolves",
           "marker": {
            "color": "#7F7F7F",
            "opacity": 0.8,
            "symbol": "circle"
           },
           "mode": "markers",
           "name": "Wolves",
           "orientation": "v",
           "showlegend": true,
           "type": "scatter",
           "x": [
            0.8
           ],
           "xaxis": "x",
           "y": [
            2.2
           ],
           "yaxis": "y"
          },
          {
           "hovertemplate": "Team=Arsenal<br>Matches played=20<br>Average goals scored last five games=%{x}<br>Average goals conceded last five games=%{y}<extra></extra>",
           "legendgroup": "Arsenal",
           "marker": {
            "color": "#BCBD22",
            "opacity": 0.8,
            "symbol": "circle"
           },
           "mode": "markers",
           "name": "Arsenal",
           "orientation": "v",
           "showlegend": true,
           "type": "scatter",
           "x": [
            2.2
           ],
           "xaxis": "x",
           "y": [
            1.4
           ],
           "yaxis": "y"
          },
          {
           "hovertemplate": "Team=West Ham<br>Matches played=20<br>Average goals scored last five games=%{x}<br>Average goals conceded last five games=%{y}<extra></extra>",
           "legendgroup": "West Ham",
           "marker": {
            "color": "#17BECF",
            "opacity": 0.8,
            "symbol": "circle"
           },
           "mode": "markers",
           "name": "West Ham",
           "orientation": "v",
           "showlegend": true,
           "type": "scatter",
           "x": [
            2
           ],
           "xaxis": "x",
           "y": [
            1.6
           ],
           "yaxis": "y"
          }
         ],
         "name": "20"
        },
        {
         "data": [
          {
           "hovertemplate": "Team=Brentford<br>Matches played=21<br>Average goals scored last five games=%{x}<br>Average goals conceded last five games=%{y}<extra></extra>",
           "legendgroup": "Brentford",
           "marker": {
            "color": "#1F77B4",
            "opacity": 0.8,
            "symbol": "circle"
           },
           "mode": "markers",
           "name": "Brentford",
           "orientation": "v",
           "showlegend": true,
           "type": "scatter",
           "x": [
            1
           ],
           "xaxis": "x",
           "y": [
            0.6
           ],
           "yaxis": "y"
          },
          {
           "hovertemplate": "Team=Man United<br>Matches played=21<br>Average goals scored last five games=%{x}<br>Average goals conceded last five games=%{y}<extra></extra>",
           "legendgroup": "Man United",
           "marker": {
            "color": "#FF7F0E",
            "opacity": 0.8,
            "symbol": "circle"
           },
           "mode": "markers",
           "name": "Man United",
           "orientation": "v",
           "showlegend": true,
           "type": "scatter",
           "x": [
            1.8
           ],
           "xaxis": "x",
           "y": [
            0.8
           ],
           "yaxis": "y"
          },
          {
           "hovertemplate": "Team=Burnley<br>Matches played=21<br>Average goals scored last five games=%{x}<br>Average goals conceded last five games=%{y}<extra></extra>",
           "legendgroup": "Burnley",
           "marker": {
            "color": "#2CA02C",
            "opacity": 0.8,
            "symbol": "circle"
           },
           "mode": "markers",
           "name": "Burnley",
           "orientation": "v",
           "showlegend": true,
           "type": "scatter",
           "x": [
            0.8
           ],
           "xaxis": "x",
           "y": [
            2
           ],
           "yaxis": "y"
          },
          {
           "hovertemplate": "Team=Chelsea<br>Matches played=21<br>Average goals scored last five games=%{x}<br>Average goals conceded last five games=%{y}<extra></extra>",
           "legendgroup": "Chelsea",
           "marker": {
            "color": "#D62728",
            "opacity": 0.8,
            "symbol": "circle"
           },
           "mode": "markers",
           "name": "Chelsea",
           "orientation": "v",
           "showlegend": true,
           "type": "scatter",
           "x": [
            1.6
           ],
           "xaxis": "x",
           "y": [
            1
           ],
           "yaxis": "y"
          },
          {
           "hovertemplate": "Team=Everton<br>Matches played=21<br>Average goals scored last five games=%{x}<br>Average goals conceded last five games=%{y}<extra></extra>",
           "legendgroup": "Everton",
           "marker": {
            "color": "#9467BD",
            "opacity": 0.8,
            "symbol": "circle"
           },
           "mode": "markers",
           "name": "Everton",
           "orientation": "v",
           "showlegend": true,
           "type": "scatter",
           "x": [
            2
           ],
           "xaxis": "x",
           "y": [
            1.4
           ],
           "yaxis": "y"
          },
          {
           "hovertemplate": "Team=Leicester<br>Matches played=21<br>Average goals scored last five games=%{x}<br>Average goals conceded last five games=%{y}<extra></extra>",
           "legendgroup": "Leicester",
           "marker": {
            "color": "#8C564B",
            "opacity": 0.8,
            "symbol": "circle"
           },
           "mode": "markers",
           "name": "Leicester",
           "orientation": "v",
           "showlegend": true,
           "type": "scatter",
           "x": [
            2.2
           ],
           "xaxis": "x",
           "y": [
            1.6
           ],
           "yaxis": "y"
          },
          {
           "hovertemplate": "Team=Watford<br>Matches played=21<br>Average goals scored last five games=%{x}<br>Average goals conceded last five games=%{y}<extra></extra>",
           "legendgroup": "Watford",
           "marker": {
            "color": "#E377C2",
            "opacity": 0.8,
            "symbol": "circle"
           },
           "mode": "markers",
           "name": "Watford",
           "orientation": "v",
           "showlegend": true,
           "type": "scatter",
           "x": [
            0.4
           ],
           "xaxis": "x",
           "y": [
            2
           ],
           "yaxis": "y"
          },
          {
           "hovertemplate": "Team=Norwich<br>Matches played=21<br>Average goals scored last five games=%{x}<br>Average goals conceded last five games=%{y}<extra></extra>",
           "legendgroup": "Norwich",
           "marker": {
            "color": "#7F7F7F",
            "opacity": 0.8,
            "symbol": "circle"
           },
           "mode": "markers",
           "name": "Norwich",
           "orientation": "v",
           "showlegend": true,
           "type": "scatter",
           "x": [
            0
           ],
           "xaxis": "x",
           "y": [
            3.6
           ],
           "yaxis": "y"
          },
          {
           "hovertemplate": "Team=Newcastle<br>Matches played=21<br>Average goals scored last five games=%{x}<br>Average goals conceded last five games=%{y}<extra></extra>",
           "legendgroup": "Newcastle",
           "marker": {
            "color": "#BCBD22",
            "opacity": 0.8,
            "symbol": "circle"
           },
           "mode": "markers",
           "name": "Newcastle",
           "orientation": "v",
           "showlegend": true,
           "type": "scatter",
           "x": [
            0.8
           ],
           "xaxis": "x",
           "y": [
            1.4
           ],
           "yaxis": "y"
          },
          {
           "hovertemplate": "Team=Tottenham<br>Matches played=21<br>Average goals scored last five games=%{x}<br>Average goals conceded last five games=%{y}<extra></extra>",
           "legendgroup": "Tottenham",
           "marker": {
            "color": "#17BECF",
            "opacity": 0.8,
            "symbol": "circle"
           },
           "mode": "markers",
           "name": "Tottenham",
           "orientation": "v",
           "showlegend": true,
           "type": "scatter",
           "x": [
            1.6
           ],
           "xaxis": "x",
           "y": [
            0.8
           ],
           "yaxis": "y"
          },
          {
           "hovertemplate": "Team=Liverpool<br>Matches played=21<br>Average goals scored last five games=%{x}<br>Average goals conceded last five games=%{y}<extra></extra>",
           "legendgroup": "Liverpool",
           "marker": {
            "color": "#1F77B4",
            "opacity": 0.8,
            "symbol": "circle"
           },
           "mode": "markers",
           "name": "Liverpool",
           "orientation": "v",
           "showlegend": true,
           "type": "scatter",
           "x": [
            2.4
           ],
           "xaxis": "x",
           "y": [
            0.4
           ],
           "yaxis": "y"
          },
          {
           "hovertemplate": "Team=Aston Villa<br>Matches played=21<br>Average goals scored last five games=%{x}<br>Average goals conceded last five games=%{y}<extra></extra>",
           "legendgroup": "Aston Villa",
           "marker": {
            "color": "#FF7F0E",
            "opacity": 0.8,
            "symbol": "circle"
           },
           "mode": "markers",
           "name": "Aston Villa",
           "orientation": "v",
           "showlegend": true,
           "type": "scatter",
           "x": [
            1
           ],
           "xaxis": "x",
           "y": [
            2
           ],
           "yaxis": "y"
          },
          {
           "hovertemplate": "Team=Crystal Palace<br>Matches played=21<br>Average goals scored last five games=%{x}<br>Average goals conceded last five games=%{y}<extra></extra>",
           "legendgroup": "Crystal Palace",
           "marker": {
            "color": "#2CA02C",
            "opacity": 0.8,
            "symbol": "circle"
           },
           "mode": "markers",
           "name": "Crystal Palace",
           "orientation": "v",
           "showlegend": true,
           "type": "scatter",
           "x": [
            0.8
           ],
           "xaxis": "x",
           "y": [
            1
           ],
           "yaxis": "y"
          },
          {
           "hovertemplate": "Team=Leeds<br>Matches played=21<br>Average goals scored last five games=%{x}<br>Average goals conceded last five games=%{y}<extra></extra>",
           "legendgroup": "Leeds",
           "marker": {
            "color": "#D62728",
            "opacity": 0.8,
            "symbol": "circle"
           },
           "mode": "markers",
           "name": "Leeds",
           "orientation": "v",
           "showlegend": true,
           "type": "scatter",
           "x": [
            0.6
           ],
           "xaxis": "x",
           "y": [
            2.8
           ],
           "yaxis": "y"
          },
          {
           "hovertemplate": "Team=Man City<br>Matches played=21<br>Average goals scored last five games=%{x}<br>Average goals conceded last five games=%{y}<extra></extra>",
           "legendgroup": "Man City",
           "marker": {
            "color": "#9467BD",
            "opacity": 0.8,
            "symbol": "circle"
           },
           "mode": "markers",
           "name": "Man City",
           "orientation": "v",
           "showlegend": true,
           "type": "scatter",
           "x": [
            2.8
           ],
           "xaxis": "x",
           "y": [
            0.8
           ],
           "yaxis": "y"
          },
          {
           "hovertemplate": "Team=Brighton<br>Matches played=21<br>Average goals scored last five games=%{x}<br>Average goals conceded last five games=%{y}<extra></extra>",
           "legendgroup": "Brighton",
           "marker": {
            "color": "#8C564B",
            "opacity": 0.8,
            "symbol": "circle"
           },
           "mode": "markers",
           "name": "Brighton",
           "orientation": "v",
           "showlegend": true,
           "type": "scatter",
           "x": [
            2.4
           ],
           "xaxis": "x",
           "y": [
            0.8
           ],
           "yaxis": "y"
          },
          {
           "hovertemplate": "Team=Southampton<br>Matches played=21<br>Average goals scored last five games=%{x}<br>Average goals conceded last five games=%{y}<extra></extra>",
           "legendgroup": "Southampton",
           "marker": {
            "color": "#E377C2",
            "opacity": 0.8,
            "symbol": "circle"
           },
           "mode": "markers",
           "name": "Southampton",
           "orientation": "v",
           "showlegend": true,
           "type": "scatter",
           "x": [
            1.2
           ],
           "xaxis": "x",
           "y": [
            1.8
           ],
           "yaxis": "y"
          },
          {
           "hovertemplate": "Team=Wolves<br>Matches played=21<br>Average goals scored last five games=%{x}<br>Average goals conceded last five games=%{y}<extra></extra>",
           "legendgroup": "Wolves",
           "marker": {
            "color": "#7F7F7F",
            "opacity": 0.8,
            "symbol": "circle"
           },
           "mode": "markers",
           "name": "Wolves",
           "orientation": "v",
           "showlegend": true,
           "type": "scatter",
           "x": [
            0.8
           ],
           "xaxis": "x",
           "y": [
            2
           ],
           "yaxis": "y"
          },
          {
           "hovertemplate": "Team=Arsenal<br>Matches played=21<br>Average goals scored last five games=%{x}<br>Average goals conceded last five games=%{y}<extra></extra>",
           "legendgroup": "Arsenal",
           "marker": {
            "color": "#BCBD22",
            "opacity": 0.8,
            "symbol": "circle"
           },
           "mode": "markers",
           "name": "Arsenal",
           "orientation": "v",
           "showlegend": true,
           "type": "scatter",
           "x": [
            2
           ],
           "xaxis": "x",
           "y": [
            2
           ],
           "yaxis": "y"
          },
          {
           "hovertemplate": "Team=West Ham<br>Matches played=21<br>Average goals scored last five games=%{x}<br>Average goals conceded last five games=%{y}<extra></extra>",
           "legendgroup": "West Ham",
           "marker": {
            "color": "#17BECF",
            "opacity": 0.8,
            "symbol": "circle"
           },
           "mode": "markers",
           "name": "West Ham",
           "orientation": "v",
           "showlegend": true,
           "type": "scatter",
           "x": [
            1.6
           ],
           "xaxis": "x",
           "y": [
            1.4
           ],
           "yaxis": "y"
          }
         ],
         "name": "21"
        },
        {
         "data": [
          {
           "hovertemplate": "Team=Brentford<br>Matches played=22<br>Average goals scored last five games=%{x}<br>Average goals conceded last five games=%{y}<extra></extra>",
           "legendgroup": "Brentford",
           "marker": {
            "color": "#1F77B4",
            "opacity": 0.8,
            "symbol": "circle"
           },
           "mode": "markers",
           "name": "Brentford",
           "orientation": "v",
           "showlegend": true,
           "type": "scatter",
           "x": [
            1.4
           ],
           "xaxis": "x",
           "y": [
            0.6
           ],
           "yaxis": "y"
          },
          {
           "hovertemplate": "Team=Man United<br>Matches played=22<br>Average goals scored last five games=%{x}<br>Average goals conceded last five games=%{y}<extra></extra>",
           "legendgroup": "Man United",
           "marker": {
            "color": "#FF7F0E",
            "opacity": 0.8,
            "symbol": "circle"
           },
           "mode": "markers",
           "name": "Man United",
           "orientation": "v",
           "showlegend": true,
           "type": "scatter",
           "x": [
            1.6
           ],
           "xaxis": "x",
           "y": [
            0.6
           ],
           "yaxis": "y"
          },
          {
           "hovertemplate": "Team=Burnley<br>Matches played=22<br>Average goals scored last five games=%{x}<br>Average goals conceded last five games=%{y}<extra></extra>",
           "legendgroup": "Burnley",
           "marker": {
            "color": "#2CA02C",
            "opacity": 0.8,
            "symbol": "circle"
           },
           "mode": "markers",
           "name": "Burnley",
           "orientation": "v",
           "showlegend": true,
           "type": "scatter",
           "x": [
            1
           ],
           "xaxis": "x",
           "y": [
            2.4
           ],
           "yaxis": "y"
          },
          {
           "hovertemplate": "Team=Chelsea<br>Matches played=22<br>Average goals scored last five games=%{x}<br>Average goals conceded last five games=%{y}<extra></extra>",
           "legendgroup": "Chelsea",
           "marker": {
            "color": "#D62728",
            "opacity": 0.8,
            "symbol": "circle"
           },
           "mode": "markers",
           "name": "Chelsea",
           "orientation": "v",
           "showlegend": true,
           "type": "scatter",
           "x": [
            1.8
           ],
           "xaxis": "x",
           "y": [
            0.6
           ],
           "yaxis": "y"
          },
          {
           "hovertemplate": "Team=Everton<br>Matches played=22<br>Average goals scored last five games=%{x}<br>Average goals conceded last five games=%{y}<extra></extra>",
           "legendgroup": "Everton",
           "marker": {
            "color": "#9467BD",
            "opacity": 0.8,
            "symbol": "circle"
           },
           "mode": "markers",
           "name": "Everton",
           "orientation": "v",
           "showlegend": true,
           "type": "scatter",
           "x": [
            1.8
           ],
           "xaxis": "x",
           "y": [
            2
           ],
           "yaxis": "y"
          },
          {
           "hovertemplate": "Team=Leicester<br>Matches played=22<br>Average goals scored last five games=%{x}<br>Average goals conceded last five games=%{y}<extra></extra>",
           "legendgroup": "Leicester",
           "marker": {
            "color": "#8C564B",
            "opacity": 0.8,
            "symbol": "circle"
           },
           "mode": "markers",
           "name": "Leicester",
           "orientation": "v",
           "showlegend": true,
           "type": "scatter",
           "x": [
            2.2
           ],
           "xaxis": "x",
           "y": [
            1.6
           ],
           "yaxis": "y"
          },
          {
           "hovertemplate": "Team=Watford<br>Matches played=22<br>Average goals scored last five games=%{x}<br>Average goals conceded last five games=%{y}<extra></extra>",
           "legendgroup": "Watford",
           "marker": {
            "color": "#E377C2",
            "opacity": 0.8,
            "symbol": "circle"
           },
           "mode": "markers",
           "name": "Watford",
           "orientation": "v",
           "showlegend": true,
           "type": "scatter",
           "x": [
            0.8
           ],
           "xaxis": "x",
           "y": [
            1.8
           ],
           "yaxis": "y"
          },
          {
           "hovertemplate": "Team=Norwich<br>Matches played=22<br>Average goals scored last five games=%{x}<br>Average goals conceded last five games=%{y}<extra></extra>",
           "legendgroup": "Norwich",
           "marker": {
            "color": "#7F7F7F",
            "opacity": 0.8,
            "symbol": "circle"
           },
           "mode": "markers",
           "name": "Norwich",
           "orientation": "v",
           "showlegend": true,
           "type": "scatter",
           "x": [
            0
           ],
           "xaxis": "x",
           "y": [
            3.4
           ],
           "yaxis": "y"
          },
          {
           "hovertemplate": "Team=Newcastle<br>Matches played=22<br>Average goals scored last five games=%{x}<br>Average goals conceded last five games=%{y}<extra></extra>",
           "legendgroup": "Newcastle",
           "marker": {
            "color": "#BCBD22",
            "opacity": 0.8,
            "symbol": "circle"
           },
           "mode": "markers",
           "name": "Newcastle",
           "orientation": "v",
           "showlegend": true,
           "type": "scatter",
           "x": [
            0.8
           ],
           "xaxis": "x",
           "y": [
            1.6
           ],
           "yaxis": "y"
          },
          {
           "hovertemplate": "Team=Tottenham<br>Matches played=22<br>Average goals scored last five games=%{x}<br>Average goals conceded last five games=%{y}<extra></extra>",
           "legendgroup": "Tottenham",
           "marker": {
            "color": "#17BECF",
            "opacity": 0.8,
            "symbol": "circle"
           },
           "mode": "markers",
           "name": "Tottenham",
           "orientation": "v",
           "showlegend": true,
           "type": "scatter",
           "x": [
            1.2
           ],
           "xaxis": "x",
           "y": [
            1.2
           ],
           "yaxis": "y"
          },
          {
           "hovertemplate": "Team=Liverpool<br>Matches played=22<br>Average goals scored last five games=%{x}<br>Average goals conceded last five games=%{y}<extra></extra>",
           "legendgroup": "Liverpool",
           "marker": {
            "color": "#1F77B4",
            "opacity": 0.8,
            "symbol": "circle"
           },
           "mode": "markers",
           "name": "Liverpool",
           "orientation": "v",
           "showlegend": true,
           "type": "scatter",
           "x": [
            2.6
           ],
           "xaxis": "x",
           "y": [
            1
           ],
           "yaxis": "y"
          },
          {
           "hovertemplate": "Team=Aston Villa<br>Matches played=22<br>Average goals scored last five games=%{x}<br>Average goals conceded last five games=%{y}<extra></extra>",
           "legendgroup": "Aston Villa",
           "marker": {
            "color": "#FF7F0E",
            "opacity": 0.8,
            "symbol": "circle"
           },
           "mode": "markers",
           "name": "Aston Villa",
           "orientation": "v",
           "showlegend": true,
           "type": "scatter",
           "x": [
            1
           ],
           "xaxis": "x",
           "y": [
            1.6
           ],
           "yaxis": "y"
          },
          {
           "hovertemplate": "Team=Crystal Palace<br>Matches played=22<br>Average goals scored last five games=%{x}<br>Average goals conceded last five games=%{y}<extra></extra>",
           "legendgroup": "Crystal Palace",
           "marker": {
            "color": "#2CA02C",
            "opacity": 0.8,
            "symbol": "circle"
           },
           "mode": "markers",
           "name": "Crystal Palace",
           "orientation": "v",
           "showlegend": true,
           "type": "scatter",
           "x": [
            0.8
           ],
           "xaxis": "x",
           "y": [
            1.6
           ],
           "yaxis": "y"
          },
          {
           "hovertemplate": "Team=Leeds<br>Matches played=22<br>Average goals scored last five games=%{x}<br>Average goals conceded last five games=%{y}<extra></extra>",
           "legendgroup": "Leeds",
           "marker": {
            "color": "#D62728",
            "opacity": 0.8,
            "symbol": "circle"
           },
           "mode": "markers",
           "name": "Leeds",
           "orientation": "v",
           "showlegend": true,
           "type": "scatter",
           "x": [
            0.8
           ],
           "xaxis": "x",
           "y": [
            2.2
           ],
           "yaxis": "y"
          },
          {
           "hovertemplate": "Team=Man City<br>Matches played=22<br>Average goals scored last five games=%{x}<br>Average goals conceded last five games=%{y}<extra></extra>",
           "legendgroup": "Man City",
           "marker": {
            "color": "#9467BD",
            "opacity": 0.8,
            "symbol": "circle"
           },
           "mode": "markers",
           "name": "Man City",
           "orientation": "v",
           "showlegend": true,
           "type": "scatter",
           "x": [
            2
           ],
           "xaxis": "x",
           "y": [
            0.6
           ],
           "yaxis": "y"
          },
          {
           "hovertemplate": "Team=Brighton<br>Matches played=22<br>Average goals scored last five games=%{x}<br>Average goals conceded last five games=%{y}<extra></extra>",
           "legendgroup": "Brighton",
           "marker": {
            "color": "#8C564B",
            "opacity": 0.8,
            "symbol": "circle"
           },
           "mode": "markers",
           "name": "Brighton",
           "orientation": "v",
           "showlegend": true,
           "type": "scatter",
           "x": [
            2.2
           ],
           "xaxis": "x",
           "y": [
            0.6
           ],
           "yaxis": "y"
          },
          {
           "hovertemplate": "Team=Southampton<br>Matches played=22<br>Average goals scored last five games=%{x}<br>Average goals conceded last five games=%{y}<extra></extra>",
           "legendgroup": "Southampton",
           "marker": {
            "color": "#E377C2",
            "opacity": 0.8,
            "symbol": "circle"
           },
           "mode": "markers",
           "name": "Southampton",
           "orientation": "v",
           "showlegend": true,
           "type": "scatter",
           "x": [
            1
           ],
           "xaxis": "x",
           "y": [
            1.8
           ],
           "yaxis": "y"
          },
          {
           "hovertemplate": "Team=Wolves<br>Matches played=22<br>Average goals scored last five games=%{x}<br>Average goals conceded last five games=%{y}<extra></extra>",
           "legendgroup": "Wolves",
           "marker": {
            "color": "#7F7F7F",
            "opacity": 0.8,
            "symbol": "circle"
           },
           "mode": "markers",
           "name": "Wolves",
           "orientation": "v",
           "showlegend": true,
           "type": "scatter",
           "x": [
            1
           ],
           "xaxis": "x",
           "y": [
            1.4
           ],
           "yaxis": "y"
          },
          {
           "hovertemplate": "Team=Arsenal<br>Matches played=22<br>Average goals scored last five games=%{x}<br>Average goals conceded last five games=%{y}<extra></extra>",
           "legendgroup": "Arsenal",
           "marker": {
            "color": "#BCBD22",
            "opacity": 0.8,
            "symbol": "circle"
           },
           "mode": "markers",
           "name": "Arsenal",
           "orientation": "v",
           "showlegend": true,
           "type": "scatter",
           "x": [
            1.6
           ],
           "xaxis": "x",
           "y": [
            1.8
           ],
           "yaxis": "y"
          },
          {
           "hovertemplate": "Team=West Ham<br>Matches played=22<br>Average goals scored last five games=%{x}<br>Average goals conceded last five games=%{y}<extra></extra>",
           "legendgroup": "West Ham",
           "marker": {
            "color": "#17BECF",
            "opacity": 0.8,
            "symbol": "circle"
           },
           "mode": "markers",
           "name": "West Ham",
           "orientation": "v",
           "showlegend": true,
           "type": "scatter",
           "x": [
            1.8
           ],
           "xaxis": "x",
           "y": [
            1.4
           ],
           "yaxis": "y"
          }
         ],
         "name": "22"
        },
        {
         "data": [
          {
           "hovertemplate": "Team=Brentford<br>Matches played=23<br>Average goals scored last five games=%{x}<br>Average goals conceded last five games=%{y}<extra></extra>",
           "legendgroup": "Brentford",
           "marker": {
            "color": "#1F77B4",
            "opacity": 0.8,
            "symbol": "circle"
           },
           "mode": "markers",
           "name": "Brentford",
           "orientation": "v",
           "showlegend": true,
           "type": "scatter",
           "x": [
            1.2
           ],
           "xaxis": "x",
           "y": [
            0.8
           ],
           "yaxis": "y"
          },
          {
           "hovertemplate": "Team=Man United<br>Matches played=23<br>Average goals scored last five games=%{x}<br>Average goals conceded last five games=%{y}<extra></extra>",
           "legendgroup": "Man United",
           "marker": {
            "color": "#FF7F0E",
            "opacity": 0.8,
            "symbol": "circle"
           },
           "mode": "markers",
           "name": "Man United",
           "orientation": "v",
           "showlegend": true,
           "type": "scatter",
           "x": [
            1.8
           ],
           "xaxis": "x",
           "y": [
            1.2
           ],
           "yaxis": "y"
          },
          {
           "hovertemplate": "Team=Burnley<br>Matches played=23<br>Average goals scored last five games=%{x}<br>Average goals conceded last five games=%{y}<extra></extra>",
           "legendgroup": "Burnley",
           "marker": {
            "color": "#2CA02C",
            "opacity": 0.8,
            "symbol": "circle"
           },
           "mode": "markers",
           "name": "Burnley",
           "orientation": "v",
           "showlegend": true,
           "type": "scatter",
           "x": [
            0.8
           ],
           "xaxis": "x",
           "y": [
            2.2
           ],
           "yaxis": "y"
          },
          {
           "hovertemplate": "Team=Chelsea<br>Matches played=23<br>Average goals scored last five games=%{x}<br>Average goals conceded last five games=%{y}<extra></extra>",
           "legendgroup": "Chelsea",
           "marker": {
            "color": "#D62728",
            "opacity": 0.8,
            "symbol": "circle"
           },
           "mode": "markers",
           "name": "Chelsea",
           "orientation": "v",
           "showlegend": true,
           "type": "scatter",
           "x": [
            1.8
           ],
           "xaxis": "x",
           "y": [
            0.4
           ],
           "yaxis": "y"
          },
          {
           "hovertemplate": "Team=Everton<br>Matches played=23<br>Average goals scored last five games=%{x}<br>Average goals conceded last five games=%{y}<extra></extra>",
           "legendgroup": "Everton",
           "marker": {
            "color": "#9467BD",
            "opacity": 0.8,
            "symbol": "circle"
           },
           "mode": "markers",
           "name": "Everton",
           "orientation": "v",
           "showlegend": true,
           "type": "scatter",
           "x": [
            1.6
           ],
           "xaxis": "x",
           "y": [
            1.6
           ],
           "yaxis": "y"
          },
          {
           "hovertemplate": "Team=Leicester<br>Matches played=23<br>Average goals scored last five games=%{x}<br>Average goals conceded last five games=%{y}<extra></extra>",
           "legendgroup": "Leicester",
           "marker": {
            "color": "#8C564B",
            "opacity": 0.8,
            "symbol": "circle"
           },
           "mode": "markers",
           "name": "Leicester",
           "orientation": "v",
           "showlegend": true,
           "type": "scatter",
           "x": [
            2
           ],
           "xaxis": "x",
           "y": [
            2
           ],
           "yaxis": "y"
          },
          {
           "hovertemplate": "Team=Watford<br>Matches played=23<br>Average goals scored last five games=%{x}<br>Average goals conceded last five games=%{y}<extra></extra>",
           "legendgroup": "Watford",
           "marker": {
            "color": "#E377C2",
            "opacity": 0.8,
            "symbol": "circle"
           },
           "mode": "markers",
           "name": "Watford",
           "orientation": "v",
           "showlegend": true,
           "type": "scatter",
           "x": [
            0.8
           ],
           "xaxis": "x",
           "y": [
            2
           ],
           "yaxis": "y"
          },
          {
           "hovertemplate": "Team=Norwich<br>Matches played=23<br>Average goals scored last five games=%{x}<br>Average goals conceded last five games=%{y}<extra></extra>",
           "legendgroup": "Norwich",
           "marker": {
            "color": "#7F7F7F",
            "opacity": 0.8,
            "symbol": "circle"
           },
           "mode": "markers",
           "name": "Norwich",
           "orientation": "v",
           "showlegend": true,
           "type": "scatter",
           "x": [
            0
           ],
           "xaxis": "x",
           "y": [
            2.6
           ],
           "yaxis": "y"
          },
          {
           "hovertemplate": "Team=Newcastle<br>Matches played=23<br>Average goals scored last five games=%{x}<br>Average goals conceded last five games=%{y}<extra></extra>",
           "legendgroup": "Newcastle",
           "marker": {
            "color": "#BCBD22",
            "opacity": 0.8,
            "symbol": "circle"
           },
           "mode": "markers",
           "name": "Newcastle",
           "orientation": "v",
           "showlegend": true,
           "type": "scatter",
           "x": [
            1
           ],
           "xaxis": "x",
           "y": [
            1.8
           ],
           "yaxis": "y"
          },
          {
           "hovertemplate": "Team=Tottenham<br>Matches played=23<br>Average goals scored last five games=%{x}<br>Average goals conceded last five games=%{y}<extra></extra>",
           "legendgroup": "Tottenham",
           "marker": {
            "color": "#17BECF",
            "opacity": 0.8,
            "symbol": "circle"
           },
           "mode": "markers",
           "name": "Tottenham",
           "orientation": "v",
           "showlegend": true,
           "type": "scatter",
           "x": [
            1.2
           ],
           "xaxis": "x",
           "y": [
            1.6
           ],
           "yaxis": "y"
          },
          {
           "hovertemplate": "Team=Liverpool<br>Matches played=23<br>Average goals scored last five games=%{x}<br>Average goals conceded last five games=%{y}<extra></extra>",
           "legendgroup": "Liverpool",
           "marker": {
            "color": "#1F77B4",
            "opacity": 0.8,
            "symbol": "circle"
           },
           "mode": "markers",
           "name": "Liverpool",
           "orientation": "v",
           "showlegend": true,
           "type": "scatter",
           "x": [
            3.4
           ],
           "xaxis": "x",
           "y": [
            0.8
           ],
           "yaxis": "y"
          },
          {
           "hovertemplate": "Team=Aston Villa<br>Matches played=23<br>Average goals scored last five games=%{x}<br>Average goals conceded last five games=%{y}<extra></extra>",
           "legendgroup": "Aston Villa",
           "marker": {
            "color": "#FF7F0E",
            "opacity": 0.8,
            "symbol": "circle"
           },
           "mode": "markers",
           "name": "Aston Villa",
           "orientation": "v",
           "showlegend": true,
           "type": "scatter",
           "x": [
            1
           ],
           "xaxis": "x",
           "y": [
            1.8
           ],
           "yaxis": "y"
          },
          {
           "hovertemplate": "Team=Crystal Palace<br>Matches played=23<br>Average goals scored last five games=%{x}<br>Average goals conceded last five games=%{y}<extra></extra>",
           "legendgroup": "Crystal Palace",
           "marker": {
            "color": "#2CA02C",
            "opacity": 0.8,
            "symbol": "circle"
           },
           "mode": "markers",
           "name": "Crystal Palace",
           "orientation": "v",
           "showlegend": true,
           "type": "scatter",
           "x": [
            1
           ],
           "xaxis": "x",
           "y": [
            2
           ],
           "yaxis": "y"
          },
          {
           "hovertemplate": "Team=Leeds<br>Matches played=23<br>Average goals scored last five games=%{x}<br>Average goals conceded last five games=%{y}<extra></extra>",
           "legendgroup": "Leeds",
           "marker": {
            "color": "#D62728",
            "opacity": 0.8,
            "symbol": "circle"
           },
           "mode": "markers",
           "name": "Leeds",
           "orientation": "v",
           "showlegend": true,
           "type": "scatter",
           "x": [
            0.8
           ],
           "xaxis": "x",
           "y": [
            1.8
           ],
           "yaxis": "y"
          },
          {
           "hovertemplate": "Team=Man City<br>Matches played=23<br>Average goals scored last five games=%{x}<br>Average goals conceded last five games=%{y}<extra></extra>",
           "legendgroup": "Man City",
           "marker": {
            "color": "#9467BD",
            "opacity": 0.8,
            "symbol": "circle"
           },
           "mode": "markers",
           "name": "Man City",
           "orientation": "v",
           "showlegend": true,
           "type": "scatter",
           "x": [
            1.4
           ],
           "xaxis": "x",
           "y": [
            1
           ],
           "yaxis": "y"
          },
          {
           "hovertemplate": "Team=Brighton<br>Matches played=23<br>Average goals scored last five games=%{x}<br>Average goals conceded last five games=%{y}<extra></extra>",
           "legendgroup": "Brighton",
           "marker": {
            "color": "#8C564B",
            "opacity": 0.8,
            "symbol": "circle"
           },
           "mode": "markers",
           "name": "Brighton",
           "orientation": "v",
           "showlegend": true,
           "type": "scatter",
           "x": [
            1.4
           ],
           "xaxis": "x",
           "y": [
            0.6
           ],
           "yaxis": "y"
          },
          {
           "hovertemplate": "Team=Southampton<br>Matches played=23<br>Average goals scored last five games=%{x}<br>Average goals conceded last five games=%{y}<extra></extra>",
           "legendgroup": "Southampton",
           "marker": {
            "color": "#E377C2",
            "opacity": 0.8,
            "symbol": "circle"
           },
           "mode": "markers",
           "name": "Southampton",
           "orientation": "v",
           "showlegend": true,
           "type": "scatter",
           "x": [
            1
           ],
           "xaxis": "x",
           "y": [
            2
           ],
           "yaxis": "y"
          },
          {
           "hovertemplate": "Team=Wolves<br>Matches played=23<br>Average goals scored last five games=%{x}<br>Average goals conceded last five games=%{y}<extra></extra>",
           "legendgroup": "Wolves",
           "marker": {
            "color": "#7F7F7F",
            "opacity": 0.8,
            "symbol": "circle"
           },
           "mode": "markers",
           "name": "Wolves",
           "orientation": "v",
           "showlegend": true,
           "type": "scatter",
           "x": [
            1.4
           ],
           "xaxis": "x",
           "y": [
            0.8
           ],
           "yaxis": "y"
          },
          {
           "hovertemplate": "Team=Arsenal<br>Matches played=23<br>Average goals scored last five games=%{x}<br>Average goals conceded last five games=%{y}<extra></extra>",
           "legendgroup": "Arsenal",
           "marker": {
            "color": "#BCBD22",
            "opacity": 0.8,
            "symbol": "circle"
           },
           "mode": "markers",
           "name": "Arsenal",
           "orientation": "v",
           "showlegend": true,
           "type": "scatter",
           "x": [
            1.2
           ],
           "xaxis": "x",
           "y": [
            1.6
           ],
           "yaxis": "y"
          },
          {
           "hovertemplate": "Team=West Ham<br>Matches played=23<br>Average goals scored last five games=%{x}<br>Average goals conceded last five games=%{y}<extra></extra>",
           "legendgroup": "West Ham",
           "marker": {
            "color": "#17BECF",
            "opacity": 0.8,
            "symbol": "circle"
           },
           "mode": "markers",
           "name": "West Ham",
           "orientation": "v",
           "showlegend": true,
           "type": "scatter",
           "x": [
            1.8
           ],
           "xaxis": "x",
           "y": [
            1
           ],
           "yaxis": "y"
          }
         ],
         "name": "23"
        },
        {
         "data": [
          {
           "hovertemplate": "Team=Brentford<br>Matches played=24<br>Average goals scored last five games=%{x}<br>Average goals conceded last five games=%{y}<extra></extra>",
           "legendgroup": "Brentford",
           "marker": {
            "color": "#1F77B4",
            "opacity": 0.8,
            "symbol": "circle"
           },
           "mode": "markers",
           "name": "Brentford",
           "orientation": "v",
           "showlegend": true,
           "type": "scatter",
           "x": [
            1.2
           ],
           "xaxis": "x",
           "y": [
            1
           ],
           "yaxis": "y"
          },
          {
           "hovertemplate": "Team=Man United<br>Matches played=24<br>Average goals scored last five games=%{x}<br>Average goals conceded last five games=%{y}<extra></extra>",
           "legendgroup": "Man United",
           "marker": {
            "color": "#FF7F0E",
            "opacity": 0.8,
            "symbol": "circle"
           },
           "mode": "markers",
           "name": "Man United",
           "orientation": "v",
           "showlegend": true,
           "type": "scatter",
           "x": [
            1.8
           ],
           "xaxis": "x",
           "y": [
            1.2
           ],
           "yaxis": "y"
          },
          {
           "hovertemplate": "Team=Burnley<br>Matches played=24<br>Average goals scored last five games=%{x}<br>Average goals conceded last five games=%{y}<extra></extra>",
           "legendgroup": "Burnley",
           "marker": {
            "color": "#2CA02C",
            "opacity": 0.8,
            "symbol": "circle"
           },
           "mode": "markers",
           "name": "Burnley",
           "orientation": "v",
           "showlegend": true,
           "type": "scatter",
           "x": [
            1
           ],
           "xaxis": "x",
           "y": [
            2.2
           ],
           "yaxis": "y"
          },
          {
           "hovertemplate": "Team=Chelsea<br>Matches played=24<br>Average goals scored last five games=%{x}<br>Average goals conceded last five games=%{y}<extra></extra>",
           "legendgroup": "Chelsea",
           "marker": {
            "color": "#D62728",
            "opacity": 0.8,
            "symbol": "circle"
           },
           "mode": "markers",
           "name": "Chelsea",
           "orientation": "v",
           "showlegend": true,
           "type": "scatter",
           "x": [
            2
           ],
           "xaxis": "x",
           "y": [
            0.2
           ],
           "yaxis": "y"
          },
          {
           "hovertemplate": "Team=Everton<br>Matches played=24<br>Average goals scored last five games=%{x}<br>Average goals conceded last five games=%{y}<extra></extra>",
           "legendgroup": "Everton",
           "marker": {
            "color": "#9467BD",
            "opacity": 0.8,
            "symbol": "circle"
           },
           "mode": "markers",
           "name": "Everton",
           "orientation": "v",
           "showlegend": true,
           "type": "scatter",
           "x": [
            1.2
           ],
           "xaxis": "x",
           "y": [
            1.6
           ],
           "yaxis": "y"
          },
          {
           "hovertemplate": "Team=Leicester<br>Matches played=24<br>Average goals scored last five games=%{x}<br>Average goals conceded last five games=%{y}<extra></extra>",
           "legendgroup": "Leicester",
           "marker": {
            "color": "#8C564B",
            "opacity": 0.8,
            "symbol": "circle"
           },
           "mode": "markers",
           "name": "Leicester",
           "orientation": "v",
           "showlegend": true,
           "type": "scatter",
           "x": [
            1.6
           ],
           "xaxis": "x",
           "y": [
            2
           ],
           "yaxis": "y"
          },
          {
           "hovertemplate": "Team=Watford<br>Matches played=24<br>Average goals scored last five games=%{x}<br>Average goals conceded last five games=%{y}<extra></extra>",
           "legendgroup": "Watford",
           "marker": {
            "color": "#E377C2",
            "opacity": 0.8,
            "symbol": "circle"
           },
           "mode": "markers",
           "name": "Watford",
           "orientation": "v",
           "showlegend": true,
           "type": "scatter",
           "x": [
            1.6
           ],
           "xaxis": "x",
           "y": [
            1.4
           ],
           "yaxis": "y"
          },
          {
           "hovertemplate": "Team=Norwich<br>Matches played=24<br>Average goals scored last five games=%{x}<br>Average goals conceded last five games=%{y}<extra></extra>",
           "legendgroup": "Norwich",
           "marker": {
            "color": "#7F7F7F",
            "opacity": 0.8,
            "symbol": "circle"
           },
           "mode": "markers",
           "name": "Norwich",
           "orientation": "v",
           "showlegend": true,
           "type": "scatter",
           "x": [
            0
           ],
           "xaxis": "x",
           "y": [
            3
           ],
           "yaxis": "y"
          },
          {
           "hovertemplate": "Team=Newcastle<br>Matches played=24<br>Average goals scored last five games=%{x}<br>Average goals conceded last five games=%{y}<extra></extra>",
           "legendgroup": "Newcastle",
           "marker": {
            "color": "#BCBD22",
            "opacity": 0.8,
            "symbol": "circle"
           },
           "mode": "markers",
           "name": "Newcastle",
           "orientation": "v",
           "showlegend": true,
           "type": "scatter",
           "x": [
            0.8
           ],
           "xaxis": "x",
           "y": [
            2
           ],
           "yaxis": "y"
          },
          {
           "hovertemplate": "Team=Tottenham<br>Matches played=24<br>Average goals scored last five games=%{x}<br>Average goals conceded last five games=%{y}<extra></extra>",
           "legendgroup": "Tottenham",
           "marker": {
            "color": "#17BECF",
            "opacity": 0.8,
            "symbol": "circle"
           },
           "mode": "markers",
           "name": "Tottenham",
           "orientation": "v",
           "showlegend": true,
           "type": "scatter",
           "x": [
            1
           ],
           "xaxis": "x",
           "y": [
            1.8
           ],
           "yaxis": "y"
          },
          {
           "hovertemplate": "Team=Liverpool<br>Matches played=24<br>Average goals scored last five games=%{x}<br>Average goals conceded last five games=%{y}<extra></extra>",
           "legendgroup": "Liverpool",
           "marker": {
            "color": "#1F77B4",
            "opacity": 0.8,
            "symbol": "circle"
           },
           "mode": "markers",
           "name": "Liverpool",
           "orientation": "v",
           "showlegend": true,
           "type": "scatter",
           "x": [
            3.8
           ],
           "xaxis": "x",
           "y": [
            0.6
           ],
           "yaxis": "y"
          },
          {
           "hovertemplate": "Team=Aston Villa<br>Matches played=24<br>Average goals scored last five games=%{x}<br>Average goals conceded last five games=%{y}<extra></extra>",
           "legendgroup": "Aston Villa",
           "marker": {
            "color": "#FF7F0E",
            "opacity": 0.8,
            "symbol": "circle"
           },
           "mode": "markers",
           "name": "Aston Villa",
           "orientation": "v",
           "showlegend": true,
           "type": "scatter",
           "x": [
            1
           ],
           "xaxis": "x",
           "y": [
            2.2
           ],
           "yaxis": "y"
          },
          {
           "hovertemplate": "Team=Crystal Palace<br>Matches played=24<br>Average goals scored last five games=%{x}<br>Average goals conceded last five games=%{y}<extra></extra>",
           "legendgroup": "Crystal Palace",
           "marker": {
            "color": "#2CA02C",
            "opacity": 0.8,
            "symbol": "circle"
           },
           "mode": "markers",
           "name": "Crystal Palace",
           "orientation": "v",
           "showlegend": true,
           "type": "scatter",
           "x": [
            1.2
           ],
           "xaxis": "x",
           "y": [
            2
           ],
           "yaxis": "y"
          },
          {
           "hovertemplate": "Team=Leeds<br>Matches played=24<br>Average goals scored last five games=%{x}<br>Average goals conceded last five games=%{y}<extra></extra>",
           "legendgroup": "Leeds",
           "marker": {
            "color": "#D62728",
            "opacity": 0.8,
            "symbol": "circle"
           },
           "mode": "markers",
           "name": "Leeds",
           "orientation": "v",
           "showlegend": true,
           "type": "scatter",
           "x": [
            1
           ],
           "xaxis": "x",
           "y": [
            1.8
           ],
           "yaxis": "y"
          },
          {
           "hovertemplate": "Team=Man City<br>Matches played=24<br>Average goals scored last five games=%{x}<br>Average goals conceded last five games=%{y}<extra></extra>",
           "legendgroup": "Man City",
           "marker": {
            "color": "#9467BD",
            "opacity": 0.8,
            "symbol": "circle"
           },
           "mode": "markers",
           "name": "Man City",
           "orientation": "v",
           "showlegend": true,
           "type": "scatter",
           "x": [
            1.6
           ],
           "xaxis": "x",
           "y": [
            0.8
           ],
           "yaxis": "y"
          },
          {
           "hovertemplate": "Team=Brighton<br>Matches played=24<br>Average goals scored last five games=%{x}<br>Average goals conceded last five games=%{y}<extra></extra>",
           "legendgroup": "Brighton",
           "marker": {
            "color": "#8C564B",
            "opacity": 0.8,
            "symbol": "circle"
           },
           "mode": "markers",
           "name": "Brighton",
           "orientation": "v",
           "showlegend": true,
           "type": "scatter",
           "x": [
            1.2
           ],
           "xaxis": "x",
           "y": [
            0.8
           ],
           "yaxis": "y"
          },
          {
           "hovertemplate": "Team=Southampton<br>Matches played=24<br>Average goals scored last five games=%{x}<br>Average goals conceded last five games=%{y}<extra></extra>",
           "legendgroup": "Southampton",
           "marker": {
            "color": "#E377C2",
            "opacity": 0.8,
            "symbol": "circle"
           },
           "mode": "markers",
           "name": "Southampton",
           "orientation": "v",
           "showlegend": true,
           "type": "scatter",
           "x": [
            1
           ],
           "xaxis": "x",
           "y": [
            1.6
           ],
           "yaxis": "y"
          },
          {
           "hovertemplate": "Team=Wolves<br>Matches played=24<br>Average goals scored last five games=%{x}<br>Average goals conceded last five games=%{y}<extra></extra>",
           "legendgroup": "Wolves",
           "marker": {
            "color": "#7F7F7F",
            "opacity": 0.8,
            "symbol": "circle"
           },
           "mode": "markers",
           "name": "Wolves",
           "orientation": "v",
           "showlegend": true,
           "type": "scatter",
           "x": [
            1.4
           ],
           "xaxis": "x",
           "y": [
            0.8
           ],
           "yaxis": "y"
          },
          {
           "hovertemplate": "Team=Arsenal<br>Matches played=24<br>Average goals scored last five games=%{x}<br>Average goals conceded last five games=%{y}<extra></extra>",
           "legendgroup": "Arsenal",
           "marker": {
            "color": "#BCBD22",
            "opacity": 0.8,
            "symbol": "circle"
           },
           "mode": "markers",
           "name": "Arsenal",
           "orientation": "v",
           "showlegend": true,
           "type": "scatter",
           "x": [
            0.6
           ],
           "xaxis": "x",
           "y": [
            1.4
           ],
           "yaxis": "y"
          },
          {
           "hovertemplate": "Team=West Ham<br>Matches played=24<br>Average goals scored last five games=%{x}<br>Average goals conceded last five games=%{y}<extra></extra>",
           "legendgroup": "West Ham",
           "marker": {
            "color": "#17BECF",
            "opacity": 0.8,
            "symbol": "circle"
           },
           "mode": "markers",
           "name": "West Ham",
           "orientation": "v",
           "showlegend": true,
           "type": "scatter",
           "x": [
            2.2
           ],
           "xaxis": "x",
           "y": [
            0.8
           ],
           "yaxis": "y"
          }
         ],
         "name": "24"
        },
        {
         "data": [
          {
           "hovertemplate": "Team=Brentford<br>Matches played=25<br>Average goals scored last five games=%{x}<br>Average goals conceded last five games=%{y}<extra></extra>",
           "legendgroup": "Brentford",
           "marker": {
            "color": "#1F77B4",
            "opacity": 0.8,
            "symbol": "circle"
           },
           "mode": "markers",
           "name": "Brentford",
           "orientation": "v",
           "showlegend": true,
           "type": "scatter",
           "x": [
            1.8
           ],
           "xaxis": "x",
           "y": [
            1.6
           ],
           "yaxis": "y"
          },
          {
           "hovertemplate": "Team=Man United<br>Matches played=25<br>Average goals scored last five games=%{x}<br>Average goals conceded last five games=%{y}<extra></extra>",
           "legendgroup": "Man United",
           "marker": {
            "color": "#FF7F0E",
            "opacity": 0.8,
            "symbol": "circle"
           },
           "mode": "markers",
           "name": "Man United",
           "orientation": "v",
           "showlegend": true,
           "type": "scatter",
           "x": [
            1.8
           ],
           "xaxis": "x",
           "y": [
            1.8
           ],
           "yaxis": "y"
          },
          {
           "hovertemplate": "Team=Burnley<br>Matches played=25<br>Average goals scored last five games=%{x}<br>Average goals conceded last five games=%{y}<extra></extra>",
           "legendgroup": "Burnley",
           "marker": {
            "color": "#2CA02C",
            "opacity": 0.8,
            "symbol": "circle"
           },
           "mode": "markers",
           "name": "Burnley",
           "orientation": "v",
           "showlegend": true,
           "type": "scatter",
           "x": [
            1.2
           ],
           "xaxis": "x",
           "y": [
            2
           ],
           "yaxis": "y"
          },
          {
           "hovertemplate": "Team=Chelsea<br>Matches played=25<br>Average goals scored last five games=%{x}<br>Average goals conceded last five games=%{y}<extra></extra>",
           "legendgroup": "Chelsea",
           "marker": {
            "color": "#D62728",
            "opacity": 0.8,
            "symbol": "circle"
           },
           "mode": "markers",
           "name": "Chelsea",
           "orientation": "v",
           "showlegend": true,
           "type": "scatter",
           "x": [
            2.2
           ],
           "xaxis": "x",
           "y": [
            0.2
           ],
           "yaxis": "y"
          },
          {
           "hovertemplate": "Team=Everton<br>Matches played=25<br>Average goals scored last five games=%{x}<br>Average goals conceded last five games=%{y}<extra></extra>",
           "legendgroup": "Everton",
           "marker": {
            "color": "#9467BD",
            "opacity": 0.8,
            "symbol": "circle"
           },
           "mode": "markers",
           "name": "Everton",
           "orientation": "v",
           "showlegend": true,
           "type": "scatter",
           "x": [
            0.8
           ],
           "xaxis": "x",
           "y": [
            1.8
           ],
           "yaxis": "y"
          },
          {
           "hovertemplate": "Team=Leicester<br>Matches played=25<br>Average goals scored last five games=%{x}<br>Average goals conceded last five games=%{y}<extra></extra>",
           "legendgroup": "Leicester",
           "marker": {
            "color": "#8C564B",
            "opacity": 0.8,
            "symbol": "circle"
           },
           "mode": "markers",
           "name": "Leicester",
           "orientation": "v",
           "showlegend": true,
           "type": "scatter",
           "x": [
            1.6
           ],
           "xaxis": "x",
           "y": [
            1.4
           ],
           "yaxis": "y"
          },
          {
           "hovertemplate": "Team=Watford<br>Matches played=25<br>Average goals scored last five games=%{x}<br>Average goals conceded last five games=%{y}<extra></extra>",
           "legendgroup": "Watford",
           "marker": {
            "color": "#E377C2",
            "opacity": 0.8,
            "symbol": "circle"
           },
           "mode": "markers",
           "name": "Watford",
           "orientation": "v",
           "showlegend": true,
           "type": "scatter",
           "x": [
            1.6
           ],
           "xaxis": "x",
           "y": [
            1.2
           ],
           "yaxis": "y"
          },
          {
           "hovertemplate": "Team=Norwich<br>Matches played=25<br>Average goals scored last five games=%{x}<br>Average goals conceded last five games=%{y}<extra></extra>",
           "legendgroup": "Norwich",
           "marker": {
            "color": "#7F7F7F",
            "opacity": 0.8,
            "symbol": "circle"
           },
           "mode": "markers",
           "name": "Norwich",
           "orientation": "v",
           "showlegend": true,
           "type": "scatter",
           "x": [
            0.4
           ],
           "xaxis": "x",
           "y": [
            2.2
           ],
           "yaxis": "y"
          },
          {
           "hovertemplate": "Team=Newcastle<br>Matches played=25<br>Average goals scored last five games=%{x}<br>Average goals conceded last five games=%{y}<extra></extra>",
           "legendgroup": "Newcastle",
           "marker": {
            "color": "#BCBD22",
            "opacity": 0.8,
            "symbol": "circle"
           },
           "mode": "markers",
           "name": "Newcastle",
           "orientation": "v",
           "showlegend": true,
           "type": "scatter",
           "x": [
            1
           ],
           "xaxis": "x",
           "y": [
            1.8
           ],
           "yaxis": "y"
          },
          {
           "hovertemplate": "Team=Tottenham<br>Matches played=25<br>Average goals scored last five games=%{x}<br>Average goals conceded last five games=%{y}<extra></extra>",
           "legendgroup": "Tottenham",
           "marker": {
            "color": "#17BECF",
            "opacity": 0.8,
            "symbol": "circle"
           },
           "mode": "markers",
           "name": "Tottenham",
           "orientation": "v",
           "showlegend": true,
           "type": "scatter",
           "x": [
            0.8
           ],
           "xaxis": "x",
           "y": [
            1.8
           ],
           "yaxis": "y"
          },
          {
           "hovertemplate": "Team=Liverpool<br>Matches played=25<br>Average goals scored last five games=%{x}<br>Average goals conceded last five games=%{y}<extra></extra>",
           "legendgroup": "Liverpool",
           "marker": {
            "color": "#1F77B4",
            "opacity": 0.8,
            "symbol": "circle"
           },
           "mode": "markers",
           "name": "Liverpool",
           "orientation": "v",
           "showlegend": true,
           "type": "scatter",
           "x": [
            3.6
           ],
           "xaxis": "x",
           "y": [
            1.2
           ],
           "yaxis": "y"
          },
          {
           "hovertemplate": "Team=Aston Villa<br>Matches played=25<br>Average goals scored last five games=%{x}<br>Average goals conceded last five games=%{y}<extra></extra>",
           "legendgroup": "Aston Villa",
           "marker": {
            "color": "#FF7F0E",
            "opacity": 0.8,
            "symbol": "circle"
           },
           "mode": "markers",
           "name": "Aston Villa",
           "orientation": "v",
           "showlegend": true,
           "type": "scatter",
           "x": [
            0.6
           ],
           "xaxis": "x",
           "y": [
            1.8
           ],
           "yaxis": "y"
          },
          {
           "hovertemplate": "Team=Crystal Palace<br>Matches played=25<br>Average goals scored last five games=%{x}<br>Average goals conceded last five games=%{y}<extra></extra>",
           "legendgroup": "Crystal Palace",
           "marker": {
            "color": "#2CA02C",
            "opacity": 0.8,
            "symbol": "circle"
           },
           "mode": "markers",
           "name": "Crystal Palace",
           "orientation": "v",
           "showlegend": true,
           "type": "scatter",
           "x": [
            1.8
           ],
           "xaxis": "x",
           "y": [
            2
           ],
           "yaxis": "y"
          },
          {
           "hovertemplate": "Team=Leeds<br>Matches played=25<br>Average goals scored last five games=%{x}<br>Average goals conceded last five games=%{y}<extra></extra>",
           "legendgroup": "Leeds",
           "marker": {
            "color": "#D62728",
            "opacity": 0.8,
            "symbol": "circle"
           },
           "mode": "markers",
           "name": "Leeds",
           "orientation": "v",
           "showlegend": true,
           "type": "scatter",
           "x": [
            1
           ],
           "xaxis": "x",
           "y": [
            1.2
           ],
           "yaxis": "y"
          },
          {
           "hovertemplate": "Team=Man City<br>Matches played=25<br>Average goals scored last five games=%{x}<br>Average goals conceded last five games=%{y}<extra></extra>",
           "legendgroup": "Man City",
           "marker": {
            "color": "#9467BD",
            "opacity": 0.8,
            "symbol": "circle"
           },
           "mode": "markers",
           "name": "Man City",
           "orientation": "v",
           "showlegend": true,
           "type": "scatter",
           "x": [
            2
           ],
           "xaxis": "x",
           "y": [
            0.6
           ],
           "yaxis": "y"
          },
          {
           "hovertemplate": "Team=Brighton<br>Matches played=25<br>Average goals scored last five games=%{x}<br>Average goals conceded last five games=%{y}<extra></extra>",
           "legendgroup": "Brighton",
           "marker": {
            "color": "#8C564B",
            "opacity": 0.8,
            "symbol": "circle"
           },
           "mode": "markers",
           "name": "Brighton",
           "orientation": "v",
           "showlegend": true,
           "type": "scatter",
           "x": [
            0.8
           ],
           "xaxis": "x",
           "y": [
            1
           ],
           "yaxis": "y"
          },
          {
           "hovertemplate": "Team=Southampton<br>Matches played=25<br>Average goals scored last five games=%{x}<br>Average goals conceded last five games=%{y}<extra></extra>",
           "legendgroup": "Southampton",
           "marker": {
            "color": "#E377C2",
            "opacity": 0.8,
            "symbol": "circle"
           },
           "mode": "markers",
           "name": "Southampton",
           "orientation": "v",
           "showlegend": true,
           "type": "scatter",
           "x": [
            1
           ],
           "xaxis": "x",
           "y": [
            1.4
           ],
           "yaxis": "y"
          },
          {
           "hovertemplate": "Team=Wolves<br>Matches played=25<br>Average goals scored last five games=%{x}<br>Average goals conceded last five games=%{y}<extra></extra>",
           "legendgroup": "Wolves",
           "marker": {
            "color": "#7F7F7F",
            "opacity": 0.8,
            "symbol": "circle"
           },
           "mode": "markers",
           "name": "Wolves",
           "orientation": "v",
           "showlegend": true,
           "type": "scatter",
           "x": [
            1.4
           ],
           "xaxis": "x",
           "y": [
            1
           ],
           "yaxis": "y"
          },
          {
           "hovertemplate": "Team=Arsenal<br>Matches played=25<br>Average goals scored last five games=%{x}<br>Average goals conceded last five games=%{y}<extra></extra>",
           "legendgroup": "Arsenal",
           "marker": {
            "color": "#BCBD22",
            "opacity": 0.8,
            "symbol": "circle"
           },
           "mode": "markers",
           "name": "Arsenal",
           "orientation": "v",
           "showlegend": true,
           "type": "scatter",
           "x": [
            0.6
           ],
           "xaxis": "x",
           "y": [
            1.8
           ],
           "yaxis": "y"
          },
          {
           "hovertemplate": "Team=West Ham<br>Matches played=25<br>Average goals scored last five games=%{x}<br>Average goals conceded last five games=%{y}<extra></extra>",
           "legendgroup": "West Ham",
           "marker": {
            "color": "#17BECF",
            "opacity": 0.8,
            "symbol": "circle"
           },
           "mode": "markers",
           "name": "West Ham",
           "orientation": "v",
           "showlegend": true,
           "type": "scatter",
           "x": [
            1.4
           ],
           "xaxis": "x",
           "y": [
            0.6
           ],
           "yaxis": "y"
          }
         ],
         "name": "25"
        },
        {
         "data": [
          {
           "hovertemplate": "Team=Brentford<br>Matches played=26<br>Average goals scored last five games=%{x}<br>Average goals conceded last five games=%{y}<extra></extra>",
           "legendgroup": "Brentford",
           "marker": {
            "color": "#1F77B4",
            "opacity": 0.8,
            "symbol": "circle"
           },
           "mode": "markers",
           "name": "Brentford",
           "orientation": "v",
           "showlegend": true,
           "type": "scatter",
           "x": [
            1.6
           ],
           "xaxis": "x",
           "y": [
            1.8
           ],
           "yaxis": "y"
          },
          {
           "hovertemplate": "Team=Man United<br>Matches played=26<br>Average goals scored last five games=%{x}<br>Average goals conceded last five games=%{y}<extra></extra>",
           "legendgroup": "Man United",
           "marker": {
            "color": "#FF7F0E",
            "opacity": 0.8,
            "symbol": "circle"
           },
           "mode": "markers",
           "name": "Man United",
           "orientation": "v",
           "showlegend": true,
           "type": "scatter",
           "x": [
            1.8
           ],
           "xaxis": "x",
           "y": [
            2
           ],
           "yaxis": "y"
          },
          {
           "hovertemplate": "Team=Burnley<br>Matches played=26<br>Average goals scored last five games=%{x}<br>Average goals conceded last five games=%{y}<extra></extra>",
           "legendgroup": "Burnley",
           "marker": {
            "color": "#2CA02C",
            "opacity": 0.8,
            "symbol": "circle"
           },
           "mode": "markers",
           "name": "Burnley",
           "orientation": "v",
           "showlegend": true,
           "type": "scatter",
           "x": [
            1
           ],
           "xaxis": "x",
           "y": [
            1.4
           ],
           "yaxis": "y"
          },
          {
           "hovertemplate": "Team=Chelsea<br>Matches played=26<br>Average goals scored last five games=%{x}<br>Average goals conceded last five games=%{y}<extra></extra>",
           "legendgroup": "Chelsea",
           "marker": {
            "color": "#D62728",
            "opacity": 0.8,
            "symbol": "circle"
           },
           "mode": "markers",
           "name": "Chelsea",
           "orientation": "v",
           "showlegend": true,
           "type": "scatter",
           "x": [
            2.4
           ],
           "xaxis": "x",
           "y": [
            0.2
           ],
           "yaxis": "y"
          },
          {
           "hovertemplate": "Team=Everton<br>Matches played=26<br>Average goals scored last five games=%{x}<br>Average goals conceded last five games=%{y}<extra></extra>",
           "legendgroup": "Everton",
           "marker": {
            "color": "#9467BD",
            "opacity": 0.8,
            "symbol": "circle"
           },
           "mode": "markers",
           "name": "Everton",
           "orientation": "v",
           "showlegend": true,
           "type": "scatter",
           "x": [
            0.4
           ],
           "xaxis": "x",
           "y": [
            2
           ],
           "yaxis": "y"
          },
          {
           "hovertemplate": "Team=Leicester<br>Matches played=26<br>Average goals scored last five games=%{x}<br>Average goals conceded last five games=%{y}<extra></extra>",
           "legendgroup": "Leicester",
           "marker": {
            "color": "#8C564B",
            "opacity": 0.8,
            "symbol": "circle"
           },
           "mode": "markers",
           "name": "Leicester",
           "orientation": "v",
           "showlegend": true,
           "type": "scatter",
           "x": [
            1.6
           ],
           "xaxis": "x",
           "y": [
            1.6
           ],
           "yaxis": "y"
          },
          {
           "hovertemplate": "Team=Watford<br>Matches played=26<br>Average goals scored last five games=%{x}<br>Average goals conceded last five games=%{y}<extra></extra>",
           "legendgroup": "Watford",
           "marker": {
            "color": "#E377C2",
            "opacity": 0.8,
            "symbol": "circle"
           },
           "mode": "markers",
           "name": "Watford",
           "orientation": "v",
           "showlegend": true,
           "type": "scatter",
           "x": [
            2
           ],
           "xaxis": "x",
           "y": [
            1.8
           ],
           "yaxis": "y"
          },
          {
           "hovertemplate": "Team=Norwich<br>Matches played=26<br>Average goals scored last five games=%{x}<br>Average goals conceded last five games=%{y}<extra></extra>",
           "legendgroup": "Norwich",
           "marker": {
            "color": "#7F7F7F",
            "opacity": 0.8,
            "symbol": "circle"
           },
           "mode": "markers",
           "name": "Norwich",
           "orientation": "v",
           "showlegend": true,
           "type": "scatter",
           "x": [
            0.6
           ],
           "xaxis": "x",
           "y": [
            2.2
           ],
           "yaxis": "y"
          },
          {
           "hovertemplate": "Team=Newcastle<br>Matches played=26<br>Average goals scored last five games=%{x}<br>Average goals conceded last five games=%{y}<extra></extra>",
           "legendgroup": "Newcastle",
           "marker": {
            "color": "#BCBD22",
            "opacity": 0.8,
            "symbol": "circle"
           },
           "mode": "markers",
           "name": "Newcastle",
           "orientation": "v",
           "showlegend": true,
           "type": "scatter",
           "x": [
            0.8
           ],
           "xaxis": "x",
           "y": [
            1.4
           ],
           "yaxis": "y"
          },
          {
           "hovertemplate": "Team=Tottenham<br>Matches played=26<br>Average goals scored last five games=%{x}<br>Average goals conceded last five games=%{y}<extra></extra>",
           "legendgroup": "Tottenham",
           "marker": {
            "color": "#17BECF",
            "opacity": 0.8,
            "symbol": "circle"
           },
           "mode": "markers",
           "name": "Tottenham",
           "orientation": "v",
           "showlegend": true,
           "type": "scatter",
           "x": [
            1
           ],
           "xaxis": "x",
           "y": [
            1.4
           ],
           "yaxis": "y"
          },
          {
           "hovertemplate": "Team=Liverpool<br>Matches played=26<br>Average goals scored last five games=%{x}<br>Average goals conceded last five games=%{y}<extra></extra>",
           "legendgroup": "Liverpool",
           "marker": {
            "color": "#1F77B4",
            "opacity": 0.8,
            "symbol": "circle"
           },
           "mode": "markers",
           "name": "Liverpool",
           "orientation": "v",
           "showlegend": true,
           "type": "scatter",
           "x": [
            3.8
           ],
           "xaxis": "x",
           "y": [
            1.4
           ],
           "yaxis": "y"
          },
          {
           "hovertemplate": "Team=Aston Villa<br>Matches played=26<br>Average goals scored last five games=%{x}<br>Average goals conceded last five games=%{y}<extra></extra>",
           "legendgroup": "Aston Villa",
           "marker": {
            "color": "#FF7F0E",
            "opacity": 0.8,
            "symbol": "circle"
           },
           "mode": "markers",
           "name": "Aston Villa",
           "orientation": "v",
           "showlegend": true,
           "type": "scatter",
           "x": [
            1
           ],
           "xaxis": "x",
           "y": [
            1.4
           ],
           "yaxis": "y"
          },
          {
           "hovertemplate": "Team=Crystal Palace<br>Matches played=26<br>Average goals scored last five games=%{x}<br>Average goals conceded last five games=%{y}<extra></extra>",
           "legendgroup": "Crystal Palace",
           "marker": {
            "color": "#2CA02C",
            "opacity": 0.8,
            "symbol": "circle"
           },
           "mode": "markers",
           "name": "Crystal Palace",
           "orientation": "v",
           "showlegend": true,
           "type": "scatter",
           "x": [
            1.4
           ],
           "xaxis": "x",
           "y": [
            1.8
           ],
           "yaxis": "y"
          },
          {
           "hovertemplate": "Team=Leeds<br>Matches played=26<br>Average goals scored last five games=%{x}<br>Average goals conceded last five games=%{y}<extra></extra>",
           "legendgroup": "Leeds",
           "marker": {
            "color": "#D62728",
            "opacity": 0.8,
            "symbol": "circle"
           },
           "mode": "markers",
           "name": "Leeds",
           "orientation": "v",
           "showlegend": true,
           "type": "scatter",
           "x": [
            0.8
           ],
           "xaxis": "x",
           "y": [
            1
           ],
           "yaxis": "y"
          },
          {
           "hovertemplate": "Team=Man City<br>Matches played=26<br>Average goals scored last five games=%{x}<br>Average goals conceded last five games=%{y}<extra></extra>",
           "legendgroup": "Man City",
           "marker": {
            "color": "#9467BD",
            "opacity": 0.8,
            "symbol": "circle"
           },
           "mode": "markers",
           "name": "Man City",
           "orientation": "v",
           "showlegend": true,
           "type": "scatter",
           "x": [
            2.2
           ],
           "xaxis": "x",
           "y": [
            0.8
           ],
           "yaxis": "y"
          },
          {
           "hovertemplate": "Team=Brighton<br>Matches played=26<br>Average goals scored last five games=%{x}<br>Average goals conceded last five games=%{y}<extra></extra>",
           "legendgroup": "Brighton",
           "marker": {
            "color": "#8C564B",
            "opacity": 0.8,
            "symbol": "circle"
           },
           "mode": "markers",
           "name": "Brighton",
           "orientation": "v",
           "showlegend": true,
           "type": "scatter",
           "x": [
            0.8
           ],
           "xaxis": "x",
           "y": [
            1.2
           ],
           "yaxis": "y"
          },
          {
           "hovertemplate": "Team=Southampton<br>Matches played=26<br>Average goals scored last five games=%{x}<br>Average goals conceded last five games=%{y}<extra></extra>",
           "legendgroup": "Southampton",
           "marker": {
            "color": "#E377C2",
            "opacity": 0.8,
            "symbol": "circle"
           },
           "mode": "markers",
           "name": "Southampton",
           "orientation": "v",
           "showlegend": true,
           "type": "scatter",
           "x": [
            0.6
           ],
           "xaxis": "x",
           "y": [
            1.8
           ],
           "yaxis": "y"
          },
          {
           "hovertemplate": "Team=Wolves<br>Matches played=26<br>Average goals scored last five games=%{x}<br>Average goals conceded last five games=%{y}<extra></extra>",
           "legendgroup": "Wolves",
           "marker": {
            "color": "#7F7F7F",
            "opacity": 0.8,
            "symbol": "circle"
           },
           "mode": "markers",
           "name": "Wolves",
           "orientation": "v",
           "showlegend": true,
           "type": "scatter",
           "x": [
            1
           ],
           "xaxis": "x",
           "y": [
            1
           ],
           "yaxis": "y"
          },
          {
           "hovertemplate": "Team=Arsenal<br>Matches played=26<br>Average goals scored last five games=%{x}<br>Average goals conceded last five games=%{y}<extra></extra>",
           "legendgroup": "Arsenal",
           "marker": {
            "color": "#BCBD22",
            "opacity": 0.8,
            "symbol": "circle"
           },
           "mode": "markers",
           "name": "Arsenal",
           "orientation": "v",
           "showlegend": true,
           "type": "scatter",
           "x": [
            1
           ],
           "xaxis": "x",
           "y": [
            1.4
           ],
           "yaxis": "y"
          },
          {
           "hovertemplate": "Team=West Ham<br>Matches played=26<br>Average goals scored last five games=%{x}<br>Average goals conceded last five games=%{y}<extra></extra>",
           "legendgroup": "West Ham",
           "marker": {
            "color": "#17BECF",
            "opacity": 0.8,
            "symbol": "circle"
           },
           "mode": "markers",
           "name": "West Ham",
           "orientation": "v",
           "showlegend": true,
           "type": "scatter",
           "x": [
            1.6
           ],
           "xaxis": "x",
           "y": [
            1
           ],
           "yaxis": "y"
          }
         ],
         "name": "26"
        },
        {
         "data": [
          {
           "hovertemplate": "Team=Brentford<br>Matches played=27<br>Average goals scored last five games=%{x}<br>Average goals conceded last five games=%{y}<extra></extra>",
           "legendgroup": "Brentford",
           "marker": {
            "color": "#1F77B4",
            "opacity": 0.8,
            "symbol": "circle"
           },
           "mode": "markers",
           "name": "Brentford",
           "orientation": "v",
           "showlegend": true,
           "type": "scatter",
           "x": [
            1.6
           ],
           "xaxis": "x",
           "y": [
            2.2
           ],
           "yaxis": "y"
          },
          {
           "hovertemplate": "Team=Man United<br>Matches played=27<br>Average goals scored last five games=%{x}<br>Average goals conceded last five games=%{y}<extra></extra>",
           "legendgroup": "Man United",
           "marker": {
            "color": "#FF7F0E",
            "opacity": 0.8,
            "symbol": "circle"
           },
           "mode": "markers",
           "name": "Man United",
           "orientation": "v",
           "showlegend": true,
           "type": "scatter",
           "x": [
            1.6
           ],
           "xaxis": "x",
           "y": [
            1.8
           ],
           "yaxis": "y"
          },
          {
           "hovertemplate": "Team=Burnley<br>Matches played=27<br>Average goals scored last five games=%{x}<br>Average goals conceded last five games=%{y}<extra></extra>",
           "legendgroup": "Burnley",
           "marker": {
            "color": "#2CA02C",
            "opacity": 0.8,
            "symbol": "circle"
           },
           "mode": "markers",
           "name": "Burnley",
           "orientation": "v",
           "showlegend": true,
           "type": "scatter",
           "x": [
            0.6
           ],
           "xaxis": "x",
           "y": [
            1.2
           ],
           "yaxis": "y"
          },
          {
           "hovertemplate": "Team=Chelsea<br>Matches played=27<br>Average goals scored last five games=%{x}<br>Average goals conceded last five games=%{y}<extra></extra>",
           "legendgroup": "Chelsea",
           "marker": {
            "color": "#D62728",
            "opacity": 0.8,
            "symbol": "circle"
           },
           "mode": "markers",
           "name": "Chelsea",
           "orientation": "v",
           "showlegend": true,
           "type": "scatter",
           "x": [
            2.2
           ],
           "xaxis": "x",
           "y": [
            0.8
           ],
           "yaxis": "y"
          },
          {
           "hovertemplate": "Team=Everton<br>Matches played=27<br>Average goals scored last five games=%{x}<br>Average goals conceded last five games=%{y}<extra></extra>",
           "legendgroup": "Everton",
           "marker": {
            "color": "#9467BD",
            "opacity": 0.8,
            "symbol": "circle"
           },
           "mode": "markers",
           "name": "Everton",
           "orientation": "v",
           "showlegend": true,
           "type": "scatter",
           "x": [
            0.6
           ],
           "xaxis": "x",
           "y": [
            2
           ],
           "yaxis": "y"
          },
          {
           "hovertemplate": "Team=Leicester<br>Matches played=27<br>Average goals scored last five games=%{x}<br>Average goals conceded last five games=%{y}<extra></extra>",
           "legendgroup": "Leicester",
           "marker": {
            "color": "#8C564B",
            "opacity": 0.8,
            "symbol": "circle"
           },
           "mode": "markers",
           "name": "Leicester",
           "orientation": "v",
           "showlegend": true,
           "type": "scatter",
           "x": [
            1.6
           ],
           "xaxis": "x",
           "y": [
            1.6
           ],
           "yaxis": "y"
          },
          {
           "hovertemplate": "Team=Watford<br>Matches played=27<br>Average goals scored last five games=%{x}<br>Average goals conceded last five games=%{y}<extra></extra>",
           "legendgroup": "Watford",
           "marker": {
            "color": "#E377C2",
            "opacity": 0.8,
            "symbol": "circle"
           },
           "mode": "markers",
           "name": "Watford",
           "orientation": "v",
           "showlegend": true,
           "type": "scatter",
           "x": [
            1.6
           ],
           "xaxis": "x",
           "y": [
            2
           ],
           "yaxis": "y"
          },
          {
           "hovertemplate": "Team=Norwich<br>Matches played=27<br>Average goals scored last five games=%{x}<br>Average goals conceded last five games=%{y}<extra></extra>",
           "legendgroup": "Norwich",
           "marker": {
            "color": "#7F7F7F",
            "opacity": 0.8,
            "symbol": "circle"
           },
           "mode": "markers",
           "name": "Norwich",
           "orientation": "v",
           "showlegend": true,
           "type": "scatter",
           "x": [
            0.6
           ],
           "xaxis": "x",
           "y": [
            2.4
           ],
           "yaxis": "y"
          },
          {
           "hovertemplate": "Team=Newcastle<br>Matches played=27<br>Average goals scored last five games=%{x}<br>Average goals conceded last five games=%{y}<extra></extra>",
           "legendgroup": "Newcastle",
           "marker": {
            "color": "#BCBD22",
            "opacity": 0.8,
            "symbol": "circle"
           },
           "mode": "markers",
           "name": "Newcastle",
           "orientation": "v",
           "showlegend": true,
           "type": "scatter",
           "x": [
            0.6
           ],
           "xaxis": "x",
           "y": [
            2
           ],
           "yaxis": "y"
          },
          {
           "hovertemplate": "Team=Tottenham<br>Matches played=27<br>Average goals scored last five games=%{x}<br>Average goals conceded last five games=%{y}<extra></extra>",
           "legendgroup": "Tottenham",
           "marker": {
            "color": "#17BECF",
            "opacity": 0.8,
            "symbol": "circle"
           },
           "mode": "markers",
           "name": "Tottenham",
           "orientation": "v",
           "showlegend": true,
           "type": "scatter",
           "x": [
            1
           ],
           "xaxis": "x",
           "y": [
            0.8
           ],
           "yaxis": "y"
          },
          {
           "hovertemplate": "Team=Liverpool<br>Matches played=27<br>Average goals scored last five games=%{x}<br>Average goals conceded last five games=%{y}<extra></extra>",
           "legendgroup": "Liverpool",
           "marker": {
            "color": "#1F77B4",
            "opacity": 0.8,
            "symbol": "circle"
           },
           "mode": "markers",
           "name": "Liverpool",
           "orientation": "v",
           "showlegend": true,
           "type": "scatter",
           "x": [
            3.4
           ],
           "xaxis": "x",
           "y": [
            0.8
           ],
           "yaxis": "y"
          },
          {
           "hovertemplate": "Team=Aston Villa<br>Matches played=27<br>Average goals scored last five games=%{x}<br>Average goals conceded last five games=%{y}<extra></extra>",
           "legendgroup": "Aston Villa",
           "marker": {
            "color": "#FF7F0E",
            "opacity": 0.8,
            "symbol": "circle"
           },
           "mode": "markers",
           "name": "Aston Villa",
           "orientation": "v",
           "showlegend": true,
           "type": "scatter",
           "x": [
            0.8
           ],
           "xaxis": "x",
           "y": [
            1.6
           ],
           "yaxis": "y"
          },
          {
           "hovertemplate": "Team=Crystal Palace<br>Matches played=27<br>Average goals scored last five games=%{x}<br>Average goals conceded last five games=%{y}<extra></extra>",
           "legendgroup": "Crystal Palace",
           "marker": {
            "color": "#2CA02C",
            "opacity": 0.8,
            "symbol": "circle"
           },
           "mode": "markers",
           "name": "Crystal Palace",
           "orientation": "v",
           "showlegend": true,
           "type": "scatter",
           "x": [
            1.4
           ],
           "xaxis": "x",
           "y": [
            1.4
           ],
           "yaxis": "y"
          },
          {
           "hovertemplate": "Team=Leeds<br>Matches played=27<br>Average goals scored last five games=%{x}<br>Average goals conceded last five games=%{y}<extra></extra>",
           "legendgroup": "Leeds",
           "marker": {
            "color": "#D62728",
            "opacity": 0.8,
            "symbol": "circle"
           },
           "mode": "markers",
           "name": "Leeds",
           "orientation": "v",
           "showlegend": true,
           "type": "scatter",
           "x": [
            1
           ],
           "xaxis": "x",
           "y": [
            1.4
           ],
           "yaxis": "y"
          },
          {
           "hovertemplate": "Team=Man City<br>Matches played=27<br>Average goals scored last five games=%{x}<br>Average goals conceded last five games=%{y}<extra></extra>",
           "legendgroup": "Man City",
           "marker": {
            "color": "#9467BD",
            "opacity": 0.8,
            "symbol": "circle"
           },
           "mode": "markers",
           "name": "Man City",
           "orientation": "v",
           "showlegend": true,
           "type": "scatter",
           "x": [
            2.6
           ],
           "xaxis": "x",
           "y": [
            1
           ],
           "yaxis": "y"
          },
          {
           "hovertemplate": "Team=Brighton<br>Matches played=27<br>Average goals scored last five games=%{x}<br>Average goals conceded last five games=%{y}<extra></extra>",
           "legendgroup": "Brighton",
           "marker": {
            "color": "#8C564B",
            "opacity": 0.8,
            "symbol": "circle"
           },
           "mode": "markers",
           "name": "Brighton",
           "orientation": "v",
           "showlegend": true,
           "type": "scatter",
           "x": [
            0.8
           ],
           "xaxis": "x",
           "y": [
            1.2
           ],
           "yaxis": "y"
          },
          {
           "hovertemplate": "Team=Southampton<br>Matches played=27<br>Average goals scored last five games=%{x}<br>Average goals conceded last five games=%{y}<extra></extra>",
           "legendgroup": "Southampton",
           "marker": {
            "color": "#E377C2",
            "opacity": 0.8,
            "symbol": "circle"
           },
           "mode": "markers",
           "name": "Southampton",
           "orientation": "v",
           "showlegend": true,
           "type": "scatter",
           "x": [
            0.6
           ],
           "xaxis": "x",
           "y": [
            2.4
           ],
           "yaxis": "y"
          },
          {
           "hovertemplate": "Team=Wolves<br>Matches played=27<br>Average goals scored last five games=%{x}<br>Average goals conceded last five games=%{y}<extra></extra>",
           "legendgroup": "Wolves",
           "marker": {
            "color": "#7F7F7F",
            "opacity": 0.8,
            "symbol": "circle"
           },
           "mode": "markers",
           "name": "Wolves",
           "orientation": "v",
           "showlegend": true,
           "type": "scatter",
           "x": [
            0.8
           ],
           "xaxis": "x",
           "y": [
            1.2
           ],
           "yaxis": "y"
          },
          {
           "hovertemplate": "Team=Arsenal<br>Matches played=27<br>Average goals scored last five games=%{x}<br>Average goals conceded last five games=%{y}<extra></extra>",
           "legendgroup": "Arsenal",
           "marker": {
            "color": "#BCBD22",
            "opacity": 0.8,
            "symbol": "circle"
           },
           "mode": "markers",
           "name": "Arsenal",
           "orientation": "v",
           "showlegend": true,
           "type": "scatter",
           "x": [
            1
           ],
           "xaxis": "x",
           "y": [
            1.8
           ],
           "yaxis": "y"
          },
          {
           "hovertemplate": "Team=West Ham<br>Matches played=27<br>Average goals scored last five games=%{x}<br>Average goals conceded last five games=%{y}<extra></extra>",
           "legendgroup": "West Ham",
           "marker": {
            "color": "#17BECF",
            "opacity": 0.8,
            "symbol": "circle"
           },
           "mode": "markers",
           "name": "West Ham",
           "orientation": "v",
           "showlegend": true,
           "type": "scatter",
           "x": [
            1.2
           ],
           "xaxis": "x",
           "y": [
            0.8
           ],
           "yaxis": "y"
          }
         ],
         "name": "27"
        },
        {
         "data": [
          {
           "hovertemplate": "Team=Brentford<br>Matches played=28<br>Average goals scored last five games=%{x}<br>Average goals conceded last five games=%{y}<extra></extra>",
           "legendgroup": "Brentford",
           "marker": {
            "color": "#1F77B4",
            "opacity": 0.8,
            "symbol": "circle"
           },
           "mode": "markers",
           "name": "Brentford",
           "orientation": "v",
           "showlegend": true,
           "type": "scatter",
           "x": [
            1.2
           ],
           "xaxis": "x",
           "y": [
            2.4
           ],
           "yaxis": "y"
          },
          {
           "hovertemplate": "Team=Man United<br>Matches played=28<br>Average goals scored last five games=%{x}<br>Average goals conceded last five games=%{y}<extra></extra>",
           "legendgroup": "Man United",
           "marker": {
            "color": "#FF7F0E",
            "opacity": 0.8,
            "symbol": "circle"
           },
           "mode": "markers",
           "name": "Man United",
           "orientation": "v",
           "showlegend": true,
           "type": "scatter",
           "x": [
            1.4
           ],
           "xaxis": "x",
           "y": [
            1.2
           ],
           "yaxis": "y"
          },
          {
           "hovertemplate": "Team=Burnley<br>Matches played=28<br>Average goals scored last five games=%{x}<br>Average goals conceded last five games=%{y}<extra></extra>",
           "legendgroup": "Burnley",
           "marker": {
            "color": "#2CA02C",
            "opacity": 0.8,
            "symbol": "circle"
           },
           "mode": "markers",
           "name": "Burnley",
           "orientation": "v",
           "showlegend": true,
           "type": "scatter",
           "x": [
            0.8
           ],
           "xaxis": "x",
           "y": [
            1.4
           ],
           "yaxis": "y"
          },
          {
           "hovertemplate": "Team=Chelsea<br>Matches played=28<br>Average goals scored last five games=%{x}<br>Average goals conceded last five games=%{y}<extra></extra>",
           "legendgroup": "Chelsea",
           "marker": {
            "color": "#D62728",
            "opacity": 0.8,
            "symbol": "circle"
           },
           "mode": "markers",
           "name": "Chelsea",
           "orientation": "v",
           "showlegend": true,
           "type": "scatter",
           "x": [
            2
           ],
           "xaxis": "x",
           "y": [
            0.8
           ],
           "yaxis": "y"
          },
          {
           "hovertemplate": "Team=Everton<br>Matches played=28<br>Average goals scored last five games=%{x}<br>Average goals conceded last five games=%{y}<extra></extra>",
           "legendgroup": "Everton",
           "marker": {
            "color": "#9467BD",
            "opacity": 0.8,
            "symbol": "circle"
           },
           "mode": "markers",
           "name": "Everton",
           "orientation": "v",
           "showlegend": true,
           "type": "scatter",
           "x": [
            0.6
           ],
           "xaxis": "x",
           "y": [
            2
           ],
           "yaxis": "y"
          },
          {
           "hovertemplate": "Team=Leicester<br>Matches played=28<br>Average goals scored last five games=%{x}<br>Average goals conceded last five games=%{y}<extra></extra>",
           "legendgroup": "Leicester",
           "marker": {
            "color": "#8C564B",
            "opacity": 0.8,
            "symbol": "circle"
           },
           "mode": "markers",
           "name": "Leicester",
           "orientation": "v",
           "showlegend": true,
           "type": "scatter",
           "x": [
            1.8
           ],
           "xaxis": "x",
           "y": [
            2.4
           ],
           "yaxis": "y"
          },
          {
           "hovertemplate": "Team=Watford<br>Matches played=28<br>Average goals scored last five games=%{x}<br>Average goals conceded last five games=%{y}<extra></extra>",
           "legendgroup": "Watford",
           "marker": {
            "color": "#E377C2",
            "opacity": 0.8,
            "symbol": "circle"
           },
           "mode": "markers",
           "name": "Watford",
           "orientation": "v",
           "showlegend": true,
           "type": "scatter",
           "x": [
            1.8
           ],
           "xaxis": "x",
           "y": [
            2
           ],
           "yaxis": "y"
          },
          {
           "hovertemplate": "Team=Norwich<br>Matches played=28<br>Average goals scored last five games=%{x}<br>Average goals conceded last five games=%{y}<extra></extra>",
           "legendgroup": "Norwich",
           "marker": {
            "color": "#7F7F7F",
            "opacity": 0.8,
            "symbol": "circle"
           },
           "mode": "markers",
           "name": "Norwich",
           "orientation": "v",
           "showlegend": true,
           "type": "scatter",
           "x": [
            0.6
           ],
           "xaxis": "x",
           "y": [
            3
           ],
           "yaxis": "y"
          },
          {
           "hovertemplate": "Team=Newcastle<br>Matches played=28<br>Average goals scored last five games=%{x}<br>Average goals conceded last five games=%{y}<extra></extra>",
           "legendgroup": "Newcastle",
           "marker": {
            "color": "#BCBD22",
            "opacity": 0.8,
            "symbol": "circle"
           },
           "mode": "markers",
           "name": "Newcastle",
           "orientation": "v",
           "showlegend": true,
           "type": "scatter",
           "x": [
            0.6
           ],
           "xaxis": "x",
           "y": [
            2.2
           ],
           "yaxis": "y"
          },
          {
           "hovertemplate": "Team=Tottenham<br>Matches played=28<br>Average goals scored last five games=%{x}<br>Average goals conceded last five games=%{y}<extra></extra>",
           "legendgroup": "Tottenham",
           "marker": {
            "color": "#17BECF",
            "opacity": 0.8,
            "symbol": "circle"
           },
           "mode": "markers",
           "name": "Tottenham",
           "orientation": "v",
           "showlegend": true,
           "type": "scatter",
           "x": [
            1
           ],
           "xaxis": "x",
           "y": [
            0.8
           ],
           "yaxis": "y"
          },
          {
           "hovertemplate": "Team=Liverpool<br>Matches played=28<br>Average goals scored last five games=%{x}<br>Average goals conceded last five games=%{y}<extra></extra>",
           "legendgroup": "Liverpool",
           "marker": {
            "color": "#1F77B4",
            "opacity": 0.8,
            "symbol": "circle"
           },
           "mode": "markers",
           "name": "Liverpool",
           "orientation": "v",
           "showlegend": true,
           "type": "scatter",
           "x": [
            2.8
           ],
           "xaxis": "x",
           "y": [
            1.2
           ],
           "yaxis": "y"
          },
          {
           "hovertemplate": "Team=Aston Villa<br>Matches played=28<br>Average goals scored last five games=%{x}<br>Average goals conceded last five games=%{y}<extra></extra>",
           "legendgroup": "Aston Villa",
           "marker": {
            "color": "#FF7F0E",
            "opacity": 0.8,
            "symbol": "circle"
           },
           "mode": "markers",
           "name": "Aston Villa",
           "orientation": "v",
           "showlegend": true,
           "type": "scatter",
           "x": [
            1
           ],
           "xaxis": "x",
           "y": [
            1.2
           ],
           "yaxis": "y"
          },
          {
           "hovertemplate": "Team=Crystal Palace<br>Matches played=28<br>Average goals scored last five games=%{x}<br>Average goals conceded last five games=%{y}<extra></extra>",
           "legendgroup": "Crystal Palace",
           "marker": {
            "color": "#2CA02C",
            "opacity": 0.8,
            "symbol": "circle"
           },
           "mode": "markers",
           "name": "Crystal Palace",
           "orientation": "v",
           "showlegend": true,
           "type": "scatter",
           "x": [
            1
           ],
           "xaxis": "x",
           "y": [
            1.6
           ],
           "yaxis": "y"
          },
          {
           "hovertemplate": "Team=Leeds<br>Matches played=28<br>Average goals scored last five games=%{x}<br>Average goals conceded last five games=%{y}<extra></extra>",
           "legendgroup": "Leeds",
           "marker": {
            "color": "#D62728",
            "opacity": 0.8,
            "symbol": "circle"
           },
           "mode": "markers",
           "name": "Leeds",
           "orientation": "v",
           "showlegend": true,
           "type": "scatter",
           "x": [
            1
           ],
           "xaxis": "x",
           "y": [
            2.6
           ],
           "yaxis": "y"
          },
          {
           "hovertemplate": "Team=Man City<br>Matches played=28<br>Average goals scored last five games=%{x}<br>Average goals conceded last five games=%{y}<extra></extra>",
           "legendgroup": "Man City",
           "marker": {
            "color": "#9467BD",
            "opacity": 0.8,
            "symbol": "circle"
           },
           "mode": "markers",
           "name": "Man City",
           "orientation": "v",
           "showlegend": true,
           "type": "scatter",
           "x": [
            3
           ],
           "xaxis": "x",
           "y": [
            0.6
           ],
           "yaxis": "y"
          },
          {
           "hovertemplate": "Team=Brighton<br>Matches played=28<br>Average goals scored last five games=%{x}<br>Average goals conceded last five games=%{y}<extra></extra>",
           "legendgroup": "Brighton",
           "marker": {
            "color": "#8C564B",
            "opacity": 0.8,
            "symbol": "circle"
           },
           "mode": "markers",
           "name": "Brighton",
           "orientation": "v",
           "showlegend": true,
           "type": "scatter",
           "x": [
            1
           ],
           "xaxis": "x",
           "y": [
            1.4
           ],
           "yaxis": "y"
          },
          {
           "hovertemplate": "Team=Southampton<br>Matches played=28<br>Average goals scored last five games=%{x}<br>Average goals conceded last five games=%{y}<extra></extra>",
           "legendgroup": "Southampton",
           "marker": {
            "color": "#E377C2",
            "opacity": 0.8,
            "symbol": "circle"
           },
           "mode": "markers",
           "name": "Southampton",
           "orientation": "v",
           "showlegend": true,
           "type": "scatter",
           "x": [
            0.8
           ],
           "xaxis": "x",
           "y": [
            2.2
           ],
           "yaxis": "y"
          },
          {
           "hovertemplate": "Team=Wolves<br>Matches played=28<br>Average goals scored last five games=%{x}<br>Average goals conceded last five games=%{y}<extra></extra>",
           "legendgroup": "Wolves",
           "marker": {
            "color": "#7F7F7F",
            "opacity": 0.8,
            "symbol": "circle"
           },
           "mode": "markers",
           "name": "Wolves",
           "orientation": "v",
           "showlegend": true,
           "type": "scatter",
           "x": [
            0.4
           ],
           "xaxis": "x",
           "y": [
            0.8
           ],
           "yaxis": "y"
          },
          {
           "hovertemplate": "Team=Arsenal<br>Matches played=28<br>Average goals scored last five games=%{x}<br>Average goals conceded last five games=%{y}<extra></extra>",
           "legendgroup": "Arsenal",
           "marker": {
            "color": "#BCBD22",
            "opacity": 0.8,
            "symbol": "circle"
           },
           "mode": "markers",
           "name": "Arsenal",
           "orientation": "v",
           "showlegend": true,
           "type": "scatter",
           "x": [
            1.8
           ],
           "xaxis": "x",
           "y": [
            2
           ],
           "yaxis": "y"
          },
          {
           "hovertemplate": "Team=West Ham<br>Matches played=28<br>Average goals scored last five games=%{x}<br>Average goals conceded last five games=%{y}<extra></extra>",
           "legendgroup": "West Ham",
           "marker": {
            "color": "#17BECF",
            "opacity": 0.8,
            "symbol": "circle"
           },
           "mode": "markers",
           "name": "West Ham",
           "orientation": "v",
           "showlegend": true,
           "type": "scatter",
           "x": [
            1
           ],
           "xaxis": "x",
           "y": [
            1.2
           ],
           "yaxis": "y"
          }
         ],
         "name": "28"
        },
        {
         "data": [
          {
           "hovertemplate": "Team=Brentford<br>Matches played=29<br>Average goals scored last five games=%{x}<br>Average goals conceded last five games=%{y}<extra></extra>",
           "legendgroup": "Brentford",
           "marker": {
            "color": "#1F77B4",
            "opacity": 0.8,
            "symbol": "circle"
           },
           "mode": "markers",
           "name": "Brentford",
           "orientation": "v",
           "showlegend": true,
           "type": "scatter",
           "x": [
            1.2
           ],
           "xaxis": "x",
           "y": [
            2.6
           ],
           "yaxis": "y"
          },
          {
           "hovertemplate": "Team=Man United<br>Matches played=29<br>Average goals scored last five games=%{x}<br>Average goals conceded last five games=%{y}<extra></extra>",
           "legendgroup": "Man United",
           "marker": {
            "color": "#FF7F0E",
            "opacity": 0.8,
            "symbol": "circle"
           },
           "mode": "markers",
           "name": "Man United",
           "orientation": "v",
           "showlegend": true,
           "type": "scatter",
           "x": [
            1.2
           ],
           "xaxis": "x",
           "y": [
            1.6
           ],
           "yaxis": "y"
          },
          {
           "hovertemplate": "Team=Burnley<br>Matches played=29<br>Average goals scored last five games=%{x}<br>Average goals conceded last five games=%{y}<extra></extra>",
           "legendgroup": "Burnley",
           "marker": {
            "color": "#2CA02C",
            "opacity": 0.8,
            "symbol": "circle"
           },
           "mode": "markers",
           "name": "Burnley",
           "orientation": "v",
           "showlegend": true,
           "type": "scatter",
           "x": [
            0.6
           ],
           "xaxis": "x",
           "y": [
            1.6
           ],
           "yaxis": "y"
          },
          {
           "hovertemplate": "Team=Chelsea<br>Matches played=29<br>Average goals scored last five games=%{x}<br>Average goals conceded last five games=%{y}<extra></extra>",
           "legendgroup": "Chelsea",
           "marker": {
            "color": "#D62728",
            "opacity": 0.8,
            "symbol": "circle"
           },
           "mode": "markers",
           "name": "Chelsea",
           "orientation": "v",
           "showlegend": true,
           "type": "scatter",
           "x": [
            2
           ],
           "xaxis": "x",
           "y": [
            1
           ],
           "yaxis": "y"
          },
          {
           "hovertemplate": "Team=Everton<br>Matches played=29<br>Average goals scored last five games=%{x}<br>Average goals conceded last five games=%{y}<extra></extra>",
           "legendgroup": "Everton",
           "marker": {
            "color": "#9467BD",
            "opacity": 0.8,
            "symbol": "circle"
           },
           "mode": "markers",
           "name": "Everton",
           "orientation": "v",
           "showlegend": true,
           "type": "scatter",
           "x": [
            0.6
           ],
           "xaxis": "x",
           "y": [
            2
           ],
           "yaxis": "y"
          },
          {
           "hovertemplate": "Team=Leicester<br>Matches played=29<br>Average goals scored last five games=%{x}<br>Average goals conceded last five games=%{y}<extra></extra>",
           "legendgroup": "Leicester",
           "marker": {
            "color": "#8C564B",
            "opacity": 0.8,
            "symbol": "circle"
           },
           "mode": "markers",
           "name": "Leicester",
           "orientation": "v",
           "showlegend": true,
           "type": "scatter",
           "x": [
            1.4
           ],
           "xaxis": "x",
           "y": [
            2.6
           ],
           "yaxis": "y"
          },
          {
           "hovertemplate": "Team=Watford<br>Matches played=29<br>Average goals scored last five games=%{x}<br>Average goals conceded last five games=%{y}<extra></extra>",
           "legendgroup": "Watford",
           "marker": {
            "color": "#E377C2",
            "opacity": 0.8,
            "symbol": "circle"
           },
           "mode": "markers",
           "name": "Watford",
           "orientation": "v",
           "showlegend": true,
           "type": "scatter",
           "x": [
            0.8
           ],
           "xaxis": "x",
           "y": [
            1.6
           ],
           "yaxis": "y"
          },
          {
           "hovertemplate": "Team=Norwich<br>Matches played=29<br>Average goals scored last five games=%{x}<br>Average goals conceded last five games=%{y}<extra></extra>",
           "legendgroup": "Norwich",
           "marker": {
            "color": "#7F7F7F",
            "opacity": 0.8,
            "symbol": "circle"
           },
           "mode": "markers",
           "name": "Norwich",
           "orientation": "v",
           "showlegend": true,
           "type": "scatter",
           "x": [
            0.6
           ],
           "xaxis": "x",
           "y": [
            2
           ],
           "yaxis": "y"
          },
          {
           "hovertemplate": "Team=Newcastle<br>Matches played=29<br>Average goals scored last five games=%{x}<br>Average goals conceded last five games=%{y}<extra></extra>",
           "legendgroup": "Newcastle",
           "marker": {
            "color": "#BCBD22",
            "opacity": 0.8,
            "symbol": "circle"
           },
           "mode": "markers",
           "name": "Newcastle",
           "orientation": "v",
           "showlegend": true,
           "type": "scatter",
           "x": [
            0.6
           ],
           "xaxis": "x",
           "y": [
            2
           ],
           "yaxis": "y"
          },
          {
           "hovertemplate": "Team=Tottenham<br>Matches played=29<br>Average goals scored last five games=%{x}<br>Average goals conceded last five games=%{y}<extra></extra>",
           "legendgroup": "Tottenham",
           "marker": {
            "color": "#17BECF",
            "opacity": 0.8,
            "symbol": "circle"
           },
           "mode": "markers",
           "name": "Tottenham",
           "orientation": "v",
           "showlegend": true,
           "type": "scatter",
           "x": [
            1
           ],
           "xaxis": "x",
           "y": [
            1
           ],
           "yaxis": "y"
          },
          {
           "hovertemplate": "Team=Liverpool<br>Matches played=29<br>Average goals scored last five games=%{x}<br>Average goals conceded last five games=%{y}<extra></extra>",
           "legendgroup": "Liverpool",
           "marker": {
            "color": "#1F77B4",
            "opacity": 0.8,
            "symbol": "circle"
           },
           "mode": "markers",
           "name": "Liverpool",
           "orientation": "v",
           "showlegend": true,
           "type": "scatter",
           "x": [
            1.8
           ],
           "xaxis": "x",
           "y": [
            1.4
           ],
           "yaxis": "y"
          },
          {
           "hovertemplate": "Team=Aston Villa<br>Matches played=29<br>Average goals scored last five games=%{x}<br>Average goals conceded last five games=%{y}<extra></extra>",
           "legendgroup": "Aston Villa",
           "marker": {
            "color": "#FF7F0E",
            "opacity": 0.8,
            "symbol": "circle"
           },
           "mode": "markers",
           "name": "Aston Villa",
           "orientation": "v",
           "showlegend": true,
           "type": "scatter",
           "x": [
            1
           ],
           "xaxis": "x",
           "y": [
            1
           ],
           "yaxis": "y"
          },
          {
           "hovertemplate": "Team=Crystal Palace<br>Matches played=29<br>Average goals scored last five games=%{x}<br>Average goals conceded last five games=%{y}<extra></extra>",
           "legendgroup": "Crystal Palace",
           "marker": {
            "color": "#2CA02C",
            "opacity": 0.8,
            "symbol": "circle"
           },
           "mode": "markers",
           "name": "Crystal Palace",
           "orientation": "v",
           "showlegend": true,
           "type": "scatter",
           "x": [
            0.8
           ],
           "xaxis": "x",
           "y": [
            1.8
           ],
           "yaxis": "y"
          },
          {
           "hovertemplate": "Team=Leeds<br>Matches played=29<br>Average goals scored last five games=%{x}<br>Average goals conceded last five games=%{y}<extra></extra>",
           "legendgroup": "Leeds",
           "marker": {
            "color": "#D62728",
            "opacity": 0.8,
            "symbol": "circle"
           },
           "mode": "markers",
           "name": "Leeds",
           "orientation": "v",
           "showlegend": true,
           "type": "scatter",
           "x": [
            1.2
           ],
           "xaxis": "x",
           "y": [
            2.8
           ],
           "yaxis": "y"
          },
          {
           "hovertemplate": "Team=Man City<br>Matches played=29<br>Average goals scored last five games=%{x}<br>Average goals conceded last five games=%{y}<extra></extra>",
           "legendgroup": "Man City",
           "marker": {
            "color": "#9467BD",
            "opacity": 0.8,
            "symbol": "circle"
           },
           "mode": "markers",
           "name": "Man City",
           "orientation": "v",
           "showlegend": true,
           "type": "scatter",
           "x": [
            2.4
           ],
           "xaxis": "x",
           "y": [
            0.4
           ],
           "yaxis": "y"
          },
          {
           "hovertemplate": "Team=Brighton<br>Matches played=29<br>Average goals scored last five games=%{x}<br>Average goals conceded last five games=%{y}<extra></extra>",
           "legendgroup": "Brighton",
           "marker": {
            "color": "#8C564B",
            "opacity": 0.8,
            "symbol": "circle"
           },
           "mode": "markers",
           "name": "Brighton",
           "orientation": "v",
           "showlegend": true,
           "type": "scatter",
           "x": [
            1.2
           ],
           "xaxis": "x",
           "y": [
            1.4
           ],
           "yaxis": "y"
          },
          {
           "hovertemplate": "Team=Southampton<br>Matches played=29<br>Average goals scored last five games=%{x}<br>Average goals conceded last five games=%{y}<extra></extra>",
           "legendgroup": "Southampton",
           "marker": {
            "color": "#E377C2",
            "opacity": 0.8,
            "symbol": "circle"
           },
           "mode": "markers",
           "name": "Southampton",
           "orientation": "v",
           "showlegend": true,
           "type": "scatter",
           "x": [
            1.2
           ],
           "xaxis": "x",
           "y": [
            2.6
           ],
           "yaxis": "y"
          },
          {
           "hovertemplate": "Team=Wolves<br>Matches played=29<br>Average goals scored last five games=%{x}<br>Average goals conceded last five games=%{y}<extra></extra>",
           "legendgroup": "Wolves",
           "marker": {
            "color": "#7F7F7F",
            "opacity": 0.8,
            "symbol": "circle"
           },
           "mode": "markers",
           "name": "Wolves",
           "orientation": "v",
           "showlegend": true,
           "type": "scatter",
           "x": [
            0.4
           ],
           "xaxis": "x",
           "y": [
            0.6
           ],
           "yaxis": "y"
          },
          {
           "hovertemplate": "Team=Arsenal<br>Matches played=29<br>Average goals scored last five games=%{x}<br>Average goals conceded last five games=%{y}<extra></extra>",
           "legendgroup": "Arsenal",
           "marker": {
            "color": "#BCBD22",
            "opacity": 0.8,
            "symbol": "circle"
           },
           "mode": "markers",
           "name": "Arsenal",
           "orientation": "v",
           "showlegend": true,
           "type": "scatter",
           "x": [
            2.4
           ],
           "xaxis": "x",
           "y": [
            2
           ],
           "yaxis": "y"
          },
          {
           "hovertemplate": "Team=West Ham<br>Matches played=29<br>Average goals scored last five games=%{x}<br>Average goals conceded last five games=%{y}<extra></extra>",
           "legendgroup": "West Ham",
           "marker": {
            "color": "#17BECF",
            "opacity": 0.8,
            "symbol": "circle"
           },
           "mode": "markers",
           "name": "West Ham",
           "orientation": "v",
           "showlegend": true,
           "type": "scatter",
           "x": [
            1
           ],
           "xaxis": "x",
           "y": [
            1.2
           ],
           "yaxis": "y"
          }
         ],
         "name": "29"
        },
        {
         "data": [
          {
           "hovertemplate": "Team=Brentford<br>Matches played=30<br>Average goals scored last five games=%{x}<br>Average goals conceded last five games=%{y}<extra></extra>",
           "legendgroup": "Brentford",
           "marker": {
            "color": "#1F77B4",
            "opacity": 0.8,
            "symbol": "circle"
           },
           "mode": "markers",
           "name": "Brentford",
           "orientation": "v",
           "showlegend": true,
           "type": "scatter",
           "x": [
            0.6
           ],
           "xaxis": "x",
           "y": [
            2.6
           ],
           "yaxis": "y"
          },
          {
           "hovertemplate": "Team=Man United<br>Matches played=30<br>Average goals scored last five games=%{x}<br>Average goals conceded last five games=%{y}<extra></extra>",
           "legendgroup": "Man United",
           "marker": {
            "color": "#FF7F0E",
            "opacity": 0.8,
            "symbol": "circle"
           },
           "mode": "markers",
           "name": "Man United",
           "orientation": "v",
           "showlegend": true,
           "type": "scatter",
           "x": [
            1.6
           ],
           "xaxis": "x",
           "y": [
            1
           ],
           "yaxis": "y"
          },
          {
           "hovertemplate": "Team=Burnley<br>Matches played=30<br>Average goals scored last five games=%{x}<br>Average goals conceded last five games=%{y}<extra></extra>",
           "legendgroup": "Burnley",
           "marker": {
            "color": "#2CA02C",
            "opacity": 0.8,
            "symbol": "circle"
           },
           "mode": "markers",
           "name": "Burnley",
           "orientation": "v",
           "showlegend": true,
           "type": "scatter",
           "x": [
            0.4
           ],
           "xaxis": "x",
           "y": [
            1.4
           ],
           "yaxis": "y"
          },
          {
           "hovertemplate": "Team=Chelsea<br>Matches played=30<br>Average goals scored last five games=%{x}<br>Average goals conceded last five games=%{y}<extra></extra>",
           "legendgroup": "Chelsea",
           "marker": {
            "color": "#D62728",
            "opacity": 0.8,
            "symbol": "circle"
           },
           "mode": "markers",
           "name": "Chelsea",
           "orientation": "v",
           "showlegend": true,
           "type": "scatter",
           "x": [
            1.4
           ],
           "xaxis": "x",
           "y": [
            1.2
           ],
           "yaxis": "y"
          },
          {
           "hovertemplate": "Team=Everton<br>Matches played=30<br>Average goals scored last five games=%{x}<br>Average goals conceded last five games=%{y}<extra></extra>",
           "legendgroup": "Everton",
           "marker": {
            "color": "#9467BD",
            "opacity": 0.8,
            "symbol": "circle"
           },
           "mode": "markers",
           "name": "Everton",
           "orientation": "v",
           "showlegend": true,
           "type": "scatter",
           "x": [
            0.8
           ],
           "xaxis": "x",
           "y": [
            2
           ],
           "yaxis": "y"
          },
          {
           "hovertemplate": "Team=Leicester<br>Matches played=30<br>Average goals scored last five games=%{x}<br>Average goals conceded last five games=%{y}<extra></extra>",
           "legendgroup": "Leicester",
           "marker": {
            "color": "#8C564B",
            "opacity": 0.8,
            "symbol": "circle"
           },
           "mode": "markers",
           "name": "Leicester",
           "orientation": "v",
           "showlegend": true,
           "type": "scatter",
           "x": [
            1.4
           ],
           "xaxis": "x",
           "y": [
            2.8
           ],
           "yaxis": "y"
          },
          {
           "hovertemplate": "Team=Watford<br>Matches played=30<br>Average goals scored last five games=%{x}<br>Average goals conceded last five games=%{y}<extra></extra>",
           "legendgroup": "Watford",
           "marker": {
            "color": "#E377C2",
            "opacity": 0.8,
            "symbol": "circle"
           },
           "mode": "markers",
           "name": "Watford",
           "orientation": "v",
           "showlegend": true,
           "type": "scatter",
           "x": [
            0.8
           ],
           "xaxis": "x",
           "y": [
            1.6
           ],
           "yaxis": "y"
          },
          {
           "hovertemplate": "Team=Norwich<br>Matches played=30<br>Average goals scored last five games=%{x}<br>Average goals conceded last five games=%{y}<extra></extra>",
           "legendgroup": "Norwich",
           "marker": {
            "color": "#7F7F7F",
            "opacity": 0.8,
            "symbol": "circle"
           },
           "mode": "markers",
           "name": "Norwich",
           "orientation": "v",
           "showlegend": true,
           "type": "scatter",
           "x": [
            0.8
           ],
           "xaxis": "x",
           "y": [
            1.8
           ],
           "yaxis": "y"
          },
          {
           "hovertemplate": "Team=Newcastle<br>Matches played=30<br>Average goals scored last five games=%{x}<br>Average goals conceded last five games=%{y}<extra></extra>",
           "legendgroup": "Newcastle",
           "marker": {
            "color": "#BCBD22",
            "opacity": 0.8,
            "symbol": "circle"
           },
           "mode": "markers",
           "name": "Newcastle",
           "orientation": "v",
           "showlegend": true,
           "type": "scatter",
           "x": [
            0.6
           ],
           "xaxis": "x",
           "y": [
            2
           ],
           "yaxis": "y"
          },
          {
           "hovertemplate": "Team=Tottenham<br>Matches played=30<br>Average goals scored last five games=%{x}<br>Average goals conceded last five games=%{y}<extra></extra>",
           "legendgroup": "Tottenham",
           "marker": {
            "color": "#17BECF",
            "opacity": 0.8,
            "symbol": "circle"
           },
           "mode": "markers",
           "name": "Tottenham",
           "orientation": "v",
           "showlegend": true,
           "type": "scatter",
           "x": [
            1.6
           ],
           "xaxis": "x",
           "y": [
            1.4
           ],
           "yaxis": "y"
          },
          {
           "hovertemplate": "Team=Liverpool<br>Matches played=30<br>Average goals scored last five games=%{x}<br>Average goals conceded last five games=%{y}<extra></extra>",
           "legendgroup": "Liverpool",
           "marker": {
            "color": "#1F77B4",
            "opacity": 0.8,
            "symbol": "circle"
           },
           "mode": "markers",
           "name": "Liverpool",
           "orientation": "v",
           "showlegend": true,
           "type": "scatter",
           "x": [
            1.8
           ],
           "xaxis": "x",
           "y": [
            1.2
           ],
           "yaxis": "y"
          },
          {
           "hovertemplate": "Team=Aston Villa<br>Matches played=30<br>Average goals scored last five games=%{x}<br>Average goals conceded last five games=%{y}<extra></extra>",
           "legendgroup": "Aston Villa",
           "marker": {
            "color": "#FF7F0E",
            "opacity": 0.8,
            "symbol": "circle"
           },
           "mode": "markers",
           "name": "Aston Villa",
           "orientation": "v",
           "showlegend": true,
           "type": "scatter",
           "x": [
            1.2
           ],
           "xaxis": "x",
           "y": [
            0.8
           ],
           "yaxis": "y"
          },
          {
           "hovertemplate": "Team=Crystal Palace<br>Matches played=30<br>Average goals scored last five games=%{x}<br>Average goals conceded last five games=%{y}<extra></extra>",
           "legendgroup": "Crystal Palace",
           "marker": {
            "color": "#2CA02C",
            "opacity": 0.8,
            "symbol": "circle"
           },
           "mode": "markers",
           "name": "Crystal Palace",
           "orientation": "v",
           "showlegend": true,
           "type": "scatter",
           "x": [
            0.4
           ],
           "xaxis": "x",
           "y": [
            1.4
           ],
           "yaxis": "y"
          },
          {
           "hovertemplate": "Team=Leeds<br>Matches played=30<br>Average goals scored last five games=%{x}<br>Average goals conceded last five games=%{y}<extra></extra>",
           "legendgroup": "Leeds",
           "marker": {
            "color": "#D62728",
            "opacity": 0.8,
            "symbol": "circle"
           },
           "mode": "markers",
           "name": "Leeds",
           "orientation": "v",
           "showlegend": true,
           "type": "scatter",
           "x": [
            1.6
           ],
           "xaxis": "x",
           "y": [
            3
           ],
           "yaxis": "y"
          },
          {
           "hovertemplate": "Team=Man City<br>Matches played=30<br>Average goals scored last five games=%{x}<br>Average goals conceded last five games=%{y}<extra></extra>",
           "legendgroup": "Man City",
           "marker": {
            "color": "#9467BD",
            "opacity": 0.8,
            "symbol": "circle"
           },
           "mode": "markers",
           "name": "Man City",
           "orientation": "v",
           "showlegend": true,
           "type": "scatter",
           "x": [
            2.4
           ],
           "xaxis": "x",
           "y": [
            0.6
           ],
           "yaxis": "y"
          },
          {
           "hovertemplate": "Team=Brighton<br>Matches played=30<br>Average goals scored last five games=%{x}<br>Average goals conceded last five games=%{y}<extra></extra>",
           "legendgroup": "Brighton",
           "marker": {
            "color": "#8C564B",
            "opacity": 0.8,
            "symbol": "circle"
           },
           "mode": "markers",
           "name": "Brighton",
           "orientation": "v",
           "showlegend": true,
           "type": "scatter",
           "x": [
            1.4
           ],
           "xaxis": "x",
           "y": [
            1.2
           ],
           "yaxis": "y"
          },
          {
           "hovertemplate": "Team=Southampton<br>Matches played=30<br>Average goals scored last five games=%{x}<br>Average goals conceded last five games=%{y}<extra></extra>",
           "legendgroup": "Southampton",
           "marker": {
            "color": "#E377C2",
            "opacity": 0.8,
            "symbol": "circle"
           },
           "mode": "markers",
           "name": "Southampton",
           "orientation": "v",
           "showlegend": true,
           "type": "scatter",
           "x": [
            1.2
           ],
           "xaxis": "x",
           "y": [
            2.8
           ],
           "yaxis": "y"
          },
          {
           "hovertemplate": "Team=Wolves<br>Matches played=30<br>Average goals scored last five games=%{x}<br>Average goals conceded last five games=%{y}<extra></extra>",
           "legendgroup": "Wolves",
           "marker": {
            "color": "#7F7F7F",
            "opacity": 0.8,
            "symbol": "circle"
           },
           "mode": "markers",
           "name": "Wolves",
           "orientation": "v",
           "showlegend": true,
           "type": "scatter",
           "x": [
            0.8
           ],
           "xaxis": "x",
           "y": [
            0.4
           ],
           "yaxis": "y"
          },
          {
           "hovertemplate": "Team=Arsenal<br>Matches played=30<br>Average goals scored last five games=%{x}<br>Average goals conceded last five games=%{y}<extra></extra>",
           "legendgroup": "Arsenal",
           "marker": {
            "color": "#BCBD22",
            "opacity": 0.8,
            "symbol": "circle"
           },
           "mode": "markers",
           "name": "Arsenal",
           "orientation": "v",
           "showlegend": true,
           "type": "scatter",
           "x": [
            2.6
           ],
           "xaxis": "x",
           "y": [
            1.2
           ],
           "yaxis": "y"
          },
          {
           "hovertemplate": "Team=West Ham<br>Matches played=30<br>Average goals scored last five games=%{x}<br>Average goals conceded last five games=%{y}<extra></extra>",
           "legendgroup": "West Ham",
           "marker": {
            "color": "#17BECF",
            "opacity": 0.8,
            "symbol": "circle"
           },
           "mode": "markers",
           "name": "West Ham",
           "orientation": "v",
           "showlegend": true,
           "type": "scatter",
           "x": [
            1.6
           ],
           "xaxis": "x",
           "y": [
            1.4
           ],
           "yaxis": "y"
          }
         ],
         "name": "30"
        },
        {
         "data": [
          {
           "hovertemplate": "Team=Brentford<br>Matches played=31<br>Average goals scored last five games=%{x}<br>Average goals conceded last five games=%{y}<extra></extra>",
           "legendgroup": "Brentford",
           "marker": {
            "color": "#1F77B4",
            "opacity": 0.8,
            "symbol": "circle"
           },
           "mode": "markers",
           "name": "Brentford",
           "orientation": "v",
           "showlegend": true,
           "type": "scatter",
           "x": [
            0.6
           ],
           "xaxis": "x",
           "y": [
            2.6
           ],
           "yaxis": "y"
          },
          {
           "hovertemplate": "Team=Man United<br>Matches played=31<br>Average goals scored last five games=%{x}<br>Average goals conceded last five games=%{y}<extra></extra>",
           "legendgroup": "Man United",
           "marker": {
            "color": "#FF7F0E",
            "opacity": 0.8,
            "symbol": "circle"
           },
           "mode": "markers",
           "name": "Man United",
           "orientation": "v",
           "showlegend": true,
           "type": "scatter",
           "x": [
            1.6
           ],
           "xaxis": "x",
           "y": [
            1
           ],
           "yaxis": "y"
          },
          {
           "hovertemplate": "Team=Burnley<br>Matches played=31<br>Average goals scored last five games=%{x}<br>Average goals conceded last five games=%{y}<extra></extra>",
           "legendgroup": "Burnley",
           "marker": {
            "color": "#2CA02C",
            "opacity": 0.8,
            "symbol": "circle"
           },
           "mode": "markers",
           "name": "Burnley",
           "orientation": "v",
           "showlegend": true,
           "type": "scatter",
           "x": [
            1
           ],
           "xaxis": "x",
           "y": [
            1.4
           ],
           "yaxis": "y"
          },
          {
           "hovertemplate": "Team=Chelsea<br>Matches played=31<br>Average goals scored last five games=%{x}<br>Average goals conceded last five games=%{y}<extra></extra>",
           "legendgroup": "Chelsea",
           "marker": {
            "color": "#D62728",
            "opacity": 0.8,
            "symbol": "circle"
           },
           "mode": "markers",
           "name": "Chelsea",
           "orientation": "v",
           "showlegend": true,
           "type": "scatter",
           "x": [
            1.2
           ],
           "xaxis": "x",
           "y": [
            1.2
           ],
           "yaxis": "y"
          },
          {
           "hovertemplate": "Team=Everton<br>Matches played=31<br>Average goals scored last five games=%{x}<br>Average goals conceded last five games=%{y}<extra></extra>",
           "legendgroup": "Everton",
           "marker": {
            "color": "#9467BD",
            "opacity": 0.8,
            "symbol": "circle"
           },
           "mode": "markers",
           "name": "Everton",
           "orientation": "v",
           "showlegend": true,
           "type": "scatter",
           "x": [
            0.8
           ],
           "xaxis": "x",
           "y": [
            2.2
           ],
           "yaxis": "y"
          },
          {
           "hovertemplate": "Team=Leicester<br>Matches played=31<br>Average goals scored last five games=%{x}<br>Average goals conceded last five games=%{y}<extra></extra>",
           "legendgroup": "Leicester",
           "marker": {
            "color": "#8C564B",
            "opacity": 0.8,
            "symbol": "circle"
           },
           "mode": "markers",
           "name": "Leicester",
           "orientation": "v",
           "showlegend": true,
           "type": "scatter",
           "x": [
            1.4
           ],
           "xaxis": "x",
           "y": [
            2.4
           ],
           "yaxis": "y"
          },
          {
           "hovertemplate": "Team=Watford<br>Matches played=31<br>Average goals scored last five games=%{x}<br>Average goals conceded last five games=%{y}<extra></extra>",
           "legendgroup": "Watford",
           "marker": {
            "color": "#E377C2",
            "opacity": 0.8,
            "symbol": "circle"
           },
           "mode": "markers",
           "name": "Watford",
           "orientation": "v",
           "showlegend": true,
           "type": "scatter",
           "x": [
            0.6
           ],
           "xaxis": "x",
           "y": [
            0.8
           ],
           "yaxis": "y"
          },
          {
           "hovertemplate": "Team=Norwich<br>Matches played=31<br>Average goals scored last five games=%{x}<br>Average goals conceded last five games=%{y}<extra></extra>",
           "legendgroup": "Norwich",
           "marker": {
            "color": "#7F7F7F",
            "opacity": 0.8,
            "symbol": "circle"
           },
           "mode": "markers",
           "name": "Norwich",
           "orientation": "v",
           "showlegend": true,
           "type": "scatter",
           "x": [
            0.8
           ],
           "xaxis": "x",
           "y": [
            2.2
           ],
           "yaxis": "y"
          },
          {
           "hovertemplate": "Team=Newcastle<br>Matches played=31<br>Average goals scored last five games=%{x}<br>Average goals conceded last five games=%{y}<extra></extra>",
           "legendgroup": "Newcastle",
           "marker": {
            "color": "#BCBD22",
            "opacity": 0.8,
            "symbol": "circle"
           },
           "mode": "markers",
           "name": "Newcastle",
           "orientation": "v",
           "showlegend": true,
           "type": "scatter",
           "x": [
            1
           ],
           "xaxis": "x",
           "y": [
            1.6
           ],
           "yaxis": "y"
          },
          {
           "hovertemplate": "Team=Tottenham<br>Matches played=31<br>Average goals scored last five games=%{x}<br>Average goals conceded last five games=%{y}<extra></extra>",
           "legendgroup": "Tottenham",
           "marker": {
            "color": "#17BECF",
            "opacity": 0.8,
            "symbol": "circle"
           },
           "mode": "markers",
           "name": "Tottenham",
           "orientation": "v",
           "showlegend": true,
           "type": "scatter",
           "x": [
            1.4
           ],
           "xaxis": "x",
           "y": [
            1.4
           ],
           "yaxis": "y"
          },
          {
           "hovertemplate": "Team=Liverpool<br>Matches played=31<br>Average goals scored last five games=%{x}<br>Average goals conceded last five games=%{y}<extra></extra>",
           "legendgroup": "Liverpool",
           "marker": {
            "color": "#1F77B4",
            "opacity": 0.8,
            "symbol": "circle"
           },
           "mode": "markers",
           "name": "Liverpool",
           "orientation": "v",
           "showlegend": true,
           "type": "scatter",
           "x": [
            1.6
           ],
           "xaxis": "x",
           "y": [
            1.2
           ],
           "yaxis": "y"
          },
          {
           "hovertemplate": "Team=Aston Villa<br>Matches played=31<br>Average goals scored last five games=%{x}<br>Average goals conceded last five games=%{y}<extra></extra>",
           "legendgroup": "Aston Villa",
           "marker": {
            "color": "#FF7F0E",
            "opacity": 0.8,
            "symbol": "circle"
           },
           "mode": "markers",
           "name": "Aston Villa",
           "orientation": "v",
           "showlegend": true,
           "type": "scatter",
           "x": [
            0.8
           ],
           "xaxis": "x",
           "y": [
            0.8
           ],
           "yaxis": "y"
          },
          {
           "hovertemplate": "Team=Crystal Palace<br>Matches played=31<br>Average goals scored last five games=%{x}<br>Average goals conceded last five games=%{y}<extra></extra>",
           "legendgroup": "Crystal Palace",
           "marker": {
            "color": "#2CA02C",
            "opacity": 0.8,
            "symbol": "circle"
           },
           "mode": "markers",
           "name": "Crystal Palace",
           "orientation": "v",
           "showlegend": true,
           "type": "scatter",
           "x": [
            0.4
           ],
           "xaxis": "x",
           "y": [
            1.2
           ],
           "yaxis": "y"
          },
          {
           "hovertemplate": "Team=Leeds<br>Matches played=31<br>Average goals scored last five games=%{x}<br>Average goals conceded last five games=%{y}<extra></extra>",
           "legendgroup": "Leeds",
           "marker": {
            "color": "#D62728",
            "opacity": 0.8,
            "symbol": "circle"
           },
           "mode": "markers",
           "name": "Leeds",
           "orientation": "v",
           "showlegend": true,
           "type": "scatter",
           "x": [
            1.6
           ],
           "xaxis": "x",
           "y": [
            3.6
           ],
           "yaxis": "y"
          },
          {
           "hovertemplate": "Team=Man City<br>Matches played=31<br>Average goals scored last five games=%{x}<br>Average goals conceded last five games=%{y}<extra></extra>",
           "legendgroup": "Man City",
           "marker": {
            "color": "#9467BD",
            "opacity": 0.8,
            "symbol": "circle"
           },
           "mode": "markers",
           "name": "Man City",
           "orientation": "v",
           "showlegend": true,
           "type": "scatter",
           "x": [
            2.2
           ],
           "xaxis": "x",
           "y": [
            0.6
           ],
           "yaxis": "y"
          },
          {
           "hovertemplate": "Team=Brighton<br>Matches played=31<br>Average goals scored last five games=%{x}<br>Average goals conceded last five games=%{y}<extra></extra>",
           "legendgroup": "Brighton",
           "marker": {
            "color": "#8C564B",
            "opacity": 0.8,
            "symbol": "circle"
           },
           "mode": "markers",
           "name": "Brighton",
           "orientation": "v",
           "showlegend": true,
           "type": "scatter",
           "x": [
            1.6
           ],
           "xaxis": "x",
           "y": [
            1
           ],
           "yaxis": "y"
          },
          {
           "hovertemplate": "Team=Southampton<br>Matches played=31<br>Average goals scored last five games=%{x}<br>Average goals conceded last five games=%{y}<extra></extra>",
           "legendgroup": "Southampton",
           "marker": {
            "color": "#E377C2",
            "opacity": 0.8,
            "symbol": "circle"
           },
           "mode": "markers",
           "name": "Southampton",
           "orientation": "v",
           "showlegend": true,
           "type": "scatter",
           "x": [
            1.8
           ],
           "xaxis": "x",
           "y": [
            2.4
           ],
           "yaxis": "y"
          },
          {
           "hovertemplate": "Team=Wolves<br>Matches played=31<br>Average goals scored last five games=%{x}<br>Average goals conceded last five games=%{y}<extra></extra>",
           "legendgroup": "Wolves",
           "marker": {
            "color": "#7F7F7F",
            "opacity": 0.8,
            "symbol": "circle"
           },
           "mode": "markers",
           "name": "Wolves",
           "orientation": "v",
           "showlegend": true,
           "type": "scatter",
           "x": [
            1.2
           ],
           "xaxis": "x",
           "y": [
            0.4
           ],
           "yaxis": "y"
          },
          {
           "hovertemplate": "Team=Arsenal<br>Matches played=31<br>Average goals scored last five games=%{x}<br>Average goals conceded last five games=%{y}<extra></extra>",
           "legendgroup": "Arsenal",
           "marker": {
            "color": "#BCBD22",
            "opacity": 0.8,
            "symbol": "circle"
           },
           "mode": "markers",
           "name": "Arsenal",
           "orientation": "v",
           "showlegend": true,
           "type": "scatter",
           "x": [
            2.8
           ],
           "xaxis": "x",
           "y": [
            1
           ],
           "yaxis": "y"
          },
          {
           "hovertemplate": "Team=West Ham<br>Matches played=31<br>Average goals scored last five games=%{x}<br>Average goals conceded last five games=%{y}<extra></extra>",
           "legendgroup": "West Ham",
           "marker": {
            "color": "#17BECF",
            "opacity": 0.8,
            "symbol": "circle"
           },
           "mode": "markers",
           "name": "West Ham",
           "orientation": "v",
           "showlegend": true,
           "type": "scatter",
           "x": [
            1.4
           ],
           "xaxis": "x",
           "y": [
            1.2
           ],
           "yaxis": "y"
          }
         ],
         "name": "31"
        },
        {
         "data": [
          {
           "hovertemplate": "Team=Brentford<br>Matches played=32<br>Average goals scored last five games=%{x}<br>Average goals conceded last five games=%{y}<extra></extra>",
           "legendgroup": "Brentford",
           "marker": {
            "color": "#1F77B4",
            "opacity": 0.8,
            "symbol": "circle"
           },
           "mode": "markers",
           "name": "Brentford",
           "orientation": "v",
           "showlegend": true,
           "type": "scatter",
           "x": [
            0.4
           ],
           "xaxis": "x",
           "y": [
            2.6
           ],
           "yaxis": "y"
          },
          {
           "hovertemplate": "Team=Man United<br>Matches played=32<br>Average goals scored last five games=%{x}<br>Average goals conceded last five games=%{y}<extra></extra>",
           "legendgroup": "Man United",
           "marker": {
            "color": "#FF7F0E",
            "opacity": 0.8,
            "symbol": "circle"
           },
           "mode": "markers",
           "name": "Man United",
           "orientation": "v",
           "showlegend": true,
           "type": "scatter",
           "x": [
            2.2
           ],
           "xaxis": "x",
           "y": [
            1.4
           ],
           "yaxis": "y"
          },
          {
           "hovertemplate": "Team=Burnley<br>Matches played=32<br>Average goals scored last five games=%{x}<br>Average goals conceded last five games=%{y}<extra></extra>",
           "legendgroup": "Burnley",
           "marker": {
            "color": "#2CA02C",
            "opacity": 0.8,
            "symbol": "circle"
           },
           "mode": "markers",
           "name": "Burnley",
           "orientation": "v",
           "showlegend": true,
           "type": "scatter",
           "x": [
            1.2
           ],
           "xaxis": "x",
           "y": [
            1.4
           ],
           "yaxis": "y"
          },
          {
           "hovertemplate": "Team=Chelsea<br>Matches played=32<br>Average goals scored last five games=%{x}<br>Average goals conceded last five games=%{y}<extra></extra>",
           "legendgroup": "Chelsea",
           "marker": {
            "color": "#D62728",
            "opacity": 0.8,
            "symbol": "circle"
           },
           "mode": "markers",
           "name": "Chelsea",
           "orientation": "v",
           "showlegend": true,
           "type": "scatter",
           "x": [
            1
           ],
           "xaxis": "x",
           "y": [
            0.6
           ],
           "yaxis": "y"
          },
          {
           "hovertemplate": "Team=Everton<br>Matches played=32<br>Average goals scored last five games=%{x}<br>Average goals conceded last five games=%{y}<extra></extra>",
           "legendgroup": "Everton",
           "marker": {
            "color": "#9467BD",
            "opacity": 0.8,
            "symbol": "circle"
           },
           "mode": "markers",
           "name": "Everton",
           "orientation": "v",
           "showlegend": true,
           "type": "scatter",
           "x": [
            0.6
           ],
           "xaxis": "x",
           "y": [
            2.6
           ],
           "yaxis": "y"
          },
          {
           "hovertemplate": "Team=Leicester<br>Matches played=32<br>Average goals scored last five games=%{x}<br>Average goals conceded last five games=%{y}<extra></extra>",
           "legendgroup": "Leicester",
           "marker": {
            "color": "#8C564B",
            "opacity": 0.8,
            "symbol": "circle"
           },
           "mode": "markers",
           "name": "Leicester",
           "orientation": "v",
           "showlegend": true,
           "type": "scatter",
           "x": [
            1.2
           ],
           "xaxis": "x",
           "y": [
            2.4
           ],
           "yaxis": "y"
          },
          {
           "hovertemplate": "Team=Watford<br>Matches played=32<br>Average goals scored last five games=%{x}<br>Average goals conceded last five games=%{y}<extra></extra>",
           "legendgroup": "Watford",
           "marker": {
            "color": "#E377C2",
            "opacity": 0.8,
            "symbol": "circle"
           },
           "mode": "markers",
           "name": "Watford",
           "orientation": "v",
           "showlegend": true,
           "type": "scatter",
           "x": [
            0.4
           ],
           "xaxis": "x",
           "y": [
            0.4
           ],
           "yaxis": "y"
          },
          {
           "hovertemplate": "Team=Norwich<br>Matches played=32<br>Average goals scored last five games=%{x}<br>Average goals conceded last five games=%{y}<extra></extra>",
           "legendgroup": "Norwich",
           "marker": {
            "color": "#7F7F7F",
            "opacity": 0.8,
            "symbol": "circle"
           },
           "mode": "markers",
           "name": "Norwich",
           "orientation": "v",
           "showlegend": true,
           "type": "scatter",
           "x": [
            0.8
           ],
           "xaxis": "x",
           "y": [
            2
           ],
           "yaxis": "y"
          },
          {
           "hovertemplate": "Team=Newcastle<br>Matches played=32<br>Average goals scored last five games=%{x}<br>Average goals conceded last five games=%{y}<extra></extra>",
           "legendgroup": "Newcastle",
           "marker": {
            "color": "#BCBD22",
            "opacity": 0.8,
            "symbol": "circle"
           },
           "mode": "markers",
           "name": "Newcastle",
           "orientation": "v",
           "showlegend": true,
           "type": "scatter",
           "x": [
            1.4
           ],
           "xaxis": "x",
           "y": [
            1
           ],
           "yaxis": "y"
          },
          {
           "hovertemplate": "Team=Tottenham<br>Matches played=32<br>Average goals scored last five games=%{x}<br>Average goals conceded last five games=%{y}<extra></extra>",
           "legendgroup": "Tottenham",
           "marker": {
            "color": "#17BECF",
            "opacity": 0.8,
            "symbol": "circle"
           },
           "mode": "markers",
           "name": "Tottenham",
           "orientation": "v",
           "showlegend": true,
           "type": "scatter",
           "x": [
            2
           ],
           "xaxis": "x",
           "y": [
            1.4
           ],
           "yaxis": "y"
          },
          {
           "hovertemplate": "Team=Liverpool<br>Matches played=32<br>Average goals scored last five games=%{x}<br>Average goals conceded last five games=%{y}<extra></extra>",
           "legendgroup": "Liverpool",
           "marker": {
            "color": "#1F77B4",
            "opacity": 0.8,
            "symbol": "circle"
           },
           "mode": "markers",
           "name": "Liverpool",
           "orientation": "v",
           "showlegend": true,
           "type": "scatter",
           "x": [
            1.6
           ],
           "xaxis": "x",
           "y": [
            1.2
           ],
           "yaxis": "y"
          },
          {
           "hovertemplate": "Team=Aston Villa<br>Matches played=32<br>Average goals scored last five games=%{x}<br>Average goals conceded last five games=%{y}<extra></extra>",
           "legendgroup": "Aston Villa",
           "marker": {
            "color": "#FF7F0E",
            "opacity": 0.8,
            "symbol": "circle"
           },
           "mode": "markers",
           "name": "Aston Villa",
           "orientation": "v",
           "showlegend": true,
           "type": "scatter",
           "x": [
            1.2
           ],
           "xaxis": "x",
           "y": [
            0.6
           ],
           "yaxis": "y"
          },
          {
           "hovertemplate": "Team=Crystal Palace<br>Matches played=32<br>Average goals scored last five games=%{x}<br>Average goals conceded last five games=%{y}<extra></extra>",
           "legendgroup": "Crystal Palace",
           "marker": {
            "color": "#2CA02C",
            "opacity": 0.8,
            "symbol": "circle"
           },
           "mode": "markers",
           "name": "Crystal Palace",
           "orientation": "v",
           "showlegend": true,
           "type": "scatter",
           "x": [
            1.2
           ],
           "xaxis": "x",
           "y": [
            1.2
           ],
           "yaxis": "y"
          },
          {
           "hovertemplate": "Team=Leeds<br>Matches played=32<br>Average goals scored last five games=%{x}<br>Average goals conceded last five games=%{y}<extra></extra>",
           "legendgroup": "Leeds",
           "marker": {
            "color": "#D62728",
            "opacity": 0.8,
            "symbol": "circle"
           },
           "mode": "markers",
           "name": "Leeds",
           "orientation": "v",
           "showlegend": true,
           "type": "scatter",
           "x": [
            1.2
           ],
           "xaxis": "x",
           "y": [
            4.2
           ],
           "yaxis": "y"
          },
          {
           "hovertemplate": "Team=Man City<br>Matches played=32<br>Average goals scored last five games=%{x}<br>Average goals conceded last five games=%{y}<extra></extra>",
           "legendgroup": "Man City",
           "marker": {
            "color": "#9467BD",
            "opacity": 0.8,
            "symbol": "circle"
           },
           "mode": "markers",
           "name": "Man City",
           "orientation": "v",
           "showlegend": true,
           "type": "scatter",
           "x": [
            2.4
           ],
           "xaxis": "x",
           "y": [
            0.4
           ],
           "yaxis": "y"
          },
          {
           "hovertemplate": "Team=Brighton<br>Matches played=32<br>Average goals scored last five games=%{x}<br>Average goals conceded last five games=%{y}<extra></extra>",
           "legendgroup": "Brighton",
           "marker": {
            "color": "#8C564B",
            "opacity": 0.8,
            "symbol": "circle"
           },
           "mode": "markers",
           "name": "Brighton",
           "orientation": "v",
           "showlegend": true,
           "type": "scatter",
           "x": [
            1.4
           ],
           "xaxis": "x",
           "y": [
            1.2
           ],
           "yaxis": "y"
          },
          {
           "hovertemplate": "Team=Southampton<br>Matches played=32<br>Average goals scored last five games=%{x}<br>Average goals conceded last five games=%{y}<extra></extra>",
           "legendgroup": "Southampton",
           "marker": {
            "color": "#E377C2",
            "opacity": 0.8,
            "symbol": "circle"
           },
           "mode": "markers",
           "name": "Southampton",
           "orientation": "v",
           "showlegend": true,
           "type": "scatter",
           "x": [
            2
           ],
           "xaxis": "x",
           "y": [
            2
           ],
           "yaxis": "y"
          },
          {
           "hovertemplate": "Team=Wolves<br>Matches played=32<br>Average goals scored last five games=%{x}<br>Average goals conceded last five games=%{y}<extra></extra>",
           "legendgroup": "Wolves",
           "marker": {
            "color": "#7F7F7F",
            "opacity": 0.8,
            "symbol": "circle"
           },
           "mode": "markers",
           "name": "Wolves",
           "orientation": "v",
           "showlegend": true,
           "type": "scatter",
           "x": [
            1.4
           ],
           "xaxis": "x",
           "y": [
            0.6
           ],
           "yaxis": "y"
          },
          {
           "hovertemplate": "Team=Arsenal<br>Matches played=32<br>Average goals scored last five games=%{x}<br>Average goals conceded last five games=%{y}<extra></extra>",
           "legendgroup": "Arsenal",
           "marker": {
            "color": "#BCBD22",
            "opacity": 0.8,
            "symbol": "circle"
           },
           "mode": "markers",
           "name": "Arsenal",
           "orientation": "v",
           "showlegend": true,
           "type": "scatter",
           "x": [
            2.8
           ],
           "xaxis": "x",
           "y": [
            0.6
           ],
           "yaxis": "y"
          },
          {
           "hovertemplate": "Team=West Ham<br>Matches played=32<br>Average goals scored last five games=%{x}<br>Average goals conceded last five games=%{y}<extra></extra>",
           "legendgroup": "West Ham",
           "marker": {
            "color": "#17BECF",
            "opacity": 0.8,
            "symbol": "circle"
           },
           "mode": "markers",
           "name": "West Ham",
           "orientation": "v",
           "showlegend": true,
           "type": "scatter",
           "x": [
            1.8
           ],
           "xaxis": "x",
           "y": [
            1.6
           ],
           "yaxis": "y"
          }
         ],
         "name": "32"
        },
        {
         "data": [
          {
           "hovertemplate": "Team=Brentford<br>Matches played=33<br>Average goals scored last five games=%{x}<br>Average goals conceded last five games=%{y}<extra></extra>",
           "legendgroup": "Brentford",
           "marker": {
            "color": "#1F77B4",
            "opacity": 0.8,
            "symbol": "circle"
           },
           "mode": "markers",
           "name": "Brentford",
           "orientation": "v",
           "showlegend": true,
           "type": "scatter",
           "x": [
            1
           ],
           "xaxis": "x",
           "y": [
            2.4
           ],
           "yaxis": "y"
          },
          {
           "hovertemplate": "Team=Man United<br>Matches played=33<br>Average goals scored last five games=%{x}<br>Average goals conceded last five games=%{y}<extra></extra>",
           "legendgroup": "Man United",
           "marker": {
            "color": "#FF7F0E",
            "opacity": 0.8,
            "symbol": "circle"
           },
           "mode": "markers",
           "name": "Man United",
           "orientation": "v",
           "showlegend": true,
           "type": "scatter",
           "x": [
            2.2
           ],
           "xaxis": "x",
           "y": [
            2
           ],
           "yaxis": "y"
          },
          {
           "hovertemplate": "Team=Burnley<br>Matches played=33<br>Average goals scored last five games=%{x}<br>Average goals conceded last five games=%{y}<extra></extra>",
           "legendgroup": "Burnley",
           "marker": {
            "color": "#2CA02C",
            "opacity": 0.8,
            "symbol": "circle"
           },
           "mode": "markers",
           "name": "Burnley",
           "orientation": "v",
           "showlegend": true,
           "type": "scatter",
           "x": [
            1
           ],
           "xaxis": "x",
           "y": [
            1.2
           ],
           "yaxis": "y"
          },
          {
           "hovertemplate": "Team=Chelsea<br>Matches played=33<br>Average goals scored last five games=%{x}<br>Average goals conceded last five games=%{y}<extra></extra>",
           "legendgroup": "Chelsea",
           "marker": {
            "color": "#D62728",
            "opacity": 0.8,
            "symbol": "circle"
           },
           "mode": "markers",
           "name": "Chelsea",
           "orientation": "v",
           "showlegend": true,
           "type": "scatter",
           "x": [
            1.8
           ],
           "xaxis": "x",
           "y": [
            0.6
           ],
           "yaxis": "y"
          },
          {
           "hovertemplate": "Team=Everton<br>Matches played=33<br>Average goals scored last five games=%{x}<br>Average goals conceded last five games=%{y}<extra></extra>",
           "legendgroup": "Everton",
           "marker": {
            "color": "#9467BD",
            "opacity": 0.8,
            "symbol": "circle"
           },
           "mode": "markers",
           "name": "Everton",
           "orientation": "v",
           "showlegend": true,
           "type": "scatter",
           "x": [
            0.6
           ],
           "xaxis": "x",
           "y": [
            2.8
           ],
           "yaxis": "y"
          },
          {
           "hovertemplate": "Team=Leicester<br>Matches played=33<br>Average goals scored last five games=%{x}<br>Average goals conceded last five games=%{y}<extra></extra>",
           "legendgroup": "Leicester",
           "marker": {
            "color": "#8C564B",
            "opacity": 0.8,
            "symbol": "circle"
           },
           "mode": "markers",
           "name": "Leicester",
           "orientation": "v",
           "showlegend": true,
           "type": "scatter",
           "x": [
            0.8
           ],
           "xaxis": "x",
           "y": [
            1.4
           ],
           "yaxis": "y"
          },
          {
           "hovertemplate": "Team=Watford<br>Matches played=33<br>Average goals scored last five games=%{x}<br>Average goals conceded last five games=%{y}<extra></extra>",
           "legendgroup": "Watford",
           "marker": {
            "color": "#E377C2",
            "opacity": 0.8,
            "symbol": "circle"
           },
           "mode": "markers",
           "name": "Watford",
           "orientation": "v",
           "showlegend": true,
           "type": "scatter",
           "x": [
            0.2
           ],
           "xaxis": "x",
           "y": [
            1
           ],
           "yaxis": "y"
          },
          {
           "hovertemplate": "Team=Norwich<br>Matches played=33<br>Average goals scored last five games=%{x}<br>Average goals conceded last five games=%{y}<extra></extra>",
           "legendgroup": "Norwich",
           "marker": {
            "color": "#7F7F7F",
            "opacity": 0.8,
            "symbol": "circle"
           },
           "mode": "markers",
           "name": "Norwich",
           "orientation": "v",
           "showlegend": true,
           "type": "scatter",
           "x": [
            1
           ],
           "xaxis": "x",
           "y": [
            1.8
           ],
           "yaxis": "y"
          },
          {
           "hovertemplate": "Team=Newcastle<br>Matches played=33<br>Average goals scored last five games=%{x}<br>Average goals conceded last five games=%{y}<extra></extra>",
           "legendgroup": "Newcastle",
           "marker": {
            "color": "#BCBD22",
            "opacity": 0.8,
            "symbol": "circle"
           },
           "mode": "markers",
           "name": "Newcastle",
           "orientation": "v",
           "showlegend": true,
           "type": "scatter",
           "x": [
            1.2
           ],
           "xaxis": "x",
           "y": [
            0.6
           ],
           "yaxis": "y"
          },
          {
           "hovertemplate": "Team=Tottenham<br>Matches played=33<br>Average goals scored last five games=%{x}<br>Average goals conceded last five games=%{y}<extra></extra>",
           "legendgroup": "Tottenham",
           "marker": {
            "color": "#17BECF",
            "opacity": 0.8,
            "symbol": "circle"
           },
           "mode": "markers",
           "name": "Tottenham",
           "orientation": "v",
           "showlegend": true,
           "type": "scatter",
           "x": [
            1.8
           ],
           "xaxis": "x",
           "y": [
            1.6
           ],
           "yaxis": "y"
          },
          {
           "hovertemplate": "Team=Liverpool<br>Matches played=33<br>Average goals scored last five games=%{x}<br>Average goals conceded last five games=%{y}<extra></extra>",
           "legendgroup": "Liverpool",
           "marker": {
            "color": "#1F77B4",
            "opacity": 0.8,
            "symbol": "circle"
           },
           "mode": "markers",
           "name": "Liverpool",
           "orientation": "v",
           "showlegend": true,
           "type": "scatter",
           "x": [
            1.6
           ],
           "xaxis": "x",
           "y": [
            0.8
           ],
           "yaxis": "y"
          },
          {
           "hovertemplate": "Team=Aston Villa<br>Matches played=33<br>Average goals scored last five games=%{x}<br>Average goals conceded last five games=%{y}<extra></extra>",
           "legendgroup": "Aston Villa",
           "marker": {
            "color": "#FF7F0E",
            "opacity": 0.8,
            "symbol": "circle"
           },
           "mode": "markers",
           "name": "Aston Villa",
           "orientation": "v",
           "showlegend": true,
           "type": "scatter",
           "x": [
            1.4
           ],
           "xaxis": "x",
           "y": [
            0.6
           ],
           "yaxis": "y"
          },
          {
           "hovertemplate": "Team=Crystal Palace<br>Matches played=33<br>Average goals scored last five games=%{x}<br>Average goals conceded last five games=%{y}<extra></extra>",
           "legendgroup": "Crystal Palace",
           "marker": {
            "color": "#2CA02C",
            "opacity": 0.8,
            "symbol": "circle"
           },
           "mode": "markers",
           "name": "Crystal Palace",
           "orientation": "v",
           "showlegend": true,
           "type": "scatter",
           "x": [
            1.6
           ],
           "xaxis": "x",
           "y": [
            0.6
           ],
           "yaxis": "y"
          },
          {
           "hovertemplate": "Team=Leeds<br>Matches played=33<br>Average goals scored last five games=%{x}<br>Average goals conceded last five games=%{y}<extra></extra>",
           "legendgroup": "Leeds",
           "marker": {
            "color": "#D62728",
            "opacity": 0.8,
            "symbol": "circle"
           },
           "mode": "markers",
           "name": "Leeds",
           "orientation": "v",
           "showlegend": true,
           "type": "scatter",
           "x": [
            1.2
           ],
           "xaxis": "x",
           "y": [
            3
           ],
           "yaxis": "y"
          },
          {
           "hovertemplate": "Team=Man City<br>Matches played=33<br>Average goals scored last five games=%{x}<br>Average goals conceded last five games=%{y}<extra></extra>",
           "legendgroup": "Man City",
           "marker": {
            "color": "#9467BD",
            "opacity": 0.8,
            "symbol": "circle"
           },
           "mode": "markers",
           "name": "Man City",
           "orientation": "v",
           "showlegend": true,
           "type": "scatter",
           "x": [
            1.8
           ],
           "xaxis": "x",
           "y": [
            0.4
           ],
           "yaxis": "y"
          },
          {
           "hovertemplate": "Team=Brighton<br>Matches played=33<br>Average goals scored last five games=%{x}<br>Average goals conceded last five games=%{y}<extra></extra>",
           "legendgroup": "Brighton",
           "marker": {
            "color": "#8C564B",
            "opacity": 0.8,
            "symbol": "circle"
           },
           "mode": "markers",
           "name": "Brighton",
           "orientation": "v",
           "showlegend": true,
           "type": "scatter",
           "x": [
            1.4
           ],
           "xaxis": "x",
           "y": [
            1.4
           ],
           "yaxis": "y"
          },
          {
           "hovertemplate": "Team=Southampton<br>Matches played=33<br>Average goals scored last five games=%{x}<br>Average goals conceded last five games=%{y}<extra></extra>",
           "legendgroup": "Southampton",
           "marker": {
            "color": "#E377C2",
            "opacity": 0.8,
            "symbol": "circle"
           },
           "mode": "markers",
           "name": "Southampton",
           "orientation": "v",
           "showlegend": true,
           "type": "scatter",
           "x": [
            1.6
           ],
           "xaxis": "x",
           "y": [
            2.4
           ],
           "yaxis": "y"
          },
          {
           "hovertemplate": "Team=Wolves<br>Matches played=33<br>Average goals scored last five games=%{x}<br>Average goals conceded last five games=%{y}<extra></extra>",
           "legendgroup": "Wolves",
           "marker": {
            "color": "#7F7F7F",
            "opacity": 0.8,
            "symbol": "circle"
           },
           "mode": "markers",
           "name": "Wolves",
           "orientation": "v",
           "showlegend": true,
           "type": "scatter",
           "x": [
            1.2
           ],
           "xaxis": "x",
           "y": [
            0.8
           ],
           "yaxis": "y"
          },
          {
           "hovertemplate": "Team=Arsenal<br>Matches played=33<br>Average goals scored last five games=%{x}<br>Average goals conceded last five games=%{y}<extra></extra>",
           "legendgroup": "Arsenal",
           "marker": {
            "color": "#BCBD22",
            "opacity": 0.8,
            "symbol": "circle"
           },
           "mode": "markers",
           "name": "Arsenal",
           "orientation": "v",
           "showlegend": true,
           "type": "scatter",
           "x": [
            2
           ],
           "xaxis": "x",
           "y": [
            1
           ],
           "yaxis": "y"
          },
          {
           "hovertemplate": "Team=West Ham<br>Matches played=33<br>Average goals scored last five games=%{x}<br>Average goals conceded last five games=%{y}<extra></extra>",
           "legendgroup": "West Ham",
           "marker": {
            "color": "#17BECF",
            "opacity": 0.8,
            "symbol": "circle"
           },
           "mode": "markers",
           "name": "West Ham",
           "orientation": "v",
           "showlegend": true,
           "type": "scatter",
           "x": [
            1.8
           ],
           "xaxis": "x",
           "y": [
            1.4
           ],
           "yaxis": "y"
          }
         ],
         "name": "33"
        },
        {
         "data": [
          {
           "hovertemplate": "Team=Brentford<br>Matches played=34<br>Average goals scored last five games=%{x}<br>Average goals conceded last five games=%{y}<extra></extra>",
           "legendgroup": "Brentford",
           "marker": {
            "color": "#1F77B4",
            "opacity": 0.8,
            "symbol": "circle"
           },
           "mode": "markers",
           "name": "Brentford",
           "orientation": "v",
           "showlegend": true,
           "type": "scatter",
           "x": [
            1
           ],
           "xaxis": "x",
           "y": [
            2
           ],
           "yaxis": "y"
          },
          {
           "hovertemplate": "Team=Man United<br>Matches played=34<br>Average goals scored last five games=%{x}<br>Average goals conceded last five games=%{y}<extra></extra>",
           "legendgroup": "Man United",
           "marker": {
            "color": "#FF7F0E",
            "opacity": 0.8,
            "symbol": "circle"
           },
           "mode": "markers",
           "name": "Man United",
           "orientation": "v",
           "showlegend": true,
           "type": "scatter",
           "x": [
            1.8
           ],
           "xaxis": "x",
           "y": [
            1.8
           ],
           "yaxis": "y"
          },
          {
           "hovertemplate": "Team=Burnley<br>Matches played=34<br>Average goals scored last five games=%{x}<br>Average goals conceded last five games=%{y}<extra></extra>",
           "legendgroup": "Burnley",
           "marker": {
            "color": "#2CA02C",
            "opacity": 0.8,
            "symbol": "circle"
           },
           "mode": "markers",
           "name": "Burnley",
           "orientation": "v",
           "showlegend": true,
           "type": "scatter",
           "x": [
            0.8
           ],
           "xaxis": "x",
           "y": [
            1
           ],
           "yaxis": "y"
          },
          {
           "hovertemplate": "Team=Chelsea<br>Matches played=34<br>Average goals scored last five games=%{x}<br>Average goals conceded last five games=%{y}<extra></extra>",
           "legendgroup": "Chelsea",
           "marker": {
            "color": "#D62728",
            "opacity": 0.8,
            "symbol": "circle"
           },
           "mode": "markers",
           "name": "Chelsea",
           "orientation": "v",
           "showlegend": true,
           "type": "scatter",
           "x": [
            1.8
           ],
           "xaxis": "x",
           "y": [
            0.6
           ],
           "yaxis": "y"
          },
          {
           "hovertemplate": "Team=Everton<br>Matches played=34<br>Average goals scored last five games=%{x}<br>Average goals conceded last five games=%{y}<extra></extra>",
           "legendgroup": "Everton",
           "marker": {
            "color": "#9467BD",
            "opacity": 0.8,
            "symbol": "circle"
           },
           "mode": "markers",
           "name": "Everton",
           "orientation": "v",
           "showlegend": true,
           "type": "scatter",
           "x": [
            0.8
           ],
           "xaxis": "x",
           "y": [
            3
           ],
           "yaxis": "y"
          },
          {
           "hovertemplate": "Team=Leicester<br>Matches played=34<br>Average goals scored last five games=%{x}<br>Average goals conceded last five games=%{y}<extra></extra>",
           "legendgroup": "Leicester",
           "marker": {
            "color": "#8C564B",
            "opacity": 0.8,
            "symbol": "circle"
           },
           "mode": "markers",
           "name": "Leicester",
           "orientation": "v",
           "showlegend": true,
           "type": "scatter",
           "x": [
            1
           ],
           "xaxis": "x",
           "y": [
            1.4
           ],
           "yaxis": "y"
          },
          {
           "hovertemplate": "Team=Watford<br>Matches played=34<br>Average goals scored last five games=%{x}<br>Average goals conceded last five games=%{y}<extra></extra>",
           "legendgroup": "Watford",
           "marker": {
            "color": "#E377C2",
            "opacity": 0.8,
            "symbol": "circle"
           },
           "mode": "markers",
           "name": "Watford",
           "orientation": "v",
           "showlegend": true,
           "type": "scatter",
           "x": [
            0.6
           ],
           "xaxis": "x",
           "y": [
            1.2
           ],
           "yaxis": "y"
          },
          {
           "hovertemplate": "Team=Norwich<br>Matches played=34<br>Average goals scored last five games=%{x}<br>Average goals conceded last five games=%{y}<extra></extra>",
           "legendgroup": "Norwich",
           "marker": {
            "color": "#7F7F7F",
            "opacity": 0.8,
            "symbol": "circle"
           },
           "mode": "markers",
           "name": "Norwich",
           "orientation": "v",
           "showlegend": true,
           "type": "scatter",
           "x": [
            1
           ],
           "xaxis": "x",
           "y": [
            1.4
           ],
           "yaxis": "y"
          },
          {
           "hovertemplate": "Team=Newcastle<br>Matches played=34<br>Average goals scored last five games=%{x}<br>Average goals conceded last five games=%{y}<extra></extra>",
           "legendgroup": "Newcastle",
           "marker": {
            "color": "#BCBD22",
            "opacity": 0.8,
            "symbol": "circle"
           },
           "mode": "markers",
           "name": "Newcastle",
           "orientation": "v",
           "showlegend": true,
           "type": "scatter",
           "x": [
            1
           ],
           "xaxis": "x",
           "y": [
            0.8
           ],
           "yaxis": "y"
          },
          {
           "hovertemplate": "Team=Tottenham<br>Matches played=34<br>Average goals scored last five games=%{x}<br>Average goals conceded last five games=%{y}<extra></extra>",
           "legendgroup": "Tottenham",
           "marker": {
            "color": "#17BECF",
            "opacity": 0.8,
            "symbol": "circle"
           },
           "mode": "markers",
           "name": "Tottenham",
           "orientation": "v",
           "showlegend": true,
           "type": "scatter",
           "x": [
            2.2
           ],
           "xaxis": "x",
           "y": [
            1.2
           ],
           "yaxis": "y"
          },
          {
           "hovertemplate": "Team=Liverpool<br>Matches played=34<br>Average goals scored last five games=%{x}<br>Average goals conceded last five games=%{y}<extra></extra>",
           "legendgroup": "Liverpool",
           "marker": {
            "color": "#1F77B4",
            "opacity": 0.8,
            "symbol": "circle"
           },
           "mode": "markers",
           "name": "Liverpool",
           "orientation": "v",
           "showlegend": true,
           "type": "scatter",
           "x": [
            2
           ],
           "xaxis": "x",
           "y": [
            0.6
           ],
           "yaxis": "y"
          },
          {
           "hovertemplate": "Team=Aston Villa<br>Matches played=34<br>Average goals scored last five games=%{x}<br>Average goals conceded last five games=%{y}<extra></extra>",
           "legendgroup": "Aston Villa",
           "marker": {
            "color": "#FF7F0E",
            "opacity": 0.8,
            "symbol": "circle"
           },
           "mode": "markers",
           "name": "Aston Villa",
           "orientation": "v",
           "showlegend": true,
           "type": "scatter",
           "x": [
            1.4
           ],
           "xaxis": "x",
           "y": [
            0.6
           ],
           "yaxis": "y"
          },
          {
           "hovertemplate": "Team=Crystal Palace<br>Matches played=34<br>Average goals scored last five games=%{x}<br>Average goals conceded last five games=%{y}<extra></extra>",
           "legendgroup": "Crystal Palace",
           "marker": {
            "color": "#2CA02C",
            "opacity": 0.8,
            "symbol": "circle"
           },
           "mode": "markers",
           "name": "Crystal Palace",
           "orientation": "v",
           "showlegend": true,
           "type": "scatter",
           "x": [
            1.6
           ],
           "xaxis": "x",
           "y": [
            0.8
           ],
           "yaxis": "y"
          },
          {
           "hovertemplate": "Team=Leeds<br>Matches played=34<br>Average goals scored last five games=%{x}<br>Average goals conceded last five games=%{y}<extra></extra>",
           "legendgroup": "Leeds",
           "marker": {
            "color": "#D62728",
            "opacity": 0.8,
            "symbol": "circle"
           },
           "mode": "markers",
           "name": "Leeds",
           "orientation": "v",
           "showlegend": true,
           "type": "scatter",
           "x": [
            1.2
           ],
           "xaxis": "x",
           "y": [
            3
           ],
           "yaxis": "y"
          },
          {
           "hovertemplate": "Team=Man City<br>Matches played=34<br>Average goals scored last five games=%{x}<br>Average goals conceded last five games=%{y}<extra></extra>",
           "legendgroup": "Man City",
           "marker": {
            "color": "#9467BD",
            "opacity": 0.8,
            "symbol": "circle"
           },
           "mode": "markers",
           "name": "Man City",
           "orientation": "v",
           "showlegend": true,
           "type": "scatter",
           "x": [
            1.6
           ],
           "xaxis": "x",
           "y": [
            0.4
           ],
           "yaxis": "y"
          },
          {
           "hovertemplate": "Team=Brighton<br>Matches played=34<br>Average goals scored last five games=%{x}<br>Average goals conceded last five games=%{y}<extra></extra>",
           "legendgroup": "Brighton",
           "marker": {
            "color": "#8C564B",
            "opacity": 0.8,
            "symbol": "circle"
           },
           "mode": "markers",
           "name": "Brighton",
           "orientation": "v",
           "showlegend": true,
           "type": "scatter",
           "x": [
            1.2
           ],
           "xaxis": "x",
           "y": [
            1.2
           ],
           "yaxis": "y"
          },
          {
           "hovertemplate": "Team=Southampton<br>Matches played=34<br>Average goals scored last five games=%{x}<br>Average goals conceded last five games=%{y}<extra></extra>",
           "legendgroup": "Southampton",
           "marker": {
            "color": "#E377C2",
            "opacity": 0.8,
            "symbol": "circle"
           },
           "mode": "markers",
           "name": "Southampton",
           "orientation": "v",
           "showlegend": true,
           "type": "scatter",
           "x": [
            1.2
           ],
           "xaxis": "x",
           "y": [
            2.2
           ],
           "yaxis": "y"
          },
          {
           "hovertemplate": "Team=Wolves<br>Matches played=34<br>Average goals scored last five games=%{x}<br>Average goals conceded last five games=%{y}<extra></extra>",
           "legendgroup": "Wolves",
           "marker": {
            "color": "#7F7F7F",
            "opacity": 0.8,
            "symbol": "circle"
           },
           "mode": "markers",
           "name": "Wolves",
           "orientation": "v",
           "showlegend": true,
           "type": "scatter",
           "x": [
            1.2
           ],
           "xaxis": "x",
           "y": [
            0.8
           ],
           "yaxis": "y"
          },
          {
           "hovertemplate": "Team=Arsenal<br>Matches played=34<br>Average goals scored last five games=%{x}<br>Average goals conceded last five games=%{y}<extra></extra>",
           "legendgroup": "Arsenal",
           "marker": {
            "color": "#BCBD22",
            "opacity": 0.8,
            "symbol": "circle"
           },
           "mode": "markers",
           "name": "Arsenal",
           "orientation": "v",
           "showlegend": true,
           "type": "scatter",
           "x": [
            1
           ],
           "xaxis": "x",
           "y": [
            1.2
           ],
           "yaxis": "y"
          },
          {
           "hovertemplate": "Team=West Ham<br>Matches played=34<br>Average goals scored last five games=%{x}<br>Average goals conceded last five games=%{y}<extra></extra>",
           "legendgroup": "West Ham",
           "marker": {
            "color": "#17BECF",
            "opacity": 0.8,
            "symbol": "circle"
           },
           "mode": "markers",
           "name": "West Ham",
           "orientation": "v",
           "showlegend": true,
           "type": "scatter",
           "x": [
            1.2
           ],
           "xaxis": "x",
           "y": [
            1.8
           ],
           "yaxis": "y"
          }
         ],
         "name": "34"
        },
        {
         "data": [
          {
           "hovertemplate": "Team=Brentford<br>Matches played=35<br>Average goals scored last five games=%{x}<br>Average goals conceded last five games=%{y}<extra></extra>",
           "legendgroup": "Brentford",
           "marker": {
            "color": "#1F77B4",
            "opacity": 0.8,
            "symbol": "circle"
           },
           "mode": "markers",
           "name": "Brentford",
           "orientation": "v",
           "showlegend": true,
           "type": "scatter",
           "x": [
            1.8
           ],
           "xaxis": "x",
           "y": [
            1.6
           ],
           "yaxis": "y"
          },
          {
           "hovertemplate": "Team=Man United<br>Matches played=35<br>Average goals scored last five games=%{x}<br>Average goals conceded last five games=%{y}<extra></extra>",
           "legendgroup": "Man United",
           "marker": {
            "color": "#FF7F0E",
            "opacity": 0.8,
            "symbol": "circle"
           },
           "mode": "markers",
           "name": "Man United",
           "orientation": "v",
           "showlegend": true,
           "type": "scatter",
           "x": [
            1.2
           ],
           "xaxis": "x",
           "y": [
            2.4
           ],
           "yaxis": "y"
          },
          {
           "hovertemplate": "Team=Burnley<br>Matches played=35<br>Average goals scored last five games=%{x}<br>Average goals conceded last five games=%{y}<extra></extra>",
           "legendgroup": "Burnley",
           "marker": {
            "color": "#2CA02C",
            "opacity": 0.8,
            "symbol": "circle"
           },
           "mode": "markers",
           "name": "Burnley",
           "orientation": "v",
           "showlegend": true,
           "type": "scatter",
           "x": [
            1
           ],
           "xaxis": "x",
           "y": [
            1.2
           ],
           "yaxis": "y"
          },
          {
           "hovertemplate": "Team=Chelsea<br>Matches played=35<br>Average goals scored last five games=%{x}<br>Average goals conceded last five games=%{y}<extra></extra>",
           "legendgroup": "Chelsea",
           "marker": {
            "color": "#D62728",
            "opacity": 0.8,
            "symbol": "circle"
           },
           "mode": "markers",
           "name": "Chelsea",
           "orientation": "v",
           "showlegend": true,
           "type": "scatter",
           "x": [
            3
           ],
           "xaxis": "x",
           "y": [
            0.4
           ],
           "yaxis": "y"
          },
          {
           "hovertemplate": "Team=Everton<br>Matches played=35<br>Average goals scored last five games=%{x}<br>Average goals conceded last five games=%{y}<extra></extra>",
           "legendgroup": "Everton",
           "marker": {
            "color": "#9467BD",
            "opacity": 0.8,
            "symbol": "circle"
           },
           "mode": "markers",
           "name": "Everton",
           "orientation": "v",
           "showlegend": true,
           "type": "scatter",
           "x": [
            0.6
           ],
           "xaxis": "x",
           "y": [
            2.8
           ],
           "yaxis": "y"
          },
          {
           "hovertemplate": "Team=Leicester<br>Matches played=35<br>Average goals scored last five games=%{x}<br>Average goals conceded last five games=%{y}<extra></extra>",
           "legendgroup": "Leicester",
           "marker": {
            "color": "#8C564B",
            "opacity": 0.8,
            "symbol": "circle"
           },
           "mode": "markers",
           "name": "Leicester",
           "orientation": "v",
           "showlegend": true,
           "type": "scatter",
           "x": [
            1
           ],
           "xaxis": "x",
           "y": [
            1.2
           ],
           "yaxis": "y"
          },
          {
           "hovertemplate": "Team=Watford<br>Matches played=35<br>Average goals scored last five games=%{x}<br>Average goals conceded last five games=%{y}<extra></extra>",
           "legendgroup": "Watford",
           "marker": {
            "color": "#E377C2",
            "opacity": 0.8,
            "symbol": "circle"
           },
           "mode": "markers",
           "name": "Watford",
           "orientation": "v",
           "showlegend": true,
           "type": "scatter",
           "x": [
            0.6
           ],
           "xaxis": "x",
           "y": [
            1.4
           ],
           "yaxis": "y"
          },
          {
           "hovertemplate": "Team=Norwich<br>Matches played=35<br>Average goals scored last five games=%{x}<br>Average goals conceded last five games=%{y}<extra></extra>",
           "legendgroup": "Norwich",
           "marker": {
            "color": "#7F7F7F",
            "opacity": 0.8,
            "symbol": "circle"
           },
           "mode": "markers",
           "name": "Norwich",
           "orientation": "v",
           "showlegend": true,
           "type": "scatter",
           "x": [
            0.8
           ],
           "xaxis": "x",
           "y": [
            2
           ],
           "yaxis": "y"
          },
          {
           "hovertemplate": "Team=Newcastle<br>Matches played=35<br>Average goals scored last five games=%{x}<br>Average goals conceded last five games=%{y}<extra></extra>",
           "legendgroup": "Newcastle",
           "marker": {
            "color": "#BCBD22",
            "opacity": 0.8,
            "symbol": "circle"
           },
           "mode": "markers",
           "name": "Newcastle",
           "orientation": "v",
           "showlegend": true,
           "type": "scatter",
           "x": [
            1
           ],
           "xaxis": "x",
           "y": [
            1.6
           ],
           "yaxis": "y"
          },
          {
           "hovertemplate": "Team=Tottenham<br>Matches played=35<br>Average goals scored last five games=%{x}<br>Average goals conceded last five games=%{y}<extra></extra>",
           "legendgroup": "Tottenham",
           "marker": {
            "color": "#17BECF",
            "opacity": 0.8,
            "symbol": "circle"
           },
           "mode": "markers",
           "name": "Tottenham",
           "orientation": "v",
           "showlegend": true,
           "type": "scatter",
           "x": [
            2.4
           ],
           "xaxis": "x",
           "y": [
            0.8
           ],
           "yaxis": "y"
          },
          {
           "hovertemplate": "Team=Liverpool<br>Matches played=35<br>Average goals scored last five games=%{x}<br>Average goals conceded last five games=%{y}<extra></extra>",
           "legendgroup": "Liverpool",
           "marker": {
            "color": "#1F77B4",
            "opacity": 0.8,
            "symbol": "circle"
           },
           "mode": "markers",
           "name": "Liverpool",
           "orientation": "v",
           "showlegend": true,
           "type": "scatter",
           "x": [
            2
           ],
           "xaxis": "x",
           "y": [
            0.6
           ],
           "yaxis": "y"
          },
          {
           "hovertemplate": "Team=Aston Villa<br>Matches played=35<br>Average goals scored last five games=%{x}<br>Average goals conceded last five games=%{y}<extra></extra>",
           "legendgroup": "Aston Villa",
           "marker": {
            "color": "#FF7F0E",
            "opacity": 0.8,
            "symbol": "circle"
           },
           "mode": "markers",
           "name": "Aston Villa",
           "orientation": "v",
           "showlegend": true,
           "type": "scatter",
           "x": [
            1.4
           ],
           "xaxis": "x",
           "y": [
            1
           ],
           "yaxis": "y"
          },
          {
           "hovertemplate": "Team=Crystal Palace<br>Matches played=35<br>Average goals scored last five games=%{x}<br>Average goals conceded last five games=%{y}<extra></extra>",
           "legendgroup": "Crystal Palace",
           "marker": {
            "color": "#2CA02C",
            "opacity": 0.8,
            "symbol": "circle"
           },
           "mode": "markers",
           "name": "Crystal Palace",
           "orientation": "v",
           "showlegend": true,
           "type": "scatter",
           "x": [
            1.4
           ],
           "xaxis": "x",
           "y": [
            0.8
           ],
           "yaxis": "y"
          },
          {
           "hovertemplate": "Team=Leeds<br>Matches played=35<br>Average goals scored last five games=%{x}<br>Average goals conceded last five games=%{y}<extra></extra>",
           "legendgroup": "Leeds",
           "marker": {
            "color": "#D62728",
            "opacity": 0.8,
            "symbol": "circle"
           },
           "mode": "markers",
           "name": "Leeds",
           "orientation": "v",
           "showlegend": true,
           "type": "scatter",
           "x": [
            1.2
           ],
           "xaxis": "x",
           "y": [
            2.4
           ],
           "yaxis": "y"
          },
          {
           "hovertemplate": "Team=Man City<br>Matches played=35<br>Average goals scored last five games=%{x}<br>Average goals conceded last five games=%{y}<extra></extra>",
           "legendgroup": "Man City",
           "marker": {
            "color": "#9467BD",
            "opacity": 0.8,
            "symbol": "circle"
           },
           "mode": "markers",
           "name": "Man City",
           "orientation": "v",
           "showlegend": true,
           "type": "scatter",
           "x": [
            1.6
           ],
           "xaxis": "x",
           "y": [
            0.2
           ],
           "yaxis": "y"
          },
          {
           "hovertemplate": "Team=Brighton<br>Matches played=35<br>Average goals scored last five games=%{x}<br>Average goals conceded last five games=%{y}<extra></extra>",
           "legendgroup": "Brighton",
           "marker": {
            "color": "#8C564B",
            "opacity": 0.8,
            "symbol": "circle"
           },
           "mode": "markers",
           "name": "Brighton",
           "orientation": "v",
           "showlegend": true,
           "type": "scatter",
           "x": [
            1.2
           ],
           "xaxis": "x",
           "y": [
            1
           ],
           "yaxis": "y"
          },
          {
           "hovertemplate": "Team=Southampton<br>Matches played=35<br>Average goals scored last five games=%{x}<br>Average goals conceded last five games=%{y}<extra></extra>",
           "legendgroup": "Southampton",
           "marker": {
            "color": "#E377C2",
            "opacity": 0.8,
            "symbol": "circle"
           },
           "mode": "markers",
           "name": "Southampton",
           "orientation": "v",
           "showlegend": true,
           "type": "scatter",
           "x": [
            1
           ],
           "xaxis": "x",
           "y": [
            2
           ],
           "yaxis": "y"
          },
          {
           "hovertemplate": "Team=Wolves<br>Matches played=35<br>Average goals scored last five games=%{x}<br>Average goals conceded last five games=%{y}<extra></extra>",
           "legendgroup": "Wolves",
           "marker": {
            "color": "#7F7F7F",
            "opacity": 0.8,
            "symbol": "circle"
           },
           "mode": "markers",
           "name": "Wolves",
           "orientation": "v",
           "showlegend": true,
           "type": "scatter",
           "x": [
            0.8
           ],
           "xaxis": "x",
           "y": [
            0.8
           ],
           "yaxis": "y"
          },
          {
           "hovertemplate": "Team=Arsenal<br>Matches played=35<br>Average goals scored last five games=%{x}<br>Average goals conceded last five games=%{y}<extra></extra>",
           "legendgroup": "Arsenal",
           "marker": {
            "color": "#BCBD22",
            "opacity": 0.8,
            "symbol": "circle"
           },
           "mode": "markers",
           "name": "Arsenal",
           "orientation": "v",
           "showlegend": true,
           "type": "scatter",
           "x": [
            1.6
           ],
           "xaxis": "x",
           "y": [
            1.6
           ],
           "yaxis": "y"
          },
          {
           "hovertemplate": "Team=West Ham<br>Matches played=35<br>Average goals scored last five games=%{x}<br>Average goals conceded last five games=%{y}<extra></extra>",
           "legendgroup": "West Ham",
           "marker": {
            "color": "#17BECF",
            "opacity": 0.8,
            "symbol": "circle"
           },
           "mode": "markers",
           "name": "West Ham",
           "orientation": "v",
           "showlegend": true,
           "type": "scatter",
           "x": [
            0.6
           ],
           "xaxis": "x",
           "y": [
            1.8
           ],
           "yaxis": "y"
          }
         ],
         "name": "35"
        },
        {
         "data": [
          {
           "hovertemplate": "Team=Brentford<br>Matches played=36<br>Average goals scored last five games=%{x}<br>Average goals conceded last five games=%{y}<extra></extra>",
           "legendgroup": "Brentford",
           "marker": {
            "color": "#1F77B4",
            "opacity": 0.8,
            "symbol": "circle"
           },
           "mode": "markers",
           "name": "Brentford",
           "orientation": "v",
           "showlegend": true,
           "type": "scatter",
           "x": [
            2.2
           ],
           "xaxis": "x",
           "y": [
            1.4
           ],
           "yaxis": "y"
          },
          {
           "hovertemplate": "Team=Man United<br>Matches played=36<br>Average goals scored last five games=%{x}<br>Average goals conceded last five games=%{y}<extra></extra>",
           "legendgroup": "Man United",
           "marker": {
            "color": "#FF7F0E",
            "opacity": 0.8,
            "symbol": "circle"
           },
           "mode": "markers",
           "name": "Man United",
           "orientation": "v",
           "showlegend": true,
           "type": "scatter",
           "x": [
            1.2
           ],
           "xaxis": "x",
           "y": [
            2.8
           ],
           "yaxis": "y"
          },
          {
           "hovertemplate": "Team=Burnley<br>Matches played=36<br>Average goals scored last five games=%{x}<br>Average goals conceded last five games=%{y}<extra></extra>",
           "legendgroup": "Burnley",
           "marker": {
            "color": "#2CA02C",
            "opacity": 0.8,
            "symbol": "circle"
           },
           "mode": "markers",
           "name": "Burnley",
           "orientation": "v",
           "showlegend": true,
           "type": "scatter",
           "x": [
            0.8
           ],
           "xaxis": "x",
           "y": [
            1.4
           ],
           "yaxis": "y"
          },
          {
           "hovertemplate": "Team=Chelsea<br>Matches played=36<br>Average goals scored last five games=%{x}<br>Average goals conceded last five games=%{y}<extra></extra>",
           "legendgroup": "Chelsea",
           "marker": {
            "color": "#D62728",
            "opacity": 0.8,
            "symbol": "circle"
           },
           "mode": "markers",
           "name": "Chelsea",
           "orientation": "v",
           "showlegend": true,
           "type": "scatter",
           "x": [
            3
           ],
           "xaxis": "x",
           "y": [
            0.4
           ],
           "yaxis": "y"
          },
          {
           "hovertemplate": "Team=Everton<br>Matches played=36<br>Average goals scored last five games=%{x}<br>Average goals conceded last five games=%{y}<extra></extra>",
           "legendgroup": "Everton",
           "marker": {
            "color": "#9467BD",
            "opacity": 0.8,
            "symbol": "circle"
           },
           "mode": "markers",
           "name": "Everton",
           "orientation": "v",
           "showlegend": true,
           "type": "scatter",
           "x": [
            1
           ],
           "xaxis": "x",
           "y": [
            2.6
           ],
           "yaxis": "y"
          },
          {
           "hovertemplate": "Team=Leicester<br>Matches played=36<br>Average goals scored last five games=%{x}<br>Average goals conceded last five games=%{y}<extra></extra>",
           "legendgroup": "Leicester",
           "marker": {
            "color": "#8C564B",
            "opacity": 0.8,
            "symbol": "circle"
           },
           "mode": "markers",
           "name": "Leicester",
           "orientation": "v",
           "showlegend": true,
           "type": "scatter",
           "x": [
            0.8
           ],
           "xaxis": "x",
           "y": [
            1.8
           ],
           "yaxis": "y"
          },
          {
           "hovertemplate": "Team=Watford<br>Matches played=36<br>Average goals scored last five games=%{x}<br>Average goals conceded last five games=%{y}<extra></extra>",
           "legendgroup": "Watford",
           "marker": {
            "color": "#E377C2",
            "opacity": 0.8,
            "symbol": "circle"
           },
           "mode": "markers",
           "name": "Watford",
           "orientation": "v",
           "showlegend": true,
           "type": "scatter",
           "x": [
            0.6
           ],
           "xaxis": "x",
           "y": [
            2.4
           ],
           "yaxis": "y"
          },
          {
           "hovertemplate": "Team=Norwich<br>Matches played=36<br>Average goals scored last five games=%{x}<br>Average goals conceded last five games=%{y}<extra></extra>",
           "legendgroup": "Norwich",
           "marker": {
            "color": "#7F7F7F",
            "opacity": 0.8,
            "symbol": "circle"
           },
           "mode": "markers",
           "name": "Norwich",
           "orientation": "v",
           "showlegend": true,
           "type": "scatter",
           "x": [
            0.6
           ],
           "xaxis": "x",
           "y": [
            1.8
           ],
           "yaxis": "y"
          },
          {
           "hovertemplate": "Team=Newcastle<br>Matches played=36<br>Average goals scored last five games=%{x}<br>Average goals conceded last five games=%{y}<extra></extra>",
           "legendgroup": "Newcastle",
           "marker": {
            "color": "#BCBD22",
            "opacity": 0.8,
            "symbol": "circle"
           },
           "mode": "markers",
           "name": "Newcastle",
           "orientation": "v",
           "showlegend": true,
           "type": "scatter",
           "x": [
            1.2
           ],
           "xaxis": "x",
           "y": [
            1.6
           ],
           "yaxis": "y"
          },
          {
           "hovertemplate": "Team=Tottenham<br>Matches played=36<br>Average goals scored last five games=%{x}<br>Average goals conceded last five games=%{y}<extra></extra>",
           "legendgroup": "Tottenham",
           "marker": {
            "color": "#17BECF",
            "opacity": 0.8,
            "symbol": "circle"
           },
           "mode": "markers",
           "name": "Tottenham",
           "orientation": "v",
           "showlegend": true,
           "type": "scatter",
           "x": [
            2.4
           ],
           "xaxis": "x",
           "y": [
            0.6
           ],
           "yaxis": "y"
          },
          {
           "hovertemplate": "Team=Liverpool<br>Matches played=36<br>Average goals scored last five games=%{x}<br>Average goals conceded last five games=%{y}<extra></extra>",
           "legendgroup": "Liverpool",
           "marker": {
            "color": "#1F77B4",
            "opacity": 0.8,
            "symbol": "circle"
           },
           "mode": "markers",
           "name": "Liverpool",
           "orientation": "v",
           "showlegend": true,
           "type": "scatter",
           "x": [
            1.6
           ],
           "xaxis": "x",
           "y": [
            0.4
           ],
           "yaxis": "y"
          },
          {
           "hovertemplate": "Team=Aston Villa<br>Matches played=36<br>Average goals scored last five games=%{x}<br>Average goals conceded last five games=%{y}<extra></extra>",
           "legendgroup": "Aston Villa",
           "marker": {
            "color": "#FF7F0E",
            "opacity": 0.8,
            "symbol": "circle"
           },
           "mode": "markers",
           "name": "Aston Villa",
           "orientation": "v",
           "showlegend": true,
           "type": "scatter",
           "x": [
            1.4
           ],
           "xaxis": "x",
           "y": [
            0.8
           ],
           "yaxis": "y"
          },
          {
           "hovertemplate": "Team=Crystal Palace<br>Matches played=36<br>Average goals scored last five games=%{x}<br>Average goals conceded last five games=%{y}<extra></extra>",
           "legendgroup": "Crystal Palace",
           "marker": {
            "color": "#2CA02C",
            "opacity": 0.8,
            "symbol": "circle"
           },
           "mode": "markers",
           "name": "Crystal Palace",
           "orientation": "v",
           "showlegend": true,
           "type": "scatter",
           "x": [
            1.8
           ],
           "xaxis": "x",
           "y": [
            1
           ],
           "yaxis": "y"
          },
          {
           "hovertemplate": "Team=Leeds<br>Matches played=36<br>Average goals scored last five games=%{x}<br>Average goals conceded last five games=%{y}<extra></extra>",
           "legendgroup": "Leeds",
           "marker": {
            "color": "#D62728",
            "opacity": 0.8,
            "symbol": "circle"
           },
           "mode": "markers",
           "name": "Leeds",
           "orientation": "v",
           "showlegend": true,
           "type": "scatter",
           "x": [
            1.2
           ],
           "xaxis": "x",
           "y": [
            1.8
           ],
           "yaxis": "y"
          },
          {
           "hovertemplate": "Team=Man City<br>Matches played=36<br>Average goals scored last five games=%{x}<br>Average goals conceded last five games=%{y}<extra></extra>",
           "legendgroup": "Man City",
           "marker": {
            "color": "#9467BD",
            "opacity": 0.8,
            "symbol": "circle"
           },
           "mode": "markers",
           "name": "Man City",
           "orientation": "v",
           "showlegend": true,
           "type": "scatter",
           "x": [
            2.2
           ],
           "xaxis": "x",
           "y": [
            0
           ],
           "yaxis": "y"
          },
          {
           "hovertemplate": "Team=Brighton<br>Matches played=36<br>Average goals scored last five games=%{x}<br>Average goals conceded last five games=%{y}<extra></extra>",
           "legendgroup": "Brighton",
           "marker": {
            "color": "#8C564B",
            "opacity": 0.8,
            "symbol": "circle"
           },
           "mode": "markers",
           "name": "Brighton",
           "orientation": "v",
           "showlegend": true,
           "type": "scatter",
           "x": [
            0.8
           ],
           "xaxis": "x",
           "y": [
            1.6
           ],
           "yaxis": "y"
          },
          {
           "hovertemplate": "Team=Southampton<br>Matches played=36<br>Average goals scored last five games=%{x}<br>Average goals conceded last five games=%{y}<extra></extra>",
           "legendgroup": "Southampton",
           "marker": {
            "color": "#E377C2",
            "opacity": 0.8,
            "symbol": "circle"
           },
           "mode": "markers",
           "name": "Southampton",
           "orientation": "v",
           "showlegend": true,
           "type": "scatter",
           "x": [
            0.8
           ],
           "xaxis": "x",
           "y": [
            2
           ],
           "yaxis": "y"
          },
          {
           "hovertemplate": "Team=Wolves<br>Matches played=36<br>Average goals scored last five games=%{x}<br>Average goals conceded last five games=%{y}<extra></extra>",
           "legendgroup": "Wolves",
           "marker": {
            "color": "#7F7F7F",
            "opacity": 0.8,
            "symbol": "circle"
           },
           "mode": "markers",
           "name": "Wolves",
           "orientation": "v",
           "showlegend": true,
           "type": "scatter",
           "x": [
            0.4
           ],
           "xaxis": "x",
           "y": [
            1
           ],
           "yaxis": "y"
          },
          {
           "hovertemplate": "Team=Arsenal<br>Matches played=36<br>Average goals scored last five games=%{x}<br>Average goals conceded last five games=%{y}<extra></extra>",
           "legendgroup": "Arsenal",
           "marker": {
            "color": "#BCBD22",
            "opacity": 0.8,
            "symbol": "circle"
           },
           "mode": "markers",
           "name": "Arsenal",
           "orientation": "v",
           "showlegend": true,
           "type": "scatter",
           "x": [
            1.4
           ],
           "xaxis": "x",
           "y": [
            1.4
           ],
           "yaxis": "y"
          },
          {
           "hovertemplate": "Team=West Ham<br>Matches played=36<br>Average goals scored last five games=%{x}<br>Average goals conceded last five games=%{y}<extra></extra>",
           "legendgroup": "West Ham",
           "marker": {
            "color": "#17BECF",
            "opacity": 0.8,
            "symbol": "circle"
           },
           "mode": "markers",
           "name": "West Ham",
           "orientation": "v",
           "showlegend": true,
           "type": "scatter",
           "x": [
            0.6
           ],
           "xaxis": "x",
           "y": [
            1.8
           ],
           "yaxis": "y"
          }
         ],
         "name": "36"
        },
        {
         "data": [
          {
           "hovertemplate": "Team=Brentford<br>Matches played=37<br>Average goals scored last five games=%{x}<br>Average goals conceded last five games=%{y}<extra></extra>",
           "legendgroup": "Brentford",
           "marker": {
            "color": "#1F77B4",
            "opacity": 0.8,
            "symbol": "circle"
           },
           "mode": "markers",
           "name": "Brentford",
           "orientation": "v",
           "showlegend": true,
           "type": "scatter",
           "x": [
            2
           ],
           "xaxis": "x",
           "y": [
            1.6
           ],
           "yaxis": "y"
          },
          {
           "hovertemplate": "Team=Man United<br>Matches played=37<br>Average goals scored last five games=%{x}<br>Average goals conceded last five games=%{y}<extra></extra>",
           "legendgroup": "Man United",
           "marker": {
            "color": "#FF7F0E",
            "opacity": 0.8,
            "symbol": "circle"
           },
           "mode": "markers",
           "name": "Man United",
           "orientation": "v",
           "showlegend": true,
           "type": "scatter",
           "x": [
            0.4
           ],
           "xaxis": "x",
           "y": [
            3.2
           ],
           "yaxis": "y"
          },
          {
           "hovertemplate": "Team=Burnley<br>Matches played=37<br>Average goals scored last five games=%{x}<br>Average goals conceded last five games=%{y}<extra></extra>",
           "legendgroup": "Burnley",
           "marker": {
            "color": "#2CA02C",
            "opacity": 0.8,
            "symbol": "circle"
           },
           "mode": "markers",
           "name": "Burnley",
           "orientation": "v",
           "showlegend": true,
           "type": "scatter",
           "x": [
            0.6
           ],
           "xaxis": "x",
           "y": [
            1.4
           ],
           "yaxis": "y"
          },
          {
           "hovertemplate": "Team=Chelsea<br>Matches played=37<br>Average goals scored last five games=%{x}<br>Average goals conceded last five games=%{y}<extra></extra>",
           "legendgroup": "Chelsea",
           "marker": {
            "color": "#D62728",
            "opacity": 0.8,
            "symbol": "circle"
           },
           "mode": "markers",
           "name": "Chelsea",
           "orientation": "v",
           "showlegend": true,
           "type": "scatter",
           "x": [
            2.8
           ],
           "xaxis": "x",
           "y": [
            0.6
           ],
           "yaxis": "y"
          },
          {
           "hovertemplate": "Team=Everton<br>Matches played=37<br>Average goals scored last five games=%{x}<br>Average goals conceded last five games=%{y}<extra></extra>",
           "legendgroup": "Everton",
           "marker": {
            "color": "#9467BD",
            "opacity": 0.8,
            "symbol": "circle"
           },
           "mode": "markers",
           "name": "Everton",
           "orientation": "v",
           "showlegend": true,
           "type": "scatter",
           "x": [
            1
           ],
           "xaxis": "x",
           "y": [
            1.6
           ],
           "yaxis": "y"
          },
          {
           "hovertemplate": "Team=Leicester<br>Matches played=37<br>Average goals scored last five games=%{x}<br>Average goals conceded last five games=%{y}<extra></extra>",
           "legendgroup": "Leicester",
           "marker": {
            "color": "#8C564B",
            "opacity": 0.8,
            "symbol": "circle"
           },
           "mode": "markers",
           "name": "Leicester",
           "orientation": "v",
           "showlegend": true,
           "type": "scatter",
           "x": [
            1.8
           ],
           "xaxis": "x",
           "y": [
            1.6
           ],
           "yaxis": "y"
          },
          {
           "hovertemplate": "Team=Watford<br>Matches played=37<br>Average goals scored last five games=%{x}<br>Average goals conceded last five games=%{y}<extra></extra>",
           "legendgroup": "Watford",
           "marker": {
            "color": "#E377C2",
            "opacity": 0.8,
            "symbol": "circle"
           },
           "mode": "markers",
           "name": "Watford",
           "orientation": "v",
           "showlegend": true,
           "type": "scatter",
           "x": [
            0.6
           ],
           "xaxis": "x",
           "y": [
            2.6
           ],
           "yaxis": "y"
          },
          {
           "hovertemplate": "Team=Norwich<br>Matches played=37<br>Average goals scored last five games=%{x}<br>Average goals conceded last five games=%{y}<extra></extra>",
           "legendgroup": "Norwich",
           "marker": {
            "color": "#7F7F7F",
            "opacity": 0.8,
            "symbol": "circle"
           },
           "mode": "markers",
           "name": "Norwich",
           "orientation": "v",
           "showlegend": true,
           "type": "scatter",
           "x": [
            0.6
           ],
           "xaxis": "x",
           "y": [
            2
           ],
           "yaxis": "y"
          },
          {
           "hovertemplate": "Team=Newcastle<br>Matches played=37<br>Average goals scored last five games=%{x}<br>Average goals conceded last five games=%{y}<extra></extra>",
           "legendgroup": "Newcastle",
           "marker": {
            "color": "#BCBD22",
            "opacity": 0.8,
            "symbol": "circle"
           },
           "mode": "markers",
           "name": "Newcastle",
           "orientation": "v",
           "showlegend": true,
           "type": "scatter",
           "x": [
            0.8
           ],
           "xaxis": "x",
           "y": [
            2.4
           ],
           "yaxis": "y"
          },
          {
           "hovertemplate": "Team=Tottenham<br>Matches played=37<br>Average goals scored last five games=%{x}<br>Average goals conceded last five games=%{y}<extra></extra>",
           "legendgroup": "Tottenham",
           "marker": {
            "color": "#17BECF",
            "opacity": 0.8,
            "symbol": "circle"
           },
           "mode": "markers",
           "name": "Tottenham",
           "orientation": "v",
           "showlegend": true,
           "type": "scatter",
           "x": [
            1.8
           ],
           "xaxis": "x",
           "y": [
            0.8
           ],
           "yaxis": "y"
          },
          {
           "hovertemplate": "Team=Liverpool<br>Matches played=37<br>Average goals scored last five games=%{x}<br>Average goals conceded last five games=%{y}<extra></extra>",
           "legendgroup": "Liverpool",
           "marker": {
            "color": "#1F77B4",
            "opacity": 0.8,
            "symbol": "circle"
           },
           "mode": "markers",
           "name": "Liverpool",
           "orientation": "v",
           "showlegend": true,
           "type": "scatter",
           "x": [
            1.8
           ],
           "xaxis": "x",
           "y": [
            0.6
           ],
           "yaxis": "y"
          },
          {
           "hovertemplate": "Team=Aston Villa<br>Matches played=37<br>Average goals scored last five games=%{x}<br>Average goals conceded last five games=%{y}<extra></extra>",
           "legendgroup": "Aston Villa",
           "marker": {
            "color": "#FF7F0E",
            "opacity": 0.8,
            "symbol": "circle"
           },
           "mode": "markers",
           "name": "Aston Villa",
           "orientation": "v",
           "showlegend": true,
           "type": "scatter",
           "x": [
            1.6
           ],
           "xaxis": "x",
           "y": [
            1
           ],
           "yaxis": "y"
          },
          {
           "hovertemplate": "Team=Crystal Palace<br>Matches played=37<br>Average goals scored last five games=%{x}<br>Average goals conceded last five games=%{y}<extra></extra>",
           "legendgroup": "Crystal Palace",
           "marker": {
            "color": "#2CA02C",
            "opacity": 0.8,
            "symbol": "circle"
           },
           "mode": "markers",
           "name": "Crystal Palace",
           "orientation": "v",
           "showlegend": true,
           "type": "scatter",
           "x": [
            1.2
           ],
           "xaxis": "x",
           "y": [
            1
           ],
           "yaxis": "y"
          },
          {
           "hovertemplate": "Team=Leeds<br>Matches played=37<br>Average goals scored last five games=%{x}<br>Average goals conceded last five games=%{y}<extra></extra>",
           "legendgroup": "Leeds",
           "marker": {
            "color": "#D62728",
            "opacity": 0.8,
            "symbol": "circle"
           },
           "mode": "markers",
           "name": "Leeds",
           "orientation": "v",
           "showlegend": true,
           "type": "scatter",
           "x": [
            1.4
           ],
           "xaxis": "x",
           "y": [
            1
           ],
           "yaxis": "y"
          },
          {
           "hovertemplate": "Team=Man City<br>Matches played=37<br>Average goals scored last five games=%{x}<br>Average goals conceded last five games=%{y}<extra></extra>",
           "legendgroup": "Man City",
           "marker": {
            "color": "#9467BD",
            "opacity": 0.8,
            "symbol": "circle"
           },
           "mode": "markers",
           "name": "Man City",
           "orientation": "v",
           "showlegend": true,
           "type": "scatter",
           "x": [
            2.4
           ],
           "xaxis": "x",
           "y": [
            0.2
           ],
           "yaxis": "y"
          },
          {
           "hovertemplate": "Team=Brighton<br>Matches played=37<br>Average goals scored last five games=%{x}<br>Average goals conceded last five games=%{y}<extra></extra>",
           "legendgroup": "Brighton",
           "marker": {
            "color": "#8C564B",
            "opacity": 0.8,
            "symbol": "circle"
           },
           "mode": "markers",
           "name": "Brighton",
           "orientation": "v",
           "showlegend": true,
           "type": "scatter",
           "x": [
            1.4
           ],
           "xaxis": "x",
           "y": [
            1.2
           ],
           "yaxis": "y"
          },
          {
           "hovertemplate": "Team=Southampton<br>Matches played=37<br>Average goals scored last five games=%{x}<br>Average goals conceded last five games=%{y}<extra></extra>",
           "legendgroup": "Southampton",
           "marker": {
            "color": "#E377C2",
            "opacity": 0.8,
            "symbol": "circle"
           },
           "mode": "markers",
           "name": "Southampton",
           "orientation": "v",
           "showlegend": true,
           "type": "scatter",
           "x": [
            0.6
           ],
           "xaxis": "x",
           "y": [
            2.4
           ],
           "yaxis": "y"
          },
          {
           "hovertemplate": "Team=Wolves<br>Matches played=37<br>Average goals scored last five games=%{x}<br>Average goals conceded last five games=%{y}<extra></extra>",
           "legendgroup": "Wolves",
           "marker": {
            "color": "#7F7F7F",
            "opacity": 0.8,
            "symbol": "circle"
           },
           "mode": "markers",
           "name": "Wolves",
           "orientation": "v",
           "showlegend": true,
           "type": "scatter",
           "x": [
            0.6
           ],
           "xaxis": "x",
           "y": [
            1
           ],
           "yaxis": "y"
          },
          {
           "hovertemplate": "Team=Arsenal<br>Matches played=37<br>Average goals scored last five games=%{x}<br>Average goals conceded last five games=%{y}<extra></extra>",
           "legendgroup": "Arsenal",
           "marker": {
            "color": "#BCBD22",
            "opacity": 0.8,
            "symbol": "circle"
           },
           "mode": "markers",
           "name": "Arsenal",
           "orientation": "v",
           "showlegend": true,
           "type": "scatter",
           "x": [
            1.2
           ],
           "xaxis": "x",
           "y": [
            2
           ],
           "yaxis": "y"
          },
          {
           "hovertemplate": "Team=West Ham<br>Matches played=37<br>Average goals scored last five games=%{x}<br>Average goals conceded last five games=%{y}<extra></extra>",
           "legendgroup": "West Ham",
           "marker": {
            "color": "#17BECF",
            "opacity": 0.8,
            "symbol": "circle"
           },
           "mode": "markers",
           "name": "West Ham",
           "orientation": "v",
           "showlegend": true,
           "type": "scatter",
           "x": [
            1
           ],
           "xaxis": "x",
           "y": [
            1.4
           ],
           "yaxis": "y"
          }
         ],
         "name": "37"
        },
        {
         "data": [
          {
           "hovertemplate": "Team=Brentford<br>Matches played=38<br>Average goals scored last five games=%{x}<br>Average goals conceded last five games=%{y}<extra></extra>",
           "legendgroup": "Brentford",
           "marker": {
            "color": "#1F77B4",
            "opacity": 0.8,
            "symbol": "circle"
           },
           "mode": "markers",
           "name": "Brentford",
           "orientation": "v",
           "showlegend": true,
           "type": "scatter",
           "x": [
            2
           ],
           "xaxis": "x",
           "y": [
            1.8
           ],
           "yaxis": "y"
          },
          {
           "hovertemplate": "Team=Man United<br>Matches played=38<br>Average goals scored last five games=%{x}<br>Average goals conceded last five games=%{y}<extra></extra>",
           "legendgroup": "Man United",
           "marker": {
            "color": "#FF7F0E",
            "opacity": 0.8,
            "symbol": "circle"
           },
           "mode": "markers",
           "name": "Man United",
           "orientation": "v",
           "showlegend": true,
           "type": "scatter",
           "x": [
            0.2
           ],
           "xaxis": "x",
           "y": [
            2.6
           ],
           "yaxis": "y"
          },
          {
           "hovertemplate": "Team=Burnley<br>Matches played=38<br>Average goals scored last five games=%{x}<br>Average goals conceded last five games=%{y}<extra></extra>",
           "legendgroup": "Burnley",
           "marker": {
            "color": "#2CA02C",
            "opacity": 0.8,
            "symbol": "circle"
           },
           "mode": "markers",
           "name": "Burnley",
           "orientation": "v",
           "showlegend": true,
           "type": "scatter",
           "x": [
            0.8
           ],
           "xaxis": "x",
           "y": [
            1.2
           ],
           "yaxis": "y"
          },
          {
           "hovertemplate": "Team=Chelsea<br>Matches played=38<br>Average goals scored last five games=%{x}<br>Average goals conceded last five games=%{y}<extra></extra>",
           "legendgroup": "Chelsea",
           "marker": {
            "color": "#D62728",
            "opacity": 0.8,
            "symbol": "circle"
           },
           "mode": "markers",
           "name": "Chelsea",
           "orientation": "v",
           "showlegend": true,
           "type": "scatter",
           "x": [
            2.6
           ],
           "xaxis": "x",
           "y": [
            0.6
           ],
           "yaxis": "y"
          },
          {
           "hovertemplate": "Team=Everton<br>Matches played=38<br>Average goals scored last five games=%{x}<br>Average goals conceded last five games=%{y}<extra></extra>",
           "legendgroup": "Everton",
           "marker": {
            "color": "#9467BD",
            "opacity": 0.8,
            "symbol": "circle"
           },
           "mode": "markers",
           "name": "Everton",
           "orientation": "v",
           "showlegend": true,
           "type": "scatter",
           "x": [
            1
           ],
           "xaxis": "x",
           "y": [
            2.2
           ],
           "yaxis": "y"
          },
          {
           "hovertemplate": "Team=Leicester<br>Matches played=38<br>Average goals scored last five games=%{x}<br>Average goals conceded last five games=%{y}<extra></extra>",
           "legendgroup": "Leicester",
           "marker": {
            "color": "#8C564B",
            "opacity": 0.8,
            "symbol": "circle"
           },
           "mode": "markers",
           "name": "Leicester",
           "orientation": "v",
           "showlegend": true,
           "type": "scatter",
           "x": [
            1.8
           ],
           "xaxis": "x",
           "y": [
            1.6
           ],
           "yaxis": "y"
          },
          {
           "hovertemplate": "Team=Watford<br>Matches played=38<br>Average goals scored last five games=%{x}<br>Average goals conceded last five games=%{y}<extra></extra>",
           "legendgroup": "Watford",
           "marker": {
            "color": "#E377C2",
            "opacity": 0.8,
            "symbol": "circle"
           },
           "mode": "markers",
           "name": "Watford",
           "orientation": "v",
           "showlegend": true,
           "type": "scatter",
           "x": [
            0.8
           ],
           "xaxis": "x",
           "y": [
            2.2
           ],
           "yaxis": "y"
          },
          {
           "hovertemplate": "Team=Norwich<br>Matches played=38<br>Average goals scored last five games=%{x}<br>Average goals conceded last five games=%{y}<extra></extra>",
           "legendgroup": "Norwich",
           "marker": {
            "color": "#7F7F7F",
            "opacity": 0.8,
            "symbol": "circle"
           },
           "mode": "markers",
           "name": "Norwich",
           "orientation": "v",
           "showlegend": true,
           "type": "scatter",
           "x": [
            0.6
           ],
           "xaxis": "x",
           "y": [
            1.8
           ],
           "yaxis": "y"
          },
          {
           "hovertemplate": "Team=Newcastle<br>Matches played=38<br>Average goals scored last five games=%{x}<br>Average goals conceded last five games=%{y}<extra></extra>",
           "legendgroup": "Newcastle",
           "marker": {
            "color": "#BCBD22",
            "opacity": 0.8,
            "symbol": "circle"
           },
           "mode": "markers",
           "name": "Newcastle",
           "orientation": "v",
           "showlegend": true,
           "type": "scatter",
           "x": [
            1.2
           ],
           "xaxis": "x",
           "y": [
            2.4
           ],
           "yaxis": "y"
          },
          {
           "hovertemplate": "Team=Tottenham<br>Matches played=38<br>Average goals scored last five games=%{x}<br>Average goals conceded last five games=%{y}<extra></extra>",
           "legendgroup": "Tottenham",
           "marker": {
            "color": "#17BECF",
            "opacity": 0.8,
            "symbol": "circle"
           },
           "mode": "markers",
           "name": "Tottenham",
           "orientation": "v",
           "showlegend": true,
           "type": "scatter",
           "x": [
            2.4
           ],
           "xaxis": "x",
           "y": [
            0.2
           ],
           "yaxis": "y"
          },
          {
           "hovertemplate": "Team=Liverpool<br>Matches played=38<br>Average goals scored last five games=%{x}<br>Average goals conceded last five games=%{y}<extra></extra>",
           "legendgroup": "Liverpool",
           "marker": {
            "color": "#1F77B4",
            "opacity": 0.8,
            "symbol": "circle"
           },
           "mode": "markers",
           "name": "Liverpool",
           "orientation": "v",
           "showlegend": true,
           "type": "scatter",
           "x": [
            1.8
           ],
           "xaxis": "x",
           "y": [
            0.8
           ],
           "yaxis": "y"
          },
          {
           "hovertemplate": "Team=Aston Villa<br>Matches played=38<br>Average goals scored last five games=%{x}<br>Average goals conceded last five games=%{y}<extra></extra>",
           "legendgroup": "Aston Villa",
           "marker": {
            "color": "#FF7F0E",
            "opacity": 0.8,
            "symbol": "circle"
           },
           "mode": "markers",
           "name": "Aston Villa",
           "orientation": "v",
           "showlegend": true,
           "type": "scatter",
           "x": [
            1.4
           ],
           "xaxis": "x",
           "y": [
            1.6
           ],
           "yaxis": "y"
          },
          {
           "hovertemplate": "Team=Crystal Palace<br>Matches played=38<br>Average goals scored last five games=%{x}<br>Average goals conceded last five games=%{y}<extra></extra>",
           "legendgroup": "Crystal Palace",
           "marker": {
            "color": "#2CA02C",
            "opacity": 0.8,
            "symbol": "circle"
           },
           "mode": "markers",
           "name": "Crystal Palace",
           "orientation": "v",
           "showlegend": true,
           "type": "scatter",
           "x": [
            1.2
           ],
           "xaxis": "x",
           "y": [
            1.6
           ],
           "yaxis": "y"
          },
          {
           "hovertemplate": "Team=Leeds<br>Matches played=38<br>Average goals scored last five games=%{x}<br>Average goals conceded last five games=%{y}<extra></extra>",
           "legendgroup": "Leeds",
           "marker": {
            "color": "#D62728",
            "opacity": 0.8,
            "symbol": "circle"
           },
           "mode": "markers",
           "name": "Leeds",
           "orientation": "v",
           "showlegend": true,
           "type": "scatter",
           "x": [
            1.8
           ],
           "xaxis": "x",
           "y": [
            1
           ],
           "yaxis": "y"
          },
          {
           "hovertemplate": "Team=Man City<br>Matches played=38<br>Average goals scored last five games=%{x}<br>Average goals conceded last five games=%{y}<extra></extra>",
           "legendgroup": "Man City",
           "marker": {
            "color": "#9467BD",
            "opacity": 0.8,
            "symbol": "circle"
           },
           "mode": "markers",
           "name": "Man City",
           "orientation": "v",
           "showlegend": true,
           "type": "scatter",
           "x": [
            2.6
           ],
           "xaxis": "x",
           "y": [
            0.6
           ],
           "yaxis": "y"
          },
          {
           "hovertemplate": "Team=Brighton<br>Matches played=38<br>Average goals scored last five games=%{x}<br>Average goals conceded last five games=%{y}<extra></extra>",
           "legendgroup": "Brighton",
           "marker": {
            "color": "#8C564B",
            "opacity": 0.8,
            "symbol": "circle"
           },
           "mode": "markers",
           "name": "Brighton",
           "orientation": "v",
           "showlegend": true,
           "type": "scatter",
           "x": [
            1.4
           ],
           "xaxis": "x",
           "y": [
            1
           ],
           "yaxis": "y"
          },
          {
           "hovertemplate": "Team=Southampton<br>Matches played=38<br>Average goals scored last five games=%{x}<br>Average goals conceded last five games=%{y}<extra></extra>",
           "legendgroup": "Southampton",
           "marker": {
            "color": "#E377C2",
            "opacity": 0.8,
            "symbol": "circle"
           },
           "mode": "markers",
           "name": "Southampton",
           "orientation": "v",
           "showlegend": true,
           "type": "scatter",
           "x": [
            0.8
           ],
           "xaxis": "x",
           "y": [
            2.4
           ],
           "yaxis": "y"
          },
          {
           "hovertemplate": "Team=Wolves<br>Matches played=38<br>Average goals scored last five games=%{x}<br>Average goals conceded last five games=%{y}<extra></extra>",
           "legendgroup": "Wolves",
           "marker": {
            "color": "#7F7F7F",
            "opacity": 0.8,
            "symbol": "circle"
           },
           "mode": "markers",
           "name": "Wolves",
           "orientation": "v",
           "showlegend": true,
           "type": "scatter",
           "x": [
            0.8
           ],
           "xaxis": "x",
           "y": [
            1.4
           ],
           "yaxis": "y"
          },
          {
           "hovertemplate": "Team=Arsenal<br>Matches played=38<br>Average goals scored last five games=%{x}<br>Average goals conceded last five games=%{y}<extra></extra>",
           "legendgroup": "Arsenal",
           "marker": {
            "color": "#BCBD22",
            "opacity": 0.8,
            "symbol": "circle"
           },
           "mode": "markers",
           "name": "Arsenal",
           "orientation": "v",
           "showlegend": true,
           "type": "scatter",
           "x": [
            1.2
           ],
           "xaxis": "x",
           "y": [
            1.8
           ],
           "yaxis": "y"
          },
          {
           "hovertemplate": "Team=West Ham<br>Matches played=38<br>Average goals scored last five games=%{x}<br>Average goals conceded last five games=%{y}<extra></extra>",
           "legendgroup": "West Ham",
           "marker": {
            "color": "#17BECF",
            "opacity": 0.8,
            "symbol": "circle"
           },
           "mode": "markers",
           "name": "West Ham",
           "orientation": "v",
           "showlegend": true,
           "type": "scatter",
           "x": [
            1.2
           ],
           "xaxis": "x",
           "y": [
            1.8
           ],
           "yaxis": "y"
          }
         ],
         "name": "38"
        }
       ],
       "layout": {
        "font": {
         "color": "black",
         "family": "Courier New",
         "size": 12
        },
        "height": 600,
        "legend": {
         "title": {},
         "tracegroupgap": 0
        },
        "sliders": [
         {
          "active": 0,
          "currentvalue": {
           "prefix": "Matches played="
          },
          "len": 0.9,
          "pad": {
           "b": 10,
           "t": 60
          },
          "steps": [
           {
            "args": [
             [
              "5"
             ],
             {
              "frame": {
               "duration": 0,
               "redraw": false
              },
              "fromcurrent": true,
              "mode": "immediate",
              "transition": {
               "duration": 0,
               "easing": "linear"
              }
             }
            ],
            "label": "5",
            "method": "animate"
           },
           {
            "args": [
             [
              "6"
             ],
             {
              "frame": {
               "duration": 0,
               "redraw": false
              },
              "fromcurrent": true,
              "mode": "immediate",
              "transition": {
               "duration": 0,
               "easing": "linear"
              }
             }
            ],
            "label": "6",
            "method": "animate"
           },
           {
            "args": [
             [
              "7"
             ],
             {
              "frame": {
               "duration": 0,
               "redraw": false
              },
              "fromcurrent": true,
              "mode": "immediate",
              "transition": {
               "duration": 0,
               "easing": "linear"
              }
             }
            ],
            "label": "7",
            "method": "animate"
           },
           {
            "args": [
             [
              "8"
             ],
             {
              "frame": {
               "duration": 0,
               "redraw": false
              },
              "fromcurrent": true,
              "mode": "immediate",
              "transition": {
               "duration": 0,
               "easing": "linear"
              }
             }
            ],
            "label": "8",
            "method": "animate"
           },
           {
            "args": [
             [
              "9"
             ],
             {
              "frame": {
               "duration": 0,
               "redraw": false
              },
              "fromcurrent": true,
              "mode": "immediate",
              "transition": {
               "duration": 0,
               "easing": "linear"
              }
             }
            ],
            "label": "9",
            "method": "animate"
           },
           {
            "args": [
             [
              "10"
             ],
             {
              "frame": {
               "duration": 0,
               "redraw": false
              },
              "fromcurrent": true,
              "mode": "immediate",
              "transition": {
               "duration": 0,
               "easing": "linear"
              }
             }
            ],
            "label": "10",
            "method": "animate"
           },
           {
            "args": [
             [
              "11"
             ],
             {
              "frame": {
               "duration": 0,
               "redraw": false
              },
              "fromcurrent": true,
              "mode": "immediate",
              "transition": {
               "duration": 0,
               "easing": "linear"
              }
             }
            ],
            "label": "11",
            "method": "animate"
           },
           {
            "args": [
             [
              "12"
             ],
             {
              "frame": {
               "duration": 0,
               "redraw": false
              },
              "fromcurrent": true,
              "mode": "immediate",
              "transition": {
               "duration": 0,
               "easing": "linear"
              }
             }
            ],
            "label": "12",
            "method": "animate"
           },
           {
            "args": [
             [
              "13"
             ],
             {
              "frame": {
               "duration": 0,
               "redraw": false
              },
              "fromcurrent": true,
              "mode": "immediate",
              "transition": {
               "duration": 0,
               "easing": "linear"
              }
             }
            ],
            "label": "13",
            "method": "animate"
           },
           {
            "args": [
             [
              "14"
             ],
             {
              "frame": {
               "duration": 0,
               "redraw": false
              },
              "fromcurrent": true,
              "mode": "immediate",
              "transition": {
               "duration": 0,
               "easing": "linear"
              }
             }
            ],
            "label": "14",
            "method": "animate"
           },
           {
            "args": [
             [
              "15"
             ],
             {
              "frame": {
               "duration": 0,
               "redraw": false
              },
              "fromcurrent": true,
              "mode": "immediate",
              "transition": {
               "duration": 0,
               "easing": "linear"
              }
             }
            ],
            "label": "15",
            "method": "animate"
           },
           {
            "args": [
             [
              "16"
             ],
             {
              "frame": {
               "duration": 0,
               "redraw": false
              },
              "fromcurrent": true,
              "mode": "immediate",
              "transition": {
               "duration": 0,
               "easing": "linear"
              }
             }
            ],
            "label": "16",
            "method": "animate"
           },
           {
            "args": [
             [
              "17"
             ],
             {
              "frame": {
               "duration": 0,
               "redraw": false
              },
              "fromcurrent": true,
              "mode": "immediate",
              "transition": {
               "duration": 0,
               "easing": "linear"
              }
             }
            ],
            "label": "17",
            "method": "animate"
           },
           {
            "args": [
             [
              "18"
             ],
             {
              "frame": {
               "duration": 0,
               "redraw": false
              },
              "fromcurrent": true,
              "mode": "immediate",
              "transition": {
               "duration": 0,
               "easing": "linear"
              }
             }
            ],
            "label": "18",
            "method": "animate"
           },
           {
            "args": [
             [
              "19"
             ],
             {
              "frame": {
               "duration": 0,
               "redraw": false
              },
              "fromcurrent": true,
              "mode": "immediate",
              "transition": {
               "duration": 0,
               "easing": "linear"
              }
             }
            ],
            "label": "19",
            "method": "animate"
           },
           {
            "args": [
             [
              "20"
             ],
             {
              "frame": {
               "duration": 0,
               "redraw": false
              },
              "fromcurrent": true,
              "mode": "immediate",
              "transition": {
               "duration": 0,
               "easing": "linear"
              }
             }
            ],
            "label": "20",
            "method": "animate"
           },
           {
            "args": [
             [
              "21"
             ],
             {
              "frame": {
               "duration": 0,
               "redraw": false
              },
              "fromcurrent": true,
              "mode": "immediate",
              "transition": {
               "duration": 0,
               "easing": "linear"
              }
             }
            ],
            "label": "21",
            "method": "animate"
           },
           {
            "args": [
             [
              "22"
             ],
             {
              "frame": {
               "duration": 0,
               "redraw": false
              },
              "fromcurrent": true,
              "mode": "immediate",
              "transition": {
               "duration": 0,
               "easing": "linear"
              }
             }
            ],
            "label": "22",
            "method": "animate"
           },
           {
            "args": [
             [
              "23"
             ],
             {
              "frame": {
               "duration": 0,
               "redraw": false
              },
              "fromcurrent": true,
              "mode": "immediate",
              "transition": {
               "duration": 0,
               "easing": "linear"
              }
             }
            ],
            "label": "23",
            "method": "animate"
           },
           {
            "args": [
             [
              "24"
             ],
             {
              "frame": {
               "duration": 0,
               "redraw": false
              },
              "fromcurrent": true,
              "mode": "immediate",
              "transition": {
               "duration": 0,
               "easing": "linear"
              }
             }
            ],
            "label": "24",
            "method": "animate"
           },
           {
            "args": [
             [
              "25"
             ],
             {
              "frame": {
               "duration": 0,
               "redraw": false
              },
              "fromcurrent": true,
              "mode": "immediate",
              "transition": {
               "duration": 0,
               "easing": "linear"
              }
             }
            ],
            "label": "25",
            "method": "animate"
           },
           {
            "args": [
             [
              "26"
             ],
             {
              "frame": {
               "duration": 0,
               "redraw": false
              },
              "fromcurrent": true,
              "mode": "immediate",
              "transition": {
               "duration": 0,
               "easing": "linear"
              }
             }
            ],
            "label": "26",
            "method": "animate"
           },
           {
            "args": [
             [
              "27"
             ],
             {
              "frame": {
               "duration": 0,
               "redraw": false
              },
              "fromcurrent": true,
              "mode": "immediate",
              "transition": {
               "duration": 0,
               "easing": "linear"
              }
             }
            ],
            "label": "27",
            "method": "animate"
           },
           {
            "args": [
             [
              "28"
             ],
             {
              "frame": {
               "duration": 0,
               "redraw": false
              },
              "fromcurrent": true,
              "mode": "immediate",
              "transition": {
               "duration": 0,
               "easing": "linear"
              }
             }
            ],
            "label": "28",
            "method": "animate"
           },
           {
            "args": [
             [
              "29"
             ],
             {
              "frame": {
               "duration": 0,
               "redraw": false
              },
              "fromcurrent": true,
              "mode": "immediate",
              "transition": {
               "duration": 0,
               "easing": "linear"
              }
             }
            ],
            "label": "29",
            "method": "animate"
           },
           {
            "args": [
             [
              "30"
             ],
             {
              "frame": {
               "duration": 0,
               "redraw": false
              },
              "fromcurrent": true,
              "mode": "immediate",
              "transition": {
               "duration": 0,
               "easing": "linear"
              }
             }
            ],
            "label": "30",
            "method": "animate"
           },
           {
            "args": [
             [
              "31"
             ],
             {
              "frame": {
               "duration": 0,
               "redraw": false
              },
              "fromcurrent": true,
              "mode": "immediate",
              "transition": {
               "duration": 0,
               "easing": "linear"
              }
             }
            ],
            "label": "31",
            "method": "animate"
           },
           {
            "args": [
             [
              "32"
             ],
             {
              "frame": {
               "duration": 0,
               "redraw": false
              },
              "fromcurrent": true,
              "mode": "immediate",
              "transition": {
               "duration": 0,
               "easing": "linear"
              }
             }
            ],
            "label": "32",
            "method": "animate"
           },
           {
            "args": [
             [
              "33"
             ],
             {
              "frame": {
               "duration": 0,
               "redraw": false
              },
              "fromcurrent": true,
              "mode": "immediate",
              "transition": {
               "duration": 0,
               "easing": "linear"
              }
             }
            ],
            "label": "33",
            "method": "animate"
           },
           {
            "args": [
             [
              "34"
             ],
             {
              "frame": {
               "duration": 0,
               "redraw": false
              },
              "fromcurrent": true,
              "mode": "immediate",
              "transition": {
               "duration": 0,
               "easing": "linear"
              }
             }
            ],
            "label": "34",
            "method": "animate"
           },
           {
            "args": [
             [
              "35"
             ],
             {
              "frame": {
               "duration": 0,
               "redraw": false
              },
              "fromcurrent": true,
              "mode": "immediate",
              "transition": {
               "duration": 0,
               "easing": "linear"
              }
             }
            ],
            "label": "35",
            "method": "animate"
           },
           {
            "args": [
             [
              "36"
             ],
             {
              "frame": {
               "duration": 0,
               "redraw": false
              },
              "fromcurrent": true,
              "mode": "immediate",
              "transition": {
               "duration": 0,
               "easing": "linear"
              }
             }
            ],
            "label": "36",
            "method": "animate"
           },
           {
            "args": [
             [
              "37"
             ],
             {
              "frame": {
               "duration": 0,
               "redraw": false
              },
              "fromcurrent": true,
              "mode": "immediate",
              "transition": {
               "duration": 0,
               "easing": "linear"
              }
             }
            ],
            "label": "37",
            "method": "animate"
           },
           {
            "args": [
             [
              "38"
             ],
             {
              "frame": {
               "duration": 0,
               "redraw": false
              },
              "fromcurrent": true,
              "mode": "immediate",
              "transition": {
               "duration": 0,
               "easing": "linear"
              }
             }
            ],
            "label": "38",
            "method": "animate"
           }
          ],
          "x": 0.1,
          "xanchor": "left",
          "y": 0,
          "yanchor": "top"
         }
        ],
        "template": {
         "data": {
          "bar": [
           {
            "error_x": {
             "color": "rgb(36,36,36)"
            },
            "error_y": {
             "color": "rgb(36,36,36)"
            },
            "marker": {
             "line": {
              "color": "white",
              "width": 0.5
             },
             "pattern": {
              "fillmode": "overlay",
              "size": 10,
              "solidity": 0.2
             }
            },
            "type": "bar"
           }
          ],
          "barpolar": [
           {
            "marker": {
             "line": {
              "color": "white",
              "width": 0.5
             },
             "pattern": {
              "fillmode": "overlay",
              "size": 10,
              "solidity": 0.2
             }
            },
            "type": "barpolar"
           }
          ],
          "carpet": [
           {
            "aaxis": {
             "endlinecolor": "rgb(36,36,36)",
             "gridcolor": "white",
             "linecolor": "white",
             "minorgridcolor": "white",
             "startlinecolor": "rgb(36,36,36)"
            },
            "baxis": {
             "endlinecolor": "rgb(36,36,36)",
             "gridcolor": "white",
             "linecolor": "white",
             "minorgridcolor": "white",
             "startlinecolor": "rgb(36,36,36)"
            },
            "type": "carpet"
           }
          ],
          "choropleth": [
           {
            "colorbar": {
             "outlinewidth": 1,
             "tickcolor": "rgb(36,36,36)",
             "ticks": "outside"
            },
            "type": "choropleth"
           }
          ],
          "contour": [
           {
            "colorbar": {
             "outlinewidth": 1,
             "tickcolor": "rgb(36,36,36)",
             "ticks": "outside"
            },
            "colorscale": [
             [
              0,
              "#440154"
             ],
             [
              0.1111111111111111,
              "#482878"
             ],
             [
              0.2222222222222222,
              "#3e4989"
             ],
             [
              0.3333333333333333,
              "#31688e"
             ],
             [
              0.4444444444444444,
              "#26828e"
             ],
             [
              0.5555555555555556,
              "#1f9e89"
             ],
             [
              0.6666666666666666,
              "#35b779"
             ],
             [
              0.7777777777777778,
              "#6ece58"
             ],
             [
              0.8888888888888888,
              "#b5de2b"
             ],
             [
              1,
              "#fde725"
             ]
            ],
            "type": "contour"
           }
          ],
          "contourcarpet": [
           {
            "colorbar": {
             "outlinewidth": 1,
             "tickcolor": "rgb(36,36,36)",
             "ticks": "outside"
            },
            "type": "contourcarpet"
           }
          ],
          "heatmap": [
           {
            "colorbar": {
             "outlinewidth": 1,
             "tickcolor": "rgb(36,36,36)",
             "ticks": "outside"
            },
            "colorscale": [
             [
              0,
              "#440154"
             ],
             [
              0.1111111111111111,
              "#482878"
             ],
             [
              0.2222222222222222,
              "#3e4989"
             ],
             [
              0.3333333333333333,
              "#31688e"
             ],
             [
              0.4444444444444444,
              "#26828e"
             ],
             [
              0.5555555555555556,
              "#1f9e89"
             ],
             [
              0.6666666666666666,
              "#35b779"
             ],
             [
              0.7777777777777778,
              "#6ece58"
             ],
             [
              0.8888888888888888,
              "#b5de2b"
             ],
             [
              1,
              "#fde725"
             ]
            ],
            "type": "heatmap"
           }
          ],
          "heatmapgl": [
           {
            "colorbar": {
             "outlinewidth": 1,
             "tickcolor": "rgb(36,36,36)",
             "ticks": "outside"
            },
            "colorscale": [
             [
              0,
              "#440154"
             ],
             [
              0.1111111111111111,
              "#482878"
             ],
             [
              0.2222222222222222,
              "#3e4989"
             ],
             [
              0.3333333333333333,
              "#31688e"
             ],
             [
              0.4444444444444444,
              "#26828e"
             ],
             [
              0.5555555555555556,
              "#1f9e89"
             ],
             [
              0.6666666666666666,
              "#35b779"
             ],
             [
              0.7777777777777778,
              "#6ece58"
             ],
             [
              0.8888888888888888,
              "#b5de2b"
             ],
             [
              1,
              "#fde725"
             ]
            ],
            "type": "heatmapgl"
           }
          ],
          "histogram": [
           {
            "marker": {
             "line": {
              "color": "white",
              "width": 0.6
             }
            },
            "type": "histogram"
           }
          ],
          "histogram2d": [
           {
            "colorbar": {
             "outlinewidth": 1,
             "tickcolor": "rgb(36,36,36)",
             "ticks": "outside"
            },
            "colorscale": [
             [
              0,
              "#440154"
             ],
             [
              0.1111111111111111,
              "#482878"
             ],
             [
              0.2222222222222222,
              "#3e4989"
             ],
             [
              0.3333333333333333,
              "#31688e"
             ],
             [
              0.4444444444444444,
              "#26828e"
             ],
             [
              0.5555555555555556,
              "#1f9e89"
             ],
             [
              0.6666666666666666,
              "#35b779"
             ],
             [
              0.7777777777777778,
              "#6ece58"
             ],
             [
              0.8888888888888888,
              "#b5de2b"
             ],
             [
              1,
              "#fde725"
             ]
            ],
            "type": "histogram2d"
           }
          ],
          "histogram2dcontour": [
           {
            "colorbar": {
             "outlinewidth": 1,
             "tickcolor": "rgb(36,36,36)",
             "ticks": "outside"
            },
            "colorscale": [
             [
              0,
              "#440154"
             ],
             [
              0.1111111111111111,
              "#482878"
             ],
             [
              0.2222222222222222,
              "#3e4989"
             ],
             [
              0.3333333333333333,
              "#31688e"
             ],
             [
              0.4444444444444444,
              "#26828e"
             ],
             [
              0.5555555555555556,
              "#1f9e89"
             ],
             [
              0.6666666666666666,
              "#35b779"
             ],
             [
              0.7777777777777778,
              "#6ece58"
             ],
             [
              0.8888888888888888,
              "#b5de2b"
             ],
             [
              1,
              "#fde725"
             ]
            ],
            "type": "histogram2dcontour"
           }
          ],
          "mesh3d": [
           {
            "colorbar": {
             "outlinewidth": 1,
             "tickcolor": "rgb(36,36,36)",
             "ticks": "outside"
            },
            "type": "mesh3d"
           }
          ],
          "parcoords": [
           {
            "line": {
             "colorbar": {
              "outlinewidth": 1,
              "tickcolor": "rgb(36,36,36)",
              "ticks": "outside"
             }
            },
            "type": "parcoords"
           }
          ],
          "pie": [
           {
            "automargin": true,
            "type": "pie"
           }
          ],
          "scatter": [
           {
            "fillpattern": {
             "fillmode": "overlay",
             "size": 10,
             "solidity": 0.2
            },
            "type": "scatter"
           }
          ],
          "scatter3d": [
           {
            "line": {
             "colorbar": {
              "outlinewidth": 1,
              "tickcolor": "rgb(36,36,36)",
              "ticks": "outside"
             }
            },
            "marker": {
             "colorbar": {
              "outlinewidth": 1,
              "tickcolor": "rgb(36,36,36)",
              "ticks": "outside"
             }
            },
            "type": "scatter3d"
           }
          ],
          "scattercarpet": [
           {
            "marker": {
             "colorbar": {
              "outlinewidth": 1,
              "tickcolor": "rgb(36,36,36)",
              "ticks": "outside"
             }
            },
            "type": "scattercarpet"
           }
          ],
          "scattergeo": [
           {
            "marker": {
             "colorbar": {
              "outlinewidth": 1,
              "tickcolor": "rgb(36,36,36)",
              "ticks": "outside"
             }
            },
            "type": "scattergeo"
           }
          ],
          "scattergl": [
           {
            "marker": {
             "colorbar": {
              "outlinewidth": 1,
              "tickcolor": "rgb(36,36,36)",
              "ticks": "outside"
             }
            },
            "type": "scattergl"
           }
          ],
          "scattermapbox": [
           {
            "marker": {
             "colorbar": {
              "outlinewidth": 1,
              "tickcolor": "rgb(36,36,36)",
              "ticks": "outside"
             }
            },
            "type": "scattermapbox"
           }
          ],
          "scatterpolar": [
           {
            "marker": {
             "colorbar": {
              "outlinewidth": 1,
              "tickcolor": "rgb(36,36,36)",
              "ticks": "outside"
             }
            },
            "type": "scatterpolar"
           }
          ],
          "scatterpolargl": [
           {
            "marker": {
             "colorbar": {
              "outlinewidth": 1,
              "tickcolor": "rgb(36,36,36)",
              "ticks": "outside"
             }
            },
            "type": "scatterpolargl"
           }
          ],
          "scatterternary": [
           {
            "marker": {
             "colorbar": {
              "outlinewidth": 1,
              "tickcolor": "rgb(36,36,36)",
              "ticks": "outside"
             }
            },
            "type": "scatterternary"
           }
          ],
          "surface": [
           {
            "colorbar": {
             "outlinewidth": 1,
             "tickcolor": "rgb(36,36,36)",
             "ticks": "outside"
            },
            "colorscale": [
             [
              0,
              "#440154"
             ],
             [
              0.1111111111111111,
              "#482878"
             ],
             [
              0.2222222222222222,
              "#3e4989"
             ],
             [
              0.3333333333333333,
              "#31688e"
             ],
             [
              0.4444444444444444,
              "#26828e"
             ],
             [
              0.5555555555555556,
              "#1f9e89"
             ],
             [
              0.6666666666666666,
              "#35b779"
             ],
             [
              0.7777777777777778,
              "#6ece58"
             ],
             [
              0.8888888888888888,
              "#b5de2b"
             ],
             [
              1,
              "#fde725"
             ]
            ],
            "type": "surface"
           }
          ],
          "table": [
           {
            "cells": {
             "fill": {
              "color": "rgb(237,237,237)"
             },
             "line": {
              "color": "white"
             }
            },
            "header": {
             "fill": {
              "color": "rgb(217,217,217)"
             },
             "line": {
              "color": "white"
             }
            },
            "type": "table"
           }
          ]
         },
         "layout": {
          "annotationdefaults": {
           "arrowhead": 0,
           "arrowwidth": 1
          },
          "autotypenumbers": "strict",
          "coloraxis": {
           "colorbar": {
            "outlinewidth": 1,
            "tickcolor": "rgb(36,36,36)",
            "ticks": "outside"
           }
          },
          "colorscale": {
           "diverging": [
            [
             0,
             "rgb(103,0,31)"
            ],
            [
             0.1,
             "rgb(178,24,43)"
            ],
            [
             0.2,
             "rgb(214,96,77)"
            ],
            [
             0.3,
             "rgb(244,165,130)"
            ],
            [
             0.4,
             "rgb(253,219,199)"
            ],
            [
             0.5,
             "rgb(247,247,247)"
            ],
            [
             0.6,
             "rgb(209,229,240)"
            ],
            [
             0.7,
             "rgb(146,197,222)"
            ],
            [
             0.8,
             "rgb(67,147,195)"
            ],
            [
             0.9,
             "rgb(33,102,172)"
            ],
            [
             1,
             "rgb(5,48,97)"
            ]
           ],
           "sequential": [
            [
             0,
             "#440154"
            ],
            [
             0.1111111111111111,
             "#482878"
            ],
            [
             0.2222222222222222,
             "#3e4989"
            ],
            [
             0.3333333333333333,
             "#31688e"
            ],
            [
             0.4444444444444444,
             "#26828e"
            ],
            [
             0.5555555555555556,
             "#1f9e89"
            ],
            [
             0.6666666666666666,
             "#35b779"
            ],
            [
             0.7777777777777778,
             "#6ece58"
            ],
            [
             0.8888888888888888,
             "#b5de2b"
            ],
            [
             1,
             "#fde725"
            ]
           ],
           "sequentialminus": [
            [
             0,
             "#440154"
            ],
            [
             0.1111111111111111,
             "#482878"
            ],
            [
             0.2222222222222222,
             "#3e4989"
            ],
            [
             0.3333333333333333,
             "#31688e"
            ],
            [
             0.4444444444444444,
             "#26828e"
            ],
            [
             0.5555555555555556,
             "#1f9e89"
            ],
            [
             0.6666666666666666,
             "#35b779"
            ],
            [
             0.7777777777777778,
             "#6ece58"
            ],
            [
             0.8888888888888888,
             "#b5de2b"
            ],
            [
             1,
             "#fde725"
            ]
           ]
          },
          "colorway": [
           "#1F77B4",
           "#FF7F0E",
           "#2CA02C",
           "#D62728",
           "#9467BD",
           "#8C564B",
           "#E377C2",
           "#7F7F7F",
           "#BCBD22",
           "#17BECF"
          ],
          "font": {
           "color": "rgb(36,36,36)"
          },
          "geo": {
           "bgcolor": "white",
           "lakecolor": "white",
           "landcolor": "white",
           "showlakes": true,
           "showland": true,
           "subunitcolor": "white"
          },
          "hoverlabel": {
           "align": "left"
          },
          "hovermode": "closest",
          "mapbox": {
           "style": "light"
          },
          "paper_bgcolor": "white",
          "plot_bgcolor": "white",
          "polar": {
           "angularaxis": {
            "gridcolor": "rgb(232,232,232)",
            "linecolor": "rgb(36,36,36)",
            "showgrid": false,
            "showline": true,
            "ticks": "outside"
           },
           "bgcolor": "white",
           "radialaxis": {
            "gridcolor": "rgb(232,232,232)",
            "linecolor": "rgb(36,36,36)",
            "showgrid": false,
            "showline": true,
            "ticks": "outside"
           }
          },
          "scene": {
           "xaxis": {
            "backgroundcolor": "white",
            "gridcolor": "rgb(232,232,232)",
            "gridwidth": 2,
            "linecolor": "rgb(36,36,36)",
            "showbackground": true,
            "showgrid": false,
            "showline": true,
            "ticks": "outside",
            "zeroline": false,
            "zerolinecolor": "rgb(36,36,36)"
           },
           "yaxis": {
            "backgroundcolor": "white",
            "gridcolor": "rgb(232,232,232)",
            "gridwidth": 2,
            "linecolor": "rgb(36,36,36)",
            "showbackground": true,
            "showgrid": false,
            "showline": true,
            "ticks": "outside",
            "zeroline": false,
            "zerolinecolor": "rgb(36,36,36)"
           },
           "zaxis": {
            "backgroundcolor": "white",
            "gridcolor": "rgb(232,232,232)",
            "gridwidth": 2,
            "linecolor": "rgb(36,36,36)",
            "showbackground": true,
            "showgrid": false,
            "showline": true,
            "ticks": "outside",
            "zeroline": false,
            "zerolinecolor": "rgb(36,36,36)"
           }
          },
          "shapedefaults": {
           "fillcolor": "black",
           "line": {
            "width": 0
           },
           "opacity": 0.3
          },
          "ternary": {
           "aaxis": {
            "gridcolor": "rgb(232,232,232)",
            "linecolor": "rgb(36,36,36)",
            "showgrid": false,
            "showline": true,
            "ticks": "outside"
           },
           "baxis": {
            "gridcolor": "rgb(232,232,232)",
            "linecolor": "rgb(36,36,36)",
            "showgrid": false,
            "showline": true,
            "ticks": "outside"
           },
           "bgcolor": "white",
           "caxis": {
            "gridcolor": "rgb(232,232,232)",
            "linecolor": "rgb(36,36,36)",
            "showgrid": false,
            "showline": true,
            "ticks": "outside"
           }
          },
          "title": {
           "x": 0.05
          },
          "xaxis": {
           "automargin": true,
           "gridcolor": "rgb(232,232,232)",
           "linecolor": "rgb(36,36,36)",
           "showgrid": false,
           "showline": true,
           "ticks": "outside",
           "title": {
            "standoff": 15
           },
           "zeroline": false,
           "zerolinecolor": "rgb(36,36,36)"
          },
          "yaxis": {
           "automargin": true,
           "gridcolor": "rgb(232,232,232)",
           "linecolor": "rgb(36,36,36)",
           "showgrid": false,
           "showline": true,
           "ticks": "outside",
           "title": {
            "standoff": 15
           },
           "zeroline": false,
           "zerolinecolor": "rgb(36,36,36)"
          }
         }
        },
        "title": {
         "text": "<b>Premier League 2021-22: 5-game rolling average of goals<br>for and against by team"
        },
        "updatemenus": [
         {
          "buttons": [
           {
            "args": [
             null,
             {
              "frame": {
               "duration": 500,
               "redraw": false
              },
              "fromcurrent": true,
              "mode": "immediate",
              "transition": {
               "duration": 500,
               "easing": "linear"
              }
             }
            ],
            "label": "&#9654;",
            "method": "animate"
           },
           {
            "args": [
             [
              null
             ],
             {
              "frame": {
               "duration": 0,
               "redraw": false
              },
              "fromcurrent": true,
              "mode": "immediate",
              "transition": {
               "duration": 0,
               "easing": "linear"
              }
             }
            ],
            "label": "&#9724;",
            "method": "animate"
           }
          ],
          "direction": "left",
          "pad": {
           "r": 10,
           "t": 70
          },
          "showactive": false,
          "type": "buttons",
          "x": 0.1,
          "xanchor": "right",
          "y": 0,
          "yanchor": "top"
         }
        ],
        "width": 700,
        "xaxis": {
         "anchor": "y",
         "domain": [
          0,
          1
         ],
         "range": [
          0,
          5
         ],
         "title": {
          "text": "Average goals scored last five games"
         }
        },
        "yaxis": {
         "anchor": "x",
         "domain": [
          0,
          1
         ],
         "range": [
          0,
          5
         ],
         "title": {
          "text": "Average goals conceded last five games"
         }
        }
       }
      },
      "text/html": [
       "<div>                            <div id=\"0f1d918e-c5f4-454b-a02d-5347bfd68709\" class=\"plotly-graph-div\" style=\"height:600px; width:700px;\"></div>            <script type=\"text/javascript\">                require([\"plotly\"], function(Plotly) {                    window.PLOTLYENV=window.PLOTLYENV || {};                                    if (document.getElementById(\"0f1d918e-c5f4-454b-a02d-5347bfd68709\")) {                    Plotly.newPlot(                        \"0f1d918e-c5f4-454b-a02d-5347bfd68709\",                        [{\"hovertemplate\":\"Team=Brentford<br>Matches played=5<br>Average goals scored last five games=%{x}<br>Average goals conceded last five games=%{y}<extra></extra>\",\"legendgroup\":\"Brentford\",\"marker\":{\"color\":\"#1F77B4\",\"opacity\":0.8,\"symbol\":\"circle\",\"line\":{\"color\":\"black\",\"width\":2},\"size\":12},\"mode\":\"markers\",\"name\":\"Brentford\",\"orientation\":\"v\",\"showlegend\":true,\"x\":[1.2],\"xaxis\":\"x\",\"y\":[1.4],\"yaxis\":\"y\",\"type\":\"scatter\"},{\"hovertemplate\":\"Team=Man United<br>Matches played=5<br>Average goals scored last five games=%{x}<br>Average goals conceded last five games=%{y}<extra></extra>\",\"legendgroup\":\"Man United\",\"marker\":{\"color\":\"#FF7F0E\",\"opacity\":0.8,\"symbol\":\"circle\",\"line\":{\"color\":\"black\",\"width\":2},\"size\":12},\"mode\":\"markers\",\"name\":\"Man United\",\"orientation\":\"v\",\"showlegend\":true,\"x\":[2.0],\"xaxis\":\"x\",\"y\":[1.8],\"yaxis\":\"y\",\"type\":\"scatter\"},{\"hovertemplate\":\"Team=Burnley<br>Matches played=5<br>Average goals scored last five games=%{x}<br>Average goals conceded last five games=%{y}<extra></extra>\",\"legendgroup\":\"Burnley\",\"marker\":{\"color\":\"#2CA02C\",\"opacity\":0.8,\"symbol\":\"circle\",\"line\":{\"color\":\"black\",\"width\":2},\"size\":12},\"mode\":\"markers\",\"name\":\"Burnley\",\"orientation\":\"v\",\"showlegend\":true,\"x\":[1.0],\"xaxis\":\"x\",\"y\":[1.0],\"yaxis\":\"y\",\"type\":\"scatter\"},{\"hovertemplate\":\"Team=Chelsea<br>Matches played=5<br>Average goals scored last five games=%{x}<br>Average goals conceded last five games=%{y}<extra></extra>\",\"legendgroup\":\"Chelsea\",\"marker\":{\"color\":\"#D62728\",\"opacity\":0.8,\"symbol\":\"circle\",\"line\":{\"color\":\"black\",\"width\":2},\"size\":12},\"mode\":\"markers\",\"name\":\"Chelsea\",\"orientation\":\"v\",\"showlegend\":true,\"x\":[3.2],\"xaxis\":\"x\",\"y\":[0.4],\"yaxis\":\"y\",\"type\":\"scatter\"},{\"hovertemplate\":\"Team=Everton<br>Matches played=5<br>Average goals scored last five games=%{x}<br>Average goals conceded last five games=%{y}<extra></extra>\",\"legendgroup\":\"Everton\",\"marker\":{\"color\":\"#9467BD\",\"opacity\":0.8,\"symbol\":\"circle\",\"line\":{\"color\":\"black\",\"width\":2},\"size\":12},\"mode\":\"markers\",\"name\":\"Everton\",\"orientation\":\"v\",\"showlegend\":true,\"x\":[2.0],\"xaxis\":\"x\",\"y\":[1.6],\"yaxis\":\"y\",\"type\":\"scatter\"},{\"hovertemplate\":\"Team=Leicester<br>Matches played=5<br>Average goals scored last five games=%{x}<br>Average goals conceded last five games=%{y}<extra></extra>\",\"legendgroup\":\"Leicester\",\"marker\":{\"color\":\"#8C564B\",\"opacity\":0.8,\"symbol\":\"circle\",\"line\":{\"color\":\"black\",\"width\":2},\"size\":12},\"mode\":\"markers\",\"name\":\"Leicester\",\"orientation\":\"v\",\"showlegend\":true,\"x\":[1.4],\"xaxis\":\"x\",\"y\":[1.4],\"yaxis\":\"y\",\"type\":\"scatter\"},{\"hovertemplate\":\"Team=Watford<br>Matches played=5<br>Average goals scored last five games=%{x}<br>Average goals conceded last five games=%{y}<extra></extra>\",\"legendgroup\":\"Watford\",\"marker\":{\"color\":\"#E377C2\",\"opacity\":0.8,\"symbol\":\"circle\",\"line\":{\"color\":\"black\",\"width\":2},\"size\":12},\"mode\":\"markers\",\"name\":\"Watford\",\"orientation\":\"v\",\"showlegend\":true,\"x\":[0.8],\"xaxis\":\"x\",\"y\":[2.2],\"yaxis\":\"y\",\"type\":\"scatter\"},{\"hovertemplate\":\"Team=Norwich<br>Matches played=5<br>Average goals scored last five games=%{x}<br>Average goals conceded last five games=%{y}<extra></extra>\",\"legendgroup\":\"Norwich\",\"marker\":{\"color\":\"#7F7F7F\",\"opacity\":0.8,\"symbol\":\"circle\",\"line\":{\"color\":\"black\",\"width\":2},\"size\":12},\"mode\":\"markers\",\"name\":\"Norwich\",\"orientation\":\"v\",\"showlegend\":true,\"x\":[0.6],\"xaxis\":\"x\",\"y\":[2.0],\"yaxis\":\"y\",\"type\":\"scatter\"},{\"hovertemplate\":\"Team=Newcastle<br>Matches played=5<br>Average goals scored last five games=%{x}<br>Average goals conceded last five games=%{y}<extra></extra>\",\"legendgroup\":\"Newcastle\",\"marker\":{\"color\":\"#BCBD22\",\"opacity\":0.8,\"symbol\":\"circle\",\"line\":{\"color\":\"black\",\"width\":2},\"size\":12},\"mode\":\"markers\",\"name\":\"Newcastle\",\"orientation\":\"v\",\"showlegend\":true,\"x\":[1.4],\"xaxis\":\"x\",\"y\":[2.6],\"yaxis\":\"y\",\"type\":\"scatter\"},{\"hovertemplate\":\"Team=Tottenham<br>Matches played=5<br>Average goals scored last five games=%{x}<br>Average goals conceded last five games=%{y}<extra></extra>\",\"legendgroup\":\"Tottenham\",\"marker\":{\"color\":\"#17BECF\",\"opacity\":0.8,\"symbol\":\"circle\",\"line\":{\"color\":\"black\",\"width\":2},\"size\":12},\"mode\":\"markers\",\"name\":\"Tottenham\",\"orientation\":\"v\",\"showlegend\":true,\"x\":[0.8],\"xaxis\":\"x\",\"y\":[1.4],\"yaxis\":\"y\",\"type\":\"scatter\"},{\"hovertemplate\":\"Team=Liverpool<br>Matches played=5<br>Average goals scored last five games=%{x}<br>Average goals conceded last five games=%{y}<extra></extra>\",\"legendgroup\":\"Liverpool\",\"marker\":{\"color\":\"#1F77B4\",\"opacity\":0.8,\"symbol\":\"circle\",\"line\":{\"color\":\"black\",\"width\":2},\"size\":12},\"mode\":\"markers\",\"name\":\"Liverpool\",\"orientation\":\"v\",\"showlegend\":true,\"x\":[2.0],\"xaxis\":\"x\",\"y\":[1.0],\"yaxis\":\"y\",\"type\":\"scatter\"},{\"hovertemplate\":\"Team=Aston Villa<br>Matches played=5<br>Average goals scored last five games=%{x}<br>Average goals conceded last five games=%{y}<extra></extra>\",\"legendgroup\":\"Aston Villa\",\"marker\":{\"color\":\"#FF7F0E\",\"opacity\":0.8,\"symbol\":\"circle\",\"line\":{\"color\":\"black\",\"width\":2},\"size\":12},\"mode\":\"markers\",\"name\":\"Aston Villa\",\"orientation\":\"v\",\"showlegend\":true,\"x\":[1.8],\"xaxis\":\"x\",\"y\":[1.6],\"yaxis\":\"y\",\"type\":\"scatter\"},{\"hovertemplate\":\"Team=Crystal Palace<br>Matches played=5<br>Average goals scored last five games=%{x}<br>Average goals conceded last five games=%{y}<extra></extra>\",\"legendgroup\":\"Crystal Palace\",\"marker\":{\"color\":\"#2CA02C\",\"opacity\":0.8,\"symbol\":\"circle\",\"line\":{\"color\":\"black\",\"width\":2},\"size\":12},\"mode\":\"markers\",\"name\":\"Crystal Palace\",\"orientation\":\"v\",\"showlegend\":true,\"x\":[1.4],\"xaxis\":\"x\",\"y\":[0.8],\"yaxis\":\"y\",\"type\":\"scatter\"},{\"hovertemplate\":\"Team=Leeds<br>Matches played=5<br>Average goals scored last five games=%{x}<br>Average goals conceded last five games=%{y}<extra></extra>\",\"legendgroup\":\"Leeds\",\"marker\":{\"color\":\"#D62728\",\"opacity\":0.8,\"symbol\":\"circle\",\"line\":{\"color\":\"black\",\"width\":2},\"size\":12},\"mode\":\"markers\",\"name\":\"Leeds\",\"orientation\":\"v\",\"showlegend\":true,\"x\":[1.0],\"xaxis\":\"x\",\"y\":[1.6],\"yaxis\":\"y\",\"type\":\"scatter\"},{\"hovertemplate\":\"Team=Man City<br>Matches played=5<br>Average goals scored last five games=%{x}<br>Average goals conceded last five games=%{y}<extra></extra>\",\"legendgroup\":\"Man City\",\"marker\":{\"color\":\"#9467BD\",\"opacity\":0.8,\"symbol\":\"circle\",\"line\":{\"color\":\"black\",\"width\":2},\"size\":12},\"mode\":\"markers\",\"name\":\"Man City\",\"orientation\":\"v\",\"showlegend\":true,\"x\":[2.4],\"xaxis\":\"x\",\"y\":[0.4],\"yaxis\":\"y\",\"type\":\"scatter\"},{\"hovertemplate\":\"Team=Brighton<br>Matches played=5<br>Average goals scored last five games=%{x}<br>Average goals conceded last five games=%{y}<extra></extra>\",\"legendgroup\":\"Brighton\",\"marker\":{\"color\":\"#8C564B\",\"opacity\":0.8,\"symbol\":\"circle\",\"line\":{\"color\":\"black\",\"width\":2},\"size\":12},\"mode\":\"markers\",\"name\":\"Brighton\",\"orientation\":\"v\",\"showlegend\":true,\"x\":[1.0],\"xaxis\":\"x\",\"y\":[1.4],\"yaxis\":\"y\",\"type\":\"scatter\"},{\"hovertemplate\":\"Team=Southampton<br>Matches played=5<br>Average goals scored last five games=%{x}<br>Average goals conceded last five games=%{y}<extra></extra>\",\"legendgroup\":\"Southampton\",\"marker\":{\"color\":\"#E377C2\",\"opacity\":0.8,\"symbol\":\"circle\",\"line\":{\"color\":\"black\",\"width\":2},\"size\":12},\"mode\":\"markers\",\"name\":\"Southampton\",\"orientation\":\"v\",\"showlegend\":true,\"x\":[0.8],\"xaxis\":\"x\",\"y\":[0.8],\"yaxis\":\"y\",\"type\":\"scatter\"},{\"hovertemplate\":\"Team=Wolves<br>Matches played=5<br>Average goals scored last five games=%{x}<br>Average goals conceded last five games=%{y}<extra></extra>\",\"legendgroup\":\"Wolves\",\"marker\":{\"color\":\"#7F7F7F\",\"opacity\":0.8,\"symbol\":\"circle\",\"line\":{\"color\":\"black\",\"width\":2},\"size\":12},\"mode\":\"markers\",\"name\":\"Wolves\",\"orientation\":\"v\",\"showlegend\":true,\"x\":[0.8],\"xaxis\":\"x\",\"y\":[1.2],\"yaxis\":\"y\",\"type\":\"scatter\"},{\"hovertemplate\":\"Team=Arsenal<br>Matches played=5<br>Average goals scored last five games=%{x}<br>Average goals conceded last five games=%{y}<extra></extra>\",\"legendgroup\":\"Arsenal\",\"marker\":{\"color\":\"#BCBD22\",\"opacity\":0.8,\"symbol\":\"circle\",\"line\":{\"color\":\"black\",\"width\":2},\"size\":12},\"mode\":\"markers\",\"name\":\"Arsenal\",\"orientation\":\"v\",\"showlegend\":true,\"x\":[1.8],\"xaxis\":\"x\",\"y\":[1.2],\"yaxis\":\"y\",\"type\":\"scatter\"},{\"hovertemplate\":\"Team=West Ham<br>Matches played=5<br>Average goals scored last five games=%{x}<br>Average goals conceded last five games=%{y}<extra></extra>\",\"legendgroup\":\"West Ham\",\"marker\":{\"color\":\"#17BECF\",\"opacity\":0.8,\"symbol\":\"circle\",\"line\":{\"color\":\"black\",\"width\":2},\"size\":12},\"mode\":\"markers\",\"name\":\"West Ham\",\"orientation\":\"v\",\"showlegend\":true,\"x\":[1.8],\"xaxis\":\"x\",\"y\":[1.4],\"yaxis\":\"y\",\"type\":\"scatter\"}],                        {\"template\":{\"data\":{\"barpolar\":[{\"marker\":{\"line\":{\"color\":\"white\",\"width\":0.5},\"pattern\":{\"fillmode\":\"overlay\",\"size\":10,\"solidity\":0.2}},\"type\":\"barpolar\"}],\"bar\":[{\"error_x\":{\"color\":\"rgb(36,36,36)\"},\"error_y\":{\"color\":\"rgb(36,36,36)\"},\"marker\":{\"line\":{\"color\":\"white\",\"width\":0.5},\"pattern\":{\"fillmode\":\"overlay\",\"size\":10,\"solidity\":0.2}},\"type\":\"bar\"}],\"carpet\":[{\"aaxis\":{\"endlinecolor\":\"rgb(36,36,36)\",\"gridcolor\":\"white\",\"linecolor\":\"white\",\"minorgridcolor\":\"white\",\"startlinecolor\":\"rgb(36,36,36)\"},\"baxis\":{\"endlinecolor\":\"rgb(36,36,36)\",\"gridcolor\":\"white\",\"linecolor\":\"white\",\"minorgridcolor\":\"white\",\"startlinecolor\":\"rgb(36,36,36)\"},\"type\":\"carpet\"}],\"choropleth\":[{\"colorbar\":{\"outlinewidth\":1,\"tickcolor\":\"rgb(36,36,36)\",\"ticks\":\"outside\"},\"type\":\"choropleth\"}],\"contourcarpet\":[{\"colorbar\":{\"outlinewidth\":1,\"tickcolor\":\"rgb(36,36,36)\",\"ticks\":\"outside\"},\"type\":\"contourcarpet\"}],\"contour\":[{\"colorbar\":{\"outlinewidth\":1,\"tickcolor\":\"rgb(36,36,36)\",\"ticks\":\"outside\"},\"colorscale\":[[0.0,\"#440154\"],[0.1111111111111111,\"#482878\"],[0.2222222222222222,\"#3e4989\"],[0.3333333333333333,\"#31688e\"],[0.4444444444444444,\"#26828e\"],[0.5555555555555556,\"#1f9e89\"],[0.6666666666666666,\"#35b779\"],[0.7777777777777778,\"#6ece58\"],[0.8888888888888888,\"#b5de2b\"],[1.0,\"#fde725\"]],\"type\":\"contour\"}],\"heatmapgl\":[{\"colorbar\":{\"outlinewidth\":1,\"tickcolor\":\"rgb(36,36,36)\",\"ticks\":\"outside\"},\"colorscale\":[[0.0,\"#440154\"],[0.1111111111111111,\"#482878\"],[0.2222222222222222,\"#3e4989\"],[0.3333333333333333,\"#31688e\"],[0.4444444444444444,\"#26828e\"],[0.5555555555555556,\"#1f9e89\"],[0.6666666666666666,\"#35b779\"],[0.7777777777777778,\"#6ece58\"],[0.8888888888888888,\"#b5de2b\"],[1.0,\"#fde725\"]],\"type\":\"heatmapgl\"}],\"heatmap\":[{\"colorbar\":{\"outlinewidth\":1,\"tickcolor\":\"rgb(36,36,36)\",\"ticks\":\"outside\"},\"colorscale\":[[0.0,\"#440154\"],[0.1111111111111111,\"#482878\"],[0.2222222222222222,\"#3e4989\"],[0.3333333333333333,\"#31688e\"],[0.4444444444444444,\"#26828e\"],[0.5555555555555556,\"#1f9e89\"],[0.6666666666666666,\"#35b779\"],[0.7777777777777778,\"#6ece58\"],[0.8888888888888888,\"#b5de2b\"],[1.0,\"#fde725\"]],\"type\":\"heatmap\"}],\"histogram2dcontour\":[{\"colorbar\":{\"outlinewidth\":1,\"tickcolor\":\"rgb(36,36,36)\",\"ticks\":\"outside\"},\"colorscale\":[[0.0,\"#440154\"],[0.1111111111111111,\"#482878\"],[0.2222222222222222,\"#3e4989\"],[0.3333333333333333,\"#31688e\"],[0.4444444444444444,\"#26828e\"],[0.5555555555555556,\"#1f9e89\"],[0.6666666666666666,\"#35b779\"],[0.7777777777777778,\"#6ece58\"],[0.8888888888888888,\"#b5de2b\"],[1.0,\"#fde725\"]],\"type\":\"histogram2dcontour\"}],\"histogram2d\":[{\"colorbar\":{\"outlinewidth\":1,\"tickcolor\":\"rgb(36,36,36)\",\"ticks\":\"outside\"},\"colorscale\":[[0.0,\"#440154\"],[0.1111111111111111,\"#482878\"],[0.2222222222222222,\"#3e4989\"],[0.3333333333333333,\"#31688e\"],[0.4444444444444444,\"#26828e\"],[0.5555555555555556,\"#1f9e89\"],[0.6666666666666666,\"#35b779\"],[0.7777777777777778,\"#6ece58\"],[0.8888888888888888,\"#b5de2b\"],[1.0,\"#fde725\"]],\"type\":\"histogram2d\"}],\"histogram\":[{\"marker\":{\"line\":{\"color\":\"white\",\"width\":0.6}},\"type\":\"histogram\"}],\"mesh3d\":[{\"colorbar\":{\"outlinewidth\":1,\"tickcolor\":\"rgb(36,36,36)\",\"ticks\":\"outside\"},\"type\":\"mesh3d\"}],\"parcoords\":[{\"line\":{\"colorbar\":{\"outlinewidth\":1,\"tickcolor\":\"rgb(36,36,36)\",\"ticks\":\"outside\"}},\"type\":\"parcoords\"}],\"pie\":[{\"automargin\":true,\"type\":\"pie\"}],\"scatter3d\":[{\"line\":{\"colorbar\":{\"outlinewidth\":1,\"tickcolor\":\"rgb(36,36,36)\",\"ticks\":\"outside\"}},\"marker\":{\"colorbar\":{\"outlinewidth\":1,\"tickcolor\":\"rgb(36,36,36)\",\"ticks\":\"outside\"}},\"type\":\"scatter3d\"}],\"scattercarpet\":[{\"marker\":{\"colorbar\":{\"outlinewidth\":1,\"tickcolor\":\"rgb(36,36,36)\",\"ticks\":\"outside\"}},\"type\":\"scattercarpet\"}],\"scattergeo\":[{\"marker\":{\"colorbar\":{\"outlinewidth\":1,\"tickcolor\":\"rgb(36,36,36)\",\"ticks\":\"outside\"}},\"type\":\"scattergeo\"}],\"scattergl\":[{\"marker\":{\"colorbar\":{\"outlinewidth\":1,\"tickcolor\":\"rgb(36,36,36)\",\"ticks\":\"outside\"}},\"type\":\"scattergl\"}],\"scattermapbox\":[{\"marker\":{\"colorbar\":{\"outlinewidth\":1,\"tickcolor\":\"rgb(36,36,36)\",\"ticks\":\"outside\"}},\"type\":\"scattermapbox\"}],\"scatterpolargl\":[{\"marker\":{\"colorbar\":{\"outlinewidth\":1,\"tickcolor\":\"rgb(36,36,36)\",\"ticks\":\"outside\"}},\"type\":\"scatterpolargl\"}],\"scatterpolar\":[{\"marker\":{\"colorbar\":{\"outlinewidth\":1,\"tickcolor\":\"rgb(36,36,36)\",\"ticks\":\"outside\"}},\"type\":\"scatterpolar\"}],\"scatter\":[{\"fillpattern\":{\"fillmode\":\"overlay\",\"size\":10,\"solidity\":0.2},\"type\":\"scatter\"}],\"scatterternary\":[{\"marker\":{\"colorbar\":{\"outlinewidth\":1,\"tickcolor\":\"rgb(36,36,36)\",\"ticks\":\"outside\"}},\"type\":\"scatterternary\"}],\"surface\":[{\"colorbar\":{\"outlinewidth\":1,\"tickcolor\":\"rgb(36,36,36)\",\"ticks\":\"outside\"},\"colorscale\":[[0.0,\"#440154\"],[0.1111111111111111,\"#482878\"],[0.2222222222222222,\"#3e4989\"],[0.3333333333333333,\"#31688e\"],[0.4444444444444444,\"#26828e\"],[0.5555555555555556,\"#1f9e89\"],[0.6666666666666666,\"#35b779\"],[0.7777777777777778,\"#6ece58\"],[0.8888888888888888,\"#b5de2b\"],[1.0,\"#fde725\"]],\"type\":\"surface\"}],\"table\":[{\"cells\":{\"fill\":{\"color\":\"rgb(237,237,237)\"},\"line\":{\"color\":\"white\"}},\"header\":{\"fill\":{\"color\":\"rgb(217,217,217)\"},\"line\":{\"color\":\"white\"}},\"type\":\"table\"}]},\"layout\":{\"annotationdefaults\":{\"arrowhead\":0,\"arrowwidth\":1},\"autotypenumbers\":\"strict\",\"coloraxis\":{\"colorbar\":{\"outlinewidth\":1,\"tickcolor\":\"rgb(36,36,36)\",\"ticks\":\"outside\"}},\"colorscale\":{\"diverging\":[[0.0,\"rgb(103,0,31)\"],[0.1,\"rgb(178,24,43)\"],[0.2,\"rgb(214,96,77)\"],[0.3,\"rgb(244,165,130)\"],[0.4,\"rgb(253,219,199)\"],[0.5,\"rgb(247,247,247)\"],[0.6,\"rgb(209,229,240)\"],[0.7,\"rgb(146,197,222)\"],[0.8,\"rgb(67,147,195)\"],[0.9,\"rgb(33,102,172)\"],[1.0,\"rgb(5,48,97)\"]],\"sequential\":[[0.0,\"#440154\"],[0.1111111111111111,\"#482878\"],[0.2222222222222222,\"#3e4989\"],[0.3333333333333333,\"#31688e\"],[0.4444444444444444,\"#26828e\"],[0.5555555555555556,\"#1f9e89\"],[0.6666666666666666,\"#35b779\"],[0.7777777777777778,\"#6ece58\"],[0.8888888888888888,\"#b5de2b\"],[1.0,\"#fde725\"]],\"sequentialminus\":[[0.0,\"#440154\"],[0.1111111111111111,\"#482878\"],[0.2222222222222222,\"#3e4989\"],[0.3333333333333333,\"#31688e\"],[0.4444444444444444,\"#26828e\"],[0.5555555555555556,\"#1f9e89\"],[0.6666666666666666,\"#35b779\"],[0.7777777777777778,\"#6ece58\"],[0.8888888888888888,\"#b5de2b\"],[1.0,\"#fde725\"]]},\"colorway\":[\"#1F77B4\",\"#FF7F0E\",\"#2CA02C\",\"#D62728\",\"#9467BD\",\"#8C564B\",\"#E377C2\",\"#7F7F7F\",\"#BCBD22\",\"#17BECF\"],\"font\":{\"color\":\"rgb(36,36,36)\"},\"geo\":{\"bgcolor\":\"white\",\"lakecolor\":\"white\",\"landcolor\":\"white\",\"showlakes\":true,\"showland\":true,\"subunitcolor\":\"white\"},\"hoverlabel\":{\"align\":\"left\"},\"hovermode\":\"closest\",\"mapbox\":{\"style\":\"light\"},\"paper_bgcolor\":\"white\",\"plot_bgcolor\":\"white\",\"polar\":{\"angularaxis\":{\"gridcolor\":\"rgb(232,232,232)\",\"linecolor\":\"rgb(36,36,36)\",\"showgrid\":false,\"showline\":true,\"ticks\":\"outside\"},\"bgcolor\":\"white\",\"radialaxis\":{\"gridcolor\":\"rgb(232,232,232)\",\"linecolor\":\"rgb(36,36,36)\",\"showgrid\":false,\"showline\":true,\"ticks\":\"outside\"}},\"scene\":{\"xaxis\":{\"backgroundcolor\":\"white\",\"gridcolor\":\"rgb(232,232,232)\",\"gridwidth\":2,\"linecolor\":\"rgb(36,36,36)\",\"showbackground\":true,\"showgrid\":false,\"showline\":true,\"ticks\":\"outside\",\"zeroline\":false,\"zerolinecolor\":\"rgb(36,36,36)\"},\"yaxis\":{\"backgroundcolor\":\"white\",\"gridcolor\":\"rgb(232,232,232)\",\"gridwidth\":2,\"linecolor\":\"rgb(36,36,36)\",\"showbackground\":true,\"showgrid\":false,\"showline\":true,\"ticks\":\"outside\",\"zeroline\":false,\"zerolinecolor\":\"rgb(36,36,36)\"},\"zaxis\":{\"backgroundcolor\":\"white\",\"gridcolor\":\"rgb(232,232,232)\",\"gridwidth\":2,\"linecolor\":\"rgb(36,36,36)\",\"showbackground\":true,\"showgrid\":false,\"showline\":true,\"ticks\":\"outside\",\"zeroline\":false,\"zerolinecolor\":\"rgb(36,36,36)\"}},\"shapedefaults\":{\"fillcolor\":\"black\",\"line\":{\"width\":0},\"opacity\":0.3},\"ternary\":{\"aaxis\":{\"gridcolor\":\"rgb(232,232,232)\",\"linecolor\":\"rgb(36,36,36)\",\"showgrid\":false,\"showline\":true,\"ticks\":\"outside\"},\"baxis\":{\"gridcolor\":\"rgb(232,232,232)\",\"linecolor\":\"rgb(36,36,36)\",\"showgrid\":false,\"showline\":true,\"ticks\":\"outside\"},\"bgcolor\":\"white\",\"caxis\":{\"gridcolor\":\"rgb(232,232,232)\",\"linecolor\":\"rgb(36,36,36)\",\"showgrid\":false,\"showline\":true,\"ticks\":\"outside\"}},\"title\":{\"x\":0.05},\"xaxis\":{\"automargin\":true,\"gridcolor\":\"rgb(232,232,232)\",\"linecolor\":\"rgb(36,36,36)\",\"showgrid\":false,\"showline\":true,\"ticks\":\"outside\",\"title\":{\"standoff\":15},\"zeroline\":false,\"zerolinecolor\":\"rgb(36,36,36)\"},\"yaxis\":{\"automargin\":true,\"gridcolor\":\"rgb(232,232,232)\",\"linecolor\":\"rgb(36,36,36)\",\"showgrid\":false,\"showline\":true,\"ticks\":\"outside\",\"title\":{\"standoff\":15},\"zeroline\":false,\"zerolinecolor\":\"rgb(36,36,36)\"}}},\"xaxis\":{\"anchor\":\"y\",\"domain\":[0.0,1.0],\"title\":{\"text\":\"Average goals scored last five games\"},\"range\":[0,5]},\"yaxis\":{\"anchor\":\"x\",\"domain\":[0.0,1.0],\"title\":{\"text\":\"Average goals conceded last five games\"},\"range\":[0,5]},\"legend\":{\"title\":{},\"tracegroupgap\":0},\"title\":{\"text\":\"<b>Premier League 2021-22: 5-game rolling average of goals<br>for and against by team\"},\"height\":600,\"width\":700,\"updatemenus\":[{\"buttons\":[{\"args\":[null,{\"frame\":{\"duration\":500,\"redraw\":false},\"mode\":\"immediate\",\"fromcurrent\":true,\"transition\":{\"duration\":500,\"easing\":\"linear\"}}],\"label\":\"&#9654;\",\"method\":\"animate\"},{\"args\":[[null],{\"frame\":{\"duration\":0,\"redraw\":false},\"mode\":\"immediate\",\"fromcurrent\":true,\"transition\":{\"duration\":0,\"easing\":\"linear\"}}],\"label\":\"&#9724;\",\"method\":\"animate\"}],\"direction\":\"left\",\"pad\":{\"r\":10,\"t\":70},\"showactive\":false,\"type\":\"buttons\",\"x\":0.1,\"xanchor\":\"right\",\"y\":0,\"yanchor\":\"top\"}],\"sliders\":[{\"active\":0,\"currentvalue\":{\"prefix\":\"Matches played=\"},\"len\":0.9,\"pad\":{\"b\":10,\"t\":60},\"steps\":[{\"args\":[[\"5\"],{\"frame\":{\"duration\":0,\"redraw\":false},\"mode\":\"immediate\",\"fromcurrent\":true,\"transition\":{\"duration\":0,\"easing\":\"linear\"}}],\"label\":\"5\",\"method\":\"animate\"},{\"args\":[[\"6\"],{\"frame\":{\"duration\":0,\"redraw\":false},\"mode\":\"immediate\",\"fromcurrent\":true,\"transition\":{\"duration\":0,\"easing\":\"linear\"}}],\"label\":\"6\",\"method\":\"animate\"},{\"args\":[[\"7\"],{\"frame\":{\"duration\":0,\"redraw\":false},\"mode\":\"immediate\",\"fromcurrent\":true,\"transition\":{\"duration\":0,\"easing\":\"linear\"}}],\"label\":\"7\",\"method\":\"animate\"},{\"args\":[[\"8\"],{\"frame\":{\"duration\":0,\"redraw\":false},\"mode\":\"immediate\",\"fromcurrent\":true,\"transition\":{\"duration\":0,\"easing\":\"linear\"}}],\"label\":\"8\",\"method\":\"animate\"},{\"args\":[[\"9\"],{\"frame\":{\"duration\":0,\"redraw\":false},\"mode\":\"immediate\",\"fromcurrent\":true,\"transition\":{\"duration\":0,\"easing\":\"linear\"}}],\"label\":\"9\",\"method\":\"animate\"},{\"args\":[[\"10\"],{\"frame\":{\"duration\":0,\"redraw\":false},\"mode\":\"immediate\",\"fromcurrent\":true,\"transition\":{\"duration\":0,\"easing\":\"linear\"}}],\"label\":\"10\",\"method\":\"animate\"},{\"args\":[[\"11\"],{\"frame\":{\"duration\":0,\"redraw\":false},\"mode\":\"immediate\",\"fromcurrent\":true,\"transition\":{\"duration\":0,\"easing\":\"linear\"}}],\"label\":\"11\",\"method\":\"animate\"},{\"args\":[[\"12\"],{\"frame\":{\"duration\":0,\"redraw\":false},\"mode\":\"immediate\",\"fromcurrent\":true,\"transition\":{\"duration\":0,\"easing\":\"linear\"}}],\"label\":\"12\",\"method\":\"animate\"},{\"args\":[[\"13\"],{\"frame\":{\"duration\":0,\"redraw\":false},\"mode\":\"immediate\",\"fromcurrent\":true,\"transition\":{\"duration\":0,\"easing\":\"linear\"}}],\"label\":\"13\",\"method\":\"animate\"},{\"args\":[[\"14\"],{\"frame\":{\"duration\":0,\"redraw\":false},\"mode\":\"immediate\",\"fromcurrent\":true,\"transition\":{\"duration\":0,\"easing\":\"linear\"}}],\"label\":\"14\",\"method\":\"animate\"},{\"args\":[[\"15\"],{\"frame\":{\"duration\":0,\"redraw\":false},\"mode\":\"immediate\",\"fromcurrent\":true,\"transition\":{\"duration\":0,\"easing\":\"linear\"}}],\"label\":\"15\",\"method\":\"animate\"},{\"args\":[[\"16\"],{\"frame\":{\"duration\":0,\"redraw\":false},\"mode\":\"immediate\",\"fromcurrent\":true,\"transition\":{\"duration\":0,\"easing\":\"linear\"}}],\"label\":\"16\",\"method\":\"animate\"},{\"args\":[[\"17\"],{\"frame\":{\"duration\":0,\"redraw\":false},\"mode\":\"immediate\",\"fromcurrent\":true,\"transition\":{\"duration\":0,\"easing\":\"linear\"}}],\"label\":\"17\",\"method\":\"animate\"},{\"args\":[[\"18\"],{\"frame\":{\"duration\":0,\"redraw\":false},\"mode\":\"immediate\",\"fromcurrent\":true,\"transition\":{\"duration\":0,\"easing\":\"linear\"}}],\"label\":\"18\",\"method\":\"animate\"},{\"args\":[[\"19\"],{\"frame\":{\"duration\":0,\"redraw\":false},\"mode\":\"immediate\",\"fromcurrent\":true,\"transition\":{\"duration\":0,\"easing\":\"linear\"}}],\"label\":\"19\",\"method\":\"animate\"},{\"args\":[[\"20\"],{\"frame\":{\"duration\":0,\"redraw\":false},\"mode\":\"immediate\",\"fromcurrent\":true,\"transition\":{\"duration\":0,\"easing\":\"linear\"}}],\"label\":\"20\",\"method\":\"animate\"},{\"args\":[[\"21\"],{\"frame\":{\"duration\":0,\"redraw\":false},\"mode\":\"immediate\",\"fromcurrent\":true,\"transition\":{\"duration\":0,\"easing\":\"linear\"}}],\"label\":\"21\",\"method\":\"animate\"},{\"args\":[[\"22\"],{\"frame\":{\"duration\":0,\"redraw\":false},\"mode\":\"immediate\",\"fromcurrent\":true,\"transition\":{\"duration\":0,\"easing\":\"linear\"}}],\"label\":\"22\",\"method\":\"animate\"},{\"args\":[[\"23\"],{\"frame\":{\"duration\":0,\"redraw\":false},\"mode\":\"immediate\",\"fromcurrent\":true,\"transition\":{\"duration\":0,\"easing\":\"linear\"}}],\"label\":\"23\",\"method\":\"animate\"},{\"args\":[[\"24\"],{\"frame\":{\"duration\":0,\"redraw\":false},\"mode\":\"immediate\",\"fromcurrent\":true,\"transition\":{\"duration\":0,\"easing\":\"linear\"}}],\"label\":\"24\",\"method\":\"animate\"},{\"args\":[[\"25\"],{\"frame\":{\"duration\":0,\"redraw\":false},\"mode\":\"immediate\",\"fromcurrent\":true,\"transition\":{\"duration\":0,\"easing\":\"linear\"}}],\"label\":\"25\",\"method\":\"animate\"},{\"args\":[[\"26\"],{\"frame\":{\"duration\":0,\"redraw\":false},\"mode\":\"immediate\",\"fromcurrent\":true,\"transition\":{\"duration\":0,\"easing\":\"linear\"}}],\"label\":\"26\",\"method\":\"animate\"},{\"args\":[[\"27\"],{\"frame\":{\"duration\":0,\"redraw\":false},\"mode\":\"immediate\",\"fromcurrent\":true,\"transition\":{\"duration\":0,\"easing\":\"linear\"}}],\"label\":\"27\",\"method\":\"animate\"},{\"args\":[[\"28\"],{\"frame\":{\"duration\":0,\"redraw\":false},\"mode\":\"immediate\",\"fromcurrent\":true,\"transition\":{\"duration\":0,\"easing\":\"linear\"}}],\"label\":\"28\",\"method\":\"animate\"},{\"args\":[[\"29\"],{\"frame\":{\"duration\":0,\"redraw\":false},\"mode\":\"immediate\",\"fromcurrent\":true,\"transition\":{\"duration\":0,\"easing\":\"linear\"}}],\"label\":\"29\",\"method\":\"animate\"},{\"args\":[[\"30\"],{\"frame\":{\"duration\":0,\"redraw\":false},\"mode\":\"immediate\",\"fromcurrent\":true,\"transition\":{\"duration\":0,\"easing\":\"linear\"}}],\"label\":\"30\",\"method\":\"animate\"},{\"args\":[[\"31\"],{\"frame\":{\"duration\":0,\"redraw\":false},\"mode\":\"immediate\",\"fromcurrent\":true,\"transition\":{\"duration\":0,\"easing\":\"linear\"}}],\"label\":\"31\",\"method\":\"animate\"},{\"args\":[[\"32\"],{\"frame\":{\"duration\":0,\"redraw\":false},\"mode\":\"immediate\",\"fromcurrent\":true,\"transition\":{\"duration\":0,\"easing\":\"linear\"}}],\"label\":\"32\",\"method\":\"animate\"},{\"args\":[[\"33\"],{\"frame\":{\"duration\":0,\"redraw\":false},\"mode\":\"immediate\",\"fromcurrent\":true,\"transition\":{\"duration\":0,\"easing\":\"linear\"}}],\"label\":\"33\",\"method\":\"animate\"},{\"args\":[[\"34\"],{\"frame\":{\"duration\":0,\"redraw\":false},\"mode\":\"immediate\",\"fromcurrent\":true,\"transition\":{\"duration\":0,\"easing\":\"linear\"}}],\"label\":\"34\",\"method\":\"animate\"},{\"args\":[[\"35\"],{\"frame\":{\"duration\":0,\"redraw\":false},\"mode\":\"immediate\",\"fromcurrent\":true,\"transition\":{\"duration\":0,\"easing\":\"linear\"}}],\"label\":\"35\",\"method\":\"animate\"},{\"args\":[[\"36\"],{\"frame\":{\"duration\":0,\"redraw\":false},\"mode\":\"immediate\",\"fromcurrent\":true,\"transition\":{\"duration\":0,\"easing\":\"linear\"}}],\"label\":\"36\",\"method\":\"animate\"},{\"args\":[[\"37\"],{\"frame\":{\"duration\":0,\"redraw\":false},\"mode\":\"immediate\",\"fromcurrent\":true,\"transition\":{\"duration\":0,\"easing\":\"linear\"}}],\"label\":\"37\",\"method\":\"animate\"},{\"args\":[[\"38\"],{\"frame\":{\"duration\":0,\"redraw\":false},\"mode\":\"immediate\",\"fromcurrent\":true,\"transition\":{\"duration\":0,\"easing\":\"linear\"}}],\"label\":\"38\",\"method\":\"animate\"}],\"x\":0.1,\"xanchor\":\"left\",\"y\":0,\"yanchor\":\"top\"}],\"font\":{\"family\":\"Courier New\",\"color\":\"black\",\"size\":12}},                        {\"responsive\": true}                    ).then(function(){\n",
       "                            Plotly.addFrames('0f1d918e-c5f4-454b-a02d-5347bfd68709', [{\"data\":[{\"hovertemplate\":\"Team=Brentford<br>Matches played=5<br>Average goals scored last five games=%{x}<br>Average goals conceded last five games=%{y}<extra></extra>\",\"legendgroup\":\"Brentford\",\"marker\":{\"color\":\"#1F77B4\",\"opacity\":0.8,\"symbol\":\"circle\"},\"mode\":\"markers\",\"name\":\"Brentford\",\"orientation\":\"v\",\"showlegend\":true,\"x\":[1.2],\"xaxis\":\"x\",\"y\":[1.4],\"yaxis\":\"y\",\"type\":\"scatter\"},{\"hovertemplate\":\"Team=Man United<br>Matches played=5<br>Average goals scored last five games=%{x}<br>Average goals conceded last five games=%{y}<extra></extra>\",\"legendgroup\":\"Man United\",\"marker\":{\"color\":\"#FF7F0E\",\"opacity\":0.8,\"symbol\":\"circle\"},\"mode\":\"markers\",\"name\":\"Man United\",\"orientation\":\"v\",\"showlegend\":true,\"x\":[2.0],\"xaxis\":\"x\",\"y\":[1.8],\"yaxis\":\"y\",\"type\":\"scatter\"},{\"hovertemplate\":\"Team=Burnley<br>Matches played=5<br>Average goals scored last five games=%{x}<br>Average goals conceded last five games=%{y}<extra></extra>\",\"legendgroup\":\"Burnley\",\"marker\":{\"color\":\"#2CA02C\",\"opacity\":0.8,\"symbol\":\"circle\"},\"mode\":\"markers\",\"name\":\"Burnley\",\"orientation\":\"v\",\"showlegend\":true,\"x\":[1.0],\"xaxis\":\"x\",\"y\":[1.0],\"yaxis\":\"y\",\"type\":\"scatter\"},{\"hovertemplate\":\"Team=Chelsea<br>Matches played=5<br>Average goals scored last five games=%{x}<br>Average goals conceded last five games=%{y}<extra></extra>\",\"legendgroup\":\"Chelsea\",\"marker\":{\"color\":\"#D62728\",\"opacity\":0.8,\"symbol\":\"circle\"},\"mode\":\"markers\",\"name\":\"Chelsea\",\"orientation\":\"v\",\"showlegend\":true,\"x\":[3.2],\"xaxis\":\"x\",\"y\":[0.4],\"yaxis\":\"y\",\"type\":\"scatter\"},{\"hovertemplate\":\"Team=Everton<br>Matches played=5<br>Average goals scored last five games=%{x}<br>Average goals conceded last five games=%{y}<extra></extra>\",\"legendgroup\":\"Everton\",\"marker\":{\"color\":\"#9467BD\",\"opacity\":0.8,\"symbol\":\"circle\"},\"mode\":\"markers\",\"name\":\"Everton\",\"orientation\":\"v\",\"showlegend\":true,\"x\":[2.0],\"xaxis\":\"x\",\"y\":[1.6],\"yaxis\":\"y\",\"type\":\"scatter\"},{\"hovertemplate\":\"Team=Leicester<br>Matches played=5<br>Average goals scored last five games=%{x}<br>Average goals conceded last five games=%{y}<extra></extra>\",\"legendgroup\":\"Leicester\",\"marker\":{\"color\":\"#8C564B\",\"opacity\":0.8,\"symbol\":\"circle\"},\"mode\":\"markers\",\"name\":\"Leicester\",\"orientation\":\"v\",\"showlegend\":true,\"x\":[1.4],\"xaxis\":\"x\",\"y\":[1.4],\"yaxis\":\"y\",\"type\":\"scatter\"},{\"hovertemplate\":\"Team=Watford<br>Matches played=5<br>Average goals scored last five games=%{x}<br>Average goals conceded last five games=%{y}<extra></extra>\",\"legendgroup\":\"Watford\",\"marker\":{\"color\":\"#E377C2\",\"opacity\":0.8,\"symbol\":\"circle\"},\"mode\":\"markers\",\"name\":\"Watford\",\"orientation\":\"v\",\"showlegend\":true,\"x\":[0.8],\"xaxis\":\"x\",\"y\":[2.2],\"yaxis\":\"y\",\"type\":\"scatter\"},{\"hovertemplate\":\"Team=Norwich<br>Matches played=5<br>Average goals scored last five games=%{x}<br>Average goals conceded last five games=%{y}<extra></extra>\",\"legendgroup\":\"Norwich\",\"marker\":{\"color\":\"#7F7F7F\",\"opacity\":0.8,\"symbol\":\"circle\"},\"mode\":\"markers\",\"name\":\"Norwich\",\"orientation\":\"v\",\"showlegend\":true,\"x\":[0.6],\"xaxis\":\"x\",\"y\":[2.0],\"yaxis\":\"y\",\"type\":\"scatter\"},{\"hovertemplate\":\"Team=Newcastle<br>Matches played=5<br>Average goals scored last five games=%{x}<br>Average goals conceded last five games=%{y}<extra></extra>\",\"legendgroup\":\"Newcastle\",\"marker\":{\"color\":\"#BCBD22\",\"opacity\":0.8,\"symbol\":\"circle\"},\"mode\":\"markers\",\"name\":\"Newcastle\",\"orientation\":\"v\",\"showlegend\":true,\"x\":[1.4],\"xaxis\":\"x\",\"y\":[2.6],\"yaxis\":\"y\",\"type\":\"scatter\"},{\"hovertemplate\":\"Team=Tottenham<br>Matches played=5<br>Average goals scored last five games=%{x}<br>Average goals conceded last five games=%{y}<extra></extra>\",\"legendgroup\":\"Tottenham\",\"marker\":{\"color\":\"#17BECF\",\"opacity\":0.8,\"symbol\":\"circle\"},\"mode\":\"markers\",\"name\":\"Tottenham\",\"orientation\":\"v\",\"showlegend\":true,\"x\":[0.8],\"xaxis\":\"x\",\"y\":[1.4],\"yaxis\":\"y\",\"type\":\"scatter\"},{\"hovertemplate\":\"Team=Liverpool<br>Matches played=5<br>Average goals scored last five games=%{x}<br>Average goals conceded last five games=%{y}<extra></extra>\",\"legendgroup\":\"Liverpool\",\"marker\":{\"color\":\"#1F77B4\",\"opacity\":0.8,\"symbol\":\"circle\"},\"mode\":\"markers\",\"name\":\"Liverpool\",\"orientation\":\"v\",\"showlegend\":true,\"x\":[2.0],\"xaxis\":\"x\",\"y\":[1.0],\"yaxis\":\"y\",\"type\":\"scatter\"},{\"hovertemplate\":\"Team=Aston Villa<br>Matches played=5<br>Average goals scored last five games=%{x}<br>Average goals conceded last five games=%{y}<extra></extra>\",\"legendgroup\":\"Aston Villa\",\"marker\":{\"color\":\"#FF7F0E\",\"opacity\":0.8,\"symbol\":\"circle\"},\"mode\":\"markers\",\"name\":\"Aston Villa\",\"orientation\":\"v\",\"showlegend\":true,\"x\":[1.8],\"xaxis\":\"x\",\"y\":[1.6],\"yaxis\":\"y\",\"type\":\"scatter\"},{\"hovertemplate\":\"Team=Crystal Palace<br>Matches played=5<br>Average goals scored last five games=%{x}<br>Average goals conceded last five games=%{y}<extra></extra>\",\"legendgroup\":\"Crystal Palace\",\"marker\":{\"color\":\"#2CA02C\",\"opacity\":0.8,\"symbol\":\"circle\"},\"mode\":\"markers\",\"name\":\"Crystal Palace\",\"orientation\":\"v\",\"showlegend\":true,\"x\":[1.4],\"xaxis\":\"x\",\"y\":[0.8],\"yaxis\":\"y\",\"type\":\"scatter\"},{\"hovertemplate\":\"Team=Leeds<br>Matches played=5<br>Average goals scored last five games=%{x}<br>Average goals conceded last five games=%{y}<extra></extra>\",\"legendgroup\":\"Leeds\",\"marker\":{\"color\":\"#D62728\",\"opacity\":0.8,\"symbol\":\"circle\"},\"mode\":\"markers\",\"name\":\"Leeds\",\"orientation\":\"v\",\"showlegend\":true,\"x\":[1.0],\"xaxis\":\"x\",\"y\":[1.6],\"yaxis\":\"y\",\"type\":\"scatter\"},{\"hovertemplate\":\"Team=Man City<br>Matches played=5<br>Average goals scored last five games=%{x}<br>Average goals conceded last five games=%{y}<extra></extra>\",\"legendgroup\":\"Man City\",\"marker\":{\"color\":\"#9467BD\",\"opacity\":0.8,\"symbol\":\"circle\"},\"mode\":\"markers\",\"name\":\"Man City\",\"orientation\":\"v\",\"showlegend\":true,\"x\":[2.4],\"xaxis\":\"x\",\"y\":[0.4],\"yaxis\":\"y\",\"type\":\"scatter\"},{\"hovertemplate\":\"Team=Brighton<br>Matches played=5<br>Average goals scored last five games=%{x}<br>Average goals conceded last five games=%{y}<extra></extra>\",\"legendgroup\":\"Brighton\",\"marker\":{\"color\":\"#8C564B\",\"opacity\":0.8,\"symbol\":\"circle\"},\"mode\":\"markers\",\"name\":\"Brighton\",\"orientation\":\"v\",\"showlegend\":true,\"x\":[1.0],\"xaxis\":\"x\",\"y\":[1.4],\"yaxis\":\"y\",\"type\":\"scatter\"},{\"hovertemplate\":\"Team=Southampton<br>Matches played=5<br>Average goals scored last five games=%{x}<br>Average goals conceded last five games=%{y}<extra></extra>\",\"legendgroup\":\"Southampton\",\"marker\":{\"color\":\"#E377C2\",\"opacity\":0.8,\"symbol\":\"circle\"},\"mode\":\"markers\",\"name\":\"Southampton\",\"orientation\":\"v\",\"showlegend\":true,\"x\":[0.8],\"xaxis\":\"x\",\"y\":[0.8],\"yaxis\":\"y\",\"type\":\"scatter\"},{\"hovertemplate\":\"Team=Wolves<br>Matches played=5<br>Average goals scored last five games=%{x}<br>Average goals conceded last five games=%{y}<extra></extra>\",\"legendgroup\":\"Wolves\",\"marker\":{\"color\":\"#7F7F7F\",\"opacity\":0.8,\"symbol\":\"circle\"},\"mode\":\"markers\",\"name\":\"Wolves\",\"orientation\":\"v\",\"showlegend\":true,\"x\":[0.8],\"xaxis\":\"x\",\"y\":[1.2],\"yaxis\":\"y\",\"type\":\"scatter\"},{\"hovertemplate\":\"Team=Arsenal<br>Matches played=5<br>Average goals scored last five games=%{x}<br>Average goals conceded last five games=%{y}<extra></extra>\",\"legendgroup\":\"Arsenal\",\"marker\":{\"color\":\"#BCBD22\",\"opacity\":0.8,\"symbol\":\"circle\"},\"mode\":\"markers\",\"name\":\"Arsenal\",\"orientation\":\"v\",\"showlegend\":true,\"x\":[1.8],\"xaxis\":\"x\",\"y\":[1.2],\"yaxis\":\"y\",\"type\":\"scatter\"},{\"hovertemplate\":\"Team=West Ham<br>Matches played=5<br>Average goals scored last five games=%{x}<br>Average goals conceded last five games=%{y}<extra></extra>\",\"legendgroup\":\"West Ham\",\"marker\":{\"color\":\"#17BECF\",\"opacity\":0.8,\"symbol\":\"circle\"},\"mode\":\"markers\",\"name\":\"West Ham\",\"orientation\":\"v\",\"showlegend\":true,\"x\":[1.8],\"xaxis\":\"x\",\"y\":[1.4],\"yaxis\":\"y\",\"type\":\"scatter\"}],\"name\":\"5\"},{\"data\":[{\"hovertemplate\":\"Team=Brentford<br>Matches played=6<br>Average goals scored last five games=%{x}<br>Average goals conceded last five games=%{y}<extra></extra>\",\"legendgroup\":\"Brentford\",\"marker\":{\"color\":\"#1F77B4\",\"opacity\":0.8,\"symbol\":\"circle\"},\"mode\":\"markers\",\"name\":\"Brentford\",\"orientation\":\"v\",\"showlegend\":true,\"x\":[1.0],\"xaxis\":\"x\",\"y\":[1.8],\"yaxis\":\"y\",\"type\":\"scatter\"},{\"hovertemplate\":\"Team=Man United<br>Matches played=6<br>Average goals scored last five games=%{x}<br>Average goals conceded last five games=%{y}<extra></extra>\",\"legendgroup\":\"Man United\",\"marker\":{\"color\":\"#FF7F0E\",\"opacity\":0.8,\"symbol\":\"circle\"},\"mode\":\"markers\",\"name\":\"Man United\",\"orientation\":\"v\",\"showlegend\":true,\"x\":[1.0],\"xaxis\":\"x\",\"y\":[2.0],\"yaxis\":\"y\",\"type\":\"scatter\"},{\"hovertemplate\":\"Team=Burnley<br>Matches played=6<br>Average goals scored last five games=%{x}<br>Average goals conceded last five games=%{y}<extra></extra>\",\"legendgroup\":\"Burnley\",\"marker\":{\"color\":\"#2CA02C\",\"opacity\":0.8,\"symbol\":\"circle\"},\"mode\":\"markers\",\"name\":\"Burnley\",\"orientation\":\"v\",\"showlegend\":true,\"x\":[1.4],\"xaxis\":\"x\",\"y\":[1.2],\"yaxis\":\"y\",\"type\":\"scatter\"},{\"hovertemplate\":\"Team=Chelsea<br>Matches played=6<br>Average goals scored last five games=%{x}<br>Average goals conceded last five games=%{y}<extra></extra>\",\"legendgroup\":\"Chelsea\",\"marker\":{\"color\":\"#D62728\",\"opacity\":0.8,\"symbol\":\"circle\"},\"mode\":\"markers\",\"name\":\"Chelsea\",\"orientation\":\"v\",\"showlegend\":true,\"x\":[2.8],\"xaxis\":\"x\",\"y\":[0.6],\"yaxis\":\"y\",\"type\":\"scatter\"},{\"hovertemplate\":\"Team=Everton<br>Matches played=6<br>Average goals scored last five games=%{x}<br>Average goals conceded last five games=%{y}<extra></extra>\",\"legendgroup\":\"Everton\",\"marker\":{\"color\":\"#9467BD\",\"opacity\":0.8,\"symbol\":\"circle\"},\"mode\":\"markers\",\"name\":\"Everton\",\"orientation\":\"v\",\"showlegend\":true,\"x\":[1.4],\"xaxis\":\"x\",\"y\":[1.4],\"yaxis\":\"y\",\"type\":\"scatter\"},{\"hovertemplate\":\"Team=Leicester<br>Matches played=6<br>Average goals scored last five games=%{x}<br>Average goals conceded last five games=%{y}<extra></extra>\",\"legendgroup\":\"Leicester\",\"marker\":{\"color\":\"#8C564B\",\"opacity\":0.8,\"symbol\":\"circle\"},\"mode\":\"markers\",\"name\":\"Leicester\",\"orientation\":\"v\",\"showlegend\":true,\"x\":[1.2],\"xaxis\":\"x\",\"y\":[2.0],\"yaxis\":\"y\",\"type\":\"scatter\"},{\"hovertemplate\":\"Team=Watford<br>Matches played=6<br>Average goals scored last five games=%{x}<br>Average goals conceded last five games=%{y}<extra></extra>\",\"legendgroup\":\"Watford\",\"marker\":{\"color\":\"#E377C2\",\"opacity\":0.8,\"symbol\":\"circle\"},\"mode\":\"markers\",\"name\":\"Watford\",\"orientation\":\"v\",\"showlegend\":true,\"x\":[1.0],\"xaxis\":\"x\",\"y\":[2.0],\"yaxis\":\"y\",\"type\":\"scatter\"},{\"hovertemplate\":\"Team=Norwich<br>Matches played=6<br>Average goals scored last five games=%{x}<br>Average goals conceded last five games=%{y}<extra></extra>\",\"legendgroup\":\"Norwich\",\"marker\":{\"color\":\"#7F7F7F\",\"opacity\":0.8,\"symbol\":\"circle\"},\"mode\":\"markers\",\"name\":\"Norwich\",\"orientation\":\"v\",\"showlegend\":true,\"x\":[1.0],\"xaxis\":\"x\",\"y\":[1.6],\"yaxis\":\"y\",\"type\":\"scatter\"},{\"hovertemplate\":\"Team=Newcastle<br>Matches played=6<br>Average goals scored last five games=%{x}<br>Average goals conceded last five games=%{y}<extra></extra>\",\"legendgroup\":\"Newcastle\",\"marker\":{\"color\":\"#BCBD22\",\"opacity\":0.8,\"symbol\":\"circle\"},\"mode\":\"markers\",\"name\":\"Newcastle\",\"orientation\":\"v\",\"showlegend\":true,\"x\":[1.6],\"xaxis\":\"x\",\"y\":[2.4],\"yaxis\":\"y\",\"type\":\"scatter\"},{\"hovertemplate\":\"Team=Tottenham<br>Matches played=6<br>Average goals scored last five games=%{x}<br>Average goals conceded last five games=%{y}<extra></extra>\",\"legendgroup\":\"Tottenham\",\"marker\":{\"color\":\"#17BECF\",\"opacity\":0.8,\"symbol\":\"circle\"},\"mode\":\"markers\",\"name\":\"Tottenham\",\"orientation\":\"v\",\"showlegend\":true,\"x\":[1.0],\"xaxis\":\"x\",\"y\":[1.6],\"yaxis\":\"y\",\"type\":\"scatter\"},{\"hovertemplate\":\"Team=Liverpool<br>Matches played=6<br>Average goals scored last five games=%{x}<br>Average goals conceded last five games=%{y}<extra></extra>\",\"legendgroup\":\"Liverpool\",\"marker\":{\"color\":\"#1F77B4\",\"opacity\":0.8,\"symbol\":\"circle\"},\"mode\":\"markers\",\"name\":\"Liverpool\",\"orientation\":\"v\",\"showlegend\":true,\"x\":[2.4],\"xaxis\":\"x\",\"y\":[1.0],\"yaxis\":\"y\",\"type\":\"scatter\"},{\"hovertemplate\":\"Team=Aston Villa<br>Matches played=6<br>Average goals scored last five games=%{x}<br>Average goals conceded last five games=%{y}<extra></extra>\",\"legendgroup\":\"Aston Villa\",\"marker\":{\"color\":\"#FF7F0E\",\"opacity\":0.8,\"symbol\":\"circle\"},\"mode\":\"markers\",\"name\":\"Aston Villa\",\"orientation\":\"v\",\"showlegend\":true,\"x\":[1.8],\"xaxis\":\"x\",\"y\":[1.6],\"yaxis\":\"y\",\"type\":\"scatter\"},{\"hovertemplate\":\"Team=Crystal Palace<br>Matches played=6<br>Average goals scored last five games=%{x}<br>Average goals conceded last five games=%{y}<extra></extra>\",\"legendgroup\":\"Crystal Palace\",\"marker\":{\"color\":\"#2CA02C\",\"opacity\":0.8,\"symbol\":\"circle\"},\"mode\":\"markers\",\"name\":\"Crystal Palace\",\"orientation\":\"v\",\"showlegend\":true,\"x\":[1.8],\"xaxis\":\"x\",\"y\":[0.8],\"yaxis\":\"y\",\"type\":\"scatter\"},{\"hovertemplate\":\"Team=Leeds<br>Matches played=6<br>Average goals scored last five games=%{x}<br>Average goals conceded last five games=%{y}<extra></extra>\",\"legendgroup\":\"Leeds\",\"marker\":{\"color\":\"#D62728\",\"opacity\":0.8,\"symbol\":\"circle\"},\"mode\":\"markers\",\"name\":\"Leeds\",\"orientation\":\"v\",\"showlegend\":true,\"x\":[0.8],\"xaxis\":\"x\",\"y\":[1.4],\"yaxis\":\"y\",\"type\":\"scatter\"},{\"hovertemplate\":\"Team=Man City<br>Matches played=6<br>Average goals scored last five games=%{x}<br>Average goals conceded last five games=%{y}<extra></extra>\",\"legendgroup\":\"Man City\",\"marker\":{\"color\":\"#9467BD\",\"opacity\":0.8,\"symbol\":\"circle\"},\"mode\":\"markers\",\"name\":\"Man City\",\"orientation\":\"v\",\"showlegend\":true,\"x\":[2.0],\"xaxis\":\"x\",\"y\":[0.4],\"yaxis\":\"y\",\"type\":\"scatter\"},{\"hovertemplate\":\"Team=Brighton<br>Matches played=6<br>Average goals scored last five games=%{x}<br>Average goals conceded last five games=%{y}<extra></extra>\",\"legendgroup\":\"Brighton\",\"marker\":{\"color\":\"#8C564B\",\"opacity\":0.8,\"symbol\":\"circle\"},\"mode\":\"markers\",\"name\":\"Brighton\",\"orientation\":\"v\",\"showlegend\":true,\"x\":[0.8],\"xaxis\":\"x\",\"y\":[1.6],\"yaxis\":\"y\",\"type\":\"scatter\"},{\"hovertemplate\":\"Team=Southampton<br>Matches played=6<br>Average goals scored last five games=%{x}<br>Average goals conceded last five games=%{y}<extra></extra>\",\"legendgroup\":\"Southampton\",\"marker\":{\"color\":\"#E377C2\",\"opacity\":0.8,\"symbol\":\"circle\"},\"mode\":\"markers\",\"name\":\"Southampton\",\"orientation\":\"v\",\"showlegend\":true,\"x\":[0.8],\"xaxis\":\"x\",\"y\":[0.6],\"yaxis\":\"y\",\"type\":\"scatter\"},{\"hovertemplate\":\"Team=Wolves<br>Matches played=6<br>Average goals scored last five games=%{x}<br>Average goals conceded last five games=%{y}<extra></extra>\",\"legendgroup\":\"Wolves\",\"marker\":{\"color\":\"#7F7F7F\",\"opacity\":0.8,\"symbol\":\"circle\"},\"mode\":\"markers\",\"name\":\"Wolves\",\"orientation\":\"v\",\"showlegend\":true,\"x\":[1.0],\"xaxis\":\"x\",\"y\":[1.0],\"yaxis\":\"y\",\"type\":\"scatter\"},{\"hovertemplate\":\"Team=Arsenal<br>Matches played=6<br>Average goals scored last five games=%{x}<br>Average goals conceded last five games=%{y}<extra></extra>\",\"legendgroup\":\"Arsenal\",\"marker\":{\"color\":\"#BCBD22\",\"opacity\":0.8,\"symbol\":\"circle\"},\"mode\":\"markers\",\"name\":\"Arsenal\",\"orientation\":\"v\",\"showlegend\":true,\"x\":[2.0],\"xaxis\":\"x\",\"y\":[0.8],\"yaxis\":\"y\",\"type\":\"scatter\"},{\"hovertemplate\":\"Team=West Ham<br>Matches played=6<br>Average goals scored last five games=%{x}<br>Average goals conceded last five games=%{y}<extra></extra>\",\"legendgroup\":\"West Ham\",\"marker\":{\"color\":\"#17BECF\",\"opacity\":0.8,\"symbol\":\"circle\"},\"mode\":\"markers\",\"name\":\"West Ham\",\"orientation\":\"v\",\"showlegend\":true,\"x\":[1.6],\"xaxis\":\"x\",\"y\":[1.6],\"yaxis\":\"y\",\"type\":\"scatter\"}],\"name\":\"6\"},{\"data\":[{\"hovertemplate\":\"Team=Brentford<br>Matches played=7<br>Average goals scored last five games=%{x}<br>Average goals conceded last five games=%{y}<extra></extra>\",\"legendgroup\":\"Brentford\",\"marker\":{\"color\":\"#1F77B4\",\"opacity\":0.8,\"symbol\":\"circle\"},\"mode\":\"markers\",\"name\":\"Brentford\",\"orientation\":\"v\",\"showlegend\":true,\"x\":[1.2],\"xaxis\":\"x\",\"y\":[1.6],\"yaxis\":\"y\",\"type\":\"scatter\"},{\"hovertemplate\":\"Team=Man United<br>Matches played=7<br>Average goals scored last five games=%{x}<br>Average goals conceded last five games=%{y}<extra></extra>\",\"legendgroup\":\"Man United\",\"marker\":{\"color\":\"#FF7F0E\",\"opacity\":0.8,\"symbol\":\"circle\"},\"mode\":\"markers\",\"name\":\"Man United\",\"orientation\":\"v\",\"showlegend\":true,\"x\":[0.8],\"xaxis\":\"x\",\"y\":[2.2],\"yaxis\":\"y\",\"type\":\"scatter\"},{\"hovertemplate\":\"Team=Burnley<br>Matches played=7<br>Average goals scored last five games=%{x}<br>Average goals conceded last five games=%{y}<extra></extra>\",\"legendgroup\":\"Burnley\",\"marker\":{\"color\":\"#2CA02C\",\"opacity\":0.8,\"symbol\":\"circle\"},\"mode\":\"markers\",\"name\":\"Burnley\",\"orientation\":\"v\",\"showlegend\":true,\"x\":[1.2],\"xaxis\":\"x\",\"y\":[1.0],\"yaxis\":\"y\",\"type\":\"scatter\"},{\"hovertemplate\":\"Team=Chelsea<br>Matches played=7<br>Average goals scored last five games=%{x}<br>Average goals conceded last five games=%{y}<extra></extra>\",\"legendgroup\":\"Chelsea\",\"marker\":{\"color\":\"#D62728\",\"opacity\":0.8,\"symbol\":\"circle\"},\"mode\":\"markers\",\"name\":\"Chelsea\",\"orientation\":\"v\",\"showlegend\":true,\"x\":[2.4],\"xaxis\":\"x\",\"y\":[0.8],\"yaxis\":\"y\",\"type\":\"scatter\"},{\"hovertemplate\":\"Team=Everton<br>Matches played=7<br>Average goals scored last five games=%{x}<br>Average goals conceded last five games=%{y}<extra></extra>\",\"legendgroup\":\"Everton\",\"marker\":{\"color\":\"#9467BD\",\"opacity\":0.8,\"symbol\":\"circle\"},\"mode\":\"markers\",\"name\":\"Everton\",\"orientation\":\"v\",\"showlegend\":true,\"x\":[1.0],\"xaxis\":\"x\",\"y\":[2.0],\"yaxis\":\"y\",\"type\":\"scatter\"},{\"hovertemplate\":\"Team=Leicester<br>Matches played=7<br>Average goals scored last five games=%{x}<br>Average goals conceded last five games=%{y}<extra></extra>\",\"legendgroup\":\"Leicester\",\"marker\":{\"color\":\"#8C564B\",\"opacity\":0.8,\"symbol\":\"circle\"},\"mode\":\"markers\",\"name\":\"Leicester\",\"orientation\":\"v\",\"showlegend\":true,\"x\":[2.0],\"xaxis\":\"x\",\"y\":[2.2],\"yaxis\":\"y\",\"type\":\"scatter\"},{\"hovertemplate\":\"Team=Watford<br>Matches played=7<br>Average goals scored last five games=%{x}<br>Average goals conceded last five games=%{y}<extra></extra>\",\"legendgroup\":\"Watford\",\"marker\":{\"color\":\"#E377C2\",\"opacity\":0.8,\"symbol\":\"circle\"},\"mode\":\"markers\",\"name\":\"Watford\",\"orientation\":\"v\",\"showlegend\":true,\"x\":[1.2],\"xaxis\":\"x\",\"y\":[2.0],\"yaxis\":\"y\",\"type\":\"scatter\"},{\"hovertemplate\":\"Team=Norwich<br>Matches played=7<br>Average goals scored last five games=%{x}<br>Average goals conceded last five games=%{y}<extra></extra>\",\"legendgroup\":\"Norwich\",\"marker\":{\"color\":\"#7F7F7F\",\"opacity\":0.8,\"symbol\":\"circle\"},\"mode\":\"markers\",\"name\":\"Norwich\",\"orientation\":\"v\",\"showlegend\":true,\"x\":[0.8],\"xaxis\":\"x\",\"y\":[1.2],\"yaxis\":\"y\",\"type\":\"scatter\"},{\"hovertemplate\":\"Team=Newcastle<br>Matches played=7<br>Average goals scored last five games=%{x}<br>Average goals conceded last five games=%{y}<extra></extra>\",\"legendgroup\":\"Newcastle\",\"marker\":{\"color\":\"#BCBD22\",\"opacity\":0.8,\"symbol\":\"circle\"},\"mode\":\"markers\",\"name\":\"Newcastle\",\"orientation\":\"v\",\"showlegend\":true,\"x\":[1.4],\"xaxis\":\"x\",\"y\":[2.2],\"yaxis\":\"y\",\"type\":\"scatter\"},{\"hovertemplate\":\"Team=Tottenham<br>Matches played=7<br>Average goals scored last five games=%{x}<br>Average goals conceded last five games=%{y}<extra></extra>\",\"legendgroup\":\"Tottenham\",\"marker\":{\"color\":\"#17BECF\",\"opacity\":0.8,\"symbol\":\"circle\"},\"mode\":\"markers\",\"name\":\"Tottenham\",\"orientation\":\"v\",\"showlegend\":true,\"x\":[1.2],\"xaxis\":\"x\",\"y\":[1.6],\"yaxis\":\"y\",\"type\":\"scatter\"},{\"hovertemplate\":\"Team=Liverpool<br>Matches played=7<br>Average goals scored last five games=%{x}<br>Average goals conceded last five games=%{y}<extra></extra>\",\"legendgroup\":\"Liverpool\",\"marker\":{\"color\":\"#1F77B4\",\"opacity\":0.8,\"symbol\":\"circle\"},\"mode\":\"markers\",\"name\":\"Liverpool\",\"orientation\":\"v\",\"showlegend\":true,\"x\":[3.0],\"xaxis\":\"x\",\"y\":[0.8],\"yaxis\":\"y\",\"type\":\"scatter\"},{\"hovertemplate\":\"Team=Aston Villa<br>Matches played=7<br>Average goals scored last five games=%{x}<br>Average goals conceded last five games=%{y}<extra></extra>\",\"legendgroup\":\"Aston Villa\",\"marker\":{\"color\":\"#FF7F0E\",\"opacity\":0.8,\"symbol\":\"circle\"},\"mode\":\"markers\",\"name\":\"Aston Villa\",\"orientation\":\"v\",\"showlegend\":true,\"x\":[1.8],\"xaxis\":\"x\",\"y\":[1.8],\"yaxis\":\"y\",\"type\":\"scatter\"},{\"hovertemplate\":\"Team=Crystal Palace<br>Matches played=7<br>Average goals scored last five games=%{x}<br>Average goals conceded last five games=%{y}<extra></extra>\",\"legendgroup\":\"Crystal Palace\",\"marker\":{\"color\":\"#2CA02C\",\"opacity\":0.8,\"symbol\":\"circle\"},\"mode\":\"markers\",\"name\":\"Crystal Palace\",\"orientation\":\"v\",\"showlegend\":true,\"x\":[1.4],\"xaxis\":\"x\",\"y\":[1.2],\"yaxis\":\"y\",\"type\":\"scatter\"},{\"hovertemplate\":\"Team=Leeds<br>Matches played=7<br>Average goals scored last five games=%{x}<br>Average goals conceded last five games=%{y}<extra></extra>\",\"legendgroup\":\"Leeds\",\"marker\":{\"color\":\"#D62728\",\"opacity\":0.8,\"symbol\":\"circle\"},\"mode\":\"markers\",\"name\":\"Leeds\",\"orientation\":\"v\",\"showlegend\":true,\"x\":[1.0],\"xaxis\":\"x\",\"y\":[0.8],\"yaxis\":\"y\",\"type\":\"scatter\"},{\"hovertemplate\":\"Team=Man City<br>Matches played=7<br>Average goals scored last five games=%{x}<br>Average goals conceded last five games=%{y}<extra></extra>\",\"legendgroup\":\"Man City\",\"marker\":{\"color\":\"#9467BD\",\"opacity\":0.8,\"symbol\":\"circle\"},\"mode\":\"markers\",\"name\":\"Man City\",\"orientation\":\"v\",\"showlegend\":true,\"x\":[1.4],\"xaxis\":\"x\",\"y\":[0.6],\"yaxis\":\"y\",\"type\":\"scatter\"},{\"hovertemplate\":\"Team=Brighton<br>Matches played=7<br>Average goals scored last five games=%{x}<br>Average goals conceded last five games=%{y}<extra></extra>\",\"legendgroup\":\"Brighton\",\"marker\":{\"color\":\"#8C564B\",\"opacity\":0.8,\"symbol\":\"circle\"},\"mode\":\"markers\",\"name\":\"Brighton\",\"orientation\":\"v\",\"showlegend\":true,\"x\":[0.8],\"xaxis\":\"x\",\"y\":[1.2],\"yaxis\":\"y\",\"type\":\"scatter\"},{\"hovertemplate\":\"Team=Southampton<br>Matches played=7<br>Average goals scored last five games=%{x}<br>Average goals conceded last five games=%{y}<extra></extra>\",\"legendgroup\":\"Southampton\",\"marker\":{\"color\":\"#E377C2\",\"opacity\":0.8,\"symbol\":\"circle\"},\"mode\":\"markers\",\"name\":\"Southampton\",\"orientation\":\"v\",\"showlegend\":true,\"x\":[1.2],\"xaxis\":\"x\",\"y\":[1.0],\"yaxis\":\"y\",\"type\":\"scatter\"},{\"hovertemplate\":\"Team=Wolves<br>Matches played=7<br>Average goals scored last five games=%{x}<br>Average goals conceded last five games=%{y}<extra></extra>\",\"legendgroup\":\"Wolves\",\"marker\":{\"color\":\"#7F7F7F\",\"opacity\":0.8,\"symbol\":\"circle\"},\"mode\":\"markers\",\"name\":\"Wolves\",\"orientation\":\"v\",\"showlegend\":true,\"x\":[1.0],\"xaxis\":\"x\",\"y\":[0.8],\"yaxis\":\"y\",\"type\":\"scatter\"},{\"hovertemplate\":\"Team=Arsenal<br>Matches played=7<br>Average goals scored last five games=%{x}<br>Average goals conceded last five games=%{y}<extra></extra>\",\"legendgroup\":\"Arsenal\",\"marker\":{\"color\":\"#BCBD22\",\"opacity\":0.8,\"symbol\":\"circle\"},\"mode\":\"markers\",\"name\":\"Arsenal\",\"orientation\":\"v\",\"showlegend\":true,\"x\":[2.2],\"xaxis\":\"x\",\"y\":[0.8],\"yaxis\":\"y\",\"type\":\"scatter\"},{\"hovertemplate\":\"Team=West Ham<br>Matches played=7<br>Average goals scored last five games=%{x}<br>Average goals conceded last five games=%{y}<extra></extra>\",\"legendgroup\":\"West Ham\",\"marker\":{\"color\":\"#17BECF\",\"opacity\":0.8,\"symbol\":\"circle\"},\"mode\":\"markers\",\"name\":\"West Ham\",\"orientation\":\"v\",\"showlegend\":true,\"x\":[1.4],\"xaxis\":\"x\",\"y\":[1.4],\"yaxis\":\"y\",\"type\":\"scatter\"}],\"name\":\"7\"},{\"data\":[{\"hovertemplate\":\"Team=Brentford<br>Matches played=8<br>Average goals scored last five games=%{x}<br>Average goals conceded last five games=%{y}<extra></extra>\",\"legendgroup\":\"Brentford\",\"marker\":{\"color\":\"#1F77B4\",\"opacity\":0.8,\"symbol\":\"circle\"},\"mode\":\"markers\",\"name\":\"Brentford\",\"orientation\":\"v\",\"showlegend\":true,\"x\":[1.0],\"xaxis\":\"x\",\"y\":[1.2],\"yaxis\":\"y\",\"type\":\"scatter\"},{\"hovertemplate\":\"Team=Man United<br>Matches played=8<br>Average goals scored last five games=%{x}<br>Average goals conceded last five games=%{y}<extra></extra>\",\"legendgroup\":\"Man United\",\"marker\":{\"color\":\"#FF7F0E\",\"opacity\":0.8,\"symbol\":\"circle\"},\"mode\":\"markers\",\"name\":\"Man United\",\"orientation\":\"v\",\"showlegend\":true,\"x\":[1.0],\"xaxis\":\"x\",\"y\":[2.0],\"yaxis\":\"y\",\"type\":\"scatter\"},{\"hovertemplate\":\"Team=Burnley<br>Matches played=8<br>Average goals scored last five games=%{x}<br>Average goals conceded last five games=%{y}<extra></extra>\",\"legendgroup\":\"Burnley\",\"marker\":{\"color\":\"#2CA02C\",\"opacity\":0.8,\"symbol\":\"circle\"},\"mode\":\"markers\",\"name\":\"Burnley\",\"orientation\":\"v\",\"showlegend\":true,\"x\":[1.2],\"xaxis\":\"x\",\"y\":[0.8],\"yaxis\":\"y\",\"type\":\"scatter\"},{\"hovertemplate\":\"Team=Chelsea<br>Matches played=8<br>Average goals scored last five games=%{x}<br>Average goals conceded last five games=%{y}<extra></extra>\",\"legendgroup\":\"Chelsea\",\"marker\":{\"color\":\"#D62728\",\"opacity\":0.8,\"symbol\":\"circle\"},\"mode\":\"markers\",\"name\":\"Chelsea\",\"orientation\":\"v\",\"showlegend\":true,\"x\":[3.0],\"xaxis\":\"x\",\"y\":[1.0],\"yaxis\":\"y\",\"type\":\"scatter\"},{\"hovertemplate\":\"Team=Everton<br>Matches played=8<br>Average goals scored last five games=%{x}<br>Average goals conceded last five games=%{y}<extra></extra>\",\"legendgroup\":\"Everton\",\"marker\":{\"color\":\"#9467BD\",\"opacity\":0.8,\"symbol\":\"circle\"},\"mode\":\"markers\",\"name\":\"Everton\",\"orientation\":\"v\",\"showlegend\":true,\"x\":[1.0],\"xaxis\":\"x\",\"y\":[2.2],\"yaxis\":\"y\",\"type\":\"scatter\"},{\"hovertemplate\":\"Team=Leicester<br>Matches played=8<br>Average goals scored last five games=%{x}<br>Average goals conceded last five games=%{y}<extra></extra>\",\"legendgroup\":\"Leicester\",\"marker\":{\"color\":\"#8C564B\",\"opacity\":0.8,\"symbol\":\"circle\"},\"mode\":\"markers\",\"name\":\"Leicester\",\"orientation\":\"v\",\"showlegend\":true,\"x\":[2.4],\"xaxis\":\"x\",\"y\":[1.8],\"yaxis\":\"y\",\"type\":\"scatter\"},{\"hovertemplate\":\"Team=Watford<br>Matches played=8<br>Average goals scored last five games=%{x}<br>Average goals conceded last five games=%{y}<extra></extra>\",\"legendgroup\":\"Watford\",\"marker\":{\"color\":\"#E377C2\",\"opacity\":0.8,\"symbol\":\"circle\"},\"mode\":\"markers\",\"name\":\"Watford\",\"orientation\":\"v\",\"showlegend\":true,\"x\":[1.2],\"xaxis\":\"x\",\"y\":[2.4],\"yaxis\":\"y\",\"type\":\"scatter\"},{\"hovertemplate\":\"Team=Norwich<br>Matches played=8<br>Average goals scored last five games=%{x}<br>Average goals conceded last five games=%{y}<extra></extra>\",\"legendgroup\":\"Norwich\",\"marker\":{\"color\":\"#7F7F7F\",\"opacity\":0.8,\"symbol\":\"circle\"},\"mode\":\"markers\",\"name\":\"Norwich\",\"orientation\":\"v\",\"showlegend\":true,\"x\":[0.6],\"xaxis\":\"x\",\"y\":[0.8],\"yaxis\":\"y\",\"type\":\"scatter\"},{\"hovertemplate\":\"Team=Newcastle<br>Matches played=8<br>Average goals scored last five games=%{x}<br>Average goals conceded last five games=%{y}<extra></extra>\",\"legendgroup\":\"Newcastle\",\"marker\":{\"color\":\"#BCBD22\",\"opacity\":0.8,\"symbol\":\"circle\"},\"mode\":\"markers\",\"name\":\"Newcastle\",\"orientation\":\"v\",\"showlegend\":true,\"x\":[1.4],\"xaxis\":\"x\",\"y\":[2.0],\"yaxis\":\"y\",\"type\":\"scatter\"},{\"hovertemplate\":\"Team=Tottenham<br>Matches played=8<br>Average goals scored last five games=%{x}<br>Average goals conceded last five games=%{y}<extra></extra>\",\"legendgroup\":\"Tottenham\",\"marker\":{\"color\":\"#17BECF\",\"opacity\":0.8,\"symbol\":\"circle\"},\"mode\":\"markers\",\"name\":\"Tottenham\",\"orientation\":\"v\",\"showlegend\":true,\"x\":[1.8],\"xaxis\":\"x\",\"y\":[1.0],\"yaxis\":\"y\",\"type\":\"scatter\"},{\"hovertemplate\":\"Team=Liverpool<br>Matches played=8<br>Average goals scored last five games=%{x}<br>Average goals conceded last five games=%{y}<extra></extra>\",\"legendgroup\":\"Liverpool\",\"marker\":{\"color\":\"#1F77B4\",\"opacity\":0.8,\"symbol\":\"circle\"},\"mode\":\"markers\",\"name\":\"Liverpool\",\"orientation\":\"v\",\"showlegend\":true,\"x\":[2.6],\"xaxis\":\"x\",\"y\":[0.8],\"yaxis\":\"y\",\"type\":\"scatter\"},{\"hovertemplate\":\"Team=Aston Villa<br>Matches played=8<br>Average goals scored last five games=%{x}<br>Average goals conceded last five games=%{y}<extra></extra>\",\"legendgroup\":\"Aston Villa\",\"marker\":{\"color\":\"#FF7F0E\",\"opacity\":0.8,\"symbol\":\"circle\"},\"mode\":\"markers\",\"name\":\"Aston Villa\",\"orientation\":\"v\",\"showlegend\":true,\"x\":[1.6],\"xaxis\":\"x\",\"y\":[2.0],\"yaxis\":\"y\",\"type\":\"scatter\"},{\"hovertemplate\":\"Team=Crystal Palace<br>Matches played=8<br>Average goals scored last five games=%{x}<br>Average goals conceded last five games=%{y}<extra></extra>\",\"legendgroup\":\"Crystal Palace\",\"marker\":{\"color\":\"#2CA02C\",\"opacity\":0.8,\"symbol\":\"circle\"},\"mode\":\"markers\",\"name\":\"Crystal Palace\",\"orientation\":\"v\",\"showlegend\":true,\"x\":[1.8],\"xaxis\":\"x\",\"y\":[1.2],\"yaxis\":\"y\",\"type\":\"scatter\"},{\"hovertemplate\":\"Team=Leeds<br>Matches played=8<br>Average goals scored last five games=%{x}<br>Average goals conceded last five games=%{y}<extra></extra>\",\"legendgroup\":\"Leeds\",\"marker\":{\"color\":\"#D62728\",\"opacity\":0.8,\"symbol\":\"circle\"},\"mode\":\"markers\",\"name\":\"Leeds\",\"orientation\":\"v\",\"showlegend\":true,\"x\":[1.2],\"xaxis\":\"x\",\"y\":[0.8],\"yaxis\":\"y\",\"type\":\"scatter\"},{\"hovertemplate\":\"Team=Man City<br>Matches played=8<br>Average goals scored last five games=%{x}<br>Average goals conceded last five games=%{y}<extra></extra>\",\"legendgroup\":\"Man City\",\"marker\":{\"color\":\"#9467BD\",\"opacity\":0.8,\"symbol\":\"circle\"},\"mode\":\"markers\",\"name\":\"Man City\",\"orientation\":\"v\",\"showlegend\":true,\"x\":[1.6],\"xaxis\":\"x\",\"y\":[0.6],\"yaxis\":\"y\",\"type\":\"scatter\"},{\"hovertemplate\":\"Team=Brighton<br>Matches played=8<br>Average goals scored last five games=%{x}<br>Average goals conceded last five games=%{y}<extra></extra>\",\"legendgroup\":\"Brighton\",\"marker\":{\"color\":\"#8C564B\",\"opacity\":0.8,\"symbol\":\"circle\"},\"mode\":\"markers\",\"name\":\"Brighton\",\"orientation\":\"v\",\"showlegend\":true,\"x\":[0.4],\"xaxis\":\"x\",\"y\":[1.2],\"yaxis\":\"y\",\"type\":\"scatter\"},{\"hovertemplate\":\"Team=Southampton<br>Matches played=8<br>Average goals scored last five games=%{x}<br>Average goals conceded last five games=%{y}<extra></extra>\",\"legendgroup\":\"Southampton\",\"marker\":{\"color\":\"#E377C2\",\"opacity\":0.8,\"symbol\":\"circle\"},\"mode\":\"markers\",\"name\":\"Southampton\",\"orientation\":\"v\",\"showlegend\":true,\"x\":[1.4],\"xaxis\":\"x\",\"y\":[1.0],\"yaxis\":\"y\",\"type\":\"scatter\"},{\"hovertemplate\":\"Team=Wolves<br>Matches played=8<br>Average goals scored last five games=%{x}<br>Average goals conceded last five games=%{y}<extra></extra>\",\"legendgroup\":\"Wolves\",\"marker\":{\"color\":\"#7F7F7F\",\"opacity\":0.8,\"symbol\":\"circle\"},\"mode\":\"markers\",\"name\":\"Wolves\",\"orientation\":\"v\",\"showlegend\":true,\"x\":[1.0],\"xaxis\":\"x\",\"y\":[0.6],\"yaxis\":\"y\",\"type\":\"scatter\"},{\"hovertemplate\":\"Team=Arsenal<br>Matches played=8<br>Average goals scored last five games=%{x}<br>Average goals conceded last five games=%{y}<extra></extra>\",\"legendgroup\":\"Arsenal\",\"marker\":{\"color\":\"#BCBD22\",\"opacity\":0.8,\"symbol\":\"circle\"},\"mode\":\"markers\",\"name\":\"Arsenal\",\"orientation\":\"v\",\"showlegend\":true,\"x\":[2.2],\"xaxis\":\"x\",\"y\":[0.6],\"yaxis\":\"y\",\"type\":\"scatter\"},{\"hovertemplate\":\"Team=West Ham<br>Matches played=8<br>Average goals scored last five games=%{x}<br>Average goals conceded last five games=%{y}<extra></extra>\",\"legendgroup\":\"West Ham\",\"marker\":{\"color\":\"#17BECF\",\"opacity\":0.8,\"symbol\":\"circle\"},\"mode\":\"markers\",\"name\":\"West Ham\",\"orientation\":\"v\",\"showlegend\":true,\"x\":[1.8],\"xaxis\":\"x\",\"y\":[1.4],\"yaxis\":\"y\",\"type\":\"scatter\"}],\"name\":\"8\"},{\"data\":[{\"hovertemplate\":\"Team=Brentford<br>Matches played=9<br>Average goals scored last five games=%{x}<br>Average goals conceded last five games=%{y}<extra></extra>\",\"legendgroup\":\"Brentford\",\"marker\":{\"color\":\"#1F77B4\",\"opacity\":0.8,\"symbol\":\"circle\"},\"mode\":\"markers\",\"name\":\"Brentford\",\"orientation\":\"v\",\"showlegend\":true,\"x\":[1.0],\"xaxis\":\"x\",\"y\":[1.2],\"yaxis\":\"y\",\"type\":\"scatter\"},{\"hovertemplate\":\"Team=Man United<br>Matches played=9<br>Average goals scored last five games=%{x}<br>Average goals conceded last five games=%{y}<extra></extra>\",\"legendgroup\":\"Man United\",\"marker\":{\"color\":\"#FF7F0E\",\"opacity\":0.8,\"symbol\":\"circle\"},\"mode\":\"markers\",\"name\":\"Man United\",\"orientation\":\"v\",\"showlegend\":true,\"x\":[1.4],\"xaxis\":\"x\",\"y\":[2.0],\"yaxis\":\"y\",\"type\":\"scatter\"},{\"hovertemplate\":\"Team=Burnley<br>Matches played=9<br>Average goals scored last five games=%{x}<br>Average goals conceded last five games=%{y}<extra></extra>\",\"legendgroup\":\"Burnley\",\"marker\":{\"color\":\"#2CA02C\",\"opacity\":0.8,\"symbol\":\"circle\"},\"mode\":\"markers\",\"name\":\"Burnley\",\"orientation\":\"v\",\"showlegend\":true,\"x\":[1.4],\"xaxis\":\"x\",\"y\":[1.0],\"yaxis\":\"y\",\"type\":\"scatter\"},{\"hovertemplate\":\"Team=Chelsea<br>Matches played=9<br>Average goals scored last five games=%{x}<br>Average goals conceded last five games=%{y}<extra></extra>\",\"legendgroup\":\"Chelsea\",\"marker\":{\"color\":\"#D62728\",\"opacity\":0.8,\"symbol\":\"circle\"},\"mode\":\"markers\",\"name\":\"Chelsea\",\"orientation\":\"v\",\"showlegend\":true,\"x\":[2.6],\"xaxis\":\"x\",\"y\":[1.0],\"yaxis\":\"y\",\"type\":\"scatter\"},{\"hovertemplate\":\"Team=Everton<br>Matches played=9<br>Average goals scored last five games=%{x}<br>Average goals conceded last five games=%{y}<extra></extra>\",\"legendgroup\":\"Everton\",\"marker\":{\"color\":\"#9467BD\",\"opacity\":0.8,\"symbol\":\"circle\"},\"mode\":\"markers\",\"name\":\"Everton\",\"orientation\":\"v\",\"showlegend\":true,\"x\":[1.4],\"xaxis\":\"x\",\"y\":[2.6],\"yaxis\":\"y\",\"type\":\"scatter\"},{\"hovertemplate\":\"Team=Leicester<br>Matches played=9<br>Average goals scored last five games=%{x}<br>Average goals conceded last five games=%{y}<extra></extra>\",\"legendgroup\":\"Leicester\",\"marker\":{\"color\":\"#8C564B\",\"opacity\":0.8,\"symbol\":\"circle\"},\"mode\":\"markers\",\"name\":\"Leicester\",\"orientation\":\"v\",\"showlegend\":true,\"x\":[1.8],\"xaxis\":\"x\",\"y\":[1.4],\"yaxis\":\"y\",\"type\":\"scatter\"},{\"hovertemplate\":\"Team=Watford<br>Matches played=9<br>Average goals scored last five games=%{x}<br>Average goals conceded last five games=%{y}<extra></extra>\",\"legendgroup\":\"Watford\",\"marker\":{\"color\":\"#E377C2\",\"opacity\":0.8,\"symbol\":\"circle\"},\"mode\":\"markers\",\"name\":\"Watford\",\"orientation\":\"v\",\"showlegend\":true,\"x\":[1.4],\"xaxis\":\"x\",\"y\":[2.2],\"yaxis\":\"y\",\"type\":\"scatter\"},{\"hovertemplate\":\"Team=Norwich<br>Matches played=9<br>Average goals scored last five games=%{x}<br>Average goals conceded last five games=%{y}<extra></extra>\",\"legendgroup\":\"Norwich\",\"marker\":{\"color\":\"#7F7F7F\",\"opacity\":0.8,\"symbol\":\"circle\"},\"mode\":\"markers\",\"name\":\"Norwich\",\"orientation\":\"v\",\"showlegend\":true,\"x\":[0.6],\"xaxis\":\"x\",\"y\":[1.2],\"yaxis\":\"y\",\"type\":\"scatter\"},{\"hovertemplate\":\"Team=Newcastle<br>Matches played=9<br>Average goals scored last five games=%{x}<br>Average goals conceded last five games=%{y}<extra></extra>\",\"legendgroup\":\"Newcastle\",\"marker\":{\"color\":\"#BCBD22\",\"opacity\":0.8,\"symbol\":\"circle\"},\"mode\":\"markers\",\"name\":\"Newcastle\",\"orientation\":\"v\",\"showlegend\":true,\"x\":[1.0],\"xaxis\":\"x\",\"y\":[2.2],\"yaxis\":\"y\",\"type\":\"scatter\"},{\"hovertemplate\":\"Team=Tottenham<br>Matches played=9<br>Average goals scored last five games=%{x}<br>Average goals conceded last five games=%{y}<extra></extra>\",\"legendgroup\":\"Tottenham\",\"marker\":{\"color\":\"#17BECF\",\"opacity\":0.8,\"symbol\":\"circle\"},\"mode\":\"markers\",\"name\":\"Tottenham\",\"orientation\":\"v\",\"showlegend\":true,\"x\":[1.8],\"xaxis\":\"x\",\"y\":[1.2],\"yaxis\":\"y\",\"type\":\"scatter\"},{\"hovertemplate\":\"Team=Liverpool<br>Matches played=9<br>Average goals scored last five games=%{x}<br>Average goals conceded last five games=%{y}<extra></extra>\",\"legendgroup\":\"Liverpool\",\"marker\":{\"color\":\"#1F77B4\",\"opacity\":0.8,\"symbol\":\"circle\"},\"mode\":\"markers\",\"name\":\"Liverpool\",\"orientation\":\"v\",\"showlegend\":true,\"x\":[2.8],\"xaxis\":\"x\",\"y\":[0.6],\"yaxis\":\"y\",\"type\":\"scatter\"},{\"hovertemplate\":\"Team=Aston Villa<br>Matches played=9<br>Average goals scored last five games=%{x}<br>Average goals conceded last five games=%{y}<extra></extra>\",\"legendgroup\":\"Aston Villa\",\"marker\":{\"color\":\"#FF7F0E\",\"opacity\":0.8,\"symbol\":\"circle\"},\"mode\":\"markers\",\"name\":\"Aston Villa\",\"orientation\":\"v\",\"showlegend\":true,\"x\":[1.4],\"xaxis\":\"x\",\"y\":[2.0],\"yaxis\":\"y\",\"type\":\"scatter\"},{\"hovertemplate\":\"Team=Crystal Palace<br>Matches played=9<br>Average goals scored last five games=%{x}<br>Average goals conceded last five games=%{y}<extra></extra>\",\"legendgroup\":\"Crystal Palace\",\"marker\":{\"color\":\"#2CA02C\",\"opacity\":0.8,\"symbol\":\"circle\"},\"mode\":\"markers\",\"name\":\"Crystal Palace\",\"orientation\":\"v\",\"showlegend\":true,\"x\":[1.8],\"xaxis\":\"x\",\"y\":[1.2],\"yaxis\":\"y\",\"type\":\"scatter\"},{\"hovertemplate\":\"Team=Leeds<br>Matches played=9<br>Average goals scored last five games=%{x}<br>Average goals conceded last five games=%{y}<extra></extra>\",\"legendgroup\":\"Leeds\",\"marker\":{\"color\":\"#D62728\",\"opacity\":0.8,\"symbol\":\"circle\"},\"mode\":\"markers\",\"name\":\"Leeds\",\"orientation\":\"v\",\"showlegend\":true,\"x\":[1.2],\"xaxis\":\"x\",\"y\":[1.6],\"yaxis\":\"y\",\"type\":\"scatter\"},{\"hovertemplate\":\"Team=Man City<br>Matches played=9<br>Average goals scored last five games=%{x}<br>Average goals conceded last five games=%{y}<extra></extra>\",\"legendgroup\":\"Man City\",\"marker\":{\"color\":\"#9467BD\",\"opacity\":0.8,\"symbol\":\"circle\"},\"mode\":\"markers\",\"name\":\"Man City\",\"orientation\":\"v\",\"showlegend\":true,\"x\":[2.6],\"xaxis\":\"x\",\"y\":[0.6],\"yaxis\":\"y\",\"type\":\"scatter\"},{\"hovertemplate\":\"Team=Brighton<br>Matches played=9<br>Average goals scored last five games=%{x}<br>Average goals conceded last five games=%{y}<extra></extra>\",\"legendgroup\":\"Brighton\",\"marker\":{\"color\":\"#8C564B\",\"opacity\":0.8,\"symbol\":\"circle\"},\"mode\":\"markers\",\"name\":\"Brighton\",\"orientation\":\"v\",\"showlegend\":true,\"x\":[0.8],\"xaxis\":\"x\",\"y\":[1.2],\"yaxis\":\"y\",\"type\":\"scatter\"},{\"hovertemplate\":\"Team=Southampton<br>Matches played=9<br>Average goals scored last five games=%{x}<br>Average goals conceded last five games=%{y}<extra></extra>\",\"legendgroup\":\"Southampton\",\"marker\":{\"color\":\"#E377C2\",\"opacity\":0.8,\"symbol\":\"circle\"},\"mode\":\"markers\",\"name\":\"Southampton\",\"orientation\":\"v\",\"showlegend\":true,\"x\":[1.4],\"xaxis\":\"x\",\"y\":[1.2],\"yaxis\":\"y\",\"type\":\"scatter\"},{\"hovertemplate\":\"Team=Wolves<br>Matches played=9<br>Average goals scored last five games=%{x}<br>Average goals conceded last five games=%{y}<extra></extra>\",\"legendgroup\":\"Wolves\",\"marker\":{\"color\":\"#7F7F7F\",\"opacity\":0.8,\"symbol\":\"circle\"},\"mode\":\"markers\",\"name\":\"Wolves\",\"orientation\":\"v\",\"showlegend\":true,\"x\":[0.6],\"xaxis\":\"x\",\"y\":[0.4],\"yaxis\":\"y\",\"type\":\"scatter\"},{\"hovertemplate\":\"Team=Arsenal<br>Matches played=9<br>Average goals scored last five games=%{x}<br>Average goals conceded last five games=%{y}<extra></extra>\",\"legendgroup\":\"Arsenal\",\"marker\":{\"color\":\"#BCBD22\",\"opacity\":0.8,\"symbol\":\"circle\"},\"mode\":\"markers\",\"name\":\"Arsenal\",\"orientation\":\"v\",\"showlegend\":true,\"x\":[2.2],\"xaxis\":\"x\",\"y\":[0.2],\"yaxis\":\"y\",\"type\":\"scatter\"},{\"hovertemplate\":\"Team=West Ham<br>Matches played=9<br>Average goals scored last five games=%{x}<br>Average goals conceded last five games=%{y}<extra></extra>\",\"legendgroup\":\"West Ham\",\"marker\":{\"color\":\"#17BECF\",\"opacity\":0.8,\"symbol\":\"circle\"},\"mode\":\"markers\",\"name\":\"West Ham\",\"orientation\":\"v\",\"showlegend\":true,\"x\":[2.0],\"xaxis\":\"x\",\"y\":[1.6],\"yaxis\":\"y\",\"type\":\"scatter\"}],\"name\":\"9\"},{\"data\":[{\"hovertemplate\":\"Team=Brentford<br>Matches played=10<br>Average goals scored last five games=%{x}<br>Average goals conceded last five games=%{y}<extra></extra>\",\"legendgroup\":\"Brentford\",\"marker\":{\"color\":\"#1F77B4\",\"opacity\":0.8,\"symbol\":\"circle\"},\"mode\":\"markers\",\"name\":\"Brentford\",\"orientation\":\"v\",\"showlegend\":true,\"x\":[1.2],\"xaxis\":\"x\",\"y\":[1.0],\"yaxis\":\"y\",\"type\":\"scatter\"},{\"hovertemplate\":\"Team=Man United<br>Matches played=10<br>Average goals scored last five games=%{x}<br>Average goals conceded last five games=%{y}<extra></extra>\",\"legendgroup\":\"Man United\",\"marker\":{\"color\":\"#FF7F0E\",\"opacity\":0.8,\"symbol\":\"circle\"},\"mode\":\"markers\",\"name\":\"Man United\",\"orientation\":\"v\",\"showlegend\":true,\"x\":[1.4],\"xaxis\":\"x\",\"y\":[1.2],\"yaxis\":\"y\",\"type\":\"scatter\"},{\"hovertemplate\":\"Team=Burnley<br>Matches played=10<br>Average goals scored last five games=%{x}<br>Average goals conceded last five games=%{y}<extra></extra>\",\"legendgroup\":\"Burnley\",\"marker\":{\"color\":\"#2CA02C\",\"opacity\":0.8,\"symbol\":\"circle\"},\"mode\":\"markers\",\"name\":\"Burnley\",\"orientation\":\"v\",\"showlegend\":true,\"x\":[0.8],\"xaxis\":\"x\",\"y\":[1.0],\"yaxis\":\"y\",\"type\":\"scatter\"},{\"hovertemplate\":\"Team=Chelsea<br>Matches played=10<br>Average goals scored last five games=%{x}<br>Average goals conceded last five games=%{y}<extra></extra>\",\"legendgroup\":\"Chelsea\",\"marker\":{\"color\":\"#D62728\",\"opacity\":0.8,\"symbol\":\"circle\"},\"mode\":\"markers\",\"name\":\"Chelsea\",\"orientation\":\"v\",\"showlegend\":true,\"x\":[1.4],\"xaxis\":\"x\",\"y\":[1.2],\"yaxis\":\"y\",\"type\":\"scatter\"},{\"hovertemplate\":\"Team=Everton<br>Matches played=10<br>Average goals scored last five games=%{x}<br>Average goals conceded last five games=%{y}<extra></extra>\",\"legendgroup\":\"Everton\",\"marker\":{\"color\":\"#9467BD\",\"opacity\":0.8,\"symbol\":\"circle\"},\"mode\":\"markers\",\"name\":\"Everton\",\"orientation\":\"v\",\"showlegend\":true,\"x\":[1.0],\"xaxis\":\"x\",\"y\":[1.8],\"yaxis\":\"y\",\"type\":\"scatter\"},{\"hovertemplate\":\"Team=Leicester<br>Matches played=10<br>Average goals scored last five games=%{x}<br>Average goals conceded last five games=%{y}<extra></extra>\",\"legendgroup\":\"Leicester\",\"marker\":{\"color\":\"#8C564B\",\"opacity\":0.8,\"symbol\":\"circle\"},\"mode\":\"markers\",\"name\":\"Leicester\",\"orientation\":\"v\",\"showlegend\":true,\"x\":[2.2],\"xaxis\":\"x\",\"y\":[1.6],\"yaxis\":\"y\",\"type\":\"scatter\"},{\"hovertemplate\":\"Team=Watford<br>Matches played=10<br>Average goals scored last five games=%{x}<br>Average goals conceded last five games=%{y}<extra></extra>\",\"legendgroup\":\"Watford\",\"marker\":{\"color\":\"#E377C2\",\"opacity\":0.8,\"symbol\":\"circle\"},\"mode\":\"markers\",\"name\":\"Watford\",\"orientation\":\"v\",\"showlegend\":true,\"x\":[1.4],\"xaxis\":\"x\",\"y\":[2.2],\"yaxis\":\"y\",\"type\":\"scatter\"},{\"hovertemplate\":\"Team=Norwich<br>Matches played=10<br>Average goals scored last five games=%{x}<br>Average goals conceded last five games=%{y}<extra></extra>\",\"legendgroup\":\"Norwich\",\"marker\":{\"color\":\"#7F7F7F\",\"opacity\":0.8,\"symbol\":\"circle\"},\"mode\":\"markers\",\"name\":\"Norwich\",\"orientation\":\"v\",\"showlegend\":true,\"x\":[0.4],\"xaxis\":\"x\",\"y\":[1.8],\"yaxis\":\"y\",\"type\":\"scatter\"},{\"hovertemplate\":\"Team=Newcastle<br>Matches played=10<br>Average goals scored last five games=%{x}<br>Average goals conceded last five games=%{y}<extra></extra>\",\"legendgroup\":\"Newcastle\",\"marker\":{\"color\":\"#BCBD22\",\"opacity\":0.8,\"symbol\":\"circle\"},\"mode\":\"markers\",\"name\":\"Newcastle\",\"orientation\":\"v\",\"showlegend\":true,\"x\":[1.2],\"xaxis\":\"x\",\"y\":[1.8],\"yaxis\":\"y\",\"type\":\"scatter\"},{\"hovertemplate\":\"Team=Tottenham<br>Matches played=10<br>Average goals scored last five games=%{x}<br>Average goals conceded last five games=%{y}<extra></extra>\",\"legendgroup\":\"Tottenham\",\"marker\":{\"color\":\"#17BECF\",\"opacity\":0.8,\"symbol\":\"circle\"},\"mode\":\"markers\",\"name\":\"Tottenham\",\"orientation\":\"v\",\"showlegend\":true,\"x\":[2.4],\"xaxis\":\"x\",\"y\":[0.6],\"yaxis\":\"y\",\"type\":\"scatter\"},{\"hovertemplate\":\"Team=Liverpool<br>Matches played=10<br>Average goals scored last five games=%{x}<br>Average goals conceded last five games=%{y}<extra></extra>\",\"legendgroup\":\"Liverpool\",\"marker\":{\"color\":\"#1F77B4\",\"opacity\":0.8,\"symbol\":\"circle\"},\"mode\":\"markers\",\"name\":\"Liverpool\",\"orientation\":\"v\",\"showlegend\":true,\"x\":[3.0],\"xaxis\":\"x\",\"y\":[0.2],\"yaxis\":\"y\",\"type\":\"scatter\"},{\"hovertemplate\":\"Team=Aston Villa<br>Matches played=10<br>Average goals scored last five games=%{x}<br>Average goals conceded last five games=%{y}<extra></extra>\",\"legendgroup\":\"Aston Villa\",\"marker\":{\"color\":\"#FF7F0E\",\"opacity\":0.8,\"symbol\":\"circle\"},\"mode\":\"markers\",\"name\":\"Aston Villa\",\"orientation\":\"v\",\"showlegend\":true,\"x\":[1.6],\"xaxis\":\"x\",\"y\":[1.6],\"yaxis\":\"y\",\"type\":\"scatter\"},{\"hovertemplate\":\"Team=Crystal Palace<br>Matches played=10<br>Average goals scored last five games=%{x}<br>Average goals conceded last five games=%{y}<extra></extra>\",\"legendgroup\":\"Crystal Palace\",\"marker\":{\"color\":\"#2CA02C\",\"opacity\":0.8,\"symbol\":\"circle\"},\"mode\":\"markers\",\"name\":\"Crystal Palace\",\"orientation\":\"v\",\"showlegend\":true,\"x\":[2.2],\"xaxis\":\"x\",\"y\":[1.0],\"yaxis\":\"y\",\"type\":\"scatter\"},{\"hovertemplate\":\"Team=Leeds<br>Matches played=10<br>Average goals scored last five games=%{x}<br>Average goals conceded last five games=%{y}<extra></extra>\",\"legendgroup\":\"Leeds\",\"marker\":{\"color\":\"#D62728\",\"opacity\":0.8,\"symbol\":\"circle\"},\"mode\":\"markers\",\"name\":\"Leeds\",\"orientation\":\"v\",\"showlegend\":true,\"x\":[1.6],\"xaxis\":\"x\",\"y\":[1.6],\"yaxis\":\"y\",\"type\":\"scatter\"},{\"hovertemplate\":\"Team=Man City<br>Matches played=10<br>Average goals scored last five games=%{x}<br>Average goals conceded last five games=%{y}<extra></extra>\",\"legendgroup\":\"Man City\",\"marker\":{\"color\":\"#9467BD\",\"opacity\":0.8,\"symbol\":\"circle\"},\"mode\":\"markers\",\"name\":\"Man City\",\"orientation\":\"v\",\"showlegend\":true,\"x\":[3.8],\"xaxis\":\"x\",\"y\":[0.8],\"yaxis\":\"y\",\"type\":\"scatter\"},{\"hovertemplate\":\"Team=Brighton<br>Matches played=10<br>Average goals scored last five games=%{x}<br>Average goals conceded last five games=%{y}<extra></extra>\",\"legendgroup\":\"Brighton\",\"marker\":{\"color\":\"#8C564B\",\"opacity\":0.8,\"symbol\":\"circle\"},\"mode\":\"markers\",\"name\":\"Brighton\",\"orientation\":\"v\",\"showlegend\":true,\"x\":[0.8],\"xaxis\":\"x\",\"y\":[0.6],\"yaxis\":\"y\",\"type\":\"scatter\"},{\"hovertemplate\":\"Team=Southampton<br>Matches played=10<br>Average goals scored last five games=%{x}<br>Average goals conceded last five games=%{y}<extra></extra>\",\"legendgroup\":\"Southampton\",\"marker\":{\"color\":\"#E377C2\",\"opacity\":0.8,\"symbol\":\"circle\"},\"mode\":\"markers\",\"name\":\"Southampton\",\"orientation\":\"v\",\"showlegend\":true,\"x\":[1.8],\"xaxis\":\"x\",\"y\":[1.0],\"yaxis\":\"y\",\"type\":\"scatter\"},{\"hovertemplate\":\"Team=Wolves<br>Matches played=10<br>Average goals scored last five games=%{x}<br>Average goals conceded last five games=%{y}<extra></extra>\",\"legendgroup\":\"Wolves\",\"marker\":{\"color\":\"#7F7F7F\",\"opacity\":0.8,\"symbol\":\"circle\"},\"mode\":\"markers\",\"name\":\"Wolves\",\"orientation\":\"v\",\"showlegend\":true,\"x\":[0.8],\"xaxis\":\"x\",\"y\":[0.4],\"yaxis\":\"y\",\"type\":\"scatter\"},{\"hovertemplate\":\"Team=Arsenal<br>Matches played=10<br>Average goals scored last five games=%{x}<br>Average goals conceded last five games=%{y}<extra></extra>\",\"legendgroup\":\"Arsenal\",\"marker\":{\"color\":\"#BCBD22\",\"opacity\":0.8,\"symbol\":\"circle\"},\"mode\":\"markers\",\"name\":\"Arsenal\",\"orientation\":\"v\",\"showlegend\":true,\"x\":[1.8],\"xaxis\":\"x\",\"y\":[0.4],\"yaxis\":\"y\",\"type\":\"scatter\"},{\"hovertemplate\":\"Team=West Ham<br>Matches played=10<br>Average goals scored last five games=%{x}<br>Average goals conceded last five games=%{y}<extra></extra>\",\"legendgroup\":\"West Ham\",\"marker\":{\"color\":\"#17BECF\",\"opacity\":0.8,\"symbol\":\"circle\"},\"mode\":\"markers\",\"name\":\"West Ham\",\"orientation\":\"v\",\"showlegend\":true,\"x\":[2.2],\"xaxis\":\"x\",\"y\":[1.6],\"yaxis\":\"y\",\"type\":\"scatter\"}],\"name\":\"10\"},{\"data\":[{\"hovertemplate\":\"Team=Brentford<br>Matches played=11<br>Average goals scored last five games=%{x}<br>Average goals conceded last five games=%{y}<extra></extra>\",\"legendgroup\":\"Brentford\",\"marker\":{\"color\":\"#1F77B4\",\"opacity\":0.8,\"symbol\":\"circle\"},\"mode\":\"markers\",\"name\":\"Brentford\",\"orientation\":\"v\",\"showlegend\":true,\"x\":[1.2],\"xaxis\":\"x\",\"y\":[1.2],\"yaxis\":\"y\",\"type\":\"scatter\"},{\"hovertemplate\":\"Team=Man United<br>Matches played=11<br>Average goals scored last five games=%{x}<br>Average goals conceded last five games=%{y}<extra></extra>\",\"legendgroup\":\"Man United\",\"marker\":{\"color\":\"#FF7F0E\",\"opacity\":0.8,\"symbol\":\"circle\"},\"mode\":\"markers\",\"name\":\"Man United\",\"orientation\":\"v\",\"showlegend\":true,\"x\":[1.6],\"xaxis\":\"x\",\"y\":[0.8],\"yaxis\":\"y\",\"type\":\"scatter\"},{\"hovertemplate\":\"Team=Burnley<br>Matches played=11<br>Average goals scored last five games=%{x}<br>Average goals conceded last five games=%{y}<extra></extra>\",\"legendgroup\":\"Burnley\",\"marker\":{\"color\":\"#2CA02C\",\"opacity\":0.8,\"symbol\":\"circle\"},\"mode\":\"markers\",\"name\":\"Burnley\",\"orientation\":\"v\",\"showlegend\":true,\"x\":[0.4],\"xaxis\":\"x\",\"y\":[0.4],\"yaxis\":\"y\",\"type\":\"scatter\"},{\"hovertemplate\":\"Team=Chelsea<br>Matches played=11<br>Average goals scored last five games=%{x}<br>Average goals conceded last five games=%{y}<extra></extra>\",\"legendgroup\":\"Chelsea\",\"marker\":{\"color\":\"#D62728\",\"opacity\":0.8,\"symbol\":\"circle\"},\"mode\":\"markers\",\"name\":\"Chelsea\",\"orientation\":\"v\",\"showlegend\":true,\"x\":[1.6],\"xaxis\":\"x\",\"y\":[1.4],\"yaxis\":\"y\",\"type\":\"scatter\"},{\"hovertemplate\":\"Team=Everton<br>Matches played=11<br>Average goals scored last five games=%{x}<br>Average goals conceded last five games=%{y}<extra></extra>\",\"legendgroup\":\"Everton\",\"marker\":{\"color\":\"#9467BD\",\"opacity\":0.8,\"symbol\":\"circle\"},\"mode\":\"markers\",\"name\":\"Everton\",\"orientation\":\"v\",\"showlegend\":true,\"x\":[1.6],\"xaxis\":\"x\",\"y\":[1.8],\"yaxis\":\"y\",\"type\":\"scatter\"},{\"hovertemplate\":\"Team=Leicester<br>Matches played=11<br>Average goals scored last five games=%{x}<br>Average goals conceded last five games=%{y}<extra></extra>\",\"legendgroup\":\"Leicester\",\"marker\":{\"color\":\"#8C564B\",\"opacity\":0.8,\"symbol\":\"circle\"},\"mode\":\"markers\",\"name\":\"Leicester\",\"orientation\":\"v\",\"showlegend\":true,\"x\":[2.4],\"xaxis\":\"x\",\"y\":[1.2],\"yaxis\":\"y\",\"type\":\"scatter\"},{\"hovertemplate\":\"Team=Watford<br>Matches played=11<br>Average goals scored last five games=%{x}<br>Average goals conceded last five games=%{y}<extra></extra>\",\"legendgroup\":\"Watford\",\"marker\":{\"color\":\"#E377C2\",\"opacity\":0.8,\"symbol\":\"circle\"},\"mode\":\"markers\",\"name\":\"Watford\",\"orientation\":\"v\",\"showlegend\":true,\"x\":[0.6],\"xaxis\":\"x\",\"y\":[2.6],\"yaxis\":\"y\",\"type\":\"scatter\"},{\"hovertemplate\":\"Team=Norwich<br>Matches played=11<br>Average goals scored last five games=%{x}<br>Average goals conceded last five games=%{y}<extra></extra>\",\"legendgroup\":\"Norwich\",\"marker\":{\"color\":\"#7F7F7F\",\"opacity\":0.8,\"symbol\":\"circle\"},\"mode\":\"markers\",\"name\":\"Norwich\",\"orientation\":\"v\",\"showlegend\":true,\"x\":[0.4],\"xaxis\":\"x\",\"y\":[1.8],\"yaxis\":\"y\",\"type\":\"scatter\"},{\"hovertemplate\":\"Team=Newcastle<br>Matches played=11<br>Average goals scored last five games=%{x}<br>Average goals conceded last five games=%{y}<extra></extra>\",\"legendgroup\":\"Newcastle\",\"marker\":{\"color\":\"#BCBD22\",\"opacity\":0.8,\"symbol\":\"circle\"},\"mode\":\"markers\",\"name\":\"Newcastle\",\"orientation\":\"v\",\"showlegend\":true,\"x\":[0.8],\"xaxis\":\"x\",\"y\":[1.4],\"yaxis\":\"y\",\"type\":\"scatter\"},{\"hovertemplate\":\"Team=Tottenham<br>Matches played=11<br>Average goals scored last five games=%{x}<br>Average goals conceded last five games=%{y}<extra></extra>\",\"legendgroup\":\"Tottenham\",\"marker\":{\"color\":\"#17BECF\",\"opacity\":0.8,\"symbol\":\"circle\"},\"mode\":\"markers\",\"name\":\"Tottenham\",\"orientation\":\"v\",\"showlegend\":true,\"x\":[2.4],\"xaxis\":\"x\",\"y\":[1.0],\"yaxis\":\"y\",\"type\":\"scatter\"},{\"hovertemplate\":\"Team=Liverpool<br>Matches played=11<br>Average goals scored last five games=%{x}<br>Average goals conceded last five games=%{y}<extra></extra>\",\"legendgroup\":\"Liverpool\",\"marker\":{\"color\":\"#1F77B4\",\"opacity\":0.8,\"symbol\":\"circle\"},\"mode\":\"markers\",\"name\":\"Liverpool\",\"orientation\":\"v\",\"showlegend\":true,\"x\":[2.6],\"xaxis\":\"x\",\"y\":[0.2],\"yaxis\":\"y\",\"type\":\"scatter\"},{\"hovertemplate\":\"Team=Aston Villa<br>Matches played=11<br>Average goals scored last five games=%{x}<br>Average goals conceded last five games=%{y}<extra></extra>\",\"legendgroup\":\"Aston Villa\",\"marker\":{\"color\":\"#FF7F0E\",\"opacity\":0.8,\"symbol\":\"circle\"},\"mode\":\"markers\",\"name\":\"Aston Villa\",\"orientation\":\"v\",\"showlegend\":true,\"x\":[1.8],\"xaxis\":\"x\",\"y\":[2.2],\"yaxis\":\"y\",\"type\":\"scatter\"},{\"hovertemplate\":\"Team=Crystal Palace<br>Matches played=11<br>Average goals scored last five games=%{x}<br>Average goals conceded last five games=%{y}<extra></extra>\",\"legendgroup\":\"Crystal Palace\",\"marker\":{\"color\":\"#2CA02C\",\"opacity\":0.8,\"symbol\":\"circle\"},\"mode\":\"markers\",\"name\":\"Crystal Palace\",\"orientation\":\"v\",\"showlegend\":true,\"x\":[2.2],\"xaxis\":\"x\",\"y\":[1.6],\"yaxis\":\"y\",\"type\":\"scatter\"},{\"hovertemplate\":\"Team=Leeds<br>Matches played=11<br>Average goals scored last five games=%{x}<br>Average goals conceded last five games=%{y}<extra></extra>\",\"legendgroup\":\"Leeds\",\"marker\":{\"color\":\"#D62728\",\"opacity\":0.8,\"symbol\":\"circle\"},\"mode\":\"markers\",\"name\":\"Leeds\",\"orientation\":\"v\",\"showlegend\":true,\"x\":[1.4],\"xaxis\":\"x\",\"y\":[1.6],\"yaxis\":\"y\",\"type\":\"scatter\"},{\"hovertemplate\":\"Team=Man City<br>Matches played=11<br>Average goals scored last five games=%{x}<br>Average goals conceded last five games=%{y}<extra></extra>\",\"legendgroup\":\"Man City\",\"marker\":{\"color\":\"#9467BD\",\"opacity\":0.8,\"symbol\":\"circle\"},\"mode\":\"markers\",\"name\":\"Man City\",\"orientation\":\"v\",\"showlegend\":true,\"x\":[3.4],\"xaxis\":\"x\",\"y\":[0.8],\"yaxis\":\"y\",\"type\":\"scatter\"},{\"hovertemplate\":\"Team=Brighton<br>Matches played=11<br>Average goals scored last five games=%{x}<br>Average goals conceded last five games=%{y}<extra></extra>\",\"legendgroup\":\"Brighton\",\"marker\":{\"color\":\"#8C564B\",\"opacity\":0.8,\"symbol\":\"circle\"},\"mode\":\"markers\",\"name\":\"Brighton\",\"orientation\":\"v\",\"showlegend\":true,\"x\":[0.8],\"xaxis\":\"x\",\"y\":[0.6],\"yaxis\":\"y\",\"type\":\"scatter\"},{\"hovertemplate\":\"Team=Southampton<br>Matches played=11<br>Average goals scored last five games=%{x}<br>Average goals conceded last five games=%{y}<extra></extra>\",\"legendgroup\":\"Southampton\",\"marker\":{\"color\":\"#E377C2\",\"opacity\":0.8,\"symbol\":\"circle\"},\"mode\":\"markers\",\"name\":\"Southampton\",\"orientation\":\"v\",\"showlegend\":true,\"x\":[1.8],\"xaxis\":\"x\",\"y\":[1.2],\"yaxis\":\"y\",\"type\":\"scatter\"},{\"hovertemplate\":\"Team=Wolves<br>Matches played=11<br>Average goals scored last five games=%{x}<br>Average goals conceded last five games=%{y}<extra></extra>\",\"legendgroup\":\"Wolves\",\"marker\":{\"color\":\"#7F7F7F\",\"opacity\":0.8,\"symbol\":\"circle\"},\"mode\":\"markers\",\"name\":\"Wolves\",\"orientation\":\"v\",\"showlegend\":true,\"x\":[0.6],\"xaxis\":\"x\",\"y\":[0.6],\"yaxis\":\"y\",\"type\":\"scatter\"},{\"hovertemplate\":\"Team=Arsenal<br>Matches played=11<br>Average goals scored last five games=%{x}<br>Average goals conceded last five games=%{y}<extra></extra>\",\"legendgroup\":\"Arsenal\",\"marker\":{\"color\":\"#BCBD22\",\"opacity\":0.8,\"symbol\":\"circle\"},\"mode\":\"markers\",\"name\":\"Arsenal\",\"orientation\":\"v\",\"showlegend\":true,\"x\":[1.6],\"xaxis\":\"x\",\"y\":[0.4],\"yaxis\":\"y\",\"type\":\"scatter\"},{\"hovertemplate\":\"Team=West Ham<br>Matches played=11<br>Average goals scored last five games=%{x}<br>Average goals conceded last five games=%{y}<extra></extra>\",\"legendgroup\":\"West Ham\",\"marker\":{\"color\":\"#17BECF\",\"opacity\":0.8,\"symbol\":\"circle\"},\"mode\":\"markers\",\"name\":\"West Ham\",\"orientation\":\"v\",\"showlegend\":true,\"x\":[2.0],\"xaxis\":\"x\",\"y\":[1.8],\"yaxis\":\"y\",\"type\":\"scatter\"}],\"name\":\"11\"},{\"data\":[{\"hovertemplate\":\"Team=Brentford<br>Matches played=12<br>Average goals scored last five games=%{x}<br>Average goals conceded last five games=%{y}<extra></extra>\",\"legendgroup\":\"Brentford\",\"marker\":{\"color\":\"#1F77B4\",\"opacity\":0.8,\"symbol\":\"circle\"},\"mode\":\"markers\",\"name\":\"Brentford\",\"orientation\":\"v\",\"showlegend\":true,\"x\":[1.2],\"xaxis\":\"x\",\"y\":[1.6],\"yaxis\":\"y\",\"type\":\"scatter\"},{\"hovertemplate\":\"Team=Man United<br>Matches played=12<br>Average goals scored last five games=%{x}<br>Average goals conceded last five games=%{y}<extra></extra>\",\"legendgroup\":\"Man United\",\"marker\":{\"color\":\"#FF7F0E\",\"opacity\":0.8,\"symbol\":\"circle\"},\"mode\":\"markers\",\"name\":\"Man United\",\"orientation\":\"v\",\"showlegend\":true,\"x\":[1.2],\"xaxis\":\"x\",\"y\":[0.6],\"yaxis\":\"y\",\"type\":\"scatter\"},{\"hovertemplate\":\"Team=Burnley<br>Matches played=12<br>Average goals scored last five games=%{x}<br>Average goals conceded last five games=%{y}<extra></extra>\",\"legendgroup\":\"Burnley\",\"marker\":{\"color\":\"#2CA02C\",\"opacity\":0.8,\"symbol\":\"circle\"},\"mode\":\"markers\",\"name\":\"Burnley\",\"orientation\":\"v\",\"showlegend\":true,\"x\":[0.4],\"xaxis\":\"x\",\"y\":[0.8],\"yaxis\":\"y\",\"type\":\"scatter\"},{\"hovertemplate\":\"Team=Chelsea<br>Matches played=12<br>Average goals scored last five games=%{x}<br>Average goals conceded last five games=%{y}<extra></extra>\",\"legendgroup\":\"Chelsea\",\"marker\":{\"color\":\"#D62728\",\"opacity\":0.8,\"symbol\":\"circle\"},\"mode\":\"markers\",\"name\":\"Chelsea\",\"orientation\":\"v\",\"showlegend\":true,\"x\":[1.8],\"xaxis\":\"x\",\"y\":[1.2],\"yaxis\":\"y\",\"type\":\"scatter\"},{\"hovertemplate\":\"Team=Everton<br>Matches played=12<br>Average goals scored last five games=%{x}<br>Average goals conceded last five games=%{y}<extra></extra>\",\"legendgroup\":\"Everton\",\"marker\":{\"color\":\"#9467BD\",\"opacity\":0.8,\"symbol\":\"circle\"},\"mode\":\"markers\",\"name\":\"Everton\",\"orientation\":\"v\",\"showlegend\":true,\"x\":[1.4],\"xaxis\":\"x\",\"y\":[1.2],\"yaxis\":\"y\",\"type\":\"scatter\"},{\"hovertemplate\":\"Team=Leicester<br>Matches played=12<br>Average goals scored last five games=%{x}<br>Average goals conceded last five games=%{y}<extra></extra>\",\"legendgroup\":\"Leicester\",\"marker\":{\"color\":\"#8C564B\",\"opacity\":0.8,\"symbol\":\"circle\"},\"mode\":\"markers\",\"name\":\"Leicester\",\"orientation\":\"v\",\"showlegend\":true,\"x\":[2.0],\"xaxis\":\"x\",\"y\":[1.2],\"yaxis\":\"y\",\"type\":\"scatter\"},{\"hovertemplate\":\"Team=Watford<br>Matches played=12<br>Average goals scored last five games=%{x}<br>Average goals conceded last five games=%{y}<extra></extra>\",\"legendgroup\":\"Watford\",\"marker\":{\"color\":\"#E377C2\",\"opacity\":0.8,\"symbol\":\"circle\"},\"mode\":\"markers\",\"name\":\"Watford\",\"orientation\":\"v\",\"showlegend\":true,\"x\":[0.4],\"xaxis\":\"x\",\"y\":[2.6],\"yaxis\":\"y\",\"type\":\"scatter\"},{\"hovertemplate\":\"Team=Norwich<br>Matches played=12<br>Average goals scored last five games=%{x}<br>Average goals conceded last five games=%{y}<extra></extra>\",\"legendgroup\":\"Norwich\",\"marker\":{\"color\":\"#7F7F7F\",\"opacity\":0.8,\"symbol\":\"circle\"},\"mode\":\"markers\",\"name\":\"Norwich\",\"orientation\":\"v\",\"showlegend\":true,\"x\":[0.6],\"xaxis\":\"x\",\"y\":[2.0],\"yaxis\":\"y\",\"type\":\"scatter\"},{\"hovertemplate\":\"Team=Newcastle<br>Matches played=12<br>Average goals scored last five games=%{x}<br>Average goals conceded last five games=%{y}<extra></extra>\",\"legendgroup\":\"Newcastle\",\"marker\":{\"color\":\"#BCBD22\",\"opacity\":0.8,\"symbol\":\"circle\"},\"mode\":\"markers\",\"name\":\"Newcastle\",\"orientation\":\"v\",\"showlegend\":true,\"x\":[1.2],\"xaxis\":\"x\",\"y\":[1.4],\"yaxis\":\"y\",\"type\":\"scatter\"},{\"hovertemplate\":\"Team=Tottenham<br>Matches played=12<br>Average goals scored last five games=%{x}<br>Average goals conceded last five games=%{y}<extra></extra>\",\"legendgroup\":\"Tottenham\",\"marker\":{\"color\":\"#17BECF\",\"opacity\":0.8,\"symbol\":\"circle\"},\"mode\":\"markers\",\"name\":\"Tottenham\",\"orientation\":\"v\",\"showlegend\":true,\"x\":[2.0],\"xaxis\":\"x\",\"y\":[1.4],\"yaxis\":\"y\",\"type\":\"scatter\"},{\"hovertemplate\":\"Team=Liverpool<br>Matches played=12<br>Average goals scored last five games=%{x}<br>Average goals conceded last five games=%{y}<extra></extra>\",\"legendgroup\":\"Liverpool\",\"marker\":{\"color\":\"#1F77B4\",\"opacity\":0.8,\"symbol\":\"circle\"},\"mode\":\"markers\",\"name\":\"Liverpool\",\"orientation\":\"v\",\"showlegend\":true,\"x\":[2.4],\"xaxis\":\"x\",\"y\":[0.4],\"yaxis\":\"y\",\"type\":\"scatter\"},{\"hovertemplate\":\"Team=Aston Villa<br>Matches played=12<br>Average goals scored last five games=%{x}<br>Average goals conceded last five games=%{y}<extra></extra>\",\"legendgroup\":\"Aston Villa\",\"marker\":{\"color\":\"#FF7F0E\",\"opacity\":0.8,\"symbol\":\"circle\"},\"mode\":\"markers\",\"name\":\"Aston Villa\",\"orientation\":\"v\",\"showlegend\":true,\"x\":[1.6],\"xaxis\":\"x\",\"y\":[2.0],\"yaxis\":\"y\",\"type\":\"scatter\"},{\"hovertemplate\":\"Team=Crystal Palace<br>Matches played=12<br>Average goals scored last five games=%{x}<br>Average goals conceded last five games=%{y}<extra></extra>\",\"legendgroup\":\"Crystal Palace\",\"marker\":{\"color\":\"#2CA02C\",\"opacity\":0.8,\"symbol\":\"circle\"},\"mode\":\"markers\",\"name\":\"Crystal Palace\",\"orientation\":\"v\",\"showlegend\":true,\"x\":[2.2],\"xaxis\":\"x\",\"y\":[1.8],\"yaxis\":\"y\",\"type\":\"scatter\"},{\"hovertemplate\":\"Team=Leeds<br>Matches played=12<br>Average goals scored last five games=%{x}<br>Average goals conceded last five games=%{y}<extra></extra>\",\"legendgroup\":\"Leeds\",\"marker\":{\"color\":\"#D62728\",\"opacity\":0.8,\"symbol\":\"circle\"},\"mode\":\"markers\",\"name\":\"Leeds\",\"orientation\":\"v\",\"showlegend\":true,\"x\":[1.6],\"xaxis\":\"x\",\"y\":[2.4],\"yaxis\":\"y\",\"type\":\"scatter\"},{\"hovertemplate\":\"Team=Man City<br>Matches played=12<br>Average goals scored last five games=%{x}<br>Average goals conceded last five games=%{y}<extra></extra>\",\"legendgroup\":\"Man City\",\"marker\":{\"color\":\"#9467BD\",\"opacity\":0.8,\"symbol\":\"circle\"},\"mode\":\"markers\",\"name\":\"Man City\",\"orientation\":\"v\",\"showlegend\":true,\"x\":[3.4],\"xaxis\":\"x\",\"y\":[0.6],\"yaxis\":\"y\",\"type\":\"scatter\"},{\"hovertemplate\":\"Team=Brighton<br>Matches played=12<br>Average goals scored last five games=%{x}<br>Average goals conceded last five games=%{y}<extra></extra>\",\"legendgroup\":\"Brighton\",\"marker\":{\"color\":\"#8C564B\",\"opacity\":0.8,\"symbol\":\"circle\"},\"mode\":\"markers\",\"name\":\"Brighton\",\"orientation\":\"v\",\"showlegend\":true,\"x\":[0.8],\"xaxis\":\"x\",\"y\":[1.2],\"yaxis\":\"y\",\"type\":\"scatter\"},{\"hovertemplate\":\"Team=Southampton<br>Matches played=12<br>Average goals scored last five games=%{x}<br>Average goals conceded last five games=%{y}<extra></extra>\",\"legendgroup\":\"Southampton\",\"marker\":{\"color\":\"#E377C2\",\"opacity\":0.8,\"symbol\":\"circle\"},\"mode\":\"markers\",\"name\":\"Southampton\",\"orientation\":\"v\",\"showlegend\":true,\"x\":[1.8],\"xaxis\":\"x\",\"y\":[0.8],\"yaxis\":\"y\",\"type\":\"scatter\"},{\"hovertemplate\":\"Team=Wolves<br>Matches played=12<br>Average goals scored last five games=%{x}<br>Average goals conceded last five games=%{y}<extra></extra>\",\"legendgroup\":\"Wolves\",\"marker\":{\"color\":\"#7F7F7F\",\"opacity\":0.8,\"symbol\":\"circle\"},\"mode\":\"markers\",\"name\":\"Wolves\",\"orientation\":\"v\",\"showlegend\":true,\"x\":[1.0],\"xaxis\":\"x\",\"y\":[0.8],\"yaxis\":\"y\",\"type\":\"scatter\"},{\"hovertemplate\":\"Team=Arsenal<br>Matches played=12<br>Average goals scored last five games=%{x}<br>Average goals conceded last five games=%{y}<extra></extra>\",\"legendgroup\":\"Arsenal\",\"marker\":{\"color\":\"#BCBD22\",\"opacity\":0.8,\"symbol\":\"circle\"},\"mode\":\"markers\",\"name\":\"Arsenal\",\"orientation\":\"v\",\"showlegend\":true,\"x\":[1.6],\"xaxis\":\"x\",\"y\":[0.6],\"yaxis\":\"y\",\"type\":\"scatter\"},{\"hovertemplate\":\"Team=West Ham<br>Matches played=12<br>Average goals scored last five games=%{x}<br>Average goals conceded last five games=%{y}<extra></extra>\",\"legendgroup\":\"West Ham\",\"marker\":{\"color\":\"#17BECF\",\"opacity\":0.8,\"symbol\":\"circle\"},\"mode\":\"markers\",\"name\":\"West Ham\",\"orientation\":\"v\",\"showlegend\":true,\"x\":[2.0],\"xaxis\":\"x\",\"y\":[1.6],\"yaxis\":\"y\",\"type\":\"scatter\"}],\"name\":\"12\"},{\"data\":[{\"hovertemplate\":\"Team=Brentford<br>Matches played=13<br>Average goals scored last five games=%{x}<br>Average goals conceded last five games=%{y}<extra></extra>\",\"legendgroup\":\"Brentford\",\"marker\":{\"color\":\"#1F77B4\",\"opacity\":0.8,\"symbol\":\"circle\"},\"mode\":\"markers\",\"name\":\"Brentford\",\"orientation\":\"v\",\"showlegend\":true,\"x\":[0.8],\"xaxis\":\"x\",\"y\":[1.4],\"yaxis\":\"y\",\"type\":\"scatter\"},{\"hovertemplate\":\"Team=Man United<br>Matches played=13<br>Average goals scored last five games=%{x}<br>Average goals conceded last five games=%{y}<extra></extra>\",\"legendgroup\":\"Man United\",\"marker\":{\"color\":\"#FF7F0E\",\"opacity\":0.8,\"symbol\":\"circle\"},\"mode\":\"markers\",\"name\":\"Man United\",\"orientation\":\"v\",\"showlegend\":true,\"x\":[1.4],\"xaxis\":\"x\",\"y\":[0.6],\"yaxis\":\"y\",\"type\":\"scatter\"},{\"hovertemplate\":\"Team=Burnley<br>Matches played=13<br>Average goals scored last five games=%{x}<br>Average goals conceded last five games=%{y}<extra></extra>\",\"legendgroup\":\"Burnley\",\"marker\":{\"color\":\"#2CA02C\",\"opacity\":0.8,\"symbol\":\"circle\"},\"mode\":\"markers\",\"name\":\"Burnley\",\"orientation\":\"v\",\"showlegend\":true,\"x\":[0.4],\"xaxis\":\"x\",\"y\":[1.6],\"yaxis\":\"y\",\"type\":\"scatter\"},{\"hovertemplate\":\"Team=Chelsea<br>Matches played=13<br>Average goals scored last five games=%{x}<br>Average goals conceded last five games=%{y}<extra></extra>\",\"legendgroup\":\"Chelsea\",\"marker\":{\"color\":\"#D62728\",\"opacity\":0.8,\"symbol\":\"circle\"},\"mode\":\"markers\",\"name\":\"Chelsea\",\"orientation\":\"v\",\"showlegend\":true,\"x\":[1.4],\"xaxis\":\"x\",\"y\":[0.8],\"yaxis\":\"y\",\"type\":\"scatter\"},{\"hovertemplate\":\"Team=Everton<br>Matches played=13<br>Average goals scored last five games=%{x}<br>Average goals conceded last five games=%{y}<extra></extra>\",\"legendgroup\":\"Everton\",\"marker\":{\"color\":\"#9467BD\",\"opacity\":0.8,\"symbol\":\"circle\"},\"mode\":\"markers\",\"name\":\"Everton\",\"orientation\":\"v\",\"showlegend\":true,\"x\":[1.0],\"xaxis\":\"x\",\"y\":[1.2],\"yaxis\":\"y\",\"type\":\"scatter\"},{\"hovertemplate\":\"Team=Leicester<br>Matches played=13<br>Average goals scored last five games=%{x}<br>Average goals conceded last five games=%{y}<extra></extra>\",\"legendgroup\":\"Leicester\",\"marker\":{\"color\":\"#8C564B\",\"opacity\":0.8,\"symbol\":\"circle\"},\"mode\":\"markers\",\"name\":\"Leicester\",\"orientation\":\"v\",\"showlegend\":true,\"x\":[1.4],\"xaxis\":\"x\",\"y\":[1.2],\"yaxis\":\"y\",\"type\":\"scatter\"},{\"hovertemplate\":\"Team=Watford<br>Matches played=13<br>Average goals scored last five games=%{x}<br>Average goals conceded last five games=%{y}<extra></extra>\",\"legendgroup\":\"Watford\",\"marker\":{\"color\":\"#E377C2\",\"opacity\":0.8,\"symbol\":\"circle\"},\"mode\":\"markers\",\"name\":\"Watford\",\"orientation\":\"v\",\"showlegend\":true,\"x\":[0.4],\"xaxis\":\"x\",\"y\":[2.8],\"yaxis\":\"y\",\"type\":\"scatter\"},{\"hovertemplate\":\"Team=Norwich<br>Matches played=13<br>Average goals scored last five games=%{x}<br>Average goals conceded last five games=%{y}<extra></extra>\",\"legendgroup\":\"Norwich\",\"marker\":{\"color\":\"#7F7F7F\",\"opacity\":0.8,\"symbol\":\"circle\"},\"mode\":\"markers\",\"name\":\"Norwich\",\"orientation\":\"v\",\"showlegend\":true,\"x\":[0.6],\"xaxis\":\"x\",\"y\":[2.6],\"yaxis\":\"y\",\"type\":\"scatter\"},{\"hovertemplate\":\"Team=Newcastle<br>Matches played=13<br>Average goals scored last five games=%{x}<br>Average goals conceded last five games=%{y}<extra></extra>\",\"legendgroup\":\"Newcastle\",\"marker\":{\"color\":\"#BCBD22\",\"opacity\":0.8,\"symbol\":\"circle\"},\"mode\":\"markers\",\"name\":\"Newcastle\",\"orientation\":\"v\",\"showlegend\":true,\"x\":[1.2],\"xaxis\":\"x\",\"y\":[1.4],\"yaxis\":\"y\",\"type\":\"scatter\"},{\"hovertemplate\":\"Team=Tottenham<br>Matches played=13<br>Average goals scored last five games=%{x}<br>Average goals conceded last five games=%{y}<extra></extra>\",\"legendgroup\":\"Tottenham\",\"marker\":{\"color\":\"#17BECF\",\"opacity\":0.8,\"symbol\":\"circle\"},\"mode\":\"markers\",\"name\":\"Tottenham\",\"orientation\":\"v\",\"showlegend\":true,\"x\":[2.4],\"xaxis\":\"x\",\"y\":[1.4],\"yaxis\":\"y\",\"type\":\"scatter\"},{\"hovertemplate\":\"Team=Liverpool<br>Matches played=13<br>Average goals scored last five games=%{x}<br>Average goals conceded last five games=%{y}<extra></extra>\",\"legendgroup\":\"Liverpool\",\"marker\":{\"color\":\"#1F77B4\",\"opacity\":0.8,\"symbol\":\"circle\"},\"mode\":\"markers\",\"name\":\"Liverpool\",\"orientation\":\"v\",\"showlegend\":true,\"x\":[3.4],\"xaxis\":\"x\",\"y\":[0.4],\"yaxis\":\"y\",\"type\":\"scatter\"},{\"hovertemplate\":\"Team=Aston Villa<br>Matches played=13<br>Average goals scored last five games=%{x}<br>Average goals conceded last five games=%{y}<extra></extra>\",\"legendgroup\":\"Aston Villa\",\"marker\":{\"color\":\"#FF7F0E\",\"opacity\":0.8,\"symbol\":\"circle\"},\"mode\":\"markers\",\"name\":\"Aston Villa\",\"orientation\":\"v\",\"showlegend\":true,\"x\":[2.0],\"xaxis\":\"x\",\"y\":[1.8],\"yaxis\":\"y\",\"type\":\"scatter\"},{\"hovertemplate\":\"Team=Crystal Palace<br>Matches played=13<br>Average goals scored last five games=%{x}<br>Average goals conceded last five games=%{y}<extra></extra>\",\"legendgroup\":\"Crystal Palace\",\"marker\":{\"color\":\"#2CA02C\",\"opacity\":0.8,\"symbol\":\"circle\"},\"mode\":\"markers\",\"name\":\"Crystal Palace\",\"orientation\":\"v\",\"showlegend\":true,\"x\":[1.6],\"xaxis\":\"x\",\"y\":[1.8],\"yaxis\":\"y\",\"type\":\"scatter\"},{\"hovertemplate\":\"Team=Leeds<br>Matches played=13<br>Average goals scored last five games=%{x}<br>Average goals conceded last five games=%{y}<extra></extra>\",\"legendgroup\":\"Leeds\",\"marker\":{\"color\":\"#D62728\",\"opacity\":0.8,\"symbol\":\"circle\"},\"mode\":\"markers\",\"name\":\"Leeds\",\"orientation\":\"v\",\"showlegend\":true,\"x\":[1.2],\"xaxis\":\"x\",\"y\":[2.8],\"yaxis\":\"y\",\"type\":\"scatter\"},{\"hovertemplate\":\"Team=Man City<br>Matches played=13<br>Average goals scored last five games=%{x}<br>Average goals conceded last five games=%{y}<extra></extra>\",\"legendgroup\":\"Man City\",\"marker\":{\"color\":\"#9467BD\",\"opacity\":0.8,\"symbol\":\"circle\"},\"mode\":\"markers\",\"name\":\"Man City\",\"orientation\":\"v\",\"showlegend\":true,\"x\":[3.6],\"xaxis\":\"x\",\"y\":[1.2],\"yaxis\":\"y\",\"type\":\"scatter\"},{\"hovertemplate\":\"Team=Brighton<br>Matches played=13<br>Average goals scored last five games=%{x}<br>Average goals conceded last five games=%{y}<extra></extra>\",\"legendgroup\":\"Brighton\",\"marker\":{\"color\":\"#8C564B\",\"opacity\":0.8,\"symbol\":\"circle\"},\"mode\":\"markers\",\"name\":\"Brighton\",\"orientation\":\"v\",\"showlegend\":true,\"x\":[0.8],\"xaxis\":\"x\",\"y\":[1.4],\"yaxis\":\"y\",\"type\":\"scatter\"},{\"hovertemplate\":\"Team=Southampton<br>Matches played=13<br>Average goals scored last five games=%{x}<br>Average goals conceded last five games=%{y}<extra></extra>\",\"legendgroup\":\"Southampton\",\"marker\":{\"color\":\"#E377C2\",\"opacity\":0.8,\"symbol\":\"circle\"},\"mode\":\"markers\",\"name\":\"Southampton\",\"orientation\":\"v\",\"showlegend\":true,\"x\":[2.0],\"xaxis\":\"x\",\"y\":[0.6],\"yaxis\":\"y\",\"type\":\"scatter\"},{\"hovertemplate\":\"Team=Wolves<br>Matches played=13<br>Average goals scored last five games=%{x}<br>Average goals conceded last five games=%{y}<extra></extra>\",\"legendgroup\":\"Wolves\",\"marker\":{\"color\":\"#7F7F7F\",\"opacity\":0.8,\"symbol\":\"circle\"},\"mode\":\"markers\",\"name\":\"Wolves\",\"orientation\":\"v\",\"showlegend\":true,\"x\":[1.0],\"xaxis\":\"x\",\"y\":[1.0],\"yaxis\":\"y\",\"type\":\"scatter\"},{\"hovertemplate\":\"Team=Arsenal<br>Matches played=13<br>Average goals scored last five games=%{x}<br>Average goals conceded last five games=%{y}<extra></extra>\",\"legendgroup\":\"Arsenal\",\"marker\":{\"color\":\"#BCBD22\",\"opacity\":0.8,\"symbol\":\"circle\"},\"mode\":\"markers\",\"name\":\"Arsenal\",\"orientation\":\"v\",\"showlegend\":true,\"x\":[1.4],\"xaxis\":\"x\",\"y\":[0.8],\"yaxis\":\"y\",\"type\":\"scatter\"},{\"hovertemplate\":\"Team=West Ham<br>Matches played=13<br>Average goals scored last five games=%{x}<br>Average goals conceded last five games=%{y}<extra></extra>\",\"legendgroup\":\"West Ham\",\"marker\":{\"color\":\"#17BECF\",\"opacity\":0.8,\"symbol\":\"circle\"},\"mode\":\"markers\",\"name\":\"West Ham\",\"orientation\":\"v\",\"showlegend\":true,\"x\":[1.6],\"xaxis\":\"x\",\"y\":[1.4],\"yaxis\":\"y\",\"type\":\"scatter\"}],\"name\":\"13\"},{\"data\":[{\"hovertemplate\":\"Team=Brentford<br>Matches played=14<br>Average goals scored last five games=%{x}<br>Average goals conceded last five games=%{y}<extra></extra>\",\"legendgroup\":\"Brentford\",\"marker\":{\"color\":\"#1F77B4\",\"opacity\":0.8,\"symbol\":\"circle\"},\"mode\":\"markers\",\"name\":\"Brentford\",\"orientation\":\"v\",\"showlegend\":true,\"x\":[0.8],\"xaxis\":\"x\",\"y\":[1.6],\"yaxis\":\"y\",\"type\":\"scatter\"},{\"hovertemplate\":\"Team=Man United<br>Matches played=14<br>Average goals scored last five games=%{x}<br>Average goals conceded last five games=%{y}<extra></extra>\",\"legendgroup\":\"Man United\",\"marker\":{\"color\":\"#FF7F0E\",\"opacity\":0.8,\"symbol\":\"circle\"},\"mode\":\"markers\",\"name\":\"Man United\",\"orientation\":\"v\",\"showlegend\":true,\"x\":[0.8],\"xaxis\":\"x\",\"y\":[0.4],\"yaxis\":\"y\",\"type\":\"scatter\"},{\"hovertemplate\":\"Team=Burnley<br>Matches played=14<br>Average goals scored last five games=%{x}<br>Average goals conceded last five games=%{y}<extra></extra>\",\"legendgroup\":\"Burnley\",\"marker\":{\"color\":\"#2CA02C\",\"opacity\":0.8,\"symbol\":\"circle\"},\"mode\":\"markers\",\"name\":\"Burnley\",\"orientation\":\"v\",\"showlegend\":true,\"x\":[0.2],\"xaxis\":\"x\",\"y\":[1.8],\"yaxis\":\"y\",\"type\":\"scatter\"},{\"hovertemplate\":\"Team=Chelsea<br>Matches played=14<br>Average goals scored last five games=%{x}<br>Average goals conceded last five games=%{y}<extra></extra>\",\"legendgroup\":\"Chelsea\",\"marker\":{\"color\":\"#D62728\",\"opacity\":0.8,\"symbol\":\"circle\"},\"mode\":\"markers\",\"name\":\"Chelsea\",\"orientation\":\"v\",\"showlegend\":true,\"x\":[1.4],\"xaxis\":\"x\",\"y\":[1.4],\"yaxis\":\"y\",\"type\":\"scatter\"},{\"hovertemplate\":\"Team=Everton<br>Matches played=14<br>Average goals scored last five games=%{x}<br>Average goals conceded last five games=%{y}<extra></extra>\",\"legendgroup\":\"Everton\",\"marker\":{\"color\":\"#9467BD\",\"opacity\":0.8,\"symbol\":\"circle\"},\"mode\":\"markers\",\"name\":\"Everton\",\"orientation\":\"v\",\"showlegend\":true,\"x\":[0.8],\"xaxis\":\"x\",\"y\":[0.6],\"yaxis\":\"y\",\"type\":\"scatter\"},{\"hovertemplate\":\"Team=Leicester<br>Matches played=14<br>Average goals scored last five games=%{x}<br>Average goals conceded last five games=%{y}<extra></extra>\",\"legendgroup\":\"Leicester\",\"marker\":{\"color\":\"#8C564B\",\"opacity\":0.8,\"symbol\":\"circle\"},\"mode\":\"markers\",\"name\":\"Leicester\",\"orientation\":\"v\",\"showlegend\":true,\"x\":[1.6],\"xaxis\":\"x\",\"y\":[1.4],\"yaxis\":\"y\",\"type\":\"scatter\"},{\"hovertemplate\":\"Team=Watford<br>Matches played=14<br>Average goals scored last five games=%{x}<br>Average goals conceded last five games=%{y}<extra></extra>\",\"legendgroup\":\"Watford\",\"marker\":{\"color\":\"#E377C2\",\"opacity\":0.8,\"symbol\":\"circle\"},\"mode\":\"markers\",\"name\":\"Watford\",\"orientation\":\"v\",\"showlegend\":true,\"x\":[0.6],\"xaxis\":\"x\",\"y\":[2.6],\"yaxis\":\"y\",\"type\":\"scatter\"},{\"hovertemplate\":\"Team=Norwich<br>Matches played=14<br>Average goals scored last five games=%{x}<br>Average goals conceded last five games=%{y}<extra></extra>\",\"legendgroup\":\"Norwich\",\"marker\":{\"color\":\"#7F7F7F\",\"opacity\":0.8,\"symbol\":\"circle\"},\"mode\":\"markers\",\"name\":\"Norwich\",\"orientation\":\"v\",\"showlegend\":true,\"x\":[0.8],\"xaxis\":\"x\",\"y\":[2.8],\"yaxis\":\"y\",\"type\":\"scatter\"},{\"hovertemplate\":\"Team=Newcastle<br>Matches played=14<br>Average goals scored last five games=%{x}<br>Average goals conceded last five games=%{y}<extra></extra>\",\"legendgroup\":\"Newcastle\",\"marker\":{\"color\":\"#BCBD22\",\"opacity\":0.8,\"symbol\":\"circle\"},\"mode\":\"markers\",\"name\":\"Newcastle\",\"orientation\":\"v\",\"showlegend\":true,\"x\":[1.6],\"xaxis\":\"x\",\"y\":[0.8],\"yaxis\":\"y\",\"type\":\"scatter\"},{\"hovertemplate\":\"Team=Tottenham<br>Matches played=14<br>Average goals scored last five games=%{x}<br>Average goals conceded last five games=%{y}<extra></extra>\",\"legendgroup\":\"Tottenham\",\"marker\":{\"color\":\"#17BECF\",\"opacity\":0.8,\"symbol\":\"circle\"},\"mode\":\"markers\",\"name\":\"Tottenham\",\"orientation\":\"v\",\"showlegend\":true,\"x\":[2.6],\"xaxis\":\"x\",\"y\":[1.2],\"yaxis\":\"y\",\"type\":\"scatter\"},{\"hovertemplate\":\"Team=Liverpool<br>Matches played=14<br>Average goals scored last five games=%{x}<br>Average goals conceded last five games=%{y}<extra></extra>\",\"legendgroup\":\"Liverpool\",\"marker\":{\"color\":\"#1F77B4\",\"opacity\":0.8,\"symbol\":\"circle\"},\"mode\":\"markers\",\"name\":\"Liverpool\",\"orientation\":\"v\",\"showlegend\":true,\"x\":[3.0],\"xaxis\":\"x\",\"y\":[0.2],\"yaxis\":\"y\",\"type\":\"scatter\"},{\"hovertemplate\":\"Team=Aston Villa<br>Matches played=14<br>Average goals scored last five games=%{x}<br>Average goals conceded last five games=%{y}<extra></extra>\",\"legendgroup\":\"Aston Villa\",\"marker\":{\"color\":\"#FF7F0E\",\"opacity\":0.8,\"symbol\":\"circle\"},\"mode\":\"markers\",\"name\":\"Aston Villa\",\"orientation\":\"v\",\"showlegend\":true,\"x\":[1.8],\"xaxis\":\"x\",\"y\":[1.4],\"yaxis\":\"y\",\"type\":\"scatter\"},{\"hovertemplate\":\"Team=Crystal Palace<br>Matches played=14<br>Average goals scored last five games=%{x}<br>Average goals conceded last five games=%{y}<extra></extra>\",\"legendgroup\":\"Crystal Palace\",\"marker\":{\"color\":\"#2CA02C\",\"opacity\":0.8,\"symbol\":\"circle\"},\"mode\":\"markers\",\"name\":\"Crystal Palace\",\"orientation\":\"v\",\"showlegend\":true,\"x\":[1.4],\"xaxis\":\"x\",\"y\":[1.6],\"yaxis\":\"y\",\"type\":\"scatter\"},{\"hovertemplate\":\"Team=Leeds<br>Matches played=14<br>Average goals scored last five games=%{x}<br>Average goals conceded last five games=%{y}<extra></extra>\",\"legendgroup\":\"Leeds\",\"marker\":{\"color\":\"#D62728\",\"opacity\":0.8,\"symbol\":\"circle\"},\"mode\":\"markers\",\"name\":\"Leeds\",\"orientation\":\"v\",\"showlegend\":true,\"x\":[1.0],\"xaxis\":\"x\",\"y\":[2.6],\"yaxis\":\"y\",\"type\":\"scatter\"},{\"hovertemplate\":\"Team=Man City<br>Matches played=14<br>Average goals scored last five games=%{x}<br>Average goals conceded last five games=%{y}<extra></extra>\",\"legendgroup\":\"Man City\",\"marker\":{\"color\":\"#9467BD\",\"opacity\":0.8,\"symbol\":\"circle\"},\"mode\":\"markers\",\"name\":\"Man City\",\"orientation\":\"v\",\"showlegend\":true,\"x\":[3.0],\"xaxis\":\"x\",\"y\":[1.4],\"yaxis\":\"y\",\"type\":\"scatter\"},{\"hovertemplate\":\"Team=Brighton<br>Matches played=14<br>Average goals scored last five games=%{x}<br>Average goals conceded last five games=%{y}<extra></extra>\",\"legendgroup\":\"Brighton\",\"marker\":{\"color\":\"#8C564B\",\"opacity\":0.8,\"symbol\":\"circle\"},\"mode\":\"markers\",\"name\":\"Brighton\",\"orientation\":\"v\",\"showlegend\":true,\"x\":[0.4],\"xaxis\":\"x\",\"y\":[1.8],\"yaxis\":\"y\",\"type\":\"scatter\"},{\"hovertemplate\":\"Team=Southampton<br>Matches played=14<br>Average goals scored last five games=%{x}<br>Average goals conceded last five games=%{y}<extra></extra>\",\"legendgroup\":\"Southampton\",\"marker\":{\"color\":\"#E377C2\",\"opacity\":0.8,\"symbol\":\"circle\"},\"mode\":\"markers\",\"name\":\"Southampton\",\"orientation\":\"v\",\"showlegend\":true,\"x\":[2.0],\"xaxis\":\"x\",\"y\":[0.8],\"yaxis\":\"y\",\"type\":\"scatter\"},{\"hovertemplate\":\"Team=Wolves<br>Matches played=14<br>Average goals scored last five games=%{x}<br>Average goals conceded last five games=%{y}<extra></extra>\",\"legendgroup\":\"Wolves\",\"marker\":{\"color\":\"#7F7F7F\",\"opacity\":0.8,\"symbol\":\"circle\"},\"mode\":\"markers\",\"name\":\"Wolves\",\"orientation\":\"v\",\"showlegend\":true,\"x\":[1.8],\"xaxis\":\"x\",\"y\":[1.0],\"yaxis\":\"y\",\"type\":\"scatter\"},{\"hovertemplate\":\"Team=Arsenal<br>Matches played=14<br>Average goals scored last five games=%{x}<br>Average goals conceded last five games=%{y}<extra></extra>\",\"legendgroup\":\"Arsenal\",\"marker\":{\"color\":\"#BCBD22\",\"opacity\":0.8,\"symbol\":\"circle\"},\"mode\":\"markers\",\"name\":\"Arsenal\",\"orientation\":\"v\",\"showlegend\":true,\"x\":[1.4],\"xaxis\":\"x\",\"y\":[0.8],\"yaxis\":\"y\",\"type\":\"scatter\"},{\"hovertemplate\":\"Team=West Ham<br>Matches played=14<br>Average goals scored last five games=%{x}<br>Average goals conceded last five games=%{y}<extra></extra>\",\"legendgroup\":\"West Ham\",\"marker\":{\"color\":\"#17BECF\",\"opacity\":0.8,\"symbol\":\"circle\"},\"mode\":\"markers\",\"name\":\"West Ham\",\"orientation\":\"v\",\"showlegend\":true,\"x\":[1.4],\"xaxis\":\"x\",\"y\":[0.8],\"yaxis\":\"y\",\"type\":\"scatter\"}],\"name\":\"14\"},{\"data\":[{\"hovertemplate\":\"Team=Brentford<br>Matches played=15<br>Average goals scored last five games=%{x}<br>Average goals conceded last five games=%{y}<extra></extra>\",\"legendgroup\":\"Brentford\",\"marker\":{\"color\":\"#1F77B4\",\"opacity\":0.8,\"symbol\":\"circle\"},\"mode\":\"markers\",\"name\":\"Brentford\",\"orientation\":\"v\",\"showlegend\":true,\"x\":[0.8],\"xaxis\":\"x\",\"y\":[1.4],\"yaxis\":\"y\",\"type\":\"scatter\"},{\"hovertemplate\":\"Team=Man United<br>Matches played=15<br>Average goals scored last five games=%{x}<br>Average goals conceded last five games=%{y}<extra></extra>\",\"legendgroup\":\"Man United\",\"marker\":{\"color\":\"#FF7F0E\",\"opacity\":0.8,\"symbol\":\"circle\"},\"mode\":\"markers\",\"name\":\"Man United\",\"orientation\":\"v\",\"showlegend\":true,\"x\":[1.4],\"xaxis\":\"x\",\"y\":[0.6],\"yaxis\":\"y\",\"type\":\"scatter\"},{\"hovertemplate\":\"Team=Burnley<br>Matches played=15<br>Average goals scored last five games=%{x}<br>Average goals conceded last five games=%{y}<extra></extra>\",\"legendgroup\":\"Burnley\",\"marker\":{\"color\":\"#2CA02C\",\"opacity\":0.8,\"symbol\":\"circle\"},\"mode\":\"markers\",\"name\":\"Burnley\",\"orientation\":\"v\",\"showlegend\":true,\"x\":[0.8],\"xaxis\":\"x\",\"y\":[2.0],\"yaxis\":\"y\",\"type\":\"scatter\"},{\"hovertemplate\":\"Team=Chelsea<br>Matches played=15<br>Average goals scored last five games=%{x}<br>Average goals conceded last five games=%{y}<extra></extra>\",\"legendgroup\":\"Chelsea\",\"marker\":{\"color\":\"#D62728\",\"opacity\":0.8,\"symbol\":\"circle\"},\"mode\":\"markers\",\"name\":\"Chelsea\",\"orientation\":\"v\",\"showlegend\":true,\"x\":[1.6],\"xaxis\":\"x\",\"y\":[2.0],\"yaxis\":\"y\",\"type\":\"scatter\"},{\"hovertemplate\":\"Team=Everton<br>Matches played=15<br>Average goals scored last five games=%{x}<br>Average goals conceded last five games=%{y}<extra></extra>\",\"legendgroup\":\"Everton\",\"marker\":{\"color\":\"#9467BD\",\"opacity\":0.8,\"symbol\":\"circle\"},\"mode\":\"markers\",\"name\":\"Everton\",\"orientation\":\"v\",\"showlegend\":true,\"x\":[1.0],\"xaxis\":\"x\",\"y\":[0.4],\"yaxis\":\"y\",\"type\":\"scatter\"},{\"hovertemplate\":\"Team=Leicester<br>Matches played=15<br>Average goals scored last five games=%{x}<br>Average goals conceded last five games=%{y}<extra></extra>\",\"legendgroup\":\"Leicester\",\"marker\":{\"color\":\"#8C564B\",\"opacity\":0.8,\"symbol\":\"circle\"},\"mode\":\"markers\",\"name\":\"Leicester\",\"orientation\":\"v\",\"showlegend\":true,\"x\":[1.6],\"xaxis\":\"x\",\"y\":[1.0],\"yaxis\":\"y\",\"type\":\"scatter\"},{\"hovertemplate\":\"Team=Watford<br>Matches played=15<br>Average goals scored last five games=%{x}<br>Average goals conceded last five games=%{y}<extra></extra>\",\"legendgroup\":\"Watford\",\"marker\":{\"color\":\"#E377C2\",\"opacity\":0.8,\"symbol\":\"circle\"},\"mode\":\"markers\",\"name\":\"Watford\",\"orientation\":\"v\",\"showlegend\":true,\"x\":[0.6],\"xaxis\":\"x\",\"y\":[3.0],\"yaxis\":\"y\",\"type\":\"scatter\"},{\"hovertemplate\":\"Team=Norwich<br>Matches played=15<br>Average goals scored last five games=%{x}<br>Average goals conceded last five games=%{y}<extra></extra>\",\"legendgroup\":\"Norwich\",\"marker\":{\"color\":\"#7F7F7F\",\"opacity\":0.8,\"symbol\":\"circle\"},\"mode\":\"markers\",\"name\":\"Norwich\",\"orientation\":\"v\",\"showlegend\":true,\"x\":[1.0],\"xaxis\":\"x\",\"y\":[2.4],\"yaxis\":\"y\",\"type\":\"scatter\"},{\"hovertemplate\":\"Team=Newcastle<br>Matches played=15<br>Average goals scored last five games=%{x}<br>Average goals conceded last five games=%{y}<extra></extra>\",\"legendgroup\":\"Newcastle\",\"marker\":{\"color\":\"#BCBD22\",\"opacity\":0.8,\"symbol\":\"circle\"},\"mode\":\"markers\",\"name\":\"Newcastle\",\"orientation\":\"v\",\"showlegend\":true,\"x\":[1.6],\"xaxis\":\"x\",\"y\":[0.6],\"yaxis\":\"y\",\"type\":\"scatter\"},{\"hovertemplate\":\"Team=Tottenham<br>Matches played=15<br>Average goals scored last five games=%{x}<br>Average goals conceded last five games=%{y}<extra></extra>\",\"legendgroup\":\"Tottenham\",\"marker\":{\"color\":\"#17BECF\",\"opacity\":0.8,\"symbol\":\"circle\"},\"mode\":\"markers\",\"name\":\"Tottenham\",\"orientation\":\"v\",\"showlegend\":true,\"x\":[3.0],\"xaxis\":\"x\",\"y\":[1.4],\"yaxis\":\"y\",\"type\":\"scatter\"},{\"hovertemplate\":\"Team=Liverpool<br>Matches played=15<br>Average goals scored last five games=%{x}<br>Average goals conceded last five games=%{y}<extra></extra>\",\"legendgroup\":\"Liverpool\",\"marker\":{\"color\":\"#1F77B4\",\"opacity\":0.8,\"symbol\":\"circle\"},\"mode\":\"markers\",\"name\":\"Liverpool\",\"orientation\":\"v\",\"showlegend\":true,\"x\":[2.8],\"xaxis\":\"x\",\"y\":[0.2],\"yaxis\":\"y\",\"type\":\"scatter\"},{\"hovertemplate\":\"Team=Aston Villa<br>Matches played=15<br>Average goals scored last five games=%{x}<br>Average goals conceded last five games=%{y}<extra></extra>\",\"legendgroup\":\"Aston Villa\",\"marker\":{\"color\":\"#FF7F0E\",\"opacity\":0.8,\"symbol\":\"circle\"},\"mode\":\"markers\",\"name\":\"Aston Villa\",\"orientation\":\"v\",\"showlegend\":true,\"x\":[1.4],\"xaxis\":\"x\",\"y\":[1.8],\"yaxis\":\"y\",\"type\":\"scatter\"},{\"hovertemplate\":\"Team=Crystal Palace<br>Matches played=15<br>Average goals scored last five games=%{x}<br>Average goals conceded last five games=%{y}<extra></extra>\",\"legendgroup\":\"Crystal Palace\",\"marker\":{\"color\":\"#2CA02C\",\"opacity\":0.8,\"symbol\":\"circle\"},\"mode\":\"markers\",\"name\":\"Crystal Palace\",\"orientation\":\"v\",\"showlegend\":true,\"x\":[0.8],\"xaxis\":\"x\",\"y\":[1.6],\"yaxis\":\"y\",\"type\":\"scatter\"},{\"hovertemplate\":\"Team=Leeds<br>Matches played=15<br>Average goals scored last five games=%{x}<br>Average goals conceded last five games=%{y}<extra></extra>\",\"legendgroup\":\"Leeds\",\"marker\":{\"color\":\"#D62728\",\"opacity\":0.8,\"symbol\":\"circle\"},\"mode\":\"markers\",\"name\":\"Leeds\",\"orientation\":\"v\",\"showlegend\":true,\"x\":[0.8],\"xaxis\":\"x\",\"y\":[2.6],\"yaxis\":\"y\",\"type\":\"scatter\"},{\"hovertemplate\":\"Team=Man City<br>Matches played=15<br>Average goals scored last five games=%{x}<br>Average goals conceded last five games=%{y}<extra></extra>\",\"legendgroup\":\"Man City\",\"marker\":{\"color\":\"#9467BD\",\"opacity\":0.8,\"symbol\":\"circle\"},\"mode\":\"markers\",\"name\":\"Man City\",\"orientation\":\"v\",\"showlegend\":true,\"x\":[2.2],\"xaxis\":\"x\",\"y\":[1.2],\"yaxis\":\"y\",\"type\":\"scatter\"},{\"hovertemplate\":\"Team=Brighton<br>Matches played=15<br>Average goals scored last five games=%{x}<br>Average goals conceded last five games=%{y}<extra></extra>\",\"legendgroup\":\"Brighton\",\"marker\":{\"color\":\"#8C564B\",\"opacity\":0.8,\"symbol\":\"circle\"},\"mode\":\"markers\",\"name\":\"Brighton\",\"orientation\":\"v\",\"showlegend\":true,\"x\":[0.2],\"xaxis\":\"x\",\"y\":[2.0],\"yaxis\":\"y\",\"type\":\"scatter\"},{\"hovertemplate\":\"Team=Southampton<br>Matches played=15<br>Average goals scored last five games=%{x}<br>Average goals conceded last five games=%{y}<extra></extra>\",\"legendgroup\":\"Southampton\",\"marker\":{\"color\":\"#E377C2\",\"opacity\":0.8,\"symbol\":\"circle\"},\"mode\":\"markers\",\"name\":\"Southampton\",\"orientation\":\"v\",\"showlegend\":true,\"x\":[1.4],\"xaxis\":\"x\",\"y\":[1.0],\"yaxis\":\"y\",\"type\":\"scatter\"},{\"hovertemplate\":\"Team=Wolves<br>Matches played=15<br>Average goals scored last five games=%{x}<br>Average goals conceded last five games=%{y}<extra></extra>\",\"legendgroup\":\"Wolves\",\"marker\":{\"color\":\"#7F7F7F\",\"opacity\":0.8,\"symbol\":\"circle\"},\"mode\":\"markers\",\"name\":\"Wolves\",\"orientation\":\"v\",\"showlegend\":true,\"x\":[1.6],\"xaxis\":\"x\",\"y\":[1.4],\"yaxis\":\"y\",\"type\":\"scatter\"},{\"hovertemplate\":\"Team=Arsenal<br>Matches played=15<br>Average goals scored last five games=%{x}<br>Average goals conceded last five games=%{y}<extra></extra>\",\"legendgroup\":\"Arsenal\",\"marker\":{\"color\":\"#BCBD22\",\"opacity\":0.8,\"symbol\":\"circle\"},\"mode\":\"markers\",\"name\":\"Arsenal\",\"orientation\":\"v\",\"showlegend\":true,\"x\":[1.2],\"xaxis\":\"x\",\"y\":[0.8],\"yaxis\":\"y\",\"type\":\"scatter\"},{\"hovertemplate\":\"Team=West Ham<br>Matches played=15<br>Average goals scored last five games=%{x}<br>Average goals conceded last five games=%{y}<extra></extra>\",\"legendgroup\":\"West Ham\",\"marker\":{\"color\":\"#17BECF\",\"opacity\":0.8,\"symbol\":\"circle\"},\"mode\":\"markers\",\"name\":\"West Ham\",\"orientation\":\"v\",\"showlegend\":true,\"x\":[1.4],\"xaxis\":\"x\",\"y\":[1.0],\"yaxis\":\"y\",\"type\":\"scatter\"}],\"name\":\"15\"},{\"data\":[{\"hovertemplate\":\"Team=Brentford<br>Matches played=16<br>Average goals scored last five games=%{x}<br>Average goals conceded last five games=%{y}<extra></extra>\",\"legendgroup\":\"Brentford\",\"marker\":{\"color\":\"#1F77B4\",\"opacity\":0.8,\"symbol\":\"circle\"},\"mode\":\"markers\",\"name\":\"Brentford\",\"orientation\":\"v\",\"showlegend\":true,\"x\":[1.0],\"xaxis\":\"x\",\"y\":[0.8],\"yaxis\":\"y\",\"type\":\"scatter\"},{\"hovertemplate\":\"Team=Man United<br>Matches played=16<br>Average goals scored last five games=%{x}<br>Average goals conceded last five games=%{y}<extra></extra>\",\"legendgroup\":\"Man United\",\"marker\":{\"color\":\"#FF7F0E\",\"opacity\":0.8,\"symbol\":\"circle\"},\"mode\":\"markers\",\"name\":\"Man United\",\"orientation\":\"v\",\"showlegend\":true,\"x\":[1.4],\"xaxis\":\"x\",\"y\":[0.8],\"yaxis\":\"y\",\"type\":\"scatter\"},{\"hovertemplate\":\"Team=Burnley<br>Matches played=16<br>Average goals scored last five games=%{x}<br>Average goals conceded last five games=%{y}<extra></extra>\",\"legendgroup\":\"Burnley\",\"marker\":{\"color\":\"#2CA02C\",\"opacity\":0.8,\"symbol\":\"circle\"},\"mode\":\"markers\",\"name\":\"Burnley\",\"orientation\":\"v\",\"showlegend\":true,\"x\":[1.0],\"xaxis\":\"x\",\"y\":[2.0],\"yaxis\":\"y\",\"type\":\"scatter\"},{\"hovertemplate\":\"Team=Chelsea<br>Matches played=16<br>Average goals scored last five games=%{x}<br>Average goals conceded last five games=%{y}<extra></extra>\",\"legendgroup\":\"Chelsea\",\"marker\":{\"color\":\"#D62728\",\"opacity\":0.8,\"symbol\":\"circle\"},\"mode\":\"markers\",\"name\":\"Chelsea\",\"orientation\":\"v\",\"showlegend\":true,\"x\":[1.4],\"xaxis\":\"x\",\"y\":[1.6],\"yaxis\":\"y\",\"type\":\"scatter\"},{\"hovertemplate\":\"Team=Everton<br>Matches played=16<br>Average goals scored last five games=%{x}<br>Average goals conceded last five games=%{y}<extra></extra>\",\"legendgroup\":\"Everton\",\"marker\":{\"color\":\"#9467BD\",\"opacity\":0.8,\"symbol\":\"circle\"},\"mode\":\"markers\",\"name\":\"Everton\",\"orientation\":\"v\",\"showlegend\":true,\"x\":[0.6],\"xaxis\":\"x\",\"y\":[0.6],\"yaxis\":\"y\",\"type\":\"scatter\"},{\"hovertemplate\":\"Team=Leicester<br>Matches played=16<br>Average goals scored last five games=%{x}<br>Average goals conceded last five games=%{y}<extra></extra>\",\"legendgroup\":\"Leicester\",\"marker\":{\"color\":\"#8C564B\",\"opacity\":0.8,\"symbol\":\"circle\"},\"mode\":\"markers\",\"name\":\"Leicester\",\"orientation\":\"v\",\"showlegend\":true,\"x\":[1.4],\"xaxis\":\"x\",\"y\":[0.8],\"yaxis\":\"y\",\"type\":\"scatter\"},{\"hovertemplate\":\"Team=Watford<br>Matches played=16<br>Average goals scored last five games=%{x}<br>Average goals conceded last five games=%{y}<extra></extra>\",\"legendgroup\":\"Watford\",\"marker\":{\"color\":\"#E377C2\",\"opacity\":0.8,\"symbol\":\"circle\"},\"mode\":\"markers\",\"name\":\"Watford\",\"orientation\":\"v\",\"showlegend\":true,\"x\":[0.8],\"xaxis\":\"x\",\"y\":[2.8],\"yaxis\":\"y\",\"type\":\"scatter\"},{\"hovertemplate\":\"Team=Norwich<br>Matches played=16<br>Average goals scored last five games=%{x}<br>Average goals conceded last five games=%{y}<extra></extra>\",\"legendgroup\":\"Norwich\",\"marker\":{\"color\":\"#7F7F7F\",\"opacity\":0.8,\"symbol\":\"circle\"},\"mode\":\"markers\",\"name\":\"Norwich\",\"orientation\":\"v\",\"showlegend\":true,\"x\":[1.0],\"xaxis\":\"x\",\"y\":[2.2],\"yaxis\":\"y\",\"type\":\"scatter\"},{\"hovertemplate\":\"Team=Newcastle<br>Matches played=16<br>Average goals scored last five games=%{x}<br>Average goals conceded last five games=%{y}<extra></extra>\",\"legendgroup\":\"Newcastle\",\"marker\":{\"color\":\"#BCBD22\",\"opacity\":0.8,\"symbol\":\"circle\"},\"mode\":\"markers\",\"name\":\"Newcastle\",\"orientation\":\"v\",\"showlegend\":true,\"x\":[1.8],\"xaxis\":\"x\",\"y\":[0.6],\"yaxis\":\"y\",\"type\":\"scatter\"},{\"hovertemplate\":\"Team=Tottenham<br>Matches played=16<br>Average goals scored last five games=%{x}<br>Average goals conceded last five games=%{y}<extra></extra>\",\"legendgroup\":\"Tottenham\",\"marker\":{\"color\":\"#17BECF\",\"opacity\":0.8,\"symbol\":\"circle\"},\"mode\":\"markers\",\"name\":\"Tottenham\",\"orientation\":\"v\",\"showlegend\":true,\"x\":[2.6],\"xaxis\":\"x\",\"y\":[1.0],\"yaxis\":\"y\",\"type\":\"scatter\"},{\"hovertemplate\":\"Team=Liverpool<br>Matches played=16<br>Average goals scored last five games=%{x}<br>Average goals conceded last five games=%{y}<extra></extra>\",\"legendgroup\":\"Liverpool\",\"marker\":{\"color\":\"#1F77B4\",\"opacity\":0.8,\"symbol\":\"circle\"},\"mode\":\"markers\",\"name\":\"Liverpool\",\"orientation\":\"v\",\"showlegend\":true,\"x\":[3.2],\"xaxis\":\"x\",\"y\":[0.2],\"yaxis\":\"y\",\"type\":\"scatter\"},{\"hovertemplate\":\"Team=Aston Villa<br>Matches played=16<br>Average goals scored last five games=%{x}<br>Average goals conceded last five games=%{y}<extra></extra>\",\"legendgroup\":\"Aston Villa\",\"marker\":{\"color\":\"#FF7F0E\",\"opacity\":0.8,\"symbol\":\"circle\"},\"mode\":\"markers\",\"name\":\"Aston Villa\",\"orientation\":\"v\",\"showlegend\":true,\"x\":[1.2],\"xaxis\":\"x\",\"y\":[1.2],\"yaxis\":\"y\",\"type\":\"scatter\"},{\"hovertemplate\":\"Team=Crystal Palace<br>Matches played=16<br>Average goals scored last five games=%{x}<br>Average goals conceded last five games=%{y}<extra></extra>\",\"legendgroup\":\"Crystal Palace\",\"marker\":{\"color\":\"#2CA02C\",\"opacity\":0.8,\"symbol\":\"circle\"},\"mode\":\"markers\",\"name\":\"Crystal Palace\",\"orientation\":\"v\",\"showlegend\":true,\"x\":[1.0],\"xaxis\":\"x\",\"y\":[1.0],\"yaxis\":\"y\",\"type\":\"scatter\"},{\"hovertemplate\":\"Team=Leeds<br>Matches played=16<br>Average goals scored last five games=%{x}<br>Average goals conceded last five games=%{y}<extra></extra>\",\"legendgroup\":\"Leeds\",\"marker\":{\"color\":\"#D62728\",\"opacity\":0.8,\"symbol\":\"circle\"},\"mode\":\"markers\",\"name\":\"Leeds\",\"orientation\":\"v\",\"showlegend\":true,\"x\":[1.0],\"xaxis\":\"x\",\"y\":[2.6],\"yaxis\":\"y\",\"type\":\"scatter\"},{\"hovertemplate\":\"Team=Man City<br>Matches played=16<br>Average goals scored last five games=%{x}<br>Average goals conceded last five games=%{y}<extra></extra>\",\"legendgroup\":\"Man City\",\"marker\":{\"color\":\"#9467BD\",\"opacity\":0.8,\"symbol\":\"circle\"},\"mode\":\"markers\",\"name\":\"Man City\",\"orientation\":\"v\",\"showlegend\":true,\"x\":[2.6],\"xaxis\":\"x\",\"y\":[1.2],\"yaxis\":\"y\",\"type\":\"scatter\"},{\"hovertemplate\":\"Team=Brighton<br>Matches played=16<br>Average goals scored last five games=%{x}<br>Average goals conceded last five games=%{y}<extra></extra>\",\"legendgroup\":\"Brighton\",\"marker\":{\"color\":\"#8C564B\",\"opacity\":0.8,\"symbol\":\"circle\"},\"mode\":\"markers\",\"name\":\"Brighton\",\"orientation\":\"v\",\"showlegend\":true,\"x\":[0.0],\"xaxis\":\"x\",\"y\":[1.8],\"yaxis\":\"y\",\"type\":\"scatter\"},{\"hovertemplate\":\"Team=Southampton<br>Matches played=16<br>Average goals scored last five games=%{x}<br>Average goals conceded last five games=%{y}<extra></extra>\",\"legendgroup\":\"Southampton\",\"marker\":{\"color\":\"#E377C2\",\"opacity\":0.8,\"symbol\":\"circle\"},\"mode\":\"markers\",\"name\":\"Southampton\",\"orientation\":\"v\",\"showlegend\":true,\"x\":[1.2],\"xaxis\":\"x\",\"y\":[2.0],\"yaxis\":\"y\",\"type\":\"scatter\"},{\"hovertemplate\":\"Team=Wolves<br>Matches played=16<br>Average goals scored last five games=%{x}<br>Average goals conceded last five games=%{y}<extra></extra>\",\"legendgroup\":\"Wolves\",\"marker\":{\"color\":\"#7F7F7F\",\"opacity\":0.8,\"symbol\":\"circle\"},\"mode\":\"markers\",\"name\":\"Wolves\",\"orientation\":\"v\",\"showlegend\":true,\"x\":[2.0],\"xaxis\":\"x\",\"y\":[1.4],\"yaxis\":\"y\",\"type\":\"scatter\"},{\"hovertemplate\":\"Team=Arsenal<br>Matches played=16<br>Average goals scored last five games=%{x}<br>Average goals conceded last five games=%{y}<extra></extra>\",\"legendgroup\":\"Arsenal\",\"marker\":{\"color\":\"#BCBD22\",\"opacity\":0.8,\"symbol\":\"circle\"},\"mode\":\"markers\",\"name\":\"Arsenal\",\"orientation\":\"v\",\"showlegend\":true,\"x\":[1.4],\"xaxis\":\"x\",\"y\":[1.2],\"yaxis\":\"y\",\"type\":\"scatter\"},{\"hovertemplate\":\"Team=West Ham<br>Matches played=16<br>Average goals scored last five games=%{x}<br>Average goals conceded last five games=%{y}<extra></extra>\",\"legendgroup\":\"West Ham\",\"marker\":{\"color\":\"#17BECF\",\"opacity\":0.8,\"symbol\":\"circle\"},\"mode\":\"markers\",\"name\":\"West Ham\",\"orientation\":\"v\",\"showlegend\":true,\"x\":[1.4],\"xaxis\":\"x\",\"y\":[0.6],\"yaxis\":\"y\",\"type\":\"scatter\"}],\"name\":\"16\"},{\"data\":[{\"hovertemplate\":\"Team=Brentford<br>Matches played=17<br>Average goals scored last five games=%{x}<br>Average goals conceded last five games=%{y}<extra></extra>\",\"legendgroup\":\"Brentford\",\"marker\":{\"color\":\"#1F77B4\",\"opacity\":0.8,\"symbol\":\"circle\"},\"mode\":\"markers\",\"name\":\"Brentford\",\"orientation\":\"v\",\"showlegend\":true,\"x\":[0.8],\"xaxis\":\"x\",\"y\":[0.4],\"yaxis\":\"y\",\"type\":\"scatter\"},{\"hovertemplate\":\"Team=Man United<br>Matches played=17<br>Average goals scored last five games=%{x}<br>Average goals conceded last five games=%{y}<extra></extra>\",\"legendgroup\":\"Man United\",\"marker\":{\"color\":\"#FF7F0E\",\"opacity\":0.8,\"symbol\":\"circle\"},\"mode\":\"markers\",\"name\":\"Man United\",\"orientation\":\"v\",\"showlegend\":true,\"x\":[1.8],\"xaxis\":\"x\",\"y\":[1.0],\"yaxis\":\"y\",\"type\":\"scatter\"},{\"hovertemplate\":\"Team=Burnley<br>Matches played=17<br>Average goals scored last five games=%{x}<br>Average goals conceded last five games=%{y}<extra></extra>\",\"legendgroup\":\"Burnley\",\"marker\":{\"color\":\"#2CA02C\",\"opacity\":0.8,\"symbol\":\"circle\"},\"mode\":\"markers\",\"name\":\"Burnley\",\"orientation\":\"v\",\"showlegend\":true,\"x\":[1.2],\"xaxis\":\"x\",\"y\":[1.6],\"yaxis\":\"y\",\"type\":\"scatter\"},{\"hovertemplate\":\"Team=Chelsea<br>Matches played=17<br>Average goals scored last five games=%{x}<br>Average goals conceded last five games=%{y}<extra></extra>\",\"legendgroup\":\"Chelsea\",\"marker\":{\"color\":\"#D62728\",\"opacity\":0.8,\"symbol\":\"circle\"},\"mode\":\"markers\",\"name\":\"Chelsea\",\"orientation\":\"v\",\"showlegend\":true,\"x\":[1.4],\"xaxis\":\"x\",\"y\":[2.0],\"yaxis\":\"y\",\"type\":\"scatter\"},{\"hovertemplate\":\"Team=Everton<br>Matches played=17<br>Average goals scored last five games=%{x}<br>Average goals conceded last five games=%{y}<extra></extra>\",\"legendgroup\":\"Everton\",\"marker\":{\"color\":\"#9467BD\",\"opacity\":0.8,\"symbol\":\"circle\"},\"mode\":\"markers\",\"name\":\"Everton\",\"orientation\":\"v\",\"showlegend\":true,\"x\":[0.8],\"xaxis\":\"x\",\"y\":[0.4],\"yaxis\":\"y\",\"type\":\"scatter\"},{\"hovertemplate\":\"Team=Leicester<br>Matches played=17<br>Average goals scored last five games=%{x}<br>Average goals conceded last five games=%{y}<extra></extra>\",\"legendgroup\":\"Leicester\",\"marker\":{\"color\":\"#8C564B\",\"opacity\":0.8,\"symbol\":\"circle\"},\"mode\":\"markers\",\"name\":\"Leicester\",\"orientation\":\"v\",\"showlegend\":true,\"x\":[1.2],\"xaxis\":\"x\",\"y\":[0.8],\"yaxis\":\"y\",\"type\":\"scatter\"},{\"hovertemplate\":\"Team=Watford<br>Matches played=17<br>Average goals scored last five games=%{x}<br>Average goals conceded last five games=%{y}<extra></extra>\",\"legendgroup\":\"Watford\",\"marker\":{\"color\":\"#E377C2\",\"opacity\":0.8,\"symbol\":\"circle\"},\"mode\":\"markers\",\"name\":\"Watford\",\"orientation\":\"v\",\"showlegend\":true,\"x\":[1.0],\"xaxis\":\"x\",\"y\":[2.8],\"yaxis\":\"y\",\"type\":\"scatter\"},{\"hovertemplate\":\"Team=Norwich<br>Matches played=17<br>Average goals scored last five games=%{x}<br>Average goals conceded last five games=%{y}<extra></extra>\",\"legendgroup\":\"Norwich\",\"marker\":{\"color\":\"#7F7F7F\",\"opacity\":0.8,\"symbol\":\"circle\"},\"mode\":\"markers\",\"name\":\"Norwich\",\"orientation\":\"v\",\"showlegend\":true,\"x\":[0.8],\"xaxis\":\"x\",\"y\":[2.6],\"yaxis\":\"y\",\"type\":\"scatter\"},{\"hovertemplate\":\"Team=Newcastle<br>Matches played=17<br>Average goals scored last five games=%{x}<br>Average goals conceded last five games=%{y}<extra></extra>\",\"legendgroup\":\"Newcastle\",\"marker\":{\"color\":\"#BCBD22\",\"opacity\":0.8,\"symbol\":\"circle\"},\"mode\":\"markers\",\"name\":\"Newcastle\",\"orientation\":\"v\",\"showlegend\":true,\"x\":[1.4],\"xaxis\":\"x\",\"y\":[0.4],\"yaxis\":\"y\",\"type\":\"scatter\"},{\"hovertemplate\":\"Team=Tottenham<br>Matches played=17<br>Average goals scored last five games=%{x}<br>Average goals conceded last five games=%{y}<extra></extra>\",\"legendgroup\":\"Tottenham\",\"marker\":{\"color\":\"#17BECF\",\"opacity\":0.8,\"symbol\":\"circle\"},\"mode\":\"markers\",\"name\":\"Tottenham\",\"orientation\":\"v\",\"showlegend\":true,\"x\":[3.2],\"xaxis\":\"x\",\"y\":[0.8],\"yaxis\":\"y\",\"type\":\"scatter\"},{\"hovertemplate\":\"Team=Liverpool<br>Matches played=17<br>Average goals scored last five games=%{x}<br>Average goals conceded last five games=%{y}<extra></extra>\",\"legendgroup\":\"Liverpool\",\"marker\":{\"color\":\"#1F77B4\",\"opacity\":0.8,\"symbol\":\"circle\"},\"mode\":\"markers\",\"name\":\"Liverpool\",\"orientation\":\"v\",\"showlegend\":true,\"x\":[3.0],\"xaxis\":\"x\",\"y\":[0.0],\"yaxis\":\"y\",\"type\":\"scatter\"},{\"hovertemplate\":\"Team=Aston Villa<br>Matches played=17<br>Average goals scored last five games=%{x}<br>Average goals conceded last five games=%{y}<extra></extra>\",\"legendgroup\":\"Aston Villa\",\"marker\":{\"color\":\"#FF7F0E\",\"opacity\":0.8,\"symbol\":\"circle\"},\"mode\":\"markers\",\"name\":\"Aston Villa\",\"orientation\":\"v\",\"showlegend\":true,\"x\":[1.4],\"xaxis\":\"x\",\"y\":[1.4],\"yaxis\":\"y\",\"type\":\"scatter\"},{\"hovertemplate\":\"Team=Crystal Palace<br>Matches played=17<br>Average goals scored last five games=%{x}<br>Average goals conceded last five games=%{y}<extra></extra>\",\"legendgroup\":\"Crystal Palace\",\"marker\":{\"color\":\"#2CA02C\",\"opacity\":0.8,\"symbol\":\"circle\"},\"mode\":\"markers\",\"name\":\"Crystal Palace\",\"orientation\":\"v\",\"showlegend\":true,\"x\":[0.8],\"xaxis\":\"x\",\"y\":[0.4],\"yaxis\":\"y\",\"type\":\"scatter\"},{\"hovertemplate\":\"Team=Leeds<br>Matches played=17<br>Average goals scored last five games=%{x}<br>Average goals conceded last five games=%{y}<extra></extra>\",\"legendgroup\":\"Leeds\",\"marker\":{\"color\":\"#D62728\",\"opacity\":0.8,\"symbol\":\"circle\"},\"mode\":\"markers\",\"name\":\"Leeds\",\"orientation\":\"v\",\"showlegend\":true,\"x\":[0.6],\"xaxis\":\"x\",\"y\":[2.6],\"yaxis\":\"y\",\"type\":\"scatter\"},{\"hovertemplate\":\"Team=Man City<br>Matches played=17<br>Average goals scored last five games=%{x}<br>Average goals conceded last five games=%{y}<extra></extra>\",\"legendgroup\":\"Man City\",\"marker\":{\"color\":\"#9467BD\",\"opacity\":0.8,\"symbol\":\"circle\"},\"mode\":\"markers\",\"name\":\"Man City\",\"orientation\":\"v\",\"showlegend\":true,\"x\":[3.2],\"xaxis\":\"x\",\"y\":[1.4],\"yaxis\":\"y\",\"type\":\"scatter\"},{\"hovertemplate\":\"Team=Brighton<br>Matches played=17<br>Average goals scored last five games=%{x}<br>Average goals conceded last five games=%{y}<extra></extra>\",\"legendgroup\":\"Brighton\",\"marker\":{\"color\":\"#8C564B\",\"opacity\":0.8,\"symbol\":\"circle\"},\"mode\":\"markers\",\"name\":\"Brighton\",\"orientation\":\"v\",\"showlegend\":true,\"x\":[0.4],\"xaxis\":\"x\",\"y\":[1.6],\"yaxis\":\"y\",\"type\":\"scatter\"},{\"hovertemplate\":\"Team=Southampton<br>Matches played=17<br>Average goals scored last five games=%{x}<br>Average goals conceded last five games=%{y}<extra></extra>\",\"legendgroup\":\"Southampton\",\"marker\":{\"color\":\"#E377C2\",\"opacity\":0.8,\"symbol\":\"circle\"},\"mode\":\"markers\",\"name\":\"Southampton\",\"orientation\":\"v\",\"showlegend\":true,\"x\":[1.0],\"xaxis\":\"x\",\"y\":[2.0],\"yaxis\":\"y\",\"type\":\"scatter\"},{\"hovertemplate\":\"Team=Wolves<br>Matches played=17<br>Average goals scored last five games=%{x}<br>Average goals conceded last five games=%{y}<extra></extra>\",\"legendgroup\":\"Wolves\",\"marker\":{\"color\":\"#7F7F7F\",\"opacity\":0.8,\"symbol\":\"circle\"},\"mode\":\"markers\",\"name\":\"Wolves\",\"orientation\":\"v\",\"showlegend\":true,\"x\":[1.6],\"xaxis\":\"x\",\"y\":[1.8],\"yaxis\":\"y\",\"type\":\"scatter\"},{\"hovertemplate\":\"Team=Arsenal<br>Matches played=17<br>Average goals scored last five games=%{x}<br>Average goals conceded last five games=%{y}<extra></extra>\",\"legendgroup\":\"Arsenal\",\"marker\":{\"color\":\"#BCBD22\",\"opacity\":0.8,\"symbol\":\"circle\"},\"mode\":\"markers\",\"name\":\"Arsenal\",\"orientation\":\"v\",\"showlegend\":true,\"x\":[1.6],\"xaxis\":\"x\",\"y\":[1.2],\"yaxis\":\"y\",\"type\":\"scatter\"},{\"hovertemplate\":\"Team=West Ham<br>Matches played=17<br>Average goals scored last five games=%{x}<br>Average goals conceded last five games=%{y}<extra></extra>\",\"legendgroup\":\"West Ham\",\"marker\":{\"color\":\"#17BECF\",\"opacity\":0.8,\"symbol\":\"circle\"},\"mode\":\"markers\",\"name\":\"West Ham\",\"orientation\":\"v\",\"showlegend\":true,\"x\":[1.4],\"xaxis\":\"x\",\"y\":[0.8],\"yaxis\":\"y\",\"type\":\"scatter\"}],\"name\":\"17\"},{\"data\":[{\"hovertemplate\":\"Team=Brentford<br>Matches played=18<br>Average goals scored last five games=%{x}<br>Average goals conceded last five games=%{y}<extra></extra>\",\"legendgroup\":\"Brentford\",\"marker\":{\"color\":\"#1F77B4\",\"opacity\":0.8,\"symbol\":\"circle\"},\"mode\":\"markers\",\"name\":\"Brentford\",\"orientation\":\"v\",\"showlegend\":true,\"x\":[1.4],\"xaxis\":\"x\",\"y\":[0.4],\"yaxis\":\"y\",\"type\":\"scatter\"},{\"hovertemplate\":\"Team=Man United<br>Matches played=18<br>Average goals scored last five games=%{x}<br>Average goals conceded last five games=%{y}<extra></extra>\",\"legendgroup\":\"Man United\",\"marker\":{\"color\":\"#FF7F0E\",\"opacity\":0.8,\"symbol\":\"circle\"},\"mode\":\"markers\",\"name\":\"Man United\",\"orientation\":\"v\",\"showlegend\":true,\"x\":[1.6],\"xaxis\":\"x\",\"y\":[1.2],\"yaxis\":\"y\",\"type\":\"scatter\"},{\"hovertemplate\":\"Team=Burnley<br>Matches played=18<br>Average goals scored last five games=%{x}<br>Average goals conceded last five games=%{y}<extra></extra>\",\"legendgroup\":\"Burnley\",\"marker\":{\"color\":\"#2CA02C\",\"opacity\":0.8,\"symbol\":\"circle\"},\"mode\":\"markers\",\"name\":\"Burnley\",\"orientation\":\"v\",\"showlegend\":true,\"x\":[1.4],\"xaxis\":\"x\",\"y\":[1.4],\"yaxis\":\"y\",\"type\":\"scatter\"},{\"hovertemplate\":\"Team=Chelsea<br>Matches played=18<br>Average goals scored last five games=%{x}<br>Average goals conceded last five games=%{y}<extra></extra>\",\"legendgroup\":\"Chelsea\",\"marker\":{\"color\":\"#D62728\",\"opacity\":0.8,\"symbol\":\"circle\"},\"mode\":\"markers\",\"name\":\"Chelsea\",\"orientation\":\"v\",\"showlegend\":true,\"x\":[1.4],\"xaxis\":\"x\",\"y\":[2.2],\"yaxis\":\"y\",\"type\":\"scatter\"},{\"hovertemplate\":\"Team=Everton<br>Matches played=18<br>Average goals scored last five games=%{x}<br>Average goals conceded last five games=%{y}<extra></extra>\",\"legendgroup\":\"Everton\",\"marker\":{\"color\":\"#9467BD\",\"opacity\":0.8,\"symbol\":\"circle\"},\"mode\":\"markers\",\"name\":\"Everton\",\"orientation\":\"v\",\"showlegend\":true,\"x\":[1.2],\"xaxis\":\"x\",\"y\":[0.8],\"yaxis\":\"y\",\"type\":\"scatter\"},{\"hovertemplate\":\"Team=Leicester<br>Matches played=18<br>Average goals scored last five games=%{x}<br>Average goals conceded last five games=%{y}<extra></extra>\",\"legendgroup\":\"Leicester\",\"marker\":{\"color\":\"#8C564B\",\"opacity\":0.8,\"symbol\":\"circle\"},\"mode\":\"markers\",\"name\":\"Leicester\",\"orientation\":\"v\",\"showlegend\":true,\"x\":[1.6],\"xaxis\":\"x\",\"y\":[0.8],\"yaxis\":\"y\",\"type\":\"scatter\"},{\"hovertemplate\":\"Team=Watford<br>Matches played=18<br>Average goals scored last five games=%{x}<br>Average goals conceded last five games=%{y}<extra></extra>\",\"legendgroup\":\"Watford\",\"marker\":{\"color\":\"#E377C2\",\"opacity\":0.8,\"symbol\":\"circle\"},\"mode\":\"markers\",\"name\":\"Watford\",\"orientation\":\"v\",\"showlegend\":true,\"x\":[0.8],\"xaxis\":\"x\",\"y\":[2.0],\"yaxis\":\"y\",\"type\":\"scatter\"},{\"hovertemplate\":\"Team=Norwich<br>Matches played=18<br>Average goals scored last five games=%{x}<br>Average goals conceded last five games=%{y}<extra></extra>\",\"legendgroup\":\"Norwich\",\"marker\":{\"color\":\"#7F7F7F\",\"opacity\":0.8,\"symbol\":\"circle\"},\"mode\":\"markers\",\"name\":\"Norwich\",\"orientation\":\"v\",\"showlegend\":true,\"x\":[0.8],\"xaxis\":\"x\",\"y\":[2.6],\"yaxis\":\"y\",\"type\":\"scatter\"},{\"hovertemplate\":\"Team=Newcastle<br>Matches played=18<br>Average goals scored last five games=%{x}<br>Average goals conceded last five games=%{y}<extra></extra>\",\"legendgroup\":\"Newcastle\",\"marker\":{\"color\":\"#BCBD22\",\"opacity\":0.8,\"symbol\":\"circle\"},\"mode\":\"markers\",\"name\":\"Newcastle\",\"orientation\":\"v\",\"showlegend\":true,\"x\":[1.2],\"xaxis\":\"x\",\"y\":[0.6],\"yaxis\":\"y\",\"type\":\"scatter\"},{\"hovertemplate\":\"Team=Tottenham<br>Matches played=18<br>Average goals scored last five games=%{x}<br>Average goals conceded last five games=%{y}<extra></extra>\",\"legendgroup\":\"Tottenham\",\"marker\":{\"color\":\"#17BECF\",\"opacity\":0.8,\"symbol\":\"circle\"},\"mode\":\"markers\",\"name\":\"Tottenham\",\"orientation\":\"v\",\"showlegend\":true,\"x\":[2.8],\"xaxis\":\"x\",\"y\":[0.8],\"yaxis\":\"y\",\"type\":\"scatter\"},{\"hovertemplate\":\"Team=Liverpool<br>Matches played=18<br>Average goals scored last five games=%{x}<br>Average goals conceded last five games=%{y}<extra></extra>\",\"legendgroup\":\"Liverpool\",\"marker\":{\"color\":\"#1F77B4\",\"opacity\":0.8,\"symbol\":\"circle\"},\"mode\":\"markers\",\"name\":\"Liverpool\",\"orientation\":\"v\",\"showlegend\":true,\"x\":[2.0],\"xaxis\":\"x\",\"y\":[0.2],\"yaxis\":\"y\",\"type\":\"scatter\"},{\"hovertemplate\":\"Team=Aston Villa<br>Matches played=18<br>Average goals scored last five games=%{x}<br>Average goals conceded last five games=%{y}<extra></extra>\",\"legendgroup\":\"Aston Villa\",\"marker\":{\"color\":\"#FF7F0E\",\"opacity\":0.8,\"symbol\":\"circle\"},\"mode\":\"markers\",\"name\":\"Aston Villa\",\"orientation\":\"v\",\"showlegend\":true,\"x\":[0.8],\"xaxis\":\"x\",\"y\":[1.6],\"yaxis\":\"y\",\"type\":\"scatter\"},{\"hovertemplate\":\"Team=Crystal Palace<br>Matches played=18<br>Average goals scored last five games=%{x}<br>Average goals conceded last five games=%{y}<extra></extra>\",\"legendgroup\":\"Crystal Palace\",\"marker\":{\"color\":\"#2CA02C\",\"opacity\":0.8,\"symbol\":\"circle\"},\"mode\":\"markers\",\"name\":\"Crystal Palace\",\"orientation\":\"v\",\"showlegend\":true,\"x\":[1.0],\"xaxis\":\"x\",\"y\":[0.2],\"yaxis\":\"y\",\"type\":\"scatter\"},{\"hovertemplate\":\"Team=Leeds<br>Matches played=18<br>Average goals scored last five games=%{x}<br>Average goals conceded last five games=%{y}<extra></extra>\",\"legendgroup\":\"Leeds\",\"marker\":{\"color\":\"#D62728\",\"opacity\":0.8,\"symbol\":\"circle\"},\"mode\":\"markers\",\"name\":\"Leeds\",\"orientation\":\"v\",\"showlegend\":true,\"x\":[0.6],\"xaxis\":\"x\",\"y\":[2.4],\"yaxis\":\"y\",\"type\":\"scatter\"},{\"hovertemplate\":\"Team=Man City<br>Matches played=18<br>Average goals scored last five games=%{x}<br>Average goals conceded last five games=%{y}<extra></extra>\",\"legendgroup\":\"Man City\",\"marker\":{\"color\":\"#9467BD\",\"opacity\":0.8,\"symbol\":\"circle\"},\"mode\":\"markers\",\"name\":\"Man City\",\"orientation\":\"v\",\"showlegend\":true,\"x\":[3.8],\"xaxis\":\"x\",\"y\":[0.8],\"yaxis\":\"y\",\"type\":\"scatter\"},{\"hovertemplate\":\"Team=Brighton<br>Matches played=18<br>Average goals scored last five games=%{x}<br>Average goals conceded last five games=%{y}<extra></extra>\",\"legendgroup\":\"Brighton\",\"marker\":{\"color\":\"#8C564B\",\"opacity\":0.8,\"symbol\":\"circle\"},\"mode\":\"markers\",\"name\":\"Brighton\",\"orientation\":\"v\",\"showlegend\":true,\"x\":[1.2],\"xaxis\":\"x\",\"y\":[1.2],\"yaxis\":\"y\",\"type\":\"scatter\"},{\"hovertemplate\":\"Team=Southampton<br>Matches played=18<br>Average goals scored last five games=%{x}<br>Average goals conceded last five games=%{y}<extra></extra>\",\"legendgroup\":\"Southampton\",\"marker\":{\"color\":\"#E377C2\",\"opacity\":0.8,\"symbol\":\"circle\"},\"mode\":\"markers\",\"name\":\"Southampton\",\"orientation\":\"v\",\"showlegend\":true,\"x\":[0.8],\"xaxis\":\"x\",\"y\":[2.4],\"yaxis\":\"y\",\"type\":\"scatter\"},{\"hovertemplate\":\"Team=Wolves<br>Matches played=18<br>Average goals scored last five games=%{x}<br>Average goals conceded last five games=%{y}<extra></extra>\",\"legendgroup\":\"Wolves\",\"marker\":{\"color\":\"#7F7F7F\",\"opacity\":0.8,\"symbol\":\"circle\"},\"mode\":\"markers\",\"name\":\"Wolves\",\"orientation\":\"v\",\"showlegend\":true,\"x\":[1.8],\"xaxis\":\"x\",\"y\":[2.4],\"yaxis\":\"y\",\"type\":\"scatter\"},{\"hovertemplate\":\"Team=Arsenal<br>Matches played=18<br>Average goals scored last five games=%{x}<br>Average goals conceded last five games=%{y}<extra></extra>\",\"legendgroup\":\"Arsenal\",\"marker\":{\"color\":\"#BCBD22\",\"opacity\":0.8,\"symbol\":\"circle\"},\"mode\":\"markers\",\"name\":\"Arsenal\",\"orientation\":\"v\",\"showlegend\":true,\"x\":[1.6],\"xaxis\":\"x\",\"y\":[1.2],\"yaxis\":\"y\",\"type\":\"scatter\"},{\"hovertemplate\":\"Team=West Ham<br>Matches played=18<br>Average goals scored last five games=%{x}<br>Average goals conceded last five games=%{y}<extra></extra>\",\"legendgroup\":\"West Ham\",\"marker\":{\"color\":\"#17BECF\",\"opacity\":0.8,\"symbol\":\"circle\"},\"mode\":\"markers\",\"name\":\"West Ham\",\"orientation\":\"v\",\"showlegend\":true,\"x\":[1.4],\"xaxis\":\"x\",\"y\":[1.0],\"yaxis\":\"y\",\"type\":\"scatter\"}],\"name\":\"18\"},{\"data\":[{\"hovertemplate\":\"Team=Brentford<br>Matches played=19<br>Average goals scored last five games=%{x}<br>Average goals conceded last five games=%{y}<extra></extra>\",\"legendgroup\":\"Brentford\",\"marker\":{\"color\":\"#1F77B4\",\"opacity\":0.8,\"symbol\":\"circle\"},\"mode\":\"markers\",\"name\":\"Brentford\",\"orientation\":\"v\",\"showlegend\":true,\"x\":[1.6],\"xaxis\":\"x\",\"y\":[0.4],\"yaxis\":\"y\",\"type\":\"scatter\"},{\"hovertemplate\":\"Team=Man United<br>Matches played=19<br>Average goals scored last five games=%{x}<br>Average goals conceded last five games=%{y}<extra></extra>\",\"legendgroup\":\"Man United\",\"marker\":{\"color\":\"#FF7F0E\",\"opacity\":0.8,\"symbol\":\"circle\"},\"mode\":\"markers\",\"name\":\"Man United\",\"orientation\":\"v\",\"showlegend\":true,\"x\":[2.2],\"xaxis\":\"x\",\"y\":[1.2],\"yaxis\":\"y\",\"type\":\"scatter\"},{\"hovertemplate\":\"Team=Burnley<br>Matches played=19<br>Average goals scored last five games=%{x}<br>Average goals conceded last five games=%{y}<extra></extra>\",\"legendgroup\":\"Burnley\",\"marker\":{\"color\":\"#2CA02C\",\"opacity\":0.8,\"symbol\":\"circle\"},\"mode\":\"markers\",\"name\":\"Burnley\",\"orientation\":\"v\",\"showlegend\":true,\"x\":[1.6],\"xaxis\":\"x\",\"y\":[1.4],\"yaxis\":\"y\",\"type\":\"scatter\"},{\"hovertemplate\":\"Team=Chelsea<br>Matches played=19<br>Average goals scored last five games=%{x}<br>Average goals conceded last five games=%{y}<extra></extra>\",\"legendgroup\":\"Chelsea\",\"marker\":{\"color\":\"#D62728\",\"opacity\":0.8,\"symbol\":\"circle\"},\"mode\":\"markers\",\"name\":\"Chelsea\",\"orientation\":\"v\",\"showlegend\":true,\"x\":[1.6],\"xaxis\":\"x\",\"y\":[1.6],\"yaxis\":\"y\",\"type\":\"scatter\"},{\"hovertemplate\":\"Team=Everton<br>Matches played=19<br>Average goals scored last five games=%{x}<br>Average goals conceded last five games=%{y}<extra></extra>\",\"legendgroup\":\"Everton\",\"marker\":{\"color\":\"#9467BD\",\"opacity\":0.8,\"symbol\":\"circle\"},\"mode\":\"markers\",\"name\":\"Everton\",\"orientation\":\"v\",\"showlegend\":true,\"x\":[1.6],\"xaxis\":\"x\",\"y\":[1.2],\"yaxis\":\"y\",\"type\":\"scatter\"},{\"hovertemplate\":\"Team=Leicester<br>Matches played=19<br>Average goals scored last five games=%{x}<br>Average goals conceded last five games=%{y}<extra></extra>\",\"legendgroup\":\"Leicester\",\"marker\":{\"color\":\"#8C564B\",\"opacity\":0.8,\"symbol\":\"circle\"},\"mode\":\"markers\",\"name\":\"Leicester\",\"orientation\":\"v\",\"showlegend\":true,\"x\":[2.0],\"xaxis\":\"x\",\"y\":[0.8],\"yaxis\":\"y\",\"type\":\"scatter\"},{\"hovertemplate\":\"Team=Watford<br>Matches played=19<br>Average goals scored last five games=%{x}<br>Average goals conceded last five games=%{y}<extra></extra>\",\"legendgroup\":\"Watford\",\"marker\":{\"color\":\"#E377C2\",\"opacity\":0.8,\"symbol\":\"circle\"},\"mode\":\"markers\",\"name\":\"Watford\",\"orientation\":\"v\",\"showlegend\":true,\"x\":[0.6],\"xaxis\":\"x\",\"y\":[2.4],\"yaxis\":\"y\",\"type\":\"scatter\"},{\"hovertemplate\":\"Team=Norwich<br>Matches played=19<br>Average goals scored last five games=%{x}<br>Average goals conceded last five games=%{y}<extra></extra>\",\"legendgroup\":\"Norwich\",\"marker\":{\"color\":\"#7F7F7F\",\"opacity\":0.8,\"symbol\":\"circle\"},\"mode\":\"markers\",\"name\":\"Norwich\",\"orientation\":\"v\",\"showlegend\":true,\"x\":[0.6],\"xaxis\":\"x\",\"y\":[3.0],\"yaxis\":\"y\",\"type\":\"scatter\"},{\"hovertemplate\":\"Team=Newcastle<br>Matches played=19<br>Average goals scored last five games=%{x}<br>Average goals conceded last five games=%{y}<extra></extra>\",\"legendgroup\":\"Newcastle\",\"marker\":{\"color\":\"#BCBD22\",\"opacity\":0.8,\"symbol\":\"circle\"},\"mode\":\"markers\",\"name\":\"Newcastle\",\"orientation\":\"v\",\"showlegend\":true,\"x\":[1.2],\"xaxis\":\"x\",\"y\":[0.4],\"yaxis\":\"y\",\"type\":\"scatter\"},{\"hovertemplate\":\"Team=Tottenham<br>Matches played=19<br>Average goals scored last five games=%{x}<br>Average goals conceded last five games=%{y}<extra></extra>\",\"legendgroup\":\"Tottenham\",\"marker\":{\"color\":\"#17BECF\",\"opacity\":0.8,\"symbol\":\"circle\"},\"mode\":\"markers\",\"name\":\"Tottenham\",\"orientation\":\"v\",\"showlegend\":true,\"x\":[2.4],\"xaxis\":\"x\",\"y\":[0.6],\"yaxis\":\"y\",\"type\":\"scatter\"},{\"hovertemplate\":\"Team=Liverpool<br>Matches played=19<br>Average goals scored last five games=%{x}<br>Average goals conceded last five games=%{y}<extra></extra>\",\"legendgroup\":\"Liverpool\",\"marker\":{\"color\":\"#1F77B4\",\"opacity\":0.8,\"symbol\":\"circle\"},\"mode\":\"markers\",\"name\":\"Liverpool\",\"orientation\":\"v\",\"showlegend\":true,\"x\":[2.4],\"xaxis\":\"x\",\"y\":[0.4],\"yaxis\":\"y\",\"type\":\"scatter\"},{\"hovertemplate\":\"Team=Aston Villa<br>Matches played=19<br>Average goals scored last five games=%{x}<br>Average goals conceded last five games=%{y}<extra></extra>\",\"legendgroup\":\"Aston Villa\",\"marker\":{\"color\":\"#FF7F0E\",\"opacity\":0.8,\"symbol\":\"circle\"},\"mode\":\"markers\",\"name\":\"Aston Villa\",\"orientation\":\"v\",\"showlegend\":true,\"x\":[1.0],\"xaxis\":\"x\",\"y\":[1.6],\"yaxis\":\"y\",\"type\":\"scatter\"},{\"hovertemplate\":\"Team=Crystal Palace<br>Matches played=19<br>Average goals scored last five games=%{x}<br>Average goals conceded last five games=%{y}<extra></extra>\",\"legendgroup\":\"Crystal Palace\",\"marker\":{\"color\":\"#2CA02C\",\"opacity\":0.8,\"symbol\":\"circle\"},\"mode\":\"markers\",\"name\":\"Crystal Palace\",\"orientation\":\"v\",\"showlegend\":true,\"x\":[1.0],\"xaxis\":\"x\",\"y\":[0.0],\"yaxis\":\"y\",\"type\":\"scatter\"},{\"hovertemplate\":\"Team=Leeds<br>Matches played=19<br>Average goals scored last five games=%{x}<br>Average goals conceded last five games=%{y}<extra></extra>\",\"legendgroup\":\"Leeds\",\"marker\":{\"color\":\"#D62728\",\"opacity\":0.8,\"symbol\":\"circle\"},\"mode\":\"markers\",\"name\":\"Leeds\",\"orientation\":\"v\",\"showlegend\":true,\"x\":[0.8],\"xaxis\":\"x\",\"y\":[2.0],\"yaxis\":\"y\",\"type\":\"scatter\"},{\"hovertemplate\":\"Team=Man City<br>Matches played=19<br>Average goals scored last five games=%{x}<br>Average goals conceded last five games=%{y}<extra></extra>\",\"legendgroup\":\"Man City\",\"marker\":{\"color\":\"#9467BD\",\"opacity\":0.8,\"symbol\":\"circle\"},\"mode\":\"markers\",\"name\":\"Man City\",\"orientation\":\"v\",\"showlegend\":true,\"x\":[3.6],\"xaxis\":\"x\",\"y\":[1.0],\"yaxis\":\"y\",\"type\":\"scatter\"},{\"hovertemplate\":\"Team=Brighton<br>Matches played=19<br>Average goals scored last five games=%{x}<br>Average goals conceded last five games=%{y}<extra></extra>\",\"legendgroup\":\"Brighton\",\"marker\":{\"color\":\"#8C564B\",\"opacity\":0.8,\"symbol\":\"circle\"},\"mode\":\"markers\",\"name\":\"Brighton\",\"orientation\":\"v\",\"showlegend\":true,\"x\":[1.8],\"xaxis\":\"x\",\"y\":[1.0],\"yaxis\":\"y\",\"type\":\"scatter\"},{\"hovertemplate\":\"Team=Southampton<br>Matches played=19<br>Average goals scored last five games=%{x}<br>Average goals conceded last five games=%{y}<extra></extra>\",\"legendgroup\":\"Southampton\",\"marker\":{\"color\":\"#E377C2\",\"opacity\":0.8,\"symbol\":\"circle\"},\"mode\":\"markers\",\"name\":\"Southampton\",\"orientation\":\"v\",\"showlegend\":true,\"x\":[0.8],\"xaxis\":\"x\",\"y\":[2.4],\"yaxis\":\"y\",\"type\":\"scatter\"},{\"hovertemplate\":\"Team=Wolves<br>Matches played=19<br>Average goals scored last five games=%{x}<br>Average goals conceded last five games=%{y}<extra></extra>\",\"legendgroup\":\"Wolves\",\"marker\":{\"color\":\"#7F7F7F\",\"opacity\":0.8,\"symbol\":\"circle\"},\"mode\":\"markers\",\"name\":\"Wolves\",\"orientation\":\"v\",\"showlegend\":true,\"x\":[1.2],\"xaxis\":\"x\",\"y\":[2.6],\"yaxis\":\"y\",\"type\":\"scatter\"},{\"hovertemplate\":\"Team=Arsenal<br>Matches played=19<br>Average goals scored last five games=%{x}<br>Average goals conceded last five games=%{y}<extra></extra>\",\"legendgroup\":\"Arsenal\",\"marker\":{\"color\":\"#BCBD22\",\"opacity\":0.8,\"symbol\":\"circle\"},\"mode\":\"markers\",\"name\":\"Arsenal\",\"orientation\":\"v\",\"showlegend\":true,\"x\":[2.2],\"xaxis\":\"x\",\"y\":[1.4],\"yaxis\":\"y\",\"type\":\"scatter\"},{\"hovertemplate\":\"Team=West Ham<br>Matches played=19<br>Average goals scored last five games=%{x}<br>Average goals conceded last five games=%{y}<extra></extra>\",\"legendgroup\":\"West Ham\",\"marker\":{\"color\":\"#17BECF\",\"opacity\":0.8,\"symbol\":\"circle\"},\"mode\":\"markers\",\"name\":\"West Ham\",\"orientation\":\"v\",\"showlegend\":true,\"x\":[1.6],\"xaxis\":\"x\",\"y\":[1.4],\"yaxis\":\"y\",\"type\":\"scatter\"}],\"name\":\"19\"},{\"data\":[{\"hovertemplate\":\"Team=Brentford<br>Matches played=20<br>Average goals scored last five games=%{x}<br>Average goals conceded last five games=%{y}<extra></extra>\",\"legendgroup\":\"Brentford\",\"marker\":{\"color\":\"#1F77B4\",\"opacity\":0.8,\"symbol\":\"circle\"},\"mode\":\"markers\",\"name\":\"Brentford\",\"orientation\":\"v\",\"showlegend\":true,\"x\":[1.2],\"xaxis\":\"x\",\"y\":[0.4],\"yaxis\":\"y\",\"type\":\"scatter\"},{\"hovertemplate\":\"Team=Man United<br>Matches played=20<br>Average goals scored last five games=%{x}<br>Average goals conceded last five games=%{y}<extra></extra>\",\"legendgroup\":\"Man United\",\"marker\":{\"color\":\"#FF7F0E\",\"opacity\":0.8,\"symbol\":\"circle\"},\"mode\":\"markers\",\"name\":\"Man United\",\"orientation\":\"v\",\"showlegend\":true,\"x\":[1.8],\"xaxis\":\"x\",\"y\":[1.0],\"yaxis\":\"y\",\"type\":\"scatter\"},{\"hovertemplate\":\"Team=Burnley<br>Matches played=20<br>Average goals scored last five games=%{x}<br>Average goals conceded last five games=%{y}<extra></extra>\",\"legendgroup\":\"Burnley\",\"marker\":{\"color\":\"#2CA02C\",\"opacity\":0.8,\"symbol\":\"circle\"},\"mode\":\"markers\",\"name\":\"Burnley\",\"orientation\":\"v\",\"showlegend\":true,\"x\":[1.0],\"xaxis\":\"x\",\"y\":[1.4],\"yaxis\":\"y\",\"type\":\"scatter\"},{\"hovertemplate\":\"Team=Chelsea<br>Matches played=20<br>Average goals scored last five games=%{x}<br>Average goals conceded last five games=%{y}<extra></extra>\",\"legendgroup\":\"Chelsea\",\"marker\":{\"color\":\"#D62728\",\"opacity\":0.8,\"symbol\":\"circle\"},\"mode\":\"markers\",\"name\":\"Chelsea\",\"orientation\":\"v\",\"showlegend\":true,\"x\":[1.6],\"xaxis\":\"x\",\"y\":[0.8],\"yaxis\":\"y\",\"type\":\"scatter\"},{\"hovertemplate\":\"Team=Everton<br>Matches played=20<br>Average goals scored last five games=%{x}<br>Average goals conceded last five games=%{y}<extra></extra>\",\"legendgroup\":\"Everton\",\"marker\":{\"color\":\"#9467BD\",\"opacity\":0.8,\"symbol\":\"circle\"},\"mode\":\"markers\",\"name\":\"Everton\",\"orientation\":\"v\",\"showlegend\":true,\"x\":[1.8],\"xaxis\":\"x\",\"y\":[1.6],\"yaxis\":\"y\",\"type\":\"scatter\"},{\"hovertemplate\":\"Team=Leicester<br>Matches played=20<br>Average goals scored last five games=%{x}<br>Average goals conceded last five games=%{y}<extra></extra>\",\"legendgroup\":\"Leicester\",\"marker\":{\"color\":\"#8C564B\",\"opacity\":0.8,\"symbol\":\"circle\"},\"mode\":\"markers\",\"name\":\"Leicester\",\"orientation\":\"v\",\"showlegend\":true,\"x\":[1.8],\"xaxis\":\"x\",\"y\":[1.4],\"yaxis\":\"y\",\"type\":\"scatter\"},{\"hovertemplate\":\"Team=Watford<br>Matches played=20<br>Average goals scored last five games=%{x}<br>Average goals conceded last five games=%{y}<extra></extra>\",\"legendgroup\":\"Watford\",\"marker\":{\"color\":\"#E377C2\",\"opacity\":0.8,\"symbol\":\"circle\"},\"mode\":\"markers\",\"name\":\"Watford\",\"orientation\":\"v\",\"showlegend\":true,\"x\":[0.6],\"xaxis\":\"x\",\"y\":[2.2],\"yaxis\":\"y\",\"type\":\"scatter\"},{\"hovertemplate\":\"Team=Norwich<br>Matches played=20<br>Average goals scored last five games=%{x}<br>Average goals conceded last five games=%{y}<extra></extra>\",\"legendgroup\":\"Norwich\",\"marker\":{\"color\":\"#7F7F7F\",\"opacity\":0.8,\"symbol\":\"circle\"},\"mode\":\"markers\",\"name\":\"Norwich\",\"orientation\":\"v\",\"showlegend\":true,\"x\":[0.4],\"xaxis\":\"x\",\"y\":[3.4],\"yaxis\":\"y\",\"type\":\"scatter\"},{\"hovertemplate\":\"Team=Newcastle<br>Matches played=20<br>Average goals scored last five games=%{x}<br>Average goals conceded last five games=%{y}<extra></extra>\",\"legendgroup\":\"Newcastle\",\"marker\":{\"color\":\"#BCBD22\",\"opacity\":0.8,\"symbol\":\"circle\"},\"mode\":\"markers\",\"name\":\"Newcastle\",\"orientation\":\"v\",\"showlegend\":true,\"x\":[1.0],\"xaxis\":\"x\",\"y\":[0.8],\"yaxis\":\"y\",\"type\":\"scatter\"},{\"hovertemplate\":\"Team=Tottenham<br>Matches played=20<br>Average goals scored last five games=%{x}<br>Average goals conceded last five games=%{y}<extra></extra>\",\"legendgroup\":\"Tottenham\",\"marker\":{\"color\":\"#17BECF\",\"opacity\":0.8,\"symbol\":\"circle\"},\"mode\":\"markers\",\"name\":\"Tottenham\",\"orientation\":\"v\",\"showlegend\":true,\"x\":[1.6],\"xaxis\":\"x\",\"y\":[0.4],\"yaxis\":\"y\",\"type\":\"scatter\"},{\"hovertemplate\":\"Team=Liverpool<br>Matches played=20<br>Average goals scored last five games=%{x}<br>Average goals conceded last five games=%{y}<extra></extra>\",\"legendgroup\":\"Liverpool\",\"marker\":{\"color\":\"#1F77B4\",\"opacity\":0.8,\"symbol\":\"circle\"},\"mode\":\"markers\",\"name\":\"Liverpool\",\"orientation\":\"v\",\"showlegend\":true,\"x\":[2.6],\"xaxis\":\"x\",\"y\":[0.4],\"yaxis\":\"y\",\"type\":\"scatter\"},{\"hovertemplate\":\"Team=Aston Villa<br>Matches played=20<br>Average goals scored last five games=%{x}<br>Average goals conceded last five games=%{y}<extra></extra>\",\"legendgroup\":\"Aston Villa\",\"marker\":{\"color\":\"#FF7F0E\",\"opacity\":0.8,\"symbol\":\"circle\"},\"mode\":\"markers\",\"name\":\"Aston Villa\",\"orientation\":\"v\",\"showlegend\":true,\"x\":[1.4],\"xaxis\":\"x\",\"y\":[1.4],\"yaxis\":\"y\",\"type\":\"scatter\"},{\"hovertemplate\":\"Team=Crystal Palace<br>Matches played=20<br>Average goals scored last five games=%{x}<br>Average goals conceded last five games=%{y}<extra></extra>\",\"legendgroup\":\"Crystal Palace\",\"marker\":{\"color\":\"#2CA02C\",\"opacity\":0.8,\"symbol\":\"circle\"},\"mode\":\"markers\",\"name\":\"Crystal Palace\",\"orientation\":\"v\",\"showlegend\":true,\"x\":[1.0],\"xaxis\":\"x\",\"y\":[0.6],\"yaxis\":\"y\",\"type\":\"scatter\"},{\"hovertemplate\":\"Team=Leeds<br>Matches played=20<br>Average goals scored last five games=%{x}<br>Average goals conceded last five games=%{y}<extra></extra>\",\"legendgroup\":\"Leeds\",\"marker\":{\"color\":\"#D62728\",\"opacity\":0.8,\"symbol\":\"circle\"},\"mode\":\"markers\",\"name\":\"Leeds\",\"orientation\":\"v\",\"showlegend\":true,\"x\":[0.6],\"xaxis\":\"x\",\"y\":[2.8],\"yaxis\":\"y\",\"type\":\"scatter\"},{\"hovertemplate\":\"Team=Man City<br>Matches played=20<br>Average goals scored last five games=%{x}<br>Average goals conceded last five games=%{y}<extra></extra>\",\"legendgroup\":\"Man City\",\"marker\":{\"color\":\"#9467BD\",\"opacity\":0.8,\"symbol\":\"circle\"},\"mode\":\"markers\",\"name\":\"Man City\",\"orientation\":\"v\",\"showlegend\":true,\"x\":[3.2],\"xaxis\":\"x\",\"y\":[0.8],\"yaxis\":\"y\",\"type\":\"scatter\"},{\"hovertemplate\":\"Team=Brighton<br>Matches played=20<br>Average goals scored last five games=%{x}<br>Average goals conceded last five games=%{y}<extra></extra>\",\"legendgroup\":\"Brighton\",\"marker\":{\"color\":\"#8C564B\",\"opacity\":0.8,\"symbol\":\"circle\"},\"mode\":\"markers\",\"name\":\"Brighton\",\"orientation\":\"v\",\"showlegend\":true,\"x\":[2.2],\"xaxis\":\"x\",\"y\":[0.8],\"yaxis\":\"y\",\"type\":\"scatter\"},{\"hovertemplate\":\"Team=Southampton<br>Matches played=20<br>Average goals scored last five games=%{x}<br>Average goals conceded last five games=%{y}<extra></extra>\",\"legendgroup\":\"Southampton\",\"marker\":{\"color\":\"#E377C2\",\"opacity\":0.8,\"symbol\":\"circle\"},\"mode\":\"markers\",\"name\":\"Southampton\",\"orientation\":\"v\",\"showlegend\":true,\"x\":[0.8],\"xaxis\":\"x\",\"y\":[2.6],\"yaxis\":\"y\",\"type\":\"scatter\"},{\"hovertemplate\":\"Team=Wolves<br>Matches played=20<br>Average goals scored last five games=%{x}<br>Average goals conceded last five games=%{y}<extra></extra>\",\"legendgroup\":\"Wolves\",\"marker\":{\"color\":\"#7F7F7F\",\"opacity\":0.8,\"symbol\":\"circle\"},\"mode\":\"markers\",\"name\":\"Wolves\",\"orientation\":\"v\",\"showlegend\":true,\"x\":[0.8],\"xaxis\":\"x\",\"y\":[2.2],\"yaxis\":\"y\",\"type\":\"scatter\"},{\"hovertemplate\":\"Team=Arsenal<br>Matches played=20<br>Average goals scored last five games=%{x}<br>Average goals conceded last five games=%{y}<extra></extra>\",\"legendgroup\":\"Arsenal\",\"marker\":{\"color\":\"#BCBD22\",\"opacity\":0.8,\"symbol\":\"circle\"},\"mode\":\"markers\",\"name\":\"Arsenal\",\"orientation\":\"v\",\"showlegend\":true,\"x\":[2.2],\"xaxis\":\"x\",\"y\":[1.4],\"yaxis\":\"y\",\"type\":\"scatter\"},{\"hovertemplate\":\"Team=West Ham<br>Matches played=20<br>Average goals scored last five games=%{x}<br>Average goals conceded last five games=%{y}<extra></extra>\",\"legendgroup\":\"West Ham\",\"marker\":{\"color\":\"#17BECF\",\"opacity\":0.8,\"symbol\":\"circle\"},\"mode\":\"markers\",\"name\":\"West Ham\",\"orientation\":\"v\",\"showlegend\":true,\"x\":[2.0],\"xaxis\":\"x\",\"y\":[1.6],\"yaxis\":\"y\",\"type\":\"scatter\"}],\"name\":\"20\"},{\"data\":[{\"hovertemplate\":\"Team=Brentford<br>Matches played=21<br>Average goals scored last five games=%{x}<br>Average goals conceded last five games=%{y}<extra></extra>\",\"legendgroup\":\"Brentford\",\"marker\":{\"color\":\"#1F77B4\",\"opacity\":0.8,\"symbol\":\"circle\"},\"mode\":\"markers\",\"name\":\"Brentford\",\"orientation\":\"v\",\"showlegend\":true,\"x\":[1.0],\"xaxis\":\"x\",\"y\":[0.6],\"yaxis\":\"y\",\"type\":\"scatter\"},{\"hovertemplate\":\"Team=Man United<br>Matches played=21<br>Average goals scored last five games=%{x}<br>Average goals conceded last five games=%{y}<extra></extra>\",\"legendgroup\":\"Man United\",\"marker\":{\"color\":\"#FF7F0E\",\"opacity\":0.8,\"symbol\":\"circle\"},\"mode\":\"markers\",\"name\":\"Man United\",\"orientation\":\"v\",\"showlegend\":true,\"x\":[1.8],\"xaxis\":\"x\",\"y\":[0.8],\"yaxis\":\"y\",\"type\":\"scatter\"},{\"hovertemplate\":\"Team=Burnley<br>Matches played=21<br>Average goals scored last five games=%{x}<br>Average goals conceded last five games=%{y}<extra></extra>\",\"legendgroup\":\"Burnley\",\"marker\":{\"color\":\"#2CA02C\",\"opacity\":0.8,\"symbol\":\"circle\"},\"mode\":\"markers\",\"name\":\"Burnley\",\"orientation\":\"v\",\"showlegend\":true,\"x\":[0.8],\"xaxis\":\"x\",\"y\":[2.0],\"yaxis\":\"y\",\"type\":\"scatter\"},{\"hovertemplate\":\"Team=Chelsea<br>Matches played=21<br>Average goals scored last five games=%{x}<br>Average goals conceded last five games=%{y}<extra></extra>\",\"legendgroup\":\"Chelsea\",\"marker\":{\"color\":\"#D62728\",\"opacity\":0.8,\"symbol\":\"circle\"},\"mode\":\"markers\",\"name\":\"Chelsea\",\"orientation\":\"v\",\"showlegend\":true,\"x\":[1.6],\"xaxis\":\"x\",\"y\":[1.0],\"yaxis\":\"y\",\"type\":\"scatter\"},{\"hovertemplate\":\"Team=Everton<br>Matches played=21<br>Average goals scored last five games=%{x}<br>Average goals conceded last five games=%{y}<extra></extra>\",\"legendgroup\":\"Everton\",\"marker\":{\"color\":\"#9467BD\",\"opacity\":0.8,\"symbol\":\"circle\"},\"mode\":\"markers\",\"name\":\"Everton\",\"orientation\":\"v\",\"showlegend\":true,\"x\":[2.0],\"xaxis\":\"x\",\"y\":[1.4],\"yaxis\":\"y\",\"type\":\"scatter\"},{\"hovertemplate\":\"Team=Leicester<br>Matches played=21<br>Average goals scored last five games=%{x}<br>Average goals conceded last five games=%{y}<extra></extra>\",\"legendgroup\":\"Leicester\",\"marker\":{\"color\":\"#8C564B\",\"opacity\":0.8,\"symbol\":\"circle\"},\"mode\":\"markers\",\"name\":\"Leicester\",\"orientation\":\"v\",\"showlegend\":true,\"x\":[2.2],\"xaxis\":\"x\",\"y\":[1.6],\"yaxis\":\"y\",\"type\":\"scatter\"},{\"hovertemplate\":\"Team=Watford<br>Matches played=21<br>Average goals scored last five games=%{x}<br>Average goals conceded last five games=%{y}<extra></extra>\",\"legendgroup\":\"Watford\",\"marker\":{\"color\":\"#E377C2\",\"opacity\":0.8,\"symbol\":\"circle\"},\"mode\":\"markers\",\"name\":\"Watford\",\"orientation\":\"v\",\"showlegend\":true,\"x\":[0.4],\"xaxis\":\"x\",\"y\":[2.0],\"yaxis\":\"y\",\"type\":\"scatter\"},{\"hovertemplate\":\"Team=Norwich<br>Matches played=21<br>Average goals scored last five games=%{x}<br>Average goals conceded last five games=%{y}<extra></extra>\",\"legendgroup\":\"Norwich\",\"marker\":{\"color\":\"#7F7F7F\",\"opacity\":0.8,\"symbol\":\"circle\"},\"mode\":\"markers\",\"name\":\"Norwich\",\"orientation\":\"v\",\"showlegend\":true,\"x\":[0.0],\"xaxis\":\"x\",\"y\":[3.6],\"yaxis\":\"y\",\"type\":\"scatter\"},{\"hovertemplate\":\"Team=Newcastle<br>Matches played=21<br>Average goals scored last five games=%{x}<br>Average goals conceded last five games=%{y}<extra></extra>\",\"legendgroup\":\"Newcastle\",\"marker\":{\"color\":\"#BCBD22\",\"opacity\":0.8,\"symbol\":\"circle\"},\"mode\":\"markers\",\"name\":\"Newcastle\",\"orientation\":\"v\",\"showlegend\":true,\"x\":[0.8],\"xaxis\":\"x\",\"y\":[1.4],\"yaxis\":\"y\",\"type\":\"scatter\"},{\"hovertemplate\":\"Team=Tottenham<br>Matches played=21<br>Average goals scored last five games=%{x}<br>Average goals conceded last five games=%{y}<extra></extra>\",\"legendgroup\":\"Tottenham\",\"marker\":{\"color\":\"#17BECF\",\"opacity\":0.8,\"symbol\":\"circle\"},\"mode\":\"markers\",\"name\":\"Tottenham\",\"orientation\":\"v\",\"showlegend\":true,\"x\":[1.6],\"xaxis\":\"x\",\"y\":[0.8],\"yaxis\":\"y\",\"type\":\"scatter\"},{\"hovertemplate\":\"Team=Liverpool<br>Matches played=21<br>Average goals scored last five games=%{x}<br>Average goals conceded last five games=%{y}<extra></extra>\",\"legendgroup\":\"Liverpool\",\"marker\":{\"color\":\"#1F77B4\",\"opacity\":0.8,\"symbol\":\"circle\"},\"mode\":\"markers\",\"name\":\"Liverpool\",\"orientation\":\"v\",\"showlegend\":true,\"x\":[2.4],\"xaxis\":\"x\",\"y\":[0.4],\"yaxis\":\"y\",\"type\":\"scatter\"},{\"hovertemplate\":\"Team=Aston Villa<br>Matches played=21<br>Average goals scored last five games=%{x}<br>Average goals conceded last five games=%{y}<extra></extra>\",\"legendgroup\":\"Aston Villa\",\"marker\":{\"color\":\"#FF7F0E\",\"opacity\":0.8,\"symbol\":\"circle\"},\"mode\":\"markers\",\"name\":\"Aston Villa\",\"orientation\":\"v\",\"showlegend\":true,\"x\":[1.0],\"xaxis\":\"x\",\"y\":[2.0],\"yaxis\":\"y\",\"type\":\"scatter\"},{\"hovertemplate\":\"Team=Crystal Palace<br>Matches played=21<br>Average goals scored last five games=%{x}<br>Average goals conceded last five games=%{y}<extra></extra>\",\"legendgroup\":\"Crystal Palace\",\"marker\":{\"color\":\"#2CA02C\",\"opacity\":0.8,\"symbol\":\"circle\"},\"mode\":\"markers\",\"name\":\"Crystal Palace\",\"orientation\":\"v\",\"showlegend\":true,\"x\":[0.8],\"xaxis\":\"x\",\"y\":[1.0],\"yaxis\":\"y\",\"type\":\"scatter\"},{\"hovertemplate\":\"Team=Leeds<br>Matches played=21<br>Average goals scored last five games=%{x}<br>Average goals conceded last five games=%{y}<extra></extra>\",\"legendgroup\":\"Leeds\",\"marker\":{\"color\":\"#D62728\",\"opacity\":0.8,\"symbol\":\"circle\"},\"mode\":\"markers\",\"name\":\"Leeds\",\"orientation\":\"v\",\"showlegend\":true,\"x\":[0.6],\"xaxis\":\"x\",\"y\":[2.8],\"yaxis\":\"y\",\"type\":\"scatter\"},{\"hovertemplate\":\"Team=Man City<br>Matches played=21<br>Average goals scored last five games=%{x}<br>Average goals conceded last five games=%{y}<extra></extra>\",\"legendgroup\":\"Man City\",\"marker\":{\"color\":\"#9467BD\",\"opacity\":0.8,\"symbol\":\"circle\"},\"mode\":\"markers\",\"name\":\"Man City\",\"orientation\":\"v\",\"showlegend\":true,\"x\":[2.8],\"xaxis\":\"x\",\"y\":[0.8],\"yaxis\":\"y\",\"type\":\"scatter\"},{\"hovertemplate\":\"Team=Brighton<br>Matches played=21<br>Average goals scored last five games=%{x}<br>Average goals conceded last five games=%{y}<extra></extra>\",\"legendgroup\":\"Brighton\",\"marker\":{\"color\":\"#8C564B\",\"opacity\":0.8,\"symbol\":\"circle\"},\"mode\":\"markers\",\"name\":\"Brighton\",\"orientation\":\"v\",\"showlegend\":true,\"x\":[2.4],\"xaxis\":\"x\",\"y\":[0.8],\"yaxis\":\"y\",\"type\":\"scatter\"},{\"hovertemplate\":\"Team=Southampton<br>Matches played=21<br>Average goals scored last five games=%{x}<br>Average goals conceded last five games=%{y}<extra></extra>\",\"legendgroup\":\"Southampton\",\"marker\":{\"color\":\"#E377C2\",\"opacity\":0.8,\"symbol\":\"circle\"},\"mode\":\"markers\",\"name\":\"Southampton\",\"orientation\":\"v\",\"showlegend\":true,\"x\":[1.2],\"xaxis\":\"x\",\"y\":[1.8],\"yaxis\":\"y\",\"type\":\"scatter\"},{\"hovertemplate\":\"Team=Wolves<br>Matches played=21<br>Average goals scored last five games=%{x}<br>Average goals conceded last five games=%{y}<extra></extra>\",\"legendgroup\":\"Wolves\",\"marker\":{\"color\":\"#7F7F7F\",\"opacity\":0.8,\"symbol\":\"circle\"},\"mode\":\"markers\",\"name\":\"Wolves\",\"orientation\":\"v\",\"showlegend\":true,\"x\":[0.8],\"xaxis\":\"x\",\"y\":[2.0],\"yaxis\":\"y\",\"type\":\"scatter\"},{\"hovertemplate\":\"Team=Arsenal<br>Matches played=21<br>Average goals scored last five games=%{x}<br>Average goals conceded last five games=%{y}<extra></extra>\",\"legendgroup\":\"Arsenal\",\"marker\":{\"color\":\"#BCBD22\",\"opacity\":0.8,\"symbol\":\"circle\"},\"mode\":\"markers\",\"name\":\"Arsenal\",\"orientation\":\"v\",\"showlegend\":true,\"x\":[2.0],\"xaxis\":\"x\",\"y\":[2.0],\"yaxis\":\"y\",\"type\":\"scatter\"},{\"hovertemplate\":\"Team=West Ham<br>Matches played=21<br>Average goals scored last five games=%{x}<br>Average goals conceded last five games=%{y}<extra></extra>\",\"legendgroup\":\"West Ham\",\"marker\":{\"color\":\"#17BECF\",\"opacity\":0.8,\"symbol\":\"circle\"},\"mode\":\"markers\",\"name\":\"West Ham\",\"orientation\":\"v\",\"showlegend\":true,\"x\":[1.6],\"xaxis\":\"x\",\"y\":[1.4],\"yaxis\":\"y\",\"type\":\"scatter\"}],\"name\":\"21\"},{\"data\":[{\"hovertemplate\":\"Team=Brentford<br>Matches played=22<br>Average goals scored last five games=%{x}<br>Average goals conceded last five games=%{y}<extra></extra>\",\"legendgroup\":\"Brentford\",\"marker\":{\"color\":\"#1F77B4\",\"opacity\":0.8,\"symbol\":\"circle\"},\"mode\":\"markers\",\"name\":\"Brentford\",\"orientation\":\"v\",\"showlegend\":true,\"x\":[1.4],\"xaxis\":\"x\",\"y\":[0.6],\"yaxis\":\"y\",\"type\":\"scatter\"},{\"hovertemplate\":\"Team=Man United<br>Matches played=22<br>Average goals scored last five games=%{x}<br>Average goals conceded last five games=%{y}<extra></extra>\",\"legendgroup\":\"Man United\",\"marker\":{\"color\":\"#FF7F0E\",\"opacity\":0.8,\"symbol\":\"circle\"},\"mode\":\"markers\",\"name\":\"Man United\",\"orientation\":\"v\",\"showlegend\":true,\"x\":[1.6],\"xaxis\":\"x\",\"y\":[0.6],\"yaxis\":\"y\",\"type\":\"scatter\"},{\"hovertemplate\":\"Team=Burnley<br>Matches played=22<br>Average goals scored last five games=%{x}<br>Average goals conceded last five games=%{y}<extra></extra>\",\"legendgroup\":\"Burnley\",\"marker\":{\"color\":\"#2CA02C\",\"opacity\":0.8,\"symbol\":\"circle\"},\"mode\":\"markers\",\"name\":\"Burnley\",\"orientation\":\"v\",\"showlegend\":true,\"x\":[1.0],\"xaxis\":\"x\",\"y\":[2.4],\"yaxis\":\"y\",\"type\":\"scatter\"},{\"hovertemplate\":\"Team=Chelsea<br>Matches played=22<br>Average goals scored last five games=%{x}<br>Average goals conceded last five games=%{y}<extra></extra>\",\"legendgroup\":\"Chelsea\",\"marker\":{\"color\":\"#D62728\",\"opacity\":0.8,\"symbol\":\"circle\"},\"mode\":\"markers\",\"name\":\"Chelsea\",\"orientation\":\"v\",\"showlegend\":true,\"x\":[1.8],\"xaxis\":\"x\",\"y\":[0.6],\"yaxis\":\"y\",\"type\":\"scatter\"},{\"hovertemplate\":\"Team=Everton<br>Matches played=22<br>Average goals scored last five games=%{x}<br>Average goals conceded last five games=%{y}<extra></extra>\",\"legendgroup\":\"Everton\",\"marker\":{\"color\":\"#9467BD\",\"opacity\":0.8,\"symbol\":\"circle\"},\"mode\":\"markers\",\"name\":\"Everton\",\"orientation\":\"v\",\"showlegend\":true,\"x\":[1.8],\"xaxis\":\"x\",\"y\":[2.0],\"yaxis\":\"y\",\"type\":\"scatter\"},{\"hovertemplate\":\"Team=Leicester<br>Matches played=22<br>Average goals scored last five games=%{x}<br>Average goals conceded last five games=%{y}<extra></extra>\",\"legendgroup\":\"Leicester\",\"marker\":{\"color\":\"#8C564B\",\"opacity\":0.8,\"symbol\":\"circle\"},\"mode\":\"markers\",\"name\":\"Leicester\",\"orientation\":\"v\",\"showlegend\":true,\"x\":[2.2],\"xaxis\":\"x\",\"y\":[1.6],\"yaxis\":\"y\",\"type\":\"scatter\"},{\"hovertemplate\":\"Team=Watford<br>Matches played=22<br>Average goals scored last five games=%{x}<br>Average goals conceded last five games=%{y}<extra></extra>\",\"legendgroup\":\"Watford\",\"marker\":{\"color\":\"#E377C2\",\"opacity\":0.8,\"symbol\":\"circle\"},\"mode\":\"markers\",\"name\":\"Watford\",\"orientation\":\"v\",\"showlegend\":true,\"x\":[0.8],\"xaxis\":\"x\",\"y\":[1.8],\"yaxis\":\"y\",\"type\":\"scatter\"},{\"hovertemplate\":\"Team=Norwich<br>Matches played=22<br>Average goals scored last five games=%{x}<br>Average goals conceded last five games=%{y}<extra></extra>\",\"legendgroup\":\"Norwich\",\"marker\":{\"color\":\"#7F7F7F\",\"opacity\":0.8,\"symbol\":\"circle\"},\"mode\":\"markers\",\"name\":\"Norwich\",\"orientation\":\"v\",\"showlegend\":true,\"x\":[0.0],\"xaxis\":\"x\",\"y\":[3.4],\"yaxis\":\"y\",\"type\":\"scatter\"},{\"hovertemplate\":\"Team=Newcastle<br>Matches played=22<br>Average goals scored last five games=%{x}<br>Average goals conceded last five games=%{y}<extra></extra>\",\"legendgroup\":\"Newcastle\",\"marker\":{\"color\":\"#BCBD22\",\"opacity\":0.8,\"symbol\":\"circle\"},\"mode\":\"markers\",\"name\":\"Newcastle\",\"orientation\":\"v\",\"showlegend\":true,\"x\":[0.8],\"xaxis\":\"x\",\"y\":[1.6],\"yaxis\":\"y\",\"type\":\"scatter\"},{\"hovertemplate\":\"Team=Tottenham<br>Matches played=22<br>Average goals scored last five games=%{x}<br>Average goals conceded last five games=%{y}<extra></extra>\",\"legendgroup\":\"Tottenham\",\"marker\":{\"color\":\"#17BECF\",\"opacity\":0.8,\"symbol\":\"circle\"},\"mode\":\"markers\",\"name\":\"Tottenham\",\"orientation\":\"v\",\"showlegend\":true,\"x\":[1.2],\"xaxis\":\"x\",\"y\":[1.2],\"yaxis\":\"y\",\"type\":\"scatter\"},{\"hovertemplate\":\"Team=Liverpool<br>Matches played=22<br>Average goals scored last five games=%{x}<br>Average goals conceded last five games=%{y}<extra></extra>\",\"legendgroup\":\"Liverpool\",\"marker\":{\"color\":\"#1F77B4\",\"opacity\":0.8,\"symbol\":\"circle\"},\"mode\":\"markers\",\"name\":\"Liverpool\",\"orientation\":\"v\",\"showlegend\":true,\"x\":[2.6],\"xaxis\":\"x\",\"y\":[1.0],\"yaxis\":\"y\",\"type\":\"scatter\"},{\"hovertemplate\":\"Team=Aston Villa<br>Matches played=22<br>Average goals scored last five games=%{x}<br>Average goals conceded last five games=%{y}<extra></extra>\",\"legendgroup\":\"Aston Villa\",\"marker\":{\"color\":\"#FF7F0E\",\"opacity\":0.8,\"symbol\":\"circle\"},\"mode\":\"markers\",\"name\":\"Aston Villa\",\"orientation\":\"v\",\"showlegend\":true,\"x\":[1.0],\"xaxis\":\"x\",\"y\":[1.6],\"yaxis\":\"y\",\"type\":\"scatter\"},{\"hovertemplate\":\"Team=Crystal Palace<br>Matches played=22<br>Average goals scored last five games=%{x}<br>Average goals conceded last five games=%{y}<extra></extra>\",\"legendgroup\":\"Crystal Palace\",\"marker\":{\"color\":\"#2CA02C\",\"opacity\":0.8,\"symbol\":\"circle\"},\"mode\":\"markers\",\"name\":\"Crystal Palace\",\"orientation\":\"v\",\"showlegend\":true,\"x\":[0.8],\"xaxis\":\"x\",\"y\":[1.6],\"yaxis\":\"y\",\"type\":\"scatter\"},{\"hovertemplate\":\"Team=Leeds<br>Matches played=22<br>Average goals scored last five games=%{x}<br>Average goals conceded last five games=%{y}<extra></extra>\",\"legendgroup\":\"Leeds\",\"marker\":{\"color\":\"#D62728\",\"opacity\":0.8,\"symbol\":\"circle\"},\"mode\":\"markers\",\"name\":\"Leeds\",\"orientation\":\"v\",\"showlegend\":true,\"x\":[0.8],\"xaxis\":\"x\",\"y\":[2.2],\"yaxis\":\"y\",\"type\":\"scatter\"},{\"hovertemplate\":\"Team=Man City<br>Matches played=22<br>Average goals scored last five games=%{x}<br>Average goals conceded last five games=%{y}<extra></extra>\",\"legendgroup\":\"Man City\",\"marker\":{\"color\":\"#9467BD\",\"opacity\":0.8,\"symbol\":\"circle\"},\"mode\":\"markers\",\"name\":\"Man City\",\"orientation\":\"v\",\"showlegend\":true,\"x\":[2.0],\"xaxis\":\"x\",\"y\":[0.6],\"yaxis\":\"y\",\"type\":\"scatter\"},{\"hovertemplate\":\"Team=Brighton<br>Matches played=22<br>Average goals scored last five games=%{x}<br>Average goals conceded last five games=%{y}<extra></extra>\",\"legendgroup\":\"Brighton\",\"marker\":{\"color\":\"#8C564B\",\"opacity\":0.8,\"symbol\":\"circle\"},\"mode\":\"markers\",\"name\":\"Brighton\",\"orientation\":\"v\",\"showlegend\":true,\"x\":[2.2],\"xaxis\":\"x\",\"y\":[0.6],\"yaxis\":\"y\",\"type\":\"scatter\"},{\"hovertemplate\":\"Team=Southampton<br>Matches played=22<br>Average goals scored last five games=%{x}<br>Average goals conceded last five games=%{y}<extra></extra>\",\"legendgroup\":\"Southampton\",\"marker\":{\"color\":\"#E377C2\",\"opacity\":0.8,\"symbol\":\"circle\"},\"mode\":\"markers\",\"name\":\"Southampton\",\"orientation\":\"v\",\"showlegend\":true,\"x\":[1.0],\"xaxis\":\"x\",\"y\":[1.8],\"yaxis\":\"y\",\"type\":\"scatter\"},{\"hovertemplate\":\"Team=Wolves<br>Matches played=22<br>Average goals scored last five games=%{x}<br>Average goals conceded last five games=%{y}<extra></extra>\",\"legendgroup\":\"Wolves\",\"marker\":{\"color\":\"#7F7F7F\",\"opacity\":0.8,\"symbol\":\"circle\"},\"mode\":\"markers\",\"name\":\"Wolves\",\"orientation\":\"v\",\"showlegend\":true,\"x\":[1.0],\"xaxis\":\"x\",\"y\":[1.4],\"yaxis\":\"y\",\"type\":\"scatter\"},{\"hovertemplate\":\"Team=Arsenal<br>Matches played=22<br>Average goals scored last five games=%{x}<br>Average goals conceded last five games=%{y}<extra></extra>\",\"legendgroup\":\"Arsenal\",\"marker\":{\"color\":\"#BCBD22\",\"opacity\":0.8,\"symbol\":\"circle\"},\"mode\":\"markers\",\"name\":\"Arsenal\",\"orientation\":\"v\",\"showlegend\":true,\"x\":[1.6],\"xaxis\":\"x\",\"y\":[1.8],\"yaxis\":\"y\",\"type\":\"scatter\"},{\"hovertemplate\":\"Team=West Ham<br>Matches played=22<br>Average goals scored last five games=%{x}<br>Average goals conceded last five games=%{y}<extra></extra>\",\"legendgroup\":\"West Ham\",\"marker\":{\"color\":\"#17BECF\",\"opacity\":0.8,\"symbol\":\"circle\"},\"mode\":\"markers\",\"name\":\"West Ham\",\"orientation\":\"v\",\"showlegend\":true,\"x\":[1.8],\"xaxis\":\"x\",\"y\":[1.4],\"yaxis\":\"y\",\"type\":\"scatter\"}],\"name\":\"22\"},{\"data\":[{\"hovertemplate\":\"Team=Brentford<br>Matches played=23<br>Average goals scored last five games=%{x}<br>Average goals conceded last five games=%{y}<extra></extra>\",\"legendgroup\":\"Brentford\",\"marker\":{\"color\":\"#1F77B4\",\"opacity\":0.8,\"symbol\":\"circle\"},\"mode\":\"markers\",\"name\":\"Brentford\",\"orientation\":\"v\",\"showlegend\":true,\"x\":[1.2],\"xaxis\":\"x\",\"y\":[0.8],\"yaxis\":\"y\",\"type\":\"scatter\"},{\"hovertemplate\":\"Team=Man United<br>Matches played=23<br>Average goals scored last five games=%{x}<br>Average goals conceded last five games=%{y}<extra></extra>\",\"legendgroup\":\"Man United\",\"marker\":{\"color\":\"#FF7F0E\",\"opacity\":0.8,\"symbol\":\"circle\"},\"mode\":\"markers\",\"name\":\"Man United\",\"orientation\":\"v\",\"showlegend\":true,\"x\":[1.8],\"xaxis\":\"x\",\"y\":[1.2],\"yaxis\":\"y\",\"type\":\"scatter\"},{\"hovertemplate\":\"Team=Burnley<br>Matches played=23<br>Average goals scored last five games=%{x}<br>Average goals conceded last five games=%{y}<extra></extra>\",\"legendgroup\":\"Burnley\",\"marker\":{\"color\":\"#2CA02C\",\"opacity\":0.8,\"symbol\":\"circle\"},\"mode\":\"markers\",\"name\":\"Burnley\",\"orientation\":\"v\",\"showlegend\":true,\"x\":[0.8],\"xaxis\":\"x\",\"y\":[2.2],\"yaxis\":\"y\",\"type\":\"scatter\"},{\"hovertemplate\":\"Team=Chelsea<br>Matches played=23<br>Average goals scored last five games=%{x}<br>Average goals conceded last five games=%{y}<extra></extra>\",\"legendgroup\":\"Chelsea\",\"marker\":{\"color\":\"#D62728\",\"opacity\":0.8,\"symbol\":\"circle\"},\"mode\":\"markers\",\"name\":\"Chelsea\",\"orientation\":\"v\",\"showlegend\":true,\"x\":[1.8],\"xaxis\":\"x\",\"y\":[0.4],\"yaxis\":\"y\",\"type\":\"scatter\"},{\"hovertemplate\":\"Team=Everton<br>Matches played=23<br>Average goals scored last five games=%{x}<br>Average goals conceded last five games=%{y}<extra></extra>\",\"legendgroup\":\"Everton\",\"marker\":{\"color\":\"#9467BD\",\"opacity\":0.8,\"symbol\":\"circle\"},\"mode\":\"markers\",\"name\":\"Everton\",\"orientation\":\"v\",\"showlegend\":true,\"x\":[1.6],\"xaxis\":\"x\",\"y\":[1.6],\"yaxis\":\"y\",\"type\":\"scatter\"},{\"hovertemplate\":\"Team=Leicester<br>Matches played=23<br>Average goals scored last five games=%{x}<br>Average goals conceded last five games=%{y}<extra></extra>\",\"legendgroup\":\"Leicester\",\"marker\":{\"color\":\"#8C564B\",\"opacity\":0.8,\"symbol\":\"circle\"},\"mode\":\"markers\",\"name\":\"Leicester\",\"orientation\":\"v\",\"showlegend\":true,\"x\":[2.0],\"xaxis\":\"x\",\"y\":[2.0],\"yaxis\":\"y\",\"type\":\"scatter\"},{\"hovertemplate\":\"Team=Watford<br>Matches played=23<br>Average goals scored last five games=%{x}<br>Average goals conceded last five games=%{y}<extra></extra>\",\"legendgroup\":\"Watford\",\"marker\":{\"color\":\"#E377C2\",\"opacity\":0.8,\"symbol\":\"circle\"},\"mode\":\"markers\",\"name\":\"Watford\",\"orientation\":\"v\",\"showlegend\":true,\"x\":[0.8],\"xaxis\":\"x\",\"y\":[2.0],\"yaxis\":\"y\",\"type\":\"scatter\"},{\"hovertemplate\":\"Team=Norwich<br>Matches played=23<br>Average goals scored last five games=%{x}<br>Average goals conceded last five games=%{y}<extra></extra>\",\"legendgroup\":\"Norwich\",\"marker\":{\"color\":\"#7F7F7F\",\"opacity\":0.8,\"symbol\":\"circle\"},\"mode\":\"markers\",\"name\":\"Norwich\",\"orientation\":\"v\",\"showlegend\":true,\"x\":[0.0],\"xaxis\":\"x\",\"y\":[2.6],\"yaxis\":\"y\",\"type\":\"scatter\"},{\"hovertemplate\":\"Team=Newcastle<br>Matches played=23<br>Average goals scored last five games=%{x}<br>Average goals conceded last five games=%{y}<extra></extra>\",\"legendgroup\":\"Newcastle\",\"marker\":{\"color\":\"#BCBD22\",\"opacity\":0.8,\"symbol\":\"circle\"},\"mode\":\"markers\",\"name\":\"Newcastle\",\"orientation\":\"v\",\"showlegend\":true,\"x\":[1.0],\"xaxis\":\"x\",\"y\":[1.8],\"yaxis\":\"y\",\"type\":\"scatter\"},{\"hovertemplate\":\"Team=Tottenham<br>Matches played=23<br>Average goals scored last five games=%{x}<br>Average goals conceded last five games=%{y}<extra></extra>\",\"legendgroup\":\"Tottenham\",\"marker\":{\"color\":\"#17BECF\",\"opacity\":0.8,\"symbol\":\"circle\"},\"mode\":\"markers\",\"name\":\"Tottenham\",\"orientation\":\"v\",\"showlegend\":true,\"x\":[1.2],\"xaxis\":\"x\",\"y\":[1.6],\"yaxis\":\"y\",\"type\":\"scatter\"},{\"hovertemplate\":\"Team=Liverpool<br>Matches played=23<br>Average goals scored last five games=%{x}<br>Average goals conceded last five games=%{y}<extra></extra>\",\"legendgroup\":\"Liverpool\",\"marker\":{\"color\":\"#1F77B4\",\"opacity\":0.8,\"symbol\":\"circle\"},\"mode\":\"markers\",\"name\":\"Liverpool\",\"orientation\":\"v\",\"showlegend\":true,\"x\":[3.4],\"xaxis\":\"x\",\"y\":[0.8],\"yaxis\":\"y\",\"type\":\"scatter\"},{\"hovertemplate\":\"Team=Aston Villa<br>Matches played=23<br>Average goals scored last five games=%{x}<br>Average goals conceded last five games=%{y}<extra></extra>\",\"legendgroup\":\"Aston Villa\",\"marker\":{\"color\":\"#FF7F0E\",\"opacity\":0.8,\"symbol\":\"circle\"},\"mode\":\"markers\",\"name\":\"Aston Villa\",\"orientation\":\"v\",\"showlegend\":true,\"x\":[1.0],\"xaxis\":\"x\",\"y\":[1.8],\"yaxis\":\"y\",\"type\":\"scatter\"},{\"hovertemplate\":\"Team=Crystal Palace<br>Matches played=23<br>Average goals scored last five games=%{x}<br>Average goals conceded last five games=%{y}<extra></extra>\",\"legendgroup\":\"Crystal Palace\",\"marker\":{\"color\":\"#2CA02C\",\"opacity\":0.8,\"symbol\":\"circle\"},\"mode\":\"markers\",\"name\":\"Crystal Palace\",\"orientation\":\"v\",\"showlegend\":true,\"x\":[1.0],\"xaxis\":\"x\",\"y\":[2.0],\"yaxis\":\"y\",\"type\":\"scatter\"},{\"hovertemplate\":\"Team=Leeds<br>Matches played=23<br>Average goals scored last five games=%{x}<br>Average goals conceded last five games=%{y}<extra></extra>\",\"legendgroup\":\"Leeds\",\"marker\":{\"color\":\"#D62728\",\"opacity\":0.8,\"symbol\":\"circle\"},\"mode\":\"markers\",\"name\":\"Leeds\",\"orientation\":\"v\",\"showlegend\":true,\"x\":[0.8],\"xaxis\":\"x\",\"y\":[1.8],\"yaxis\":\"y\",\"type\":\"scatter\"},{\"hovertemplate\":\"Team=Man City<br>Matches played=23<br>Average goals scored last five games=%{x}<br>Average goals conceded last five games=%{y}<extra></extra>\",\"legendgroup\":\"Man City\",\"marker\":{\"color\":\"#9467BD\",\"opacity\":0.8,\"symbol\":\"circle\"},\"mode\":\"markers\",\"name\":\"Man City\",\"orientation\":\"v\",\"showlegend\":true,\"x\":[1.4],\"xaxis\":\"x\",\"y\":[1.0],\"yaxis\":\"y\",\"type\":\"scatter\"},{\"hovertemplate\":\"Team=Brighton<br>Matches played=23<br>Average goals scored last five games=%{x}<br>Average goals conceded last five games=%{y}<extra></extra>\",\"legendgroup\":\"Brighton\",\"marker\":{\"color\":\"#8C564B\",\"opacity\":0.8,\"symbol\":\"circle\"},\"mode\":\"markers\",\"name\":\"Brighton\",\"orientation\":\"v\",\"showlegend\":true,\"x\":[1.4],\"xaxis\":\"x\",\"y\":[0.6],\"yaxis\":\"y\",\"type\":\"scatter\"},{\"hovertemplate\":\"Team=Southampton<br>Matches played=23<br>Average goals scored last five games=%{x}<br>Average goals conceded last five games=%{y}<extra></extra>\",\"legendgroup\":\"Southampton\",\"marker\":{\"color\":\"#E377C2\",\"opacity\":0.8,\"symbol\":\"circle\"},\"mode\":\"markers\",\"name\":\"Southampton\",\"orientation\":\"v\",\"showlegend\":true,\"x\":[1.0],\"xaxis\":\"x\",\"y\":[2.0],\"yaxis\":\"y\",\"type\":\"scatter\"},{\"hovertemplate\":\"Team=Wolves<br>Matches played=23<br>Average goals scored last five games=%{x}<br>Average goals conceded last five games=%{y}<extra></extra>\",\"legendgroup\":\"Wolves\",\"marker\":{\"color\":\"#7F7F7F\",\"opacity\":0.8,\"symbol\":\"circle\"},\"mode\":\"markers\",\"name\":\"Wolves\",\"orientation\":\"v\",\"showlegend\":true,\"x\":[1.4],\"xaxis\":\"x\",\"y\":[0.8],\"yaxis\":\"y\",\"type\":\"scatter\"},{\"hovertemplate\":\"Team=Arsenal<br>Matches played=23<br>Average goals scored last five games=%{x}<br>Average goals conceded last five games=%{y}<extra></extra>\",\"legendgroup\":\"Arsenal\",\"marker\":{\"color\":\"#BCBD22\",\"opacity\":0.8,\"symbol\":\"circle\"},\"mode\":\"markers\",\"name\":\"Arsenal\",\"orientation\":\"v\",\"showlegend\":true,\"x\":[1.2],\"xaxis\":\"x\",\"y\":[1.6],\"yaxis\":\"y\",\"type\":\"scatter\"},{\"hovertemplate\":\"Team=West Ham<br>Matches played=23<br>Average goals scored last five games=%{x}<br>Average goals conceded last five games=%{y}<extra></extra>\",\"legendgroup\":\"West Ham\",\"marker\":{\"color\":\"#17BECF\",\"opacity\":0.8,\"symbol\":\"circle\"},\"mode\":\"markers\",\"name\":\"West Ham\",\"orientation\":\"v\",\"showlegend\":true,\"x\":[1.8],\"xaxis\":\"x\",\"y\":[1.0],\"yaxis\":\"y\",\"type\":\"scatter\"}],\"name\":\"23\"},{\"data\":[{\"hovertemplate\":\"Team=Brentford<br>Matches played=24<br>Average goals scored last five games=%{x}<br>Average goals conceded last five games=%{y}<extra></extra>\",\"legendgroup\":\"Brentford\",\"marker\":{\"color\":\"#1F77B4\",\"opacity\":0.8,\"symbol\":\"circle\"},\"mode\":\"markers\",\"name\":\"Brentford\",\"orientation\":\"v\",\"showlegend\":true,\"x\":[1.2],\"xaxis\":\"x\",\"y\":[1.0],\"yaxis\":\"y\",\"type\":\"scatter\"},{\"hovertemplate\":\"Team=Man United<br>Matches played=24<br>Average goals scored last five games=%{x}<br>Average goals conceded last five games=%{y}<extra></extra>\",\"legendgroup\":\"Man United\",\"marker\":{\"color\":\"#FF7F0E\",\"opacity\":0.8,\"symbol\":\"circle\"},\"mode\":\"markers\",\"name\":\"Man United\",\"orientation\":\"v\",\"showlegend\":true,\"x\":[1.8],\"xaxis\":\"x\",\"y\":[1.2],\"yaxis\":\"y\",\"type\":\"scatter\"},{\"hovertemplate\":\"Team=Burnley<br>Matches played=24<br>Average goals scored last five games=%{x}<br>Average goals conceded last five games=%{y}<extra></extra>\",\"legendgroup\":\"Burnley\",\"marker\":{\"color\":\"#2CA02C\",\"opacity\":0.8,\"symbol\":\"circle\"},\"mode\":\"markers\",\"name\":\"Burnley\",\"orientation\":\"v\",\"showlegend\":true,\"x\":[1.0],\"xaxis\":\"x\",\"y\":[2.2],\"yaxis\":\"y\",\"type\":\"scatter\"},{\"hovertemplate\":\"Team=Chelsea<br>Matches played=24<br>Average goals scored last five games=%{x}<br>Average goals conceded last five games=%{y}<extra></extra>\",\"legendgroup\":\"Chelsea\",\"marker\":{\"color\":\"#D62728\",\"opacity\":0.8,\"symbol\":\"circle\"},\"mode\":\"markers\",\"name\":\"Chelsea\",\"orientation\":\"v\",\"showlegend\":true,\"x\":[2.0],\"xaxis\":\"x\",\"y\":[0.2],\"yaxis\":\"y\",\"type\":\"scatter\"},{\"hovertemplate\":\"Team=Everton<br>Matches played=24<br>Average goals scored last five games=%{x}<br>Average goals conceded last five games=%{y}<extra></extra>\",\"legendgroup\":\"Everton\",\"marker\":{\"color\":\"#9467BD\",\"opacity\":0.8,\"symbol\":\"circle\"},\"mode\":\"markers\",\"name\":\"Everton\",\"orientation\":\"v\",\"showlegend\":true,\"x\":[1.2],\"xaxis\":\"x\",\"y\":[1.6],\"yaxis\":\"y\",\"type\":\"scatter\"},{\"hovertemplate\":\"Team=Leicester<br>Matches played=24<br>Average goals scored last five games=%{x}<br>Average goals conceded last five games=%{y}<extra></extra>\",\"legendgroup\":\"Leicester\",\"marker\":{\"color\":\"#8C564B\",\"opacity\":0.8,\"symbol\":\"circle\"},\"mode\":\"markers\",\"name\":\"Leicester\",\"orientation\":\"v\",\"showlegend\":true,\"x\":[1.6],\"xaxis\":\"x\",\"y\":[2.0],\"yaxis\":\"y\",\"type\":\"scatter\"},{\"hovertemplate\":\"Team=Watford<br>Matches played=24<br>Average goals scored last five games=%{x}<br>Average goals conceded last five games=%{y}<extra></extra>\",\"legendgroup\":\"Watford\",\"marker\":{\"color\":\"#E377C2\",\"opacity\":0.8,\"symbol\":\"circle\"},\"mode\":\"markers\",\"name\":\"Watford\",\"orientation\":\"v\",\"showlegend\":true,\"x\":[1.6],\"xaxis\":\"x\",\"y\":[1.4],\"yaxis\":\"y\",\"type\":\"scatter\"},{\"hovertemplate\":\"Team=Norwich<br>Matches played=24<br>Average goals scored last five games=%{x}<br>Average goals conceded last five games=%{y}<extra></extra>\",\"legendgroup\":\"Norwich\",\"marker\":{\"color\":\"#7F7F7F\",\"opacity\":0.8,\"symbol\":\"circle\"},\"mode\":\"markers\",\"name\":\"Norwich\",\"orientation\":\"v\",\"showlegend\":true,\"x\":[0.0],\"xaxis\":\"x\",\"y\":[3.0],\"yaxis\":\"y\",\"type\":\"scatter\"},{\"hovertemplate\":\"Team=Newcastle<br>Matches played=24<br>Average goals scored last five games=%{x}<br>Average goals conceded last five games=%{y}<extra></extra>\",\"legendgroup\":\"Newcastle\",\"marker\":{\"color\":\"#BCBD22\",\"opacity\":0.8,\"symbol\":\"circle\"},\"mode\":\"markers\",\"name\":\"Newcastle\",\"orientation\":\"v\",\"showlegend\":true,\"x\":[0.8],\"xaxis\":\"x\",\"y\":[2.0],\"yaxis\":\"y\",\"type\":\"scatter\"},{\"hovertemplate\":\"Team=Tottenham<br>Matches played=24<br>Average goals scored last five games=%{x}<br>Average goals conceded last five games=%{y}<extra></extra>\",\"legendgroup\":\"Tottenham\",\"marker\":{\"color\":\"#17BECF\",\"opacity\":0.8,\"symbol\":\"circle\"},\"mode\":\"markers\",\"name\":\"Tottenham\",\"orientation\":\"v\",\"showlegend\":true,\"x\":[1.0],\"xaxis\":\"x\",\"y\":[1.8],\"yaxis\":\"y\",\"type\":\"scatter\"},{\"hovertemplate\":\"Team=Liverpool<br>Matches played=24<br>Average goals scored last five games=%{x}<br>Average goals conceded last five games=%{y}<extra></extra>\",\"legendgroup\":\"Liverpool\",\"marker\":{\"color\":\"#1F77B4\",\"opacity\":0.8,\"symbol\":\"circle\"},\"mode\":\"markers\",\"name\":\"Liverpool\",\"orientation\":\"v\",\"showlegend\":true,\"x\":[3.8],\"xaxis\":\"x\",\"y\":[0.6],\"yaxis\":\"y\",\"type\":\"scatter\"},{\"hovertemplate\":\"Team=Aston Villa<br>Matches played=24<br>Average goals scored last five games=%{x}<br>Average goals conceded last five games=%{y}<extra></extra>\",\"legendgroup\":\"Aston Villa\",\"marker\":{\"color\":\"#FF7F0E\",\"opacity\":0.8,\"symbol\":\"circle\"},\"mode\":\"markers\",\"name\":\"Aston Villa\",\"orientation\":\"v\",\"showlegend\":true,\"x\":[1.0],\"xaxis\":\"x\",\"y\":[2.2],\"yaxis\":\"y\",\"type\":\"scatter\"},{\"hovertemplate\":\"Team=Crystal Palace<br>Matches played=24<br>Average goals scored last five games=%{x}<br>Average goals conceded last five games=%{y}<extra></extra>\",\"legendgroup\":\"Crystal Palace\",\"marker\":{\"color\":\"#2CA02C\",\"opacity\":0.8,\"symbol\":\"circle\"},\"mode\":\"markers\",\"name\":\"Crystal Palace\",\"orientation\":\"v\",\"showlegend\":true,\"x\":[1.2],\"xaxis\":\"x\",\"y\":[2.0],\"yaxis\":\"y\",\"type\":\"scatter\"},{\"hovertemplate\":\"Team=Leeds<br>Matches played=24<br>Average goals scored last five games=%{x}<br>Average goals conceded last five games=%{y}<extra></extra>\",\"legendgroup\":\"Leeds\",\"marker\":{\"color\":\"#D62728\",\"opacity\":0.8,\"symbol\":\"circle\"},\"mode\":\"markers\",\"name\":\"Leeds\",\"orientation\":\"v\",\"showlegend\":true,\"x\":[1.0],\"xaxis\":\"x\",\"y\":[1.8],\"yaxis\":\"y\",\"type\":\"scatter\"},{\"hovertemplate\":\"Team=Man City<br>Matches played=24<br>Average goals scored last five games=%{x}<br>Average goals conceded last five games=%{y}<extra></extra>\",\"legendgroup\":\"Man City\",\"marker\":{\"color\":\"#9467BD\",\"opacity\":0.8,\"symbol\":\"circle\"},\"mode\":\"markers\",\"name\":\"Man City\",\"orientation\":\"v\",\"showlegend\":true,\"x\":[1.6],\"xaxis\":\"x\",\"y\":[0.8],\"yaxis\":\"y\",\"type\":\"scatter\"},{\"hovertemplate\":\"Team=Brighton<br>Matches played=24<br>Average goals scored last five games=%{x}<br>Average goals conceded last five games=%{y}<extra></extra>\",\"legendgroup\":\"Brighton\",\"marker\":{\"color\":\"#8C564B\",\"opacity\":0.8,\"symbol\":\"circle\"},\"mode\":\"markers\",\"name\":\"Brighton\",\"orientation\":\"v\",\"showlegend\":true,\"x\":[1.2],\"xaxis\":\"x\",\"y\":[0.8],\"yaxis\":\"y\",\"type\":\"scatter\"},{\"hovertemplate\":\"Team=Southampton<br>Matches played=24<br>Average goals scored last five games=%{x}<br>Average goals conceded last five games=%{y}<extra></extra>\",\"legendgroup\":\"Southampton\",\"marker\":{\"color\":\"#E377C2\",\"opacity\":0.8,\"symbol\":\"circle\"},\"mode\":\"markers\",\"name\":\"Southampton\",\"orientation\":\"v\",\"showlegend\":true,\"x\":[1.0],\"xaxis\":\"x\",\"y\":[1.6],\"yaxis\":\"y\",\"type\":\"scatter\"},{\"hovertemplate\":\"Team=Wolves<br>Matches played=24<br>Average goals scored last five games=%{x}<br>Average goals conceded last five games=%{y}<extra></extra>\",\"legendgroup\":\"Wolves\",\"marker\":{\"color\":\"#7F7F7F\",\"opacity\":0.8,\"symbol\":\"circle\"},\"mode\":\"markers\",\"name\":\"Wolves\",\"orientation\":\"v\",\"showlegend\":true,\"x\":[1.4],\"xaxis\":\"x\",\"y\":[0.8],\"yaxis\":\"y\",\"type\":\"scatter\"},{\"hovertemplate\":\"Team=Arsenal<br>Matches played=24<br>Average goals scored last five games=%{x}<br>Average goals conceded last five games=%{y}<extra></extra>\",\"legendgroup\":\"Arsenal\",\"marker\":{\"color\":\"#BCBD22\",\"opacity\":0.8,\"symbol\":\"circle\"},\"mode\":\"markers\",\"name\":\"Arsenal\",\"orientation\":\"v\",\"showlegend\":true,\"x\":[0.6],\"xaxis\":\"x\",\"y\":[1.4],\"yaxis\":\"y\",\"type\":\"scatter\"},{\"hovertemplate\":\"Team=West Ham<br>Matches played=24<br>Average goals scored last five games=%{x}<br>Average goals conceded last five games=%{y}<extra></extra>\",\"legendgroup\":\"West Ham\",\"marker\":{\"color\":\"#17BECF\",\"opacity\":0.8,\"symbol\":\"circle\"},\"mode\":\"markers\",\"name\":\"West Ham\",\"orientation\":\"v\",\"showlegend\":true,\"x\":[2.2],\"xaxis\":\"x\",\"y\":[0.8],\"yaxis\":\"y\",\"type\":\"scatter\"}],\"name\":\"24\"},{\"data\":[{\"hovertemplate\":\"Team=Brentford<br>Matches played=25<br>Average goals scored last five games=%{x}<br>Average goals conceded last five games=%{y}<extra></extra>\",\"legendgroup\":\"Brentford\",\"marker\":{\"color\":\"#1F77B4\",\"opacity\":0.8,\"symbol\":\"circle\"},\"mode\":\"markers\",\"name\":\"Brentford\",\"orientation\":\"v\",\"showlegend\":true,\"x\":[1.8],\"xaxis\":\"x\",\"y\":[1.6],\"yaxis\":\"y\",\"type\":\"scatter\"},{\"hovertemplate\":\"Team=Man United<br>Matches played=25<br>Average goals scored last five games=%{x}<br>Average goals conceded last five games=%{y}<extra></extra>\",\"legendgroup\":\"Man United\",\"marker\":{\"color\":\"#FF7F0E\",\"opacity\":0.8,\"symbol\":\"circle\"},\"mode\":\"markers\",\"name\":\"Man United\",\"orientation\":\"v\",\"showlegend\":true,\"x\":[1.8],\"xaxis\":\"x\",\"y\":[1.8],\"yaxis\":\"y\",\"type\":\"scatter\"},{\"hovertemplate\":\"Team=Burnley<br>Matches played=25<br>Average goals scored last five games=%{x}<br>Average goals conceded last five games=%{y}<extra></extra>\",\"legendgroup\":\"Burnley\",\"marker\":{\"color\":\"#2CA02C\",\"opacity\":0.8,\"symbol\":\"circle\"},\"mode\":\"markers\",\"name\":\"Burnley\",\"orientation\":\"v\",\"showlegend\":true,\"x\":[1.2],\"xaxis\":\"x\",\"y\":[2.0],\"yaxis\":\"y\",\"type\":\"scatter\"},{\"hovertemplate\":\"Team=Chelsea<br>Matches played=25<br>Average goals scored last five games=%{x}<br>Average goals conceded last five games=%{y}<extra></extra>\",\"legendgroup\":\"Chelsea\",\"marker\":{\"color\":\"#D62728\",\"opacity\":0.8,\"symbol\":\"circle\"},\"mode\":\"markers\",\"name\":\"Chelsea\",\"orientation\":\"v\",\"showlegend\":true,\"x\":[2.2],\"xaxis\":\"x\",\"y\":[0.2],\"yaxis\":\"y\",\"type\":\"scatter\"},{\"hovertemplate\":\"Team=Everton<br>Matches played=25<br>Average goals scored last five games=%{x}<br>Average goals conceded last five games=%{y}<extra></extra>\",\"legendgroup\":\"Everton\",\"marker\":{\"color\":\"#9467BD\",\"opacity\":0.8,\"symbol\":\"circle\"},\"mode\":\"markers\",\"name\":\"Everton\",\"orientation\":\"v\",\"showlegend\":true,\"x\":[0.8],\"xaxis\":\"x\",\"y\":[1.8],\"yaxis\":\"y\",\"type\":\"scatter\"},{\"hovertemplate\":\"Team=Leicester<br>Matches played=25<br>Average goals scored last five games=%{x}<br>Average goals conceded last five games=%{y}<extra></extra>\",\"legendgroup\":\"Leicester\",\"marker\":{\"color\":\"#8C564B\",\"opacity\":0.8,\"symbol\":\"circle\"},\"mode\":\"markers\",\"name\":\"Leicester\",\"orientation\":\"v\",\"showlegend\":true,\"x\":[1.6],\"xaxis\":\"x\",\"y\":[1.4],\"yaxis\":\"y\",\"type\":\"scatter\"},{\"hovertemplate\":\"Team=Watford<br>Matches played=25<br>Average goals scored last five games=%{x}<br>Average goals conceded last five games=%{y}<extra></extra>\",\"legendgroup\":\"Watford\",\"marker\":{\"color\":\"#E377C2\",\"opacity\":0.8,\"symbol\":\"circle\"},\"mode\":\"markers\",\"name\":\"Watford\",\"orientation\":\"v\",\"showlegend\":true,\"x\":[1.6],\"xaxis\":\"x\",\"y\":[1.2],\"yaxis\":\"y\",\"type\":\"scatter\"},{\"hovertemplate\":\"Team=Norwich<br>Matches played=25<br>Average goals scored last five games=%{x}<br>Average goals conceded last five games=%{y}<extra></extra>\",\"legendgroup\":\"Norwich\",\"marker\":{\"color\":\"#7F7F7F\",\"opacity\":0.8,\"symbol\":\"circle\"},\"mode\":\"markers\",\"name\":\"Norwich\",\"orientation\":\"v\",\"showlegend\":true,\"x\":[0.4],\"xaxis\":\"x\",\"y\":[2.2],\"yaxis\":\"y\",\"type\":\"scatter\"},{\"hovertemplate\":\"Team=Newcastle<br>Matches played=25<br>Average goals scored last five games=%{x}<br>Average goals conceded last five games=%{y}<extra></extra>\",\"legendgroup\":\"Newcastle\",\"marker\":{\"color\":\"#BCBD22\",\"opacity\":0.8,\"symbol\":\"circle\"},\"mode\":\"markers\",\"name\":\"Newcastle\",\"orientation\":\"v\",\"showlegend\":true,\"x\":[1.0],\"xaxis\":\"x\",\"y\":[1.8],\"yaxis\":\"y\",\"type\":\"scatter\"},{\"hovertemplate\":\"Team=Tottenham<br>Matches played=25<br>Average goals scored last five games=%{x}<br>Average goals conceded last five games=%{y}<extra></extra>\",\"legendgroup\":\"Tottenham\",\"marker\":{\"color\":\"#17BECF\",\"opacity\":0.8,\"symbol\":\"circle\"},\"mode\":\"markers\",\"name\":\"Tottenham\",\"orientation\":\"v\",\"showlegend\":true,\"x\":[0.8],\"xaxis\":\"x\",\"y\":[1.8],\"yaxis\":\"y\",\"type\":\"scatter\"},{\"hovertemplate\":\"Team=Liverpool<br>Matches played=25<br>Average goals scored last five games=%{x}<br>Average goals conceded last five games=%{y}<extra></extra>\",\"legendgroup\":\"Liverpool\",\"marker\":{\"color\":\"#1F77B4\",\"opacity\":0.8,\"symbol\":\"circle\"},\"mode\":\"markers\",\"name\":\"Liverpool\",\"orientation\":\"v\",\"showlegend\":true,\"x\":[3.6],\"xaxis\":\"x\",\"y\":[1.2],\"yaxis\":\"y\",\"type\":\"scatter\"},{\"hovertemplate\":\"Team=Aston Villa<br>Matches played=25<br>Average goals scored last five games=%{x}<br>Average goals conceded last five games=%{y}<extra></extra>\",\"legendgroup\":\"Aston Villa\",\"marker\":{\"color\":\"#FF7F0E\",\"opacity\":0.8,\"symbol\":\"circle\"},\"mode\":\"markers\",\"name\":\"Aston Villa\",\"orientation\":\"v\",\"showlegend\":true,\"x\":[0.6],\"xaxis\":\"x\",\"y\":[1.8],\"yaxis\":\"y\",\"type\":\"scatter\"},{\"hovertemplate\":\"Team=Crystal Palace<br>Matches played=25<br>Average goals scored last five games=%{x}<br>Average goals conceded last five games=%{y}<extra></extra>\",\"legendgroup\":\"Crystal Palace\",\"marker\":{\"color\":\"#2CA02C\",\"opacity\":0.8,\"symbol\":\"circle\"},\"mode\":\"markers\",\"name\":\"Crystal Palace\",\"orientation\":\"v\",\"showlegend\":true,\"x\":[1.8],\"xaxis\":\"x\",\"y\":[2.0],\"yaxis\":\"y\",\"type\":\"scatter\"},{\"hovertemplate\":\"Team=Leeds<br>Matches played=25<br>Average goals scored last five games=%{x}<br>Average goals conceded last five games=%{y}<extra></extra>\",\"legendgroup\":\"Leeds\",\"marker\":{\"color\":\"#D62728\",\"opacity\":0.8,\"symbol\":\"circle\"},\"mode\":\"markers\",\"name\":\"Leeds\",\"orientation\":\"v\",\"showlegend\":true,\"x\":[1.0],\"xaxis\":\"x\",\"y\":[1.2],\"yaxis\":\"y\",\"type\":\"scatter\"},{\"hovertemplate\":\"Team=Man City<br>Matches played=25<br>Average goals scored last five games=%{x}<br>Average goals conceded last five games=%{y}<extra></extra>\",\"legendgroup\":\"Man City\",\"marker\":{\"color\":\"#9467BD\",\"opacity\":0.8,\"symbol\":\"circle\"},\"mode\":\"markers\",\"name\":\"Man City\",\"orientation\":\"v\",\"showlegend\":true,\"x\":[2.0],\"xaxis\":\"x\",\"y\":[0.6],\"yaxis\":\"y\",\"type\":\"scatter\"},{\"hovertemplate\":\"Team=Brighton<br>Matches played=25<br>Average goals scored last five games=%{x}<br>Average goals conceded last five games=%{y}<extra></extra>\",\"legendgroup\":\"Brighton\",\"marker\":{\"color\":\"#8C564B\",\"opacity\":0.8,\"symbol\":\"circle\"},\"mode\":\"markers\",\"name\":\"Brighton\",\"orientation\":\"v\",\"showlegend\":true,\"x\":[0.8],\"xaxis\":\"x\",\"y\":[1.0],\"yaxis\":\"y\",\"type\":\"scatter\"},{\"hovertemplate\":\"Team=Southampton<br>Matches played=25<br>Average goals scored last five games=%{x}<br>Average goals conceded last five games=%{y}<extra></extra>\",\"legendgroup\":\"Southampton\",\"marker\":{\"color\":\"#E377C2\",\"opacity\":0.8,\"symbol\":\"circle\"},\"mode\":\"markers\",\"name\":\"Southampton\",\"orientation\":\"v\",\"showlegend\":true,\"x\":[1.0],\"xaxis\":\"x\",\"y\":[1.4],\"yaxis\":\"y\",\"type\":\"scatter\"},{\"hovertemplate\":\"Team=Wolves<br>Matches played=25<br>Average goals scored last five games=%{x}<br>Average goals conceded last five games=%{y}<extra></extra>\",\"legendgroup\":\"Wolves\",\"marker\":{\"color\":\"#7F7F7F\",\"opacity\":0.8,\"symbol\":\"circle\"},\"mode\":\"markers\",\"name\":\"Wolves\",\"orientation\":\"v\",\"showlegend\":true,\"x\":[1.4],\"xaxis\":\"x\",\"y\":[1.0],\"yaxis\":\"y\",\"type\":\"scatter\"},{\"hovertemplate\":\"Team=Arsenal<br>Matches played=25<br>Average goals scored last five games=%{x}<br>Average goals conceded last five games=%{y}<extra></extra>\",\"legendgroup\":\"Arsenal\",\"marker\":{\"color\":\"#BCBD22\",\"opacity\":0.8,\"symbol\":\"circle\"},\"mode\":\"markers\",\"name\":\"Arsenal\",\"orientation\":\"v\",\"showlegend\":true,\"x\":[0.6],\"xaxis\":\"x\",\"y\":[1.8],\"yaxis\":\"y\",\"type\":\"scatter\"},{\"hovertemplate\":\"Team=West Ham<br>Matches played=25<br>Average goals scored last five games=%{x}<br>Average goals conceded last five games=%{y}<extra></extra>\",\"legendgroup\":\"West Ham\",\"marker\":{\"color\":\"#17BECF\",\"opacity\":0.8,\"symbol\":\"circle\"},\"mode\":\"markers\",\"name\":\"West Ham\",\"orientation\":\"v\",\"showlegend\":true,\"x\":[1.4],\"xaxis\":\"x\",\"y\":[0.6],\"yaxis\":\"y\",\"type\":\"scatter\"}],\"name\":\"25\"},{\"data\":[{\"hovertemplate\":\"Team=Brentford<br>Matches played=26<br>Average goals scored last five games=%{x}<br>Average goals conceded last five games=%{y}<extra></extra>\",\"legendgroup\":\"Brentford\",\"marker\":{\"color\":\"#1F77B4\",\"opacity\":0.8,\"symbol\":\"circle\"},\"mode\":\"markers\",\"name\":\"Brentford\",\"orientation\":\"v\",\"showlegend\":true,\"x\":[1.6],\"xaxis\":\"x\",\"y\":[1.8],\"yaxis\":\"y\",\"type\":\"scatter\"},{\"hovertemplate\":\"Team=Man United<br>Matches played=26<br>Average goals scored last five games=%{x}<br>Average goals conceded last five games=%{y}<extra></extra>\",\"legendgroup\":\"Man United\",\"marker\":{\"color\":\"#FF7F0E\",\"opacity\":0.8,\"symbol\":\"circle\"},\"mode\":\"markers\",\"name\":\"Man United\",\"orientation\":\"v\",\"showlegend\":true,\"x\":[1.8],\"xaxis\":\"x\",\"y\":[2.0],\"yaxis\":\"y\",\"type\":\"scatter\"},{\"hovertemplate\":\"Team=Burnley<br>Matches played=26<br>Average goals scored last five games=%{x}<br>Average goals conceded last five games=%{y}<extra></extra>\",\"legendgroup\":\"Burnley\",\"marker\":{\"color\":\"#2CA02C\",\"opacity\":0.8,\"symbol\":\"circle\"},\"mode\":\"markers\",\"name\":\"Burnley\",\"orientation\":\"v\",\"showlegend\":true,\"x\":[1.0],\"xaxis\":\"x\",\"y\":[1.4],\"yaxis\":\"y\",\"type\":\"scatter\"},{\"hovertemplate\":\"Team=Chelsea<br>Matches played=26<br>Average goals scored last five games=%{x}<br>Average goals conceded last five games=%{y}<extra></extra>\",\"legendgroup\":\"Chelsea\",\"marker\":{\"color\":\"#D62728\",\"opacity\":0.8,\"symbol\":\"circle\"},\"mode\":\"markers\",\"name\":\"Chelsea\",\"orientation\":\"v\",\"showlegend\":true,\"x\":[2.4],\"xaxis\":\"x\",\"y\":[0.2],\"yaxis\":\"y\",\"type\":\"scatter\"},{\"hovertemplate\":\"Team=Everton<br>Matches played=26<br>Average goals scored last five games=%{x}<br>Average goals conceded last five games=%{y}<extra></extra>\",\"legendgroup\":\"Everton\",\"marker\":{\"color\":\"#9467BD\",\"opacity\":0.8,\"symbol\":\"circle\"},\"mode\":\"markers\",\"name\":\"Everton\",\"orientation\":\"v\",\"showlegend\":true,\"x\":[0.4],\"xaxis\":\"x\",\"y\":[2.0],\"yaxis\":\"y\",\"type\":\"scatter\"},{\"hovertemplate\":\"Team=Leicester<br>Matches played=26<br>Average goals scored last five games=%{x}<br>Average goals conceded last five games=%{y}<extra></extra>\",\"legendgroup\":\"Leicester\",\"marker\":{\"color\":\"#8C564B\",\"opacity\":0.8,\"symbol\":\"circle\"},\"mode\":\"markers\",\"name\":\"Leicester\",\"orientation\":\"v\",\"showlegend\":true,\"x\":[1.6],\"xaxis\":\"x\",\"y\":[1.6],\"yaxis\":\"y\",\"type\":\"scatter\"},{\"hovertemplate\":\"Team=Watford<br>Matches played=26<br>Average goals scored last five games=%{x}<br>Average goals conceded last five games=%{y}<extra></extra>\",\"legendgroup\":\"Watford\",\"marker\":{\"color\":\"#E377C2\",\"opacity\":0.8,\"symbol\":\"circle\"},\"mode\":\"markers\",\"name\":\"Watford\",\"orientation\":\"v\",\"showlegend\":true,\"x\":[2.0],\"xaxis\":\"x\",\"y\":[1.8],\"yaxis\":\"y\",\"type\":\"scatter\"},{\"hovertemplate\":\"Team=Norwich<br>Matches played=26<br>Average goals scored last five games=%{x}<br>Average goals conceded last five games=%{y}<extra></extra>\",\"legendgroup\":\"Norwich\",\"marker\":{\"color\":\"#7F7F7F\",\"opacity\":0.8,\"symbol\":\"circle\"},\"mode\":\"markers\",\"name\":\"Norwich\",\"orientation\":\"v\",\"showlegend\":true,\"x\":[0.6],\"xaxis\":\"x\",\"y\":[2.2],\"yaxis\":\"y\",\"type\":\"scatter\"},{\"hovertemplate\":\"Team=Newcastle<br>Matches played=26<br>Average goals scored last five games=%{x}<br>Average goals conceded last five games=%{y}<extra></extra>\",\"legendgroup\":\"Newcastle\",\"marker\":{\"color\":\"#BCBD22\",\"opacity\":0.8,\"symbol\":\"circle\"},\"mode\":\"markers\",\"name\":\"Newcastle\",\"orientation\":\"v\",\"showlegend\":true,\"x\":[0.8],\"xaxis\":\"x\",\"y\":[1.4],\"yaxis\":\"y\",\"type\":\"scatter\"},{\"hovertemplate\":\"Team=Tottenham<br>Matches played=26<br>Average goals scored last five games=%{x}<br>Average goals conceded last five games=%{y}<extra></extra>\",\"legendgroup\":\"Tottenham\",\"marker\":{\"color\":\"#17BECF\",\"opacity\":0.8,\"symbol\":\"circle\"},\"mode\":\"markers\",\"name\":\"Tottenham\",\"orientation\":\"v\",\"showlegend\":true,\"x\":[1.0],\"xaxis\":\"x\",\"y\":[1.4],\"yaxis\":\"y\",\"type\":\"scatter\"},{\"hovertemplate\":\"Team=Liverpool<br>Matches played=26<br>Average goals scored last five games=%{x}<br>Average goals conceded last five games=%{y}<extra></extra>\",\"legendgroup\":\"Liverpool\",\"marker\":{\"color\":\"#1F77B4\",\"opacity\":0.8,\"symbol\":\"circle\"},\"mode\":\"markers\",\"name\":\"Liverpool\",\"orientation\":\"v\",\"showlegend\":true,\"x\":[3.8],\"xaxis\":\"x\",\"y\":[1.4],\"yaxis\":\"y\",\"type\":\"scatter\"},{\"hovertemplate\":\"Team=Aston Villa<br>Matches played=26<br>Average goals scored last five games=%{x}<br>Average goals conceded last five games=%{y}<extra></extra>\",\"legendgroup\":\"Aston Villa\",\"marker\":{\"color\":\"#FF7F0E\",\"opacity\":0.8,\"symbol\":\"circle\"},\"mode\":\"markers\",\"name\":\"Aston Villa\",\"orientation\":\"v\",\"showlegend\":true,\"x\":[1.0],\"xaxis\":\"x\",\"y\":[1.4],\"yaxis\":\"y\",\"type\":\"scatter\"},{\"hovertemplate\":\"Team=Crystal Palace<br>Matches played=26<br>Average goals scored last five games=%{x}<br>Average goals conceded last five games=%{y}<extra></extra>\",\"legendgroup\":\"Crystal Palace\",\"marker\":{\"color\":\"#2CA02C\",\"opacity\":0.8,\"symbol\":\"circle\"},\"mode\":\"markers\",\"name\":\"Crystal Palace\",\"orientation\":\"v\",\"showlegend\":true,\"x\":[1.4],\"xaxis\":\"x\",\"y\":[1.8],\"yaxis\":\"y\",\"type\":\"scatter\"},{\"hovertemplate\":\"Team=Leeds<br>Matches played=26<br>Average goals scored last five games=%{x}<br>Average goals conceded last five games=%{y}<extra></extra>\",\"legendgroup\":\"Leeds\",\"marker\":{\"color\":\"#D62728\",\"opacity\":0.8,\"symbol\":\"circle\"},\"mode\":\"markers\",\"name\":\"Leeds\",\"orientation\":\"v\",\"showlegend\":true,\"x\":[0.8],\"xaxis\":\"x\",\"y\":[1.0],\"yaxis\":\"y\",\"type\":\"scatter\"},{\"hovertemplate\":\"Team=Man City<br>Matches played=26<br>Average goals scored last five games=%{x}<br>Average goals conceded last five games=%{y}<extra></extra>\",\"legendgroup\":\"Man City\",\"marker\":{\"color\":\"#9467BD\",\"opacity\":0.8,\"symbol\":\"circle\"},\"mode\":\"markers\",\"name\":\"Man City\",\"orientation\":\"v\",\"showlegend\":true,\"x\":[2.2],\"xaxis\":\"x\",\"y\":[0.8],\"yaxis\":\"y\",\"type\":\"scatter\"},{\"hovertemplate\":\"Team=Brighton<br>Matches played=26<br>Average goals scored last five games=%{x}<br>Average goals conceded last five games=%{y}<extra></extra>\",\"legendgroup\":\"Brighton\",\"marker\":{\"color\":\"#8C564B\",\"opacity\":0.8,\"symbol\":\"circle\"},\"mode\":\"markers\",\"name\":\"Brighton\",\"orientation\":\"v\",\"showlegend\":true,\"x\":[0.8],\"xaxis\":\"x\",\"y\":[1.2],\"yaxis\":\"y\",\"type\":\"scatter\"},{\"hovertemplate\":\"Team=Southampton<br>Matches played=26<br>Average goals scored last five games=%{x}<br>Average goals conceded last five games=%{y}<extra></extra>\",\"legendgroup\":\"Southampton\",\"marker\":{\"color\":\"#E377C2\",\"opacity\":0.8,\"symbol\":\"circle\"},\"mode\":\"markers\",\"name\":\"Southampton\",\"orientation\":\"v\",\"showlegend\":true,\"x\":[0.6],\"xaxis\":\"x\",\"y\":[1.8],\"yaxis\":\"y\",\"type\":\"scatter\"},{\"hovertemplate\":\"Team=Wolves<br>Matches played=26<br>Average goals scored last five games=%{x}<br>Average goals conceded last five games=%{y}<extra></extra>\",\"legendgroup\":\"Wolves\",\"marker\":{\"color\":\"#7F7F7F\",\"opacity\":0.8,\"symbol\":\"circle\"},\"mode\":\"markers\",\"name\":\"Wolves\",\"orientation\":\"v\",\"showlegend\":true,\"x\":[1.0],\"xaxis\":\"x\",\"y\":[1.0],\"yaxis\":\"y\",\"type\":\"scatter\"},{\"hovertemplate\":\"Team=Arsenal<br>Matches played=26<br>Average goals scored last five games=%{x}<br>Average goals conceded last five games=%{y}<extra></extra>\",\"legendgroup\":\"Arsenal\",\"marker\":{\"color\":\"#BCBD22\",\"opacity\":0.8,\"symbol\":\"circle\"},\"mode\":\"markers\",\"name\":\"Arsenal\",\"orientation\":\"v\",\"showlegend\":true,\"x\":[1.0],\"xaxis\":\"x\",\"y\":[1.4],\"yaxis\":\"y\",\"type\":\"scatter\"},{\"hovertemplate\":\"Team=West Ham<br>Matches played=26<br>Average goals scored last five games=%{x}<br>Average goals conceded last five games=%{y}<extra></extra>\",\"legendgroup\":\"West Ham\",\"marker\":{\"color\":\"#17BECF\",\"opacity\":0.8,\"symbol\":\"circle\"},\"mode\":\"markers\",\"name\":\"West Ham\",\"orientation\":\"v\",\"showlegend\":true,\"x\":[1.6],\"xaxis\":\"x\",\"y\":[1.0],\"yaxis\":\"y\",\"type\":\"scatter\"}],\"name\":\"26\"},{\"data\":[{\"hovertemplate\":\"Team=Brentford<br>Matches played=27<br>Average goals scored last five games=%{x}<br>Average goals conceded last five games=%{y}<extra></extra>\",\"legendgroup\":\"Brentford\",\"marker\":{\"color\":\"#1F77B4\",\"opacity\":0.8,\"symbol\":\"circle\"},\"mode\":\"markers\",\"name\":\"Brentford\",\"orientation\":\"v\",\"showlegend\":true,\"x\":[1.6],\"xaxis\":\"x\",\"y\":[2.2],\"yaxis\":\"y\",\"type\":\"scatter\"},{\"hovertemplate\":\"Team=Man United<br>Matches played=27<br>Average goals scored last five games=%{x}<br>Average goals conceded last five games=%{y}<extra></extra>\",\"legendgroup\":\"Man United\",\"marker\":{\"color\":\"#FF7F0E\",\"opacity\":0.8,\"symbol\":\"circle\"},\"mode\":\"markers\",\"name\":\"Man United\",\"orientation\":\"v\",\"showlegend\":true,\"x\":[1.6],\"xaxis\":\"x\",\"y\":[1.8],\"yaxis\":\"y\",\"type\":\"scatter\"},{\"hovertemplate\":\"Team=Burnley<br>Matches played=27<br>Average goals scored last five games=%{x}<br>Average goals conceded last five games=%{y}<extra></extra>\",\"legendgroup\":\"Burnley\",\"marker\":{\"color\":\"#2CA02C\",\"opacity\":0.8,\"symbol\":\"circle\"},\"mode\":\"markers\",\"name\":\"Burnley\",\"orientation\":\"v\",\"showlegend\":true,\"x\":[0.6],\"xaxis\":\"x\",\"y\":[1.2],\"yaxis\":\"y\",\"type\":\"scatter\"},{\"hovertemplate\":\"Team=Chelsea<br>Matches played=27<br>Average goals scored last five games=%{x}<br>Average goals conceded last five games=%{y}<extra></extra>\",\"legendgroup\":\"Chelsea\",\"marker\":{\"color\":\"#D62728\",\"opacity\":0.8,\"symbol\":\"circle\"},\"mode\":\"markers\",\"name\":\"Chelsea\",\"orientation\":\"v\",\"showlegend\":true,\"x\":[2.2],\"xaxis\":\"x\",\"y\":[0.8],\"yaxis\":\"y\",\"type\":\"scatter\"},{\"hovertemplate\":\"Team=Everton<br>Matches played=27<br>Average goals scored last five games=%{x}<br>Average goals conceded last five games=%{y}<extra></extra>\",\"legendgroup\":\"Everton\",\"marker\":{\"color\":\"#9467BD\",\"opacity\":0.8,\"symbol\":\"circle\"},\"mode\":\"markers\",\"name\":\"Everton\",\"orientation\":\"v\",\"showlegend\":true,\"x\":[0.6],\"xaxis\":\"x\",\"y\":[2.0],\"yaxis\":\"y\",\"type\":\"scatter\"},{\"hovertemplate\":\"Team=Leicester<br>Matches played=27<br>Average goals scored last five games=%{x}<br>Average goals conceded last five games=%{y}<extra></extra>\",\"legendgroup\":\"Leicester\",\"marker\":{\"color\":\"#8C564B\",\"opacity\":0.8,\"symbol\":\"circle\"},\"mode\":\"markers\",\"name\":\"Leicester\",\"orientation\":\"v\",\"showlegend\":true,\"x\":[1.6],\"xaxis\":\"x\",\"y\":[1.6],\"yaxis\":\"y\",\"type\":\"scatter\"},{\"hovertemplate\":\"Team=Watford<br>Matches played=27<br>Average goals scored last five games=%{x}<br>Average goals conceded last five games=%{y}<extra></extra>\",\"legendgroup\":\"Watford\",\"marker\":{\"color\":\"#E377C2\",\"opacity\":0.8,\"symbol\":\"circle\"},\"mode\":\"markers\",\"name\":\"Watford\",\"orientation\":\"v\",\"showlegend\":true,\"x\":[1.6],\"xaxis\":\"x\",\"y\":[2.0],\"yaxis\":\"y\",\"type\":\"scatter\"},{\"hovertemplate\":\"Team=Norwich<br>Matches played=27<br>Average goals scored last five games=%{x}<br>Average goals conceded last five games=%{y}<extra></extra>\",\"legendgroup\":\"Norwich\",\"marker\":{\"color\":\"#7F7F7F\",\"opacity\":0.8,\"symbol\":\"circle\"},\"mode\":\"markers\",\"name\":\"Norwich\",\"orientation\":\"v\",\"showlegend\":true,\"x\":[0.6],\"xaxis\":\"x\",\"y\":[2.4],\"yaxis\":\"y\",\"type\":\"scatter\"},{\"hovertemplate\":\"Team=Newcastle<br>Matches played=27<br>Average goals scored last five games=%{x}<br>Average goals conceded last five games=%{y}<extra></extra>\",\"legendgroup\":\"Newcastle\",\"marker\":{\"color\":\"#BCBD22\",\"opacity\":0.8,\"symbol\":\"circle\"},\"mode\":\"markers\",\"name\":\"Newcastle\",\"orientation\":\"v\",\"showlegend\":true,\"x\":[0.6],\"xaxis\":\"x\",\"y\":[2.0],\"yaxis\":\"y\",\"type\":\"scatter\"},{\"hovertemplate\":\"Team=Tottenham<br>Matches played=27<br>Average goals scored last five games=%{x}<br>Average goals conceded last five games=%{y}<extra></extra>\",\"legendgroup\":\"Tottenham\",\"marker\":{\"color\":\"#17BECF\",\"opacity\":0.8,\"symbol\":\"circle\"},\"mode\":\"markers\",\"name\":\"Tottenham\",\"orientation\":\"v\",\"showlegend\":true,\"x\":[1.0],\"xaxis\":\"x\",\"y\":[0.8],\"yaxis\":\"y\",\"type\":\"scatter\"},{\"hovertemplate\":\"Team=Liverpool<br>Matches played=27<br>Average goals scored last five games=%{x}<br>Average goals conceded last five games=%{y}<extra></extra>\",\"legendgroup\":\"Liverpool\",\"marker\":{\"color\":\"#1F77B4\",\"opacity\":0.8,\"symbol\":\"circle\"},\"mode\":\"markers\",\"name\":\"Liverpool\",\"orientation\":\"v\",\"showlegend\":true,\"x\":[3.4],\"xaxis\":\"x\",\"y\":[0.8],\"yaxis\":\"y\",\"type\":\"scatter\"},{\"hovertemplate\":\"Team=Aston Villa<br>Matches played=27<br>Average goals scored last five games=%{x}<br>Average goals conceded last five games=%{y}<extra></extra>\",\"legendgroup\":\"Aston Villa\",\"marker\":{\"color\":\"#FF7F0E\",\"opacity\":0.8,\"symbol\":\"circle\"},\"mode\":\"markers\",\"name\":\"Aston Villa\",\"orientation\":\"v\",\"showlegend\":true,\"x\":[0.8],\"xaxis\":\"x\",\"y\":[1.6],\"yaxis\":\"y\",\"type\":\"scatter\"},{\"hovertemplate\":\"Team=Crystal Palace<br>Matches played=27<br>Average goals scored last five games=%{x}<br>Average goals conceded last five games=%{y}<extra></extra>\",\"legendgroup\":\"Crystal Palace\",\"marker\":{\"color\":\"#2CA02C\",\"opacity\":0.8,\"symbol\":\"circle\"},\"mode\":\"markers\",\"name\":\"Crystal Palace\",\"orientation\":\"v\",\"showlegend\":true,\"x\":[1.4],\"xaxis\":\"x\",\"y\":[1.4],\"yaxis\":\"y\",\"type\":\"scatter\"},{\"hovertemplate\":\"Team=Leeds<br>Matches played=27<br>Average goals scored last five games=%{x}<br>Average goals conceded last five games=%{y}<extra></extra>\",\"legendgroup\":\"Leeds\",\"marker\":{\"color\":\"#D62728\",\"opacity\":0.8,\"symbol\":\"circle\"},\"mode\":\"markers\",\"name\":\"Leeds\",\"orientation\":\"v\",\"showlegend\":true,\"x\":[1.0],\"xaxis\":\"x\",\"y\":[1.4],\"yaxis\":\"y\",\"type\":\"scatter\"},{\"hovertemplate\":\"Team=Man City<br>Matches played=27<br>Average goals scored last five games=%{x}<br>Average goals conceded last five games=%{y}<extra></extra>\",\"legendgroup\":\"Man City\",\"marker\":{\"color\":\"#9467BD\",\"opacity\":0.8,\"symbol\":\"circle\"},\"mode\":\"markers\",\"name\":\"Man City\",\"orientation\":\"v\",\"showlegend\":true,\"x\":[2.6],\"xaxis\":\"x\",\"y\":[1.0],\"yaxis\":\"y\",\"type\":\"scatter\"},{\"hovertemplate\":\"Team=Brighton<br>Matches played=27<br>Average goals scored last five games=%{x}<br>Average goals conceded last five games=%{y}<extra></extra>\",\"legendgroup\":\"Brighton\",\"marker\":{\"color\":\"#8C564B\",\"opacity\":0.8,\"symbol\":\"circle\"},\"mode\":\"markers\",\"name\":\"Brighton\",\"orientation\":\"v\",\"showlegend\":true,\"x\":[0.8],\"xaxis\":\"x\",\"y\":[1.2],\"yaxis\":\"y\",\"type\":\"scatter\"},{\"hovertemplate\":\"Team=Southampton<br>Matches played=27<br>Average goals scored last five games=%{x}<br>Average goals conceded last five games=%{y}<extra></extra>\",\"legendgroup\":\"Southampton\",\"marker\":{\"color\":\"#E377C2\",\"opacity\":0.8,\"symbol\":\"circle\"},\"mode\":\"markers\",\"name\":\"Southampton\",\"orientation\":\"v\",\"showlegend\":true,\"x\":[0.6],\"xaxis\":\"x\",\"y\":[2.4],\"yaxis\":\"y\",\"type\":\"scatter\"},{\"hovertemplate\":\"Team=Wolves<br>Matches played=27<br>Average goals scored last five games=%{x}<br>Average goals conceded last five games=%{y}<extra></extra>\",\"legendgroup\":\"Wolves\",\"marker\":{\"color\":\"#7F7F7F\",\"opacity\":0.8,\"symbol\":\"circle\"},\"mode\":\"markers\",\"name\":\"Wolves\",\"orientation\":\"v\",\"showlegend\":true,\"x\":[0.8],\"xaxis\":\"x\",\"y\":[1.2],\"yaxis\":\"y\",\"type\":\"scatter\"},{\"hovertemplate\":\"Team=Arsenal<br>Matches played=27<br>Average goals scored last five games=%{x}<br>Average goals conceded last five games=%{y}<extra></extra>\",\"legendgroup\":\"Arsenal\",\"marker\":{\"color\":\"#BCBD22\",\"opacity\":0.8,\"symbol\":\"circle\"},\"mode\":\"markers\",\"name\":\"Arsenal\",\"orientation\":\"v\",\"showlegend\":true,\"x\":[1.0],\"xaxis\":\"x\",\"y\":[1.8],\"yaxis\":\"y\",\"type\":\"scatter\"},{\"hovertemplate\":\"Team=West Ham<br>Matches played=27<br>Average goals scored last five games=%{x}<br>Average goals conceded last five games=%{y}<extra></extra>\",\"legendgroup\":\"West Ham\",\"marker\":{\"color\":\"#17BECF\",\"opacity\":0.8,\"symbol\":\"circle\"},\"mode\":\"markers\",\"name\":\"West Ham\",\"orientation\":\"v\",\"showlegend\":true,\"x\":[1.2],\"xaxis\":\"x\",\"y\":[0.8],\"yaxis\":\"y\",\"type\":\"scatter\"}],\"name\":\"27\"},{\"data\":[{\"hovertemplate\":\"Team=Brentford<br>Matches played=28<br>Average goals scored last five games=%{x}<br>Average goals conceded last five games=%{y}<extra></extra>\",\"legendgroup\":\"Brentford\",\"marker\":{\"color\":\"#1F77B4\",\"opacity\":0.8,\"symbol\":\"circle\"},\"mode\":\"markers\",\"name\":\"Brentford\",\"orientation\":\"v\",\"showlegend\":true,\"x\":[1.2],\"xaxis\":\"x\",\"y\":[2.4],\"yaxis\":\"y\",\"type\":\"scatter\"},{\"hovertemplate\":\"Team=Man United<br>Matches played=28<br>Average goals scored last five games=%{x}<br>Average goals conceded last five games=%{y}<extra></extra>\",\"legendgroup\":\"Man United\",\"marker\":{\"color\":\"#FF7F0E\",\"opacity\":0.8,\"symbol\":\"circle\"},\"mode\":\"markers\",\"name\":\"Man United\",\"orientation\":\"v\",\"showlegend\":true,\"x\":[1.4],\"xaxis\":\"x\",\"y\":[1.2],\"yaxis\":\"y\",\"type\":\"scatter\"},{\"hovertemplate\":\"Team=Burnley<br>Matches played=28<br>Average goals scored last five games=%{x}<br>Average goals conceded last five games=%{y}<extra></extra>\",\"legendgroup\":\"Burnley\",\"marker\":{\"color\":\"#2CA02C\",\"opacity\":0.8,\"symbol\":\"circle\"},\"mode\":\"markers\",\"name\":\"Burnley\",\"orientation\":\"v\",\"showlegend\":true,\"x\":[0.8],\"xaxis\":\"x\",\"y\":[1.4],\"yaxis\":\"y\",\"type\":\"scatter\"},{\"hovertemplate\":\"Team=Chelsea<br>Matches played=28<br>Average goals scored last five games=%{x}<br>Average goals conceded last five games=%{y}<extra></extra>\",\"legendgroup\":\"Chelsea\",\"marker\":{\"color\":\"#D62728\",\"opacity\":0.8,\"symbol\":\"circle\"},\"mode\":\"markers\",\"name\":\"Chelsea\",\"orientation\":\"v\",\"showlegend\":true,\"x\":[2.0],\"xaxis\":\"x\",\"y\":[0.8],\"yaxis\":\"y\",\"type\":\"scatter\"},{\"hovertemplate\":\"Team=Everton<br>Matches played=28<br>Average goals scored last five games=%{x}<br>Average goals conceded last five games=%{y}<extra></extra>\",\"legendgroup\":\"Everton\",\"marker\":{\"color\":\"#9467BD\",\"opacity\":0.8,\"symbol\":\"circle\"},\"mode\":\"markers\",\"name\":\"Everton\",\"orientation\":\"v\",\"showlegend\":true,\"x\":[0.6],\"xaxis\":\"x\",\"y\":[2.0],\"yaxis\":\"y\",\"type\":\"scatter\"},{\"hovertemplate\":\"Team=Leicester<br>Matches played=28<br>Average goals scored last five games=%{x}<br>Average goals conceded last five games=%{y}<extra></extra>\",\"legendgroup\":\"Leicester\",\"marker\":{\"color\":\"#8C564B\",\"opacity\":0.8,\"symbol\":\"circle\"},\"mode\":\"markers\",\"name\":\"Leicester\",\"orientation\":\"v\",\"showlegend\":true,\"x\":[1.8],\"xaxis\":\"x\",\"y\":[2.4],\"yaxis\":\"y\",\"type\":\"scatter\"},{\"hovertemplate\":\"Team=Watford<br>Matches played=28<br>Average goals scored last five games=%{x}<br>Average goals conceded last five games=%{y}<extra></extra>\",\"legendgroup\":\"Watford\",\"marker\":{\"color\":\"#E377C2\",\"opacity\":0.8,\"symbol\":\"circle\"},\"mode\":\"markers\",\"name\":\"Watford\",\"orientation\":\"v\",\"showlegend\":true,\"x\":[1.8],\"xaxis\":\"x\",\"y\":[2.0],\"yaxis\":\"y\",\"type\":\"scatter\"},{\"hovertemplate\":\"Team=Norwich<br>Matches played=28<br>Average goals scored last five games=%{x}<br>Average goals conceded last five games=%{y}<extra></extra>\",\"legendgroup\":\"Norwich\",\"marker\":{\"color\":\"#7F7F7F\",\"opacity\":0.8,\"symbol\":\"circle\"},\"mode\":\"markers\",\"name\":\"Norwich\",\"orientation\":\"v\",\"showlegend\":true,\"x\":[0.6],\"xaxis\":\"x\",\"y\":[3.0],\"yaxis\":\"y\",\"type\":\"scatter\"},{\"hovertemplate\":\"Team=Newcastle<br>Matches played=28<br>Average goals scored last five games=%{x}<br>Average goals conceded last five games=%{y}<extra></extra>\",\"legendgroup\":\"Newcastle\",\"marker\":{\"color\":\"#BCBD22\",\"opacity\":0.8,\"symbol\":\"circle\"},\"mode\":\"markers\",\"name\":\"Newcastle\",\"orientation\":\"v\",\"showlegend\":true,\"x\":[0.6],\"xaxis\":\"x\",\"y\":[2.2],\"yaxis\":\"y\",\"type\":\"scatter\"},{\"hovertemplate\":\"Team=Tottenham<br>Matches played=28<br>Average goals scored last five games=%{x}<br>Average goals conceded last five games=%{y}<extra></extra>\",\"legendgroup\":\"Tottenham\",\"marker\":{\"color\":\"#17BECF\",\"opacity\":0.8,\"symbol\":\"circle\"},\"mode\":\"markers\",\"name\":\"Tottenham\",\"orientation\":\"v\",\"showlegend\":true,\"x\":[1.0],\"xaxis\":\"x\",\"y\":[0.8],\"yaxis\":\"y\",\"type\":\"scatter\"},{\"hovertemplate\":\"Team=Liverpool<br>Matches played=28<br>Average goals scored last five games=%{x}<br>Average goals conceded last five games=%{y}<extra></extra>\",\"legendgroup\":\"Liverpool\",\"marker\":{\"color\":\"#1F77B4\",\"opacity\":0.8,\"symbol\":\"circle\"},\"mode\":\"markers\",\"name\":\"Liverpool\",\"orientation\":\"v\",\"showlegend\":true,\"x\":[2.8],\"xaxis\":\"x\",\"y\":[1.2],\"yaxis\":\"y\",\"type\":\"scatter\"},{\"hovertemplate\":\"Team=Aston Villa<br>Matches played=28<br>Average goals scored last five games=%{x}<br>Average goals conceded last five games=%{y}<extra></extra>\",\"legendgroup\":\"Aston Villa\",\"marker\":{\"color\":\"#FF7F0E\",\"opacity\":0.8,\"symbol\":\"circle\"},\"mode\":\"markers\",\"name\":\"Aston Villa\",\"orientation\":\"v\",\"showlegend\":true,\"x\":[1.0],\"xaxis\":\"x\",\"y\":[1.2],\"yaxis\":\"y\",\"type\":\"scatter\"},{\"hovertemplate\":\"Team=Crystal Palace<br>Matches played=28<br>Average goals scored last five games=%{x}<br>Average goals conceded last five games=%{y}<extra></extra>\",\"legendgroup\":\"Crystal Palace\",\"marker\":{\"color\":\"#2CA02C\",\"opacity\":0.8,\"symbol\":\"circle\"},\"mode\":\"markers\",\"name\":\"Crystal Palace\",\"orientation\":\"v\",\"showlegend\":true,\"x\":[1.0],\"xaxis\":\"x\",\"y\":[1.6],\"yaxis\":\"y\",\"type\":\"scatter\"},{\"hovertemplate\":\"Team=Leeds<br>Matches played=28<br>Average goals scored last five games=%{x}<br>Average goals conceded last five games=%{y}<extra></extra>\",\"legendgroup\":\"Leeds\",\"marker\":{\"color\":\"#D62728\",\"opacity\":0.8,\"symbol\":\"circle\"},\"mode\":\"markers\",\"name\":\"Leeds\",\"orientation\":\"v\",\"showlegend\":true,\"x\":[1.0],\"xaxis\":\"x\",\"y\":[2.6],\"yaxis\":\"y\",\"type\":\"scatter\"},{\"hovertemplate\":\"Team=Man City<br>Matches played=28<br>Average goals scored last five games=%{x}<br>Average goals conceded last five games=%{y}<extra></extra>\",\"legendgroup\":\"Man City\",\"marker\":{\"color\":\"#9467BD\",\"opacity\":0.8,\"symbol\":\"circle\"},\"mode\":\"markers\",\"name\":\"Man City\",\"orientation\":\"v\",\"showlegend\":true,\"x\":[3.0],\"xaxis\":\"x\",\"y\":[0.6],\"yaxis\":\"y\",\"type\":\"scatter\"},{\"hovertemplate\":\"Team=Brighton<br>Matches played=28<br>Average goals scored last five games=%{x}<br>Average goals conceded last five games=%{y}<extra></extra>\",\"legendgroup\":\"Brighton\",\"marker\":{\"color\":\"#8C564B\",\"opacity\":0.8,\"symbol\":\"circle\"},\"mode\":\"markers\",\"name\":\"Brighton\",\"orientation\":\"v\",\"showlegend\":true,\"x\":[1.0],\"xaxis\":\"x\",\"y\":[1.4],\"yaxis\":\"y\",\"type\":\"scatter\"},{\"hovertemplate\":\"Team=Southampton<br>Matches played=28<br>Average goals scored last five games=%{x}<br>Average goals conceded last five games=%{y}<extra></extra>\",\"legendgroup\":\"Southampton\",\"marker\":{\"color\":\"#E377C2\",\"opacity\":0.8,\"symbol\":\"circle\"},\"mode\":\"markers\",\"name\":\"Southampton\",\"orientation\":\"v\",\"showlegend\":true,\"x\":[0.8],\"xaxis\":\"x\",\"y\":[2.2],\"yaxis\":\"y\",\"type\":\"scatter\"},{\"hovertemplate\":\"Team=Wolves<br>Matches played=28<br>Average goals scored last five games=%{x}<br>Average goals conceded last five games=%{y}<extra></extra>\",\"legendgroup\":\"Wolves\",\"marker\":{\"color\":\"#7F7F7F\",\"opacity\":0.8,\"symbol\":\"circle\"},\"mode\":\"markers\",\"name\":\"Wolves\",\"orientation\":\"v\",\"showlegend\":true,\"x\":[0.4],\"xaxis\":\"x\",\"y\":[0.8],\"yaxis\":\"y\",\"type\":\"scatter\"},{\"hovertemplate\":\"Team=Arsenal<br>Matches played=28<br>Average goals scored last five games=%{x}<br>Average goals conceded last five games=%{y}<extra></extra>\",\"legendgroup\":\"Arsenal\",\"marker\":{\"color\":\"#BCBD22\",\"opacity\":0.8,\"symbol\":\"circle\"},\"mode\":\"markers\",\"name\":\"Arsenal\",\"orientation\":\"v\",\"showlegend\":true,\"x\":[1.8],\"xaxis\":\"x\",\"y\":[2.0],\"yaxis\":\"y\",\"type\":\"scatter\"},{\"hovertemplate\":\"Team=West Ham<br>Matches played=28<br>Average goals scored last five games=%{x}<br>Average goals conceded last five games=%{y}<extra></extra>\",\"legendgroup\":\"West Ham\",\"marker\":{\"color\":\"#17BECF\",\"opacity\":0.8,\"symbol\":\"circle\"},\"mode\":\"markers\",\"name\":\"West Ham\",\"orientation\":\"v\",\"showlegend\":true,\"x\":[1.0],\"xaxis\":\"x\",\"y\":[1.2],\"yaxis\":\"y\",\"type\":\"scatter\"}],\"name\":\"28\"},{\"data\":[{\"hovertemplate\":\"Team=Brentford<br>Matches played=29<br>Average goals scored last five games=%{x}<br>Average goals conceded last five games=%{y}<extra></extra>\",\"legendgroup\":\"Brentford\",\"marker\":{\"color\":\"#1F77B4\",\"opacity\":0.8,\"symbol\":\"circle\"},\"mode\":\"markers\",\"name\":\"Brentford\",\"orientation\":\"v\",\"showlegend\":true,\"x\":[1.2],\"xaxis\":\"x\",\"y\":[2.6],\"yaxis\":\"y\",\"type\":\"scatter\"},{\"hovertemplate\":\"Team=Man United<br>Matches played=29<br>Average goals scored last five games=%{x}<br>Average goals conceded last five games=%{y}<extra></extra>\",\"legendgroup\":\"Man United\",\"marker\":{\"color\":\"#FF7F0E\",\"opacity\":0.8,\"symbol\":\"circle\"},\"mode\":\"markers\",\"name\":\"Man United\",\"orientation\":\"v\",\"showlegend\":true,\"x\":[1.2],\"xaxis\":\"x\",\"y\":[1.6],\"yaxis\":\"y\",\"type\":\"scatter\"},{\"hovertemplate\":\"Team=Burnley<br>Matches played=29<br>Average goals scored last five games=%{x}<br>Average goals conceded last five games=%{y}<extra></extra>\",\"legendgroup\":\"Burnley\",\"marker\":{\"color\":\"#2CA02C\",\"opacity\":0.8,\"symbol\":\"circle\"},\"mode\":\"markers\",\"name\":\"Burnley\",\"orientation\":\"v\",\"showlegend\":true,\"x\":[0.6],\"xaxis\":\"x\",\"y\":[1.6],\"yaxis\":\"y\",\"type\":\"scatter\"},{\"hovertemplate\":\"Team=Chelsea<br>Matches played=29<br>Average goals scored last five games=%{x}<br>Average goals conceded last five games=%{y}<extra></extra>\",\"legendgroup\":\"Chelsea\",\"marker\":{\"color\":\"#D62728\",\"opacity\":0.8,\"symbol\":\"circle\"},\"mode\":\"markers\",\"name\":\"Chelsea\",\"orientation\":\"v\",\"showlegend\":true,\"x\":[2.0],\"xaxis\":\"x\",\"y\":[1.0],\"yaxis\":\"y\",\"type\":\"scatter\"},{\"hovertemplate\":\"Team=Everton<br>Matches played=29<br>Average goals scored last five games=%{x}<br>Average goals conceded last five games=%{y}<extra></extra>\",\"legendgroup\":\"Everton\",\"marker\":{\"color\":\"#9467BD\",\"opacity\":0.8,\"symbol\":\"circle\"},\"mode\":\"markers\",\"name\":\"Everton\",\"orientation\":\"v\",\"showlegend\":true,\"x\":[0.6],\"xaxis\":\"x\",\"y\":[2.0],\"yaxis\":\"y\",\"type\":\"scatter\"},{\"hovertemplate\":\"Team=Leicester<br>Matches played=29<br>Average goals scored last five games=%{x}<br>Average goals conceded last five games=%{y}<extra></extra>\",\"legendgroup\":\"Leicester\",\"marker\":{\"color\":\"#8C564B\",\"opacity\":0.8,\"symbol\":\"circle\"},\"mode\":\"markers\",\"name\":\"Leicester\",\"orientation\":\"v\",\"showlegend\":true,\"x\":[1.4],\"xaxis\":\"x\",\"y\":[2.6],\"yaxis\":\"y\",\"type\":\"scatter\"},{\"hovertemplate\":\"Team=Watford<br>Matches played=29<br>Average goals scored last five games=%{x}<br>Average goals conceded last five games=%{y}<extra></extra>\",\"legendgroup\":\"Watford\",\"marker\":{\"color\":\"#E377C2\",\"opacity\":0.8,\"symbol\":\"circle\"},\"mode\":\"markers\",\"name\":\"Watford\",\"orientation\":\"v\",\"showlegend\":true,\"x\":[0.8],\"xaxis\":\"x\",\"y\":[1.6],\"yaxis\":\"y\",\"type\":\"scatter\"},{\"hovertemplate\":\"Team=Norwich<br>Matches played=29<br>Average goals scored last five games=%{x}<br>Average goals conceded last five games=%{y}<extra></extra>\",\"legendgroup\":\"Norwich\",\"marker\":{\"color\":\"#7F7F7F\",\"opacity\":0.8,\"symbol\":\"circle\"},\"mode\":\"markers\",\"name\":\"Norwich\",\"orientation\":\"v\",\"showlegend\":true,\"x\":[0.6],\"xaxis\":\"x\",\"y\":[2.0],\"yaxis\":\"y\",\"type\":\"scatter\"},{\"hovertemplate\":\"Team=Newcastle<br>Matches played=29<br>Average goals scored last five games=%{x}<br>Average goals conceded last five games=%{y}<extra></extra>\",\"legendgroup\":\"Newcastle\",\"marker\":{\"color\":\"#BCBD22\",\"opacity\":0.8,\"symbol\":\"circle\"},\"mode\":\"markers\",\"name\":\"Newcastle\",\"orientation\":\"v\",\"showlegend\":true,\"x\":[0.6],\"xaxis\":\"x\",\"y\":[2.0],\"yaxis\":\"y\",\"type\":\"scatter\"},{\"hovertemplate\":\"Team=Tottenham<br>Matches played=29<br>Average goals scored last five games=%{x}<br>Average goals conceded last five games=%{y}<extra></extra>\",\"legendgroup\":\"Tottenham\",\"marker\":{\"color\":\"#17BECF\",\"opacity\":0.8,\"symbol\":\"circle\"},\"mode\":\"markers\",\"name\":\"Tottenham\",\"orientation\":\"v\",\"showlegend\":true,\"x\":[1.0],\"xaxis\":\"x\",\"y\":[1.0],\"yaxis\":\"y\",\"type\":\"scatter\"},{\"hovertemplate\":\"Team=Liverpool<br>Matches played=29<br>Average goals scored last five games=%{x}<br>Average goals conceded last five games=%{y}<extra></extra>\",\"legendgroup\":\"Liverpool\",\"marker\":{\"color\":\"#1F77B4\",\"opacity\":0.8,\"symbol\":\"circle\"},\"mode\":\"markers\",\"name\":\"Liverpool\",\"orientation\":\"v\",\"showlegend\":true,\"x\":[1.8],\"xaxis\":\"x\",\"y\":[1.4],\"yaxis\":\"y\",\"type\":\"scatter\"},{\"hovertemplate\":\"Team=Aston Villa<br>Matches played=29<br>Average goals scored last five games=%{x}<br>Average goals conceded last five games=%{y}<extra></extra>\",\"legendgroup\":\"Aston Villa\",\"marker\":{\"color\":\"#FF7F0E\",\"opacity\":0.8,\"symbol\":\"circle\"},\"mode\":\"markers\",\"name\":\"Aston Villa\",\"orientation\":\"v\",\"showlegend\":true,\"x\":[1.0],\"xaxis\":\"x\",\"y\":[1.0],\"yaxis\":\"y\",\"type\":\"scatter\"},{\"hovertemplate\":\"Team=Crystal Palace<br>Matches played=29<br>Average goals scored last five games=%{x}<br>Average goals conceded last five games=%{y}<extra></extra>\",\"legendgroup\":\"Crystal Palace\",\"marker\":{\"color\":\"#2CA02C\",\"opacity\":0.8,\"symbol\":\"circle\"},\"mode\":\"markers\",\"name\":\"Crystal Palace\",\"orientation\":\"v\",\"showlegend\":true,\"x\":[0.8],\"xaxis\":\"x\",\"y\":[1.8],\"yaxis\":\"y\",\"type\":\"scatter\"},{\"hovertemplate\":\"Team=Leeds<br>Matches played=29<br>Average goals scored last five games=%{x}<br>Average goals conceded last five games=%{y}<extra></extra>\",\"legendgroup\":\"Leeds\",\"marker\":{\"color\":\"#D62728\",\"opacity\":0.8,\"symbol\":\"circle\"},\"mode\":\"markers\",\"name\":\"Leeds\",\"orientation\":\"v\",\"showlegend\":true,\"x\":[1.2],\"xaxis\":\"x\",\"y\":[2.8],\"yaxis\":\"y\",\"type\":\"scatter\"},{\"hovertemplate\":\"Team=Man City<br>Matches played=29<br>Average goals scored last five games=%{x}<br>Average goals conceded last five games=%{y}<extra></extra>\",\"legendgroup\":\"Man City\",\"marker\":{\"color\":\"#9467BD\",\"opacity\":0.8,\"symbol\":\"circle\"},\"mode\":\"markers\",\"name\":\"Man City\",\"orientation\":\"v\",\"showlegend\":true,\"x\":[2.4],\"xaxis\":\"x\",\"y\":[0.4],\"yaxis\":\"y\",\"type\":\"scatter\"},{\"hovertemplate\":\"Team=Brighton<br>Matches played=29<br>Average goals scored last five games=%{x}<br>Average goals conceded last five games=%{y}<extra></extra>\",\"legendgroup\":\"Brighton\",\"marker\":{\"color\":\"#8C564B\",\"opacity\":0.8,\"symbol\":\"circle\"},\"mode\":\"markers\",\"name\":\"Brighton\",\"orientation\":\"v\",\"showlegend\":true,\"x\":[1.2],\"xaxis\":\"x\",\"y\":[1.4],\"yaxis\":\"y\",\"type\":\"scatter\"},{\"hovertemplate\":\"Team=Southampton<br>Matches played=29<br>Average goals scored last five games=%{x}<br>Average goals conceded last five games=%{y}<extra></extra>\",\"legendgroup\":\"Southampton\",\"marker\":{\"color\":\"#E377C2\",\"opacity\":0.8,\"symbol\":\"circle\"},\"mode\":\"markers\",\"name\":\"Southampton\",\"orientation\":\"v\",\"showlegend\":true,\"x\":[1.2],\"xaxis\":\"x\",\"y\":[2.6],\"yaxis\":\"y\",\"type\":\"scatter\"},{\"hovertemplate\":\"Team=Wolves<br>Matches played=29<br>Average goals scored last five games=%{x}<br>Average goals conceded last five games=%{y}<extra></extra>\",\"legendgroup\":\"Wolves\",\"marker\":{\"color\":\"#7F7F7F\",\"opacity\":0.8,\"symbol\":\"circle\"},\"mode\":\"markers\",\"name\":\"Wolves\",\"orientation\":\"v\",\"showlegend\":true,\"x\":[0.4],\"xaxis\":\"x\",\"y\":[0.6],\"yaxis\":\"y\",\"type\":\"scatter\"},{\"hovertemplate\":\"Team=Arsenal<br>Matches played=29<br>Average goals scored last five games=%{x}<br>Average goals conceded last five games=%{y}<extra></extra>\",\"legendgroup\":\"Arsenal\",\"marker\":{\"color\":\"#BCBD22\",\"opacity\":0.8,\"symbol\":\"circle\"},\"mode\":\"markers\",\"name\":\"Arsenal\",\"orientation\":\"v\",\"showlegend\":true,\"x\":[2.4],\"xaxis\":\"x\",\"y\":[2.0],\"yaxis\":\"y\",\"type\":\"scatter\"},{\"hovertemplate\":\"Team=West Ham<br>Matches played=29<br>Average goals scored last five games=%{x}<br>Average goals conceded last five games=%{y}<extra></extra>\",\"legendgroup\":\"West Ham\",\"marker\":{\"color\":\"#17BECF\",\"opacity\":0.8,\"symbol\":\"circle\"},\"mode\":\"markers\",\"name\":\"West Ham\",\"orientation\":\"v\",\"showlegend\":true,\"x\":[1.0],\"xaxis\":\"x\",\"y\":[1.2],\"yaxis\":\"y\",\"type\":\"scatter\"}],\"name\":\"29\"},{\"data\":[{\"hovertemplate\":\"Team=Brentford<br>Matches played=30<br>Average goals scored last five games=%{x}<br>Average goals conceded last five games=%{y}<extra></extra>\",\"legendgroup\":\"Brentford\",\"marker\":{\"color\":\"#1F77B4\",\"opacity\":0.8,\"symbol\":\"circle\"},\"mode\":\"markers\",\"name\":\"Brentford\",\"orientation\":\"v\",\"showlegend\":true,\"x\":[0.6],\"xaxis\":\"x\",\"y\":[2.6],\"yaxis\":\"y\",\"type\":\"scatter\"},{\"hovertemplate\":\"Team=Man United<br>Matches played=30<br>Average goals scored last five games=%{x}<br>Average goals conceded last five games=%{y}<extra></extra>\",\"legendgroup\":\"Man United\",\"marker\":{\"color\":\"#FF7F0E\",\"opacity\":0.8,\"symbol\":\"circle\"},\"mode\":\"markers\",\"name\":\"Man United\",\"orientation\":\"v\",\"showlegend\":true,\"x\":[1.6],\"xaxis\":\"x\",\"y\":[1.0],\"yaxis\":\"y\",\"type\":\"scatter\"},{\"hovertemplate\":\"Team=Burnley<br>Matches played=30<br>Average goals scored last five games=%{x}<br>Average goals conceded last five games=%{y}<extra></extra>\",\"legendgroup\":\"Burnley\",\"marker\":{\"color\":\"#2CA02C\",\"opacity\":0.8,\"symbol\":\"circle\"},\"mode\":\"markers\",\"name\":\"Burnley\",\"orientation\":\"v\",\"showlegend\":true,\"x\":[0.4],\"xaxis\":\"x\",\"y\":[1.4],\"yaxis\":\"y\",\"type\":\"scatter\"},{\"hovertemplate\":\"Team=Chelsea<br>Matches played=30<br>Average goals scored last five games=%{x}<br>Average goals conceded last five games=%{y}<extra></extra>\",\"legendgroup\":\"Chelsea\",\"marker\":{\"color\":\"#D62728\",\"opacity\":0.8,\"symbol\":\"circle\"},\"mode\":\"markers\",\"name\":\"Chelsea\",\"orientation\":\"v\",\"showlegend\":true,\"x\":[1.4],\"xaxis\":\"x\",\"y\":[1.2],\"yaxis\":\"y\",\"type\":\"scatter\"},{\"hovertemplate\":\"Team=Everton<br>Matches played=30<br>Average goals scored last five games=%{x}<br>Average goals conceded last five games=%{y}<extra></extra>\",\"legendgroup\":\"Everton\",\"marker\":{\"color\":\"#9467BD\",\"opacity\":0.8,\"symbol\":\"circle\"},\"mode\":\"markers\",\"name\":\"Everton\",\"orientation\":\"v\",\"showlegend\":true,\"x\":[0.8],\"xaxis\":\"x\",\"y\":[2.0],\"yaxis\":\"y\",\"type\":\"scatter\"},{\"hovertemplate\":\"Team=Leicester<br>Matches played=30<br>Average goals scored last five games=%{x}<br>Average goals conceded last five games=%{y}<extra></extra>\",\"legendgroup\":\"Leicester\",\"marker\":{\"color\":\"#8C564B\",\"opacity\":0.8,\"symbol\":\"circle\"},\"mode\":\"markers\",\"name\":\"Leicester\",\"orientation\":\"v\",\"showlegend\":true,\"x\":[1.4],\"xaxis\":\"x\",\"y\":[2.8],\"yaxis\":\"y\",\"type\":\"scatter\"},{\"hovertemplate\":\"Team=Watford<br>Matches played=30<br>Average goals scored last five games=%{x}<br>Average goals conceded last five games=%{y}<extra></extra>\",\"legendgroup\":\"Watford\",\"marker\":{\"color\":\"#E377C2\",\"opacity\":0.8,\"symbol\":\"circle\"},\"mode\":\"markers\",\"name\":\"Watford\",\"orientation\":\"v\",\"showlegend\":true,\"x\":[0.8],\"xaxis\":\"x\",\"y\":[1.6],\"yaxis\":\"y\",\"type\":\"scatter\"},{\"hovertemplate\":\"Team=Norwich<br>Matches played=30<br>Average goals scored last five games=%{x}<br>Average goals conceded last five games=%{y}<extra></extra>\",\"legendgroup\":\"Norwich\",\"marker\":{\"color\":\"#7F7F7F\",\"opacity\":0.8,\"symbol\":\"circle\"},\"mode\":\"markers\",\"name\":\"Norwich\",\"orientation\":\"v\",\"showlegend\":true,\"x\":[0.8],\"xaxis\":\"x\",\"y\":[1.8],\"yaxis\":\"y\",\"type\":\"scatter\"},{\"hovertemplate\":\"Team=Newcastle<br>Matches played=30<br>Average goals scored last five games=%{x}<br>Average goals conceded last five games=%{y}<extra></extra>\",\"legendgroup\":\"Newcastle\",\"marker\":{\"color\":\"#BCBD22\",\"opacity\":0.8,\"symbol\":\"circle\"},\"mode\":\"markers\",\"name\":\"Newcastle\",\"orientation\":\"v\",\"showlegend\":true,\"x\":[0.6],\"xaxis\":\"x\",\"y\":[2.0],\"yaxis\":\"y\",\"type\":\"scatter\"},{\"hovertemplate\":\"Team=Tottenham<br>Matches played=30<br>Average goals scored last five games=%{x}<br>Average goals conceded last five games=%{y}<extra></extra>\",\"legendgroup\":\"Tottenham\",\"marker\":{\"color\":\"#17BECF\",\"opacity\":0.8,\"symbol\":\"circle\"},\"mode\":\"markers\",\"name\":\"Tottenham\",\"orientation\":\"v\",\"showlegend\":true,\"x\":[1.6],\"xaxis\":\"x\",\"y\":[1.4],\"yaxis\":\"y\",\"type\":\"scatter\"},{\"hovertemplate\":\"Team=Liverpool<br>Matches played=30<br>Average goals scored last five games=%{x}<br>Average goals conceded last five games=%{y}<extra></extra>\",\"legendgroup\":\"Liverpool\",\"marker\":{\"color\":\"#1F77B4\",\"opacity\":0.8,\"symbol\":\"circle\"},\"mode\":\"markers\",\"name\":\"Liverpool\",\"orientation\":\"v\",\"showlegend\":true,\"x\":[1.8],\"xaxis\":\"x\",\"y\":[1.2],\"yaxis\":\"y\",\"type\":\"scatter\"},{\"hovertemplate\":\"Team=Aston Villa<br>Matches played=30<br>Average goals scored last five games=%{x}<br>Average goals conceded last five games=%{y}<extra></extra>\",\"legendgroup\":\"Aston Villa\",\"marker\":{\"color\":\"#FF7F0E\",\"opacity\":0.8,\"symbol\":\"circle\"},\"mode\":\"markers\",\"name\":\"Aston Villa\",\"orientation\":\"v\",\"showlegend\":true,\"x\":[1.2],\"xaxis\":\"x\",\"y\":[0.8],\"yaxis\":\"y\",\"type\":\"scatter\"},{\"hovertemplate\":\"Team=Crystal Palace<br>Matches played=30<br>Average goals scored last five games=%{x}<br>Average goals conceded last five games=%{y}<extra></extra>\",\"legendgroup\":\"Crystal Palace\",\"marker\":{\"color\":\"#2CA02C\",\"opacity\":0.8,\"symbol\":\"circle\"},\"mode\":\"markers\",\"name\":\"Crystal Palace\",\"orientation\":\"v\",\"showlegend\":true,\"x\":[0.4],\"xaxis\":\"x\",\"y\":[1.4],\"yaxis\":\"y\",\"type\":\"scatter\"},{\"hovertemplate\":\"Team=Leeds<br>Matches played=30<br>Average goals scored last five games=%{x}<br>Average goals conceded last five games=%{y}<extra></extra>\",\"legendgroup\":\"Leeds\",\"marker\":{\"color\":\"#D62728\",\"opacity\":0.8,\"symbol\":\"circle\"},\"mode\":\"markers\",\"name\":\"Leeds\",\"orientation\":\"v\",\"showlegend\":true,\"x\":[1.6],\"xaxis\":\"x\",\"y\":[3.0],\"yaxis\":\"y\",\"type\":\"scatter\"},{\"hovertemplate\":\"Team=Man City<br>Matches played=30<br>Average goals scored last five games=%{x}<br>Average goals conceded last five games=%{y}<extra></extra>\",\"legendgroup\":\"Man City\",\"marker\":{\"color\":\"#9467BD\",\"opacity\":0.8,\"symbol\":\"circle\"},\"mode\":\"markers\",\"name\":\"Man City\",\"orientation\":\"v\",\"showlegend\":true,\"x\":[2.4],\"xaxis\":\"x\",\"y\":[0.6],\"yaxis\":\"y\",\"type\":\"scatter\"},{\"hovertemplate\":\"Team=Brighton<br>Matches played=30<br>Average goals scored last five games=%{x}<br>Average goals conceded last five games=%{y}<extra></extra>\",\"legendgroup\":\"Brighton\",\"marker\":{\"color\":\"#8C564B\",\"opacity\":0.8,\"symbol\":\"circle\"},\"mode\":\"markers\",\"name\":\"Brighton\",\"orientation\":\"v\",\"showlegend\":true,\"x\":[1.4],\"xaxis\":\"x\",\"y\":[1.2],\"yaxis\":\"y\",\"type\":\"scatter\"},{\"hovertemplate\":\"Team=Southampton<br>Matches played=30<br>Average goals scored last five games=%{x}<br>Average goals conceded last five games=%{y}<extra></extra>\",\"legendgroup\":\"Southampton\",\"marker\":{\"color\":\"#E377C2\",\"opacity\":0.8,\"symbol\":\"circle\"},\"mode\":\"markers\",\"name\":\"Southampton\",\"orientation\":\"v\",\"showlegend\":true,\"x\":[1.2],\"xaxis\":\"x\",\"y\":[2.8],\"yaxis\":\"y\",\"type\":\"scatter\"},{\"hovertemplate\":\"Team=Wolves<br>Matches played=30<br>Average goals scored last five games=%{x}<br>Average goals conceded last five games=%{y}<extra></extra>\",\"legendgroup\":\"Wolves\",\"marker\":{\"color\":\"#7F7F7F\",\"opacity\":0.8,\"symbol\":\"circle\"},\"mode\":\"markers\",\"name\":\"Wolves\",\"orientation\":\"v\",\"showlegend\":true,\"x\":[0.8],\"xaxis\":\"x\",\"y\":[0.4],\"yaxis\":\"y\",\"type\":\"scatter\"},{\"hovertemplate\":\"Team=Arsenal<br>Matches played=30<br>Average goals scored last five games=%{x}<br>Average goals conceded last five games=%{y}<extra></extra>\",\"legendgroup\":\"Arsenal\",\"marker\":{\"color\":\"#BCBD22\",\"opacity\":0.8,\"symbol\":\"circle\"},\"mode\":\"markers\",\"name\":\"Arsenal\",\"orientation\":\"v\",\"showlegend\":true,\"x\":[2.6],\"xaxis\":\"x\",\"y\":[1.2],\"yaxis\":\"y\",\"type\":\"scatter\"},{\"hovertemplate\":\"Team=West Ham<br>Matches played=30<br>Average goals scored last five games=%{x}<br>Average goals conceded last five games=%{y}<extra></extra>\",\"legendgroup\":\"West Ham\",\"marker\":{\"color\":\"#17BECF\",\"opacity\":0.8,\"symbol\":\"circle\"},\"mode\":\"markers\",\"name\":\"West Ham\",\"orientation\":\"v\",\"showlegend\":true,\"x\":[1.6],\"xaxis\":\"x\",\"y\":[1.4],\"yaxis\":\"y\",\"type\":\"scatter\"}],\"name\":\"30\"},{\"data\":[{\"hovertemplate\":\"Team=Brentford<br>Matches played=31<br>Average goals scored last five games=%{x}<br>Average goals conceded last five games=%{y}<extra></extra>\",\"legendgroup\":\"Brentford\",\"marker\":{\"color\":\"#1F77B4\",\"opacity\":0.8,\"symbol\":\"circle\"},\"mode\":\"markers\",\"name\":\"Brentford\",\"orientation\":\"v\",\"showlegend\":true,\"x\":[0.6],\"xaxis\":\"x\",\"y\":[2.6],\"yaxis\":\"y\",\"type\":\"scatter\"},{\"hovertemplate\":\"Team=Man United<br>Matches played=31<br>Average goals scored last five games=%{x}<br>Average goals conceded last five games=%{y}<extra></extra>\",\"legendgroup\":\"Man United\",\"marker\":{\"color\":\"#FF7F0E\",\"opacity\":0.8,\"symbol\":\"circle\"},\"mode\":\"markers\",\"name\":\"Man United\",\"orientation\":\"v\",\"showlegend\":true,\"x\":[1.6],\"xaxis\":\"x\",\"y\":[1.0],\"yaxis\":\"y\",\"type\":\"scatter\"},{\"hovertemplate\":\"Team=Burnley<br>Matches played=31<br>Average goals scored last five games=%{x}<br>Average goals conceded last five games=%{y}<extra></extra>\",\"legendgroup\":\"Burnley\",\"marker\":{\"color\":\"#2CA02C\",\"opacity\":0.8,\"symbol\":\"circle\"},\"mode\":\"markers\",\"name\":\"Burnley\",\"orientation\":\"v\",\"showlegend\":true,\"x\":[1.0],\"xaxis\":\"x\",\"y\":[1.4],\"yaxis\":\"y\",\"type\":\"scatter\"},{\"hovertemplate\":\"Team=Chelsea<br>Matches played=31<br>Average goals scored last five games=%{x}<br>Average goals conceded last five games=%{y}<extra></extra>\",\"legendgroup\":\"Chelsea\",\"marker\":{\"color\":\"#D62728\",\"opacity\":0.8,\"symbol\":\"circle\"},\"mode\":\"markers\",\"name\":\"Chelsea\",\"orientation\":\"v\",\"showlegend\":true,\"x\":[1.2],\"xaxis\":\"x\",\"y\":[1.2],\"yaxis\":\"y\",\"type\":\"scatter\"},{\"hovertemplate\":\"Team=Everton<br>Matches played=31<br>Average goals scored last five games=%{x}<br>Average goals conceded last five games=%{y}<extra></extra>\",\"legendgroup\":\"Everton\",\"marker\":{\"color\":\"#9467BD\",\"opacity\":0.8,\"symbol\":\"circle\"},\"mode\":\"markers\",\"name\":\"Everton\",\"orientation\":\"v\",\"showlegend\":true,\"x\":[0.8],\"xaxis\":\"x\",\"y\":[2.2],\"yaxis\":\"y\",\"type\":\"scatter\"},{\"hovertemplate\":\"Team=Leicester<br>Matches played=31<br>Average goals scored last five games=%{x}<br>Average goals conceded last five games=%{y}<extra></extra>\",\"legendgroup\":\"Leicester\",\"marker\":{\"color\":\"#8C564B\",\"opacity\":0.8,\"symbol\":\"circle\"},\"mode\":\"markers\",\"name\":\"Leicester\",\"orientation\":\"v\",\"showlegend\":true,\"x\":[1.4],\"xaxis\":\"x\",\"y\":[2.4],\"yaxis\":\"y\",\"type\":\"scatter\"},{\"hovertemplate\":\"Team=Watford<br>Matches played=31<br>Average goals scored last five games=%{x}<br>Average goals conceded last five games=%{y}<extra></extra>\",\"legendgroup\":\"Watford\",\"marker\":{\"color\":\"#E377C2\",\"opacity\":0.8,\"symbol\":\"circle\"},\"mode\":\"markers\",\"name\":\"Watford\",\"orientation\":\"v\",\"showlegend\":true,\"x\":[0.6],\"xaxis\":\"x\",\"y\":[0.8],\"yaxis\":\"y\",\"type\":\"scatter\"},{\"hovertemplate\":\"Team=Norwich<br>Matches played=31<br>Average goals scored last five games=%{x}<br>Average goals conceded last five games=%{y}<extra></extra>\",\"legendgroup\":\"Norwich\",\"marker\":{\"color\":\"#7F7F7F\",\"opacity\":0.8,\"symbol\":\"circle\"},\"mode\":\"markers\",\"name\":\"Norwich\",\"orientation\":\"v\",\"showlegend\":true,\"x\":[0.8],\"xaxis\":\"x\",\"y\":[2.2],\"yaxis\":\"y\",\"type\":\"scatter\"},{\"hovertemplate\":\"Team=Newcastle<br>Matches played=31<br>Average goals scored last five games=%{x}<br>Average goals conceded last five games=%{y}<extra></extra>\",\"legendgroup\":\"Newcastle\",\"marker\":{\"color\":\"#BCBD22\",\"opacity\":0.8,\"symbol\":\"circle\"},\"mode\":\"markers\",\"name\":\"Newcastle\",\"orientation\":\"v\",\"showlegend\":true,\"x\":[1.0],\"xaxis\":\"x\",\"y\":[1.6],\"yaxis\":\"y\",\"type\":\"scatter\"},{\"hovertemplate\":\"Team=Tottenham<br>Matches played=31<br>Average goals scored last five games=%{x}<br>Average goals conceded last five games=%{y}<extra></extra>\",\"legendgroup\":\"Tottenham\",\"marker\":{\"color\":\"#17BECF\",\"opacity\":0.8,\"symbol\":\"circle\"},\"mode\":\"markers\",\"name\":\"Tottenham\",\"orientation\":\"v\",\"showlegend\":true,\"x\":[1.4],\"xaxis\":\"x\",\"y\":[1.4],\"yaxis\":\"y\",\"type\":\"scatter\"},{\"hovertemplate\":\"Team=Liverpool<br>Matches played=31<br>Average goals scored last five games=%{x}<br>Average goals conceded last five games=%{y}<extra></extra>\",\"legendgroup\":\"Liverpool\",\"marker\":{\"color\":\"#1F77B4\",\"opacity\":0.8,\"symbol\":\"circle\"},\"mode\":\"markers\",\"name\":\"Liverpool\",\"orientation\":\"v\",\"showlegend\":true,\"x\":[1.6],\"xaxis\":\"x\",\"y\":[1.2],\"yaxis\":\"y\",\"type\":\"scatter\"},{\"hovertemplate\":\"Team=Aston Villa<br>Matches played=31<br>Average goals scored last five games=%{x}<br>Average goals conceded last five games=%{y}<extra></extra>\",\"legendgroup\":\"Aston Villa\",\"marker\":{\"color\":\"#FF7F0E\",\"opacity\":0.8,\"symbol\":\"circle\"},\"mode\":\"markers\",\"name\":\"Aston Villa\",\"orientation\":\"v\",\"showlegend\":true,\"x\":[0.8],\"xaxis\":\"x\",\"y\":[0.8],\"yaxis\":\"y\",\"type\":\"scatter\"},{\"hovertemplate\":\"Team=Crystal Palace<br>Matches played=31<br>Average goals scored last five games=%{x}<br>Average goals conceded last five games=%{y}<extra></extra>\",\"legendgroup\":\"Crystal Palace\",\"marker\":{\"color\":\"#2CA02C\",\"opacity\":0.8,\"symbol\":\"circle\"},\"mode\":\"markers\",\"name\":\"Crystal Palace\",\"orientation\":\"v\",\"showlegend\":true,\"x\":[0.4],\"xaxis\":\"x\",\"y\":[1.2],\"yaxis\":\"y\",\"type\":\"scatter\"},{\"hovertemplate\":\"Team=Leeds<br>Matches played=31<br>Average goals scored last five games=%{x}<br>Average goals conceded last five games=%{y}<extra></extra>\",\"legendgroup\":\"Leeds\",\"marker\":{\"color\":\"#D62728\",\"opacity\":0.8,\"symbol\":\"circle\"},\"mode\":\"markers\",\"name\":\"Leeds\",\"orientation\":\"v\",\"showlegend\":true,\"x\":[1.6],\"xaxis\":\"x\",\"y\":[3.6],\"yaxis\":\"y\",\"type\":\"scatter\"},{\"hovertemplate\":\"Team=Man City<br>Matches played=31<br>Average goals scored last five games=%{x}<br>Average goals conceded last five games=%{y}<extra></extra>\",\"legendgroup\":\"Man City\",\"marker\":{\"color\":\"#9467BD\",\"opacity\":0.8,\"symbol\":\"circle\"},\"mode\":\"markers\",\"name\":\"Man City\",\"orientation\":\"v\",\"showlegend\":true,\"x\":[2.2],\"xaxis\":\"x\",\"y\":[0.6],\"yaxis\":\"y\",\"type\":\"scatter\"},{\"hovertemplate\":\"Team=Brighton<br>Matches played=31<br>Average goals scored last five games=%{x}<br>Average goals conceded last five games=%{y}<extra></extra>\",\"legendgroup\":\"Brighton\",\"marker\":{\"color\":\"#8C564B\",\"opacity\":0.8,\"symbol\":\"circle\"},\"mode\":\"markers\",\"name\":\"Brighton\",\"orientation\":\"v\",\"showlegend\":true,\"x\":[1.6],\"xaxis\":\"x\",\"y\":[1.0],\"yaxis\":\"y\",\"type\":\"scatter\"},{\"hovertemplate\":\"Team=Southampton<br>Matches played=31<br>Average goals scored last five games=%{x}<br>Average goals conceded last five games=%{y}<extra></extra>\",\"legendgroup\":\"Southampton\",\"marker\":{\"color\":\"#E377C2\",\"opacity\":0.8,\"symbol\":\"circle\"},\"mode\":\"markers\",\"name\":\"Southampton\",\"orientation\":\"v\",\"showlegend\":true,\"x\":[1.8],\"xaxis\":\"x\",\"y\":[2.4],\"yaxis\":\"y\",\"type\":\"scatter\"},{\"hovertemplate\":\"Team=Wolves<br>Matches played=31<br>Average goals scored last five games=%{x}<br>Average goals conceded last five games=%{y}<extra></extra>\",\"legendgroup\":\"Wolves\",\"marker\":{\"color\":\"#7F7F7F\",\"opacity\":0.8,\"symbol\":\"circle\"},\"mode\":\"markers\",\"name\":\"Wolves\",\"orientation\":\"v\",\"showlegend\":true,\"x\":[1.2],\"xaxis\":\"x\",\"y\":[0.4],\"yaxis\":\"y\",\"type\":\"scatter\"},{\"hovertemplate\":\"Team=Arsenal<br>Matches played=31<br>Average goals scored last five games=%{x}<br>Average goals conceded last five games=%{y}<extra></extra>\",\"legendgroup\":\"Arsenal\",\"marker\":{\"color\":\"#BCBD22\",\"opacity\":0.8,\"symbol\":\"circle\"},\"mode\":\"markers\",\"name\":\"Arsenal\",\"orientation\":\"v\",\"showlegend\":true,\"x\":[2.8],\"xaxis\":\"x\",\"y\":[1.0],\"yaxis\":\"y\",\"type\":\"scatter\"},{\"hovertemplate\":\"Team=West Ham<br>Matches played=31<br>Average goals scored last five games=%{x}<br>Average goals conceded last five games=%{y}<extra></extra>\",\"legendgroup\":\"West Ham\",\"marker\":{\"color\":\"#17BECF\",\"opacity\":0.8,\"symbol\":\"circle\"},\"mode\":\"markers\",\"name\":\"West Ham\",\"orientation\":\"v\",\"showlegend\":true,\"x\":[1.4],\"xaxis\":\"x\",\"y\":[1.2],\"yaxis\":\"y\",\"type\":\"scatter\"}],\"name\":\"31\"},{\"data\":[{\"hovertemplate\":\"Team=Brentford<br>Matches played=32<br>Average goals scored last five games=%{x}<br>Average goals conceded last five games=%{y}<extra></extra>\",\"legendgroup\":\"Brentford\",\"marker\":{\"color\":\"#1F77B4\",\"opacity\":0.8,\"symbol\":\"circle\"},\"mode\":\"markers\",\"name\":\"Brentford\",\"orientation\":\"v\",\"showlegend\":true,\"x\":[0.4],\"xaxis\":\"x\",\"y\":[2.6],\"yaxis\":\"y\",\"type\":\"scatter\"},{\"hovertemplate\":\"Team=Man United<br>Matches played=32<br>Average goals scored last five games=%{x}<br>Average goals conceded last five games=%{y}<extra></extra>\",\"legendgroup\":\"Man United\",\"marker\":{\"color\":\"#FF7F0E\",\"opacity\":0.8,\"symbol\":\"circle\"},\"mode\":\"markers\",\"name\":\"Man United\",\"orientation\":\"v\",\"showlegend\":true,\"x\":[2.2],\"xaxis\":\"x\",\"y\":[1.4],\"yaxis\":\"y\",\"type\":\"scatter\"},{\"hovertemplate\":\"Team=Burnley<br>Matches played=32<br>Average goals scored last five games=%{x}<br>Average goals conceded last five games=%{y}<extra></extra>\",\"legendgroup\":\"Burnley\",\"marker\":{\"color\":\"#2CA02C\",\"opacity\":0.8,\"symbol\":\"circle\"},\"mode\":\"markers\",\"name\":\"Burnley\",\"orientation\":\"v\",\"showlegend\":true,\"x\":[1.2],\"xaxis\":\"x\",\"y\":[1.4],\"yaxis\":\"y\",\"type\":\"scatter\"},{\"hovertemplate\":\"Team=Chelsea<br>Matches played=32<br>Average goals scored last five games=%{x}<br>Average goals conceded last five games=%{y}<extra></extra>\",\"legendgroup\":\"Chelsea\",\"marker\":{\"color\":\"#D62728\",\"opacity\":0.8,\"symbol\":\"circle\"},\"mode\":\"markers\",\"name\":\"Chelsea\",\"orientation\":\"v\",\"showlegend\":true,\"x\":[1.0],\"xaxis\":\"x\",\"y\":[0.6],\"yaxis\":\"y\",\"type\":\"scatter\"},{\"hovertemplate\":\"Team=Everton<br>Matches played=32<br>Average goals scored last five games=%{x}<br>Average goals conceded last five games=%{y}<extra></extra>\",\"legendgroup\":\"Everton\",\"marker\":{\"color\":\"#9467BD\",\"opacity\":0.8,\"symbol\":\"circle\"},\"mode\":\"markers\",\"name\":\"Everton\",\"orientation\":\"v\",\"showlegend\":true,\"x\":[0.6],\"xaxis\":\"x\",\"y\":[2.6],\"yaxis\":\"y\",\"type\":\"scatter\"},{\"hovertemplate\":\"Team=Leicester<br>Matches played=32<br>Average goals scored last five games=%{x}<br>Average goals conceded last five games=%{y}<extra></extra>\",\"legendgroup\":\"Leicester\",\"marker\":{\"color\":\"#8C564B\",\"opacity\":0.8,\"symbol\":\"circle\"},\"mode\":\"markers\",\"name\":\"Leicester\",\"orientation\":\"v\",\"showlegend\":true,\"x\":[1.2],\"xaxis\":\"x\",\"y\":[2.4],\"yaxis\":\"y\",\"type\":\"scatter\"},{\"hovertemplate\":\"Team=Watford<br>Matches played=32<br>Average goals scored last five games=%{x}<br>Average goals conceded last five games=%{y}<extra></extra>\",\"legendgroup\":\"Watford\",\"marker\":{\"color\":\"#E377C2\",\"opacity\":0.8,\"symbol\":\"circle\"},\"mode\":\"markers\",\"name\":\"Watford\",\"orientation\":\"v\",\"showlegend\":true,\"x\":[0.4],\"xaxis\":\"x\",\"y\":[0.4],\"yaxis\":\"y\",\"type\":\"scatter\"},{\"hovertemplate\":\"Team=Norwich<br>Matches played=32<br>Average goals scored last five games=%{x}<br>Average goals conceded last five games=%{y}<extra></extra>\",\"legendgroup\":\"Norwich\",\"marker\":{\"color\":\"#7F7F7F\",\"opacity\":0.8,\"symbol\":\"circle\"},\"mode\":\"markers\",\"name\":\"Norwich\",\"orientation\":\"v\",\"showlegend\":true,\"x\":[0.8],\"xaxis\":\"x\",\"y\":[2.0],\"yaxis\":\"y\",\"type\":\"scatter\"},{\"hovertemplate\":\"Team=Newcastle<br>Matches played=32<br>Average goals scored last five games=%{x}<br>Average goals conceded last five games=%{y}<extra></extra>\",\"legendgroup\":\"Newcastle\",\"marker\":{\"color\":\"#BCBD22\",\"opacity\":0.8,\"symbol\":\"circle\"},\"mode\":\"markers\",\"name\":\"Newcastle\",\"orientation\":\"v\",\"showlegend\":true,\"x\":[1.4],\"xaxis\":\"x\",\"y\":[1.0],\"yaxis\":\"y\",\"type\":\"scatter\"},{\"hovertemplate\":\"Team=Tottenham<br>Matches played=32<br>Average goals scored last five games=%{x}<br>Average goals conceded last five games=%{y}<extra></extra>\",\"legendgroup\":\"Tottenham\",\"marker\":{\"color\":\"#17BECF\",\"opacity\":0.8,\"symbol\":\"circle\"},\"mode\":\"markers\",\"name\":\"Tottenham\",\"orientation\":\"v\",\"showlegend\":true,\"x\":[2.0],\"xaxis\":\"x\",\"y\":[1.4],\"yaxis\":\"y\",\"type\":\"scatter\"},{\"hovertemplate\":\"Team=Liverpool<br>Matches played=32<br>Average goals scored last five games=%{x}<br>Average goals conceded last five games=%{y}<extra></extra>\",\"legendgroup\":\"Liverpool\",\"marker\":{\"color\":\"#1F77B4\",\"opacity\":0.8,\"symbol\":\"circle\"},\"mode\":\"markers\",\"name\":\"Liverpool\",\"orientation\":\"v\",\"showlegend\":true,\"x\":[1.6],\"xaxis\":\"x\",\"y\":[1.2],\"yaxis\":\"y\",\"type\":\"scatter\"},{\"hovertemplate\":\"Team=Aston Villa<br>Matches played=32<br>Average goals scored last five games=%{x}<br>Average goals conceded last five games=%{y}<extra></extra>\",\"legendgroup\":\"Aston Villa\",\"marker\":{\"color\":\"#FF7F0E\",\"opacity\":0.8,\"symbol\":\"circle\"},\"mode\":\"markers\",\"name\":\"Aston Villa\",\"orientation\":\"v\",\"showlegend\":true,\"x\":[1.2],\"xaxis\":\"x\",\"y\":[0.6],\"yaxis\":\"y\",\"type\":\"scatter\"},{\"hovertemplate\":\"Team=Crystal Palace<br>Matches played=32<br>Average goals scored last five games=%{x}<br>Average goals conceded last five games=%{y}<extra></extra>\",\"legendgroup\":\"Crystal Palace\",\"marker\":{\"color\":\"#2CA02C\",\"opacity\":0.8,\"symbol\":\"circle\"},\"mode\":\"markers\",\"name\":\"Crystal Palace\",\"orientation\":\"v\",\"showlegend\":true,\"x\":[1.2],\"xaxis\":\"x\",\"y\":[1.2],\"yaxis\":\"y\",\"type\":\"scatter\"},{\"hovertemplate\":\"Team=Leeds<br>Matches played=32<br>Average goals scored last five games=%{x}<br>Average goals conceded last five games=%{y}<extra></extra>\",\"legendgroup\":\"Leeds\",\"marker\":{\"color\":\"#D62728\",\"opacity\":0.8,\"symbol\":\"circle\"},\"mode\":\"markers\",\"name\":\"Leeds\",\"orientation\":\"v\",\"showlegend\":true,\"x\":[1.2],\"xaxis\":\"x\",\"y\":[4.2],\"yaxis\":\"y\",\"type\":\"scatter\"},{\"hovertemplate\":\"Team=Man City<br>Matches played=32<br>Average goals scored last five games=%{x}<br>Average goals conceded last five games=%{y}<extra></extra>\",\"legendgroup\":\"Man City\",\"marker\":{\"color\":\"#9467BD\",\"opacity\":0.8,\"symbol\":\"circle\"},\"mode\":\"markers\",\"name\":\"Man City\",\"orientation\":\"v\",\"showlegend\":true,\"x\":[2.4],\"xaxis\":\"x\",\"y\":[0.4],\"yaxis\":\"y\",\"type\":\"scatter\"},{\"hovertemplate\":\"Team=Brighton<br>Matches played=32<br>Average goals scored last five games=%{x}<br>Average goals conceded last five games=%{y}<extra></extra>\",\"legendgroup\":\"Brighton\",\"marker\":{\"color\":\"#8C564B\",\"opacity\":0.8,\"symbol\":\"circle\"},\"mode\":\"markers\",\"name\":\"Brighton\",\"orientation\":\"v\",\"showlegend\":true,\"x\":[1.4],\"xaxis\":\"x\",\"y\":[1.2],\"yaxis\":\"y\",\"type\":\"scatter\"},{\"hovertemplate\":\"Team=Southampton<br>Matches played=32<br>Average goals scored last five games=%{x}<br>Average goals conceded last five games=%{y}<extra></extra>\",\"legendgroup\":\"Southampton\",\"marker\":{\"color\":\"#E377C2\",\"opacity\":0.8,\"symbol\":\"circle\"},\"mode\":\"markers\",\"name\":\"Southampton\",\"orientation\":\"v\",\"showlegend\":true,\"x\":[2.0],\"xaxis\":\"x\",\"y\":[2.0],\"yaxis\":\"y\",\"type\":\"scatter\"},{\"hovertemplate\":\"Team=Wolves<br>Matches played=32<br>Average goals scored last five games=%{x}<br>Average goals conceded last five games=%{y}<extra></extra>\",\"legendgroup\":\"Wolves\",\"marker\":{\"color\":\"#7F7F7F\",\"opacity\":0.8,\"symbol\":\"circle\"},\"mode\":\"markers\",\"name\":\"Wolves\",\"orientation\":\"v\",\"showlegend\":true,\"x\":[1.4],\"xaxis\":\"x\",\"y\":[0.6],\"yaxis\":\"y\",\"type\":\"scatter\"},{\"hovertemplate\":\"Team=Arsenal<br>Matches played=32<br>Average goals scored last five games=%{x}<br>Average goals conceded last five games=%{y}<extra></extra>\",\"legendgroup\":\"Arsenal\",\"marker\":{\"color\":\"#BCBD22\",\"opacity\":0.8,\"symbol\":\"circle\"},\"mode\":\"markers\",\"name\":\"Arsenal\",\"orientation\":\"v\",\"showlegend\":true,\"x\":[2.8],\"xaxis\":\"x\",\"y\":[0.6],\"yaxis\":\"y\",\"type\":\"scatter\"},{\"hovertemplate\":\"Team=West Ham<br>Matches played=32<br>Average goals scored last five games=%{x}<br>Average goals conceded last five games=%{y}<extra></extra>\",\"legendgroup\":\"West Ham\",\"marker\":{\"color\":\"#17BECF\",\"opacity\":0.8,\"symbol\":\"circle\"},\"mode\":\"markers\",\"name\":\"West Ham\",\"orientation\":\"v\",\"showlegend\":true,\"x\":[1.8],\"xaxis\":\"x\",\"y\":[1.6],\"yaxis\":\"y\",\"type\":\"scatter\"}],\"name\":\"32\"},{\"data\":[{\"hovertemplate\":\"Team=Brentford<br>Matches played=33<br>Average goals scored last five games=%{x}<br>Average goals conceded last five games=%{y}<extra></extra>\",\"legendgroup\":\"Brentford\",\"marker\":{\"color\":\"#1F77B4\",\"opacity\":0.8,\"symbol\":\"circle\"},\"mode\":\"markers\",\"name\":\"Brentford\",\"orientation\":\"v\",\"showlegend\":true,\"x\":[1.0],\"xaxis\":\"x\",\"y\":[2.4],\"yaxis\":\"y\",\"type\":\"scatter\"},{\"hovertemplate\":\"Team=Man United<br>Matches played=33<br>Average goals scored last five games=%{x}<br>Average goals conceded last five games=%{y}<extra></extra>\",\"legendgroup\":\"Man United\",\"marker\":{\"color\":\"#FF7F0E\",\"opacity\":0.8,\"symbol\":\"circle\"},\"mode\":\"markers\",\"name\":\"Man United\",\"orientation\":\"v\",\"showlegend\":true,\"x\":[2.2],\"xaxis\":\"x\",\"y\":[2.0],\"yaxis\":\"y\",\"type\":\"scatter\"},{\"hovertemplate\":\"Team=Burnley<br>Matches played=33<br>Average goals scored last five games=%{x}<br>Average goals conceded last five games=%{y}<extra></extra>\",\"legendgroup\":\"Burnley\",\"marker\":{\"color\":\"#2CA02C\",\"opacity\":0.8,\"symbol\":\"circle\"},\"mode\":\"markers\",\"name\":\"Burnley\",\"orientation\":\"v\",\"showlegend\":true,\"x\":[1.0],\"xaxis\":\"x\",\"y\":[1.2],\"yaxis\":\"y\",\"type\":\"scatter\"},{\"hovertemplate\":\"Team=Chelsea<br>Matches played=33<br>Average goals scored last five games=%{x}<br>Average goals conceded last five games=%{y}<extra></extra>\",\"legendgroup\":\"Chelsea\",\"marker\":{\"color\":\"#D62728\",\"opacity\":0.8,\"symbol\":\"circle\"},\"mode\":\"markers\",\"name\":\"Chelsea\",\"orientation\":\"v\",\"showlegend\":true,\"x\":[1.8],\"xaxis\":\"x\",\"y\":[0.6],\"yaxis\":\"y\",\"type\":\"scatter\"},{\"hovertemplate\":\"Team=Everton<br>Matches played=33<br>Average goals scored last five games=%{x}<br>Average goals conceded last five games=%{y}<extra></extra>\",\"legendgroup\":\"Everton\",\"marker\":{\"color\":\"#9467BD\",\"opacity\":0.8,\"symbol\":\"circle\"},\"mode\":\"markers\",\"name\":\"Everton\",\"orientation\":\"v\",\"showlegend\":true,\"x\":[0.6],\"xaxis\":\"x\",\"y\":[2.8],\"yaxis\":\"y\",\"type\":\"scatter\"},{\"hovertemplate\":\"Team=Leicester<br>Matches played=33<br>Average goals scored last five games=%{x}<br>Average goals conceded last five games=%{y}<extra></extra>\",\"legendgroup\":\"Leicester\",\"marker\":{\"color\":\"#8C564B\",\"opacity\":0.8,\"symbol\":\"circle\"},\"mode\":\"markers\",\"name\":\"Leicester\",\"orientation\":\"v\",\"showlegend\":true,\"x\":[0.8],\"xaxis\":\"x\",\"y\":[1.4],\"yaxis\":\"y\",\"type\":\"scatter\"},{\"hovertemplate\":\"Team=Watford<br>Matches played=33<br>Average goals scored last five games=%{x}<br>Average goals conceded last five games=%{y}<extra></extra>\",\"legendgroup\":\"Watford\",\"marker\":{\"color\":\"#E377C2\",\"opacity\":0.8,\"symbol\":\"circle\"},\"mode\":\"markers\",\"name\":\"Watford\",\"orientation\":\"v\",\"showlegend\":true,\"x\":[0.2],\"xaxis\":\"x\",\"y\":[1.0],\"yaxis\":\"y\",\"type\":\"scatter\"},{\"hovertemplate\":\"Team=Norwich<br>Matches played=33<br>Average goals scored last five games=%{x}<br>Average goals conceded last five games=%{y}<extra></extra>\",\"legendgroup\":\"Norwich\",\"marker\":{\"color\":\"#7F7F7F\",\"opacity\":0.8,\"symbol\":\"circle\"},\"mode\":\"markers\",\"name\":\"Norwich\",\"orientation\":\"v\",\"showlegend\":true,\"x\":[1.0],\"xaxis\":\"x\",\"y\":[1.8],\"yaxis\":\"y\",\"type\":\"scatter\"},{\"hovertemplate\":\"Team=Newcastle<br>Matches played=33<br>Average goals scored last five games=%{x}<br>Average goals conceded last five games=%{y}<extra></extra>\",\"legendgroup\":\"Newcastle\",\"marker\":{\"color\":\"#BCBD22\",\"opacity\":0.8,\"symbol\":\"circle\"},\"mode\":\"markers\",\"name\":\"Newcastle\",\"orientation\":\"v\",\"showlegend\":true,\"x\":[1.2],\"xaxis\":\"x\",\"y\":[0.6],\"yaxis\":\"y\",\"type\":\"scatter\"},{\"hovertemplate\":\"Team=Tottenham<br>Matches played=33<br>Average goals scored last five games=%{x}<br>Average goals conceded last five games=%{y}<extra></extra>\",\"legendgroup\":\"Tottenham\",\"marker\":{\"color\":\"#17BECF\",\"opacity\":0.8,\"symbol\":\"circle\"},\"mode\":\"markers\",\"name\":\"Tottenham\",\"orientation\":\"v\",\"showlegend\":true,\"x\":[1.8],\"xaxis\":\"x\",\"y\":[1.6],\"yaxis\":\"y\",\"type\":\"scatter\"},{\"hovertemplate\":\"Team=Liverpool<br>Matches played=33<br>Average goals scored last five games=%{x}<br>Average goals conceded last five games=%{y}<extra></extra>\",\"legendgroup\":\"Liverpool\",\"marker\":{\"color\":\"#1F77B4\",\"opacity\":0.8,\"symbol\":\"circle\"},\"mode\":\"markers\",\"name\":\"Liverpool\",\"orientation\":\"v\",\"showlegend\":true,\"x\":[1.6],\"xaxis\":\"x\",\"y\":[0.8],\"yaxis\":\"y\",\"type\":\"scatter\"},{\"hovertemplate\":\"Team=Aston Villa<br>Matches played=33<br>Average goals scored last five games=%{x}<br>Average goals conceded last five games=%{y}<extra></extra>\",\"legendgroup\":\"Aston Villa\",\"marker\":{\"color\":\"#FF7F0E\",\"opacity\":0.8,\"symbol\":\"circle\"},\"mode\":\"markers\",\"name\":\"Aston Villa\",\"orientation\":\"v\",\"showlegend\":true,\"x\":[1.4],\"xaxis\":\"x\",\"y\":[0.6],\"yaxis\":\"y\",\"type\":\"scatter\"},{\"hovertemplate\":\"Team=Crystal Palace<br>Matches played=33<br>Average goals scored last five games=%{x}<br>Average goals conceded last five games=%{y}<extra></extra>\",\"legendgroup\":\"Crystal Palace\",\"marker\":{\"color\":\"#2CA02C\",\"opacity\":0.8,\"symbol\":\"circle\"},\"mode\":\"markers\",\"name\":\"Crystal Palace\",\"orientation\":\"v\",\"showlegend\":true,\"x\":[1.6],\"xaxis\":\"x\",\"y\":[0.6],\"yaxis\":\"y\",\"type\":\"scatter\"},{\"hovertemplate\":\"Team=Leeds<br>Matches played=33<br>Average goals scored last five games=%{x}<br>Average goals conceded last five games=%{y}<extra></extra>\",\"legendgroup\":\"Leeds\",\"marker\":{\"color\":\"#D62728\",\"opacity\":0.8,\"symbol\":\"circle\"},\"mode\":\"markers\",\"name\":\"Leeds\",\"orientation\":\"v\",\"showlegend\":true,\"x\":[1.2],\"xaxis\":\"x\",\"y\":[3.0],\"yaxis\":\"y\",\"type\":\"scatter\"},{\"hovertemplate\":\"Team=Man City<br>Matches played=33<br>Average goals scored last five games=%{x}<br>Average goals conceded last five games=%{y}<extra></extra>\",\"legendgroup\":\"Man City\",\"marker\":{\"color\":\"#9467BD\",\"opacity\":0.8,\"symbol\":\"circle\"},\"mode\":\"markers\",\"name\":\"Man City\",\"orientation\":\"v\",\"showlegend\":true,\"x\":[1.8],\"xaxis\":\"x\",\"y\":[0.4],\"yaxis\":\"y\",\"type\":\"scatter\"},{\"hovertemplate\":\"Team=Brighton<br>Matches played=33<br>Average goals scored last five games=%{x}<br>Average goals conceded last five games=%{y}<extra></extra>\",\"legendgroup\":\"Brighton\",\"marker\":{\"color\":\"#8C564B\",\"opacity\":0.8,\"symbol\":\"circle\"},\"mode\":\"markers\",\"name\":\"Brighton\",\"orientation\":\"v\",\"showlegend\":true,\"x\":[1.4],\"xaxis\":\"x\",\"y\":[1.4],\"yaxis\":\"y\",\"type\":\"scatter\"},{\"hovertemplate\":\"Team=Southampton<br>Matches played=33<br>Average goals scored last five games=%{x}<br>Average goals conceded last five games=%{y}<extra></extra>\",\"legendgroup\":\"Southampton\",\"marker\":{\"color\":\"#E377C2\",\"opacity\":0.8,\"symbol\":\"circle\"},\"mode\":\"markers\",\"name\":\"Southampton\",\"orientation\":\"v\",\"showlegend\":true,\"x\":[1.6],\"xaxis\":\"x\",\"y\":[2.4],\"yaxis\":\"y\",\"type\":\"scatter\"},{\"hovertemplate\":\"Team=Wolves<br>Matches played=33<br>Average goals scored last five games=%{x}<br>Average goals conceded last five games=%{y}<extra></extra>\",\"legendgroup\":\"Wolves\",\"marker\":{\"color\":\"#7F7F7F\",\"opacity\":0.8,\"symbol\":\"circle\"},\"mode\":\"markers\",\"name\":\"Wolves\",\"orientation\":\"v\",\"showlegend\":true,\"x\":[1.2],\"xaxis\":\"x\",\"y\":[0.8],\"yaxis\":\"y\",\"type\":\"scatter\"},{\"hovertemplate\":\"Team=Arsenal<br>Matches played=33<br>Average goals scored last five games=%{x}<br>Average goals conceded last five games=%{y}<extra></extra>\",\"legendgroup\":\"Arsenal\",\"marker\":{\"color\":\"#BCBD22\",\"opacity\":0.8,\"symbol\":\"circle\"},\"mode\":\"markers\",\"name\":\"Arsenal\",\"orientation\":\"v\",\"showlegend\":true,\"x\":[2.0],\"xaxis\":\"x\",\"y\":[1.0],\"yaxis\":\"y\",\"type\":\"scatter\"},{\"hovertemplate\":\"Team=West Ham<br>Matches played=33<br>Average goals scored last five games=%{x}<br>Average goals conceded last five games=%{y}<extra></extra>\",\"legendgroup\":\"West Ham\",\"marker\":{\"color\":\"#17BECF\",\"opacity\":0.8,\"symbol\":\"circle\"},\"mode\":\"markers\",\"name\":\"West Ham\",\"orientation\":\"v\",\"showlegend\":true,\"x\":[1.8],\"xaxis\":\"x\",\"y\":[1.4],\"yaxis\":\"y\",\"type\":\"scatter\"}],\"name\":\"33\"},{\"data\":[{\"hovertemplate\":\"Team=Brentford<br>Matches played=34<br>Average goals scored last five games=%{x}<br>Average goals conceded last five games=%{y}<extra></extra>\",\"legendgroup\":\"Brentford\",\"marker\":{\"color\":\"#1F77B4\",\"opacity\":0.8,\"symbol\":\"circle\"},\"mode\":\"markers\",\"name\":\"Brentford\",\"orientation\":\"v\",\"showlegend\":true,\"x\":[1.0],\"xaxis\":\"x\",\"y\":[2.0],\"yaxis\":\"y\",\"type\":\"scatter\"},{\"hovertemplate\":\"Team=Man United<br>Matches played=34<br>Average goals scored last five games=%{x}<br>Average goals conceded last five games=%{y}<extra></extra>\",\"legendgroup\":\"Man United\",\"marker\":{\"color\":\"#FF7F0E\",\"opacity\":0.8,\"symbol\":\"circle\"},\"mode\":\"markers\",\"name\":\"Man United\",\"orientation\":\"v\",\"showlegend\":true,\"x\":[1.8],\"xaxis\":\"x\",\"y\":[1.8],\"yaxis\":\"y\",\"type\":\"scatter\"},{\"hovertemplate\":\"Team=Burnley<br>Matches played=34<br>Average goals scored last five games=%{x}<br>Average goals conceded last five games=%{y}<extra></extra>\",\"legendgroup\":\"Burnley\",\"marker\":{\"color\":\"#2CA02C\",\"opacity\":0.8,\"symbol\":\"circle\"},\"mode\":\"markers\",\"name\":\"Burnley\",\"orientation\":\"v\",\"showlegend\":true,\"x\":[0.8],\"xaxis\":\"x\",\"y\":[1.0],\"yaxis\":\"y\",\"type\":\"scatter\"},{\"hovertemplate\":\"Team=Chelsea<br>Matches played=34<br>Average goals scored last five games=%{x}<br>Average goals conceded last five games=%{y}<extra></extra>\",\"legendgroup\":\"Chelsea\",\"marker\":{\"color\":\"#D62728\",\"opacity\":0.8,\"symbol\":\"circle\"},\"mode\":\"markers\",\"name\":\"Chelsea\",\"orientation\":\"v\",\"showlegend\":true,\"x\":[1.8],\"xaxis\":\"x\",\"y\":[0.6],\"yaxis\":\"y\",\"type\":\"scatter\"},{\"hovertemplate\":\"Team=Everton<br>Matches played=34<br>Average goals scored last five games=%{x}<br>Average goals conceded last five games=%{y}<extra></extra>\",\"legendgroup\":\"Everton\",\"marker\":{\"color\":\"#9467BD\",\"opacity\":0.8,\"symbol\":\"circle\"},\"mode\":\"markers\",\"name\":\"Everton\",\"orientation\":\"v\",\"showlegend\":true,\"x\":[0.8],\"xaxis\":\"x\",\"y\":[3.0],\"yaxis\":\"y\",\"type\":\"scatter\"},{\"hovertemplate\":\"Team=Leicester<br>Matches played=34<br>Average goals scored last five games=%{x}<br>Average goals conceded last five games=%{y}<extra></extra>\",\"legendgroup\":\"Leicester\",\"marker\":{\"color\":\"#8C564B\",\"opacity\":0.8,\"symbol\":\"circle\"},\"mode\":\"markers\",\"name\":\"Leicester\",\"orientation\":\"v\",\"showlegend\":true,\"x\":[1.0],\"xaxis\":\"x\",\"y\":[1.4],\"yaxis\":\"y\",\"type\":\"scatter\"},{\"hovertemplate\":\"Team=Watford<br>Matches played=34<br>Average goals scored last five games=%{x}<br>Average goals conceded last five games=%{y}<extra></extra>\",\"legendgroup\":\"Watford\",\"marker\":{\"color\":\"#E377C2\",\"opacity\":0.8,\"symbol\":\"circle\"},\"mode\":\"markers\",\"name\":\"Watford\",\"orientation\":\"v\",\"showlegend\":true,\"x\":[0.6],\"xaxis\":\"x\",\"y\":[1.2],\"yaxis\":\"y\",\"type\":\"scatter\"},{\"hovertemplate\":\"Team=Norwich<br>Matches played=34<br>Average goals scored last five games=%{x}<br>Average goals conceded last five games=%{y}<extra></extra>\",\"legendgroup\":\"Norwich\",\"marker\":{\"color\":\"#7F7F7F\",\"opacity\":0.8,\"symbol\":\"circle\"},\"mode\":\"markers\",\"name\":\"Norwich\",\"orientation\":\"v\",\"showlegend\":true,\"x\":[1.0],\"xaxis\":\"x\",\"y\":[1.4],\"yaxis\":\"y\",\"type\":\"scatter\"},{\"hovertemplate\":\"Team=Newcastle<br>Matches played=34<br>Average goals scored last five games=%{x}<br>Average goals conceded last five games=%{y}<extra></extra>\",\"legendgroup\":\"Newcastle\",\"marker\":{\"color\":\"#BCBD22\",\"opacity\":0.8,\"symbol\":\"circle\"},\"mode\":\"markers\",\"name\":\"Newcastle\",\"orientation\":\"v\",\"showlegend\":true,\"x\":[1.0],\"xaxis\":\"x\",\"y\":[0.8],\"yaxis\":\"y\",\"type\":\"scatter\"},{\"hovertemplate\":\"Team=Tottenham<br>Matches played=34<br>Average goals scored last five games=%{x}<br>Average goals conceded last five games=%{y}<extra></extra>\",\"legendgroup\":\"Tottenham\",\"marker\":{\"color\":\"#17BECF\",\"opacity\":0.8,\"symbol\":\"circle\"},\"mode\":\"markers\",\"name\":\"Tottenham\",\"orientation\":\"v\",\"showlegend\":true,\"x\":[2.2],\"xaxis\":\"x\",\"y\":[1.2],\"yaxis\":\"y\",\"type\":\"scatter\"},{\"hovertemplate\":\"Team=Liverpool<br>Matches played=34<br>Average goals scored last five games=%{x}<br>Average goals conceded last five games=%{y}<extra></extra>\",\"legendgroup\":\"Liverpool\",\"marker\":{\"color\":\"#1F77B4\",\"opacity\":0.8,\"symbol\":\"circle\"},\"mode\":\"markers\",\"name\":\"Liverpool\",\"orientation\":\"v\",\"showlegend\":true,\"x\":[2.0],\"xaxis\":\"x\",\"y\":[0.6],\"yaxis\":\"y\",\"type\":\"scatter\"},{\"hovertemplate\":\"Team=Aston Villa<br>Matches played=34<br>Average goals scored last five games=%{x}<br>Average goals conceded last five games=%{y}<extra></extra>\",\"legendgroup\":\"Aston Villa\",\"marker\":{\"color\":\"#FF7F0E\",\"opacity\":0.8,\"symbol\":\"circle\"},\"mode\":\"markers\",\"name\":\"Aston Villa\",\"orientation\":\"v\",\"showlegend\":true,\"x\":[1.4],\"xaxis\":\"x\",\"y\":[0.6],\"yaxis\":\"y\",\"type\":\"scatter\"},{\"hovertemplate\":\"Team=Crystal Palace<br>Matches played=34<br>Average goals scored last five games=%{x}<br>Average goals conceded last five games=%{y}<extra></extra>\",\"legendgroup\":\"Crystal Palace\",\"marker\":{\"color\":\"#2CA02C\",\"opacity\":0.8,\"symbol\":\"circle\"},\"mode\":\"markers\",\"name\":\"Crystal Palace\",\"orientation\":\"v\",\"showlegend\":true,\"x\":[1.6],\"xaxis\":\"x\",\"y\":[0.8],\"yaxis\":\"y\",\"type\":\"scatter\"},{\"hovertemplate\":\"Team=Leeds<br>Matches played=34<br>Average goals scored last five games=%{x}<br>Average goals conceded last five games=%{y}<extra></extra>\",\"legendgroup\":\"Leeds\",\"marker\":{\"color\":\"#D62728\",\"opacity\":0.8,\"symbol\":\"circle\"},\"mode\":\"markers\",\"name\":\"Leeds\",\"orientation\":\"v\",\"showlegend\":true,\"x\":[1.2],\"xaxis\":\"x\",\"y\":[3.0],\"yaxis\":\"y\",\"type\":\"scatter\"},{\"hovertemplate\":\"Team=Man City<br>Matches played=34<br>Average goals scored last five games=%{x}<br>Average goals conceded last five games=%{y}<extra></extra>\",\"legendgroup\":\"Man City\",\"marker\":{\"color\":\"#9467BD\",\"opacity\":0.8,\"symbol\":\"circle\"},\"mode\":\"markers\",\"name\":\"Man City\",\"orientation\":\"v\",\"showlegend\":true,\"x\":[1.6],\"xaxis\":\"x\",\"y\":[0.4],\"yaxis\":\"y\",\"type\":\"scatter\"},{\"hovertemplate\":\"Team=Brighton<br>Matches played=34<br>Average goals scored last five games=%{x}<br>Average goals conceded last five games=%{y}<extra></extra>\",\"legendgroup\":\"Brighton\",\"marker\":{\"color\":\"#8C564B\",\"opacity\":0.8,\"symbol\":\"circle\"},\"mode\":\"markers\",\"name\":\"Brighton\",\"orientation\":\"v\",\"showlegend\":true,\"x\":[1.2],\"xaxis\":\"x\",\"y\":[1.2],\"yaxis\":\"y\",\"type\":\"scatter\"},{\"hovertemplate\":\"Team=Southampton<br>Matches played=34<br>Average goals scored last five games=%{x}<br>Average goals conceded last five games=%{y}<extra></extra>\",\"legendgroup\":\"Southampton\",\"marker\":{\"color\":\"#E377C2\",\"opacity\":0.8,\"symbol\":\"circle\"},\"mode\":\"markers\",\"name\":\"Southampton\",\"orientation\":\"v\",\"showlegend\":true,\"x\":[1.2],\"xaxis\":\"x\",\"y\":[2.2],\"yaxis\":\"y\",\"type\":\"scatter\"},{\"hovertemplate\":\"Team=Wolves<br>Matches played=34<br>Average goals scored last five games=%{x}<br>Average goals conceded last five games=%{y}<extra></extra>\",\"legendgroup\":\"Wolves\",\"marker\":{\"color\":\"#7F7F7F\",\"opacity\":0.8,\"symbol\":\"circle\"},\"mode\":\"markers\",\"name\":\"Wolves\",\"orientation\":\"v\",\"showlegend\":true,\"x\":[1.2],\"xaxis\":\"x\",\"y\":[0.8],\"yaxis\":\"y\",\"type\":\"scatter\"},{\"hovertemplate\":\"Team=Arsenal<br>Matches played=34<br>Average goals scored last five games=%{x}<br>Average goals conceded last five games=%{y}<extra></extra>\",\"legendgroup\":\"Arsenal\",\"marker\":{\"color\":\"#BCBD22\",\"opacity\":0.8,\"symbol\":\"circle\"},\"mode\":\"markers\",\"name\":\"Arsenal\",\"orientation\":\"v\",\"showlegend\":true,\"x\":[1.0],\"xaxis\":\"x\",\"y\":[1.2],\"yaxis\":\"y\",\"type\":\"scatter\"},{\"hovertemplate\":\"Team=West Ham<br>Matches played=34<br>Average goals scored last five games=%{x}<br>Average goals conceded last five games=%{y}<extra></extra>\",\"legendgroup\":\"West Ham\",\"marker\":{\"color\":\"#17BECF\",\"opacity\":0.8,\"symbol\":\"circle\"},\"mode\":\"markers\",\"name\":\"West Ham\",\"orientation\":\"v\",\"showlegend\":true,\"x\":[1.2],\"xaxis\":\"x\",\"y\":[1.8],\"yaxis\":\"y\",\"type\":\"scatter\"}],\"name\":\"34\"},{\"data\":[{\"hovertemplate\":\"Team=Brentford<br>Matches played=35<br>Average goals scored last five games=%{x}<br>Average goals conceded last five games=%{y}<extra></extra>\",\"legendgroup\":\"Brentford\",\"marker\":{\"color\":\"#1F77B4\",\"opacity\":0.8,\"symbol\":\"circle\"},\"mode\":\"markers\",\"name\":\"Brentford\",\"orientation\":\"v\",\"showlegend\":true,\"x\":[1.8],\"xaxis\":\"x\",\"y\":[1.6],\"yaxis\":\"y\",\"type\":\"scatter\"},{\"hovertemplate\":\"Team=Man United<br>Matches played=35<br>Average goals scored last five games=%{x}<br>Average goals conceded last five games=%{y}<extra></extra>\",\"legendgroup\":\"Man United\",\"marker\":{\"color\":\"#FF7F0E\",\"opacity\":0.8,\"symbol\":\"circle\"},\"mode\":\"markers\",\"name\":\"Man United\",\"orientation\":\"v\",\"showlegend\":true,\"x\":[1.2],\"xaxis\":\"x\",\"y\":[2.4],\"yaxis\":\"y\",\"type\":\"scatter\"},{\"hovertemplate\":\"Team=Burnley<br>Matches played=35<br>Average goals scored last five games=%{x}<br>Average goals conceded last five games=%{y}<extra></extra>\",\"legendgroup\":\"Burnley\",\"marker\":{\"color\":\"#2CA02C\",\"opacity\":0.8,\"symbol\":\"circle\"},\"mode\":\"markers\",\"name\":\"Burnley\",\"orientation\":\"v\",\"showlegend\":true,\"x\":[1.0],\"xaxis\":\"x\",\"y\":[1.2],\"yaxis\":\"y\",\"type\":\"scatter\"},{\"hovertemplate\":\"Team=Chelsea<br>Matches played=35<br>Average goals scored last five games=%{x}<br>Average goals conceded last five games=%{y}<extra></extra>\",\"legendgroup\":\"Chelsea\",\"marker\":{\"color\":\"#D62728\",\"opacity\":0.8,\"symbol\":\"circle\"},\"mode\":\"markers\",\"name\":\"Chelsea\",\"orientation\":\"v\",\"showlegend\":true,\"x\":[3.0],\"xaxis\":\"x\",\"y\":[0.4],\"yaxis\":\"y\",\"type\":\"scatter\"},{\"hovertemplate\":\"Team=Everton<br>Matches played=35<br>Average goals scored last five games=%{x}<br>Average goals conceded last five games=%{y}<extra></extra>\",\"legendgroup\":\"Everton\",\"marker\":{\"color\":\"#9467BD\",\"opacity\":0.8,\"symbol\":\"circle\"},\"mode\":\"markers\",\"name\":\"Everton\",\"orientation\":\"v\",\"showlegend\":true,\"x\":[0.6],\"xaxis\":\"x\",\"y\":[2.8],\"yaxis\":\"y\",\"type\":\"scatter\"},{\"hovertemplate\":\"Team=Leicester<br>Matches played=35<br>Average goals scored last five games=%{x}<br>Average goals conceded last five games=%{y}<extra></extra>\",\"legendgroup\":\"Leicester\",\"marker\":{\"color\":\"#8C564B\",\"opacity\":0.8,\"symbol\":\"circle\"},\"mode\":\"markers\",\"name\":\"Leicester\",\"orientation\":\"v\",\"showlegend\":true,\"x\":[1.0],\"xaxis\":\"x\",\"y\":[1.2],\"yaxis\":\"y\",\"type\":\"scatter\"},{\"hovertemplate\":\"Team=Watford<br>Matches played=35<br>Average goals scored last five games=%{x}<br>Average goals conceded last five games=%{y}<extra></extra>\",\"legendgroup\":\"Watford\",\"marker\":{\"color\":\"#E377C2\",\"opacity\":0.8,\"symbol\":\"circle\"},\"mode\":\"markers\",\"name\":\"Watford\",\"orientation\":\"v\",\"showlegend\":true,\"x\":[0.6],\"xaxis\":\"x\",\"y\":[1.4],\"yaxis\":\"y\",\"type\":\"scatter\"},{\"hovertemplate\":\"Team=Norwich<br>Matches played=35<br>Average goals scored last five games=%{x}<br>Average goals conceded last five games=%{y}<extra></extra>\",\"legendgroup\":\"Norwich\",\"marker\":{\"color\":\"#7F7F7F\",\"opacity\":0.8,\"symbol\":\"circle\"},\"mode\":\"markers\",\"name\":\"Norwich\",\"orientation\":\"v\",\"showlegend\":true,\"x\":[0.8],\"xaxis\":\"x\",\"y\":[2.0],\"yaxis\":\"y\",\"type\":\"scatter\"},{\"hovertemplate\":\"Team=Newcastle<br>Matches played=35<br>Average goals scored last five games=%{x}<br>Average goals conceded last five games=%{y}<extra></extra>\",\"legendgroup\":\"Newcastle\",\"marker\":{\"color\":\"#BCBD22\",\"opacity\":0.8,\"symbol\":\"circle\"},\"mode\":\"markers\",\"name\":\"Newcastle\",\"orientation\":\"v\",\"showlegend\":true,\"x\":[1.0],\"xaxis\":\"x\",\"y\":[1.6],\"yaxis\":\"y\",\"type\":\"scatter\"},{\"hovertemplate\":\"Team=Tottenham<br>Matches played=35<br>Average goals scored last five games=%{x}<br>Average goals conceded last five games=%{y}<extra></extra>\",\"legendgroup\":\"Tottenham\",\"marker\":{\"color\":\"#17BECF\",\"opacity\":0.8,\"symbol\":\"circle\"},\"mode\":\"markers\",\"name\":\"Tottenham\",\"orientation\":\"v\",\"showlegend\":true,\"x\":[2.4],\"xaxis\":\"x\",\"y\":[0.8],\"yaxis\":\"y\",\"type\":\"scatter\"},{\"hovertemplate\":\"Team=Liverpool<br>Matches played=35<br>Average goals scored last five games=%{x}<br>Average goals conceded last five games=%{y}<extra></extra>\",\"legendgroup\":\"Liverpool\",\"marker\":{\"color\":\"#1F77B4\",\"opacity\":0.8,\"symbol\":\"circle\"},\"mode\":\"markers\",\"name\":\"Liverpool\",\"orientation\":\"v\",\"showlegend\":true,\"x\":[2.0],\"xaxis\":\"x\",\"y\":[0.6],\"yaxis\":\"y\",\"type\":\"scatter\"},{\"hovertemplate\":\"Team=Aston Villa<br>Matches played=35<br>Average goals scored last five games=%{x}<br>Average goals conceded last five games=%{y}<extra></extra>\",\"legendgroup\":\"Aston Villa\",\"marker\":{\"color\":\"#FF7F0E\",\"opacity\":0.8,\"symbol\":\"circle\"},\"mode\":\"markers\",\"name\":\"Aston Villa\",\"orientation\":\"v\",\"showlegend\":true,\"x\":[1.4],\"xaxis\":\"x\",\"y\":[1.0],\"yaxis\":\"y\",\"type\":\"scatter\"},{\"hovertemplate\":\"Team=Crystal Palace<br>Matches played=35<br>Average goals scored last five games=%{x}<br>Average goals conceded last five games=%{y}<extra></extra>\",\"legendgroup\":\"Crystal Palace\",\"marker\":{\"color\":\"#2CA02C\",\"opacity\":0.8,\"symbol\":\"circle\"},\"mode\":\"markers\",\"name\":\"Crystal Palace\",\"orientation\":\"v\",\"showlegend\":true,\"x\":[1.4],\"xaxis\":\"x\",\"y\":[0.8],\"yaxis\":\"y\",\"type\":\"scatter\"},{\"hovertemplate\":\"Team=Leeds<br>Matches played=35<br>Average goals scored last five games=%{x}<br>Average goals conceded last five games=%{y}<extra></extra>\",\"legendgroup\":\"Leeds\",\"marker\":{\"color\":\"#D62728\",\"opacity\":0.8,\"symbol\":\"circle\"},\"mode\":\"markers\",\"name\":\"Leeds\",\"orientation\":\"v\",\"showlegend\":true,\"x\":[1.2],\"xaxis\":\"x\",\"y\":[2.4],\"yaxis\":\"y\",\"type\":\"scatter\"},{\"hovertemplate\":\"Team=Man City<br>Matches played=35<br>Average goals scored last five games=%{x}<br>Average goals conceded last five games=%{y}<extra></extra>\",\"legendgroup\":\"Man City\",\"marker\":{\"color\":\"#9467BD\",\"opacity\":0.8,\"symbol\":\"circle\"},\"mode\":\"markers\",\"name\":\"Man City\",\"orientation\":\"v\",\"showlegend\":true,\"x\":[1.6],\"xaxis\":\"x\",\"y\":[0.2],\"yaxis\":\"y\",\"type\":\"scatter\"},{\"hovertemplate\":\"Team=Brighton<br>Matches played=35<br>Average goals scored last five games=%{x}<br>Average goals conceded last five games=%{y}<extra></extra>\",\"legendgroup\":\"Brighton\",\"marker\":{\"color\":\"#8C564B\",\"opacity\":0.8,\"symbol\":\"circle\"},\"mode\":\"markers\",\"name\":\"Brighton\",\"orientation\":\"v\",\"showlegend\":true,\"x\":[1.2],\"xaxis\":\"x\",\"y\":[1.0],\"yaxis\":\"y\",\"type\":\"scatter\"},{\"hovertemplate\":\"Team=Southampton<br>Matches played=35<br>Average goals scored last five games=%{x}<br>Average goals conceded last five games=%{y}<extra></extra>\",\"legendgroup\":\"Southampton\",\"marker\":{\"color\":\"#E377C2\",\"opacity\":0.8,\"symbol\":\"circle\"},\"mode\":\"markers\",\"name\":\"Southampton\",\"orientation\":\"v\",\"showlegend\":true,\"x\":[1.0],\"xaxis\":\"x\",\"y\":[2.0],\"yaxis\":\"y\",\"type\":\"scatter\"},{\"hovertemplate\":\"Team=Wolves<br>Matches played=35<br>Average goals scored last five games=%{x}<br>Average goals conceded last five games=%{y}<extra></extra>\",\"legendgroup\":\"Wolves\",\"marker\":{\"color\":\"#7F7F7F\",\"opacity\":0.8,\"symbol\":\"circle\"},\"mode\":\"markers\",\"name\":\"Wolves\",\"orientation\":\"v\",\"showlegend\":true,\"x\":[0.8],\"xaxis\":\"x\",\"y\":[0.8],\"yaxis\":\"y\",\"type\":\"scatter\"},{\"hovertemplate\":\"Team=Arsenal<br>Matches played=35<br>Average goals scored last five games=%{x}<br>Average goals conceded last five games=%{y}<extra></extra>\",\"legendgroup\":\"Arsenal\",\"marker\":{\"color\":\"#BCBD22\",\"opacity\":0.8,\"symbol\":\"circle\"},\"mode\":\"markers\",\"name\":\"Arsenal\",\"orientation\":\"v\",\"showlegend\":true,\"x\":[1.6],\"xaxis\":\"x\",\"y\":[1.6],\"yaxis\":\"y\",\"type\":\"scatter\"},{\"hovertemplate\":\"Team=West Ham<br>Matches played=35<br>Average goals scored last five games=%{x}<br>Average goals conceded last five games=%{y}<extra></extra>\",\"legendgroup\":\"West Ham\",\"marker\":{\"color\":\"#17BECF\",\"opacity\":0.8,\"symbol\":\"circle\"},\"mode\":\"markers\",\"name\":\"West Ham\",\"orientation\":\"v\",\"showlegend\":true,\"x\":[0.6],\"xaxis\":\"x\",\"y\":[1.8],\"yaxis\":\"y\",\"type\":\"scatter\"}],\"name\":\"35\"},{\"data\":[{\"hovertemplate\":\"Team=Brentford<br>Matches played=36<br>Average goals scored last five games=%{x}<br>Average goals conceded last five games=%{y}<extra></extra>\",\"legendgroup\":\"Brentford\",\"marker\":{\"color\":\"#1F77B4\",\"opacity\":0.8,\"symbol\":\"circle\"},\"mode\":\"markers\",\"name\":\"Brentford\",\"orientation\":\"v\",\"showlegend\":true,\"x\":[2.2],\"xaxis\":\"x\",\"y\":[1.4],\"yaxis\":\"y\",\"type\":\"scatter\"},{\"hovertemplate\":\"Team=Man United<br>Matches played=36<br>Average goals scored last five games=%{x}<br>Average goals conceded last five games=%{y}<extra></extra>\",\"legendgroup\":\"Man United\",\"marker\":{\"color\":\"#FF7F0E\",\"opacity\":0.8,\"symbol\":\"circle\"},\"mode\":\"markers\",\"name\":\"Man United\",\"orientation\":\"v\",\"showlegend\":true,\"x\":[1.2],\"xaxis\":\"x\",\"y\":[2.8],\"yaxis\":\"y\",\"type\":\"scatter\"},{\"hovertemplate\":\"Team=Burnley<br>Matches played=36<br>Average goals scored last five games=%{x}<br>Average goals conceded last five games=%{y}<extra></extra>\",\"legendgroup\":\"Burnley\",\"marker\":{\"color\":\"#2CA02C\",\"opacity\":0.8,\"symbol\":\"circle\"},\"mode\":\"markers\",\"name\":\"Burnley\",\"orientation\":\"v\",\"showlegend\":true,\"x\":[0.8],\"xaxis\":\"x\",\"y\":[1.4],\"yaxis\":\"y\",\"type\":\"scatter\"},{\"hovertemplate\":\"Team=Chelsea<br>Matches played=36<br>Average goals scored last five games=%{x}<br>Average goals conceded last five games=%{y}<extra></extra>\",\"legendgroup\":\"Chelsea\",\"marker\":{\"color\":\"#D62728\",\"opacity\":0.8,\"symbol\":\"circle\"},\"mode\":\"markers\",\"name\":\"Chelsea\",\"orientation\":\"v\",\"showlegend\":true,\"x\":[3.0],\"xaxis\":\"x\",\"y\":[0.4],\"yaxis\":\"y\",\"type\":\"scatter\"},{\"hovertemplate\":\"Team=Everton<br>Matches played=36<br>Average goals scored last five games=%{x}<br>Average goals conceded last five games=%{y}<extra></extra>\",\"legendgroup\":\"Everton\",\"marker\":{\"color\":\"#9467BD\",\"opacity\":0.8,\"symbol\":\"circle\"},\"mode\":\"markers\",\"name\":\"Everton\",\"orientation\":\"v\",\"showlegend\":true,\"x\":[1.0],\"xaxis\":\"x\",\"y\":[2.6],\"yaxis\":\"y\",\"type\":\"scatter\"},{\"hovertemplate\":\"Team=Leicester<br>Matches played=36<br>Average goals scored last five games=%{x}<br>Average goals conceded last five games=%{y}<extra></extra>\",\"legendgroup\":\"Leicester\",\"marker\":{\"color\":\"#8C564B\",\"opacity\":0.8,\"symbol\":\"circle\"},\"mode\":\"markers\",\"name\":\"Leicester\",\"orientation\":\"v\",\"showlegend\":true,\"x\":[0.8],\"xaxis\":\"x\",\"y\":[1.8],\"yaxis\":\"y\",\"type\":\"scatter\"},{\"hovertemplate\":\"Team=Watford<br>Matches played=36<br>Average goals scored last five games=%{x}<br>Average goals conceded last five games=%{y}<extra></extra>\",\"legendgroup\":\"Watford\",\"marker\":{\"color\":\"#E377C2\",\"opacity\":0.8,\"symbol\":\"circle\"},\"mode\":\"markers\",\"name\":\"Watford\",\"orientation\":\"v\",\"showlegend\":true,\"x\":[0.6],\"xaxis\":\"x\",\"y\":[2.4],\"yaxis\":\"y\",\"type\":\"scatter\"},{\"hovertemplate\":\"Team=Norwich<br>Matches played=36<br>Average goals scored last five games=%{x}<br>Average goals conceded last five games=%{y}<extra></extra>\",\"legendgroup\":\"Norwich\",\"marker\":{\"color\":\"#7F7F7F\",\"opacity\":0.8,\"symbol\":\"circle\"},\"mode\":\"markers\",\"name\":\"Norwich\",\"orientation\":\"v\",\"showlegend\":true,\"x\":[0.6],\"xaxis\":\"x\",\"y\":[1.8],\"yaxis\":\"y\",\"type\":\"scatter\"},{\"hovertemplate\":\"Team=Newcastle<br>Matches played=36<br>Average goals scored last five games=%{x}<br>Average goals conceded last five games=%{y}<extra></extra>\",\"legendgroup\":\"Newcastle\",\"marker\":{\"color\":\"#BCBD22\",\"opacity\":0.8,\"symbol\":\"circle\"},\"mode\":\"markers\",\"name\":\"Newcastle\",\"orientation\":\"v\",\"showlegend\":true,\"x\":[1.2],\"xaxis\":\"x\",\"y\":[1.6],\"yaxis\":\"y\",\"type\":\"scatter\"},{\"hovertemplate\":\"Team=Tottenham<br>Matches played=36<br>Average goals scored last five games=%{x}<br>Average goals conceded last five games=%{y}<extra></extra>\",\"legendgroup\":\"Tottenham\",\"marker\":{\"color\":\"#17BECF\",\"opacity\":0.8,\"symbol\":\"circle\"},\"mode\":\"markers\",\"name\":\"Tottenham\",\"orientation\":\"v\",\"showlegend\":true,\"x\":[2.4],\"xaxis\":\"x\",\"y\":[0.6],\"yaxis\":\"y\",\"type\":\"scatter\"},{\"hovertemplate\":\"Team=Liverpool<br>Matches played=36<br>Average goals scored last five games=%{x}<br>Average goals conceded last five games=%{y}<extra></extra>\",\"legendgroup\":\"Liverpool\",\"marker\":{\"color\":\"#1F77B4\",\"opacity\":0.8,\"symbol\":\"circle\"},\"mode\":\"markers\",\"name\":\"Liverpool\",\"orientation\":\"v\",\"showlegend\":true,\"x\":[1.6],\"xaxis\":\"x\",\"y\":[0.4],\"yaxis\":\"y\",\"type\":\"scatter\"},{\"hovertemplate\":\"Team=Aston Villa<br>Matches played=36<br>Average goals scored last five games=%{x}<br>Average goals conceded last five games=%{y}<extra></extra>\",\"legendgroup\":\"Aston Villa\",\"marker\":{\"color\":\"#FF7F0E\",\"opacity\":0.8,\"symbol\":\"circle\"},\"mode\":\"markers\",\"name\":\"Aston Villa\",\"orientation\":\"v\",\"showlegend\":true,\"x\":[1.4],\"xaxis\":\"x\",\"y\":[0.8],\"yaxis\":\"y\",\"type\":\"scatter\"},{\"hovertemplate\":\"Team=Crystal Palace<br>Matches played=36<br>Average goals scored last five games=%{x}<br>Average goals conceded last five games=%{y}<extra></extra>\",\"legendgroup\":\"Crystal Palace\",\"marker\":{\"color\":\"#2CA02C\",\"opacity\":0.8,\"symbol\":\"circle\"},\"mode\":\"markers\",\"name\":\"Crystal Palace\",\"orientation\":\"v\",\"showlegend\":true,\"x\":[1.8],\"xaxis\":\"x\",\"y\":[1.0],\"yaxis\":\"y\",\"type\":\"scatter\"},{\"hovertemplate\":\"Team=Leeds<br>Matches played=36<br>Average goals scored last five games=%{x}<br>Average goals conceded last five games=%{y}<extra></extra>\",\"legendgroup\":\"Leeds\",\"marker\":{\"color\":\"#D62728\",\"opacity\":0.8,\"symbol\":\"circle\"},\"mode\":\"markers\",\"name\":\"Leeds\",\"orientation\":\"v\",\"showlegend\":true,\"x\":[1.2],\"xaxis\":\"x\",\"y\":[1.8],\"yaxis\":\"y\",\"type\":\"scatter\"},{\"hovertemplate\":\"Team=Man City<br>Matches played=36<br>Average goals scored last five games=%{x}<br>Average goals conceded last five games=%{y}<extra></extra>\",\"legendgroup\":\"Man City\",\"marker\":{\"color\":\"#9467BD\",\"opacity\":0.8,\"symbol\":\"circle\"},\"mode\":\"markers\",\"name\":\"Man City\",\"orientation\":\"v\",\"showlegend\":true,\"x\":[2.2],\"xaxis\":\"x\",\"y\":[0.0],\"yaxis\":\"y\",\"type\":\"scatter\"},{\"hovertemplate\":\"Team=Brighton<br>Matches played=36<br>Average goals scored last five games=%{x}<br>Average goals conceded last five games=%{y}<extra></extra>\",\"legendgroup\":\"Brighton\",\"marker\":{\"color\":\"#8C564B\",\"opacity\":0.8,\"symbol\":\"circle\"},\"mode\":\"markers\",\"name\":\"Brighton\",\"orientation\":\"v\",\"showlegend\":true,\"x\":[0.8],\"xaxis\":\"x\",\"y\":[1.6],\"yaxis\":\"y\",\"type\":\"scatter\"},{\"hovertemplate\":\"Team=Southampton<br>Matches played=36<br>Average goals scored last five games=%{x}<br>Average goals conceded last five games=%{y}<extra></extra>\",\"legendgroup\":\"Southampton\",\"marker\":{\"color\":\"#E377C2\",\"opacity\":0.8,\"symbol\":\"circle\"},\"mode\":\"markers\",\"name\":\"Southampton\",\"orientation\":\"v\",\"showlegend\":true,\"x\":[0.8],\"xaxis\":\"x\",\"y\":[2.0],\"yaxis\":\"y\",\"type\":\"scatter\"},{\"hovertemplate\":\"Team=Wolves<br>Matches played=36<br>Average goals scored last five games=%{x}<br>Average goals conceded last five games=%{y}<extra></extra>\",\"legendgroup\":\"Wolves\",\"marker\":{\"color\":\"#7F7F7F\",\"opacity\":0.8,\"symbol\":\"circle\"},\"mode\":\"markers\",\"name\":\"Wolves\",\"orientation\":\"v\",\"showlegend\":true,\"x\":[0.4],\"xaxis\":\"x\",\"y\":[1.0],\"yaxis\":\"y\",\"type\":\"scatter\"},{\"hovertemplate\":\"Team=Arsenal<br>Matches played=36<br>Average goals scored last five games=%{x}<br>Average goals conceded last five games=%{y}<extra></extra>\",\"legendgroup\":\"Arsenal\",\"marker\":{\"color\":\"#BCBD22\",\"opacity\":0.8,\"symbol\":\"circle\"},\"mode\":\"markers\",\"name\":\"Arsenal\",\"orientation\":\"v\",\"showlegend\":true,\"x\":[1.4],\"xaxis\":\"x\",\"y\":[1.4],\"yaxis\":\"y\",\"type\":\"scatter\"},{\"hovertemplate\":\"Team=West Ham<br>Matches played=36<br>Average goals scored last five games=%{x}<br>Average goals conceded last five games=%{y}<extra></extra>\",\"legendgroup\":\"West Ham\",\"marker\":{\"color\":\"#17BECF\",\"opacity\":0.8,\"symbol\":\"circle\"},\"mode\":\"markers\",\"name\":\"West Ham\",\"orientation\":\"v\",\"showlegend\":true,\"x\":[0.6],\"xaxis\":\"x\",\"y\":[1.8],\"yaxis\":\"y\",\"type\":\"scatter\"}],\"name\":\"36\"},{\"data\":[{\"hovertemplate\":\"Team=Brentford<br>Matches played=37<br>Average goals scored last five games=%{x}<br>Average goals conceded last five games=%{y}<extra></extra>\",\"legendgroup\":\"Brentford\",\"marker\":{\"color\":\"#1F77B4\",\"opacity\":0.8,\"symbol\":\"circle\"},\"mode\":\"markers\",\"name\":\"Brentford\",\"orientation\":\"v\",\"showlegend\":true,\"x\":[2.0],\"xaxis\":\"x\",\"y\":[1.6],\"yaxis\":\"y\",\"type\":\"scatter\"},{\"hovertemplate\":\"Team=Man United<br>Matches played=37<br>Average goals scored last five games=%{x}<br>Average goals conceded last five games=%{y}<extra></extra>\",\"legendgroup\":\"Man United\",\"marker\":{\"color\":\"#FF7F0E\",\"opacity\":0.8,\"symbol\":\"circle\"},\"mode\":\"markers\",\"name\":\"Man United\",\"orientation\":\"v\",\"showlegend\":true,\"x\":[0.4],\"xaxis\":\"x\",\"y\":[3.2],\"yaxis\":\"y\",\"type\":\"scatter\"},{\"hovertemplate\":\"Team=Burnley<br>Matches played=37<br>Average goals scored last five games=%{x}<br>Average goals conceded last five games=%{y}<extra></extra>\",\"legendgroup\":\"Burnley\",\"marker\":{\"color\":\"#2CA02C\",\"opacity\":0.8,\"symbol\":\"circle\"},\"mode\":\"markers\",\"name\":\"Burnley\",\"orientation\":\"v\",\"showlegend\":true,\"x\":[0.6],\"xaxis\":\"x\",\"y\":[1.4],\"yaxis\":\"y\",\"type\":\"scatter\"},{\"hovertemplate\":\"Team=Chelsea<br>Matches played=37<br>Average goals scored last five games=%{x}<br>Average goals conceded last five games=%{y}<extra></extra>\",\"legendgroup\":\"Chelsea\",\"marker\":{\"color\":\"#D62728\",\"opacity\":0.8,\"symbol\":\"circle\"},\"mode\":\"markers\",\"name\":\"Chelsea\",\"orientation\":\"v\",\"showlegend\":true,\"x\":[2.8],\"xaxis\":\"x\",\"y\":[0.6],\"yaxis\":\"y\",\"type\":\"scatter\"},{\"hovertemplate\":\"Team=Everton<br>Matches played=37<br>Average goals scored last five games=%{x}<br>Average goals conceded last five games=%{y}<extra></extra>\",\"legendgroup\":\"Everton\",\"marker\":{\"color\":\"#9467BD\",\"opacity\":0.8,\"symbol\":\"circle\"},\"mode\":\"markers\",\"name\":\"Everton\",\"orientation\":\"v\",\"showlegend\":true,\"x\":[1.0],\"xaxis\":\"x\",\"y\":[1.6],\"yaxis\":\"y\",\"type\":\"scatter\"},{\"hovertemplate\":\"Team=Leicester<br>Matches played=37<br>Average goals scored last five games=%{x}<br>Average goals conceded last five games=%{y}<extra></extra>\",\"legendgroup\":\"Leicester\",\"marker\":{\"color\":\"#8C564B\",\"opacity\":0.8,\"symbol\":\"circle\"},\"mode\":\"markers\",\"name\":\"Leicester\",\"orientation\":\"v\",\"showlegend\":true,\"x\":[1.8],\"xaxis\":\"x\",\"y\":[1.6],\"yaxis\":\"y\",\"type\":\"scatter\"},{\"hovertemplate\":\"Team=Watford<br>Matches played=37<br>Average goals scored last five games=%{x}<br>Average goals conceded last five games=%{y}<extra></extra>\",\"legendgroup\":\"Watford\",\"marker\":{\"color\":\"#E377C2\",\"opacity\":0.8,\"symbol\":\"circle\"},\"mode\":\"markers\",\"name\":\"Watford\",\"orientation\":\"v\",\"showlegend\":true,\"x\":[0.6],\"xaxis\":\"x\",\"y\":[2.6],\"yaxis\":\"y\",\"type\":\"scatter\"},{\"hovertemplate\":\"Team=Norwich<br>Matches played=37<br>Average goals scored last five games=%{x}<br>Average goals conceded last five games=%{y}<extra></extra>\",\"legendgroup\":\"Norwich\",\"marker\":{\"color\":\"#7F7F7F\",\"opacity\":0.8,\"symbol\":\"circle\"},\"mode\":\"markers\",\"name\":\"Norwich\",\"orientation\":\"v\",\"showlegend\":true,\"x\":[0.6],\"xaxis\":\"x\",\"y\":[2.0],\"yaxis\":\"y\",\"type\":\"scatter\"},{\"hovertemplate\":\"Team=Newcastle<br>Matches played=37<br>Average goals scored last five games=%{x}<br>Average goals conceded last five games=%{y}<extra></extra>\",\"legendgroup\":\"Newcastle\",\"marker\":{\"color\":\"#BCBD22\",\"opacity\":0.8,\"symbol\":\"circle\"},\"mode\":\"markers\",\"name\":\"Newcastle\",\"orientation\":\"v\",\"showlegend\":true,\"x\":[0.8],\"xaxis\":\"x\",\"y\":[2.4],\"yaxis\":\"y\",\"type\":\"scatter\"},{\"hovertemplate\":\"Team=Tottenham<br>Matches played=37<br>Average goals scored last five games=%{x}<br>Average goals conceded last five games=%{y}<extra></extra>\",\"legendgroup\":\"Tottenham\",\"marker\":{\"color\":\"#17BECF\",\"opacity\":0.8,\"symbol\":\"circle\"},\"mode\":\"markers\",\"name\":\"Tottenham\",\"orientation\":\"v\",\"showlegend\":true,\"x\":[1.8],\"xaxis\":\"x\",\"y\":[0.8],\"yaxis\":\"y\",\"type\":\"scatter\"},{\"hovertemplate\":\"Team=Liverpool<br>Matches played=37<br>Average goals scored last five games=%{x}<br>Average goals conceded last five games=%{y}<extra></extra>\",\"legendgroup\":\"Liverpool\",\"marker\":{\"color\":\"#1F77B4\",\"opacity\":0.8,\"symbol\":\"circle\"},\"mode\":\"markers\",\"name\":\"Liverpool\",\"orientation\":\"v\",\"showlegend\":true,\"x\":[1.8],\"xaxis\":\"x\",\"y\":[0.6],\"yaxis\":\"y\",\"type\":\"scatter\"},{\"hovertemplate\":\"Team=Aston Villa<br>Matches played=37<br>Average goals scored last five games=%{x}<br>Average goals conceded last five games=%{y}<extra></extra>\",\"legendgroup\":\"Aston Villa\",\"marker\":{\"color\":\"#FF7F0E\",\"opacity\":0.8,\"symbol\":\"circle\"},\"mode\":\"markers\",\"name\":\"Aston Villa\",\"orientation\":\"v\",\"showlegend\":true,\"x\":[1.6],\"xaxis\":\"x\",\"y\":[1.0],\"yaxis\":\"y\",\"type\":\"scatter\"},{\"hovertemplate\":\"Team=Crystal Palace<br>Matches played=37<br>Average goals scored last five games=%{x}<br>Average goals conceded last five games=%{y}<extra></extra>\",\"legendgroup\":\"Crystal Palace\",\"marker\":{\"color\":\"#2CA02C\",\"opacity\":0.8,\"symbol\":\"circle\"},\"mode\":\"markers\",\"name\":\"Crystal Palace\",\"orientation\":\"v\",\"showlegend\":true,\"x\":[1.2],\"xaxis\":\"x\",\"y\":[1.0],\"yaxis\":\"y\",\"type\":\"scatter\"},{\"hovertemplate\":\"Team=Leeds<br>Matches played=37<br>Average goals scored last five games=%{x}<br>Average goals conceded last five games=%{y}<extra></extra>\",\"legendgroup\":\"Leeds\",\"marker\":{\"color\":\"#D62728\",\"opacity\":0.8,\"symbol\":\"circle\"},\"mode\":\"markers\",\"name\":\"Leeds\",\"orientation\":\"v\",\"showlegend\":true,\"x\":[1.4],\"xaxis\":\"x\",\"y\":[1.0],\"yaxis\":\"y\",\"type\":\"scatter\"},{\"hovertemplate\":\"Team=Man City<br>Matches played=37<br>Average goals scored last five games=%{x}<br>Average goals conceded last five games=%{y}<extra></extra>\",\"legendgroup\":\"Man City\",\"marker\":{\"color\":\"#9467BD\",\"opacity\":0.8,\"symbol\":\"circle\"},\"mode\":\"markers\",\"name\":\"Man City\",\"orientation\":\"v\",\"showlegend\":true,\"x\":[2.4],\"xaxis\":\"x\",\"y\":[0.2],\"yaxis\":\"y\",\"type\":\"scatter\"},{\"hovertemplate\":\"Team=Brighton<br>Matches played=37<br>Average goals scored last five games=%{x}<br>Average goals conceded last five games=%{y}<extra></extra>\",\"legendgroup\":\"Brighton\",\"marker\":{\"color\":\"#8C564B\",\"opacity\":0.8,\"symbol\":\"circle\"},\"mode\":\"markers\",\"name\":\"Brighton\",\"orientation\":\"v\",\"showlegend\":true,\"x\":[1.4],\"xaxis\":\"x\",\"y\":[1.2],\"yaxis\":\"y\",\"type\":\"scatter\"},{\"hovertemplate\":\"Team=Southampton<br>Matches played=37<br>Average goals scored last five games=%{x}<br>Average goals conceded last five games=%{y}<extra></extra>\",\"legendgroup\":\"Southampton\",\"marker\":{\"color\":\"#E377C2\",\"opacity\":0.8,\"symbol\":\"circle\"},\"mode\":\"markers\",\"name\":\"Southampton\",\"orientation\":\"v\",\"showlegend\":true,\"x\":[0.6],\"xaxis\":\"x\",\"y\":[2.4],\"yaxis\":\"y\",\"type\":\"scatter\"},{\"hovertemplate\":\"Team=Wolves<br>Matches played=37<br>Average goals scored last five games=%{x}<br>Average goals conceded last five games=%{y}<extra></extra>\",\"legendgroup\":\"Wolves\",\"marker\":{\"color\":\"#7F7F7F\",\"opacity\":0.8,\"symbol\":\"circle\"},\"mode\":\"markers\",\"name\":\"Wolves\",\"orientation\":\"v\",\"showlegend\":true,\"x\":[0.6],\"xaxis\":\"x\",\"y\":[1.0],\"yaxis\":\"y\",\"type\":\"scatter\"},{\"hovertemplate\":\"Team=Arsenal<br>Matches played=37<br>Average goals scored last five games=%{x}<br>Average goals conceded last five games=%{y}<extra></extra>\",\"legendgroup\":\"Arsenal\",\"marker\":{\"color\":\"#BCBD22\",\"opacity\":0.8,\"symbol\":\"circle\"},\"mode\":\"markers\",\"name\":\"Arsenal\",\"orientation\":\"v\",\"showlegend\":true,\"x\":[1.2],\"xaxis\":\"x\",\"y\":[2.0],\"yaxis\":\"y\",\"type\":\"scatter\"},{\"hovertemplate\":\"Team=West Ham<br>Matches played=37<br>Average goals scored last five games=%{x}<br>Average goals conceded last five games=%{y}<extra></extra>\",\"legendgroup\":\"West Ham\",\"marker\":{\"color\":\"#17BECF\",\"opacity\":0.8,\"symbol\":\"circle\"},\"mode\":\"markers\",\"name\":\"West Ham\",\"orientation\":\"v\",\"showlegend\":true,\"x\":[1.0],\"xaxis\":\"x\",\"y\":[1.4],\"yaxis\":\"y\",\"type\":\"scatter\"}],\"name\":\"37\"},{\"data\":[{\"hovertemplate\":\"Team=Brentford<br>Matches played=38<br>Average goals scored last five games=%{x}<br>Average goals conceded last five games=%{y}<extra></extra>\",\"legendgroup\":\"Brentford\",\"marker\":{\"color\":\"#1F77B4\",\"opacity\":0.8,\"symbol\":\"circle\"},\"mode\":\"markers\",\"name\":\"Brentford\",\"orientation\":\"v\",\"showlegend\":true,\"x\":[2.0],\"xaxis\":\"x\",\"y\":[1.8],\"yaxis\":\"y\",\"type\":\"scatter\"},{\"hovertemplate\":\"Team=Man United<br>Matches played=38<br>Average goals scored last five games=%{x}<br>Average goals conceded last five games=%{y}<extra></extra>\",\"legendgroup\":\"Man United\",\"marker\":{\"color\":\"#FF7F0E\",\"opacity\":0.8,\"symbol\":\"circle\"},\"mode\":\"markers\",\"name\":\"Man United\",\"orientation\":\"v\",\"showlegend\":true,\"x\":[0.2],\"xaxis\":\"x\",\"y\":[2.6],\"yaxis\":\"y\",\"type\":\"scatter\"},{\"hovertemplate\":\"Team=Burnley<br>Matches played=38<br>Average goals scored last five games=%{x}<br>Average goals conceded last five games=%{y}<extra></extra>\",\"legendgroup\":\"Burnley\",\"marker\":{\"color\":\"#2CA02C\",\"opacity\":0.8,\"symbol\":\"circle\"},\"mode\":\"markers\",\"name\":\"Burnley\",\"orientation\":\"v\",\"showlegend\":true,\"x\":[0.8],\"xaxis\":\"x\",\"y\":[1.2],\"yaxis\":\"y\",\"type\":\"scatter\"},{\"hovertemplate\":\"Team=Chelsea<br>Matches played=38<br>Average goals scored last five games=%{x}<br>Average goals conceded last five games=%{y}<extra></extra>\",\"legendgroup\":\"Chelsea\",\"marker\":{\"color\":\"#D62728\",\"opacity\":0.8,\"symbol\":\"circle\"},\"mode\":\"markers\",\"name\":\"Chelsea\",\"orientation\":\"v\",\"showlegend\":true,\"x\":[2.6],\"xaxis\":\"x\",\"y\":[0.6],\"yaxis\":\"y\",\"type\":\"scatter\"},{\"hovertemplate\":\"Team=Everton<br>Matches played=38<br>Average goals scored last five games=%{x}<br>Average goals conceded last five games=%{y}<extra></extra>\",\"legendgroup\":\"Everton\",\"marker\":{\"color\":\"#9467BD\",\"opacity\":0.8,\"symbol\":\"circle\"},\"mode\":\"markers\",\"name\":\"Everton\",\"orientation\":\"v\",\"showlegend\":true,\"x\":[1.0],\"xaxis\":\"x\",\"y\":[2.2],\"yaxis\":\"y\",\"type\":\"scatter\"},{\"hovertemplate\":\"Team=Leicester<br>Matches played=38<br>Average goals scored last five games=%{x}<br>Average goals conceded last five games=%{y}<extra></extra>\",\"legendgroup\":\"Leicester\",\"marker\":{\"color\":\"#8C564B\",\"opacity\":0.8,\"symbol\":\"circle\"},\"mode\":\"markers\",\"name\":\"Leicester\",\"orientation\":\"v\",\"showlegend\":true,\"x\":[1.8],\"xaxis\":\"x\",\"y\":[1.6],\"yaxis\":\"y\",\"type\":\"scatter\"},{\"hovertemplate\":\"Team=Watford<br>Matches played=38<br>Average goals scored last five games=%{x}<br>Average goals conceded last five games=%{y}<extra></extra>\",\"legendgroup\":\"Watford\",\"marker\":{\"color\":\"#E377C2\",\"opacity\":0.8,\"symbol\":\"circle\"},\"mode\":\"markers\",\"name\":\"Watford\",\"orientation\":\"v\",\"showlegend\":true,\"x\":[0.8],\"xaxis\":\"x\",\"y\":[2.2],\"yaxis\":\"y\",\"type\":\"scatter\"},{\"hovertemplate\":\"Team=Norwich<br>Matches played=38<br>Average goals scored last five games=%{x}<br>Average goals conceded last five games=%{y}<extra></extra>\",\"legendgroup\":\"Norwich\",\"marker\":{\"color\":\"#7F7F7F\",\"opacity\":0.8,\"symbol\":\"circle\"},\"mode\":\"markers\",\"name\":\"Norwich\",\"orientation\":\"v\",\"showlegend\":true,\"x\":[0.6],\"xaxis\":\"x\",\"y\":[1.8],\"yaxis\":\"y\",\"type\":\"scatter\"},{\"hovertemplate\":\"Team=Newcastle<br>Matches played=38<br>Average goals scored last five games=%{x}<br>Average goals conceded last five games=%{y}<extra></extra>\",\"legendgroup\":\"Newcastle\",\"marker\":{\"color\":\"#BCBD22\",\"opacity\":0.8,\"symbol\":\"circle\"},\"mode\":\"markers\",\"name\":\"Newcastle\",\"orientation\":\"v\",\"showlegend\":true,\"x\":[1.2],\"xaxis\":\"x\",\"y\":[2.4],\"yaxis\":\"y\",\"type\":\"scatter\"},{\"hovertemplate\":\"Team=Tottenham<br>Matches played=38<br>Average goals scored last five games=%{x}<br>Average goals conceded last five games=%{y}<extra></extra>\",\"legendgroup\":\"Tottenham\",\"marker\":{\"color\":\"#17BECF\",\"opacity\":0.8,\"symbol\":\"circle\"},\"mode\":\"markers\",\"name\":\"Tottenham\",\"orientation\":\"v\",\"showlegend\":true,\"x\":[2.4],\"xaxis\":\"x\",\"y\":[0.2],\"yaxis\":\"y\",\"type\":\"scatter\"},{\"hovertemplate\":\"Team=Liverpool<br>Matches played=38<br>Average goals scored last five games=%{x}<br>Average goals conceded last five games=%{y}<extra></extra>\",\"legendgroup\":\"Liverpool\",\"marker\":{\"color\":\"#1F77B4\",\"opacity\":0.8,\"symbol\":\"circle\"},\"mode\":\"markers\",\"name\":\"Liverpool\",\"orientation\":\"v\",\"showlegend\":true,\"x\":[1.8],\"xaxis\":\"x\",\"y\":[0.8],\"yaxis\":\"y\",\"type\":\"scatter\"},{\"hovertemplate\":\"Team=Aston Villa<br>Matches played=38<br>Average goals scored last five games=%{x}<br>Average goals conceded last five games=%{y}<extra></extra>\",\"legendgroup\":\"Aston Villa\",\"marker\":{\"color\":\"#FF7F0E\",\"opacity\":0.8,\"symbol\":\"circle\"},\"mode\":\"markers\",\"name\":\"Aston Villa\",\"orientation\":\"v\",\"showlegend\":true,\"x\":[1.4],\"xaxis\":\"x\",\"y\":[1.6],\"yaxis\":\"y\",\"type\":\"scatter\"},{\"hovertemplate\":\"Team=Crystal Palace<br>Matches played=38<br>Average goals scored last five games=%{x}<br>Average goals conceded last five games=%{y}<extra></extra>\",\"legendgroup\":\"Crystal Palace\",\"marker\":{\"color\":\"#2CA02C\",\"opacity\":0.8,\"symbol\":\"circle\"},\"mode\":\"markers\",\"name\":\"Crystal Palace\",\"orientation\":\"v\",\"showlegend\":true,\"x\":[1.2],\"xaxis\":\"x\",\"y\":[1.6],\"yaxis\":\"y\",\"type\":\"scatter\"},{\"hovertemplate\":\"Team=Leeds<br>Matches played=38<br>Average goals scored last five games=%{x}<br>Average goals conceded last five games=%{y}<extra></extra>\",\"legendgroup\":\"Leeds\",\"marker\":{\"color\":\"#D62728\",\"opacity\":0.8,\"symbol\":\"circle\"},\"mode\":\"markers\",\"name\":\"Leeds\",\"orientation\":\"v\",\"showlegend\":true,\"x\":[1.8],\"xaxis\":\"x\",\"y\":[1.0],\"yaxis\":\"y\",\"type\":\"scatter\"},{\"hovertemplate\":\"Team=Man City<br>Matches played=38<br>Average goals scored last five games=%{x}<br>Average goals conceded last five games=%{y}<extra></extra>\",\"legendgroup\":\"Man City\",\"marker\":{\"color\":\"#9467BD\",\"opacity\":0.8,\"symbol\":\"circle\"},\"mode\":\"markers\",\"name\":\"Man City\",\"orientation\":\"v\",\"showlegend\":true,\"x\":[2.6],\"xaxis\":\"x\",\"y\":[0.6],\"yaxis\":\"y\",\"type\":\"scatter\"},{\"hovertemplate\":\"Team=Brighton<br>Matches played=38<br>Average goals scored last five games=%{x}<br>Average goals conceded last five games=%{y}<extra></extra>\",\"legendgroup\":\"Brighton\",\"marker\":{\"color\":\"#8C564B\",\"opacity\":0.8,\"symbol\":\"circle\"},\"mode\":\"markers\",\"name\":\"Brighton\",\"orientation\":\"v\",\"showlegend\":true,\"x\":[1.4],\"xaxis\":\"x\",\"y\":[1.0],\"yaxis\":\"y\",\"type\":\"scatter\"},{\"hovertemplate\":\"Team=Southampton<br>Matches played=38<br>Average goals scored last five games=%{x}<br>Average goals conceded last five games=%{y}<extra></extra>\",\"legendgroup\":\"Southampton\",\"marker\":{\"color\":\"#E377C2\",\"opacity\":0.8,\"symbol\":\"circle\"},\"mode\":\"markers\",\"name\":\"Southampton\",\"orientation\":\"v\",\"showlegend\":true,\"x\":[0.8],\"xaxis\":\"x\",\"y\":[2.4],\"yaxis\":\"y\",\"type\":\"scatter\"},{\"hovertemplate\":\"Team=Wolves<br>Matches played=38<br>Average goals scored last five games=%{x}<br>Average goals conceded last five games=%{y}<extra></extra>\",\"legendgroup\":\"Wolves\",\"marker\":{\"color\":\"#7F7F7F\",\"opacity\":0.8,\"symbol\":\"circle\"},\"mode\":\"markers\",\"name\":\"Wolves\",\"orientation\":\"v\",\"showlegend\":true,\"x\":[0.8],\"xaxis\":\"x\",\"y\":[1.4],\"yaxis\":\"y\",\"type\":\"scatter\"},{\"hovertemplate\":\"Team=Arsenal<br>Matches played=38<br>Average goals scored last five games=%{x}<br>Average goals conceded last five games=%{y}<extra></extra>\",\"legendgroup\":\"Arsenal\",\"marker\":{\"color\":\"#BCBD22\",\"opacity\":0.8,\"symbol\":\"circle\"},\"mode\":\"markers\",\"name\":\"Arsenal\",\"orientation\":\"v\",\"showlegend\":true,\"x\":[1.2],\"xaxis\":\"x\",\"y\":[1.8],\"yaxis\":\"y\",\"type\":\"scatter\"},{\"hovertemplate\":\"Team=West Ham<br>Matches played=38<br>Average goals scored last five games=%{x}<br>Average goals conceded last five games=%{y}<extra></extra>\",\"legendgroup\":\"West Ham\",\"marker\":{\"color\":\"#17BECF\",\"opacity\":0.8,\"symbol\":\"circle\"},\"mode\":\"markers\",\"name\":\"West Ham\",\"orientation\":\"v\",\"showlegend\":true,\"x\":[1.2],\"xaxis\":\"x\",\"y\":[1.8],\"yaxis\":\"y\",\"type\":\"scatter\"}],\"name\":\"38\"}]);\n",
       "                        }).then(function(){\n",
       "                            \n",
       "var gd = document.getElementById('0f1d918e-c5f4-454b-a02d-5347bfd68709');\n",
       "var x = new MutationObserver(function (mutations, observer) {{\n",
       "        var display = window.getComputedStyle(gd).display;\n",
       "        if (!display || display === 'none') {{\n",
       "            console.log([gd, 'removed!']);\n",
       "            Plotly.purge(gd);\n",
       "            observer.disconnect();\n",
       "        }}\n",
       "}});\n",
       "\n",
       "// Listen for the removal of the full notebook cells\n",
       "var notebookContainer = gd.closest('#notebook-container');\n",
       "if (notebookContainer) {{\n",
       "    x.observe(notebookContainer, {childList: true});\n",
       "}}\n",
       "\n",
       "// Listen for the clearing of the current output cell\n",
       "var outputEl = gd.closest('.output');\n",
       "if (outputEl) {{\n",
       "    x.observe(outputEl, {childList: true});\n",
       "}}\n",
       "\n",
       "                        })                };                });            </script>        </div>"
      ]
     },
     "metadata": {},
     "output_type": "display_data"
    }
   ],
   "source": [
    "# Create animated plot\n",
    "fig = px.scatter(data_frame=AllData,\n",
    "                 title='<b>Premier League 2021-22: 5-game rolling average of goals<br>for and against by team',\n",
    "                 color='Team',\n",
    "                 x='MovingAverageFor',\n",
    "                 y='MovingAverageAgainst',\n",
    "                 animation_frame='MatchesPlayed',\n",
    "                 template='simple_white',\n",
    "                 opacity=0.8,\n",
    "                 labels={\n",
    "                     'MovingAverageFor':'Average goals scored last five games',\n",
    "                     'MovingAverageAgainst':'Average goals conceded last five games',\n",
    "                     'MatchesPlayed' : 'Matches played'\n",
    "                 },\n",
    "                 height=600,\n",
    "                 width=700\n",
    "                )\n",
    "\n",
    "# Update fonts\n",
    "fig.update_layout(\n",
    "    font_family=\"Courier New\",\n",
    "    font_color=\"black\",\n",
    "    font_size=12,\n",
    "    legend_title=None\n",
    ")\n",
    "\n",
    "# Update marker appearance\n",
    "fig.update_traces(marker=dict(size=12,\n",
    "                              line=dict(width=2,\n",
    "                                        color='black'))\n",
    "                 )\n",
    "\n",
    "# Harmonise axis ranges\n",
    "fig.update_xaxes(range=[0, 5])\n",
    "fig.update_yaxes(range=[0, 5])\n",
    "\n",
    "fig"
   ]
  },
  {
   "cell_type": "code",
   "execution_count": null,
   "id": "f0713a46",
   "metadata": {},
   "outputs": [],
   "source": [
    "# Add animated league table as legend?\n",
    "\n",
    "# Add club badges as markers?"
   ]
  }
 ],
 "metadata": {
  "kernelspec": {
   "display_name": "Python 3 (ipykernel)",
   "language": "python",
   "name": "python3"
  },
  "language_info": {
   "codemirror_mode": {
    "name": "ipython",
    "version": 3
   },
   "file_extension": ".py",
   "mimetype": "text/x-python",
   "name": "python",
   "nbconvert_exporter": "python",
   "pygments_lexer": "ipython3",
   "version": "3.9.13"
  }
 },
 "nbformat": 4,
 "nbformat_minor": 5
}
